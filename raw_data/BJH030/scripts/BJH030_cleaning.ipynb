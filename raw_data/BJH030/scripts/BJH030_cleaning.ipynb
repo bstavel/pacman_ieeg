{
 "cells": [
  {
   "cell_type": "markdown",
   "id": "be523407-5360-4092-9545-0b91c5c6401f",
   "metadata": {},
   "source": [
    "# Cleaning: BJH030\n",
    "\n",
    "Nothing useable, so much spiking activity"
   ]
  },
  {
   "cell_type": "markdown",
   "id": "12d83091-835b-465f-bbe0-6fd1cdacc8b9",
   "metadata": {},
   "source": [
    "### Prep"
   ]
  },
  {
   "cell_type": "code",
   "execution_count": 1,
   "id": "a3785b84-4aaa-4461-a37e-b51a7c1c7913",
   "metadata": {
    "tags": []
   },
   "outputs": [],
   "source": [
    "import matplotlib\n",
    "matplotlib.use(\"Qt5Agg\")\n",
    "import matplotlib.pyplot as plt\n",
    "import pandas as pd\n",
    "import numpy as np\n",
    "from scipy import signal, stats\n",
    "import mat73\n",
    "import re\n",
    "from neurodsp.timefrequency import compute_wavelet_transform\n",
    "import os\n",
    "import mne\n",
    "import IPython\n",
    "import seaborn as sns"
   ]
  },
  {
   "cell_type": "code",
   "execution_count": 2,
   "id": "1aff0958-6a4e-4e42-b7a6-80d00e5f63f3",
   "metadata": {
    "tags": []
   },
   "outputs": [],
   "source": [
    "%matplotlib qt5"
   ]
  },
  {
   "cell_type": "code",
   "execution_count": 2,
   "id": "639733c6-a51d-4ba2-b0bc-64689a345199",
   "metadata": {
    "tags": []
   },
   "outputs": [],
   "source": [
    "# helper functions#\n",
    "\n",
    "def rle(inarray):\n",
    "        \"\"\" run length encoding. Partial credit to R rle function. \n",
    "            Multi datatype arrays catered for including non Numpy\n",
    "            returns: tuple (runlengths, startpositions, values) \"\"\"\n",
    "        ia = np.asarray(inarray)                # force numpy\n",
    "        n = len(ia)\n",
    "        if n == 0: \n",
    "            return (None, None, None)\n",
    "        else:\n",
    "            y = ia[1:] != ia[:-1]               # pairwise unequal (string safe)\n",
    "            i = np.append(np.where(y), n - 1)   # must include last element posi\n",
    "            z = np.diff(np.append(-1, i))       # run lengths\n",
    "            p = np.cumsum(np.append(0, z))[:-1] # positions\n",
    "            return(z, p, ia[i])\n",
    "        \n",
    "def find_bad_trial_times(idx, srate, trial_begins, trial_lengths):\n",
    "    ''' takes and index of trial lengths, beginnings and the sampling rate and returns the the start time and and\n",
    "    duration of the times to annotae as BAD '''\n",
    "    start_time = trial_begins[0][idx]/srate\n",
    "    duration = trial_lengths[0][idx]/srate\n",
    "    \n",
    "    return start_time, duration        "
   ]
  },
  {
   "cell_type": "code",
   "execution_count": 3,
   "id": "2794e660-c449-4c7a-968f-87124f1044ea",
   "metadata": {
    "tags": []
   },
   "outputs": [],
   "source": [
    "## Prep paths ##\n",
    "\n",
    "subject = 'BJH030'\n",
    "raw_data_dir = f\"/home/brooke/pacman/raw_data/{subject}\"\n",
    "preproc_data_dir = f\"/home/brooke/pacman/preprocessing/{subject}/ieeg\""
   ]
  },
  {
   "cell_type": "code",
   "execution_count": 4,
   "id": "6e0deb60-8aca-4c57-a879-9fb9fb6d1d8e",
   "metadata": {
    "tags": []
   },
   "outputs": [
    {
     "name": "stdout",
     "output_type": "stream",
     "text": [
      "Opening raw data file /home/brooke/pacman/raw_data/BJH030/ieeg/BJH030_raw_ieeg.fif...\n",
      "    Range : 0 ... 2085999 =      0.000 ...  1042.999 secs\n",
      "Ready.\n",
      "Opening raw data file /home/brooke/pacman/raw_data/BJH030/ieeg/BJH030_raw_ieeg-1.fif...\n",
      "    Range : 2086000 ... 3081799 =   1043.000 ...  1540.899 secs\n",
      "Ready.\n"
     ]
    }
   ],
   "source": [
    "## Load Data ##\n",
    "\n",
    "raw_fif = mne.io.Raw(f\"{raw_data_dir}/ieeg/{subject}_raw_ieeg.fif\")"
   ]
  },
  {
   "cell_type": "code",
   "execution_count": 20,
   "id": "22556d7c-0c0b-40fc-82b1-777357649e6e",
   "metadata": {
    "tags": []
   },
   "outputs": [
    {
     "name": "stdout",
     "output_type": "stream",
     "text": [
      "Reading 0 ... 3081799  =      0.000 ...  1540.899 secs...\n",
      "Filtering raw data in 1 contiguous segment\n",
      "Setting up band-pass filter from 1 - 1.5e+02 Hz\n",
      "\n",
      "FIR filter parameters\n",
      "---------------------\n",
      "Designing a one-pass, zero-phase, non-causal bandpass filter:\n",
      "- Windowed time-domain design (firwin) method\n",
      "- Hamming window with 0.0194 passband ripple and 53 dB stopband attenuation\n",
      "- Lower passband edge: 1.00\n",
      "- Lower transition bandwidth: 1.00 Hz (-6 dB cutoff frequency: 0.50 Hz)\n",
      "- Upper passband edge: 150.00 Hz\n",
      "- Upper transition bandwidth: 37.50 Hz (-6 dB cutoff frequency: 168.75 Hz)\n",
      "- Filter length: 6601 samples (3.300 sec)\n",
      "\n"
     ]
    },
    {
     "name": "stderr",
     "output_type": "stream",
     "text": [
      "[Parallel(n_jobs=1)]: Done  17 tasks      | elapsed:    1.0s\n",
      "[Parallel(n_jobs=1)]: Done  71 tasks      | elapsed:    4.0s\n",
      "[Parallel(n_jobs=1)]: Done 161 tasks      | elapsed:    9.0s\n"
     ]
    },
    {
     "name": "stdout",
     "output_type": "stream",
     "text": [
      "Setting up band-stop filter\n",
      "\n",
      "FIR filter parameters\n",
      "---------------------\n",
      "Designing a one-pass, zero-phase, non-causal bandstop filter:\n",
      "- Windowed time-domain design (firwin) method\n",
      "- Hamming window with 0.0194 passband ripple and 53 dB stopband attenuation\n",
      "- Lower transition bandwidth: 0.50 Hz\n",
      "- Upper transition bandwidth: 0.50 Hz\n",
      "- Filter length: 13201 samples (6.601 sec)\n",
      "\n"
     ]
    },
    {
     "name": "stderr",
     "output_type": "stream",
     "text": [
      "[Parallel(n_jobs=1)]: Done  17 tasks      | elapsed:    1.1s\n",
      "[Parallel(n_jobs=1)]: Done  71 tasks      | elapsed:    4.8s\n",
      "[Parallel(n_jobs=1)]: Done 161 tasks      | elapsed:   10.9s\n"
     ]
    }
   ],
   "source": [
    "## Filtering ##\n",
    "\n",
    "# load data #\n",
    "raw_fif.load_data()\n",
    "\n",
    "# highpass filter @ 1 and lowpass @ 200 #\n",
    "filtered_data = raw_fif.filter(l_freq=1, h_freq=150) # skip this step for TF analysis, always do this on the least processed data, or do .1 to 250\n",
    "\n",
    "# remove 60hz line noise #\n",
    "freqs = (60, 120, 180, 240)\n",
    "filtered_notch_data = filtered_data.notch_filter(freqs=freqs) \n"
   ]
  },
  {
   "cell_type": "code",
   "execution_count": 5,
   "id": "06a738f0-dbc3-4e9b-807c-d21e8eb4fd28",
   "metadata": {
    "tags": []
   },
   "outputs": [
    {
     "name": "stdout",
     "output_type": "stream",
     "text": [
      "Opening raw data file /home/brooke/pacman/raw_data/BJH030/ieeg/BJH030_notched_filtered_ieeg.fif...\n",
      "    Range : 0 ... 2085999 =      0.000 ...  1042.999 secs\n",
      "Ready.\n",
      "Opening raw data file /home/brooke/pacman/raw_data/BJH030/ieeg/BJH030_notched_filtered_ieeg-1.fif...\n",
      "    Range : 2086000 ... 3081799 =   1043.000 ...  1540.899 secs\n",
      "Ready.\n",
      "482 events found\n",
      "Event IDs: [0 1 2]\n"
     ]
    }
   ],
   "source": [
    "## Load/Save Filtered Data ##\n",
    "\n",
    "# save #\n",
    "# filtered_notch_data.save(f\"{raw_data_dir}/ieeg/{subject}_notched_filtered_ieeg.fif\", overwrite = True)\n",
    "\n",
    "# load #\n",
    "filtered_notch_data = mne.io.Raw(f\"{raw_data_dir}/ieeg/{subject}_notched_filtered_ieeg.fif\")\n",
    "events = mne.find_events(filtered_notch_data, output='step', consecutive = False, stim_channel='STI')"
   ]
  },
  {
   "cell_type": "code",
   "execution_count": 6,
   "id": "c262fbb5-6908-4a46-b03c-d815dbe2dc0d",
   "metadata": {
    "tags": []
   },
   "outputs": [
    {
     "data": {
      "text/plain": [
       "['AR1',\n",
       " 'AR2',\n",
       " 'AR3',\n",
       " 'AR4',\n",
       " 'REF1',\n",
       " 'REF2',\n",
       " 'AR5',\n",
       " 'AR6',\n",
       " 'BR1',\n",
       " 'BR2',\n",
       " 'BR3',\n",
       " 'BR4',\n",
       " 'BR5',\n",
       " 'BR6',\n",
       " 'BR7',\n",
       " 'BR8',\n",
       " 'BR9',\n",
       " 'BR10',\n",
       " 'BR11',\n",
       " 'BR12',\n",
       " 'BR13',\n",
       " 'BR14',\n",
       " 'CR1',\n",
       " 'CR2',\n",
       " 'CR3',\n",
       " 'CR4',\n",
       " 'CR5',\n",
       " 'CR6',\n",
       " 'CR7',\n",
       " 'CR8',\n",
       " 'CR9',\n",
       " 'CR10',\n",
       " 'CR11',\n",
       " 'CR12',\n",
       " 'CR13',\n",
       " 'CR14',\n",
       " 'DR1',\n",
       " 'DR2',\n",
       " 'DR3',\n",
       " 'DR4',\n",
       " 'DR5',\n",
       " 'DR6',\n",
       " 'DR7',\n",
       " 'DR8',\n",
       " 'DR9',\n",
       " 'DR10',\n",
       " 'DR11',\n",
       " 'DR12',\n",
       " 'DR13',\n",
       " 'DR14',\n",
       " 'ER1',\n",
       " 'ER2',\n",
       " 'ER3',\n",
       " 'ER4',\n",
       " 'ER5',\n",
       " 'ER6',\n",
       " 'ER7',\n",
       " 'ER8',\n",
       " 'ER9',\n",
       " 'ER10',\n",
       " 'ER11',\n",
       " 'ER12',\n",
       " 'FR1',\n",
       " 'FR2',\n",
       " 'FR3',\n",
       " 'FR4',\n",
       " 'FR5',\n",
       " 'FR6',\n",
       " 'FR7',\n",
       " 'FR8',\n",
       " 'FR9',\n",
       " 'FR10',\n",
       " 'GR1',\n",
       " 'GR2',\n",
       " 'GR3',\n",
       " 'GR4',\n",
       " 'GR5',\n",
       " 'GR6',\n",
       " 'GR7',\n",
       " 'GR8',\n",
       " 'GR9',\n",
       " 'GR10',\n",
       " 'HR1',\n",
       " 'HR2',\n",
       " 'HR3',\n",
       " 'HR4',\n",
       " 'HR5',\n",
       " 'HR6',\n",
       " 'HR7',\n",
       " 'HR8',\n",
       " 'HR9',\n",
       " 'HR10',\n",
       " 'HR11',\n",
       " 'HR12',\n",
       " 'HR13',\n",
       " 'HR14',\n",
       " 'IR1',\n",
       " 'IR2',\n",
       " 'IR3',\n",
       " 'IR4',\n",
       " 'IR5',\n",
       " 'IR6',\n",
       " 'IR7',\n",
       " 'IR8',\n",
       " 'IR9',\n",
       " 'IR10',\n",
       " 'IR11',\n",
       " 'IR12',\n",
       " 'IR13',\n",
       " 'IR14',\n",
       " 'IR15',\n",
       " 'IR16',\n",
       " 'JAL1',\n",
       " 'JAL2',\n",
       " 'JAL3',\n",
       " 'JAL4',\n",
       " 'JAL5',\n",
       " 'JAL6',\n",
       " 'JAL7',\n",
       " 'JAL8',\n",
       " 'KBL1',\n",
       " 'KBL2',\n",
       " 'KBL3',\n",
       " 'KBL4',\n",
       " 'KBL5',\n",
       " 'KBL6',\n",
       " 'KBL7',\n",
       " 'KBL8',\n",
       " 'KBL9',\n",
       " 'KBL10',\n",
       " 'KBL11',\n",
       " 'KBL12',\n",
       " 'KBL13',\n",
       " 'KBL14',\n",
       " 'LCL1',\n",
       " 'LCL2',\n",
       " 'LCL3',\n",
       " 'LCL4',\n",
       " 'LCL5',\n",
       " 'LCL6',\n",
       " 'LCL7',\n",
       " 'LCL8',\n",
       " 'LCL9',\n",
       " 'LCL10',\n",
       " 'LCL11',\n",
       " 'LCL12',\n",
       " 'MDL1',\n",
       " 'MDL2',\n",
       " 'MDL3',\n",
       " 'MDL4',\n",
       " 'MDL5',\n",
       " 'MDL6',\n",
       " 'MDL7',\n",
       " 'MDL8',\n",
       " 'MDL9',\n",
       " 'MDL10',\n",
       " 'MDL11',\n",
       " 'MDL12',\n",
       " 'NEL1',\n",
       " 'NEL2',\n",
       " 'NEL3',\n",
       " 'NEL4',\n",
       " 'NEL5',\n",
       " 'NEL6',\n",
       " 'NEL7',\n",
       " 'NEL8',\n",
       " 'NEL9',\n",
       " 'NEL10',\n",
       " 'NEL11',\n",
       " 'NEL12',\n",
       " 'OFL1',\n",
       " 'OFL2',\n",
       " 'OFL3',\n",
       " 'OFL4',\n",
       " 'OFL5',\n",
       " 'OFL6',\n",
       " 'OFL7',\n",
       " 'OFL8',\n",
       " 'OFL9',\n",
       " 'OFL10',\n",
       " 'OFL11',\n",
       " 'OFL12',\n",
       " 'PGL1',\n",
       " 'PGL2',\n",
       " 'PGL3',\n",
       " 'PGL4',\n",
       " 'PGL5',\n",
       " 'PGL6',\n",
       " 'PGL7',\n",
       " 'PGL8',\n",
       " 'PGL9',\n",
       " 'PGL10',\n",
       " 'PGL11',\n",
       " 'PGL12',\n",
       " 'QHL1',\n",
       " 'QHL2',\n",
       " 'QHL3',\n",
       " 'QHL4',\n",
       " 'QHL5',\n",
       " 'QHL6',\n",
       " 'QHL7',\n",
       " 'QHL8',\n",
       " 'QHL9',\n",
       " 'QHL10',\n",
       " 'QHL11',\n",
       " 'QHL12',\n",
       " 'QHL13',\n",
       " 'QHL14',\n",
       " 'RIL1',\n",
       " 'RIL2',\n",
       " 'RIL3',\n",
       " 'RIL4',\n",
       " 'RIL5',\n",
       " 'RIL6',\n",
       " 'RIL7',\n",
       " 'RIL8',\n",
       " 'RIL9',\n",
       " 'RIL10',\n",
       " 'RIL11',\n",
       " 'RIL12',\n",
       " 'RIL13',\n",
       " 'RIL14',\n",
       " 'RIL15',\n",
       " 'RIL16',\n",
       " 'EMPTY',\n",
       " 'EMPTY_226',\n",
       " 'EMPTY_227',\n",
       " 'EMPTY_228',\n",
       " 'EMPTY_229',\n",
       " 'EMPTY_230',\n",
       " 'EMPTY_231',\n",
       " 'FP1',\n",
       " 'F3',\n",
       " 'C3',\n",
       " 'P3',\n",
       " 'O1',\n",
       " 'FP2',\n",
       " 'F4',\n",
       " 'C4',\n",
       " 'P4',\n",
       " 'O2',\n",
       " 'F7',\n",
       " 'T7',\n",
       " 'P7',\n",
       " 'F8',\n",
       " 'T8',\n",
       " 'P8',\n",
       " 'F9',\n",
       " 'F10',\n",
       " 'FPZ',\n",
       " 'FZ',\n",
       " 'CZ',\n",
       " 'PZ',\n",
       " 'OZ',\n",
       " 'EKG1',\n",
       " 'EKG2',\n",
       " 'STI']"
      ]
     },
     "execution_count": 6,
     "metadata": {},
     "output_type": "execute_result"
    }
   ],
   "source": [
    "filtered_notch_data.info['ch_names']"
   ]
  },
  {
   "cell_type": "markdown",
   "id": "1d1ab3dc-a3c3-4eab-bb46-9c5a7e517b9d",
   "metadata": {
    "tags": []
   },
   "source": [
    "## Cleaning Neural Data\n",
    "\n",
    "#### Bad Channels\n",
    "\n",
    "Epileptic channels from my cleaning: 'OFL11', 'OFL12', 'FR2', 'FR3', 'FR1', 'FR2', 'FR3', 'FR4', 'DR2', 'DR3', 'DR3', 'DR4', 'DR1', 'DR2', 'OFL2', 'OFL3', 'OFL1', 'OFL2', 'OFL3', 'OFL4', 'OFL4', 'OFL5', 'LCL2', 'LCL4', 'LCL5','LCL6', 'LCL3', 'CR4', 'CR2', 'CR3', 'CR1', 'BR4', 'BR3', 'BR2', 'BR1', 'KBL1', 'KBL2', 'KBL3', 'KBL4', 'KBL5', 'MDL2', 'MDL3', 'MDL4', 'NEL2', 'NEL1', 'NEL4', 'NEL3', 'NEL6', 'NEL5', 'NEL8', 'NEL7', 'MDL6', 'MDL5', 'MDL9', 'MDL8', 'MDL7', 'PGL1', 'PGL2', 'PGL3', 'PGL5', 'PGL4', 'LCL7', 'LCL1', 'LCL9', 'LCL8', 'RIL2', 'RIL1', 'RIL4', 'RIL3'\n",
    "\n",
    "\n",
    "Noisy channels: "
   ]
  },
  {
   "cell_type": "code",
   "execution_count": 7,
   "id": "7d0a4343-948a-4654-bc8f-db9c42ded9bb",
   "metadata": {
    "tags": []
   },
   "outputs": [
    {
     "data": {
      "text/html": [
       "<table class=\"table table-hover table-striped table-sm table-responsive small\">\n",
       "    <tr>\n",
       "        <th>Measurement date</th>\n",
       "        \n",
       "        <td>Unknown</td>\n",
       "        \n",
       "    </tr>\n",
       "    <tr>\n",
       "        <th>Experimenter</th>\n",
       "        \n",
       "        <td>Unknown</td>\n",
       "        \n",
       "    </tr>\n",
       "        <th>Participant</th>\n",
       "        \n",
       "        <td>Unknown</td>\n",
       "        \n",
       "    </tr>\n",
       "    <tr>\n",
       "        <th>Digitized points</th>\n",
       "        \n",
       "        <td>0 points</td>\n",
       "        \n",
       "    </tr>\n",
       "    <tr>\n",
       "        <th>Good channels</th>\n",
       "        <td>256 sEEG, 1 Stimulus</td>\n",
       "    </tr>\n",
       "    <tr>\n",
       "        <th>Bad channels</th>\n",
       "        <td>REF1, REF2, EMPTY, EMPTY_226, EMPTY_227, EMPTY_228, EMPTY_229, EMPTY_230, EMPTY_231, EKG1, EKG2, OFL11, OFL12, FR2, FR3, FR1, FR2, FR3, FR4, DR2, DR3, DR3, DR4, DR1, DR2, OFL2, OFL3, OFL1, OFL2, OFL3, OFL4, OFL4, OFL5, LCL2, LCL4, LCL5, LCL6, LCL3, CR4, CR2, CR3, CR1, BR4, BR3, BR2, BR1, KBL1, KBL2, KBL3, KBL4, KBL5, MDL2, MDL3, MDL4, NEL2, NEL1, NEL4, NEL3, NEL6, NEL5, NEL8, NEL7, MDL6, MDL5, MDL9, MDL8, MDL7, PGL1, PGL2, PGL3, PGL5, PGL4, LCL7, LCL1, LCL9, LCL8, RIL2, RIL1, RIL4, RIL3, EMPTY, EMPTY_226, EMPTY_227, EMPTY_228, EMPTY_229, EMPTY_230, EMPTY_231, FP1, F3, C3, P3, O1, FP2, F4, C4, P4, O2, F7, T7, P7, F8, T8, P8, F9, F10, FPZ, FZ, CZ, PZ, OZ, EKG1, EKG2</td>\n",
       "    </tr>\n",
       "    <tr>\n",
       "        <th>EOG channels</th>\n",
       "        <td>Not available</td>\n",
       "    </tr>\n",
       "    <tr>\n",
       "        <th>ECG channels</th>\n",
       "        <td>Not available</td>\n",
       "    \n",
       "    <tr>\n",
       "        <th>Sampling frequency</th>\n",
       "        <td>2000.00 Hz</td>\n",
       "    </tr>\n",
       "    \n",
       "    \n",
       "    <tr>\n",
       "        <th>Highpass</th>\n",
       "        <td>1.00 Hz</td>\n",
       "    </tr>\n",
       "    \n",
       "    \n",
       "    <tr>\n",
       "        <th>Lowpass</th>\n",
       "        <td>150.00 Hz</td>\n",
       "    </tr>\n",
       "    \n",
       "    \n",
       "    \n",
       "    <tr>\n",
       "        <th>Filenames</th>\n",
       "        <td>BJH030_notched_filtered_ieeg.fif&lt;br&gt;BJH030_notched_filtered_ieeg-1.fif</td>\n",
       "    </tr>\n",
       "    \n",
       "    <tr>\n",
       "        <th>Duration</th>\n",
       "        <td>00:25:41 (HH:MM:SS)</td>\n",
       "    </tr>\n",
       "</table>"
      ],
      "text/plain": [
       "<Raw | BJH030_notched_filtered_ieeg.fif, 257 x 3081800 (1540.9 s), ~261 kB, data not loaded>"
      ]
     },
     "execution_count": 7,
     "metadata": {},
     "output_type": "execute_result"
    }
   ],
   "source": [
    "# Remove Channels from filtered data\n",
    "\n",
    "# remove non seeg electrodes electrodes #\n",
    "string_lst = ['EMPTY', 'REF', 'ekg']\n",
    "\n",
    "bad_channels_reg = [re.findall(r\"(?=(\"+'|'.join(string_lst)+r\"))\", name, re.IGNORECASE) for name in filtered_notch_data.info['ch_names']]\n",
    "bad_channels_index = [i for i,x in enumerate(bad_channels_reg) if  x]\n",
    "bad_channels = [filtered_notch_data.info['ch_names'][i] for i in bad_channels_index]\n",
    "\n",
    "filtered_notch_data.info['bads'].extend(bad_channels)  \n",
    "\n",
    "# # remove epileptic electrodes\n",
    "filtered_notch_data.info['bads'].extend(['OFL11', 'OFL12', 'FR2', 'FR3', 'FR1', 'FR2', 'FR3', 'FR4', 'DR2', 'DR3', 'DR3', 'DR4', 'DR1', 'DR2', 'OFL2', 'OFL3', 'OFL1', 'OFL2', 'OFL3', 'OFL4', 'OFL4', 'OFL5', 'LCL2', 'LCL4', 'LCL5','LCL6', 'LCL3', 'CR4', 'CR2', 'CR3', 'CR1', 'BR4', 'BR3', 'BR2', 'BR1', 'KBL1', 'KBL2', 'KBL3', 'KBL4', 'KBL5', 'MDL2', 'MDL3', 'MDL4', 'NEL2', 'NEL1', 'NEL4', 'NEL3', 'NEL6', 'NEL5', 'NEL8', 'NEL7', 'MDL6', 'MDL5', 'MDL9', 'MDL8', 'MDL7', 'PGL1', 'PGL2', 'PGL3', 'PGL5', 'PGL4', 'LCL7', 'LCL1', 'LCL9', 'LCL8', 'RIL2', 'RIL1', 'RIL4', 'RIL3'])\n",
    "\n",
    "# remove out of brain electrodes\n",
    "## TODO hasn't been localized\n",
    "\n",
    "# remove scalp and dc channels\n",
    "scalp_dc_channels = [ 'EMPTY',\n",
    " 'EMPTY_226',\n",
    " 'EMPTY_227',\n",
    " 'EMPTY_228',\n",
    " 'EMPTY_229',\n",
    " 'EMPTY_230',\n",
    " 'EMPTY_231',\n",
    " 'FP1',\n",
    " 'F3',\n",
    " 'C3',\n",
    " 'P3',\n",
    " 'O1',\n",
    " 'FP2',\n",
    " 'F4',\n",
    " 'C4',\n",
    " 'P4',\n",
    " 'O2',\n",
    " 'F7',\n",
    " 'T7',\n",
    " 'P7',\n",
    " 'F8',\n",
    " 'T8',\n",
    " 'P8',\n",
    " 'F9',\n",
    " 'F10',\n",
    " 'FPZ',\n",
    " 'FZ',\n",
    " 'CZ',\n",
    " 'PZ',\n",
    " 'OZ',\n",
    " 'EKG1',\n",
    " 'EKG2']\n",
    "\n",
    "filtered_notch_data.info['bads'].extend(scalp_dc_channels)\n",
    "filtered_notch_data"
   ]
  },
  {
   "cell_type": "code",
   "execution_count": 8,
   "id": "14a28078-93dd-4d34-b19b-a6ee581b9504",
   "metadata": {
    "tags": []
   },
   "outputs": [
    {
     "data": {
      "text/html": [
       "<table class=\"table table-hover table-striped table-sm table-responsive small\">\n",
       "    <tr>\n",
       "        <th>Measurement date</th>\n",
       "        \n",
       "        <td>Unknown</td>\n",
       "        \n",
       "    </tr>\n",
       "    <tr>\n",
       "        <th>Experimenter</th>\n",
       "        \n",
       "        <td>Unknown</td>\n",
       "        \n",
       "    </tr>\n",
       "        <th>Participant</th>\n",
       "        \n",
       "        <td>Unknown</td>\n",
       "        \n",
       "    </tr>\n",
       "    <tr>\n",
       "        <th>Digitized points</th>\n",
       "        \n",
       "        <td>0 points</td>\n",
       "        \n",
       "    </tr>\n",
       "    <tr>\n",
       "        <th>Good channels</th>\n",
       "        <td>256 sEEG, 1 Stimulus</td>\n",
       "    </tr>\n",
       "    <tr>\n",
       "        <th>Bad channels</th>\n",
       "        <td>REF1, REF2, EMPTY, EMPTY_226, EMPTY_227, EMPTY_228, EMPTY_229, EMPTY_230, EMPTY_231, EKG1, EKG2, OFL11, OFL12, FR2, FR3, FR1, FR2, FR3, FR4, DR2, DR3, DR3, DR4, DR1, DR2, OFL2, OFL3, OFL1, OFL2, OFL3, OFL4, OFL4, OFL5, LCL2, LCL4, LCL5, LCL6, LCL3, CR4, CR2, CR3, CR1, BR4, BR3, BR2, BR1, KBL1, KBL2, KBL3, KBL4, KBL5, MDL2, MDL3, MDL4, NEL2, NEL1, NEL4, NEL3, NEL6, NEL5, NEL8, NEL7, MDL6, MDL5, MDL9, MDL8, MDL7, PGL1, PGL2, PGL3, PGL5, PGL4, LCL7, LCL1, LCL9, LCL8, RIL2, RIL1, RIL4, RIL3, EMPTY, EMPTY_226, EMPTY_227, EMPTY_228, EMPTY_229, EMPTY_230, EMPTY_231, FP1, F3, C3, P3, O1, FP2, F4, C4, P4, O2, F7, T7, P7, F8, T8, P8, F9, F10, FPZ, FZ, CZ, PZ, OZ, EKG1, EKG2</td>\n",
       "    </tr>\n",
       "    <tr>\n",
       "        <th>EOG channels</th>\n",
       "        <td>Not available</td>\n",
       "    </tr>\n",
       "    <tr>\n",
       "        <th>ECG channels</th>\n",
       "        <td>Not available</td>\n",
       "    \n",
       "    <tr>\n",
       "        <th>Sampling frequency</th>\n",
       "        <td>2000.00 Hz</td>\n",
       "    </tr>\n",
       "    \n",
       "    \n",
       "    <tr>\n",
       "        <th>Highpass</th>\n",
       "        <td>0.00 Hz</td>\n",
       "    </tr>\n",
       "    \n",
       "    \n",
       "    <tr>\n",
       "        <th>Lowpass</th>\n",
       "        <td>1000.00 Hz</td>\n",
       "    </tr>\n",
       "    \n",
       "    \n",
       "    \n",
       "    <tr>\n",
       "        <th>Filenames</th>\n",
       "        <td>BJH030_raw_ieeg.fif&lt;br&gt;BJH030_raw_ieeg-1.fif</td>\n",
       "    </tr>\n",
       "    \n",
       "    <tr>\n",
       "        <th>Duration</th>\n",
       "        <td>00:25:41 (HH:MM:SS)</td>\n",
       "    </tr>\n",
       "</table>"
      ],
      "text/plain": [
       "<Raw | BJH030_raw_ieeg.fif, 257 x 3081800 (1540.9 s), ~261 kB, data not loaded>"
      ]
     },
     "execution_count": 8,
     "metadata": {},
     "output_type": "execute_result"
    }
   ],
   "source": [
    "# Remove Channels from filtered data\n",
    "\n",
    "# remove non seeg electrodes electrodes #\n",
    "string_lst = ['EMPTY', 'REF', 'ekg']\n",
    "\n",
    "bad_channels_reg = [re.findall(r\"(?=(\"+'|'.join(string_lst)+r\"))\", name, re.IGNORECASE) for name in raw_fif.info['ch_names']]\n",
    "bad_channels_index = [i for i,x in enumerate(bad_channels_reg) if  x]\n",
    "bad_channels = [raw_fif.info['ch_names'][i] for i in bad_channels_index]\n",
    "\n",
    "raw_fif.info['bads'].extend(bad_channels)  \n",
    "\n",
    "# # remove epileptic electrodes\n",
    "raw_fif.info['bads'].extend(['OFL11', 'OFL12', 'FR2', 'FR3', 'FR1', 'FR2', 'FR3', 'FR4', 'DR2', 'DR3', 'DR3', 'DR4', 'DR1', 'DR2', 'OFL2', 'OFL3', 'OFL1', 'OFL2', 'OFL3', 'OFL4', 'OFL4', 'OFL5', 'LCL2', 'LCL4', 'LCL5','LCL6', 'LCL3', 'CR4', 'CR2', 'CR3', 'CR1', 'BR4', 'BR3', 'BR2', 'BR1', 'KBL1', 'KBL2', 'KBL3', 'KBL4', 'KBL5', 'MDL2', 'MDL3', 'MDL4', 'NEL2', 'NEL1', 'NEL4', 'NEL3', 'NEL6', 'NEL5', 'NEL8', 'NEL7', 'MDL6', 'MDL5', 'MDL9', 'MDL8', 'MDL7', 'PGL1', 'PGL2', 'PGL3', 'PGL5', 'PGL4', 'LCL7', 'LCL1', 'LCL9', 'LCL8', 'RIL2', 'RIL1', 'RIL4', 'RIL3'])\n",
    "\n",
    "# remove out of brain electrodes\n",
    "## TODO hasn't been localized\n",
    "\n",
    "# remove scalp and dc channels\n",
    "scalp_dc_channels = [ 'EMPTY',\n",
    " 'EMPTY_226',\n",
    " 'EMPTY_227',\n",
    " 'EMPTY_228',\n",
    " 'EMPTY_229',\n",
    " 'EMPTY_230',\n",
    " 'EMPTY_231',\n",
    " 'FP1',\n",
    " 'F3',\n",
    " 'C3',\n",
    " 'P3',\n",
    " 'O1',\n",
    " 'FP2',\n",
    " 'F4',\n",
    " 'C4',\n",
    " 'P4',\n",
    " 'O2',\n",
    " 'F7',\n",
    " 'T7',\n",
    " 'P7',\n",
    " 'F8',\n",
    " 'T8',\n",
    " 'P8',\n",
    " 'F9',\n",
    " 'F10',\n",
    " 'FPZ',\n",
    " 'FZ',\n",
    " 'CZ',\n",
    " 'PZ',\n",
    " 'OZ',\n",
    " 'EKG1',\n",
    " 'EKG2']\n",
    "\n",
    "raw_fif.info['bads'].extend(scalp_dc_channels)\n",
    "raw_fif"
   ]
  },
  {
   "cell_type": "markdown",
   "id": "3b53c7d3-8102-4a30-b63d-51b8a318ff07",
   "metadata": {},
   "source": [
    "#### Bad Epochs from noisy data\n",
    "\n"
   ]
  },
  {
   "cell_type": "code",
   "execution_count": 9,
   "id": "2e29013c-e568-447a-a47b-481b93e9882b",
   "metadata": {
    "tags": []
   },
   "outputs": [],
   "source": [
    "# # Annotate Noisy Epochs from Bob's cleaning\n",
    "\n",
    "# # read from csv from interactive session\n",
    "bad_annots = mne.read_annotations('../ieeg/saved_annotations.fif')   \n"
   ]
  },
  {
   "cell_type": "markdown",
   "id": "db730472-6e06-4a31-a66b-fa5db1600bc7",
   "metadata": {},
   "source": [
    "#### Bad epochs from bad trial data"
   ]
  },
  {
   "cell_type": "code",
   "execution_count": 10,
   "id": "4cd44147-ed15-4bd4-b6c4-5dd845908831",
   "metadata": {
    "tags": []
   },
   "outputs": [],
   "source": [
    "## quality check trials ##\n",
    "\n",
    "# calculate trial onsets and offsets\n",
    "sti_raw = filtered_notch_data.get_data(picks = ['STI'])\n",
    "lengths, positionsm, val  = rle(sti_raw[0])\n",
    "\n",
    "# lengths, beginnings, endings, for trials\n",
    "trial_lengths = [lengths[x] for x in np.where(val == 1)]\n",
    "trial_begins = [positionsm[x] for x in np.where(val == 1)]\n",
    "trial_ends = trial_lengths[0] + trial_begins[0]\n",
    "trial_baseline = trial_begins[0] - 1000\n",
    "\n",
    "# lengths, beginnings, endings, for itis\n",
    "iti_lengths = [lengths[x] for x in np.where(val == 0)]\n",
    "iti_begins = [positionsm[x] for x in np.where(val == 0)]\n",
    "iti_ends = iti_begins[0] + iti_lengths[0]\n",
    "\n",
    "# save trial lengths for later\n",
    "np.save(f\"{preproc_data_dir}/{subject}_trial_lengths.npy\", trial_lengths)"
   ]
  },
  {
   "cell_type": "code",
   "execution_count": 11,
   "id": "fe17aab8-72f4-4400-97d5-2abfa5771abc",
   "metadata": {
    "tags": []
   },
   "outputs": [],
   "source": [
    "# exclude bad trials/apochs from r behavioral analysis (paused trials and no biscuits)\n",
    "\n",
    "# load bad trial data\n",
    "bad_trials = np.genfromtxt(f\"{raw_data_dir}/behave/{subject}_bad_trials.csv\", delimiter = ',', skip_header = 1)\n",
    "\n",
    "onsets = []\n",
    "durations = []\n",
    "for bad in bad_trials:\n",
    "    start, dur = find_bad_trial_times(int(bad), raw_fif.info['sfreq'], trial_begins, trial_lengths)\n",
    "    onsets.append(start)\n",
    "    durations.append(dur)\n",
    "\n",
    "# update descriptions\n",
    "descriptions = ['bad'] * len(durations)\n"
   ]
  },
  {
   "cell_type": "code",
   "execution_count": 12,
   "id": "a2d684d1-c82d-4f87-b37e-aca09a1e95ed",
   "metadata": {
    "tags": []
   },
   "outputs": [
    {
     "data": {
      "text/html": [
       "<table class=\"table table-hover table-striped table-sm table-responsive small\">\n",
       "    <tr>\n",
       "        <th>Measurement date</th>\n",
       "        \n",
       "        <td>Unknown</td>\n",
       "        \n",
       "    </tr>\n",
       "    <tr>\n",
       "        <th>Experimenter</th>\n",
       "        \n",
       "        <td>Unknown</td>\n",
       "        \n",
       "    </tr>\n",
       "        <th>Participant</th>\n",
       "        \n",
       "        <td>Unknown</td>\n",
       "        \n",
       "    </tr>\n",
       "    <tr>\n",
       "        <th>Digitized points</th>\n",
       "        \n",
       "        <td>0 points</td>\n",
       "        \n",
       "    </tr>\n",
       "    <tr>\n",
       "        <th>Good channels</th>\n",
       "        <td>256 sEEG, 1 Stimulus</td>\n",
       "    </tr>\n",
       "    <tr>\n",
       "        <th>Bad channels</th>\n",
       "        <td>REF1, REF2, EMPTY, EMPTY_226, EMPTY_227, EMPTY_228, EMPTY_229, EMPTY_230, EMPTY_231, EKG1, EKG2, OFL11, OFL12, FR2, FR3, FR1, FR2, FR3, FR4, DR2, DR3, DR3, DR4, DR1, DR2, OFL2, OFL3, OFL1, OFL2, OFL3, OFL4, OFL4, OFL5, LCL2, LCL4, LCL5, LCL6, LCL3, CR4, CR2, CR3, CR1, BR4, BR3, BR2, BR1, KBL1, KBL2, KBL3, KBL4, KBL5, MDL2, MDL3, MDL4, NEL2, NEL1, NEL4, NEL3, NEL6, NEL5, NEL8, NEL7, MDL6, MDL5, MDL9, MDL8, MDL7, PGL1, PGL2, PGL3, PGL5, PGL4, LCL7, LCL1, LCL9, LCL8, RIL2, RIL1, RIL4, RIL3, EMPTY, EMPTY_226, EMPTY_227, EMPTY_228, EMPTY_229, EMPTY_230, EMPTY_231, FP1, F3, C3, P3, O1, FP2, F4, C4, P4, O2, F7, T7, P7, F8, T8, P8, F9, F10, FPZ, FZ, CZ, PZ, OZ, EKG1, EKG2</td>\n",
       "    </tr>\n",
       "    <tr>\n",
       "        <th>EOG channels</th>\n",
       "        <td>Not available</td>\n",
       "    </tr>\n",
       "    <tr>\n",
       "        <th>ECG channels</th>\n",
       "        <td>Not available</td>\n",
       "    \n",
       "    <tr>\n",
       "        <th>Sampling frequency</th>\n",
       "        <td>2000.00 Hz</td>\n",
       "    </tr>\n",
       "    \n",
       "    \n",
       "    <tr>\n",
       "        <th>Highpass</th>\n",
       "        <td>0.00 Hz</td>\n",
       "    </tr>\n",
       "    \n",
       "    \n",
       "    <tr>\n",
       "        <th>Lowpass</th>\n",
       "        <td>1000.00 Hz</td>\n",
       "    </tr>\n",
       "    \n",
       "    \n",
       "    \n",
       "    <tr>\n",
       "        <th>Filenames</th>\n",
       "        <td>BJH030_raw_ieeg.fif&lt;br&gt;BJH030_raw_ieeg-1.fif</td>\n",
       "    </tr>\n",
       "    \n",
       "    <tr>\n",
       "        <th>Duration</th>\n",
       "        <td>00:25:41 (HH:MM:SS)</td>\n",
       "    </tr>\n",
       "</table>"
      ],
      "text/plain": [
       "<Raw | BJH030_raw_ieeg.fif, 257 x 3081800 (1540.9 s), ~261 kB, data not loaded>"
      ]
     },
     "execution_count": 12,
     "metadata": {},
     "output_type": "execute_result"
    }
   ],
   "source": [
    "## exclude all bad epochs from both bad trials and investigating neural data ##\n",
    "\n",
    "# combine with bad trial data #\n",
    "bad_annots.append(onsets, durations, descriptions)\n",
    "\n",
    "# # # apply to filtered data #\n",
    "filtered_notch_data.set_annotations(bad_annots)\n",
    "\n",
    "# # # apply to not filtered data #\n",
    "raw_fif.set_annotations(bad_annots)"
   ]
  },
  {
   "cell_type": "markdown",
   "id": "304972b6-3d35-4319-93bc-c13753ecf6f7",
   "metadata": {},
   "source": [
    "## Visualizing Neural Data"
   ]
  },
  {
   "cell_type": "markdown",
   "id": "556ee4df-0294-49bb-8db3-98ee304abde7",
   "metadata": {},
   "source": [
    "next step, working on filtering out the high frequency noise\n",
    "\n",
    "then look at Marks script to come up with some plot of every trial, sort longest to shortest, with theta power as the color tiome as x, trial on y"
   ]
  },
  {
   "cell_type": "code",
   "execution_count": 14,
   "id": "afafa922-b494-4ebf-a262-1fa89adb5a89",
   "metadata": {
    "tags": []
   },
   "outputs": [
    {
     "name": "stdout",
     "output_type": "stream",
     "text": [
      "Using qt as 2D backend.\n"
     ]
    },
    {
     "data": {
      "text/plain": [
       "<mne_qt_browser._pg_figure.MNEQtBrowser at 0x7f6ca4059040>"
      ]
     },
     "execution_count": 14,
     "metadata": {},
     "output_type": "execute_result"
    }
   ],
   "source": [
    "# plot for cleaning #\n",
    "filtered_notch_data.drop_channels(filtered_notch_data.info['bads'])\n",
    "filtered_notch_data.plot(events=events, color='b', bad_color = 'red', n_channels = 230, clipping = None, event_color = 'r')"
   ]
  },
  {
   "cell_type": "code",
   "execution_count": null,
   "id": "0ed7aef0-09d9-4134-8f68-15bbc207578c",
   "metadata": {},
   "outputs": [],
   "source": [
    "# plot psd of all channels #\n",
    "\n",
    "filtered_notch_data.plot_psd()"
   ]
  },
  {
   "cell_type": "code",
   "execution_count": null,
   "id": "f7c9bc69-ae5f-455d-b683-76bff6dd9063",
   "metadata": {},
   "outputs": [],
   "source": [
    "# plot psd of bad channels #\n",
    "\n",
    "filtered_notch_data.plot_psd(picks = filtered_notch_data.info['bads'])"
   ]
  },
  {
   "cell_type": "code",
   "execution_count": 17,
   "id": "6750570c-bf22-44ed-bc33-24530441dab4",
   "metadata": {
    "tags": []
   },
   "outputs": [
    {
     "name": "stdout",
     "output_type": "stream",
     "text": [
      "OrderedDict([('onset', 6.220399854039831), ('duration', 1.1461714263765392), ('description', 'BAD'), ('orig_time', None)])\n",
      "OrderedDict([('onset', 11.681806833240508), ('duration', 1.0109662179031673), ('description', 'BAD'), ('orig_time', None)])\n",
      "OrderedDict([('onset', 80.51719833298122), ('duration', 2.7501968541742627), ('description', 'BAD'), ('orig_time', None)])\n",
      "OrderedDict([('onset', 127.16861280224319), ('duration', 0.7897213313103748), ('description', 'BAD'), ('orig_time', None)])\n",
      "OrderedDict([('onset', 177.00575198294567), ('duration', 0.958727841902089), ('description', 'BAD'), ('orig_time', None)])\n",
      "OrderedDict([('onset', 203.7516084426434), ('duration', 1.1246615068467065), ('description', 'BAD'), ('orig_time', None)])\n",
      "OrderedDict([('onset', 207.44209606483705), ('duration', 0.6299333576600361), ('description', 'BAD'), ('orig_time', None)])\n",
      "OrderedDict([('onset', 285.56151452879834), ('duration', 1.2537210240258219), ('description', 'BAD'), ('orig_time', None)])\n",
      "OrderedDict([('onset', 292.8451189767424), ('duration', 0.7405558009564288), ('description', 'BAD'), ('orig_time', None)])\n",
      "OrderedDict([('onset', 304.0588930073556), ('duration', 1.868290153450232), ('description', 'BAD'), ('orig_time', None)])\n",
      "OrderedDict([('onset', 344.1756611419462), ('duration', 0.513165223069393), ('description', 'BAD'), ('orig_time', None)])\n",
      "OrderedDict([('onset', 386.50487814246475), ('duration', 1.0662774395513566), ('description', 'BAD'), ('orig_time', None)])\n",
      "OrderedDict([('onset', 518.706812114694), ('duration', 1.4288732259117296), ('description', 'BAD'), ('orig_time', None)])\n",
      "OrderedDict([('onset', 627.695845896791), ('duration', 2.654938639113425), ('description', 'BAD'), ('orig_time', None)])\n",
      "OrderedDict([('onset', 680.1111025754286), ('duration', 2.0741708118074484), ('description', 'BAD'), ('orig_time', None)])\n",
      "OrderedDict([('onset', 776.3960321880581), ('duration', 1.6255353473276273), ('description', 'BAD'), ('orig_time', None)])\n",
      "Overwriting existing file.\n"
     ]
    },
    {
     "name": "stderr",
     "output_type": "stream",
     "text": [
      "/tmp/ipykernel_12729/1287627631.py:7: RuntimeWarning: This filename (../ieeg/saved_annotations.fif) does not conform to MNE naming conventions. All annotations files should end with -annot.fif, -annot.fif.gz, _annot.fif, _annot.fif.gz, .txt or .csv\n",
      "  filtered_notch_data.annotations.save('../ieeg/saved_annotations.fif', overwrite = True)\n"
     ]
    }
   ],
   "source": [
    "# # From interactive sessions\n",
    "# interactive_annot = filtered_notch_data.annotations\n",
    "# for x in range(0, len(filtered_notch_data.annotations)):\n",
    "#     print(interactive_annot[x])\n",
    "    \n",
    "    \n",
    "# filtered_notch_data.annotations.save('../ieeg/saved_annotations.fif', overwrite = True)    "
   ]
  },
  {
   "cell_type": "markdown",
   "id": "86ae8d82-9dc2-438f-ab76-effed512f9e4",
   "metadata": {},
   "source": [
    "## Save Files"
   ]
  },
  {
   "cell_type": "code",
   "execution_count": 13,
   "id": "83c9a275-c5bd-414a-a3a5-5d30bd0fe689",
   "metadata": {
    "tags": []
   },
   "outputs": [
    {
     "name": "stdout",
     "output_type": "stream",
     "text": [
      "Overwriting existing file.\n",
      "Writing /home/brooke/pacman/raw_data/BJH030/ieeg/BJH030_notched_filtered_clean_ieeg.fif\n",
      "Overwriting existing file.\n",
      "Writing /home/brooke/pacman/raw_data/BJH030/ieeg/BJH030_notched_filtered_clean_ieeg-1.fif\n",
      "Closing /home/brooke/pacman/raw_data/BJH030/ieeg/BJH030_notched_filtered_clean_ieeg-1.fif\n",
      "Closing /home/brooke/pacman/raw_data/BJH030/ieeg/BJH030_notched_filtered_clean_ieeg.fif\n",
      "[done]\n",
      "Overwriting existing file.\n",
      "Writing /home/brooke/pacman/raw_data/BJH030/ieeg/BJH030_raw_clean_ieeg.fif\n",
      "Overwriting existing file.\n",
      "Writing /home/brooke/pacman/raw_data/BJH030/ieeg/BJH030_raw_clean_ieeg-1.fif\n",
      "Closing /home/brooke/pacman/raw_data/BJH030/ieeg/BJH030_raw_clean_ieeg-1.fif\n",
      "Closing /home/brooke/pacman/raw_data/BJH030/ieeg/BJH030_raw_clean_ieeg.fif\n",
      "[done]\n"
     ]
    }
   ],
   "source": [
    "# save filtered data #\n",
    "filtered_notch_data.save(f\"{raw_data_dir}/ieeg/{subject}_notched_filtered_clean_ieeg.fif\", overwrite = True)\n",
    "\n",
    "\n",
    "# save raw clean data #\n",
    "raw_fif.save(f\"{raw_data_dir}/ieeg/{subject}_raw_clean_ieeg.fif\", overwrite = True)\n"
   ]
  },
  {
   "cell_type": "code",
   "execution_count": null,
   "id": "2a558970",
   "metadata": {},
   "outputs": [],
   "source": []
  }
 ],
 "metadata": {
  "kernelspec": {
   "display_name": "Python 3 (ipykernel)",
   "language": "python",
   "name": "python3"
  },
  "language_info": {
   "codemirror_mode": {
    "name": "ipython",
    "version": 3
   },
   "file_extension": ".py",
   "mimetype": "text/x-python",
   "name": "python",
   "nbconvert_exporter": "python",
   "pygments_lexer": "ipython3",
   "version": "3.9.18"
  }
 },
 "nbformat": 4,
 "nbformat_minor": 5
}

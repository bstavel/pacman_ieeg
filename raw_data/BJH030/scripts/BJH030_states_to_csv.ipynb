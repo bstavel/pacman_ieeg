{
 "cells": [
  {
   "cell_type": "code",
   "execution_count": 1,
   "id": "ad42ff06",
   "metadata": {
    "execution": {
     "iopub.execute_input": "2023-12-05T18:04:05.384543Z",
     "iopub.status.busy": "2023-12-05T18:04:05.383376Z",
     "iopub.status.idle": "2023-12-05T18:04:06.375947Z",
     "shell.execute_reply": "2023-12-05T18:04:06.374948Z"
    }
   },
   "outputs": [],
   "source": [
    "import pandas as pd\n",
    "import numpy as np\n",
    "from scipy import signal, stats\n",
    "import matplotlib.pyplot as plt\n",
    "import mat73\n",
    "import re\n",
    "from neurodsp.timefrequency import compute_wavelet_transform\n",
    "from BCI2kReader import BCI2kReader as b2k\n",
    "import os\n",
    "import mne\n",
    "from tabulate import tabulate\n",
    "import IPython\n",
    "import seaborn as sns"
   ]
  },
  {
   "cell_type": "markdown",
   "id": "42270c4d",
   "metadata": {},
   "source": [
    "This script is the interactive/dev version to turn the bci states into a csv comprable to the csvs I get from prolifc in order to compare their behavior.\n",
    "\n",
    "The basic plan is to create and index to get a timestep of 50ms, loop through all of my_states, pull values for each variable of interest into a csv."
   ]
  },
  {
   "cell_type": "code",
   "execution_count": 2,
   "id": "70826c54",
   "metadata": {
    "execution": {
     "iopub.execute_input": "2023-12-05T18:04:06.382892Z",
     "iopub.status.busy": "2023-12-05T18:04:06.381497Z",
     "iopub.status.idle": "2023-12-05T18:04:06.385371Z",
     "shell.execute_reply": "2023-12-05T18:04:06.384563Z"
    }
   },
   "outputs": [],
   "source": [
    "## prep paths\n",
    "\n",
    "subject = 'BJH030'\n",
    "orig_data_fi = '/home/brooke/knight_server/remote/WashU/data/PacmanTask/BJH030/PacmanTask/ECOG001/ECOGS001R01.dat'\n",
    "raw_data_dir = f\"/home/brooke/pacman/raw_data/{subject}/ieeg\""
   ]
  },
  {
   "cell_type": "code",
   "execution_count": 3,
   "id": "f761919f",
   "metadata": {
    "execution": {
     "iopub.execute_input": "2023-12-05T18:04:06.391168Z",
     "iopub.status.busy": "2023-12-05T18:04:06.390161Z",
     "iopub.status.idle": "2023-12-05T18:08:43.029303Z",
     "shell.execute_reply": "2023-12-05T18:08:43.028967Z"
    }
   },
   "outputs": [
    {
     "name": "stderr",
     "output_type": "stream",
     "text": [
      "WARNING: failed to interpret \"auto\" as type int in parameter \"VisualizeSourceDecimation\"\n",
      "WARNING: failed to interpret \"auto\" as type int in parameter \"VisualizeSourceBufferSize\"\n",
      "WARNING: failed to interpret \"auto\" as type int in parameter \"SourceMin\"\n",
      "WARNING: failed to interpret \"auto\" as type int in parameter \"SourceMax\"\n"
     ]
    }
   ],
   "source": [
    "with b2k.BCI2kReader(orig_data_fi) as data: #opens a stream to the dat file\n",
    "    my_signals = data.signals\n",
    "    my_states = data.states\n",
    "    my_params = data.parameters"
   ]
  },
  {
   "cell_type": "code",
   "execution_count": 4,
   "id": "1b7590b8",
   "metadata": {
    "execution": {
     "iopub.execute_input": "2023-12-05T18:08:43.035531Z",
     "iopub.status.busy": "2023-12-05T18:08:43.035124Z",
     "iopub.status.idle": "2023-12-05T18:08:43.036788Z",
     "shell.execute_reply": "2023-12-05T18:08:43.036468Z"
    }
   },
   "outputs": [],
   "source": [
    "col_names =  ['Subject',\n",
    "              'Trial',\n",
    "               'Time', \n",
    "               'GhostLocation',\n",
    "               'UserLocation',\n",
    "               'Direction',\n",
    "               'Biscuit1',\n",
    "               'Biscuit2',\n",
    "               'Biscuit3',\n",
    "               'Biscuit4',\n",
    "               'Biscuit5',\n",
    "               'Attack',\n",
    "               'Chase',\n",
    "               'Eaten',\n",
    "               'Score',\n",
    "               'Lives',\n",
    "               'TrialType']\n",
    "\n",
    "cleaned_game_data = pd.DataFrame(columns = col_names)"
   ]
  },
  {
   "cell_type": "code",
   "execution_count": 5,
   "id": "fc5170bd",
   "metadata": {
    "execution": {
     "iopub.execute_input": "2023-12-05T18:08:43.041010Z",
     "iopub.status.busy": "2023-12-05T18:08:43.040211Z",
     "iopub.status.idle": "2023-12-05T18:08:43.043184Z",
     "shell.execute_reply": "2023-12-05T18:08:43.042485Z"
    }
   },
   "outputs": [],
   "source": [
    "samples_per_500 = my_params['SamplingRate'] *.05\n",
    "task_length = len(my_states['Trial_on_off'][0])\n",
    "flips_per_task = int(task_length / samples_per_500)\n",
    "\n"
   ]
  },
  {
   "cell_type": "markdown",
   "id": "62f0856e",
   "metadata": {},
   "source": [
    "Okay, so every 50ms, corresponds to a csv with `nrows = 59019`, which is *much* larger than the size of the csvs from prolific data. However, the ITIs in the prolific data are not sampled at 50ms, and the task was run twice for this subject. So together, I think this makes sense "
   ]
  },
  {
   "cell_type": "code",
   "execution_count": 6,
   "id": "803bdfcf",
   "metadata": {
    "execution": {
     "iopub.execute_input": "2023-12-05T18:08:43.053066Z",
     "iopub.status.busy": "2023-12-05T18:08:43.051932Z",
     "iopub.status.idle": "2023-12-05T18:09:37.004221Z",
     "shell.execute_reply": "2023-12-05T18:09:37.003339Z"
    }
   },
   "outputs": [],
   "source": [
    "for iter in range(flips_per_task):\n",
    "    sample = int(range(task_length)[iter] * samples_per_500)\n",
    "    cleaned_game_data.loc[iter] = [subject, my_states['Trial_on_off'][0][sample], sample,\n",
    "              my_states['GhostLocation'][0][sample], my_states['UserLocation'][0][sample], my_states['Direction'][0][sample],  \n",
    "              my_states['Biscuit1'][0][sample], my_states['Biscuit2'][0][sample], my_states['Biscuit3'][0][sample],\n",
    "              my_states['Biscuit4'][0][sample], my_states['Biscuit5'][0][sample], my_states['Attack'][0][sample],\n",
    "              my_states['Chase'][0][sample], my_states['Eaten'][0][sample], my_states['Score'][0][sample],\n",
    "              my_states['Lives'][0][sample], my_states['TrialType'][0][sample]]\n"
   ]
  },
  {
   "cell_type": "code",
   "execution_count": 7,
   "id": "b178816c",
   "metadata": {
    "execution": {
     "iopub.execute_input": "2023-12-05T18:09:37.012036Z",
     "iopub.status.busy": "2023-12-05T18:09:37.011026Z",
     "iopub.status.idle": "2023-12-05T18:09:37.014042Z",
     "shell.execute_reply": "2023-12-05T18:09:37.013064Z"
    }
   },
   "outputs": [],
   "source": [
    "# filter to beginning of trial\n",
    "first_trial = cleaned_game_data.Trial.eq(1).idxmax() - 3 # start a couple of time points ahead of first trial\n",
    "last_row = cleaned_game_data.shape[0]\n",
    "cleaned_game_data = cleaned_game_data.loc[first_trial:last_row]"
   ]
  },
  {
   "cell_type": "code",
   "execution_count": 8,
   "id": "4094e631",
   "metadata": {
    "execution": {
     "iopub.execute_input": "2023-12-05T18:09:37.021806Z",
     "iopub.status.busy": "2023-12-05T18:09:37.020784Z",
     "iopub.status.idle": "2023-12-05T18:09:38.003651Z",
     "shell.execute_reply": "2023-12-05T18:09:38.002792Z"
    }
   },
   "outputs": [],
   "source": [
    "# get trial count\n",
    "cleaned_game_data.reset_index(inplace=True, drop = True)\n",
    "last_row = cleaned_game_data.shape[0]\n",
    "end_index = False\n",
    "begin_index = False\n",
    "cleaned_game_data = cleaned_game_data.rename(columns={'Trial': 'Trial_on_off'})  \n",
    "for idx in range(4, last_row):\n",
    "    if cleaned_game_data.Trial_on_off[idx] == 0 and cleaned_game_data.Trial_on_off[idx - 1] == 1:\n",
    "        begin_index = idx + 1\n",
    "    if cleaned_game_data.Trial_on_off[idx] == 1 and cleaned_game_data.Trial_on_off[idx - 1] == 0:\n",
    "        end_index = idx - 2\n",
    "    if end_index is not False:\n",
    "        bad_df = cleaned_game_data.index.isin(np.arange(begin_index, end_index))\n",
    "        cleaned_game_data = cleaned_game_data[~bad_df]\n",
    "        end_index = False\n",
    "        begin_index = False\n",
    "        "
   ]
  },
  {
   "cell_type": "code",
   "execution_count": 9,
   "id": "a3c5951c",
   "metadata": {
    "execution": {
     "iopub.execute_input": "2023-12-05T18:09:38.026394Z",
     "iopub.status.busy": "2023-12-05T18:09:38.025399Z",
     "iopub.status.idle": "2023-12-05T18:09:39.348688Z",
     "shell.execute_reply": "2023-12-05T18:09:39.347770Z"
    }
   },
   "outputs": [],
   "source": [
    "# so now there are three zeros separating every trial, so lets count the trials!\n",
    "cleaned_game_data.reset_index(inplace=True, drop = True)\n",
    "last_row = cleaned_game_data.shape[0]\n",
    "trial_counter = 1\n",
    "cleaned_game_data['Trial'] = 0\n",
    "for idx in range(4, last_row):\n",
    "    cleaned_game_data.loc[idx, 'Trial'] = trial_counter\n",
    "    if cleaned_game_data.Trial_on_off[idx] == 0 and cleaned_game_data.Trial_on_off[idx - 1] == 1:\n",
    "        trial_counter = trial_counter + 1\n",
    "\n",
    "cleaned_game_data = cleaned_game_data[(cleaned_game_data['Trial'] != trial_counter)] # get rid of trailing zeros"
   ]
  },
  {
   "cell_type": "code",
   "execution_count": 10,
   "id": "a25949d3",
   "metadata": {
    "execution": {
     "iopub.execute_input": "2023-12-05T18:09:39.356507Z",
     "iopub.status.busy": "2023-12-05T18:09:39.355764Z",
     "iopub.status.idle": "2023-12-05T18:09:39.366643Z",
     "shell.execute_reply": "2023-12-05T18:09:39.367246Z"
    }
   },
   "outputs": [
    {
     "data": {
      "text/html": [
       "<div>\n",
       "<style scoped>\n",
       "    .dataframe tbody tr th:only-of-type {\n",
       "        vertical-align: middle;\n",
       "    }\n",
       "\n",
       "    .dataframe tbody tr th {\n",
       "        vertical-align: top;\n",
       "    }\n",
       "\n",
       "    .dataframe thead th {\n",
       "        text-align: right;\n",
       "    }\n",
       "</style>\n",
       "<table border=\"1\" class=\"dataframe\">\n",
       "  <thead>\n",
       "    <tr style=\"text-align: right;\">\n",
       "      <th></th>\n",
       "      <th>Subject</th>\n",
       "      <th>Trial_on_off</th>\n",
       "      <th>Time</th>\n",
       "      <th>GhostLocation</th>\n",
       "      <th>UserLocation</th>\n",
       "      <th>Direction</th>\n",
       "      <th>Biscuit1</th>\n",
       "      <th>Biscuit2</th>\n",
       "      <th>Biscuit3</th>\n",
       "      <th>Biscuit4</th>\n",
       "      <th>Biscuit5</th>\n",
       "      <th>Attack</th>\n",
       "      <th>Chase</th>\n",
       "      <th>Eaten</th>\n",
       "      <th>Score</th>\n",
       "      <th>Lives</th>\n",
       "      <th>TrialType</th>\n",
       "      <th>Trial</th>\n",
       "    </tr>\n",
       "  </thead>\n",
       "  <tbody>\n",
       "    <tr>\n",
       "      <th>0</th>\n",
       "      <td>BJH030</td>\n",
       "      <td>0</td>\n",
       "      <td>18500</td>\n",
       "      <td>0</td>\n",
       "      <td>0</td>\n",
       "      <td>4</td>\n",
       "      <td>0</td>\n",
       "      <td>0</td>\n",
       "      <td>0</td>\n",
       "      <td>0</td>\n",
       "      <td>0</td>\n",
       "      <td>0</td>\n",
       "      <td>0</td>\n",
       "      <td>0</td>\n",
       "      <td>0</td>\n",
       "      <td>3</td>\n",
       "      <td>0</td>\n",
       "      <td>0</td>\n",
       "    </tr>\n",
       "    <tr>\n",
       "      <th>1</th>\n",
       "      <td>BJH030</td>\n",
       "      <td>0</td>\n",
       "      <td>18600</td>\n",
       "      <td>0</td>\n",
       "      <td>0</td>\n",
       "      <td>4</td>\n",
       "      <td>0</td>\n",
       "      <td>0</td>\n",
       "      <td>0</td>\n",
       "      <td>0</td>\n",
       "      <td>0</td>\n",
       "      <td>0</td>\n",
       "      <td>0</td>\n",
       "      <td>0</td>\n",
       "      <td>0</td>\n",
       "      <td>3</td>\n",
       "      <td>0</td>\n",
       "      <td>0</td>\n",
       "    </tr>\n",
       "    <tr>\n",
       "      <th>2</th>\n",
       "      <td>BJH030</td>\n",
       "      <td>0</td>\n",
       "      <td>18700</td>\n",
       "      <td>0</td>\n",
       "      <td>0</td>\n",
       "      <td>4</td>\n",
       "      <td>0</td>\n",
       "      <td>0</td>\n",
       "      <td>0</td>\n",
       "      <td>0</td>\n",
       "      <td>0</td>\n",
       "      <td>0</td>\n",
       "      <td>0</td>\n",
       "      <td>0</td>\n",
       "      <td>0</td>\n",
       "      <td>3</td>\n",
       "      <td>0</td>\n",
       "      <td>0</td>\n",
       "    </tr>\n",
       "    <tr>\n",
       "      <th>3</th>\n",
       "      <td>BJH030</td>\n",
       "      <td>1</td>\n",
       "      <td>18800</td>\n",
       "      <td>68</td>\n",
       "      <td>143</td>\n",
       "      <td>4</td>\n",
       "      <td>0</td>\n",
       "      <td>0</td>\n",
       "      <td>0</td>\n",
       "      <td>0</td>\n",
       "      <td>0</td>\n",
       "      <td>0</td>\n",
       "      <td>0</td>\n",
       "      <td>0</td>\n",
       "      <td>0</td>\n",
       "      <td>3</td>\n",
       "      <td>1</td>\n",
       "      <td>0</td>\n",
       "    </tr>\n",
       "    <tr>\n",
       "      <th>4</th>\n",
       "      <td>BJH030</td>\n",
       "      <td>1</td>\n",
       "      <td>18900</td>\n",
       "      <td>66</td>\n",
       "      <td>143</td>\n",
       "      <td>4</td>\n",
       "      <td>0</td>\n",
       "      <td>0</td>\n",
       "      <td>0</td>\n",
       "      <td>0</td>\n",
       "      <td>0</td>\n",
       "      <td>0</td>\n",
       "      <td>0</td>\n",
       "      <td>0</td>\n",
       "      <td>0</td>\n",
       "      <td>3</td>\n",
       "      <td>1</td>\n",
       "      <td>1</td>\n",
       "    </tr>\n",
       "    <tr>\n",
       "      <th>...</th>\n",
       "      <td>...</td>\n",
       "      <td>...</td>\n",
       "      <td>...</td>\n",
       "      <td>...</td>\n",
       "      <td>...</td>\n",
       "      <td>...</td>\n",
       "      <td>...</td>\n",
       "      <td>...</td>\n",
       "      <td>...</td>\n",
       "      <td>...</td>\n",
       "      <td>...</td>\n",
       "      <td>...</td>\n",
       "      <td>...</td>\n",
       "      <td>...</td>\n",
       "      <td>...</td>\n",
       "      <td>...</td>\n",
       "      <td>...</td>\n",
       "      <td>...</td>\n",
       "    </tr>\n",
       "    <tr>\n",
       "      <th>21464</th>\n",
       "      <td>BJH030</td>\n",
       "      <td>1</td>\n",
       "      <td>2947400</td>\n",
       "      <td>124</td>\n",
       "      <td>13</td>\n",
       "      <td>2</td>\n",
       "      <td>1</td>\n",
       "      <td>1</td>\n",
       "      <td>1</td>\n",
       "      <td>1</td>\n",
       "      <td>1</td>\n",
       "      <td>0</td>\n",
       "      <td>0</td>\n",
       "      <td>5</td>\n",
       "      <td>290</td>\n",
       "      <td>3</td>\n",
       "      <td>19</td>\n",
       "      <td>240</td>\n",
       "    </tr>\n",
       "    <tr>\n",
       "      <th>21465</th>\n",
       "      <td>BJH030</td>\n",
       "      <td>1</td>\n",
       "      <td>2947500</td>\n",
       "      <td>124</td>\n",
       "      <td>11</td>\n",
       "      <td>2</td>\n",
       "      <td>1</td>\n",
       "      <td>1</td>\n",
       "      <td>1</td>\n",
       "      <td>1</td>\n",
       "      <td>1</td>\n",
       "      <td>0</td>\n",
       "      <td>0</td>\n",
       "      <td>5</td>\n",
       "      <td>290</td>\n",
       "      <td>3</td>\n",
       "      <td>19</td>\n",
       "      <td>240</td>\n",
       "    </tr>\n",
       "    <tr>\n",
       "      <th>21466</th>\n",
       "      <td>BJH030</td>\n",
       "      <td>1</td>\n",
       "      <td>2947600</td>\n",
       "      <td>124</td>\n",
       "      <td>9</td>\n",
       "      <td>2</td>\n",
       "      <td>1</td>\n",
       "      <td>1</td>\n",
       "      <td>1</td>\n",
       "      <td>1</td>\n",
       "      <td>1</td>\n",
       "      <td>0</td>\n",
       "      <td>0</td>\n",
       "      <td>5</td>\n",
       "      <td>290</td>\n",
       "      <td>3</td>\n",
       "      <td>19</td>\n",
       "      <td>240</td>\n",
       "    </tr>\n",
       "    <tr>\n",
       "      <th>21467</th>\n",
       "      <td>BJH030</td>\n",
       "      <td>1</td>\n",
       "      <td>2947700</td>\n",
       "      <td>128</td>\n",
       "      <td>43</td>\n",
       "      <td>2</td>\n",
       "      <td>1</td>\n",
       "      <td>1</td>\n",
       "      <td>1</td>\n",
       "      <td>1</td>\n",
       "      <td>1</td>\n",
       "      <td>0</td>\n",
       "      <td>0</td>\n",
       "      <td>5</td>\n",
       "      <td>290</td>\n",
       "      <td>3</td>\n",
       "      <td>7</td>\n",
       "      <td>240</td>\n",
       "    </tr>\n",
       "    <tr>\n",
       "      <th>21468</th>\n",
       "      <td>BJH030</td>\n",
       "      <td>0</td>\n",
       "      <td>2947800</td>\n",
       "      <td>128</td>\n",
       "      <td>43</td>\n",
       "      <td>4</td>\n",
       "      <td>0</td>\n",
       "      <td>0</td>\n",
       "      <td>0</td>\n",
       "      <td>0</td>\n",
       "      <td>0</td>\n",
       "      <td>0</td>\n",
       "      <td>0</td>\n",
       "      <td>0</td>\n",
       "      <td>290</td>\n",
       "      <td>3</td>\n",
       "      <td>7</td>\n",
       "      <td>240</td>\n",
       "    </tr>\n",
       "  </tbody>\n",
       "</table>\n",
       "<p>21469 rows × 18 columns</p>\n",
       "</div>"
      ],
      "text/plain": [
       "      Subject  Trial_on_off     Time  GhostLocation  UserLocation  Direction  \\\n",
       "0      BJH030             0    18500              0             0          4   \n",
       "1      BJH030             0    18600              0             0          4   \n",
       "2      BJH030             0    18700              0             0          4   \n",
       "3      BJH030             1    18800             68           143          4   \n",
       "4      BJH030             1    18900             66           143          4   \n",
       "...       ...           ...      ...            ...           ...        ...   \n",
       "21464  BJH030             1  2947400            124            13          2   \n",
       "21465  BJH030             1  2947500            124            11          2   \n",
       "21466  BJH030             1  2947600            124             9          2   \n",
       "21467  BJH030             1  2947700            128            43          2   \n",
       "21468  BJH030             0  2947800            128            43          4   \n",
       "\n",
       "       Biscuit1  Biscuit2  Biscuit3  Biscuit4  Biscuit5  Attack  Chase  Eaten  \\\n",
       "0             0         0         0         0         0       0      0      0   \n",
       "1             0         0         0         0         0       0      0      0   \n",
       "2             0         0         0         0         0       0      0      0   \n",
       "3             0         0         0         0         0       0      0      0   \n",
       "4             0         0         0         0         0       0      0      0   \n",
       "...         ...       ...       ...       ...       ...     ...    ...    ...   \n",
       "21464         1         1         1         1         1       0      0      5   \n",
       "21465         1         1         1         1         1       0      0      5   \n",
       "21466         1         1         1         1         1       0      0      5   \n",
       "21467         1         1         1         1         1       0      0      5   \n",
       "21468         0         0         0         0         0       0      0      0   \n",
       "\n",
       "       Score  Lives  TrialType  Trial  \n",
       "0          0      3          0      0  \n",
       "1          0      3          0      0  \n",
       "2          0      3          0      0  \n",
       "3          0      3          1      0  \n",
       "4          0      3          1      1  \n",
       "...      ...    ...        ...    ...  \n",
       "21464    290      3         19    240  \n",
       "21465    290      3         19    240  \n",
       "21466    290      3         19    240  \n",
       "21467    290      3          7    240  \n",
       "21468    290      3          7    240  \n",
       "\n",
       "[21469 rows x 18 columns]"
      ]
     },
     "execution_count": 10,
     "metadata": {},
     "output_type": "execute_result"
    }
   ],
   "source": [
    "## test 1\n",
    "\n",
    "cleaned_game_data"
   ]
  },
  {
   "cell_type": "code",
   "execution_count": 11,
   "id": "ea87b6a2-99c9-4dc5-a198-789e6ede6929",
   "metadata": {
    "execution": {
     "iopub.execute_input": "2023-12-05T18:09:39.372612Z",
     "iopub.status.busy": "2023-12-05T18:09:39.372246Z",
     "iopub.status.idle": "2023-12-05T18:09:39.458977Z",
     "shell.execute_reply": "2023-12-05T18:09:39.458664Z"
    }
   },
   "outputs": [
    {
     "data": {
      "text/plain": [
       "[<matplotlib.lines.Line2D at 0x7f9af96754c0>]"
      ]
     },
     "execution_count": 11,
     "metadata": {},
     "output_type": "execute_result"
    },
    {
     "data": {
      "image/png": "[encoded data removed]",
      "text/plain": [
       "<Figure size 432x288 with 1 Axes>"
      ]
     },
     "metadata": {
      "needs_background": "light"
     },
     "output_type": "display_data"
    }
   ],
   "source": [
    "## test 2\n",
    "\n",
    "plt.plot(range(0, 500), cleaned_game_data['Trial_on_off'][0:500])"
   ]
  },
  {
   "cell_type": "code",
   "execution_count": 12,
   "id": "0118fc54",
   "metadata": {
    "execution": {
     "iopub.execute_input": "2023-12-05T18:09:39.463084Z",
     "iopub.status.busy": "2023-12-05T18:09:39.462339Z",
     "iopub.status.idle": "2023-12-05T18:09:39.524424Z",
     "shell.execute_reply": "2023-12-05T18:09:39.523847Z"
    }
   },
   "outputs": [],
   "source": [
    "## save it\n",
    "\n",
    "cleaned_game_data.to_csv(f\"{raw_data_dir}/../behave/{subject}_raw_behave.csv\")"
   ]
  }
 ],
 "metadata": {
  "kernelspec": {
   "display_name": "Python 3",
   "language": "python",
   "name": "python3"
  },
  "language_info": {
   "codemirror_mode": {
    "name": "ipython",
    "version": 3
   },
   "file_extension": ".py",
   "mimetype": "text/x-python",
   "name": "python",
   "nbconvert_exporter": "python",
   "pygments_lexer": "ipython3",
   "version": "3.9.12"
  }
 },
 "nbformat": 4,
 "nbformat_minor": 5
}

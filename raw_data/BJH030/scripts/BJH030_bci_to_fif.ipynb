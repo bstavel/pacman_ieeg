{
 "cells": [
  {
   "cell_type": "markdown",
   "id": "1dde1236-abaf-40af-8af3-97742d564328",
   "metadata": {},
   "source": [
    "## Conversion to fif: BJH030\n",
    "\n",
    "This script takes the raw, original data file we recieved from WashU and converts it to a fif file with the photodiode as a new stim channel\n",
    "\n",
    "\n",
    "Just need to change fields in `prep_paths`"
   ]
  },
  {
   "cell_type": "code",
   "execution_count": 1,
   "id": "30b1b892-6de7-490a-9015-15e96664db57",
   "metadata": {},
   "outputs": [],
   "source": [
    "import matplotlib.pyplot as plt\n",
    "import pandas as pd\n",
    "import numpy as np\n",
    "from scipy import signal, stats\n",
    "import mat73\n",
    "import re\n",
    "from neurodsp.timefrequency import compute_wavelet_transform\n",
    "from BCI2kReader import BCI2kReader as b2k\n",
    "import os\n",
    "import mne\n",
    "from tabulate import tabulate\n",
    "import IPython\n",
    "import seaborn as sns"
   ]
  },
  {
   "cell_type": "code",
   "execution_count": 2,
   "id": "cdd12f2e-0d9e-4fe7-9f99-59d7b021a2a6",
   "metadata": {},
   "outputs": [],
   "source": [
    "## prep paths\n",
    "\n",
    "subject = 'BJH030'\n",
    "orig_data_fi = '/home/brooke/knight_server/remote/WashU/data/PacmanTask/BJH030/PacmanTask/ECOG001/ECOGS001R01.dat'\n",
    "raw_data_dir = f\"/home/brooke/pacman/raw_data/{subject}/ieeg\""
   ]
  },
  {
   "cell_type": "code",
   "execution_count": 3,
   "id": "b4d0fe3c-ceed-4b91-9356-ac164eb47f79",
   "metadata": {},
   "outputs": [
    {
     "name": "stderr",
     "output_type": "stream",
     "text": [
      "WARNING: failed to interpret \"auto\" as type int in parameter \"VisualizeSourceDecimation\"\n",
      "WARNING: failed to interpret \"auto\" as type int in parameter \"VisualizeSourceBufferSize\"\n",
      "WARNING: failed to interpret \"auto\" as type int in parameter \"SourceMin\"\n",
      "WARNING: failed to interpret \"auto\" as type int in parameter \"SourceMax\"\n"
     ]
    }
   ],
   "source": [
    "## load data\n",
    "\n",
    "with b2k.BCI2kReader(orig_data_fi) as data: #opens a stream to the dat file\n",
    "    my_signals = data.signals\n",
    "    my_states = data.states\n",
    "    my_params = data.parameters"
   ]
  },
  {
   "cell_type": "code",
   "execution_count": 4,
   "id": "b70a8ed4-0317-4216-bca3-9b4eeb238400",
   "metadata": {},
   "outputs": [
    {
     "data": {
      "text/plain": [
       "{'WebcamFrame0': array([[    0,     0,     0, ..., 23109, 23109, 23109]], dtype=int32),\n",
       " 'WebcamFrame1': array([[0, 0, 0, ..., 0, 0, 0]], dtype=int32),\n",
       " 'WebcamFrame2': array([[0, 0, 0, ..., 0, 0, 0]], dtype=int32),\n",
       " 'WebcamFrame3': array([[0, 0, 0, ..., 0, 0, 0]], dtype=int32),\n",
       " 'KeyDown': array([[0, 0, 0, ..., 0, 0, 0]], dtype=int32),\n",
       " 'KeyUp': array([[0, 0, 0, ..., 0, 0, 0]], dtype=int32),\n",
       " 'GhostLocation': array([[  0,   0,   0, ..., 132, 132, 132]], dtype=int32),\n",
       " 'UserLocation': array([[ 0,  0,  0, ..., 57, 57, 57]], dtype=int32),\n",
       " 'Direction': array([[4, 4, 4, ..., 2, 2, 2]], dtype=int32),\n",
       " 'Biscuit1': array([[0, 0, 0, ..., 1, 1, 1]], dtype=int32),\n",
       " 'Biscuit2': array([[0, 0, 0, ..., 1, 1, 1]], dtype=int32),\n",
       " 'Biscuit3': array([[0, 0, 0, ..., 1, 1, 1]], dtype=int32),\n",
       " 'Biscuit4': array([[0, 0, 0, ..., 1, 1, 1]], dtype=int32),\n",
       " 'Biscuit5': array([[0, 0, 0, ..., 1, 1, 1]], dtype=int32),\n",
       " 'Attack': array([[0, 0, 0, ..., 0, 0, 0]], dtype=int32),\n",
       " 'Chase': array([[0, 0, 0, ..., 0, 0, 0]], dtype=int32),\n",
       " 'Dying': array([[0, 0, 0, ..., 0, 0, 0]], dtype=int32),\n",
       " 'Eaten': array([[0, 0, 0, ..., 5, 5, 5]], dtype=int32),\n",
       " 'Score': array([[  0,   0,   0, ..., 360, 360, 360]], dtype=int32),\n",
       " 'Lives': array([[3, 3, 3, ..., 3, 3, 3]], dtype=int32),\n",
       " 'TrialType': array([[ 0,  0,  0, ..., 15, 15, 15]], dtype=int32),\n",
       " 'Trial_on_off': array([[0, 0, 0, ..., 1, 1, 1]], dtype=int32),\n",
       " 'AudioInEnvelope1': array([[   0,    0,    0, ..., 1859, 1859, 1859]], dtype=int32),\n",
       " 'AudioInEnvelope2': array([[   0,    0,    0, ..., 1741, 1741, 1741]], dtype=int32),\n",
       " 'AudioInEnvelope3': array([[0, 0, 0, ..., 0, 0, 0]], dtype=int32),\n",
       " 'AudioInEnvelope4': array([[0, 0, 0, ..., 0, 0, 0]], dtype=int32),\n",
       " 'AudioOutEnvelope1': array([[0, 0, 0, ..., 0, 0, 0]], dtype=int32),\n",
       " 'AudioOutEnvelope2': array([[0, 0, 0, ..., 0, 0, 0]], dtype=int32),\n",
       " 'AudioOutEnvelope3': array([[0, 0, 0, ..., 0, 0, 0]], dtype=int32),\n",
       " 'AudioOutEnvelope4': array([[0, 0, 0, ..., 0, 0, 0]], dtype=int32),\n",
       " 'AudioFrame': array([[       0,        0,        0, ..., 67940352, 67940352, 67940352]],\n",
       "       dtype=int32),\n",
       " 'EyetrackerTime': array([[    0,     0,     0, ..., 42878, 42878, 42878]], dtype=int32),\n",
       " 'EyetrackerLeftEyeValidity': array([[0, 0, 0, ..., 4, 4, 4]], dtype=int32),\n",
       " 'EyetrackerLeftPupilSize': array([[ 0,  0,  0, ..., 32, 32, 32]], dtype=int32),\n",
       " 'EyetrackerLeftEyeGazeX': array([[     0,      0,      0, ..., 262027, 262027, 262027]], dtype=int32),\n",
       " 'EyetrackerLeftEyeGazeY': array([[    0,     0,     0, ..., 42308, 42308, 42308]], dtype=int32),\n",
       " 'EyetrackerLeftEyePosX': array([[    0,     0,     0, ..., 32856, 32856, 32856]], dtype=int32),\n",
       " 'EyetrackerLeftEyePosY': array([[    0,     0,     0, ..., 66333, 66333, 66333]], dtype=int32),\n",
       " 'EyetrackerLeftEyeDist': array([[ 0,  0,  0, ..., 10, 10, 10]], dtype=int32),\n",
       " 'EyetrackerRightEyeValidity': array([[0, 0, 0, ..., 4, 4, 4]], dtype=int32),\n",
       " 'EyetrackerRightPupilSize': array([[ 0,  0,  0, ..., 34, 34, 34]], dtype=int32),\n",
       " 'EyetrackerRightEyeGazeX': array([[    0,     0,     0, ..., 32989, 32989, 32989]], dtype=int32),\n",
       " 'EyetrackerRightEyeGazeY': array([[    0,     0,     0, ..., 30156, 30156, 30156]], dtype=int32),\n",
       " 'EyetrackerRightEyePosX': array([[    0,     0,     0, ..., 32837, 32837, 32837]], dtype=int32),\n",
       " 'EyetrackerRightEyePosY': array([[    0,     0,     0, ..., 66329, 66329, 66329]], dtype=int32),\n",
       " 'EyetrackerRightEyeDist': array([[ 0,  0,  0, ..., 10, 10, 10]], dtype=int32),\n",
       " 'WebcamFrame4': array([[0, 0, 0, ..., 0, 0, 0]], dtype=int32),\n",
       " 'WebcamFrame5': array([[0, 0, 0, ..., 0, 0, 0]], dtype=int32),\n",
       " 'Recording': array([[1, 1, 1, ..., 1, 1, 1]], dtype=int32),\n",
       " 'SourceTime': array([[ 9442,  9442,  9442, ..., 42921, 42921, 42921]], dtype=int32),\n",
       " 'StimulusTime': array([[0, 0, 0, ..., 0, 0, 0]], dtype=int32),\n",
       " 'DC01': array([[32767, 32768, 32767, ..., 32768, 32768, 32767]], dtype=int32),\n",
       " 'DC02': array([[32768, 32768, 32768, ..., 32768, 32768, 32768]], dtype=int32),\n",
       " 'DC03': array([[32767, 32768, 32768, ..., 32767, 32767, 32767]], dtype=int32),\n",
       " 'DC04': array([[32767, 32768, 32768, ..., 32768, 32768, 32767]], dtype=int32),\n",
       " 'DC05': array([[32894, 32894, 32894, ..., 32894, 32894, 32895]], dtype=int32),\n",
       " 'DC06': array([[32767, 32767, 32767, ..., 32767, 32768, 32768]], dtype=int32),\n",
       " 'DC07': array([[32768, 32768, 32768, ..., 32768, 32768, 32768]], dtype=int32),\n",
       " 'DC08': array([[32768, 32768, 32768, ..., 32768, 32768, 32768]], dtype=int32),\n",
       " 'DC09': array([[32768, 32768, 32768, ..., 32768, 32768, 32768]], dtype=int32),\n",
       " 'DC10': array([[32768, 32768, 32768, ..., 32768, 32768, 32768]], dtype=int32),\n",
       " 'DC11': array([[32767, 32767, 32767, ..., 32767, 32767, 32767]], dtype=int32),\n",
       " 'DC12': array([[32768, 32768, 32767, ..., 32768, 32768, 32768]], dtype=int32),\n",
       " 'DC13': array([[32767, 32767, 32766, ..., 32766, 32767, 32766]], dtype=int32),\n",
       " 'DC14': array([[32768, 32768, 32768, ..., 32768, 32768, 32768]], dtype=int32),\n",
       " 'DC15': array([[32767, 32767, 32767, ..., 32766, 32766, 32766]], dtype=int32),\n",
       " 'DC16': array([[32767, 32768, 32767, ..., 32768, 32768, 32767]], dtype=int32),\n",
       " 'Running': array([[1, 1, 1, ..., 1, 1, 1]], dtype=int32),\n",
       " 'StimBoxInput1': array([[0, 0, 0, ..., 0, 0, 0]], dtype=int32),\n",
       " 'StimBoxInput2': array([[0, 0, 0, ..., 0, 0, 0]], dtype=int32),\n",
       " 'StimBoxInput3': array([[0, 0, 0, ..., 0, 0, 0]], dtype=int32),\n",
       " 'StimBoxInput4': array([[0, 0, 0, ..., 0, 0, 0]], dtype=int32),\n",
       " 'StimBoxInput5': array([[0, 0, 0, ..., 0, 0, 0]], dtype=int32),\n",
       " 'StimBoxInput6': array([[0, 0, 0, ..., 0, 0, 0]], dtype=int32),\n",
       " 'StimBoxInput7': array([[0, 0, 0, ..., 0, 0, 0]], dtype=int32),\n",
       " 'StimBoxInput8': array([[0, 0, 0, ..., 0, 0, 0]], dtype=int32),\n",
       " 'StimBoxInput9': array([[0, 0, 0, ..., 0, 0, 0]], dtype=int32),\n",
       " 'StimBoxInput10': array([[0, 0, 0, ..., 0, 0, 0]], dtype=int32),\n",
       " 'StimBoxInput11': array([[0, 0, 0, ..., 0, 0, 0]], dtype=int32),\n",
       " 'StimBoxInput12': array([[0, 0, 0, ..., 0, 0, 0]], dtype=int32),\n",
       " 'StimBoxInput13': array([[0, 0, 0, ..., 0, 0, 0]], dtype=int32),\n",
       " 'StimBoxInput14': array([[0, 0, 0, ..., 0, 0, 0]], dtype=int32),\n",
       " 'FixationViolated': array([[0, 0, 0, ..., 0, 0, 0]], dtype=int32),\n",
       " 'GazeCorrectionMode': array([[0, 0, 0, ..., 0, 0, 0]], dtype=int32),\n",
       " 'FixationCrossVisible': array([[1, 1, 1, ..., 1, 1, 1]], dtype=int32),\n",
       " 'FixationDuration': array([[0, 0, 0, ..., 0, 0, 0]], dtype=int32),\n",
       " '__pad0': array([[0, 0, 0, ..., 0, 0, 0]], dtype=int32),\n",
       " '__pad1': array([[0, 0, 0, ..., 0, 0, 0]], dtype=int32),\n",
       " '__pad2': array([[0, 0, 0, ..., 0, 0, 0]], dtype=int32),\n",
       " '__pad3': array([[0, 0, 0, ..., 0, 0, 0]], dtype=int32),\n",
       " '__pad4': array([[0, 0, 0, ..., 0, 0, 0]], dtype=int32),\n",
       " '__pad5': array([[0, 0, 0, ..., 0, 0, 0]], dtype=int32),\n",
       " '__pad6': array([[0, 0, 0, ..., 0, 0, 0]], dtype=int32),\n",
       " '__pad7': array([[0, 0, 0, ..., 0, 0, 0]], dtype=int32)}"
      ]
     },
     "execution_count": 4,
     "metadata": {},
     "output_type": "execute_result"
    }
   ],
   "source": [
    "## check structure if necessary\n",
    "\n",
    "my_states\n",
    "# my_params"
   ]
  },
  {
   "cell_type": "code",
   "execution_count": 5,
   "id": "6ff84e77-c9a3-4402-a45b-b25e269fbda1",
   "metadata": {},
   "outputs": [
    {
     "data": {
      "text/html": [
       "<table class=\"table table-hover table-striped table-sm table-responsive small\">\n",
       "    <tr>\n",
       "        <th>Measurement date</th>\n",
       "        \n",
       "        <td>Unknown</td>\n",
       "        \n",
       "    </tr>\n",
       "    <tr>\n",
       "        <th>Experimenter</th>\n",
       "        \n",
       "        <td>Unknown</td>\n",
       "        \n",
       "    </tr>\n",
       "        <th>Participant</th>\n",
       "        \n",
       "        <td>Unknown</td>\n",
       "        \n",
       "    </tr>\n",
       "    <tr>\n",
       "        <th>Digitized points</th>\n",
       "        \n",
       "        <td>Not available</td>\n",
       "        \n",
       "    </tr>\n",
       "    <tr>\n",
       "        <th>Good channels</th>\n",
       "        <td>256 sEEG</td>\n",
       "    </tr>\n",
       "    <tr>\n",
       "        <th>Bad channels</th>\n",
       "        <td>None</td>\n",
       "    </tr>\n",
       "    <tr>\n",
       "        <th>EOG channels</th>\n",
       "        <td>Not available</td>\n",
       "    </tr>\n",
       "    <tr>\n",
       "        <th>ECG channels</th>\n",
       "        <td>Not available</td>\n",
       "    \n",
       "    <tr>\n",
       "        <th>Sampling frequency</th>\n",
       "        <td>2000.00 Hz</td>\n",
       "    </tr>\n",
       "    \n",
       "    \n",
       "    <tr>\n",
       "        <th>Highpass</th>\n",
       "        <td>0.00 Hz</td>\n",
       "    </tr>\n",
       "    \n",
       "    \n",
       "    <tr>\n",
       "        <th>Lowpass</th>\n",
       "        <td>1000.00 Hz</td>\n",
       "    </tr>\n",
       "    \n",
       "    \n",
       "</table>"
      ],
      "text/plain": [
       "<Info | 7 non-empty values\n",
       " bads: []\n",
       " ch_names: AR1, AR2, AR3, AR4, REF1, REF2, AR5, AR6, BR1, BR2, BR3, BR4, ...\n",
       " chs: 256 sEEG\n",
       " custom_ref_applied: False\n",
       " highpass: 0.0 Hz\n",
       " lowpass: 1000.0 Hz\n",
       " meas_date: unspecified\n",
       " nchan: 256\n",
       " projs: []\n",
       " sfreq: 2000.0 Hz\n",
       ">"
      ]
     },
     "execution_count": 5,
     "metadata": {},
     "output_type": "execute_result"
    }
   ],
   "source": [
    "## create info field \n",
    "\n",
    "info = mne.create_info(ch_names = my_params['ChannelNames'],\n",
    "                       sfreq = my_params['SamplingRate'],\n",
    "                       ch_types = 'seeg')\n",
    "\n",
    "info"
   ]
  },
  {
   "cell_type": "code",
   "execution_count": 6,
   "id": "993a91bf-44b1-4719-8227-6a88900a2334",
   "metadata": {},
   "outputs": [
    {
     "name": "stdout",
     "output_type": "stream",
     "text": [
      "Creating RawArray with float64 data, n_channels=256, n_times=3081800\n",
      "    Range : 0 ... 3081799 =      0.000 ...  1540.899 secs\n",
      "Ready.\n"
     ]
    }
   ],
   "source": [
    "## create mne object\n",
    "mne_df = mne.io.RawArray(my_signals, info)"
   ]
  },
  {
   "cell_type": "code",
   "execution_count": 7,
   "id": "e985171d-2f06-44e2-9b8d-929ce4528eae",
   "metadata": {},
   "outputs": [
    {
     "name": "stdout",
     "output_type": "stream",
     "text": [
      "Creating RawArray with float64 data, n_channels=1, n_times=3081800\n",
      "    Range : 0 ... 3081799 =      0.000 ...  1540.899 secs\n",
      "Ready.\n"
     ]
    },
    {
     "data": {
      "text/html": [
       "<table class=\"table table-hover table-striped table-sm table-responsive small\">\n",
       "    <tr>\n",
       "        <th>Measurement date</th>\n",
       "        \n",
       "        <td>Unknown</td>\n",
       "        \n",
       "    </tr>\n",
       "    <tr>\n",
       "        <th>Experimenter</th>\n",
       "        \n",
       "        <td>Unknown</td>\n",
       "        \n",
       "    </tr>\n",
       "        <th>Participant</th>\n",
       "        \n",
       "        <td>Unknown</td>\n",
       "        \n",
       "    </tr>\n",
       "    <tr>\n",
       "        <th>Digitized points</th>\n",
       "        \n",
       "        <td>0 points</td>\n",
       "        \n",
       "    </tr>\n",
       "    <tr>\n",
       "        <th>Good channels</th>\n",
       "        <td>256 sEEG, 1 Stimulus</td>\n",
       "    </tr>\n",
       "    <tr>\n",
       "        <th>Bad channels</th>\n",
       "        <td>None</td>\n",
       "    </tr>\n",
       "    <tr>\n",
       "        <th>EOG channels</th>\n",
       "        <td>Not available</td>\n",
       "    </tr>\n",
       "    <tr>\n",
       "        <th>ECG channels</th>\n",
       "        <td>Not available</td>\n",
       "    \n",
       "    <tr>\n",
       "        <th>Sampling frequency</th>\n",
       "        <td>2000.00 Hz</td>\n",
       "    </tr>\n",
       "    \n",
       "    \n",
       "    <tr>\n",
       "        <th>Highpass</th>\n",
       "        <td>0.00 Hz</td>\n",
       "    </tr>\n",
       "    \n",
       "    \n",
       "    <tr>\n",
       "        <th>Lowpass</th>\n",
       "        <td>1000.00 Hz</td>\n",
       "    </tr>\n",
       "    \n",
       "    \n",
       "    \n",
       "    <tr>\n",
       "        <th>Duration</th>\n",
       "        <td>00:25:41 (HH:MM:SS)</td>\n",
       "    </tr>\n",
       "</table>"
      ],
      "text/plain": [
       "<RawArray | 257 x 3081800 (1540.9 s), ~5.90 GB, data loaded>"
      ]
     },
     "execution_count": 7,
     "metadata": {},
     "output_type": "execute_result"
    }
   ],
   "source": [
    "## create stim channel and add it to mne object\n",
    "\n",
    "info = mne.create_info(['STI'], my_params['SamplingRate'], ['stim'])\n",
    "stim_raw = mne.io.RawArray( my_states['Trial_on_off'], info)\n",
    "mne_df.add_channels([stim_raw], force_update_info=True)"
   ]
  },
  {
   "cell_type": "code",
   "execution_count": 8,
   "id": "cce19699-3b9d-46d7-a2eb-47bd73ccc655",
   "metadata": {},
   "outputs": [
    {
     "name": "stdout",
     "output_type": "stream",
     "text": [
      "Writing /home/brooke/pacman/raw_data/BJH030/ieeg/BJH030_raw_ieeg.fif\n",
      "Overwriting existing file.\n",
      "Writing /home/brooke/pacman/raw_data/BJH030/ieeg/BJH030_raw_ieeg-1.fif\n",
      "Closing /home/brooke/pacman/raw_data/BJH030/ieeg/BJH030_raw_ieeg-1.fif\n",
      "Closing /home/brooke/pacman/raw_data/BJH030/ieeg/BJH030_raw_ieeg.fif\n",
      "[done]\n"
     ]
    }
   ],
   "source": [
    "## save it\n",
    "\n",
    "mne_df.save(f\"{raw_data_dir}/{subject}_raw_ieeg.fif\", overwrite = False)"
   ]
  },
  {
   "cell_type": "code",
   "execution_count": null,
   "id": "d7c80ae5-0339-4241-a3b3-16c2d70fef50",
   "metadata": {},
   "outputs": [],
   "source": []
  }
 ],
 "metadata": {
  "kernelspec": {
   "display_name": "Python [conda env:anaconda3-ieeg_analysis]",
   "language": "python",
   "name": "conda-env-anaconda3-ieeg_analysis-py"
  },
  "language_info": {
   "codemirror_mode": {
    "name": "ipython",
    "version": 3
   },
   "file_extension": ".py",
   "mimetype": "text/x-python",
   "name": "python",
   "nbconvert_exporter": "python",
   "pygments_lexer": "ipython3",
   "version": "3.9.12"
  }
 },
 "nbformat": 4,
 "nbformat_minor": 5
}

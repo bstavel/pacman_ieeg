{
 "cells": [
  {
   "cell_type": "markdown",
   "id": "90e4cb3f-a515-4ab9-a4b5-253bea795894",
   "metadata": {},
   "source": [
    "## Conversion to fif: LL09\n",
    "\n",
    "This script takes the raw, original data file we recieved from WashU and converts it to a fif file with the photodiode as a new stim channel\n",
    "\n",
    "Just need to change fields in `prep_paths`"
   ]
  },
  {
   "cell_type": "code",
   "execution_count": 1,
   "id": "6870198c-4efe-4987-9f01-6704acbf3155",
   "metadata": {},
   "outputs": [],
   "source": [
    "import matplotlib.pyplot as plt\n",
    "import pandas as pd\n",
    "import numpy as np\n",
    "from scipy import signal, stats\n",
    "import mat73\n",
    "import re\n",
    "from neurodsp.timefrequency import compute_wavelet_transform\n",
    "from BCI2kReader import BCI2kReader as b2k\n",
    "import os\n",
    "import mne\n",
    "from tabulate import tabulate\n",
    "import IPython\n",
    "import seaborn as sns"
   ]
  },
  {
   "cell_type": "code",
   "execution_count": 2,
   "id": "3031e756-00c2-4689-80e9-ce6e0e88db2a",
   "metadata": {},
   "outputs": [],
   "source": [
    "## prep paths\n",
    "\n",
    "subject = 'LL09'\n",
    "orig_data_fi = '/home/brooke/knight_server/remote/ecog/DATA_FOLDER/Loma_Linda/LL09/Datafiles/DAY 3/Pacman/LL09001/LL09S001R03.dat'\n",
    "raw_data_dir = f\"/home/brooke/pacman/raw_data/subs/{subject}/ieeg\""
   ]
  },
  {
   "cell_type": "code",
   "execution_count": 3,
   "id": "9c4152dc-5c1b-45b1-b593-83d7136dacfa",
   "metadata": {},
   "outputs": [
    {
     "name": "stderr",
     "output_type": "stream",
     "text": [
      "WARNING: failed to interpret \"auto\" as type int in parameter \"VisualizeSourceDecimation\"\n",
      "WARNING: failed to interpret \"auto\" as type int in parameter \"VisualizeSourceBufferSize\"\n",
      "WARNING: failed to interpret \"auto\" as type int in parameter \"SourceMin\"\n",
      "WARNING: failed to interpret \"auto\" as type int in parameter \"SourceMax\"\n"
     ]
    }
   ],
   "source": [
    "## load data\n",
    "\n",
    "with b2k.BCI2kReader(orig_data_fi) as data: #opens a stream to the dat file\n",
    "    my_signals = data.signals\n",
    "    my_states = data.states\n",
    "    my_params = data.parameters"
   ]
  },
  {
   "cell_type": "code",
   "execution_count": 6,
   "id": "f8d3bf84-5c84-4f0c-ad59-88af2511c8a7",
   "metadata": {},
   "outputs": [],
   "source": [
    "# my_params"
   ]
  },
  {
   "cell_type": "code",
   "execution_count": 9,
   "id": "80ed97c9-ad15-4d3a-af62-b6a5176afbfe",
   "metadata": {},
   "outputs": [
    {
     "data": {
      "text/plain": [
       "34540"
      ]
     },
     "execution_count": 9,
     "metadata": {},
     "output_type": "execute_result"
    }
   ],
   "source": [
    "## check structure if necessary\n",
    "\n",
    "len(my_states['Trial_on_off'][0])\n",
    "# my_params"
   ]
  },
  {
   "cell_type": "code",
   "execution_count": 7,
   "id": "1f2f563c-dbe6-4396-94bd-a4ecca55c273",
   "metadata": {},
   "outputs": [
    {
     "data": {
      "text/plain": [
       "33.0859375"
      ]
     },
     "execution_count": 7,
     "metadata": {},
     "output_type": "execute_result"
    }
   ],
   "source": [
    "len(my_states['Trial_on_off'][0])/512"
   ]
  },
  {
   "cell_type": "code",
   "execution_count": 10,
   "id": "e21a7e28-6bd4-450c-8018-7c630bc413ba",
   "metadata": {},
   "outputs": [
    {
     "data": {
      "text/plain": [
       "67.4609375"
      ]
     },
     "execution_count": 10,
     "metadata": {},
     "output_type": "execute_result"
    }
   ],
   "source": [
    "34540/512"
   ]
  },
  {
   "cell_type": "code",
   "execution_count": null,
   "id": "209eed59-0e0f-43e7-934a-533cdbf56571",
   "metadata": {},
   "outputs": [],
   "source": [
    "## create info field \n",
    "\n",
    "info = mne.create_info(ch_names = my_params['ChannelNames'],\n",
    "                       sfreq = my_params['SamplingRate'],\n",
    "                       ch_types = 'seeg')\n",
    "\n",
    "info"
   ]
  },
  {
   "cell_type": "code",
   "execution_count": null,
   "id": "36eb0fc0-6884-4a5b-bcd4-7fafdfc452e2",
   "metadata": {},
   "outputs": [],
   "source": [
    "## create mne object\n",
    "mne_df = mne.io.RawArray(my_signals, info)"
   ]
  },
  {
   "cell_type": "code",
   "execution_count": null,
   "id": "1fb9abd6-d657-4340-99e9-42680eb7a978",
   "metadata": {},
   "outputs": [],
   "source": [
    "## create stim channel and add it to mne object\n",
    "\n",
    "info = mne.create_info(['STI'], my_params['SamplingRate'], ['stim'])\n",
    "stim_raw = mne.io.RawArray( my_states['Trial_on_off'], info)\n",
    "mne_df.add_channels([stim_raw], force_update_info=True)"
   ]
  },
  {
   "cell_type": "code",
   "execution_count": null,
   "id": "943cfd54-6292-4a7e-89b0-f3ec378a01cf",
   "metadata": {},
   "outputs": [],
   "source": [
    "## save it\n",
    "\n",
    "filtered_notch_data.save(f\"{raw_data_dir}/{subject}_raw_ieeg.fif\", overwrite = False)"
   ]
  }
 ],
 "metadata": {
  "kernelspec": {
   "display_name": "Python [conda env:ieeg_analysis] *",
   "language": "python",
   "name": "conda-env-ieeg_analysis-py"
  },
  "language_info": {
   "codemirror_mode": {
    "name": "ipython",
    "version": 3
   },
   "file_extension": ".py",
   "mimetype": "text/x-python",
   "name": "python",
   "nbconvert_exporter": "python",
   "pygments_lexer": "ipython3",
   "version": "3.9.12"
  }
 },
 "nbformat": 4,
 "nbformat_minor": 5
}

{
 "cells": [
  {
   "cell_type": "markdown",
   "id": "1dde1236-abaf-40af-8af3-97742d564328",
   "metadata": {},
   "source": [
    "## Conversion to fif: BJH049\n",
    "\n",
    "This script takes the raw, original data file we recieved from WashU and converts it to a fif file with the photodiode as a new stim channel\n",
    "\n",
    "\n",
    "Just need to change fields in `prep_paths`"
   ]
  },
  {
   "cell_type": "code",
   "execution_count": 1,
   "id": "30b1b892-6de7-490a-9015-15e96664db57",
   "metadata": {},
   "outputs": [],
   "source": [
    "import matplotlib.pyplot as plt\n",
    "import pandas as pd\n",
    "import numpy as np\n",
    "from scipy import signal, stats\n",
    "#import mat73\n",
    "import re\n",
    "#from neurodsp.timefrequency import compute_wavelet_transform\n",
    "from BCI2kReader import BCI2kReader as b2k\n",
    "import os\n",
    "import mne\n",
    "#from tabulate import tabulate\n",
    "import IPython\n",
    "import seaborn as sns"
   ]
  },
  {
   "cell_type": "code",
   "execution_count": 2,
   "id": "cdd12f2e-0d9e-4fe7-9f99-59d7b021a2a6",
   "metadata": {},
   "outputs": [],
   "source": [
    "## prep paths\n",
    "\n",
    "subject = 'BJH049'\n",
    "orig_data_fi = '/home/knight/WashU/data/PacmanTask/BJH049/PacmanTask/ECOG001/ECOGS001R01.dat'\n",
    "raw_data_dir = f\"/home/knight/barbarab/pacman_ieeg/raw_data/{subject}/ieeg\""
   ]
  },
  {
   "cell_type": "code",
   "execution_count": 3,
   "id": "b4d0fe3c-ceed-4b91-9356-ac164eb47f79",
   "metadata": {},
   "outputs": [
    {
     "name": "stderr",
     "output_type": "stream",
     "text": [
      "WARNING: failed to interpret \"../batch.secondary.blackrock/BlackrockStartup.bat\" as type int in parameter \"SecondaryBCI2000StartupScript\"\n",
      "WARNING: failed to interpret \"auto\" as type int in parameter \"SourceMax\"\n",
      "WARNING: failed to interpret \"auto\" as type int in parameter \"SourceMin\"\n",
      "WARNING: failed to interpret \"auto\" as type int in parameter \"VisualizeSourceBufferSize\"\n",
      "WARNING: failed to interpret \"auto\" as type int in parameter \"VisualizeSourceDecimation\"\n"
     ]
    }
   ],
   "source": [
    "## load data\n",
    "\n",
    "with b2k.BCI2kReader(orig_data_fi) as data: #opens a stream to the dat file\n",
    "    my_signals = data.signals\n",
    "    my_states = data.states\n",
    "    my_params = data.parameters"
   ]
  },
  {
   "cell_type": "code",
   "execution_count": null,
   "id": "b70a8ed4-0317-4216-bca3-9b4eeb238400",
   "metadata": {},
   "outputs": [],
   "source": [
    "## check structure if necessary\n",
    "\n",
    "# my_states\n",
    "# my_params"
   ]
  },
  {
   "cell_type": "code",
   "execution_count": 4,
   "id": "6ff84e77-c9a3-4402-a45b-b25e269fbda1",
   "metadata": {},
   "outputs": [
    {
     "data": {
      "text/html": [
       "<details open>\n",
       "    <summary><strong>General</strong></summary>\n",
       "    <table class=\"table table-hover table-striped table-sm table-responsive small\">\n",
       "        <tr>\n",
       "            <th>Measurement date</th>\n",
       "            \n",
       "            <td>Unknown</td>\n",
       "            \n",
       "        </tr>\n",
       "        <tr>\n",
       "            <th>Experimenter</th>\n",
       "            \n",
       "            <td>Unknown</td>\n",
       "            \n",
       "        </tr>\n",
       "        <tr>\n",
       "            <th>Participant</th>\n",
       "            \n",
       "            <td>Unknown</td>\n",
       "            \n",
       "        </tr>\n",
       "    </table>\n",
       "    </details>\n",
       "    <details open>\n",
       "        <summary><strong>Channels</strong></summary>\n",
       "        <table class=\"table table-hover table-striped table-sm table-responsive small\">\n",
       "            <tr>\n",
       "                <th>Digitized points</th>\n",
       "                \n",
       "                <td>Not available</td>\n",
       "                \n",
       "            </tr>\n",
       "            <tr>\n",
       "                <th>Good channels</th>\n",
       "                <td>256 sEEG</td>\n",
       "            </tr>\n",
       "            <tr>\n",
       "                <th>Bad channels</th>\n",
       "                <td>None</td>\n",
       "            </tr>\n",
       "            <tr>\n",
       "                <th>EOG channels</th>\n",
       "                <td>Not available</td>\n",
       "            </tr>\n",
       "            <tr>\n",
       "                <th>ECG channels</th>\n",
       "                <td>Not available</td>\n",
       "            </tr>\n",
       "        </table>\n",
       "        </details>\n",
       "        <details open>\n",
       "            <summary><strong>Data</strong></summary>\n",
       "            <table class=\"table table-hover table-striped table-sm table-responsive small\">\n",
       "                \n",
       "                <tr>\n",
       "                    <th>Sampling frequency</th>\n",
       "                    <td>2000.00 Hz</td>\n",
       "                </tr>\n",
       "                \n",
       "                \n",
       "                <tr>\n",
       "                    <th>Highpass</th>\n",
       "                    <td>0.00 Hz</td>\n",
       "                </tr>\n",
       "                \n",
       "                \n",
       "                <tr>\n",
       "                    <th>Lowpass</th>\n",
       "                    <td>1000.00 Hz</td>\n",
       "                </tr>\n",
       "                \n",
       "                \n",
       "                \n",
       "                \n",
       "            </table>\n",
       "            </details>"
      ],
      "text/plain": [
       "<Info | 7 non-empty values\n",
       " bads: []\n",
       " ch_names: AR1, AR2, AR3, AR4, REF1, REF2, AR5, AR6, AR7, AR8, AR9, AR10, ...\n",
       " chs: 256 sEEG\n",
       " custom_ref_applied: False\n",
       " highpass: 0.0 Hz\n",
       " lowpass: 1000.0 Hz\n",
       " meas_date: unspecified\n",
       " nchan: 256\n",
       " projs: []\n",
       " sfreq: 2000.0 Hz\n",
       ">"
      ]
     },
     "execution_count": 4,
     "metadata": {},
     "output_type": "execute_result"
    }
   ],
   "source": [
    "## create info field \n",
    "\n",
    "info = mne.create_info(ch_names = my_params['ChannelNames'],\n",
    "                       sfreq = my_params['SamplingRate'],\n",
    "                       ch_types = 'seeg')\n",
    "\n",
    "info"
   ]
  },
  {
   "cell_type": "code",
   "execution_count": 5,
   "id": "993a91bf-44b1-4719-8227-6a88900a2334",
   "metadata": {},
   "outputs": [
    {
     "name": "stdout",
     "output_type": "stream",
     "text": [
      "Creating RawArray with float64 data, n_channels=256, n_times=3354400\n",
      "    Range : 0 ... 3354399 =      0.000 ...  1677.199 secs\n",
      "Ready.\n"
     ]
    }
   ],
   "source": [
    "## create mne object\n",
    "mne_df = mne.io.RawArray(my_signals, info)"
   ]
  },
  {
   "cell_type": "code",
   "execution_count": 6,
   "id": "e985171d-2f06-44e2-9b8d-929ce4528eae",
   "metadata": {},
   "outputs": [
    {
     "name": "stdout",
     "output_type": "stream",
     "text": [
      "Creating RawArray with float64 data, n_channels=1, n_times=3354400\n",
      "    Range : 0 ... 3354399 =      0.000 ...  1677.199 secs\n",
      "Ready.\n"
     ]
    },
    {
     "data": {
      "text/html": [
       "<details open>\n",
       "    <summary><strong>General</strong></summary>\n",
       "    <table class=\"table table-hover table-striped table-sm table-responsive small\">\n",
       "        <tr>\n",
       "            <th>Measurement date</th>\n",
       "            \n",
       "            <td>Unknown</td>\n",
       "            \n",
       "        </tr>\n",
       "        <tr>\n",
       "            <th>Experimenter</th>\n",
       "            \n",
       "            <td>Unknown</td>\n",
       "            \n",
       "        </tr>\n",
       "        <tr>\n",
       "            <th>Participant</th>\n",
       "            \n",
       "            <td>Unknown</td>\n",
       "            \n",
       "        </tr>\n",
       "    </table>\n",
       "    </details>\n",
       "    <details open>\n",
       "        <summary><strong>Channels</strong></summary>\n",
       "        <table class=\"table table-hover table-striped table-sm table-responsive small\">\n",
       "            <tr>\n",
       "                <th>Digitized points</th>\n",
       "                \n",
       "                <td>0 points</td>\n",
       "                \n",
       "            </tr>\n",
       "            <tr>\n",
       "                <th>Good channels</th>\n",
       "                <td>256 sEEG, 1 Stimulus</td>\n",
       "            </tr>\n",
       "            <tr>\n",
       "                <th>Bad channels</th>\n",
       "                <td>None</td>\n",
       "            </tr>\n",
       "            <tr>\n",
       "                <th>EOG channels</th>\n",
       "                <td>Not available</td>\n",
       "            </tr>\n",
       "            <tr>\n",
       "                <th>ECG channels</th>\n",
       "                <td>Not available</td>\n",
       "            </tr>\n",
       "        </table>\n",
       "        </details>\n",
       "        <details open>\n",
       "            <summary><strong>Data</strong></summary>\n",
       "            <table class=\"table table-hover table-striped table-sm table-responsive small\">\n",
       "                \n",
       "                <tr>\n",
       "                    <th>Sampling frequency</th>\n",
       "                    <td>2000.00 Hz</td>\n",
       "                </tr>\n",
       "                \n",
       "                \n",
       "                <tr>\n",
       "                    <th>Highpass</th>\n",
       "                    <td>0.00 Hz</td>\n",
       "                </tr>\n",
       "                \n",
       "                \n",
       "                <tr>\n",
       "                    <th>Lowpass</th>\n",
       "                    <td>1000.00 Hz</td>\n",
       "                </tr>\n",
       "                \n",
       "                \n",
       "                \n",
       "                \n",
       "                <tr>\n",
       "                    <th>Duration</th>\n",
       "                    <td>00:27:58 (HH:MM:SS)</td>\n",
       "                </tr>\n",
       "                \n",
       "            </table>\n",
       "            </details>"
      ],
      "text/plain": [
       "<RawArray | 257 x 3354400 (1677.2 s), ~6.42 GB, data loaded>"
      ]
     },
     "execution_count": 6,
     "metadata": {},
     "output_type": "execute_result"
    }
   ],
   "source": [
    "## create stim channel and add it to mne object\n",
    "\n",
    "info = mne.create_info(['STI'], my_params['SamplingRate'], ['stim'])\n",
    "stim_raw = mne.io.RawArray( my_states['Trial_on_off'], info)\n",
    "mne_df.add_channels([stim_raw], force_update_info=True)"
   ]
  },
  {
   "cell_type": "code",
   "execution_count": 7,
   "id": "cce19699-3b9d-46d7-a2eb-47bd73ccc655",
   "metadata": {},
   "outputs": [
    {
     "name": "stdout",
     "output_type": "stream",
     "text": [
      "Writing /home/knight/barbarab/pacman_ieeg/raw_data/BJH049/ieeg/BJH049_raw_ieeg.fif\n",
      "Closing /home/knight/barbarab/pacman_ieeg/raw_data/BJH049/ieeg/BJH049_raw_ieeg.fif\n",
      "Writing /home/knight/barbarab/pacman_ieeg/raw_data/BJH049/ieeg/BJH049_raw_ieeg-1.fif\n",
      "Closing /home/knight/barbarab/pacman_ieeg/raw_data/BJH049/ieeg/BJH049_raw_ieeg-1.fif\n",
      "[done]\n"
     ]
    }
   ],
   "source": [
    "## save it\n",
    "\n",
    "mne_df.save(f\"{raw_data_dir}/{subject}_raw_ieeg.fif\", overwrite = False)"
   ]
  },
  {
   "cell_type": "code",
   "execution_count": null,
   "id": "564ab836",
   "metadata": {},
   "outputs": [],
   "source": []
  }
 ],
 "metadata": {
  "kernelspec": {
   "display_name": "ieeg_cleaning",
   "language": "python",
   "name": "python3"
  },
  "language_info": {
   "codemirror_mode": {
    "name": "ipython",
    "version": 3
   },
   "file_extension": ".py",
   "mimetype": "text/x-python",
   "name": "python",
   "nbconvert_exporter": "python",
   "pygments_lexer": "ipython3",
   "version": "3.11.8"
  }
 },
 "nbformat": 4,
 "nbformat_minor": 5
}

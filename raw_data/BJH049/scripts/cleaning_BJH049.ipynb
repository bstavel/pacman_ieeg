{
 "cells": [
  {
   "cell_type": "markdown",
   "id": "be523407-5360-4092-9545-0b91c5c6401f",
   "metadata": {},
   "source": [
    "# Cleaning: BJH049\n",
    "\n",
    "\n",
    "This script cleans the data both by abnormal trials and by noisy channels and epileptic activity. \n"
   ]
  },
  {
   "cell_type": "markdown",
   "id": "12d83091-835b-465f-bbe0-6fd1cdacc8b9",
   "metadata": {},
   "source": [
    "### Prep"
   ]
  },
  {
   "cell_type": "code",
   "execution_count": 1,
   "id": "a3785b84-4aaa-4461-a37e-b51a7c1c7913",
   "metadata": {},
   "outputs": [],
   "source": [
    "import matplotlib\n",
    "matplotlib.use(\"Qt5Agg\")\n",
    "import matplotlib.pyplot as plt\n",
    "import pandas as pd\n",
    "import numpy as np\n",
    "from scipy import signal, stats\n",
    "#import mat73\n",
    "import re\n",
    "#from neurodsp.timefrequency import compute_wavelet_transform\n",
    "from BCI2kReader import BCI2kReader as b2k\n",
    "import os\n",
    "import mne\n",
    "#from tabulate import tabulate\n",
    "import IPython\n",
    "import seaborn as sns"
   ]
  },
  {
   "cell_type": "code",
   "execution_count": 2,
   "id": "1aff0958-6a4e-4e42-b7a6-80d00e5f63f3",
   "metadata": {},
   "outputs": [],
   "source": [
    "#matplotlib qt5"
   ]
  },
  {
   "cell_type": "code",
   "execution_count": 2,
   "id": "639733c6-a51d-4ba2-b0bc-64689a345199",
   "metadata": {},
   "outputs": [],
   "source": [
    "# helper functions#\n",
    "\n",
    "def rle(inarray):\n",
    "        \"\"\" run length encoding. Partial credit to R rle function. \n",
    "            Multi datatype arrays catered for including non Numpy\n",
    "            returns: tuple (runlengths, startpositions, values) \"\"\"\n",
    "        ia = np.asarray(inarray)                # force numpy\n",
    "        n = len(ia)\n",
    "        if n == 0: \n",
    "            return (None, None, None)\n",
    "        else:\n",
    "            y = ia[1:] != ia[:-1]               # pairwise unequal (string safe)\n",
    "            i = np.append(np.where(y), n - 1)   # must include last element posi\n",
    "            z = np.diff(np.append(-1, i))       # run lengths\n",
    "            p = np.cumsum(np.append(0, z))[:-1] # positions\n",
    "            return(z, p, ia[i])\n",
    "        \n",
    "def find_bad_trial_times(idx, srate, trial_begins, trial_lengths):\n",
    "    ''' takes and index of trial lengths, beginnings and the sampling rate and returns the the start time and and\n",
    "    duration of the times to annotae as BAD '''\n",
    "    start_time = trial_begins[0][idx]/srate\n",
    "    duration = trial_lengths[0][idx]/srate\n",
    "    \n",
    "    return start_time, duration        "
   ]
  },
  {
   "cell_type": "code",
   "execution_count": 3,
   "id": "2794e660-c449-4c7a-968f-87124f1044ea",
   "metadata": {},
   "outputs": [],
   "source": [
    "## Prep paths ##\n",
    "\n",
    "subject = 'BJH049'\n",
    "raw_data_dir = f\"/home/knight/barbarab/pacman_ieeg/raw_data/{subject}/ieeg\"\n",
    "preproc_data_dir = f\"/home/knight/barbarab/pacman_ieeg/preprocessing/{subject}/ieeg\""
   ]
  },
  {
   "cell_type": "code",
   "execution_count": 4,
   "id": "6e0deb60-8aca-4c57-a879-9fb9fb6d1d8e",
   "metadata": {},
   "outputs": [
    {
     "name": "stdout",
     "output_type": "stream",
     "text": [
      "Opening raw data file /home/knight/barbarab/pacman_ieeg/raw_data/BJH049/ieeg/BJH049_raw_ieeg.fif...\n",
      "    Range : 0 ... 2085999 =      0.000 ...  1042.999 secs\n",
      "Ready.\n",
      "Opening raw data file /home/knight/barbarab/pacman_ieeg/raw_data/BJH049/ieeg/BJH049_raw_ieeg-1.fif...\n",
      "    Range : 2086000 ... 3354399 =   1043.000 ...  1677.199 secs\n",
      "Ready.\n"
     ]
    }
   ],
   "source": [
    "## Load Data ##\n",
    "\n",
    "raw_fif = mne.io.Raw(f\"{raw_data_dir}/{subject}_raw_ieeg.fif\")"
   ]
  },
  {
   "cell_type": "code",
   "execution_count": 5,
   "id": "22556d7c-0c0b-40fc-82b1-777357649e6e",
   "metadata": {},
   "outputs": [
    {
     "name": "stdout",
     "output_type": "stream",
     "text": [
      "Reading 0 ... 3354399  =      0.000 ...  1677.199 secs...\n",
      "Filtering raw data in 1 contiguous segment\n",
      "Setting up band-pass filter from 1 - 1.5e+02 Hz\n",
      "\n",
      "FIR filter parameters\n",
      "---------------------\n",
      "Designing a one-pass, zero-phase, non-causal bandpass filter:\n",
      "- Windowed time-domain design (firwin) method\n",
      "- Hamming window with 0.0194 passband ripple and 53 dB stopband attenuation\n",
      "- Lower passband edge: 1.00\n",
      "- Lower transition bandwidth: 1.00 Hz (-6 dB cutoff frequency: 0.50 Hz)\n",
      "- Upper passband edge: 150.00 Hz\n",
      "- Upper transition bandwidth: 37.50 Hz (-6 dB cutoff frequency: 168.75 Hz)\n",
      "- Filter length: 6601 samples (3.300 s)\n",
      "\n"
     ]
    },
    {
     "name": "stderr",
     "output_type": "stream",
     "text": [
      "[Parallel(n_jobs=1)]: Done  17 tasks      | elapsed:    4.6s\n",
      "[Parallel(n_jobs=1)]: Done  71 tasks      | elapsed:   20.7s\n",
      "[Parallel(n_jobs=1)]: Done 161 tasks      | elapsed:   48.0s\n"
     ]
    },
    {
     "name": "stdout",
     "output_type": "stream",
     "text": [
      "Filtering raw data in 1 contiguous segment\n",
      "Setting up band-stop filter\n",
      "\n",
      "FIR filter parameters\n",
      "---------------------\n",
      "Designing a one-pass, zero-phase, non-causal bandstop filter:\n",
      "- Windowed time-domain design (firwin) method\n",
      "- Hamming window with 0.0194 passband ripple and 53 dB stopband attenuation\n",
      "- Lower transition bandwidth: 0.50 Hz\n",
      "- Upper transition bandwidth: 0.50 Hz\n",
      "- Filter length: 13201 samples (6.601 s)\n",
      "\n"
     ]
    },
    {
     "name": "stderr",
     "output_type": "stream",
     "text": [
      "[Parallel(n_jobs=1)]: Done  17 tasks      | elapsed:    3.4s\n",
      "[Parallel(n_jobs=1)]: Done  71 tasks      | elapsed:   14.2s\n",
      "[Parallel(n_jobs=1)]: Done 161 tasks      | elapsed:   32.1s\n"
     ]
    }
   ],
   "source": [
    "## Filtering ##\n",
    "\n",
    "# load data #\n",
    "raw_fif.load_data()\n",
    "\n",
    "# highpass filter @ 1 and lowpass @ 200 #\n",
    "filtered_data = raw_fif.filter(l_freq=1, h_freq=150) # skip this step for TF analysis, always do this on the least processed data, or do .1 to 250\n",
    "\n",
    "# remove 60hz line noise #\n",
    "freqs = (60, 120, 180, 240)\n",
    "filtered_notch_data = filtered_data.notch_filter(freqs=freqs) \n"
   ]
  },
  {
   "cell_type": "code",
   "execution_count": 6,
   "id": "06a738f0-dbc3-4e9b-807c-d21e8eb4fd28",
   "metadata": {},
   "outputs": [
    {
     "name": "stdout",
     "output_type": "stream",
     "text": [
      "Overwriting existing file.\n",
      "Writing /home/knight/barbarab/pacman_ieeg/raw_data/BJH049/ieeg/BJH049_notched_filtered_ieeg.fif\n",
      "Closing /home/knight/barbarab/pacman_ieeg/raw_data/BJH049/ieeg/BJH049_notched_filtered_ieeg.fif\n",
      "Overwriting existing file.\n",
      "Writing /home/knight/barbarab/pacman_ieeg/raw_data/BJH049/ieeg/BJH049_notched_filtered_ieeg-1.fif\n",
      "Closing /home/knight/barbarab/pacman_ieeg/raw_data/BJH049/ieeg/BJH049_notched_filtered_ieeg-1.fif\n",
      "[done]\n",
      "Opening raw data file /home/knight/barbarab/pacman_ieeg/raw_data/BJH049/ieeg/BJH049_notched_filtered_ieeg.fif...\n",
      "    Range : 0 ... 2085999 =      0.000 ...  1042.999 secs\n",
      "Ready.\n",
      "Opening raw data file /home/knight/barbarab/pacman_ieeg/raw_data/BJH049/ieeg/BJH049_notched_filtered_ieeg-1.fif...\n",
      "    Range : 2086000 ... 3354399 =   1043.000 ...  1677.199 secs\n",
      "Ready.\n",
      "480 events found on stim channel STI\n",
      "Event IDs: [0 1]\n"
     ]
    }
   ],
   "source": [
    "## Load/Save Filtered Data ##\n",
    "\n",
    "# save #\n",
    "filtered_notch_data.save(f\"{raw_data_dir}/{subject}_notched_filtered_ieeg.fif\", overwrite = True)\n",
    "\n",
    "# load #\n",
    "filtered_notch_data = mne.io.Raw(f\"{raw_data_dir}/{subject}_notched_filtered_ieeg.fif\")\n",
    "events = mne.find_events(filtered_notch_data, output='step', consecutive = False, stim_channel='STI')"
   ]
  },
  {
   "cell_type": "code",
   "execution_count": 7,
   "id": "c262fbb5-6908-4a46-b03c-d815dbe2dc0d",
   "metadata": {},
   "outputs": [
    {
     "name": "stdout",
     "output_type": "stream",
     "text": [
      "[' AR1', 'AR2', 'AR3', 'AR4', 'REF1', 'REF2', 'AR5', 'AR6', 'AR7', 'AR8', 'AR9', 'AR10', 'AR11', 'AR12', 'AR13', 'AR14', 'AR15', 'BR1', 'BR2', 'BR3', 'BR4', 'BR5', 'BR6', 'BR7', 'BR8', 'CR1', 'CR2', 'CR3', 'CR4', 'CR5', 'CR6', 'CR7', 'CR8', 'CR9', 'CR10', 'CR11', 'CR12', 'DR1', 'DR2', 'DR3', 'DR4', 'DR5', 'DR6', 'DR7', 'DR8', 'ER1', 'ER2', 'ER3', 'ER4', 'ER5', 'ER6', 'ER7', 'ER8', 'FR1', 'FR2', 'FR3', 'FR4', 'FR5', 'FR6', 'FR7', 'FR8', 'FR9', 'FR10', 'FR11', 'FR12', 'GR1', 'GR2', 'GR3', 'GR4', 'GR5', 'GR6', 'GR7', 'GR8', 'HR1', 'HR2', 'HR3', 'HR4', 'HR5', 'HR6', 'HR7', 'HR8', 'HR9', 'HR10', 'HR11', 'HR12', 'HR13', 'HR14', 'HR15', 'IR1', 'IR2', 'IR3', 'IR4', 'IR5', 'IR6', 'IR7', 'IR8', 'IR9', 'IR10', 'JR1', 'JR2', 'JR3', 'JR4', 'JR5', 'JR6', 'JR7', 'JR8', 'JR9', 'JR10', 'JR11', 'JR12', 'JR13', 'JR14', 'JR15', 'JR16', 'JR17', 'JR18', 'KR1', 'KR2', 'KR3', 'KR4', 'KR5', 'KR6', 'KR7', 'KR8', 'KR9', 'KR10', 'LR1', 'LR2', 'LR3', 'LR4', 'LR5', 'LR6', 'LR7', 'LR8', 'LR9', 'LR10', 'LR11', 'LR12', 'LR13', 'LR14', 'LR15', 'LR16', 'LR17', 'LR18', 'AL1', 'AL2', 'AL3', 'AL4', 'AL5', 'AL6', 'AL7', 'AL8', 'AL9', 'AL10', 'AL11', 'AL12', 'AL13', 'AL14', 'AL15', 'BL1', 'BL2', 'BL3', 'BL4', 'BL5', 'BL6', 'BL7', 'BL8', 'BL9', 'BL10', 'BL11', 'BL12', 'BL13', 'BL14', 'BL15', 'DL1', 'DL2', 'DL3', 'DL4', 'DL5', 'DL6', 'DL7', 'DL8', 'DL9', 'DL10', 'EMPTY', 'EMPTY_186', 'EMPTY_187', 'EMPTY_188', 'EMPTY_189', 'EMPTY_190', 'EMPTY_191', 'EMPTY_192', 'EMPTY_193', 'EMPTY_194', 'EMPTY_195', 'EMPTY_196', 'EMPTY_197', 'EMPTY_198', 'EMPTY_199', 'EMPTY_200', 'EMPTY_201', 'EMPTY_202', 'EMPTY_203', 'EMPTY_204', 'EMPTY_205', 'EMPTY_206', 'EMPTY_207', 'EMPTY_208', 'EMPTY_209', 'EMPTY_210', 'EMPTY_211', 'EMPTY_212', 'EMPTY_213', 'EMPTY_214', 'EMPTY_215', 'EMPTY_216', 'EMPTY_217', 'EMPTY_218', 'EMPTY_219', 'EMPTY_220', 'EMPTY_221', 'EMPTY_222', 'EMPTY_223', 'EMPTY_224', 'EMPTY_225', 'EMPTY_226', 'EMPTY_227', 'EMPTY_228', 'EMPTY_229', 'EMPTY_230', 'EMPTY_231', 'FP1', 'F3', 'C3', 'P3', 'O1', 'FP2', 'F4', 'C4', 'P4', 'O2', 'F7', 'T7', 'P7', 'F8', 'T8', 'P8', 'F9', 'F10', 'FPZ', 'FZ', 'CZ', 'PZ', 'OZ', 'EKG1', 'EKG2', 'STI']\n"
     ]
    }
   ],
   "source": [
    "filtered_notch_data.info['ch_names']\n",
    "print(raw_fif.info['ch_names'])\n"
   ]
  },
  {
   "cell_type": "markdown",
   "id": "1d1ab3dc-a3c3-4eab-bb46-9c5a7e517b9d",
   "metadata": {
    "tags": []
   },
   "source": [
    "## Cleaning Neural Data: BJH049\n",
    "\n",
    "DID NOT USE -- TOO MESSY\n",
    "\n",
    "#### Bad Channels\n",
    "\n",
    "Epileptic channels from my cleaning:\n",
    "\n",
    "Noisy channels:['BL1','BL2','BL3','BL4','BL5','BL14','BL15',' AR1','AR2','AR3','AR4','BR1','BR2','BR3','BR8','ER1','ER2','ER3','ER4','ER5','ER6','ER7','ER8','CR1','CR2','CR3','CR4','CR7','CR8','CR9','CR10','CR11','DR1','DR2','DR3','DR4','DR5','DR6','DR7','DR8','HR1','HR2','HR3','HR4','HR5','HR6','HR7','HR8','IR1','KR1','KR2']\n"
   ]
  },
  {
   "cell_type": "code",
   "execution_count": 15,
   "id": "7d0a4343-948a-4654-bc8f-db9c42ded9bb",
   "metadata": {},
   "outputs": [
    {
     "data": {
      "text/html": [
       "<details open>\n",
       "    <summary><strong>General</strong></summary>\n",
       "    <table class=\"table table-hover table-striped table-sm table-responsive small\">\n",
       "        <tr>\n",
       "            <th>Measurement date</th>\n",
       "            \n",
       "            <td>Unknown</td>\n",
       "            \n",
       "        </tr>\n",
       "        <tr>\n",
       "            <th>Experimenter</th>\n",
       "            \n",
       "            <td>Unknown</td>\n",
       "            \n",
       "        </tr>\n",
       "        <tr>\n",
       "            <th>Participant</th>\n",
       "            \n",
       "            <td>Unknown</td>\n",
       "            \n",
       "        </tr>\n",
       "    </table>\n",
       "    </details>\n",
       "    <details open>\n",
       "        <summary><strong>Channels</strong></summary>\n",
       "        <table class=\"table table-hover table-striped table-sm table-responsive small\">\n",
       "            <tr>\n",
       "                <th>Digitized points</th>\n",
       "                \n",
       "                <td>0 points</td>\n",
       "                \n",
       "            </tr>\n",
       "            <tr>\n",
       "                <th>Good channels</th>\n",
       "                <td>131 sEEG, 1 Stimulus</td>\n",
       "            </tr>\n",
       "            <tr>\n",
       "                <th>Bad channels</th>\n",
       "                <td>REF1, REF2, EMPTY, EMPTY_186, EMPTY_187, EMPTY_188, EMPTY_189, EMPTY_190, EMPTY_191, EMPTY_192, EMPTY_193, EMPTY_194, EMPTY_195, EMPTY_196, EMPTY_197, EMPTY_198, EMPTY_199, EMPTY_200, EMPTY_201, EMPTY_202, EMPTY_203, EMPTY_204, EMPTY_205, EMPTY_206, EMPTY_207, EMPTY_208, EMPTY_209, EMPTY_210, EMPTY_211, EMPTY_212, EMPTY_213, EMPTY_214, EMPTY_215, EMPTY_216, EMPTY_217, EMPTY_218, EMPTY_219, EMPTY_220, EMPTY_221, EMPTY_222, EMPTY_223, EMPTY_224, EMPTY_225, EMPTY_226, EMPTY_227, EMPTY_228, EMPTY_229, EMPTY_230, EMPTY_231, EKG1, EKG2, BL1, BL2, BL3, BL4, BL5, BL14, BL15,  AR1, AR2, AR3, AR4, BR3, BR8, FP1, F3, C3, P3, O1, FP2, F4, C4, P4, O2, F7, T7, P7, F8, T8, P8, F9, F10, FPZ, FZ, CZ, PZ, OZ, REF1, REF2, EMPTY, EMPTY_186, EMPTY_187, EMPTY_188, EMPTY_189, EMPTY_190, EMPTY_191, EMPTY_192, EMPTY_193, EMPTY_194, EMPTY_195, EMPTY_196, EMPTY_197, EMPTY_198, EMPTY_199, EMPTY_200, EMPTY_201, EMPTY_202, EMPTY_203, EMPTY_204, EMPTY_205, EMPTY_206, EMPTY_207, EMPTY_208, EMPTY_209, EMPTY_210, EMPTY_211, EMPTY_212, EMPTY_213, EMPTY_214, EMPTY_215, EMPTY_216, EMPTY_217, EMPTY_218, EMPTY_219, EMPTY_220, EMPTY_221, EMPTY_222, EMPTY_223, EMPTY_224, EMPTY_225, EMPTY_226, EMPTY_227, EMPTY_228, EMPTY_229, EMPTY_230, EMPTY_231, EKG1, EKG2, REF1, REF2, EMPTY, EMPTY_186, EMPTY_187, EMPTY_188, EMPTY_189, EMPTY_190, EMPTY_191, EMPTY_192, EMPTY_193, EMPTY_194, EMPTY_195, EMPTY_196, EMPTY_197, EMPTY_198, EMPTY_199, EMPTY_200, EMPTY_201, EMPTY_202, EMPTY_203, EMPTY_204, EMPTY_205, EMPTY_206, EMPTY_207, EMPTY_208, EMPTY_209, EMPTY_210, EMPTY_211, EMPTY_212, EMPTY_213, EMPTY_214, EMPTY_215, EMPTY_216, EMPTY_217, EMPTY_218, EMPTY_219, EMPTY_220, EMPTY_221, EMPTY_222, EMPTY_223, EMPTY_224, EMPTY_225, EMPTY_226, EMPTY_227, EMPTY_228, EMPTY_229, EMPTY_230, EMPTY_231, EKG1, EKG2, REF1, REF2, EMPTY, EMPTY_186, EMPTY_187, EMPTY_188, EMPTY_189, EMPTY_190, EMPTY_191, EMPTY_192, EMPTY_193, EMPTY_194, EMPTY_195, EMPTY_196, EMPTY_197, EMPTY_198, EMPTY_199, EMPTY_200, EMPTY_201, EMPTY_202, EMPTY_203, EMPTY_204, EMPTY_205, EMPTY_206, EMPTY_207, EMPTY_208, EMPTY_209, EMPTY_210, EMPTY_211, EMPTY_212, EMPTY_213, EMPTY_214, EMPTY_215, EMPTY_216, EMPTY_217, EMPTY_218, EMPTY_219, EMPTY_220, EMPTY_221, EMPTY_222, EMPTY_223, EMPTY_224, EMPTY_225, EMPTY_226, EMPTY_227, EMPTY_228, EMPTY_229, EMPTY_230, EMPTY_231, EKG1, EKG2, REF1, REF2, EMPTY, EMPTY_186, EMPTY_187, EMPTY_188, EMPTY_189, EMPTY_190, EMPTY_191, EMPTY_192, EMPTY_193, EMPTY_194, EMPTY_195, EMPTY_196, EMPTY_197, EMPTY_198, EMPTY_199, EMPTY_200, EMPTY_201, EMPTY_202, EMPTY_203, EMPTY_204, EMPTY_205, EMPTY_206, EMPTY_207, EMPTY_208, EMPTY_209, EMPTY_210, EMPTY_211, EMPTY_212, EMPTY_213, EMPTY_214, EMPTY_215, EMPTY_216, EMPTY_217, EMPTY_218, EMPTY_219, EMPTY_220, EMPTY_221, EMPTY_222, EMPTY_223, EMPTY_224, EMPTY_225, EMPTY_226, EMPTY_227, EMPTY_228, EMPTY_229, EMPTY_230, EMPTY_231, EKG1, EKG2, BL1, BL2, BL3, BL4, BL5, BL14, BL15,  AR1, AR2, AR3, AR4, BR1, BR2, BR3, BR8, ER1, ER2, ER3, ER4, ER5, ER6, ER7, ER8, CR1, CR2, CR3, CR4, CR7, CR8, CR9, CR10, CR11, DR1, DR2, DR3, DR4, DR5, DR6, DR7, DR8, HR1, HR2, HR3, HR4, HR5, HR6, HR7, HR8, IR1, KR1, KR2, FP1, F3, C3, P3, O1, FP2, F4, C4, P4, O2, F7, T7, P7, F8, T8, P8, F9, F10, FPZ, FZ, CZ, PZ, OZ</td>\n",
       "            </tr>\n",
       "            <tr>\n",
       "                <th>EOG channels</th>\n",
       "                <td>Not available</td>\n",
       "            </tr>\n",
       "            <tr>\n",
       "                <th>ECG channels</th>\n",
       "                <td>Not available</td>\n",
       "            </tr>\n",
       "        </table>\n",
       "        </details>\n",
       "        <details open>\n",
       "            <summary><strong>Data</strong></summary>\n",
       "            <table class=\"table table-hover table-striped table-sm table-responsive small\">\n",
       "                \n",
       "                <tr>\n",
       "                    <th>Sampling frequency</th>\n",
       "                    <td>2000.00 Hz</td>\n",
       "                </tr>\n",
       "                \n",
       "                \n",
       "                <tr>\n",
       "                    <th>Highpass</th>\n",
       "                    <td>1.00 Hz</td>\n",
       "                </tr>\n",
       "                \n",
       "                \n",
       "                <tr>\n",
       "                    <th>Lowpass</th>\n",
       "                    <td>150.00 Hz</td>\n",
       "                </tr>\n",
       "                \n",
       "                \n",
       "                \n",
       "                <tr>\n",
       "                    <th>Filenames</th>\n",
       "                    <td>BJH049_notched_filtered_ieeg.fif&lt;br&gt;BJH049_notched_filtered_ieeg-1.fif</td>\n",
       "                </tr>\n",
       "                \n",
       "                \n",
       "                <tr>\n",
       "                    <th>Duration</th>\n",
       "                    <td>00:27:58 (HH:MM:SS)</td>\n",
       "                </tr>\n",
       "                \n",
       "            </table>\n",
       "            </details>"
      ],
      "text/plain": [
       "<Raw | BJH049_notched_filtered_ieeg.fif, 257 x 3354400 (1677.2 s), ~218 kB, data not loaded>"
      ]
     },
     "execution_count": 15,
     "metadata": {},
     "output_type": "execute_result"
    }
   ],
   "source": [
    "# Remove Channels from filtered data\n",
    "\n",
    "# remove non seeg electrodes electrodes #\n",
    "string_lst = ['EMPTY', 'REF', 'ekg']\n",
    "\n",
    "bad_channels_reg = [re.findall(r\"(?=(\"+'|'.join(string_lst)+r\"))\", name, re.IGNORECASE) for name in filtered_notch_data.info['ch_names']]\n",
    "bad_channels_index = [i for i,x in enumerate(bad_channels_reg) if  x]\n",
    "bad_channels = [filtered_notch_data.info['ch_names'][i] for i in bad_channels_index]\n",
    "\n",
    "filtered_notch_data.info['bads'].extend(bad_channels)  \n",
    "\n",
    "# # remove epileptic electrodes --- uncomment these 3 lines after inspection with BOB\n",
    "bob_bad_channels =['BL1','BL2','BL3','BL4','BL5','BL14','BL15',' AR1','AR2','AR3','AR4','BR1','BR2','BR3','BR8','ER1','ER2','ER3','ER4','ER5','ER6','ER7','ER8','CR1','CR2','CR3','CR4','CR7','CR8','CR9','CR10','CR11','DR1','DR2','DR3','DR4','DR5','DR6','DR7','DR8','HR1','HR2','HR3','HR4','HR5','HR6','HR7','HR8','IR1','KR1','KR2']\n",
    "filtered_notch_data.info['bads'].extend(bob_bad_channels)  \n",
    "\n",
    "\n",
    "# remove out of brain electrodes\n",
    "## TODO hasn't been localized\n",
    "\n",
    "# remove scalp and dc channels\n",
    "scalp_dc_channels = ['FP1', 'F3', 'C3', 'P3', 'O1', 'FP2', 'F4', 'C4', 'P4', 'O2', 'F7', 'T7', 'P7', 'F8', 'T8', 'P8', 'F9', 'F10', 'FPZ', 'FZ', 'CZ', 'PZ', 'OZ']\n",
    "\n",
    "\n",
    "filtered_notch_data.info['bads'].extend(scalp_dc_channels)\n",
    "filtered_notch_data"
   ]
  },
  {
   "cell_type": "code",
   "execution_count": 9,
   "id": "14a28078-93dd-4d34-b19b-a6ee581b9504",
   "metadata": {},
   "outputs": [
    {
     "data": {
      "text/html": [
       "<details open>\n",
       "    <summary><strong>General</strong></summary>\n",
       "    <table class=\"table table-hover table-striped table-sm table-responsive small\">\n",
       "        <tr>\n",
       "            <th>Measurement date</th>\n",
       "            \n",
       "            <td>Unknown</td>\n",
       "            \n",
       "        </tr>\n",
       "        <tr>\n",
       "            <th>Experimenter</th>\n",
       "            \n",
       "            <td>Unknown</td>\n",
       "            \n",
       "        </tr>\n",
       "        <tr>\n",
       "            <th>Participant</th>\n",
       "            \n",
       "            <td>Unknown</td>\n",
       "            \n",
       "        </tr>\n",
       "    </table>\n",
       "    </details>\n",
       "    <details open>\n",
       "        <summary><strong>Channels</strong></summary>\n",
       "        <table class=\"table table-hover table-striped table-sm table-responsive small\">\n",
       "            <tr>\n",
       "                <th>Digitized points</th>\n",
       "                \n",
       "                <td>0 points</td>\n",
       "                \n",
       "            </tr>\n",
       "            <tr>\n",
       "                <th>Good channels</th>\n",
       "                <td>205 sEEG, 1 Stimulus</td>\n",
       "            </tr>\n",
       "            <tr>\n",
       "                <th>Bad channels</th>\n",
       "                <td>REF1, REF2, EMPTY, EMPTY_186, EMPTY_187, EMPTY_188, EMPTY_189, EMPTY_190, EMPTY_191, EMPTY_192, EMPTY_193, EMPTY_194, EMPTY_195, EMPTY_196, EMPTY_197, EMPTY_198, EMPTY_199, EMPTY_200, EMPTY_201, EMPTY_202, EMPTY_203, EMPTY_204, EMPTY_205, EMPTY_206, EMPTY_207, EMPTY_208, EMPTY_209, EMPTY_210, EMPTY_211, EMPTY_212, EMPTY_213, EMPTY_214, EMPTY_215, EMPTY_216, EMPTY_217, EMPTY_218, EMPTY_219, EMPTY_220, EMPTY_221, EMPTY_222, EMPTY_223, EMPTY_224, EMPTY_225, EMPTY_226, EMPTY_227, EMPTY_228, EMPTY_229, EMPTY_230, EMPTY_231, EKG1, EKG2</td>\n",
       "            </tr>\n",
       "            <tr>\n",
       "                <th>EOG channels</th>\n",
       "                <td>Not available</td>\n",
       "            </tr>\n",
       "            <tr>\n",
       "                <th>ECG channels</th>\n",
       "                <td>Not available</td>\n",
       "            </tr>\n",
       "        </table>\n",
       "        </details>\n",
       "        <details open>\n",
       "            <summary><strong>Data</strong></summary>\n",
       "            <table class=\"table table-hover table-striped table-sm table-responsive small\">\n",
       "                \n",
       "                <tr>\n",
       "                    <th>Sampling frequency</th>\n",
       "                    <td>2000.00 Hz</td>\n",
       "                </tr>\n",
       "                \n",
       "                \n",
       "                <tr>\n",
       "                    <th>Highpass</th>\n",
       "                    <td>1.00 Hz</td>\n",
       "                </tr>\n",
       "                \n",
       "                \n",
       "                <tr>\n",
       "                    <th>Lowpass</th>\n",
       "                    <td>150.00 Hz</td>\n",
       "                </tr>\n",
       "                \n",
       "                \n",
       "                \n",
       "                <tr>\n",
       "                    <th>Filenames</th>\n",
       "                    <td>BJH049_raw_ieeg.fif&lt;br&gt;BJH049_raw_ieeg-1.fif</td>\n",
       "                </tr>\n",
       "                \n",
       "                \n",
       "                <tr>\n",
       "                    <th>Duration</th>\n",
       "                    <td>00:27:58 (HH:MM:SS)</td>\n",
       "                </tr>\n",
       "                \n",
       "            </table>\n",
       "            </details>"
      ],
      "text/plain": [
       "<Raw | BJH049_raw_ieeg.fif, 257 x 3354400 (1677.2 s), ~6.42 GB, data loaded>"
      ]
     },
     "execution_count": 9,
     "metadata": {},
     "output_type": "execute_result"
    }
   ],
   "source": [
    "# Remove Channels from filtered data\n",
    "\n",
    "# remove non seeg electrodes electrodes #\n",
    "string_lst = ['EMPTY', 'REF', 'ekg']\n",
    "\n",
    "bad_channels_reg = [re.findall(r\"(?=(\"+'|'.join(string_lst)+r\"))\", name, re.IGNORECASE) for name in raw_fif.info['ch_names']]\n",
    "bad_channels_index = [i for i,x in enumerate(bad_channels_reg) if  x]\n",
    "bad_channels = [raw_fif.info['ch_names'][i] for i in bad_channels_index]\n",
    "\n",
    "raw_fif.info['bads'].extend(bad_channels)  \n",
    "\n",
    "# # remove epileptic electrodes\n",
    "# # remove epileptic electrodes\n",
    "#filtered_notch_data.info['bads'].append('')  \n",
    "#filtered_notch_data.info['bads'].append('')  \n",
    "#filtered_notch_data.info['bads'].append('')  \n",
    "\n",
    "# remove out of brain electrodes\n",
    "## TODO hasn't been localized\n",
    "\n",
    "# remove scalp and dc channels\n",
    "scalp_dc_channels = []\n",
    "\n",
    "raw_fif.info['bads'].extend(scalp_dc_channels)\n",
    "raw_fif"
   ]
  },
  {
   "cell_type": "markdown",
   "id": "3b53c7d3-8102-4a30-b63d-51b8a318ff07",
   "metadata": {},
   "source": [
    "#### Bad Epochs from noisy data\n",
    "\n"
   ]
  },
  {
   "cell_type": "code",
   "execution_count": 16,
   "id": "2e29013c-e568-447a-a47b-481b93e9882b",
   "metadata": {},
   "outputs": [],
   "source": [
    "# Annotate Noisy Epochs from Bob's cleaning\n",
    "\n",
    "# read from csv from interactive session\n",
    "bad_annots = mne.read_annotations('../ieeg/saved_annotations.fif')   \n"
   ]
  },
  {
   "cell_type": "markdown",
   "id": "db730472-6e06-4a31-a66b-fa5db1600bc7",
   "metadata": {},
   "source": [
    "#### Bad epochs from bad trial data"
   ]
  },
  {
   "cell_type": "code",
   "execution_count": null,
   "id": "4cd44147-ed15-4bd4-b6c4-5dd845908831",
   "metadata": {},
   "outputs": [],
   "source": [
    "# ## quality check trials ##\n",
    "\n",
    "# # calculate trial onsets and offsets\n",
    "# sti_raw = filtered_notch_data.get_data(picks = ['STI'])\n",
    "# lengths, positionsm, val  = rle(sti_raw[0])\n",
    "\n",
    "# # lengths, beginnings, endings, for trials\n",
    "# trial_lengths = [lengths[x] for x in np.where(val == 1)]\n",
    "# trial_begins = [positionsm[x] for x in np.where(val == 1)]\n",
    "# trial_ends = trial_lengths[0] + trial_begins[0]\n",
    "# trial_baseline = trial_begins[0] - 1000\n",
    "\n",
    "# # lengths, beginnings, endings, for itis\n",
    "# iti_lengths = [lengths[x] for x in np.where(val == 0)]\n",
    "# iti_begins = [positionsm[x] for x in np.where(val == 0)]\n",
    "# iti_ends = iti_begins[0] + iti_lengths[0]\n",
    "\n",
    "# # save trial lengths for later\n",
    "# np.save(f\"{preproc_data_dir}/{subject}_trial_lengths.npy\", trial_lengths)"
   ]
  },
  {
   "cell_type": "code",
   "execution_count": null,
   "id": "fe17aab8-72f4-4400-97d5-2abfa5771abc",
   "metadata": {},
   "outputs": [],
   "source": [
    "# # exclude bad trials/apochs from r behavioral analysis (paused trials and no biscuits)\n",
    "\n",
    "# # load bad trial data\n",
    "# bad_trials = np.genfromtxt(f\"{raw_data_dir}/behave/{subject}_bad_trials.csv\", delimiter = ',', skip_header = 1)\n",
    "\n",
    "# onsets = []\n",
    "# durations = []\n",
    "# for bad in bad_trials:\n",
    "#     start, dur = find_bad_trial_times(int(bad), raw_fif.info['sfreq'], trial_begins, trial_lengths)\n",
    "#     onsets.append(start)\n",
    "#     durations.append(dur)\n",
    "\n",
    "# # update descriptions\n",
    "# descriptions = ['bad'] * len(durations)\n"
   ]
  },
  {
   "cell_type": "code",
   "execution_count": null,
   "id": "a2d684d1-c82d-4f87-b37e-aca09a1e95ed",
   "metadata": {
    "tags": []
   },
   "outputs": [],
   "source": [
    "## exclude all bad epochs from both bad trials and investigating neural data ##\n",
    "\n",
    "# # combine with bad trial data #\n",
    "# bad_annots.append(onsets, durations, descriptions)\n",
    "\n",
    "# # # apply to filtered data #\n",
    "# filtered_notch_data.set_annotations(bad_annots)\n",
    "\n",
    "# # # apply to not filtered data #\n",
    "# raw_fif.set_annotations(bad_annots)"
   ]
  },
  {
   "cell_type": "markdown",
   "id": "304972b6-3d35-4319-93bc-c13753ecf6f7",
   "metadata": {},
   "source": [
    "## Visualizing Neural Data"
   ]
  },
  {
   "cell_type": "code",
   "execution_count": 9,
   "id": "afafa922-b494-4ebf-a262-1fa89adb5a89",
   "metadata": {},
   "outputs": [
    {
     "name": "stdout",
     "output_type": "stream",
     "text": [
      "Using qt as 2D backend.\n"
     ]
    },
    {
     "name": "stderr",
     "output_type": "stream",
     "text": [
      "qt.qpa.xcb: X server does not support XInput 2\n",
      "Qt: Session management error: Authentication Rejected, reason : None of the authentication protocols specified are supported and host-based authentication failed\n",
      "qt.qpa.xcb: QXcbConnection: XCB error: 1 (BadRequest), sequence: 169, resource id: 132, major code: 130 (Unknown), minor code: 47\n"
     ]
    },
    {
     "data": {
      "text/plain": [
       "<mne_qt_browser._pg_figure.MNEQtBrowser at 0x7f25bed72440>"
      ]
     },
     "execution_count": 9,
     "metadata": {},
     "output_type": "execute_result"
    },
    {
     "name": "stderr",
     "output_type": "stream",
     "text": [
      "qt.qpa.xcb: QXcbConnection: XCB error: 3 (BadWindow), sequence: 3528, resource id: 6380031, major code: 40 (TranslateCoords), minor code: 0\n"
     ]
    }
   ],
   "source": [
    "# plot for cleaning #\n",
    "\n",
    "filtered_notch_data.plot(events=events, color='b', bad_color = 'red', n_channels = 230, clipping = None, event_color = 'r')"
   ]
  },
  {
   "cell_type": "code",
   "execution_count": 10,
   "id": "3ac11e9f",
   "metadata": {},
   "outputs": [
    {
     "name": "stdout",
     "output_type": "stream",
     "text": [
      "OrderedDict([('onset', 17.834512457705323), ('duration', 1.7998857494397313), ('description', 'bad'), ('orig_time', None)])\n",
      "OrderedDict([('onset', 77.95403612075407), ('duration', 0.11952366304873863), ('description', 'bad'), ('orig_time', None)])\n",
      "OrderedDict([('onset', 152.20283868699744), ('duration', 0.7733884079623863), ('description', 'bad'), ('orig_time', None)])\n",
      "OrderedDict([('onset', 158.42509996924025), ('duration', 0.8436964450498863), ('description', 'bad'), ('orig_time', None)])\n",
      "OrderedDict([('onset', 183.48244496198973), ('duration', 0.8577580524673749), ('description', 'bad'), ('orig_time', None)])\n",
      "OrderedDict([('onset', 193.63305796018807), ('duration', 0.49215625961244314), ('description', 'bad'), ('orig_time', None)])\n",
      "OrderedDict([('onset', 242.78233071142947), ('duration', 2.587335764819642), ('description', 'bad'), ('orig_time', None)])\n",
      "OrderedDict([('onset', 251.17227666212597), ('duration', 2.5873357648196134), ('description', 'bad'), ('orig_time', None)])\n",
      "OrderedDict([('onset', 471.7036516236763), ('duration', 1.209298237904818), ('description', 'bad'), ('orig_time', None)])\n",
      "OrderedDict([('onset', 508.7396185788989), ('duration', 1.1319593971085737), ('description', 'bad'), ('orig_time', None)])\n",
      "OrderedDict([('onset', 539.6395614536186), ('duration', 2.952937557674659), ('description', 'bad'), ('orig_time', None)])\n",
      "OrderedDict([('onset', 567.1384628905391), ('duration', 0.8085424265061647), ('description', 'bad'), ('orig_time', None)])\n",
      "OrderedDict([('onset', 585.1065606187109), ('duration', 1.0405589488948408), ('description', 'bad'), ('orig_time', None)])\n",
      "OrderedDict([('onset', 588.4883772026191), ('duration', 1.3147602935360965), ('description', 'bad'), ('orig_time', None)])\n",
      "OrderedDict([('onset', 641.4153886716175), ('duration', 4.619238036648085), ('description', 'bad'), ('orig_time', None)])\n",
      "OrderedDict([('onset', 695.6438678208903), ('duration', 0.4640330447774659), ('description', 'bad'), ('orig_time', None)])\n",
      "OrderedDict([('onset', 711.4535088104759), ('duration', 1.5959924418859828), ('description', 'bad'), ('orig_time', None)])\n",
      "OrderedDict([('onset', 809.6536230610361), ('duration', 3.9934965065694996), ('description', 'bad'), ('orig_time', None)])\n",
      "OrderedDict([('onset', 819.041943138375), ('duration', 2.18657995342096), ('description', 'bad'), ('orig_time', None)])\n",
      "OrderedDict([('onset', 913.0565320560708), ('duration', 1.209298237904818), ('description', 'bad'), ('orig_time', None)])\n",
      "OrderedDict([('onset', 978.5024388100366), ('duration', 1.7014544975172612), ('description', 'bad'), ('orig_time', None)])\n",
      "OrderedDict([('onset', 1011.6222480994861), ('duration', 2.784198268664568), ('description', 'bad'), ('orig_time', None)])\n",
      "OrderedDict([('onset', 1051.5449092586898), ('duration', 0.3796634002724204), ('description', 'bad'), ('orig_time', None)])\n",
      "OrderedDict([('onset', 1056.4594410511054), ('duration', 0.9983741266423749), ('description', 'bad'), ('orig_time', None)])\n",
      "OrderedDict([('onset', 1083.8902315770974), ('duration', 4.823131344201784), ('description', 'bad'), ('orig_time', None)])\n",
      "OrderedDict([('onset', 1108.0787230302767), ('duration', 9.090829195412425), ('description', 'bad'), ('orig_time', None)])\n",
      "OrderedDict([('onset', 1185.0151601704972), ('duration', 5.188733137056715), ('description', 'bad'), ('orig_time', None)])\n",
      "OrderedDict([('onset', 1255.4751285318803), ('duration', 0.40075581139876704), ('description', 'bad'), ('orig_time', None)])\n",
      "OrderedDict([('onset', 1265.601682998638), ('duration', 0.3796634002726478), ('description', 'bad'), ('orig_time', None)])\n",
      "OrderedDict([('onset', 1267.6568748077516), ('duration', 2.55921254998475), ('description', 'bad'), ('orig_time', None)])\n",
      "OrderedDict([('onset', 1317.5462495056465), ('duration', 2.538120138858403), ('description', 'bad'), ('orig_time', None)])\n",
      "OrderedDict([('onset', 1336.2203937250076), ('duration', 0.7944808190886761), ('description', 'bad'), ('orig_time', None)])\n",
      "OrderedDict([('onset', 1366.4031946214352), ('duration', 0.5624642966997726), ('description', 'bad'), ('orig_time', None)])\n",
      "OrderedDict([('onset', 1393.9464780067672), ('duration', 3.3536933690731985), ('description', 'bad'), ('orig_time', None)])\n",
      "OrderedDict([('onset', 1403.812892736301), ('duration', 1.9615942347409145), ('description', 'bad'), ('orig_time', None)])\n",
      "OrderedDict([('onset', 1466.628180340115), ('duration', 0.40075581139876704), ('description', 'bad'), ('orig_time', None)])\n",
      "OrderedDict([('onset', 1667.5180832930528), ('duration', 3.606802302588221), ('description', 'bad'), ('orig_time', None)])\n",
      "Overwriting existing file.\n"
     ]
    },
    {
     "name": "stderr",
     "output_type": "stream",
     "text": [
      "/tmp/ipykernel_1990570/3068101005.py:7: RuntimeWarning: This filename (../ieeg/saved_annotations.fif) does not conform to MNE naming conventions. All annotations files should end with -annot.fif, -annot.fif.gz, _annot.fif, _annot.fif.gz, .txt or .csv\n",
      "  filtered_notch_data.annotations.save('../ieeg/saved_annotations.fif', overwrite = True)\n"
     ]
    }
   ],
   "source": [
    "## From interactive sessions --- saving annotations from BOB\n",
    "interactive_annot = filtered_notch_data.annotations\n",
    "for x in range(0, len(filtered_notch_data.annotations)):\n",
    "    print(interactive_annot[x])\n",
    "    \n",
    "    \n",
    "filtered_notch_data.annotations.save('../ieeg/saved_annotations.fif', overwrite = True) "
   ]
  },
  {
   "cell_type": "code",
   "execution_count": 29,
   "id": "0ed7aef0-09d9-4134-8f68-15bbc207578c",
   "metadata": {},
   "outputs": [],
   "source": [
    "# plot psd of all channels #\n",
    "\n",
    "# filtered_notch_data.plot_psd()"
   ]
  },
  {
   "cell_type": "code",
   "execution_count": null,
   "id": "f7c9bc69-ae5f-455d-b683-76bff6dd9063",
   "metadata": {},
   "outputs": [
    {
     "name": "stdout",
     "output_type": "stream",
     "text": [
      "NOTE: plot_psd() is a legacy function. New code should use .compute_psd().plot().\n"
     ]
    },
    {
     "ename": "ValueError",
     "evalue": "Found 85 / 207 unique names, sel is not unique",
     "output_type": "error",
     "traceback": [
      "\u001b[0;31m---------------------------------------------------------------------------\u001b[0m",
      "\u001b[0;31mValueError\u001b[0m                                Traceback (most recent call last)",
      "Cell \u001b[0;32mIn[23], line 3\u001b[0m\n\u001b[1;32m      1\u001b[0m \u001b[38;5;66;03m# plot psd of bad channels #\u001b[39;00m\n\u001b[0;32m----> 3\u001b[0m \u001b[43mfiltered_notch_data\u001b[49m\u001b[38;5;241;43m.\u001b[39;49m\u001b[43mplot_psd\u001b[49m\u001b[43m(\u001b[49m\u001b[43mpicks\u001b[49m\u001b[43m \u001b[49m\u001b[38;5;241;43m=\u001b[39;49m\u001b[43m \u001b[49m\u001b[43mfiltered_notch_data\u001b[49m\u001b[38;5;241;43m.\u001b[39;49m\u001b[43minfo\u001b[49m\u001b[43m[\u001b[49m\u001b[38;5;124;43m'\u001b[39;49m\u001b[38;5;124;43mbads\u001b[39;49m\u001b[38;5;124;43m'\u001b[39;49m\u001b[43m]\u001b[49m\u001b[43m)\u001b[49m\n",
      "File \u001b[0;32m<decorator-gen-150>:5\u001b[0m, in \u001b[0;36mplot_psd\u001b[0;34m(self, fmin, fmax, tmin, tmax, picks, proj, reject_by_annotation, method, average, dB, estimate, xscale, area_mode, area_alpha, color, line_alpha, spatial_colors, sphere, exclude, ax, show, n_jobs, verbose, **method_kw)\u001b[0m\n",
      "File \u001b[0;32m<decorator-gen-149>:12\u001b[0m, in \u001b[0;36mplot_psd\u001b[0;34m(self, fmin, fmax, tmin, tmax, picks, proj, reject_by_annotation, method, average, dB, estimate, xscale, area_mode, area_alpha, color, line_alpha, spatial_colors, sphere, exclude, ax, show, n_jobs, verbose, **method_kw)\u001b[0m\n",
      "File \u001b[0;32m~/.local/lib/python3.11/site-packages/mne/time_frequency/spectrum.py:139\u001b[0m, in \u001b[0;36mSpectrumMixin.plot_psd\u001b[0;34m(self, fmin, fmax, tmin, tmax, picks, proj, reject_by_annotation, method, average, dB, estimate, xscale, area_mode, area_alpha, color, line_alpha, spatial_colors, sphere, exclude, ax, show, n_jobs, verbose, **method_kw)\u001b[0m\n\u001b[1;32m     95\u001b[0m \u001b[38;5;250m\u001b[39m\u001b[38;5;124;03m\"\"\"%(plot_psd_doc)s.\u001b[39;00m\n\u001b[1;32m     96\u001b[0m \n\u001b[1;32m     97\u001b[0m \u001b[38;5;124;03mParameters\u001b[39;00m\n\u001b[0;32m   (...)\u001b[0m\n\u001b[1;32m    136\u001b[0m \u001b[38;5;124;03m%(notes_plot_psd_meth)s\u001b[39;00m\n\u001b[1;32m    137\u001b[0m \u001b[38;5;124;03m\"\"\"\u001b[39;00m\n\u001b[1;32m    138\u001b[0m init_kw, plot_kw \u001b[38;5;241m=\u001b[39m _split_psd_kwargs(plot_fun\u001b[38;5;241m=\u001b[39mSpectrum\u001b[38;5;241m.\u001b[39mplot)\n\u001b[0;32m--> 139\u001b[0m \u001b[38;5;28;01mreturn\u001b[39;00m \u001b[38;5;28;43mself\u001b[39;49m\u001b[38;5;241;43m.\u001b[39;49m\u001b[43mcompute_psd\u001b[49m\u001b[43m(\u001b[49m\u001b[38;5;241;43m*\u001b[39;49m\u001b[38;5;241;43m*\u001b[39;49m\u001b[43minit_kw\u001b[49m\u001b[43m)\u001b[49m\u001b[38;5;241m.\u001b[39mplot(\u001b[38;5;241m*\u001b[39m\u001b[38;5;241m*\u001b[39mplot_kw)\n",
      "File \u001b[0;32m<decorator-gen-198>:12\u001b[0m, in \u001b[0;36mcompute_psd\u001b[0;34m(self, method, fmin, fmax, tmin, tmax, picks, exclude, proj, remove_dc, reject_by_annotation, n_jobs, verbose, **method_kw)\u001b[0m\n",
      "File \u001b[0;32m~/.local/lib/python3.11/site-packages/mne/io/base.py:2232\u001b[0m, in \u001b[0;36mBaseRaw.compute_psd\u001b[0;34m(self, method, fmin, fmax, tmin, tmax, picks, exclude, proj, remove_dc, reject_by_annotation, n_jobs, verbose, **method_kw)\u001b[0m\n\u001b[1;32m   2229\u001b[0m method \u001b[38;5;241m=\u001b[39m _validate_method(method, \u001b[38;5;28mtype\u001b[39m(\u001b[38;5;28mself\u001b[39m)\u001b[38;5;241m.\u001b[39m\u001b[38;5;18m__name__\u001b[39m)\n\u001b[1;32m   2230\u001b[0m \u001b[38;5;28mself\u001b[39m\u001b[38;5;241m.\u001b[39m_set_legacy_nfft_default(tmin, tmax, method, method_kw)\n\u001b[0;32m-> 2232\u001b[0m \u001b[38;5;28;01mreturn\u001b[39;00m \u001b[43mSpectrum\u001b[49m\u001b[43m(\u001b[49m\n\u001b[1;32m   2233\u001b[0m \u001b[43m    \u001b[49m\u001b[38;5;28;43mself\u001b[39;49m\u001b[43m,\u001b[49m\n\u001b[1;32m   2234\u001b[0m \u001b[43m    \u001b[49m\u001b[43mmethod\u001b[49m\u001b[38;5;241;43m=\u001b[39;49m\u001b[43mmethod\u001b[49m\u001b[43m,\u001b[49m\n\u001b[1;32m   2235\u001b[0m \u001b[43m    \u001b[49m\u001b[43mfmin\u001b[49m\u001b[38;5;241;43m=\u001b[39;49m\u001b[43mfmin\u001b[49m\u001b[43m,\u001b[49m\n\u001b[1;32m   2236\u001b[0m \u001b[43m    \u001b[49m\u001b[43mfmax\u001b[49m\u001b[38;5;241;43m=\u001b[39;49m\u001b[43mfmax\u001b[49m\u001b[43m,\u001b[49m\n\u001b[1;32m   2237\u001b[0m \u001b[43m    \u001b[49m\u001b[43mtmin\u001b[49m\u001b[38;5;241;43m=\u001b[39;49m\u001b[43mtmin\u001b[49m\u001b[43m,\u001b[49m\n\u001b[1;32m   2238\u001b[0m \u001b[43m    \u001b[49m\u001b[43mtmax\u001b[49m\u001b[38;5;241;43m=\u001b[39;49m\u001b[43mtmax\u001b[49m\u001b[43m,\u001b[49m\n\u001b[1;32m   2239\u001b[0m \u001b[43m    \u001b[49m\u001b[43mpicks\u001b[49m\u001b[38;5;241;43m=\u001b[39;49m\u001b[43mpicks\u001b[49m\u001b[43m,\u001b[49m\n\u001b[1;32m   2240\u001b[0m \u001b[43m    \u001b[49m\u001b[43mexclude\u001b[49m\u001b[38;5;241;43m=\u001b[39;49m\u001b[43mexclude\u001b[49m\u001b[43m,\u001b[49m\n\u001b[1;32m   2241\u001b[0m \u001b[43m    \u001b[49m\u001b[43mproj\u001b[49m\u001b[38;5;241;43m=\u001b[39;49m\u001b[43mproj\u001b[49m\u001b[43m,\u001b[49m\n\u001b[1;32m   2242\u001b[0m \u001b[43m    \u001b[49m\u001b[43mremove_dc\u001b[49m\u001b[38;5;241;43m=\u001b[39;49m\u001b[43mremove_dc\u001b[49m\u001b[43m,\u001b[49m\n\u001b[1;32m   2243\u001b[0m \u001b[43m    \u001b[49m\u001b[43mreject_by_annotation\u001b[49m\u001b[38;5;241;43m=\u001b[39;49m\u001b[43mreject_by_annotation\u001b[49m\u001b[43m,\u001b[49m\n\u001b[1;32m   2244\u001b[0m \u001b[43m    \u001b[49m\u001b[43mn_jobs\u001b[49m\u001b[38;5;241;43m=\u001b[39;49m\u001b[43mn_jobs\u001b[49m\u001b[43m,\u001b[49m\n\u001b[1;32m   2245\u001b[0m \u001b[43m    \u001b[49m\u001b[43mverbose\u001b[49m\u001b[38;5;241;43m=\u001b[39;49m\u001b[43mverbose\u001b[49m\u001b[43m,\u001b[49m\n\u001b[1;32m   2246\u001b[0m \u001b[43m    \u001b[49m\u001b[38;5;241;43m*\u001b[39;49m\u001b[38;5;241;43m*\u001b[39;49m\u001b[43mmethod_kw\u001b[49m\u001b[43m,\u001b[49m\n\u001b[1;32m   2247\u001b[0m \u001b[43m\u001b[49m\u001b[43m)\u001b[49m\n",
      "File \u001b[0;32m~/.local/lib/python3.11/site-packages/mne/time_frequency/spectrum.py:1113\u001b[0m, in \u001b[0;36mSpectrum.__init__\u001b[0;34m(self, inst, method, fmin, fmax, tmin, tmax, picks, exclude, proj, remove_dc, reject_by_annotation, n_jobs, verbose, **method_kw)\u001b[0m\n\u001b[1;32m   1111\u001b[0m     \u001b[38;5;28;01mreturn\u001b[39;00m\n\u001b[1;32m   1112\u001b[0m \u001b[38;5;66;03m# do the basic setup\u001b[39;00m\n\u001b[0;32m-> 1113\u001b[0m \u001b[38;5;28;43msuper\u001b[39;49m\u001b[43m(\u001b[49m\u001b[43m)\u001b[49m\u001b[38;5;241;43m.\u001b[39;49m\u001b[38;5;21;43m__init__\u001b[39;49m\u001b[43m(\u001b[49m\n\u001b[1;32m   1114\u001b[0m \u001b[43m    \u001b[49m\u001b[43minst\u001b[49m\u001b[43m,\u001b[49m\n\u001b[1;32m   1115\u001b[0m \u001b[43m    \u001b[49m\u001b[43mmethod\u001b[49m\u001b[43m,\u001b[49m\n\u001b[1;32m   1116\u001b[0m \u001b[43m    \u001b[49m\u001b[43mfmin\u001b[49m\u001b[43m,\u001b[49m\n\u001b[1;32m   1117\u001b[0m \u001b[43m    \u001b[49m\u001b[43mfmax\u001b[49m\u001b[43m,\u001b[49m\n\u001b[1;32m   1118\u001b[0m \u001b[43m    \u001b[49m\u001b[43mtmin\u001b[49m\u001b[43m,\u001b[49m\n\u001b[1;32m   1119\u001b[0m \u001b[43m    \u001b[49m\u001b[43mtmax\u001b[49m\u001b[43m,\u001b[49m\n\u001b[1;32m   1120\u001b[0m \u001b[43m    \u001b[49m\u001b[43mpicks\u001b[49m\u001b[43m,\u001b[49m\n\u001b[1;32m   1121\u001b[0m \u001b[43m    \u001b[49m\u001b[43mexclude\u001b[49m\u001b[43m,\u001b[49m\n\u001b[1;32m   1122\u001b[0m \u001b[43m    \u001b[49m\u001b[43mproj\u001b[49m\u001b[43m,\u001b[49m\n\u001b[1;32m   1123\u001b[0m \u001b[43m    \u001b[49m\u001b[43mremove_dc\u001b[49m\u001b[43m,\u001b[49m\n\u001b[1;32m   1124\u001b[0m \u001b[43m    \u001b[49m\u001b[43mn_jobs\u001b[49m\u001b[38;5;241;43m=\u001b[39;49m\u001b[43mn_jobs\u001b[49m\u001b[43m,\u001b[49m\n\u001b[1;32m   1125\u001b[0m \u001b[43m    \u001b[49m\u001b[43mverbose\u001b[49m\u001b[38;5;241;43m=\u001b[39;49m\u001b[43mverbose\u001b[49m\u001b[43m,\u001b[49m\n\u001b[1;32m   1126\u001b[0m \u001b[43m    \u001b[49m\u001b[38;5;241;43m*\u001b[39;49m\u001b[38;5;241;43m*\u001b[39;49m\u001b[43mmethod_kw\u001b[49m\u001b[43m,\u001b[49m\n\u001b[1;32m   1127\u001b[0m \u001b[43m\u001b[49m\u001b[43m)\u001b[49m\n\u001b[1;32m   1128\u001b[0m \u001b[38;5;66;03m# get just the data we want\u001b[39;00m\n\u001b[1;32m   1129\u001b[0m \u001b[38;5;28;01mif\u001b[39;00m \u001b[38;5;28misinstance\u001b[39m(\u001b[38;5;28mself\u001b[39m\u001b[38;5;241m.\u001b[39minst, BaseRaw):\n",
      "File \u001b[0;32m~/.local/lib/python3.11/site-packages/mne/time_frequency/spectrum.py:343\u001b[0m, in \u001b[0;36mBaseSpectrum.__init__\u001b[0;34m(self, inst, method, fmin, fmax, tmin, tmax, picks, exclude, proj, remove_dc, n_jobs, verbose, **method_kw)\u001b[0m\n\u001b[1;32m    337\u001b[0m \u001b[38;5;28mself\u001b[39m\u001b[38;5;241m.\u001b[39m_picks \u001b[38;5;241m=\u001b[39m _picks_to_idx(\n\u001b[1;32m    338\u001b[0m     inst\u001b[38;5;241m.\u001b[39minfo, picks, \u001b[38;5;124m\"\u001b[39m\u001b[38;5;124mdata\u001b[39m\u001b[38;5;124m\"\u001b[39m, exclude, with_ref_meg\u001b[38;5;241m=\u001b[39m\u001b[38;5;28;01mFalse\u001b[39;00m\n\u001b[1;32m    339\u001b[0m )\n\u001b[1;32m    341\u001b[0m \u001b[38;5;66;03m# add the info object. bads and non-data channels were dropped by\u001b[39;00m\n\u001b[1;32m    342\u001b[0m \u001b[38;5;66;03m# _picks_to_idx() so we update the info accordingly:\u001b[39;00m\n\u001b[0;32m--> 343\u001b[0m \u001b[38;5;28mself\u001b[39m\u001b[38;5;241m.\u001b[39minfo \u001b[38;5;241m=\u001b[39m \u001b[43mpick_info\u001b[49m\u001b[43m(\u001b[49m\u001b[43minst\u001b[49m\u001b[38;5;241;43m.\u001b[39;49m\u001b[43minfo\u001b[49m\u001b[43m,\u001b[49m\u001b[43m \u001b[49m\u001b[43msel\u001b[49m\u001b[38;5;241;43m=\u001b[39;49m\u001b[38;5;28;43mself\u001b[39;49m\u001b[38;5;241;43m.\u001b[39;49m\u001b[43m_picks\u001b[49m\u001b[43m,\u001b[49m\u001b[43m \u001b[49m\u001b[43mcopy\u001b[49m\u001b[38;5;241;43m=\u001b[39;49m\u001b[38;5;28;43;01mTrue\u001b[39;49;00m\u001b[43m)\u001b[49m\n\u001b[1;32m    345\u001b[0m \u001b[38;5;66;03m# assign some attributes\u001b[39;00m\n\u001b[1;32m    346\u001b[0m \u001b[38;5;28mself\u001b[39m\u001b[38;5;241m.\u001b[39mpreload \u001b[38;5;241m=\u001b[39m \u001b[38;5;28;01mTrue\u001b[39;00m  \u001b[38;5;66;03m# needed for __getitem__, never False\u001b[39;00m\n",
      "File \u001b[0;32m<decorator-gen-10>:12\u001b[0m, in \u001b[0;36mpick_info\u001b[0;34m(info, sel, copy, verbose)\u001b[0m\n",
      "File \u001b[0;32m~/.local/lib/python3.11/site-packages/mne/_fiff/pick.py:631\u001b[0m, in \u001b[0;36mpick_info\u001b[0;34m(info, sel, copy, verbose)\u001b[0m\n\u001b[1;32m    629\u001b[0m n_unique \u001b[38;5;241m=\u001b[39m \u001b[38;5;28mlen\u001b[39m(ch_set)\n\u001b[1;32m    630\u001b[0m \u001b[38;5;28;01mif\u001b[39;00m n_unique \u001b[38;5;241m!=\u001b[39m \u001b[38;5;28mlen\u001b[39m(sel):\n\u001b[0;32m--> 631\u001b[0m     \u001b[38;5;28;01mraise\u001b[39;00m \u001b[38;5;167;01mValueError\u001b[39;00m(\n\u001b[1;32m    632\u001b[0m         \u001b[38;5;124m\"\u001b[39m\u001b[38;5;124mFound \u001b[39m\u001b[38;5;132;01m%d\u001b[39;00m\u001b[38;5;124m / \u001b[39m\u001b[38;5;132;01m%d\u001b[39;00m\u001b[38;5;124m unique names, sel is not unique\u001b[39m\u001b[38;5;124m\"\u001b[39m \u001b[38;5;241m%\u001b[39m (n_unique, \u001b[38;5;28mlen\u001b[39m(sel))\n\u001b[1;32m    633\u001b[0m     )\n\u001b[1;32m    635\u001b[0m \u001b[38;5;66;03m# make sure required the compensation channels are present\u001b[39;00m\n\u001b[1;32m    636\u001b[0m \u001b[38;5;28;01mif\u001b[39;00m \u001b[38;5;28mlen\u001b[39m(info\u001b[38;5;241m.\u001b[39mget(\u001b[38;5;124m\"\u001b[39m\u001b[38;5;124mcomps\u001b[39m\u001b[38;5;124m\"\u001b[39m, [])) \u001b[38;5;241m>\u001b[39m \u001b[38;5;241m0\u001b[39m:\n",
      "\u001b[0;31mValueError\u001b[0m: Found 85 / 207 unique names, sel is not unique"
     ]
    }
   ],
   "source": [
    "# plot psd of bad channels #\n",
    "\n",
    "# filtered_notch_data.plot_psd(picks = filtered_notch_data.info['bads'])"
   ]
  },
  {
   "cell_type": "markdown",
   "id": "86ae8d82-9dc2-438f-ab76-effed512f9e4",
   "metadata": {},
   "source": [
    "## Save Files"
   ]
  },
  {
   "cell_type": "code",
   "execution_count": 17,
   "id": "83c9a275-c5bd-414a-a3a5-5d30bd0fe689",
   "metadata": {},
   "outputs": [
    {
     "name": "stdout",
     "output_type": "stream",
     "text": [
      "Overwriting existing file.\n",
      "Writing /home/knight/barbarab/pacman_ieeg/raw_data/BJH049/ieeg/BJH049_notched_filtered_clean_ieeg.fif\n"
     ]
    },
    {
     "name": "stdout",
     "output_type": "stream",
     "text": [
      "Closing /home/knight/barbarab/pacman_ieeg/raw_data/BJH049/ieeg/BJH049_notched_filtered_clean_ieeg.fif\n",
      "Overwriting existing file.\n",
      "Writing /home/knight/barbarab/pacman_ieeg/raw_data/BJH049/ieeg/BJH049_notched_filtered_clean_ieeg-1.fif\n",
      "Closing /home/knight/barbarab/pacman_ieeg/raw_data/BJH049/ieeg/BJH049_notched_filtered_clean_ieeg-1.fif\n",
      "[done]\n",
      "Overwriting existing file.\n",
      "Writing /home/knight/barbarab/pacman_ieeg/raw_data/BJH049/ieeg/BJH049_raw_clean_ieeg.fif\n",
      "Closing /home/knight/barbarab/pacman_ieeg/raw_data/BJH049/ieeg/BJH049_raw_clean_ieeg.fif\n",
      "Overwriting existing file.\n",
      "Writing /home/knight/barbarab/pacman_ieeg/raw_data/BJH049/ieeg/BJH049_raw_clean_ieeg-1.fif\n",
      "Closing /home/knight/barbarab/pacman_ieeg/raw_data/BJH049/ieeg/BJH049_raw_clean_ieeg-1.fif\n",
      "[done]\n"
     ]
    }
   ],
   "source": [
    "# save filtered data #\n",
    "filtered_notch_data.save(f\"{raw_data_dir}/{subject}_notched_filtered_clean_ieeg.fif\", overwrite = True)\n",
    "\n",
    "\n",
    "# save raw clean data #\n",
    "raw_fif.save(f\"{raw_data_dir}/{subject}_raw_clean_ieeg.fif\", overwrite = True)\n"
   ]
  },
  {
   "cell_type": "code",
   "execution_count": null,
   "id": "6926d453",
   "metadata": {},
   "outputs": [],
   "source": []
  }
 ],
 "metadata": {
  "kernelspec": {
   "display_name": "Python 3 (ipykernel)",
   "language": "python",
   "name": "python3"
  },
  "language_info": {
   "codemirror_mode": {
    "name": "ipython",
    "version": 3
   },
   "file_extension": ".py",
   "mimetype": "text/x-python",
   "name": "python",
   "nbconvert_exporter": "python",
   "pygments_lexer": "ipython3",
   "version": "3.11.8"
  }
 },
 "nbformat": 4,
 "nbformat_minor": 5
}

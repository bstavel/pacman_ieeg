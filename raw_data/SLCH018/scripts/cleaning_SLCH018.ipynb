{
 "cells": [
  {
   "cell_type": "markdown",
   "id": "e4fc6682-364e-4ce1-ab65-128e0f3dad52",
   "metadata": {},
   "source": [
    "# Cleaning: SLCH018\n",
    "\n",
    "\n",
    "This script cleans the data both by abnormal trials and by noisy channels and epileptic activity.\n"
   ]
  },
  {
   "cell_type": "markdown",
   "id": "02b05195-aacc-4c3c-8f47-75c3e82ef63e",
   "metadata": {},
   "source": [
    "### Prep"
   ]
  },
  {
   "cell_type": "code",
   "execution_count": 1,
   "id": "61c9ab54-c00e-497d-aae6-0f5373c12c1f",
   "metadata": {},
   "outputs": [],
   "source": [
    "import matplotlib\n",
    "# matplotlib.use(\"Qt5Agg\")\n",
    "import matplotlib.pyplot as plt\n",
    "import pandas as pd\n",
    "import numpy as np\n",
    "from scipy import signal, stats\n",
    "#import mat73\n",
    "import re\n",
    "#from neurodsp.timefrequency import compute_wavelet_transform\n",
    "from BCI2kReader import BCI2kReader as b2k\n",
    "import os\n",
    "import mne\n",
    "#from tabulate import tabulate\n",
    "import IPython\n",
    "import seaborn as sns"
   ]
  },
  {
   "cell_type": "code",
   "execution_count": 5,
   "id": "a31d326f-7bc2-47a4-b4a9-ed6bab268f63",
   "metadata": {},
   "outputs": [
    {
     "name": "stderr",
     "output_type": "stream",
     "text": [
      "qt.qpa.xcb: X server does not support XInput 2\n",
      "Qt: Session management error: Authentication Rejected, reason : None of the authentication protocols specified are supported and host-based authentication failed\n"
     ]
    },
    {
     "name": "stderr",
     "output_type": "stream",
     "text": [
      "qt.qpa.xcb: QXcbConnection: XCB error: 1 (BadRequest), sequence: 169, resource id: 132, major code: 130 (Unknown), minor code: 47\n"
     ]
    }
   ],
   "source": [
    "%matplotlib qt5"
   ]
  },
  {
   "cell_type": "code",
   "execution_count": 2,
   "id": "4cf92573-8440-46c3-8ed6-eeebdc973c26",
   "metadata": {},
   "outputs": [],
   "source": [
    "# helper functions#\n",
    "\n",
    "def rle(inarray):\n",
    "        \"\"\" run length encoding. Partial credit to R rle function. \n",
    "            Multi datatype arrays catered for including non Numpy\n",
    "            returns: tuple (runlengths, startpositions, values) \"\"\"\n",
    "        ia = np.asarray(inarray)                # force numpy\n",
    "        n = len(ia)\n",
    "        if n == 0: \n",
    "            return (None, None, None)\n",
    "        else:\n",
    "            y = ia[1:] != ia[:-1]               # pairwise unequal (string safe)\n",
    "            i = np.append(np.where(y), n - 1)   # must include last element posi\n",
    "            z = np.diff(np.append(-1, i))       # run lengths\n",
    "            p = np.cumsum(np.append(0, z))[:-1] # positions\n",
    "            return(z, p, ia[i])\n",
    "        \n",
    "def find_bad_trial_times(idx, srate, trial_begins, trial_lengths):\n",
    "    ''' takes and index of trial lengths, beginnings and the sampling rate and returns the the start time and and\n",
    "    duration of the times to annotae as BAD '''\n",
    "    start_time = trial_begins[0][idx]/srate\n",
    "    duration = trial_lengths[0][idx]/srate\n",
    "    \n",
    "    return start_time, duration        "
   ]
  },
  {
   "cell_type": "code",
   "execution_count": 3,
   "id": "26f82f60-866f-4754-81e7-5b90a3a20f2e",
   "metadata": {},
   "outputs": [],
   "source": [
    "## Prep paths ##\n",
    "\n",
    "subject = 'SLCH018'\n",
    "raw_data_dir = f\"/home/brooke/pacman/raw_data/{subject}\"\n",
    "preproc_data_dir = f\"/home/brooke/pacman/preprocessing/{subject}/ieeg\""
   ]
  },
  {
   "cell_type": "code",
   "execution_count": 4,
   "id": "4bb5237b-98a6-4c44-9a71-414e450e6341",
   "metadata": {},
   "outputs": [
    {
     "name": "stdout",
     "output_type": "stream",
     "text": [
      "Opening raw data file /home/brooke/pacman/raw_data/SLCH018/ieeg/SLCH018_raw_ieeg.fif...\n"
     ]
    },
    {
     "name": "stdout",
     "output_type": "stream",
     "text": [
      "    Range : 0 ... 2779999 =      0.000 ...  1389.999 secs\n",
      "Ready.\n",
      "Opening raw data file /home/brooke/pacman/raw_data/SLCH018/ieeg/SLCH018_raw_ieeg-1.fif...\n",
      "    Range : 2780000 ... 2958799 =   1390.000 ...  1479.399 secs\n",
      "Ready.\n"
     ]
    }
   ],
   "source": [
    "## Load Data ##\n",
    "\n",
    "\n",
    "raw_fif = mne.io.Raw(f\"{raw_data_dir}/ieeg/{subject}_raw_ieeg.fif\")"
   ]
  },
  {
   "cell_type": "code",
   "execution_count": 5,
   "id": "c2977f65-dd9c-4a3e-b095-a402a91c8c56",
   "metadata": {},
   "outputs": [
    {
     "name": "stdout",
     "output_type": "stream",
     "text": [
      "Reading 0 ... 2958799  =      0.000 ...  1479.399 secs...\n"
     ]
    },
    {
     "name": "stdout",
     "output_type": "stream",
     "text": [
      "Filtering raw data in 1 contiguous segment\n",
      "Setting up band-pass filter from 1 - 1.5e+02 Hz\n",
      "\n",
      "FIR filter parameters\n",
      "---------------------\n",
      "Designing a one-pass, zero-phase, non-causal bandpass filter:\n",
      "- Windowed time-domain design (firwin) method\n",
      "- Hamming window with 0.0194 passband ripple and 53 dB stopband attenuation\n",
      "- Lower passband edge: 1.00\n",
      "- Lower transition bandwidth: 1.00 Hz (-6 dB cutoff frequency: 0.50 Hz)\n",
      "- Upper passband edge: 150.00 Hz\n",
      "- Upper transition bandwidth: 37.50 Hz (-6 dB cutoff frequency: 168.75 Hz)\n",
      "- Filter length: 6601 samples (3.300 s)\n",
      "\n"
     ]
    },
    {
     "name": "stderr",
     "output_type": "stream",
     "text": [
      "[Parallel(n_jobs=1)]: Done  17 tasks      | elapsed:    1.3s\n",
      "[Parallel(n_jobs=1)]: Done  71 tasks      | elapsed:    5.1s\n",
      "[Parallel(n_jobs=1)]: Done 161 tasks      | elapsed:   11.2s\n"
     ]
    },
    {
     "name": "stdout",
     "output_type": "stream",
     "text": [
      "Filtering raw data in 1 contiguous segment\n",
      "Setting up band-stop filter\n",
      "\n",
      "FIR filter parameters\n",
      "---------------------\n",
      "Designing a one-pass, zero-phase, non-causal bandstop filter:\n",
      "- Windowed time-domain design (firwin) method\n",
      "- Hamming window with 0.0194 passband ripple and 53 dB stopband attenuation\n",
      "- Lower transition bandwidth: 0.50 Hz\n",
      "- Upper transition bandwidth: 0.50 Hz\n",
      "- Filter length: 13201 samples (6.601 s)\n",
      "\n"
     ]
    },
    {
     "name": "stderr",
     "output_type": "stream",
     "text": [
      "[Parallel(n_jobs=1)]: Done  17 tasks      | elapsed:    1.4s\n",
      "[Parallel(n_jobs=1)]: Done  71 tasks      | elapsed:    5.1s\n",
      "[Parallel(n_jobs=1)]: Done 161 tasks      | elapsed:   11.2s\n"
     ]
    }
   ],
   "source": [
    "## Filtering ##\n",
    "\n",
    "# load data #\n",
    "raw_fif.load_data()\n",
    "\n",
    "# highpass filter @ 1 and lowpass @ 200 #\n",
    "filtered_data = raw_fif.filter(l_freq=1, h_freq=150) # skip this step for TF analysis, always do this on the least processed data, or do .1 to 250\n",
    "\n",
    "# remove 60hz line noise #\n",
    "freqs = (60, 120, 180, 240)\n",
    "filtered_notch_data = filtered_data.notch_filter(freqs=freqs) \n"
   ]
  },
  {
   "cell_type": "code",
   "execution_count": 6,
   "id": "caec286e-f64b-4017-96af-8eb5703352ac",
   "metadata": {},
   "outputs": [
    {
     "name": "stdout",
     "output_type": "stream",
     "text": [
      "480 events found on stim channel STI\n",
      "Event IDs: [0 1]\n"
     ]
    }
   ],
   "source": [
    "## Load/Save Filtered Data ##\n",
    "\n",
    "# save #\n",
    "# filtered_notch_data.save(f\"{raw_data_dir}/{subject}_notched_filtered_ieeg.fif\", overwrite = True)\n",
    "\n",
    "# load #\n",
    "# filtered_notch_data = mne.io.Raw(f\"{raw_data_dir}/{subject}_notched_filtered_ieeg.fif\")\n",
    "events = mne.find_events(filtered_notch_data, output='step', consecutive = False, stim_channel='STI')"
   ]
  },
  {
   "cell_type": "code",
   "execution_count": 7,
   "id": "23654256",
   "metadata": {},
   "outputs": [
    {
     "data": {
      "text/plain": [
       "['NA',\n",
       " 'NA_2',\n",
       " 'NA_3',\n",
       " 'NA_4',\n",
       " 'REF1',\n",
       " 'FEF2',\n",
       " '`A1',\n",
       " '`A2',\n",
       " '`A3',\n",
       " '`A4',\n",
       " '`A5',\n",
       " '`A6',\n",
       " '`A7',\n",
       " '`A8',\n",
       " '`A9',\n",
       " '`A10',\n",
       " '`A11',\n",
       " '`A12',\n",
       " '`B1',\n",
       " '`B2',\n",
       " '`B3',\n",
       " '`B4',\n",
       " '`B5',\n",
       " '`B6',\n",
       " '`B7',\n",
       " '`B8',\n",
       " '`B9',\n",
       " '`B10',\n",
       " '`B11',\n",
       " '`B12',\n",
       " '`C1',\n",
       " '`C2',\n",
       " '`C3',\n",
       " '`C4',\n",
       " '`C5',\n",
       " '`C6',\n",
       " '`C7',\n",
       " '`C8',\n",
       " '`C9',\n",
       " '`C10',\n",
       " '`C11',\n",
       " '`C12',\n",
       " '`C13',\n",
       " '`C14',\n",
       " '`D1',\n",
       " '`D2',\n",
       " '`D3',\n",
       " '`D4',\n",
       " '`D5',\n",
       " '`D6',\n",
       " '`E1',\n",
       " '`E2',\n",
       " '`E3',\n",
       " '`E4',\n",
       " '`E5',\n",
       " '`E6',\n",
       " '`E7',\n",
       " '`E8',\n",
       " '`E9',\n",
       " '`E10',\n",
       " 'A61',\n",
       " 'A62',\n",
       " 'A63',\n",
       " 'A64',\n",
       " '`F1',\n",
       " '`F2',\n",
       " '`F3',\n",
       " '`F4',\n",
       " '`F5',\n",
       " '`F6',\n",
       " '`F7',\n",
       " '`F8',\n",
       " '`F9',\n",
       " '`F10',\n",
       " '`G1',\n",
       " '`G2',\n",
       " '`G3',\n",
       " '`G4',\n",
       " '`G5',\n",
       " '`G6',\n",
       " '`G7',\n",
       " '`G8',\n",
       " '`G9',\n",
       " '`G10',\n",
       " '`G11',\n",
       " '`G12',\n",
       " '`G13',\n",
       " '`G14',\n",
       " '`G15',\n",
       " '`G16',\n",
       " '`H1',\n",
       " '`H2',\n",
       " '`H3',\n",
       " '`H4',\n",
       " '`H5',\n",
       " '`H6',\n",
       " '`H7',\n",
       " '`H8',\n",
       " '`i1',\n",
       " '`i2',\n",
       " '`i3',\n",
       " '`i4',\n",
       " '`i5',\n",
       " '`i6',\n",
       " '`i7',\n",
       " '`i8',\n",
       " '`i9',\n",
       " '`i10',\n",
       " '`i11',\n",
       " '`i12',\n",
       " '`i13',\n",
       " '`i14',\n",
       " 'J`1',\n",
       " 'J`2',\n",
       " 'J`3',\n",
       " 'J`4',\n",
       " 'J`5',\n",
       " 'J`6',\n",
       " 'J`7',\n",
       " 'J`8',\n",
       " 'J`9',\n",
       " 'J`10',\n",
       " 'J`11',\n",
       " 'J`12',\n",
       " 'B61',\n",
       " 'B62',\n",
       " 'B63',\n",
       " 'B64',\n",
       " 'K`1',\n",
       " 'K`2',\n",
       " 'K`3',\n",
       " 'K`4',\n",
       " 'K`5',\n",
       " 'K`6',\n",
       " 'K`7',\n",
       " 'K`8',\n",
       " 'K`9',\n",
       " 'K`10',\n",
       " 'K`11',\n",
       " 'K`12',\n",
       " 'C13',\n",
       " 'C14',\n",
       " 'C15',\n",
       " 'C16',\n",
       " 'C17',\n",
       " 'C18',\n",
       " 'C19',\n",
       " 'C20',\n",
       " 'C21',\n",
       " 'C22',\n",
       " 'C23',\n",
       " 'C24',\n",
       " 'C25',\n",
       " 'C26',\n",
       " 'C27',\n",
       " 'C28',\n",
       " 'C29',\n",
       " 'C30',\n",
       " 'C31',\n",
       " 'C32',\n",
       " 'C33',\n",
       " 'C34',\n",
       " 'C35',\n",
       " 'C36',\n",
       " 'C37',\n",
       " 'C38',\n",
       " 'C39',\n",
       " 'C40',\n",
       " 'C41',\n",
       " 'C42',\n",
       " 'C43',\n",
       " 'Fp1',\n",
       " 'Fp2',\n",
       " 'F7',\n",
       " 'F3',\n",
       " 'Fz',\n",
       " 'F4',\n",
       " 'F8',\n",
       " 'T7',\n",
       " 'C3',\n",
       " 'Cz',\n",
       " 'C4',\n",
       " 'T8',\n",
       " 'P7',\n",
       " 'P3',\n",
       " 'Pz',\n",
       " 'P4',\n",
       " 'P8',\n",
       " 'O1',\n",
       " 'O2',\n",
       " 'ECG1',\n",
       " 'ECG2',\n",
       " 'STI']"
      ]
     },
     "execution_count": 7,
     "metadata": {},
     "output_type": "execute_result"
    }
   ],
   "source": [
    "filtered_notch_data.info['ch_names']\n"
   ]
  },
  {
   "cell_type": "markdown",
   "id": "c7592c27-2b7d-4147-8eac-8681a25b21b6",
   "metadata": {
    "tags": []
   },
   "source": [
    "## Cleaning Neural Data\n",
    "\n",
    "#### Bad Channels\n",
    "\n",
    "Epileptic channels from my cleaning: no spikes but slowing in 'C1, 'C2, 'C3\n",
    "\n",
    "Noisy channels: "
   ]
  },
  {
   "cell_type": "code",
   "execution_count": 10,
   "id": "ba43f6f7-c47f-406d-83b4-cf5d43dea9de",
   "metadata": {},
   "outputs": [
    {
     "data": {
      "text/html": [
       "<details open>\n",
       "    <summary><strong>General</strong></summary>\n",
       "    <table class=\"table table-hover table-striped table-sm table-responsive small\">\n",
       "        <tr>\n",
       "            <th>Measurement date</th>\n",
       "            \n",
       "            <td>Unknown</td>\n",
       "            \n",
       "        </tr>\n",
       "        <tr>\n",
       "            <th>Experimenter</th>\n",
       "            \n",
       "            <td>Unknown</td>\n",
       "            \n",
       "        </tr>\n",
       "        <tr>\n",
       "            <th>Participant</th>\n",
       "            \n",
       "            <td>Unknown</td>\n",
       "            \n",
       "        </tr>\n",
       "    </table>\n",
       "    </details>\n",
       "    <details open>\n",
       "        <summary><strong>Channels</strong></summary>\n",
       "        <table class=\"table table-hover table-striped table-sm table-responsive small\">\n",
       "            <tr>\n",
       "                <th>Digitized points</th>\n",
       "                \n",
       "                <td>0 points</td>\n",
       "                \n",
       "            </tr>\n",
       "            <tr>\n",
       "                <th>Good channels</th>\n",
       "                <td>159 sEEG, 1 Stimulus</td>\n",
       "            </tr>\n",
       "            <tr>\n",
       "                <th>Bad channels</th>\n",
       "                <td>REF1, NA, NA_2, NA_3, NA_4, `F4, `F5, `i1, `i2, `C14, `E10, `C1, `C2, `C3, Fp1, Fp2, F7, F3, Fz, F4, F8, T7, C3, Cz, C4, T8, P7, P3, Pz, P4, P8, O1, O2</td>\n",
       "            </tr>\n",
       "            <tr>\n",
       "                <th>EOG channels</th>\n",
       "                <td>Not available</td>\n",
       "            </tr>\n",
       "            <tr>\n",
       "                <th>ECG channels</th>\n",
       "                <td>Not available</td>\n",
       "            </tr>\n",
       "        </table>\n",
       "        </details>\n",
       "        <details open>\n",
       "            <summary><strong>Data</strong></summary>\n",
       "            <table class=\"table table-hover table-striped table-sm table-responsive small\">\n",
       "                \n",
       "                <tr>\n",
       "                    <th>Sampling frequency</th>\n",
       "                    <td>2000.00 Hz</td>\n",
       "                </tr>\n",
       "                \n",
       "                \n",
       "                <tr>\n",
       "                    <th>Highpass</th>\n",
       "                    <td>1.00 Hz</td>\n",
       "                </tr>\n",
       "                \n",
       "                \n",
       "                <tr>\n",
       "                    <th>Lowpass</th>\n",
       "                    <td>150.00 Hz</td>\n",
       "                </tr>\n",
       "                \n",
       "                \n",
       "                \n",
       "                <tr>\n",
       "                    <th>Filenames</th>\n",
       "                    <td>SLCH018_raw_ieeg.fif&lt;br&gt;SLCH018_raw_ieeg-1.fif</td>\n",
       "                </tr>\n",
       "                \n",
       "                \n",
       "                <tr>\n",
       "                    <th>Duration</th>\n",
       "                    <td>00:24:40 (HH:MM:SS)</td>\n",
       "                </tr>\n",
       "                \n",
       "            </table>\n",
       "            </details>"
      ],
      "text/plain": [
       "<Raw | SLCH018_raw_ieeg.fif, 193 x 2958800 (1479.4 s), ~4.25 GB, data loaded>"
      ]
     },
     "execution_count": 10,
     "metadata": {},
     "output_type": "execute_result"
    }
   ],
   "source": [
    "# Remove Channels from filtered data\n",
    "\n",
    "# remove non seeg electrodes electrodes #\n",
    "string_lst = ['EMPTY', 'REF', 'ekg']\n",
    "\n",
    "bad_channels_reg = [re.findall(r\"(?=(\"+'|'.join(string_lst)+r\"))\", name, re.IGNORECASE) for name in filtered_notch_data.info['ch_names']]\n",
    "bad_channels_index = [i for i,x in enumerate(bad_channels_reg) if  x]\n",
    "bad_channels = [filtered_notch_data.info['ch_names'][i] for i in bad_channels_index]\n",
    "\n",
    "filtered_notch_data.info['bads'].extend(bad_channels)  \n",
    "\n",
    "# # remove epileptic electrodes --- uncomment these 3 lines after inspection with BOB\n",
    "bob_bad_channels =['NA', 'NA_2', 'NA_3', 'NA_4','`F4', '`F5','`i1', '`i2', '`C14','`E10','`C1', '`C2', '`C3']\n",
    "filtered_notch_data.info['bads'].extend(bob_bad_channels)  \n",
    "\n",
    "\n",
    "# remove out of brain electrodes\n",
    "## TODO hasn't been localized\n",
    "\n",
    "# remove scalp and dc channels\n",
    "scalp_dc_channels = ['Fp1', 'Fp2', 'F7', 'F3', 'Fz', 'F4', 'F8', 'T7', 'C3', 'Cz', 'C4', 'T8', 'P7', 'P3', 'Pz', 'P4', 'P8', 'O1', 'O2']\n",
    "\n",
    "\n",
    "filtered_notch_data.info['bads'].extend(scalp_dc_channels)\n",
    "filtered_notch_data"
   ]
  },
  {
   "cell_type": "markdown",
   "metadata": {},
   "source": [
    "#### Bad Epochs from noisy data\n",
    "\n"
   ]
  },
  {
   "cell_type": "code",
   "execution_count": 13,
   "metadata": {},
   "outputs": [],
   "source": [
    "# Annotate Noisy Epochs from Bob's cleaning\n",
    "\n",
    "# read from csv from interactive session\n",
    "bad_annots = mne.read_annotations('../ieeg/saved_annotations.fif')   \n"
   ]
  },
  {
   "cell_type": "markdown",
   "metadata": {},
   "source": [
    "#### Bad epochs from bad trial data"
   ]
  },
  {
   "cell_type": "code",
   "execution_count": 15,
   "metadata": {},
   "outputs": [],
   "source": [
    "## quality check trials ##\n",
    "\n",
    "# calculate trial onsets and offsets\n",
    "sti_raw = filtered_notch_data.get_data(picks = ['STI'])\n",
    "lengths, positionsm, val  = rle(sti_raw[0])\n",
    "\n",
    "# lengths, beginnings, endings, for trials\n",
    "trial_lengths = [lengths[x] for x in np.where(val == 1)]\n",
    "trial_begins = [positionsm[x] for x in np.where(val == 1)]\n",
    "trial_ends = trial_lengths[0] + trial_begins[0]\n",
    "trial_baseline = trial_begins[0] - 1000\n",
    "\n",
    "# lengths, beginnings, endings, for itis\n",
    "iti_lengths = [lengths[x] for x in np.where(val == 0)]\n",
    "iti_begins = [positionsm[x] for x in np.where(val == 0)]\n",
    "iti_ends = iti_begins[0] + iti_lengths[0]\n",
    "\n",
    "# save trial lengths for later\n",
    "np.save(f\"{preproc_data_dir}/{subject}_trial_lengths.npy\", trial_lengths)"
   ]
  },
  {
   "cell_type": "code",
   "execution_count": 18,
   "metadata": {},
   "outputs": [],
   "source": [
    "# exclude bad trials/apochs from r behavioral analysis (paused trials and no biscuits)\n",
    "\n",
    "# load bad trial data\n",
    "bad_trials = np.genfromtxt(f\"{raw_data_dir}/behave/{subject}_bad_trials.csv\", delimiter = ',', skip_header = 1)\n",
    "\n",
    "onsets = []\n",
    "durations = []\n",
    "for bad in bad_trials:\n",
    "    start, dur = find_bad_trial_times(int(bad), raw_fif.info['sfreq'], trial_begins, trial_lengths)\n",
    "    onsets.append(start)\n",
    "    durations.append(dur)\n",
    "\n",
    "# update descriptions\n",
    "descriptions = ['bad'] * len(durations)\n"
   ]
  },
  {
   "cell_type": "code",
   "execution_count": 19,
   "metadata": {},
   "outputs": [
    {
     "data": {
      "text/html": [
       "<details open>\n",
       "    <summary><strong>General</strong></summary>\n",
       "    <table class=\"table table-hover table-striped table-sm table-responsive small\">\n",
       "        <tr>\n",
       "            <th>Measurement date</th>\n",
       "            \n",
       "            <td>Unknown</td>\n",
       "            \n",
       "        </tr>\n",
       "        <tr>\n",
       "            <th>Experimenter</th>\n",
       "            \n",
       "            <td>Unknown</td>\n",
       "            \n",
       "        </tr>\n",
       "        <tr>\n",
       "            <th>Participant</th>\n",
       "            \n",
       "            <td>Unknown</td>\n",
       "            \n",
       "        </tr>\n",
       "    </table>\n",
       "    </details>\n",
       "    <details open>\n",
       "        <summary><strong>Channels</strong></summary>\n",
       "        <table class=\"table table-hover table-striped table-sm table-responsive small\">\n",
       "            <tr>\n",
       "                <th>Digitized points</th>\n",
       "                \n",
       "                <td>0 points</td>\n",
       "                \n",
       "            </tr>\n",
       "            <tr>\n",
       "                <th>Good channels</th>\n",
       "                <td>159 sEEG, 1 Stimulus</td>\n",
       "            </tr>\n",
       "            <tr>\n",
       "                <th>Bad channels</th>\n",
       "                <td>REF1, NA, NA_2, NA_3, NA_4, `F4, `F5, `i1, `i2, `C14, `E10, `C1, `C2, `C3, Fp1, Fp2, F7, F3, Fz, F4, F8, T7, C3, Cz, C4, T8, P7, P3, Pz, P4, P8, O1, O2</td>\n",
       "            </tr>\n",
       "            <tr>\n",
       "                <th>EOG channels</th>\n",
       "                <td>Not available</td>\n",
       "            </tr>\n",
       "            <tr>\n",
       "                <th>ECG channels</th>\n",
       "                <td>Not available</td>\n",
       "            </tr>\n",
       "        </table>\n",
       "        </details>\n",
       "        <details open>\n",
       "            <summary><strong>Data</strong></summary>\n",
       "            <table class=\"table table-hover table-striped table-sm table-responsive small\">\n",
       "                \n",
       "                <tr>\n",
       "                    <th>Sampling frequency</th>\n",
       "                    <td>2000.00 Hz</td>\n",
       "                </tr>\n",
       "                \n",
       "                \n",
       "                <tr>\n",
       "                    <th>Highpass</th>\n",
       "                    <td>1.00 Hz</td>\n",
       "                </tr>\n",
       "                \n",
       "                \n",
       "                <tr>\n",
       "                    <th>Lowpass</th>\n",
       "                    <td>150.00 Hz</td>\n",
       "                </tr>\n",
       "                \n",
       "                \n",
       "                \n",
       "                <tr>\n",
       "                    <th>Filenames</th>\n",
       "                    <td>SLCH018_raw_ieeg.fif&lt;br&gt;SLCH018_raw_ieeg-1.fif</td>\n",
       "                </tr>\n",
       "                \n",
       "                \n",
       "                <tr>\n",
       "                    <th>Duration</th>\n",
       "                    <td>00:24:40 (HH:MM:SS)</td>\n",
       "                </tr>\n",
       "                \n",
       "            </table>\n",
       "            </details>"
      ],
      "text/plain": [
       "<Raw | SLCH018_raw_ieeg.fif, 193 x 2958800 (1479.4 s), ~4.25 GB, data loaded>"
      ]
     },
     "execution_count": 19,
     "metadata": {},
     "output_type": "execute_result"
    }
   ],
   "source": [
    "# exclude all bad epochs from both bad trials and investigating neural data ##\n",
    "\n",
    "# combine with bad trial data #\n",
    "bad_annots.append(onsets, durations, descriptions)\n",
    "\n",
    "# # apply to filtered data #\n",
    "filtered_notch_data.set_annotations(bad_annots)\n",
    "\n",
    "# # apply to not filtered data #\n",
    "raw_fif.set_annotations(bad_annots)"
   ]
  },
  {
   "cell_type": "markdown",
   "id": "b77b2b48-4c88-4004-987a-d88a68a6e8a4",
   "metadata": {},
   "source": [
    "## Visualizing Neural Data"
   ]
  },
  {
   "cell_type": "code",
   "execution_count": 10,
   "id": "f2efdb0b-7f51-4365-b073-245f03523c18",
   "metadata": {},
   "outputs": [
    {
     "name": "stdout",
     "output_type": "stream",
     "text": [
      "Using qt as 2D backend.\n"
     ]
    },
    {
     "name": "stderr",
     "output_type": "stream",
     "text": [
      "qt.qpa.xcb: X server does not support XInput 2\n",
      "Qt: Session management error: Authentication Rejected, reason : None of the authentication protocols specified are supported and host-based authentication failed\n",
      "qt.qpa.xcb: QXcbConnection: XCB error: 1 (BadRequest), sequence: 169, resource id: 132, major code: 130 (Unknown), minor code: 47\n"
     ]
    },
    {
     "data": {
      "text/plain": [
       "<mne_qt_browser._pg_figure.MNEQtBrowser at 0x7fe233a3bac0>"
      ]
     },
     "execution_count": 10,
     "metadata": {},
     "output_type": "execute_result"
    },
    {
     "name": "stderr",
     "output_type": "stream",
     "text": [
      "qt.qpa.xcb: QXcbConnection: XCB error: 3 (BadWindow), sequence: 16688, resource id: 6408313, major code: 40 (TranslateCoords), minor code: 0\n"
     ]
    }
   ],
   "source": [
    "# plot for cleaning #\n",
    "\n",
    "filtered_notch_data.plot(events=events, color='b', bad_color = 'red', n_channels = 230, clipping = None, event_color = 'r')"
   ]
  },
  {
   "cell_type": "code",
   "execution_count": 14,
   "id": "f32f1587",
   "metadata": {},
   "outputs": [
    {
     "name": "stdout",
     "output_type": "stream",
     "text": [
      "OrderedDict([('onset', 267.47691623508354), ('duration', 0.31999253336249467), ('description', 'bad'), ('orig_time', None)])\n",
      "OrderedDict([('onset', 708.5281063221374), ('duration', 7.081316247557993), ('description', 'bad'), ('orig_time', None)])\n",
      "OrderedDict([('onset', 765.8638055001952), ('duration', 0.7703523951317948), ('description', 'bad'), ('orig_time', None)])\n",
      "OrderedDict([('onset', 991.8237181849581), ('duration', 0.9599776000874272), ('description', 'bad'), ('orig_time', None)])\n",
      "OrderedDict([('onset', 1030.2368959341334), ('duration', 1.7125526322545284), ('description', 'bad'), ('orig_time', None)])\n",
      "OrderedDict([('onset', 1146.941580179323), ('duration', 2.9510422521204873), ('description', 'bad'), ('orig_time', None)])\n",
      "OrderedDict([('onset', 1269.868341462116), ('duration', 0.7822039704415147), ('description', 'bad'), ('orig_time', None)])\n",
      "OrderedDict([('onset', 1321.2486240470391), ('duration', 8.977568297113294), ('description', 'bad'), ('orig_time', None)])\n",
      "OrderedDict([('onset', 1330.6772929293786), ('duration', 5.07840002021544), ('description', 'bad'), ('orig_time', None)])\n",
      "OrderedDict([('onset', 1376.7236259014708), ('duration', 4.06509033123416), ('description', 'bad'), ('orig_time', None)])\n",
      "OrderedDict([('onset', 1387.2426397123047), ('duration', 3.3480700249961046), ('description', 'bad'), ('orig_time', None)])\n",
      "OrderedDict([('onset', 1399.486057730703), ('duration', 3.8339846126946213), ('description', 'bad'), ('orig_time', None)])\n",
      "OrderedDict([('onset', 1406.437747373311), ('duration', 1.4044116742018105), ('description', 'bad'), ('orig_time', None)])\n",
      "OrderedDict([('onset', 1448.3175109005795), ('duration', 0.3970277728756173), ('description', 'bad'), ('orig_time', None)])\n",
      "OrderedDict([('onset', 1462.4105153907508), ('duration', 0.3970277728758447), ('description', 'bad'), ('orig_time', None)])\n",
      "Overwriting existing file.\n"
     ]
    },
    {
     "name": "stderr",
     "output_type": "stream",
     "text": [
      "/tmp/ipykernel_2838090/3068101005.py:7: RuntimeWarning: This filename (../ieeg/saved_annotations.fif) does not conform to MNE naming conventions. All annotations files should end with -annot.fif, -annot.fif.gz, _annot.fif, _annot.fif.gz, .txt or .csv\n",
      "  filtered_notch_data.annotations.save('../ieeg/saved_annotations.fif', overwrite = True)\n"
     ]
    }
   ],
   "source": [
    "# ## From interactive sessions --- saving annotations from BOB\n",
    "# interactive_annot = filtered_notch_data.annotations\n",
    "# for x in range(0, len(filtered_notch_data.annotations)):\n",
    "#     print(interactive_annot[x])\n",
    "    \n",
    "    \n",
    "# filtered_notch_data.annotations.save('../ieeg/saved_annotations.fif', overwrite = True) "
   ]
  },
  {
   "cell_type": "markdown",
   "id": "719ec749-adbe-4e51-8b43-ebf716018b6a",
   "metadata": {},
   "source": [
    "## Save Files"
   ]
  },
  {
   "cell_type": "code",
   "execution_count": 20,
   "id": "ede2e048-ff29-427f-887e-71e29cbe984a",
   "metadata": {},
   "outputs": [
    {
     "name": "stdout",
     "output_type": "stream",
     "text": [
      "Writing /home/brooke/pacman/raw_data/SLCH018/ieeg/SLCH018_notched_filtered_clean_ieeg.fif\n",
      "Closing /home/brooke/pacman/raw_data/SLCH018/ieeg/SLCH018_notched_filtered_clean_ieeg.fif\n",
      "Writing /home/brooke/pacman/raw_data/SLCH018/ieeg/SLCH018_notched_filtered_clean_ieeg-1.fif\n",
      "Closing /home/brooke/pacman/raw_data/SLCH018/ieeg/SLCH018_notched_filtered_clean_ieeg-1.fif\n",
      "[done]\n",
      "Writing /home/brooke/pacman/raw_data/SLCH018/SLCH018_raw_clean_ieeg.fif\n",
      "Closing /home/brooke/pacman/raw_data/SLCH018/SLCH018_raw_clean_ieeg.fif\n",
      "Writing /home/brooke/pacman/raw_data/SLCH018/SLCH018_raw_clean_ieeg-1.fif\n",
      "Closing /home/brooke/pacman/raw_data/SLCH018/SLCH018_raw_clean_ieeg-1.fif\n",
      "[done]\n"
     ]
    }
   ],
   "source": [
    "# save filtered data #\n",
    "filtered_notch_data.save(f\"{raw_data_dir}/ieeg/{subject}_notched_filtered_clean_ieeg.fif\", overwrite = True)\n",
    "\n",
    "\n",
    "# save raw clean data #\n",
    "raw_fif.save(f\"{raw_data_dir}/ieeg/{subject}_raw_clean_ieeg.fif\", overwrite = True)\n"
   ]
  },
  {
   "cell_type": "code",
   "execution_count": 21,
   "id": "d895cf3b-6cde-4606-b65c-b72cb45f1eb9",
   "metadata": {},
   "outputs": [
    {
     "data": {
      "text/html": [
       "<details open>\n",
       "    <summary><strong>General</strong></summary>\n",
       "    <table class=\"table table-hover table-striped table-sm table-responsive small\">\n",
       "        <tr>\n",
       "            <th>Measurement date</th>\n",
       "            \n",
       "            <td>Unknown</td>\n",
       "            \n",
       "        </tr>\n",
       "        <tr>\n",
       "            <th>Experimenter</th>\n",
       "            \n",
       "            <td>Unknown</td>\n",
       "            \n",
       "        </tr>\n",
       "        <tr>\n",
       "            <th>Participant</th>\n",
       "            \n",
       "            <td>Unknown</td>\n",
       "            \n",
       "        </tr>\n",
       "    </table>\n",
       "    </details>\n",
       "    <details open>\n",
       "        <summary><strong>Channels</strong></summary>\n",
       "        <table class=\"table table-hover table-striped table-sm table-responsive small\">\n",
       "            <tr>\n",
       "                <th>Digitized points</th>\n",
       "                \n",
       "                <td>0 points</td>\n",
       "                \n",
       "            </tr>\n",
       "            <tr>\n",
       "                <th>Good channels</th>\n",
       "                <td>159 sEEG, 1 Stimulus</td>\n",
       "            </tr>\n",
       "            <tr>\n",
       "                <th>Bad channels</th>\n",
       "                <td>REF1, NA, NA_2, NA_3, NA_4, `F4, `F5, `i1, `i2, `C14, `E10, `C1, `C2, `C3, Fp1, Fp2, F7, F3, Fz, F4, F8, T7, C3, Cz, C4, T8, P7, P3, Pz, P4, P8, O1, O2</td>\n",
       "            </tr>\n",
       "            <tr>\n",
       "                <th>EOG channels</th>\n",
       "                <td>Not available</td>\n",
       "            </tr>\n",
       "            <tr>\n",
       "                <th>ECG channels</th>\n",
       "                <td>Not available</td>\n",
       "            </tr>\n",
       "        </table>\n",
       "        </details>\n",
       "        <details open>\n",
       "            <summary><strong>Data</strong></summary>\n",
       "            <table class=\"table table-hover table-striped table-sm table-responsive small\">\n",
       "                \n",
       "                <tr>\n",
       "                    <th>Sampling frequency</th>\n",
       "                    <td>2000.00 Hz</td>\n",
       "                </tr>\n",
       "                \n",
       "                \n",
       "                <tr>\n",
       "                    <th>Highpass</th>\n",
       "                    <td>1.00 Hz</td>\n",
       "                </tr>\n",
       "                \n",
       "                \n",
       "                <tr>\n",
       "                    <th>Lowpass</th>\n",
       "                    <td>150.00 Hz</td>\n",
       "                </tr>\n",
       "                \n",
       "                \n",
       "                \n",
       "                <tr>\n",
       "                    <th>Filenames</th>\n",
       "                    <td>SLCH018_raw_ieeg.fif&lt;br&gt;SLCH018_raw_ieeg-1.fif</td>\n",
       "                </tr>\n",
       "                \n",
       "                \n",
       "                <tr>\n",
       "                    <th>Duration</th>\n",
       "                    <td>00:24:40 (HH:MM:SS)</td>\n",
       "                </tr>\n",
       "                \n",
       "            </table>\n",
       "            </details>"
      ],
      "text/plain": [
       "<Raw | SLCH018_raw_ieeg.fif, 193 x 2958800 (1479.4 s), ~4.25 GB, data loaded>"
      ]
     },
     "execution_count": 21,
     "metadata": {},
     "output_type": "execute_result"
    }
   ],
   "source": [
    "raw_fif"
   ]
  },
  {
   "cell_type": "code",
   "execution_count": 22,
   "metadata": {},
   "outputs": [
    {
     "data": {
      "text/html": [
       "<details open>\n",
       "    <summary><strong>General</strong></summary>\n",
       "    <table class=\"table table-hover table-striped table-sm table-responsive small\">\n",
       "        <tr>\n",
       "            <th>Measurement date</th>\n",
       "            \n",
       "            <td>Unknown</td>\n",
       "            \n",
       "        </tr>\n",
       "        <tr>\n",
       "            <th>Experimenter</th>\n",
       "            \n",
       "            <td>Unknown</td>\n",
       "            \n",
       "        </tr>\n",
       "        <tr>\n",
       "            <th>Participant</th>\n",
       "            \n",
       "            <td>Unknown</td>\n",
       "            \n",
       "        </tr>\n",
       "    </table>\n",
       "    </details>\n",
       "    <details open>\n",
       "        <summary><strong>Channels</strong></summary>\n",
       "        <table class=\"table table-hover table-striped table-sm table-responsive small\">\n",
       "            <tr>\n",
       "                <th>Digitized points</th>\n",
       "                \n",
       "                <td>0 points</td>\n",
       "                \n",
       "            </tr>\n",
       "            <tr>\n",
       "                <th>Good channels</th>\n",
       "                <td>159 sEEG, 1 Stimulus</td>\n",
       "            </tr>\n",
       "            <tr>\n",
       "                <th>Bad channels</th>\n",
       "                <td>REF1, NA, NA_2, NA_3, NA_4, `F4, `F5, `i1, `i2, `C14, `E10, `C1, `C2, `C3, Fp1, Fp2, F7, F3, Fz, F4, F8, T7, C3, Cz, C4, T8, P7, P3, Pz, P4, P8, O1, O2</td>\n",
       "            </tr>\n",
       "            <tr>\n",
       "                <th>EOG channels</th>\n",
       "                <td>Not available</td>\n",
       "            </tr>\n",
       "            <tr>\n",
       "                <th>ECG channels</th>\n",
       "                <td>Not available</td>\n",
       "            </tr>\n",
       "        </table>\n",
       "        </details>\n",
       "        <details open>\n",
       "            <summary><strong>Data</strong></summary>\n",
       "            <table class=\"table table-hover table-striped table-sm table-responsive small\">\n",
       "                \n",
       "                <tr>\n",
       "                    <th>Sampling frequency</th>\n",
       "                    <td>2000.00 Hz</td>\n",
       "                </tr>\n",
       "                \n",
       "                \n",
       "                <tr>\n",
       "                    <th>Highpass</th>\n",
       "                    <td>1.00 Hz</td>\n",
       "                </tr>\n",
       "                \n",
       "                \n",
       "                <tr>\n",
       "                    <th>Lowpass</th>\n",
       "                    <td>150.00 Hz</td>\n",
       "                </tr>\n",
       "                \n",
       "                \n",
       "                \n",
       "                <tr>\n",
       "                    <th>Filenames</th>\n",
       "                    <td>SLCH018_raw_ieeg.fif&lt;br&gt;SLCH018_raw_ieeg-1.fif</td>\n",
       "                </tr>\n",
       "                \n",
       "                \n",
       "                <tr>\n",
       "                    <th>Duration</th>\n",
       "                    <td>00:24:40 (HH:MM:SS)</td>\n",
       "                </tr>\n",
       "                \n",
       "            </table>\n",
       "            </details>"
      ],
      "text/plain": [
       "<Raw | SLCH018_raw_ieeg.fif, 193 x 2958800 (1479.4 s), ~4.25 GB, data loaded>"
      ]
     },
     "execution_count": 22,
     "metadata": {},
     "output_type": "execute_result"
    }
   ],
   "source": [
    "filtered_notch_data"
   ]
  },
  {
   "cell_type": "code",
   "execution_count": null,
   "metadata": {},
   "outputs": [],
   "source": []
  }
 ],
 "metadata": {
  "kernelspec": {
   "display_name": "ieeg_cleaning",
   "language": "python",
   "name": "python3"
  },
  "language_info": {
   "codemirror_mode": {
    "name": "ipython",
    "version": 3
   },
   "file_extension": ".py",
   "mimetype": "text/x-python",
   "name": "python",
   "nbconvert_exporter": "python",
   "pygments_lexer": "ipython3",
   "version": "3.11.9"
  }
 },
 "nbformat": 4,
 "nbformat_minor": 5
}

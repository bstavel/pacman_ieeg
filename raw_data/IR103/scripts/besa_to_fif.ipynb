{
 "cells": [
  {
   "cell_type": "markdown",
   "id": "1dde1236-abaf-40af-8af3-97742d564328",
   "metadata": {},
   "source": [
    "## Conversion to fif: IR103\n",
    "\n",
    "This script takes the raw, original data file we recieved from WashU and converts it to a fif file with the photodiode as a new stim channel\n",
    "\n",
    "\n",
    "Just need to change fields in `prep_paths`"
   ]
  },
  {
   "cell_type": "code",
   "execution_count": null,
   "id": "30b1b892-6de7-490a-9015-15e96664db57",
   "metadata": {
    "tags": []
   },
   "outputs": [],
   "source": [
    "% good morning matlab"
   ]
  },
  {
   "cell_type": "code",
   "execution_count": 3,
   "id": "62e13220-9f74-44ec-90e6-4d3d6290e9d4",
   "metadata": {
    "tags": []
   },
   "outputs": [],
   "source": [
    "addpath(genpath('/home/brooke/pacman/BESA2MATLAB'))"
   ]
  },
  {
   "cell_type": "code",
   "execution_count": 4,
   "id": "41cb0bc0-d990-4f31-ae6b-7744c74a3531",
   "metadata": {
    "tags": []
   },
   "outputs": [],
   "source": [
    "%% add fieldtrip\n",
    "ftDir = '/home/brooke/fieldtrip/fieldtrip-20191213';\n",
    "if exist('ft_defaults.m', 'file') == 0\n",
    "    addpath(ftDir); ft_defaults;\n",
    "end\n"
   ]
  },
  {
   "cell_type": "code",
   "execution_count": 1,
   "id": "cdd12f2e-0d9e-4fe7-9f99-59d7b021a2a6",
   "metadata": {
    "tags": []
   },
   "outputs": [
    {
     "name": "stdout",
     "output_type": "stream",
     "text": [
      "\n",
      "subject =\n",
      "\n",
      "    'IR103'\n",
      "\n",
      "\n",
      "orig_data_fi =\n",
      "\n",
      "    '/home/brooke/knight_server/remote/ecog/DATA_FOLDER/Irvine/IR103/Datafiles/2023060111/2023060111_0002.besa'\n",
      "\n",
      "\n",
      "raw_data_dir = \n",
      "\n",
      "    \"/home/brooke/pacman/raw_data/IR103/ieeg\"\n",
      "\n"
     ]
    }
   ],
   "source": [
    "%% prep paths\n",
    "\n",
    "subject = 'IR103'\n",
    "% orig_data_fi = '/home/brooke/knight_server/remote/ecog/DATA_FOLDER/Irvine/IR103/Datafiles/2023060114/2023060114_0002.besa'\n",
    "orig_data_fi = '/home/brooke/knight_server/remote/ecog/DATA_FOLDER/Irvine/IR103/Datafiles/2023060111/2023060111_0002.besa'\n",
    "raw_data_dir = sprintf(\"/home/brooke/pacman/raw_data/%s/ieeg\", subject)"
   ]
  },
  {
   "cell_type": "code",
   "execution_count": 4,
   "id": "ad2ab892-3a15-409b-b6b8-d0b9ad7235ad",
   "metadata": {
    "tags": []
   },
   "outputs": [
    {
     "name": "stdout",
     "output_type": "stream",
     "text": [
      "\n",
      "data = \n",
      "\n",
      "  struct with fields:\n",
      "\n",
      "    CoordinateSystem: '  '\n",
      "\n"
     ]
    }
   ],
   "source": [
    "data = readBESAbsa(orig_data_fi)"
   ]
  },
  {
   "cell_type": "code",
   "execution_count": 7,
   "id": "e86f139c-d102-4719-8b9e-76e727983ee2",
   "metadata": {
    "tags": []
   },
   "outputs": [
    {
     "name": "stdout",
     "output_type": "stream",
     "text": [
      "\n",
      "data = \n",
      "\n",
      "  struct with fields:\n",
      "\n",
      "    CoordinateSystem: '  '\n",
      "\n"
     ]
    }
   ],
   "source": [
    "data\n"
   ]
  },
  {
   "cell_type": "code",
   "execution_count": 11,
   "id": "b4d0fe3c-ceed-4b91-9356-ac164eb47f79",
   "metadata": {
    "tags": []
   },
   "outputs": [
    {
     "name": "stdout",
     "output_type": "stream",
     "text": [
      "Warning: Read unexpected tag [EVTS] at offset 5347591264\n",
      " In '/home/brooke/fieldtrip/fieldtrip-20191213/fileio/private/read_besa_besa.m' at line 1700\n",
      " In '/home/brooke/fieldtrip/fieldtrip-20191213/fileio/private/read_besa_besa.m' at line 1632\n",
      " In '/home/brooke/fieldtrip/fieldtrip-20191213/fileio/private/read_besa_besa.m' at line 1002\n",
      " In '/home/brooke/fieldtrip/fieldtrip-20191213/fileio/private/read_besa_besa.m' at line 82\n",
      " In '/home/brooke/fieldtrip/fieldtrip-20191213/fileio/ft_read_header.m' at line 372\n",
      " In '/home/brooke/fieldtrip/fieldtrip-20191213/ft_preprocessing.m' at line 397\n",
      "\n",
      "Warning: 0 bytes off. Read 36 bytes from event block. Should have read 136 bytes\n",
      "Warning: Read unexpected tag [EVTS] at offset 5779842800\n",
      "Warning: 0 bytes off. Read 36 bytes from event block. Should have read 142 bytes\n",
      "Warning: Read unexpected tag [EVTS] at offset 7805249502\n",
      "Warning: 0 bytes off. Read 36 bytes from event block. Should have read 130 bytes\n",
      "Warning: Read unexpected tag [EVTS] at offset 7817599672\n",
      "Warning: 0 bytes off. Read 36 bytes from event block. Should have read 126 bytes\n",
      "processing channel { 'DC01' 'DC02' 'DC03' 'DC04' 'LAM1' 'LAM2' 'LAM3' 'LAM4' 'LAM5' 'LAM6' 'LAM7' 'LAM8' 'LAM9' 'LAM10' 'LAM11' 'LAM12' 'LHH1' 'LHH2' 'LHH3' 'LHH4' 'LHH5' 'LHH6' 'LHH7' 'LHH8' 'LHH9' 'LHH10' 'LHH11' 'LHH12' 'LTH1' 'LTH2' 'LTH3' 'LTH4' 'LTH5' 'LTH6' 'LTH7' 'LTH8' 'LTH9' 'LTH10' 'LTH11' 'LTH12' 'LBT1' 'LBT2' 'LBT3' 'LBT4' 'LBT5' 'LBT6' 'LBT7' 'LBT8' 'LBT9' 'LBT10' 'LBT11' 'LBT12' 'LLES1' 'LLES2' 'LLES3' 'LLES4' 'LLES5' 'LLES6' 'LLES7' 'LLES8' 'LLES9' 'LLES10' 'LLES11' 'LLES12' 'XREF' 'EKG' 'E' 'LCUN1' 'LCUN2' 'LCUN3' 'LCUN4' 'LCUN5' 'LCUN6' 'LCUN7' 'LCUN8' 'LCUN9' 'LCUN10' 'LCUN11' 'LCUN12' 'LPRE1' 'LPRE2' 'LPRE3' 'LPRE4' 'LPRE5' 'LPRE6' 'LPRE7' 'LPRE8' 'LPRE9' 'LPRE10' 'LPRE11' 'LPRE12' 'LPCI1' 'LPCI2' 'LPCI3' 'LPCI4' 'LPCI5' 'LPCI6' 'LPCI7' 'LPCI8' 'LPCI9' 'LPCI10' 'LPCI11' 'LPCI12' 'LMCI1' 'LMCI2' 'LMCI3' 'LMCI4' 'LMCI5' 'LMCI6' 'LMCI7' 'LMCI8' 'LMCI9' 'LMCI10' 'LMCI11' 'LMCI12' 'LACI1' 'LACI2' 'LACI3' 'LACI4' 'LACI5' 'LACI6' 'LACI7' 'LACI8' 'LACI9' 'LACI10' 'LACI11' 'LACI12' 'RAM1' 'RAM2' 'RAM3' 'RAM4' 'RAM5' 'RAM6' 'RAM7' 'RAM8' 'RAM9' 'RAM10' 'RAM11' 'RAM12' 'RHH1' 'RHH2' 'RHH3' 'RHH4' 'RHH5' 'RHH6' 'RHH7' 'RHH8' 'RHH9' 'RHH10' 'RHH11' 'RHH12' 'RTH1' 'RTH2' 'RTH3' 'RTH4' 'RTH5' 'RTH6' 'RTH7' 'RTH8' 'RTH9' 'RTH10' 'RTH11' 'RTH12' 'RBL1' 'RBL2' 'RBL3' 'RBL4' 'RBL5' 'RBL6' 'RBL7' 'RBL8' 'RBL9' 'RBL10' 'RBL11' 'RBL12' 'RLES1' 'RLES2' 'RLES3' 'RLES4' 'RLES5' 'RLES6' 'RLES7' 'RLES8' 'RLES9' 'RLES10' 'RLES11' 'RLES12' 'RCUN1' 'RCUN2' 'RCUN3' 'RCUN4' 'RCUN5' 'RCUN6' 'RCUN7' 'RCUN8' 'RCUN9' 'RCUN10' 'RCUN11' 'RCUN12' 'RPRE1' 'RPRE2' 'RPRE3' 'RPRE4' 'RPRE5' 'RPRE6' 'RPRE7' 'RPRE8' 'RPRE9' 'RPRE10' 'RPRE11' 'RPRE12' 'RPCI1' 'RPCI2' 'RPCI3' 'RPCI4' 'RPCI5' 'RPCI6' 'RPCI7' 'RPCI8' 'RPCI9' 'RPCI10' 'RPCI11' 'RPCI12' 'RMCI1' 'RMCI2' 'RMCI3' 'RMCI4' 'RMCI5' 'RMCI6' 'RMCI7' 'RMCI8' 'RMCI9' 'RMCI10' 'RMCI11' 'RMCI12' 'RACI1' 'RACI2' 'RACI3' 'RACI4' 'RACI5' 'RACI6' 'RACI7' 'RACI8' 'RACI9' 'RACI10' 'RACI11' 'RACI12' }\n",
      "reading and preprocessing\n",
      "reading and preprocessing trial 1 from 1\n",
      "the call to \"ft_preprocessing\" took 793 seconds and required the additional allocation of an estimated 30041 MB\n"
     ]
    }
   ],
   "source": [
    "%% load data\n",
    "\n",
    "cfg            = [];\n",
    "cfg.dataset    = orig_data_fi;\n",
    "cfg.continuous = 'yes';\n",
    "cfg.channel    = 'all';\n",
    "data           = ft_preprocessing(cfg);\n"
   ]
  },
  {
   "cell_type": "code",
   "execution_count": 15,
   "id": "b70a8ed4-0317-4216-bca3-9b4eeb238400",
   "metadata": {
    "tags": []
   },
   "outputs": [
    {
     "name": "stdout",
     "output_type": "stream",
     "text": [
      "\n",
      "data = \n",
      "\n",
      "  struct with fields:\n",
      "\n",
      "           hdr: [1x1 struct]\n",
      "         label: {247x1 cell}\n",
      "          time: {[0 2.0000e-04 4.0000e-04 6.0000e-04 8.0000e-04 ... ]}\n",
      "         trial: {[247x15832500 double]}\n",
      "       fsample: 5000\n",
      "    sampleinfo: [1 15832500]\n",
      "           cfg: [1x1 struct]\n",
      "\n"
     ]
    }
   ],
   "source": [
    "%% check structure if necessary\n",
    "\n",
    "data"
   ]
  },
  {
   "cell_type": "code",
   "execution_count": 16,
   "id": "6ff84e77-c9a3-4402-a45b-b25e269fbda1",
   "metadata": {
    "tags": []
   },
   "outputs": [
    {
     "name": "stdout",
     "output_type": "stream",
     "text": [
      "Warning: adding /home/brooke/fieldtrip/fieldtrip-20191213/external/mne toolbox to your MATLAB path\n",
      "==============================================================================\n",
      "\n",
      "Copyright (c) 2011, Matti Hamalainen and Alexandre Gramfort\n",
      "All rights reserved.\n",
      "\n",
      "Redistribution and use in source and binary forms, with or without\n",
      "modification, are permitted provided that the following conditions are met:\n",
      "    * Redistributions of source code must retain the above copyright\n",
      "      notice, this list of conditions and the following disclaimer.\n",
      "    * Redistributions in binary form must reproduce the above copyright\n",
      "      notice, this list of conditions and the following disclaimer in the\n",
      "      documentation and/or other materials provided with the distribution.\n",
      "    * Neither the name of the Massachusetts General Hospital nor the\n",
      "      names of its contributors may be used to endorse or promote products\n",
      "      derived from this software without specific prior written permission.\n",
      "\n",
      "THIS SOFTWARE IS PROVIDED BY THE COPYRIGHT HOLDERS AND CONTRIBUTORS \"AS IS\" AND\n",
      "ANY EXPRESS OR IMPLIED WARRANTIES, INCLUDING, BUT NOT LIMITED TO, THE IMPLIED\n",
      "WARRANTIES OF MERCHANTABILITY AND FITNESS FOR A PARTICULAR PURPOSE ARE\n",
      "DISCLAIMED. IN NO EVENT SHALL MASSACHUSETTS GENERAL HOSPITAL BE LIABLE FOR ANY\n",
      "DIRECT, INDIRECT, INCIDENTAL, SPECIAL, EXEMPLARY, OR CONSEQUENTIAL DAMAGES\n",
      "(INCLUDING, BUT NOT LIMITED TO, PROCUREMENT OF SUBSTITUTE GOODS OR SERVICES;\n",
      "LOSS OF USE, DATA, OR PROFITS; OR BUSINESS INTERRUPTION) HOWEVER CAUSED AND\n",
      "ON ANY THEORY OF LIABILITY, WHETHER IN CONTRACT, STRICT LIABILITY, OR TORT\n",
      "(INCLUDING NEGLIGENCE OR OTHERWISE) ARISING IN ANY WAY OUT OF THE USE OF THIS\n",
      "SOFTWARE, EVEN IF ADVISED OF THE POSSIBILITY OF SUCH DAMAGE.\n",
      "==============================================================================\n",
      "the input is raw data with 247 channels and 1 trials\n",
      "Reconstructing channel locations, it might be inaccurate\n"
     ]
    }
   ],
   "source": [
    "%%# save it\n",
    "\n",
    "fiff_file  = sprintf('%s-raw.fif', subject);\n",
    "fieldtrip2fiff(fiff_file, data)"
   ]
  },
  {
   "cell_type": "code",
   "execution_count": null,
   "id": "6e3ed6f2-18f8-46f2-bfe6-703403c66004",
   "metadata": {},
   "outputs": [],
   "source": []
  }
 ],
 "metadata": {
  "kernelspec": {
   "display_name": "Matlab",
   "language": "matlab",
   "name": "matlab"
  },
  "language_info": {
   "codemirror_mode": "octave",
   "file_extension": ".m",
   "help_links": [
    {
     "text": "MetaKernel Magics",
     "url": "https://metakernel.readthedocs.io/en/latest/source/README.html"
    }
   ],
   "mimetype": "text/x-octave",
   "name": "matlab",
   "version": "0.16.11"
  }
 },
 "nbformat": 4,
 "nbformat_minor": 5
}

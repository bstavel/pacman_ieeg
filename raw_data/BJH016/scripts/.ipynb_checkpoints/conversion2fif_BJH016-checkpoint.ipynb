{
 "cells": [
  {
   "cell_type": "markdown",
   "id": "0bcdaf43",
   "metadata": {},
   "source": [
    "## Conversion to fif: BJH016\n",
    "\n",
    "This script takes the raw, original data file we recieved from WashU and converts it to a fif file with the photodiode as a new stim channel"
   ]
  },
  {
   "cell_type": "code",
   "execution_count": null,
   "id": "fd0424e6",
   "metadata": {},
   "outputs": [],
   "source": [
    "import matplotlib.pyplot as plt\n",
    "import pandas as pd\n",
    "import numpy as np\n",
    "from scipy import signal, stats\n",
    "import mat73\n",
    "import re\n",
    "from neurodsp.timefrequency import compute_wavelet_transform\n",
    "from BCI2kReader import BCI2kReader as b2k\n",
    "import os\n",
    "import mne\n",
    "from tabulate import tabulate\n",
    "import IPython\n",
    "import seaborn as sns"
   ]
  },
  {
   "cell_type": "code",
   "execution_count": 1,
   "id": "72342f50-e591-4ef0-b5cb-b1b8f686371f",
   "metadata": {},
   "outputs": [
    {
     "data": {
      "text/plain": [
       "'/home/brooke/pacman/raw_data/subs/BJH016/ieeg'"
      ]
     },
     "execution_count": 1,
     "metadata": {},
     "output_type": "execute_result"
    }
   ],
   "source": [
    "## prep paths\n",
    "\n",
    "subject = 'BJH016'\n",
    "orig_data_fi = '/home/brooke/knight_server/remote/WashU/data/PacmanTask/BJH016/PacmanTask/ECOGS001R01.dat'\n",
    "raw_data_dir = f\"/home/brooke/pacman/raw_data/subs/{subject}/ieeg\""
   ]
  },
  {
   "cell_type": "code",
   "execution_count": null,
   "id": "4a3a8246-724a-4ec0-b9b1-ead000a697cf",
   "metadata": {},
   "outputs": [],
   "source": [
    "## load data\n",
    "\n",
    "with b2k.BCI2kReader(orig_data_fi) as data: #opens a stream to the dat file\n",
    "    my_signals = data.signals\n",
    "    my_states = data.states\n",
    "    my_params = data.parameters"
   ]
  },
  {
   "cell_type": "code",
   "execution_count": null,
   "id": "05f5da46-f06e-4632-adcd-4f44d1b90699",
   "metadata": {},
   "outputs": [],
   "source": [
    "## check structure if necessary\n",
    "\n",
    "# my_states\n",
    "# my_params"
   ]
  },
  {
   "cell_type": "code",
   "execution_count": null,
   "id": "4ab8e77d-382c-4aac-a6f9-2e613a278f3d",
   "metadata": {},
   "outputs": [],
   "source": [
    "## create info field \n",
    "\n",
    "info = mne.create_info(ch_names = my_params['ChannelNames'],\n",
    "                       sfreq = my_params['SamplingRate'],\n",
    "                       ch_types = 'seeg')\n",
    "\n",
    "info"
   ]
  },
  {
   "cell_type": "code",
   "execution_count": null,
   "id": "ba0799b5-bd0b-4ca7-9cec-e830f789a5d7",
   "metadata": {},
   "outputs": [],
   "source": [
    "## create mne object\n",
    "mne_df = mne.io.RawArray(my_signals, info)"
   ]
  },
  {
   "cell_type": "code",
   "execution_count": null,
   "id": "dc3595df-6e6b-4e25-a5f9-9b1653a527e3",
   "metadata": {},
   "outputs": [],
   "source": [
    "## create stim channel and add it to mne object\n",
    "\n",
    "info = mne.create_info(['STI'], my_params['SamplingRate'], ['stim'])\n",
    "stim_raw = mne.io.RawArray( my_states['Trial_on_off'], info)\n",
    "mne_df.add_channels([stim_raw], force_update_info=True)"
   ]
  },
  {
   "cell_type": "code",
   "execution_count": null,
   "id": "715e2f0a-ed44-473f-9714-b82eb2a50825",
   "metadata": {},
   "outputs": [],
   "source": [
    "## save it\n",
    "\n",
    "mne_df.save(f\"{raw_data_dir}/{subject}_raw_ieeg.fif\", overwrite = False)"
   ]
  }
 ],
 "metadata": {
  "kernelspec": {
   "display_name": "Python [conda env:ieeg_analysis] *",
   "language": "python",
   "name": "conda-env-ieeg_analysis-py"
  },
  "language_info": {
   "codemirror_mode": {
    "name": "ipython",
    "version": 3
   },
   "file_extension": ".py",
   "mimetype": "text/x-python",
   "name": "python",
   "nbconvert_exporter": "python",
   "pygments_lexer": "ipython3",
   "version": "3.9.12"
  }
 },
 "nbformat": 4,
 "nbformat_minor": 5
}

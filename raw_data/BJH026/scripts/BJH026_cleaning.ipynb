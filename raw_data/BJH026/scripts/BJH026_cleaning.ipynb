{
 "cells": [
  {
   "cell_type": "markdown",
   "id": "be523407-5360-4092-9545-0b91c5c6401f",
   "metadata": {},
   "source": [
    "# Cleaning: BJH026\n",
    "\n",
    "\n",
    "Couldn't save hippocampal contacts. Saved right amygdala, ofc, sgacc, insula, dlpfc by taking out\n",
    "\n",
    "'GR14', 'GR13', 'HL1', 'HL3', 'HL2', 'JL2', 'IL3', 'IL4', 'JL1', 'HL5', 'EL8', 'GL1', 'IL2', 'IL1', 'JL3', 'GL3', 'GL2', 'IL6', 'IL5', 'JL5', 'JL4', 'JL8', 'JL7', 'JL6', 'EL2', 'EL1', 'EL5', 'EL4', 'EL3', 'EL7', 'EL6', 'FL4', 'FL5', 'FL3', 'FL2', 'FL1', 'EL10', 'EL9', 'FL10', 'FL9', 'FL8', 'FL7', 'FL6', 'HL8', 'HL7', 'HL6', 'HL4', 'GL8', 'GL7', 'GL6', 'GL5', 'GL4'"
   ]
  },
  {
   "cell_type": "markdown",
   "id": "12d83091-835b-465f-bbe0-6fd1cdacc8b9",
   "metadata": {},
   "source": [
    "### Prep"
   ]
  },
  {
   "cell_type": "code",
   "execution_count": 1,
   "id": "a3785b84-4aaa-4461-a37e-b51a7c1c7913",
   "metadata": {
    "tags": []
   },
   "outputs": [],
   "source": [
    "import matplotlib\n",
    "matplotlib.use(\"Qt5Agg\")\n",
    "import matplotlib.pyplot as plt\n",
    "import pandas as pd\n",
    "import numpy as np\n",
    "from scipy import signal, stats\n",
    "import mat73\n",
    "import re\n",
    "from neurodsp.timefrequency import compute_wavelet_transform\n",
    "import os\n",
    "import mne\n",
    "import IPython\n",
    "import seaborn as sns"
   ]
  },
  {
   "cell_type": "code",
   "execution_count": 2,
   "id": "1aff0958-6a4e-4e42-b7a6-80d00e5f63f3",
   "metadata": {
    "tags": []
   },
   "outputs": [],
   "source": [
    "%matplotlib qt5"
   ]
  },
  {
   "cell_type": "code",
   "execution_count": 2,
   "id": "639733c6-a51d-4ba2-b0bc-64689a345199",
   "metadata": {
    "tags": []
   },
   "outputs": [],
   "source": [
    "# helper functions#\n",
    "\n",
    "def rle(inarray):\n",
    "        \"\"\" run length encoding. Partial credit to R rle function. \n",
    "            Multi datatype arrays catered for including non Numpy\n",
    "            returns: tuple (runlengths, startpositions, values) \"\"\"\n",
    "        ia = np.asarray(inarray)                # force numpy\n",
    "        n = len(ia)\n",
    "        if n == 0: \n",
    "            return (None, None, None)\n",
    "        else:\n",
    "            y = ia[1:] != ia[:-1]               # pairwise unequal (string safe)\n",
    "            i = np.append(np.where(y), n - 1)   # must include last element posi\n",
    "            z = np.diff(np.append(-1, i))       # run lengths\n",
    "            p = np.cumsum(np.append(0, z))[:-1] # positions\n",
    "            return(z, p, ia[i])\n",
    "        \n",
    "def find_bad_trial_times(idx, srate, trial_begins, trial_lengths):\n",
    "    ''' takes and index of trial lengths, beginnings and the sampling rate and returns the the start time and and\n",
    "    duration of the times to annotae as BAD '''\n",
    "    start_time = trial_begins[0][idx]/srate\n",
    "    duration = trial_lengths[0][idx]/srate\n",
    "    \n",
    "    return start_time, duration        "
   ]
  },
  {
   "cell_type": "code",
   "execution_count": 3,
   "id": "2794e660-c449-4c7a-968f-87124f1044ea",
   "metadata": {
    "tags": []
   },
   "outputs": [],
   "source": [
    "## Prep paths ##\n",
    "\n",
    "subject = 'BJH026'\n",
    "raw_data_dir = f\"/home/brooke/pacman/raw_data/{subject}\"\n",
    "preproc_data_dir = f\"/home/brooke/pacman/preprocessing/{subject}/ieeg\""
   ]
  },
  {
   "cell_type": "code",
   "execution_count": 4,
   "id": "6e0deb60-8aca-4c57-a879-9fb9fb6d1d8e",
   "metadata": {
    "tags": []
   },
   "outputs": [
    {
     "name": "stdout",
     "output_type": "stream",
     "text": [
      "Opening raw data file /home/brooke/pacman/raw_data/BJH026/ieeg/BJH026_raw_ieeg.fif...\n",
      "    Range : 0 ... 2085999 =      0.000 ...  1042.999 secs\n",
      "Ready.\n",
      "Opening raw data file /home/brooke/pacman/raw_data/BJH026/ieeg/BJH026_raw_ieeg-1.fif...\n",
      "    Range : 2086000 ... 2920199 =   1043.000 ...  1460.100 secs\n",
      "Ready.\n"
     ]
    }
   ],
   "source": [
    "## Load Data ##\n",
    "\n",
    "raw_fif = mne.io.Raw(f\"{raw_data_dir}/ieeg/{subject}_raw_ieeg.fif\")"
   ]
  },
  {
   "cell_type": "code",
   "execution_count": 6,
   "id": "22556d7c-0c0b-40fc-82b1-777357649e6e",
   "metadata": {
    "tags": []
   },
   "outputs": [
    {
     "name": "stdout",
     "output_type": "stream",
     "text": [
      "Reading 0 ... 2920199  =      0.000 ...  1460.100 secs...\n",
      "Filtering raw data in 1 contiguous segment\n",
      "Setting up band-pass filter from 1 - 1.5e+02 Hz\n",
      "\n",
      "FIR filter parameters\n",
      "---------------------\n",
      "Designing a one-pass, zero-phase, non-causal bandpass filter:\n",
      "- Windowed time-domain design (firwin) method\n",
      "- Hamming window with 0.0194 passband ripple and 53 dB stopband attenuation\n",
      "- Lower passband edge: 1.00\n",
      "- Lower transition bandwidth: 1.00 Hz (-6 dB cutoff frequency: 0.50 Hz)\n",
      "- Upper passband edge: 150.00 Hz\n",
      "- Upper transition bandwidth: 37.50 Hz (-6 dB cutoff frequency: 168.75 Hz)\n",
      "- Filter length: 6601 samples (3.300 sec)\n",
      "\n"
     ]
    },
    {
     "name": "stderr",
     "output_type": "stream",
     "text": [
      "[Parallel(n_jobs=1)]: Done  17 tasks      | elapsed:    1.3s\n",
      "[Parallel(n_jobs=1)]: Done  71 tasks      | elapsed:    5.5s\n",
      "[Parallel(n_jobs=1)]: Done 161 tasks      | elapsed:   12.5s\n"
     ]
    },
    {
     "name": "stdout",
     "output_type": "stream",
     "text": [
      "Setting up band-stop filter\n",
      "\n",
      "FIR filter parameters\n",
      "---------------------\n",
      "Designing a one-pass, zero-phase, non-causal bandstop filter:\n",
      "- Windowed time-domain design (firwin) method\n",
      "- Hamming window with 0.0194 passband ripple and 53 dB stopband attenuation\n",
      "- Lower transition bandwidth: 0.50 Hz\n",
      "- Upper transition bandwidth: 0.50 Hz\n",
      "- Filter length: 13201 samples (6.601 sec)\n",
      "\n"
     ]
    },
    {
     "name": "stderr",
     "output_type": "stream",
     "text": [
      "[Parallel(n_jobs=1)]: Done  17 tasks      | elapsed:    1.2s\n",
      "[Parallel(n_jobs=1)]: Done  71 tasks      | elapsed:    4.8s\n",
      "[Parallel(n_jobs=1)]: Done 161 tasks      | elapsed:   12.0s\n"
     ]
    }
   ],
   "source": [
    "## Filtering ##\n",
    "\n",
    "# load data #\n",
    "raw_fif.load_data()\n",
    "\n",
    "# highpass filter @ 1 and lowpass @ 200 #\n",
    "filtered_data = raw_fif.filter(l_freq=1, h_freq=150) # skip this step for TF analysis, always do this on the least processed data, or do .1 to 250\n",
    "\n",
    "# remove 60hz line noise #\n",
    "freqs = (60, 120, 180, 240)\n",
    "filtered_notch_data = filtered_data.notch_filter(freqs=freqs) \n"
   ]
  },
  {
   "cell_type": "code",
   "execution_count": 5,
   "id": "06a738f0-dbc3-4e9b-807c-d21e8eb4fd28",
   "metadata": {
    "tags": []
   },
   "outputs": [
    {
     "name": "stdout",
     "output_type": "stream",
     "text": [
      "Opening raw data file /home/brooke/pacman/raw_data/BJH026/ieeg/BJH026_notched_filtered_ieeg.fif...\n",
      "    Range : 0 ... 2085999 =      0.000 ...  1042.999 secs\n",
      "Ready.\n",
      "Opening raw data file /home/brooke/pacman/raw_data/BJH026/ieeg/BJH026_notched_filtered_ieeg-1.fif...\n",
      "    Range : 2086000 ... 2920199 =   1043.000 ...  1460.100 secs\n",
      "Ready.\n",
      "480 events found\n",
      "Event IDs: [0 1]\n"
     ]
    }
   ],
   "source": [
    "## Load/Save Filtered Data ##\n",
    "\n",
    "# save #\n",
    "# filtered_notch_data.save(f\"{raw_data_dir}/ieeg/{subject}_notched_filtered_ieeg.fif\", overwrite = True)\n",
    "\n",
    "# load #\n",
    "filtered_notch_data = mne.io.Raw(f\"{raw_data_dir}/ieeg/{subject}_notched_filtered_ieeg.fif\")\n",
    "events = mne.find_events(filtered_notch_data, output='step', consecutive = False, stim_channel='STI')"
   ]
  },
  {
   "cell_type": "code",
   "execution_count": 6,
   "id": "c262fbb5-6908-4a46-b03c-d815dbe2dc0d",
   "metadata": {
    "tags": []
   },
   "outputs": [
    {
     "data": {
      "text/plain": [
       "['EMPTY',\n",
       " 'EMPTY_2',\n",
       " 'EMPTY_3',\n",
       " 'EMPTY_4',\n",
       " 'REF1',\n",
       " 'REF2',\n",
       " 'AL1',\n",
       " 'AL2',\n",
       " 'AL3',\n",
       " 'AL4',\n",
       " 'AL5',\n",
       " 'AL6',\n",
       " 'AL7',\n",
       " 'AL8',\n",
       " 'AL9',\n",
       " 'AL10',\n",
       " 'AL11',\n",
       " 'AL12',\n",
       " 'AL13',\n",
       " 'AL14',\n",
       " 'AL15',\n",
       " 'AL16',\n",
       " 'BL1',\n",
       " 'BL2',\n",
       " 'BL3',\n",
       " 'BL4',\n",
       " 'BL5',\n",
       " 'BL6',\n",
       " 'BL7',\n",
       " 'BL8',\n",
       " 'BL9',\n",
       " 'BL10',\n",
       " 'BL11',\n",
       " 'BL12',\n",
       " 'BL13',\n",
       " 'BL14',\n",
       " 'BL15',\n",
       " 'BL16',\n",
       " 'CL1',\n",
       " 'CL2',\n",
       " 'CL3',\n",
       " 'CL4',\n",
       " 'CL5',\n",
       " 'CL6',\n",
       " 'CL7',\n",
       " 'CL8',\n",
       " 'DL1',\n",
       " 'DL2',\n",
       " 'DL3',\n",
       " 'DL4',\n",
       " 'DL5',\n",
       " 'DL6',\n",
       " 'DL7',\n",
       " 'DL8',\n",
       " 'DL9',\n",
       " 'DL10',\n",
       " 'DL11',\n",
       " 'DL12',\n",
       " 'DL13',\n",
       " 'DL14',\n",
       " 'DL15',\n",
       " 'DL16',\n",
       " 'EMPTY_63',\n",
       " 'EMPTY_64',\n",
       " 'EL1',\n",
       " 'EL2',\n",
       " 'EL3',\n",
       " 'EL4',\n",
       " 'EL5',\n",
       " 'EL6',\n",
       " 'EL7',\n",
       " 'EL8',\n",
       " 'EL9',\n",
       " 'EL10',\n",
       " 'FL1',\n",
       " 'FL2',\n",
       " 'FL3',\n",
       " 'FL4',\n",
       " 'FL5',\n",
       " 'FL6',\n",
       " 'FL7',\n",
       " 'FL8',\n",
       " 'FL9',\n",
       " 'FL10',\n",
       " 'GL1',\n",
       " 'GL2',\n",
       " 'GL3',\n",
       " 'GL4',\n",
       " 'GL5',\n",
       " 'GL6',\n",
       " 'GL7',\n",
       " 'GL8',\n",
       " 'HL1',\n",
       " 'HL2',\n",
       " 'HL3',\n",
       " 'HL4',\n",
       " 'HL5',\n",
       " 'HL6',\n",
       " 'HL7',\n",
       " 'HL8',\n",
       " 'IL1',\n",
       " 'IL2',\n",
       " 'IL3',\n",
       " 'IL4',\n",
       " 'IL5',\n",
       " 'IL6',\n",
       " 'IL7',\n",
       " 'IL8',\n",
       " 'IL9',\n",
       " 'IL10',\n",
       " 'IL11',\n",
       " 'IL12',\n",
       " 'JL1',\n",
       " 'JL2',\n",
       " 'JL3',\n",
       " 'JL4',\n",
       " 'JL5',\n",
       " 'JL6',\n",
       " 'JL7',\n",
       " 'JL8',\n",
       " 'JL9',\n",
       " 'JL10',\n",
       " 'JL11',\n",
       " 'JL12',\n",
       " 'EMPTY_125',\n",
       " 'EMPTY_126',\n",
       " 'EMPTY_127',\n",
       " 'EMPTY_128',\n",
       " 'KL1',\n",
       " 'KL2',\n",
       " 'KL3',\n",
       " 'KL4',\n",
       " 'KL5',\n",
       " 'KL6',\n",
       " 'KL7',\n",
       " 'KL8',\n",
       " 'KL9',\n",
       " 'KL10',\n",
       " 'KL11',\n",
       " 'KL12',\n",
       " 'LL1',\n",
       " 'LL2',\n",
       " 'LL3',\n",
       " 'LL4',\n",
       " 'LL5',\n",
       " 'LL6',\n",
       " 'LL7',\n",
       " 'LL8',\n",
       " 'GR1',\n",
       " 'GR2',\n",
       " 'GR3',\n",
       " 'GR4',\n",
       " 'GR5',\n",
       " 'GR6',\n",
       " 'GR7',\n",
       " 'GR8',\n",
       " 'GR9',\n",
       " 'GR10',\n",
       " 'GR11',\n",
       " 'GR12',\n",
       " 'GR13',\n",
       " 'GR14',\n",
       " 'EMPTY_163',\n",
       " 'EMPTY_164',\n",
       " 'EMPTY_165',\n",
       " 'EMPTY_166',\n",
       " 'EMPTY_167',\n",
       " 'EMPTY_168',\n",
       " 'EMPTY_169',\n",
       " 'EMPTY_170',\n",
       " 'EMPTY_171',\n",
       " 'EMPTY_172',\n",
       " 'EMPTY_173',\n",
       " 'EMPTY_174',\n",
       " 'EMPTY_175',\n",
       " 'EMPTY_176',\n",
       " 'EMPTY_177',\n",
       " 'EMPTY_178',\n",
       " 'EMPTY_179',\n",
       " 'EMPTY_180',\n",
       " 'EMPTY_181',\n",
       " 'EMPTY_182',\n",
       " 'EMPTY_183',\n",
       " 'EMPTY_184',\n",
       " 'EMPTY_185',\n",
       " 'EMPTY_186',\n",
       " 'EMPTY_187',\n",
       " 'EMPTY_188',\n",
       " 'EMPTY_189',\n",
       " 'EMPTY_190',\n",
       " 'EMPTY_191',\n",
       " 'EMPTY_192',\n",
       " 'EMPTY_193',\n",
       " 'EMPTY_194',\n",
       " 'EMPTY_195',\n",
       " 'EMPTY_196',\n",
       " 'EMPTY_197',\n",
       " 'EMPTY_198',\n",
       " 'EMPTY_199',\n",
       " 'EMPTY_200',\n",
       " 'EMPTY_201',\n",
       " 'EMPTY_202',\n",
       " 'EMPTY_203',\n",
       " 'EMPTY_204',\n",
       " 'EMPTY_205',\n",
       " 'EMPTY_206',\n",
       " 'EMPTY_207',\n",
       " 'EMPTY_208',\n",
       " 'EMPTY_209',\n",
       " 'EMPTY_210',\n",
       " 'EMPTY_211',\n",
       " 'EMPTY_212',\n",
       " 'EMPTY_213',\n",
       " 'EMPTY_214',\n",
       " 'EMPTY_215',\n",
       " 'EMPTY_216',\n",
       " 'EMPTY_217',\n",
       " 'EMPTY_218',\n",
       " 'EMPTY_219',\n",
       " 'EMPTY_220',\n",
       " 'EMPTY_221',\n",
       " 'EMPTY_222',\n",
       " 'EMPTY_223',\n",
       " 'EMPTY_224',\n",
       " 'EMPTY_225',\n",
       " 'EMPTY_226',\n",
       " 'EMPTY_227',\n",
       " 'EMPTY_228',\n",
       " 'EMPTY_229',\n",
       " 'EMPTY_230',\n",
       " 'EMPTY_231',\n",
       " 'FP1',\n",
       " 'F3',\n",
       " 'C3',\n",
       " 'P3',\n",
       " 'O1',\n",
       " 'FP2',\n",
       " 'F4',\n",
       " 'C4',\n",
       " 'P4',\n",
       " 'O2',\n",
       " 'F7',\n",
       " 'T7',\n",
       " 'P7',\n",
       " 'F8',\n",
       " 'T8',\n",
       " 'P8',\n",
       " 'F9',\n",
       " 'F10',\n",
       " 'FPZ',\n",
       " 'FZ',\n",
       " 'CZ',\n",
       " 'PZ',\n",
       " 'OZ',\n",
       " 'EKG1',\n",
       " 'EKG2',\n",
       " 'STI']"
      ]
     },
     "execution_count": 6,
     "metadata": {},
     "output_type": "execute_result"
    }
   ],
   "source": [
    "filtered_notch_data.info['ch_names']"
   ]
  },
  {
   "cell_type": "markdown",
   "id": "1d1ab3dc-a3c3-4eab-bb46-9c5a7e517b9d",
   "metadata": {
    "tags": []
   },
   "source": [
    "## Cleaning Neural Data\n",
    "\n",
    "#### Bad Channels\n",
    "\n",
    "Epileptic channels from my cleaning: \n",
    "\n",
    "Noisy channels: "
   ]
  },
  {
   "cell_type": "code",
   "execution_count": 7,
   "id": "7d0a4343-948a-4654-bc8f-db9c42ded9bb",
   "metadata": {
    "tags": []
   },
   "outputs": [
    {
     "data": {
      "text/html": [
       "<table class=\"table table-hover table-striped table-sm table-responsive small\">\n",
       "    <tr>\n",
       "        <th>Measurement date</th>\n",
       "        \n",
       "        <td>Unknown</td>\n",
       "        \n",
       "    </tr>\n",
       "    <tr>\n",
       "        <th>Experimenter</th>\n",
       "        \n",
       "        <td>Unknown</td>\n",
       "        \n",
       "    </tr>\n",
       "        <th>Participant</th>\n",
       "        \n",
       "        <td>Unknown</td>\n",
       "        \n",
       "    </tr>\n",
       "    <tr>\n",
       "        <th>Digitized points</th>\n",
       "        \n",
       "        <td>0 points</td>\n",
       "        \n",
       "    </tr>\n",
       "    <tr>\n",
       "        <th>Good channels</th>\n",
       "        <td>256 sEEG, 1 Stimulus</td>\n",
       "    </tr>\n",
       "    <tr>\n",
       "        <th>Bad channels</th>\n",
       "        <td>EMPTY, EMPTY_2, EMPTY_3, EMPTY_4, REF1, REF2, EMPTY_63, EMPTY_64, EMPTY_125, EMPTY_126, EMPTY_127, EMPTY_128, EMPTY_163, EMPTY_164, EMPTY_165, EMPTY_166, EMPTY_167, EMPTY_168, EMPTY_169, EMPTY_170, EMPTY_171, EMPTY_172, EMPTY_173, EMPTY_174, EMPTY_175, EMPTY_176, EMPTY_177, EMPTY_178, EMPTY_179, EMPTY_180, EMPTY_181, EMPTY_182, EMPTY_183, EMPTY_184, EMPTY_185, EMPTY_186, EMPTY_187, EMPTY_188, EMPTY_189, EMPTY_190, EMPTY_191, EMPTY_192, EMPTY_193, EMPTY_194, EMPTY_195, EMPTY_196, EMPTY_197, EMPTY_198, EMPTY_199, EMPTY_200, EMPTY_201, EMPTY_202, EMPTY_203, EMPTY_204, EMPTY_205, EMPTY_206, EMPTY_207, EMPTY_208, EMPTY_209, EMPTY_210, EMPTY_211, EMPTY_212, EMPTY_213, EMPTY_214, EMPTY_215, EMPTY_216, EMPTY_217, EMPTY_218, EMPTY_219, EMPTY_220, EMPTY_221, EMPTY_222, EMPTY_223, EMPTY_224, EMPTY_225, EMPTY_226, EMPTY_227, EMPTY_228, EMPTY_229, EMPTY_230, EMPTY_231, EKG1, EKG2, GR14, GR13, HL1, HL3, HL2, JL2, IL3, IL4, JL1, HL5, EL8, GL1, IL2, IL1, JL3, GL3, GL2, IL6, IL5, JL5, JL4, JL8, JL7, JL6, EL2, EL1, EL5, EL4, EL3, EL7, EL6, FL4, FL5, FL3, FL2, FL1, EL10, EL9, FL10, FL9, FL8, FL7, FL6, HL8, HL7, HL6, HL4, GL8, GL7, GL6, GL5, GL4, FP1, F3, C3, P3, O1, FP2, F4, C4, P4, O2, F7, T7, P7, F8, T8, P8, F9, F10, FPZ, FZ, CZ, PZ, OZ</td>\n",
       "    </tr>\n",
       "    <tr>\n",
       "        <th>EOG channels</th>\n",
       "        <td>Not available</td>\n",
       "    </tr>\n",
       "    <tr>\n",
       "        <th>ECG channels</th>\n",
       "        <td>Not available</td>\n",
       "    \n",
       "    <tr>\n",
       "        <th>Sampling frequency</th>\n",
       "        <td>2000.00 Hz</td>\n",
       "    </tr>\n",
       "    \n",
       "    \n",
       "    <tr>\n",
       "        <th>Highpass</th>\n",
       "        <td>1.00 Hz</td>\n",
       "    </tr>\n",
       "    \n",
       "    \n",
       "    <tr>\n",
       "        <th>Lowpass</th>\n",
       "        <td>150.00 Hz</td>\n",
       "    </tr>\n",
       "    \n",
       "    \n",
       "    \n",
       "    <tr>\n",
       "        <th>Filenames</th>\n",
       "        <td>BJH026_notched_filtered_ieeg.fif&lt;br&gt;BJH026_notched_filtered_ieeg-1.fif</td>\n",
       "    </tr>\n",
       "    \n",
       "    <tr>\n",
       "        <th>Duration</th>\n",
       "        <td>00:24:21 (HH:MM:SS)</td>\n",
       "    </tr>\n",
       "</table>"
      ],
      "text/plain": [
       "<Raw | BJH026_notched_filtered_ieeg.fif, 257 x 2920200 (1460.1 s), ~261 kB, data not loaded>"
      ]
     },
     "execution_count": 7,
     "metadata": {},
     "output_type": "execute_result"
    }
   ],
   "source": [
    "# Remove Channels from filtered data\n",
    "\n",
    "# remove non seeg electrodes electrodes #\n",
    "string_lst = ['EMPTY', 'REF', 'ekg']\n",
    "\n",
    "bad_channels_reg = [re.findall(r\"(?=(\"+'|'.join(string_lst)+r\"))\", name, re.IGNORECASE) for name in filtered_notch_data.info['ch_names']]\n",
    "bad_channels_index = [i for i,x in enumerate(bad_channels_reg) if  x]\n",
    "bad_channels = [filtered_notch_data.info['ch_names'][i] for i in bad_channels_index]\n",
    "\n",
    "filtered_notch_data.info['bads'].extend(bad_channels)  \n",
    "\n",
    "# # remove epileptic electrodes\n",
    "filtered_notch_data.info['bads'].extend(['GR14', 'GR13', 'HL1', 'HL3', 'HL2', 'JL2', 'IL3', 'IL4', 'JL1', 'HL5', 'EL8', 'GL1', 'IL2', 'IL1', 'JL3', 'GL3', 'GL2', 'IL6', 'IL5', 'JL5', 'JL4', 'JL8', 'JL7', 'JL6', 'EL2', 'EL1', 'EL5', 'EL4', 'EL3', 'EL7', 'EL6', 'FL4', 'FL5', 'FL3', 'FL2', 'FL1', 'EL10', 'EL9', 'FL10', 'FL9', 'FL8', 'FL7', 'FL6', 'HL8', 'HL7', 'HL6', 'HL4', 'GL8', 'GL7', 'GL6', 'GL5', 'GL4'])  \n",
    "\n",
    "# remove out of brain electrodes\n",
    "## TODO hasn't been localized\n",
    "\n",
    "# remove scalp and dc channels\n",
    "scalp_dc_channels = ['FP1',\n",
    " 'F3',\n",
    " 'C3',\n",
    " 'P3',\n",
    " 'O1',\n",
    " 'FP2',\n",
    " 'F4',\n",
    " 'C4',\n",
    " 'P4',\n",
    " 'O2',\n",
    " 'F7',\n",
    " 'T7',\n",
    " 'P7',\n",
    " 'F8',\n",
    " 'T8',\n",
    " 'P8',\n",
    " 'F9',\n",
    " 'F10',\n",
    " 'FPZ',\n",
    " 'FZ',\n",
    " 'CZ',\n",
    " 'PZ',\n",
    " 'OZ']\n",
    "\n",
    "filtered_notch_data.info['bads'].extend(scalp_dc_channels)\n",
    "filtered_notch_data"
   ]
  },
  {
   "cell_type": "code",
   "execution_count": 8,
   "id": "14a28078-93dd-4d34-b19b-a6ee581b9504",
   "metadata": {
    "tags": []
   },
   "outputs": [
    {
     "data": {
      "text/html": [
       "<table class=\"table table-hover table-striped table-sm table-responsive small\">\n",
       "    <tr>\n",
       "        <th>Measurement date</th>\n",
       "        \n",
       "        <td>Unknown</td>\n",
       "        \n",
       "    </tr>\n",
       "    <tr>\n",
       "        <th>Experimenter</th>\n",
       "        \n",
       "        <td>Unknown</td>\n",
       "        \n",
       "    </tr>\n",
       "        <th>Participant</th>\n",
       "        \n",
       "        <td>Unknown</td>\n",
       "        \n",
       "    </tr>\n",
       "    <tr>\n",
       "        <th>Digitized points</th>\n",
       "        \n",
       "        <td>0 points</td>\n",
       "        \n",
       "    </tr>\n",
       "    <tr>\n",
       "        <th>Good channels</th>\n",
       "        <td>256 sEEG, 1 Stimulus</td>\n",
       "    </tr>\n",
       "    <tr>\n",
       "        <th>Bad channels</th>\n",
       "        <td>EMPTY, EMPTY_2, EMPTY_3, EMPTY_4, REF1, REF2, EMPTY_63, EMPTY_64, EMPTY_125, EMPTY_126, EMPTY_127, EMPTY_128, EMPTY_163, EMPTY_164, EMPTY_165, EMPTY_166, EMPTY_167, EMPTY_168, EMPTY_169, EMPTY_170, EMPTY_171, EMPTY_172, EMPTY_173, EMPTY_174, EMPTY_175, EMPTY_176, EMPTY_177, EMPTY_178, EMPTY_179, EMPTY_180, EMPTY_181, EMPTY_182, EMPTY_183, EMPTY_184, EMPTY_185, EMPTY_186, EMPTY_187, EMPTY_188, EMPTY_189, EMPTY_190, EMPTY_191, EMPTY_192, EMPTY_193, EMPTY_194, EMPTY_195, EMPTY_196, EMPTY_197, EMPTY_198, EMPTY_199, EMPTY_200, EMPTY_201, EMPTY_202, EMPTY_203, EMPTY_204, EMPTY_205, EMPTY_206, EMPTY_207, EMPTY_208, EMPTY_209, EMPTY_210, EMPTY_211, EMPTY_212, EMPTY_213, EMPTY_214, EMPTY_215, EMPTY_216, EMPTY_217, EMPTY_218, EMPTY_219, EMPTY_220, EMPTY_221, EMPTY_222, EMPTY_223, EMPTY_224, EMPTY_225, EMPTY_226, EMPTY_227, EMPTY_228, EMPTY_229, EMPTY_230, EMPTY_231, EKG1, EKG2, GR14, GR13, HL1, HL3, HL2, JL2, IL3, IL4, JL1, HL5, EL8, GL1, IL2, IL1, JL3, GL3, GL2, IL6, IL5, JL5, JL4, JL8, JL7, JL6, EL2, EL1, EL5, EL4, EL3, EL7, EL6, FL4, FL5, FL3, FL2, FL1, EL10, EL9, FL10, FL9, FL8, FL7, FL6, HL8, HL7, HL6, HL4, GL8, GL7, GL6, GL5, GL4, FP1, F3, C3, P3, O1, FP2, F4, C4, P4, O2, F7, T7, P7, F8, T8, P8, F9, F10, FPZ, FZ, CZ, PZ, OZ</td>\n",
       "    </tr>\n",
       "    <tr>\n",
       "        <th>EOG channels</th>\n",
       "        <td>Not available</td>\n",
       "    </tr>\n",
       "    <tr>\n",
       "        <th>ECG channels</th>\n",
       "        <td>Not available</td>\n",
       "    \n",
       "    <tr>\n",
       "        <th>Sampling frequency</th>\n",
       "        <td>2000.00 Hz</td>\n",
       "    </tr>\n",
       "    \n",
       "    \n",
       "    <tr>\n",
       "        <th>Highpass</th>\n",
       "        <td>0.00 Hz</td>\n",
       "    </tr>\n",
       "    \n",
       "    \n",
       "    <tr>\n",
       "        <th>Lowpass</th>\n",
       "        <td>1000.00 Hz</td>\n",
       "    </tr>\n",
       "    \n",
       "    \n",
       "    \n",
       "    <tr>\n",
       "        <th>Filenames</th>\n",
       "        <td>BJH026_raw_ieeg.fif&lt;br&gt;BJH026_raw_ieeg-1.fif</td>\n",
       "    </tr>\n",
       "    \n",
       "    <tr>\n",
       "        <th>Duration</th>\n",
       "        <td>00:24:21 (HH:MM:SS)</td>\n",
       "    </tr>\n",
       "</table>"
      ],
      "text/plain": [
       "<Raw | BJH026_raw_ieeg.fif, 257 x 2920200 (1460.1 s), ~261 kB, data not loaded>"
      ]
     },
     "execution_count": 8,
     "metadata": {},
     "output_type": "execute_result"
    }
   ],
   "source": [
    "# Remove Channels from filtered data\n",
    "\n",
    "# remove non seeg electrodes electrodes #\n",
    "string_lst = ['EMPTY', 'REF', 'ekg']\n",
    "\n",
    "bad_channels_reg = [re.findall(r\"(?=(\"+'|'.join(string_lst)+r\"))\", name, re.IGNORECASE) for name in raw_fif.info['ch_names']]\n",
    "bad_channels_index = [i for i,x in enumerate(bad_channels_reg) if  x]\n",
    "bad_channels = [raw_fif.info['ch_names'][i] for i in bad_channels_index]\n",
    "\n",
    "raw_fif.info['bads'].extend(bad_channels)  \n",
    "\n",
    "# # remove epileptic electrodes\n",
    "raw_fif.info['bads'].extend(['GR14', 'GR13', 'HL1', 'HL3', 'HL2', 'JL2', 'IL3', 'IL4', 'JL1', 'HL5', 'EL8', 'GL1', 'IL2', 'IL1', 'JL3', 'GL3', 'GL2', 'IL6', 'IL5', 'JL5', 'JL4', 'JL8', 'JL7', 'JL6', 'EL2', 'EL1', 'EL5', 'EL4', 'EL3', 'EL7', 'EL6', 'FL4', 'FL5', 'FL3', 'FL2', 'FL1', 'EL10', 'EL9', 'FL10', 'FL9', 'FL8', 'FL7', 'FL6', 'HL8', 'HL7', 'HL6', 'HL4', 'GL8', 'GL7', 'GL6', 'GL5', 'GL4'])  \n",
    "\n",
    "# remove out of brain electrodes\n",
    "## TODO hasn't been localized\n",
    "\n",
    "# remove scalp and dc channels\n",
    "scalp_dc_channels = ['FP1',\n",
    " 'F3',\n",
    " 'C3',\n",
    " 'P3',\n",
    " 'O1',\n",
    " 'FP2',\n",
    " 'F4',\n",
    " 'C4',\n",
    " 'P4',\n",
    " 'O2',\n",
    " 'F7',\n",
    " 'T7',\n",
    " 'P7',\n",
    " 'F8',\n",
    " 'T8',\n",
    " 'P8',\n",
    " 'F9',\n",
    " 'F10',\n",
    " 'FPZ',\n",
    " 'FZ',\n",
    " 'CZ',\n",
    " 'PZ',\n",
    " 'OZ']\n",
    "\n",
    "raw_fif.info['bads'].extend(scalp_dc_channels)\n",
    "raw_fif"
   ]
  },
  {
   "cell_type": "markdown",
   "id": "3b53c7d3-8102-4a30-b63d-51b8a318ff07",
   "metadata": {},
   "source": [
    "#### Bad Epochs from noisy data\n",
    "\n"
   ]
  },
  {
   "cell_type": "code",
   "execution_count": 9,
   "id": "2e29013c-e568-447a-a47b-481b93e9882b",
   "metadata": {
    "tags": []
   },
   "outputs": [],
   "source": [
    "# # Annotate Noisy Epochs from Bob's cleaning\n",
    "\n",
    "# read from csv from interactive session\n",
    "bad_annots = mne.read_annotations('../ieeg/saved_annotations.fif')   \n"
   ]
  },
  {
   "cell_type": "markdown",
   "id": "db730472-6e06-4a31-a66b-fa5db1600bc7",
   "metadata": {},
   "source": [
    "#### Bad epochs from bad trial data"
   ]
  },
  {
   "cell_type": "code",
   "execution_count": 10,
   "id": "4cd44147-ed15-4bd4-b6c4-5dd845908831",
   "metadata": {
    "tags": []
   },
   "outputs": [],
   "source": [
    "## quality check trials ##\n",
    "\n",
    "# calculate trial onsets and offsets\n",
    "sti_raw = filtered_notch_data.get_data(picks = ['STI'])\n",
    "lengths, positionsm, val  = rle(sti_raw[0])\n",
    "\n",
    "# lengths, beginnings, endings, for trials\n",
    "trial_lengths = [lengths[x] for x in np.where(val == 1)]\n",
    "trial_begins = [positionsm[x] for x in np.where(val == 1)]\n",
    "trial_ends = trial_lengths[0] + trial_begins[0]\n",
    "trial_baseline = trial_begins[0] - 1000\n",
    "\n",
    "# lengths, beginnings, endings, for itis\n",
    "iti_lengths = [lengths[x] for x in np.where(val == 0)]\n",
    "iti_begins = [positionsm[x] for x in np.where(val == 0)]\n",
    "iti_ends = iti_begins[0] + iti_lengths[0]\n",
    "\n",
    "# save trial lengths for later\n",
    "np.save(f\"{preproc_data_dir}/{subject}_trial_lengths.npy\", trial_lengths)"
   ]
  },
  {
   "cell_type": "code",
   "execution_count": 11,
   "id": "fe17aab8-72f4-4400-97d5-2abfa5771abc",
   "metadata": {
    "tags": []
   },
   "outputs": [],
   "source": [
    "# exclude bad trials/apochs from r behavioral analysis (paused trials and no biscuits)\n",
    "\n",
    "# load bad trial data\n",
    "bad_trials = np.genfromtxt(f\"{raw_data_dir}/behave/{subject}_bad_trials.csv\", delimiter = ',', skip_header = 1)\n",
    "\n",
    "onsets = []\n",
    "durations = []\n",
    "for bad in bad_trials:\n",
    "    start, dur = find_bad_trial_times(int(bad), raw_fif.info['sfreq'], trial_begins, trial_lengths)\n",
    "    onsets.append(start)\n",
    "    durations.append(dur)\n",
    "\n",
    "# update descriptions\n",
    "descriptions = ['bad'] * len(durations)\n"
   ]
  },
  {
   "cell_type": "code",
   "execution_count": 12,
   "id": "a2d684d1-c82d-4f87-b37e-aca09a1e95ed",
   "metadata": {
    "tags": []
   },
   "outputs": [
    {
     "data": {
      "text/html": [
       "<table class=\"table table-hover table-striped table-sm table-responsive small\">\n",
       "    <tr>\n",
       "        <th>Measurement date</th>\n",
       "        \n",
       "        <td>Unknown</td>\n",
       "        \n",
       "    </tr>\n",
       "    <tr>\n",
       "        <th>Experimenter</th>\n",
       "        \n",
       "        <td>Unknown</td>\n",
       "        \n",
       "    </tr>\n",
       "        <th>Participant</th>\n",
       "        \n",
       "        <td>Unknown</td>\n",
       "        \n",
       "    </tr>\n",
       "    <tr>\n",
       "        <th>Digitized points</th>\n",
       "        \n",
       "        <td>0 points</td>\n",
       "        \n",
       "    </tr>\n",
       "    <tr>\n",
       "        <th>Good channels</th>\n",
       "        <td>256 sEEG, 1 Stimulus</td>\n",
       "    </tr>\n",
       "    <tr>\n",
       "        <th>Bad channels</th>\n",
       "        <td>EMPTY, EMPTY_2, EMPTY_3, EMPTY_4, REF1, REF2, EMPTY_63, EMPTY_64, EMPTY_125, EMPTY_126, EMPTY_127, EMPTY_128, EMPTY_163, EMPTY_164, EMPTY_165, EMPTY_166, EMPTY_167, EMPTY_168, EMPTY_169, EMPTY_170, EMPTY_171, EMPTY_172, EMPTY_173, EMPTY_174, EMPTY_175, EMPTY_176, EMPTY_177, EMPTY_178, EMPTY_179, EMPTY_180, EMPTY_181, EMPTY_182, EMPTY_183, EMPTY_184, EMPTY_185, EMPTY_186, EMPTY_187, EMPTY_188, EMPTY_189, EMPTY_190, EMPTY_191, EMPTY_192, EMPTY_193, EMPTY_194, EMPTY_195, EMPTY_196, EMPTY_197, EMPTY_198, EMPTY_199, EMPTY_200, EMPTY_201, EMPTY_202, EMPTY_203, EMPTY_204, EMPTY_205, EMPTY_206, EMPTY_207, EMPTY_208, EMPTY_209, EMPTY_210, EMPTY_211, EMPTY_212, EMPTY_213, EMPTY_214, EMPTY_215, EMPTY_216, EMPTY_217, EMPTY_218, EMPTY_219, EMPTY_220, EMPTY_221, EMPTY_222, EMPTY_223, EMPTY_224, EMPTY_225, EMPTY_226, EMPTY_227, EMPTY_228, EMPTY_229, EMPTY_230, EMPTY_231, EKG1, EKG2, GR14, GR13, HL1, HL3, HL2, JL2, IL3, IL4, JL1, HL5, EL8, GL1, IL2, IL1, JL3, GL3, GL2, IL6, IL5, JL5, JL4, JL8, JL7, JL6, EL2, EL1, EL5, EL4, EL3, EL7, EL6, FL4, FL5, FL3, FL2, FL1, EL10, EL9, FL10, FL9, FL8, FL7, FL6, HL8, HL7, HL6, HL4, GL8, GL7, GL6, GL5, GL4, FP1, F3, C3, P3, O1, FP2, F4, C4, P4, O2, F7, T7, P7, F8, T8, P8, F9, F10, FPZ, FZ, CZ, PZ, OZ</td>\n",
       "    </tr>\n",
       "    <tr>\n",
       "        <th>EOG channels</th>\n",
       "        <td>Not available</td>\n",
       "    </tr>\n",
       "    <tr>\n",
       "        <th>ECG channels</th>\n",
       "        <td>Not available</td>\n",
       "    \n",
       "    <tr>\n",
       "        <th>Sampling frequency</th>\n",
       "        <td>2000.00 Hz</td>\n",
       "    </tr>\n",
       "    \n",
       "    \n",
       "    <tr>\n",
       "        <th>Highpass</th>\n",
       "        <td>0.00 Hz</td>\n",
       "    </tr>\n",
       "    \n",
       "    \n",
       "    <tr>\n",
       "        <th>Lowpass</th>\n",
       "        <td>1000.00 Hz</td>\n",
       "    </tr>\n",
       "    \n",
       "    \n",
       "    \n",
       "    <tr>\n",
       "        <th>Filenames</th>\n",
       "        <td>BJH026_raw_ieeg.fif&lt;br&gt;BJH026_raw_ieeg-1.fif</td>\n",
       "    </tr>\n",
       "    \n",
       "    <tr>\n",
       "        <th>Duration</th>\n",
       "        <td>00:24:21 (HH:MM:SS)</td>\n",
       "    </tr>\n",
       "</table>"
      ],
      "text/plain": [
       "<Raw | BJH026_raw_ieeg.fif, 257 x 2920200 (1460.1 s), ~261 kB, data not loaded>"
      ]
     },
     "execution_count": 12,
     "metadata": {},
     "output_type": "execute_result"
    }
   ],
   "source": [
    "## exclude all bad epochs from both bad trials and investigating neural data ##\n",
    "\n",
    "# # combine with bad trial data #\n",
    "bad_annots.append(onsets, durations, descriptions)\n",
    "\n",
    "# # # apply to filtered data #\n",
    "filtered_notch_data.set_annotations(bad_annots)\n",
    "\n",
    "# # # apply to not filtered data #\n",
    "raw_fif.set_annotations(bad_annots)"
   ]
  },
  {
   "cell_type": "markdown",
   "id": "304972b6-3d35-4319-93bc-c13753ecf6f7",
   "metadata": {},
   "source": [
    "## Visualizing Neural Data"
   ]
  },
  {
   "cell_type": "markdown",
   "id": "556ee4df-0294-49bb-8db3-98ee304abde7",
   "metadata": {},
   "source": [
    "next step, working on filtering out the high frequency noise\n",
    "\n",
    "then look at Marks script to come up with some plot of every trial, sort longest to shortest, with theta power as the color tiome as x, trial on y"
   ]
  },
  {
   "cell_type": "code",
   "execution_count": 13,
   "id": "afafa922-b494-4ebf-a262-1fa89adb5a89",
   "metadata": {
    "tags": []
   },
   "outputs": [
    {
     "name": "stdout",
     "output_type": "stream",
     "text": [
      "Using qt as 2D backend.\n"
     ]
    },
    {
     "data": {
      "text/plain": [
       "<mne_qt_browser._pg_figure.MNEQtBrowser at 0x7f3398874c10>"
      ]
     },
     "execution_count": 13,
     "metadata": {},
     "output_type": "execute_result"
    },
    {
     "name": "stdout",
     "output_type": "stream",
     "text": [
      "Channels marked as bad:\n",
      "['GL1', 'IL2', 'IL1', 'JL3', 'GL3', 'GL2', 'IL6', 'IL5', 'JL5', 'JL4', 'JL8', 'JL7', 'JL6', 'EL2', 'EL1', 'EL5', 'EL4', 'EL3', 'EL7', 'EL6', 'FL4', 'FL5', 'FL3', 'FL2', 'FL1', 'EL10', 'EL9', 'FL10', 'FL9', 'FL8', 'FL7', 'FL6', 'HL8', 'HL7', 'HL6', 'HL4', 'GL8', 'GL7', 'GL6', 'GL5', 'GL4']\n"
     ]
    }
   ],
   "source": [
    "# plot for cleaning #\n",
    "filtered_notch_data.drop_channels(filtered_notch_data.info['bads'])\n",
    "filtered_notch_data.plot(events=events, color='b', bad_color = 'red', n_channels = 230, clipping = None, event_color = 'r')"
   ]
  },
  {
   "cell_type": "code",
   "execution_count": 13,
   "id": "0ed7aef0-09d9-4134-8f68-15bbc207578c",
   "metadata": {},
   "outputs": [],
   "source": [
    "# plot psd of all channels #\n",
    "\n",
    "filtered_notch_data.plot_psd()"
   ]
  },
  {
   "cell_type": "code",
   "execution_count": null,
   "id": "f7c9bc69-ae5f-455d-b683-76bff6dd9063",
   "metadata": {},
   "outputs": [],
   "source": [
    "# plot psd of bad channels #\n",
    "\n",
    "filtered_notch_data.plot_psd(picks = filtered_notch_data.info['bads'])"
   ]
  },
  {
   "cell_type": "code",
   "execution_count": 15,
   "id": "1f8dc450-894e-4c37-bc3a-8b3b639d4b7f",
   "metadata": {
    "tags": []
   },
   "outputs": [
    {
     "name": "stdout",
     "output_type": "stream",
     "text": [
      "OrderedDict([('onset', 36.561466), ('duration', 0.23199462890625), ('description', 'BAD'), ('orig_time', None)])\n",
      "OrderedDict([('onset', 199.398877197938), ('duration', 0.5705811736459339), ('description', 'BAD'), ('orig_time', None)])\n",
      "OrderedDict([('onset', 297.006378), ('duration', 1.343414306640625), ('description', 'BAD'), ('orig_time', None)])\n",
      "OrderedDict([('onset', 598.375549), ('duration', 1.24615478515625), ('description', 'BAD'), ('orig_time', None)])\n",
      "OrderedDict([('onset', 912.2122378363111), ('duration', 1.3219405409222418), ('description', 'BAD'), ('orig_time', None)])\n",
      "OrderedDict([('onset', 917.983459), ('duration', 2.0059814453125), ('description', 'BAD'), ('orig_time', None)])\n",
      "OrderedDict([('onset', 950.0993926982558), ('duration', 1.180707577148496), ('description', 'BAD'), ('orig_time', None)])\n",
      "OrderedDict([('onset', 982.544373), ('duration', 1.3768310546875), ('description', 'BAD'), ('orig_time', None)])\n",
      "OrderedDict([('onset', 1007.5428995127463), ('duration', 1.4236282748393023), ('description', 'BAD'), ('orig_time', None)])\n",
      "OrderedDict([('onset', 1019.0260221735754), ('duration', 2.316220605889498), ('description', 'BAD'), ('orig_time', None)])\n",
      "OrderedDict([('onset', 1137.612671), ('duration', 3.2156982421875), ('description', 'BAD'), ('orig_time', None)])\n",
      "OrderedDict([('onset', 1205.934937), ('duration', 3.30078125), ('description', 'BAD'), ('orig_time', None)])\n",
      "OrderedDict([('onset', 1305.909893369112), ('duration', 1.2372007626579489), ('description', 'BAD'), ('orig_time', None)])\n",
      "OrderedDict([('onset', 1327.026001), ('duration', 0.966552734375), ('description', 'BAD'), ('orig_time', None)])\n",
      "OrderedDict([('onset', 1423.4324906433162), ('duration', 1.0338252948238278), ('description', 'BAD'), ('orig_time', None)])\n",
      "OrderedDict([('onset', 1442.7206765058963), ('duration', 0.5705811736459054), ('description', 'BAD'), ('orig_time', None)])\n",
      "Overwriting existing file.\n"
     ]
    },
    {
     "name": "stderr",
     "output_type": "stream",
     "text": [
      "/tmp/ipykernel_9061/3338397663.py:7: RuntimeWarning: This filename (../ieeg/saved_annotations.fif) does not conform to MNE naming conventions. All annotations files should end with -annot.fif, -annot.fif.gz, _annot.fif, _annot.fif.gz, .txt or .csv\n",
      "  filtered_notch_data.annotations.save('../ieeg/saved_annotations.fif', overwrite = True)\n"
     ]
    }
   ],
   "source": [
    "# # From interactive sessions\n",
    "# interactive_annot = filtered_notch_data.annotations\n",
    "# for x in range(0, len(interactive_annot)):\n",
    "#     print(interactive_annot[x])\n",
    "    \n",
    "    \n",
    "# filtered_notch_data.annotations.save('../ieeg/saved_annotations.fif', overwrite = True)    "
   ]
  },
  {
   "cell_type": "markdown",
   "id": "86ae8d82-9dc2-438f-ab76-effed512f9e4",
   "metadata": {},
   "source": [
    "## Save Files"
   ]
  },
  {
   "cell_type": "code",
   "execution_count": 14,
   "id": "83c9a275-c5bd-414a-a3a5-5d30bd0fe689",
   "metadata": {},
   "outputs": [
    {
     "name": "stdout",
     "output_type": "stream",
     "text": [
      "Writing /home/brooke/pacman/raw_data/BJH026/ieeg/BJH026_notched_filtered_clean_ieeg.fif\n",
      "Overwriting existing file.\n",
      "Writing /home/brooke/pacman/raw_data/BJH026/ieeg/BJH026_notched_filtered_clean_ieeg-1.fif\n",
      "Closing /home/brooke/pacman/raw_data/BJH026/ieeg/BJH026_notched_filtered_clean_ieeg-1.fif\n",
      "Closing /home/brooke/pacman/raw_data/BJH026/ieeg/BJH026_notched_filtered_clean_ieeg.fif\n",
      "[done]\n",
      "Writing /home/brooke/pacman/raw_data/BJH026/ieeg/BJH026_raw_clean_ieeg.fif\n",
      "Overwriting existing file.\n",
      "Writing /home/brooke/pacman/raw_data/BJH026/ieeg/BJH026_raw_clean_ieeg-1.fif\n",
      "Closing /home/brooke/pacman/raw_data/BJH026/ieeg/BJH026_raw_clean_ieeg-1.fif\n",
      "Closing /home/brooke/pacman/raw_data/BJH026/ieeg/BJH026_raw_clean_ieeg.fif\n",
      "[done]\n"
     ]
    }
   ],
   "source": [
    "# save filtered data #\n",
    "filtered_notch_data.save(f\"{raw_data_dir}/ieeg/{subject}_notched_filtered_clean_ieeg.fif\", overwrite = True)\n",
    "\n",
    "\n",
    "# save raw clean data #\n",
    "raw_fif.save(f\"{raw_data_dir}/ieeg/{subject}_raw_clean_ieeg.fif\", overwrite = True)\n"
   ]
  },
  {
   "cell_type": "code",
   "execution_count": null,
   "metadata": {},
   "outputs": [],
   "source": []
  }
 ],
 "metadata": {
  "kernelspec": {
   "display_name": "ieeg_analysis2",
   "language": "python",
   "name": "python3"
  },
  "language_info": {
   "codemirror_mode": {
    "name": "ipython",
    "version": 3
   },
   "file_extension": ".py",
   "mimetype": "text/x-python",
   "name": "python",
   "nbconvert_exporter": "python",
   "pygments_lexer": "ipython3",
   "version": "3.9.18"
  }
 },
 "nbformat": 4,
 "nbformat_minor": 5
}

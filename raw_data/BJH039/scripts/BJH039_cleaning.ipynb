{
 "cells": [
  {
   "cell_type": "markdown",
   "id": "be523407-5360-4092-9545-0b91c5c6401f",
   "metadata": {},
   "source": [
    "# Cleaning: BJH039\n",
    "\n",
    "\n",
    "This script cleans the data both by abnormal trials and by noisy channels and epileptic activity. Must recheck after bipolar\n"
   ]
  },
  {
   "cell_type": "markdown",
   "id": "12d83091-835b-465f-bbe0-6fd1cdacc8b9",
   "metadata": {},
   "source": [
    "### Prep"
   ]
  },
  {
   "cell_type": "code",
   "execution_count": 1,
   "id": "a3785b84-4aaa-4461-a37e-b51a7c1c7913",
   "metadata": {
    "tags": []
   },
   "outputs": [],
   "source": [
    "import matplotlib\n",
    "matplotlib.use(\"Qt5Agg\")\n",
    "import matplotlib.pyplot as plt\n",
    "import pandas as pd\n",
    "import numpy as np\n",
    "from scipy import signal, stats\n",
    "import mat73\n",
    "import re\n",
    "from neurodsp.timefrequency import compute_wavelet_transform\n",
    "import os\n",
    "import mne\n",
    "import IPython\n",
    "import seaborn as sns"
   ]
  },
  {
   "cell_type": "code",
   "execution_count": 2,
   "id": "1aff0958-6a4e-4e42-b7a6-80d00e5f63f3",
   "metadata": {
    "tags": []
   },
   "outputs": [
    {
     "name": "stderr",
     "output_type": "stream",
     "text": [
      "Warning: Ignoring XDG_SESSION_TYPE=wayland on Gnome. Use QT_QPA_PLATFORM=wayland to run on Wayland anyway.\n"
     ]
    }
   ],
   "source": [
    "%matplotlib qt5"
   ]
  },
  {
   "cell_type": "code",
   "execution_count": 3,
   "id": "639733c6-a51d-4ba2-b0bc-64689a345199",
   "metadata": {
    "tags": []
   },
   "outputs": [],
   "source": [
    "# helper functions#\n",
    "\n",
    "def rle(inarray):\n",
    "        \"\"\" run length encoding. Partial credit to R rle function. \n",
    "            Multi datatype arrays catered for including non Numpy\n",
    "            returns: tuple (runlengths, startpositions, values) \"\"\"\n",
    "        ia = np.asarray(inarray)                # force numpy\n",
    "        n = len(ia)\n",
    "        if n == 0: \n",
    "            return (None, None, None)\n",
    "        else:\n",
    "            y = ia[1:] != ia[:-1]               # pairwise unequal (string safe)\n",
    "            i = np.append(np.where(y), n - 1)   # must include last element posi\n",
    "            z = np.diff(np.append(-1, i))       # run lengths\n",
    "            p = np.cumsum(np.append(0, z))[:-1] # positions\n",
    "            return(z, p, ia[i])\n",
    "        \n",
    "def find_bad_trial_times(idx, srate, trial_begins, trial_lengths):\n",
    "    ''' takes and index of trial lengths, beginnings and the sampling rate and returns the the start time and and\n",
    "    duration of the times to annotae as BAD '''\n",
    "    start_time = trial_begins[0][idx]/srate\n",
    "    duration = trial_lengths[0][idx]/srate\n",
    "    \n",
    "    return start_time, duration        "
   ]
  },
  {
   "cell_type": "code",
   "execution_count": 4,
   "id": "2794e660-c449-4c7a-968f-87124f1044ea",
   "metadata": {
    "tags": []
   },
   "outputs": [],
   "source": [
    "## Prep paths ##\n",
    "\n",
    "subject = 'BJH039'\n",
    "raw_data_dir = f\"/home/brooke/pacman/raw_data/{subject}\"\n",
    "preproc_data_dir = f\"/home/brooke/pacman/preprocessing/{subject}/ieeg\""
   ]
  },
  {
   "cell_type": "code",
   "execution_count": 5,
   "id": "6e0deb60-8aca-4c57-a879-9fb9fb6d1d8e",
   "metadata": {
    "tags": []
   },
   "outputs": [
    {
     "name": "stdout",
     "output_type": "stream",
     "text": [
      "Opening raw data file /home/brooke/pacman/raw_data/BJH039/ieeg/BJH039_raw_ieeg.fif...\n",
      "    Range : 0 ... 2085999 =      0.000 ...  1042.999 secs\n",
      "Ready.\n",
      "Opening raw data file /home/brooke/pacman/raw_data/BJH039/ieeg/BJH039_raw_ieeg-1.fif...\n",
      "    Range : 2086000 ... 3639799 =   1043.000 ...  1819.899 secs\n",
      "Ready.\n"
     ]
    }
   ],
   "source": [
    "## Load Data ##\n",
    "\n",
    "raw_fif = mne.io.Raw(f\"{raw_data_dir}/ieeg/{subject}_raw_ieeg.fif\")"
   ]
  },
  {
   "cell_type": "code",
   "execution_count": 6,
   "id": "22556d7c-0c0b-40fc-82b1-777357649e6e",
   "metadata": {
    "tags": []
   },
   "outputs": [
    {
     "name": "stdout",
     "output_type": "stream",
     "text": [
      "Reading 0 ... 3639799  =      0.000 ...  1819.899 secs...\n",
      "Filtering raw data in 1 contiguous segment\n",
      "Setting up band-pass filter from 1 - 1.5e+02 Hz\n",
      "\n",
      "FIR filter parameters\n",
      "---------------------\n",
      "Designing a one-pass, zero-phase, non-causal bandpass filter:\n",
      "- Windowed time-domain design (firwin) method\n",
      "- Hamming window with 0.0194 passband ripple and 53 dB stopband attenuation\n",
      "- Lower passband edge: 1.00\n",
      "- Lower transition bandwidth: 1.00 Hz (-6 dB cutoff frequency: 0.50 Hz)\n",
      "- Upper passband edge: 150.00 Hz\n",
      "- Upper transition bandwidth: 37.50 Hz (-6 dB cutoff frequency: 168.75 Hz)\n",
      "- Filter length: 6601 samples (3.300 sec)\n",
      "\n"
     ]
    },
    {
     "name": "stderr",
     "output_type": "stream",
     "text": [
      "[Parallel(n_jobs=1)]: Using backend SequentialBackend with 1 concurrent workers.\n",
      "[Parallel(n_jobs=1)]: Done   1 out of   1 | elapsed:    0.1s remaining:    0.0s\n",
      "[Parallel(n_jobs=1)]: Done   2 out of   2 | elapsed:    0.2s remaining:    0.0s\n",
      "[Parallel(n_jobs=1)]: Done   3 out of   3 | elapsed:    0.2s remaining:    0.0s\n",
      "[Parallel(n_jobs=1)]: Done   4 out of   4 | elapsed:    0.3s remaining:    0.0s\n",
      "[Parallel(n_jobs=1)]: Done 256 out of 256 | elapsed:   17.0s finished\n"
     ]
    },
    {
     "name": "stdout",
     "output_type": "stream",
     "text": [
      "Setting up band-stop filter\n",
      "\n",
      "FIR filter parameters\n",
      "---------------------\n",
      "Designing a one-pass, zero-phase, non-causal bandstop filter:\n",
      "- Windowed time-domain design (firwin) method\n",
      "- Hamming window with 0.0194 passband ripple and 53 dB stopband attenuation\n",
      "- Lower transition bandwidth: 0.50 Hz\n",
      "- Upper transition bandwidth: 0.50 Hz\n",
      "- Filter length: 13201 samples (6.601 sec)\n",
      "\n"
     ]
    },
    {
     "name": "stderr",
     "output_type": "stream",
     "text": [
      "[Parallel(n_jobs=1)]: Using backend SequentialBackend with 1 concurrent workers.\n",
      "[Parallel(n_jobs=1)]: Done   1 out of   1 | elapsed:    0.1s remaining:    0.0s\n",
      "[Parallel(n_jobs=1)]: Done   2 out of   2 | elapsed:    0.2s remaining:    0.0s\n",
      "[Parallel(n_jobs=1)]: Done   3 out of   3 | elapsed:    0.3s remaining:    0.0s\n",
      "[Parallel(n_jobs=1)]: Done   4 out of   4 | elapsed:    0.3s remaining:    0.0s\n",
      "[Parallel(n_jobs=1)]: Done 256 out of 256 | elapsed:   20.2s finished\n"
     ]
    }
   ],
   "source": [
    "## Filtering ##\n",
    "\n",
    "# load data #\n",
    "raw_fif.load_data()\n",
    "\n",
    "# highpass filter @ 1 and lowpass @ 200 #\n",
    "filtered_data = raw_fif.filter(l_freq=1, h_freq=150) # skip this step for TF analysis, always do this on the least processed data, or do .1 to 250\n",
    "\n",
    "# remove 60hz line noise #\n",
    "freqs = (60, 120, 180, 240)\n",
    "filtered_notch_data = filtered_data.notch_filter(freqs=freqs) \n"
   ]
  },
  {
   "cell_type": "code",
   "execution_count": 6,
   "id": "06a738f0-dbc3-4e9b-807c-d21e8eb4fd28",
   "metadata": {
    "tags": []
   },
   "outputs": [
    {
     "name": "stdout",
     "output_type": "stream",
     "text": [
      "Opening raw data file /home/brooke/pacman/raw_data/BJH039/ieeg/BJH039_notched_filtered_ieeg.fif...\n",
      "    Range : 0 ... 2085999 =      0.000 ...  1042.999 secs\n",
      "Ready.\n",
      "Opening raw data file /home/brooke/pacman/raw_data/BJH039/ieeg/BJH039_notched_filtered_ieeg-1.fif...\n",
      "    Range : 2086000 ... 3639799 =   1043.000 ...  1819.899 secs\n",
      "Ready.\n",
      "446 events found\n",
      "Event IDs: [0 1]\n"
     ]
    }
   ],
   "source": [
    "## Load/Save Filtered Data ##\n",
    "\n",
    "# save #\n",
    "# filtered_notch_data.save(f\"{raw_data_dir}/ieeg/{subject}_notched_filtered_ieeg.fif\", overwrite = True)\n",
    "\n",
    "# load #\n",
    "filtered_notch_data = mne.io.Raw(f\"{raw_data_dir}/ieeg/{subject}_notched_filtered_ieeg.fif\")\n",
    "events = mne.find_events(filtered_notch_data, output='step', consecutive = False, stim_channel='STI')"
   ]
  },
  {
   "cell_type": "code",
   "execution_count": 7,
   "id": "c262fbb5-6908-4a46-b03c-d815dbe2dc0d",
   "metadata": {
    "tags": []
   },
   "outputs": [
    {
     "data": {
      "text/plain": [
       "['AR1',\n",
       " 'AR2',\n",
       " 'AR3',\n",
       " 'AR4',\n",
       " 'REF1',\n",
       " 'REF2',\n",
       " 'AR5',\n",
       " 'AR6',\n",
       " 'AR7',\n",
       " 'AR8',\n",
       " 'AR9',\n",
       " 'AR10',\n",
       " 'AR11',\n",
       " 'AR12',\n",
       " 'BR1',\n",
       " 'BR2',\n",
       " 'BR3',\n",
       " 'BR4',\n",
       " 'BR5',\n",
       " 'BR6',\n",
       " 'BR7',\n",
       " 'BR8',\n",
       " 'BR9',\n",
       " 'BR10',\n",
       " 'BR11',\n",
       " 'BR12',\n",
       " 'BR13',\n",
       " 'BR14',\n",
       " 'CR1',\n",
       " 'CR2',\n",
       " 'CR3',\n",
       " 'CR4',\n",
       " 'CR5',\n",
       " 'CR6',\n",
       " 'CR7',\n",
       " 'CR8',\n",
       " 'CR9',\n",
       " 'CR10',\n",
       " 'DR1',\n",
       " 'DR2',\n",
       " 'DR3',\n",
       " 'DR4',\n",
       " 'DR5',\n",
       " 'DR6',\n",
       " 'DR7',\n",
       " 'DR8',\n",
       " 'DR9',\n",
       " 'DR10',\n",
       " 'DR11',\n",
       " 'DR12',\n",
       " 'ER1',\n",
       " 'ER2',\n",
       " 'ER3',\n",
       " 'ER4',\n",
       " 'ER5',\n",
       " 'ER6',\n",
       " 'ER7',\n",
       " 'ER8',\n",
       " 'ER9',\n",
       " 'ER10',\n",
       " 'ER11',\n",
       " 'ER12',\n",
       " 'ER13',\n",
       " 'ER14',\n",
       " 'FR1',\n",
       " 'FR2',\n",
       " 'FR3',\n",
       " 'FR4',\n",
       " 'FR5',\n",
       " 'FR6',\n",
       " 'FR7',\n",
       " 'FR8',\n",
       " 'FR9',\n",
       " 'FR10',\n",
       " 'GR1',\n",
       " 'GR2',\n",
       " 'GR3',\n",
       " 'GR4',\n",
       " 'GR5',\n",
       " 'GR6',\n",
       " 'GR7',\n",
       " 'GR8',\n",
       " 'GR9',\n",
       " 'GR10',\n",
       " 'GR11',\n",
       " 'GR12',\n",
       " 'GR13',\n",
       " 'GR14',\n",
       " 'HR1',\n",
       " 'HR2',\n",
       " 'HR3',\n",
       " 'HR4',\n",
       " 'HR5',\n",
       " 'HR6',\n",
       " 'HR7',\n",
       " 'HR8',\n",
       " 'HR9',\n",
       " 'HR10',\n",
       " 'HR11',\n",
       " 'HR12',\n",
       " 'IR1',\n",
       " 'IR2',\n",
       " 'IR3',\n",
       " 'IR4',\n",
       " 'IR5',\n",
       " 'IR6',\n",
       " 'IR7',\n",
       " 'IR8',\n",
       " 'IR9',\n",
       " 'IR10',\n",
       " 'IR11',\n",
       " 'IR12',\n",
       " 'IR13',\n",
       " 'IR14',\n",
       " 'JR1',\n",
       " 'JR2',\n",
       " 'JR3',\n",
       " 'JR4',\n",
       " 'JR5',\n",
       " 'JR6',\n",
       " 'JR7',\n",
       " 'JR8',\n",
       " 'KL1',\n",
       " 'KL2',\n",
       " 'KL3',\n",
       " 'KL4',\n",
       " 'KL5',\n",
       " 'KL6',\n",
       " 'KL7',\n",
       " 'KL8',\n",
       " 'KL9',\n",
       " 'KL10',\n",
       " 'KL11',\n",
       " 'KL12',\n",
       " 'LL1',\n",
       " 'LL2',\n",
       " 'LL3',\n",
       " 'LL4',\n",
       " 'LL5',\n",
       " 'LL6',\n",
       " 'LL7',\n",
       " 'LL8',\n",
       " 'LL9',\n",
       " 'LL10',\n",
       " 'LL11',\n",
       " 'LL12',\n",
       " 'ML1',\n",
       " 'ML2',\n",
       " 'ML3',\n",
       " 'ML4',\n",
       " 'ML5',\n",
       " 'ML6',\n",
       " 'ML7',\n",
       " 'ML8',\n",
       " 'ML9',\n",
       " 'ML10',\n",
       " 'ML11',\n",
       " 'ML12',\n",
       " 'EMPTY',\n",
       " 'EMPTY_160',\n",
       " 'EMPTY_161',\n",
       " 'EMPTY_162',\n",
       " 'EMPTY_163',\n",
       " 'EMPTY_164',\n",
       " 'EMPTY_165',\n",
       " 'EMPTY_166',\n",
       " 'EMPTY_167',\n",
       " 'EMPTY_168',\n",
       " 'EMPTY_169',\n",
       " 'EMPTY_170',\n",
       " 'EMPTY_171',\n",
       " 'EMPTY_172',\n",
       " 'EMPTY_173',\n",
       " 'EMPTY_174',\n",
       " 'EMPTY_175',\n",
       " 'EMPTY_176',\n",
       " 'EMPTY_177',\n",
       " 'EMPTY_178',\n",
       " 'EMPTY_179',\n",
       " 'EMPTY_180',\n",
       " 'EMPTY_181',\n",
       " 'EMPTY_182',\n",
       " 'EMPTY_183',\n",
       " 'EMPTY_184',\n",
       " 'EMPTY_185',\n",
       " 'EMPTY_186',\n",
       " 'EMPTY_187',\n",
       " 'EMPTY_188',\n",
       " 'EMPTY_189',\n",
       " 'EMPTY_190',\n",
       " 'EMPTY_191',\n",
       " 'EMPTY_192',\n",
       " 'EMPTY_193',\n",
       " 'EMPTY_194',\n",
       " 'EMPTY_195',\n",
       " 'EMPTY_196',\n",
       " 'EMPTY_197',\n",
       " 'EMPTY_198',\n",
       " 'EMPTY_199',\n",
       " 'EMPTY_200',\n",
       " 'EMPTY_201',\n",
       " 'EMPTY_202',\n",
       " 'EMPTY_203',\n",
       " 'EMPTY_204',\n",
       " 'EMPTY_205',\n",
       " 'EMPTY_206',\n",
       " 'EMPTY_207',\n",
       " 'EMPTY_208',\n",
       " 'EMPTY_209',\n",
       " 'EMPTY_210',\n",
       " 'EMPTY_211',\n",
       " 'EMPTY_212',\n",
       " 'EMPTY_213',\n",
       " 'EMPTY_214',\n",
       " 'EMPTY_215',\n",
       " 'EMPTY_216',\n",
       " 'EMPTY_217',\n",
       " 'EMPTY_218',\n",
       " 'EMPTY_219',\n",
       " 'EMPTY_220',\n",
       " 'EMPTY_221',\n",
       " 'EMPTY_222',\n",
       " 'EMPTY_223',\n",
       " 'EMPTY_224',\n",
       " 'EMPTY_225',\n",
       " 'EMPTY_226',\n",
       " 'EMPTY_227',\n",
       " 'EMPTY_228',\n",
       " 'EMPTY_229',\n",
       " 'EMPTY_230',\n",
       " 'EMPTY_231',\n",
       " 'FP1',\n",
       " 'F3',\n",
       " 'C3',\n",
       " 'P3',\n",
       " 'O1',\n",
       " 'FP2',\n",
       " 'F4',\n",
       " 'C4',\n",
       " 'P4',\n",
       " 'O2',\n",
       " 'F7',\n",
       " 'T7',\n",
       " 'P7',\n",
       " 'F8',\n",
       " 'T8',\n",
       " 'P8',\n",
       " 'F9',\n",
       " 'F10',\n",
       " 'FPZ',\n",
       " 'FZ',\n",
       " 'CZ',\n",
       " 'PZ',\n",
       " 'OZ',\n",
       " 'EKG1',\n",
       " 'EKG2',\n",
       " 'STI']"
      ]
     },
     "execution_count": 7,
     "metadata": {},
     "output_type": "execute_result"
    }
   ],
   "source": [
    "filtered_notch_data.info['ch_names']"
   ]
  },
  {
   "cell_type": "markdown",
   "id": "1d1ab3dc-a3c3-4eab-bb46-9c5a7e517b9d",
   "metadata": {
    "tags": []
   },
   "source": [
    "## Cleaning Neural Data\n",
    "\n",
    "#### Bad Channels\n",
    "\n",
    "Epileptic channels from my cleaning: \n",
    "\n",
    "Noisy channels: \n",
    "\n",
    "['REF1', 'REF2', 'EMPTY', 'EMPTY_160', 'EMPTY_161', 'EMPTY_162', 'EMPTY_163', 'EMPTY_164', 'EMPTY_165', 'EMPTY_166', 'EMPTY_167', 'EMPTY_168', 'EMPTY_169', 'EMPTY_170', 'EMPTY_171', 'EMPTY_172', 'EMPTY_173', 'EMPTY_174', 'EMPTY_175', 'EMPTY_176', 'EMPTY_177', 'EMPTY_178', 'EMPTY_179', 'EMPTY_180', 'EMPTY_181', 'EMPTY_182', 'EMPTY_183', 'EMPTY_184', 'EMPTY_185', 'EMPTY_186', 'EMPTY_187', 'EMPTY_188', 'EMPTY_189', 'EMPTY_190', 'EMPTY_191', 'EMPTY_192', 'EMPTY_193', 'EMPTY_194', 'EMPTY_195', 'EMPTY_196', 'EMPTY_197', 'EMPTY_198', 'EMPTY_199', 'EMPTY_200', 'EMPTY_201', 'EMPTY_202', 'EMPTY_203', 'EMPTY_204', 'EMPTY_205', 'EMPTY_206', 'EMPTY_207', 'EMPTY_208', 'EMPTY_209', 'EMPTY_210', 'EMPTY_211', 'EMPTY_212', 'EMPTY_213', 'EMPTY_214', 'EMPTY_215', 'EMPTY_216', 'EMPTY_217', 'EMPTY_218', 'EMPTY_219', 'EMPTY_220', 'EMPTY_221', 'EMPTY_222', 'EMPTY_223', 'EMPTY_224', 'EMPTY_225', 'EMPTY_226', 'EMPTY_227', 'EMPTY_228', 'EMPTY_229', 'EMPTY_230', 'EMPTY_231', 'EKG1', 'EKG2', 'FP1', 'F3', 'C3', 'P3', 'O1', 'FP2', 'F4', 'C4', 'P4', 'O2', 'F7', 'T7', 'P7', 'F8', 'T8', 'P8', 'F9', 'F10', 'FPZ', 'FZ', 'CZ', 'PZ', 'OZ', 'EKG1', 'EKG2', 'KL1', 'LL10', 'LL1', 'LL12', 'IR4', 'ML2', 'ML1']"
   ]
  },
  {
   "cell_type": "code",
   "execution_count": 8,
   "id": "7d0a4343-948a-4654-bc8f-db9c42ded9bb",
   "metadata": {
    "tags": []
   },
   "outputs": [
    {
     "data": {
      "text/html": [
       "<table class=\"table table-hover table-striped table-sm table-responsive small\">\n",
       "    <tr>\n",
       "        <th>Measurement date</th>\n",
       "        \n",
       "        <td>Unknown</td>\n",
       "        \n",
       "    </tr>\n",
       "    <tr>\n",
       "        <th>Experimenter</th>\n",
       "        \n",
       "        <td>Unknown</td>\n",
       "        \n",
       "    </tr>\n",
       "        <th>Participant</th>\n",
       "        \n",
       "        <td>Unknown</td>\n",
       "        \n",
       "    </tr>\n",
       "    <tr>\n",
       "        <th>Digitized points</th>\n",
       "        \n",
       "        <td>0 points</td>\n",
       "        \n",
       "    </tr>\n",
       "    <tr>\n",
       "        <th>Good channels</th>\n",
       "        <td>256 sEEG, 1 Stimulus</td>\n",
       "    </tr>\n",
       "    <tr>\n",
       "        <th>Bad channels</th>\n",
       "        <td>REF1, REF2, EMPTY, EMPTY_160, EMPTY_161, EMPTY_162, EMPTY_163, EMPTY_164, EMPTY_165, EMPTY_166, EMPTY_167, EMPTY_168, EMPTY_169, EMPTY_170, EMPTY_171, EMPTY_172, EMPTY_173, EMPTY_174, EMPTY_175, EMPTY_176, EMPTY_177, EMPTY_178, EMPTY_179, EMPTY_180, EMPTY_181, EMPTY_182, EMPTY_183, EMPTY_184, EMPTY_185, EMPTY_186, EMPTY_187, EMPTY_188, EMPTY_189, EMPTY_190, EMPTY_191, EMPTY_192, EMPTY_193, EMPTY_194, EMPTY_195, EMPTY_196, EMPTY_197, EMPTY_198, EMPTY_199, EMPTY_200, EMPTY_201, EMPTY_202, EMPTY_203, EMPTY_204, EMPTY_205, EMPTY_206, EMPTY_207, EMPTY_208, EMPTY_209, EMPTY_210, EMPTY_211, EMPTY_212, EMPTY_213, EMPTY_214, EMPTY_215, EMPTY_216, EMPTY_217, EMPTY_218, EMPTY_219, EMPTY_220, EMPTY_221, EMPTY_222, EMPTY_223, EMPTY_224, EMPTY_225, EMPTY_226, EMPTY_227, EMPTY_228, EMPTY_229, EMPTY_230, EMPTY_231, EKG1, EKG2, KL1, KL2, KL3, KL4, KL5, LL10, LL1, LL2, LL3, LL4, LL5, IR4, ML2, ML1, ML3, ML4, GR1, LL12, FP1, F3, C3, P3, O1, FP2, F4, C4, P4, O2, F7, T7, P7, F8, T8, P8, F9, F10, FPZ, FZ, CZ, PZ, OZ, EKG1, EKG2</td>\n",
       "    </tr>\n",
       "    <tr>\n",
       "        <th>EOG channels</th>\n",
       "        <td>Not available</td>\n",
       "    </tr>\n",
       "    <tr>\n",
       "        <th>ECG channels</th>\n",
       "        <td>Not available</td>\n",
       "    \n",
       "    <tr>\n",
       "        <th>Sampling frequency</th>\n",
       "        <td>2000.00 Hz</td>\n",
       "    </tr>\n",
       "    \n",
       "    \n",
       "    <tr>\n",
       "        <th>Highpass</th>\n",
       "        <td>1.00 Hz</td>\n",
       "    </tr>\n",
       "    \n",
       "    \n",
       "    <tr>\n",
       "        <th>Lowpass</th>\n",
       "        <td>150.00 Hz</td>\n",
       "    </tr>\n",
       "    \n",
       "    \n",
       "    \n",
       "    <tr>\n",
       "        <th>Filenames</th>\n",
       "        <td>BJH039_notched_filtered_ieeg.fif&lt;br&gt;BJH039_notched_filtered_ieeg-1.fif</td>\n",
       "    </tr>\n",
       "    \n",
       "    <tr>\n",
       "        <th>Duration</th>\n",
       "        <td>00:30:20 (HH:MM:SS)</td>\n",
       "    </tr>\n",
       "</table>"
      ],
      "text/plain": [
       "<Raw | BJH039_notched_filtered_ieeg.fif, 257 x 3639800 (1819.9 s), ~259 kB, data not loaded>"
      ]
     },
     "execution_count": 8,
     "metadata": {},
     "output_type": "execute_result"
    }
   ],
   "source": [
    "# Remove Channels from filtered data\n",
    "\n",
    "# remove non seeg electrodes electrodes #\n",
    "string_lst = ['EMPTY', 'REF', 'ekg']\n",
    "\n",
    "bad_channels_reg = [re.findall(r\"(?=(\"+'|'.join(string_lst)+r\"))\", name, re.IGNORECASE) for name in filtered_notch_data.info['ch_names']]\n",
    "bad_channels_index = [i for i,x in enumerate(bad_channels_reg) if  x]\n",
    "bad_channels = [filtered_notch_data.info['ch_names'][i] for i in bad_channels_index]\n",
    "\n",
    "filtered_notch_data.info['bads'].extend(bad_channels)  \n",
    "\n",
    "# # # remove epileptic electrodes\n",
    "filtered_notch_data.info['bads'].extend(['KL1', 'KL2', 'KL3', 'KL4', 'KL5', 'LL10', 'LL1', 'LL2', 'LL3', 'LL4', 'LL5', 'IR4', 'ML2', 'ML1', 'ML3', 'ML4', 'GR1', 'LL12'])\n",
    "\n",
    "\n",
    "# remove out of brain electrodes\n",
    "## TODO hasn't been localized\n",
    "\n",
    "# remove scalp and dc channels\n",
    "scalp_dc_channels = [ 'FP1',\n",
    " 'F3',\n",
    " 'C3',\n",
    " 'P3',\n",
    " 'O1',\n",
    " 'FP2',\n",
    " 'F4',\n",
    " 'C4',\n",
    " 'P4',\n",
    " 'O2',\n",
    " 'F7',\n",
    " 'T7',\n",
    " 'P7',\n",
    " 'F8',\n",
    " 'T8',\n",
    " 'P8',\n",
    " 'F9',\n",
    " 'F10',\n",
    " 'FPZ',\n",
    " 'FZ',\n",
    " 'CZ',\n",
    " 'PZ',\n",
    " 'OZ',\n",
    " 'EKG1',\n",
    " 'EKG2']\n",
    "\n",
    "filtered_notch_data.info['bads'].extend(scalp_dc_channels)\n",
    "filtered_notch_data"
   ]
  },
  {
   "cell_type": "code",
   "execution_count": 9,
   "id": "14a28078-93dd-4d34-b19b-a6ee581b9504",
   "metadata": {
    "tags": []
   },
   "outputs": [
    {
     "data": {
      "text/html": [
       "<table class=\"table table-hover table-striped table-sm table-responsive small\">\n",
       "    <tr>\n",
       "        <th>Measurement date</th>\n",
       "        \n",
       "        <td>Unknown</td>\n",
       "        \n",
       "    </tr>\n",
       "    <tr>\n",
       "        <th>Experimenter</th>\n",
       "        \n",
       "        <td>Unknown</td>\n",
       "        \n",
       "    </tr>\n",
       "        <th>Participant</th>\n",
       "        \n",
       "        <td>Unknown</td>\n",
       "        \n",
       "    </tr>\n",
       "    <tr>\n",
       "        <th>Digitized points</th>\n",
       "        \n",
       "        <td>0 points</td>\n",
       "        \n",
       "    </tr>\n",
       "    <tr>\n",
       "        <th>Good channels</th>\n",
       "        <td>256 sEEG, 1 Stimulus</td>\n",
       "    </tr>\n",
       "    <tr>\n",
       "        <th>Bad channels</th>\n",
       "        <td>REF1, REF2, EMPTY, EMPTY_160, EMPTY_161, EMPTY_162, EMPTY_163, EMPTY_164, EMPTY_165, EMPTY_166, EMPTY_167, EMPTY_168, EMPTY_169, EMPTY_170, EMPTY_171, EMPTY_172, EMPTY_173, EMPTY_174, EMPTY_175, EMPTY_176, EMPTY_177, EMPTY_178, EMPTY_179, EMPTY_180, EMPTY_181, EMPTY_182, EMPTY_183, EMPTY_184, EMPTY_185, EMPTY_186, EMPTY_187, EMPTY_188, EMPTY_189, EMPTY_190, EMPTY_191, EMPTY_192, EMPTY_193, EMPTY_194, EMPTY_195, EMPTY_196, EMPTY_197, EMPTY_198, EMPTY_199, EMPTY_200, EMPTY_201, EMPTY_202, EMPTY_203, EMPTY_204, EMPTY_205, EMPTY_206, EMPTY_207, EMPTY_208, EMPTY_209, EMPTY_210, EMPTY_211, EMPTY_212, EMPTY_213, EMPTY_214, EMPTY_215, EMPTY_216, EMPTY_217, EMPTY_218, EMPTY_219, EMPTY_220, EMPTY_221, EMPTY_222, EMPTY_223, EMPTY_224, EMPTY_225, EMPTY_226, EMPTY_227, EMPTY_228, EMPTY_229, EMPTY_230, EMPTY_231, EKG1, EKG2, KL1, KL2, KL3, KL4, KL5, LL10, LL1, LL2, LL3, LL4, LL5, IR4, ML2, ML1, ML3, ML4, GR1, LL12, FP1, F3, C3, P3, O1, FP2, F4, C4, P4, O2, F7, T7, P7, F8, T8, P8, F9, F10, FPZ, FZ, CZ, PZ, OZ, EKG1, EKG2</td>\n",
       "    </tr>\n",
       "    <tr>\n",
       "        <th>EOG channels</th>\n",
       "        <td>Not available</td>\n",
       "    </tr>\n",
       "    <tr>\n",
       "        <th>ECG channels</th>\n",
       "        <td>Not available</td>\n",
       "    \n",
       "    <tr>\n",
       "        <th>Sampling frequency</th>\n",
       "        <td>2000.00 Hz</td>\n",
       "    </tr>\n",
       "    \n",
       "    \n",
       "    <tr>\n",
       "        <th>Highpass</th>\n",
       "        <td>0.00 Hz</td>\n",
       "    </tr>\n",
       "    \n",
       "    \n",
       "    <tr>\n",
       "        <th>Lowpass</th>\n",
       "        <td>1000.00 Hz</td>\n",
       "    </tr>\n",
       "    \n",
       "    \n",
       "    \n",
       "    <tr>\n",
       "        <th>Filenames</th>\n",
       "        <td>BJH039_raw_ieeg.fif&lt;br&gt;BJH039_raw_ieeg-1.fif</td>\n",
       "    </tr>\n",
       "    \n",
       "    <tr>\n",
       "        <th>Duration</th>\n",
       "        <td>00:30:20 (HH:MM:SS)</td>\n",
       "    </tr>\n",
       "</table>"
      ],
      "text/plain": [
       "<Raw | BJH039_raw_ieeg.fif, 257 x 3639800 (1819.9 s), ~259 kB, data not loaded>"
      ]
     },
     "execution_count": 9,
     "metadata": {},
     "output_type": "execute_result"
    }
   ],
   "source": [
    "# Remove Channels from filtered data\n",
    "\n",
    "# remove non seeg electrodes electrodes #\n",
    "string_lst = ['EMPTY', 'REF', 'ekg']\n",
    "\n",
    "bad_channels_reg = [re.findall(r\"(?=(\"+'|'.join(string_lst)+r\"))\", name, re.IGNORECASE) for name in raw_fif.info['ch_names']]\n",
    "bad_channels_index = [i for i,x in enumerate(bad_channels_reg) if  x]\n",
    "bad_channels = [raw_fif.info['ch_names'][i] for i in bad_channels_index]\n",
    "\n",
    "raw_fif.info['bads'].extend(bad_channels)  \n",
    "\n",
    "# # remove epileptic electrodes\n",
    "# # # remove epileptic electrodes\n",
    "raw_fif.info['bads'].extend(['KL1', 'KL2', 'KL3', 'KL4', 'KL5', 'LL10', 'LL1', 'LL2', 'LL3', 'LL4', 'LL5', 'IR4', 'ML2', 'ML1', 'ML3', 'ML4', 'GR1', 'LL12'])  \n",
    "\n",
    "# remove out of brain electrodes\n",
    "## TODO hasn't been localized\n",
    "\n",
    "# remove scalp and dc channels\n",
    "scalp_dc_channels = [ 'FP1',\n",
    " 'F3',\n",
    " 'C3',\n",
    " 'P3',\n",
    " 'O1',\n",
    " 'FP2',\n",
    " 'F4',\n",
    " 'C4',\n",
    " 'P4',\n",
    " 'O2',\n",
    " 'F7',\n",
    " 'T7',\n",
    " 'P7',\n",
    " 'F8',\n",
    " 'T8',\n",
    " 'P8',\n",
    " 'F9',\n",
    " 'F10',\n",
    " 'FPZ',\n",
    " 'FZ',\n",
    " 'CZ',\n",
    " 'PZ',\n",
    " 'OZ',\n",
    " 'EKG1',\n",
    " 'EKG2']\n",
    "\n",
    "raw_fif.info['bads'].extend(scalp_dc_channels)\n",
    "raw_fif"
   ]
  },
  {
   "cell_type": "markdown",
   "id": "3b53c7d3-8102-4a30-b63d-51b8a318ff07",
   "metadata": {},
   "source": [
    "#### Bad Epochs from noisy data\n",
    "\n"
   ]
  },
  {
   "cell_type": "code",
   "execution_count": 10,
   "id": "2e29013c-e568-447a-a47b-481b93e9882b",
   "metadata": {
    "tags": []
   },
   "outputs": [],
   "source": [
    "# # Annotate Noisy Epochs from Bob's cleaning\n",
    "\n",
    "# # read from csv from interactive session\n",
    "bad_annots = mne.read_annotations('../ieeg/saved_annotations.fif')   \n"
   ]
  },
  {
   "cell_type": "markdown",
   "id": "db730472-6e06-4a31-a66b-fa5db1600bc7",
   "metadata": {},
   "source": [
    "#### Bad epochs from bad trial data"
   ]
  },
  {
   "cell_type": "code",
   "execution_count": 11,
   "id": "4cd44147-ed15-4bd4-b6c4-5dd845908831",
   "metadata": {
    "tags": []
   },
   "outputs": [],
   "source": [
    "# ## quality check trials ##\n",
    "\n",
    "# calculate trial onsets and offsets\n",
    "sti_raw = filtered_notch_data.get_data(picks = ['STI'])\n",
    "lengths, positionsm, val  = rle(sti_raw[0])\n",
    "\n",
    "# lengths, beginnings, endings, for trials\n",
    "trial_lengths = [lengths[x] for x in np.where(val == 1)]\n",
    "trial_begins = [positionsm[x] for x in np.where(val == 1)]\n",
    "trial_ends = trial_lengths[0] + trial_begins[0]\n",
    "trial_baseline = trial_begins[0] - 1000\n",
    "\n",
    "# lengths, beginnings, endings, for itis\n",
    "iti_lengths = [lengths[x] for x in np.where(val == 0)]\n",
    "iti_begins = [positionsm[x] for x in np.where(val == 0)]\n",
    "iti_ends = iti_begins[0] + iti_lengths[0]\n",
    "\n",
    "# save trial lengths for later\n",
    "np.save(f\"{preproc_data_dir}/{subject}_trial_lengths.npy\", trial_lengths)"
   ]
  },
  {
   "cell_type": "code",
   "execution_count": 12,
   "id": "fe17aab8-72f4-4400-97d5-2abfa5771abc",
   "metadata": {
    "tags": []
   },
   "outputs": [],
   "source": [
    "# # exclude bad trials/apochs from r behavioral analysis (paused trials and no biscuits)\n",
    "\n",
    "# load bad trial data\n",
    "bad_trials = np.genfromtxt(f\"{raw_data_dir}/behave/{subject}_bad_trials.csv\", delimiter = ',', skip_header = 1)\n",
    "\n",
    "onsets = []\n",
    "durations = []\n",
    "for bad in bad_trials:\n",
    "    start, dur = find_bad_trial_times(int(bad), raw_fif.info['sfreq'], trial_begins, trial_lengths)\n",
    "    onsets.append(start)\n",
    "    durations.append(dur)\n",
    "\n",
    "# update descriptions\n",
    "descriptions = ['bad'] * len(durations)\n"
   ]
  },
  {
   "cell_type": "code",
   "execution_count": 13,
   "id": "a2d684d1-c82d-4f87-b37e-aca09a1e95ed",
   "metadata": {
    "tags": []
   },
   "outputs": [
    {
     "data": {
      "text/html": [
       "<table class=\"table table-hover table-striped table-sm table-responsive small\">\n",
       "    <tr>\n",
       "        <th>Measurement date</th>\n",
       "        \n",
       "        <td>Unknown</td>\n",
       "        \n",
       "    </tr>\n",
       "    <tr>\n",
       "        <th>Experimenter</th>\n",
       "        \n",
       "        <td>Unknown</td>\n",
       "        \n",
       "    </tr>\n",
       "        <th>Participant</th>\n",
       "        \n",
       "        <td>Unknown</td>\n",
       "        \n",
       "    </tr>\n",
       "    <tr>\n",
       "        <th>Digitized points</th>\n",
       "        \n",
       "        <td>0 points</td>\n",
       "        \n",
       "    </tr>\n",
       "    <tr>\n",
       "        <th>Good channels</th>\n",
       "        <td>256 sEEG, 1 Stimulus</td>\n",
       "    </tr>\n",
       "    <tr>\n",
       "        <th>Bad channels</th>\n",
       "        <td>REF1, REF2, EMPTY, EMPTY_160, EMPTY_161, EMPTY_162, EMPTY_163, EMPTY_164, EMPTY_165, EMPTY_166, EMPTY_167, EMPTY_168, EMPTY_169, EMPTY_170, EMPTY_171, EMPTY_172, EMPTY_173, EMPTY_174, EMPTY_175, EMPTY_176, EMPTY_177, EMPTY_178, EMPTY_179, EMPTY_180, EMPTY_181, EMPTY_182, EMPTY_183, EMPTY_184, EMPTY_185, EMPTY_186, EMPTY_187, EMPTY_188, EMPTY_189, EMPTY_190, EMPTY_191, EMPTY_192, EMPTY_193, EMPTY_194, EMPTY_195, EMPTY_196, EMPTY_197, EMPTY_198, EMPTY_199, EMPTY_200, EMPTY_201, EMPTY_202, EMPTY_203, EMPTY_204, EMPTY_205, EMPTY_206, EMPTY_207, EMPTY_208, EMPTY_209, EMPTY_210, EMPTY_211, EMPTY_212, EMPTY_213, EMPTY_214, EMPTY_215, EMPTY_216, EMPTY_217, EMPTY_218, EMPTY_219, EMPTY_220, EMPTY_221, EMPTY_222, EMPTY_223, EMPTY_224, EMPTY_225, EMPTY_226, EMPTY_227, EMPTY_228, EMPTY_229, EMPTY_230, EMPTY_231, EKG1, EKG2, KL1, KL2, KL3, KL4, KL5, LL10, LL1, LL2, LL3, LL4, LL5, IR4, ML2, ML1, ML3, ML4, GR1, LL12, FP1, F3, C3, P3, O1, FP2, F4, C4, P4, O2, F7, T7, P7, F8, T8, P8, F9, F10, FPZ, FZ, CZ, PZ, OZ, EKG1, EKG2</td>\n",
       "    </tr>\n",
       "    <tr>\n",
       "        <th>EOG channels</th>\n",
       "        <td>Not available</td>\n",
       "    </tr>\n",
       "    <tr>\n",
       "        <th>ECG channels</th>\n",
       "        <td>Not available</td>\n",
       "    \n",
       "    <tr>\n",
       "        <th>Sampling frequency</th>\n",
       "        <td>2000.00 Hz</td>\n",
       "    </tr>\n",
       "    \n",
       "    \n",
       "    <tr>\n",
       "        <th>Highpass</th>\n",
       "        <td>0.00 Hz</td>\n",
       "    </tr>\n",
       "    \n",
       "    \n",
       "    <tr>\n",
       "        <th>Lowpass</th>\n",
       "        <td>1000.00 Hz</td>\n",
       "    </tr>\n",
       "    \n",
       "    \n",
       "    \n",
       "    <tr>\n",
       "        <th>Filenames</th>\n",
       "        <td>BJH039_raw_ieeg.fif&lt;br&gt;BJH039_raw_ieeg-1.fif</td>\n",
       "    </tr>\n",
       "    \n",
       "    <tr>\n",
       "        <th>Duration</th>\n",
       "        <td>00:30:20 (HH:MM:SS)</td>\n",
       "    </tr>\n",
       "</table>"
      ],
      "text/plain": [
       "<Raw | BJH039_raw_ieeg.fif, 257 x 3639800 (1819.9 s), ~259 kB, data not loaded>"
      ]
     },
     "execution_count": 13,
     "metadata": {},
     "output_type": "execute_result"
    }
   ],
   "source": [
    "## exclude all bad epochs from both bad trials and investigating neural data ##\n",
    "\n",
    "# # combine with bad trial data #\n",
    "bad_annots.append(onsets, durations, descriptions)\n",
    "\n",
    "# # # apply to filtered data #\n",
    "filtered_notch_data.set_annotations(bad_annots)\n",
    "\n",
    "# # # apply to not filtered data #\n",
    "raw_fif.set_annotations(bad_annots)"
   ]
  },
  {
   "cell_type": "markdown",
   "id": "304972b6-3d35-4319-93bc-c13753ecf6f7",
   "metadata": {},
   "source": [
    "## Visualizing Neural Data"
   ]
  },
  {
   "cell_type": "markdown",
   "id": "556ee4df-0294-49bb-8db3-98ee304abde7",
   "metadata": {},
   "source": [
    "next step, working on filtering out the high frequency noise\n",
    "\n",
    "then look at Marks script to come up with some plot of every trial, sort longest to shortest, with theta power as the color tiome as x, trial on y"
   ]
  },
  {
   "cell_type": "code",
   "execution_count": 14,
   "id": "afafa922-b494-4ebf-a262-1fa89adb5a89",
   "metadata": {
    "tags": []
   },
   "outputs": [
    {
     "name": "stdout",
     "output_type": "stream",
     "text": [
      "Using qt as 2D backend.\n"
     ]
    },
    {
     "data": {
      "text/plain": [
       "<mne_qt_browser._pg_figure.MNEQtBrowser at 0x7f233efb01f0>"
      ]
     },
     "execution_count": 14,
     "metadata": {},
     "output_type": "execute_result"
    },
    {
     "name": "stdout",
     "output_type": "stream",
     "text": [
      "Channels marked as bad:\n",
      "['LL12']\n"
     ]
    }
   ],
   "source": [
    "# plot for cleaning #\n",
    "filtered_notch_data.drop_channels(filtered_notch_data.info['bads'])\n",
    "filtered_notch_data.plot(events=events, color='b', bad_color = 'red', n_channels = 230, clipping = None, event_color = 'r')"
   ]
  },
  {
   "cell_type": "code",
   "execution_count": 15,
   "id": "37bdd7ab-b1ab-4546-9ee8-03f6fb9fed6c",
   "metadata": {
    "tags": []
   },
   "outputs": [
    {
     "name": "stdout",
     "output_type": "stream",
     "text": [
      "OrderedDict([('onset', 30.469246522138263), ('duration', 0.7965539156839192), ('description', 'BAD'), ('orig_time', None)])\n",
      "OrderedDict([('onset', 79.04561824729892), ('duration', 0.7344114116234692), ('description', 'BAD'), ('orig_time', None)])\n",
      "OrderedDict([('onset', 136.6729044559), ('duration', 0.36155638726077655), ('description', 'BAD'), ('orig_time', None)])\n",
      "OrderedDict([('onset', 148.43549184379634), ('duration', 1.192006214250398), ('description', 'BAD'), ('orig_time', None)])\n",
      "OrderedDict([('onset', 151.75729115175483), ('duration', 0.41240025421933524), ('description', 'BAD'), ('orig_time', None)])\n",
      "OrderedDict([('onset', 161.1358661111503), ('duration', 1.1298637101899658), ('description', 'BAD'), ('orig_time', None)])\n",
      "OrderedDict([('onset', 217.35082268201398), ('duration', 0.7400607301744344), ('description', 'BAD'), ('orig_time', None)])\n",
      "OrderedDict([('onset', 233.97217710613657), ('duration', 0.3220111574041482), ('description', 'BAD'), ('orig_time', None)])\n",
      "OrderedDict([('onset', 248.4976343478568), ('duration', 0.740060730174406), ('description', 'BAD'), ('orig_time', None)])\n",
      "OrderedDict([('onset', 251.2206058894146), ('duration', 0.6666195890120719), ('description', 'BAD'), ('orig_time', None)])\n",
      "OrderedDict([('onset', 275.00900360144055), ('duration', 0.4349975284231391), ('description', 'BAD'), ('orig_time', None)])\n",
      "OrderedDict([('onset', 347.8562601511193), ('duration', 1.5592119200621255), ('description', 'BAD'), ('orig_time', None)])\n",
      "OrderedDict([('onset', 357.4212626226961), ('duration', 0.745710048725357), ('description', 'BAD'), ('orig_time', None)])\n",
      "OrderedDict([('onset', 361.22925640844574), ('duration', 0.5988277664006887), ('description', 'BAD'), ('orig_time', None)])\n",
      "OrderedDict([('onset', 368.5993220817739), ('duration', 0.28246592754749145), ('description', 'BAD'), ('orig_time', None)])\n",
      "OrderedDict([('onset', 392.9496504484147), ('duration', 2.626933126191659), ('description', 'BAD'), ('orig_time', None)])\n",
      "OrderedDict([('onset', 431.8536826495304), ('duration', 0.2994138832003159), ('description', 'BAD'), ('orig_time', None)])\n",
      "OrderedDict([('onset', 443.5315302591625), ('duration', 0.6779182261140022), ('description', 'BAD'), ('orig_time', None)])\n",
      "OrderedDict([('onset', 527.6615352023163), ('duration', 2.073299908198578), ('description', 'BAD'), ('orig_time', None)])\n",
      "OrderedDict([('onset', 601.8875785608361), ('duration', 0.17512887507939467), ('description', 'BAD'), ('orig_time', None)])\n",
      "OrderedDict([('onset', 632.2065885177599), ('duration', 0.7061648188687286), ('description', 'BAD'), ('orig_time', None)])\n",
      "OrderedDict([('onset', 633.4720358731727), ('duration', 0.881293693948237), ('description', 'BAD'), ('orig_time', None)])\n",
      "OrderedDict([('onset', 637.5485488312971), ('duration', 0.9886307464162201), ('description', 'BAD'), ('orig_time', None)])\n",
      "OrderedDict([('onset', 643.6415154297011), ('duration', 0.638372996257317), ('description', 'BAD'), ('orig_time', None)])\n",
      "OrderedDict([('onset', 658.0626368194337), ('duration', 2.587387896334917), ('description', 'BAD'), ('orig_time', None)])\n",
      "OrderedDict([('onset', 677.9101052185579), ('duration', 0.5592825365440603), ('description', 'BAD'), ('orig_time', None)])\n",
      "OrderedDict([('onset', 745.0142998375821), ('duration', 0.38980298001547453), ('description', 'BAD'), ('orig_time', None)])\n",
      "OrderedDict([('onset', 746.5396158463385), ('duration', 0.31071252030221785), ('description', 'BAD'), ('orig_time', None)])\n",
      "OrderedDict([('onset', 754.0878115952262), ('duration', 0.6553209519101983), ('description', 'BAD'), ('orig_time', None)])\n",
      "OrderedDict([('onset', 759.624849939976), ('duration', 2.4969987995198153), ('description', 'BAD'), ('orig_time', None)])\n",
      "OrderedDict([('onset', 801.986265094273), ('duration', 0.37850434291362944), ('description', 'BAD'), ('orig_time', None)])\n",
      "OrderedDict([('onset', 803.0313890261987), ('duration', 0.9095402867029634), ('description', 'BAD'), ('orig_time', None)])\n",
      "OrderedDict([('onset', 806.9071746345597), ('duration', 0.6835675446649248), ('description', 'BAD'), ('orig_time', None)])\n",
      "OrderedDict([('onset', 871.1867099781089), ('duration', 0.2655179718946101), ('description', 'BAD'), ('orig_time', None)])\n",
      "OrderedDict([('onset', 877.4920556457877), ('duration', 1.146811665842847), ('description', 'BAD'), ('orig_time', None)])\n",
      "OrderedDict([('onset', 944.9438598968999), ('duration', 0.4688934397288449), ('description', 'BAD'), ('orig_time', None)])\n",
      "OrderedDict([('onset', 946.729044559), ('duration', 0.542334580891179), ('description', 'BAD'), ('orig_time', None)])\n",
      "OrderedDict([('onset', 957.9014546995269), ('duration', 0.22597274203792495), ('description', 'BAD'), ('orig_time', None)])\n",
      "OrderedDict([('onset', 965.2010804321728), ('duration', 0.4688934397288449), ('description', 'BAD'), ('orig_time', None)])\n",
      "OrderedDict([('onset', 1043.3481039474614), ('duration', 0.9490855165595349), ('description', 'BAD'), ('orig_time', None)])\n",
      "OrderedDict([('onset', 1049.4889132123437), ('duration', 0.768307322929104), ('description', 'BAD'), ('orig_time', None)])\n",
      "OrderedDict([('onset', 1120.0850928606737), ('duration', 2.2314808276250915), ('description', 'BAD'), ('orig_time', None)])\n",
      "OrderedDict([('onset', 1125.4605960031072), ('duration', 0.3954522985663971), ('description', 'BAD'), ('orig_time', None)])\n",
      "OrderedDict([('onset', 1129.602252665772), ('duration', 0.31071252030233154), ('description', 'BAD'), ('orig_time', None)])\n",
      "OrderedDict([('onset', 1169.9468610973802), ('duration', 0.43499752842308226), ('description', 'BAD'), ('orig_time', None)])\n",
      "OrderedDict([('onset', 1175.2346232610691), ('duration', 0.48584139538161253), ('description', 'BAD'), ('orig_time', None)])\n",
      "OrderedDict([('onset', 1179.9694583715839), ('duration', 0.3502577501590167), ('description', 'BAD'), ('orig_time', None)])\n",
      "OrderedDict([('onset', 1197.217887154862), ('duration', 0.4293482098721597), ('description', 'BAD'), ('orig_time', None)])\n",
      "OrderedDict([('onset', 1244.0313184097167), ('duration', 0.3728550243627069), ('description', 'BAD'), ('orig_time', None)])\n",
      "OrderedDict([('onset', 1254.5397570793023), ('duration', 1.9207683073229873), ('description', 'BAD'), ('orig_time', None)])\n",
      "OrderedDict([('onset', 1259.9129651860744), ('duration', 0.45194548407607726), ('description', 'BAD'), ('orig_time', None)])\n",
      "OrderedDict([('onset', 1301.3791398912504), ('duration', 0.4462961655251547), ('description', 'BAD'), ('orig_time', None)])\n",
      "OrderedDict([('onset', 1359.6839912435562), ('duration', 1.0112280206201376), ('description', 'BAD'), ('orig_time', None)])\n",
      "OrderedDict([('onset', 1461.0906715627425), ('duration', 0.6609702704611209), ('description', 'BAD'), ('orig_time', None)])\n",
      "OrderedDict([('onset', 1489.7348351105147), ('duration', 0.5253866252382977), ('description', 'BAD'), ('orig_time', None)])\n",
      "OrderedDict([('onset', 1570.3449615140173), ('duration', 1.3162912223713192), ('description', 'BAD'), ('orig_time', None)])\n",
      "Overwriting existing file.\n"
     ]
    },
    {
     "name": "stderr",
     "output_type": "stream",
     "text": [
      "/tmp/ipykernel_12954/1650741952.py:7: RuntimeWarning: This filename (../ieeg/saved_annotations.fif) does not conform to MNE naming conventions. All annotations files should end with -annot.fif, -annot.fif.gz, _annot.fif, _annot.fif.gz, .txt or .csv\n",
      "  filtered_notch_data.annotations.save('../ieeg/saved_annotations.fif', overwrite = True)\n"
     ]
    }
   ],
   "source": [
    "# # From interactive sessions\n",
    "# interactive_annot = filtered_notch_data.annotations\n",
    "# for x in range(0, len(filtered_notch_data.annotations)):\n",
    "#     print(interactive_annot[x])\n",
    "    \n",
    "    \n",
    "# filtered_notch_data.annotations.save('../ieeg/saved_annotations.fif', overwrite = True) "
   ]
  },
  {
   "cell_type": "code",
   "execution_count": null,
   "id": "0ed7aef0-09d9-4134-8f68-15bbc207578c",
   "metadata": {},
   "outputs": [],
   "source": [
    "# plot psd of all channels #\n",
    "\n",
    "filtered_notch_data.plot_psd()"
   ]
  },
  {
   "cell_type": "code",
   "execution_count": null,
   "id": "f7c9bc69-ae5f-455d-b683-76bff6dd9063",
   "metadata": {},
   "outputs": [],
   "source": [
    "# plot psd of bad channels #\n",
    "\n",
    "filtered_notch_data.plot_psd(picks = filtered_notch_data.info['bads'])"
   ]
  },
  {
   "cell_type": "markdown",
   "id": "86ae8d82-9dc2-438f-ab76-effed512f9e4",
   "metadata": {},
   "source": [
    "## Save Files"
   ]
  },
  {
   "cell_type": "code",
   "execution_count": 14,
   "id": "83c9a275-c5bd-414a-a3a5-5d30bd0fe689",
   "metadata": {
    "tags": []
   },
   "outputs": [
    {
     "name": "stdout",
     "output_type": "stream",
     "text": [
      "Overwriting existing file.\n",
      "Writing /home/brooke/pacman/raw_data/BJH039/ieeg/BJH039_notched_filtered_clean_ieeg.fif\n",
      "Overwriting existing file.\n",
      "Writing /home/brooke/pacman/raw_data/BJH039/ieeg/BJH039_notched_filtered_clean_ieeg-1.fif\n",
      "Closing /home/brooke/pacman/raw_data/BJH039/ieeg/BJH039_notched_filtered_clean_ieeg-1.fif\n",
      "Closing /home/brooke/pacman/raw_data/BJH039/ieeg/BJH039_notched_filtered_clean_ieeg.fif\n",
      "[done]\n",
      "Overwriting existing file.\n",
      "Writing /home/brooke/pacman/raw_data/BJH039/ieeg/BJH039_raw_clean_ieeg.fif\n",
      "Overwriting existing file.\n",
      "Writing /home/brooke/pacman/raw_data/BJH039/ieeg/BJH039_raw_clean_ieeg-1.fif\n",
      "Closing /home/brooke/pacman/raw_data/BJH039/ieeg/BJH039_raw_clean_ieeg-1.fif\n",
      "Closing /home/brooke/pacman/raw_data/BJH039/ieeg/BJH039_raw_clean_ieeg.fif\n",
      "[done]\n"
     ]
    }
   ],
   "source": [
    "# save filtered data #\n",
    "filtered_notch_data.save(f\"{raw_data_dir}/ieeg/{subject}_notched_filtered_clean_ieeg.fif\", overwrite = True)\n",
    "\n",
    "\n",
    "# save raw clean data #\n",
    "raw_fif.save(f\"{raw_data_dir}/ieeg/{subject}_raw_clean_ieeg.fif\", overwrite = True)\n"
   ]
  },
  {
   "cell_type": "code",
   "execution_count": null,
   "id": "0ddb168a",
   "metadata": {},
   "outputs": [],
   "source": []
  }
 ],
 "metadata": {
  "kernelspec": {
   "display_name": "Python 3 (ipykernel)",
   "language": "python",
   "name": "python3"
  },
  "language_info": {
   "codemirror_mode": {
    "name": "ipython",
    "version": 3
   },
   "file_extension": ".py",
   "mimetype": "text/x-python",
   "name": "python",
   "nbconvert_exporter": "python",
   "pygments_lexer": "ipython3",
   "version": "3.9.18"
  }
 },
 "nbformat": 4,
 "nbformat_minor": 5
}

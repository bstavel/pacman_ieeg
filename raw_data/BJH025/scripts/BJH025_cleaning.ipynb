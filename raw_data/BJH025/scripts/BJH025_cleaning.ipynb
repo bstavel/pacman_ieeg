{
 "cells": [
  {
   "cell_type": "markdown",
   "id": "be523407-5360-4092-9545-0b91c5c6401f",
   "metadata": {},
   "source": [
    "# Cleaning: BJH025\n",
    "\n",
    "\n",
    "This script cleans the data both by abnormal trials and by noisy channels and epileptic activity. HC electrodes are epileptic :(\n"
   ]
  },
  {
   "cell_type": "markdown",
   "id": "12d83091-835b-465f-bbe0-6fd1cdacc8b9",
   "metadata": {},
   "source": [
    "### Prep"
   ]
  },
  {
   "cell_type": "code",
   "execution_count": 1,
   "id": "a3785b84-4aaa-4461-a37e-b51a7c1c7913",
   "metadata": {},
   "outputs": [],
   "source": [
    "import matplotlib\n",
    "matplotlib.use(\"Qt5Agg\")\n",
    "import matplotlib.pyplot as plt\n",
    "import pandas as pd\n",
    "import numpy as np\n",
    "from scipy import signal, stats\n",
    "import mat73\n",
    "import re\n",
    "from neurodsp.timefrequency import compute_wavelet_transform\n",
    "from BCI2kReader import BCI2kReader as b2k\n",
    "import os\n",
    "import mne\n",
    "from tabulate import tabulate\n",
    "import IPython\n",
    "import seaborn as sns"
   ]
  },
  {
   "cell_type": "code",
   "execution_count": 2,
   "id": "1aff0958-6a4e-4e42-b7a6-80d00e5f63f3",
   "metadata": {},
   "outputs": [
    {
     "name": "stderr",
     "output_type": "stream",
     "text": [
      "Warning: Ignoring XDG_SESSION_TYPE=wayland on Gnome. Use QT_QPA_PLATFORM=wayland to run on Wayland anyway.\n"
     ]
    }
   ],
   "source": [
    "%matplotlib qt5"
   ]
  },
  {
   "cell_type": "code",
   "execution_count": 3,
   "id": "639733c6-a51d-4ba2-b0bc-64689a345199",
   "metadata": {},
   "outputs": [],
   "source": [
    "# helper functions#\n",
    "\n",
    "def rle(inarray):\n",
    "        \"\"\" run length encoding. Partial credit to R rle function. \n",
    "            Multi datatype arrays catered for including non Numpy\n",
    "            returns: tuple (runlengths, startpositions, values) \"\"\"\n",
    "        ia = np.asarray(inarray)                # force numpy\n",
    "        n = len(ia)\n",
    "        if n == 0: \n",
    "            return (None, None, None)\n",
    "        else:\n",
    "            y = ia[1:] != ia[:-1]               # pairwise unequal (string safe)\n",
    "            i = np.append(np.where(y), n - 1)   # must include last element posi\n",
    "            z = np.diff(np.append(-1, i))       # run lengths\n",
    "            p = np.cumsum(np.append(0, z))[:-1] # positions\n",
    "            return(z, p, ia[i])\n",
    "        \n",
    "def find_bad_trial_times(idx, srate, trial_begins, trial_lengths):\n",
    "    ''' takes and index of trial lengths, beginnings and the sampling rate and returns the the start time and and\n",
    "    duration of the times to annotae as BAD '''\n",
    "    start_time = trial_begins[0][idx]/srate\n",
    "    duration = trial_lengths[0][idx]/srate\n",
    "    \n",
    "    return start_time, duration        "
   ]
  },
  {
   "cell_type": "code",
   "execution_count": 4,
   "id": "2794e660-c449-4c7a-968f-87124f1044ea",
   "metadata": {},
   "outputs": [],
   "source": [
    "## Prep paths ##\n",
    "\n",
    "subject = 'BJH025'\n",
    "raw_data_dir = f\"/home/brooke/pacman/raw_data/{subject}\"\n",
    "preproc_data_dir = f\"/home/brooke/pacman/preprocessing/{subject}/ieeg\""
   ]
  },
  {
   "cell_type": "code",
   "execution_count": 18,
   "id": "6e0deb60-8aca-4c57-a879-9fb9fb6d1d8e",
   "metadata": {},
   "outputs": [
    {
     "name": "stdout",
     "output_type": "stream",
     "text": [
      "Opening raw data file /home/brooke/pacman/raw_data/BJH025/ieeg/BJH025_raw_ieeg.fif...\n",
      "    Range : 0 ... 2085999 =      0.000 ...  1042.999 secs\n",
      "Ready.\n",
      "Opening raw data file /home/brooke/pacman/raw_data/BJH025/ieeg/BJH025_raw_ieeg-1.fif...\n",
      "    Range : 2086000 ... 2966399 =   1043.000 ...  1483.199 secs\n",
      "Ready.\n"
     ]
    }
   ],
   "source": [
    "## Load Data ##\n",
    "\n",
    "raw_fif = mne.io.Raw(f\"{raw_data_dir}/ieeg/{subject}_raw_ieeg.fif\")"
   ]
  },
  {
   "cell_type": "code",
   "execution_count": 6,
   "id": "22556d7c-0c0b-40fc-82b1-777357649e6e",
   "metadata": {},
   "outputs": [
    {
     "name": "stdout",
     "output_type": "stream",
     "text": [
      "Reading 0 ... 2966399  =      0.000 ...  1483.199 secs...\n",
      "Filtering raw data in 1 contiguous segment\n",
      "Setting up band-pass filter from 1 - 1.5e+02 Hz\n",
      "\n",
      "FIR filter parameters\n",
      "---------------------\n",
      "Designing a one-pass, zero-phase, non-causal bandpass filter:\n",
      "- Windowed time-domain design (firwin) method\n",
      "- Hamming window with 0.0194 passband ripple and 53 dB stopband attenuation\n",
      "- Lower passband edge: 1.00\n",
      "- Lower transition bandwidth: 1.00 Hz (-6 dB cutoff frequency: 0.50 Hz)\n",
      "- Upper passband edge: 150.00 Hz\n",
      "- Upper transition bandwidth: 37.50 Hz (-6 dB cutoff frequency: 168.75 Hz)\n",
      "- Filter length: 6601 samples (3.300 sec)\n",
      "\n",
      "Setting up band-stop filter\n",
      "\n",
      "FIR filter parameters\n",
      "---------------------\n",
      "Designing a one-pass, zero-phase, non-causal bandstop filter:\n",
      "- Windowed time-domain design (firwin) method\n",
      "- Hamming window with 0.0194 passband ripple and 53 dB stopband attenuation\n",
      "- Lower transition bandwidth: 0.50 Hz\n",
      "- Upper transition bandwidth: 0.50 Hz\n",
      "- Filter length: 13201 samples (6.601 sec)\n",
      "\n"
     ]
    }
   ],
   "source": [
    "## Filtering ##\n",
    "\n",
    "# load data #\n",
    "raw_fif.load_data()\n",
    "\n",
    "# highpass filter @ 1 and lowpass @ 200 #\n",
    "filtered_data = raw_fif.filter(l_freq=1, h_freq=150) # skip this step for TF analysis, always do this on the least processed data, or do .1 to 250\n",
    "\n",
    "# remove 60hz line noise #\n",
    "freqs = (60, 120, 180, 240)\n",
    "filtered_notch_data = filtered_data.notch_filter(freqs=freqs) \n"
   ]
  },
  {
   "cell_type": "code",
   "execution_count": 19,
   "id": "06a738f0-dbc3-4e9b-807c-d21e8eb4fd28",
   "metadata": {},
   "outputs": [
    {
     "name": "stdout",
     "output_type": "stream",
     "text": [
      "Opening raw data file /home/brooke/pacman/raw_data/BJH025/ieeg/BJH025_notched_filtered_ieeg.fif...\n",
      "    Range : 0 ... 2085999 =      0.000 ...  1042.999 secs\n",
      "Ready.\n",
      "Opening raw data file /home/brooke/pacman/raw_data/BJH025/ieeg/BJH025_notched_filtered_ieeg-1.fif...\n",
      "    Range : 2086000 ... 2966399 =   1043.000 ...  1483.199 secs\n",
      "Ready.\n",
      "482 events found\n",
      "Event IDs: [0 1 2]\n"
     ]
    }
   ],
   "source": [
    "## Load/Save Filtered Data ##\n",
    "\n",
    "# save #\n",
    "# filtered_notch_data.save(f\"{raw_data_dir}/ieeg/{subject}_notched_filtered_ieeg.fif\", overwrite = True)\n",
    "\n",
    "# load #\n",
    "filtered_notch_data = mne.io.Raw(f\"{raw_data_dir}/ieeg/{subject}_notched_filtered_ieeg.fif\")\n",
    "events = mne.find_events(filtered_notch_data, output='step', consecutive = False, stim_channel='STI')"
   ]
  },
  {
   "cell_type": "code",
   "execution_count": 20,
   "id": "c262fbb5-6908-4a46-b03c-d815dbe2dc0d",
   "metadata": {},
   "outputs": [
    {
     "data": {
      "text/plain": [
       "['EMPTY',\n",
       " 'EMPTY_2',\n",
       " 'EMPTY_3',\n",
       " 'EMPTY_4',\n",
       " 'REF1',\n",
       " 'REF2',\n",
       " 'A1',\n",
       " 'A2',\n",
       " 'A3',\n",
       " 'A4',\n",
       " 'A5',\n",
       " 'A6',\n",
       " 'A7',\n",
       " 'A8',\n",
       " 'A9',\n",
       " 'A10',\n",
       " 'A11',\n",
       " 'A12',\n",
       " 'A13',\n",
       " 'A14',\n",
       " 'A15',\n",
       " 'A16',\n",
       " 'B1',\n",
       " 'B2',\n",
       " 'B3',\n",
       " 'B4',\n",
       " 'B5',\n",
       " 'B6',\n",
       " 'B7',\n",
       " 'B8',\n",
       " 'B9',\n",
       " 'B10',\n",
       " 'B11',\n",
       " 'B12',\n",
       " 'B13',\n",
       " 'B14',\n",
       " 'B15',\n",
       " 'B16',\n",
       " 'C1',\n",
       " 'C2',\n",
       " 'C3',\n",
       " 'C4',\n",
       " 'C5',\n",
       " 'C6',\n",
       " 'C7',\n",
       " 'C8',\n",
       " 'C9',\n",
       " 'C10',\n",
       " 'C11',\n",
       " 'C12',\n",
       " 'C13',\n",
       " 'C14',\n",
       " 'C15',\n",
       " 'C16',\n",
       " 'D1',\n",
       " 'D2',\n",
       " 'D3',\n",
       " 'D4',\n",
       " 'D5',\n",
       " 'D6',\n",
       " 'D7',\n",
       " 'D8',\n",
       " 'D9',\n",
       " 'D10',\n",
       " 'E1',\n",
       " 'E2',\n",
       " 'E3',\n",
       " 'E4',\n",
       " 'E5',\n",
       " 'E6',\n",
       " 'E7',\n",
       " 'E8',\n",
       " 'E9',\n",
       " 'E10',\n",
       " 'E11',\n",
       " 'E12',\n",
       " 'F1',\n",
       " 'F2',\n",
       " 'F3',\n",
       " 'F4',\n",
       " 'F5',\n",
       " 'F6',\n",
       " 'F7',\n",
       " 'F8',\n",
       " 'GR1',\n",
       " 'GR2',\n",
       " 'GR3',\n",
       " 'GR4',\n",
       " 'GR5',\n",
       " 'GR6',\n",
       " 'GR7',\n",
       " 'GR8',\n",
       " 'GR9',\n",
       " 'GR10',\n",
       " 'GR11',\n",
       " 'GR12',\n",
       " 'GR13',\n",
       " 'GR14',\n",
       " 'GL1',\n",
       " 'GL2',\n",
       " 'GL3',\n",
       " 'GL4',\n",
       " 'GL5',\n",
       " 'GL6',\n",
       " 'GL7',\n",
       " 'GL8',\n",
       " 'GL9',\n",
       " 'GL10',\n",
       " 'GL11',\n",
       " 'GL12',\n",
       " 'HR1',\n",
       " 'HR2',\n",
       " 'HR3',\n",
       " 'HR4',\n",
       " 'HR5',\n",
       " 'HR6',\n",
       " 'HR7',\n",
       " 'HR8',\n",
       " 'HL1',\n",
       " 'HL2',\n",
       " 'HL3',\n",
       " 'HL4',\n",
       " 'HL5',\n",
       " 'HL6',\n",
       " 'HL7',\n",
       " 'HL8',\n",
       " 'I1',\n",
       " 'I2',\n",
       " 'I3',\n",
       " 'I4',\n",
       " 'I5',\n",
       " 'I6',\n",
       " 'I7',\n",
       " 'I8',\n",
       " 'I9',\n",
       " 'I10',\n",
       " 'I11',\n",
       " 'I12',\n",
       " 'J1',\n",
       " 'J2',\n",
       " 'J3',\n",
       " 'J4',\n",
       " 'J5',\n",
       " 'J6',\n",
       " 'J7',\n",
       " 'J8',\n",
       " 'J9',\n",
       " 'J10',\n",
       " 'K1',\n",
       " 'K2',\n",
       " 'K3',\n",
       " 'K4',\n",
       " 'K5',\n",
       " 'K6',\n",
       " 'K7',\n",
       " 'K8',\n",
       " 'K9',\n",
       " 'K10',\n",
       " 'K11',\n",
       " 'K12',\n",
       " 'K13',\n",
       " 'K14',\n",
       " 'L1',\n",
       " 'L2',\n",
       " 'L3',\n",
       " 'L4',\n",
       " 'L5',\n",
       " 'L6',\n",
       " 'L7',\n",
       " 'L8',\n",
       " 'L9',\n",
       " 'L10',\n",
       " 'L11',\n",
       " 'L12',\n",
       " 'L13',\n",
       " 'L14',\n",
       " 'EMPTY_177',\n",
       " 'EMPTY_178',\n",
       " 'EMPTY_179',\n",
       " 'EMPTY_180',\n",
       " 'EMPTY_181',\n",
       " 'EMPTY_182',\n",
       " 'EMPTY_183',\n",
       " 'EMPTY_184',\n",
       " 'EMPTY_185',\n",
       " 'EMPTY_186',\n",
       " 'EMPTY_187',\n",
       " 'EMPTY_188',\n",
       " 'EMPTY_189',\n",
       " 'EMPTY_190',\n",
       " 'EMPTY_191',\n",
       " 'EMPTY_192',\n",
       " 'EMPTY_193',\n",
       " 'EMPTY_194',\n",
       " 'EMPTY_195',\n",
       " 'EMPTY_196',\n",
       " 'EMPTY_197',\n",
       " 'EMPTY_198',\n",
       " 'EMPTY_199',\n",
       " 'EMPTY_200',\n",
       " 'EMPTY_201',\n",
       " 'EMPTY_202',\n",
       " 'EMPTY_203',\n",
       " 'EMPTY_204',\n",
       " 'EMPTY_205',\n",
       " 'EMPTY_206',\n",
       " 'EMPTY_207',\n",
       " 'EMPTY_208',\n",
       " 'EMPTY_209',\n",
       " 'EMPTY_210',\n",
       " 'EMPTY_211',\n",
       " 'EMPTY_212',\n",
       " 'EMPTY_213',\n",
       " 'EMPTY_214',\n",
       " 'EMPTY_215',\n",
       " 'EMPTY_216',\n",
       " 'EMPTY_217',\n",
       " 'EMPTY_218',\n",
       " 'EMPTY_219',\n",
       " 'EMPTY_220',\n",
       " 'EMPTY_221',\n",
       " 'EMPTY_222',\n",
       " 'EMPTY_223',\n",
       " 'EMPTY_224',\n",
       " 'EMPTY_225',\n",
       " 'EMPTY_226',\n",
       " 'EMPTY_227',\n",
       " 'EMPTY_228',\n",
       " 'EMPTY_229',\n",
       " 'EMPTY_230',\n",
       " 'EMPTY_231',\n",
       " 'FP1',\n",
       " 'F3_233',\n",
       " 'C3_234',\n",
       " 'P3',\n",
       " 'O1',\n",
       " 'FP2',\n",
       " 'F4_238',\n",
       " 'C4_239',\n",
       " 'P4',\n",
       " 'O2',\n",
       " 'F7_242',\n",
       " 'T7',\n",
       " 'P7',\n",
       " 'F8_245',\n",
       " 'T8',\n",
       " 'P8',\n",
       " 'F9',\n",
       " 'F10',\n",
       " 'FPZ',\n",
       " 'FZ',\n",
       " 'CZ',\n",
       " 'PZ',\n",
       " 'OZ',\n",
       " 'EKG1',\n",
       " 'EKG2',\n",
       " 'STI']"
      ]
     },
     "execution_count": 20,
     "metadata": {},
     "output_type": "execute_result"
    }
   ],
   "source": [
    "filtered_notch_data.info['ch_names']"
   ]
  },
  {
   "cell_type": "markdown",
   "id": "1d1ab3dc-a3c3-4eab-bb46-9c5a7e517b9d",
   "metadata": {
    "tags": []
   },
   "source": [
    "## Cleaning Neural Data\n",
    "\n",
    "#### Bad Channels\n",
    "\n",
    "Epileptic channels from my cleaning: \n",
    "\n",
    "Noisy channels: "
   ]
  },
  {
   "cell_type": "code",
   "execution_count": 21,
   "id": "7d0a4343-948a-4654-bc8f-db9c42ded9bb",
   "metadata": {},
   "outputs": [
    {
     "data": {
      "text/html": [
       "<table class=\"table table-hover table-striped table-sm table-responsive small\">\n",
       "    <tr>\n",
       "        <th>Measurement date</th>\n",
       "        \n",
       "        <td>Unknown</td>\n",
       "        \n",
       "    </tr>\n",
       "    <tr>\n",
       "        <th>Experimenter</th>\n",
       "        \n",
       "        <td>Unknown</td>\n",
       "        \n",
       "    </tr>\n",
       "        <th>Participant</th>\n",
       "        \n",
       "        <td>Unknown</td>\n",
       "        \n",
       "    </tr>\n",
       "    <tr>\n",
       "        <th>Digitized points</th>\n",
       "        \n",
       "        <td>0 points</td>\n",
       "        \n",
       "    </tr>\n",
       "    <tr>\n",
       "        <th>Good channels</th>\n",
       "        <td>256 sEEG, 1 Stimulus</td>\n",
       "    </tr>\n",
       "    <tr>\n",
       "        <th>Bad channels</th>\n",
       "        <td>EMPTY, EMPTY_2, EMPTY_3, EMPTY_4, REF1, REF2, EMPTY_177, EMPTY_178, EMPTY_179, EMPTY_180, EMPTY_181, EMPTY_182, EMPTY_183, EMPTY_184, EMPTY_185, EMPTY_186, EMPTY_187, EMPTY_188, EMPTY_189, EMPTY_190, EMPTY_191, EMPTY_192, EMPTY_193, EMPTY_194, EMPTY_195, EMPTY_196, EMPTY_197, EMPTY_198, EMPTY_199, EMPTY_200, EMPTY_201, EMPTY_202, EMPTY_203, EMPTY_204, EMPTY_205, EMPTY_206, EMPTY_207, EMPTY_208, EMPTY_209, EMPTY_210, EMPTY_211, EMPTY_212, EMPTY_213, EMPTY_214, EMPTY_215, EMPTY_216, EMPTY_217, EMPTY_218, EMPTY_219, EMPTY_220, EMPTY_221, EMPTY_222, EMPTY_223, EMPTY_224, EMPTY_225, EMPTY_226, EMPTY_227, EMPTY_228, EMPTY_229, EMPTY_230, EMPTY_231, EKG1, EKG2, D8, HL1, HR1, FP1, F3_233, C3_234, P3, O1, FP2, F4_238, C4_239, P4, O2, F7_242, T7, P7, F8_245, T8, P8, F9, F10, FPZ, FZ, CZ, PZ, OZ, EKG1, EKG2</td>\n",
       "    </tr>\n",
       "    <tr>\n",
       "        <th>EOG channels</th>\n",
       "        <td>Not available</td>\n",
       "    </tr>\n",
       "    <tr>\n",
       "        <th>ECG channels</th>\n",
       "        <td>Not available</td>\n",
       "    \n",
       "    <tr>\n",
       "        <th>Sampling frequency</th>\n",
       "        <td>2000.00 Hz</td>\n",
       "    </tr>\n",
       "    \n",
       "    \n",
       "    <tr>\n",
       "        <th>Highpass</th>\n",
       "        <td>1.00 Hz</td>\n",
       "    </tr>\n",
       "    \n",
       "    \n",
       "    <tr>\n",
       "        <th>Lowpass</th>\n",
       "        <td>150.00 Hz</td>\n",
       "    </tr>\n",
       "    \n",
       "    \n",
       "    \n",
       "    <tr>\n",
       "        <th>Filenames</th>\n",
       "        <td>BJH025_notched_filtered_ieeg.fif&lt;br&gt;BJH025_notched_filtered_ieeg-1.fif</td>\n",
       "    </tr>\n",
       "    \n",
       "    <tr>\n",
       "        <th>Duration</th>\n",
       "        <td>00:24:44 (HH:MM:SS)</td>\n",
       "    </tr>\n",
       "</table>"
      ],
      "text/plain": [
       "<Raw | BJH025_notched_filtered_ieeg.fif, 257 x 2966400 (1483.2 s), ~258 kB, data not loaded>"
      ]
     },
     "execution_count": 21,
     "metadata": {},
     "output_type": "execute_result"
    }
   ],
   "source": [
    "# Remove Channels from filtered data\n",
    "\n",
    "# remove non seeg electrodes electrodes #\n",
    "string_lst = ['EMPTY', 'REF', 'ekg']\n",
    "\n",
    "bad_channels_reg = [re.findall(r\"(?=(\"+'|'.join(string_lst)+r\"))\", name, re.IGNORECASE) for name in filtered_notch_data.info['ch_names']]\n",
    "bad_channels_index = [i for i,x in enumerate(bad_channels_reg) if  x]\n",
    "bad_channels = [filtered_notch_data.info['ch_names'][i] for i in bad_channels_index]\n",
    "\n",
    "filtered_notch_data.info['bads'].extend(bad_channels)  \n",
    "\n",
    "# # remove epileptic electrodes\n",
    "filtered_notch_data.info['bads'].append('D8')  \n",
    "filtered_notch_data.info['bads'].append('HL1')  \n",
    "filtered_notch_data.info['bads'].append('HR1')  \n",
    "\n",
    "# remove scalp and dc channels\n",
    "scalp_dc_channels = ['FP1',\n",
    " 'F3_233',\n",
    " 'C3_234',\n",
    " 'P3',\n",
    " 'O1',\n",
    " 'FP2',\n",
    " 'F4_238',\n",
    " 'C4_239',\n",
    " 'P4',\n",
    " 'O2',\n",
    " 'F7_242',\n",
    " 'T7',\n",
    " 'P7',\n",
    " 'F8_245',\n",
    " 'T8',\n",
    " 'P8',\n",
    " 'F9',\n",
    " 'F10',\n",
    " 'FPZ',\n",
    " 'FZ',\n",
    " 'CZ',\n",
    " 'PZ',\n",
    " 'OZ',\n",
    " 'EKG1',\n",
    " 'EKG2']\n",
    "\n",
    "filtered_notch_data.info['bads'].extend(scalp_dc_channels)\n",
    "filtered_notch_data"
   ]
  },
  {
   "cell_type": "code",
   "execution_count": 22,
   "id": "14a28078-93dd-4d34-b19b-a6ee581b9504",
   "metadata": {},
   "outputs": [
    {
     "data": {
      "text/html": [
       "<table class=\"table table-hover table-striped table-sm table-responsive small\">\n",
       "    <tr>\n",
       "        <th>Measurement date</th>\n",
       "        \n",
       "        <td>Unknown</td>\n",
       "        \n",
       "    </tr>\n",
       "    <tr>\n",
       "        <th>Experimenter</th>\n",
       "        \n",
       "        <td>Unknown</td>\n",
       "        \n",
       "    </tr>\n",
       "        <th>Participant</th>\n",
       "        \n",
       "        <td>Unknown</td>\n",
       "        \n",
       "    </tr>\n",
       "    <tr>\n",
       "        <th>Digitized points</th>\n",
       "        \n",
       "        <td>0 points</td>\n",
       "        \n",
       "    </tr>\n",
       "    <tr>\n",
       "        <th>Good channels</th>\n",
       "        <td>256 sEEG, 1 Stimulus</td>\n",
       "    </tr>\n",
       "    <tr>\n",
       "        <th>Bad channels</th>\n",
       "        <td>EMPTY, EMPTY_2, EMPTY_3, EMPTY_4, REF1, REF2, EMPTY_177, EMPTY_178, EMPTY_179, EMPTY_180, EMPTY_181, EMPTY_182, EMPTY_183, EMPTY_184, EMPTY_185, EMPTY_186, EMPTY_187, EMPTY_188, EMPTY_189, EMPTY_190, EMPTY_191, EMPTY_192, EMPTY_193, EMPTY_194, EMPTY_195, EMPTY_196, EMPTY_197, EMPTY_198, EMPTY_199, EMPTY_200, EMPTY_201, EMPTY_202, EMPTY_203, EMPTY_204, EMPTY_205, EMPTY_206, EMPTY_207, EMPTY_208, EMPTY_209, EMPTY_210, EMPTY_211, EMPTY_212, EMPTY_213, EMPTY_214, EMPTY_215, EMPTY_216, EMPTY_217, EMPTY_218, EMPTY_219, EMPTY_220, EMPTY_221, EMPTY_222, EMPTY_223, EMPTY_224, EMPTY_225, EMPTY_226, EMPTY_227, EMPTY_228, EMPTY_229, EMPTY_230, EMPTY_231, EKG1, EKG2, D8, HL1, HR1, FP1, F3_233, C3_234, P3, O1, FP2, F4_238, C4_239, P4, O2, F7_242, T7, P7, F8_245, T8, P8, F9, F10, FPZ, FZ, CZ, PZ, OZ, EKG1, EKG2</td>\n",
       "    </tr>\n",
       "    <tr>\n",
       "        <th>EOG channels</th>\n",
       "        <td>Not available</td>\n",
       "    </tr>\n",
       "    <tr>\n",
       "        <th>ECG channels</th>\n",
       "        <td>Not available</td>\n",
       "    \n",
       "    <tr>\n",
       "        <th>Sampling frequency</th>\n",
       "        <td>2000.00 Hz</td>\n",
       "    </tr>\n",
       "    \n",
       "    \n",
       "    <tr>\n",
       "        <th>Highpass</th>\n",
       "        <td>0.00 Hz</td>\n",
       "    </tr>\n",
       "    \n",
       "    \n",
       "    <tr>\n",
       "        <th>Lowpass</th>\n",
       "        <td>1000.00 Hz</td>\n",
       "    </tr>\n",
       "    \n",
       "    \n",
       "    \n",
       "    <tr>\n",
       "        <th>Filenames</th>\n",
       "        <td>BJH025_raw_ieeg.fif&lt;br&gt;BJH025_raw_ieeg-1.fif</td>\n",
       "    </tr>\n",
       "    \n",
       "    <tr>\n",
       "        <th>Duration</th>\n",
       "        <td>00:24:44 (HH:MM:SS)</td>\n",
       "    </tr>\n",
       "</table>"
      ],
      "text/plain": [
       "<Raw | BJH025_raw_ieeg.fif, 257 x 2966400 (1483.2 s), ~258 kB, data not loaded>"
      ]
     },
     "execution_count": 22,
     "metadata": {},
     "output_type": "execute_result"
    }
   ],
   "source": [
    "# Remove Channels from filtered data\n",
    "\n",
    "# remove non seeg electrodes electrodes #\n",
    "string_lst = ['EMPTY', 'REF', 'ekg']\n",
    "\n",
    "bad_channels_reg = [re.findall(r\"(?=(\"+'|'.join(string_lst)+r\"))\", name, re.IGNORECASE) for name in raw_fif.info['ch_names']]\n",
    "bad_channels_index = [i for i,x in enumerate(bad_channels_reg) if  x]\n",
    "bad_channels = [raw_fif.info['ch_names'][i] for i in bad_channels_index]\n",
    "\n",
    "raw_fif.info['bads'].extend(bad_channels)  \n",
    "\n",
    "# # remove epileptic electrodes\n",
    "# # remove epileptic electrodes\n",
    "raw_fif.info['bads'].append('D8')  \n",
    "raw_fif.info['bads'].append('HL1')  \n",
    "raw_fif.info['bads'].append('HR1')  \n",
    "\n",
    "# remove out of brain electrodes\n",
    "## TODO hasn't been localized\n",
    "\n",
    "# remove scalp and dc channels\n",
    "scalp_dc_channels = ['FP1',\n",
    " 'F3_233',\n",
    " 'C3_234',\n",
    " 'P3',\n",
    " 'O1',\n",
    " 'FP2',\n",
    " 'F4_238',\n",
    " 'C4_239',\n",
    " 'P4',\n",
    " 'O2',\n",
    " 'F7_242',\n",
    " 'T7',\n",
    " 'P7',\n",
    " 'F8_245',\n",
    " 'T8',\n",
    " 'P8',\n",
    " 'F9',\n",
    " 'F10',\n",
    " 'FPZ',\n",
    " 'FZ',\n",
    " 'CZ',\n",
    " 'PZ',\n",
    " 'OZ',\n",
    " 'EKG1',\n",
    " 'EKG2']\n",
    "\n",
    "raw_fif.info['bads'].extend(scalp_dc_channels)\n",
    "raw_fif"
   ]
  },
  {
   "cell_type": "markdown",
   "id": "7f0b86c5-dd5d-4ac8-b35a-40399cdfc724",
   "metadata": {},
   "source": [
    "#### Bad Epochs from noisy data\n",
    "\n"
   ]
  },
  {
   "cell_type": "code",
   "execution_count": 23,
   "id": "46e4f626-8c07-42b6-9ad8-0700c5eb18a5",
   "metadata": {},
   "outputs": [],
   "source": [
    "# # Annotate Noisy Epochs from Bob's cleaning\n",
    "\n",
    "# read from csv from interactive session\n",
    "bad_annots = mne.read_annotations('../ieeg/saved_annotations.fif')   \n"
   ]
  },
  {
   "cell_type": "markdown",
   "id": "14bda1e0-23a9-4bf5-902d-bc4ab98f2de2",
   "metadata": {},
   "source": [
    "#### Bad epochs from bad trial data"
   ]
  },
  {
   "cell_type": "code",
   "execution_count": 24,
   "id": "b386d7a5-154f-4b28-96a1-1d71c10602e7",
   "metadata": {},
   "outputs": [],
   "source": [
    "# ## quality check trials ##\n",
    "\n",
    "# calculate trial onsets and offsets\n",
    "sti_raw = filtered_notch_data.get_data(picks = ['STI'])\n",
    "lengths, positionsm, val  = rle(sti_raw[0])\n",
    "\n",
    "# lengths, beginnings, endings, for trials\n",
    "trial_lengths = [lengths[x] for x in np.where(val == 1)]\n",
    "trial_begins = [positionsm[x] for x in np.where(val == 1)]\n",
    "trial_ends = trial_lengths[0] + trial_begins[0]\n",
    "trial_baseline = trial_begins[0] - 1000\n",
    "\n",
    "# lengths, beginnings, endings, for itis\n",
    "iti_lengths = [lengths[x] for x in np.where(val == 0)]\n",
    "iti_begins = [positionsm[x] for x in np.where(val == 0)]\n",
    "iti_ends = iti_begins[0] + iti_lengths[0]\n",
    "\n",
    "# save trial lengths for later\n",
    "np.save(f\"{preproc_data_dir}/{subject}_trial_lengths.npy\", trial_lengths)"
   ]
  },
  {
   "cell_type": "code",
   "execution_count": 25,
   "id": "482ddc59-6a5b-4224-a31a-e656ef72ff0d",
   "metadata": {},
   "outputs": [],
   "source": [
    "# # exclude bad trials/apochs from r behavioral analysis (paused trials and no biscuits)\n",
    "\n",
    "# load bad trial data\n",
    "bad_trials = np.genfromtxt(f\"{raw_data_dir}/behave/{subject}_bad_trials.csv\", delimiter = ',', skip_header = 1)\n",
    "\n",
    "onsets = []\n",
    "durations = []\n",
    "for bad in bad_trials:\n",
    "    start, dur = find_bad_trial_times(int(bad), raw_fif.info['sfreq'], trial_begins, trial_lengths)\n",
    "    onsets.append(start)\n",
    "    durations.append(dur)\n",
    "\n",
    "# update descriptions\n",
    "descriptions = ['bad'] * len(durations)\n"
   ]
  },
  {
   "cell_type": "code",
   "execution_count": 26,
   "id": "aef8bd9a-7ceb-40da-b6ef-4f3958b6f463",
   "metadata": {
    "tags": []
   },
   "outputs": [
    {
     "data": {
      "text/html": [
       "<table class=\"table table-hover table-striped table-sm table-responsive small\">\n",
       "    <tr>\n",
       "        <th>Measurement date</th>\n",
       "        \n",
       "        <td>Unknown</td>\n",
       "        \n",
       "    </tr>\n",
       "    <tr>\n",
       "        <th>Experimenter</th>\n",
       "        \n",
       "        <td>Unknown</td>\n",
       "        \n",
       "    </tr>\n",
       "        <th>Participant</th>\n",
       "        \n",
       "        <td>Unknown</td>\n",
       "        \n",
       "    </tr>\n",
       "    <tr>\n",
       "        <th>Digitized points</th>\n",
       "        \n",
       "        <td>0 points</td>\n",
       "        \n",
       "    </tr>\n",
       "    <tr>\n",
       "        <th>Good channels</th>\n",
       "        <td>256 sEEG, 1 Stimulus</td>\n",
       "    </tr>\n",
       "    <tr>\n",
       "        <th>Bad channels</th>\n",
       "        <td>EMPTY, EMPTY_2, EMPTY_3, EMPTY_4, REF1, REF2, EMPTY_177, EMPTY_178, EMPTY_179, EMPTY_180, EMPTY_181, EMPTY_182, EMPTY_183, EMPTY_184, EMPTY_185, EMPTY_186, EMPTY_187, EMPTY_188, EMPTY_189, EMPTY_190, EMPTY_191, EMPTY_192, EMPTY_193, EMPTY_194, EMPTY_195, EMPTY_196, EMPTY_197, EMPTY_198, EMPTY_199, EMPTY_200, EMPTY_201, EMPTY_202, EMPTY_203, EMPTY_204, EMPTY_205, EMPTY_206, EMPTY_207, EMPTY_208, EMPTY_209, EMPTY_210, EMPTY_211, EMPTY_212, EMPTY_213, EMPTY_214, EMPTY_215, EMPTY_216, EMPTY_217, EMPTY_218, EMPTY_219, EMPTY_220, EMPTY_221, EMPTY_222, EMPTY_223, EMPTY_224, EMPTY_225, EMPTY_226, EMPTY_227, EMPTY_228, EMPTY_229, EMPTY_230, EMPTY_231, EKG1, EKG2, D8, HL1, HR1, FP1, F3_233, C3_234, P3, O1, FP2, F4_238, C4_239, P4, O2, F7_242, T7, P7, F8_245, T8, P8, F9, F10, FPZ, FZ, CZ, PZ, OZ, EKG1, EKG2</td>\n",
       "    </tr>\n",
       "    <tr>\n",
       "        <th>EOG channels</th>\n",
       "        <td>Not available</td>\n",
       "    </tr>\n",
       "    <tr>\n",
       "        <th>ECG channels</th>\n",
       "        <td>Not available</td>\n",
       "    \n",
       "    <tr>\n",
       "        <th>Sampling frequency</th>\n",
       "        <td>2000.00 Hz</td>\n",
       "    </tr>\n",
       "    \n",
       "    \n",
       "    <tr>\n",
       "        <th>Highpass</th>\n",
       "        <td>0.00 Hz</td>\n",
       "    </tr>\n",
       "    \n",
       "    \n",
       "    <tr>\n",
       "        <th>Lowpass</th>\n",
       "        <td>1000.00 Hz</td>\n",
       "    </tr>\n",
       "    \n",
       "    \n",
       "    \n",
       "    <tr>\n",
       "        <th>Filenames</th>\n",
       "        <td>BJH025_raw_ieeg.fif&lt;br&gt;BJH025_raw_ieeg-1.fif</td>\n",
       "    </tr>\n",
       "    \n",
       "    <tr>\n",
       "        <th>Duration</th>\n",
       "        <td>00:24:44 (HH:MM:SS)</td>\n",
       "    </tr>\n",
       "</table>"
      ],
      "text/plain": [
       "<Raw | BJH025_raw_ieeg.fif, 257 x 2966400 (1483.2 s), ~258 kB, data not loaded>"
      ]
     },
     "execution_count": 26,
     "metadata": {},
     "output_type": "execute_result"
    }
   ],
   "source": [
    "## exclude all bad epochs from both bad trials and investigating neural data ##\n",
    "\n",
    "# combine with bad trial data #\n",
    "bad_annots.append(onsets, durations, descriptions)\n",
    "\n",
    "# # apply to filtered data #\n",
    "filtered_notch_data.set_annotations(bad_annots)\n",
    "\n",
    "# # apply to not filtered data #\n",
    "raw_fif.set_annotations(bad_annots)"
   ]
  },
  {
   "cell_type": "markdown",
   "id": "304972b6-3d35-4319-93bc-c13753ecf6f7",
   "metadata": {},
   "source": [
    "## Visualizing Neural Data"
   ]
  },
  {
   "cell_type": "markdown",
   "id": "556ee4df-0294-49bb-8db3-98ee304abde7",
   "metadata": {},
   "source": [
    "next step, working on filtering out the high frequency noise\n",
    "\n",
    "then look at Marks script to come up with some plot of every trial, sort longest to shortest, with theta power as the color tiome as x, trial on y"
   ]
  },
  {
   "cell_type": "code",
   "execution_count": 13,
   "id": "bda36638-3ca9-4262-9c6d-abf8973a6fa2",
   "metadata": {},
   "outputs": [
    {
     "data": {
      "text/html": [
       "<table class=\"table table-hover table-striped table-sm table-responsive small\">\n",
       "    <tr>\n",
       "        <th>Measurement date</th>\n",
       "        \n",
       "        <td>Unknown</td>\n",
       "        \n",
       "    </tr>\n",
       "    <tr>\n",
       "        <th>Experimenter</th>\n",
       "        \n",
       "        <td>Unknown</td>\n",
       "        \n",
       "    </tr>\n",
       "        <th>Participant</th>\n",
       "        \n",
       "        <td>Unknown</td>\n",
       "        \n",
       "    </tr>\n",
       "    <tr>\n",
       "        <th>Digitized points</th>\n",
       "        \n",
       "        <td>0 points</td>\n",
       "        \n",
       "    </tr>\n",
       "    <tr>\n",
       "        <th>Good channels</th>\n",
       "        <td>167 sEEG, 1 Stimulus</td>\n",
       "    </tr>\n",
       "    <tr>\n",
       "        <th>Bad channels</th>\n",
       "        <td>None</td>\n",
       "    </tr>\n",
       "    <tr>\n",
       "        <th>EOG channels</th>\n",
       "        <td>Not available</td>\n",
       "    </tr>\n",
       "    <tr>\n",
       "        <th>ECG channels</th>\n",
       "        <td>Not available</td>\n",
       "    \n",
       "    <tr>\n",
       "        <th>Sampling frequency</th>\n",
       "        <td>2000.00 Hz</td>\n",
       "    </tr>\n",
       "    \n",
       "    \n",
       "    <tr>\n",
       "        <th>Highpass</th>\n",
       "        <td>1.00 Hz</td>\n",
       "    </tr>\n",
       "    \n",
       "    \n",
       "    <tr>\n",
       "        <th>Lowpass</th>\n",
       "        <td>150.00 Hz</td>\n",
       "    </tr>\n",
       "    \n",
       "    \n",
       "    \n",
       "    <tr>\n",
       "        <th>Filenames</th>\n",
       "        <td>BJH025_notched_filtered_ieeg.fif&lt;br&gt;BJH025_notched_filtered_ieeg-1.fif</td>\n",
       "    </tr>\n",
       "    \n",
       "    <tr>\n",
       "        <th>Duration</th>\n",
       "        <td>00:24:44 (HH:MM:SS)</td>\n",
       "    </tr>\n",
       "</table>"
      ],
      "text/plain": [
       "<Raw | BJH025_notched_filtered_ieeg.fif, 168 x 2966400 (1483.2 s), ~169 kB, data not loaded>"
      ]
     },
     "execution_count": 13,
     "metadata": {},
     "output_type": "execute_result"
    }
   ],
   "source": [
    "filtered_notch_data.drop_channels(filtered_notch_data.info['bads'])"
   ]
  },
  {
   "cell_type": "code",
   "execution_count": 14,
   "id": "afafa922-b494-4ebf-a262-1fa89adb5a89",
   "metadata": {},
   "outputs": [
    {
     "name": "stdout",
     "output_type": "stream",
     "text": [
      "Using matplotlib as 2D backend.\n"
     ]
    },
    {
     "data": {
      "image/png": "[encoded data removed]",
      "text/plain": [
       "<MNEBrowseFigure size 3365x1376 with 4 Axes>"
      ]
     },
     "execution_count": 14,
     "metadata": {},
     "output_type": "execute_result"
    },
    {
     "name": "stdout",
     "output_type": "stream",
     "text": [
      "Channels marked as bad:\n",
      "none\n"
     ]
    }
   ],
   "source": [
    "# plot for cleaning #\n",
    "\n",
    "filtered_notch_data.plot(events=events, color='b', bad_color = 'red', n_channels = 230, clipping = None, event_color = 'r')"
   ]
  },
  {
   "cell_type": "code",
   "execution_count": null,
   "id": "0ed7aef0-09d9-4134-8f68-15bbc207578c",
   "metadata": {},
   "outputs": [],
   "source": [
    "# plot psd of all channels #\n",
    "\n",
    "filtered_notch_data.plot_psd()"
   ]
  },
  {
   "cell_type": "code",
   "execution_count": null,
   "id": "f7c9bc69-ae5f-455d-b683-76bff6dd9063",
   "metadata": {},
   "outputs": [],
   "source": [
    "# plot psd of bad channels #\n",
    "\n",
    "filtered_notch_data.plot_psd(picks = filtered_notch_data.info['bads'])"
   ]
  },
  {
   "cell_type": "markdown",
   "id": "072d110a-c940-4dfa-b441-27256a2d46d3",
   "metadata": {
    "tags": []
   },
   "source": [
    "### Note\n",
    "\n",
    "There were paused trials that were messing with the trial definitions. So I went back and marked more trials as bad if they included a pause"
   ]
  },
  {
   "cell_type": "code",
   "execution_count": 28,
   "id": "55714704-0940-40d2-930b-af36e041a6a7",
   "metadata": {},
   "outputs": [
    {
     "data": {
      "image/png": "[encoded data removed]",
      "text/plain": [
       "<MNEBrowseFigure size 1846x1016 with 4 Axes>"
      ]
     },
     "execution_count": 28,
     "metadata": {},
     "output_type": "execute_result"
    }
   ],
   "source": [
    "\n",
    "filtered_notch_data.pick_channels(['STI']).plot(events=events, color='b', bad_color = 'red', n_channels = 1, clipping = None, event_color = 'r')"
   ]
  },
  {
   "cell_type": "code",
   "execution_count": 16,
   "id": "65b0e41e-75d7-41a4-9ac2-110e0c1aaee2",
   "metadata": {},
   "outputs": [
    {
     "data": {
      "text/plain": [
       "<Annotations | 28 segments: BAD_ (13), bad (15)>"
      ]
     },
     "execution_count": 16,
     "metadata": {},
     "output_type": "execute_result"
    }
   ],
   "source": [
    "filtered_notch_data.annotations"
   ]
  },
  {
   "cell_type": "code",
   "execution_count": 17,
   "id": "c1612b01-06b4-4e50-a4be-f54407ef554b",
   "metadata": {},
   "outputs": [
    {
     "name": "stdout",
     "output_type": "stream",
     "text": [
      "OrderedDict([('onset', 21.775963), ('duration', 0.5402297973632812), ('description', 'BAD_'), ('orig_time', None)])\n",
      "OrderedDict([('onset', 35.68085743680188), ('duration', 5.304987654320989), ('description', 'BAD_'), ('orig_time', None)])\n",
      "OrderedDict([('onset', 40.953), ('duration', 0.042), ('description', 'bad'), ('orig_time', None)])\n",
      "OrderedDict([('onset', 50.211874779541446), ('duration', 3.6973209876543223), ('description', 'BAD_'), ('orig_time', None)])\n",
      "OrderedDict([('onset', 60.109), ('duration', 4.253), ('description', 'bad'), ('orig_time', None)])\n",
      "OrderedDict([('onset', 76.501), ('duration', 3.475), ('description', 'bad'), ('orig_time', None)])\n",
      "OrderedDict([('onset', 154.049), ('duration', 4.697), ('description', 'bad'), ('orig_time', None)])\n",
      "OrderedDict([('onset', 253.11970811287478), ('duration', 1.3664012345679168), ('description', 'BAD_'), ('orig_time', None)])\n",
      "OrderedDict([('onset', 305.746), ('duration', 3.2), ('description', 'bad'), ('orig_time', None)])\n",
      "OrderedDict([('onset', 383.851), ('duration', 5.045), ('description', 'bad'), ('orig_time', None)])\n",
      "Overwriting existing file.\n"
     ]
    },
    {
     "name": "stderr",
     "output_type": "stream",
     "text": [
      "/tmp/ipykernel_17765/2437157639.py:7: RuntimeWarning: This filename (../ieeg/saved_annotations.fif) does not conform to MNE naming conventions. All annotations files should end with -annot.fif, -annot.fif.gz, _annot.fif, _annot.fif.gz, .txt or .csv\n",
      "  filtered_notch_data.annotations.save('../ieeg/saved_annotations.fif', overwrite = True)\n"
     ]
    }
   ],
   "source": [
    "# From interactive sessions\n",
    "# interactive_annot = filtered_notch_data.annotations\n",
    "# for x in range(0, 10):\n",
    "#     print(interactive_annot[x])\n",
    "    \n",
    "    \n",
    "# filtered_notch_data.annotations.save('../ieeg/saved_annotations.fif', overwrite = True)    "
   ]
  },
  {
   "cell_type": "markdown",
   "id": "86ae8d82-9dc2-438f-ab76-effed512f9e4",
   "metadata": {},
   "source": [
    "## Save Files"
   ]
  },
  {
   "cell_type": "code",
   "execution_count": 27,
   "id": "83c9a275-c5bd-414a-a3a5-5d30bd0fe689",
   "metadata": {},
   "outputs": [
    {
     "name": "stdout",
     "output_type": "stream",
     "text": [
      "Overwriting existing file.\n",
      "Writing /home/brooke/pacman/raw_data/BJH025/ieeg/BJH025_notched_filtered_clean_ieeg.fif\n",
      "Overwriting existing file.\n",
      "Writing /home/brooke/pacman/raw_data/BJH025/ieeg/BJH025_notched_filtered_clean_ieeg-1.fif\n",
      "Closing /home/brooke/pacman/raw_data/BJH025/ieeg/BJH025_notched_filtered_clean_ieeg-1.fif\n",
      "Closing /home/brooke/pacman/raw_data/BJH025/ieeg/BJH025_notched_filtered_clean_ieeg.fif\n",
      "[done]\n",
      "Overwriting existing file.\n",
      "Writing /home/brooke/pacman/raw_data/BJH025/ieeg/BJH025_raw_clean_ieeg.fif\n",
      "Overwriting existing file.\n",
      "Writing /home/brooke/pacman/raw_data/BJH025/ieeg/BJH025_raw_clean_ieeg-1.fif\n",
      "Closing /home/brooke/pacman/raw_data/BJH025/ieeg/BJH025_raw_clean_ieeg-1.fif\n",
      "Closing /home/brooke/pacman/raw_data/BJH025/ieeg/BJH025_raw_clean_ieeg.fif\n",
      "[done]\n"
     ]
    }
   ],
   "source": [
    "# save filtered data #\n",
    "filtered_notch_data.save(f\"{raw_data_dir}/ieeg/{subject}_notched_filtered_clean_ieeg.fif\", overwrite = True)\n",
    "\n",
    "\n",
    "# save raw clean data #\n",
    "raw_fif.save(f\"{raw_data_dir}/ieeg/{subject}_raw_clean_ieeg.fif\", overwrite = True)\n"
   ]
  },
  {
   "cell_type": "code",
   "execution_count": null,
   "id": "7ec88466-74ea-4044-8301-5736fe9c3045",
   "metadata": {},
   "outputs": [],
   "source": []
  }
 ],
 "metadata": {
  "kernelspec": {
   "display_name": "Python [conda env:anaconda3-ieeg_analysis]",
   "language": "python",
   "name": "conda-env-anaconda3-ieeg_analysis-py"
  },
  "language_info": {
   "codemirror_mode": {
    "name": "ipython",
    "version": 3
   },
   "file_extension": ".py",
   "mimetype": "text/x-python",
   "name": "python",
   "nbconvert_exporter": "python",
   "pygments_lexer": "ipython3",
   "version": "3.9.12"
  }
 },
 "nbformat": 4,
 "nbformat_minor": 5
}

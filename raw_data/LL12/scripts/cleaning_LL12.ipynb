{
 "cells": [
  {
   "cell_type": "markdown",
   "id": "e4fc6682-364e-4ce1-ab65-128e0f3dad52",
   "metadata": {},
   "source": [
    "# Cleaning: LL12\n",
    "\n",
    "\n",
    "This script cleans the data both by abnormal trials and by noisy channels and epileptic activity. HC electrodes are epileptic :(\n"
   ]
  },
  {
   "cell_type": "markdown",
   "id": "02b05195-aacc-4c3c-8f47-75c3e82ef63e",
   "metadata": {},
   "source": [
    "### Prep"
   ]
  },
  {
   "cell_type": "code",
   "execution_count": 1,
   "id": "61c9ab54-c00e-497d-aae6-0f5373c12c1f",
   "metadata": {},
   "outputs": [],
   "source": [
    "import matplotlib\n",
    "matplotlib.use(\"Qt5Agg\")\n",
    "import matplotlib.pyplot as plt\n",
    "import pandas as pd\n",
    "import numpy as np\n",
    "from scipy import signal, stats\n",
    "import mat73\n",
    "import re\n",
    "from neurodsp.timefrequency import compute_wavelet_transform\n",
    "from BCI2kReader import BCI2kReader as b2k\n",
    "import os\n",
    "import mne\n",
    "from tabulate import tabulate\n",
    "import IPython\n",
    "import seaborn as sns"
   ]
  },
  {
   "cell_type": "code",
   "execution_count": 2,
   "id": "a31d326f-7bc2-47a4-b4a9-ed6bab268f63",
   "metadata": {},
   "outputs": [],
   "source": [
    "%matplotlib qt5"
   ]
  },
  {
   "cell_type": "code",
   "execution_count": 3,
   "id": "4cf92573-8440-46c3-8ed6-eeebdc973c26",
   "metadata": {},
   "outputs": [],
   "source": [
    "# helper functions#\n",
    "\n",
    "def rle(inarray):\n",
    "        \"\"\" run length encoding. Partial credit to R rle function. \n",
    "            Multi datatype arrays catered for including non Numpy\n",
    "            returns: tuple (runlengths, startpositions, values) \"\"\"\n",
    "        ia = np.asarray(inarray)                # force numpy\n",
    "        n = len(ia)\n",
    "        if n == 0: \n",
    "            return (None, None, None)\n",
    "        else:\n",
    "            y = ia[1:] != ia[:-1]               # pairwise unequal (string safe)\n",
    "            i = np.append(np.where(y), n - 1)   # must include last element posi\n",
    "            z = np.diff(np.append(-1, i))       # run lengths\n",
    "            p = np.cumsum(np.append(0, z))[:-1] # positions\n",
    "            return(z, p, ia[i])\n",
    "        \n",
    "def find_bad_trial_times(idx, srate, trial_begins, trial_lengths):\n",
    "    ''' takes and index of trial lengths, beginnings and the sampling rate and returns the the start time and and\n",
    "    duration of the times to annotae as BAD '''\n",
    "    start_time = trial_begins[0][idx]/srate\n",
    "    duration = trial_lengths[0][idx]/srate\n",
    "    \n",
    "    return start_time, duration        "
   ]
  },
  {
   "cell_type": "code",
   "execution_count": 4,
   "id": "26f82f60-866f-4754-81e7-5b90a3a20f2e",
   "metadata": {},
   "outputs": [],
   "source": [
    "## Prep paths ##\n",
    "\n",
    "subject = 'LL12'\n",
    "raw_data_dir = f\"/home/brooke/pacman/raw_data/{subject}\"\n",
    "preproc_data_dir = f\"/home/brooke/pacman/preprocessing/{subject}/ieeg\""
   ]
  },
  {
   "cell_type": "code",
   "execution_count": 5,
   "id": "4bb5237b-98a6-4c44-9a71-414e450e6341",
   "metadata": {},
   "outputs": [
    {
     "name": "stdout",
     "output_type": "stream",
     "text": [
      "Opening raw data file /home/brooke/pacman/raw_data/LL12/ieeg/LL12_raw_ieeg.fif...\n",
      "    Range : 0 ... 841719 =      0.000 ...  1643.982 secs\n",
      "Ready.\n"
     ]
    }
   ],
   "source": [
    "## Load Data ##\n",
    "\n",
    "raw_fif = mne.io.Raw(f\"{raw_data_dir}/ieeg/{subject}_raw_ieeg.fif\")"
   ]
  },
  {
   "cell_type": "code",
   "execution_count": 6,
   "id": "c2977f65-dd9c-4a3e-b095-a402a91c8c56",
   "metadata": {},
   "outputs": [
    {
     "name": "stdout",
     "output_type": "stream",
     "text": [
      "Reading 0 ... 841719  =      0.000 ...  1643.982 secs...\n",
      "Filtering raw data in 1 contiguous segment\n",
      "Setting up band-pass filter from 1 - 1.5e+02 Hz\n",
      "\n",
      "FIR filter parameters\n",
      "---------------------\n",
      "Designing a one-pass, zero-phase, non-causal bandpass filter:\n",
      "- Windowed time-domain design (firwin) method\n",
      "- Hamming window with 0.0194 passband ripple and 53 dB stopband attenuation\n",
      "- Lower passband edge: 1.00\n",
      "- Lower transition bandwidth: 1.00 Hz (-6 dB cutoff frequency: 0.50 Hz)\n",
      "- Upper passband edge: 150.00 Hz\n",
      "- Upper transition bandwidth: 37.50 Hz (-6 dB cutoff frequency: 168.75 Hz)\n",
      "- Filter length: 1691 samples (3.303 sec)\n",
      "\n",
      "Setting up band-stop filter\n",
      "\n",
      "FIR filter parameters\n",
      "---------------------\n",
      "Designing a one-pass, zero-phase, non-causal bandstop filter:\n",
      "- Windowed time-domain design (firwin) method\n",
      "- Hamming window with 0.0194 passband ripple and 53 dB stopband attenuation\n",
      "- Lower transition bandwidth: 0.50 Hz\n",
      "- Upper transition bandwidth: 0.50 Hz\n",
      "- Filter length: 3381 samples (6.604 sec)\n",
      "\n"
     ]
    }
   ],
   "source": [
    "## Filtering ##\n",
    "\n",
    "# load data #\n",
    "raw_fif.load_data()\n",
    "\n",
    "# highpass filter @ 1 and lowpass @ 200 #\n",
    "filtered_data = raw_fif.filter(l_freq=1, h_freq=150) # skip this step for TF analysis, always do this on the least processed data, or do .1 to 250\n",
    "\n",
    "# remove 60hz line noise #\n",
    "freqs = (60, 120, 180, 240)\n",
    "filtered_notch_data = filtered_data.notch_filter(freqs=freqs) \n"
   ]
  },
  {
   "cell_type": "code",
   "execution_count": 6,
   "id": "caec286e-f64b-4017-96af-8eb5703352ac",
   "metadata": {},
   "outputs": [
    {
     "name": "stdout",
     "output_type": "stream",
     "text": [
      "Opening raw data file /home/brooke/pacman/raw_data/LL12/ieeg/LL12_notched_filtered_ieeg.fif...\n",
      "    Range : 0 ... 841719 =      0.000 ...  1643.982 secs\n",
      "Ready.\n",
      "520 events found\n",
      "Event IDs: [0 1]\n"
     ]
    }
   ],
   "source": [
    "## Load/Save Filtered Data ##\n",
    "\n",
    "# save #\n",
    "# filtered_notch_data.save(f\"{raw_data_dir}/ieeg/{subject}_notched_filtered_ieeg.fif\", overwrite = True)\n",
    "\n",
    "# load #\n",
    "filtered_notch_data = mne.io.Raw(f\"{raw_data_dir}/ieeg/{subject}_notched_filtered_ieeg.fif\")\n",
    "events = mne.find_events(filtered_notch_data, output='step', consecutive = False, stim_channel='STI')"
   ]
  },
  {
   "cell_type": "code",
   "execution_count": 7,
   "id": "a0e7fc3b-a399-4a85-b25a-6bf9983e43d4",
   "metadata": {},
   "outputs": [
    {
     "data": {
      "text/plain": [
       "['CH0',\n",
       " 'CH1',\n",
       " 'CH2',\n",
       " 'CH3',\n",
       " 'CH4',\n",
       " 'CH5',\n",
       " 'CH6',\n",
       " 'CH7',\n",
       " 'CH8',\n",
       " 'CH9',\n",
       " 'CH10',\n",
       " 'CH11',\n",
       " 'CH12',\n",
       " 'CH13',\n",
       " 'CH14',\n",
       " 'CH15',\n",
       " 'CH16',\n",
       " 'CH17',\n",
       " 'CH18',\n",
       " 'CH19',\n",
       " 'CH20',\n",
       " 'CH21',\n",
       " 'CH22',\n",
       " 'CH23',\n",
       " 'CH24',\n",
       " 'CH25',\n",
       " 'CH26',\n",
       " 'CH27',\n",
       " 'CH28',\n",
       " 'CH29',\n",
       " 'CH30',\n",
       " 'CH31',\n",
       " 'CH32',\n",
       " 'CH33',\n",
       " 'CH34',\n",
       " 'CH35',\n",
       " 'CH36',\n",
       " 'CH37',\n",
       " 'CH38',\n",
       " 'CH39',\n",
       " 'CH40',\n",
       " 'CH41',\n",
       " 'CH42',\n",
       " 'CH43',\n",
       " 'CH44',\n",
       " 'CH45',\n",
       " 'CH46',\n",
       " 'CH47',\n",
       " 'CH48',\n",
       " 'CH49',\n",
       " 'CH50',\n",
       " 'CH51',\n",
       " 'CH52',\n",
       " 'CH53',\n",
       " 'CH54',\n",
       " 'CH55',\n",
       " 'CH56',\n",
       " 'CH57',\n",
       " 'CH58',\n",
       " 'CH59',\n",
       " 'CH60',\n",
       " 'CH61',\n",
       " 'CH62',\n",
       " 'CH63',\n",
       " 'CH64',\n",
       " 'CH65',\n",
       " 'CH66',\n",
       " 'CH67',\n",
       " 'CH68',\n",
       " 'CH69',\n",
       " 'CH70',\n",
       " 'CH71',\n",
       " 'CH72',\n",
       " 'CH73',\n",
       " 'CH74',\n",
       " 'CH75',\n",
       " 'CH76',\n",
       " 'CH77',\n",
       " 'CH78',\n",
       " 'CH79',\n",
       " 'CH80',\n",
       " 'CH81',\n",
       " 'CH82',\n",
       " 'CH83',\n",
       " 'CH84',\n",
       " 'CH85',\n",
       " 'CH86',\n",
       " 'CH87',\n",
       " 'CH88',\n",
       " 'CH89',\n",
       " 'CH90',\n",
       " 'CH91',\n",
       " 'CH92',\n",
       " 'CH93',\n",
       " 'CH94',\n",
       " 'CH95',\n",
       " 'CH96',\n",
       " 'CH97',\n",
       " 'CH98',\n",
       " 'CH99',\n",
       " 'CH100',\n",
       " 'CH101',\n",
       " 'CH102',\n",
       " 'CH103',\n",
       " 'CH104',\n",
       " 'CH105',\n",
       " 'CH106',\n",
       " 'CH107',\n",
       " 'CH108',\n",
       " 'CH109',\n",
       " 'CH110',\n",
       " 'CH111',\n",
       " 'CH112',\n",
       " 'CH113',\n",
       " 'CH114',\n",
       " 'CH115',\n",
       " 'CH116',\n",
       " 'CH117',\n",
       " 'CH118',\n",
       " 'CH119',\n",
       " 'CH120',\n",
       " 'CH121',\n",
       " 'CH122',\n",
       " 'CH123',\n",
       " 'CH124',\n",
       " 'CH125',\n",
       " 'CH126',\n",
       " 'CH127',\n",
       " 'CH128',\n",
       " 'CH129',\n",
       " 'CH130',\n",
       " 'CH131',\n",
       " 'CH132',\n",
       " 'CH133',\n",
       " 'CH134',\n",
       " 'CH135',\n",
       " 'CH136',\n",
       " 'CH137',\n",
       " 'CH138',\n",
       " 'CH139',\n",
       " 'CH140',\n",
       " 'CH141',\n",
       " 'CH142',\n",
       " 'CH143',\n",
       " 'CH144',\n",
       " 'CH145',\n",
       " 'CH146',\n",
       " 'CH147',\n",
       " 'STI']"
      ]
     },
     "execution_count": 7,
     "metadata": {},
     "output_type": "execute_result"
    }
   ],
   "source": [
    "filtered_notch_data.info['ch_names']"
   ]
  },
  {
   "cell_type": "markdown",
   "id": "c7592c27-2b7d-4147-8eac-8681a25b21b6",
   "metadata": {
    "tags": []
   },
   "source": [
    "## Cleaning Neural Data\n",
    "\n",
    "#### Bad Channels\n",
    "\n",
    "Epileptic channels from my cleaning: CH8, CH16, CH17\n",
    "\n"
   ]
  },
  {
   "cell_type": "code",
   "execution_count": 8,
   "id": "ba43f6f7-c47f-406d-83b4-cf5d43dea9de",
   "metadata": {},
   "outputs": [
    {
     "data": {
      "text/html": [
       "<table class=\"table table-hover table-striped table-sm table-responsive small\">\n",
       "    <tr>\n",
       "        <th>Measurement date</th>\n",
       "        \n",
       "        <td>Unknown</td>\n",
       "        \n",
       "    </tr>\n",
       "    <tr>\n",
       "        <th>Experimenter</th>\n",
       "        \n",
       "        <td>Unknown</td>\n",
       "        \n",
       "    </tr>\n",
       "        <th>Participant</th>\n",
       "        \n",
       "        <td>Unknown</td>\n",
       "        \n",
       "    </tr>\n",
       "    <tr>\n",
       "        <th>Digitized points</th>\n",
       "        \n",
       "        <td>0 points</td>\n",
       "        \n",
       "    </tr>\n",
       "    <tr>\n",
       "        <th>Good channels</th>\n",
       "        <td>148 sEEG, 1 Stimulus</td>\n",
       "    </tr>\n",
       "    <tr>\n",
       "        <th>Bad channels</th>\n",
       "        <td>CH8, CH16, CH17, CH86, CH87, CH88, CH89, CH90, CH91, CH92, CH93, CH94, CH95, CH96, CH97, CH98, CH99, CH100, CH101, CH102, CH103, CH104, CH105, CH106, CH107, CH108, CH109, CH110, CH111, CH112, CH113, CH114, CH115, CH116, CH117, CH118, CH119, CH120, CH121, CH122, CH123, CH124, CH125, CH126, CH127, CH128, CH129, CH130, CH131, CH132, CH133, CH134, CH135, CH136, CH137, CH138, CH139, CH140, CH141, CH142, CH143, CH144, CH145, CH146, CH147</td>\n",
       "    </tr>\n",
       "    <tr>\n",
       "        <th>EOG channels</th>\n",
       "        <td>Not available</td>\n",
       "    </tr>\n",
       "    <tr>\n",
       "        <th>ECG channels</th>\n",
       "        <td>Not available</td>\n",
       "    \n",
       "    <tr>\n",
       "        <th>Sampling frequency</th>\n",
       "        <td>512.00 Hz</td>\n",
       "    </tr>\n",
       "    \n",
       "    \n",
       "    <tr>\n",
       "        <th>Highpass</th>\n",
       "        <td>1.00 Hz</td>\n",
       "    </tr>\n",
       "    \n",
       "    \n",
       "    <tr>\n",
       "        <th>Lowpass</th>\n",
       "        <td>150.00 Hz</td>\n",
       "    </tr>\n",
       "    \n",
       "    \n",
       "    \n",
       "    <tr>\n",
       "        <th>Filenames</th>\n",
       "        <td>LL12_notched_filtered_ieeg.fif</td>\n",
       "    </tr>\n",
       "    \n",
       "    <tr>\n",
       "        <th>Duration</th>\n",
       "        <td>00:27:23 (HH:MM:SS)</td>\n",
       "    </tr>\n",
       "</table>"
      ],
      "text/plain": [
       "<Raw | LL12_notched_filtered_ieeg.fif, 149 x 841720 (1644.0 s), ~155 kB, data not loaded>"
      ]
     },
     "execution_count": 8,
     "metadata": {},
     "output_type": "execute_result"
    }
   ],
   "source": [
    "# Remove Channels from filtered data\n",
    "\n",
    "# remove non seeg electrodes electrodes #\n",
    "string_lst = ['EMPTY', 'REF', 'ekg']\n",
    "\n",
    "bad_channels_reg = [re.findall(r\"(?=(\"+'|'.join(string_lst)+r\"))\", name, re.IGNORECASE) for name in filtered_notch_data.info['ch_names']]\n",
    "bad_channels_index = [i for i,x in enumerate(bad_channels_reg) if  x]\n",
    "bad_channels = [filtered_notch_data.info['ch_names'][i] for i in bad_channels_index]\n",
    "\n",
    "filtered_notch_data.info['bads'].extend(bad_channels)  \n",
    "\n",
    "# # remove epileptic electrodes\n",
    "filtered_notch_data.info['bads'].append('CH8')  \n",
    "filtered_notch_data.info['bads'].append('CH16')  \n",
    "filtered_notch_data.info['bads'].append('CH17')  \n",
    "\n",
    "\n",
    "# remove out of brain electrodes\n",
    "## TODO hasn't been localized\n",
    "\n",
    "# remove scalp and dc channels\n",
    "scalp_dc_channels = ['CH86',\n",
    " 'CH87',\n",
    " 'CH88',\n",
    " 'CH89',\n",
    " 'CH90',\n",
    " 'CH91',\n",
    " 'CH92',\n",
    " 'CH93',\n",
    " 'CH94',\n",
    " 'CH95',\n",
    " 'CH96',\n",
    " 'CH97',\n",
    " 'CH98',\n",
    " 'CH99',\n",
    " 'CH100',\n",
    " 'CH101',\n",
    " 'CH102',\n",
    " 'CH103',\n",
    " 'CH104',\n",
    " 'CH105',\n",
    " 'CH106',\n",
    " 'CH107',\n",
    " 'CH108',\n",
    " 'CH109',\n",
    " 'CH110',\n",
    " 'CH111',\n",
    " 'CH112',\n",
    " 'CH113',\n",
    " 'CH114',\n",
    " 'CH115',\n",
    " 'CH116',\n",
    " 'CH117',\n",
    " 'CH118',\n",
    " 'CH119',\n",
    " 'CH120',\n",
    " 'CH121',\n",
    " 'CH122',\n",
    " 'CH123',\n",
    " 'CH124',\n",
    " 'CH125',\n",
    " 'CH126',\n",
    " 'CH127',\n",
    " 'CH128',\n",
    " 'CH129',\n",
    " 'CH130',\n",
    " 'CH131',\n",
    " 'CH132',\n",
    " 'CH133',\n",
    " 'CH134',\n",
    " 'CH135',\n",
    " 'CH136',\n",
    " 'CH137',\n",
    " 'CH138',\n",
    " 'CH139',\n",
    " 'CH140',\n",
    " 'CH141',\n",
    " 'CH142',\n",
    " 'CH143',\n",
    " 'CH144',\n",
    " 'CH145',\n",
    " 'CH146',\n",
    " 'CH147']\n",
    "\n",
    "filtered_notch_data.info['bads'].extend(scalp_dc_channels)\n",
    "filtered_notch_data"
   ]
  },
  {
   "cell_type": "code",
   "execution_count": 9,
   "id": "b310dade-64d9-4171-a432-9ea01cfc1dff",
   "metadata": {},
   "outputs": [
    {
     "data": {
      "text/html": [
       "<table class=\"table table-hover table-striped table-sm table-responsive small\">\n",
       "    <tr>\n",
       "        <th>Measurement date</th>\n",
       "        \n",
       "        <td>Unknown</td>\n",
       "        \n",
       "    </tr>\n",
       "    <tr>\n",
       "        <th>Experimenter</th>\n",
       "        \n",
       "        <td>Unknown</td>\n",
       "        \n",
       "    </tr>\n",
       "        <th>Participant</th>\n",
       "        \n",
       "        <td>Unknown</td>\n",
       "        \n",
       "    </tr>\n",
       "    <tr>\n",
       "        <th>Digitized points</th>\n",
       "        \n",
       "        <td>0 points</td>\n",
       "        \n",
       "    </tr>\n",
       "    <tr>\n",
       "        <th>Good channels</th>\n",
       "        <td>148 sEEG, 1 Stimulus</td>\n",
       "    </tr>\n",
       "    <tr>\n",
       "        <th>Bad channels</th>\n",
       "        <td>CH8, CH16, CH17, CH86, CH87, CH88, CH89, CH90, CH91, CH92, CH93, CH94, CH95, CH96, CH97, CH98, CH99, CH100, CH101, CH102, CH103, CH104, CH105, CH106, CH107, CH108, CH109, CH110, CH111, CH112, CH113, CH114, CH115, CH116, CH117, CH118, CH119, CH120, CH121, CH122, CH123, CH124, CH125, CH126, CH127, CH128, CH129, CH130, CH131, CH132, CH133, CH134, CH135, CH136, CH137, CH138, CH139, CH140, CH141, CH142, CH143, CH144, CH145, CH146, CH147</td>\n",
       "    </tr>\n",
       "    <tr>\n",
       "        <th>EOG channels</th>\n",
       "        <td>Not available</td>\n",
       "    </tr>\n",
       "    <tr>\n",
       "        <th>ECG channels</th>\n",
       "        <td>Not available</td>\n",
       "    \n",
       "    <tr>\n",
       "        <th>Sampling frequency</th>\n",
       "        <td>512.00 Hz</td>\n",
       "    </tr>\n",
       "    \n",
       "    \n",
       "    <tr>\n",
       "        <th>Highpass</th>\n",
       "        <td>0.00 Hz</td>\n",
       "    </tr>\n",
       "    \n",
       "    \n",
       "    <tr>\n",
       "        <th>Lowpass</th>\n",
       "        <td>256.00 Hz</td>\n",
       "    </tr>\n",
       "    \n",
       "    \n",
       "    \n",
       "    <tr>\n",
       "        <th>Filenames</th>\n",
       "        <td>LL12_raw_ieeg.fif</td>\n",
       "    </tr>\n",
       "    \n",
       "    <tr>\n",
       "        <th>Duration</th>\n",
       "        <td>00:27:23 (HH:MM:SS)</td>\n",
       "    </tr>\n",
       "</table>"
      ],
      "text/plain": [
       "<Raw | LL12_raw_ieeg.fif, 149 x 841720 (1644.0 s), ~155 kB, data not loaded>"
      ]
     },
     "execution_count": 9,
     "metadata": {},
     "output_type": "execute_result"
    }
   ],
   "source": [
    "# Remove Channels from filtered data\n",
    "\n",
    "# remove non seeg electrodes electrodes #\n",
    "string_lst = ['EMPTY', 'REF', 'ekg']\n",
    "\n",
    "bad_channels_reg = [re.findall(r\"(?=(\"+'|'.join(string_lst)+r\"))\", name, re.IGNORECASE) for name in raw_fif.info['ch_names']]\n",
    "bad_channels_index = [i for i,x in enumerate(bad_channels_reg) if  x]\n",
    "bad_channels = [raw_fif.info['ch_names'][i] for i in bad_channels_index]\n",
    "\n",
    "raw_fif.info['bads'].extend(bad_channels)  \n",
    "\n",
    "# # remove epileptic electrodes\n",
    "# # remove epileptic electrodes\n",
    "raw_fif.info['bads'].append('CH8')  \n",
    "raw_fif.info['bads'].append('CH16')  \n",
    "raw_fif.info['bads'].append('CH17')  \n",
    "\n",
    "# remove out of brain electrodes\n",
    "## TODO hasn't been localized\n",
    "\n",
    "# remove scalp and dc channels\n",
    "scalp_dc_channels = ['CH86',\n",
    " 'CH87',\n",
    " 'CH88',\n",
    " 'CH89',\n",
    " 'CH90',\n",
    " 'CH91',\n",
    " 'CH92',\n",
    " 'CH93',\n",
    " 'CH94',\n",
    " 'CH95',\n",
    " 'CH96',\n",
    " 'CH97',\n",
    " 'CH98',\n",
    " 'CH99',\n",
    " 'CH100',\n",
    " 'CH101',\n",
    " 'CH102',\n",
    " 'CH103',\n",
    " 'CH104',\n",
    " 'CH105',\n",
    " 'CH106',\n",
    " 'CH107',\n",
    " 'CH108',\n",
    " 'CH109',\n",
    " 'CH110',\n",
    " 'CH111',\n",
    " 'CH112',\n",
    " 'CH113',\n",
    " 'CH114',\n",
    " 'CH115',\n",
    " 'CH116',\n",
    " 'CH117',\n",
    " 'CH118',\n",
    " 'CH119',\n",
    " 'CH120',\n",
    " 'CH121',\n",
    " 'CH122',\n",
    " 'CH123',\n",
    " 'CH124',\n",
    " 'CH125',\n",
    " 'CH126',\n",
    " 'CH127',\n",
    " 'CH128',\n",
    " 'CH129',\n",
    " 'CH130',\n",
    " 'CH131',\n",
    " 'CH132',\n",
    " 'CH133',\n",
    " 'CH134',\n",
    " 'CH135',\n",
    " 'CH136',\n",
    " 'CH137',\n",
    " 'CH138',\n",
    " 'CH139',\n",
    " 'CH140',\n",
    " 'CH141',\n",
    " 'CH142',\n",
    " 'CH143',\n",
    " 'CH144',\n",
    " 'CH145',\n",
    " 'CH146',\n",
    " 'CH147']\n",
    "\n",
    "raw_fif.info['bads'].extend(scalp_dc_channels)\n",
    "raw_fif"
   ]
  },
  {
   "cell_type": "markdown",
   "id": "70a07b48-3e4c-4967-a723-21e2405ecf03",
   "metadata": {},
   "source": [
    "## Cleaning Bad Trials"
   ]
  },
  {
   "cell_type": "code",
   "execution_count": 10,
   "id": "08efae92-e988-41f7-9724-61d3c26f2077",
   "metadata": {},
   "outputs": [],
   "source": [
    "# # Annotate Noisy Epochs from Bob's cleaning\n",
    "\n",
    "# read from csv from interactive session\n",
    "bad_annots = mne.read_annotations('../ieeg/saved_annotations.fif')   \n"
   ]
  },
  {
   "cell_type": "markdown",
   "id": "fdae0053-2177-439b-95bd-194cbcd62c5a",
   "metadata": {
    "tags": []
   },
   "source": [
    "#### Bad epochs from bad trial data"
   ]
  },
  {
   "cell_type": "code",
   "execution_count": 11,
   "id": "e2b0c18a-208c-4128-ac69-9416a2ec3a65",
   "metadata": {},
   "outputs": [],
   "source": [
    "# ## quality check trials ##\n",
    "\n",
    "# calculate trial onsets and offsets\n",
    "sti_raw = filtered_notch_data.get_data(picks = ['STI'])\n",
    "sti_raw[0][sti_raw[0] == 2] = 1 \n",
    "lengths, positionsm, val  = rle(sti_raw[0])\n",
    "\n",
    "# lengths, beginnings, endings, for trials\n",
    "trial_lengths = [lengths[x] for x in np.where(val == 1)]\n",
    "trial_begins = [positionsm[x] for x in np.where(val == 1)]\n",
    "trial_ends = trial_lengths[0] + trial_begins[0]\n",
    "trial_baseline = trial_begins[0] - 1000\n",
    "\n",
    "# lengths, beginnings, endings, for itis\n",
    "iti_lengths = [lengths[x] for x in np.where(val == 0)]\n",
    "iti_begins = [positionsm[x] for x in np.where(val == 0)]\n",
    "iti_ends = iti_begins[0] + iti_lengths[0]\n",
    "\n",
    "# save trial lengths for later\n",
    "np.save(f\"{preproc_data_dir}/{subject}_trial_lengths.npy\", trial_lengths)"
   ]
  },
  {
   "cell_type": "code",
   "execution_count": 12,
   "id": "ff5eec67-2538-4a44-a281-37788970f075",
   "metadata": {},
   "outputs": [],
   "source": [
    "# # exclude bad trials/apochs from r behavioral analysis (paused trials and no biscuits)\n",
    "\n",
    "# load bad trial data\n",
    "bad_trials = np.genfromtxt(f\"{raw_data_dir}/behave/{subject}_bad_trials.csv\", delimiter = ',', skip_header = 1)\n",
    "\n",
    "onsets = []\n",
    "durations = []\n",
    "for bad in bad_trials:\n",
    "    start, dur = find_bad_trial_times(int(bad), raw_fif.info['sfreq'], trial_begins, trial_lengths)\n",
    "    onsets.append(start)\n",
    "    durations.append(dur)\n",
    "\n",
    "# update descriptions\n",
    "descriptions = ['bad'] * len(durations)\n"
   ]
  },
  {
   "cell_type": "code",
   "execution_count": 13,
   "id": "91a93422-e236-4ecd-9470-283274dc11c3",
   "metadata": {
    "tags": []
   },
   "outputs": [
    {
     "data": {
      "text/html": [
       "<table class=\"table table-hover table-striped table-sm table-responsive small\">\n",
       "    <tr>\n",
       "        <th>Measurement date</th>\n",
       "        \n",
       "        <td>Unknown</td>\n",
       "        \n",
       "    </tr>\n",
       "    <tr>\n",
       "        <th>Experimenter</th>\n",
       "        \n",
       "        <td>Unknown</td>\n",
       "        \n",
       "    </tr>\n",
       "        <th>Participant</th>\n",
       "        \n",
       "        <td>Unknown</td>\n",
       "        \n",
       "    </tr>\n",
       "    <tr>\n",
       "        <th>Digitized points</th>\n",
       "        \n",
       "        <td>0 points</td>\n",
       "        \n",
       "    </tr>\n",
       "    <tr>\n",
       "        <th>Good channels</th>\n",
       "        <td>148 sEEG, 1 Stimulus</td>\n",
       "    </tr>\n",
       "    <tr>\n",
       "        <th>Bad channels</th>\n",
       "        <td>CH8, CH16, CH17, CH86, CH87, CH88, CH89, CH90, CH91, CH92, CH93, CH94, CH95, CH96, CH97, CH98, CH99, CH100, CH101, CH102, CH103, CH104, CH105, CH106, CH107, CH108, CH109, CH110, CH111, CH112, CH113, CH114, CH115, CH116, CH117, CH118, CH119, CH120, CH121, CH122, CH123, CH124, CH125, CH126, CH127, CH128, CH129, CH130, CH131, CH132, CH133, CH134, CH135, CH136, CH137, CH138, CH139, CH140, CH141, CH142, CH143, CH144, CH145, CH146, CH147</td>\n",
       "    </tr>\n",
       "    <tr>\n",
       "        <th>EOG channels</th>\n",
       "        <td>Not available</td>\n",
       "    </tr>\n",
       "    <tr>\n",
       "        <th>ECG channels</th>\n",
       "        <td>Not available</td>\n",
       "    \n",
       "    <tr>\n",
       "        <th>Sampling frequency</th>\n",
       "        <td>512.00 Hz</td>\n",
       "    </tr>\n",
       "    \n",
       "    \n",
       "    <tr>\n",
       "        <th>Highpass</th>\n",
       "        <td>0.00 Hz</td>\n",
       "    </tr>\n",
       "    \n",
       "    \n",
       "    <tr>\n",
       "        <th>Lowpass</th>\n",
       "        <td>256.00 Hz</td>\n",
       "    </tr>\n",
       "    \n",
       "    \n",
       "    \n",
       "    <tr>\n",
       "        <th>Filenames</th>\n",
       "        <td>LL12_raw_ieeg.fif</td>\n",
       "    </tr>\n",
       "    \n",
       "    <tr>\n",
       "        <th>Duration</th>\n",
       "        <td>00:27:23 (HH:MM:SS)</td>\n",
       "    </tr>\n",
       "</table>"
      ],
      "text/plain": [
       "<Raw | LL12_raw_ieeg.fif, 149 x 841720 (1644.0 s), ~155 kB, data not loaded>"
      ]
     },
     "execution_count": 13,
     "metadata": {},
     "output_type": "execute_result"
    }
   ],
   "source": [
    "## exclude all bad epochs from both bad trials and investigating neural data ##\n",
    "\n",
    "# bad_annots = mne.Annotations(onset=onsets,\n",
    "#                                duration=durations,\n",
    "#                                description=descriptions,\n",
    "#                                orig_time=filtered_notch_data.info['meas_date'])\n",
    "\n",
    "# combine with bad trial data #\n",
    "bad_annots.append(onsets, durations, descriptions)\n",
    "\n",
    "# # apply to filtered data #\n",
    "filtered_notch_data.set_annotations(bad_annots)\n",
    "\n",
    "# # apply to not filtered data #\n",
    "raw_fif.set_annotations(bad_annots)"
   ]
  },
  {
   "cell_type": "markdown",
   "id": "b77b2b48-4c88-4004-987a-d88a68a6e8a4",
   "metadata": {},
   "source": [
    "## Visualizing Neural Data"
   ]
  },
  {
   "cell_type": "markdown",
   "id": "6deb7ee3-d07f-48f1-b8ec-db07066cc18a",
   "metadata": {},
   "source": [
    "next step, working on filtering out the high frequency noise\n",
    "\n",
    "then look at Marks script to come up with some plot of every trial, sort longest to shortest, with theta power as the color tiome as x, trial on y"
   ]
  },
  {
   "cell_type": "code",
   "execution_count": 14,
   "id": "c0ff3aa9-bbfe-458e-b914-0a00225893ec",
   "metadata": {},
   "outputs": [
    {
     "name": "stdout",
     "output_type": "stream",
     "text": [
      "Using matplotlib as 2D backend.\n",
      "Opening raw-browser...\n"
     ]
    },
    {
     "data": {
      "image/png": "[encoded data removed]",
      "text/plain": [
       "<MNEBrowseFigure size 1845x1015 with 4 Axes>"
      ]
     },
     "execution_count": 14,
     "metadata": {},
     "output_type": "execute_result"
    },
    {
     "name": "stdout",
     "output_type": "stream",
     "text": [
      "Closing raw-browser...\n",
      "Channels marked as bad:\n",
      "['CH8', 'CH16', 'CH17', 'CH86', 'CH87', 'CH88', 'CH89', 'CH90', 'CH91', 'CH92', 'CH93', 'CH94', 'CH95', 'CH96', 'CH97', 'CH98', 'CH99', 'CH100', 'CH101', 'CH102', 'CH103', 'CH104', 'CH105', 'CH106', 'CH107', 'CH108', 'CH109', 'CH110', 'CH111', 'CH112', 'CH113', 'CH114', 'CH115', 'CH116', 'CH117', 'CH118', 'CH119', 'CH120', 'CH121', 'CH122', 'CH123', 'CH124', 'CH125', 'CH126', 'CH127', 'CH128', 'CH129', 'CH130', 'CH131', 'CH132', 'CH133', 'CH134', 'CH135', 'CH136', 'CH137', 'CH138', 'CH139', 'CH140', 'CH141', 'CH142', 'CH143', 'CH144', 'CH145', 'CH146', 'CH147']\n"
     ]
    }
   ],
   "source": [
    "# plot for cleaning #\n",
    "\n",
    "filtered_notch_data.plot(events=events, color='b', bad_color = 'red', n_channels = 230, clipping = None, event_color = 'r')"
   ]
  },
  {
   "cell_type": "code",
   "execution_count": 19,
   "id": "ea710bd7-4e2c-4a6a-a2b9-fb4e0c507cfd",
   "metadata": {},
   "outputs": [
    {
     "name": "stdout",
     "output_type": "stream",
     "text": [
      "Setting 14981 of 841720 (1.78%) samples to NaN, retaining 826739 (98.22%) samples.\n",
      "Effective window size : 4.000 (s)\n"
     ]
    },
    {
     "name": "stderr",
     "output_type": "stream",
     "text": [
      "/tmp/ipykernel_438575/3671565419.py:3: UserWarning: Infinite value in PSD for channel CH147.\n",
      "These channels might be dead.\n",
      "  filtered_notch_data.plot_psd()\n",
      "/tmp/ipykernel_438575/3671565419.py:3: RuntimeWarning: Channel locations not available. Disabling spatial colors.\n",
      "  filtered_notch_data.plot_psd()\n"
     ]
    },
    {
     "data": {
      "image/png": "[encoded data removed]",
      "text/plain": [
       "<MNELineFigure size 1000x350 with 1 Axes>"
      ]
     },
     "execution_count": 19,
     "metadata": {},
     "output_type": "execute_result"
    },
    {
     "name": "stderr",
     "output_type": "stream",
     "text": [
      "Traceback (most recent call last):\n",
      "  File \"/home/brooke/anaconda3/envs/ieeg_analysis/lib/python3.9/site-packages/matplotlib/cbook/__init__.py\", line 307, in process\n",
      "    func(*args, **kwargs)\n",
      "  File \"/home/brooke/anaconda3/envs/ieeg_analysis/lib/python3.9/site-packages/mne/viz/_mpl_figure.py\", line 180, in _close\n",
      "    super()._close(event)\n",
      "  File \"/home/brooke/anaconda3/envs/ieeg_analysis/lib/python3.9/site-packages/mne/viz/_mpl_figure.py\", line 103, in _close\n",
      "    self.mne.parent_fig.mne.child_figs.remove(self)\n",
      "ValueError: list.remove(x): x not in list\n"
     ]
    }
   ],
   "source": [
    "# plot psd of all channels #\n",
    "\n",
    "filtered_notch_data.plot_psd()"
   ]
  },
  {
   "cell_type": "code",
   "execution_count": null,
   "id": "4745263c-c1b2-445f-94c2-25b180c331b6",
   "metadata": {},
   "outputs": [],
   "source": [
    "# plot psd of bad channels #\n",
    "\n",
    "filtered_notch_data.plot_psd(picks = filtered_notch_data.info['bads'])"
   ]
  },
  {
   "cell_type": "code",
   "execution_count": 17,
   "id": "d3daa858-aecc-44c2-8f76-5baf822e06cd",
   "metadata": {},
   "outputs": [
    {
     "data": {
      "text/plain": [
       "<Annotations | 23 segments: BAD_ (23)>"
      ]
     },
     "execution_count": 17,
     "metadata": {},
     "output_type": "execute_result"
    }
   ],
   "source": [
    "filtered_notch_data.annotations"
   ]
  },
  {
   "cell_type": "code",
   "execution_count": 18,
   "id": "acfb4970-18c5-47bb-9708-2bf190fc1234",
   "metadata": {},
   "outputs": [
    {
     "name": "stdout",
     "output_type": "stream",
     "text": [
      "OrderedDict([('onset', 93.19874338624341), ('duration', 0.8584862764550252), ('description', 'BAD_'), ('orig_time', None)])\n",
      "OrderedDict([('onset', 119.06212797619048), ('duration', 0.823206018518519), ('description', 'BAD_'), ('orig_time', None)])\n",
      "OrderedDict([('onset', 122.36965732473546), ('duration', 0.611524470899468), ('description', 'BAD_'), ('orig_time', None)])\n",
      "OrderedDict([('onset', 180.73990368716935), ('duration', 1.1936487268518476), ('description', 'BAD_'), ('orig_time', None)])\n",
      "OrderedDict([('onset', 269.7324528769841), ('duration', 0.9114066633597986), ('description', 'BAD_'), ('orig_time', None)])\n",
      "OrderedDict([('onset', 290.4498181216931), ('duration', 0.9643270502645578), ('description', 'BAD_'), ('orig_time', None)])\n",
      "OrderedDict([('onset', 317.7322565310846), ('duration', 0.7291253306878502), ('description', 'BAD_'), ('orig_time', None)])\n",
      "OrderedDict([('onset', 397.4323743386243), ('duration', 1.3230096726190368), ('description', 'BAD_'), ('orig_time', None)])\n",
      "OrderedDict([('onset', 476.2093253968254), ('duration', 1.6699322089947373), ('description', 'BAD_'), ('orig_time', None)])\n",
      "OrderedDict([('onset', 564.7157944775132), ('duration', 2.916501322751401), ('description', 'BAD_'), ('orig_time', None)])\n",
      "OrderedDict([('onset', 654.5217530588626), ('duration', 2.034494874338634), ('description', 'BAD_'), ('orig_time', None)])\n",
      "OrderedDict([('onset', 703.8406498015873), ('duration', 1.299489500661366), ('description', 'BAD_'), ('orig_time', None)])\n",
      "OrderedDict([('onset', 783.7465691137568), ('duration', 0.4410032242063835), ('description', 'BAD_'), ('orig_time', None)])\n",
      "OrderedDict([('onset', 887.9762834821429), ('duration', 0.7761656746031349), ('description', 'BAD_'), ('orig_time', None)])\n",
      "OrderedDict([('onset', 932.603877314815), ('duration', 1.3524098875660684), ('description', 'BAD_'), ('orig_time', None)])\n",
      "OrderedDict([('onset', 979.4580543154764), ('duration', 2.863580935846471), ('description', 'BAD_'), ('orig_time', None)])\n",
      "OrderedDict([('onset', 1036.9168940145503), ('duration', 0.9937272652116462), ('description', 'BAD_'), ('orig_time', None)])\n",
      "OrderedDict([('onset', 1113.5221457506614), ('duration', 1.9521742724869), ('description', 'BAD_'), ('orig_time', None)])\n",
      "OrderedDict([('onset', 1134.1865906084656), ('duration', 1.0878079530423292), ('description', 'BAD_'), ('orig_time', None)])\n",
      "OrderedDict([('onset', 1262.1168154761906), ('duration', 0.8408461474866726), ('description', 'BAD_'), ('orig_time', None)])\n",
      "OrderedDict([('onset', 1303.9102285879633), ('duration', 2.2873367228835377), ('description', 'BAD_'), ('orig_time', None)])\n",
      "OrderedDict([('onset', 1386.06232432209), ('duration', 0.9525669642855519), ('description', 'BAD_'), ('orig_time', None)])\n",
      "OrderedDict([('onset', 1577.020771329365), ('duration', 0.3763227513227321), ('description', 'BAD_'), ('orig_time', None)])\n"
     ]
    },
    {
     "name": "stderr",
     "output_type": "stream",
     "text": [
      "/tmp/ipykernel_438575/1565315150.py:6: RuntimeWarning: This filename (../ieeg/saved_annotations.fif) does not conform to MNE naming conventions. All annotations files should end with -annot.fif, -annot.fif.gz, _annot.fif, _annot.fif.gz, .txt or .csv\n",
      "  filtered_notch_data.annotations.save('../ieeg/saved_annotations.fif', overwrite = True)\n"
     ]
    }
   ],
   "source": [
    "# interactive_annot = filtered_notch_data.annotations\n",
    "# for x in range(0, 23):\n",
    "#     print(interactive_annot[x])\n",
    "    \n",
    "    \n",
    "# filtered_notch_data.annotations.save('../ieeg/saved_annotations.fif', overwrite = True) "
   ]
  },
  {
   "cell_type": "markdown",
   "id": "719ec749-adbe-4e51-8b43-ebf716018b6a",
   "metadata": {},
   "source": [
    "## Save Files"
   ]
  },
  {
   "cell_type": "code",
   "execution_count": 15,
   "id": "ede2e048-ff29-427f-887e-71e29cbe984a",
   "metadata": {},
   "outputs": [
    {
     "name": "stdout",
     "output_type": "stream",
     "text": [
      "Writing /home/brooke/pacman/raw_data/LL12/ieeg/LL12_notched_filtered_clean_ieeg.fif\n",
      "Closing /home/brooke/pacman/raw_data/LL12/ieeg/LL12_notched_filtered_clean_ieeg.fif\n",
      "[done]\n",
      "Writing /home/brooke/pacman/raw_data/LL12/ieeg/LL12_raw_clean_ieeg.fif\n",
      "Closing /home/brooke/pacman/raw_data/LL12/ieeg/LL12_raw_clean_ieeg.fif\n",
      "[done]\n"
     ]
    }
   ],
   "source": [
    "# save filtered data #\n",
    "filtered_notch_data.save(f\"{raw_data_dir}/ieeg/{subject}_notched_filtered_clean_ieeg.fif\", overwrite = True)\n",
    "\n",
    "\n",
    "# save raw clean data #\n",
    "raw_fif.save(f\"{raw_data_dir}/ieeg/{subject}_raw_clean_ieeg.fif\", overwrite = True)\n"
   ]
  },
  {
   "cell_type": "code",
   "execution_count": null,
   "id": "d895cf3b-6cde-4606-b65c-b72cb45f1eb9",
   "metadata": {},
   "outputs": [],
   "source": []
  }
 ],
 "metadata": {
  "kernelspec": {
   "display_name": "Python [conda env:ieeg_analysis] *",
   "language": "python",
   "name": "conda-env-ieeg_analysis-py"
  },
  "language_info": {
   "codemirror_mode": {
    "name": "ipython",
    "version": 3
   },
   "file_extension": ".py",
   "mimetype": "text/x-python",
   "name": "python",
   "nbconvert_exporter": "python",
   "pygments_lexer": "ipython3",
   "version": "3.9.12"
  }
 },
 "nbformat": 4,
 "nbformat_minor": 5
}

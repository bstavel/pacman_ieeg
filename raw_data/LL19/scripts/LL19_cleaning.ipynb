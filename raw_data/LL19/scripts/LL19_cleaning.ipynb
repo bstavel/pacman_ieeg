{
 "cells": [
  {
   "cell_type": "markdown",
   "id": "be523407-5360-4092-9545-0b91c5c6401f",
   "metadata": {},
   "source": [
    "# Cleaning: LL19\n",
    "\n",
    "\n",
    "This script cleans the data both by abnormal trials and by noisy channels and epileptic activity. Lots of tugs on the electrodes, need to check with bipolar\n"
   ]
  },
  {
   "cell_type": "markdown",
   "id": "12d83091-835b-465f-bbe0-6fd1cdacc8b9",
   "metadata": {},
   "source": [
    "### Prep"
   ]
  },
  {
   "cell_type": "code",
   "execution_count": 1,
   "id": "a3785b84-4aaa-4461-a37e-b51a7c1c7913",
   "metadata": {
    "tags": []
   },
   "outputs": [],
   "source": [
    "import matplotlib\n",
    "matplotlib.use(\"Qt5Agg\")\n",
    "import matplotlib.pyplot as plt\n",
    "import pandas as pd\n",
    "import numpy as np\n",
    "from scipy import signal, stats\n",
    "import mat73\n",
    "import re\n",
    "from neurodsp.timefrequency import compute_wavelet_transform\n",
    "import os\n",
    "import mne\n",
    "import IPython\n",
    "import seaborn as sns"
   ]
  },
  {
   "cell_type": "code",
   "execution_count": 2,
   "id": "1aff0958-6a4e-4e42-b7a6-80d00e5f63f3",
   "metadata": {
    "tags": []
   },
   "outputs": [],
   "source": [
    "%matplotlib qt5"
   ]
  },
  {
   "cell_type": "code",
   "execution_count": 2,
   "id": "639733c6-a51d-4ba2-b0bc-64689a345199",
   "metadata": {
    "tags": []
   },
   "outputs": [],
   "source": [
    "# helper functions#\n",
    "\n",
    "def rle(inarray):\n",
    "        \"\"\" run length encoding. Partial credit to R rle function. \n",
    "            Multi datatype arrays catered for including non Numpy\n",
    "            returns: tuple (runlengths, startpositions, values) \"\"\"\n",
    "        ia = np.asarray(inarray)                # force numpy\n",
    "        n = len(ia)\n",
    "        if n == 0: \n",
    "            return (None, None, None)\n",
    "        else:\n",
    "            y = ia[1:] != ia[:-1]               # pairwise unequal (string safe)\n",
    "            i = np.append(np.where(y), n - 1)   # must include last element posi\n",
    "            z = np.diff(np.append(-1, i))       # run lengths\n",
    "            p = np.cumsum(np.append(0, z))[:-1] # positions\n",
    "            return(z, p, ia[i])\n",
    "        \n",
    "def find_bad_trial_times(idx, srate, trial_begins, trial_lengths):\n",
    "    ''' takes and index of trial lengths, beginnings and the sampling rate and returns the the start time and and\n",
    "    duration of the times to annotae as BAD '''\n",
    "    start_time = trial_begins[0][idx]/srate\n",
    "    duration = trial_lengths[0][idx]/srate\n",
    "    \n",
    "    return start_time, duration        "
   ]
  },
  {
   "cell_type": "code",
   "execution_count": 3,
   "id": "2794e660-c449-4c7a-968f-87124f1044ea",
   "metadata": {
    "tags": []
   },
   "outputs": [],
   "source": [
    "## Prep paths ##\n",
    "\n",
    "subject = 'LL19'\n",
    "raw_data_dir = f\"/home/brooke/pacman/raw_data/{subject}\"\n",
    "preproc_data_dir = f\"/home/brooke/pacman/preprocessing/{subject}/ieeg\""
   ]
  },
  {
   "cell_type": "code",
   "execution_count": 4,
   "id": "6e0deb60-8aca-4c57-a879-9fb9fb6d1d8e",
   "metadata": {
    "tags": []
   },
   "outputs": [
    {
     "name": "stdout",
     "output_type": "stream",
     "text": [
      "Opening raw data file /home/brooke/pacman/raw_data/LL19/ieeg/LL19_raw_ieeg.fif...\n",
      "    Range : 0 ... 784059 =      0.000 ...  1531.365 secs\n",
      "Ready.\n"
     ]
    }
   ],
   "source": [
    "## Load Data ##\n",
    "\n",
    "raw_fif = mne.io.Raw(f\"{raw_data_dir}/ieeg/{subject}_raw_ieeg.fif\")"
   ]
  },
  {
   "cell_type": "code",
   "execution_count": null,
   "id": "22556d7c-0c0b-40fc-82b1-777357649e6e",
   "metadata": {
    "tags": []
   },
   "outputs": [],
   "source": [
    "## Filtering ##\n",
    "\n",
    "# load data #\n",
    "raw_fif.load_data()\n",
    "\n",
    "# highpass filter @ 1 and lowpass @ 200 #\n",
    "filtered_data = raw_fif.filter(l_freq=1, h_freq=150) # skip this step for TF analysis, always do this on the least processed data, or do .1 to 250\n",
    "\n",
    "# remove 60hz line noise #\n",
    "freqs = (60, 120, 180, 240)\n",
    "filtered_notch_data = filtered_data.notch_filter(freqs=freqs) \n"
   ]
  },
  {
   "cell_type": "code",
   "execution_count": 5,
   "id": "06a738f0-dbc3-4e9b-807c-d21e8eb4fd28",
   "metadata": {
    "tags": []
   },
   "outputs": [
    {
     "name": "stdout",
     "output_type": "stream",
     "text": [
      "Opening raw data file /home/brooke/pacman/raw_data/LL19/ieeg/LL19_notched_filtered_ieeg.fif...\n",
      "    Range : 0 ... 784059 =      0.000 ...  1531.365 secs\n",
      "Ready.\n",
      "480 events found\n",
      "Event IDs: [0 1]\n"
     ]
    }
   ],
   "source": [
    "## Load/Save Filtered Data ##\n",
    "\n",
    "# save #\n",
    "# filtered_notch_data.save(f\"{raw_data_dir}/ieeg/{subject}_notched_filtered_ieeg.fif\", overwrite = True)\n",
    "\n",
    "# load #\n",
    "filtered_notch_data = mne.io.Raw(f\"{raw_data_dir}/ieeg/{subject}_notched_filtered_ieeg.fif\")\n",
    "events = mne.find_events(filtered_notch_data, output='step', consecutive = False, stim_channel='STI')"
   ]
  },
  {
   "cell_type": "code",
   "execution_count": 6,
   "id": "c262fbb5-6908-4a46-b03c-d815dbe2dc0d",
   "metadata": {
    "tags": []
   },
   "outputs": [
    {
     "data": {
      "text/plain": [
       "['CH0',\n",
       " 'CH1',\n",
       " 'CH2',\n",
       " 'CH3',\n",
       " 'CH4',\n",
       " 'CH5',\n",
       " 'CH6',\n",
       " 'CH7',\n",
       " 'CH8',\n",
       " 'CH9',\n",
       " 'CH10',\n",
       " 'CH11',\n",
       " 'CH12',\n",
       " 'CH13',\n",
       " 'CH14',\n",
       " 'CH15',\n",
       " 'CH16',\n",
       " 'CH17',\n",
       " 'CH18',\n",
       " 'CH19',\n",
       " 'CH20',\n",
       " 'CH21',\n",
       " 'CH22',\n",
       " 'CH23',\n",
       " 'CH24',\n",
       " 'CH25',\n",
       " 'CH26',\n",
       " 'CH27',\n",
       " 'CH28',\n",
       " 'CH29',\n",
       " 'CH30',\n",
       " 'CH31',\n",
       " 'CH32',\n",
       " 'CH33',\n",
       " 'CH34',\n",
       " 'CH35',\n",
       " 'CH36',\n",
       " 'CH37',\n",
       " 'CH38',\n",
       " 'CH39',\n",
       " 'CH40',\n",
       " 'CH41',\n",
       " 'CH42',\n",
       " 'CH43',\n",
       " 'CH44',\n",
       " 'CH45',\n",
       " 'CH46',\n",
       " 'CH47',\n",
       " 'CH48',\n",
       " 'CH49',\n",
       " 'CH50',\n",
       " 'CH51',\n",
       " 'CH52',\n",
       " 'CH53',\n",
       " 'CH54',\n",
       " 'CH55',\n",
       " 'CH56',\n",
       " 'CH57',\n",
       " 'CH58',\n",
       " 'CH59',\n",
       " 'CH60',\n",
       " 'CH61',\n",
       " 'CH62',\n",
       " 'CH63',\n",
       " 'CH64',\n",
       " 'CH65',\n",
       " 'CH66',\n",
       " 'CH67',\n",
       " 'CH68',\n",
       " 'CH69',\n",
       " 'CH70',\n",
       " 'CH71',\n",
       " 'CH72',\n",
       " 'CH73',\n",
       " 'CH74',\n",
       " 'CH75',\n",
       " 'CH76',\n",
       " 'CH77',\n",
       " 'CH78',\n",
       " 'CH79',\n",
       " 'CH80',\n",
       " 'CH81',\n",
       " 'CH82',\n",
       " 'CH83',\n",
       " 'CH84',\n",
       " 'CH85',\n",
       " 'CH86',\n",
       " 'CH87',\n",
       " 'CH88',\n",
       " 'CH89',\n",
       " 'CH90',\n",
       " 'CH91',\n",
       " 'CH92',\n",
       " 'CH93',\n",
       " 'CH94',\n",
       " 'CH95',\n",
       " 'CH96',\n",
       " 'CH97',\n",
       " 'CH98',\n",
       " 'CH99',\n",
       " 'CH100',\n",
       " 'CH101',\n",
       " 'CH102',\n",
       " 'CH103',\n",
       " 'CH104',\n",
       " 'CH105',\n",
       " 'CH106',\n",
       " 'CH107',\n",
       " 'CH108',\n",
       " 'CH109',\n",
       " 'CH110',\n",
       " 'CH111',\n",
       " 'CH112',\n",
       " 'CH113',\n",
       " 'CH114',\n",
       " 'CH115',\n",
       " 'CH116',\n",
       " 'CH117',\n",
       " 'CH118',\n",
       " 'CH119',\n",
       " 'CH120',\n",
       " 'CH121',\n",
       " 'CH122',\n",
       " 'CH123',\n",
       " 'CH124',\n",
       " 'CH125',\n",
       " 'CH126',\n",
       " 'CH127',\n",
       " 'CH128',\n",
       " 'CH129',\n",
       " 'CH130',\n",
       " 'CH131',\n",
       " 'CH132',\n",
       " 'CH133',\n",
       " 'CH134',\n",
       " 'CH135',\n",
       " 'CH136',\n",
       " 'CH137',\n",
       " 'CH138',\n",
       " 'CH139',\n",
       " 'CH140',\n",
       " 'CH141',\n",
       " 'CH142',\n",
       " 'CH143',\n",
       " 'CH144',\n",
       " 'CH145',\n",
       " 'CH146',\n",
       " 'CH147',\n",
       " 'STI']"
      ]
     },
     "execution_count": 6,
     "metadata": {},
     "output_type": "execute_result"
    }
   ],
   "source": [
    "filtered_notch_data.info['ch_names']"
   ]
  },
  {
   "cell_type": "markdown",
   "id": "1d1ab3dc-a3c3-4eab-bb46-9c5a7e517b9d",
   "metadata": {
    "tags": []
   },
   "source": [
    "## Cleaning Neural Data\n",
    "\n",
    "#### Bad Channels\n",
    "\n",
    "Epileptic channels from my cleaning: \n",
    "\n",
    "Noisy channels: \n",
    "\n",
    "['CH76', 'CH77', 'CH78', 'CH79', 'CH80', 'CH81', 'CH82', 'CH83', 'CH84', 'CH85', 'CH86', 'CH87', 'CH88', 'CH89', 'CH90', 'CH91', 'CH92', 'CH93', 'CH94', 'CH95', 'CH96', 'CH97', 'CH98', 'CH99', 'CH100', 'CH101', 'CH102', 'CH103', 'CH104', 'CH105', 'CH106', 'CH107', 'CH108', 'CH109', 'CH110', 'CH111', 'CH112', 'CH113', 'CH114', 'CH115', 'CH116', 'CH117', 'CH118', 'CH119', 'CH120', 'CH121', 'CH122', 'CH123', 'CH124', 'CH125', 'CH126', 'CH127', 'CH128', 'CH129', 'CH130', 'CH131', 'CH132', 'CH133', 'CH134', 'CH135', 'CH136', 'CH137', 'CH138', 'CH139', 'CH140', 'CH141', 'CH142', 'CH143', 'CH144', 'CH145', 'CH146', 'CH147', 'CH17', 'CH0', 'CH20', 'CH22', 'CH21', 'CH19', 'CH23']"
   ]
  },
  {
   "cell_type": "code",
   "execution_count": 7,
   "id": "7d0a4343-948a-4654-bc8f-db9c42ded9bb",
   "metadata": {
    "tags": []
   },
   "outputs": [
    {
     "data": {
      "text/html": [
       "<table class=\"table table-hover table-striped table-sm table-responsive small\">\n",
       "    <tr>\n",
       "        <th>Measurement date</th>\n",
       "        \n",
       "        <td>Unknown</td>\n",
       "        \n",
       "    </tr>\n",
       "    <tr>\n",
       "        <th>Experimenter</th>\n",
       "        \n",
       "        <td>Unknown</td>\n",
       "        \n",
       "    </tr>\n",
       "        <th>Participant</th>\n",
       "        \n",
       "        <td>Unknown</td>\n",
       "        \n",
       "    </tr>\n",
       "    <tr>\n",
       "        <th>Digitized points</th>\n",
       "        \n",
       "        <td>0 points</td>\n",
       "        \n",
       "    </tr>\n",
       "    <tr>\n",
       "        <th>Good channels</th>\n",
       "        <td>148 sEEG, 1 Stimulus</td>\n",
       "    </tr>\n",
       "    <tr>\n",
       "        <th>Bad channels</th>\n",
       "        <td>CH17, CH0, CH20, CH22, CH21, CH19, CH23, CH35, CH75, CH74, CH7, CH6, CH9, CH8, CH16, CH15, CH18, CH76, CH77, CH78, CH79, CH80, CH81, CH82, CH83, CH84, CH85, CH86, CH87, CH88, CH89, CH90, CH91, CH92, CH93, CH94, CH95, CH96, CH97, CH98, CH99, CH100, CH101, CH102, CH103, CH104, CH105, CH106, CH107, CH108, CH109, CH110, CH111, CH112, CH113, CH114, CH115, CH116, CH117, CH118, CH119, CH120, CH121, CH122, CH123, CH124, CH125, CH126, CH127, CH128, CH129, CH130, CH131, CH132, CH133, CH134, CH135, CH136, CH137, CH138, CH139, CH140, CH141, CH142, CH143, CH144, CH145, CH146, CH147</td>\n",
       "    </tr>\n",
       "    <tr>\n",
       "        <th>EOG channels</th>\n",
       "        <td>Not available</td>\n",
       "    </tr>\n",
       "    <tr>\n",
       "        <th>ECG channels</th>\n",
       "        <td>Not available</td>\n",
       "    \n",
       "    <tr>\n",
       "        <th>Sampling frequency</th>\n",
       "        <td>512.00 Hz</td>\n",
       "    </tr>\n",
       "    \n",
       "    \n",
       "    <tr>\n",
       "        <th>Highpass</th>\n",
       "        <td>1.00 Hz</td>\n",
       "    </tr>\n",
       "    \n",
       "    \n",
       "    <tr>\n",
       "        <th>Lowpass</th>\n",
       "        <td>150.00 Hz</td>\n",
       "    </tr>\n",
       "    \n",
       "    \n",
       "    \n",
       "    <tr>\n",
       "        <th>Filenames</th>\n",
       "        <td>LL19_notched_filtered_ieeg.fif</td>\n",
       "    </tr>\n",
       "    \n",
       "    <tr>\n",
       "        <th>Duration</th>\n",
       "        <td>00:25:32 (HH:MM:SS)</td>\n",
       "    </tr>\n",
       "</table>"
      ],
      "text/plain": [
       "<Raw | LL19_notched_filtered_ieeg.fif, 149 x 784060 (1531.4 s), ~157 kB, data not loaded>"
      ]
     },
     "execution_count": 7,
     "metadata": {},
     "output_type": "execute_result"
    }
   ],
   "source": [
    "# Remove Channels from filtered data\n",
    "\n",
    "# remove non seeg electrodes electrodes #\n",
    "string_lst = ['EMPTY', 'REF', 'ekg']\n",
    "\n",
    "bad_channels_reg = [re.findall(r\"(?=(\"+'|'.join(string_lst)+r\"))\", name, re.IGNORECASE) for name in filtered_notch_data.info['ch_names']]\n",
    "bad_channels_index = [i for i,x in enumerate(bad_channels_reg) if  x]\n",
    "bad_channels = [filtered_notch_data.info['ch_names'][i] for i in bad_channels_index]\n",
    "\n",
    "filtered_notch_data.info['bads'].extend(bad_channels)  \n",
    "\n",
    "# # remove epileptic electrodes\n",
    "filtered_notch_data.info['bads'].extend(['CH17', 'CH0', 'CH20', 'CH22', 'CH21', 'CH19', 'CH23', 'CH35', 'CH75', 'CH74', 'CH7', 'CH6', 'CH9', 'CH8', 'CH16', 'CH15', 'CH18'])  \n",
    "\n",
    "# remove out of brain electrodes\n",
    "## TODO hasn't been localized\n",
    "\n",
    "# remove scalp and dc channels\n",
    "scalp_dc_channels = [ 'CH76',\n",
    " 'CH77',\n",
    " 'CH78',\n",
    " 'CH79',\n",
    " 'CH80',\n",
    " 'CH81',\n",
    " 'CH82',\n",
    " 'CH83',\n",
    " 'CH84',\n",
    " 'CH85',\n",
    " 'CH86',\n",
    " 'CH87',\n",
    " 'CH88',\n",
    " 'CH89',\n",
    " 'CH90',\n",
    " 'CH91',\n",
    " 'CH92',\n",
    " 'CH93',\n",
    " 'CH94',\n",
    " 'CH95',\n",
    " 'CH96',\n",
    " 'CH97',\n",
    " 'CH98',\n",
    " 'CH99',\n",
    " 'CH100',\n",
    " 'CH101',\n",
    " 'CH102',\n",
    " 'CH103',\n",
    " 'CH104',\n",
    " 'CH105',\n",
    " 'CH106',\n",
    " 'CH107',\n",
    " 'CH108',\n",
    " 'CH109',\n",
    " 'CH110',\n",
    " 'CH111',\n",
    " 'CH112',\n",
    " 'CH113',\n",
    " 'CH114',\n",
    " 'CH115',\n",
    " 'CH116',\n",
    " 'CH117',\n",
    " 'CH118',\n",
    " 'CH119',\n",
    " 'CH120',\n",
    " 'CH121',\n",
    " 'CH122',\n",
    " 'CH123',\n",
    " 'CH124',\n",
    " 'CH125',\n",
    " 'CH126',\n",
    " 'CH127',\n",
    " 'CH128',\n",
    " 'CH129',\n",
    " 'CH130',\n",
    " 'CH131',\n",
    " 'CH132',\n",
    " 'CH133',\n",
    " 'CH134',\n",
    " 'CH135',\n",
    " 'CH136',\n",
    " 'CH137',\n",
    " 'CH138',\n",
    " 'CH139',\n",
    " 'CH140',\n",
    " 'CH141',\n",
    " 'CH142',\n",
    " 'CH143',\n",
    " 'CH144',\n",
    " 'CH145',\n",
    " 'CH146',\n",
    " 'CH147']\n",
    "\n",
    "filtered_notch_data.info['bads'].extend(scalp_dc_channels)\n",
    "filtered_notch_data"
   ]
  },
  {
   "cell_type": "code",
   "execution_count": 8,
   "id": "14a28078-93dd-4d34-b19b-a6ee581b9504",
   "metadata": {
    "tags": []
   },
   "outputs": [
    {
     "data": {
      "text/html": [
       "<table class=\"table table-hover table-striped table-sm table-responsive small\">\n",
       "    <tr>\n",
       "        <th>Measurement date</th>\n",
       "        \n",
       "        <td>Unknown</td>\n",
       "        \n",
       "    </tr>\n",
       "    <tr>\n",
       "        <th>Experimenter</th>\n",
       "        \n",
       "        <td>Unknown</td>\n",
       "        \n",
       "    </tr>\n",
       "        <th>Participant</th>\n",
       "        \n",
       "        <td>Unknown</td>\n",
       "        \n",
       "    </tr>\n",
       "    <tr>\n",
       "        <th>Digitized points</th>\n",
       "        \n",
       "        <td>0 points</td>\n",
       "        \n",
       "    </tr>\n",
       "    <tr>\n",
       "        <th>Good channels</th>\n",
       "        <td>148 sEEG, 1 Stimulus</td>\n",
       "    </tr>\n",
       "    <tr>\n",
       "        <th>Bad channels</th>\n",
       "        <td>CH17, CH0, CH20, CH22, CH21, CH19, CH23, CH35, CH75, CH74, CH7, CH6, CH9, CH8, CH16, CH15, CH18, CH76, CH77, CH78, CH79, CH80, CH81, CH82, CH83, CH84, CH85, CH86, CH87, CH88, CH89, CH90, CH91, CH92, CH93, CH94, CH95, CH96, CH97, CH98, CH99, CH100, CH101, CH102, CH103, CH104, CH105, CH106, CH107, CH108, CH109, CH110, CH111, CH112, CH113, CH114, CH115, CH116, CH117, CH118, CH119, CH120, CH121, CH122, CH123, CH124, CH125, CH126, CH127, CH128, CH129, CH130, CH131, CH132, CH133, CH134, CH135, CH136, CH137, CH138, CH139, CH140, CH141, CH142, CH143, CH144, CH145, CH146, CH147</td>\n",
       "    </tr>\n",
       "    <tr>\n",
       "        <th>EOG channels</th>\n",
       "        <td>Not available</td>\n",
       "    </tr>\n",
       "    <tr>\n",
       "        <th>ECG channels</th>\n",
       "        <td>Not available</td>\n",
       "    \n",
       "    <tr>\n",
       "        <th>Sampling frequency</th>\n",
       "        <td>512.00 Hz</td>\n",
       "    </tr>\n",
       "    \n",
       "    \n",
       "    <tr>\n",
       "        <th>Highpass</th>\n",
       "        <td>0.00 Hz</td>\n",
       "    </tr>\n",
       "    \n",
       "    \n",
       "    <tr>\n",
       "        <th>Lowpass</th>\n",
       "        <td>256.00 Hz</td>\n",
       "    </tr>\n",
       "    \n",
       "    \n",
       "    \n",
       "    <tr>\n",
       "        <th>Filenames</th>\n",
       "        <td>LL19_raw_ieeg.fif</td>\n",
       "    </tr>\n",
       "    \n",
       "    <tr>\n",
       "        <th>Duration</th>\n",
       "        <td>00:25:32 (HH:MM:SS)</td>\n",
       "    </tr>\n",
       "</table>"
      ],
      "text/plain": [
       "<Raw | LL19_raw_ieeg.fif, 149 x 784060 (1531.4 s), ~157 kB, data not loaded>"
      ]
     },
     "execution_count": 8,
     "metadata": {},
     "output_type": "execute_result"
    }
   ],
   "source": [
    "# Remove Channels from filtered data\n",
    "\n",
    "# remove non seeg electrodes electrodes #\n",
    "string_lst = ['EMPTY', 'REF', 'ekg']\n",
    "\n",
    "bad_channels_reg = [re.findall(r\"(?=(\"+'|'.join(string_lst)+r\"))\", name, re.IGNORECASE) for name in raw_fif.info['ch_names']]\n",
    "bad_channels_index = [i for i,x in enumerate(bad_channels_reg) if  x]\n",
    "bad_channels = [raw_fif.info['ch_names'][i] for i in bad_channels_index]\n",
    "\n",
    "raw_fif.info['bads'].extend(bad_channels)  \n",
    "\n",
    "# # remove epileptic electrodes\n",
    "raw_fif.info['bads'].extend(['CH17', 'CH0', 'CH20', 'CH22', 'CH21', 'CH19', 'CH23', 'CH35', 'CH75', 'CH74', 'CH7', 'CH6', 'CH9', 'CH8', 'CH16', 'CH15', 'CH18'])  \n",
    "\n",
    "# remove out of brain electrodes\n",
    "## TODO hasn't been localized\n",
    "\n",
    "# remove scalp and dc channels\n",
    "scalp_dc_channels = [ 'CH76',\n",
    " 'CH77',\n",
    " 'CH78',\n",
    " 'CH79',\n",
    " 'CH80',\n",
    " 'CH81',\n",
    " 'CH82',\n",
    " 'CH83',\n",
    " 'CH84',\n",
    " 'CH85',\n",
    " 'CH86',\n",
    " 'CH87',\n",
    " 'CH88',\n",
    " 'CH89',\n",
    " 'CH90',\n",
    " 'CH91',\n",
    " 'CH92',\n",
    " 'CH93',\n",
    " 'CH94',\n",
    " 'CH95',\n",
    " 'CH96',\n",
    " 'CH97',\n",
    " 'CH98',\n",
    " 'CH99',\n",
    " 'CH100',\n",
    " 'CH101',\n",
    " 'CH102',\n",
    " 'CH103',\n",
    " 'CH104',\n",
    " 'CH105',\n",
    " 'CH106',\n",
    " 'CH107',\n",
    " 'CH108',\n",
    " 'CH109',\n",
    " 'CH110',\n",
    " 'CH111',\n",
    " 'CH112',\n",
    " 'CH113',\n",
    " 'CH114',\n",
    " 'CH115',\n",
    " 'CH116',\n",
    " 'CH117',\n",
    " 'CH118',\n",
    " 'CH119',\n",
    " 'CH120',\n",
    " 'CH121',\n",
    " 'CH122',\n",
    " 'CH123',\n",
    " 'CH124',\n",
    " 'CH125',\n",
    " 'CH126',\n",
    " 'CH127',\n",
    " 'CH128',\n",
    " 'CH129',\n",
    " 'CH130',\n",
    " 'CH131',\n",
    " 'CH132',\n",
    " 'CH133',\n",
    " 'CH134',\n",
    " 'CH135',\n",
    " 'CH136',\n",
    " 'CH137',\n",
    " 'CH138',\n",
    " 'CH139',\n",
    " 'CH140',\n",
    " 'CH141',\n",
    " 'CH142',\n",
    " 'CH143',\n",
    " 'CH144',\n",
    " 'CH145',\n",
    " 'CH146',\n",
    " 'CH147']\n",
    "\n",
    "raw_fif.info['bads'].extend(scalp_dc_channels)\n",
    "raw_fif"
   ]
  },
  {
   "cell_type": "markdown",
   "id": "3b53c7d3-8102-4a30-b63d-51b8a318ff07",
   "metadata": {},
   "source": [
    "#### Bad Epochs from noisy data\n",
    "\n"
   ]
  },
  {
   "cell_type": "code",
   "execution_count": 12,
   "id": "2e29013c-e568-447a-a47b-481b93e9882b",
   "metadata": {
    "tags": []
   },
   "outputs": [],
   "source": [
    "# # Annotate Noisy Epochs from Bob's cleaning\n",
    "\n",
    "# # read from csv from interactive session\n",
    "bad_annots = mne.read_annotations('../ieeg/saved_annotations.fif')   \n"
   ]
  },
  {
   "cell_type": "markdown",
   "id": "db730472-6e06-4a31-a66b-fa5db1600bc7",
   "metadata": {},
   "source": [
    "#### Bad epochs from bad trial data"
   ]
  },
  {
   "cell_type": "code",
   "execution_count": 13,
   "id": "4cd44147-ed15-4bd4-b6c4-5dd845908831",
   "metadata": {
    "tags": []
   },
   "outputs": [],
   "source": [
    "# ## quality check trials ##\n",
    "\n",
    "# calculate trial onsets and offsets\n",
    "sti_raw = filtered_notch_data.get_data(picks = ['STI'])\n",
    "lengths, positionsm, val  = rle(sti_raw[0])\n",
    "\n",
    "# lengths, beginnings, endings, for trials\n",
    "trial_lengths = [lengths[x] for x in np.where(val == 1)]\n",
    "trial_begins = [positionsm[x] for x in np.where(val == 1)]\n",
    "trial_ends = trial_lengths[0] + trial_begins[0]\n",
    "trial_baseline = trial_begins[0] - 1000\n",
    "\n",
    "# lengths, beginnings, endings, for itis\n",
    "iti_lengths = [lengths[x] for x in np.where(val == 0)]\n",
    "iti_begins = [positionsm[x] for x in np.where(val == 0)]\n",
    "iti_ends = iti_begins[0] + iti_lengths[0]\n",
    "\n",
    "# save trial lengths for later\n",
    "np.save(f\"{preproc_data_dir}/{subject}_trial_lengths.npy\", trial_lengths)"
   ]
  },
  {
   "cell_type": "code",
   "execution_count": 14,
   "id": "fe17aab8-72f4-4400-97d5-2abfa5771abc",
   "metadata": {
    "tags": []
   },
   "outputs": [],
   "source": [
    "# exclude bad trials/apochs from r behavioral analysis (paused trials and no biscuits)\n",
    "\n",
    "# load bad trial data\n",
    "bad_trials = np.genfromtxt(f\"{raw_data_dir}/behave/{subject}_bad_trials.csv\", delimiter = ',', skip_header = 1)\n",
    "\n",
    "onsets = []\n",
    "durations = []\n",
    "for bad in bad_trials:\n",
    "    start, dur = find_bad_trial_times(int(bad), raw_fif.info['sfreq'], trial_begins, trial_lengths)\n",
    "    onsets.append(start)\n",
    "    durations.append(dur)\n",
    "\n",
    "# update descriptions\n",
    "descriptions = ['bad'] * len(durations)\n"
   ]
  },
  {
   "cell_type": "code",
   "execution_count": 15,
   "id": "a2d684d1-c82d-4f87-b37e-aca09a1e95ed",
   "metadata": {
    "tags": []
   },
   "outputs": [
    {
     "data": {
      "text/html": [
       "<table class=\"table table-hover table-striped table-sm table-responsive small\">\n",
       "    <tr>\n",
       "        <th>Measurement date</th>\n",
       "        \n",
       "        <td>Unknown</td>\n",
       "        \n",
       "    </tr>\n",
       "    <tr>\n",
       "        <th>Experimenter</th>\n",
       "        \n",
       "        <td>Unknown</td>\n",
       "        \n",
       "    </tr>\n",
       "        <th>Participant</th>\n",
       "        \n",
       "        <td>Unknown</td>\n",
       "        \n",
       "    </tr>\n",
       "    <tr>\n",
       "        <th>Digitized points</th>\n",
       "        \n",
       "        <td>0 points</td>\n",
       "        \n",
       "    </tr>\n",
       "    <tr>\n",
       "        <th>Good channels</th>\n",
       "        <td>148 sEEG, 1 Stimulus</td>\n",
       "    </tr>\n",
       "    <tr>\n",
       "        <th>Bad channels</th>\n",
       "        <td>CH17, CH0, CH20, CH22, CH21, CH19, CH23, CH35, CH75, CH74, CH7, CH6, CH9, CH8, CH16, CH15, CH18, CH76, CH77, CH78, CH79, CH80, CH81, CH82, CH83, CH84, CH85, CH86, CH87, CH88, CH89, CH90, CH91, CH92, CH93, CH94, CH95, CH96, CH97, CH98, CH99, CH100, CH101, CH102, CH103, CH104, CH105, CH106, CH107, CH108, CH109, CH110, CH111, CH112, CH113, CH114, CH115, CH116, CH117, CH118, CH119, CH120, CH121, CH122, CH123, CH124, CH125, CH126, CH127, CH128, CH129, CH130, CH131, CH132, CH133, CH134, CH135, CH136, CH137, CH138, CH139, CH140, CH141, CH142, CH143, CH144, CH145, CH146, CH147</td>\n",
       "    </tr>\n",
       "    <tr>\n",
       "        <th>EOG channels</th>\n",
       "        <td>Not available</td>\n",
       "    </tr>\n",
       "    <tr>\n",
       "        <th>ECG channels</th>\n",
       "        <td>Not available</td>\n",
       "    \n",
       "    <tr>\n",
       "        <th>Sampling frequency</th>\n",
       "        <td>512.00 Hz</td>\n",
       "    </tr>\n",
       "    \n",
       "    \n",
       "    <tr>\n",
       "        <th>Highpass</th>\n",
       "        <td>0.00 Hz</td>\n",
       "    </tr>\n",
       "    \n",
       "    \n",
       "    <tr>\n",
       "        <th>Lowpass</th>\n",
       "        <td>256.00 Hz</td>\n",
       "    </tr>\n",
       "    \n",
       "    \n",
       "    \n",
       "    <tr>\n",
       "        <th>Filenames</th>\n",
       "        <td>LL19_raw_ieeg.fif</td>\n",
       "    </tr>\n",
       "    \n",
       "    <tr>\n",
       "        <th>Duration</th>\n",
       "        <td>00:25:32 (HH:MM:SS)</td>\n",
       "    </tr>\n",
       "</table>"
      ],
      "text/plain": [
       "<Raw | LL19_raw_ieeg.fif, 149 x 784060 (1531.4 s), ~157 kB, data not loaded>"
      ]
     },
     "execution_count": 15,
     "metadata": {},
     "output_type": "execute_result"
    }
   ],
   "source": [
    "## exclude all bad epochs from both bad trials and investigating neural data ##\n",
    "\n",
    "# # combine with bad trial data #\n",
    "bad_annots.append(onsets, durations, descriptions)\n",
    "\n",
    "# # # apply to filtered data #\n",
    "filtered_notch_data.set_annotations(bad_annots)\n",
    "\n",
    "# # # apply to not filtered data #\n",
    "raw_fif.set_annotations(bad_annots)"
   ]
  },
  {
   "cell_type": "markdown",
   "id": "304972b6-3d35-4319-93bc-c13753ecf6f7",
   "metadata": {},
   "source": [
    "## Visualizing Neural Data"
   ]
  },
  {
   "cell_type": "markdown",
   "id": "556ee4df-0294-49bb-8db3-98ee304abde7",
   "metadata": {},
   "source": [
    "next step, working on filtering out the high frequency noise\n",
    "\n",
    "then look at Marks script to come up with some plot of every trial, sort longest to shortest, with theta power as the color tiome as x, trial on y"
   ]
  },
  {
   "cell_type": "code",
   "execution_count": 16,
   "id": "afafa922-b494-4ebf-a262-1fa89adb5a89",
   "metadata": {
    "tags": []
   },
   "outputs": [
    {
     "name": "stdout",
     "output_type": "stream",
     "text": [
      "Using qt as 2D backend.\n"
     ]
    },
    {
     "data": {
      "text/plain": [
       "<mne_qt_browser._pg_figure.MNEQtBrowser at 0x7f51b1ed19d0>"
      ]
     },
     "execution_count": 16,
     "metadata": {},
     "output_type": "execute_result"
    },
    {
     "name": "stdout",
     "output_type": "stream",
     "text": [
      "Channels marked as bad:\n",
      "none\n"
     ]
    }
   ],
   "source": [
    "# plot for cleaning #\n",
    "filtered_notch_data.drop_channels(filtered_notch_data.info['bads'])\n",
    "filtered_notch_data.plot(events=events, color='b', bad_color = 'red', n_channels = 230, clipping = None, event_color = 'r')"
   ]
  },
  {
   "cell_type": "code",
   "execution_count": 18,
   "id": "0ed7aef0-09d9-4134-8f68-15bbc207578c",
   "metadata": {
    "tags": []
   },
   "outputs": [
    {
     "name": "stdout",
     "output_type": "stream",
     "text": [
      "NOTE: plot_psd() is a legacy function. New code should use .compute_psd().plot().\n",
      "Setting 10270 of 784060 (1.31%) samples to NaN, retaining 773790 (98.69%) samples.\n",
      "Effective window size : 4.000 (s)\n"
     ]
    },
    {
     "name": "stderr",
     "output_type": "stream",
     "text": [
      "/tmp/ipykernel_62750/3671565419.py:3: RuntimeWarning: Channel locations not available. Disabling spatial colors.\n",
      "  filtered_notch_data.plot_psd()\n"
     ]
    },
    {
     "data": {
      "image/png": "[encoded data removed]",
      "text/plain": [
       "<MNELineFigure size 1000x350 with 1 Axes>"
      ]
     },
     "execution_count": 18,
     "metadata": {},
     "output_type": "execute_result"
    }
   ],
   "source": [
    "# plot psd of all channels #\n",
    "\n",
    "filtered_notch_data.plot_psd()"
   ]
  },
  {
   "cell_type": "code",
   "execution_count": null,
   "id": "f7c9bc69-ae5f-455d-b683-76bff6dd9063",
   "metadata": {},
   "outputs": [],
   "source": [
    "# plot psd of bad channels #\n",
    "\n",
    "filtered_notch_data.plot_psd(picks = filtered_notch_data.info['bads'])"
   ]
  },
  {
   "cell_type": "code",
   "execution_count": 17,
   "id": "3b8aed42-9b82-4fb9-a3c3-5405625ecdac",
   "metadata": {
    "tags": []
   },
   "outputs": [
    {
     "name": "stdout",
     "output_type": "stream",
     "text": [
      "OrderedDict([('onset', 178.994736), ('duration', 0.121856689453125), ('description', 'BAD'), ('orig_time', None)])\n",
      "OrderedDict([('onset', 201.504028), ('duration', 0.1309967041015625), ('description', 'BAD'), ('orig_time', None)])\n",
      "OrderedDict([('onset', 209.750214), ('duration', 0.0883331298828125), ('description', 'BAD'), ('orig_time', None)])\n",
      "OrderedDict([('onset', 212.344803), ('duration', 0.0700531005859375), ('description', 'BAD'), ('orig_time', None)])\n",
      "OrderedDict([('onset', 265.75792344421603), ('duration', 0.6778284776219152), ('description', 'BAD'), ('orig_time', None)])\n",
      "OrderedDict([('onset', 302.414856), ('duration', 0.417327880859375), ('description', 'BAD'), ('orig_time', None)])\n",
      "OrderedDict([('onset', 308.248413), ('duration', 0.274169921875), ('description', 'BAD'), ('orig_time', None)])\n",
      "OrderedDict([('onset', 330.5748523869624), ('duration', 1.1410112706636255), ('description', 'BAD'), ('orig_time', None)])\n",
      "OrderedDict([('onset', 367.020782), ('duration', 0.216278076171875), ('description', 'BAD'), ('orig_time', None)])\n",
      "OrderedDict([('onset', 558.6679523048817), ('duration', 0.5535599233912762), ('description', 'BAD'), ('orig_time', None)])\n",
      "OrderedDict([('onset', 731.283240514373), ('duration', 1.0223912870796994), ('description', 'BAD'), ('orig_time', None)])\n",
      "OrderedDict([('onset', 743.091125), ('duration', 0.6854248046875), ('description', 'BAD'), ('orig_time', None)])\n",
      "OrderedDict([('onset', 787.4478610451622), ('duration', 0.4292913691605236), ('description', 'BAD'), ('orig_time', None)])\n",
      "OrderedDict([('onset', 909.181972233745), ('duration', 0.5874513472723493), ('description', 'BAD'), ('orig_time', None)])\n",
      "OrderedDict([('onset', 912.8704888661379), ('duration', 1.3161169607159309), ('description', 'BAD'), ('orig_time', None)])\n",
      "OrderedDict([('onset', 919.786926), ('duration', 0.31378173828125), ('description', 'BAD'), ('orig_time', None)])\n",
      "OrderedDict([('onset', 934.298401), ('duration', 0.78289794921875), ('description', 'BAD'), ('orig_time', None)])\n",
      "OrderedDict([('onset', 1024.3311518671176), ('duration', 1.3217655313626437), ('description', 'BAD'), ('orig_time', None)])\n",
      "OrderedDict([('onset', 1071.8627264944444), ('duration', 0.3728056626921443), ('description', 'BAD'), ('orig_time', None)])\n",
      "OrderedDict([('onset', 1084.472366133289), ('duration', 0.6326399124470754), ('description', 'BAD'), ('orig_time', None)])\n",
      "OrderedDict([('onset', 1106.049332321298), ('duration', 1.310468390069218), ('description', 'BAD'), ('orig_time', None)])\n",
      "OrderedDict([('onset', 1161.2074922994098), ('duration', 0.8698798796149276), ('description', 'BAD'), ('orig_time', None)])\n",
      "OrderedDict([('onset', 1195.754517), ('duration', 0.426513671875), ('description', 'BAD'), ('orig_time', None)])\n",
      "OrderedDict([('onset', 1200.335205), ('duration', 0.8935036822067559), ('description', 'BAD'), ('orig_time', None)])\n",
      "OrderedDict([('onset', 1225.9047862810341), ('duration', 0.9489598686707268), ('description', 'BAD'), ('orig_time', None)])\n",
      "OrderedDict([('onset', 1278.690308), ('duration', 0.33203125), ('description', 'BAD'), ('orig_time', None)])\n",
      "OrderedDict([('onset', 1321.428833), ('duration', 0.255859375), ('description', 'BAD'), ('orig_time', None)])\n",
      "OrderedDict([('onset', 1328.6985119546703), ('duration', 1.1297141293698587), ('description', 'BAD'), ('orig_time', None)])\n",
      "OrderedDict([('onset', 1352.7867752839734), ('duration', 1.152308411957165), ('description', 'BAD'), ('orig_time', None)])\n",
      "OrderedDict([('onset', 1367.774292), ('duration', 0.6854248046875), ('description', 'BAD'), ('orig_time', None)])\n",
      "OrderedDict([('onset', 1391.4876040351978), ('duration', 0.8981227328490604), ('description', 'BAD'), ('orig_time', None)])\n",
      "Overwriting existing file.\n"
     ]
    },
    {
     "name": "stderr",
     "output_type": "stream",
     "text": [
      "/tmp/ipykernel_62750/1650741952.py:7: RuntimeWarning: This filename (../ieeg/saved_annotations.fif) does not conform to MNE naming conventions. All annotations files should end with -annot.fif, -annot.fif.gz, _annot.fif, _annot.fif.gz, .txt or .csv\n",
      "  filtered_notch_data.annotations.save('../ieeg/saved_annotations.fif', overwrite = True)\n"
     ]
    }
   ],
   "source": [
    "# # From interactive sessions\n",
    "# interactive_annot = filtered_notch_data.annotations\n",
    "# for x in range(0, len(filtered_notch_data.annotations)):\n",
    "#     print(interactive_annot[x])\n",
    "    \n",
    "    \n",
    "# filtered_notch_data.annotations.save('../ieeg/saved_annotations.fif', overwrite = True) "
   ]
  },
  {
   "cell_type": "markdown",
   "id": "86ae8d82-9dc2-438f-ab76-effed512f9e4",
   "metadata": {},
   "source": [
    "## Save Files"
   ]
  },
  {
   "cell_type": "code",
   "execution_count": 16,
   "id": "83c9a275-c5bd-414a-a3a5-5d30bd0fe689",
   "metadata": {},
   "outputs": [
    {
     "name": "stdout",
     "output_type": "stream",
     "text": [
      "Writing /home/brooke/pacman/raw_data/LL19/ieeg/LL19_notched_filtered_clean_ieeg.fif\n",
      "Closing /home/brooke/pacman/raw_data/LL19/ieeg/LL19_notched_filtered_clean_ieeg.fif\n",
      "[done]\n",
      "Writing /home/brooke/pacman/raw_data/LL19/ieeg/LL19_raw_clean_ieeg.fif\n",
      "Closing /home/brooke/pacman/raw_data/LL19/ieeg/LL19_raw_clean_ieeg.fif\n",
      "[done]\n"
     ]
    }
   ],
   "source": [
    "# save filtered data #\n",
    "filtered_notch_data.save(f\"{raw_data_dir}/ieeg/{subject}_notched_filtered_clean_ieeg.fif\", overwrite = True)\n",
    "\n",
    "\n",
    "# save raw clean data #\n",
    "raw_fif.save(f\"{raw_data_dir}/ieeg/{subject}_raw_clean_ieeg.fif\", overwrite = True)\n"
   ]
  },
  {
   "cell_type": "code",
   "execution_count": null,
   "id": "d76febee",
   "metadata": {},
   "outputs": [],
   "source": []
  }
 ],
 "metadata": {
  "kernelspec": {
   "display_name": "Python 3 (ipykernel)",
   "language": "python",
   "name": "python3"
  },
  "language_info": {
   "codemirror_mode": {
    "name": "ipython",
    "version": 3
   },
   "file_extension": ".py",
   "mimetype": "text/x-python",
   "name": "python",
   "nbconvert_exporter": "python",
   "pygments_lexer": "ipython3",
   "version": "3.9.18"
  }
 },
 "nbformat": 4,
 "nbformat_minor": 5
}

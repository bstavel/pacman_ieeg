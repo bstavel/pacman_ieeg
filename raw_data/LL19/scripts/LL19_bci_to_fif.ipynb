{
 "cells": [
  {
   "cell_type": "markdown",
   "id": "1dde1236-abaf-40af-8af3-97742d564328",
   "metadata": {},
   "source": [
    "## Conversion to fif: LL19\n",
    "\n",
    "This script takes the raw, original data file we recieved from WashU and converts it to a fif file with the photodiode as a new stim channel\n",
    "\n",
    "\n",
    "Just need to change fields in `prep_paths`"
   ]
  },
  {
   "cell_type": "code",
   "execution_count": 1,
   "id": "30b1b892-6de7-490a-9015-15e96664db57",
   "metadata": {},
   "outputs": [],
   "source": [
    "import matplotlib.pyplot as plt\n",
    "import pandas as pd\n",
    "import numpy as np\n",
    "from scipy import signal, stats\n",
    "import mat73\n",
    "import re\n",
    "from neurodsp.timefrequency import compute_wavelet_transform\n",
    "from BCI2kReader import BCI2kReader as b2k\n",
    "import os\n",
    "import mne\n",
    "from tabulate import tabulate\n",
    "import IPython\n",
    "import seaborn as sns"
   ]
  },
  {
   "cell_type": "code",
   "execution_count": 8,
   "id": "cdd12f2e-0d9e-4fe7-9f99-59d7b021a2a6",
   "metadata": {},
   "outputs": [],
   "source": [
    "## prep paths\n",
    "\n",
    "subject = 'LL19'\n",
    "orig_data_fi = '/home/brooke/knight_server/remote/ecog/DATA_FOLDER/Loma_Linda/LL19/Datafiles/BCI/DAY1/PacmanTask/ECOG001/ECOGS001R01.dat'\n",
    "raw_data_dir = f\"/home/brooke/pacman/raw_data/{subject}/ieeg\""
   ]
  },
  {
   "cell_type": "code",
   "execution_count": 9,
   "id": "b4d0fe3c-ceed-4b91-9356-ac164eb47f79",
   "metadata": {},
   "outputs": [
    {
     "name": "stderr",
     "output_type": "stream",
     "text": [
      "WARNING: failed to interpret \"auto\" as type int in parameter \"VisualizeSourceDecimation\"\n",
      "WARNING: failed to interpret \"auto\" as type int in parameter \"VisualizeSourceBufferSize\"\n",
      "WARNING: failed to interpret \"auto\" as type int in parameter \"SourceMin\"\n",
      "WARNING: failed to interpret \"auto\" as type int in parameter \"SourceMax\"\n"
     ]
    }
   ],
   "source": [
    "## load data\n",
    "\n",
    "with b2k.BCI2kReader(orig_data_fi) as data: #opens a stream to the dat file\n",
    "    my_signals = data.signals\n",
    "    my_states = data.states\n",
    "    my_params = data.parameters"
   ]
  },
  {
   "cell_type": "code",
   "execution_count": 10,
   "id": "b70a8ed4-0317-4216-bca3-9b4eeb238400",
   "metadata": {},
   "outputs": [
    {
     "data": {
      "text/plain": [
       "{'GhostLocation': array([[  0,   0,   0, ..., 128, 128, 128]], dtype=int32),\n",
       " 'UserLocation': array([[ 0,  0,  0, ..., 46, 46, 46]], dtype=int32),\n",
       " 'Direction': array([[4, 4, 4, ..., 2, 2, 2]], dtype=int32),\n",
       " 'Biscuit1': array([[0, 0, 0, ..., 1, 1, 1]], dtype=int32),\n",
       " 'Biscuit2': array([[0, 0, 0, ..., 1, 1, 1]], dtype=int32),\n",
       " 'Biscuit3': array([[0, 0, 0, ..., 1, 1, 1]], dtype=int32),\n",
       " 'Biscuit4': array([[0, 0, 0, ..., 1, 1, 1]], dtype=int32),\n",
       " 'Biscuit5': array([[0, 0, 0, ..., 1, 1, 1]], dtype=int32),\n",
       " 'Attack': array([[0, 0, 0, ..., 0, 0, 0]], dtype=int32),\n",
       " 'Chase': array([[0, 0, 0, ..., 0, 0, 0]], dtype=int32),\n",
       " 'Dying': array([[0, 0, 0, ..., 0, 0, 0]], dtype=int32),\n",
       " 'Eaten': array([[0, 0, 0, ..., 5, 5, 5]], dtype=int32),\n",
       " 'Score': array([[  0,   0,   0, ..., 150, 150, 150]], dtype=int32),\n",
       " 'Lives': array([[3, 3, 3, ..., 3, 3, 3]], dtype=int32),\n",
       " 'TrialType': array([[0, 0, 0, ..., 7, 7, 7]], dtype=int32),\n",
       " 'Trial_on_off': array([[0, 0, 0, ..., 1, 1, 1]], dtype=int32),\n",
       " 'KeyDown': array([[0, 0, 0, ..., 0, 0, 0]], dtype=int32),\n",
       " 'KeyUp': array([[0, 0, 0, ..., 0, 0, 0]], dtype=int32),\n",
       " 'AudioInEnvelope1': array([[  0,   0,   0, ..., 677, 677, 687]], dtype=int32),\n",
       " 'AudioInEnvelope2': array([[  0,   0,   0, ..., 728, 728, 757]], dtype=int32),\n",
       " 'AudioInEnvelope3': array([[0, 0, 0, ..., 0, 0, 0]], dtype=int32),\n",
       " 'AudioInEnvelope4': array([[0, 0, 0, ..., 0, 0, 0]], dtype=int32),\n",
       " 'AudioOutEnvelope1': array([[0, 0, 0, ..., 0, 0, 0]], dtype=int32),\n",
       " 'AudioOutEnvelope2': array([[0, 0, 0, ..., 0, 0, 0]], dtype=int32),\n",
       " 'AudioOutEnvelope3': array([[0, 0, 0, ..., 0, 0, 0]], dtype=int32),\n",
       " 'AudioOutEnvelope4': array([[0, 0, 0, ..., 0, 0, 0]], dtype=int32),\n",
       " 'AudioFrame': array([[       0,        0,        0, ..., 67414016, 67414016, 67414016]],\n",
       "       dtype=int32),\n",
       " 'Recording': array([[1, 1, 1, ..., 1, 1, 1]], dtype=int32),\n",
       " 'SourceTime': array([[42677, 42677, 42677, ...,  1093,  1093,  1093]], dtype=int32),\n",
       " 'StimulusTime': array([[0, 0, 0, ..., 0, 0, 0]], dtype=int32),\n",
       " 'Interpolated': array([[0, 0, 0, ..., 0, 0, 0]], dtype=int32),\n",
       " 'Running': array([[1, 1, 1, ..., 1, 1, 1]], dtype=int32),\n",
       " 'StimBoxInput1': array([[0, 0, 0, ..., 0, 0, 0]], dtype=int32),\n",
       " 'StimBoxInput2': array([[0, 0, 0, ..., 0, 0, 0]], dtype=int32),\n",
       " 'StimBoxInput3': array([[0, 0, 0, ..., 0, 0, 0]], dtype=int32),\n",
       " 'StimBoxInput4': array([[0, 0, 0, ..., 0, 0, 0]], dtype=int32),\n",
       " 'StimBoxInput5': array([[0, 0, 0, ..., 0, 0, 0]], dtype=int32),\n",
       " 'StimBoxInput6': array([[0, 0, 0, ..., 0, 0, 0]], dtype=int32),\n",
       " 'StimBoxInput7': array([[0, 0, 0, ..., 0, 0, 0]], dtype=int32),\n",
       " 'StimBoxInput8': array([[0, 0, 0, ..., 0, 0, 0]], dtype=int32),\n",
       " 'StimBoxInput9': array([[0, 0, 0, ..., 0, 0, 0]], dtype=int32),\n",
       " 'StimBoxInput10': array([[0, 0, 0, ..., 0, 0, 0]], dtype=int32),\n",
       " 'StimBoxInput11': array([[0, 0, 0, ..., 0, 0, 0]], dtype=int32),\n",
       " 'StimBoxInput12': array([[0, 0, 0, ..., 0, 0, 0]], dtype=int32),\n",
       " 'StimBoxInput13': array([[0, 0, 0, ..., 0, 0, 0]], dtype=int32),\n",
       " 'StimBoxInput14': array([[0, 0, 0, ..., 0, 0, 0]], dtype=int32),\n",
       " 'FixationViolated': array([[0, 0, 0, ..., 0, 0, 0]], dtype=int32),\n",
       " 'GazeCorrectionMode': array([[0, 0, 0, ..., 0, 0, 0]], dtype=int32),\n",
       " 'FixationCrossVisible': array([[1, 1, 1, ..., 1, 1, 1]], dtype=int32),\n",
       " '__pad0': array([[0, 0, 0, ..., 0, 0, 0]], dtype=int32),\n",
       " '__pad1': array([[0, 0, 0, ..., 0, 0, 0]], dtype=int32),\n",
       " '__pad2': array([[0, 0, 0, ..., 0, 0, 0]], dtype=int32),\n",
       " '__pad3': array([[0, 0, 0, ..., 0, 0, 0]], dtype=int32),\n",
       " '__pad4': array([[0, 0, 0, ..., 0, 0, 0]], dtype=int32)}"
      ]
     },
     "execution_count": 10,
     "metadata": {},
     "output_type": "execute_result"
    }
   ],
   "source": [
    "## check structure if necessary\n",
    "\n",
    "my_states\n",
    "# my_params"
   ]
  },
  {
   "cell_type": "code",
   "execution_count": 11,
   "id": "6ff84e77-c9a3-4402-a45b-b25e269fbda1",
   "metadata": {},
   "outputs": [
    {
     "data": {
      "text/html": [
       "<table class=\"table table-hover table-striped table-sm table-responsive small\">\n",
       "    <tr>\n",
       "        <th>Measurement date</th>\n",
       "        \n",
       "        <td>Unknown</td>\n",
       "        \n",
       "    </tr>\n",
       "    <tr>\n",
       "        <th>Experimenter</th>\n",
       "        \n",
       "        <td>Unknown</td>\n",
       "        \n",
       "    </tr>\n",
       "        <th>Participant</th>\n",
       "        \n",
       "        <td>Unknown</td>\n",
       "        \n",
       "    </tr>\n",
       "    <tr>\n",
       "        <th>Digitized points</th>\n",
       "        \n",
       "        <td>Not available</td>\n",
       "        \n",
       "    </tr>\n",
       "    <tr>\n",
       "        <th>Good channels</th>\n",
       "        <td>148 sEEG</td>\n",
       "    </tr>\n",
       "    <tr>\n",
       "        <th>Bad channels</th>\n",
       "        <td>None</td>\n",
       "    </tr>\n",
       "    <tr>\n",
       "        <th>EOG channels</th>\n",
       "        <td>Not available</td>\n",
       "    </tr>\n",
       "    <tr>\n",
       "        <th>ECG channels</th>\n",
       "        <td>Not available</td>\n",
       "    \n",
       "    <tr>\n",
       "        <th>Sampling frequency</th>\n",
       "        <td>512.00 Hz</td>\n",
       "    </tr>\n",
       "    \n",
       "    \n",
       "    <tr>\n",
       "        <th>Highpass</th>\n",
       "        <td>0.00 Hz</td>\n",
       "    </tr>\n",
       "    \n",
       "    \n",
       "    <tr>\n",
       "        <th>Lowpass</th>\n",
       "        <td>256.00 Hz</td>\n",
       "    </tr>\n",
       "    \n",
       "    \n",
       "</table>"
      ],
      "text/plain": [
       "<Info | 7 non-empty values\n",
       " bads: []\n",
       " ch_names: CH0, CH1, CH2, CH3, CH4, CH5, CH6, CH7, CH8, CH9, CH10, CH11, ...\n",
       " chs: 148 sEEG\n",
       " custom_ref_applied: False\n",
       " highpass: 0.0 Hz\n",
       " lowpass: 256.0 Hz\n",
       " meas_date: unspecified\n",
       " nchan: 148\n",
       " projs: []\n",
       " sfreq: 512.0 Hz\n",
       ">"
      ]
     },
     "execution_count": 11,
     "metadata": {},
     "output_type": "execute_result"
    }
   ],
   "source": [
    "## create info field \n",
    "\n",
    "info = mne.create_info(ch_names = my_params['ChannelNames'],\n",
    "                       sfreq = my_params['SamplingRate'],\n",
    "                       ch_types = 'seeg')\n",
    "\n",
    "info"
   ]
  },
  {
   "cell_type": "code",
   "execution_count": 12,
   "id": "993a91bf-44b1-4719-8227-6a88900a2334",
   "metadata": {},
   "outputs": [
    {
     "name": "stdout",
     "output_type": "stream",
     "text": [
      "Creating RawArray with float64 data, n_channels=148, n_times=784060\n",
      "    Range : 0 ... 784059 =      0.000 ...  1531.365 secs\n",
      "Ready.\n"
     ]
    }
   ],
   "source": [
    "## create mne object\n",
    "mne_df = mne.io.RawArray(my_signals, info)"
   ]
  },
  {
   "cell_type": "code",
   "execution_count": 13,
   "id": "e985171d-2f06-44e2-9b8d-929ce4528eae",
   "metadata": {},
   "outputs": [
    {
     "name": "stdout",
     "output_type": "stream",
     "text": [
      "Creating RawArray with float64 data, n_channels=1, n_times=784060\n",
      "    Range : 0 ... 784059 =      0.000 ...  1531.365 secs\n",
      "Ready.\n"
     ]
    },
    {
     "data": {
      "text/html": [
       "<table class=\"table table-hover table-striped table-sm table-responsive small\">\n",
       "    <tr>\n",
       "        <th>Measurement date</th>\n",
       "        \n",
       "        <td>Unknown</td>\n",
       "        \n",
       "    </tr>\n",
       "    <tr>\n",
       "        <th>Experimenter</th>\n",
       "        \n",
       "        <td>Unknown</td>\n",
       "        \n",
       "    </tr>\n",
       "        <th>Participant</th>\n",
       "        \n",
       "        <td>Unknown</td>\n",
       "        \n",
       "    </tr>\n",
       "    <tr>\n",
       "        <th>Digitized points</th>\n",
       "        \n",
       "        <td>0 points</td>\n",
       "        \n",
       "    </tr>\n",
       "    <tr>\n",
       "        <th>Good channels</th>\n",
       "        <td>148 sEEG, 1 Stimulus</td>\n",
       "    </tr>\n",
       "    <tr>\n",
       "        <th>Bad channels</th>\n",
       "        <td>None</td>\n",
       "    </tr>\n",
       "    <tr>\n",
       "        <th>EOG channels</th>\n",
       "        <td>Not available</td>\n",
       "    </tr>\n",
       "    <tr>\n",
       "        <th>ECG channels</th>\n",
       "        <td>Not available</td>\n",
       "    \n",
       "    <tr>\n",
       "        <th>Sampling frequency</th>\n",
       "        <td>512.00 Hz</td>\n",
       "    </tr>\n",
       "    \n",
       "    \n",
       "    <tr>\n",
       "        <th>Highpass</th>\n",
       "        <td>0.00 Hz</td>\n",
       "    </tr>\n",
       "    \n",
       "    \n",
       "    <tr>\n",
       "        <th>Lowpass</th>\n",
       "        <td>256.00 Hz</td>\n",
       "    </tr>\n",
       "    \n",
       "    \n",
       "    \n",
       "    <tr>\n",
       "        <th>Duration</th>\n",
       "        <td>00:25:32 (HH:MM:SS)</td>\n",
       "    </tr>\n",
       "</table>"
      ],
      "text/plain": [
       "<RawArray | 149 x 784060 (1531.4 s), ~891.4 MB, data loaded>"
      ]
     },
     "execution_count": 13,
     "metadata": {},
     "output_type": "execute_result"
    }
   ],
   "source": [
    "## create stim channel and add it to mne object\n",
    "\n",
    "info = mne.create_info(['STI'], my_params['SamplingRate'], ['stim'])\n",
    "stim_raw = mne.io.RawArray( my_states['Trial_on_off'], info)\n",
    "mne_df.add_channels([stim_raw], force_update_info=True)"
   ]
  },
  {
   "cell_type": "code",
   "execution_count": 14,
   "id": "cce19699-3b9d-46d7-a2eb-47bd73ccc655",
   "metadata": {},
   "outputs": [
    {
     "name": "stdout",
     "output_type": "stream",
     "text": [
      "Writing /home/brooke/pacman/raw_data/LL19/ieeg/LL19_raw_ieeg.fif\n",
      "Closing /home/brooke/pacman/raw_data/LL19/ieeg/LL19_raw_ieeg.fif\n",
      "[done]\n"
     ]
    }
   ],
   "source": [
    "## save it\n",
    "\n",
    "mne_df.save(f\"{raw_data_dir}/{subject}_raw_ieeg.fif\", overwrite = False)"
   ]
  },
  {
   "cell_type": "code",
   "execution_count": null,
   "id": "a52ffef3-efb0-42a5-8c15-3a23b2205cf8",
   "metadata": {},
   "outputs": [],
   "source": []
  }
 ],
 "metadata": {
  "kernelspec": {
   "display_name": "Python 3",
   "language": "python",
   "name": "python3"
  },
  "language_info": {
   "codemirror_mode": {
    "name": "ipython",
    "version": 3
   },
   "file_extension": ".py",
   "mimetype": "text/x-python",
   "name": "python",
   "nbconvert_exporter": "python",
   "pygments_lexer": "ipython3",
   "version": "3.9.12"
  }
 },
 "nbformat": 4,
 "nbformat_minor": 5
}

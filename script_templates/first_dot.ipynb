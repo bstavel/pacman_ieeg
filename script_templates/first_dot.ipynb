{
 "cells": [
  {
   "cell_type": "markdown",
   "id": "dd8fdc9d-95eb-42fe-abe1-80bb121b5d83",
   "metadata": {},
   "source": [
    "# First Dot ~ all frequencies: "
   ]
  },
  {
   "cell_type": "code",
   "execution_count": null,
   "id": "b4cae23a-8d44-4df0-9b7a-3fcdc95e0e5c",
   "metadata": {},
   "outputs": [],
   "source": [
    "import matplotlib\n",
    "import matplotlib.pyplot as plt\n",
    "import pandas as pd\n",
    "import numpy as np\n",
    "from scipy import signal, stats\n",
    "import mat73\n",
    "import re\n",
    "from neurodsp.timefrequency import compute_wavelet_transform\n",
    "import os\n",
    "import mne\n",
    "import IPython\n",
    "import seaborn as sns\n",
    "import scipy\n",
    "import joblib\n",
    "import h5io\n",
    "import dask.array as da \n",
    "\n",
    "import statsmodels\n",
    "from statsmodels import stats\n",
    "from statsmodels.stats import multitest\n",
    "\n",
    "# Import required code for visualizing example models\n",
    "from fooof import FOOOF\n",
    "from fooof.sim.gen import gen_power_spectrum\n",
    "from fooof.sim.utils import set_random_seed\n",
    "from fooof.plts.spectra import plot_spectra\n",
    "from fooof.plts.annotate import plot_annotated_model\n",
    "from neurodsp.utils import create_times\n",
    "from neurodsp.plts.time_series import plot_time_series\n",
    "from neurodsp.spectral import compute_spectrum, rotate_powerlaw\n",
    "from neurodsp.plts.spectral import plot_power_spectra\n"
   ]
  },
  {
   "cell_type": "code",
   "execution_count": null,
   "id": "c48a9e35-5c6b-451d-a9f5-41305159b40a",
   "metadata": {
    "tags": []
   },
   "outputs": [],
   "source": [
    "## Prep paths ##\n",
    "\n",
    "subject = ''\n",
    "raw_data_dir = f\"/home/brooke/pacman/raw_data/{subject}\"\n",
    "preproc_data_dir = f\"/home/brooke/pacman/preprocessing/{subject}/ieeg\"\n",
    "\n",
    "# load preproc functions\n",
    "%run ../../scripts/preproc_functions.py"
   ]
  },
  {
   "cell_type": "code",
   "execution_count": null,
   "id": "3f816ae7-8136-48c3-8218-48ac5650abe1",
   "metadata": {},
   "outputs": [],
   "source": [
    "## Load Neural Data\n",
    "\n",
    "# load\n",
    "first_dot_epochs = mne.read_epochs(f\"{preproc_data_dir}/{subject}_bp_filtered_clean_first_dot_events.fif\")\n",
    "\n",
    "# get good epochs (for behavioral data only)\n",
    "good_epochs = [i for i,x in enumerate(first_dot_epochs.get_annotations_per_epoch()) if not x]\n",
    "bad_epochs = [i for i,x in enumerate(first_dot_epochs.get_annotations_per_epoch()) if  x]\n",
    "\n",
    "# load behavioral data\n",
    "first_dot_data = pd.read_csv(f\"{raw_data_dir}/behave/{subject}_first_dot_events.csv\")\n",
    "\n",
    "# set info as metadata\n",
    "first_dot_epochs.metadata = first_dot_data\n",
    "\n",
    "# onlt good epochs\n",
    "first_dot_epochs = first_dot_epochs[good_epochs]"
   ]
  },
  {
   "cell_type": "code",
   "execution_count": null,
   "id": "8893e602-8a16-4617-a697-ad1669c99429",
   "metadata": {
    "tags": []
   },
   "outputs": [],
   "source": [
    "## Dictionary of electrode locations ##\n",
    "\n",
    "# Pull mapping ROI to elecs\n",
    "%run ../../scripts/roi.py\n",
    "ROIs = ROIs[subject]\n",
    "\n",
    "## prep lists\n",
    "\n",
    "# limbic ROI\n",
    "hc_list = []\n",
    "hc_indices = []\n",
    "hc_names = []\n",
    "ofc_list = []\n",
    "ofc_indices = []\n",
    "ofc_names = []\n",
    "amyg_list = []\n",
    "amyg_names = [] \n",
    "amyg_indices = []\n",
    "cing_list = []\n",
    "cing_names = [] \n",
    "cing_indices = []\n",
    "sgACC_list = []\n",
    "sgACC_names = [] \n",
    "sgACC_indices = []\n",
    "dACC_list = []\n",
    "dACC_names = [] \n",
    "dACC_indices = []\n",
    "sfg_list = []\n",
    "sfg_names = [] \n",
    "sfg_indices = []\n",
    "mfg_list = []\n",
    "mfg_names = [] \n",
    "mfg_indices = []\n",
    "\n",
    "# control ROI\n",
    "insula_list = []\n",
    "insula_names = []  \n",
    "insula_indices = []\n",
    "dlpfc_list = []\n",
    "dlpfc_names = []  \n",
    "dlpfc_indices = []\n",
    "ec_list = []\n",
    "ec_names = []  \n",
    "ec_indices = []\n",
    "\n",
    "# exclude bad ROI from list\n",
    "pairs_long_name = [ch.split('-') for ch in first_dot_epochs.info['ch_names']]\n",
    "bidx = len(first_dot_epochs.info['bads']) +1\n",
    "pairs_name = pairs_long_name[bidx:len(pairs_long_name)]\n",
    "\n",
    "# sort ROI into lists\n",
    "for ix in range(0, len(pairs_name)):\n",
    "    if pairs_name[ix][0] in ROIs['hc'] or pairs_name[ix][1] in ROIs['hc']:\n",
    "        hc_list.append(first_dot_epochs.info['ch_names'][ix + bidx])\n",
    "        hc_names.append(pairs_name[ix])\n",
    "        hc_indices.append(ix)\n",
    "    if pairs_name[ix][0] in ROIs['ofc'] or pairs_name[ix][1] in ROIs['ofc']:\n",
    "        ofc_list.append(first_dot_epochs.info['ch_names'][ix + bidx])\n",
    "        ofc_names.append(pairs_name[ix])\n",
    "        ofc_indices.append(ix)\n",
    "    if pairs_name[ix][0] in ROIs['amyg'] or pairs_name[ix][1] in ROIs['amyg']:\n",
    "        amyg_list.append(first_dot_epochs.info['ch_names'][ix + bidx])       \n",
    "        amyg_names.append(pairs_name[ix])\n",
    "        amyg_indices.append(ix)\n",
    "    if pairs_name[ix][0] in ROIs['cing'] or pairs_name[ix][1] in ROIs['cing']:\n",
    "        cing_list.append(first_dot_epochs.info['ch_names'][ix + bidx])       \n",
    "        cing_names.append(pairs_name[ix])\n",
    "        cing_indices.append(ix)\n",
    "    if pairs_name[ix][0] in ROIs['sgACC'] or pairs_name[ix][1] in ROIs['sgACC']:\n",
    "        sgACC_list.append(first_dot_epochs.info['ch_names'][ix + bidx])       \n",
    "        sgACC_names.append(pairs_name[ix])\n",
    "        sgACC_indices.append(ix)\n",
    "    if pairs_name[ix][0] in ROIs['dACC'] or pairs_name[ix][1] in ROIs['dACC']:\n",
    "        dACC_list.append(first_dot_epochs.info['ch_names'][ix + bidx])       \n",
    "        dACC_names.append(pairs_name[ix])\n",
    "        dACC_indices.append(ix)        \n",
    "        \n",
    "    # control roi\n",
    "    if pairs_name[ix][0] in ROIs['insula'] or pairs_name[ix][1] in ROIs['insula']:\n",
    "        insula_list.append(first_dot_epochs.info['ch_names'][ix + bidx])       \n",
    "        insula_names.append(pairs_name[ix])\n",
    "        insula_indices.append(ix)\n",
    "    if pairs_name[ix][0] in ROIs['dlpfc'] or pairs_name[ix][1] in ROIs['dlpfc']:\n",
    "        dlpfc_list.append(first_dot_epochs.info['ch_names'][ix + bidx])       \n",
    "        dlpfc_names.append(pairs_name[ix])\n",
    "        dlpfc_indices.append(ix)\n",
    "    if pairs_name[ix][0] in ROIs['sfg'] or pairs_name[ix][1] in ROIs['sfg']:\n",
    "        sfg_list.append(first_dot_epochs.info['ch_names'][ix + bidx])       \n",
    "        sfg_names.append(pairs_name[ix])\n",
    "        sfg_indices.append(ix)   \n",
    "    if pairs_name[ix][0] in ROIs['mfg'] or pairs_name[ix][1] in ROIs['mfg']:\n",
    "        mfg_list.append(first_dot_epochs.info['ch_names'][ix + bidx])       \n",
    "        mfg_names.append(pairs_name[ix])\n",
    "        mfg_indices.append(ix)     \n",
    "    if pairs_name[ix][0] in ROIs['ec'] or pairs_name[ix][1] in ROIs['ec']:\n",
    "        ec_list.append(first_dot_epochs.info['ch_names'][ix + bidx])       \n",
    "        ec_names.append(pairs_name[ix])\n",
    "        ec_indices.append(ix)        \n",
    "        "
   ]
  },
  {
   "cell_type": "code",
   "execution_count": null,
   "id": "71f46b0b-cb29-472d-9272-83091d512382",
   "metadata": {},
   "outputs": [],
   "source": [
    "# Print and check frequencies\n",
    "print(freqs)\n",
    "print(n_cycles)\n",
    "print(time_bin)\n",
    "print(band_width)\n"
   ]
  },
  {
   "cell_type": "markdown",
   "id": "7de6eb5d-5215-4aca-903d-272be79343f5",
   "metadata": {},
   "source": [
    "# Main Regions of Interest"
   ]
  },
  {
   "cell_type": "markdown",
   "id": "b97e7e09-d76d-4667-a81a-13574f522100",
   "metadata": {
    "tags": []
   },
   "source": [
    "## Hippocampus"
   ]
  },
  {
   "cell_type": "code",
   "execution_count": null,
   "id": "f45e02f5-43ac-4518-a886-c0ae76e06f8e",
   "metadata": {},
   "outputs": [],
   "source": [
    "hc_list"
   ]
  },
  {
   "cell_type": "code",
   "execution_count": null,
   "id": "daccfa9e-745e-4d6b-9444-84c23a01eed4",
   "metadata": {},
   "outputs": [],
   "source": [
    "# only ROI of interest\n",
    "first_dot_roi = first_dot_epochs.copy().pick_channels(hc_list)\n"
   ]
  },
  {
   "cell_type": "code",
   "execution_count": null,
   "id": "83a5f686-4485-4585-a53f-1027b198a1ae",
   "metadata": {},
   "outputs": [],
   "source": [
    "# Resample to 1000 \n",
    "if first_dot_roi.info['sfreq'] > 1000:\n",
    "    first_dot_roi= first_dot_roi.resample(1000)"
   ]
  },
  {
   "cell_type": "code",
   "execution_count": null,
   "id": "569e59da-4043-4b67-99aa-ebab0a5d696d",
   "metadata": {},
   "outputs": [],
   "source": [
    "# compute TRF\n",
    "\n",
    "roi_tfr = []\n",
    "roi_tfr = compute_TFR(first_dot_roi,freqs,n_cycles)\n"
   ]
  },
  {
   "cell_type": "code",
   "execution_count": null,
   "id": "98091a09-2dd1-4221-ad13-8af5bd67f4d8",
   "metadata": {},
   "outputs": [],
   "source": [
    "# Crop to time of interest\n",
    "\n",
    "roi_tfr.crop(tmin = -1, tmax = 4)"
   ]
  },
  {
   "cell_type": "code",
   "execution_count": null,
   "id": "bf60e7ca-759a-4b81-89d8-cd33f88f5ff0",
   "metadata": {},
   "outputs": [],
   "source": [
    "# save TFRs\n",
    "\n",
    "roi_tfr.save(f\"/home/brooke/knight_server/remote/bstavel/pacman/preprocessing/{subject}/ieeg/first_dot/hc-tfr.h5\", overwrite = True)"
   ]
  },
  {
   "cell_type": "code",
   "execution_count": null,
   "id": "632a673d-ef2e-4996-b095-d69ea4d22cfd",
   "metadata": {},
   "outputs": [],
   "source": [
    "# Log and zscore\n",
    "\n",
    "roi_tfr = log_and_zscore_TFR(roi_tfr, baseline = (-1,4), logflag=True)"
   ]
  },
  {
   "cell_type": "code",
   "execution_count": null,
   "id": "56813cb8-abce-467a-864c-5ae7f9ae3b00",
   "metadata": {},
   "outputs": [],
   "source": [
    "# Plot TFR\n",
    "plot_average_tfr(roi_tfr, f\"Average Hippocampal TFR at First Dot, n={len(hc_list)}\", subject, 'hc_firstdot')\n"
   ]
  },
  {
   "cell_type": "markdown",
   "id": "eb0fa12a-9ac1-411d-a105-f17782aae568",
   "metadata": {
    "tags": []
   },
   "source": [
    "## Individual Channels"
   ]
  },
  {
   "cell_type": "code",
   "execution_count": null,
   "id": "6bb80ef3-afad-49ad-a9aa-82ef761187e0",
   "metadata": {},
   "outputs": [],
   "source": [
    "# Plot Channel TFR\n",
    "for chix, ch in enumerate(roi_tfr.ch_names):\n",
    "\n",
    "    plot_channel_tfr(roi_tfr, chix, ch, 'First Dot')\n",
    "    \n"
   ]
  },
  {
   "cell_type": "markdown",
   "id": "53fdd5e5-2efc-4409-b769-8e1e5720a787",
   "metadata": {
    "tags": []
   },
   "source": [
    "## Export freq data locked to turn around time to csvs"
   ]
  },
  {
   "cell_type": "markdown",
   "id": "9cda7ead-e472-4596-8f68-44f847b96f2b",
   "metadata": {
    "tags": []
   },
   "source": [
    "# OFC"
   ]
  },
  {
   "cell_type": "code",
   "execution_count": null,
   "id": "252bbb49-3458-4f41-b0bf-56f119b4f06c",
   "metadata": {},
   "outputs": [],
   "source": [
    "ofc_list"
   ]
  },
  {
   "cell_type": "code",
   "execution_count": null,
   "id": "d76c37e1-3822-47bc-b63d-3973e7c853ab",
   "metadata": {},
   "outputs": [],
   "source": [
    "# only roi of interest\n",
    "first_dot_roi = first_dot_epochs.copy().pick_channels(ofc_list)\n"
   ]
  },
  {
   "cell_type": "code",
   "execution_count": null,
   "id": "013b352f-9bf4-444a-a10e-8ef13542b1fe",
   "metadata": {},
   "outputs": [],
   "source": [
    "# Resample to 1000 \n",
    "if first_dot_roi.info['sfreq'] > 1000:\n",
    "    first_dot_roi= first_dot_roi.resample(1000)"
   ]
  },
  {
   "cell_type": "code",
   "execution_count": null,
   "id": "1daeb368-5a0b-466a-bfae-aba3bcbd6620",
   "metadata": {},
   "outputs": [],
   "source": [
    "# compute TRF\n",
    "\n",
    "roi_tfr = []\n",
    "roi_tfr = compute_TFR(first_dot_roi,freqs,n_cycles)"
   ]
  },
  {
   "cell_type": "code",
   "execution_count": null,
   "id": "703ab9d3-3469-4606-b0ce-d5f17c27d9ea",
   "metadata": {},
   "outputs": [],
   "source": [
    "roi_tfr.crop(tmin = -1, tmax = 4)\n"
   ]
  },
  {
   "cell_type": "code",
   "execution_count": null,
   "id": "9b459512-35c7-4165-b94e-ad8904790e48",
   "metadata": {},
   "outputs": [],
   "source": [
    "# save TFRs\n",
    "\n",
    "roi_tfr.save(f\"/home/brooke/knight_server/remote/bstavel/pacman/preprocessing/{subject}/ieeg/first_dot/ofc-tfr.h5\", overwrite = True)"
   ]
  },
  {
   "cell_type": "code",
   "execution_count": null,
   "id": "4eecf1ff-f4f7-4eea-a6e0-92f4b59bae3e",
   "metadata": {},
   "outputs": [],
   "source": [
    "# Log and zscore\n",
    "\n",
    "roi_tfr = log_and_zscore_TFR(roi_tfr, baseline = (-1,4), logflag=True)"
   ]
  },
  {
   "cell_type": "code",
   "execution_count": null,
   "id": "d69b8ce6-ed62-4b94-8b48-fe0b6b8e324b",
   "metadata": {},
   "outputs": [],
   "source": [
    "# Plot TFR\n",
    "plot_average_tfr(roi_tfr, f\"Average OFC TFR at First Dot, n={len(ofc_list)}\", subject, 'ofc_firstdot')\n"
   ]
  },
  {
   "cell_type": "markdown",
   "id": "e7d3b462-cf31-47f4-bc10-ca8142a03bce",
   "metadata": {},
   "source": [
    "### Individual Channels"
   ]
  },
  {
   "cell_type": "code",
   "execution_count": null,
   "id": "7eb2dfdf-90c6-4580-8ca9-bb70675a69d9",
   "metadata": {
    "tags": []
   },
   "outputs": [],
   "source": [
    "# Plot Channel TFR\n",
    "for chix, ch in enumerate(roi_tfr.ch_names):\n",
    "\n",
    "    plot_channel_tfr(roi_tfr, chix, ch, 'First Dot')"
   ]
  },
  {
   "cell_type": "markdown",
   "id": "95f58545-b3ab-4e5e-8974-59b678a7037b",
   "metadata": {
    "tags": []
   },
   "source": [
    "# Amygdala"
   ]
  },
  {
   "cell_type": "code",
   "execution_count": null,
   "id": "b182f41c-471a-4322-93dd-502b4c24d439",
   "metadata": {},
   "outputs": [],
   "source": [
    "amyg_list"
   ]
  },
  {
   "cell_type": "code",
   "execution_count": null,
   "id": "de7aae76-05fd-426e-ab74-923f51b77f3c",
   "metadata": {},
   "outputs": [],
   "source": [
    "# only roi \n",
    "first_dot_roi = first_dot_epochs.copy().pick_channels(amyg_list)\n"
   ]
  },
  {
   "cell_type": "code",
   "execution_count": null,
   "id": "f4f6900b-a7a6-4797-b661-03c527da3f68",
   "metadata": {},
   "outputs": [],
   "source": [
    "# Resample to 1000 \n",
    "if first_dot_roi.info['sfreq'] > 1000:\n",
    "    first_dot_roi= first_dot_roi.resample(1000)"
   ]
  },
  {
   "cell_type": "code",
   "execution_count": null,
   "id": "1c19d7ca-7443-46cf-9388-16957a21c2e8",
   "metadata": {},
   "outputs": [],
   "source": [
    "# compute TRF\n",
    "\n",
    "roi_tfr = []\n",
    "roi_tfr = compute_TFR(first_dot_roi,freqs,n_cycles)\n"
   ]
  },
  {
   "cell_type": "code",
   "execution_count": null,
   "id": "536d73c7-2b7f-49ba-9038-f7e1e76cee41",
   "metadata": {},
   "outputs": [],
   "source": [
    "roi_tfr.crop(tmin = -1, tmax = 4)\n"
   ]
  },
  {
   "cell_type": "code",
   "execution_count": null,
   "id": "1962771a-5c07-4c7b-a221-ef3c1b248641",
   "metadata": {},
   "outputs": [],
   "source": [
    "# save TFRs\n",
    "\n",
    "roi_tfr.save(f\"/home/brooke/knight_server/remote/bstavel/pacman/preprocessing/{subject}/ieeg/first_dot/amyg-tfr.h5\", overwrite = True)"
   ]
  },
  {
   "cell_type": "code",
   "execution_count": null,
   "id": "d3d5a018-e993-473d-ae7b-de62f6911f88",
   "metadata": {},
   "outputs": [],
   "source": [
    "# Log and zscore\n",
    "\n",
    "roi_tfr = log_and_zscore_TFR(roi_tfr, baseline = (-1,4), logflag=True)"
   ]
  },
  {
   "cell_type": "code",
   "execution_count": null,
   "id": "c8a0f24c-5fdc-4747-b1a1-b5d4d542564f",
   "metadata": {},
   "outputs": [],
   "source": [
    "# Plot TFR\n",
    "plot_average_tfr(roi_tfr, f\"Average Amygdala TFR at First Dot, n={len(amyg_list)}\", subject, 'amyg_firstdot')"
   ]
  },
  {
   "cell_type": "markdown",
   "id": "a01e399c-bc04-4de5-afad-7c77e2e4cfea",
   "metadata": {},
   "source": [
    "### Individual Channels"
   ]
  },
  {
   "cell_type": "code",
   "execution_count": null,
   "id": "5e9dc2ab-4485-4260-a1a4-4638280c46fe",
   "metadata": {},
   "outputs": [],
   "source": [
    "# Plot Channel TFR\n",
    "for chix, ch in enumerate(roi_tfr.ch_names):\n",
    "\n",
    "    plot_channel_tfr(roi_tfr, chix, ch, 'First Dot')"
   ]
  },
  {
   "cell_type": "markdown",
   "id": "c6b75852-eae0-46eb-a5bb-da79cac9ad18",
   "metadata": {
    "tags": []
   },
   "source": [
    "## Cingulate"
   ]
  },
  {
   "cell_type": "code",
   "execution_count": null,
   "id": "92508acd-9948-49c5-a5cd-47ee0bf3c417",
   "metadata": {},
   "outputs": [],
   "source": [
    "cing_list"
   ]
  },
  {
   "cell_type": "code",
   "execution_count": null,
   "id": "a078dd7c-2bde-4f04-b14f-5992a07cb284",
   "metadata": {},
   "outputs": [],
   "source": [
    "# only roi \n",
    "first_dot_roi = first_dot_epochs.copy().pick_channels(cing_list)\n"
   ]
  },
  {
   "cell_type": "code",
   "execution_count": null,
   "id": "4f70ba0a-722f-4e74-b6a1-9943d40c3747",
   "metadata": {},
   "outputs": [],
   "source": [
    "# Resample to 1000 \n",
    "if first_dot_roi.info['sfreq'] > 1000:\n",
    "    first_dot_roi= first_dot_roi.resample(1000)"
   ]
  },
  {
   "cell_type": "code",
   "execution_count": null,
   "id": "bcdab97c-8708-4113-baad-44695bb5476d",
   "metadata": {},
   "outputs": [],
   "source": [
    "# compute TRF\n",
    "\n",
    "roi_tfr = []\n",
    "roi_tfr = compute_TFR(first_dot_roi,freqs,n_cycles)\n"
   ]
  },
  {
   "cell_type": "code",
   "execution_count": null,
   "id": "74c8573a-40e7-48e3-bd53-810a9c3bbc68",
   "metadata": {},
   "outputs": [],
   "source": [
    "roi_tfr.crop(tmin = -1, tmax = 4)\n"
   ]
  },
  {
   "cell_type": "code",
   "execution_count": null,
   "id": "15eacf41-e203-4954-ab26-48543dc06caa",
   "metadata": {},
   "outputs": [],
   "source": [
    "# save TFRs\n",
    "\n",
    "roi_tfr.save(f\"/home/brooke/knight_server/remote/bstavel/pacman/preprocessing/{subject}/ieeg/first_dot/cing-tfr.h5\", overwrite = True)"
   ]
  },
  {
   "cell_type": "code",
   "execution_count": null,
   "id": "f50664a6-725f-40a4-afbc-e6a8c61d4278",
   "metadata": {},
   "outputs": [],
   "source": [
    "# Log and zscore\n",
    "\n",
    "roi_tfr = log_and_zscore_TFR(roi_tfr, baseline = (-1,4), logflag=True)"
   ]
  },
  {
   "cell_type": "code",
   "execution_count": null,
   "id": "24b5a48c-de71-4e1e-89ca-72e588384a57",
   "metadata": {},
   "outputs": [],
   "source": [
    "# Plot TFR\n",
    "plot_average_tfr(roi_tfr, f\"Average Ant. Cingulate TFR at First Dot, n={len(cing_list)}\", subject, 'cing_firstdot')"
   ]
  },
  {
   "cell_type": "markdown",
   "id": "60019ff3-acb5-49c2-ab3f-7643fb7c2396",
   "metadata": {},
   "source": [
    "### Individual Channels"
   ]
  },
  {
   "cell_type": "code",
   "execution_count": null,
   "id": "f3b09e5a-822e-4faa-9f1f-b82bedf15f75",
   "metadata": {},
   "outputs": [],
   "source": [
    "# Plot Channel TFR\n",
    "for chix, ch in enumerate(roi_tfr.ch_names):\n",
    "\n",
    "    plot_channel_tfr(roi_tfr, chix, ch, 'First Dot')"
   ]
  },
  {
   "cell_type": "markdown",
   "metadata": {},
   "source": [
    "## sgACC"
   ]
  },
  {
   "cell_type": "code",
   "execution_count": null,
   "metadata": {},
   "outputs": [],
   "source": [
    "sgACC_list"
   ]
  },
  {
   "cell_type": "code",
   "execution_count": null,
   "metadata": {},
   "outputs": [],
   "source": [
    "# Plot TFR\n",
    "tmp_tfr = roi_tfr.copy().pick_channels(sgACC_list)\n",
    "plot_average_tfr(tmp_tfr, f\"Average sgACC TFR at First Dot, n={len(sgACC_list)}\", subject, 'sgacc_firstdot')"
   ]
  },
  {
   "cell_type": "markdown",
   "metadata": {},
   "source": [
    "### Individual Channels"
   ]
  },
  {
   "cell_type": "code",
   "execution_count": null,
   "metadata": {},
   "outputs": [],
   "source": [
    "plt.rcParams['figure.figsize'] = [15, 11]\n",
    "\n",
    "for ch in sgACC_list:\n",
    "    chix = cing_list.index(ch)\n",
    "    plot_channel_tfr(roi_tfr, chix, ch, 'First Dot')\n",
    "    "
   ]
  },
  {
   "cell_type": "markdown",
   "metadata": {},
   "source": [
    "## dACC"
   ]
  },
  {
   "cell_type": "code",
   "execution_count": null,
   "metadata": {},
   "outputs": [],
   "source": [
    "dACC_list"
   ]
  },
  {
   "cell_type": "code",
   "execution_count": null,
   "metadata": {},
   "outputs": [],
   "source": [
    "# Plot TFR\n",
    "tmp_tfr = roi_tfr.copy().pick_channels(dACC_list)\n",
    "plot_average_tfr(tmp_tfr, f\"Average dACC TFR at First Dot, n={len(dACC_list)}\", subject, 'dacc_firstdot')"
   ]
  },
  {
   "cell_type": "markdown",
   "metadata": {},
   "source": [
    "### Individual Channels"
   ]
  },
  {
   "cell_type": "code",
   "execution_count": null,
   "metadata": {},
   "outputs": [],
   "source": [
    "plt.rcParams['figure.figsize'] = [15, 11]\n",
    "\n",
    "for ch in dACC_list:\n",
    "    chix = cing_list.index(ch)\n",
    "    plot_channel_tfr(roi_tfr, chix, ch, 'First Dot')\n"
   ]
  },
  {
   "cell_type": "markdown",
   "id": "7d20ef33-bde5-4791-81d8-dd08cb365238",
   "metadata": {},
   "source": [
    "# Control Regions"
   ]
  },
  {
   "cell_type": "markdown",
   "id": "21495e34-6407-4cc9-804d-313c1168172f",
   "metadata": {
    "tags": []
   },
   "source": [
    "## Insula"
   ]
  },
  {
   "cell_type": "code",
   "execution_count": null,
   "id": "38740841-aa8b-4913-9eb6-6df8a3a749d9",
   "metadata": {},
   "outputs": [],
   "source": [
    "insula_list"
   ]
  },
  {
   "cell_type": "code",
   "execution_count": null,
   "id": "32f29f2a-789f-4825-9ee8-33a7de17971a",
   "metadata": {},
   "outputs": [],
   "source": [
    "# Only ROI\n",
    "first_dot_roi = first_dot_epochs.copy().pick_channels(insula_list)\n"
   ]
  },
  {
   "cell_type": "code",
   "execution_count": null,
   "id": "160301c8-b2ad-4278-851f-c9721c3d3244",
   "metadata": {},
   "outputs": [],
   "source": [
    "# Resample to 1000 \n",
    "if first_dot_roi.info['sfreq'] > 1000:\n",
    "    first_dot_roi= first_dot_roi.resample(1000)"
   ]
  },
  {
   "cell_type": "code",
   "execution_count": null,
   "id": "5db41484-8268-45fe-9cb7-08d3a83b20ca",
   "metadata": {},
   "outputs": [],
   "source": [
    "# compute TRF\n",
    "\n",
    "roi_tfr = []\n",
    "roi_tfr = compute_TFR(first_dot_roi,freqs,n_cycles)\n"
   ]
  },
  {
   "cell_type": "code",
   "execution_count": null,
   "id": "fe4d6986-c3c3-4540-996d-2202e2c7e0ae",
   "metadata": {},
   "outputs": [],
   "source": [
    "roi_tfr.crop(tmin = -1, tmax = 4)\n"
   ]
  },
  {
   "cell_type": "code",
   "execution_count": null,
   "id": "8de4e195-b16b-42b2-974f-34c9ad6c7eaf",
   "metadata": {},
   "outputs": [],
   "source": [
    "# save TFRs\n",
    "\n",
    "roi_tfr.save(f\"/home/brooke/knight_server/remote/bstavel/pacman/preprocessing/{subject}/ieeg/first_dot/insula-tfr.h5\", overwrite = True)"
   ]
  },
  {
   "cell_type": "code",
   "execution_count": null,
   "id": "d022b5ae-223f-4911-8506-8ab18c0f2933",
   "metadata": {},
   "outputs": [],
   "source": [
    "# Log and zscore\n",
    "\n",
    "roi_tfr = log_and_zscore_TFR(roi_tfr, baseline = (-1,4), logflag=True)"
   ]
  },
  {
   "cell_type": "code",
   "execution_count": null,
   "id": "c7974df9-0982-4e2f-a5e8-6523adea6fe4",
   "metadata": {},
   "outputs": [],
   "source": [
    "# Plot TFR\n",
    "plot_average_tfr(roi_tfr, f\"Average Insula TFR at First Dot, n={len(insula_list)}\", subject, 'insula_firstdot')"
   ]
  },
  {
   "cell_type": "markdown",
   "id": "686d0db5-7514-46e4-9eb0-d77429ab055d",
   "metadata": {},
   "source": [
    "### Individual Channels"
   ]
  },
  {
   "cell_type": "code",
   "execution_count": null,
   "id": "4c70be96-62eb-4d13-a3a5-769f8fc90a14",
   "metadata": {},
   "outputs": [],
   "source": [
    "# Plot Channel TFR\n",
    "for chix, ch in enumerate(roi_tfr.ch_names):\n",
    "\n",
    "    plot_channel_tfr(roi_tfr, chix, ch, 'First Dot')"
   ]
  },
  {
   "cell_type": "markdown",
   "id": "891357a0-090b-4499-9040-4ee885f10f5a",
   "metadata": {
    "tags": []
   },
   "source": [
    "## dlPFC"
   ]
  },
  {
   "cell_type": "code",
   "execution_count": null,
   "id": "790858d6-f6fa-4891-a31a-d497b7c25ade",
   "metadata": {},
   "outputs": [],
   "source": [
    "dlpfc_list"
   ]
  },
  {
   "cell_type": "code",
   "execution_count": null,
   "id": "b77c4a72-a586-406a-90e1-ccaa64c7eea5",
   "metadata": {},
   "outputs": [],
   "source": [
    "# Only ROI\n",
    "first_dot_roi = first_dot_epochs.copy().pick_channels(dlpfc_list)\n"
   ]
  },
  {
   "cell_type": "code",
   "execution_count": null,
   "id": "4778649b-4f1d-498c-9110-95b26612028e",
   "metadata": {},
   "outputs": [],
   "source": [
    "# Resample to 1000 \n",
    "if first_dot_roi.info['sfreq'] > 1000:\n",
    "    first_dot_roi= first_dot_roi.resample(1000)"
   ]
  },
  {
   "cell_type": "code",
   "execution_count": null,
   "id": "f913f649-cc42-4ef7-95ca-4aa935b7bf5f",
   "metadata": {},
   "outputs": [],
   "source": [
    "# compute TRF\n",
    "\n",
    "roi_tfr = []\n",
    "roi_tfr = compute_TFR(first_dot_roi,freqs,n_cycles)"
   ]
  },
  {
   "cell_type": "code",
   "execution_count": null,
   "id": "94ce06b3-467d-4eff-9b66-b8315feba91c",
   "metadata": {},
   "outputs": [],
   "source": [
    "roi_tfr.crop(tmin = -1, tmax = 4)\n"
   ]
  },
  {
   "cell_type": "code",
   "execution_count": null,
   "id": "315f2fbc-7065-415b-9a68-f0513721a760",
   "metadata": {},
   "outputs": [],
   "source": [
    "# save TFRs\n",
    "\n",
    "roi_tfr.save(f\"/home/brooke/knight_server/remote/bstavel/pacman/preprocessing/{subject}/ieeg/first_dot/dlpfc-tfr.h5\", overwrite = True)"
   ]
  },
  {
   "cell_type": "code",
   "execution_count": null,
   "id": "3dc540d6-52bb-4b1f-a460-7b975d8f14d8",
   "metadata": {},
   "outputs": [],
   "source": [
    "# Log and zscore\n",
    "\n",
    "roi_tfr = log_and_zscore_TFR(roi_tfr, baseline = (-1,4), logflag=True)"
   ]
  },
  {
   "cell_type": "code",
   "execution_count": null,
   "id": "7126134b-44ad-4d15-b603-fdfa864d8b0e",
   "metadata": {},
   "outputs": [],
   "source": [
    "# Plot TFR\n",
    "plot_average_tfr(roi_tfr, f\"Average dlPFC TFR at First Dot, n={len(dlpfc_list)}\", subject, 'dlpfc_firstdot')"
   ]
  },
  {
   "cell_type": "markdown",
   "id": "42bf26c4-1a79-4b22-890d-aeb943620a6b",
   "metadata": {},
   "source": [
    "### Individual Channels"
   ]
  },
  {
   "cell_type": "code",
   "execution_count": null,
   "id": "4a240192-2c7d-4ebb-a77c-1c733ef39a33",
   "metadata": {},
   "outputs": [],
   "source": [
    "# Plot Channel TFR\n",
    "for chix, ch in enumerate(roi_tfr.ch_names):\n",
    "\n",
    "    plot_channel_tfr(roi_tfr, chix, ch, 'First Dot')"
   ]
  },
  {
   "cell_type": "markdown",
   "metadata": {},
   "source": [
    "## MFG"
   ]
  },
  {
   "cell_type": "code",
   "execution_count": null,
   "metadata": {},
   "outputs": [],
   "source": [
    "mfg_list"
   ]
  },
  {
   "cell_type": "code",
   "execution_count": null,
   "metadata": {},
   "outputs": [],
   "source": [
    "# Plot TFR\n",
    "tmp_tfr = roi_tfr.copy().pick_channels(mfg_list)\n",
    "plot_average_tfr(tmp_tfr, f\"Average MFG TFR at First Dot, n={len(mfg_list)}\", subject, 'mfg_firstdot')"
   ]
  },
  {
   "cell_type": "markdown",
   "metadata": {},
   "source": [
    "### Individual Channels"
   ]
  },
  {
   "cell_type": "code",
   "execution_count": null,
   "metadata": {},
   "outputs": [],
   "source": [
    "plt.rcParams['figure.figsize'] = [15, 11]\n",
    "\n",
    "for ch in mfg_list:\n",
    "    chix = dlpfc_list.index(ch)\n",
    "    plot_channel_tfr(roi_tfr, chix, ch, 'First Dot')\n",
    "    "
   ]
  },
  {
   "cell_type": "markdown",
   "metadata": {},
   "source": [
    "## SFG"
   ]
  },
  {
   "cell_type": "code",
   "execution_count": null,
   "metadata": {},
   "outputs": [],
   "source": [
    "sfg_list"
   ]
  },
  {
   "cell_type": "code",
   "execution_count": null,
   "metadata": {},
   "outputs": [],
   "source": [
    "# Plot TFR\n",
    "tmp_tfr = roi_tfr.copy().pick_channels(sfg_list)\n",
    "plot_average_tfr(tmp_tfr, f\"Average SFG TFR at First Dot, n={len(sfg_list)}\", subject, 'sfg_firstdot')"
   ]
  },
  {
   "cell_type": "markdown",
   "metadata": {},
   "source": [
    "### Individual Channels"
   ]
  },
  {
   "cell_type": "code",
   "execution_count": null,
   "metadata": {},
   "outputs": [],
   "source": [
    "plt.rcParams['figure.figsize'] = [15, 11]\n",
    "\n",
    "for ch in sfg_list:\n",
    "    chix = dlpfc_list.index(ch)\n",
    "    plot_channel_tfr(roi_tfr, chix, ch, 'First Dot')"
   ]
  },
  {
   "cell_type": "markdown",
   "id": "1b51ea5d-d2c8-429d-8fd8-899ff472f05c",
   "metadata": {
    "tags": []
   },
   "source": [
    "## Entorhinal Cortex"
   ]
  },
  {
   "cell_type": "code",
   "execution_count": null,
   "id": "c4af203a-73a8-430f-81c2-838974bb5461",
   "metadata": {},
   "outputs": [],
   "source": [
    "ec_list"
   ]
  },
  {
   "cell_type": "code",
   "execution_count": null,
   "id": "468aae76-5ee4-48fe-9976-ee007b8b41f9",
   "metadata": {},
   "outputs": [],
   "source": [
    "# Only ROI\n",
    "first_dot_roi = first_dot_epochs.copy().pick_channels(ec_list)"
   ]
  },
  {
   "cell_type": "code",
   "execution_count": null,
   "id": "f17d1b4e-0951-44c0-953c-c977d702252b",
   "metadata": {},
   "outputs": [],
   "source": [
    "# Resample to 1000 \n",
    "if first_dot_roi.info['sfreq'] > 1000:\n",
    "    first_dot_roi= first_dot_roi.resample(1000)"
   ]
  },
  {
   "cell_type": "code",
   "execution_count": null,
   "id": "de3e53fc-bf9c-4329-baa8-6bdc093a775c",
   "metadata": {},
   "outputs": [],
   "source": [
    "# compute TRF\n",
    "\n",
    "roi_tfr = []\n",
    "roi_tfr = compute_TFR(first_dot_roi,freqs,n_cycles)"
   ]
  },
  {
   "cell_type": "code",
   "execution_count": null,
   "id": "2727527e-0b9a-4b62-8546-81ec22cc28e0",
   "metadata": {},
   "outputs": [],
   "source": [
    "roi_tfr.crop(tmin = -1, tmax = 4)"
   ]
  },
  {
   "cell_type": "code",
   "execution_count": null,
   "id": "659cb1dc-3da3-419b-9cdd-0e6eb934bf6a",
   "metadata": {},
   "outputs": [],
   "source": [
    "# save TFRs\n",
    "\n",
    "roi_tfr.save(f\"/home/brooke/knight_server/remote/bstavel/pacman/preprocessing/{subject}/ieeg/first_dot/ec-tfr.h5\", overwrite = True)"
   ]
  },
  {
   "cell_type": "code",
   "execution_count": null,
   "id": "adc49615-ec0b-4f74-bb57-b862bc6d4579",
   "metadata": {},
   "outputs": [],
   "source": [
    "# Log and zscore\n",
    "\n",
    "roi_tfr = log_and_zscore_TFR(roi_tfr, baseline = (-1,4), logflag=True)"
   ]
  },
  {
   "cell_type": "code",
   "execution_count": null,
   "id": "bdd8e3f9-51e0-4026-9119-d42e4abf7675",
   "metadata": {},
   "outputs": [],
   "source": [
    "# Plot TFR\n",
    "plot_average_tfr(roi_tfr, f\"Average Entorhinal TFR at First Dot, n={len(ec_list)}\", subject, 'ec_firstdot')"
   ]
  },
  {
   "cell_type": "markdown",
   "id": "d5fce125-6fdf-44fc-889c-38ab175780db",
   "metadata": {},
   "source": [
    "### Individual Channels"
   ]
  },
  {
   "cell_type": "code",
   "execution_count": null,
   "id": "0e355011-1c86-4745-9109-c08f4cf37b63",
   "metadata": {},
   "outputs": [],
   "source": [
    "# Plot Channel TFR\n",
    "for chix, ch in enumerate(roi_tfr.ch_names):\n",
    "\n",
    "    plot_channel_tfr(roi_tfr, chix, ch, 'First Dot')"
   ]
  }
 ],
 "metadata": {
  "kernelspec": {
   "display_name": "ieeg_analysis2",
   "language": "python",
   "name": "python3"
  },
  "language_info": {
   "codemirror_mode": {
    "name": "ipython",
    "version": 3
   },
   "file_extension": ".py",
   "mimetype": "text/x-python",
   "name": "python",
   "nbconvert_exporter": "python",
   "pygments_lexer": "ipython3",
   "version": "3.9.18"
  }
 },
 "nbformat": 4,
 "nbformat_minor": 5
}

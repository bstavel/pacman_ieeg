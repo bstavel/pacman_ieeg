{
 "cells": [
  {
   "cell_type": "markdown",
   "id": "dd8fdc9d-95eb-42fe-abe1-80bb121b5d83",
   "metadata": {},
   "source": [
    "# Trial End ~ all frequencies: "
   ]
  },
  {
   "cell_type": "code",
   "execution_count": 15,
   "id": "b4cae23a-8d44-4df0-9b7a-3fcdc95e0e5c",
   "metadata": {},
   "outputs": [],
   "source": [
    "import matplotlib\n",
    "import matplotlib.pyplot as plt\n",
    "import pandas as pd\n",
    "import numpy as np\n",
    "from scipy import signal, stats\n",
    "import mat73\n",
    "import re\n",
    "from neurodsp.timefrequency import compute_wavelet_transform\n",
    "from BCI2kReader import BCI2kReader as b2k\n",
    "import os\n",
    "import mne\n",
    "from tabulate import tabulate\n",
    "import IPython\n",
    "import seaborn as sns\n",
    "import scipy\n",
    "import joblib\n",
    "import h5io\n",
    "import dask.array as da\n",
    "\n",
    "import statsmodels\n",
    "from statsmodels import stats\n",
    "from statsmodels.stats import multitest\n",
    "\n",
    "# Import required code for visualizing example models\n",
    "from fooof import FOOOF\n",
    "from fooof.sim.gen import gen_power_spectrum\n",
    "from fooof.sim.utils import set_random_seed\n",
    "from fooof.plts.spectra import plot_spectra\n",
    "from fooof.plts.annotate import plot_annotated_model\n",
    "from neurodsp.utils import create_times\n",
    "from neurodsp.plts.time_series import plot_time_series\n",
    "from neurodsp.spectral import compute_spectrum, rotate_powerlaw\n",
    "from neurodsp.plts.spectral import plot_power_spectra\n",
    "\n"
   ]
  },
  {
   "cell_type": "code",
   "execution_count": null,
   "id": "c48a9e35-5c6b-451d-a9f5-41305159b40a",
   "metadata": {
    "tags": []
   },
   "outputs": [],
   "source": [
    "## Prep paths ##\n",
    "\n",
    "subject = ''\n",
    "raw_data_dir = f\"/home/brooke/pacman/raw_data/{subject}\"\n",
    "preproc_data_dir = f\"/home/brooke/pacman/preprocessing/{subject}/ieeg\""
   ]
  },
  {
   "cell_type": "code",
   "execution_count": null,
   "id": "3f816ae7-8136-48c3-8218-48ac5650abe1",
   "metadata": {},
   "outputs": [],
   "source": [
    "## Load Neural Data\n",
    "\n",
    "# load\n",
    "trial_end_epochs = mne.read_epochs(f\"{preproc_data_dir}/{subject}_bp_clean_end-locked_ieeg.fif\")\n",
    "\n",
    "# get good epochs (for behavioral data only)\n",
    "good_epochs = [i for i,x in enumerate(trial_end_epochs.get_annotations_per_epoch()) if not x]\n",
    "bad_epochs = [i for i,x in enumerate(trial_end_epochs.get_annotations_per_epoch()) if  x]\n",
    "\n",
    "# load behavioral data\n",
    "trial_end_data = pd.read_csv(f\"{raw_data_dir}/behave/{subject}_died_events.csv\")\n",
    "\n",
    "# set info as metadata\n",
    "trial_end_epochs.metadata = trial_end_data\n",
    "\n",
    "# only good epochs\n",
    "trial_end_epochs = trial_end_epochs[good_epochs]"
   ]
  },
  {
   "cell_type": "code",
   "execution_count": null,
   "id": "8893e602-8a16-4617-a697-ad1669c99429",
   "metadata": {
    "tags": []
   },
   "outputs": [],
   "source": [
    "## Dictionary of electrode locations ##\n",
    "\n",
    "# Dictionary mapping ROI to elecs\n",
    "ROIs = {\n",
    "    'hc'     :[],\n",
    "    'ofc'    :[],\n",
    "    'amyg'   :[],\n",
    "    'cing'   :[],\n",
    "    'insula' :[],\n",
    "    'dlpfc' :[],\n",
    "    'ec' :[]\n",
    "}\n",
    "\n",
    "## prep lists\n",
    "\n",
    "# primary ROI\n",
    "hc_list = []\n",
    "hc_indices = []\n",
    "hc_names = []\n",
    "ofc_list = []\n",
    "ofc_indices = []\n",
    "ofc_names = []\n",
    "amyg_list = []\n",
    "amyg_names = [] \n",
    "amyg_indices = []\n",
    "cing_list = []\n",
    "cing_names = [] \n",
    "cing_indices = []\n",
    "\n",
    "# control ROI\n",
    "insula_list = []\n",
    "insula_names = []  \n",
    "insula_indices = []\n",
    "dlpfc_list = []\n",
    "dlpfc_names = []  \n",
    "dlpfc_indices = []\n",
    "ec_list = []\n",
    "ec_names = []  \n",
    "ec_indices = []\n",
    "\n",
    "# exclude bad ROI from list\n",
    "pairs_long_name = [ch.split('-') for ch in trial_end_epochs.info['ch_names']]\n",
    "bidx = len(trial_end_epochs.info['bads']) +1\n",
    "pairs_name = pairs_long_name[bidx:len(pairs_long_name)]\n",
    "\n",
    "# sort ROI into lists\n",
    "for ix in range(0, len(pairs_name)):\n",
    "    if pairs_name[ix][0] in ROIs['hc'] or pairs_name[ix][1] in ROIs['hc']:\n",
    "        hc_list.append(trial_end_epochs.info['ch_names'][ix + bidx])\n",
    "        hc_names.append(pairs_name[ix])\n",
    "        hc_indices.append(ix)\n",
    "    if pairs_name[ix][0] in ROIs['ofc'] or pairs_name[ix][1] in ROIs['ofc']:\n",
    "        ofc_list.append(trial_end_epochs.info['ch_names'][ix + bidx])\n",
    "        ofc_names.append(pairs_name[ix])\n",
    "        ofc_indices.append(ix)\n",
    "    if pairs_name[ix][0] in ROIs['amyg'] or pairs_name[ix][1] in ROIs['amyg']:\n",
    "        amyg_list.append(trial_end_epochs.info['ch_names'][ix + bidx])       \n",
    "        amyg_names.append(pairs_name[ix])\n",
    "        amyg_indices.append(ix)\n",
    "    if pairs_name[ix][0] in ROIs['cing'] or pairs_name[ix][1] in ROIs['cing']:\n",
    "        cing_list.append(trial_end_epochs.info['ch_names'][ix + bidx])       \n",
    "        cing_names.append(pairs_name[ix])\n",
    "        cing_indices.append(ix)\n",
    "        \n",
    "    # control roi\n",
    "    if pairs_name[ix][0] in ROIs['insula'] or pairs_name[ix][1] in ROIs['insula']:\n",
    "        insula_list.append(trial_end_epochs.info['ch_names'][ix + bidx])       \n",
    "        insula_names.append(pairs_name[ix])\n",
    "        insula_indices.append(ix)\n",
    "    if pairs_name[ix][0] in ROIs['dlpfc'] or pairs_name[ix][1] in ROIs['dlpfc']:\n",
    "        dlpfc_list.append(trial_end_epochs.info['ch_names'][ix + bidx])       \n",
    "        dlpfc_names.append(pairs_name[ix])\n",
    "        dlpfc_indices.append(ix)\n",
    "    if pairs_name[ix][0] in ROIs['ec'] or pairs_name[ix][1] in ROIs['ec']:\n",
    "        ec_list.append(trial_end_epochs.info['ch_names'][ix + bidx])       \n",
    "        ec_names.append(pairs_name[ix])\n",
    "        ec_indices.append(ix)        \n",
    "        "
   ]
  },
  {
   "cell_type": "code",
   "execution_count": 27,
   "id": "bce0d660-9909-4a44-8480-5978b9f6928d",
   "metadata": {},
   "outputs": [],
   "source": [
    "## funcions\n",
    "\n",
    "def MM_compute_TFR(epochs, freqs, n_cycles, baseline, zscore=True, workers = 8):\n",
    "    \"\"\" function to compute TFR via Morlet wavelets\n",
    "    \n",
    "    epochs:                     MNE epoch object with channels of interest\n",
    "    freqs:                      list of frequencies, should be log spaced\n",
    "    n_cycles:                   number of cycles, adjust with freqs to balance temporal and frequency resolution\n",
    "    baseline:                   tuple that specifies the time in seconds that baseline should be calculated on \n",
    "                                (should be 1-2s smaller than epoch TFR was calculated on to exclude artificats on morlet waves\n",
    "    zscore:                     boolean, if True zscores within trial and frequency band across the time window specified in baseline\n",
    "    workers:                    number of threads to use while calculating TFR\n",
    "    \"\"\"\n",
    "    print('computing TFR')\n",
    "    TFR = mne.time_frequency.tfr_morlet(epochs,freqs,n_cycles,return_itc=False,\n",
    "                                            average=False,  n_jobs = workers)\n",
    "    print('log transforming')\n",
    "    TFR.data = da.from_array(TFR.data, chunks=\"auto\")  # Convert the data to a Dask array\n",
    "    TFR.data = da.log(TFR.data)  # Compute the element-wise log\n",
    "\n",
    "    if zscore:\n",
    "        print('z-scoring to baseline')\n",
    "        bix = [a and b for a, b in zip(TFR.times >= baseline[0], TFR.times <= baseline[1])]\n",
    "        bmean = TFR.data[:, :, :, bix].mean(axis=(3), keepdims=True)\n",
    "        bstd = TFR.data[:, :, :, bix].std(axis=(3), keepdims=True)\n",
    "        TFR.data = (TFR.data - bmean) / bstd\n",
    "\n",
    "    TFR.data = TFR.data.compute()  # Convert the Dask array back to a NumPy array\n",
    "    return TFR\n",
    "\n",
    "def extract_freqs(lower_freq, higher_freq, freq_band, subdir, ROI, label, TFR, trials):\n",
    "    \"\"\" function to extract and average the across the freqs within a given band and save out to csvs\n",
    "    step is calculated based on getting ~4 samples per frequency cycle\n",
    "    \n",
    "    lower_freq, higher_freq:    non inclusive lower and upper bounds of the band\n",
    "    freq_band:                  band name, as a string\n",
    "    subdir:                     dir in sub/ieeg/ that specifies the time locking\n",
    "    ROI:                        region name, as a string\n",
    "    label:                      label, eg ghost, no ghost, choice locked etc, as a string\n",
    "    TFR:                        MNE TFR object\n",
    "    \"\"\"\n",
    "    \n",
    "    # calculate step, ## note I made this up, but it seems reasonable?\n",
    "    step = {\n",
    "        'delta'      : int(np.floor(TFR.info['sfreq']/(2*4))),\n",
    "        'theta'      : int(np.floor(TFR.info['sfreq']/(5*4))),\n",
    "        'alpha'      : int(np.floor(TFR.info['sfreq']/(11*4))),\n",
    "        'beta'       : int(np.floor(TFR.info['sfreq']/(22*4))),\n",
    "        'gamma'      : int(np.floor(TFR.info['sfreq']/(50*4))),\n",
    "        'hfa'        : int(np.floor(TFR.info['sfreq']/(110*4)))\n",
    "    }\n",
    "    \n",
    "    # check if it needs to be calculated with subbands\n",
    "    if freq_band == 'gamma' or freq_band == 'hfa':\n",
    "        \n",
    "        if TFR.info['sfreq'] < 1000:\n",
    "                                raise Exception('Sampling Rate is below 1000, should calculate gamma or HFA') \n",
    "        \n",
    "        subband_dict = {\n",
    "            'gamma'    : [(30, 40), (35, 45), (40, 50), (45, 55), (50, 60), (55, 65), (60, 70)],\n",
    "            'hfa'      : [(70, 90), (80, 100), (90, 110), (100, 120), (110, 130), (120, 140), (130, 150)]\n",
    "        }\n",
    "        \n",
    "        for chix in range(len(TFR.ch_names)):\n",
    "            subb_trial_power = []\n",
    "            for subb in subband_dict[freq_band]:\n",
    "                fidx = np.where((freqs > subb[0]) & (freqs < subb[1]))[0]\n",
    "                subb_trial_power.append(TFR.data[:, chix, fidx, :].mean(axis=1))\n",
    "            trial_power = np.mean(subb_trial_power, axis = 0)\n",
    "            channel_df = pd.DataFrame(trial_power[:, ::step[freq_band]])\n",
    "            channel_df[\"trial\"] = trials\n",
    "            channel_df.to_csv(f\"{preproc_data_dir}/{subdir}/{TFR.ch_names[chix]}_{ROI}_trial_{freq_band}_{label}.csv\")\n",
    "    \n",
    "    else:\n",
    "        fidx = np.where((freqs > lower_freq) & (freqs < higher_freq))[0]\n",
    "        for chix in range(len(TFR.ch_names)):\n",
    "            trial_power = TFR.data[:, chix, fidx, :].mean(axis=1)\n",
    "            channel_df = pd.DataFrame(trial_power[:, ::step[freq_band]])\n",
    "            channel_df[\"trial\"] = trials\n",
    "            channel_df.to_csv(f\"{preproc_data_dir}/{subdir}/{TFR.ch_names[chix]}_{ROI}_trial_{freq_band}_{label}.csv\")"
   ]
  },
  {
   "cell_type": "code",
   "execution_count": null,
   "id": "71f46b0b-cb29-472d-9272-83091d512382",
   "metadata": {},
   "outputs": [],
   "source": [
    "# Set frequencies\n",
    "\n",
    "freqs = np.logspace(start = np.log10(1), stop = np.log10(150), num = 80, base = 10, endpoint = True)\n",
    "n_cycles = np.logspace(np.log10(2), np.log10(30), base = 10, num = 80)\n",
    "\n",
    "# formulas to check bandwidth and time bin\n",
    "band_width = (freqs / n_cycles) * 2\n",
    "time_bin = n_cycles / freqs / np.pi\n",
    "print(freqs)\n",
    "print(n_cycles)\n",
    "print(time_bin)\n",
    "print(band_width)\n"
   ]
  },
  {
   "cell_type": "markdown",
   "id": "7de6eb5d-5215-4aca-903d-272be79343f5",
   "metadata": {},
   "source": [
    "# Main Regions of Interest"
   ]
  },
  {
   "cell_type": "markdown",
   "id": "b97e7e09-d76d-4667-a81a-13574f522100",
   "metadata": {
    "tags": []
   },
   "source": [
    "## Hippocampus"
   ]
  },
  {
   "cell_type": "code",
   "execution_count": null,
   "id": "f45e02f5-43ac-4518-a886-c0ae76e06f8e",
   "metadata": {},
   "outputs": [],
   "source": [
    "hc_list"
   ]
  },
  {
   "cell_type": "code",
   "execution_count": null,
   "id": "daccfa9e-745e-4d6b-9444-84c23a01eed4",
   "metadata": {},
   "outputs": [],
   "source": [
    "# only ROI of interest\n",
    "trial_end_roi = trial_end_epochs.copy().pick_channels(hc_list)\n"
   ]
  },
  {
   "cell_type": "code",
   "execution_count": null,
   "id": "83a5f686-4485-4585-a53f-1027b198a1ae",
   "metadata": {},
   "outputs": [],
   "source": [
    "# Resample to 1000 \n",
    "if trial_end_roi.info['sfreq'] > 1000:\n",
    "    trial_end_roi= trial_end_roi.resample(1000)"
   ]
  },
  {
   "cell_type": "code",
   "execution_count": null,
   "id": "569e59da-4043-4b67-99aa-ebab0a5d696d",
   "metadata": {},
   "outputs": [],
   "source": [
    "# compute TRF\n",
    "\n",
    "roi_end_TFR = []\n",
    "roi_end_TFR = MM_compute_TFR(trial_end_roi,freqs,n_cycles,baseline = (-2.5,2.5), zscore=True)\n"
   ]
  },
  {
   "cell_type": "code",
   "execution_count": null,
   "id": "98091a09-2dd1-4221-ad13-8af5bd67f4d8",
   "metadata": {},
   "outputs": [],
   "source": [
    "roi_end_TFR.crop(tmin = -2.5, tmax = 2.5)"
   ]
  },
  {
   "cell_type": "code",
   "execution_count": null,
   "id": "bf60e7ca-759a-4b81-89d8-cd33f88f5ff0",
   "metadata": {},
   "outputs": [],
   "source": [
    "# save TFRs\n",
    "\n",
    "roi_end_TFR.save(f\"/home/brooke/pacman/preprocessing/{subject}/ieeg/trial_end/hc-tfr.h5\")"
   ]
  },
  {
   "cell_type": "code",
   "execution_count": null,
   "id": "921d2e05-0269-48f2-b5f9-e97aea393998",
   "metadata": {},
   "outputs": [],
   "source": [
    "escape_TFR = roi_end_TFR['chase_trial == 0 & died == 0']\n",
    "chase_TFR = roi_end_TFR['chase_trial == 1']\n",
    "died_TFR = roi_end_TFR['died == 1']"
   ]
  },
  {
   "cell_type": "code",
   "execution_count": null,
   "id": "56813cb8-abce-467a-864c-5ae7f9ae3b00",
   "metadata": {},
   "outputs": [],
   "source": [
    "plt.rcParams['figure.figsize'] = [22, 20]\n",
    "plt.rcParams.update({'font.size': 18})\n",
    "\n",
    "\n",
    "fig, ax = plt.subplots(figsize = (22, 20))\n",
    "i = ax.imshow(escape_TFR.data.mean(axis = 0).mean(axis = 0), cmap = 'RdBu_r', interpolation=\"none\", origin=\"lower\", aspect = 'auto', extent=[-2.5, 2.5, freqs[0], freqs[-1]], vmin = -.2, vmax = .2)\n",
    "ax.set_yticks(np.linspace(np.min(escape_TFR.freqs),np.max(escape_TFR.freqs),len(escape_TFR.freqs)))\n",
    "ax.set_yticklabels(np.round(escape_TFR.freqs))\n",
    "bar = plt.colorbar(i)\n",
    "ax.set_title(f\"{subject}, Average Hippocampus, Escape, n={len(hc_list)}\", fontsize=22, fontweight = 'bold')\n",
    "fig.savefig(f'figures/{subject}_average_hc_escape.png', dpi=600)\n",
    "fig.show()\n",
    "\n",
    "fig, ax = plt.subplots(figsize = (22, 20))\n",
    "i = ax.imshow(chase_TFR.data.mean(axis = 0).mean(axis = 0), cmap = 'RdBu_r', interpolation=\"none\", origin=\"lower\", aspect = 'auto', extent=[-2, 2, freqs[0], freqs[-1]], vmin = -.2, vmax = .2)\n",
    "ax.set_yticks(np.linspace(np.min(chase_TFR.freqs),np.max(chase_TFR.freqs),len(chase_TFR.freqs)))\n",
    "ax.set_yticklabels(np.round(chase_TFR.freqs))\n",
    "bar = plt.colorbar(i)\n",
    "ax.set_title(f\"{subject}, Average Hippocampus, Chase, n={len(hc_list)}\", fontsize=22, fontweight = 'bold')\n",
    "fig.savefig(f'figures/{subject}_average_hc_chase.png', dpi=600)\n",
    "fig.show()\n",
    "\n",
    "\n",
    "fig, ax = plt.subplots(figsize = (22, 20))\n",
    "i = ax.imshow(died_TFR.data.mean(axis = 0).mean(axis = 0), cmap = 'RdBu_r', interpolation=\"none\", origin=\"lower\", aspect = 'auto', extent=[-2, 2, freqs[0], freqs[-1]], vmin = -.2, vmax = .2)\n",
    "ax.set_yticks(np.linspace(np.min(died_TFR.freqs),np.max(died_TFR.freqs),len(died_TFR.freqs)))\n",
    "ax.set_yticklabels(np.round(died_TFR.freqs))\n",
    "bar = plt.colorbar(i)\n",
    "ax.set_title(f\"{subject}, Average Hippocampus, Died, n={len(hc_list)}\", fontsize=22, fontweight = 'bold')\n",
    "fig.savefig(f'figures/{subject}_average_hc_died.png', dpi=600)\n",
    "fig.show()\n"
   ]
  },
  {
   "cell_type": "markdown",
   "id": "eb0fa12a-9ac1-411d-a105-f17782aae568",
   "metadata": {
    "tags": []
   },
   "source": [
    "## Individual Channels"
   ]
  },
  {
   "cell_type": "code",
   "execution_count": null,
   "id": "6bb80ef3-afad-49ad-a9aa-82ef761187e0",
   "metadata": {},
   "outputs": [],
   "source": [
    "plt.rcParams['figure.figsize'] = [14, 11]\n",
    "\n",
    "chix = 0\n",
    "for ch in roi_end_TFR.ch_names:\n",
    "\n",
    "    fig, ax = plt.subplots(figsize = (22, 20))\n",
    "    i = ax.imshow(escape_TFR.data[:, chix, :, :].mean(axis = 0), cmap = 'RdBu_r', interpolation=\"none\", origin=\"lower\", aspect = 'auto', extent=[-2.5, 2.5, freqs[0], freqs[-1]], vmin = -.4, vmax = .4)\n",
    "    ax.set_yticks(np.linspace(np.min(escape_TFR.freqs),np.max(escape_TFR.freqs),len(escape_TFR.freqs)))\n",
    "    ax.set_yticklabels(np.round(escape_TFR.freqs))\n",
    "    bar = plt.colorbar(i)\n",
    "    ax.set_title(f\"{ch}:  Escape\")\n",
    "    fig.show()\n",
    "    \n",
    "    fig, ax = plt.subplots(figsize = (22, 20))\n",
    "    i = ax.imshow(chase_TFR.data[:, chix, :, :].mean(axis = 0), cmap = 'RdBu_r', interpolation=\"none\", origin=\"lower\", aspect = 'auto', extent=[-2.5, 2.5, freqs[0], freqs[-1]], vmin = -.4, vmax = .4)\n",
    "    ax.set_yticks(np.linspace(np.min(chase_TFR.freqs),np.max(chase_TFR.freqs),len(chase_TFR.freqs)))\n",
    "    ax.set_yticklabels(np.round(chase_TFR.freqs))\n",
    "    bar = plt.colorbar(i)\n",
    "    ax.set_title(f\"{ch}:  Chase\")\n",
    "    fig.show()\n",
    "    \n",
    "    fig, ax = plt.subplots(figsize = (22, 20))\n",
    "    i = ax.imshow(died_TFR.data[:, chix, :, :].mean(axis = 0), cmap = 'RdBu_r', interpolation=\"none\", origin=\"lower\", aspect = 'auto', extent=[-2.5, 2.5, freqs[0], freqs[-1]], vmin = -.4, vmax = .4)\n",
    "    ax.set_yticks(np.linspace(np.min(died_TFR.freqs),np.max(died_TFR.freqs),len(died_TFR.freqs)))\n",
    "    ax.set_yticklabels(np.round(died_TFR.freqs))\n",
    "    bar = plt.colorbar(i)\n",
    "    ax.set_title(f\"{ch}:  Died\")\n",
    "    fig.show()\n",
    "    \n",
    "    chix = chix + 1"
   ]
  },
  {
   "cell_type": "markdown",
   "id": "53fdd5e5-2efc-4409-b769-8e1e5720a787",
   "metadata": {
    "tags": []
   },
   "source": [
    "## Export freq data locked to turn around time to csvs"
   ]
  },
  {
   "cell_type": "code",
   "execution_count": null,
   "id": "45fc60f3-22e0-4608-a7f1-df6edf87a59e",
   "metadata": {},
   "outputs": [],
   "source": [
    "# delta\n",
    "extract_freqs(1, 3, \"delta\", \"trial_end\", \"hc\", \"end_locked_ghost\", roi_end_TFR, good_epochs)\n",
    "# theta\n",
    "extract_freqs(3, 8, \"theta\", \"trial_end\", \"hc\", \"end_locked_ghost\", roi_end_TFR, good_epochs)\n",
    "# alpha\n",
    "extract_freqs(8, 13, \"alpha\", \"trial_end\", \"hc\", \"end_locked_ghost\", roi_end_TFR, good_epochs)\n",
    "# beta\n",
    "extract_freqs(13, 30, \"beta\", \"trial_end\", \"hc\", \"end_locked_ghost\", roi_end_TFR, good_epochs)\n",
    "# gamma\n",
    "extract_freqs(30, 70, \"gamma\", \"trial_end\", \"hc\", \"end_locked_ghost\", roi_end_TFR, good_epochs)\n",
    "# HFA\n",
    "extract_freqs(70, 150, \"hfa\", \"trial_end\", \"hc\", \"end_locked_ghost\", roi_end_TFR, good_epochs)\n"
   ]
  },
  {
   "cell_type": "markdown",
   "id": "9cda7ead-e472-4596-8f68-44f847b96f2b",
   "metadata": {
    "tags": []
   },
   "source": [
    "# OFC"
   ]
  },
  {
   "cell_type": "code",
   "execution_count": null,
   "id": "252bbb49-3458-4f41-b0bf-56f119b4f06c",
   "metadata": {},
   "outputs": [],
   "source": [
    "ofc_list"
   ]
  },
  {
   "cell_type": "code",
   "execution_count": null,
   "id": "d76c37e1-3822-47bc-b63d-3973e7c853ab",
   "metadata": {},
   "outputs": [],
   "source": [
    "# only roi of interest\n",
    "trial_end_roi = trial_end_epochs.copy().pick_channels(ofc_list)\n"
   ]
  },
  {
   "cell_type": "code",
   "execution_count": null,
   "id": "013b352f-9bf4-444a-a10e-8ef13542b1fe",
   "metadata": {},
   "outputs": [],
   "source": [
    "# Resample to 1000 \n",
    "if trial_end_roi.info['sfreq'] > 1000:\n",
    "    trial_end_roi= trial_end_roi.resample(1000)"
   ]
  },
  {
   "cell_type": "code",
   "execution_count": null,
   "id": "15631005-05e2-44f2-a3c0-8b1540eae611",
   "metadata": {},
   "outputs": [],
   "source": [
    "# compute TFR\n",
    "\n",
    "roi_end_TFR = []\n",
    "\n",
    "roi_end_TFR = MM_compute_TFR(trial_end_roi,freqs,n_cycles,baseline = (-2.5, 2.5), zscore=True)\n"
   ]
  },
  {
   "cell_type": "code",
   "execution_count": null,
   "id": "703ab9d3-3469-4606-b0ce-d5f17c27d9ea",
   "metadata": {},
   "outputs": [],
   "source": [
    "roi_end_TFR.crop(tmin = -2.5, tmax = 2.5)\n"
   ]
  },
  {
   "cell_type": "code",
   "execution_count": null,
   "id": "9b459512-35c7-4165-b94e-ad8904790e48",
   "metadata": {},
   "outputs": [],
   "source": [
    "# save TFRs\n",
    "\n",
    "roi_end_TFR.save(f\"/home/brooke/pacman/preprocessing/{subject}/ieeg/trial_end/ofc-tfr.h5\")"
   ]
  },
  {
   "cell_type": "code",
   "execution_count": 31,
   "id": "d67ec172-62bf-4fdf-9584-811f05e321c9",
   "metadata": {},
   "outputs": [],
   "source": [
    "escape_TFR = roi_end_TFR['chase_trial == 0 & died == 0']\n",
    "chase_TFR = roi_end_TFR['chase_trial == 1']\n",
    "died_TFR = roi_end_TFR['died == 1']"
   ]
  },
  {
   "cell_type": "code",
   "execution_count": null,
   "id": "d69b8ce6-ed62-4b94-8b48-fe0b6b8e324b",
   "metadata": {},
   "outputs": [],
   "source": [
    "plt.rcParams['figure.figsize'] = [22, 20]\n",
    "plt.rcParams.update({'font.size': 18})\n",
    "\n",
    "\n",
    "fig, ax = plt.subplots(figsize = (22, 20))\n",
    "i = ax.imshow(escape_TFR.data.mean(axis = 0).mean(axis = 0), cmap = 'RdBu_r', interpolation=\"none\", origin=\"lower\", aspect = 'auto', extent=[-2.5, 2.5, freqs[0], freqs[-1]], vmin = -.2, vmax = .2)\n",
    "ax.set_yticks(np.linspace(np.min(escape_TFR.freqs),np.max(escape_TFR.freqs),len(escape_TFR.freqs)))\n",
    "ax.set_yticklabels(np.round(escape_TFR.freqs))\n",
    "bar = plt.colorbar(i)\n",
    "ax.set_title(f\"{subject}, Average OFC, Escape, n={len(hc_list)}\", fontsize=22, fontweight = 'bold')\n",
    "fig.savefig(f'figures/{subject}_average_ofc_escape.png', dpi=600)\n",
    "fig.show()\n",
    "\n",
    "fig, ax = plt.subplots(figsize = (22, 20))\n",
    "i = ax.imshow(chase_TFR.data.mean(axis = 0).mean(axis = 0), cmap = 'RdBu_r', interpolation=\"none\", origin=\"lower\", aspect = 'auto', extent=[-2, 2, freqs[0], freqs[-1]], vmin = -.2, vmax = .2)\n",
    "ax.set_yticks(np.linspace(np.min(chase_TFR.freqs),np.max(chase_TFR.freqs),len(chase_TFR.freqs)))\n",
    "ax.set_yticklabels(np.round(chase_TFR.freqs))\n",
    "bar = plt.colorbar(i)\n",
    "ax.set_title(f\"{subject}, Average OFC, Chase, n={len(hc_list)}\", fontsize=22, fontweight = 'bold')\n",
    "fig.savefig(f'figures/{subject}_average_ofc_chase.png', dpi=600)\n",
    "fig.show()\n",
    "\n",
    "\n",
    "fig, ax = plt.subplots(figsize = (22, 20))\n",
    "i = ax.imshow(died_TFR.data.mean(axis = 0).mean(axis = 0), cmap = 'RdBu_r', interpolation=\"none\", origin=\"lower\", aspect = 'auto', extent=[-2, 2, freqs[0], freqs[-1]], vmin = -.2, vmax = .2)\n",
    "ax.set_yticks(np.linspace(np.min(died_TFR.freqs),np.max(died_TFR.freqs),len(died_TFR.freqs)))\n",
    "ax.set_yticklabels(np.round(died_TFR.freqs))\n",
    "bar = plt.colorbar(i)\n",
    "ax.set_title(f\"{subject}, Average OFC, Died, n={len(hc_list)}\", fontsize=22, fontweight = 'bold')\n",
    "fig.savefig(f'figures/{subject}_average_ofcc_died.png', dpi=600)\n",
    "fig.show()\n"
   ]
  },
  {
   "cell_type": "markdown",
   "id": "e7d3b462-cf31-47f4-bc10-ca8142a03bce",
   "metadata": {},
   "source": [
    "### Individual Channels"
   ]
  },
  {
   "cell_type": "code",
   "execution_count": null,
   "id": "7eb2dfdf-90c6-4580-8ca9-bb70675a69d9",
   "metadata": {
    "tags": []
   },
   "outputs": [],
   "source": [
    "plt.rcParams['figure.figsize'] = [14, 11]\n",
    "\n",
    "chix = 0\n",
    "for ch in roi_end_TFR.ch_names:\n",
    "\n",
    "    fig, ax = plt.subplots(figsize = (22, 20))\n",
    "    i = ax.imshow(escape_TFR.data[:, chix, :, :].mean(axis = 0), cmap = 'RdBu_r', interpolation=\"none\", origin=\"lower\", aspect = 'auto', extent=[-2.5, 2.5, freqs[0], freqs[-1]], vmin = -.4, vmax = .4)\n",
    "    ax.set_yticks(np.linspace(np.min(escape_TFR.freqs),np.max(escape_TFR.freqs),len(escape_TFR.freqs)))\n",
    "    ax.set_yticklabels(np.round(escape_TFR.freqs))\n",
    "    bar = plt.colorbar(i)\n",
    "    ax.set_title(f\"{ch}:  Escape\")\n",
    "    fig.show()\n",
    "    \n",
    "    fig, ax = plt.subplots(figsize = (22, 20))\n",
    "    i = ax.imshow(chase_TFR.data[:, chix, :, :].mean(axis = 0), cmap = 'RdBu_r', interpolation=\"none\", origin=\"lower\", aspect = 'auto', extent=[-2.5, 2.5, freqs[0], freqs[-1]], vmin = -.4, vmax = .4)\n",
    "    ax.set_yticks(np.linspace(np.min(chase_TFR.freqs),np.max(chase_TFR.freqs),len(chase_TFR.freqs)))\n",
    "    ax.set_yticklabels(np.round(chase_TFR.freqs))\n",
    "    bar = plt.colorbar(i)\n",
    "    ax.set_title(f\"{ch}:  Chase\")\n",
    "    fig.show()\n",
    "    \n",
    "    fig, ax = plt.subplots(figsize = (22, 20))\n",
    "    i = ax.imshow(died_TFR.data[:, chix, :, :].mean(axis = 0), cmap = 'RdBu_r', interpolation=\"none\", origin=\"lower\", aspect = 'auto', extent=[-2.5, 2.5, freqs[0], freqs[-1]], vmin = -.4, vmax = .4)\n",
    "    ax.set_yticks(np.linspace(np.min(died_TFR.freqs),np.max(died_TFR.freqs),len(died_TFR.freqs)))\n",
    "    ax.set_yticklabels(np.round(died_TFR.freqs))\n",
    "    bar = plt.colorbar(i)\n",
    "    ax.set_title(f\"{ch}:  Died\")\n",
    "    fig.show()\n",
    "    \n",
    "    chix = chix + 1"
   ]
  },
  {
   "cell_type": "markdown",
   "id": "2ffca24a-dc80-49ee-b1ec-fc67e5772a35",
   "metadata": {
    "tags": []
   },
   "source": [
    "### Export freq data locked to turn around time to csvs"
   ]
  },
  {
   "cell_type": "code",
   "execution_count": null,
   "id": "7aa24383-37b0-4170-be11-658995f2d6b9",
   "metadata": {},
   "outputs": [],
   "source": [
    "# delta\n",
    "extract_freqs(1, 3, \"delta\", \"trial_end\", \"ofc\", \"end_locked_ghost\", roi_end_TFR, good_epochs)\n",
    "# theta\n",
    "extract_freqs(3, 8, \"theta\", \"trial_end\", \"ofc\", \"end_locked_ghost\", roi_end_TFR, good_epochs)\n",
    "# alpha\n",
    "extract_freqs(8, 13, \"alpha\", \"trial_end\", \"ofc\", \"end_locked_ghost\", roi_end_TFR, good_epochs)\n",
    "# beta\n",
    "extract_freqs(13, 30, \"beta\", \"trial_end\", \"ofc\", \"end_locked_ghost\", roi_end_TFR, good_epochs)\n",
    "# gamma\n",
    "extract_freqs(30, 70, \"gamma\", \"trial_end\", \"ofc\", \"end_locked_ghost\", roi_end_TFR, good_epochs)\n",
    "# HFA\n",
    "extract_freqs(70, 150, \"hfa\", \"trial_end\", \"ofc\", \"end_locked_ghost\", roi_end_TFR, good_epochs)\n"
   ]
  },
  {
   "cell_type": "markdown",
   "id": "95f58545-b3ab-4e5e-8974-59b678a7037b",
   "metadata": {
    "tags": []
   },
   "source": [
    "# Amygdala"
   ]
  },
  {
   "cell_type": "code",
   "execution_count": null,
   "id": "b182f41c-471a-4322-93dd-502b4c24d439",
   "metadata": {},
   "outputs": [],
   "source": [
    "amyg_list"
   ]
  },
  {
   "cell_type": "code",
   "execution_count": null,
   "id": "de7aae76-05fd-426e-ab74-923f51b77f3c",
   "metadata": {},
   "outputs": [],
   "source": [
    "# only roi \n",
    "trial_end_roi = trial_end_epochs.copy().pick_channels(amyg_list)\n"
   ]
  },
  {
   "cell_type": "code",
   "execution_count": null,
   "id": "f4f6900b-a7a6-4797-b661-03c527da3f68",
   "metadata": {},
   "outputs": [],
   "source": [
    "# Resample to 1000 \n",
    "if trial_end_roi.info['sfreq'] > 1000:\n",
    "    trial_end_roi= trial_end_roi.resample(1000)"
   ]
  },
  {
   "cell_type": "code",
   "execution_count": null,
   "id": "1c19d7ca-7443-46cf-9388-16957a21c2e8",
   "metadata": {},
   "outputs": [],
   "source": [
    "# compute TFR\n",
    "roi_end_TFR = []\n",
    "\n",
    "roi_end_TFR = MM_compute_TFR(trial_end_roi,freqs,n_cycles,baseline = (-2.5, 2.5), zscore=True)\n"
   ]
  },
  {
   "cell_type": "code",
   "execution_count": null,
   "id": "536d73c7-2b7f-49ba-9038-f7e1e76cee41",
   "metadata": {},
   "outputs": [],
   "source": [
    "roi_end_TFR.crop(tmin = -2.5, tmax = 2.5)\n"
   ]
  },
  {
   "cell_type": "code",
   "execution_count": null,
   "id": "1962771a-5c07-4c7b-a221-ef3c1b248641",
   "metadata": {},
   "outputs": [],
   "source": [
    "# save TFRs\n",
    "\n",
    "roi_end_TFR.save(f\"/home/brooke/pacman/preprocessing/{subject}/ieeg/trial_end/amyg-tfr.h5\")"
   ]
  },
  {
   "cell_type": "code",
   "execution_count": 31,
   "id": "81607767-8f27-485b-a21e-b6d0f3619999",
   "metadata": {},
   "outputs": [],
   "source": [
    "escape_TFR = roi_end_TFR['chase_trial == 0 & died == 0']\n",
    "chase_TFR = roi_end_TFR['chase_trial == 1']\n",
    "died_TFR = roi_end_TFR['died == 1']"
   ]
  },
  {
   "cell_type": "code",
   "execution_count": null,
   "id": "c8a0f24c-5fdc-4747-b1a1-b5d4d542564f",
   "metadata": {},
   "outputs": [],
   "source": [
    "plt.rcParams['figure.figsize'] = [22, 20]\n",
    "plt.rcParams.update({'font.size': 18})\n",
    "\n",
    "\n",
    "fig, ax = plt.subplots(figsize = (22, 20))\n",
    "i = ax.imshow(escape_TFR.data.mean(axis = 0).mean(axis = 0), cmap = 'RdBu_r', interpolation=\"none\", origin=\"lower\", aspect = 'auto', extent=[-2.5, 2.5, freqs[0], freqs[-1]], vmin = -.2, vmax = .2)\n",
    "ax.set_yticks(np.linspace(np.min(escape_TFR.freqs),np.max(escape_TFR.freqs),len(escape_TFR.freqs)))\n",
    "ax.set_yticklabels(np.round(escape_TFR.freqs))\n",
    "bar = plt.colorbar(i)\n",
    "ax.set_title(f\"{subject}, Average Amygdala, Escape, n={len(hc_list)}\", fontsize=22, fontweight = 'bold')\n",
    "fig.savefig(f'figures/{subject}_average_amyg_escape.png', dpi=600)\n",
    "fig.show()\n",
    "\n",
    "fig, ax = plt.subplots(figsize = (22, 20))\n",
    "i = ax.imshow(chase_TFR.data.mean(axis = 0).mean(axis = 0), cmap = 'RdBu_r', interpolation=\"none\", origin=\"lower\", aspect = 'auto', extent=[-2, 2, freqs[0], freqs[-1]], vmin = -.2, vmax = .2)\n",
    "ax.set_yticks(np.linspace(np.min(chase_TFR.freqs),np.max(chase_TFR.freqs),len(chase_TFR.freqs)))\n",
    "ax.set_yticklabels(np.round(chase_TFR.freqs))\n",
    "bar = plt.colorbar(i)\n",
    "ax.set_title(f\"{subject}, Average Amygdala, Chase, n={len(hc_list)}\", fontsize=22, fontweight = 'bold')\n",
    "fig.savefig(f'figures/{subject}_average_amyg_chase.png', dpi=600)\n",
    "fig.show()\n",
    "\n",
    "\n",
    "fig, ax = plt.subplots(figsize = (22, 20))\n",
    "i = ax.imshow(died_TFR.data.mean(axis = 0).mean(axis = 0), cmap = 'RdBu_r', interpolation=\"none\", origin=\"lower\", aspect = 'auto', extent=[-2, 2, freqs[0], freqs[-1]], vmin = -.2, vmax = .2)\n",
    "ax.set_yticks(np.linspace(np.min(died_TFR.freqs),np.max(died_TFR.freqs),len(died_TFR.freqs)))\n",
    "ax.set_yticklabels(np.round(died_TFR.freqs))\n",
    "bar = plt.colorbar(i)\n",
    "ax.set_title(f\"{subject}, Average Amygdala, Died, n={len(hc_list)}\", fontsize=22, fontweight = 'bold')\n",
    "fig.savefig(f'figures/{subject}_average_amyg_died.png', dpi=600)\n",
    "fig.show()\n"
   ]
  },
  {
   "cell_type": "markdown",
   "id": "a01e399c-bc04-4de5-afad-7c77e2e4cfea",
   "metadata": {},
   "source": [
    "### Individual Channels"
   ]
  },
  {
   "cell_type": "code",
   "execution_count": null,
   "id": "5e9dc2ab-4485-4260-a1a4-4638280c46fe",
   "metadata": {},
   "outputs": [],
   "source": [
    "plt.rcParams['figure.figsize'] = [14, 11]\n",
    "\n",
    "chix = 0\n",
    "for ch in roi_end_TFR.ch_names:\n",
    "\n",
    "    fig, ax = plt.subplots(figsize = (22, 20))\n",
    "    i = ax.imshow(escape_TFR.data[:, chix, :, :].mean(axis = 0), cmap = 'RdBu_r', interpolation=\"none\", origin=\"lower\", aspect = 'auto', extent=[-2.5, 2.5, freqs[0], freqs[-1]], vmin = -.4, vmax = .4)\n",
    "    ax.set_yticks(np.linspace(np.min(escape_TFR.freqs),np.max(escape_TFR.freqs),len(escape_TFR.freqs)))\n",
    "    ax.set_yticklabels(np.round(escape_TFR.freqs))\n",
    "    bar = plt.colorbar(i)\n",
    "    ax.set_title(f\"{ch}:  Escape\")\n",
    "    fig.show()\n",
    "    \n",
    "    fig, ax = plt.subplots(figsize = (22, 20))\n",
    "    i = ax.imshow(chase_TFR.data[:, chix, :, :].mean(axis = 0), cmap = 'RdBu_r', interpolation=\"none\", origin=\"lower\", aspect = 'auto', extent=[-2.5, 2.5, freqs[0], freqs[-1]], vmin = -.4, vmax = .4)\n",
    "    ax.set_yticks(np.linspace(np.min(chase_TFR.freqs),np.max(chase_TFR.freqs),len(chase_TFR.freqs)))\n",
    "    ax.set_yticklabels(np.round(chase_TFR.freqs))\n",
    "    bar = plt.colorbar(i)\n",
    "    ax.set_title(f\"{ch}:  Chase\")\n",
    "    fig.show()\n",
    "    \n",
    "    fig, ax = plt.subplots(figsize = (22, 20))\n",
    "    i = ax.imshow(died_TFR.data[:, chix, :, :].mean(axis = 0), cmap = 'RdBu_r', interpolation=\"none\", origin=\"lower\", aspect = 'auto', extent=[-2.5, 2.5, freqs[0], freqs[-1]], vmin = -.4, vmax = .4)\n",
    "    ax.set_yticks(np.linspace(np.min(died_TFR.freqs),np.max(died_TFR.freqs),len(died_TFR.freqs)))\n",
    "    ax.set_yticklabels(np.round(died_TFR.freqs))\n",
    "    bar = plt.colorbar(i)\n",
    "    ax.set_title(f\"{ch}:  Died\")\n",
    "    fig.show()\n",
    "    \n",
    "    chix = chix + 1"
   ]
  },
  {
   "cell_type": "markdown",
   "id": "d6df8072-7f6e-454a-8645-1b4c79db959c",
   "metadata": {
    "tags": []
   },
   "source": [
    "### Export freq data locked to turn around time to csvs"
   ]
  },
  {
   "cell_type": "code",
   "execution_count": null,
   "id": "2ea52dc2-b116-4237-b56c-064db2753d48",
   "metadata": {},
   "outputs": [],
   "source": [
    "# delta\n",
    "extract_freqs(1, 3, \"delta\", \"trial_end\", \"amyg\", \"end_locked_ghost\", roi_end_TFR, good_epochs)\n",
    "# theta\n",
    "extract_freqs(3, 8, \"theta\", \"trial_end\", \"amyg\", \"end_locked_ghost\", roi_end_TFR, good_epochs)\n",
    "# alpha\n",
    "extract_freqs(8, 13, \"alpha\", \"trial_end\", \"amyg\", \"end_locked_ghost\", roi_end_TFR, good_epochs)\n",
    "# beta\n",
    "extract_freqs(13, 30, \"beta\", \"trial_end\", \"amyg\", \"end_locked_ghost\", roi_end_TFR, good_epochs)\n",
    "# gamma\n",
    "extract_freqs(30, 70, \"gamma\", \"trial_end\", \"amyg\", \"end_locked_ghost\", roi_end_TFR, good_epochs)\n",
    "# HFA\n",
    "extract_freqs(70, 150, \"hfa\", \"trial_end\", \"amyg\", \"end_locked_ghost\", roi_end_TFR, good_epochs)"
   ]
  },
  {
   "cell_type": "markdown",
   "id": "c6b75852-eae0-46eb-a5bb-da79cac9ad18",
   "metadata": {
    "tags": []
   },
   "source": [
    "## Cingulate"
   ]
  },
  {
   "cell_type": "code",
   "execution_count": null,
   "id": "92508acd-9948-49c5-a5cd-47ee0bf3c417",
   "metadata": {},
   "outputs": [],
   "source": [
    "cing_list"
   ]
  },
  {
   "cell_type": "code",
   "execution_count": null,
   "id": "a078dd7c-2bde-4f04-b14f-5992a07cb284",
   "metadata": {},
   "outputs": [],
   "source": [
    "# only roi \n",
    "trial_end_roi = trial_end_epochs.copy().pick_channels(cing_list)\n"
   ]
  },
  {
   "cell_type": "code",
   "execution_count": null,
   "id": "4f70ba0a-722f-4e74-b6a1-9943d40c3747",
   "metadata": {},
   "outputs": [],
   "source": [
    "# Resample to 1000 \n",
    "if trial_end_roi.info['sfreq'] > 1000:\n",
    "    trial_end_roi= trial_end_roi.resample(1000)"
   ]
  },
  {
   "cell_type": "code",
   "execution_count": null,
   "id": "bcdab97c-8708-4113-baad-44695bb5476d",
   "metadata": {},
   "outputs": [],
   "source": [
    "# Compute TFR\n",
    "\n",
    "roi_end_TFR = []\n",
    "\n",
    "roi_end_TFR = MM_compute_TFR(trial_end_roi,freqs,n_cycles,baseline = (-2.5, 2.5), zscore=True)\n"
   ]
  },
  {
   "cell_type": "code",
   "execution_count": null,
   "id": "74c8573a-40e7-48e3-bd53-810a9c3bbc68",
   "metadata": {},
   "outputs": [],
   "source": [
    "roi_end_TFR.crop(tmin = -2.5, tmax = 2.5)\n"
   ]
  },
  {
   "cell_type": "code",
   "execution_count": null,
   "id": "15eacf41-e203-4954-ab26-48543dc06caa",
   "metadata": {},
   "outputs": [],
   "source": [
    "# save TFRs\n",
    "\n",
    "roi_end_TFR.save(f\"/home/brooke/pacman/preprocessing/{subject}/ieeg/trial_end/cing-tfr.h5\")"
   ]
  },
  {
   "cell_type": "code",
   "execution_count": 31,
   "id": "f32ca612-1663-4c6a-a068-1810299b4871",
   "metadata": {},
   "outputs": [],
   "source": [
    "escape_TFR = roi_end_TFR['chase_trial == 0 & died == 0']\n",
    "chase_TFR = roi_end_TFR['chase_trial == 1']\n",
    "died_TFR = roi_end_TFR['died == 1']"
   ]
  },
  {
   "cell_type": "code",
   "execution_count": null,
   "id": "24b5a48c-de71-4e1e-89ca-72e588384a57",
   "metadata": {},
   "outputs": [],
   "source": [
    "plt.rcParams['figure.figsize'] = [22, 20]\n",
    "plt.rcParams.update({'font.size': 18})\n",
    "\n",
    "\n",
    "fig, ax = plt.subplots(figsize = (22, 20))\n",
    "i = ax.imshow(escape_TFR.data.mean(axis = 0).mean(axis = 0), cmap = 'RdBu_r', interpolation=\"none\", origin=\"lower\", aspect = 'auto', extent=[-2.5, 2.5, freqs[0], freqs[-1]], vmin = -.2, vmax = .2)\n",
    "ax.set_yticks(np.linspace(np.min(escape_TFR.freqs),np.max(escape_TFR.freqs),len(escape_TFR.freqs)))\n",
    "ax.set_yticklabels(np.round(escape_TFR.freqs))\n",
    "bar = plt.colorbar(i)\n",
    "ax.set_title(f\"{subject}, Average Cingulate, Escape, n={len(hc_list)}\", fontsize=22, fontweight = 'bold')\n",
    "fig.savefig(f'figures/{subject}_average_cing_escape.png', dpi=600)\n",
    "fig.show()\n",
    "\n",
    "fig, ax = plt.subplots(figsize = (22, 20))\n",
    "i = ax.imshow(chase_TFR.data.mean(axis = 0).mean(axis = 0), cmap = 'RdBu_r', interpolation=\"none\", origin=\"lower\", aspect = 'auto', extent=[-2, 2, freqs[0], freqs[-1]], vmin = -.2, vmax = .2)\n",
    "ax.set_yticks(np.linspace(np.min(chase_TFR.freqs),np.max(chase_TFR.freqs),len(chase_TFR.freqs)))\n",
    "ax.set_yticklabels(np.round(chase_TFR.freqs))\n",
    "bar = plt.colorbar(i)\n",
    "ax.set_title(f\"{subject}, Average Cingulate, Chase, n={len(hc_list)}\", fontsize=22, fontweight = 'bold')\n",
    "fig.savefig(f'figures/{subject}_average_cing_chase.png', dpi=600)\n",
    "fig.show()\n",
    "\n",
    "\n",
    "fig, ax = plt.subplots(figsize = (22, 20))\n",
    "i = ax.imshow(died_TFR.data.mean(axis = 0).mean(axis = 0), cmap = 'RdBu_r', interpolation=\"none\", origin=\"lower\", aspect = 'auto', extent=[-2, 2, freqs[0], freqs[-1]], vmin = -.2, vmax = .2)\n",
    "ax.set_yticks(np.linspace(np.min(died_TFR.freqs),np.max(died_TFR.freqs),len(died_TFR.freqs)))\n",
    "ax.set_yticklabels(np.round(died_TFR.freqs))\n",
    "bar = plt.colorbar(i)\n",
    "ax.set_title(f\"{subject}, Average Cingulate, Died, n={len(hc_list)}\", fontsize=22, fontweight = 'bold')\n",
    "fig.savefig(f'figures/{subject}_average_cing_died.png', dpi=600)\n",
    "fig.show()\n"
   ]
  },
  {
   "cell_type": "markdown",
   "id": "60019ff3-acb5-49c2-ab3f-7643fb7c2396",
   "metadata": {},
   "source": [
    "### Individual Channels"
   ]
  },
  {
   "cell_type": "code",
   "execution_count": null,
   "id": "f3b09e5a-822e-4faa-9f1f-b82bedf15f75",
   "metadata": {},
   "outputs": [],
   "source": [
    "plt.rcParams['figure.figsize'] = [14, 11]\n",
    "\n",
    "chix = 0\n",
    "for ch in roi_end_TFR.ch_names:\n",
    "\n",
    "    fig, ax = plt.subplots(figsize = (22, 20))\n",
    "    i = ax.imshow(escape_TFR.data[:, chix, :, :].mean(axis = 0), cmap = 'RdBu_r', interpolation=\"none\", origin=\"lower\", aspect = 'auto', extent=[-2.5, 2.5, freqs[0], freqs[-1]], vmin = -.4, vmax = .4)\n",
    "    ax.set_yticks(np.linspace(np.min(escape_TFR.freqs),np.max(escape_TFR.freqs),len(escape_TFR.freqs)))\n",
    "    ax.set_yticklabels(np.round(escape_TFR.freqs))\n",
    "    bar = plt.colorbar(i)\n",
    "    ax.set_title(f\"{ch}:  Escape\")\n",
    "    fig.show()\n",
    "    \n",
    "    fig, ax = plt.subplots(figsize = (22, 20))\n",
    "    i = ax.imshow(chase_TFR.data[:, chix, :, :].mean(axis = 0), cmap = 'RdBu_r', interpolation=\"none\", origin=\"lower\", aspect = 'auto', extent=[-2.5, 2.5, freqs[0], freqs[-1]], vmin = -.4, vmax = .4)\n",
    "    ax.set_yticks(np.linspace(np.min(chase_TFR.freqs),np.max(chase_TFR.freqs),len(chase_TFR.freqs)))\n",
    "    ax.set_yticklabels(np.round(chase_TFR.freqs))\n",
    "    bar = plt.colorbar(i)\n",
    "    ax.set_title(f\"{ch}:  Chase\")\n",
    "    fig.show()\n",
    "    \n",
    "    fig, ax = plt.subplots(figsize = (22, 20))\n",
    "    i = ax.imshow(died_TFR.data[:, chix, :, :].mean(axis = 0), cmap = 'RdBu_r', interpolation=\"none\", origin=\"lower\", aspect = 'auto', extent=[-2.5, 2.5, freqs[0], freqs[-1]], vmin = -.4, vmax = .4)\n",
    "    ax.set_yticks(np.linspace(np.min(died_TFR.freqs),np.max(died_TFR.freqs),len(died_TFR.freqs)))\n",
    "    ax.set_yticklabels(np.round(died_TFR.freqs))\n",
    "    bar = plt.colorbar(i)\n",
    "    ax.set_title(f\"{ch}:  Died\")\n",
    "    fig.show()\n",
    "    \n",
    "    chix = chix + 1"
   ]
  },
  {
   "cell_type": "markdown",
   "id": "0f0d1a10-f76f-4ef9-9ec9-bd6878a5bfc8",
   "metadata": {
    "tags": []
   },
   "source": [
    "### Export freq data locked to turn around time to csvs"
   ]
  },
  {
   "cell_type": "code",
   "execution_count": null,
   "id": "e8ecfb8a-0417-4c85-96a2-c03cb85c88f9",
   "metadata": {},
   "outputs": [],
   "source": [
    "# delta\n",
    "extract_freqs(1, 3, \"delta\", \"trial_end\", \"cing\", \"end_locked_ghost\", roi_end_TFR, good_epochs)\n",
    "# theta\n",
    "extract_freqs(3, 8, \"theta\", \"trial_end\", \"cing\", \"end_locked_ghost\", roi_end_TFR, good_epochs)\n",
    "# alpha\n",
    "extract_freqs(8, 13, \"alpha\", \"trial_end\", \"cing\", \"end_locked_ghost\", roi_end_TFR, good_epochs)\n",
    "# beta\n",
    "extract_freqs(13, 30, \"beta\", \"trial_end\", \"cing\", \"end_locked_ghost\", roi_end_TFR, good_epochs)\n",
    "# gamma\n",
    "extract_freqs(30, 70, \"gamma\", \"trial_end\", \"cing\", \"end_locked_ghost\", roi_end_TFR, good_epochs)\n",
    "# HFA\n",
    "extract_freqs(70, 150, \"hfa\", \"trial_end\", \"cing\", \"end_locked_ghost\", roi_end_TFR, good_epochs)"
   ]
  },
  {
   "cell_type": "markdown",
   "id": "7d20ef33-bde5-4791-81d8-dd08cb365238",
   "metadata": {},
   "source": [
    "# Control Regions"
   ]
  },
  {
   "cell_type": "markdown",
   "id": "21495e34-6407-4cc9-804d-313c1168172f",
   "metadata": {
    "tags": []
   },
   "source": [
    "## Insula"
   ]
  },
  {
   "cell_type": "code",
   "execution_count": null,
   "id": "38740841-aa8b-4913-9eb6-6df8a3a749d9",
   "metadata": {},
   "outputs": [],
   "source": [
    "insula_list"
   ]
  },
  {
   "cell_type": "code",
   "execution_count": null,
   "id": "32f29f2a-789f-4825-9ee8-33a7de17971a",
   "metadata": {},
   "outputs": [],
   "source": [
    "# Only ROI\n",
    "trial_end_roi = trial_end_epochs.copy().pick_channels(insula_list)\n"
   ]
  },
  {
   "cell_type": "code",
   "execution_count": null,
   "id": "160301c8-b2ad-4278-851f-c9721c3d3244",
   "metadata": {},
   "outputs": [],
   "source": [
    "# Resample to 1000 \n",
    "if trial_end_roi.info['sfreq'] > 1000:\n",
    "    trial_end_roi= trial_end_roi.resample(1000)"
   ]
  },
  {
   "cell_type": "code",
   "execution_count": null,
   "id": "5db41484-8268-45fe-9cb7-08d3a83b20ca",
   "metadata": {},
   "outputs": [],
   "source": [
    "# Compute TFR\n",
    "roi_end_TFR = []\n",
    "\n",
    "roi_end_TFR = MM_compute_TFR(trial_end_roi,freqs,n_cycles,baseline = (-2.5, 2.5), zscore=True)\n"
   ]
  },
  {
   "cell_type": "code",
   "execution_count": null,
   "id": "fe4d6986-c3c3-4540-996d-2202e2c7e0ae",
   "metadata": {},
   "outputs": [],
   "source": [
    "roi_end_TFR.crop(tmin = -2.5, tmax = 2.5)\n"
   ]
  },
  {
   "cell_type": "code",
   "execution_count": null,
   "id": "8de4e195-b16b-42b2-974f-34c9ad6c7eaf",
   "metadata": {},
   "outputs": [],
   "source": [
    "# save TFRs\n",
    "\n",
    "roi_end_TFR.save(f\"/home/brooke/pacman/preprocessing/{subject}/ieeg/trial_end/insula-tfr.h5\")"
   ]
  },
  {
   "cell_type": "code",
   "execution_count": 31,
   "id": "0b3e5832-a1cc-482d-9af8-681254ec10b4",
   "metadata": {},
   "outputs": [],
   "source": [
    "escape_TFR = roi_end_TFR['chase_trial == 0 & died == 0']\n",
    "chase_TFR = roi_end_TFR['chase_trial == 1']\n",
    "died_TFR = roi_end_TFR['died == 1']"
   ]
  },
  {
   "cell_type": "code",
   "execution_count": null,
   "id": "c7974df9-0982-4e2f-a5e8-6523adea6fe4",
   "metadata": {},
   "outputs": [],
   "source": [
    "plt.rcParams['figure.figsize'] = [22, 20]\n",
    "plt.rcParams.update({'font.size': 18})\n",
    "\n",
    "\n",
    "fig, ax = plt.subplots(figsize = (22, 20))\n",
    "i = ax.imshow(escape_TFR.data.mean(axis = 0).mean(axis = 0), cmap = 'RdBu_r', interpolation=\"none\", origin=\"lower\", aspect = 'auto', extent=[-2.5, 2.5, freqs[0], freqs[-1]], vmin = -.2, vmax = .2)\n",
    "ax.set_yticks(np.linspace(np.min(escape_TFR.freqs),np.max(escape_TFR.freqs),len(escape_TFR.freqs)))\n",
    "ax.set_yticklabels(np.round(escape_TFR.freqs))\n",
    "bar = plt.colorbar(i)\n",
    "ax.set_title(f\"{subject}, Average Insula, Escape, n={len(hc_list)}\", fontsize=22, fontweight = 'bold')\n",
    "fig.savefig(f'figures/{subject}_average_insula_escape.png', dpi=600)\n",
    "fig.show()\n",
    "\n",
    "fig, ax = plt.subplots(figsize = (22, 20))\n",
    "i = ax.imshow(chase_TFR.data.mean(axis = 0).mean(axis = 0), cmap = 'RdBu_r', interpolation=\"none\", origin=\"lower\", aspect = 'auto', extent=[-2, 2, freqs[0], freqs[-1]], vmin = -.2, vmax = .2)\n",
    "ax.set_yticks(np.linspace(np.min(chase_TFR.freqs),np.max(chase_TFR.freqs),len(chase_TFR.freqs)))\n",
    "ax.set_yticklabels(np.round(chase_TFR.freqs))\n",
    "bar = plt.colorbar(i)\n",
    "ax.set_title(f\"{subject}, Average Insula, Chase, n={len(hc_list)}\", fontsize=22, fontweight = 'bold')\n",
    "fig.savefig(f'figures/{subject}_average_insula_chase.png', dpi=600)\n",
    "fig.show()\n",
    "\n",
    "\n",
    "fig, ax = plt.subplots(figsize = (22, 20))\n",
    "i = ax.imshow(died_TFR.data.mean(axis = 0).mean(axis = 0), cmap = 'RdBu_r', interpolation=\"none\", origin=\"lower\", aspect = 'auto', extent=[-2, 2, freqs[0], freqs[-1]], vmin = -.2, vmax = .2)\n",
    "ax.set_yticks(np.linspace(np.min(died_TFR.freqs),np.max(died_TFR.freqs),len(died_TFR.freqs)))\n",
    "ax.set_yticklabels(np.round(died_TFR.freqs))\n",
    "bar = plt.colorbar(i)\n",
    "ax.set_title(f\"{subject}, Average Insula, Died, n={len(hc_list)}\", fontsize=22, fontweight = 'bold')\n",
    "fig.savefig(f'figures/{subject}_average_insula_died.png', dpi=600)\n",
    "fig.show()\n"
   ]
  },
  {
   "cell_type": "markdown",
   "id": "686d0db5-7514-46e4-9eb0-d77429ab055d",
   "metadata": {},
   "source": [
    "### Individual Channels"
   ]
  },
  {
   "cell_type": "code",
   "execution_count": null,
   "id": "4c70be96-62eb-4d13-a3a5-769f8fc90a14",
   "metadata": {},
   "outputs": [],
   "source": [
    "plt.rcParams['figure.figsize'] = [14, 11]\n",
    "\n",
    "chix = 0\n",
    "for ch in roi_end_TFR.ch_names:\n",
    "\n",
    "    fig, ax = plt.subplots(figsize = (22, 20))\n",
    "    i = ax.imshow(escape_TFR.data[:, chix, :, :].mean(axis = 0), cmap = 'RdBu_r', interpolation=\"none\", origin=\"lower\", aspect = 'auto', extent=[-2.5, 2.5, freqs[0], freqs[-1]], vmin = -.4, vmax = .4)\n",
    "    ax.set_yticks(np.linspace(np.min(escape_TFR.freqs),np.max(escape_TFR.freqs),len(escape_TFR.freqs)))\n",
    "    ax.set_yticklabels(np.round(escape_TFR.freqs))\n",
    "    bar = plt.colorbar(i)\n",
    "    ax.set_title(f\"{ch}:  Escape\")\n",
    "    fig.show()\n",
    "    \n",
    "    fig, ax = plt.subplots(figsize = (22, 20))\n",
    "    i = ax.imshow(chase_TFR.data[:, chix, :, :].mean(axis = 0), cmap = 'RdBu_r', interpolation=\"none\", origin=\"lower\", aspect = 'auto', extent=[-2.5, 2.5, freqs[0], freqs[-1]], vmin = -.4, vmax = .4)\n",
    "    ax.set_yticks(np.linspace(np.min(chase_TFR.freqs),np.max(chase_TFR.freqs),len(chase_TFR.freqs)))\n",
    "    ax.set_yticklabels(np.round(chase_TFR.freqs))\n",
    "    bar = plt.colorbar(i)\n",
    "    ax.set_title(f\"{ch}:  Chase\")\n",
    "    fig.show()\n",
    "    \n",
    "    fig, ax = plt.subplots(figsize = (22, 20))\n",
    "    i = ax.imshow(died_TFR.data[:, chix, :, :].mean(axis = 0), cmap = 'RdBu_r', interpolation=\"none\", origin=\"lower\", aspect = 'auto', extent=[-2.5, 2.5, freqs[0], freqs[-1]], vmin = -.4, vmax = .4)\n",
    "    ax.set_yticks(np.linspace(np.min(died_TFR.freqs),np.max(died_TFR.freqs),len(died_TFR.freqs)))\n",
    "    ax.set_yticklabels(np.round(died_TFR.freqs))\n",
    "    bar = plt.colorbar(i)\n",
    "    ax.set_title(f\"{ch}:  Died\")\n",
    "    fig.show()\n",
    "    \n",
    "    chix = chix + 1"
   ]
  },
  {
   "cell_type": "markdown",
   "id": "55a15745-13ff-4fb6-957b-91af7dbe492b",
   "metadata": {
    "tags": []
   },
   "source": [
    "### Export freq data locked to turn around time to csvs"
   ]
  },
  {
   "cell_type": "code",
   "execution_count": null,
   "id": "6c1fbd64-b96f-4402-a6f1-e02ad8dbe950",
   "metadata": {},
   "outputs": [],
   "source": [
    "# delta\n",
    "extract_freqs(1, 3, \"delta\", \"trial_end\", \"insula\", \"end_locked_ghost\", roi_end_TFR, good_epochs)\n",
    "# theta\n",
    "extract_freqs(3, 8, \"theta\", \"trial_end\", \"insula\", \"end_locked_ghost\", roi_end_TFR, good_epochs)\n",
    "# alpha\n",
    "extract_freqs(8, 13, \"alpha\", \"trial_end\", \"insula\", \"end_locked_ghost\", roi_end_TFR, good_epochs)\n",
    "# beta\n",
    "extract_freqs(13, 30, \"beta\", \"trial_end\", \"insula\", \"end_locked_ghost\", roi_end_TFR, good_epochs)\n",
    "# gamma\n",
    "extract_freqs(30, 70, \"gamma\", \"trial_end\", \"insula\", \"end_locked_ghost\", roi_end_TFR, good_epochs)\n",
    "# HFA\n",
    "extract_freqs(70, 150, \"hfa\", \"trial_end\", \"insula\", \"end_locked_ghost\", roi_end_TFR, good_epochs)"
   ]
  },
  {
   "cell_type": "markdown",
   "id": "891357a0-090b-4499-9040-4ee885f10f5a",
   "metadata": {
    "tags": []
   },
   "source": [
    "## dlPFC"
   ]
  },
  {
   "cell_type": "code",
   "execution_count": null,
   "id": "790858d6-f6fa-4891-a31a-d497b7c25ade",
   "metadata": {},
   "outputs": [],
   "source": [
    "dlpfc_list"
   ]
  },
  {
   "cell_type": "code",
   "execution_count": null,
   "id": "b77c4a72-a586-406a-90e1-ccaa64c7eea5",
   "metadata": {},
   "outputs": [],
   "source": [
    "# Only ROI\n",
    "trial_end_roi = trial_end_epochs.copy().pick_channels(dlpfc_list)\n"
   ]
  },
  {
   "cell_type": "code",
   "execution_count": null,
   "id": "4778649b-4f1d-498c-9110-95b26612028e",
   "metadata": {},
   "outputs": [],
   "source": [
    "# Resample to 1000 \n",
    "if trial_end_roi.info['sfreq'] > 1000:\n",
    "    trial_end_roi= trial_end_roi.resample(1000)"
   ]
  },
  {
   "cell_type": "code",
   "execution_count": null,
   "id": "f913f649-cc42-4ef7-95ca-4aa935b7bf5f",
   "metadata": {},
   "outputs": [],
   "source": [
    "# Compute TFR\n",
    "roi_end_TFR = []\n",
    "\n",
    "roi_end_TFR = MM_compute_TFR(trial_end_roi,freqs,n_cycles,baseline = (-2.5, 2.5), zscore=True)"
   ]
  },
  {
   "cell_type": "code",
   "execution_count": null,
   "id": "94ce06b3-467d-4eff-9b66-b8315feba91c",
   "metadata": {},
   "outputs": [],
   "source": [
    "roi_end_TFR.crop(tmin = -2.5, tmax = 2.5)\n"
   ]
  },
  {
   "cell_type": "code",
   "execution_count": null,
   "id": "315f2fbc-7065-415b-9a68-f0513721a760",
   "metadata": {},
   "outputs": [],
   "source": [
    "# save TFRs\n",
    "\n",
    "roi_end_TFR.save(f\"/home/brooke/pacman/preprocessing/{subject}/ieeg/trial_end/dlpfc-tfr.h5\")"
   ]
  },
  {
   "cell_type": "code",
   "execution_count": 31,
   "id": "7a73e7f0-7635-43a1-9172-c97ba9537a6c",
   "metadata": {},
   "outputs": [],
   "source": [
    "escape_TFR = roi_end_TFR['chase_trial == 0 & died == 0']\n",
    "chase_TFR = roi_end_TFR['chase_trial == 1']\n",
    "died_TFR = roi_end_TFR['died == 1']"
   ]
  },
  {
   "cell_type": "code",
   "execution_count": null,
   "id": "7126134b-44ad-4d15-b603-fdfa864d8b0e",
   "metadata": {},
   "outputs": [],
   "source": [
    "plt.rcParams['figure.figsize'] = [22, 20]\n",
    "plt.rcParams.update({'font.size': 18})\n",
    "\n",
    "\n",
    "fig, ax = plt.subplots(figsize = (22, 20))\n",
    "i = ax.imshow(escape_TFR.data.mean(axis = 0).mean(axis = 0), cmap = 'RdBu_r', interpolation=\"none\", origin=\"lower\", aspect = 'auto', extent=[-2.5, 2.5, freqs[0], freqs[-1]], vmin = -.2, vmax = .2)\n",
    "ax.set_yticks(np.linspace(np.min(escape_TFR.freqs),np.max(escape_TFR.freqs),len(escape_TFR.freqs)))\n",
    "ax.set_yticklabels(np.round(escape_TFR.freqs))\n",
    "bar = plt.colorbar(i)\n",
    "ax.set_title(f\"{subject}, Average dlPFC, Escape, n={len(hc_list)}\", fontsize=22, fontweight = 'bold')\n",
    "fig.savefig(f'figures/{subject}_average_dlpfc_escape.png', dpi=600)\n",
    "fig.show()\n",
    "\n",
    "fig, ax = plt.subplots(figsize = (22, 20))\n",
    "i = ax.imshow(chase_TFR.data.mean(axis = 0).mean(axis = 0), cmap = 'RdBu_r', interpolation=\"none\", origin=\"lower\", aspect = 'auto', extent=[-2, 2, freqs[0], freqs[-1]], vmin = -.2, vmax = .2)\n",
    "ax.set_yticks(np.linspace(np.min(chase_TFR.freqs),np.max(chase_TFR.freqs),len(chase_TFR.freqs)))\n",
    "ax.set_yticklabels(np.round(chase_TFR.freqs))\n",
    "bar = plt.colorbar(i)\n",
    "ax.set_title(f\"{subject}, Average dlPFC, Chase, n={len(hc_list)}\", fontsize=22, fontweight = 'bold')\n",
    "fig.savefig(f'figures/{subject}_average_dlpfc_chase.png', dpi=600)\n",
    "fig.show()\n",
    "\n",
    "\n",
    "fig, ax = plt.subplots(figsize = (22, 20))\n",
    "i = ax.imshow(died_TFR.data.mean(axis = 0).mean(axis = 0), cmap = 'RdBu_r', interpolation=\"none\", origin=\"lower\", aspect = 'auto', extent=[-2, 2, freqs[0], freqs[-1]], vmin = -.2, vmax = .2)\n",
    "ax.set_yticks(np.linspace(np.min(died_TFR.freqs),np.max(died_TFR.freqs),len(died_TFR.freqs)))\n",
    "ax.set_yticklabels(np.round(died_TFR.freqs))\n",
    "bar = plt.colorbar(i)\n",
    "ax.set_title(f\"{subject}, Average dlPFC, Died, n={len(hc_list)}\", fontsize=22, fontweight = 'bold')\n",
    "fig.savefig(f'figures/{subject}_average_dlPFC_died.png', dpi=600)\n",
    "fig.show()\n"
   ]
  },
  {
   "cell_type": "markdown",
   "id": "42bf26c4-1a79-4b22-890d-aeb943620a6b",
   "metadata": {},
   "source": [
    "### Individual Channels"
   ]
  },
  {
   "cell_type": "code",
   "execution_count": null,
   "id": "4a240192-2c7d-4ebb-a77c-1c733ef39a33",
   "metadata": {},
   "outputs": [],
   "source": [
    "plt.rcParams['figure.figsize'] = [14, 11]\n",
    "\n",
    "chix = 0\n",
    "for ch in roi_end_TFR.ch_names:\n",
    "\n",
    "    fig, ax = plt.subplots(figsize = (22, 20))\n",
    "    i = ax.imshow(escape_TFR.data[:, chix, :, :].mean(axis = 0), cmap = 'RdBu_r', interpolation=\"none\", origin=\"lower\", aspect = 'auto', extent=[-2.5, 2.5, freqs[0], freqs[-1]], vmin = -.4, vmax = .4)\n",
    "    ax.set_yticks(np.linspace(np.min(escape_TFR.freqs),np.max(escape_TFR.freqs),len(escape_TFR.freqs)))\n",
    "    ax.set_yticklabels(np.round(escape_TFR.freqs))\n",
    "    bar = plt.colorbar(i)\n",
    "    ax.set_title(f\"{ch}:  Escape\")\n",
    "    fig.show()\n",
    "    \n",
    "    fig, ax = plt.subplots(figsize = (22, 20))\n",
    "    i = ax.imshow(chase_TFR.data[:, chix, :, :].mean(axis = 0), cmap = 'RdBu_r', interpolation=\"none\", origin=\"lower\", aspect = 'auto', extent=[-2.5, 2.5, freqs[0], freqs[-1]], vmin = -.4, vmax = .4)\n",
    "    ax.set_yticks(np.linspace(np.min(chase_TFR.freqs),np.max(chase_TFR.freqs),len(chase_TFR.freqs)))\n",
    "    ax.set_yticklabels(np.round(chase_TFR.freqs))\n",
    "    bar = plt.colorbar(i)\n",
    "    ax.set_title(f\"{ch}:  Chase\")\n",
    "    fig.show()\n",
    "    \n",
    "    fig, ax = plt.subplots(figsize = (22, 20))\n",
    "    i = ax.imshow(died_TFR.data[:, chix, :, :].mean(axis = 0), cmap = 'RdBu_r', interpolation=\"none\", origin=\"lower\", aspect = 'auto', extent=[-2.5, 2.5, freqs[0], freqs[-1]], vmin = -.4, vmax = .4)\n",
    "    ax.set_yticks(np.linspace(np.min(died_TFR.freqs),np.max(died_TFR.freqs),len(died_TFR.freqs)))\n",
    "    ax.set_yticklabels(np.round(died_TFR.freqs))\n",
    "    bar = plt.colorbar(i)\n",
    "    ax.set_title(f\"{ch}:  Died\")\n",
    "    fig.show()\n",
    "    \n",
    "    chix = chix + 1"
   ]
  },
  {
   "cell_type": "markdown",
   "id": "1bcf5886-74cc-4eec-8e4f-fe63c9a995be",
   "metadata": {
    "tags": []
   },
   "source": [
    "### Export freq data locked to turn around time to csvs"
   ]
  },
  {
   "cell_type": "code",
   "execution_count": null,
   "id": "975e6342-0fa5-4ceb-8ffd-adebae1db63e",
   "metadata": {
    "tags": []
   },
   "outputs": [],
   "source": [
    "# delta\n",
    "extract_freqs(1, 3, \"delta\", \"trial_end\", \"dlpfc\", \"end_locked_ghost\", roi_end_TFR, good_epochs)\n",
    "# theta\n",
    "extract_freqs(3, 8, \"theta\", \"trial_end\", \"dlpfc\", \"end_locked_ghost\", roi_end_TFR, good_epochs)\n",
    "# alpha\n",
    "extract_freqs(8, 13, \"alpha\", \"trial_end\", \"dlpfc\", \"end_locked_ghost\", roi_end_TFR, good_epochs)\n",
    "# beta\n",
    "extract_freqs(13, 30, \"beta\", \"trial_end\", \"dlpfc\", \"end_locked_ghost\", roi_end_TFR, good_epochs)\n",
    "# gamma\n",
    "extract_freqs(30, 70, \"gamma\", \"trial_end\", \"dlpfc\", \"end_locked_ghost\", roi_end_TFR, good_epochs)\n",
    "# HFA\n",
    "extract_freqs(70, 150, \"hfa\", \"trial_end\", \"dlpfc\", \"end_locked_ghost\", roi_end_TFR, good_epochs)"
   ]
  },
  {
   "cell_type": "markdown",
   "id": "1b51ea5d-d2c8-429d-8fd8-899ff472f05c",
   "metadata": {
    "tags": []
   },
   "source": [
    "## Entorhinal Cortex"
   ]
  },
  {
   "cell_type": "code",
   "execution_count": null,
   "id": "c4af203a-73a8-430f-81c2-838974bb5461",
   "metadata": {},
   "outputs": [],
   "source": [
    "ec_list"
   ]
  },
  {
   "cell_type": "code",
   "execution_count": null,
   "id": "468aae76-5ee4-48fe-9976-ee007b8b41f9",
   "metadata": {},
   "outputs": [],
   "source": [
    "# Only ROI\n",
    "trial_end_roi = trial_end_epochs.copy().pick_channels(ec_list)"
   ]
  },
  {
   "cell_type": "code",
   "execution_count": null,
   "id": "f17d1b4e-0951-44c0-953c-c977d702252b",
   "metadata": {},
   "outputs": [],
   "source": [
    "# Resample to 1000 \n",
    "if trial_end_roi.info['sfreq'] > 1000:\n",
    "    trial_end_roi= trial_end_roi.resample(1000)"
   ]
  },
  {
   "cell_type": "code",
   "execution_count": null,
   "id": "de3e53fc-bf9c-4329-baa8-6bdc093a775c",
   "metadata": {},
   "outputs": [],
   "source": [
    "# Compute TFR\n",
    "roi_end_TFR = []\n",
    "\n",
    "roi_end_TFR = MM_compute_TFR(trial_end_roi,freqs,n_cycles,baseline = (-2.5, 2.5), zscore=True)"
   ]
  },
  {
   "cell_type": "code",
   "execution_count": null,
   "id": "2727527e-0b9a-4b62-8546-81ec22cc28e0",
   "metadata": {},
   "outputs": [],
   "source": [
    "roi_end_TFR.crop(tmin = -2.5, tmax = 2.5)"
   ]
  },
  {
   "cell_type": "code",
   "execution_count": null,
   "id": "659cb1dc-3da3-419b-9cdd-0e6eb934bf6a",
   "metadata": {},
   "outputs": [],
   "source": [
    "# save TFRs\n",
    "\n",
    "roi_end_TFR.save(f\"/home/brooke/pacman/preprocessing/{subject}/ieeg/trial_end/ec-tfr.h5\")"
   ]
  },
  {
   "cell_type": "code",
   "execution_count": 31,
   "id": "fd6e3815-5e3b-470c-a078-1939842e402d",
   "metadata": {},
   "outputs": [],
   "source": [
    "escape_TFR = roi_end_TFR['chase_trial == 0 & died == 0']\n",
    "chase_TFR = roi_end_TFR['chase_trial == 1']\n",
    "died_TFR = roi_end_TFR['died == 1']"
   ]
  },
  {
   "cell_type": "code",
   "execution_count": null,
   "id": "bdd8e3f9-51e0-4026-9119-d42e4abf7675",
   "metadata": {},
   "outputs": [],
   "source": [
    "plt.rcParams['figure.figsize'] = [22, 20]\n",
    "plt.rcParams.update({'font.size': 18})\n",
    "\n",
    "\n",
    "fig, ax = plt.subplots(figsize = (22, 20))\n",
    "i = ax.imshow(escape_TFR.data.mean(axis = 0).mean(axis = 0), cmap = 'RdBu_r', interpolation=\"none\", origin=\"lower\", aspect = 'auto', extent=[-2.5, 2.5, freqs[0], freqs[-1]], vmin = -.2, vmax = .2)\n",
    "ax.set_yticks(np.linspace(np.min(escape_TFR.freqs),np.max(escape_TFR.freqs),len(escape_TFR.freqs)))\n",
    "ax.set_yticklabels(np.round(escape_TFR.freqs))\n",
    "bar = plt.colorbar(i)\n",
    "ax.set_title(f\"{subject}, Average EC, Escape, n={len(hc_list)}\", fontsize=22, fontweight = 'bold')\n",
    "fig.savefig(f'figures/{subject}_average_ec_escape.png', dpi=600)\n",
    "fig.show()\n",
    "\n",
    "fig, ax = plt.subplots(figsize = (22, 20))\n",
    "i = ax.imshow(chase_TFR.data.mean(axis = 0).mean(axis = 0), cmap = 'RdBu_r', interpolation=\"none\", origin=\"lower\", aspect = 'auto', extent=[-2, 2, freqs[0], freqs[-1]], vmin = -.2, vmax = .2)\n",
    "ax.set_yticks(np.linspace(np.min(chase_TFR.freqs),np.max(chase_TFR.freqs),len(chase_TFR.freqs)))\n",
    "ax.set_yticklabels(np.round(chase_TFR.freqs))\n",
    "bar = plt.colorbar(i)\n",
    "ax.set_title(f\"{subject}, Average EC, Chase, n={len(hc_list)}\", fontsize=22, fontweight = 'bold')\n",
    "fig.savefig(f'figures/{subject}_average_ec_chase.png', dpi=600)\n",
    "fig.show()\n",
    "\n",
    "\n",
    "fig, ax = plt.subplots(figsize = (22, 20))\n",
    "i = ax.imshow(died_TFR.data.mean(axis = 0).mean(axis = 0), cmap = 'RdBu_r', interpolation=\"none\", origin=\"lower\", aspect = 'auto', extent=[-2, 2, freqs[0], freqs[-1]], vmin = -.2, vmax = .2)\n",
    "ax.set_yticks(np.linspace(np.min(died_TFR.freqs),np.max(died_TFR.freqs),len(died_TFR.freqs)))\n",
    "ax.set_yticklabels(np.round(died_TFR.freqs))\n",
    "bar = plt.colorbar(i)\n",
    "ax.set_title(f\"{subject}, Average EC, Died, n={len(hc_list)}\", fontsize=22, fontweight = 'bold')\n",
    "fig.savefig(f'figures/{subject}_average_ec_died.png', dpi=600)\n",
    "fig.show()\n"
   ]
  },
  {
   "cell_type": "markdown",
   "id": "d5fce125-6fdf-44fc-889c-38ab175780db",
   "metadata": {},
   "source": [
    "### Individual Channels"
   ]
  },
  {
   "cell_type": "code",
   "execution_count": null,
   "id": "0e355011-1c86-4745-9109-c08f4cf37b63",
   "metadata": {},
   "outputs": [],
   "source": [
    "plt.rcParams['figure.figsize'] = [14, 11]\n",
    "\n",
    "chix = 0\n",
    "for ch in roi_end_TFR.ch_names:\n",
    "\n",
    "    fig, ax = plt.subplots(figsize = (22, 20))\n",
    "    i = ax.imshow(escape_TFR.data[:, chix, :, :].mean(axis = 0), cmap = 'RdBu_r', interpolation=\"none\", origin=\"lower\", aspect = 'auto', extent=[-2.5, 2.5, freqs[0], freqs[-1]], vmin = -.4, vmax = .4)\n",
    "    ax.set_yticks(np.linspace(np.min(escape_TFR.freqs),np.max(escape_TFR.freqs),len(escape_TFR.freqs)))\n",
    "    ax.set_yticklabels(np.round(escape_TFR.freqs))\n",
    "    bar = plt.colorbar(i)\n",
    "    ax.set_title(f\"{ch}:  Escape\")\n",
    "    fig.show()\n",
    "    \n",
    "    fig, ax = plt.subplots(figsize = (22, 20))\n",
    "    i = ax.imshow(chase_TFR.data[:, chix, :, :].mean(axis = 0), cmap = 'RdBu_r', interpolation=\"none\", origin=\"lower\", aspect = 'auto', extent=[-2.5, 2.5, freqs[0], freqs[-1]], vmin = -.4, vmax = .4)\n",
    "    ax.set_yticks(np.linspace(np.min(chase_TFR.freqs),np.max(chase_TFR.freqs),len(chase_TFR.freqs)))\n",
    "    ax.set_yticklabels(np.round(chase_TFR.freqs))\n",
    "    bar = plt.colorbar(i)\n",
    "    ax.set_title(f\"{ch}:  Chase\")\n",
    "    fig.show()\n",
    "    \n",
    "    fig, ax = plt.subplots(figsize = (22, 20))\n",
    "    i = ax.imshow(died_TFR.data[:, chix, :, :].mean(axis = 0), cmap = 'RdBu_r', interpolation=\"none\", origin=\"lower\", aspect = 'auto', extent=[-2.5, 2.5, freqs[0], freqs[-1]], vmin = -.4, vmax = .4)\n",
    "    ax.set_yticks(np.linspace(np.min(died_TFR.freqs),np.max(died_TFR.freqs),len(died_TFR.freqs)))\n",
    "    ax.set_yticklabels(np.round(died_TFR.freqs))\n",
    "    bar = plt.colorbar(i)\n",
    "    ax.set_title(f\"{ch}:  Died\")\n",
    "    fig.show()\n",
    "    \n",
    "    chix = chix + 1"
   ]
  },
  {
   "cell_type": "markdown",
   "id": "8bdfb80a-703b-4279-88a5-161cb2874007",
   "metadata": {
    "tags": []
   },
   "source": [
    "### Export freq data locked to turn around time to csvs"
   ]
  },
  {
   "cell_type": "code",
   "execution_count": null,
   "id": "64a432d3-f155-4937-b70c-dd706438d1a0",
   "metadata": {},
   "outputs": [],
   "source": [
    "# delta\n",
    "extract_freqs(1, 3, \"delta\", \"trial_end\", \"ec\", \"end_locked_ghost\", roi_end_TFR, good_epochs)\n",
    "# theta\n",
    "extract_freqs(3, 8, \"theta\", \"trial_end\", \"ec\", \"end_locked_ghost\", roi_end_TFR, good_epochs)\n",
    "# alpha\n",
    "extract_freqs(8, 13, \"alpha\", \"trial_end\", \"ec\", \"end_locked_ghost\", roi_end_TFR, good_epochs)\n",
    "# beta\n",
    "extract_freqs(13, 30, \"beta\", \"trial_end\", \"ec\", \"end_locked_ghost\", roi_end_TFR, good_epochs)\n",
    "# gamma\n",
    "extract_freqs(30, 70, \"gamma\", \"trial_end\", \"ec\", \"end_locked_ghost\", roi_end_TFR, good_epochs)\n",
    "# HFA\n",
    "extract_freqs(70, 150, \"hfa\", \"trial_end\", \"ec\", \"end_locked_ghost\", roi_end_TFR, good_epochs)"
   ]
  }
 ],
 "metadata": {
  "kernelspec": {
   "display_name": "Python [conda env:ieeg_analysis] *",
   "language": "python",
   "name": "conda-env-ieeg_analysis-py"
  },
  "language_info": {
   "codemirror_mode": {
    "name": "ipython",
    "version": 3
   },
   "file_extension": ".py",
   "mimetype": "text/x-python",
   "name": "python",
   "nbconvert_exporter": "python",
   "pygments_lexer": "ipython3",
   "version": "3.9.12"
  }
 },
 "nbformat": 4,
 "nbformat_minor": 5
}

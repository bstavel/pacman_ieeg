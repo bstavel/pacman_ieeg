{
 "cells": [
  {
   "cell_type": "markdown",
   "id": "be523407-5360-4092-9545-0b91c5c6401f",
   "metadata": {},
   "source": [
    "# Cleaning: ?\n",
    "\n",
    "\n",
    "This script cleans the data both by abnormal trials and by noisy channels and epileptic activity. \n"
   ]
  },
  {
   "cell_type": "markdown",
   "id": "12d83091-835b-465f-bbe0-6fd1cdacc8b9",
   "metadata": {},
   "source": [
    "### Prep"
   ]
  },
  {
   "cell_type": "code",
   "execution_count": null,
   "id": "a3785b84-4aaa-4461-a37e-b51a7c1c7913",
   "metadata": {},
   "outputs": [],
   "source": [
    "import matplotlib\n",
    "matplotlib.use(\"Qt5Agg\")\n",
    "import matplotlib.pyplot as plt\n",
    "import pandas as pd\n",
    "import numpy as np\n",
    "from scipy import signal, stats\n",
    "import mat73\n",
    "import re\n",
    "from neurodsp.timefrequency import compute_wavelet_transform\n",
    "from BCI2kReader import BCI2kReader as b2k\n",
    "import os\n",
    "import mne\n",
    "from tabulate import tabulate\n",
    "import IPython\n",
    "import seaborn as sns"
   ]
  },
  {
   "cell_type": "code",
   "execution_count": null,
   "id": "1aff0958-6a4e-4e42-b7a6-80d00e5f63f3",
   "metadata": {},
   "outputs": [],
   "source": [
    "%matplotlib qt5"
   ]
  },
  {
   "cell_type": "code",
   "execution_count": null,
   "id": "639733c6-a51d-4ba2-b0bc-64689a345199",
   "metadata": {},
   "outputs": [],
   "source": [
    "# helper functions#\n",
    "\n",
    "def rle(inarray):\n",
    "        \"\"\" run length encoding. Partial credit to R rle function. \n",
    "            Multi datatype arrays catered for including non Numpy\n",
    "            returns: tuple (runlengths, startpositions, values) \"\"\"\n",
    "        ia = np.asarray(inarray)                # force numpy\n",
    "        n = len(ia)\n",
    "        if n == 0: \n",
    "            return (None, None, None)\n",
    "        else:\n",
    "            y = ia[1:] != ia[:-1]               # pairwise unequal (string safe)\n",
    "            i = np.append(np.where(y), n - 1)   # must include last element posi\n",
    "            z = np.diff(np.append(-1, i))       # run lengths\n",
    "            p = np.cumsum(np.append(0, z))[:-1] # positions\n",
    "            return(z, p, ia[i])\n",
    "        \n",
    "def find_bad_trial_times(idx, srate, trial_begins, trial_lengths):\n",
    "    ''' takes and index of trial lengths, beginnings and the sampling rate and returns the the start time and and\n",
    "    duration of the times to annotae as BAD '''\n",
    "    start_time = trial_begins[0][idx]/srate\n",
    "    duration = trial_lengths[0][idx]/srate\n",
    "    \n",
    "    return start_time, duration        "
   ]
  },
  {
   "cell_type": "code",
   "execution_count": null,
   "id": "2794e660-c449-4c7a-968f-87124f1044ea",
   "metadata": {},
   "outputs": [],
   "source": [
    "## Prep paths ##\n",
    "\n",
    "subject = 'X'\n",
    "raw_data_dir = f\"/home/brooke/pacman/raw_data/{subject}\"\n",
    "preproc_data_dir = f\"/home/brooke/pacman/preprocessing/{subject}/ieeg\""
   ]
  },
  {
   "cell_type": "code",
   "execution_count": null,
   "id": "6e0deb60-8aca-4c57-a879-9fb9fb6d1d8e",
   "metadata": {},
   "outputs": [],
   "source": [
    "## Load Data ##\n",
    "\n",
    "raw_fif = mne.io.Raw(f\"{raw_data_dir}/ieeg/{subject}_raw_ieeg.fif\")"
   ]
  },
  {
   "cell_type": "code",
   "execution_count": null,
   "id": "22556d7c-0c0b-40fc-82b1-777357649e6e",
   "metadata": {},
   "outputs": [],
   "source": [
    "## Filtering ##\n",
    "\n",
    "# load data #\n",
    "raw_fif.load_data()\n",
    "\n",
    "# highpass filter @ 1 and lowpass @ 200 #\n",
    "filtered_data = raw_fif.filter(l_freq=1, h_freq=150) # skip this step for TF analysis, always do this on the least processed data, or do .1 to 250\n",
    "\n",
    "# remove 60hz line noise #\n",
    "freqs = (60, 120, 180, 240)\n",
    "filtered_notch_data = filtered_data.notch_filter(freqs=freqs) \n"
   ]
  },
  {
   "cell_type": "code",
   "execution_count": null,
   "id": "06a738f0-dbc3-4e9b-807c-d21e8eb4fd28",
   "metadata": {},
   "outputs": [],
   "source": [
    "## Load/Save Filtered Data ##\n",
    "\n",
    "# save #\n",
    "# filtered_notch_data.save(f\"{raw_data_dir}/ieeg/{subject}_notched_filtered_ieeg.fif\", overwrite = True)\n",
    "\n",
    "# load #\n",
    "filtered_notch_data = mne.io.Raw(f\"{raw_data_dir}/ieeg/{subject}_notched_filtered_ieeg.fif\")\n",
    "events = mne.find_events(filtered_notch_data, output='step', consecutive = False, stim_channel='STI')"
   ]
  },
  {
   "cell_type": "code",
   "execution_count": null,
   "id": "c262fbb5-6908-4a46-b03c-d815dbe2dc0d",
   "metadata": {},
   "outputs": [],
   "source": [
    "filtered_notch_data.info['ch_names']"
   ]
  },
  {
   "cell_type": "markdown",
   "id": "1d1ab3dc-a3c3-4eab-bb46-9c5a7e517b9d",
   "metadata": {
    "tags": []
   },
   "source": [
    "## Cleaning Neural Data\n",
    "\n",
    "#### Bad Channels\n",
    "\n",
    "Epileptic channels from my cleaning: \n",
    "\n",
    "Noisy channels: "
   ]
  },
  {
   "cell_type": "code",
   "execution_count": null,
   "id": "7d0a4343-948a-4654-bc8f-db9c42ded9bb",
   "metadata": {},
   "outputs": [],
   "source": [
    "# Remove Channels from filtered data\n",
    "\n",
    "# remove non seeg electrodes electrodes #\n",
    "string_lst = ['EMPTY', 'REF', 'ekg']\n",
    "\n",
    "bad_channels_reg = [re.findall(r\"(?=(\"+'|'.join(string_lst)+r\"))\", name, re.IGNORECASE) for name in filtered_notch_data.info['ch_names']]\n",
    "bad_channels_index = [i for i,x in enumerate(bad_channels_reg) if  x]\n",
    "bad_channels = [filtered_notch_data.info['ch_names'][i] for i in bad_channels_index]\n",
    "\n",
    "filtered_notch_data.info['bads'].extend(bad_channels)  \n",
    "\n",
    "# # remove epileptic electrodes\n",
    "filtered_notch_data.info['bads'].append('')  \n",
    "filtered_notch_data.info['bads'].append('')  \n",
    "filtered_notch_data.info['bads'].append('')  \n",
    "\n",
    "\n",
    "# remove out of brain electrodes\n",
    "## TODO hasn't been localized\n",
    "\n",
    "# remove scalp and dc channels\n",
    "scalp_dc_channels = []\n",
    "\n",
    "filtered_notch_data.info['bads'].extend(scalp_dc_channels)\n",
    "filtered_notch_data"
   ]
  },
  {
   "cell_type": "code",
   "execution_count": null,
   "id": "14a28078-93dd-4d34-b19b-a6ee581b9504",
   "metadata": {},
   "outputs": [],
   "source": [
    "# Remove Channels from filtered data\n",
    "\n",
    "# remove non seeg electrodes electrodes #\n",
    "string_lst = ['EMPTY', 'REF', 'ekg']\n",
    "\n",
    "bad_channels_reg = [re.findall(r\"(?=(\"+'|'.join(string_lst)+r\"))\", name, re.IGNORECASE) for name in raw_fif.info['ch_names']]\n",
    "bad_channels_index = [i for i,x in enumerate(bad_channels_reg) if  x]\n",
    "bad_channels = [raw_fif.info['ch_names'][i] for i in bad_channels_index]\n",
    "\n",
    "raw_fif.info['bads'].extend(bad_channels)  \n",
    "\n",
    "# # remove epileptic electrodes\n",
    "# # remove epileptic electrodes\n",
    "filtered_notch_data.info['bads'].append('')  \n",
    "filtered_notch_data.info['bads'].append('')  \n",
    "filtered_notch_data.info['bads'].append('')  \n",
    "\n",
    "# remove out of brain electrodes\n",
    "## TODO hasn't been localized\n",
    "\n",
    "# remove scalp and dc channels\n",
    "scalp_dc_channels = []\n",
    "\n",
    "raw_fif.info['bads'].extend(scalp_dc_channels)\n",
    "raw_fif"
   ]
  },
  {
   "cell_type": "markdown",
   "id": "3b53c7d3-8102-4a30-b63d-51b8a318ff07",
   "metadata": {},
   "source": [
    "#### Bad Epochs from noisy data\n",
    "\n"
   ]
  },
  {
   "cell_type": "code",
   "execution_count": null,
   "id": "2e29013c-e568-447a-a47b-481b93e9882b",
   "metadata": {},
   "outputs": [],
   "source": [
    "# # Annotate Noisy Epochs from Bob's cleaning\n",
    "\n",
    "# # read from csv from interactive session\n",
    "# bad_annots = mne.read_annotations('../ieeg/saved_annotations.fif')   \n"
   ]
  },
  {
   "cell_type": "markdown",
   "id": "db730472-6e06-4a31-a66b-fa5db1600bc7",
   "metadata": {},
   "source": [
    "#### Bad epochs from bad trial data"
   ]
  },
  {
   "cell_type": "code",
   "execution_count": null,
   "id": "4cd44147-ed15-4bd4-b6c4-5dd845908831",
   "metadata": {},
   "outputs": [],
   "source": [
    "# ## quality check trials ##\n",
    "\n",
    "# # calculate trial onsets and offsets\n",
    "# sti_raw = filtered_notch_data.get_data(picks = ['STI'])\n",
    "# lengths, positionsm, val  = rle(sti_raw[0])\n",
    "\n",
    "# # lengths, beginnings, endings, for trials\n",
    "# trial_lengths = [lengths[x] for x in np.where(val == 1)]\n",
    "# trial_begins = [positionsm[x] for x in np.where(val == 1)]\n",
    "# trial_ends = trial_lengths[0] + trial_begins[0]\n",
    "# trial_baseline = trial_begins[0] - 1000\n",
    "\n",
    "# # lengths, beginnings, endings, for itis\n",
    "# iti_lengths = [lengths[x] for x in np.where(val == 0)]\n",
    "# iti_begins = [positionsm[x] for x in np.where(val == 0)]\n",
    "# iti_ends = iti_begins[0] + iti_lengths[0]\n",
    "\n",
    "# # save trial lengths for later\n",
    "# np.save(f\"{preproc_data_dir}/{subject}_trial_lengths.npy\", trial_lengths)"
   ]
  },
  {
   "cell_type": "code",
   "execution_count": null,
   "id": "fe17aab8-72f4-4400-97d5-2abfa5771abc",
   "metadata": {},
   "outputs": [],
   "source": [
    "# # exclude bad trials/apochs from r behavioral analysis (paused trials and no biscuits)\n",
    "\n",
    "# # load bad trial data\n",
    "# bad_trials = np.genfromtxt(f\"{raw_data_dir}/behave/{subject}_bad_trials.csv\", delimiter = ',', skip_header = 1)\n",
    "\n",
    "# onsets = []\n",
    "# durations = []\n",
    "# for bad in bad_trials:\n",
    "#     start, dur = find_bad_trial_times(int(bad), raw_fif.info['sfreq'], trial_begins, trial_lengths)\n",
    "#     onsets.append(start)\n",
    "#     durations.append(dur)\n",
    "\n",
    "# # update descriptions\n",
    "# descriptions = ['bad'] * len(durations)\n"
   ]
  },
  {
   "cell_type": "code",
   "execution_count": null,
   "id": "a2d684d1-c82d-4f87-b37e-aca09a1e95ed",
   "metadata": {
    "tags": []
   },
   "outputs": [],
   "source": [
    "## exclude all bad epochs from both bad trials and investigating neural data ##\n",
    "\n",
    "# # combine with bad trial data #\n",
    "# bad_annots.append(onsets, durations, descriptions)\n",
    "\n",
    "# # # apply to filtered data #\n",
    "# filtered_notch_data.set_annotations(bad_annots)\n",
    "\n",
    "# # # apply to not filtered data #\n",
    "# raw_fif.set_annotations(bad_annots)"
   ]
  },
  {
   "cell_type": "markdown",
   "id": "304972b6-3d35-4319-93bc-c13753ecf6f7",
   "metadata": {},
   "source": [
    "## Visualizing Neural Data"
   ]
  },
  {
   "cell_type": "code",
   "execution_count": null,
   "id": "afafa922-b494-4ebf-a262-1fa89adb5a89",
   "metadata": {},
   "outputs": [],
   "source": [
    "# plot for cleaning #\n",
    "\n",
    "filtered_notch_data.plot(events=events, color='b', bad_color = 'red', n_channels = 230, clipping = None, event_color = 'r')"
   ]
  },
  {
   "cell_type": "code",
   "execution_count": null,
   "id": "0ed7aef0-09d9-4134-8f68-15bbc207578c",
   "metadata": {},
   "outputs": [],
   "source": [
    "# plot psd of all channels #\n",
    "\n",
    "filtered_notch_data.plot_psd()"
   ]
  },
  {
   "cell_type": "code",
   "execution_count": null,
   "id": "f7c9bc69-ae5f-455d-b683-76bff6dd9063",
   "metadata": {},
   "outputs": [],
   "source": [
    "# plot psd of bad channels #\n",
    "\n",
    "filtered_notch_data.plot_psd(picks = filtered_notch_data.info['bads'])"
   ]
  },
  {
   "cell_type": "markdown",
   "id": "86ae8d82-9dc2-438f-ab76-effed512f9e4",
   "metadata": {},
   "source": [
    "## Save Files"
   ]
  },
  {
   "cell_type": "code",
   "execution_count": null,
   "id": "83c9a275-c5bd-414a-a3a5-5d30bd0fe689",
   "metadata": {},
   "outputs": [],
   "source": [
    "# save filtered data #\n",
    "filtered_notch_data.save(f\"{raw_data_dir}/ieeg/{subject}_notched_filtered_clean_ieeg.fif\", overwrite = True)\n",
    "\n",
    "\n",
    "# save raw clean data #\n",
    "raw_fif.save(f\"{raw_data_dir}/ieeg/{subject}_raw_clean_ieeg.fif\", overwrite = True)\n"
   ]
  }
 ],
 "metadata": {
  "kernelspec": {
   "display_name": "Python 3 (ipykernel)",
   "language": "python",
   "name": "python3"
  },
  "language_info": {
   "codemirror_mode": {
    "name": "ipython",
    "version": 3
   },
   "file_extension": ".py",
   "mimetype": "text/x-python",
   "name": "python",
   "nbconvert_exporter": "python",
   "pygments_lexer": "ipython3",
   "version": "3.9.18"
  }
 },
 "nbformat": 4,
 "nbformat_minor": 5
}

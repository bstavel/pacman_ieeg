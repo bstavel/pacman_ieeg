{
 "cells": [
  {
   "cell_type": "markdown",
   "id": "1dde1236-abaf-40af-8af3-97742d564328",
   "metadata": {},
   "source": [
    "## Conversion to fif: ?\n",
    "\n",
    "This script takes the raw, original data file we recieved from WashU and converts it to a fif file with the photodiode as a new stim channel"
   ]
  },
  {
   "cell_type": "code",
   "execution_count": null,
   "id": "30b1b892-6de7-490a-9015-15e96664db57",
   "metadata": {},
   "outputs": [],
   "source": [
    "import matplotlib.pyplot as plt\n",
    "import pandas as pd\n",
    "import numpy as np\n",
    "from scipy import signal, stats\n",
    "import mat73\n",
    "import re\n",
    "from neurodsp.timefrequency import compute_wavelet_transform\n",
    "from BCI2kReader import BCI2kReader as b2k\n",
    "import os\n",
    "import mne\n",
    "from tabulate import tabulate\n",
    "import IPython\n",
    "import seaborn as sns"
   ]
  },
  {
   "cell_type": "code",
   "execution_count": 1,
   "id": "cdd12f2e-0d9e-4fe7-9f99-59d7b021a2a6",
   "metadata": {},
   "outputs": [
    {
     "data": {
      "text/plain": [
       "'/home/brooke/pacman/raw_data/subs/BJH016/ieeg'"
      ]
     },
     "execution_count": 1,
     "metadata": {},
     "output_type": "execute_result"
    }
   ],
   "source": [
    "## prep paths\n",
    "\n",
    "subject = 'X'\n",
    "orig_data_fi = '/home/brooke/knight_server/remote/WashU/data/PacmanTask/X'\n",
    "raw_data_dir = f\"/home/brooke/pacman/raw_data/subs/{subject}/ieeg\""
   ]
  },
  {
   "cell_type": "code",
   "execution_count": null,
   "id": "b4d0fe3c-ceed-4b91-9356-ac164eb47f79",
   "metadata": {},
   "outputs": [],
   "source": [
    "## load data\n",
    "\n",
    "with b2k.BCI2kReader(orig_data_fi) as data: #opens a stream to the dat file\n",
    "    my_signals = data.signals\n",
    "    my_states = data.states\n",
    "    my_params = data.parameters"
   ]
  },
  {
   "cell_type": "code",
   "execution_count": null,
   "id": "b70a8ed4-0317-4216-bca3-9b4eeb238400",
   "metadata": {},
   "outputs": [],
   "source": [
    "## check structure if necessary\n",
    "\n",
    "# my_states\n",
    "# my_params"
   ]
  },
  {
   "cell_type": "code",
   "execution_count": null,
   "id": "6ff84e77-c9a3-4402-a45b-b25e269fbda1",
   "metadata": {},
   "outputs": [],
   "source": [
    "## create info field \n",
    "\n",
    "info = mne.create_info(ch_names = my_params['ChannelNames'],\n",
    "                       sfreq = my_params['SamplingRate'],\n",
    "                       ch_types = 'seeg')\n",
    "\n",
    "info"
   ]
  },
  {
   "cell_type": "code",
   "execution_count": null,
   "id": "993a91bf-44b1-4719-8227-6a88900a2334",
   "metadata": {},
   "outputs": [],
   "source": [
    "## create mne object\n",
    "mne_df = mne.io.RawArray(my_signals, info)"
   ]
  },
  {
   "cell_type": "code",
   "execution_count": null,
   "id": "e985171d-2f06-44e2-9b8d-929ce4528eae",
   "metadata": {},
   "outputs": [],
   "source": [
    "## create stim channel and add it to mne object\n",
    "\n",
    "info = mne.create_info(['STI'], my_params['SamplingRate'], ['stim'])\n",
    "stim_raw = mne.io.RawArray( my_states['Trial_on_off'], info)\n",
    "mne_df.add_channels([stim_raw], force_update_info=True)"
   ]
  },
  {
   "cell_type": "code",
   "execution_count": null,
   "id": "cce19699-3b9d-46d7-a2eb-47bd73ccc655",
   "metadata": {},
   "outputs": [],
   "source": [
    "## save it\n",
    "\n",
    "filtered_notch_data.save(f\"{raw_data_dir}/{subject}_raw_ieeg.fif\", overwrite = False)"
   ]
  }
 ],
 "metadata": {
  "kernelspec": {
   "display_name": "Python [conda env:ieeg_analysis] *",
   "language": "python",
   "name": "conda-env-ieeg_analysis-py"
  },
  "language_info": {
   "codemirror_mode": {
    "name": "ipython",
    "version": 3
   },
   "file_extension": ".py",
   "mimetype": "text/x-python",
   "name": "python",
   "nbconvert_exporter": "python",
   "pygments_lexer": "ipython3",
   "version": "3.9.12"
  }
 },
 "nbformat": 4,
 "nbformat_minor": 5
}

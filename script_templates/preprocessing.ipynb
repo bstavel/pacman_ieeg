{
 "cells": [
  {
   "cell_type": "markdown",
   "id": "5caa54ea-80d7-4318-b427-5411b5caea1d",
   "metadata": {},
   "source": [
    "# Preprocessing: \n",
    "\n",
    "\n",
    "This markdown files loads the clean data and does a bipolar rereference as well as epochs the data\n"
   ]
  },
  {
   "cell_type": "code",
   "execution_count": null,
   "id": "7124d816-0294-4977-b65a-64ec8a13910a",
   "metadata": {},
   "outputs": [],
   "source": [
    "import matplotlib\n",
    "matplotlib.use(\"Qt5Agg\")\n",
    "import matplotlib.pyplot as plt\n",
    "import pandas as pd\n",
    "import numpy as np\n",
    "from scipy import signal, stats\n",
    "import mat73\n",
    "import re\n",
    "from neurodsp.timefrequency import compute_wavelet_transform\n",
    "from BCI2kReader import BCI2kReader as b2k\n",
    "import os\n",
    "import mne\n",
    "from tabulate import tabulate\n",
    "import IPython\n",
    "import seaborn as sns"
   ]
  },
  {
   "cell_type": "code",
   "execution_count": null,
   "id": "d7d0fa71-30b2-4684-ad96-1e5b7c05a39a",
   "metadata": {},
   "outputs": [],
   "source": [
    "## Prep paths ##\n",
    "\n",
    "subject = ''\n",
    "raw_data_dir = f\"/home/brooke/pacman/raw_data/{subject}\"\n",
    "preproc_data_dir = f\"/home/brooke/pacman/preprocessing/{subject}/ieeg\""
   ]
  },
  {
   "cell_type": "code",
   "execution_count": null,
   "id": "63fce4c8-66c4-48df-80f5-a5f545d76d3d",
   "metadata": {},
   "outputs": [],
   "source": [
    "## Load Data ##\n",
    "\n",
    "# load filtered data #\n",
    "filtered_clean_fif = mne.io.Raw(f\"{raw_data_dir}/ieeg/{subject}_notched_filtered_clean_ieeg.fif\")\n",
    "\n",
    "# load raw data #\n",
    "raw_clean_fif = mne.io.Raw(f\"{raw_data_dir}/ieeg/{subject}_raw_clean_ieeg.fif\")\n",
    "\n"
   ]
  },
  {
   "cell_type": "markdown",
   "id": "466e2db7-335c-450b-a643-cf3b6dd43c4e",
   "metadata": {},
   "source": [
    "## Bipolar Rereferencing"
   ]
  },
  {
   "cell_type": "code",
   "execution_count": null,
   "id": "a8b94f89-1f90-4cac-bd34-1ac9d851b174",
   "metadata": {},
   "outputs": [],
   "source": [
    "# helper functions\n",
    "\n",
    "def probe_and_num(elec_str): \n",
    "    ''' This convenience function takes an electrode string like LHH1 and outputs ('LHH', 1)\n",
    "    '''\n",
    "    if '_' in elec_str:\n",
    "        return None, None\n",
    "    else:   \n",
    "        regex_str = '(\\D+)(\\d+)' # group of letters followed by group of digits\n",
    "        matcher = re.compile(regex_str,re.IGNORECASE|re.DOTALL).search(elec_str)\n",
    "        if matcher:\n",
    "            probe, num = matcher.groups()\n",
    "            return probe, int(num)\n",
    "        else:\n",
    "            return None, None\n",
    "    \n",
    "def find_bipolar_pair(ch, labels, remove):\n",
    "    ''' Find the pair of a given electrode for bipolar referencing.\n",
    "        Given a single *ch* and a list of *labels*, some of which you want to *remove*,\n",
    "        this finds the next channel on that probe that isn't meant to be removed (WM is ok).\n",
    "    '''\n",
    "    bipolar_pair = None\n",
    "    probe, num = probe_and_num(ch)\n",
    "    other_in_probe = [other_ch for other_ch in labels if probe_and_num(other_ch)[0]==probe]\n",
    "    for i in range(len(other_in_probe)-num):\n",
    "        next_ch = probe + str(num+i+1)\n",
    "        if next_ch in remove or next_ch == 'STI':\n",
    "            continue\n",
    "        else:\n",
    "            bipolar_pair = next_ch\n",
    "            break\n",
    "    return bipolar_pair"
   ]
  },
  {
   "cell_type": "code",
   "execution_count": null,
   "id": "f1eefdfe-b251-4f28-8f1b-2608f94da503",
   "metadata": {
    "tags": []
   },
   "outputs": [],
   "source": [
    "# Here I iterate through the electrodes in my ROIs and match them up with their bipolar pair\n",
    "pairs = []\n",
    "anode = []\n",
    "cathode = []\n",
    "pairs_name = []\n",
    "pairs_map = {}\n",
    "remove = filtered_clean_fif.info['bads']\n",
    "labels = filtered_clean_fif.info['ch_names']\n",
    "for ch in labels:\n",
    "    # if a channel is meant to be removed, it doesn't get to be in a bipolar pair\n",
    "    if ch in remove or ch == 'STI':\n",
    "        print(f\"{ch} noref\")\n",
    "    else:\n",
    "        pair = find_bipolar_pair(ch, labels, remove)\n",
    "        if pair:\n",
    "            anode.append(ch)\n",
    "            cathode.append(pair)\n",
    "            pairs.append((ch, pair))\n",
    "            pairs_map[ch] = f\"{ch}-{pair}\"\n",
    "            pairs_name.append(f\"{ch}-{pair}\")\n",
    "            print(ch, pair)"
   ]
  },
  {
   "cell_type": "code",
   "execution_count": null,
   "id": "588d66f9-a020-426f-b955-b3e58bd52d1b",
   "metadata": {},
   "outputs": [],
   "source": [
    "## Apply Rereference #\n",
    "\n",
    "if filtered_clean_fif.info['ch_names'] == raw_clean_fif.info['ch_names'] and filtered_clean_fif.info['bads'] == raw_clean_fif.info['bads']:\n",
    "    \n",
    "    # load filtered data\n",
    "    filtered_clean_fif.load_data()\n",
    "    \n",
    "    # set filtered reference \n",
    "    bp_filt_fif = mne.set_bipolar_reference(filtered_clean_fif, anode = anode, cathode = cathode)\n",
    "    \n",
    "    # save\n",
    "    bp_filt_fif.save(f\"{preproc_data_dir}/{subject}_bp_filtered_clean_data.fif\", overwrite = True)\n",
    "    \n",
    "    # clear var\n",
    "    bp_filt_fif = []\n",
    "    filtered_clean_fif = []\n",
    "    \n",
    "    # load raw data\n",
    "    raw_clean_fif.load_data()\n",
    "    \n",
    "    # set raw reference \n",
    "    bp_raw_fif = mne.set_bipolar_reference(raw_clean_fif, anode = anode, cathode = cathode)\n",
    "    \n",
    "    # save\n",
    "    bp_raw_fif.save(f\"{preproc_data_dir}/{subject}_bp_raw_clean_data.fif\", overwrite = True)\n",
    "\n",
    "    \n",
    "    # clear var\n",
    "    bp_raw_fif = []\n",
    "    raw_clean_fif = []    \n",
    "    \n",
    "    "
   ]
  },
  {
   "cell_type": "code",
   "execution_count": null,
   "id": "0a9bd982-5b34-45b4-885f-dffef3b7c337",
   "metadata": {},
   "outputs": [],
   "source": [
    "# Visualize it #\n",
    "\n",
    "# bp_raw_fif.plot(events=events, color='b', bad_color = 'cyan', n_channels = 1, clipping = None, event_color = 'r')"
   ]
  },
  {
   "cell_type": "markdown",
   "id": "99125d84-0012-4bcd-8685-a9c6a7aecc47",
   "metadata": {},
   "source": [
    "## Epoching the data "
   ]
  },
  {
   "cell_type": "code",
   "execution_count": null,
   "id": "b3b2f0fa-0065-4364-ba62-d7dbb927a0fb",
   "metadata": {},
   "outputs": [],
   "source": [
    "## Epoching the raw data ##\n",
    "\n",
    "# load data \n",
    "bp_raw_fif = mne.io.Raw(f\"{preproc_data_dir}/{subject}_bp_raw_clean_data.fif\")\n",
    "events = mne.find_events(bp_raw_fif, output='step', consecutive = False, stim_channel='STI')\n",
    "\n",
    "# create events\n",
    "    \n",
    "# only epoch good channels\n",
    "channels_of_interest =  [x for x in bp_raw_fif.info['ch_names'] if x not in bp_raw_fif.info['bads']]\n",
    "\n",
    "# epoch the data\n",
    "epoched_data = mne.Epochs(bp_raw_fif, events, \n",
    "                          event_id = 1, tmin = -4, tmax = 12, \n",
    "                          baseline = None, picks = channels_of_interest,\n",
    "                             reject_by_annotation = False)\n",
    "# save the data\n",
    "epoched_data.save(f\"{preproc_data_dir}/{subject}_bp_clean_pres-locked_ieeg.fif\", overwrite = True, split_size = '1.9GB')"
   ]
  },
  {
   "cell_type": "markdown",
   "id": "583289cc-2b7c-4dba-ae1b-72c9c8e76a1a",
   "metadata": {},
   "source": [
    "## Last Away"
   ]
  },
  {
   "cell_type": "code",
   "execution_count": null,
   "id": "c865f1da-e02b-4bc3-bc26-7d6a674088b7",
   "metadata": {},
   "outputs": [],
   "source": [
    "## Load Behavioral Data ##\n",
    "last_away_data = pd.read_csv(f\"{raw_data_dir}/behave/{subject}_last_away_events.csv\")\n",
    "last_away_data"
   ]
  },
  {
   "cell_type": "code",
   "execution_count": null,
   "id": "dd41c5cd-0432-4bdd-b17d-68ea18a74802",
   "metadata": {},
   "outputs": [],
   "source": [
    "# filter to good epochs and fix trial indexing\n",
    "last_away_data['trial_numeric'] = last_away_data['trial_numeric'] - 1\n",
    "\n",
    "# create events\n",
    "last_away_events = last_away_data[['sample', 'sample_before', 'event']].copy().to_numpy()\n"
   ]
  },
  {
   "cell_type": "code",
   "execution_count": null,
   "id": "f394447b-f502-4ccb-a7dd-913f458f896b",
   "metadata": {},
   "outputs": [],
   "source": [
    "# epoch the data\n",
    "last_away_epochs = mne.Epochs(bp_raw_fif, last_away_events, \n",
    "                          event_id = 1, tmin = -5, tmax =5, \n",
    "                          baseline = None, picks = channels_of_interest,\n",
    "                             reject_by_annotation = False)\n",
    "# # save the data\n",
    "last_away_epochs.save(f\"{preproc_data_dir}/{subject}_bp_raw_clean_last_away_events.fif\", overwrite = True, split_size = '1.9GB')\n"
   ]
  },
  {
   "cell_type": "markdown",
   "id": "ba28a25e-a34b-49f4-b3a6-c1f15942eab4",
   "metadata": {},
   "source": [
    "## Last Dot"
   ]
  },
  {
   "cell_type": "code",
   "execution_count": null,
   "id": "027b1c12-306a-4610-b947-3e0ec830322b",
   "metadata": {},
   "outputs": [],
   "source": [
    "## Load Behavioral Data ##\n",
    "last_dot_data = pd.read_csv(f\"{raw_data_dir}/behave/{subject}_last_dot_events.csv\")\n",
    "last_dot_data"
   ]
  },
  {
   "cell_type": "code",
   "execution_count": null,
   "id": "9f8b5e8f-d0e5-458c-b0e8-ba4c2e6f3afd",
   "metadata": {},
   "outputs": [],
   "source": [
    "# filter to good epochs and fix trial indexing\n",
    "last_dot_data['trial_numeric'] = last_dot_data['trial_numeric'] - 1\n",
    "\n",
    "# create events\n",
    "last_dot_events = last_dot_data[['sample', 'sample_before', 'event']].copy().to_numpy()\n"
   ]
  },
  {
   "cell_type": "code",
   "execution_count": null,
   "id": "12b14a15-5400-4e61-a393-7d4347e174ca",
   "metadata": {},
   "outputs": [],
   "source": [
    "# epoch the data\n",
    "last_dot_epochs = mne.Epochs(bp_raw_fif, last_dot_events, \n",
    "                          event_id = 1, tmin = -.75 * 4, tmax =.75 * 3, \n",
    "                          baseline = None, picks = channels_of_interest,\n",
    "                             reject_by_annotation = False)\n",
    "# # save the data\n",
    "last_dot_epochs.save(f\"{preproc_data_dir}/{subject}_bp_raw_clean_last_dot_events.fif\", overwrite = True, split_size = '1.9GB')\n"
   ]
  }
 ],
 "metadata": {
  "kernelspec": {
   "display_name": "Python [conda env:ieeg_analysis2] *",
   "language": "python",
   "name": "conda-env-ieeg_analysis2-py"
  },
  "language_info": {
   "codemirror_mode": {
    "name": "ipython",
    "version": 3
   },
   "file_extension": ".py",
   "mimetype": "text/x-python",
   "name": "python",
   "nbconvert_exporter": "python",
   "pygments_lexer": "ipython3",
   "version": "3.9.7"
  }
 },
 "nbformat": 4,
 "nbformat_minor": 5
}

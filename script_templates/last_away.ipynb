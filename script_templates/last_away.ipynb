{
 "cells": [
  {
   "cell_type": "markdown",
   "id": "dd8fdc9d-95eb-42fe-abe1-80bb121b5d83",
   "metadata": {},
   "source": [
    "# Last Away ~ all frequencies: "
   ]
  },
  {
   "cell_type": "code",
   "execution_count": null,
   "id": "b4cae23a-8d44-4df0-9b7a-3fcdc95e0e5c",
   "metadata": {},
   "outputs": [],
   "source": [
    "import matplotlib\n",
    "import matplotlib.pyplot as plt\n",
    "import pandas as pd\n",
    "import numpy as np\n",
    "from scipy import signal, stats\n",
    "import mat73\n",
    "import re\n",
    "from neurodsp.timefrequency import compute_wavelet_transform\n",
    "from BCI2kReader import BCI2kReader as b2k\n",
    "import os\n",
    "import mne\n",
    "from tabulate import tabulate\n",
    "import IPython\n",
    "import seaborn as sns\n",
    "import scipy\n",
    "import joblib\n",
    "import h5io\n",
    "import dask.array as da\n",
    "\n",
    "import statsmodels\n",
    "from statsmodels import stats\n",
    "from statsmodels.stats import multitest\n",
    "\n",
    "# Import required code for visualizing example models\n",
    "from fooof import FOOOF\n",
    "from fooof.sim.gen import gen_power_spectrum\n",
    "from fooof.sim.utils import set_random_seed\n",
    "from fooof.plts.spectra import plot_spectra\n",
    "from fooof.plts.annotate import plot_annotated_model\n",
    "from neurodsp.utils import create_times\n",
    "from neurodsp.plts.time_series import plot_time_series\n",
    "from neurodsp.spectral import compute_spectrum, rotate_powerlaw\n",
    "from neurodsp.plts.spectral import plot_power_spectra\n",
    "\n"
   ]
  },
  {
   "cell_type": "code",
   "execution_count": null,
   "id": "c48a9e35-5c6b-451d-a9f5-41305159b40a",
   "metadata": {
    "tags": []
   },
   "outputs": [],
   "source": [
    "## Prep paths ##\n",
    "\n",
    "subject = ''\n",
    "raw_data_dir = f\"/home/brooke/pacman/raw_data/{subject}\"\n",
    "preproc_data_dir = f\"/home/brooke/pacman/preprocessing/{subject}/ieeg\""
   ]
  },
  {
   "cell_type": "code",
   "execution_count": null,
   "id": "3f816ae7-8136-48c3-8218-48ac5650abe1",
   "metadata": {},
   "outputs": [],
   "source": [
    "## Load Neural Data\n",
    "\n",
    "# load\n",
    "last_away_epochs = mne.read_epochs(f\"{preproc_data_dir}/{subject}_bp_raw_clean_last_away_events.fif\")\n",
    "\n",
    "# get good epochs (for behavioral data only)\n",
    "good_epochs = [i for i,x in enumerate(last_away_epochs.get_annotations_per_epoch()) if not x]\n",
    "bad_epochs = [i for i,x in enumerate(last_away_epochs.get_annotations_per_epoch()) if  x]\n",
    "\n",
    "# load behavioral data\n",
    "last_away_data = pd.read_csv(f\"{raw_data_dir}/behave/{subject}_last_away_events.csv\")\n",
    "\n",
    "# set info as metadata\n",
    "last_away_epochs.metadata = last_away_data\n",
    "\n",
    "# onlt good epochs\n",
    "last_away_epochs = last_away_epochs[good_epochs]"
   ]
  },
  {
   "cell_type": "code",
   "execution_count": null,
   "id": "8893e602-8a16-4617-a697-ad1669c99429",
   "metadata": {
    "tags": []
   },
   "outputs": [],
   "source": [
    "## Dictionary of electrode locations ##\n",
    "\n",
    "# Dictionary mapping ROI to elecs\n",
    "ROIs = {\n",
    "    'hc'     :[],\n",
    "    'ofc'    :[],\n",
    "    'amyg'   :[],\n",
    "    'cing'   :[],\n",
    "    'insula' :[],\n",
    "    'dlpfc' :[],\n",
    "    'ec' :[]\n",
    "}\n",
    "\n",
    "## prep lists\n",
    "\n",
    "# primary ROI\n",
    "hc_list = []\n",
    "hc_indices = []\n",
    "hc_names = []\n",
    "ofc_list = []\n",
    "ofc_indices = []\n",
    "ofc_names = []\n",
    "amyg_list = []\n",
    "amyg_names = [] \n",
    "amyg_indices = []\n",
    "cing_list = []\n",
    "cing_names = [] \n",
    "cing_indices = []\n",
    "\n",
    "# control ROI\n",
    "insula_list = []\n",
    "insula_names = []  \n",
    "insula_indices = []\n",
    "dlpfc_list = []\n",
    "dlpfc_names = []  \n",
    "dlpfc_indices = []\n",
    "ec_list = []\n",
    "ec_names = []  \n",
    "ec_indices = []\n",
    "\n",
    "# exclude bad ROI from list\n",
    "pairs_long_name = [ch.split('-') for ch in last_away_epochs.info['ch_names']]\n",
    "bidx = len(last_away_epochs.info['bads']) +1\n",
    "pairs_name = pairs_long_name[bidx:len(pairs_long_name)]\n",
    "\n",
    "# sort ROI into lists\n",
    "for ix in range(0, len(pairs_name)):\n",
    "    if pairs_name[ix][0] in ROIs['hc'] or pairs_name[ix][1] in ROIs['hc']:\n",
    "        hc_list.append(last_away_epochs.info['ch_names'][ix + bidx])\n",
    "        hc_names.append(pairs_name[ix])\n",
    "        hc_indices.append(ix)\n",
    "    if pairs_name[ix][0] in ROIs['ofc'] or pairs_name[ix][1] in ROIs['ofc']:\n",
    "        ofc_list.append(last_away_epochs.info['ch_names'][ix + bidx])\n",
    "        ofc_names.append(pairs_name[ix])\n",
    "        ofc_indices.append(ix)\n",
    "    if pairs_name[ix][0] in ROIs['amyg'] or pairs_name[ix][1] in ROIs['amyg']:\n",
    "        amyg_list.append(last_away_epochs.info['ch_names'][ix + bidx])       \n",
    "        amyg_names.append(pairs_name[ix])\n",
    "        amyg_indices.append(ix)\n",
    "    if pairs_name[ix][0] in ROIs['cing'] or pairs_name[ix][1] in ROIs['cing']:\n",
    "        cing_list.append(last_away_epochs.info['ch_names'][ix + bidx])       \n",
    "        cing_names.append(pairs_name[ix])\n",
    "        cing_indices.append(ix)\n",
    "        \n",
    "    # control roi\n",
    "    if pairs_name[ix][0] in ROIs['insula'] or pairs_name[ix][1] in ROIs['insula']:\n",
    "        insula_list.append(last_away_epochs.info['ch_names'][ix + bidx])       \n",
    "        insula_names.append(pairs_name[ix])\n",
    "        insula_indices.append(ix)\n",
    "    if pairs_name[ix][0] in ROIs['dlpfc'] or pairs_name[ix][1] in ROIs['dlpfc']:\n",
    "        dlpfc_list.append(last_away_epochs.info['ch_names'][ix + bidx])       \n",
    "        dlpfc_names.append(pairs_name[ix])\n",
    "        dlpfc_indices.append(ix)\n",
    "    if pairs_name[ix][0] in ROIs['ec'] or pairs_name[ix][1] in ROIs['ec']:\n",
    "        ec_list.append(last_away_epochs.info['ch_names'][ix + bidx])       \n",
    "        ec_names.append(pairs_name[ix])\n",
    "        ec_indices.append(ix)        \n",
    "        "
   ]
  },
  {
   "cell_type": "code",
   "execution_count": null,
   "id": "bce0d660-9909-4a44-8480-5978b9f6928d",
   "metadata": {},
   "outputs": [],
   "source": [
    "## funcions\n",
    "\n",
    "def MM_compute_TFR(epochs, freqs, n_cycles, baseline, zscore=True, workers = 8):\n",
    "    \"\"\" function to compute TFR via Morlet wavelets\n",
    "    \n",
    "    epochs:                     MNE epoch object with channels of interest\n",
    "    freqs:                      list of frequencies, should be log spaced\n",
    "    n_cycles:                   number of cycles, adjust with freqs to balance temporal and frequency resolution\n",
    "    baseline:                   tuple that specifies the time in seconds that baseline should be calculated on \n",
    "                                (should be 1-2s smaller than epoch TFR was calculated on to exclude artificats on morlet waves\n",
    "    zscore:                     boolean, if True zscores within trial and frequency band across the time window specified in baseline\n",
    "    workers:                    number of threads to use while calculating TFR\n",
    "    \"\"\"\n",
    "    print('computing TFR')\n",
    "    TFR = mne.time_frequency.tfr_morlet(epochs,freqs,n_cycles,return_itc=False,\n",
    "                                            average=False,  n_jobs = workers)\n",
    "    print('log transforming')\n",
    "    TFR.data = da.from_array(TFR.data, chunks=\"auto\")  # Convert the data to a Dask array\n",
    "    TFR.data = da.log(TFR.data)  # Compute the element-wise log\n",
    "\n",
    "    if zscore:\n",
    "        print('z-scoring to baseline')\n",
    "        bix = [a and b for a, b in zip(TFR.times >= baseline[0], TFR.times <= baseline[1])]\n",
    "        bmean = TFR.data[:, :, :, bix].mean(axis=3, keepdims=True).mean(axis=0, keepdims=True)\n",
    "        bstd = TFR.data[:, :, :, bix].std(axis=3, keepdims=True).std(axis=0, keepdims=True)\n",
    "        TFR.data = (TFR.data - bmean) / bstd\n",
    "\n",
    "    TFR.data = TFR.data.compute()  # Convert the Dask array back to a NumPy array\n",
    "    return TFR\n",
    "\n",
    "def extract_freqs(lower_freq, higher_freq, freq_band, subdir, ROI, label, TFR, trials):\n",
    "    \"\"\" function to extract and average the across the freqs within a given band and save out to csvs\n",
    "    step is calculated based on getting ~4 samples per frequency cycle\n",
    "    \n",
    "    lower_freq, higher_freq:    non inclusive lower and upper bounds of the band\n",
    "    freq_band:                  band name, as a string\n",
    "    subdir:                     dir in sub/ieeg/ that specifies the time locking\n",
    "    ROI:                        region name, as a string\n",
    "    label:                      label, eg ghost, no ghost, choice locked etc, as a string\n",
    "    TFR:                        MNE TFR object\n",
    "    \"\"\"\n",
    "    \n",
    "    # calculate step, ## note I made this up, but it seems reasonable?\n",
    "    step = {\n",
    "        'delta'      : int(np.floor(ghost_TFR.info['sfreq']/(2*4))),\n",
    "        'theta'      : int(np.floor(ghost_TFR.info['sfreq']/(5*4))),\n",
    "        'alpha'      : int(np.floor(ghost_TFR.info['sfreq']/(11*4))),\n",
    "        'beta'       : int(np.floor(ghost_TFR.info['sfreq']/(22*4))),\n",
    "        'gamma'      : int(np.floor(ghost_TFR.info['sfreq']/(50*4))),\n",
    "        'hfa'        : int(np.floor(ghost_TFR.info['sfreq']/(110*4)))\n",
    "    }\n",
    "    \n",
    "    # check if it needs to be calculated with subbands\n",
    "    if freq_band == 'gamma' or freq_band == 'hfa':\n",
    "        \n",
    "        if ghost_TFR.info['sfreq'] < 1000:\n",
    "                                raise Exception('Sampling Rate is below 1000, should calculate gamma or HFA') \n",
    "        \n",
    "        subband_dict = {\n",
    "            'gamma'    : [(30, 40), (35, 45), (40, 50), (45, 55), (50, 60), (55, 65), (60, 70)],\n",
    "            'hfa'      : [(70, 90), (80, 100), (90, 110), (100, 120), (110, 130), (120, 140), (130, 150)]\n",
    "        }\n",
    "        \n",
    "        for chix in range(len(TFR.ch_names)):\n",
    "            subb_trial_power = []\n",
    "            for subb in subband_dict[freq_band]:\n",
    "                fidx = np.where((freqs > subb[0]) & (freqs < subb[1]))[0]\n",
    "                subb_trial_power.append(TFR.data[:, chix, fidx, :].mean(axis=1))\n",
    "            trial_power = np.mean(subb_trial_power, axis = 0)\n",
    "            channel_df = pd.DataFrame(trial_power[:, ::step[freq_band]])\n",
    "            channel_df[\"trial\"] = trials\n",
    "            channel_df.to_csv(f\"{preproc_data_dir}/{subdir}/{TFR.ch_names[chix]}_{ROI}_trial_{freq_band}_{label}.csv\")\n",
    "    \n",
    "    else:\n",
    "        fidx = np.where((freqs > lower_freq) & (freqs < higher_freq))[0]\n",
    "        for chix in range(len(TFR.ch_names)):\n",
    "            trial_power = TFR.data[:, chix, fidx, :].mean(axis=1)\n",
    "            channel_df = pd.DataFrame(trial_power[:, ::step[freq_band]])\n",
    "            channel_df[\"trial\"] = trials\n",
    "            channel_df.to_csv(f\"{preproc_data_dir}/{subdir}/{TFR.ch_names[chix]}_{ROI}_trial_{freq_band}_{label}.csv\")"
   ]
  },
  {
   "cell_type": "code",
   "execution_count": null,
   "id": "71f46b0b-cb29-472d-9272-83091d512382",
   "metadata": {},
   "outputs": [],
   "source": [
    "# Set frequencies\n",
    "\n",
    "freqs = np.logspace(start = np.log10(1), stop = np.log10(150), num = 80, base = 10, endpoint = True)\n",
    "n_cycles = np.logspace(np.log10(2), np.log10(30), base = 10, num = 80)\n",
    "\n",
    "# formulas to check bandwidth and time bin\n",
    "band_width = (freqs / n_cycles) * 2\n",
    "time_bin = n_cycles / freqs / np.pi\n",
    "print(freqs)\n",
    "print(n_cycles)\n",
    "print(time_bin)\n",
    "print(band_width)\n"
   ]
  },
  {
   "cell_type": "markdown",
   "id": "7de6eb5d-5215-4aca-903d-272be79343f5",
   "metadata": {},
   "source": [
    "# Main Regions of Interest"
   ]
  },
  {
   "cell_type": "markdown",
   "id": "b97e7e09-d76d-4667-a81a-13574f522100",
   "metadata": {
    "tags": []
   },
   "source": [
    "## Hippocampus"
   ]
  },
  {
   "cell_type": "code",
   "execution_count": null,
   "id": "f45e02f5-43ac-4518-a886-c0ae76e06f8e",
   "metadata": {},
   "outputs": [],
   "source": [
    "hc_list"
   ]
  },
  {
   "cell_type": "code",
   "execution_count": null,
   "id": "0b591c3e-14df-4565-a23a-1bb640f6974c",
   "metadata": {},
   "outputs": [],
   "source": [
    "# only ROI of interest\n",
    "away_roi = last_away_epochs.copy().pick_channels(hc_list)\n"
   ]
  },
  {
   "cell_type": "code",
   "execution_count": null,
   "id": "8b72c30f-1430-48cc-9857-c2f59215eaa4",
   "metadata": {},
   "outputs": [],
   "source": [
    "# Resample to 1000\n",
    "if away_roi.info['sfreq'] > 1000:\n",
    "    away_roi= away_roi.resample(1000)\n"
   ]
  },
  {
   "cell_type": "code",
   "execution_count": null,
   "id": "13e91a3c-0b23-47c9-bbd2-75412740160e",
   "metadata": {},
   "outputs": [],
   "source": [
    "# compute TRF\n",
    "away_TFR = MM_compute_TFR(away_roi,freqs,n_cycles,baseline = (-2,2), zscore=True)\n"
   ]
  },
  {
   "cell_type": "code",
   "execution_count": null,
   "id": "2c56e40e-4b17-44e8-9c2c-d58c18c0bbde",
   "metadata": {},
   "outputs": [],
   "source": [
    "away_TFR.crop(tmin = -2, tmax = 2)"
   ]
  },
  {
   "cell_type": "code",
   "execution_count": null,
   "id": "1e862fb2-f95e-4765-80aa-0ae7970c5526",
   "metadata": {},
   "outputs": [],
   "source": [
    "# separate ghost and no ghost trials\n",
    "\n",
    "ghost_TFR = away_TFR[\"TrialType <= 16\"]\n",
    "no_ghost_TFR = away_TFR[\"TrialType > 16\"]"
   ]
  },
  {
   "cell_type": "code",
   "execution_count": null,
   "id": "a7405bea-899a-45fc-b6f1-e0cebd6c7b1f",
   "metadata": {},
   "outputs": [],
   "source": [
    "# save TFRs\n",
    "\n",
    "ghost_TFR.save(f\"/home/brooke/knight_server/remote/bstavel/pacman/preprocessing/{subject}/ieeg/last_away/hc_ghost-tfr.h5\", overwrite = True)\n",
    "no_ghost_TFR.save(f\"/home/brooke/knight_server/remote/bstavel/pacman/preprocessing/{subject}/ieeg/last_away/hc_noghost-tfr.h5\", overwrite = True)\n",
    "\n",
    "# ghost_TFR = mne.time_frequency.read_tfrs(f\"/home/brooke/knight_server/remote/bstavel/pacman/preprocessing/{subject}/ieeg/last_away/hc_ghost-tfr.h5\")\n",
    "# no_ghost_TFR = mne.time_frequency.read_tfrs(f\"/home/brooke/knight_server/remote/bstavel/pacman/preprocessing/{subject}/ieeg/last_away/hc_noghost-tfr.h5\")\n",
    "# ghost_TFR = ghost_TFR[0]\n",
    "# no_ghost_TFR = no_ghost_TFR[0]"
   ]
  },
  {
   "cell_type": "code",
   "execution_count": null,
   "id": "56813cb8-abce-467a-864c-5ae7f9ae3b00",
   "metadata": {},
   "outputs": [],
   "source": [
    "plt.rcParams['figure.figsize'] = [22, 20]\n",
    "plt.rcParams.update({'font.size': 18})\n",
    "\n",
    "fig, ax = plt.subplots(figsize = (22, 20))\n",
    "i = ax.imshow(ghost_TFR.data.mean(axis = 0).mean(axis = 0), cmap = 'RdBu_r', interpolation=\"none\", origin=\"lower\", aspect = 'auto', extent=[-2, 2, freqs[0], freqs[-1]], vmin = -1, vmax = 1)\n",
    "ax.set_yticks(np.linspace(np.min(ghost_TFR.freqs),np.max(ghost_TFR.freqs),len(ghost_TFR.freqs)))\n",
    "ax.set_yticklabels(np.round(ghost_TFR.freqs))\n",
    "bar = plt.colorbar(i)\n",
    "ax.set_title(f\"{subject}, Average Hippocampus, Conflict Trials, n={len(hc_list)}\", fontsize=22, fontweight = 'bold')\n",
    "fig.savefig(f'figures/{subject}_average_hc_conflict.png', dpi=600)\n",
    "fig.show()\n",
    "\n",
    "\n",
    "fig, ax = plt.subplots(figsize = (22, 20))\n",
    "i = ax.imshow(no_ghost_TFR.data.mean(axis = 0).mean(axis = 0), cmap = 'RdBu_r', interpolation=\"none\", origin=\"lower\", aspect = 'auto', extent=[-2, 2, freqs[0], freqs[-1]], vmin = -1, vmax = 1)\n",
    "ax.set_yticks(np.linspace(np.min(ghost_TFR.freqs),np.max(ghost_TFR.freqs),len(ghost_TFR.freqs)))\n",
    "ax.set_yticklabels(np.round(ghost_TFR.freqs))\n",
    "bar = plt.colorbar(i)\n",
    "ax.set_title(f\"{subject}, Average Hippocampus, No-Conflict Trials, n={len(hc_list)}\", fontsize=22, fontweight = 'bold')\n",
    "fig.savefig(f'figures/{subject}_average_hc_noconflict.png', dpi=600)\n",
    "fig.show()\n"
   ]
  },
  {
   "cell_type": "markdown",
   "id": "eb0fa12a-9ac1-411d-a105-f17782aae568",
   "metadata": {
    "tags": []
   },
   "source": [
    "## Individual Channels"
   ]
  },
  {
   "cell_type": "code",
   "execution_count": null,
   "id": "6bb80ef3-afad-49ad-a9aa-82ef761187e0",
   "metadata": {},
   "outputs": [],
   "source": [
    "plt.rcParams['figure.figsize'] = [22, 20]\n",
    "\n",
    "chix = 0\n",
    "for ch in ghost_TFR.ch_names:\n",
    "\n",
    "    fig, ax = plt.subplots(figsize = (22, 20))\n",
    "    i = ax.imshow(ghost_TFR.data[:, chix, :, :].mean(axis = 0), cmap = 'RdBu_r', interpolation=\"none\", origin=\"lower\", aspect = 'auto', extent=[-2, 2, freqs[0], freqs[-1]], vmin = -2.5, vmax = 2.5)\n",
    "    ax.set_yticks(np.linspace(np.min(ghost_TFR.freqs),np.max(ghost_TFR.freqs),len(ghost_TFR.freqs)))\n",
    "    ax.set_yticklabels(np.round(ghost_TFR.freqs))\n",
    "    bar = plt.colorbar(i)\n",
    "    ax.set_title(f\"{ch}:  Conflict Trials\")\n",
    "    fig.show()\n",
    "\n",
    "    fig, ax = plt.subplots(figsize = (22, 20))\n",
    "    i = ax.imshow(no_ghost_TFR.data[:, chix, :, :].mean(axis = 0), cmap = 'RdBu_r', interpolation=\"none\", origin=\"lower\", aspect = 'auto', extent=[-2, 2, freqs[0], freqs[-1]], vmin = -2.5, vmax = 2.5)\n",
    "    ax.set_yticks(np.linspace(np.min(ghost_TFR.freqs),np.max(ghost_TFR.freqs),len(ghost_TFR.freqs)))\n",
    "    ax.set_yticklabels(np.round(ghost_TFR.freqs))\n",
    "    bar = plt.colorbar(i)\n",
    "    ax.set_title(f\"{ch}:  No Conflict Trials\")\n",
    "    fig.show()\n",
    "    \n",
    "    chix = chix + 1"
   ]
  },
  {
   "cell_type": "markdown",
   "id": "53fdd5e5-2efc-4409-b769-8e1e5720a787",
   "metadata": {
    "tags": []
   },
   "source": [
    "## Export freq data locked to turn around time to csvs"
   ]
  },
  {
   "cell_type": "code",
   "execution_count": null,
   "id": "45fc60f3-22e0-4608-a7f1-df6edf87a59e",
   "metadata": {},
   "outputs": [],
   "source": [
    "# delta\n",
    "extract_freqs(1, 3, \"delta\", \"last_away\", \"hc\", \"away_locked_ghost\", ghost_TFR, ghost_TFR.metadata.neural_trial_numeric.to_numpy(copy = True))\n",
    "extract_freqs(1, 3, \"delta\", \"last_away\", \"hc\", \"away_locked_noghost\", no_ghost_TFR, no_ghost_TFR.metadata.neural_trial_numeric.to_numpy(copy = True))\n",
    "# theta\n",
    "extract_freqs(3, 8, \"theta\", \"last_away\", \"hc\", \"away_locked_ghost\", ghost_TFR, ghost_TFR.metadata.neural_trial_numeric.to_numpy(copy = True))\n",
    "extract_freqs(3, 8, \"theta\", \"last_away\", \"hc\", \"away_locked_noghost\", no_ghost_TFR, no_ghost_TFR.metadata.neural_trial_numeric.to_numpy(copy = True))\n",
    "# alpha\n",
    "extract_freqs(8, 13, \"alpha\", \"last_away\", \"hc\", \"away_locked_ghost\", ghost_TFR, ghost_TFR.metadata.neural_trial_numeric.to_numpy(copy = True))\n",
    "extract_freqs(8, 13, \"alpha\", \"last_away\", \"hc\", \"away_locked_noghost\", no_ghost_TFR, no_ghost_TFR.metadata.neural_trial_numeric.to_numpy(copy = True))\n",
    "# beta\n",
    "extract_freqs(13, 30, \"beta\", \"last_away\", \"hc\", \"away_locked_ghost\", ghost_TFR, ghost_TFR.metadata.neural_trial_numeric.to_numpy(copy = True))\n",
    "extract_freqs(13, 30, \"beta\", \"last_away\", \"hc\", \"away_locked_noghost\", no_ghost_TFR, no_ghost_TFR.metadata.neural_trial_numeric.to_numpy(copy = True))\n",
    "# gamma\n",
    "extract_freqs(30, 70, \"gamma\", \"last_away\", \"hc\", \"away_locked_ghost\", ghost_TFR, ghost_TFR.metadata.neural_trial_numeric.to_numpy(copy = True))\n",
    "extract_freqs(30, 70, \"gamma\", \"last_away\", \"hc\", \"away_locked_noghost\", no_ghost_TFR, no_ghost_TFR.metadata.neural_trial_numeric.to_numpy(copy = True))\n",
    "# HFA\n",
    "extract_freqs(70, 150, \"hfa\", \"last_away\", \"hc\", \"away_locked_ghost\", ghost_TFR, ghost_TFR.metadata.neural_trial_numeric.to_numpy(copy = True))\n",
    "extract_freqs(70, 150, \"hfa\", \"last_away\", \"hc\", \"away_locked_noghost\", no_ghost_TFR, no_ghost_TFR.metadata.neural_trial_numeric.to_numpy(copy = True))"
   ]
  },
  {
   "cell_type": "markdown",
   "id": "9cda7ead-e472-4596-8f68-44f847b96f2b",
   "metadata": {
    "tags": []
   },
   "source": [
    "# OFC"
   ]
  },
  {
   "cell_type": "code",
   "execution_count": null,
   "id": "252bbb49-3458-4f41-b0bf-56f119b4f06c",
   "metadata": {},
   "outputs": [],
   "source": [
    "ofc_list"
   ]
  },
  {
   "cell_type": "code",
   "execution_count": null,
   "id": "d76c37e1-3822-47bc-b63d-3973e7c853ab",
   "metadata": {},
   "outputs": [],
   "source": [
    "away_roi = last_away_epochs.copy().pick_channels(ofc_list)"
   ]
  },
  {
   "cell_type": "code",
   "execution_count": null,
   "id": "8713da0d-347b-4af2-a961-7b505bbc1b4b",
   "metadata": {},
   "outputs": [],
   "source": [
    "# Resample to 1000\n",
    "if away_roi.info['sfreq'] > 1000:\n",
    "    away_roi= away_roi.resample(1000)\n"
   ]
  },
  {
   "cell_type": "code",
   "execution_count": null,
   "id": "f4db6500-154d-4bcd-8443-f1a468acae41",
   "metadata": {},
   "outputs": [],
   "source": [
    "# compute TRF\n",
    "away_TFR = MM_compute_TFR(away_roi,freqs,n_cycles,baseline = (-2,2), zscore=True)\n"
   ]
  },
  {
   "cell_type": "code",
   "execution_count": null,
   "id": "ca1b187f-d542-4221-8f67-a6111eed9b46",
   "metadata": {},
   "outputs": [],
   "source": [
    "away_TFR.crop(tmin = -2, tmax = 2)"
   ]
  },
  {
   "cell_type": "code",
   "execution_count": null,
   "id": "2bb384f9-2c2e-44c1-8b32-a61e3c9c8ea2",
   "metadata": {},
   "outputs": [],
   "source": [
    "# separate ghost and no ghost trials\n",
    "\n",
    "ghost_TFR = away_TFR[\"TrialType <= 16\"]\n",
    "no_ghost_TFR = away_TFR[\"TrialType > 16\"]"
   ]
  },
  {
   "cell_type": "code",
   "execution_count": null,
   "id": "0a100533-7f5c-4d4f-811c-d1aaccb805bb",
   "metadata": {},
   "outputs": [],
   "source": [
    "# save TFRs\n",
    "\n",
    "ghost_TFR.save(f\"/home/brooke/knight_server/remote/bstavel/pacman/preprocessing/{subject}/ieeg/last_away/ofc_ghost-tfr.h5\")\n",
    "no_ghost_TFR.save(f\"/home/brooke/knight_server/remote/bstavel/pacman/preprocessing/{subject}/ieeg/last_away/ofc_noghost-tfr.h5\")\n",
    "\n",
    "# ghost_TFR = mne.time_frequency.read_tfrs(f\"/home/brooke/knight_server/remote/bstavel/pacman/preprocessing/{subject}/ieeg/last_away/ofc_ghost-tfr.h5\")\n",
    "# no_ghost_TFR = mne.time_frequency.read_tfrs(f\"/home/brooke/knight_server/remote/bstavel/pacman/preprocessing/{subject}/ieeg/last_away/ofc_noghost-tfr.h5\")\n",
    "# ghost_TFR = ghost_TFR[0]\n",
    "# no_ghost_TFR = no_ghost_TFR[0]"
   ]
  },
  {
   "cell_type": "code",
   "execution_count": null,
   "id": "d69b8ce6-ed62-4b94-8b48-fe0b6b8e324b",
   "metadata": {},
   "outputs": [],
   "source": [
    "plt.rcParams['figure.figsize'] = [22, 20]\n",
    "plt.rcParams.update({'font.size': 18})\n",
    "\n",
    "fig, ax = plt.subplots(figsize = (22, 20))\n",
    "i = ax.imshow(ghost_TFR.data.mean(axis = 0).mean(axis = 0), cmap = 'RdBu_r', interpolation=\"none\", origin=\"lower\", aspect = 'auto', extent=[-2, 2, freqs[0], freqs[-1]], vmin = -1, vmax = 1)\n",
    "ax.set_yticks(np.linspace(np.min(ghost_TFR.freqs),np.max(ghost_TFR.freqs),len(ghost_TFR.freqs)))\n",
    "ax.set_yticklabels(np.round(ghost_TFR.freqs))\n",
    "bar = plt.colorbar(i)\n",
    "ax.set_title(f\"{subject}, Average OFC, Conflict Trials, n={len(ofc_list)}\", fontsize=22, fontweight = 'bold')\n",
    "fig.savefig(f'figures/{subject}_average_ofc_conflict.png', dpi=600)\n",
    "fig.show()\n",
    "\n",
    "fig, ax = plt.subplots(figsize = (22, 20))\n",
    "i = ax.imshow(no_ghost_TFR.data.mean(axis = 0).mean(axis = 0), cmap = 'RdBu_r', interpolation=\"none\", origin=\"lower\", aspect = 'auto', extent=[-2, 2, freqs[0], freqs[-1]], vmin = -1, vmax = 1)\n",
    "ax.set_yticks(np.linspace(np.min(ghost_TFR.freqs),np.max(ghost_TFR.freqs),len(ghost_TFR.freqs)))\n",
    "ax.set_yticklabels(np.round(ghost_TFR.freqs))\n",
    "bar = plt.colorbar(i)\n",
    "ax.set_title(f\"{subject}, Average OFC, No-Conflict Trials, n={len(ofc_list)}\", fontsize=22, fontweight = 'bold')\n",
    "fig.savefig(f'figures/{subject}_average_ofc_noconflict.png', dpi=600)\n",
    "fig.show()\n",
    "\n"
   ]
  },
  {
   "cell_type": "markdown",
   "id": "e7d3b462-cf31-47f4-bc10-ca8142a03bce",
   "metadata": {},
   "source": [
    "### Individual Channels"
   ]
  },
  {
   "cell_type": "code",
   "execution_count": null,
   "id": "7eb2dfdf-90c6-4580-8ca9-bb70675a69d9",
   "metadata": {
    "tags": []
   },
   "outputs": [],
   "source": [
    "plt.rcParams['figure.figsize'] = [22, 20]\n",
    "\n",
    "chix = 0\n",
    "for ch in ghost_TFR.ch_names:\n",
    "\n",
    "    fig, ax = plt.subplots(figsize = (22, 20))\n",
    "    i = ax.imshow(ghost_TFR.data[:, chix, :, :].mean(axis = 0), cmap = 'RdBu_r', interpolation=\"none\", origin=\"lower\", aspect = 'auto', extent=[-2, 2, freqs[0], freqs[-1]], vmin = -2.5, vmax = 2.5)\n",
    "    ax.set_yticks(np.linspace(np.min(ghost_TFR.freqs),np.max(ghost_TFR.freqs),len(ghost_TFR.freqs)))\n",
    "    ax.set_yticklabels(np.round(ghost_TFR.freqs))\n",
    "    bar = plt.colorbar(i)\n",
    "    ax.set_title(f\"{ch}:  Conflict Trials\")\n",
    "    fig.show()\n",
    "\n",
    "    fig, ax = plt.subplots(figsize = (22, 20))\n",
    "    i = ax.imshow(no_ghost_TFR.data[:, chix, :, :].mean(axis = 0), cmap = 'RdBu_r', interpolation=\"none\", origin=\"lower\", aspect = 'auto', extent=[-2, 2, freqs[0], freqs[-1]], vmin = -2.5, vmax = 2.5)\n",
    "    ax.set_yticks(np.linspace(np.min(ghost_TFR.freqs),np.max(ghost_TFR.freqs),len(ghost_TFR.freqs)))\n",
    "    ax.set_yticklabels(np.round(ghost_TFR.freqs))\n",
    "    bar = plt.colorbar(i)\n",
    "    ax.set_title(f\"{ch}:  No Conflict Trials\")\n",
    "    fig.show()\n",
    "    \n",
    "    chix = chix + 1"
   ]
  },
  {
   "cell_type": "markdown",
   "id": "2ffca24a-dc80-49ee-b1ec-fc67e5772a35",
   "metadata": {
    "tags": []
   },
   "source": [
    "### Export freq data locked to turn around time to csvs"
   ]
  },
  {
   "cell_type": "code",
   "execution_count": null,
   "id": "7aa24383-37b0-4170-be11-658995f2d6b9",
   "metadata": {},
   "outputs": [],
   "source": [
    "# delta\n",
    "extract_freqs(1, 3, \"delta\", \"last_away\", \"ofc\", \"away_locked_ghost\", ghost_TFR, ghost_TFR.metadata.neural_trial_numeric.to_numpy(copy = True))\n",
    "extract_freqs(1, 3, \"delta\", \"last_away\", \"ofc\", \"away_locked_noghost\", no_ghost_TFR, no_ghost_TFR.metadata.neural_trial_numeric.to_numpy(copy = True))\n",
    "# theta\n",
    "extract_freqs(3, 8, \"theta\", \"last_away\", \"ofc\", \"away_locked_ghost\", ghost_TFR, ghost_TFR.metadata.neural_trial_numeric.to_numpy(copy = True))\n",
    "extract_freqs(3, 8, \"theta\", \"last_away\", \"ofc\", \"away_locked_noghost\", no_ghost_TFR, no_ghost_TFR.metadata.neural_trial_numeric.to_numpy(copy = True))\n",
    "# alpha\n",
    "extract_freqs(8, 13, \"alpha\", \"last_away\", \"ofc\", \"away_locked_ghost\", ghost_TFR, ghost_TFR.metadata.neural_trial_numeric.to_numpy(copy = True))\n",
    "extract_freqs(8, 13, \"alpha\", \"last_away\", \"ofc\", \"away_locked_noghost\", no_ghost_TFR, no_ghost_TFR.metadata.neural_trial_numeric.to_numpy(copy = True))\n",
    "# beta\n",
    "extract_freqs(13, 30, \"beta\", \"last_away\", \"ofc\", \"away_locked_ghost\", ghost_TFR, ghost_TFR.metadata.neural_trial_numeric.to_numpy(copy = True))\n",
    "extract_freqs(13, 30, \"beta\", \"last_away\", \"ofc\", \"away_locked_noghost\", no_ghost_TFR, no_ghost_TFR.metadata.neural_trial_numeric.to_numpy(copy = True))\n",
    "# gamma\n",
    "extract_freqs(30, 70, \"gamma\", \"last_away\", \"ofc\", \"away_locked_ghost\", ghost_TFR, ghost_TFR.metadata.neural_trial_numeric.to_numpy(copy = True))\n",
    "extract_freqs(30, 70, \"gamma\", \"last_away\", \"ofc\", \"away_locked_noghost\", no_ghost_TFR, no_ghost_TFR.metadata.neural_trial_numeric.to_numpy(copy = True))\n",
    "# HFA\n",
    "extract_freqs(70, 150, \"hfa\", \"last_away\", \"ofc\", \"away_locked_ghost\", ghost_TFR, ghost_TFR.metadata.neural_trial_numeric.to_numpy(copy = True))\n",
    "extract_freqs(70, 150, \"hfa\", \"last_away\", \"ofc\", \"away_locked_noghost\", no_ghost_TFR, no_ghost_TFR.metadata.neural_trial_numeric.to_numpy(copy = True))"
   ]
  },
  {
   "cell_type": "markdown",
   "id": "95f58545-b3ab-4e5e-8974-59b678a7037b",
   "metadata": {
    "tags": []
   },
   "source": [
    "# Amygdala"
   ]
  },
  {
   "cell_type": "code",
   "execution_count": null,
   "id": "b182f41c-471a-4322-93dd-502b4c24d439",
   "metadata": {},
   "outputs": [],
   "source": [
    "amyg_list"
   ]
  },
  {
   "cell_type": "code",
   "execution_count": null,
   "id": "72afe55a-a8b9-4a22-b77e-4805158794be",
   "metadata": {},
   "outputs": [],
   "source": [
    "away_roi = last_away_epochs.copy().pick_channels(amyg_list)"
   ]
  },
  {
   "cell_type": "code",
   "execution_count": null,
   "id": "56994bfa-7a9d-4375-9ccc-3695f5094d3e",
   "metadata": {},
   "outputs": [],
   "source": [
    "# Resample to 1000\n",
    "if away_roi.info['sfreq'] > 1000:\n",
    "    away_roi= away_roi.resample(1000)\n"
   ]
  },
  {
   "cell_type": "code",
   "execution_count": null,
   "id": "be7f9c0d-ce27-48ea-8da7-327a59ace96f",
   "metadata": {},
   "outputs": [],
   "source": [
    "# compute TRF\n",
    "away_TFR = MM_compute_TFR(away_roi,freqs,n_cycles,baseline = (-2,2), zscore=True)\n"
   ]
  },
  {
   "cell_type": "code",
   "execution_count": null,
   "id": "e72dc228-32a2-4a24-ac3d-36c56dcec73f",
   "metadata": {},
   "outputs": [],
   "source": [
    "away_TFR.crop(tmin = -2, tmax = 2)"
   ]
  },
  {
   "cell_type": "code",
   "execution_count": null,
   "id": "0ba29093-230c-445f-8185-d36cb04611d8",
   "metadata": {},
   "outputs": [],
   "source": [
    "# separate ghost and no ghost trials\n",
    "\n",
    "ghost_TFR = away_TFR[\"TrialType <= 16\"]\n",
    "no_ghost_TFR = away_TFR[\"TrialType > 16\"]"
   ]
  },
  {
   "cell_type": "code",
   "execution_count": null,
   "id": "3ba42a86-c782-4344-a602-e44e2d7e5587",
   "metadata": {},
   "outputs": [],
   "source": [
    "# save TFRs\n",
    "\n",
    "ghost_TFR.save(f\"/home/brooke/knight_server/remote/bstavel/pacman/preprocessing/{subject}/ieeg/last_away/amyg_ghost-tfr.h5\")\n",
    "no_ghost_TFR.save(f\"/home/brooke/knight_server/remote/bstavel/pacman/preprocessing/{subject}/ieeg/last_away/amyg_noghost-tfr.h5\")\n",
    "\n",
    "\n",
    "# ghost_TFR = mne.time_frequency.read_tfrs(f\"/home/brooke/knight_server/remote/bstavel/pacman/preprocessing/{subject}/ieeg/last_away/amyg_ghost-tfr.h5\")\n",
    "# no_ghost_TFR = mne.time_frequency.read_tfrs(f\"/home/brooke/knight_server/remote/bstavel/pacman/preprocessing/{subject}/ieeg/last_away/amyg_noghost-tfr.h5\")\n",
    "# ghost_TFR = ghost_TFR[0]\n",
    "# no_ghost_TFR = no_ghost_TFR[0]"
   ]
  },
  {
   "cell_type": "code",
   "execution_count": null,
   "id": "c8a0f24c-5fdc-4747-b1a1-b5d4d542564f",
   "metadata": {},
   "outputs": [],
   "source": [
    "plt.rcParams['figure.figsize'] = [22, 20]\n",
    "plt.rcParams.update({'font.size': 18})\n",
    "\n",
    "fig, ax = plt.subplots(figsize = (22, 20))\n",
    "i = ax.imshow(ghost_TFR.data.mean(axis = 0).mean(axis = 0), cmap = 'RdBu_r', interpolation=\"none\", origin=\"lower\", aspect = 'auto', extent=[-2, 2, freqs[0], freqs[-1]], vmin = -1, vmax = 1)\n",
    "ax.set_yticks(np.linspace(np.min(ghost_TFR.freqs),np.max(ghost_TFR.freqs),len(ghost_TFR.freqs)))\n",
    "ax.set_yticklabels(np.round(ghost_TFR.freqs))\n",
    "bar = plt.colorbar(i)\n",
    "ax.set_title(f\"{subject}, Average Amygdala, Conflict Trials, n={len(amyg_list)}\", fontsize=22, fontweight = 'bold')\n",
    "fig.savefig(f'figures/{subject}_average_amyg_conflict.png', dpi=600)\n",
    "fig.show()\n",
    "\n",
    "\n",
    "fig, ax = plt.subplots(figsize = (22, 20))\n",
    "i = ax.imshow(no_ghost_TFR.data.mean(axis = 0).mean(axis = 0), cmap = 'RdBu_r', interpolation=\"none\", origin=\"lower\", aspect = 'auto', extent=[-2, 2, freqs[0], freqs[-1]], vmin = -1, vmax = 1)\n",
    "ax.set_yticks(np.linspace(np.min(ghost_TFR.freqs),np.max(ghost_TFR.freqs),len(ghost_TFR.freqs)))\n",
    "ax.set_yticklabels(np.round(ghost_TFR.freqs))\n",
    "bar = plt.colorbar(i)\n",
    "ax.set_title(f\"{subject}, Average Amygdala, No-Conflict Trials, n={len(amyg_list)}\", fontsize=22, fontweight = 'bold')\n",
    "fig.savefig(f'figures/{subject}_average_amyg_noconflict.png', dpi=600)\n",
    "fig.show()"
   ]
  },
  {
   "cell_type": "markdown",
   "id": "a01e399c-bc04-4de5-afad-7c77e2e4cfea",
   "metadata": {},
   "source": [
    "### Individual Channels"
   ]
  },
  {
   "cell_type": "code",
   "execution_count": null,
   "id": "5e9dc2ab-4485-4260-a1a4-4638280c46fe",
   "metadata": {},
   "outputs": [],
   "source": [
    "plt.rcParams['figure.figsize'] = [22, 20]\n",
    "\n",
    "chix = 0\n",
    "for ch in ghost_TFR.ch_names:\n",
    "\n",
    "    fig, ax = plt.subplots(figsize = (22, 20))\n",
    "    i = ax.imshow(ghost_TFR.data[:, chix, :, :].mean(axis = 0), cmap = 'RdBu_r', interpolation=\"none\", origin=\"lower\", aspect = 'auto', extent=[-2, 2, freqs[0], freqs[-1]], vmin = -2.5, vmax = 2.5)\n",
    "    ax.set_yticks(np.linspace(np.min(ghost_TFR.freqs),np.max(ghost_TFR.freqs),len(ghost_TFR.freqs)))\n",
    "    ax.set_yticklabels(np.round(ghost_TFR.freqs))\n",
    "    bar = plt.colorbar(i)\n",
    "    ax.set_title(f\"{ch}:  Conflict Trials\")\n",
    "    fig.show()\n",
    "\n",
    "    fig, ax = plt.subplots(figsize = (22, 20))\n",
    "    i = ax.imshow(no_ghost_TFR.data[:, chix, :, :].mean(axis = 0), cmap = 'RdBu_r', interpolation=\"none\", origin=\"lower\", aspect = 'auto', extent=[-2, 2, freqs[0], freqs[-1]], vmin = -2.5, vmax = 2.5)\n",
    "    ax.set_yticks(np.linspace(np.min(ghost_TFR.freqs),np.max(ghost_TFR.freqs),len(ghost_TFR.freqs)))\n",
    "    ax.set_yticklabels(np.round(ghost_TFR.freqs))\n",
    "    bar = plt.colorbar(i)\n",
    "    ax.set_title(f\"{ch}:  No Conflict Trials\")\n",
    "    fig.show()\n",
    "    \n",
    "    chix = chix + 1"
   ]
  },
  {
   "cell_type": "markdown",
   "id": "d6df8072-7f6e-454a-8645-1b4c79db959c",
   "metadata": {
    "tags": []
   },
   "source": [
    "### Export freq data locked to turn around time to csvs"
   ]
  },
  {
   "cell_type": "code",
   "execution_count": null,
   "id": "2ea52dc2-b116-4237-b56c-064db2753d48",
   "metadata": {},
   "outputs": [],
   "source": [
    "# delta\n",
    "extract_freqs(1, 3, \"delta\", \"last_away\", \"amyg\", \"away_locked_ghost\", ghost_TFR, ghost_TFR.metadata.neural_trial_numeric.to_numpy(copy = True))\n",
    "extract_freqs(1, 3, \"delta\", \"last_away\", \"amyg\", \"away_locked_noghost\", no_ghost_TFR, no_ghost_TFR.metadata.neural_trial_numeric.to_numpy(copy = True))\n",
    "# theta\n",
    "extract_freqs(3, 8, \"theta\", \"last_away\", \"amyg\", \"away_locked_ghost\", ghost_TFR, ghost_TFR.metadata.neural_trial_numeric.to_numpy(copy = True))\n",
    "extract_freqs(3, 8, \"theta\", \"last_away\", \"amyg\", \"away_locked_noghost\", no_ghost_TFR, no_ghost_TFR.metadata.neural_trial_numeric.to_numpy(copy = True))\n",
    "# alpha\n",
    "extract_freqs(8, 13, \"alpha\", \"last_away\", \"amyg\", \"away_locked_ghost\", ghost_TFR, ghost_TFR.metadata.neural_trial_numeric.to_numpy(copy = True))\n",
    "extract_freqs(8, 13, \"alpha\", \"last_away\", \"amyg\", \"away_locked_noghost\", no_ghost_TFR, no_ghost_TFR.metadata.neural_trial_numeric.to_numpy(copy = True))\n",
    "# beta\n",
    "extract_freqs(13, 30, \"beta\", \"last_away\", \"amyg\", \"away_locked_ghost\", ghost_TFR, ghost_TFR.metadata.neural_trial_numeric.to_numpy(copy = True))\n",
    "extract_freqs(13, 30, \"beta\", \"last_away\", \"amyg\", \"away_locked_noghost\", no_ghost_TFR, no_ghost_TFR.metadata.neural_trial_numeric.to_numpy(copy = True))\n",
    "# gamma\n",
    "extract_freqs(30, 70, \"gamma\", \"last_away\", \"amyg\", \"away_locked_ghost\", ghost_TFR, ghost_TFR.metadata.neural_trial_numeric.to_numpy(copy = True))\n",
    "extract_freqs(30, 70, \"gamma\", \"last_away\", \"amyg\", \"away_locked_noghost\", no_ghost_TFR, no_ghost_TFR.metadata.neural_trial_numeric.to_numpy(copy = True))\n",
    "# HFA\n",
    "extract_freqs(70, 150, \"hfa\", \"last_away\", \"amyg\", \"away_locked_ghost\", ghost_TFR, ghost_TFR.metadata.neural_trial_numeric.to_numpy(copy = True))\n",
    "extract_freqs(70, 150, \"hfa\", \"last_away\", \"amyg\", \"away_locked_noghost\", no_ghost_TFR, no_ghost_TFR.metadata.neural_trial_numeric.to_numpy(copy = True))"
   ]
  },
  {
   "cell_type": "markdown",
   "id": "c6b75852-eae0-46eb-a5bb-da79cac9ad18",
   "metadata": {
    "tags": []
   },
   "source": [
    "## Cingulate"
   ]
  },
  {
   "cell_type": "code",
   "execution_count": null,
   "id": "92508acd-9948-49c5-a5cd-47ee0bf3c417",
   "metadata": {},
   "outputs": [],
   "source": [
    "cing_list"
   ]
  },
  {
   "cell_type": "code",
   "execution_count": null,
   "id": "e6ebbc02-6af2-44f6-87a4-1f3b729cd22f",
   "metadata": {},
   "outputs": [],
   "source": [
    "away_roi = last_away_epochs.copy().pick_channels(cing_list)"
   ]
  },
  {
   "cell_type": "code",
   "execution_count": null,
   "id": "9bc958a0-b7c4-45b9-b322-6c6e00ef5d35",
   "metadata": {},
   "outputs": [],
   "source": [
    "# Resample to 1000\n",
    "if away_roi.info['sfreq'] > 1000:\n",
    "    away_roi= away_roi.resample(1000)\n"
   ]
  },
  {
   "cell_type": "code",
   "execution_count": null,
   "id": "0b64db0e-dc32-4dda-8d43-31b4c7074fdc",
   "metadata": {},
   "outputs": [],
   "source": [
    "# compute TRF\n",
    "away_TFR = MM_compute_TFR(away_roi,freqs,n_cycles,baseline = (-2,2), zscore=True)\n"
   ]
  },
  {
   "cell_type": "code",
   "execution_count": null,
   "id": "5278434c-cd1b-420e-9af3-dcf5d8638587",
   "metadata": {},
   "outputs": [],
   "source": [
    "away_TFR.crop(tmin = -2, tmax = 2)"
   ]
  },
  {
   "cell_type": "code",
   "execution_count": null,
   "id": "72831f67-2012-4b45-b2d0-7d8c49d9bf92",
   "metadata": {},
   "outputs": [],
   "source": [
    "# separate ghost and no ghost trials\n",
    "\n",
    "ghost_TFR = away_TFR[\"TrialType <= 16\"]\n",
    "no_ghost_TFR = away_TFR[\"TrialType > 16\"]"
   ]
  },
  {
   "cell_type": "code",
   "execution_count": null,
   "id": "1f7e7dbb-8bee-4763-a330-a95758992601",
   "metadata": {},
   "outputs": [],
   "source": [
    "# save TFRs\n",
    "\n",
    "ghost_TFR.save(f\"/home/brooke/knight_server/remote/bstavel/pacman/preprocessing/{subject}/ieeg/last_away/cing_ghost-tfr.h5\")\n",
    "no_ghost_TFR.save(f\"/home/brooke/knight_server/remote/bstavel/pacman/preprocessing/{subject}/ieeg/last_away/cing_noghost-tfr.h5\")\n",
    "\n",
    "# ghost_TFR = mne.time_frequency.read_tfrs(f\"/home/brooke/knight_server/remote/bstavel/pacman/preprocessing/{subject}/ieeg/last_away/cing_ghost-tfr.h5\")\n",
    "# no_ghost_TFR = mne.time_frequency.read_tfrs(f\"/home/brooke/knight_server/remote/bstavel/pacman/preprocessing/{subject}/ieeg/last_away/cing_noghost-tfr.h5\")\n",
    "# ghost_TFR = ghost_TFR[0]\n",
    "# no_ghost_TFR = no_ghost_TFR[0]"
   ]
  },
  {
   "cell_type": "code",
   "execution_count": null,
   "id": "24b5a48c-de71-4e1e-89ca-72e588384a57",
   "metadata": {},
   "outputs": [],
   "source": [
    "plt.rcParams['figure.figsize'] = [22, 20]\n",
    "plt.rcParams.update({'font.size': 18})\n",
    "\n",
    "fig, ax = plt.subplots(figsize = (22, 20))\n",
    "i = ax.imshow(ghost_TFR.data.mean(axis = 0).mean(axis = 0), cmap = 'RdBu_r', interpolation=\"none\", origin=\"lower\", aspect = 'auto', extent=[-2, 2, freqs[0], freqs[-1]], vmin = -1, vmax = 1)\n",
    "ax.set_yticks(np.linspace(np.min(ghost_TFR.freqs),np.max(ghost_TFR.freqs),len(ghost_TFR.freqs)))\n",
    "ax.set_yticklabels(np.round(ghost_TFR.freqs))\n",
    "bar = plt.colorbar(i)\n",
    "ax.set_title(f\"{subject}, Average Cingulate, Conflict Trials, n={len(cing_list)}\", fontsize=22, fontweight = 'bold')\n",
    "fig.savefig(f'figures/{subject}_average_cing_conflict.png', dpi=600)\n",
    "fig.show()\n",
    "\n",
    "\n",
    "fig, ax = plt.subplots(figsize = (22, 20))\n",
    "i = ax.imshow(no_ghost_TFR.data.mean(axis = 0).mean(axis = 0), cmap = 'RdBu_r', interpolation=\"none\", origin=\"lower\", aspect = 'auto', extent=[-2, 2, freqs[0], freqs[-1]], vmin = -1, vmax = 1)\n",
    "ax.set_yticks(np.linspace(np.min(ghost_TFR.freqs),np.max(ghost_TFR.freqs),len(ghost_TFR.freqs)))\n",
    "ax.set_yticklabels(np.round(ghost_TFR.freqs))\n",
    "bar = plt.colorbar(i)\n",
    "ax.set_title(f\"{subject}, Average Cingulate, No-Conflict Trials, n={len(cing_list)}\", fontsize=22, fontweight = 'bold')\n",
    "fig.savefig(f'figures/{subject}_average_cing_noconflict.png', dpi=600)\n",
    "fig.show()\n"
   ]
  },
  {
   "cell_type": "markdown",
   "id": "60019ff3-acb5-49c2-ab3f-7643fb7c2396",
   "metadata": {},
   "source": [
    "### Individual Channels"
   ]
  },
  {
   "cell_type": "code",
   "execution_count": null,
   "id": "f3b09e5a-822e-4faa-9f1f-b82bedf15f75",
   "metadata": {},
   "outputs": [],
   "source": [
    "plt.rcParams['figure.figsize'] = [22, 20]\n",
    "\n",
    "chix = 0\n",
    "for ch in ghost_TFR.ch_names:\n",
    "\n",
    "    fig, ax = plt.subplots(figsize = (22, 20))\n",
    "    i = ax.imshow(ghost_TFR.data[:, chix, :, :].mean(axis = 0), cmap = 'RdBu_r', interpolation=\"none\", origin=\"lower\", aspect = 'auto', extent=[-2, 2, freqs[0], freqs[-1]], vmin = -2.5, vmax = 2.5)\n",
    "    ax.set_yticks(np.linspace(np.min(ghost_TFR.freqs),np.max(ghost_TFR.freqs),len(ghost_TFR.freqs)))\n",
    "    ax.set_yticklabels(np.round(ghost_TFR.freqs))\n",
    "    bar = plt.colorbar(i)\n",
    "    ax.set_title(f\"{ch}:  Conflict Trials\")\n",
    "    fig.show()\n",
    "\n",
    "    fig, ax = plt.subplots(figsize = (22, 20))\n",
    "    i = ax.imshow(no_ghost_TFR.data[:, chix, :, :].mean(axis = 0), cmap = 'RdBu_r', interpolation=\"none\", origin=\"lower\", aspect = 'auto', extent=[-2, 2, freqs[0], freqs[-1]], vmin = -2.5, vmax = 2.5)\n",
    "    ax.set_yticks(np.linspace(np.min(ghost_TFR.freqs),np.max(ghost_TFR.freqs),len(ghost_TFR.freqs)))\n",
    "    ax.set_yticklabels(np.round(ghost_TFR.freqs))\n",
    "    bar = plt.colorbar(i)\n",
    "    ax.set_title(f\"{ch}:  No Conflict Trials\")\n",
    "    fig.show()\n",
    "    \n",
    "    chix = chix + 1"
   ]
  },
  {
   "cell_type": "markdown",
   "id": "0f0d1a10-f76f-4ef9-9ec9-bd6878a5bfc8",
   "metadata": {
    "tags": []
   },
   "source": [
    "### Export freq data locked to turn around time to csvs"
   ]
  },
  {
   "cell_type": "code",
   "execution_count": null,
   "id": "e8ecfb8a-0417-4c85-96a2-c03cb85c88f9",
   "metadata": {},
   "outputs": [],
   "source": [
    "# delta\n",
    "extract_freqs(1, 3, \"delta\", \"last_away\", \"cing\", \"away_locked_ghost\", ghost_TFR, ghost_TFR.metadata.neural_trial_numeric.to_numpy(copy = True))\n",
    "extract_freqs(1, 3, \"delta\", \"last_away\", \"cing\", \"away_locked_noghost\", no_ghost_TFR, no_ghost_TFR.metadata.neural_trial_numeric.to_numpy(copy = True))\n",
    "# theta\n",
    "extract_freqs(3, 8, \"theta\", \"last_away\", \"cing\", \"away_locked_ghost\", ghost_TFR, ghost_TFR.metadata.neural_trial_numeric.to_numpy(copy = True))\n",
    "extract_freqs(3, 8, \"theta\", \"last_away\", \"cing\", \"away_locked_noghost\", no_ghost_TFR, no_ghost_TFR.metadata.neural_trial_numeric.to_numpy(copy = True))\n",
    "# alpha\n",
    "extract_freqs(8, 13, \"alpha\", \"last_away\", \"cing\", \"away_locked_ghost\", ghost_TFR, ghost_TFR.metadata.neural_trial_numeric.to_numpy(copy = True))\n",
    "extract_freqs(8, 13, \"alpha\", \"last_away\", \"cing\", \"away_locked_noghost\", no_ghost_TFR, no_ghost_TFR.metadata.neural_trial_numeric.to_numpy(copy = True))\n",
    "# beta\n",
    "extract_freqs(13, 30, \"beta\", \"last_away\", \"cing\", \"away_locked_ghost\", ghost_TFR, ghost_TFR.metadata.neural_trial_numeric.to_numpy(copy = True))\n",
    "extract_freqs(13, 30, \"beta\", \"last_away\", \"cing\", \"away_locked_noghost\", no_ghost_TFR, no_ghost_TFR.metadata.neural_trial_numeric.to_numpy(copy = True))\n",
    "# gamma\n",
    "extract_freqs(30, 70, \"gamma\", \"last_away\", \"cing\", \"away_locked_ghost\", ghost_TFR, ghost_TFR.metadata.neural_trial_numeric.to_numpy(copy = True))\n",
    "extract_freqs(30, 70, \"gamma\", \"last_away\", \"cing\", \"away_locked_noghost\", no_ghost_TFR, no_ghost_TFR.metadata.neural_trial_numeric.to_numpy(copy = True))\n",
    "# HFA\n",
    "extract_freqs(70, 150, \"hfa\", \"last_away\", \"cing\", \"away_locked_ghost\", ghost_TFR, ghost_TFR.metadata.neural_trial_numeric.to_numpy(copy = True))\n",
    "extract_freqs(70, 150, \"hfa\", \"last_away\", \"cing\", \"away_locked_noghost\", no_ghost_TFR, no_ghost_TFR.metadata.neural_trial_numeric.to_numpy(copy = True))"
   ]
  },
  {
   "cell_type": "markdown",
   "id": "7d20ef33-bde5-4791-81d8-dd08cb365238",
   "metadata": {},
   "source": [
    "# Control Regions"
   ]
  },
  {
   "cell_type": "markdown",
   "id": "21495e34-6407-4cc9-804d-313c1168172f",
   "metadata": {
    "tags": []
   },
   "source": [
    "## Insula"
   ]
  },
  {
   "cell_type": "code",
   "execution_count": null,
   "id": "38740841-aa8b-4913-9eb6-6df8a3a749d9",
   "metadata": {},
   "outputs": [],
   "source": [
    "insula_list"
   ]
  },
  {
   "cell_type": "code",
   "execution_count": null,
   "id": "18044d25-962c-4263-a246-62ad60b40c23",
   "metadata": {},
   "outputs": [],
   "source": [
    "away_roi = last_away_epochs.copy().pick_channels(insula_list)"
   ]
  },
  {
   "cell_type": "code",
   "execution_count": null,
   "id": "45d14db6-4d4d-4dbf-880d-2877622f42ba",
   "metadata": {},
   "outputs": [],
   "source": [
    "# Resample to 1000\n",
    "if away_roi.info['sfreq'] > 1000:\n",
    "    away_roi= away_roi.resample(1000)\n"
   ]
  },
  {
   "cell_type": "code",
   "execution_count": null,
   "id": "22f4917d-b81e-477a-94a4-003f6283f77e",
   "metadata": {},
   "outputs": [],
   "source": [
    "# compute TRF\n",
    "away_TFR = MM_compute_TFR(away_roi,freqs,n_cycles,baseline = (-2,2), zscore=True)\n"
   ]
  },
  {
   "cell_type": "code",
   "execution_count": null,
   "id": "83d28826-f77b-4b19-a043-ffea3095f9c7",
   "metadata": {},
   "outputs": [],
   "source": [
    "away_TFR.crop(tmin = -2, tmax = 2)"
   ]
  },
  {
   "cell_type": "code",
   "execution_count": null,
   "id": "c283dbb7-c2ca-481c-aec9-e1ba3929f200",
   "metadata": {},
   "outputs": [],
   "source": [
    "# separate ghost and no ghost trials\n",
    "\n",
    "ghost_TFR = away_TFR[\"TrialType <= 16\"]\n",
    "no_ghost_TFR = away_TFR[\"TrialType > 16\"]"
   ]
  },
  {
   "cell_type": "code",
   "execution_count": null,
   "id": "9035719d-80ff-4631-bfca-f3889ad183d4",
   "metadata": {},
   "outputs": [],
   "source": [
    "# save TFRs\n",
    "\n",
    "ghost_TFR.save(f\"/home/brooke/knight_server/remote/bstavel/pacman/preprocessing/{subject}/ieeg/last_away/insula_ghost-tfr.h5\")\n",
    "no_ghost_TFR.save(f\"/home/brooke/knight_server/remote/bstavel/pacman/preprocessing/{subject}/ieeg/last_away/insula_noghost-tfr.h5\")\n",
    "\n",
    "# ghost_TFR = mne.time_frequency.read_tfrs(f\"/home/brooke/knight_server/remote/bstavel/pacman/preprocessing/{subject}/ieeg/last_away/insula_ghost-tfr.h5\")\n",
    "# no_ghost_TFR = mne.time_frequency.read_tfrs(f\"/home/brooke/knight_server/remote/bstavel/pacman/preprocessing/{subject}/ieeg/last_away/insula_noghost-tfr.h5\")\n",
    "# ghost_TFR = ghost_TFR[0]\n",
    "# no_ghost_TFR = no_ghost_TFR[0]"
   ]
  },
  {
   "cell_type": "code",
   "execution_count": null,
   "id": "c7974df9-0982-4e2f-a5e8-6523adea6fe4",
   "metadata": {},
   "outputs": [],
   "source": [
    "plt.rcParams['figure.figsize'] = [22, 20]\n",
    "plt.rcParams.update({'font.size': 18})\n",
    "\n",
    "fig, ax = plt.subplots(figsize = (22, 20))\n",
    "i = ax.imshow(ghost_TFR.data.mean(axis = 0).mean(axis = 0), cmap = 'RdBu_r', interpolation=\"none\", origin=\"lower\", aspect = 'auto', extent=[-2, 2, freqs[0], freqs[-1]], vmin = -1, vmax = 1)\n",
    "ax.set_yticks(np.linspace(np.min(ghost_TFR.freqs),np.max(ghost_TFR.freqs),len(ghost_TFR.freqs)))\n",
    "ax.set_yticklabels(np.round(ghost_TFR.freqs))\n",
    "bar = plt.colorbar(i)\n",
    "ax.set_title(f\"{subject}, Average Insula, Conflict Trials, n={len(insula_list)}\", fontsize=22, fontweight = 'bold')\n",
    "fig.savefig(f'figures/{subject}_average_insula_conflict.png', dpi=600)\n",
    "fig.show()\n",
    "\n",
    "\n",
    "fig, ax = plt.subplots(figsize = (22, 20))\n",
    "i = ax.imshow(no_ghost_TFR.data.mean(axis = 0).mean(axis = 0), cmap = 'RdBu_r', interpolation=\"none\", origin=\"lower\", aspect = 'auto', extent=[-2, 2, freqs[0], freqs[-1]], vmin = -1, vmax = 1)\n",
    "ax.set_yticks(np.linspace(np.min(ghost_TFR.freqs),np.max(ghost_TFR.freqs),len(ghost_TFR.freqs)))\n",
    "ax.set_yticklabels(np.round(ghost_TFR.freqs))\n",
    "bar = plt.colorbar(i)\n",
    "ax.set_title(f\"{subject}, Average Insula, No-Conflict Trials, n={len(insula_list)}\", fontsize=22, fontweight = 'bold')\n",
    "fig.savefig(f'figures/{subject}_average_insula_noconflict.png', dpi=600)\n",
    "fig.show()\n"
   ]
  },
  {
   "cell_type": "markdown",
   "id": "686d0db5-7514-46e4-9eb0-d77429ab055d",
   "metadata": {},
   "source": [
    "### Individual Channels"
   ]
  },
  {
   "cell_type": "code",
   "execution_count": null,
   "id": "4c70be96-62eb-4d13-a3a5-769f8fc90a14",
   "metadata": {},
   "outputs": [],
   "source": [
    "plt.rcParams['figure.figsize'] = [22, 20]\n",
    "\n",
    "chix = 0\n",
    "for ch in ghost_TFR.ch_names:\n",
    "\n",
    "    fig, ax = plt.subplots(figsize = (22, 20))\n",
    "    i = ax.imshow(ghost_TFR.data[:, chix, :, :].mean(axis = 0), cmap = 'RdBu_r', interpolation=\"none\", origin=\"lower\", aspect = 'auto', extent=[-2, 2, freqs[0], freqs[-1]], vmin = -2.5, vmax = 2.5)\n",
    "    ax.set_yticks(np.linspace(np.min(ghost_TFR.freqs),np.max(ghost_TFR.freqs),len(ghost_TFR.freqs)))\n",
    "    ax.set_yticklabels(np.round(ghost_TFR.freqs))\n",
    "    bar = plt.colorbar(i)\n",
    "    ax.set_title(f\"{ch}:  Conflict Trials\")\n",
    "    fig.show()\n",
    "\n",
    "    fig, ax = plt.subplots(figsize = (22, 20))\n",
    "    i = ax.imshow(no_ghost_TFR.data[:, chix, :, :].mean(axis = 0), cmap = 'RdBu_r', interpolation=\"none\", origin=\"lower\", aspect = 'auto', extent=[-2, 2, freqs[0], freqs[-1]], vmin = -2.5, vmax = 2.5)\n",
    "    ax.set_yticks(np.linspace(np.min(ghost_TFR.freqs),np.max(ghost_TFR.freqs),len(ghost_TFR.freqs)))\n",
    "    ax.set_yticklabels(np.round(ghost_TFR.freqs))\n",
    "    bar = plt.colorbar(i)\n",
    "    ax.set_title(f\"{ch}:  No Conflict Trials\")\n",
    "    fig.show()\n",
    "    \n",
    "    chix = chix + 1"
   ]
  },
  {
   "cell_type": "markdown",
   "id": "55a15745-13ff-4fb6-957b-91af7dbe492b",
   "metadata": {
    "tags": []
   },
   "source": [
    "### Export freq data locked to turn around time to csvs"
   ]
  },
  {
   "cell_type": "code",
   "execution_count": null,
   "id": "6c1fbd64-b96f-4402-a6f1-e02ad8dbe950",
   "metadata": {},
   "outputs": [],
   "source": [
    "# delta\n",
    "extract_freqs(1, 3, \"delta\", \"last_away\", \"insula\", \"away_locked_ghost\", ghost_TFR, ghost_TFR.metadata.neural_trial_numeric.to_numpy(copy = True))\n",
    "extract_freqs(1, 3, \"delta\", \"last_away\", \"insula\", \"away_locked_noghost\", no_ghost_TFR, no_ghost_TFR.metadata.neural_trial_numeric.to_numpy(copy = True))\n",
    "# theta\n",
    "extract_freqs(3, 8, \"theta\", \"last_away\", \"insula\", \"away_locked_ghost\", ghost_TFR, ghost_TFR.metadata.neural_trial_numeric.to_numpy(copy = True))\n",
    "extract_freqs(3, 8, \"theta\", \"last_away\", \"insula\", \"away_locked_noghost\", no_ghost_TFR, no_ghost_TFR.metadata.neural_trial_numeric.to_numpy(copy = True))\n",
    "# alpha\n",
    "extract_freqs(8, 13, \"alpha\", \"last_away\", \"insula\", \"away_locked_ghost\", ghost_TFR, ghost_TFR.metadata.neural_trial_numeric.to_numpy(copy = True))\n",
    "extract_freqs(8, 13, \"alpha\", \"last_away\", \"insula\", \"away_locked_noghost\", no_ghost_TFR, no_ghost_TFR.metadata.neural_trial_numeric.to_numpy(copy = True))\n",
    "# beta\n",
    "extract_freqs(13, 30, \"beta\", \"last_away\", \"insula\", \"away_locked_ghost\", ghost_TFR, ghost_TFR.metadata.neural_trial_numeric.to_numpy(copy = True))\n",
    "extract_freqs(13, 30, \"beta\", \"last_away\", \"insula\", \"away_locked_noghost\", no_ghost_TFR, no_ghost_TFR.metadata.neural_trial_numeric.to_numpy(copy = True))\n",
    "# gamma\n",
    "extract_freqs(30, 70, \"gamma\", \"last_away\", \"insula\", \"away_locked_ghost\", ghost_TFR, ghost_TFR.metadata.neural_trial_numeric.to_numpy(copy = True))\n",
    "extract_freqs(30, 70, \"gamma\", \"last_away\", \"insula\", \"away_locked_noghost\", no_ghost_TFR, no_ghost_TFR.metadata.neural_trial_numeric.to_numpy(copy = True))\n",
    "# HFA\n",
    "extract_freqs(70, 150, \"hfa\", \"last_away\", \"insula\", \"away_locked_ghost\", ghost_TFR, ghost_TFR.metadata.neural_trial_numeric.to_numpy(copy = True))\n",
    "extract_freqs(70, 150, \"hfa\", \"last_away\", \"insula\", \"away_locked_noghost\", no_ghost_TFR, no_ghost_TFR.metadata.neural_trial_numeric.to_numpy(copy = True))"
   ]
  },
  {
   "cell_type": "markdown",
   "id": "891357a0-090b-4499-9040-4ee885f10f5a",
   "metadata": {
    "tags": []
   },
   "source": [
    "## dlPFC"
   ]
  },
  {
   "cell_type": "code",
   "execution_count": null,
   "id": "790858d6-f6fa-4891-a31a-d497b7c25ade",
   "metadata": {},
   "outputs": [],
   "source": [
    "dlpfc_list"
   ]
  },
  {
   "cell_type": "code",
   "execution_count": null,
   "id": "a612f398-9111-4726-b396-10ab56b21fc0",
   "metadata": {},
   "outputs": [],
   "source": [
    "away_roi = last_away_epochs.copy().pick_channels(dlpfc_list)"
   ]
  },
  {
   "cell_type": "code",
   "execution_count": null,
   "id": "f8f9463a-5ea9-42b9-b202-85cd8ced5634",
   "metadata": {},
   "outputs": [],
   "source": [
    "# Resample to 1000\n",
    "if away_roi.info['sfreq'] > 1000:\n",
    "    away_roi= away_roi.resample(1000)\n"
   ]
  },
  {
   "cell_type": "code",
   "execution_count": null,
   "id": "80b8be82-ebeb-4050-9dd3-3d90dba2b634",
   "metadata": {},
   "outputs": [],
   "source": [
    "# compute TRF\n",
    "away_TFR = MM_compute_TFR(away_roi,freqs,n_cycles,baseline = (-2,2), zscore=True)\n"
   ]
  },
  {
   "cell_type": "code",
   "execution_count": null,
   "id": "ae750084-0cf2-4413-a01d-0da4eec13be3",
   "metadata": {},
   "outputs": [],
   "source": [
    "away_TFR.crop(tmin = -2, tmax = 2)"
   ]
  },
  {
   "cell_type": "code",
   "execution_count": null,
   "id": "a6bd66ed-72b5-4c64-b257-631b61d04f44",
   "metadata": {},
   "outputs": [],
   "source": [
    "# separate ghost and no ghost trials\n",
    "\n",
    "ghost_TFR = away_TFR[\"TrialType <= 16\"]\n",
    "no_ghost_TFR = away_TFR[\"TrialType > 16\"]"
   ]
  },
  {
   "cell_type": "code",
   "execution_count": null,
   "id": "cbbcc282-a78c-423c-b3eb-a6a35ee1b72c",
   "metadata": {},
   "outputs": [],
   "source": [
    "# save TFRs\n",
    "\n",
    "ghost_TFR.save(f\"/home/brooke/knight_server/remote/bstavel/pacman/preprocessing/{subject}/ieeg/last_away/dlpfc_ghost-tfr.h5\")\n",
    "no_ghost_TFR.save(f\"/home/brooke/knight_server/remote/bstavel/pacman/preprocessing/{subject}/ieeg/last_away/dlpfc_noghost-tfr.h5\")\n",
    "\n",
    "# ghost_TFR = mne.time_frequency.read_tfrs(f\"/home/brooke/knight_server/remote/bstavel/pacman/preprocessing/{subject}/ieeg/last_away/dlpfc_ghost-tfr.h5\")\n",
    "# no_ghost_TFR = mne.time_frequency.read_tfrs(f\"/home/brooke/knight_server/remote/bstavel/pacman/preprocessing/{subject}/ieeg/last_away/dlpfc_noghost-tfr.h5\")\n",
    "# ghost_TFR = ghost_TFR[0]\n",
    "# no_ghost_TFR = no_ghost_TFR[0]"
   ]
  },
  {
   "cell_type": "code",
   "execution_count": null,
   "id": "7126134b-44ad-4d15-b603-fdfa864d8b0e",
   "metadata": {},
   "outputs": [],
   "source": [
    "plt.rcParams['figure.figsize'] = [22, 20]\n",
    "plt.rcParams.update({'font.size': 18})\n",
    "\n",
    "fig, ax = plt.subplots(figsize = (22, 20))\n",
    "i = ax.imshow(ghost_TFR.data.mean(axis = 0).mean(axis = 0), cmap = 'RdBu_r', interpolation=\"none\", origin=\"lower\", aspect = 'auto', extent=[-2, 2, freqs[0], freqs[-1]], vmin = -1, vmax = 1)\n",
    "ax.set_yticks(np.linspace(np.min(ghost_TFR.freqs),np.max(ghost_TFR.freqs),len(ghost_TFR.freqs)))\n",
    "ax.set_yticklabels(np.round(ghost_TFR.freqs))\n",
    "bar = plt.colorbar(i)\n",
    "ax.set_title(f\"{subject}, Average dlPFC, Conflict Trials, n={len(dlpfc_list)}\", fontsize=22, fontweight = 'bold')\n",
    "fig.savefig(f'figures/{subject}_average_dlpfc_conflict.png', dpi=600)\n",
    "fig.show()\n",
    "\n",
    "\n",
    "fig, ax = plt.subplots(figsize = (22, 20))\n",
    "i = ax.imshow(no_ghost_TFR.data.mean(axis = 0).mean(axis = 0), cmap = 'RdBu_r', interpolation=\"none\", origin=\"lower\", aspect = 'auto', extent=[-2, 2, freqs[0], freqs[-1]], vmin = -1, vmax = 1)\n",
    "ax.set_yticks(np.linspace(np.min(ghost_TFR.freqs),np.max(ghost_TFR.freqs),len(ghost_TFR.freqs)))\n",
    "ax.set_yticklabels(np.round(ghost_TFR.freqs))\n",
    "bar = plt.colorbar(i)\n",
    "ax.set_title(f\"{subject}, Average dlPFC, No-Conflict Trials, n={len(dlpfc_list)}\", fontsize=22, fontweight = 'bold')\n",
    "fig.savefig(f'figures/{subject}_average_dlpfc_noconflict.png', dpi=600)\n",
    "fig.show()\n"
   ]
  },
  {
   "cell_type": "markdown",
   "id": "42bf26c4-1a79-4b22-890d-aeb943620a6b",
   "metadata": {},
   "source": [
    "### Individual Channels"
   ]
  },
  {
   "cell_type": "code",
   "execution_count": null,
   "id": "4a240192-2c7d-4ebb-a77c-1c733ef39a33",
   "metadata": {},
   "outputs": [],
   "source": [
    "plt.rcParams['figure.figsize'] = [22, 20]\n",
    "\n",
    "chix = 0\n",
    "for ch in ghost_TFR.ch_names:\n",
    "\n",
    "    fig, ax = plt.subplots(figsize = (22, 20))\n",
    "    i = ax.imshow(ghost_TFR.data[:, chix, :, :].mean(axis = 0), cmap = 'RdBu_r', interpolation=\"none\", origin=\"lower\", aspect = 'auto', extent=[-2, 2, freqs[0], freqs[-1]], vmin = -2.5, vmax = 2.5)\n",
    "    ax.set_yticks(np.linspace(np.min(ghost_TFR.freqs),np.max(ghost_TFR.freqs),len(ghost_TFR.freqs)))\n",
    "    ax.set_yticklabels(np.round(ghost_TFR.freqs))\n",
    "    bar = plt.colorbar(i)\n",
    "    ax.set_title(f\"{ch}:  Conflict Trials\")\n",
    "    fig.show()\n",
    "\n",
    "    fig, ax = plt.subplots(figsize = (22, 20))\n",
    "    i = ax.imshow(no_ghost_TFR.data[:, chix, :, :].mean(axis = 0), cmap = 'RdBu_r', interpolation=\"none\", origin=\"lower\", aspect = 'auto', extent=[-2, 2, freqs[0], freqs[-1]], vmin = -2.5, vmax = 2.5)\n",
    "    ax.set_yticks(np.linspace(np.min(ghost_TFR.freqs),np.max(ghost_TFR.freqs),len(ghost_TFR.freqs)))\n",
    "    ax.set_yticklabels(np.round(ghost_TFR.freqs))\n",
    "    bar = plt.colorbar(i)\n",
    "    ax.set_title(f\"{ch}:  No Conflict Trials\")\n",
    "    fig.show()\n",
    "    \n",
    "    chix = chix + 1"
   ]
  },
  {
   "cell_type": "markdown",
   "id": "1bcf5886-74cc-4eec-8e4f-fe63c9a995be",
   "metadata": {
    "tags": []
   },
   "source": [
    "### Export freq data locked to turn around time to csvs"
   ]
  },
  {
   "cell_type": "code",
   "execution_count": null,
   "id": "975e6342-0fa5-4ceb-8ffd-adebae1db63e",
   "metadata": {},
   "outputs": [],
   "source": [
    "# delta\n",
    "extract_freqs(1, 3, \"delta\", \"last_away\", \"dlpfc\", \"away_locked_ghost\", ghost_TFR, ghost_TFR.metadata.neural_trial_numeric.to_numpy(copy = True))\n",
    "extract_freqs(1, 3, \"delta\", \"last_away\", \"dlpfc\", \"away_locked_noghost\", no_ghost_TFR, no_ghost_TFR.metadata.neural_trial_numeric.to_numpy(copy = True))\n",
    "# theta\n",
    "extract_freqs(3, 8, \"theta\", \"last_away\", \"dlpfc\", \"away_locked_ghost\", ghost_TFR, ghost_TFR.metadata.neural_trial_numeric.to_numpy(copy = True))\n",
    "extract_freqs(3, 8, \"theta\", \"last_away\", \"dlpfc\", \"away_locked_noghost\", no_ghost_TFR, no_ghost_TFR.metadata.neural_trial_numeric.to_numpy(copy = True))\n",
    "# alpha\n",
    "extract_freqs(8, 13, \"alpha\", \"last_away\", \"dlpfc\", \"away_locked_ghost\", ghost_TFR, ghost_TFR.metadata.neural_trial_numeric.to_numpy(copy = True))\n",
    "extract_freqs(8, 13, \"alpha\", \"last_away\", \"dlpfc\", \"away_locked_noghost\", no_ghost_TFR, no_ghost_TFR.metadata.neural_trial_numeric.to_numpy(copy = True))\n",
    "# beta\n",
    "extract_freqs(13, 30, \"beta\", \"last_away\", \"dlpfc\", \"away_locked_ghost\", ghost_TFR, ghost_TFR.metadata.neural_trial_numeric.to_numpy(copy = True))\n",
    "extract_freqs(13, 30, \"beta\", \"last_away\", \"dlpfc\", \"away_locked_noghost\", no_ghost_TFR, no_ghost_TFR.metadata.neural_trial_numeric.to_numpy(copy = True))\n",
    "# gamma\n",
    "extract_freqs(30, 70, \"gamma\", \"last_away\", \"dlpfc\", \"away_locked_ghost\", ghost_TFR, ghost_TFR.metadata.neural_trial_numeric.to_numpy(copy = True))\n",
    "extract_freqs(30, 70, \"gamma\", \"last_away\", \"dlpfc\", \"away_locked_noghost\", no_ghost_TFR, no_ghost_TFR.metadata.neural_trial_numeric.to_numpy(copy = True))\n",
    "# HFA\n",
    "extract_freqs(70, 150, \"hfa\", \"last_away\", \"dlpfc\", \"away_locked_ghost\", ghost_TFR, ghost_TFR.metadata.neural_trial_numeric.to_numpy(copy = True))\n",
    "extract_freqs(70, 150, \"hfa\", \"last_away\", \"dlpfc\", \"away_locked_noghost\", no_ghost_TFR, no_ghost_TFR.metadata.neural_trial_numeric.to_numpy(copy = True))"
   ]
  },
  {
   "cell_type": "markdown",
   "id": "1b51ea5d-d2c8-429d-8fd8-899ff472f05c",
   "metadata": {
    "tags": []
   },
   "source": [
    "## Entorhinal Cortex"
   ]
  },
  {
   "cell_type": "code",
   "execution_count": null,
   "id": "c4af203a-73a8-430f-81c2-838974bb5461",
   "metadata": {},
   "outputs": [],
   "source": [
    "ec_list"
   ]
  },
  {
   "cell_type": "code",
   "execution_count": null,
   "id": "80ff48a0-a8d8-42a5-bfd2-1e048a02515b",
   "metadata": {},
   "outputs": [],
   "source": [
    "away_roi = last_away_epochs.copy().pick_channels(ec_list)"
   ]
  },
  {
   "cell_type": "code",
   "execution_count": null,
   "id": "85b49990-bc53-42ca-9971-d73a25a235d3",
   "metadata": {},
   "outputs": [],
   "source": [
    "# Resample to 1000\n",
    "if away_roi.info['sfreq'] > 1000:\n",
    "    away_roi= away_roi.resample(1000)\n"
   ]
  },
  {
   "cell_type": "code",
   "execution_count": null,
   "id": "e4a660fa-5d68-4390-90dd-50eddb407a44",
   "metadata": {},
   "outputs": [],
   "source": [
    "# compute TRF\n",
    "away_TFR = MM_compute_TFR(away_roi,freqs,n_cycles,baseline = (-2,2), zscore=True)\n"
   ]
  },
  {
   "cell_type": "code",
   "execution_count": null,
   "id": "c3a6f8b7-cdde-47e3-a6dd-a668282b4fac",
   "metadata": {},
   "outputs": [],
   "source": [
    "away_TFR.crop(tmin = -2, tmax = 2)"
   ]
  },
  {
   "cell_type": "code",
   "execution_count": null,
   "id": "903769b6-b2d6-490d-b2ed-d1f663f0eb07",
   "metadata": {},
   "outputs": [],
   "source": [
    "# separate ghost and no ghost trials\n",
    "\n",
    "ghost_TFR = away_TFR[\"TrialType <= 16\"]\n",
    "no_ghost_TFR = away_TFR[\"TrialType > 16\"]"
   ]
  },
  {
   "cell_type": "code",
   "execution_count": null,
   "id": "ede628f0-7f4c-4317-adc1-a4556208d21b",
   "metadata": {},
   "outputs": [],
   "source": [
    "# save TFRs\n",
    "\n",
    "ghost_TFR.save(f\"/home/brooke/knight_server/remote/bstavel/pacman/preprocessing/{subject}/ieeg/last_away/ec_ghost-tfr.h5\")\n",
    "no_ghost_TFR.save(f\"/home/brooke/knight_server/remote/bstavel/pacman/preprocessing/{subject}/ieeg/last_away/ec_noghost-tfr.h5\")\n",
    "\n",
    "# ghost_TFR = mne.time_frequency.read_tfrs(f\"/home/brooke/knight_server/remote/bstavel/pacman/preprocessing/{subject}/ieeg/last_away/e_ghost-tfr.h5\")\n",
    "# no_ghost_TFR = mne.time_frequency.read_tfrs(f\"/home/brooke/knight_server/remote/bstavel/pacman/preprocessing/{subject}/ieeg/last_away/e_noghost-tfr.h5\")\n",
    "# ghost_TFR = ghost_TFR[0]\n",
    "# no_ghost_TFR = no_ghost_TFR[0]"
   ]
  },
  {
   "cell_type": "code",
   "execution_count": null,
   "id": "bdd8e3f9-51e0-4026-9119-d42e4abf7675",
   "metadata": {},
   "outputs": [],
   "source": [
    "plt.rcParams['figure.figsize'] = [22, 20]\n",
    "plt.rcParams.update({'font.size': 18})\n",
    "\n",
    "fig, ax = plt.subplots(figsize = (22, 20))\n",
    "i = ax.imshow(ghost_TFR.data.mean(axis = 0).mean(axis = 0), cmap = 'RdBu_r', interpolation=\"none\", origin=\"lower\", aspect = 'auto', extent=[-2, 2, freqs[0], freqs[-1]], vmin = -1, vmax = 1)\n",
    "ax.set_yticks(np.linspace(np.min(ghost_TFR.freqs),np.max(ghost_TFR.freqs),len(ghost_TFR.freqs)))\n",
    "ax.set_yticklabels(np.round(ghost_TFR.freqs))\n",
    "bar = plt.colorbar(i)\n",
    "ax.set_title(f\"{subject}, Average EC, Conflict Trials, n={len(ec_list)}\", fontsize=22, fontweight = 'bold')\n",
    "fig.savefig(f'figures/{subject}_average_ec_conflict.png', dpi=600)\n",
    "fig.show()\n",
    "\n",
    "\n",
    "fig, ax = plt.subplots(figsize = (22, 20))\n",
    "i = ax.imshow(no_ghost_TFR.data.mean(axis = 0).mean(axis = 0), cmap = 'RdBu_r', interpolation=\"none\", origin=\"lower\", aspect = 'auto', extent=[-2, 2, freqs[0], freqs[-1]], vmin = -1, vmax = 1)\n",
    "ax.set_yticks(np.linspace(np.min(ghost_TFR.freqs),np.max(ghost_TFR.freqs),len(ghost_TFR.freqs)))\n",
    "ax.set_yticklabels(np.round(ghost_TFR.freqs))\n",
    "bar = plt.colorbar(i)\n",
    "ax.set_title(f\"{subject}, Average EC, No-Conflict Trials, n={len(ec_list)}\", fontsize=22, fontweight = 'bold')\n",
    "fig.savefig(f'figures/{subject}_average_ec_noconflict.png', dpi=600)\n",
    "fig.show()\n"
   ]
  },
  {
   "cell_type": "markdown",
   "id": "d5fce125-6fdf-44fc-889c-38ab175780db",
   "metadata": {},
   "source": [
    "### Individual Channels"
   ]
  },
  {
   "cell_type": "code",
   "execution_count": null,
   "id": "0e355011-1c86-4745-9109-c08f4cf37b63",
   "metadata": {},
   "outputs": [],
   "source": [
    "plt.rcParams['figure.figsize'] = [22, 20]\n",
    "\n",
    "chix = 0\n",
    "for ch in ghost_TFR.ch_names:\n",
    "\n",
    "    fig, ax = plt.subplots(figsize = (22, 20))\n",
    "    i = ax.imshow(ghost_TFR.data[:, chix, :, :].mean(axis = 0), cmap = 'RdBu_r', interpolation=\"none\", origin=\"lower\", aspect = 'auto', extent=[-2, 2, freqs[0], freqs[-1]], vmin = -2.5, vmax = 2.5)\n",
    "    ax.set_yticks(np.linspace(np.min(ghost_TFR.freqs),np.max(ghost_TFR.freqs),len(ghost_TFR.freqs)))\n",
    "    ax.set_yticklabels(np.round(ghost_TFR.freqs))\n",
    "    bar = plt.colorbar(i)\n",
    "    ax.set_title(f\"{ch}:  Conflict Trials\")\n",
    "    fig.show()\n",
    "\n",
    "    fig, ax = plt.subplots(figsize = (22, 20))\n",
    "    i = ax.imshow(no_ghost_TFR.data[:, chix, :, :].mean(axis = 0), cmap = 'RdBu_r', interpolation=\"none\", origin=\"lower\", aspect = 'auto', extent=[-2, 2, freqs[0], freqs[-1]], vmin = -2.5, vmax = 2.5)\n",
    "    ax.set_yticks(np.linspace(np.min(ghost_TFR.freqs),np.max(ghost_TFR.freqs),len(ghost_TFR.freqs)))\n",
    "    ax.set_yticklabels(np.round(ghost_TFR.freqs))\n",
    "    bar = plt.colorbar(i)\n",
    "    ax.set_title(f\"{ch}:  No Conflict Trials\")\n",
    "    fig.show()\n",
    "    \n",
    "    chix = chix + 1"
   ]
  },
  {
   "cell_type": "markdown",
   "id": "8bdfb80a-703b-4279-88a5-161cb2874007",
   "metadata": {
    "tags": []
   },
   "source": [
    "### Export freq data locked to turn around time to csvs"
   ]
  },
  {
   "cell_type": "code",
   "execution_count": null,
   "id": "64a432d3-f155-4937-b70c-dd706438d1a0",
   "metadata": {},
   "outputs": [],
   "source": [
    "# delta\n",
    "extract_freqs(1, 3, \"delta\", \"last_away\", \"ec\", \"away_locked_ghost\", ghost_TFR, ghost_TFR.metadata.neural_trial_numeric.to_numpy(copy = True))\n",
    "extract_freqs(1, 3, \"delta\", \"last_away\", \"ec\", \"away_locked_noghost\", no_ghost_TFR, no_ghost_TFR.metadata.neural_trial_numeric.to_numpy(copy = True))\n",
    "# theta\n",
    "extract_freqs(3, 8, \"theta\", \"last_away\", \"ec\", \"away_locked_ghost\", ghost_TFR, ghost_TFR.metadata.neural_trial_numeric.to_numpy(copy = True))\n",
    "extract_freqs(3, 8, \"theta\", \"last_away\", \"ec\", \"away_locked_noghost\", no_ghost_TFR, no_ghost_TFR.metadata.neural_trial_numeric.to_numpy(copy = True))\n",
    "# alpha\n",
    "extract_freqs(8, 13, \"alpha\", \"last_away\", \"ec\", \"away_locked_ghost\", ghost_TFR, ghost_TFR.metadata.neural_trial_numeric.to_numpy(copy = True))\n",
    "extract_freqs(8, 13, \"alpha\", \"last_away\", \"ec\", \"away_locked_noghost\", no_ghost_TFR, no_ghost_TFR.metadata.neural_trial_numeric.to_numpy(copy = True))\n",
    "# beta\n",
    "extract_freqs(13, 30, \"beta\", \"last_away\", \"ec\", \"away_locked_ghost\", ghost_TFR, ghost_TFR.metadata.neural_trial_numeric.to_numpy(copy = True))\n",
    "extract_freqs(13, 30, \"beta\", \"last_away\", \"ec\", \"away_locked_noghost\", no_ghost_TFR, no_ghost_TFR.metadata.neural_trial_numeric.to_numpy(copy = True))\n",
    "# gamma\n",
    "extract_freqs(30, 70, \"gamma\", \"last_away\", \"ec\", \"away_locked_ghost\", ghost_TFR, ghost_TFR.metadata.neural_trial_numeric.to_numpy(copy = True))\n",
    "extract_freqs(30, 70, \"gamma\", \"last_away\", \"ec\", \"away_locked_noghost\", no_ghost_TFR, no_ghost_TFR.metadata.neural_trial_numeric.to_numpy(copy = True))\n",
    "# HFA\n",
    "extract_freqs(70, 150, \"hfa\", \"last_away\", \"ec\", \"away_locked_ghost\", ghost_TFR, ghost_TFR.metadata.neural_trial_numeric.to_numpy(copy = True))\n",
    "extract_freqs(70, 150, \"hfa\", \"last_away\", \"ec\", \"away_locked_noghost\", no_ghost_TFR, no_ghost_TFR.metadata.neural_trial_numeric.to_numpy(copy = True))"
   ]
  }
 ],
 "metadata": {
  "kernelspec": {
   "display_name": "Python [conda env:anaconda3-ieeg_analysis]",
   "language": "python",
   "name": "conda-env-anaconda3-ieeg_analysis-py"
  },
  "language_info": {
   "codemirror_mode": {
    "name": "ipython",
    "version": 3
   },
   "file_extension": ".py",
   "mimetype": "text/x-python",
   "name": "python",
   "nbconvert_exporter": "python",
   "pygments_lexer": "ipython3",
   "version": "3.9.12"
  }
 },
 "nbformat": 4,
 "nbformat_minor": 5
}

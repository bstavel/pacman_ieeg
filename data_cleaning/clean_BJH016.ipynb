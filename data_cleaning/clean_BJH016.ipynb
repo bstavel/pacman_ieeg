{
 "cells": [
  {
   "cell_type": "code",
   "execution_count": 1,
   "id": "dd315489-3f41-4316-9ac0-c22b1b48de23",
   "metadata": {},
   "outputs": [],
   "source": [
    "%% morning matlab %%"
   ]
  },
  {
   "cell_type": "markdown",
   "id": "35e56f6b-f4ae-433f-b86e-cfe985d2ffa4",
   "metadata": {},
   "source": [
    "## Convert from BCI2000"
   ]
  },
  {
   "cell_type": "code",
   "execution_count": 2,
   "id": "7c81c4ca-ca11-4c24-bfbb-8b741161e799",
   "metadata": {},
   "outputs": [
    {
     "name": "stdout",
     "output_type": "stream",
     "text": [
      "\n",
      "path_data =\n",
      "\n",
      "    '/home/brooke/knight_server/remote/WashU/data/PacmanTask/BJH016/PacmanTask/ECOGS001R01.dat'\n",
      "\n"
     ]
    }
   ],
   "source": [
    "%% BCI2000 to matlab conversion\n",
    "\n",
    "addpath(genpath('/home/brooke/knight_lab_commons/loading_data_scripts/BCI2000mex'))\n",
    "path_data = '/home/brooke/knight_server/remote/WashU/data/PacmanTask/BJH016/PacmanTask/ECOGS001R01.dat'\n",
    "[signal,states,parameters] = load_bcidat(path_data);"
   ]
  },
  {
   "cell_type": "code",
   "execution_count": null,
   "id": "4895f2d8-f896-46ca-b146-a5486ca010f4",
   "metadata": {},
   "outputs": [],
   "source": [
    "plot(states.Trial_on_off(1:1000000))"
   ]
  },
  {
   "cell_type": "code",
   "execution_count": 16,
   "id": "a7b19668-ba42-4195-b946-a1136e96f285",
   "metadata": {},
   "outputs": [],
   "source": [
    "%% Now add other paths %%\n",
    "% add fieldtrip\n",
    "ftDir = '/home/brooke/knight_server/remote/lbellier/DataWorkspace/_tools/git/fieldtrip/';\n",
    "if exist('ft_defaults.m', 'file') == 0\n",
    "    addpath(ftDir); ft_defaults;\n",
    "end\n",
    "% Ludo's tools\n",
    "addpath('/home/brooke/knight_server/remote/lbellier/DataWorkspace/_tools/');\n",
    "\n",
    "%% Add 'photodiode'\n",
    "signal_photo = [signal, states.Trial_on_off];\n",
    "parameters.ChannelNames.Value{273} =  'photodiode';\n",
    "\n",
    "%% Convert to fieldtrip\n",
    "data = ft_array2data(double(signal_photo),  parameters.SamplingRate.NumericValue, parameters.ChannelNames.Value);\n",
    "\n",
    "%% save %%\n",
    "save('/home/brooke/knight_server/remote/bstavel/pacman_ieeg_data/BJH016/BJH016_raw_data.mat', 'data', '-v7.3');"
   ]
  },
  {
   "cell_type": "markdown",
   "id": "617f00e4-a938-4843-b077-3560390a8467",
   "metadata": {},
   "source": [
    "## After conversion from BCI2000\n",
    "\n",
    "begin here after data from BCI2000 has been converted to fieldtrip"
   ]
  },
  {
   "cell_type": "code",
   "execution_count": 11,
   "id": "ac83a27b-78f9-488a-b7db-904e1ab62719",
   "metadata": {},
   "outputs": [],
   "source": [
    "%% add field trip %%\n",
    "ftDir = '/home/brooke/fieldtrip/fieldtrip-20191213';\n",
    "if exist('ft_defaults.m', 'file') == 0\n",
    "    addpath(ftDir); ft_defaults;\n",
    "end\n",
    "\n",
    "addpath(genpath('/usr/local/MATLAB/R2021b/toolbox/signal/'))"
   ]
  },
  {
   "cell_type": "code",
   "execution_count": null,
   "id": "8269fb64-01a9-49b8-b637-2edc2a68f380",
   "metadata": {},
   "outputs": [],
   "source": [
    "%% load data %%\n",
    "\n",
    "% paths %\n",
    "base_dir = '/home/brooke/knight_server/remote/bstavel/'\n",
    "bj16_path = '/home/brooke/knight_server/remote/bstavel/pacman_ieeg_data/BJH016/BJH016_raw_data.mat'\n",
    "\n",
    "%% loda data %%\n",
    "load(bj16_path)"
   ]
  },
  {
   "cell_type": "code",
   "execution_count": 15,
   "id": "2a7b6cab-852d-4c92-b70e-7fa71557e89b",
   "metadata": {},
   "outputs": [
    {
     "name": "stdout",
     "output_type": "stream",
     "text": [
      "\n",
      "data = \n",
      "\n",
      "  struct with fields:\n",
      "\n",
      "       fsample: 2000\n",
      "    sampleinfo: [1 5901900]\n",
      "         trial: {[273x5901900 uint8]}\n",
      "          time: {[0 5.0000e-04 1.0000e-03 0.0015 0.0020 0.0025 0.0030 ... ]}\n",
      "         label: {273x1 cell}\n",
      "\n"
     ]
    }
   ],
   "source": [
    "data"
   ]
  },
  {
   "cell_type": "code",
   "execution_count": 17,
   "id": "e0b0aafc-d17d-4829-8340-80c1914fa8ec",
   "metadata": {},
   "outputs": [
    {
     "name": "stdout",
     "output_type": "stream",
     "text": [
      "the input is raw data with 273 channels and 1 trials\n",
      "the call to \"ft_selectdata\" took 0 seconds and required the additional allocation of an estimated 1 MB\n",
      "resampling data\n"
     ]
    },
    {
     "name": "stderr",
     "output_type": "stream",
     "text": [
      "\u001b[0;31mUnrecognized function or variable 'eml_bitand'.\n",
      "\n",
      "Error in kaiser (line 41)\n",
      "iseven = ONE - eml_bitand(nw,ONE);\n",
      "\n",
      "Error in signal.internal.resample.createFilter (line 28)\n",
      "        h = firls( L-1, [0 2*fc 2*fc 1], [1 1 0 0]).*kaiser(L,bta)';\n",
      "\n",
      "Error in signal.internal.resample.uniformResample (line 43)\n",
      "[h,hout,delay] = signal.internal.resample.createFilter(x,Lx,p,q,N,bta);\n",
      "\n",
      "Error in resample (line 198)\n",
      "            signal.internal.resample.uniformResample(xIn, isDimValSet, Dim, dimIn, numericArgs{:});\n",
      "\n",
      "Error in ft_resampledata (line 231)\n",
      "        newdat = transpose(resample(transpose(olddat),fsres,fsorig));\n",
      "\n",
      "\u001b[0m"
     ]
    }
   ],
   "source": [
    "%% Downsample %%\n",
    "cfg = [];\n",
    "cfg.resamplefs = 1080;\n",
    "data = ft_resampledata(cfg, data);"
   ]
  },
  {
   "cell_type": "code",
   "execution_count": 14,
   "id": "4c867e4c-e47b-49cd-8450-a01f85c053ff",
   "metadata": {},
   "outputs": [
    {
     "name": "stdout",
     "output_type": "stream",
     "text": [
      "the call to \"ft_selectdata\" took 0 seconds and required the additional allocation of an estimated 0 MB\n",
      "preprocessing\n"
     ]
    },
    {
     "name": "stderr",
     "output_type": "stream",
     "text": [
      "\u001b[0;31mUnable to resolve the name signalwavelet.internal.isodd.\n",
      "\n",
      "Error in isodd (line 9)\n",
      "tf = signalwavelet.internal.isodd(x);\n",
      "\n",
      "Error in buttap (line 44)\n",
      "if isodd(n) % n is odd\n",
      "\n",
      "Error in butter>butterImpl (line 101)\n",
      "[zs,ps,ks] = buttap(n1);\n",
      "\n",
      "Error in butter (line 59)\n",
      "   [varargout{1:nargout}] = butterImpl(n,Wn,varargin{:});\n",
      "\n",
      "Error in ft_preproc_lowpassfilter (line 156)\n",
      "    [B, A] = butter(N, max(Flp)/Fn);\n",
      "\n",
      "Error in preproc (line 388)\n",
      "if strcmp(cfg.lpfilter, 'yes'),     dat = ft_preproc_lowpassfilter(dat, fsample, cfg.lpfreq, cfg.lpfiltord, cfg.lpfilttype, cfg.lpfiltdir, cfg.lpinstabilityfix, cfg.lpfiltdf, cfg.lpfiltwintype, cfg.lpfiltdev, cfg.plotfiltresp, cfg.usefftfilt); end\n",
      "\n",
      "Error in ft_preprocessing (line 377)\n",
      "    [dataout.trial{i}, dataout.label, dataout.time{i}, cfg] = preproc(data.trial{i}, data.label,  data.time{i}, cfg, begpadding, endpadding);\n",
      "\n",
      "\u001b[0m"
     ]
    }
   ],
   "source": [
    "%% Detrend and notch clinical data\n",
    "HPcutoff = 1; % high-pass filter cutoff\n",
    "LPcutoff = 200; % low-pass filter cutoff change to 150\n",
    "powerLineF0 = 60;\n",
    "cfg = [];\n",
    "cfg.bsfilter = 'yes';\n",
    "cfg.bsfreq = (powerLineF0 * (1:round((LPcutoff+powerLineF0)/powerLineF0)) + [-1; 1])';\n",
    "if data.fsample <= 512\n",
    "    cfg.bsfreq = cfg.bsfreq(1:end-1, :); % for fs=512Hz, e.g. OS13, OS21\n",
    "end\n",
    "cfg.bsfiltord = 3;\n",
    "cfg.hpfilter = 'yes';\n",
    "cfg.hpfreq = HPcutoff;\n",
    "cfg.hpfiltord = 3;\n",
    "cfg.lpfilter = 'yes';\n",
    "cfg.lpfreq = LPcutoff;\n",
    "cfg.lpfiltord = 3;\n",
    "filtered_data = ft_preprocessing(cfg, data);\n"
   ]
  },
  {
   "cell_type": "code",
   "execution_count": null,
   "id": "dc7f3c7f-8afc-48d3-9a59-697ddb34c35b",
   "metadata": {},
   "outputs": [],
   "source": [
    "%plot native\n",
    "%% display %%\n",
    "cfg = [];\n",
    "cfg.viewmode = 'vertical';\n",
    "cfg.preproc.demean = 'yes';\n",
    "% cfg.blocksize = 10;\n",
    "% cfg.channel = goodChansDispIdx;\n",
    "% cfg.position = pos2;\n",
    "% cfg.ylim = [-1 1] * .0005;\n",
    "ft_databrowser(cfg, data);"
   ]
  },
  {
   "cell_type": "code",
   "execution_count": null,
   "id": "cdad7281-07f9-4e94-ac6e-6496b32695e4",
   "metadata": {},
   "outputs": [],
   "source": [
    "%% display %%\n",
    "cfg = [];\n",
    "cfg.viewmode = 'vertical';\n",
    "cfg.preproc.demean = 'yes';\n",
    "% cfg.blocksize = 10;\n",
    "% cfg.channel = goodChansDispIdx;\n",
    "% cfg.position = pos2;\n",
    "% cfg.ylim = [-1 1] * .0005;\n",
    "ft_databrowser(cfg, data);"
   ]
  },
  {
   "cell_type": "code",
   "execution_count": null,
   "id": "06316496-e9f7-43c3-ba79-4dc74db26659",
   "metadata": {},
   "outputs": [],
   "source": [
    "data"
   ]
  },
  {
   "cell_type": "markdown",
   "id": "67f1cd29-5a6b-48f7-b851-e01a2c83ef8d",
   "metadata": {},
   "source": [
    "# Cleaning Notes with Bob\n",
    "## 1/19/2022\n",
    "\n",
    "Clean data, but with a lot of spiking activity\n",
    "\n",
    "Epileptic channels: Gl1, GL2, GL3, HL1, HL2\n",
    "\n",
    "Noisy channels: BL1, F8, EL1, EL2 , HL14, HL15, HL16\n",
    "\n",
    "Epochs that may need to be removed (depending on how the data looks after removing epileptic channels + nearby channels): LOOK AT THIS AGAIN FOR THIS PATEINT\n",
    "`116-117, 127.5:129, 160-161.5, 343-345, 540-541, 6216-623, 681-683`\n"
   ]
  },
  {
   "cell_type": "code",
   "execution_count": null,
   "id": "e33a7b0c-d6d9-4ae3-8506-da10f58aeb1d",
   "metadata": {},
   "outputs": [],
   "source": []
  }
 ],
 "metadata": {
  "kernelspec": {
   "display_name": "Matlab",
   "language": "matlab",
   "name": "matlab"
  },
  "language_info": {
   "codemirror_mode": "octave",
   "file_extension": ".m",
   "help_links": [
    {
     "text": "MetaKernel Magics",
     "url": "https://metakernel.readthedocs.io/en/latest/source/README.html"
    }
   ],
   "mimetype": "text/x-octave",
   "name": "matlab",
   "version": "0.16.11"
  }
 },
 "nbformat": 4,
 "nbformat_minor": 5
}

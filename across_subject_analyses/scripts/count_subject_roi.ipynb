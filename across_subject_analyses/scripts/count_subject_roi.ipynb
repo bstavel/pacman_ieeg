{
 "cells": [
  {
   "cell_type": "code",
   "execution_count": 1,
   "id": "28a2ba62-bdde-4bcd-8d89-75b091afbd30",
   "metadata": {},
   "outputs": [],
   "source": [
    "import matplotlib\n",
    "import matplotlib.pyplot as plt\n",
    "import pandas as pd\n",
    "import numpy as np\n",
    "from scipy import signal, stats\n",
    "import mat73\n",
    "import re\n",
    "from neurodsp.timefrequency import compute_wavelet_transform\n",
    "import os\n",
    "import mne\n",
    "import IPython\n",
    "import seaborn as sns\n",
    "import scipy\n",
    "import joblib\n",
    "import h5io\n",
    "import dask.array as da \n",
    "import itertools\n",
    "\n",
    "import statsmodels\n",
    "from statsmodels import stats\n",
    "from statsmodels.stats import multitest\n",
    "\n",
    "# Import required code for visualizing example models\n",
    "from fooof import FOOOF\n",
    "from fooof.sim.gen import gen_power_spectrum\n",
    "from fooof.sim.utils import set_random_seed\n",
    "from fooof.plts.spectra import plot_spectra\n",
    "from fooof.plts.annotate import plot_annotated_model\n",
    "from neurodsp.utils import create_times\n",
    "from neurodsp.plts.time_series import plot_time_series\n",
    "from neurodsp.spectral import compute_spectrum, rotate_powerlaw\n",
    "from neurodsp.plts.spectral import plot_power_spectra\n"
   ]
  },
  {
   "cell_type": "code",
   "execution_count": 2,
   "id": "45d3a1a5-2cc1-42f8-a8d2-ea04f361da08",
   "metadata": {
    "tags": []
   },
   "outputs": [
    {
     "name": "stdout",
     "output_type": "stream",
     "text": [
      "    subject\n",
      "0    BJH021\n",
      "1    BJH025\n",
      "2    BJH016\n",
      "3   SLCH002\n",
      "4    BJH026\n",
      "5    BJH027\n",
      "6    BJH029\n",
      "7    BJH039\n",
      "8    BJH041\n",
      "9      LL10\n",
      "10     LL12\n",
      "11     LL13\n",
      "12     LL14\n",
      "13     LL17\n",
      "14     LL19\n"
     ]
    }
   ],
   "source": [
    "\n",
    "# Subject and ROI lists\n",
    "sub_list = ['BJH021', 'BJH025', 'BJH016', 'SLCH002', 'BJH026', 'BJH027', 'BJH029', 'BJH039', 'BJH041', 'LL10', 'LL12', 'LL13', 'LL14', 'LL17', 'LL19']\n",
    "\n",
    "# Prepare DataFrame\n",
    "sub_roi_df = pd.DataFrame({'subject': sub_list})\n",
    "\n",
    "# Display the DataFrame\n",
    "print(sub_roi_df)\n"
   ]
  },
  {
   "cell_type": "code",
   "execution_count": 3,
   "id": "81cef100-7892-4d68-a045-151cd60e4582",
   "metadata": {},
   "outputs": [
    {
     "name": "stdout",
     "output_type": "stream",
     "text": [
      "Reading /home/brooke/pacman/preprocessing/BJH021/ieeg/BJH021_bp_filtered_clean_first_move_events.fif ...\n"
     ]
    },
    {
     "name": "stderr",
     "output_type": "stream",
     "text": [
      "/tmp/ipykernel_5360/541109368.py:4: RuntimeWarning: This filename (/home/brooke/pacman/preprocessing/BJH021/ieeg/BJH021_bp_filtered_clean_first_move_events.fif) does not conform to MNE naming conventions. All epochs files should end with -epo.fif, -epo.fif.gz, _epo.fif or _epo.fif.gz\n",
      "  first_move_epochs = mne.read_epochs(f\"{preproc_data_dir}/{sub}_bp_filtered_clean_first_move_events.fif\")\n"
     ]
    },
    {
     "name": "stdout",
     "output_type": "stream",
     "text": [
      "    Found the data of interest:\n",
      "        t =   -5000.00 ...    5000.00 ms\n",
      "        0 CTF compensation matrices available\n",
      "Reading /home/brooke/pacman/preprocessing/BJH021/ieeg/BJH021_bp_filtered_clean_first_move_events-1.fif ...\n",
      "    Found the data of interest:\n",
      "        t =   -5000.00 ...    5000.00 ms\n",
      "        0 CTF compensation matrices available\n",
      "Not setting metadata\n",
      "239 matching events found\n",
      "No baseline correction applied\n",
      "0 projection items activated\n",
      "Reading /home/brooke/pacman/preprocessing/BJH025/ieeg/BJH025_bp_filtered_clean_first_move_events.fif ...\n"
     ]
    },
    {
     "name": "stderr",
     "output_type": "stream",
     "text": [
      "/tmp/ipykernel_5360/541109368.py:4: RuntimeWarning: This filename (/home/brooke/pacman/preprocessing/BJH025/ieeg/BJH025_bp_filtered_clean_first_move_events.fif) does not conform to MNE naming conventions. All epochs files should end with -epo.fif, -epo.fif.gz, _epo.fif or _epo.fif.gz\n",
      "  first_move_epochs = mne.read_epochs(f\"{preproc_data_dir}/{sub}_bp_filtered_clean_first_move_events.fif\")\n"
     ]
    },
    {
     "name": "stdout",
     "output_type": "stream",
     "text": [
      "    Found the data of interest:\n",
      "        t =   -2000.00 ...    5000.00 ms\n",
      "        0 CTF compensation matrices available\n",
      "Reading /home/brooke/pacman/preprocessing/BJH025/ieeg/BJH025_bp_filtered_clean_first_move_events-1.fif ...\n",
      "    Found the data of interest:\n",
      "        t =   -2000.00 ...    5000.00 ms\n",
      "        0 CTF compensation matrices available\n",
      "Not setting metadata\n",
      "238 matching events found\n",
      "No baseline correction applied\n",
      "0 projection items activated\n",
      "Reading /home/brooke/pacman/preprocessing/BJH016/ieeg/BJH016_bp_filtered_clean_first_move_events.fif ...\n"
     ]
    },
    {
     "name": "stderr",
     "output_type": "stream",
     "text": [
      "/tmp/ipykernel_5360/541109368.py:4: RuntimeWarning: This filename (/home/brooke/pacman/preprocessing/BJH016/ieeg/BJH016_bp_filtered_clean_first_move_events.fif) does not conform to MNE naming conventions. All epochs files should end with -epo.fif, -epo.fif.gz, _epo.fif or _epo.fif.gz\n",
      "  first_move_epochs = mne.read_epochs(f\"{preproc_data_dir}/{sub}_bp_filtered_clean_first_move_events.fif\")\n"
     ]
    },
    {
     "name": "stdout",
     "output_type": "stream",
     "text": [
      "    Found the data of interest:\n",
      "        t =   -5000.00 ...    5000.00 ms\n",
      "        0 CTF compensation matrices available\n",
      "Reading /home/brooke/pacman/preprocessing/BJH016/ieeg/BJH016_bp_filtered_clean_first_move_events-1.fif ...\n",
      "    Found the data of interest:\n",
      "        t =   -5000.00 ...    5000.00 ms\n",
      "        0 CTF compensation matrices available\n",
      "Reading /home/brooke/pacman/preprocessing/BJH016/ieeg/BJH016_bp_filtered_clean_first_move_events-2.fif ...\n",
      "    Found the data of interest:\n",
      "        t =   -5000.00 ...    5000.00 ms\n",
      "        0 CTF compensation matrices available\n",
      "Reading /home/brooke/pacman/preprocessing/BJH016/ieeg/BJH016_bp_filtered_clean_first_move_events-3.fif ...\n",
      "    Found the data of interest:\n",
      "        t =   -5000.00 ...    5000.00 ms\n",
      "        0 CTF compensation matrices available\n",
      "Not setting metadata\n",
      "440 matching events found\n",
      "No baseline correction applied\n",
      "0 projection items activated\n",
      "Reading /home/brooke/pacman/preprocessing/SLCH002/ieeg/SLCH002_bp_filtered_clean_first_move_events.fif ...\n"
     ]
    },
    {
     "name": "stderr",
     "output_type": "stream",
     "text": [
      "/tmp/ipykernel_5360/541109368.py:4: RuntimeWarning: This filename (/home/brooke/pacman/preprocessing/SLCH002/ieeg/SLCH002_bp_filtered_clean_first_move_events.fif) does not conform to MNE naming conventions. All epochs files should end with -epo.fif, -epo.fif.gz, _epo.fif or _epo.fif.gz\n",
      "  first_move_epochs = mne.read_epochs(f\"{preproc_data_dir}/{sub}_bp_filtered_clean_first_move_events.fif\")\n"
     ]
    },
    {
     "name": "stdout",
     "output_type": "stream",
     "text": [
      "    Found the data of interest:\n",
      "        t =   -5000.00 ...    5000.00 ms\n",
      "        0 CTF compensation matrices available\n",
      "Reading /home/brooke/pacman/preprocessing/SLCH002/ieeg/SLCH002_bp_filtered_clean_first_move_events-1.fif ...\n",
      "    Found the data of interest:\n",
      "        t =   -5000.00 ...    5000.00 ms\n",
      "        0 CTF compensation matrices available\n",
      "Not setting metadata\n",
      "239 matching events found\n",
      "No baseline correction applied\n",
      "0 projection items activated\n",
      "Reading /home/brooke/pacman/preprocessing/BJH026/ieeg/BJH026_bp_filtered_clean_first_move_events.fif ...\n"
     ]
    },
    {
     "name": "stderr",
     "output_type": "stream",
     "text": [
      "/tmp/ipykernel_5360/541109368.py:4: RuntimeWarning: This filename (/home/brooke/pacman/preprocessing/BJH026/ieeg/BJH026_bp_filtered_clean_first_move_events.fif) does not conform to MNE naming conventions. All epochs files should end with -epo.fif, -epo.fif.gz, _epo.fif or _epo.fif.gz\n",
      "  first_move_epochs = mne.read_epochs(f\"{preproc_data_dir}/{sub}_bp_filtered_clean_first_move_events.fif\")\n"
     ]
    },
    {
     "name": "stdout",
     "output_type": "stream",
     "text": [
      "    Found the data of interest:\n",
      "        t =   -5000.00 ...    5000.00 ms\n",
      "        0 CTF compensation matrices available\n",
      "Not setting metadata\n",
      "239 matching events found\n",
      "No baseline correction applied\n",
      "0 projection items activated\n",
      "Reading /home/brooke/pacman/preprocessing/BJH027/ieeg/BJH027_bp_filtered_clean_first_move_events.fif ...\n"
     ]
    },
    {
     "name": "stderr",
     "output_type": "stream",
     "text": [
      "/tmp/ipykernel_5360/541109368.py:4: RuntimeWarning: This filename (/home/brooke/pacman/preprocessing/BJH027/ieeg/BJH027_bp_filtered_clean_first_move_events.fif) does not conform to MNE naming conventions. All epochs files should end with -epo.fif, -epo.fif.gz, _epo.fif or _epo.fif.gz\n",
      "  first_move_epochs = mne.read_epochs(f\"{preproc_data_dir}/{sub}_bp_filtered_clean_first_move_events.fif\")\n"
     ]
    },
    {
     "name": "stdout",
     "output_type": "stream",
     "text": [
      "    Found the data of interest:\n",
      "        t =   -5000.00 ...    5000.00 ms\n",
      "        0 CTF compensation matrices available\n",
      "Reading /home/brooke/pacman/preprocessing/BJH027/ieeg/BJH027_bp_filtered_clean_first_move_events-1.fif ...\n",
      "    Found the data of interest:\n",
      "        t =   -5000.00 ...    5000.00 ms\n",
      "        0 CTF compensation matrices available\n",
      "Not setting metadata\n",
      "240 matching events found\n",
      "No baseline correction applied\n",
      "0 projection items activated\n",
      "Reading /home/brooke/pacman/preprocessing/BJH029/ieeg/BJH029_bp_filtered_clean_first_move_events.fif ...\n"
     ]
    },
    {
     "name": "stderr",
     "output_type": "stream",
     "text": [
      "/tmp/ipykernel_5360/541109368.py:4: RuntimeWarning: This filename (/home/brooke/pacman/preprocessing/BJH029/ieeg/BJH029_bp_filtered_clean_first_move_events.fif) does not conform to MNE naming conventions. All epochs files should end with -epo.fif, -epo.fif.gz, _epo.fif or _epo.fif.gz\n",
      "  first_move_epochs = mne.read_epochs(f\"{preproc_data_dir}/{sub}_bp_filtered_clean_first_move_events.fif\")\n"
     ]
    },
    {
     "name": "stdout",
     "output_type": "stream",
     "text": [
      "    Found the data of interest:\n",
      "        t =   -5000.00 ...    5000.00 ms\n",
      "        0 CTF compensation matrices available\n",
      "Reading /home/brooke/pacman/preprocessing/BJH029/ieeg/BJH029_bp_filtered_clean_first_move_events-1.fif ...\n",
      "    Found the data of interest:\n",
      "        t =   -5000.00 ...    5000.00 ms\n",
      "        0 CTF compensation matrices available\n",
      "Not setting metadata\n",
      "238 matching events found\n",
      "No baseline correction applied\n",
      "0 projection items activated\n",
      "Reading /home/brooke/pacman/preprocessing/BJH039/ieeg/BJH039_bp_filtered_clean_first_move_events.fif ...\n"
     ]
    },
    {
     "name": "stderr",
     "output_type": "stream",
     "text": [
      "/tmp/ipykernel_5360/541109368.py:4: RuntimeWarning: This filename (/home/brooke/pacman/preprocessing/BJH039/ieeg/BJH039_bp_filtered_clean_first_move_events.fif) does not conform to MNE naming conventions. All epochs files should end with -epo.fif, -epo.fif.gz, _epo.fif or _epo.fif.gz\n",
      "  first_move_epochs = mne.read_epochs(f\"{preproc_data_dir}/{sub}_bp_filtered_clean_first_move_events.fif\")\n"
     ]
    },
    {
     "name": "stdout",
     "output_type": "stream",
     "text": [
      "    Found the data of interest:\n",
      "        t =   -5000.00 ...    5000.00 ms\n",
      "        0 CTF compensation matrices available\n",
      "Reading /home/brooke/pacman/preprocessing/BJH039/ieeg/BJH039_bp_filtered_clean_first_move_events-1.fif ...\n",
      "    Found the data of interest:\n",
      "        t =   -5000.00 ...    5000.00 ms\n",
      "        0 CTF compensation matrices available\n",
      "Not setting metadata\n",
      "221 matching events found\n",
      "No baseline correction applied\n",
      "0 projection items activated\n",
      "Reading /home/brooke/pacman/preprocessing/BJH041/ieeg/BJH041_bp_filtered_clean_first_move_events.fif ...\n"
     ]
    },
    {
     "name": "stderr",
     "output_type": "stream",
     "text": [
      "/tmp/ipykernel_5360/541109368.py:4: RuntimeWarning: This filename (/home/brooke/pacman/preprocessing/BJH041/ieeg/BJH041_bp_filtered_clean_first_move_events.fif) does not conform to MNE naming conventions. All epochs files should end with -epo.fif, -epo.fif.gz, _epo.fif or _epo.fif.gz\n",
      "  first_move_epochs = mne.read_epochs(f\"{preproc_data_dir}/{sub}_bp_filtered_clean_first_move_events.fif\")\n"
     ]
    },
    {
     "name": "stdout",
     "output_type": "stream",
     "text": [
      "    Found the data of interest:\n",
      "        t =   -5000.00 ...    5000.00 ms\n",
      "        0 CTF compensation matrices available\n",
      "Reading /home/brooke/pacman/preprocessing/BJH041/ieeg/BJH041_bp_filtered_clean_first_move_events-1.fif ...\n",
      "    Found the data of interest:\n",
      "        t =   -5000.00 ...    5000.00 ms\n",
      "        0 CTF compensation matrices available\n",
      "Not setting metadata\n",
      "239 matching events found\n",
      "No baseline correction applied\n",
      "0 projection items activated\n",
      "Reading /home/brooke/pacman/preprocessing/LL10/ieeg/LL10_bp_filtered_clean_first_move_events.fif ...\n",
      "    Found the data of interest:\n",
      "        t =   -5000.00 ...    5000.00 ms\n",
      "        0 CTF compensation matrices available\n"
     ]
    },
    {
     "name": "stderr",
     "output_type": "stream",
     "text": [
      "/tmp/ipykernel_5360/541109368.py:4: RuntimeWarning: This filename (/home/brooke/pacman/preprocessing/LL10/ieeg/LL10_bp_filtered_clean_first_move_events.fif) does not conform to MNE naming conventions. All epochs files should end with -epo.fif, -epo.fif.gz, _epo.fif or _epo.fif.gz\n",
      "  first_move_epochs = mne.read_epochs(f\"{preproc_data_dir}/{sub}_bp_filtered_clean_first_move_events.fif\")\n"
     ]
    },
    {
     "name": "stdout",
     "output_type": "stream",
     "text": [
      "Not setting metadata\n",
      "239 matching events found\n",
      "No baseline correction applied\n",
      "0 projection items activated\n",
      "Reading /home/brooke/pacman/preprocessing/LL12/ieeg/LL12_bp_filtered_clean_first_move_events.fif ...\n"
     ]
    },
    {
     "name": "stderr",
     "output_type": "stream",
     "text": [
      "/tmp/ipykernel_5360/541109368.py:4: RuntimeWarning: This filename (/home/brooke/pacman/preprocessing/LL12/ieeg/LL12_bp_filtered_clean_first_move_events.fif) does not conform to MNE naming conventions. All epochs files should end with -epo.fif, -epo.fif.gz, _epo.fif or _epo.fif.gz\n",
      "  first_move_epochs = mne.read_epochs(f\"{preproc_data_dir}/{sub}_bp_filtered_clean_first_move_events.fif\")\n"
     ]
    },
    {
     "name": "stdout",
     "output_type": "stream",
     "text": [
      "    Found the data of interest:\n",
      "        t =   -5000.00 ...    5000.00 ms\n",
      "        0 CTF compensation matrices available\n",
      "Not setting metadata\n",
      "260 matching events found\n",
      "No baseline correction applied\n",
      "0 projection items activated\n",
      "Reading /home/brooke/pacman/preprocessing/LL13/ieeg/LL13_bp_filtered_clean_first_move_events.fif ...\n",
      "    Found the data of interest:\n",
      "        t =   -5000.00 ...    5000.00 ms\n",
      "        0 CTF compensation matrices available\n"
     ]
    },
    {
     "name": "stderr",
     "output_type": "stream",
     "text": [
      "/tmp/ipykernel_5360/541109368.py:4: RuntimeWarning: This filename (/home/brooke/pacman/preprocessing/LL13/ieeg/LL13_bp_filtered_clean_first_move_events.fif) does not conform to MNE naming conventions. All epochs files should end with -epo.fif, -epo.fif.gz, _epo.fif or _epo.fif.gz\n",
      "  first_move_epochs = mne.read_epochs(f\"{preproc_data_dir}/{sub}_bp_filtered_clean_first_move_events.fif\")\n"
     ]
    },
    {
     "name": "stdout",
     "output_type": "stream",
     "text": [
      "Not setting metadata\n",
      "239 matching events found\n",
      "No baseline correction applied\n",
      "0 projection items activated\n",
      "Reading /home/brooke/pacman/preprocessing/LL14/ieeg/LL14_bp_filtered_clean_first_move_events.fif ...\n"
     ]
    },
    {
     "name": "stderr",
     "output_type": "stream",
     "text": [
      "/tmp/ipykernel_5360/541109368.py:4: RuntimeWarning: This filename (/home/brooke/pacman/preprocessing/LL14/ieeg/LL14_bp_filtered_clean_first_move_events.fif) does not conform to MNE naming conventions. All epochs files should end with -epo.fif, -epo.fif.gz, _epo.fif or _epo.fif.gz\n",
      "  first_move_epochs = mne.read_epochs(f\"{preproc_data_dir}/{sub}_bp_filtered_clean_first_move_events.fif\")\n"
     ]
    },
    {
     "name": "stdout",
     "output_type": "stream",
     "text": [
      "    Found the data of interest:\n",
      "        t =   -5000.00 ...    5000.00 ms\n",
      "        0 CTF compensation matrices available\n",
      "Not setting metadata\n",
      "815 matching events found\n",
      "No baseline correction applied\n",
      "0 projection items activated\n",
      "Reading /home/brooke/pacman/preprocessing/LL17/ieeg/LL17_bp_filtered_clean_first_move_events.fif ...\n",
      "    Found the data of interest:\n",
      "        t =   -5000.00 ...    5000.00 ms\n",
      "        0 CTF compensation matrices available\n"
     ]
    },
    {
     "name": "stderr",
     "output_type": "stream",
     "text": [
      "/tmp/ipykernel_5360/541109368.py:4: RuntimeWarning: This filename (/home/brooke/pacman/preprocessing/LL17/ieeg/LL17_bp_filtered_clean_first_move_events.fif) does not conform to MNE naming conventions. All epochs files should end with -epo.fif, -epo.fif.gz, _epo.fif or _epo.fif.gz\n",
      "  first_move_epochs = mne.read_epochs(f\"{preproc_data_dir}/{sub}_bp_filtered_clean_first_move_events.fif\")\n"
     ]
    },
    {
     "name": "stdout",
     "output_type": "stream",
     "text": [
      "Not setting metadata\n",
      "245 matching events found\n",
      "No baseline correction applied\n",
      "0 projection items activated\n",
      "Reading /home/brooke/pacman/preprocessing/LL19/ieeg/LL19_bp_filtered_clean_first_move_events.fif ...\n",
      "    Found the data of interest:\n",
      "        t =   -5000.00 ...    5000.00 ms\n",
      "        0 CTF compensation matrices available\n"
     ]
    },
    {
     "name": "stderr",
     "output_type": "stream",
     "text": [
      "/tmp/ipykernel_5360/541109368.py:4: RuntimeWarning: This filename (/home/brooke/pacman/preprocessing/LL19/ieeg/LL19_bp_filtered_clean_first_move_events.fif) does not conform to MNE naming conventions. All epochs files should end with -epo.fif, -epo.fif.gz, _epo.fif or _epo.fif.gz\n",
      "  first_move_epochs = mne.read_epochs(f\"{preproc_data_dir}/{sub}_bp_filtered_clean_first_move_events.fif\")\n"
     ]
    },
    {
     "name": "stdout",
     "output_type": "stream",
     "text": [
      "Not setting metadata\n",
      "238 matching events found\n",
      "No baseline correction applied\n",
      "0 projection items activated\n"
     ]
    }
   ],
   "source": [
    "for sub in sub_list:\n",
    "    # load in raw data to get good epochs #\n",
    "    preproc_data_dir = f\"/home/brooke/pacman/preprocessing/{sub}/ieeg\"\n",
    "    first_move_epochs = mne.read_epochs(f\"{preproc_data_dir}/{sub}_bp_filtered_clean_first_move_events.fif\")\n",
    "\n",
    "    ## Dictionary of electrode locations ##\n",
    "    # Pull mapping ROI to elecs\n",
    "    %run /home/brooke/pacman/preprocessing/scripts/roi.py\n",
    "    ROIs = ROIs[sub]\n",
    "\n",
    "    ## prep lists\n",
    "\n",
    "    # limbic ROI\n",
    "    hc_list = []\n",
    "    ofc_list = []\n",
    "    amyg_list = []\n",
    "    cing_list = []\n",
    "    sgACC_list = []\n",
    "    dACC_list = []\n",
    "    dlpfc_list = []\n",
    "    sfg_list = []\n",
    "    mfg_list = []\n",
    "\n",
    "    # control ROI\n",
    "    insula_list = []\n",
    "    dlpfc_list = []\n",
    "    ec_list = []\n",
    "    \n",
    "    # exclude bad ROI from list\n",
    "    channels = [item for item in first_move_epochs.info['ch_names'] if '-' in item]\n",
    "    pairs_long_name = [ch.split('-') for ch in channels]\n",
    "    bidx = len(first_move_epochs.info['bads']) +1\n",
    "    pairs_name = pairs_long_name[bidx:len(pairs_long_name)]\n",
    "\n",
    "\n",
    "    # sort ROI into lists\n",
    "    for ix in range(0, len(pairs_name)):\n",
    "        if pairs_name[ix][0] in ROIs['hc'] or pairs_name[ix][1] in ROIs['hc']:\n",
    "            hc_list.append(first_move_epochs.info['ch_names'][ix + bidx])\n",
    "        if pairs_name[ix][0] in ROIs['ofc'] or pairs_name[ix][1] in ROIs['ofc']:\n",
    "            ofc_list.append(first_move_epochs.info['ch_names'][ix + bidx])\n",
    "        if pairs_name[ix][0] in ROIs['amyg'] or pairs_name[ix][1] in ROIs['amyg']:\n",
    "            amyg_list.append(first_move_epochs.info['ch_names'][ix + bidx])       \n",
    "        if pairs_name[ix][0] in ROIs['cing'] or pairs_name[ix][1] in ROIs['cing']:\n",
    "            cing_list.append(first_move_epochs.info['ch_names'][ix + bidx])       \n",
    "        if pairs_name[ix][0] in ROIs['sgACC'] or pairs_name[ix][1] in ROIs['sgACC']:\n",
    "            sgACC_list.append(first_move_epochs.info['ch_names'][ix + bidx])       \n",
    "        if pairs_name[ix][0] in ROIs['dACC'] or pairs_name[ix][1] in ROIs['dACC']:\n",
    "            dACC_list.append(first_move_epochs.info['ch_names'][ix + bidx])            \n",
    "\n",
    "        # control roi\n",
    "        if pairs_name[ix][0] in ROIs['insula'] or pairs_name[ix][1] in ROIs['insula']:\n",
    "            insula_list.append(first_move_epochs.info['ch_names'][ix + bidx])       \n",
    "        if pairs_name[ix][0] in ROIs['dlpfc'] or pairs_name[ix][1] in ROIs['dlpfc']:\n",
    "            dlpfc_list.append(first_move_epochs.info['ch_names'][ix + bidx])       \n",
    "        if pairs_name[ix][0] in ROIs['sfg'] or pairs_name[ix][1] in ROIs['sfg']:\n",
    "            sfg_list.append(first_move_epochs.info['ch_names'][ix + bidx])       \n",
    "        if pairs_name[ix][0] in ROIs['mfg'] or pairs_name[ix][1] in ROIs['mfg']:\n",
    "            mfg_list.append(first_move_epochs.info['ch_names'][ix + bidx])       \n",
    "        if pairs_name[ix][0] in ROIs['ec'] or pairs_name[ix][1] in ROIs['ec']:\n",
    "            ec_list.append(first_move_epochs.info['ch_names'][ix + bidx])   \n",
    "            \n",
    "            \n",
    "    ## add to sub_roi_df\n",
    "    sub_roi_df.loc[sub_roi_df['subject'] == sub, 'hc'] = len(hc_list)\n",
    "    sub_roi_df.loc[sub_roi_df['subject'] == sub, 'amyg'] = len(amyg_list)\n",
    "    sub_roi_df.loc[sub_roi_df['subject'] == sub, 'ofc'] = len(ofc_list)\n",
    "    sub_roi_df.loc[sub_roi_df['subject'] == sub, 'cing'] = len(cing_list)\n",
    "    sub_roi_df.loc[sub_roi_df['subject'] == sub, 'sgACC'] = len(sgACC_list)\n",
    "    sub_roi_df.loc[sub_roi_df['subject'] == sub, 'dACC'] = len(dACC_list)\n",
    "    sub_roi_df.loc[sub_roi_df['subject'] == sub, 'sfg'] = len(sfg_list)\n",
    "    sub_roi_df.loc[sub_roi_df['subject'] == sub, 'mfg'] = len(mfg_list)\n",
    "    sub_roi_df.loc[sub_roi_df['subject'] == sub, 'insula'] = len(insula_list)\n",
    "    sub_roi_df.loc[sub_roi_df['subject'] == sub, 'dlpfc'] = len(dlpfc_list)\n",
    "    \n",
    "           "
   ]
  },
  {
   "cell_type": "code",
   "execution_count": 4,
   "metadata": {},
   "outputs": [
    {
     "data": {
      "text/html": [
       "<div>\n",
       "<style scoped>\n",
       "    .dataframe tbody tr th:only-of-type {\n",
       "        vertical-align: middle;\n",
       "    }\n",
       "\n",
       "    .dataframe tbody tr th {\n",
       "        vertical-align: top;\n",
       "    }\n",
       "\n",
       "    .dataframe thead th {\n",
       "        text-align: right;\n",
       "    }\n",
       "</style>\n",
       "<table border=\"1\" class=\"dataframe\">\n",
       "  <thead>\n",
       "    <tr style=\"text-align: right;\">\n",
       "      <th></th>\n",
       "      <th>subject</th>\n",
       "      <th>hc</th>\n",
       "      <th>amyg</th>\n",
       "      <th>ofc</th>\n",
       "      <th>cing</th>\n",
       "      <th>sgACC</th>\n",
       "      <th>dACC</th>\n",
       "      <th>sfg</th>\n",
       "      <th>mfg</th>\n",
       "      <th>insula</th>\n",
       "      <th>dlpfc</th>\n",
       "    </tr>\n",
       "  </thead>\n",
       "  <tbody>\n",
       "    <tr>\n",
       "      <th>0</th>\n",
       "      <td>BJH021</td>\n",
       "      <td>5.0</td>\n",
       "      <td>8.0</td>\n",
       "      <td>10.0</td>\n",
       "      <td>4.0</td>\n",
       "      <td>0.0</td>\n",
       "      <td>4.0</td>\n",
       "      <td>0.0</td>\n",
       "      <td>9.0</td>\n",
       "      <td>14.0</td>\n",
       "      <td>9.0</td>\n",
       "    </tr>\n",
       "    <tr>\n",
       "      <th>1</th>\n",
       "      <td>BJH025</td>\n",
       "      <td>6.0</td>\n",
       "      <td>12.0</td>\n",
       "      <td>12.0</td>\n",
       "      <td>2.0</td>\n",
       "      <td>2.0</td>\n",
       "      <td>0.0</td>\n",
       "      <td>4.0</td>\n",
       "      <td>4.0</td>\n",
       "      <td>12.0</td>\n",
       "      <td>8.0</td>\n",
       "    </tr>\n",
       "    <tr>\n",
       "      <th>2</th>\n",
       "      <td>BJH016</td>\n",
       "      <td>9.0</td>\n",
       "      <td>3.0</td>\n",
       "      <td>14.0</td>\n",
       "      <td>8.0</td>\n",
       "      <td>4.0</td>\n",
       "      <td>4.0</td>\n",
       "      <td>0.0</td>\n",
       "      <td>12.0</td>\n",
       "      <td>12.0</td>\n",
       "      <td>12.0</td>\n",
       "    </tr>\n",
       "    <tr>\n",
       "      <th>3</th>\n",
       "      <td>SLCH002</td>\n",
       "      <td>10.0</td>\n",
       "      <td>3.0</td>\n",
       "      <td>13.0</td>\n",
       "      <td>7.0</td>\n",
       "      <td>7.0</td>\n",
       "      <td>0.0</td>\n",
       "      <td>0.0</td>\n",
       "      <td>6.0</td>\n",
       "      <td>14.0</td>\n",
       "      <td>6.0</td>\n",
       "    </tr>\n",
       "    <tr>\n",
       "      <th>4</th>\n",
       "      <td>BJH026</td>\n",
       "      <td>0.0</td>\n",
       "      <td>4.0</td>\n",
       "      <td>2.0</td>\n",
       "      <td>2.0</td>\n",
       "      <td>2.0</td>\n",
       "      <td>0.0</td>\n",
       "      <td>0.0</td>\n",
       "      <td>5.0</td>\n",
       "      <td>2.0</td>\n",
       "      <td>5.0</td>\n",
       "    </tr>\n",
       "    <tr>\n",
       "      <th>5</th>\n",
       "      <td>BJH027</td>\n",
       "      <td>6.0</td>\n",
       "      <td>11.0</td>\n",
       "      <td>12.0</td>\n",
       "      <td>0.0</td>\n",
       "      <td>0.0</td>\n",
       "      <td>0.0</td>\n",
       "      <td>0.0</td>\n",
       "      <td>4.0</td>\n",
       "      <td>16.0</td>\n",
       "      <td>4.0</td>\n",
       "    </tr>\n",
       "    <tr>\n",
       "      <th>6</th>\n",
       "      <td>BJH029</td>\n",
       "      <td>13.0</td>\n",
       "      <td>10.0</td>\n",
       "      <td>7.0</td>\n",
       "      <td>0.0</td>\n",
       "      <td>0.0</td>\n",
       "      <td>0.0</td>\n",
       "      <td>0.0</td>\n",
       "      <td>0.0</td>\n",
       "      <td>11.0</td>\n",
       "      <td>0.0</td>\n",
       "    </tr>\n",
       "    <tr>\n",
       "      <th>7</th>\n",
       "      <td>BJH039</td>\n",
       "      <td>13.0</td>\n",
       "      <td>1.0</td>\n",
       "      <td>18.0</td>\n",
       "      <td>9.0</td>\n",
       "      <td>1.0</td>\n",
       "      <td>8.0</td>\n",
       "      <td>0.0</td>\n",
       "      <td>20.0</td>\n",
       "      <td>0.0</td>\n",
       "      <td>20.0</td>\n",
       "    </tr>\n",
       "    <tr>\n",
       "      <th>8</th>\n",
       "      <td>BJH041</td>\n",
       "      <td>9.0</td>\n",
       "      <td>5.0</td>\n",
       "      <td>5.0</td>\n",
       "      <td>0.0</td>\n",
       "      <td>0.0</td>\n",
       "      <td>0.0</td>\n",
       "      <td>0.0</td>\n",
       "      <td>0.0</td>\n",
       "      <td>6.0</td>\n",
       "      <td>0.0</td>\n",
       "    </tr>\n",
       "    <tr>\n",
       "      <th>9</th>\n",
       "      <td>LL10</td>\n",
       "      <td>4.0</td>\n",
       "      <td>1.0</td>\n",
       "      <td>1.0</td>\n",
       "      <td>6.0</td>\n",
       "      <td>1.0</td>\n",
       "      <td>5.0</td>\n",
       "      <td>0.0</td>\n",
       "      <td>10.0</td>\n",
       "      <td>0.0</td>\n",
       "      <td>10.0</td>\n",
       "    </tr>\n",
       "    <tr>\n",
       "      <th>10</th>\n",
       "      <td>LL12</td>\n",
       "      <td>2.0</td>\n",
       "      <td>2.0</td>\n",
       "      <td>1.0</td>\n",
       "      <td>1.0</td>\n",
       "      <td>0.0</td>\n",
       "      <td>1.0</td>\n",
       "      <td>7.0</td>\n",
       "      <td>6.0</td>\n",
       "      <td>3.0</td>\n",
       "      <td>12.0</td>\n",
       "    </tr>\n",
       "    <tr>\n",
       "      <th>11</th>\n",
       "      <td>LL13</td>\n",
       "      <td>1.0</td>\n",
       "      <td>2.0</td>\n",
       "      <td>2.0</td>\n",
       "      <td>3.0</td>\n",
       "      <td>0.0</td>\n",
       "      <td>3.0</td>\n",
       "      <td>4.0</td>\n",
       "      <td>11.0</td>\n",
       "      <td>0.0</td>\n",
       "      <td>15.0</td>\n",
       "    </tr>\n",
       "    <tr>\n",
       "      <th>12</th>\n",
       "      <td>LL14</td>\n",
       "      <td>2.0</td>\n",
       "      <td>2.0</td>\n",
       "      <td>2.0</td>\n",
       "      <td>0.0</td>\n",
       "      <td>0.0</td>\n",
       "      <td>0.0</td>\n",
       "      <td>5.0</td>\n",
       "      <td>14.0</td>\n",
       "      <td>0.0</td>\n",
       "      <td>17.0</td>\n",
       "    </tr>\n",
       "    <tr>\n",
       "      <th>13</th>\n",
       "      <td>LL17</td>\n",
       "      <td>4.0</td>\n",
       "      <td>1.0</td>\n",
       "      <td>1.0</td>\n",
       "      <td>1.0</td>\n",
       "      <td>1.0</td>\n",
       "      <td>0.0</td>\n",
       "      <td>0.0</td>\n",
       "      <td>6.0</td>\n",
       "      <td>0.0</td>\n",
       "      <td>6.0</td>\n",
       "    </tr>\n",
       "    <tr>\n",
       "      <th>14</th>\n",
       "      <td>LL19</td>\n",
       "      <td>3.0</td>\n",
       "      <td>1.0</td>\n",
       "      <td>4.0</td>\n",
       "      <td>2.0</td>\n",
       "      <td>2.0</td>\n",
       "      <td>0.0</td>\n",
       "      <td>0.0</td>\n",
       "      <td>10.0</td>\n",
       "      <td>0.0</td>\n",
       "      <td>10.0</td>\n",
       "    </tr>\n",
       "  </tbody>\n",
       "</table>\n",
       "</div>"
      ],
      "text/plain": [
       "    subject    hc  amyg   ofc  cing  sgACC  dACC  sfg   mfg  insula  dlpfc\n",
       "0    BJH021   5.0   8.0  10.0   4.0    0.0   4.0  0.0   9.0    14.0    9.0\n",
       "1    BJH025   6.0  12.0  12.0   2.0    2.0   0.0  4.0   4.0    12.0    8.0\n",
       "2    BJH016   9.0   3.0  14.0   8.0    4.0   4.0  0.0  12.0    12.0   12.0\n",
       "3   SLCH002  10.0   3.0  13.0   7.0    7.0   0.0  0.0   6.0    14.0    6.0\n",
       "4    BJH026   0.0   4.0   2.0   2.0    2.0   0.0  0.0   5.0     2.0    5.0\n",
       "5    BJH027   6.0  11.0  12.0   0.0    0.0   0.0  0.0   4.0    16.0    4.0\n",
       "6    BJH029  13.0  10.0   7.0   0.0    0.0   0.0  0.0   0.0    11.0    0.0\n",
       "7    BJH039  13.0   1.0  18.0   9.0    1.0   8.0  0.0  20.0     0.0   20.0\n",
       "8    BJH041   9.0   5.0   5.0   0.0    0.0   0.0  0.0   0.0     6.0    0.0\n",
       "9      LL10   4.0   1.0   1.0   6.0    1.0   5.0  0.0  10.0     0.0   10.0\n",
       "10     LL12   2.0   2.0   1.0   1.0    0.0   1.0  7.0   6.0     3.0   12.0\n",
       "11     LL13   1.0   2.0   2.0   3.0    0.0   3.0  4.0  11.0     0.0   15.0\n",
       "12     LL14   2.0   2.0   2.0   0.0    0.0   0.0  5.0  14.0     0.0   17.0\n",
       "13     LL17   4.0   1.0   1.0   1.0    1.0   0.0  0.0   6.0     0.0    6.0\n",
       "14     LL19   3.0   1.0   4.0   2.0    2.0   0.0  0.0  10.0     0.0   10.0"
      ]
     },
     "execution_count": 4,
     "metadata": {},
     "output_type": "execute_result"
    }
   ],
   "source": [
    "sub_roi_df"
   ]
  },
  {
   "cell_type": "code",
   "execution_count": 7,
   "metadata": {},
   "outputs": [
    {
     "name": "stdout",
     "output_type": "stream",
     "text": [
      "hc         87.0\n",
      "amyg       66.0\n",
      "ofc       104.0\n",
      "cing       45.0\n",
      "sgACC      20.0\n",
      "dACC       25.0\n",
      "sfg        20.0\n",
      "mfg       117.0\n",
      "insula     90.0\n",
      "dlpfc     134.0\n",
      "dtype: float64\n"
     ]
    }
   ],
   "source": [
    "\n",
    "sum_of_counts = sub_roi_df.drop('subject', axis=1).sum()\n",
    "print(sum_of_counts)\n"
   ]
  },
  {
   "cell_type": "code",
   "execution_count": 9,
   "metadata": {},
   "outputs": [
    {
     "data": {
      "text/plain": [
       "hc        37.0\n",
       "amyg      31.0\n",
       "ofc       53.0\n",
       "cing      31.0\n",
       "sgACC     14.0\n",
       "dACC      17.0\n",
       "sfg       15.0\n",
       "mfg       58.0\n",
       "insula    55.0\n",
       "dlpfc     72.0\n",
       "dtype: float64"
      ]
     },
     "execution_count": 9,
     "metadata": {},
     "output_type": "execute_result"
    }
   ],
   "source": [
    "first_subs = ['BJH021', 'BJH025', 'BJH016', 'SLCH002', 'LL10', 'LL12', 'LL13']\n",
    "first_cohort_df = sub_roi_df[sub_roi_df['subject'].isin(first_subs)]\n",
    "first_cohort_df.drop('subject', axis=1).sum()"
   ]
  },
  {
   "cell_type": "code",
   "execution_count": 10,
   "metadata": {},
   "outputs": [
    {
     "data": {
      "text/plain": [
       "hc        50.0\n",
       "amyg      35.0\n",
       "ofc       51.0\n",
       "cing      14.0\n",
       "sgACC      6.0\n",
       "dACC       8.0\n",
       "sfg        5.0\n",
       "mfg       59.0\n",
       "insula    35.0\n",
       "dlpfc     62.0\n",
       "dtype: float64"
      ]
     },
     "execution_count": 10,
     "metadata": {},
     "output_type": "execute_result"
    }
   ],
   "source": [
    "first_subs = ['BJH021', 'BJH025', 'BJH016', 'SLCH002', 'LL10', 'LL12', 'LL13']\n",
    "first_cohort_df = sub_roi_df[~sub_roi_df['subject'].isin(first_subs)]\n",
    "first_cohort_df.drop('subject', axis=1).sum()"
   ]
  },
  {
   "cell_type": "code",
   "execution_count": 11,
   "metadata": {},
   "outputs": [
    {
     "data": {
      "text/plain": [
       "15"
      ]
     },
     "execution_count": 11,
     "metadata": {},
     "output_type": "execute_result"
    }
   ],
   "source": [
    "# Total subjects\n",
    "\n",
    "len(sub_list)"
   ]
  },
  {
   "cell_type": "code",
   "execution_count": null,
   "metadata": {},
   "outputs": [],
   "source": []
  }
 ],
 "metadata": {
  "kernelspec": {
   "display_name": "ieeg_analysis2",
   "language": "python",
   "name": "python3"
  },
  "language_info": {
   "codemirror_mode": {
    "name": "ipython",
    "version": 3
   },
   "file_extension": ".py",
   "mimetype": "text/x-python",
   "name": "python",
   "nbconvert_exporter": "python",
   "pygments_lexer": "ipython3",
   "version": "3.9.18"
  }
 },
 "nbformat": 4,
 "nbformat_minor": 5
}

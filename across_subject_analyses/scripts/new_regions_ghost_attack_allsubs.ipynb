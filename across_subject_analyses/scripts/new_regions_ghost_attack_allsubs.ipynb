{
 "cells": [
  {
   "cell_type": "markdown",
   "id": "f37d7b5d-a4b3-4e88-a504-5ffae72bd568",
   "metadata": {},
   "source": [
    "# Ghost Attack"
   ]
  },
  {
   "cell_type": "code",
   "execution_count": 7,
   "id": "930ff0b0-02c4-429c-a88a-9fa7a218e693",
   "metadata": {
    "execution": {
     "iopub.execute_input": "2024-01-12T07:44:27.419097Z",
     "iopub.status.busy": "2024-01-12T07:44:27.418104Z",
     "iopub.status.idle": "2024-01-12T07:44:28.568726Z",
     "shell.execute_reply": "2024-01-12T07:44:28.568117Z"
    }
   },
   "outputs": [],
   "source": [
    "import matplotlib\n",
    "# matplotlib.use(\"Qt5Agg\")\n",
    "import matplotlib.pyplot as plt\n",
    "import pandas as pd\n",
    "import numpy as np\n",
    "from scipy import signal, stats\n",
    "import mat73\n",
    "import re\n",
    "from neurodsp.timefrequency import compute_wavelet_transform\n",
    "import os\n",
    "import mne\n",
    "import IPython\n",
    "import seaborn as sns\n",
    "import scipy\n",
    "import joblib\n",
    "import pickle\n",
    "\n",
    "import statsmodels\n",
    "from statsmodels import stats\n",
    "from statsmodels.stats import multitest\n",
    "\n",
    "# Import required code for visualizing example models\n",
    "from fooof import FOOOF\n",
    "from fooof.sim.gen import gen_power_spectrum\n",
    "from fooof.sim.utils import set_random_seed\n",
    "from fooof.plts.spectra import plot_spectra\n",
    "from fooof.plts.annotate import plot_annotated_model\n",
    "from neurodsp.utils import create_times\n",
    "from neurodsp.plts.time_series import plot_time_series\n",
    "from neurodsp.spectral import compute_spectrum, rotate_powerlaw\n",
    "from neurodsp.plts.spectral import plot_power_spectra\n",
    "\n",
    "## import custom functions\n",
    "import sys\n",
    "sys.path.append('/home/brooke/pacman/preprocessing/scripts')\n",
    "from preproc_functions import *\n",
    "import average_tfr_functions\n",
    "\n"
   ]
  },
  {
   "cell_type": "code",
   "execution_count": 3,
   "id": "f9525d93",
   "metadata": {
    "execution": {
     "iopub.execute_input": "2024-01-12T07:44:28.576243Z",
     "iopub.status.busy": "2024-01-12T07:44:28.575400Z",
     "iopub.status.idle": "2024-01-12T07:44:28.745897Z",
     "shell.execute_reply": "2024-01-12T07:44:28.746362Z"
    }
   },
   "outputs": [],
   "source": [
    "# folders\n",
    "raw_dir = '/home/brooke/pacman/raw_data'\n",
    "preproc_dir = '/home/brooke/pacman/preprocessing'\n",
    "tfr_dir = '/home/brooke/knight_server/remote/bstavel/pacman/preprocessing'\n",
    "\n",
    "# subjects\n",
    "sub_list = ['BJH021', 'BJH025', 'BJH016', 'SLCH002', 'BJH026', 'BJH027', 'BJH029', 'BJH039', 'BJH041', 'LL10', 'LL12', 'LL13', 'LL14', 'LL17', 'LL19']\n",
    "\n",
    "# conditions\n",
    "conditions = ['TrialType <= 16']\n"
   ]
  },
  {
   "cell_type": "markdown",
   "metadata": {},
   "source": [
    "## Functions"
   ]
  },
  {
   "cell_type": "code",
   "execution_count": 4,
   "metadata": {},
   "outputs": [],
   "source": [
    "def calculate_subregion_ghost_attack_average(sub_list, string_filters, roi, sub_roi):\n",
    "    \"\"\"\n",
    "    Calculates the average TFRs for the GHOST ATTACK condition across subjects,\n",
    "    handling potential differences in sampling rates and saving progress for\n",
    "    efficiency.\n",
    "\n",
    "    Args:\n",
    "        sub_list (list): A list of subject IDs to process.\n",
    "        string_filters (list): A list of strings to filter TFR cases by.\n",
    "        roi (str): The name of the region of interest.\n",
    "\n",
    "    Returns:\n",
    "        list: A list of lists containing average TFRs for each string filter.\n",
    "\n",
    "    Steps:\n",
    "        1. Iterates through subjects:\n",
    "            - Checks for TFR file existence.\n",
    "            - Loads and preprocesses TFR data (log and zscore).\n",
    "            - Filters TFR cases based on string_filters.\n",
    "            - Calculates mean TFRs for each case and appends to a list.\n",
    "            - Handles exceptions and reports any errors.\n",
    "        2. Saves intermediate progress to a pickle file.\n",
    "        3. Invert list structure for easier processing.\n",
    "        4. Calculates average TFRs for each string filter:\n",
    "            - Identifies subjects with high or low sampling rates.\n",
    "            - Calculates separate means for high and low rate TFRs.\n",
    "            - Combines and averages TFRs from different sampling rates if applicable.\n",
    "        5. Returns a list of average TFRs for each string filter.\n",
    "    \"\"\"    \n",
    "    tfrs = []\n",
    "    used_subs = []\n",
    "    for subject in sub_list:\n",
    "\n",
    "        # try:\n",
    "        if os.path.exists(f\"{tfr_dir}/{subject}/ieeg/ghost_attack/{roi}-tfr.h5\"):\n",
    "            # load data\n",
    "            used_subs.append(subject)\n",
    "            \n",
    "            # load data\n",
    "            tmp_TFR = mne.time_frequency.read_tfrs(f\"{tfr_dir}/{subject}/ieeg/ghost_attack/{roi}-tfr.h5\")\n",
    "\n",
    "            # zscore and log\n",
    "            tmp_TFR = log_and_zscore_TFR(tmp_TFR[0], baseline = (-1,3), logflag=True)\n",
    "\n",
    "            ## MONICA TODO\n",
    "            # need to calculate mfg_tfr and replace tmp_TFR with mfg_tfr\n",
    "\n",
    "            tfr_cases = []\n",
    "            for case in string_filters:            \n",
    "                # filter\n",
    "                tfr_case = mfg_tfr[case]\n",
    "                # append\n",
    "                tfr_cases.append(tfr_case.data.mean(axis = 0).mean(axis = 0))\n",
    "\n",
    "            # get mean and append\n",
    "            tfrs.append(tfr_cases)\n",
    "\n",
    "        # except Exception as e:\n",
    "        #     print(f\"Failed to load {subject}\")\n",
    "        #     print(e)\n",
    "        #     used_subs.remove(subject)\n",
    "        #     continue\n",
    "\n",
    "        print(f\"currently used subs: {used_subs}\")\n",
    "\n",
    "    # save progress cuz it is so long to load these dang things       \n",
    "    with open(f'../ieeg/ghost_attack_average_{roi}.pkl', 'wb') as f:\n",
    "        pickle.dump(tfrs, f)                \n",
    "        \n",
    "    # invert list so the outer list is the string filter\n",
    "    tfrs_cases = [[tfrs[j][i] for j in range(len(tfrs))] for i in range(len(tfrs[0]))]\n",
    "\n",
    "    all_subs_averages = []\n",
    "    for tfr_case in tfrs_cases:\n",
    "\n",
    "        if any(\"LL\" in subject for subject in used_subs):\n",
    "\n",
    "            # get indicies of high/low samp rate subs\n",
    "            first_ll_sub = [subject for subject in used_subs if \"LL\" in subject][0]\n",
    "            ll_begin = used_subs.index(first_ll_sub)\n",
    "\n",
    "            # high sampling rate\n",
    "            washu_tfrs = np.asarray(tfr_case[0:ll_begin])\n",
    "            washu_tfrs_mean = washu_tfrs.mean(axis = 0)\n",
    "\n",
    "            # Low sampling rate\n",
    "            ll_tfrs = np.asarray(tfr_case[ll_begin:])\n",
    "            ll_tfrs_mean = ll_tfrs.mean(axis = 0)\n",
    "\n",
    "            # combine\n",
    "            all_subs_tfrs = np.stack((washu_tfrs_mean[:, ::2], ll_tfrs_mean[:, 0:2001]))\n",
    "        \n",
    "            # mean\n",
    "            all_subs_average = all_subs_tfrs.mean(axis = 0)\n",
    "            all_subs_averages.append(all_subs_average)\n",
    "            \n",
    "        else:\n",
    "            \n",
    "            # high sampling rate\n",
    "            washu_tfrs = np.asarray(tfr_case)\n",
    "            washu_tfrs_mean = washu_tfrs.mean(axis = 0)\n",
    "\n",
    "            # mean\n",
    "            all_subs_average = washu_tfrs_mean\n",
    "            all_subs_averages.append(all_subs_average)    \n",
    "\n",
    "    return all_subs_averages\n"
   ]
  },
  {
   "cell_type": "code",
   "execution_count": 5,
   "metadata": {},
   "outputs": [],
   "source": [
    "def get_roi_elec_lists(epochs, roi):\n",
    "\n",
    "    # prep lists\n",
    "    roi_list = []\n",
    "    roi_names = []\n",
    "    roi_indices = []\n",
    "\n",
    "    # exclude bad ROI from list\n",
    "    pairs_long_name = [ch.split('-') for ch in epochs.info['ch_names']]\n",
    "    bidx = len(epochs.info['bads']) +1\n",
    "    pairs_name = pairs_long_name[bidx:len(pairs_long_name)]\n",
    "\n",
    "    # sort ROI into lists\n",
    "    for ix in range(0, len(pairs_name)):\n",
    "        if pairs_name[ix][0] in ROIs[roi] or pairs_name[ix][1] in ROIs[roi]:\n",
    "            roi_list.append(epochs.info['ch_names'][ix + bidx])\n",
    "            roi_names.append(pairs_name[ix])\n",
    "            roi_indices.append(ix)\n",
    "\n",
    "    return roi_list, roi_names, roi_indices"
   ]
  },
  {
   "cell_type": "markdown",
   "metadata": {},
   "source": [
    "# Create Average TFRs"
   ]
  },
  {
   "cell_type": "markdown",
   "metadata": {},
   "source": [
    "## dlPFC"
   ]
  },
  {
   "cell_type": "markdown",
   "metadata": {},
   "source": [
    "### Medial Frontal Gyrus"
   ]
  },
  {
   "cell_type": "code",
   "execution_count": 12,
   "metadata": {},
   "outputs": [
    {
     "ename": "TypeError",
     "evalue": "calculate_subregion_ghost_attack_average() takes 4 positional arguments but 5 were given",
     "output_type": "error",
     "traceback": [
      "\u001b[0;31m---------------------------------------------------------------------------\u001b[0m",
      "\u001b[0;31mTypeError\u001b[0m                                 Traceback (most recent call last)",
      "\u001b[0;32m/tmp/ipykernel_527291/3868185497.py\u001b[0m in \u001b[0;36m<module>\u001b[0;34m\u001b[0m\n\u001b[0;32m----> 1\u001b[0;31m \u001b[0mall_subs_average_dlpfcs\u001b[0m \u001b[0;34m=\u001b[0m \u001b[0mcalculate_subregion_ghost_attack_average\u001b[0m\u001b[0;34m(\u001b[0m\u001b[0msub_list\u001b[0m\u001b[0;34m,\u001b[0m \u001b[0mconditions\u001b[0m\u001b[0;34m,\u001b[0m \u001b[0;34m'dlpfc'\u001b[0m\u001b[0;34m,\u001b[0m \u001b[0;34m'sfg'\u001b[0m\u001b[0;34m,\u001b[0m \u001b[0;34m'mfg'\u001b[0m\u001b[0;34m)\u001b[0m\u001b[0;34m\u001b[0m\u001b[0;34m\u001b[0m\u001b[0m\n\u001b[0m\u001b[1;32m      2\u001b[0m \u001b[0mall_subs_average_dlpfc_conflict\u001b[0m \u001b[0;34m=\u001b[0m \u001b[0mall_subs_average_dlpfcs\u001b[0m\u001b[0;34m[\u001b[0m\u001b[0;36m0\u001b[0m\u001b[0;34m]\u001b[0m\u001b[0;34m\u001b[0m\u001b[0;34m\u001b[0m\u001b[0m\n",
      "\u001b[0;31mTypeError\u001b[0m: calculate_subregion_ghost_attack_average() takes 4 positional arguments but 5 were given"
     ]
    }
   ],
   "source": [
    "all_subs_average_dlpfcs = calculate_subregion_ghost_attack_average(sub_list, conditions, 'dlpfc', 'sfg', 'mfg')\n",
    "all_subs_average_dlpfc_conflict = all_subs_average_dlpfcs[0]\n"
   ]
  },
  {
   "cell_type": "code",
   "execution_count": null,
   "metadata": {},
   "outputs": [],
   "source": [
    "plot_allsub_averages(all_subs_average_dlpfc_conflict, \"Average dlPFC TFR During Ghost Attack\", 'average_mfg_ghost_attack_all_subs.png', -1, 3)"
   ]
  },
  {
   "cell_type": "markdown",
   "metadata": {},
   "source": [
    "### Superior Frontal Gyrus"
   ]
  },
  {
   "cell_type": "code",
   "execution_count": null,
   "metadata": {},
   "outputs": [],
   "source": [
    "all_subs_average_dlpfcs = calculate_subregion_ghost_attack_average(sub_list, conditions, 'dlpfc')\n",
    "all_subs_average_dlpfc_conflict = all_subs_average_dlpfcs[0]\n"
   ]
  },
  {
   "cell_type": "code",
   "execution_count": null,
   "metadata": {},
   "outputs": [],
   "source": [
    "plot_allsub_averages(all_subs_average_dlpfc_conflict, \"Average dlPFC TFR During Ghost Attack\", 'average_sfg_ghost_attack_all_subs.png', -1, 3)"
   ]
  },
  {
   "cell_type": "markdown",
   "metadata": {},
   "source": [
    "### Examples"
   ]
  },
  {
   "cell_type": "code",
   "execution_count": 9,
   "metadata": {},
   "outputs": [
    {
     "name": "stdout",
     "output_type": "stream",
     "text": [
      "Reading /home/brooke/knight_server/remote/bstavel/pacman/preprocessing/LL12/ieeg/ghost_attack/dlpfc-tfr.h5 ...\n",
      "Adding metadata with 5 columns\n"
     ]
    }
   ],
   "source": [
    "subject = 'LL12'\n",
    "roi = 'dlpfc'\n",
    "tmp_TFR = mne.time_frequency.read_tfrs(f\"{tfr_dir}/{subject}/ieeg/ghost_attack/{roi}-tfr.h5\")"
   ]
  },
  {
   "cell_type": "code",
   "execution_count": 10,
   "metadata": {},
   "outputs": [],
   "source": [
    "# you always have to run this step after loading a tfr from a file\n",
    "tmp_TFR = tmp_TFR[0]"
   ]
  },
  {
   "cell_type": "code",
   "execution_count": 35,
   "metadata": {},
   "outputs": [
    {
     "data": {
      "text/plain": [
       "<EpochsTFR | time : [-1.000000, 3.000000], freq : [1.000000, 150.000000], epochs : 27, channels : 12, ~405.2 MB>"
      ]
     },
     "execution_count": 35,
     "metadata": {},
     "output_type": "execute_result"
    }
   ],
   "source": [
    "# print the tfr object so you know what you're working with\n",
    "tmp_TFR"
   ]
  },
  {
   "cell_type": "code",
   "execution_count": 36,
   "metadata": {},
   "outputs": [
    {
     "data": {
      "text/plain": [
       "['LOF7-LOF8',\n",
       " 'LOF8-LOF9',\n",
       " 'LOF9-LOF10',\n",
       " 'LOF10-LOF11',\n",
       " 'LOF11-LOF12',\n",
       " 'LAC5-LAC6',\n",
       " 'LAC6-LAC7',\n",
       " 'LAC7-LAC8',\n",
       " 'LMC5-LMC6',\n",
       " 'LMC6-LMC7',\n",
       " 'LMC7-LMC8',\n",
       " 'ROF9-ROF10']"
      ]
     },
     "execution_count": 36,
     "metadata": {},
     "output_type": "execute_result"
    }
   ],
   "source": [
    "# print the channels that are included in the tfr\n",
    "tmp_TFR.info['ch_names']"
   ]
  },
  {
   "cell_type": "code",
   "execution_count": 44,
   "metadata": {},
   "outputs": [],
   "source": [
    "# get the channel names of the subregion you are interested in, in this case 'mfg\n",
    "\n",
    "%run ../../preprocessing/scripts/roi.py\n",
    "ROIs = ROIs[subject]\n",
    "\n",
    "mfg_list, mfg_names, mfg_indices = get_roi_elec_lists(tmp_TFR, 'mfg')\n",
    "sfg_list, sfg_names, sfg_indices = get_roi_elec_lists(tmp_TFR, 'sfg')"
   ]
  },
  {
   "cell_type": "code",
   "execution_count": 42,
   "metadata": {},
   "outputs": [
    {
     "data": {
      "text/plain": [
       "[]"
      ]
     },
     "execution_count": 42,
     "metadata": {},
     "output_type": "execute_result"
    }
   ],
   "source": [
    "# print the channels in the mfg\n",
    "mfg_list"
   ]
  },
  {
   "cell_type": "code",
   "execution_count": 45,
   "metadata": {},
   "outputs": [],
   "source": [
    "# create a new tfr with only the mfg channels\n",
    "mfg_tfr = tmp_TFR.copy().pick_channels(mfg_list)"
   ]
  },
  {
   "cell_type": "code",
   "execution_count": 46,
   "metadata": {},
   "outputs": [
    {
     "data": {
      "text/plain": [
       "<EpochsTFR | time : [-1.000000, 3.000000], freq : [1.000000, 150.000000], epochs : 27, channels : 6, ~202.6 MB>"
      ]
     },
     "execution_count": 46,
     "metadata": {},
     "output_type": "execute_result"
    }
   ],
   "source": [
    "mfg_tfr"
   ]
  },
  {
   "cell_type": "markdown",
   "metadata": {},
   "source": [
    "## TODO"
   ]
  },
  {
   "cell_type": "markdown",
   "id": "16741af8-98c0-4fa8-950d-716fe050c8da",
   "metadata": {},
   "source": [
    "## Hippocampus"
   ]
  },
  {
   "cell_type": "code",
   "execution_count": null,
   "id": "9828216e",
   "metadata": {
    "execution": {
     "iopub.execute_input": "2024-01-12T07:44:28.765189Z",
     "iopub.status.busy": "2024-01-12T07:44:28.764478Z",
     "iopub.status.idle": "2024-01-12T07:53:17.351641Z",
     "shell.execute_reply": "2024-01-12T07:53:17.351984Z"
    }
   },
   "outputs": [],
   "source": [
    "all_subs_average_hcs = calculate_ghost_attack_average(sub_list, conditions, 'hc')\n",
    "all_subs_average_hc_conflict = all_subs_average_hcs[0]\n"
   ]
  },
  {
   "cell_type": "code",
   "execution_count": null,
   "id": "2bead1ff-66a3-4500-8a20-cc85da0b1b27",
   "metadata": {
    "execution": {
     "iopub.execute_input": "2024-01-12T07:53:17.355418Z",
     "iopub.status.busy": "2024-01-12T07:53:17.354979Z",
     "iopub.status.idle": "2024-01-12T07:53:17.981371Z",
     "shell.execute_reply": "2024-01-12T07:53:17.980724Z"
    },
    "tags": []
   },
   "outputs": [],
   "source": [
    "plot_allsub_averages(all_subs_average_hc_conflict, \"Average Hippocampal TFR During Ghost Attack\", 'average_hc_ghost_attack_all_subs.png', -1, 3)"
   ]
  },
  {
   "cell_type": "markdown",
   "id": "ab37bd88-5b02-4f94-ba3e-b1c0bb4b330e",
   "metadata": {},
   "source": [
    "## OFC"
   ]
  },
  {
   "cell_type": "code",
   "execution_count": null,
   "id": "ee475449-a0e9-46ec-bd04-a2a436788b11",
   "metadata": {
    "execution": {
     "iopub.execute_input": "2024-01-12T07:53:17.985830Z",
     "iopub.status.busy": "2024-01-12T07:53:17.985135Z",
     "iopub.status.idle": "2024-01-12T08:03:36.328165Z",
     "shell.execute_reply": "2024-01-12T08:03:36.328644Z"
    }
   },
   "outputs": [],
   "source": [
    "all_subs_average_ofcs = calculate_ghost_attack_average(sub_list, conditions, 'ofc')\n",
    "all_subs_average_ofc_conflict = all_subs_average_ofcs[0]\n"
   ]
  },
  {
   "cell_type": "code",
   "execution_count": null,
   "id": "4bc8e3f6-e8f6-459f-8b45-c41da97c2a2d",
   "metadata": {
    "execution": {
     "iopub.execute_input": "2024-01-12T08:03:36.344137Z",
     "iopub.status.busy": "2024-01-12T08:03:36.343416Z",
     "iopub.status.idle": "2024-01-12T08:03:50.886671Z",
     "shell.execute_reply": "2024-01-12T08:03:50.887159Z"
    },
    "tags": []
   },
   "outputs": [],
   "source": [
    "plot_allsub_averages(all_subs_average_ofc_conflict, \"Average OFC TFR During Ghost Attack\", 'average_ofc_ghost_attack_all_subs.png', -1, 3)"
   ]
  },
  {
   "cell_type": "markdown",
   "id": "d63b62e9-7ce3-4268-8fc5-193de091b3f0",
   "metadata": {},
   "source": [
    "## Anterior Cingulate"
   ]
  },
  {
   "cell_type": "code",
   "execution_count": null,
   "id": "2a4a3457-e8b6-4627-af2e-8933a7b7239d",
   "metadata": {
    "execution": {
     "iopub.execute_input": "2024-01-12T08:03:50.892334Z",
     "iopub.status.busy": "2024-01-12T08:03:50.891621Z",
     "iopub.status.idle": "2024-01-12T08:07:50.424746Z",
     "shell.execute_reply": "2024-01-12T08:07:50.424066Z"
    }
   },
   "outputs": [],
   "source": [
    "all_subs_average_cings = calculate_ghost_attack_average(sub_list, conditions, 'cing')\n",
    "all_subs_average_cing_conflict = all_subs_average_cings[0]\n"
   ]
  },
  {
   "cell_type": "code",
   "execution_count": null,
   "id": "e264a6c9-3049-4ef5-b298-2b6a3507de5a",
   "metadata": {
    "execution": {
     "iopub.execute_input": "2024-01-12T08:07:50.436480Z",
     "iopub.status.busy": "2024-01-12T08:07:50.433465Z",
     "iopub.status.idle": "2024-01-12T08:08:04.946036Z",
     "shell.execute_reply": "2024-01-12T08:08:04.946529Z"
    },
    "tags": []
   },
   "outputs": [],
   "source": [
    "plot_allsub_averages(all_subs_average_cing_conflict, \"Average Ant. Cingulate TFR During Ghost Attack\", 'average_cing_ghost_attack_all_subs.png', -1, 3)"
   ]
  },
  {
   "cell_type": "markdown",
   "id": "2d3d8d77-7cd4-43a0-b1a5-35baa7559c50",
   "metadata": {},
   "source": [
    "## Amygdala"
   ]
  },
  {
   "cell_type": "code",
   "execution_count": null,
   "id": "c3a65a0b-c16d-42b3-995f-78c4bf1d7b66",
   "metadata": {
    "execution": {
     "iopub.execute_input": "2024-01-12T08:08:04.951900Z",
     "iopub.status.busy": "2024-01-12T08:08:04.951209Z",
     "iopub.status.idle": "2024-01-12T08:14:59.387387Z",
     "shell.execute_reply": "2024-01-12T08:14:59.388087Z"
    }
   },
   "outputs": [],
   "source": [
    "all_subs_average_amygs = calculate_ghost_attack_average(sub_list, conditions, 'amyg')\n",
    "all_subs_average_amyg_conflict = all_subs_average_amygs[0]\n"
   ]
  },
  {
   "cell_type": "code",
   "execution_count": null,
   "id": "b81f110e-7c35-4c28-9cc9-fb65210ba1a3",
   "metadata": {
    "execution": {
     "iopub.execute_input": "2024-01-12T08:14:59.408070Z",
     "iopub.status.busy": "2024-01-12T08:14:59.400938Z",
     "iopub.status.idle": "2024-01-12T08:15:14.015381Z",
     "shell.execute_reply": "2024-01-12T08:15:14.016080Z"
    },
    "tags": []
   },
   "outputs": [],
   "source": [
    "plot_allsub_averages(all_subs_average_amyg_conflict, \"Average Amygdala TFR During Ghost Attack\", 'average_amyg_ghost_attack_all_subs.png', -1, 3)"
   ]
  },
  {
   "cell_type": "markdown",
   "id": "1b4cbb15-ced1-4389-ac56-bc6df21cc774",
   "metadata": {},
   "source": [
    "## Insula"
   ]
  },
  {
   "cell_type": "code",
   "execution_count": null,
   "id": "e384f846-8d8b-43c0-8f37-ec6509e8a496",
   "metadata": {
    "execution": {
     "iopub.execute_input": "2024-01-12T08:26:42.359379Z",
     "iopub.status.busy": "2024-01-12T08:26:42.358446Z",
     "iopub.status.idle": "2024-01-12T08:35:51.374836Z",
     "shell.execute_reply": "2024-01-12T08:35:51.375507Z"
    }
   },
   "outputs": [],
   "source": [
    "all_subs_average_insulas = calculate_ghost_attack_average(sub_list, conditions, 'insula')\n",
    "all_subs_average_insula_conflict = all_subs_average_insulas[0]\n"
   ]
  },
  {
   "cell_type": "code",
   "execution_count": null,
   "id": "cc6fcd4a-f7dd-4cc8-b66c-29bc326e3d6f",
   "metadata": {
    "execution": {
     "iopub.execute_input": "2024-01-12T08:35:51.395114Z",
     "iopub.status.busy": "2024-01-12T08:35:51.387513Z",
     "iopub.status.idle": "2024-01-12T08:36:05.617314Z",
     "shell.execute_reply": "2024-01-12T08:36:05.617994Z"
    },
    "tags": []
   },
   "outputs": [],
   "source": [
    "plot_allsub_averages(all_subs_average_insula_conflict, \"Average Insula TFR During Ghost Attack\", 'average_insula_ghost_attack_all_subs.png', -1, 3)"
   ]
  },
  {
   "cell_type": "markdown",
   "id": "34773a54-e053-441e-be4d-f713df9f94d5",
   "metadata": {},
   "source": [
    "## EC"
   ]
  },
  {
   "cell_type": "code",
   "execution_count": null,
   "id": "d110f91d-b940-4fae-a112-fb974edc1dbe",
   "metadata": {
    "execution": {
     "iopub.execute_input": "2024-01-12T08:36:05.624232Z",
     "iopub.status.busy": "2024-01-12T08:36:05.623233Z",
     "iopub.status.idle": "2024-01-12T08:41:26.122223Z",
     "shell.execute_reply": "2024-01-12T08:41:26.121642Z"
    }
   },
   "outputs": [],
   "source": [
    "all_subs_average_ecs = calculate_ghost_attack_average(sub_list, conditions, 'ec')\n",
    "all_subs_average_ec_conflict = all_subs_average_ecs[0]\n"
   ]
  },
  {
   "cell_type": "code",
   "execution_count": null,
   "id": "88171682-c102-49f4-9f40-85c924492736",
   "metadata": {
    "execution": {
     "iopub.execute_input": "2024-01-12T08:41:26.134307Z",
     "iopub.status.busy": "2024-01-12T08:41:26.133568Z",
     "iopub.status.idle": "2024-01-12T08:41:40.330831Z",
     "shell.execute_reply": "2024-01-12T08:41:40.331066Z"
    },
    "tags": []
   },
   "outputs": [],
   "source": [
    "plot_allsub_averages(all_subs_average_ec_conflict, \"Average Entorhinal Cortex TFR During Ghost Attack\", 'average_ec_ghost_attack_all_subs.png', -1, 3)"
   ]
  }
 ],
 "metadata": {
  "kernelspec": {
   "display_name": "Python 3 (ipykernel)",
   "language": "python",
   "name": "python3"
  },
  "language_info": {
   "codemirror_mode": {
    "name": "ipython",
    "version": 3
   },
   "file_extension": ".py",
   "mimetype": "text/x-python",
   "name": "python",
   "nbconvert_exporter": "python",
   "pygments_lexer": "ipython3",
   "version": "3.9.18"
  }
 },
 "nbformat": 4,
 "nbformat_minor": 5
}

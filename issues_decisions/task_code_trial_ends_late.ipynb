{
 "cells": [
  {
   "cell_type": "markdown",
   "id": "e29f0c9b-8d1a-4569-868c-527687267f3a",
   "metadata": {
    "tags": []
   },
   "source": [
    "## Task code issue with trial ends lagging\n",
    "\n",
    "When analyzing the first bci2000 patient, I noticed that there were a handful of trials (n=5, trials = [101, 90, 80, 65, 15]) that were no ghost trials where the trial ended on the opposite side of the cooridor from the exit. The game was designed to not allow this behavior and it looks like the pacman does get stuck there for some amount of time (2-5s) before the trial ends. \n",
    "\n",
    "I intended for that not be an exit under any circumstance, but maybe it is is better that the game will eventually them through rather than the player thinking the game froze? As for the mechanism, I believe it is from the slight rounding in location that happens with every frame flip, so eventually they are able to skip ahead past 178 to the exit or something like that (back from when the code allowed you to circle around to the side, rather than end the trial). It is rare, so I am not sure I should change it at this point? Current plan is to look out for this behavior on the next two subjects and determine if I need to reach out about it.\n",
    "\n",
    "Here are some examples of trials with this behavior:\n",
    "\n",
    "![Example](/home/brooke/Pictures/Screenshots/Screenshot_from_2022-05-06_17-00-42.png)\n",
    "\n"
   ]
  },
  {
   "cell_type": "code",
   "execution_count": null,
   "id": "29a72313-a683-41c2-8112-4d95216e50e8",
   "metadata": {},
   "outputs": [],
   "source": []
  }
 ],
 "metadata": {
  "kernelspec": {
   "display_name": "Matlab [conda env:ieeg_analysis] *",
   "language": "matlab",
   "name": "conda-env-ieeg_analysis-matlab"
  },
  "language_info": {
   "codemirror_mode": "octave",
   "file_extension": ".m",
   "help_links": [
    {
     "text": "MetaKernel Magics",
     "url": "https://metakernel.readthedocs.io/en/latest/source/README.html"
    }
   ],
   "mimetype": "text/x-octave",
   "name": "matlab",
   "version": "0.16.11"
  }
 },
 "nbformat": 4,
 "nbformat_minor": 5
}

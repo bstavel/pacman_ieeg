{
 "cells": [
  {
   "cell_type": "markdown",
   "metadata": {},
   "source": [
    "## Combine perms that were interupted"
   ]
  },
  {
   "cell_type": "code",
   "execution_count": 1,
   "metadata": {},
   "outputs": [],
   "source": [
    "import matplotlib\n",
    "import matplotlib.pyplot as plt\n",
    "import pandas as pd\n",
    "import numpy as np\n",
    "from scipy import signal, stats\n",
    "import re\n",
    "import os\n",
    "import mne\n",
    "import mne_connectivity\n",
    "import IPython\n",
    "import seaborn as sns\n",
    "import scipy\n",
    "import joblib\n",
    "import h5io\n",
    "import dask.array as da \n",
    "import itertools\n",
    "from plotnine import *\n",
    "\n",
    "\n",
    "import statsmodels\n",
    "from statsmodels import stats\n",
    "from statsmodels.stats import multitest"
   ]
  },
  {
   "cell_type": "markdown",
   "metadata": {},
   "source": [
    "### LL14\n"
   ]
  },
  {
   "cell_type": "code",
   "execution_count": 3,
   "metadata": {},
   "outputs": [],
   "source": [
    "# load part 1 #\n",
    "imcoh_p1 = np.load('/home/brooke/pacman/connectivity/ieeg/imcoh_ppc_pli/perms/LL14_imcoh_perm_p1.npy')\n",
    "ppc_p1 = np.load('/home/brooke/pacman/connectivity/ieeg/imcoh_ppc_pli/perms/LL14_ppc_perm_p1.npy')\n",
    "pli_p1 = np.load('/home/brooke/pacman/connectivity/ieeg/imcoh_ppc_pli/perms/LL14_pli_perm_p1.npy')\n",
    "\n",
    "\n",
    "# load part 2 #\n",
    "imcoh_p2 = np.load('/home/brooke/pacman/connectivity/ieeg/imcoh_ppc_pli/perms/LL14_imcoh_perm_p2.npy')\n",
    "ppc_p2 = np.load('/home/brooke/pacman/connectivity/ieeg/imcoh_ppc_pli/perms/LL14_ppc_perm_p2.npy')\n",
    "pli_p2 = np.load('/home/brooke/pacman/connectivity/ieeg/imcoh_ppc_pli/perms/LL14_pli_perm_p2.npy')"
   ]
  },
  {
   "cell_type": "code",
   "execution_count": 4,
   "metadata": {},
   "outputs": [],
   "source": [
    "# load pairs #\n",
    "pairs = np.load('/home/brooke/pacman/connectivity/ieeg/imcoh_ppc_pli/perms/LL14_pairs.npy')"
   ]
  },
  {
   "cell_type": "code",
   "execution_count": 5,
   "metadata": {},
   "outputs": [
    {
     "data": {
      "text/plain": [
       "135"
      ]
     },
     "execution_count": 5,
     "metadata": {},
     "output_type": "execute_result"
    }
   ],
   "source": [
    "len(pairs[0])"
   ]
  },
  {
   "cell_type": "code",
   "execution_count": 6,
   "metadata": {},
   "outputs": [
    {
     "data": {
      "text/plain": [
       "1000.0"
      ]
     },
     "execution_count": 6,
     "metadata": {},
     "output_type": "execute_result"
    }
   ],
   "source": [
    "imcoh_p1.shape[0]/135 + imcoh_p2.shape[0]/135"
   ]
  },
  {
   "cell_type": "code",
   "execution_count": 7,
   "metadata": {},
   "outputs": [
    {
     "data": {
      "text/plain": [
       "1000.0"
      ]
     },
     "execution_count": 7,
     "metadata": {},
     "output_type": "execute_result"
    }
   ],
   "source": [
    "ppc_p1.shape[0]/135 + ppc_p2.shape[0]/135"
   ]
  },
  {
   "cell_type": "code",
   "execution_count": 8,
   "metadata": {},
   "outputs": [
    {
     "data": {
      "text/plain": [
       "1000.0"
      ]
     },
     "execution_count": 8,
     "metadata": {},
     "output_type": "execute_result"
    }
   ],
   "source": [
    "pli_p1.shape[0]/135 + pli_p2.shape[0]/135"
   ]
  },
  {
   "cell_type": "code",
   "execution_count": 9,
   "metadata": {},
   "outputs": [],
   "source": [
    "## combine\n",
    "imcoh = np.concatenate((imcoh_p1, imcoh_p2), axis=0)\n",
    "ppc = np.concatenate((ppc_p1, ppc_p2), axis=0)\n",
    "pli = np.concatenate((pli_p1, pli_p2), axis=0)"
   ]
  },
  {
   "cell_type": "code",
   "execution_count": 34,
   "metadata": {},
   "outputs": [],
   "source": [
    "## save\n",
    "np.save('/home/brooke/pacman/connectivity/ieeg/imcoh_ppc_pli/perms/LL14_imcoh_perm.npy', imcoh)\n",
    "np.save('/home/brooke/pacman/connectivity/ieeg/imcoh_ppc_pli/perms/LL14_ppc_perm.npy', ppc)\n",
    "np.save('/home/brooke/pacman/connectivity/ieeg/imcoh_ppc_pli/perms/LL14_pli_perm.npy', pli)"
   ]
  },
  {
   "cell_type": "markdown",
   "metadata": {},
   "source": [
    "### BJH016\n"
   ]
  },
  {
   "cell_type": "code",
   "execution_count": 35,
   "metadata": {},
   "outputs": [],
   "source": [
    "# load part 1 #\n",
    "imcoh_p1 = np.load('/home/brooke/pacman/connectivity/ieeg/imcoh_ppc_pli/perms/BJH016_imcoh_perm_p1.npy')\n",
    "ppc_p1 = np.load('/home/brooke/pacman/connectivity/ieeg/imcoh_ppc_pli/perms/BJH016_ppc_perm_p1.npy')\n",
    "pli_p1 = np.load('/home/brooke/pacman/connectivity/ieeg/imcoh_ppc_pli/perms/BJH016_pli_perm_p1.npy')\n",
    "\n",
    "\n",
    "# load part 2 #\n",
    "imcoh_p2 = np.load('/home/brooke/pacman/connectivity/ieeg/imcoh_ppc_pli/perms/BJH016_imcoh_perm_p2.npy')\n",
    "ppc_p2 = np.load('/home/brooke/pacman/connectivity/ieeg/imcoh_ppc_pli/perms/BJH016_ppc_perm_p2.npy')\n",
    "pli_p2 = np.load('/home/brooke/pacman/connectivity/ieeg/imcoh_ppc_pli/perms/BJH016_pli_perm_p2.npy')"
   ]
  },
  {
   "cell_type": "code",
   "execution_count": 36,
   "metadata": {},
   "outputs": [],
   "source": [
    "# load pairs #\n",
    "pairs = np.load('/home/brooke/pacman/connectivity/ieeg/imcoh_ppc_pli/perms/BJH016_pairs.npy')"
   ]
  },
  {
   "cell_type": "code",
   "execution_count": 37,
   "metadata": {},
   "outputs": [
    {
     "data": {
      "text/plain": [
       "1203"
      ]
     },
     "execution_count": 37,
     "metadata": {},
     "output_type": "execute_result"
    }
   ],
   "source": [
    "len(pairs[0])"
   ]
  },
  {
   "cell_type": "code",
   "execution_count": 41,
   "metadata": {},
   "outputs": [
    {
     "data": {
      "text/plain": [
       "(1107963, 501)"
      ]
     },
     "execution_count": 41,
     "metadata": {},
     "output_type": "execute_result"
    }
   ],
   "source": [
    "imcoh_p1.shape"
   ]
  },
  {
   "cell_type": "code",
   "execution_count": 38,
   "metadata": {},
   "outputs": [
    {
     "data": {
      "text/plain": [
       "1000.0"
      ]
     },
     "execution_count": 38,
     "metadata": {},
     "output_type": "execute_result"
    }
   ],
   "source": [
    "imcoh_p1.shape[0]/1203 + imcoh_p2.shape[0]/1203"
   ]
  },
  {
   "cell_type": "code",
   "execution_count": 39,
   "metadata": {},
   "outputs": [
    {
     "data": {
      "text/plain": [
       "1000.0"
      ]
     },
     "execution_count": 39,
     "metadata": {},
     "output_type": "execute_result"
    }
   ],
   "source": [
    "ppc_p1.shape[0]/1203 + ppc_p2.shape[0]/1203"
   ]
  },
  {
   "cell_type": "code",
   "execution_count": 40,
   "metadata": {},
   "outputs": [
    {
     "data": {
      "text/plain": [
       "1000.0"
      ]
     },
     "execution_count": 40,
     "metadata": {},
     "output_type": "execute_result"
    }
   ],
   "source": [
    "pli_p1.shape[0]/1203 + pli_p2.shape[0]/1203"
   ]
  },
  {
   "cell_type": "code",
   "execution_count": 42,
   "metadata": {},
   "outputs": [],
   "source": [
    "## combine\n",
    "imcoh = np.concatenate((imcoh_p1, imcoh_p2), axis=0)\n",
    "ppc = np.concatenate((ppc_p1, ppc_p2), axis=0)\n",
    "pli = np.concatenate((pli_p1, pli_p2), axis=0)"
   ]
  },
  {
   "cell_type": "code",
   "execution_count": 43,
   "metadata": {},
   "outputs": [],
   "source": [
    "## save\n",
    "np.save('/home/brooke/pacman/connectivity/ieeg/imcoh_ppc_pli/perms/BJH016_imcoh_perm.npy', imcoh)\n",
    "np.save('/home/brooke/pacman/connectivity/ieeg/imcoh_ppc_pli/perms/BJH016_ppc_perm.npy', ppc)\n",
    "np.save('/home/brooke/pacman/connectivity/ieeg/imcoh_ppc_pli/perms/BJH016_pli_perm.npy', pli)"
   ]
  },
  {
   "cell_type": "markdown",
   "metadata": {},
   "source": [
    "### BJH046\n"
   ]
  },
  {
   "cell_type": "code",
   "execution_count": 30,
   "metadata": {},
   "outputs": [],
   "source": [
    "# load part 1 #\n",
    "imcoh_p1 = np.load('/home/brooke/pacman/connectivity/ieeg/imcoh_ppc_pli/perms/BJH046_imcoh_perm_p1.npy')\n",
    "ppc_p1 = np.load('/home/brooke/pacman/connectivity/ieeg/imcoh_ppc_pli/perms/BJH046_ppc_perm_p1.npy')\n",
    "pli_p1 = np.load('/home/brooke/pacman/connectivity/ieeg/imcoh_ppc_pli/perms/BJH046_pli_perm_p1.npy')\n",
    "\n",
    "\n",
    "# # load part 2 #\n",
    "imcoh_p2 = np.load('/home/brooke/pacman/connectivity/ieeg/imcoh_ppc_pli/perms/BJH046_imcoh_perm_p2.npy')\n",
    "ppc_p2 = np.load('/home/brooke/pacman/connectivity/ieeg/imcoh_ppc_pli/perms/BJH046_ppc_perm_p2.npy')\n",
    "pli_p2 = np.load('/home/brooke/pacman/connectivity/ieeg/imcoh_ppc_pli/perms/BJH046_pli_perm_p2.npy')\n",
    "\n",
    "imcoh_p3 = np.load('/home/brooke/pacman/connectivity/ieeg/imcoh_ppc_pli/perms/BJH046_imcoh_perm_p3.npy')\n",
    "ppc_p3 = np.load('/home/brooke/pacman/connectivity/ieeg/imcoh_ppc_pli/perms/BJH046_ppc_perm_p3.npy')\n",
    "pli_p3 = np.load('/home/brooke/pacman/connectivity/ieeg/imcoh_ppc_pli/perms/BJH046_pli_perm_p3.npy')"
   ]
  },
  {
   "cell_type": "code",
   "execution_count": 31,
   "metadata": {},
   "outputs": [],
   "source": [
    "# load pairs #\n",
    "pairs = np.load('/home/brooke/pacman/connectivity/ieeg/imcoh_ppc_pli/perms/BJH046_pairs.npy')"
   ]
  },
  {
   "cell_type": "code",
   "execution_count": 32,
   "metadata": {},
   "outputs": [
    {
     "data": {
      "text/plain": [
       "1607"
      ]
     },
     "execution_count": 32,
     "metadata": {},
     "output_type": "execute_result"
    }
   ],
   "source": [
    "len(pairs[0])"
   ]
  },
  {
   "cell_type": "code",
   "execution_count": 33,
   "metadata": {},
   "outputs": [
    {
     "data": {
      "text/plain": [
       "1000.0"
      ]
     },
     "execution_count": 33,
     "metadata": {},
     "output_type": "execute_result"
    }
   ],
   "source": [
    "imcoh_p1.shape[0]/1607 + imcoh_p2.shape[0]/1607  + imcoh_p3.shape[0]/1607"
   ]
  },
  {
   "cell_type": "code",
   "execution_count": 34,
   "metadata": {},
   "outputs": [
    {
     "data": {
      "text/plain": [
       "1000.0"
      ]
     },
     "execution_count": 34,
     "metadata": {},
     "output_type": "execute_result"
    }
   ],
   "source": [
    "ppc_p1.shape[0]/1607 + ppc_p2.shape[0]/1607 + ppc_p3.shape[0]/1607"
   ]
  },
  {
   "cell_type": "code",
   "execution_count": 35,
   "metadata": {},
   "outputs": [
    {
     "data": {
      "text/plain": [
       "1000.0"
      ]
     },
     "execution_count": 35,
     "metadata": {},
     "output_type": "execute_result"
    }
   ],
   "source": [
    "pli_p1.shape[0]/1607 + pli_p2.shape[0]/1607 + pli_p3.shape[0]/1607"
   ]
  },
  {
   "cell_type": "code",
   "execution_count": 36,
   "metadata": {},
   "outputs": [],
   "source": [
    "## combine\n",
    "imcoh = np.concatenate((imcoh_p1, imcoh_p2, imcoh_p3), axis=0)\n",
    "ppc = np.concatenate((ppc_p1, ppc_p2, ppc_p3), axis=0)\n",
    "pli = np.concatenate((pli_p1, pli_p2, pli_p3), axis=0)"
   ]
  },
  {
   "cell_type": "code",
   "execution_count": 40,
   "metadata": {},
   "outputs": [
    {
     "data": {
      "text/plain": [
       "1000.0"
      ]
     },
     "execution_count": 40,
     "metadata": {},
     "output_type": "execute_result"
    }
   ],
   "source": [
    "imcoh.shape[0]/1607"
   ]
  },
  {
   "cell_type": "code",
   "execution_count": 39,
   "metadata": {},
   "outputs": [],
   "source": [
    "## save\n",
    "np.save('/home/brooke/pacman/connectivity/ieeg/imcoh_ppc_pli/perms/BJH046_imcoh_perm.npy', imcoh)\n",
    "np.save('/home/brooke/pacman/connectivity/ieeg/imcoh_ppc_pli/perms/BJH046_ppc_perm.npy', ppc)\n",
    "np.save('/home/brooke/pacman/connectivity/ieeg/imcoh_ppc_pli/perms/BJH046_pli_perm.npy', pli)"
   ]
  },
  {
   "cell_type": "code",
   "execution_count": 29,
   "metadata": {},
   "outputs": [
    {
     "name": "stdout",
     "output_type": "stream",
     "text": [
      "Reading /home/brooke/pacman/preprocessing/BJH046/ieeg/BJH046_bp_filtered_clean_last_away_events.fif ...\n"
     ]
    },
    {
     "name": "stderr",
     "output_type": "stream",
     "text": [
      "/tmp/ipykernel_107231/3143010076.py:36: RuntimeWarning: This filename (/home/brooke/pacman/preprocessing/BJH046/ieeg/BJH046_bp_filtered_clean_last_away_events.fif) does not conform to MNE naming conventions. All epochs files should end with -epo.fif, -epo.fif.gz, _epo.fif or _epo.fif.gz\n"
     ]
    },
    {
     "name": "stdout",
     "output_type": "stream",
     "text": [
      "    Found the data of interest:\n",
      "        t =   -5000.00 ...    5000.00 ms\n",
      "        0 CTF compensation matrices available\n",
      "Reading /home/brooke/pacman/preprocessing/BJH046/ieeg/BJH046_bp_filtered_clean_last_away_events-1.fif ...\n",
      "    Found the data of interest:\n",
      "        t =   -5000.00 ...    5000.00 ms\n",
      "        0 CTF compensation matrices available\n",
      "Not setting metadata\n",
      "209 matching events found\n",
      "No baseline correction applied\n",
      "0 projection items activated\n",
      "Adding metadata with 5 columns\n",
      "NOTE: pick_channels() is a legacy function. New code should use inst.pick(...).\n",
      "NOTE: pick_channels() is a legacy function. New code should use inst.pick(...).\n",
      "NOTE: pick_channels() is a legacy function. New code should use inst.pick(...).\n",
      "NOTE: pick_channels() is a legacy function. New code should use inst.pick(...).\n",
      "NOTE: pick_channels() is a legacy function. New code should use inst.pick(...).\n",
      "NOTE: pick_channels() is a legacy function. New code should use inst.pick(...).\n",
      "computing TFR\n",
      "Connectivity computation...\n",
      "    computing connectivity for 1607 connections\n",
      "    using t=-2.500s..2.500s for estimation (501 points)\n",
      "    frequencies: 3.1Hz..7.6Hz (15 points)\n",
      "    using CWT with Morlet wavelets to estimate spectra\n",
      "    the following metrics will be computed: Imaginary Coherence, PPC, Debiased WPLI Square\n",
      "    computing cross-spectral density for epochs 1..16\n"
     ]
    },
    {
     "name": "stderr",
     "output_type": "stream",
     "text": [
      "[Parallel(n_jobs=16)]: Using backend LokyBackend with 16 concurrent workers.\n",
      "[Parallel(n_jobs=16)]: Done   5 out of  16 | elapsed:   20.5s remaining:   45.2s\n",
      "[Parallel(n_jobs=16)]: Done   9 out of  16 | elapsed:   27.8s remaining:   21.6s\n",
      "[Parallel(n_jobs=16)]: Done  13 out of  16 | elapsed:   34.9s remaining:    8.1s\n",
      "[Parallel(n_jobs=16)]: Done  16 out of  16 | elapsed:   40.3s finished\n"
     ]
    },
    {
     "name": "stdout",
     "output_type": "stream",
     "text": [
      "    computing cross-spectral density for epochs 17..32\n"
     ]
    },
    {
     "name": "stderr",
     "output_type": "stream",
     "text": [
      "[Parallel(n_jobs=16)]: Using backend LokyBackend with 16 concurrent workers.\n",
      "[Parallel(n_jobs=16)]: Done   5 out of  16 | elapsed:   18.4s remaining:   40.6s\n",
      "[Parallel(n_jobs=16)]: Done   9 out of  16 | elapsed:   25.7s remaining:   20.0s\n",
      "[Parallel(n_jobs=16)]: Done  13 out of  16 | elapsed:   32.8s remaining:    7.6s\n",
      "[Parallel(n_jobs=16)]: Done  16 out of  16 | elapsed:   38.1s finished\n"
     ]
    },
    {
     "name": "stdout",
     "output_type": "stream",
     "text": [
      "    computing cross-spectral density for epochs 33..48\n"
     ]
    },
    {
     "name": "stderr",
     "output_type": "stream",
     "text": [
      "[Parallel(n_jobs=16)]: Using backend LokyBackend with 16 concurrent workers.\n",
      "[Parallel(n_jobs=16)]: Done   5 out of  16 | elapsed:   16.0s remaining:   35.3s\n",
      "[Parallel(n_jobs=16)]: Done   9 out of  16 | elapsed:   23.1s remaining:   18.0s\n",
      "[Parallel(n_jobs=16)]: Done  13 out of  16 | elapsed:   30.2s remaining:    7.0s\n",
      "[Parallel(n_jobs=16)]: Done  16 out of  16 | elapsed:   35.6s finished\n"
     ]
    },
    {
     "name": "stdout",
     "output_type": "stream",
     "text": [
      "    computing cross-spectral density for epochs 49..64\n"
     ]
    },
    {
     "name": "stderr",
     "output_type": "stream",
     "text": [
      "[Parallel(n_jobs=16)]: Using backend LokyBackend with 16 concurrent workers.\n",
      "[Parallel(n_jobs=16)]: Done   5 out of  16 | elapsed:   16.0s remaining:   35.3s\n",
      "[Parallel(n_jobs=16)]: Done   9 out of  16 | elapsed:   23.2s remaining:   18.0s\n",
      "[Parallel(n_jobs=16)]: Done  13 out of  16 | elapsed:   30.4s remaining:    7.0s\n",
      "[Parallel(n_jobs=16)]: Done  16 out of  16 | elapsed:   35.8s finished\n"
     ]
    },
    {
     "name": "stdout",
     "output_type": "stream",
     "text": [
      "    computing cross-spectral density for epochs 65..80\n"
     ]
    },
    {
     "name": "stderr",
     "output_type": "stream",
     "text": [
      "[Parallel(n_jobs=16)]: Using backend LokyBackend with 16 concurrent workers.\n",
      "[Parallel(n_jobs=16)]: Done   5 out of  16 | elapsed:   16.2s remaining:   35.6s\n",
      "[Parallel(n_jobs=16)]: Done   9 out of  16 | elapsed:   23.2s remaining:   18.1s\n",
      "[Parallel(n_jobs=16)]: Done  13 out of  16 | elapsed:   30.4s remaining:    7.0s\n",
      "[Parallel(n_jobs=16)]: Done  16 out of  16 | elapsed:   35.8s finished\n"
     ]
    },
    {
     "name": "stdout",
     "output_type": "stream",
     "text": [
      "    computing cross-spectral density for epochs 81..96\n"
     ]
    },
    {
     "name": "stderr",
     "output_type": "stream",
     "text": [
      "[Parallel(n_jobs=16)]: Using backend LokyBackend with 16 concurrent workers.\n",
      "[Parallel(n_jobs=16)]: Done   5 out of  16 | elapsed:   16.2s remaining:   35.7s\n",
      "[Parallel(n_jobs=16)]: Done   9 out of  16 | elapsed:   23.4s remaining:   18.2s\n",
      "[Parallel(n_jobs=16)]: Done  13 out of  16 | elapsed:   30.7s remaining:    7.1s\n",
      "[Parallel(n_jobs=16)]: Done  16 out of  16 | elapsed:   36.1s finished\n"
     ]
    },
    {
     "name": "stdout",
     "output_type": "stream",
     "text": [
      "    computing cross-spectral density for epochs 97..112\n"
     ]
    },
    {
     "name": "stderr",
     "output_type": "stream",
     "text": [
      "[Parallel(n_jobs=16)]: Using backend LokyBackend with 16 concurrent workers.\n",
      "[Parallel(n_jobs=16)]: Done   5 out of  16 | elapsed:   16.2s remaining:   35.6s\n",
      "[Parallel(n_jobs=16)]: Done   9 out of  16 | elapsed:   23.3s remaining:   18.1s\n",
      "[Parallel(n_jobs=16)]: Done  13 out of  16 | elapsed:   30.4s remaining:    7.0s\n",
      "[Parallel(n_jobs=16)]: Done  16 out of  16 | elapsed:   35.8s finished\n"
     ]
    },
    {
     "name": "stdout",
     "output_type": "stream",
     "text": [
      "    computing cross-spectral density for epochs 113..128\n"
     ]
    },
    {
     "name": "stderr",
     "output_type": "stream",
     "text": [
      "[Parallel(n_jobs=16)]: Using backend LokyBackend with 16 concurrent workers.\n",
      "[Parallel(n_jobs=16)]: Done   5 out of  16 | elapsed:   16.3s remaining:   35.8s\n",
      "[Parallel(n_jobs=16)]: Done   9 out of  16 | elapsed:   23.5s remaining:   18.3s\n",
      "[Parallel(n_jobs=16)]: Done  13 out of  16 | elapsed:   30.8s remaining:    7.1s\n",
      "[Parallel(n_jobs=16)]: Done  16 out of  16 | elapsed:   36.3s finished\n"
     ]
    },
    {
     "name": "stdout",
     "output_type": "stream",
     "text": [
      "    computing cross-spectral density for epochs 129..144\n"
     ]
    },
    {
     "name": "stderr",
     "output_type": "stream",
     "text": [
      "[Parallel(n_jobs=16)]: Using backend LokyBackend with 16 concurrent workers.\n",
      "[Parallel(n_jobs=16)]: Done   5 out of  16 | elapsed:   16.3s remaining:   35.8s\n",
      "[Parallel(n_jobs=16)]: Done   9 out of  16 | elapsed:   23.5s remaining:   18.3s\n",
      "[Parallel(n_jobs=16)]: Done  13 out of  16 | elapsed:   30.6s remaining:    7.1s\n",
      "[Parallel(n_jobs=16)]: Done  16 out of  16 | elapsed:   36.0s finished\n"
     ]
    },
    {
     "name": "stdout",
     "output_type": "stream",
     "text": [
      "    computing cross-spectral density for epochs 145..160\n"
     ]
    },
    {
     "name": "stderr",
     "output_type": "stream",
     "text": [
      "[Parallel(n_jobs=16)]: Using backend LokyBackend with 16 concurrent workers.\n",
      "[Parallel(n_jobs=16)]: Done   5 out of  16 | elapsed:   16.2s remaining:   35.6s\n",
      "[Parallel(n_jobs=16)]: Done   9 out of  16 | elapsed:   23.3s remaining:   18.2s\n",
      "[Parallel(n_jobs=16)]: Done  13 out of  16 | elapsed:   30.5s remaining:    7.0s\n",
      "[Parallel(n_jobs=16)]: Done  16 out of  16 | elapsed:   35.9s finished\n"
     ]
    },
    {
     "name": "stdout",
     "output_type": "stream",
     "text": [
      "    computing cross-spectral density for epochs 161..171\n"
     ]
    },
    {
     "name": "stderr",
     "output_type": "stream",
     "text": [
      "[Parallel(n_jobs=16)]: Using backend LokyBackend with 16 concurrent workers.\n",
      "[Parallel(n_jobs=16)]: Done   2 out of  11 | elapsed:    8.4s remaining:   37.6s\n",
      "[Parallel(n_jobs=16)]: Done   5 out of  11 | elapsed:   13.8s remaining:   16.5s\n",
      "[Parallel(n_jobs=16)]: Done   8 out of  11 | elapsed:   19.2s remaining:    7.2s\n",
      "[Parallel(n_jobs=16)]: Done  11 out of  11 | elapsed:   24.6s finished\n"
     ]
    },
    {
     "name": "stdout",
     "output_type": "stream",
     "text": [
      "[Connectivity computation done]\n",
      "NOTE: pick_channels() is a legacy function. New code should use inst.pick(...).\n",
      "NOTE: pick_channels() is a legacy function. New code should use inst.pick(...).\n",
      "NOTE: pick_channels() is a legacy function. New code should use inst.pick(...).\n",
      "NOTE: pick_channels() is a legacy function. New code should use inst.pick(...).\n",
      "NOTE: pick_channels() is a legacy function. New code should use inst.pick(...).\n",
      "NOTE: pick_channels() is a legacy function. New code should use inst.pick(...).\n",
      "computing TFR\n",
      "Connectivity computation...\n",
      "    computing connectivity for 1607 connections\n",
      "    using t=-2.500s..2.500s for estimation (501 points)\n",
      "    frequencies: 3.1Hz..7.6Hz (15 points)\n",
      "    using CWT with Morlet wavelets to estimate spectra\n",
      "    the following metrics will be computed: Imaginary Coherence, PPC, Debiased WPLI Square\n",
      "    computing cross-spectral density for epochs 1..16\n"
     ]
    },
    {
     "name": "stderr",
     "output_type": "stream",
     "text": [
      "[Parallel(n_jobs=16)]: Using backend LokyBackend with 16 concurrent workers.\n",
      "[Parallel(n_jobs=16)]: Done   5 out of  16 | elapsed:   16.3s remaining:   35.8s\n",
      "[Parallel(n_jobs=16)]: Done   9 out of  16 | elapsed:   23.5s remaining:   18.3s\n",
      "[Parallel(n_jobs=16)]: Done  13 out of  16 | elapsed:   30.7s remaining:    7.1s\n",
      "[Parallel(n_jobs=16)]: Done  16 out of  16 | elapsed:   36.2s finished\n"
     ]
    },
    {
     "name": "stdout",
     "output_type": "stream",
     "text": [
      "    computing cross-spectral density for epochs 17..32\n"
     ]
    },
    {
     "name": "stderr",
     "output_type": "stream",
     "text": [
      "[Parallel(n_jobs=16)]: Using backend LokyBackend with 16 concurrent workers.\n",
      "[Parallel(n_jobs=16)]: Done   5 out of  16 | elapsed:   16.1s remaining:   35.5s\n",
      "[Parallel(n_jobs=16)]: Done   9 out of  16 | elapsed:   23.2s remaining:   18.1s\n",
      "[Parallel(n_jobs=16)]: Done  13 out of  16 | elapsed:   30.4s remaining:    7.0s\n",
      "[Parallel(n_jobs=16)]: Done  16 out of  16 | elapsed:   35.8s finished\n"
     ]
    },
    {
     "name": "stdout",
     "output_type": "stream",
     "text": [
      "    computing cross-spectral density for epochs 33..48\n"
     ]
    },
    {
     "name": "stderr",
     "output_type": "stream",
     "text": [
      "[Parallel(n_jobs=16)]: Using backend LokyBackend with 16 concurrent workers.\n",
      "[Parallel(n_jobs=16)]: Done   5 out of  16 | elapsed:   16.3s remaining:   35.9s\n",
      "[Parallel(n_jobs=16)]: Done   9 out of  16 | elapsed:   23.5s remaining:   18.2s\n",
      "[Parallel(n_jobs=16)]: Done  13 out of  16 | elapsed:   30.7s remaining:    7.1s\n",
      "[Parallel(n_jobs=16)]: Done  16 out of  16 | elapsed:   36.1s finished\n"
     ]
    },
    {
     "name": "stdout",
     "output_type": "stream",
     "text": [
      "    computing cross-spectral density for epochs 49..64\n"
     ]
    },
    {
     "name": "stderr",
     "output_type": "stream",
     "text": [
      "[Parallel(n_jobs=16)]: Using backend LokyBackend with 16 concurrent workers.\n",
      "[Parallel(n_jobs=16)]: Done   5 out of  16 | elapsed:   16.4s remaining:   36.0s\n",
      "[Parallel(n_jobs=16)]: Done   9 out of  16 | elapsed:   23.5s remaining:   18.3s\n",
      "[Parallel(n_jobs=16)]: Done  13 out of  16 | elapsed:   30.8s remaining:    7.1s\n",
      "[Parallel(n_jobs=16)]: Done  16 out of  16 | elapsed:   36.2s finished\n"
     ]
    },
    {
     "name": "stdout",
     "output_type": "stream",
     "text": [
      "    computing cross-spectral density for epochs 65..80\n"
     ]
    },
    {
     "name": "stderr",
     "output_type": "stream",
     "text": [
      "[Parallel(n_jobs=16)]: Using backend LokyBackend with 16 concurrent workers.\n",
      "[Parallel(n_jobs=16)]: Done   5 out of  16 | elapsed:   16.4s remaining:   36.2s\n",
      "[Parallel(n_jobs=16)]: Done   9 out of  16 | elapsed:   23.7s remaining:   18.4s\n",
      "[Parallel(n_jobs=16)]: Done  13 out of  16 | elapsed:   31.0s remaining:    7.1s\n",
      "[Parallel(n_jobs=16)]: Done  16 out of  16 | elapsed:   36.4s finished\n"
     ]
    },
    {
     "name": "stdout",
     "output_type": "stream",
     "text": [
      "    computing cross-spectral density for epochs 81..96\n"
     ]
    },
    {
     "name": "stderr",
     "output_type": "stream",
     "text": [
      "[Parallel(n_jobs=16)]: Using backend LokyBackend with 16 concurrent workers.\n",
      "[Parallel(n_jobs=16)]: Done   5 out of  16 | elapsed:   16.5s remaining:   36.3s\n",
      "[Parallel(n_jobs=16)]: Done   9 out of  16 | elapsed:   23.8s remaining:   18.5s\n",
      "[Parallel(n_jobs=16)]: Done  13 out of  16 | elapsed:   31.1s remaining:    7.2s\n",
      "[Parallel(n_jobs=16)]: Done  16 out of  16 | elapsed:   36.5s finished\n"
     ]
    },
    {
     "name": "stdout",
     "output_type": "stream",
     "text": [
      "    computing cross-spectral density for epochs 97..112\n"
     ]
    },
    {
     "name": "stderr",
     "output_type": "stream",
     "text": [
      "[Parallel(n_jobs=16)]: Using backend LokyBackend with 16 concurrent workers.\n",
      "[Parallel(n_jobs=16)]: Done   5 out of  16 | elapsed:   16.6s remaining:   36.5s\n",
      "[Parallel(n_jobs=16)]: Done   9 out of  16 | elapsed:   23.9s remaining:   18.6s\n",
      "[Parallel(n_jobs=16)]: Done  13 out of  16 | elapsed:   31.1s remaining:    7.2s\n",
      "[Parallel(n_jobs=16)]: Done  16 out of  16 | elapsed:   36.6s finished\n"
     ]
    },
    {
     "name": "stdout",
     "output_type": "stream",
     "text": [
      "    computing cross-spectral density for epochs 113..128\n"
     ]
    },
    {
     "name": "stderr",
     "output_type": "stream",
     "text": [
      "[Parallel(n_jobs=16)]: Using backend LokyBackend with 16 concurrent workers.\n",
      "[Parallel(n_jobs=16)]: Done   5 out of  16 | elapsed:   16.4s remaining:   36.2s\n",
      "[Parallel(n_jobs=16)]: Done   9 out of  16 | elapsed:   23.7s remaining:   18.4s\n",
      "[Parallel(n_jobs=16)]: Done  13 out of  16 | elapsed:   31.0s remaining:    7.2s\n",
      "[Parallel(n_jobs=16)]: Done  16 out of  16 | elapsed:   36.4s finished\n"
     ]
    },
    {
     "name": "stdout",
     "output_type": "stream",
     "text": [
      "    computing cross-spectral density for epochs 129..144\n"
     ]
    },
    {
     "name": "stderr",
     "output_type": "stream",
     "text": [
      "[Parallel(n_jobs=16)]: Using backend LokyBackend with 16 concurrent workers.\n",
      "[Parallel(n_jobs=16)]: Done   5 out of  16 | elapsed:   16.3s remaining:   35.9s\n",
      "[Parallel(n_jobs=16)]: Done   9 out of  16 | elapsed:   23.6s remaining:   18.4s\n",
      "[Parallel(n_jobs=16)]: Done  13 out of  16 | elapsed:   30.9s remaining:    7.1s\n",
      "[Parallel(n_jobs=16)]: Done  16 out of  16 | elapsed:   36.3s finished\n"
     ]
    },
    {
     "name": "stdout",
     "output_type": "stream",
     "text": [
      "    computing cross-spectral density for epochs 145..160\n"
     ]
    },
    {
     "name": "stderr",
     "output_type": "stream",
     "text": [
      "[Parallel(n_jobs=16)]: Using backend LokyBackend with 16 concurrent workers.\n",
      "[Parallel(n_jobs=16)]: Done   5 out of  16 | elapsed:   16.5s remaining:   36.2s\n",
      "[Parallel(n_jobs=16)]: Done   9 out of  16 | elapsed:   23.7s remaining:   18.4s\n",
      "[Parallel(n_jobs=16)]: Done  13 out of  16 | elapsed:   31.0s remaining:    7.1s\n",
      "[Parallel(n_jobs=16)]: Done  16 out of  16 | elapsed:   36.5s finished\n"
     ]
    },
    {
     "name": "stdout",
     "output_type": "stream",
     "text": [
      "    computing cross-spectral density for epochs 161..171\n"
     ]
    },
    {
     "name": "stderr",
     "output_type": "stream",
     "text": [
      "[Parallel(n_jobs=16)]: Using backend LokyBackend with 16 concurrent workers.\n",
      "[Parallel(n_jobs=16)]: Done   2 out of  11 | elapsed:    8.3s remaining:   37.6s\n",
      "[Parallel(n_jobs=16)]: Done   5 out of  11 | elapsed:   13.8s remaining:   16.5s\n",
      "[Parallel(n_jobs=16)]: Done   8 out of  11 | elapsed:   19.1s remaining:    7.2s\n",
      "[Parallel(n_jobs=16)]: Done  11 out of  11 | elapsed:   24.7s finished\n"
     ]
    },
    {
     "name": "stdout",
     "output_type": "stream",
     "text": [
      "[Connectivity computation done]\n",
      "NOTE: pick_channels() is a legacy function. New code should use inst.pick(...).\n",
      "NOTE: pick_channels() is a legacy function. New code should use inst.pick(...).\n",
      "NOTE: pick_channels() is a legacy function. New code should use inst.pick(...).\n",
      "NOTE: pick_channels() is a legacy function. New code should use inst.pick(...).\n",
      "NOTE: pick_channels() is a legacy function. New code should use inst.pick(...).\n",
      "NOTE: pick_channels() is a legacy function. New code should use inst.pick(...).\n",
      "computing TFR\n",
      "Connectivity computation...\n",
      "    computing connectivity for 1607 connections\n",
      "    using t=-2.500s..2.500s for estimation (501 points)\n",
      "    frequencies: 3.1Hz..7.6Hz (15 points)\n",
      "    using CWT with Morlet wavelets to estimate spectra\n",
      "    the following metrics will be computed: Imaginary Coherence, PPC, Debiased WPLI Square\n",
      "    computing cross-spectral density for epochs 1..16\n"
     ]
    },
    {
     "name": "stderr",
     "output_type": "stream",
     "text": [
      "[Parallel(n_jobs=16)]: Using backend LokyBackend with 16 concurrent workers.\n",
      "[Parallel(n_jobs=16)]: Done   5 out of  16 | elapsed:   16.3s remaining:   35.9s\n",
      "[Parallel(n_jobs=16)]: Done   9 out of  16 | elapsed:   23.5s remaining:   18.3s\n",
      "[Parallel(n_jobs=16)]: Done  13 out of  16 | elapsed:   30.8s remaining:    7.1s\n",
      "[Parallel(n_jobs=16)]: Done  16 out of  16 | elapsed:   36.2s finished\n"
     ]
    },
    {
     "name": "stdout",
     "output_type": "stream",
     "text": [
      "    computing cross-spectral density for epochs 17..32\n"
     ]
    },
    {
     "name": "stderr",
     "output_type": "stream",
     "text": [
      "[Parallel(n_jobs=16)]: Using backend LokyBackend with 16 concurrent workers.\n",
      "[Parallel(n_jobs=16)]: Done   5 out of  16 | elapsed:   16.5s remaining:   36.3s\n",
      "[Parallel(n_jobs=16)]: Done   9 out of  16 | elapsed:   23.7s remaining:   18.5s\n",
      "[Parallel(n_jobs=16)]: Done  13 out of  16 | elapsed:   31.1s remaining:    7.2s\n",
      "[Parallel(n_jobs=16)]: Done  16 out of  16 | elapsed:   36.4s finished\n"
     ]
    },
    {
     "name": "stdout",
     "output_type": "stream",
     "text": [
      "    computing cross-spectral density for epochs 33..48\n"
     ]
    },
    {
     "name": "stderr",
     "output_type": "stream",
     "text": [
      "[Parallel(n_jobs=16)]: Using backend LokyBackend with 16 concurrent workers.\n",
      "[Parallel(n_jobs=16)]: Done   5 out of  16 | elapsed:   16.3s remaining:   35.8s\n",
      "[Parallel(n_jobs=16)]: Done   9 out of  16 | elapsed:   23.5s remaining:   18.3s\n",
      "[Parallel(n_jobs=16)]: Done  13 out of  16 | elapsed:   30.8s remaining:    7.1s\n",
      "[Parallel(n_jobs=16)]: Done  16 out of  16 | elapsed:   36.3s finished\n"
     ]
    },
    {
     "name": "stdout",
     "output_type": "stream",
     "text": [
      "    computing cross-spectral density for epochs 49..64\n"
     ]
    },
    {
     "name": "stderr",
     "output_type": "stream",
     "text": [
      "[Parallel(n_jobs=16)]: Using backend LokyBackend with 16 concurrent workers.\n",
      "[Parallel(n_jobs=16)]: Done   5 out of  16 | elapsed:   16.6s remaining:   36.4s\n",
      "[Parallel(n_jobs=16)]: Done   9 out of  16 | elapsed:   23.8s remaining:   18.5s\n",
      "[Parallel(n_jobs=16)]: Done  13 out of  16 | elapsed:   31.0s remaining:    7.2s\n",
      "[Parallel(n_jobs=16)]: Done  16 out of  16 | elapsed:   36.5s finished\n"
     ]
    },
    {
     "name": "stdout",
     "output_type": "stream",
     "text": [
      "    computing cross-spectral density for epochs 65..80\n"
     ]
    },
    {
     "name": "stderr",
     "output_type": "stream",
     "text": [
      "[Parallel(n_jobs=16)]: Using backend LokyBackend with 16 concurrent workers.\n",
      "[Parallel(n_jobs=16)]: Done   5 out of  16 | elapsed:   16.5s remaining:   36.3s\n",
      "[Parallel(n_jobs=16)]: Done   9 out of  16 | elapsed:   23.6s remaining:   18.4s\n",
      "[Parallel(n_jobs=16)]: Done  13 out of  16 | elapsed:   30.9s remaining:    7.1s\n",
      "[Parallel(n_jobs=16)]: Done  16 out of  16 | elapsed:   36.3s finished\n"
     ]
    },
    {
     "name": "stdout",
     "output_type": "stream",
     "text": [
      "    computing cross-spectral density for epochs 81..96\n"
     ]
    },
    {
     "name": "stderr",
     "output_type": "stream",
     "text": [
      "[Parallel(n_jobs=16)]: Using backend LokyBackend with 16 concurrent workers.\n",
      "[Parallel(n_jobs=16)]: Done   5 out of  16 | elapsed:   16.5s remaining:   36.3s\n",
      "[Parallel(n_jobs=16)]: Done   9 out of  16 | elapsed:   23.7s remaining:   18.4s\n",
      "[Parallel(n_jobs=16)]: Done  13 out of  16 | elapsed:   31.0s remaining:    7.2s\n",
      "[Parallel(n_jobs=16)]: Done  16 out of  16 | elapsed:   36.4s finished\n"
     ]
    },
    {
     "name": "stdout",
     "output_type": "stream",
     "text": [
      "    computing cross-spectral density for epochs 97..112\n"
     ]
    },
    {
     "name": "stderr",
     "output_type": "stream",
     "text": [
      "[Parallel(n_jobs=16)]: Using backend LokyBackend with 16 concurrent workers.\n",
      "[Parallel(n_jobs=16)]: Done   5 out of  16 | elapsed:   16.5s remaining:   36.2s\n",
      "[Parallel(n_jobs=16)]: Done   9 out of  16 | elapsed:   23.6s remaining:   18.3s\n",
      "[Parallel(n_jobs=16)]: Done  13 out of  16 | elapsed:   30.7s remaining:    7.1s\n",
      "[Parallel(n_jobs=16)]: Done  16 out of  16 | elapsed:   36.1s finished\n"
     ]
    },
    {
     "name": "stdout",
     "output_type": "stream",
     "text": [
      "    computing cross-spectral density for epochs 113..128\n"
     ]
    },
    {
     "name": "stderr",
     "output_type": "stream",
     "text": [
      "[Parallel(n_jobs=16)]: Using backend LokyBackend with 16 concurrent workers.\n",
      "[Parallel(n_jobs=16)]: Done   5 out of  16 | elapsed:   16.5s remaining:   36.3s\n",
      "[Parallel(n_jobs=16)]: Done   9 out of  16 | elapsed:   23.6s remaining:   18.4s\n",
      "[Parallel(n_jobs=16)]: Done  13 out of  16 | elapsed:   30.8s remaining:    7.1s\n",
      "[Parallel(n_jobs=16)]: Done  16 out of  16 | elapsed:   36.2s finished\n"
     ]
    },
    {
     "name": "stdout",
     "output_type": "stream",
     "text": [
      "    computing cross-spectral density for epochs 129..144\n"
     ]
    },
    {
     "name": "stderr",
     "output_type": "stream",
     "text": [
      "[Parallel(n_jobs=16)]: Using backend LokyBackend with 16 concurrent workers.\n",
      "[Parallel(n_jobs=16)]: Done   5 out of  16 | elapsed:   16.5s remaining:   36.3s\n",
      "[Parallel(n_jobs=16)]: Done   9 out of  16 | elapsed:   23.6s remaining:   18.3s\n",
      "[Parallel(n_jobs=16)]: Done  13 out of  16 | elapsed:   30.8s remaining:    7.1s\n",
      "[Parallel(n_jobs=16)]: Done  16 out of  16 | elapsed:   36.1s finished\n"
     ]
    },
    {
     "name": "stdout",
     "output_type": "stream",
     "text": [
      "    computing cross-spectral density for epochs 145..160\n"
     ]
    },
    {
     "name": "stderr",
     "output_type": "stream",
     "text": [
      "[Parallel(n_jobs=16)]: Using backend LokyBackend with 16 concurrent workers.\n",
      "[Parallel(n_jobs=16)]: Done   5 out of  16 | elapsed:   16.6s remaining:   36.4s\n",
      "[Parallel(n_jobs=16)]: Done   9 out of  16 | elapsed:   23.8s remaining:   18.5s\n",
      "[Parallel(n_jobs=16)]: Done  13 out of  16 | elapsed:   31.0s remaining:    7.2s\n",
      "[Parallel(n_jobs=16)]: Done  16 out of  16 | elapsed:   36.3s finished\n"
     ]
    },
    {
     "name": "stdout",
     "output_type": "stream",
     "text": [
      "    computing cross-spectral density for epochs 161..171\n"
     ]
    },
    {
     "name": "stderr",
     "output_type": "stream",
     "text": [
      "[Parallel(n_jobs=16)]: Using backend LokyBackend with 16 concurrent workers.\n",
      "[Parallel(n_jobs=16)]: Done   2 out of  11 | elapsed:    8.6s remaining:   38.6s\n",
      "[Parallel(n_jobs=16)]: Done   5 out of  11 | elapsed:   13.9s remaining:   16.7s\n",
      "[Parallel(n_jobs=16)]: Done   8 out of  11 | elapsed:   19.2s remaining:    7.2s\n",
      "[Parallel(n_jobs=16)]: Done  11 out of  11 | elapsed:   24.6s finished\n"
     ]
    },
    {
     "name": "stdout",
     "output_type": "stream",
     "text": [
      "[Connectivity computation done]\n",
      "NOTE: pick_channels() is a legacy function. New code should use inst.pick(...).\n",
      "NOTE: pick_channels() is a legacy function. New code should use inst.pick(...).\n",
      "NOTE: pick_channels() is a legacy function. New code should use inst.pick(...).\n",
      "NOTE: pick_channels() is a legacy function. New code should use inst.pick(...).\n",
      "NOTE: pick_channels() is a legacy function. New code should use inst.pick(...).\n",
      "NOTE: pick_channels() is a legacy function. New code should use inst.pick(...).\n",
      "computing TFR\n",
      "Connectivity computation...\n",
      "    computing connectivity for 1607 connections\n",
      "    using t=-2.500s..2.500s for estimation (501 points)\n",
      "    frequencies: 3.1Hz..7.6Hz (15 points)\n",
      "    using CWT with Morlet wavelets to estimate spectra\n",
      "    the following metrics will be computed: Imaginary Coherence, PPC, Debiased WPLI Square\n",
      "    computing cross-spectral density for epochs 1..16\n"
     ]
    },
    {
     "name": "stderr",
     "output_type": "stream",
     "text": [
      "[Parallel(n_jobs=16)]: Using backend LokyBackend with 16 concurrent workers.\n",
      "[Parallel(n_jobs=16)]: Done   5 out of  16 | elapsed:   16.2s remaining:   35.7s\n",
      "[Parallel(n_jobs=16)]: Done   9 out of  16 | elapsed:   23.4s remaining:   18.2s\n",
      "[Parallel(n_jobs=16)]: Done  13 out of  16 | elapsed:   30.7s remaining:    7.1s\n",
      "[Parallel(n_jobs=16)]: Done  16 out of  16 | elapsed:   36.2s finished\n"
     ]
    },
    {
     "name": "stdout",
     "output_type": "stream",
     "text": [
      "    computing cross-spectral density for epochs 17..32\n"
     ]
    },
    {
     "name": "stderr",
     "output_type": "stream",
     "text": [
      "[Parallel(n_jobs=16)]: Using backend LokyBackend with 16 concurrent workers.\n",
      "[Parallel(n_jobs=16)]: Done   5 out of  16 | elapsed:   16.5s remaining:   36.3s\n",
      "[Parallel(n_jobs=16)]: Done   9 out of  16 | elapsed:   23.6s remaining:   18.4s\n",
      "[Parallel(n_jobs=16)]: Done  13 out of  16 | elapsed:   30.8s remaining:    7.1s\n",
      "[Parallel(n_jobs=16)]: Done  16 out of  16 | elapsed:   36.2s finished\n"
     ]
    },
    {
     "name": "stdout",
     "output_type": "stream",
     "text": [
      "    computing cross-spectral density for epochs 33..48\n"
     ]
    },
    {
     "name": "stderr",
     "output_type": "stream",
     "text": [
      "[Parallel(n_jobs=16)]: Using backend LokyBackend with 16 concurrent workers.\n",
      "[Parallel(n_jobs=16)]: Done   5 out of  16 | elapsed:   16.4s remaining:   36.0s\n",
      "[Parallel(n_jobs=16)]: Done   9 out of  16 | elapsed:   23.5s remaining:   18.3s\n",
      "[Parallel(n_jobs=16)]: Done  13 out of  16 | elapsed:   30.7s remaining:    7.1s\n",
      "[Parallel(n_jobs=16)]: Done  16 out of  16 | elapsed:   36.1s finished\n"
     ]
    },
    {
     "name": "stdout",
     "output_type": "stream",
     "text": [
      "    computing cross-spectral density for epochs 49..64\n"
     ]
    },
    {
     "name": "stderr",
     "output_type": "stream",
     "text": [
      "[Parallel(n_jobs=16)]: Using backend LokyBackend with 16 concurrent workers.\n",
      "[Parallel(n_jobs=16)]: Done   5 out of  16 | elapsed:   16.5s remaining:   36.2s\n",
      "[Parallel(n_jobs=16)]: Done   9 out of  16 | elapsed:   23.6s remaining:   18.4s\n",
      "[Parallel(n_jobs=16)]: Done  13 out of  16 | elapsed:   30.8s remaining:    7.1s\n",
      "[Parallel(n_jobs=16)]: Done  16 out of  16 | elapsed:   36.3s finished\n"
     ]
    },
    {
     "name": "stdout",
     "output_type": "stream",
     "text": [
      "    computing cross-spectral density for epochs 65..80\n"
     ]
    },
    {
     "name": "stderr",
     "output_type": "stream",
     "text": [
      "[Parallel(n_jobs=16)]: Using backend LokyBackend with 16 concurrent workers.\n",
      "[Parallel(n_jobs=16)]: Done   5 out of  16 | elapsed:   16.4s remaining:   36.0s\n",
      "[Parallel(n_jobs=16)]: Done   9 out of  16 | elapsed:   23.5s remaining:   18.3s\n",
      "[Parallel(n_jobs=16)]: Done  13 out of  16 | elapsed:   30.6s remaining:    7.1s\n",
      "[Parallel(n_jobs=16)]: Done  16 out of  16 | elapsed:   36.0s finished\n"
     ]
    },
    {
     "name": "stdout",
     "output_type": "stream",
     "text": [
      "    computing cross-spectral density for epochs 81..96\n"
     ]
    },
    {
     "name": "stderr",
     "output_type": "stream",
     "text": [
      "[Parallel(n_jobs=16)]: Using backend LokyBackend with 16 concurrent workers.\n",
      "[Parallel(n_jobs=16)]: Done   5 out of  16 | elapsed:   16.4s remaining:   36.1s\n",
      "[Parallel(n_jobs=16)]: Done   9 out of  16 | elapsed:   23.5s remaining:   18.3s\n",
      "[Parallel(n_jobs=16)]: Done  13 out of  16 | elapsed:   30.7s remaining:    7.1s\n",
      "[Parallel(n_jobs=16)]: Done  16 out of  16 | elapsed:   36.1s finished\n"
     ]
    },
    {
     "name": "stdout",
     "output_type": "stream",
     "text": [
      "    computing cross-spectral density for epochs 97..112\n"
     ]
    },
    {
     "name": "stderr",
     "output_type": "stream",
     "text": [
      "[Parallel(n_jobs=16)]: Using backend LokyBackend with 16 concurrent workers.\n",
      "[Parallel(n_jobs=16)]: Done   5 out of  16 | elapsed:   16.3s remaining:   35.8s\n",
      "[Parallel(n_jobs=16)]: Done   9 out of  16 | elapsed:   23.4s remaining:   18.2s\n",
      "[Parallel(n_jobs=16)]: Done  13 out of  16 | elapsed:   30.7s remaining:    7.1s\n",
      "[Parallel(n_jobs=16)]: Done  16 out of  16 | elapsed:   36.1s finished\n"
     ]
    },
    {
     "name": "stdout",
     "output_type": "stream",
     "text": [
      "    computing cross-spectral density for epochs 113..128\n"
     ]
    },
    {
     "name": "stderr",
     "output_type": "stream",
     "text": [
      "[Parallel(n_jobs=16)]: Using backend LokyBackend with 16 concurrent workers.\n",
      "[Parallel(n_jobs=16)]: Done   5 out of  16 | elapsed:   16.6s remaining:   36.6s\n",
      "[Parallel(n_jobs=16)]: Done   9 out of  16 | elapsed:   23.8s remaining:   18.5s\n",
      "[Parallel(n_jobs=16)]: Done  13 out of  16 | elapsed:   31.0s remaining:    7.2s\n",
      "[Parallel(n_jobs=16)]: Done  16 out of  16 | elapsed:   36.4s finished\n"
     ]
    },
    {
     "name": "stdout",
     "output_type": "stream",
     "text": [
      "    computing cross-spectral density for epochs 129..144\n"
     ]
    },
    {
     "name": "stderr",
     "output_type": "stream",
     "text": [
      "[Parallel(n_jobs=16)]: Using backend LokyBackend with 16 concurrent workers.\n",
      "[Parallel(n_jobs=16)]: Done   5 out of  16 | elapsed:   16.4s remaining:   36.0s\n",
      "[Parallel(n_jobs=16)]: Done   9 out of  16 | elapsed:   23.6s remaining:   18.3s\n",
      "[Parallel(n_jobs=16)]: Done  13 out of  16 | elapsed:   30.9s remaining:    7.1s\n",
      "[Parallel(n_jobs=16)]: Done  16 out of  16 | elapsed:   36.3s finished\n"
     ]
    },
    {
     "name": "stdout",
     "output_type": "stream",
     "text": [
      "    computing cross-spectral density for epochs 145..160\n"
     ]
    },
    {
     "name": "stderr",
     "output_type": "stream",
     "text": [
      "[Parallel(n_jobs=16)]: Using backend LokyBackend with 16 concurrent workers.\n",
      "[Parallel(n_jobs=16)]: Done   5 out of  16 | elapsed:   16.5s remaining:   36.2s\n",
      "[Parallel(n_jobs=16)]: Done   9 out of  16 | elapsed:   23.6s remaining:   18.4s\n",
      "[Parallel(n_jobs=16)]: Done  13 out of  16 | elapsed:   30.8s remaining:    7.1s\n",
      "[Parallel(n_jobs=16)]: Done  16 out of  16 | elapsed:   36.3s finished\n"
     ]
    },
    {
     "name": "stdout",
     "output_type": "stream",
     "text": [
      "    computing cross-spectral density for epochs 161..171\n"
     ]
    },
    {
     "name": "stderr",
     "output_type": "stream",
     "text": [
      "[Parallel(n_jobs=16)]: Using backend LokyBackend with 16 concurrent workers.\n",
      "[Parallel(n_jobs=16)]: Done   2 out of  11 | elapsed:    8.5s remaining:   38.2s\n",
      "[Parallel(n_jobs=16)]: Done   5 out of  11 | elapsed:   13.9s remaining:   16.6s\n",
      "[Parallel(n_jobs=16)]: Done   8 out of  11 | elapsed:   19.2s remaining:    7.2s\n",
      "[Parallel(n_jobs=16)]: Done  11 out of  11 | elapsed:   24.6s finished\n"
     ]
    },
    {
     "name": "stdout",
     "output_type": "stream",
     "text": [
      "[Connectivity computation done]\n",
      "NOTE: pick_channels() is a legacy function. New code should use inst.pick(...).\n",
      "NOTE: pick_channels() is a legacy function. New code should use inst.pick(...).\n",
      "NOTE: pick_channels() is a legacy function. New code should use inst.pick(...).\n",
      "NOTE: pick_channels() is a legacy function. New code should use inst.pick(...).\n",
      "NOTE: pick_channels() is a legacy function. New code should use inst.pick(...).\n",
      "NOTE: pick_channels() is a legacy function. New code should use inst.pick(...).\n",
      "computing TFR\n",
      "Connectivity computation...\n",
      "    computing connectivity for 1607 connections\n",
      "    using t=-2.500s..2.500s for estimation (501 points)\n",
      "    frequencies: 3.1Hz..7.6Hz (15 points)\n",
      "    using CWT with Morlet wavelets to estimate spectra\n",
      "    the following metrics will be computed: Imaginary Coherence, PPC, Debiased WPLI Square\n",
      "    computing cross-spectral density for epochs 1..16\n"
     ]
    },
    {
     "name": "stderr",
     "output_type": "stream",
     "text": [
      "[Parallel(n_jobs=16)]: Using backend LokyBackend with 16 concurrent workers.\n",
      "[Parallel(n_jobs=16)]: Done   5 out of  16 | elapsed:   16.2s remaining:   35.7s\n",
      "[Parallel(n_jobs=16)]: Done   9 out of  16 | elapsed:   23.4s remaining:   18.2s\n",
      "[Parallel(n_jobs=16)]: Done  13 out of  16 | elapsed:   30.7s remaining:    7.1s\n",
      "[Parallel(n_jobs=16)]: Done  16 out of  16 | elapsed:   36.1s finished\n"
     ]
    },
    {
     "name": "stdout",
     "output_type": "stream",
     "text": [
      "    computing cross-spectral density for epochs 17..32\n"
     ]
    },
    {
     "name": "stderr",
     "output_type": "stream",
     "text": [
      "[Parallel(n_jobs=16)]: Using backend LokyBackend with 16 concurrent workers.\n",
      "[Parallel(n_jobs=16)]: Done   5 out of  16 | elapsed:   16.2s remaining:   35.6s\n",
      "[Parallel(n_jobs=16)]: Done   9 out of  16 | elapsed:   23.3s remaining:   18.1s\n",
      "[Parallel(n_jobs=16)]: Done  13 out of  16 | elapsed:   30.5s remaining:    7.0s\n",
      "[Parallel(n_jobs=16)]: Done  16 out of  16 | elapsed:   35.8s finished\n"
     ]
    },
    {
     "name": "stdout",
     "output_type": "stream",
     "text": [
      "    computing cross-spectral density for epochs 33..48\n"
     ]
    },
    {
     "name": "stderr",
     "output_type": "stream",
     "text": [
      "[Parallel(n_jobs=16)]: Using backend LokyBackend with 16 concurrent workers.\n",
      "[Parallel(n_jobs=16)]: Done   5 out of  16 | elapsed:   16.5s remaining:   36.3s\n",
      "[Parallel(n_jobs=16)]: Done   9 out of  16 | elapsed:   23.7s remaining:   18.4s\n",
      "[Parallel(n_jobs=16)]: Done  13 out of  16 | elapsed:   30.9s remaining:    7.1s\n",
      "[Parallel(n_jobs=16)]: Done  16 out of  16 | elapsed:   36.4s finished\n"
     ]
    },
    {
     "name": "stdout",
     "output_type": "stream",
     "text": [
      "    computing cross-spectral density for epochs 49..64\n"
     ]
    },
    {
     "name": "stderr",
     "output_type": "stream",
     "text": [
      "[Parallel(n_jobs=16)]: Using backend LokyBackend with 16 concurrent workers.\n",
      "[Parallel(n_jobs=16)]: Done   5 out of  16 | elapsed:   16.6s remaining:   36.4s\n",
      "[Parallel(n_jobs=16)]: Done   9 out of  16 | elapsed:   23.7s remaining:   18.4s\n",
      "[Parallel(n_jobs=16)]: Done  13 out of  16 | elapsed:   30.8s remaining:    7.1s\n",
      "[Parallel(n_jobs=16)]: Done  16 out of  16 | elapsed:   36.3s finished\n"
     ]
    },
    {
     "name": "stdout",
     "output_type": "stream",
     "text": [
      "    computing cross-spectral density for epochs 65..80\n"
     ]
    },
    {
     "name": "stderr",
     "output_type": "stream",
     "text": [
      "[Parallel(n_jobs=16)]: Using backend LokyBackend with 16 concurrent workers.\n",
      "[Parallel(n_jobs=16)]: Done   5 out of  16 | elapsed:   16.4s remaining:   36.2s\n",
      "[Parallel(n_jobs=16)]: Done   9 out of  16 | elapsed:   23.6s remaining:   18.4s\n",
      "[Parallel(n_jobs=16)]: Done  13 out of  16 | elapsed:   30.8s remaining:    7.1s\n",
      "[Parallel(n_jobs=16)]: Done  16 out of  16 | elapsed:   36.3s finished\n"
     ]
    },
    {
     "name": "stdout",
     "output_type": "stream",
     "text": [
      "    computing cross-spectral density for epochs 81..96\n"
     ]
    },
    {
     "name": "stderr",
     "output_type": "stream",
     "text": [
      "[Parallel(n_jobs=16)]: Using backend LokyBackend with 16 concurrent workers.\n",
      "[Parallel(n_jobs=16)]: Done   5 out of  16 | elapsed:   16.7s remaining:   36.7s\n",
      "[Parallel(n_jobs=16)]: Done   9 out of  16 | elapsed:   23.9s remaining:   18.6s\n",
      "[Parallel(n_jobs=16)]: Done  13 out of  16 | elapsed:   31.1s remaining:    7.2s\n",
      "[Parallel(n_jobs=16)]: Done  16 out of  16 | elapsed:   36.5s finished\n"
     ]
    },
    {
     "name": "stdout",
     "output_type": "stream",
     "text": [
      "    computing cross-spectral density for epochs 97..112\n"
     ]
    },
    {
     "name": "stderr",
     "output_type": "stream",
     "text": [
      "[Parallel(n_jobs=16)]: Using backend LokyBackend with 16 concurrent workers.\n",
      "[Parallel(n_jobs=16)]: Done   5 out of  16 | elapsed:   16.3s remaining:   35.9s\n",
      "[Parallel(n_jobs=16)]: Done   9 out of  16 | elapsed:   23.4s remaining:   18.2s\n",
      "[Parallel(n_jobs=16)]: Done  13 out of  16 | elapsed:   30.7s remaining:    7.1s\n",
      "[Parallel(n_jobs=16)]: Done  16 out of  16 | elapsed:   36.2s finished\n"
     ]
    },
    {
     "name": "stdout",
     "output_type": "stream",
     "text": [
      "    computing cross-spectral density for epochs 113..128\n"
     ]
    },
    {
     "name": "stderr",
     "output_type": "stream",
     "text": [
      "[Parallel(n_jobs=16)]: Using backend LokyBackend with 16 concurrent workers.\n",
      "[Parallel(n_jobs=16)]: Done   5 out of  16 | elapsed:   16.6s remaining:   36.4s\n",
      "[Parallel(n_jobs=16)]: Done   9 out of  16 | elapsed:   23.7s remaining:   18.4s\n",
      "[Parallel(n_jobs=16)]: Done  13 out of  16 | elapsed:   30.9s remaining:    7.1s\n",
      "[Parallel(n_jobs=16)]: Done  16 out of  16 | elapsed:   36.3s finished\n"
     ]
    },
    {
     "name": "stdout",
     "output_type": "stream",
     "text": [
      "    computing cross-spectral density for epochs 129..144\n"
     ]
    },
    {
     "name": "stderr",
     "output_type": "stream",
     "text": [
      "[Parallel(n_jobs=16)]: Using backend LokyBackend with 16 concurrent workers.\n",
      "[Parallel(n_jobs=16)]: Done   5 out of  16 | elapsed:   16.6s remaining:   36.6s\n",
      "[Parallel(n_jobs=16)]: Done   9 out of  16 | elapsed:   23.7s remaining:   18.4s\n",
      "[Parallel(n_jobs=16)]: Done  13 out of  16 | elapsed:   30.9s remaining:    7.1s\n",
      "[Parallel(n_jobs=16)]: Done  16 out of  16 | elapsed:   36.3s finished\n"
     ]
    },
    {
     "name": "stdout",
     "output_type": "stream",
     "text": [
      "    computing cross-spectral density for epochs 145..160\n"
     ]
    },
    {
     "name": "stderr",
     "output_type": "stream",
     "text": [
      "[Parallel(n_jobs=16)]: Using backend LokyBackend with 16 concurrent workers.\n",
      "[Parallel(n_jobs=16)]: Done   5 out of  16 | elapsed:   16.5s remaining:   36.4s\n",
      "[Parallel(n_jobs=16)]: Done   9 out of  16 | elapsed:   23.7s remaining:   18.5s\n",
      "[Parallel(n_jobs=16)]: Done  13 out of  16 | elapsed:   30.9s remaining:    7.1s\n",
      "[Parallel(n_jobs=16)]: Done  16 out of  16 | elapsed:   36.3s finished\n"
     ]
    },
    {
     "name": "stdout",
     "output_type": "stream",
     "text": [
      "    computing cross-spectral density for epochs 161..171\n"
     ]
    },
    {
     "name": "stderr",
     "output_type": "stream",
     "text": [
      "[Parallel(n_jobs=16)]: Using backend LokyBackend with 16 concurrent workers.\n",
      "[Parallel(n_jobs=16)]: Done   2 out of  11 | elapsed:    8.4s remaining:   38.0s\n",
      "[Parallel(n_jobs=16)]: Done   5 out of  11 | elapsed:   13.8s remaining:   16.6s\n",
      "[Parallel(n_jobs=16)]: Done   8 out of  11 | elapsed:   19.3s remaining:    7.2s\n",
      "[Parallel(n_jobs=16)]: Done  11 out of  11 | elapsed:   24.7s finished\n"
     ]
    },
    {
     "name": "stdout",
     "output_type": "stream",
     "text": [
      "[Connectivity computation done]\n",
      "NOTE: pick_channels() is a legacy function. New code should use inst.pick(...).\n",
      "NOTE: pick_channels() is a legacy function. New code should use inst.pick(...).\n",
      "NOTE: pick_channels() is a legacy function. New code should use inst.pick(...).\n",
      "NOTE: pick_channels() is a legacy function. New code should use inst.pick(...).\n",
      "NOTE: pick_channels() is a legacy function. New code should use inst.pick(...).\n",
      "NOTE: pick_channels() is a legacy function. New code should use inst.pick(...).\n",
      "computing TFR\n",
      "Connectivity computation...\n",
      "    computing connectivity for 1607 connections\n",
      "    using t=-2.500s..2.500s for estimation (501 points)\n",
      "    frequencies: 3.1Hz..7.6Hz (15 points)\n",
      "    using CWT with Morlet wavelets to estimate spectra\n",
      "    the following metrics will be computed: Imaginary Coherence, PPC, Debiased WPLI Square\n",
      "    computing cross-spectral density for epochs 1..16\n"
     ]
    },
    {
     "name": "stderr",
     "output_type": "stream",
     "text": [
      "[Parallel(n_jobs=16)]: Using backend LokyBackend with 16 concurrent workers.\n",
      "[Parallel(n_jobs=16)]: Done   5 out of  16 | elapsed:   16.2s remaining:   35.7s\n",
      "[Parallel(n_jobs=16)]: Done   9 out of  16 | elapsed:   23.4s remaining:   18.2s\n",
      "[Parallel(n_jobs=16)]: Done  13 out of  16 | elapsed:   30.7s remaining:    7.1s\n",
      "[Parallel(n_jobs=16)]: Done  16 out of  16 | elapsed:   36.2s finished\n"
     ]
    },
    {
     "name": "stdout",
     "output_type": "stream",
     "text": [
      "    computing cross-spectral density for epochs 17..32\n"
     ]
    },
    {
     "name": "stderr",
     "output_type": "stream",
     "text": [
      "[Parallel(n_jobs=16)]: Using backend LokyBackend with 16 concurrent workers.\n",
      "[Parallel(n_jobs=16)]: Done   5 out of  16 | elapsed:   16.1s remaining:   35.4s\n",
      "[Parallel(n_jobs=16)]: Done   9 out of  16 | elapsed:   23.2s remaining:   18.0s\n",
      "[Parallel(n_jobs=16)]: Done  13 out of  16 | elapsed:   30.3s remaining:    7.0s\n",
      "[Parallel(n_jobs=16)]: Done  16 out of  16 | elapsed:   35.7s finished\n"
     ]
    },
    {
     "name": "stdout",
     "output_type": "stream",
     "text": [
      "    computing cross-spectral density for epochs 33..48\n"
     ]
    },
    {
     "name": "stderr",
     "output_type": "stream",
     "text": [
      "[Parallel(n_jobs=16)]: Using backend LokyBackend with 16 concurrent workers.\n",
      "[Parallel(n_jobs=16)]: Done   5 out of  16 | elapsed:   16.3s remaining:   36.0s\n",
      "[Parallel(n_jobs=16)]: Done   9 out of  16 | elapsed:   23.5s remaining:   18.2s\n",
      "[Parallel(n_jobs=16)]: Done  13 out of  16 | elapsed:   30.7s remaining:    7.1s\n",
      "[Parallel(n_jobs=16)]: Done  16 out of  16 | elapsed:   36.2s finished\n"
     ]
    },
    {
     "name": "stdout",
     "output_type": "stream",
     "text": [
      "    computing cross-spectral density for epochs 49..64\n"
     ]
    },
    {
     "name": "stderr",
     "output_type": "stream",
     "text": [
      "[Parallel(n_jobs=16)]: Using backend LokyBackend with 16 concurrent workers.\n",
      "[Parallel(n_jobs=16)]: Done   5 out of  16 | elapsed:   16.5s remaining:   36.4s\n",
      "[Parallel(n_jobs=16)]: Done   9 out of  16 | elapsed:   23.6s remaining:   18.4s\n",
      "[Parallel(n_jobs=16)]: Done  13 out of  16 | elapsed:   30.8s remaining:    7.1s\n",
      "[Parallel(n_jobs=16)]: Done  16 out of  16 | elapsed:   36.2s finished\n"
     ]
    },
    {
     "name": "stdout",
     "output_type": "stream",
     "text": [
      "    computing cross-spectral density for epochs 65..80\n"
     ]
    },
    {
     "name": "stderr",
     "output_type": "stream",
     "text": [
      "[Parallel(n_jobs=16)]: Using backend LokyBackend with 16 concurrent workers.\n",
      "[Parallel(n_jobs=16)]: Done   5 out of  16 | elapsed:   16.3s remaining:   35.9s\n",
      "[Parallel(n_jobs=16)]: Done   9 out of  16 | elapsed:   23.5s remaining:   18.2s\n",
      "[Parallel(n_jobs=16)]: Done  13 out of  16 | elapsed:   30.5s remaining:    7.0s\n",
      "[Parallel(n_jobs=16)]: Done  16 out of  16 | elapsed:   36.0s finished\n"
     ]
    },
    {
     "name": "stdout",
     "output_type": "stream",
     "text": [
      "    computing cross-spectral density for epochs 81..96\n"
     ]
    },
    {
     "name": "stderr",
     "output_type": "stream",
     "text": [
      "[Parallel(n_jobs=16)]: Using backend LokyBackend with 16 concurrent workers.\n",
      "[Parallel(n_jobs=16)]: Done   5 out of  16 | elapsed:   16.4s remaining:   36.1s\n",
      "[Parallel(n_jobs=16)]: Done   9 out of  16 | elapsed:   23.6s remaining:   18.3s\n",
      "[Parallel(n_jobs=16)]: Done  13 out of  16 | elapsed:   30.8s remaining:    7.1s\n",
      "[Parallel(n_jobs=16)]: Done  16 out of  16 | elapsed:   36.2s finished\n"
     ]
    },
    {
     "name": "stdout",
     "output_type": "stream",
     "text": [
      "    computing cross-spectral density for epochs 97..112\n"
     ]
    },
    {
     "name": "stderr",
     "output_type": "stream",
     "text": [
      "[Parallel(n_jobs=16)]: Using backend LokyBackend with 16 concurrent workers.\n",
      "[Parallel(n_jobs=16)]: Done   5 out of  16 | elapsed:   16.4s remaining:   36.1s\n",
      "[Parallel(n_jobs=16)]: Done   9 out of  16 | elapsed:   23.5s remaining:   18.3s\n",
      "[Parallel(n_jobs=16)]: Done  13 out of  16 | elapsed:   30.6s remaining:    7.1s\n",
      "[Parallel(n_jobs=16)]: Done  16 out of  16 | elapsed:   36.0s finished\n"
     ]
    },
    {
     "name": "stdout",
     "output_type": "stream",
     "text": [
      "    computing cross-spectral density for epochs 113..128\n"
     ]
    },
    {
     "name": "stderr",
     "output_type": "stream",
     "text": [
      "[Parallel(n_jobs=16)]: Using backend LokyBackend with 16 concurrent workers.\n",
      "[Parallel(n_jobs=16)]: Done   5 out of  16 | elapsed:   16.4s remaining:   36.2s\n",
      "[Parallel(n_jobs=16)]: Done   9 out of  16 | elapsed:   23.6s remaining:   18.4s\n",
      "[Parallel(n_jobs=16)]: Done  13 out of  16 | elapsed:   30.8s remaining:    7.1s\n",
      "[Parallel(n_jobs=16)]: Done  16 out of  16 | elapsed:   36.2s finished\n"
     ]
    },
    {
     "name": "stdout",
     "output_type": "stream",
     "text": [
      "    computing cross-spectral density for epochs 129..144\n"
     ]
    },
    {
     "name": "stderr",
     "output_type": "stream",
     "text": [
      "[Parallel(n_jobs=16)]: Using backend LokyBackend with 16 concurrent workers.\n",
      "[Parallel(n_jobs=16)]: Done   5 out of  16 | elapsed:   16.3s remaining:   35.9s\n",
      "[Parallel(n_jobs=16)]: Done   9 out of  16 | elapsed:   23.4s remaining:   18.2s\n",
      "[Parallel(n_jobs=16)]: Done  13 out of  16 | elapsed:   30.6s remaining:    7.1s\n",
      "[Parallel(n_jobs=16)]: Done  16 out of  16 | elapsed:   36.0s finished\n"
     ]
    },
    {
     "name": "stdout",
     "output_type": "stream",
     "text": [
      "    computing cross-spectral density for epochs 145..160\n"
     ]
    },
    {
     "name": "stderr",
     "output_type": "stream",
     "text": [
      "[Parallel(n_jobs=16)]: Using backend LokyBackend with 16 concurrent workers.\n",
      "[Parallel(n_jobs=16)]: Done   5 out of  16 | elapsed:   16.5s remaining:   36.4s\n",
      "[Parallel(n_jobs=16)]: Done   9 out of  16 | elapsed:   23.7s remaining:   18.4s\n",
      "[Parallel(n_jobs=16)]: Done  13 out of  16 | elapsed:   30.9s remaining:    7.1s\n",
      "[Parallel(n_jobs=16)]: Done  16 out of  16 | elapsed:   36.2s finished\n"
     ]
    },
    {
     "name": "stdout",
     "output_type": "stream",
     "text": [
      "    computing cross-spectral density for epochs 161..171\n"
     ]
    },
    {
     "name": "stderr",
     "output_type": "stream",
     "text": [
      "[Parallel(n_jobs=16)]: Using backend LokyBackend with 16 concurrent workers.\n",
      "[Parallel(n_jobs=16)]: Done   2 out of  11 | elapsed:    8.5s remaining:   38.2s\n",
      "[Parallel(n_jobs=16)]: Done   5 out of  11 | elapsed:   13.8s remaining:   16.6s\n",
      "[Parallel(n_jobs=16)]: Done   8 out of  11 | elapsed:   19.2s remaining:    7.2s\n",
      "[Parallel(n_jobs=16)]: Done  11 out of  11 | elapsed:   24.6s finished\n"
     ]
    },
    {
     "name": "stdout",
     "output_type": "stream",
     "text": [
      "[Connectivity computation done]\n",
      "NOTE: pick_channels() is a legacy function. New code should use inst.pick(...).\n",
      "NOTE: pick_channels() is a legacy function. New code should use inst.pick(...).\n",
      "NOTE: pick_channels() is a legacy function. New code should use inst.pick(...).\n",
      "NOTE: pick_channels() is a legacy function. New code should use inst.pick(...).\n",
      "NOTE: pick_channels() is a legacy function. New code should use inst.pick(...).\n",
      "NOTE: pick_channels() is a legacy function. New code should use inst.pick(...).\n",
      "computing TFR\n",
      "Connectivity computation...\n",
      "    computing connectivity for 1607 connections\n",
      "    using t=-2.500s..2.500s for estimation (501 points)\n",
      "    frequencies: 3.1Hz..7.6Hz (15 points)\n",
      "    using CWT with Morlet wavelets to estimate spectra\n",
      "    the following metrics will be computed: Imaginary Coherence, PPC, Debiased WPLI Square\n",
      "    computing cross-spectral density for epochs 1..16\n"
     ]
    },
    {
     "name": "stderr",
     "output_type": "stream",
     "text": [
      "[Parallel(n_jobs=16)]: Using backend LokyBackend with 16 concurrent workers.\n",
      "[Parallel(n_jobs=16)]: Done   5 out of  16 | elapsed:   16.2s remaining:   35.7s\n",
      "[Parallel(n_jobs=16)]: Done   9 out of  16 | elapsed:   23.4s remaining:   18.2s\n",
      "[Parallel(n_jobs=16)]: Done  13 out of  16 | elapsed:   30.8s remaining:    7.1s\n",
      "[Parallel(n_jobs=16)]: Done  16 out of  16 | elapsed:   36.2s finished\n"
     ]
    },
    {
     "name": "stdout",
     "output_type": "stream",
     "text": [
      "    computing cross-spectral density for epochs 17..32\n"
     ]
    },
    {
     "name": "stderr",
     "output_type": "stream",
     "text": [
      "[Parallel(n_jobs=16)]: Using backend LokyBackend with 16 concurrent workers.\n",
      "[Parallel(n_jobs=16)]: Done   5 out of  16 | elapsed:   16.3s remaining:   35.8s\n",
      "[Parallel(n_jobs=16)]: Done   9 out of  16 | elapsed:   23.4s remaining:   18.2s\n",
      "[Parallel(n_jobs=16)]: Done  13 out of  16 | elapsed:   30.5s remaining:    7.0s\n",
      "[Parallel(n_jobs=16)]: Done  16 out of  16 | elapsed:   35.9s finished\n"
     ]
    },
    {
     "name": "stdout",
     "output_type": "stream",
     "text": [
      "    computing cross-spectral density for epochs 33..48\n"
     ]
    },
    {
     "name": "stderr",
     "output_type": "stream",
     "text": [
      "[Parallel(n_jobs=16)]: Using backend LokyBackend with 16 concurrent workers.\n",
      "[Parallel(n_jobs=16)]: Done   5 out of  16 | elapsed:   16.3s remaining:   35.8s\n",
      "[Parallel(n_jobs=16)]: Done   9 out of  16 | elapsed:   23.4s remaining:   18.2s\n",
      "[Parallel(n_jobs=16)]: Done  13 out of  16 | elapsed:   30.6s remaining:    7.1s\n",
      "[Parallel(n_jobs=16)]: Done  16 out of  16 | elapsed:   36.0s finished\n"
     ]
    },
    {
     "name": "stdout",
     "output_type": "stream",
     "text": [
      "    computing cross-spectral density for epochs 49..64\n"
     ]
    },
    {
     "name": "stderr",
     "output_type": "stream",
     "text": [
      "[Parallel(n_jobs=16)]: Using backend LokyBackend with 16 concurrent workers.\n",
      "[Parallel(n_jobs=16)]: Done   5 out of  16 | elapsed:   16.4s remaining:   36.0s\n",
      "[Parallel(n_jobs=16)]: Done   9 out of  16 | elapsed:   23.4s remaining:   18.2s\n",
      "[Parallel(n_jobs=16)]: Done  13 out of  16 | elapsed:   30.6s remaining:    7.1s\n",
      "[Parallel(n_jobs=16)]: Done  16 out of  16 | elapsed:   35.9s finished\n"
     ]
    },
    {
     "name": "stdout",
     "output_type": "stream",
     "text": [
      "    computing cross-spectral density for epochs 65..80\n"
     ]
    },
    {
     "name": "stderr",
     "output_type": "stream",
     "text": [
      "[Parallel(n_jobs=16)]: Using backend LokyBackend with 16 concurrent workers.\n",
      "[Parallel(n_jobs=16)]: Done   5 out of  16 | elapsed:   16.4s remaining:   36.1s\n",
      "[Parallel(n_jobs=16)]: Done   9 out of  16 | elapsed:   23.5s remaining:   18.3s\n",
      "[Parallel(n_jobs=16)]: Done  13 out of  16 | elapsed:   30.7s remaining:    7.1s\n",
      "[Parallel(n_jobs=16)]: Done  16 out of  16 | elapsed:   36.1s finished\n"
     ]
    },
    {
     "name": "stdout",
     "output_type": "stream",
     "text": [
      "    computing cross-spectral density for epochs 81..96\n"
     ]
    },
    {
     "name": "stderr",
     "output_type": "stream",
     "text": [
      "[Parallel(n_jobs=16)]: Using backend LokyBackend with 16 concurrent workers.\n",
      "[Parallel(n_jobs=16)]: Done   5 out of  16 | elapsed:   16.4s remaining:   36.0s\n",
      "[Parallel(n_jobs=16)]: Done   9 out of  16 | elapsed:   23.5s remaining:   18.3s\n",
      "[Parallel(n_jobs=16)]: Done  13 out of  16 | elapsed:   30.8s remaining:    7.1s\n",
      "[Parallel(n_jobs=16)]: Done  16 out of  16 | elapsed:   36.2s finished\n"
     ]
    },
    {
     "name": "stdout",
     "output_type": "stream",
     "text": [
      "    computing cross-spectral density for epochs 97..112\n"
     ]
    },
    {
     "name": "stderr",
     "output_type": "stream",
     "text": [
      "[Parallel(n_jobs=16)]: Using backend LokyBackend with 16 concurrent workers.\n",
      "[Parallel(n_jobs=16)]: Done   5 out of  16 | elapsed:   16.2s remaining:   35.7s\n",
      "[Parallel(n_jobs=16)]: Done   9 out of  16 | elapsed:   23.4s remaining:   18.2s\n",
      "[Parallel(n_jobs=16)]: Done  13 out of  16 | elapsed:   30.6s remaining:    7.1s\n",
      "[Parallel(n_jobs=16)]: Done  16 out of  16 | elapsed:   36.0s finished\n"
     ]
    },
    {
     "name": "stdout",
     "output_type": "stream",
     "text": [
      "    computing cross-spectral density for epochs 113..128\n"
     ]
    },
    {
     "name": "stderr",
     "output_type": "stream",
     "text": [
      "[Parallel(n_jobs=16)]: Using backend LokyBackend with 16 concurrent workers.\n",
      "[Parallel(n_jobs=16)]: Done   5 out of  16 | elapsed:   16.4s remaining:   36.1s\n",
      "[Parallel(n_jobs=16)]: Done   9 out of  16 | elapsed:   23.6s remaining:   18.3s\n",
      "[Parallel(n_jobs=16)]: Done  13 out of  16 | elapsed:   30.8s remaining:    7.1s\n",
      "[Parallel(n_jobs=16)]: Done  16 out of  16 | elapsed:   36.2s finished\n"
     ]
    },
    {
     "name": "stdout",
     "output_type": "stream",
     "text": [
      "    computing cross-spectral density for epochs 129..144\n"
     ]
    },
    {
     "name": "stderr",
     "output_type": "stream",
     "text": [
      "[Parallel(n_jobs=16)]: Using backend LokyBackend with 16 concurrent workers.\n",
      "[Parallel(n_jobs=16)]: Done   5 out of  16 | elapsed:   16.3s remaining:   35.9s\n",
      "[Parallel(n_jobs=16)]: Done   9 out of  16 | elapsed:   23.4s remaining:   18.2s\n",
      "[Parallel(n_jobs=16)]: Done  13 out of  16 | elapsed:   30.5s remaining:    7.0s\n",
      "[Parallel(n_jobs=16)]: Done  16 out of  16 | elapsed:   36.0s finished\n"
     ]
    },
    {
     "name": "stdout",
     "output_type": "stream",
     "text": [
      "    computing cross-spectral density for epochs 145..160\n"
     ]
    },
    {
     "name": "stderr",
     "output_type": "stream",
     "text": [
      "[Parallel(n_jobs=16)]: Using backend LokyBackend with 16 concurrent workers.\n",
      "[Parallel(n_jobs=16)]: Done   5 out of  16 | elapsed:   16.4s remaining:   36.1s\n",
      "[Parallel(n_jobs=16)]: Done   9 out of  16 | elapsed:   23.7s remaining:   18.4s\n",
      "[Parallel(n_jobs=16)]: Done  13 out of  16 | elapsed:   30.9s remaining:    7.1s\n",
      "[Parallel(n_jobs=16)]: Done  16 out of  16 | elapsed:   36.2s finished\n"
     ]
    },
    {
     "name": "stdout",
     "output_type": "stream",
     "text": [
      "    computing cross-spectral density for epochs 161..171\n"
     ]
    },
    {
     "name": "stderr",
     "output_type": "stream",
     "text": [
      "[Parallel(n_jobs=16)]: Using backend LokyBackend with 16 concurrent workers.\n",
      "[Parallel(n_jobs=16)]: Done   2 out of  11 | elapsed:    8.5s remaining:   38.2s\n",
      "[Parallel(n_jobs=16)]: Done   5 out of  11 | elapsed:   13.8s remaining:   16.6s\n",
      "[Parallel(n_jobs=16)]: Done   8 out of  11 | elapsed:   19.1s remaining:    7.2s\n",
      "[Parallel(n_jobs=16)]: Done  11 out of  11 | elapsed:   24.5s finished\n"
     ]
    },
    {
     "name": "stdout",
     "output_type": "stream",
     "text": [
      "[Connectivity computation done]\n",
      "NOTE: pick_channels() is a legacy function. New code should use inst.pick(...).\n",
      "NOTE: pick_channels() is a legacy function. New code should use inst.pick(...).\n",
      "NOTE: pick_channels() is a legacy function. New code should use inst.pick(...).\n",
      "NOTE: pick_channels() is a legacy function. New code should use inst.pick(...).\n",
      "NOTE: pick_channels() is a legacy function. New code should use inst.pick(...).\n",
      "NOTE: pick_channels() is a legacy function. New code should use inst.pick(...).\n",
      "computing TFR\n",
      "Connectivity computation...\n",
      "    computing connectivity for 1607 connections\n",
      "    using t=-2.500s..2.500s for estimation (501 points)\n",
      "    frequencies: 3.1Hz..7.6Hz (15 points)\n",
      "    using CWT with Morlet wavelets to estimate spectra\n",
      "    the following metrics will be computed: Imaginary Coherence, PPC, Debiased WPLI Square\n",
      "    computing cross-spectral density for epochs 1..16\n"
     ]
    },
    {
     "name": "stderr",
     "output_type": "stream",
     "text": [
      "[Parallel(n_jobs=16)]: Using backend LokyBackend with 16 concurrent workers.\n",
      "[Parallel(n_jobs=16)]: Done   5 out of  16 | elapsed:   16.1s remaining:   35.4s\n",
      "[Parallel(n_jobs=16)]: Done   9 out of  16 | elapsed:   23.3s remaining:   18.1s\n",
      "[Parallel(n_jobs=16)]: Done  13 out of  16 | elapsed:   30.5s remaining:    7.0s\n",
      "[Parallel(n_jobs=16)]: Done  16 out of  16 | elapsed:   36.0s finished\n"
     ]
    },
    {
     "name": "stdout",
     "output_type": "stream",
     "text": [
      "    computing cross-spectral density for epochs 17..32\n"
     ]
    },
    {
     "name": "stderr",
     "output_type": "stream",
     "text": [
      "[Parallel(n_jobs=16)]: Using backend LokyBackend with 16 concurrent workers.\n",
      "[Parallel(n_jobs=16)]: Done   5 out of  16 | elapsed:   16.2s remaining:   35.5s\n",
      "[Parallel(n_jobs=16)]: Done   9 out of  16 | elapsed:   23.2s remaining:   18.0s\n",
      "[Parallel(n_jobs=16)]: Done  13 out of  16 | elapsed:   30.3s remaining:    7.0s\n",
      "[Parallel(n_jobs=16)]: Done  16 out of  16 | elapsed:   35.7s finished\n"
     ]
    },
    {
     "name": "stdout",
     "output_type": "stream",
     "text": [
      "    computing cross-spectral density for epochs 33..48\n"
     ]
    },
    {
     "name": "stderr",
     "output_type": "stream",
     "text": [
      "[Parallel(n_jobs=16)]: Using backend LokyBackend with 16 concurrent workers.\n",
      "[Parallel(n_jobs=16)]: Done   5 out of  16 | elapsed:   16.4s remaining:   36.2s\n",
      "[Parallel(n_jobs=16)]: Done   9 out of  16 | elapsed:   23.6s remaining:   18.3s\n",
      "[Parallel(n_jobs=16)]: Done  13 out of  16 | elapsed:   30.8s remaining:    7.1s\n",
      "[Parallel(n_jobs=16)]: Done  16 out of  16 | elapsed:   36.2s finished\n"
     ]
    },
    {
     "name": "stdout",
     "output_type": "stream",
     "text": [
      "    computing cross-spectral density for epochs 49..64\n"
     ]
    },
    {
     "name": "stderr",
     "output_type": "stream",
     "text": [
      "[Parallel(n_jobs=16)]: Using backend LokyBackend with 16 concurrent workers.\n",
      "[Parallel(n_jobs=16)]: Done   5 out of  16 | elapsed:   16.4s remaining:   36.1s\n",
      "[Parallel(n_jobs=16)]: Done   9 out of  16 | elapsed:   23.6s remaining:   18.4s\n",
      "[Parallel(n_jobs=16)]: Done  13 out of  16 | elapsed:   30.8s remaining:    7.1s\n",
      "[Parallel(n_jobs=16)]: Done  16 out of  16 | elapsed:   36.2s finished\n"
     ]
    },
    {
     "name": "stdout",
     "output_type": "stream",
     "text": [
      "    computing cross-spectral density for epochs 65..80\n"
     ]
    },
    {
     "name": "stderr",
     "output_type": "stream",
     "text": [
      "[Parallel(n_jobs=16)]: Using backend LokyBackend with 16 concurrent workers.\n",
      "[Parallel(n_jobs=16)]: Done   5 out of  16 | elapsed:   16.3s remaining:   35.9s\n",
      "[Parallel(n_jobs=16)]: Done   9 out of  16 | elapsed:   23.5s remaining:   18.2s\n",
      "[Parallel(n_jobs=16)]: Done  13 out of  16 | elapsed:   30.7s remaining:    7.1s\n",
      "[Parallel(n_jobs=16)]: Done  16 out of  16 | elapsed:   36.1s finished\n"
     ]
    },
    {
     "name": "stdout",
     "output_type": "stream",
     "text": [
      "    computing cross-spectral density for epochs 81..96\n"
     ]
    },
    {
     "name": "stderr",
     "output_type": "stream",
     "text": [
      "[Parallel(n_jobs=16)]: Using backend LokyBackend with 16 concurrent workers.\n",
      "[Parallel(n_jobs=16)]: Done   5 out of  16 | elapsed:   16.4s remaining:   36.0s\n",
      "[Parallel(n_jobs=16)]: Done   9 out of  16 | elapsed:   23.5s remaining:   18.3s\n",
      "[Parallel(n_jobs=16)]: Done  13 out of  16 | elapsed:   30.7s remaining:    7.1s\n",
      "[Parallel(n_jobs=16)]: Done  16 out of  16 | elapsed:   36.2s finished\n"
     ]
    },
    {
     "name": "stdout",
     "output_type": "stream",
     "text": [
      "    computing cross-spectral density for epochs 97..112\n"
     ]
    },
    {
     "name": "stderr",
     "output_type": "stream",
     "text": [
      "[Parallel(n_jobs=16)]: Using backend LokyBackend with 16 concurrent workers.\n",
      "[Parallel(n_jobs=16)]: Done   5 out of  16 | elapsed:   16.5s remaining:   36.3s\n",
      "[Parallel(n_jobs=16)]: Done   9 out of  16 | elapsed:   23.7s remaining:   18.4s\n",
      "[Parallel(n_jobs=16)]: Done  13 out of  16 | elapsed:   30.9s remaining:    7.1s\n",
      "[Parallel(n_jobs=16)]: Done  16 out of  16 | elapsed:   36.3s finished\n"
     ]
    },
    {
     "name": "stdout",
     "output_type": "stream",
     "text": [
      "    computing cross-spectral density for epochs 113..128\n"
     ]
    },
    {
     "name": "stderr",
     "output_type": "stream",
     "text": [
      "[Parallel(n_jobs=16)]: Using backend LokyBackend with 16 concurrent workers.\n",
      "[Parallel(n_jobs=16)]: Done   5 out of  16 | elapsed:   16.4s remaining:   36.1s\n",
      "[Parallel(n_jobs=16)]: Done   9 out of  16 | elapsed:   23.6s remaining:   18.3s\n",
      "[Parallel(n_jobs=16)]: Done  13 out of  16 | elapsed:   30.8s remaining:    7.1s\n",
      "[Parallel(n_jobs=16)]: Done  16 out of  16 | elapsed:   36.1s finished\n"
     ]
    },
    {
     "name": "stdout",
     "output_type": "stream",
     "text": [
      "    computing cross-spectral density for epochs 129..144\n"
     ]
    },
    {
     "name": "stderr",
     "output_type": "stream",
     "text": [
      "[Parallel(n_jobs=16)]: Using backend LokyBackend with 16 concurrent workers.\n",
      "[Parallel(n_jobs=16)]: Done   5 out of  16 | elapsed:   16.4s remaining:   36.0s\n",
      "[Parallel(n_jobs=16)]: Done   9 out of  16 | elapsed:   23.6s remaining:   18.3s\n",
      "[Parallel(n_jobs=16)]: Done  13 out of  16 | elapsed:   30.8s remaining:    7.1s\n",
      "[Parallel(n_jobs=16)]: Done  16 out of  16 | elapsed:   36.2s finished\n"
     ]
    },
    {
     "name": "stdout",
     "output_type": "stream",
     "text": [
      "    computing cross-spectral density for epochs 145..160\n"
     ]
    },
    {
     "name": "stderr",
     "output_type": "stream",
     "text": [
      "[Parallel(n_jobs=16)]: Using backend LokyBackend with 16 concurrent workers.\n",
      "[Parallel(n_jobs=16)]: Done   5 out of  16 | elapsed:   16.5s remaining:   36.2s\n",
      "[Parallel(n_jobs=16)]: Done   9 out of  16 | elapsed:   23.6s remaining:   18.4s\n",
      "[Parallel(n_jobs=16)]: Done  13 out of  16 | elapsed:   30.8s remaining:    7.1s\n",
      "[Parallel(n_jobs=16)]: Done  16 out of  16 | elapsed:   36.2s finished\n"
     ]
    },
    {
     "name": "stdout",
     "output_type": "stream",
     "text": [
      "    computing cross-spectral density for epochs 161..171\n"
     ]
    },
    {
     "name": "stderr",
     "output_type": "stream",
     "text": [
      "[Parallel(n_jobs=16)]: Using backend LokyBackend with 16 concurrent workers.\n",
      "[Parallel(n_jobs=16)]: Done   2 out of  11 | elapsed:    8.6s remaining:   38.7s\n",
      "[Parallel(n_jobs=16)]: Done   5 out of  11 | elapsed:   13.9s remaining:   16.7s\n",
      "[Parallel(n_jobs=16)]: Done   8 out of  11 | elapsed:   19.3s remaining:    7.2s\n",
      "[Parallel(n_jobs=16)]: Done  11 out of  11 | elapsed:   24.7s finished\n"
     ]
    },
    {
     "name": "stdout",
     "output_type": "stream",
     "text": [
      "[Connectivity computation done]\n",
      "NOTE: pick_channels() is a legacy function. New code should use inst.pick(...).\n",
      "NOTE: pick_channels() is a legacy function. New code should use inst.pick(...).\n",
      "NOTE: pick_channels() is a legacy function. New code should use inst.pick(...).\n",
      "NOTE: pick_channels() is a legacy function. New code should use inst.pick(...).\n",
      "NOTE: pick_channels() is a legacy function. New code should use inst.pick(...).\n",
      "NOTE: pick_channels() is a legacy function. New code should use inst.pick(...).\n",
      "computing TFR\n",
      "Connectivity computation...\n",
      "    computing connectivity for 1607 connections\n",
      "    using t=-2.500s..2.500s for estimation (501 points)\n",
      "    frequencies: 3.1Hz..7.6Hz (15 points)\n",
      "    using CWT with Morlet wavelets to estimate spectra\n",
      "    the following metrics will be computed: Imaginary Coherence, PPC, Debiased WPLI Square\n",
      "    computing cross-spectral density for epochs 1..16\n"
     ]
    },
    {
     "name": "stderr",
     "output_type": "stream",
     "text": [
      "[Parallel(n_jobs=16)]: Using backend LokyBackend with 16 concurrent workers.\n",
      "[Parallel(n_jobs=16)]: Done   5 out of  16 | elapsed:   16.4s remaining:   36.0s\n",
      "[Parallel(n_jobs=16)]: Done   9 out of  16 | elapsed:   23.6s remaining:   18.3s\n",
      "[Parallel(n_jobs=16)]: Done  13 out of  16 | elapsed:   30.8s remaining:    7.1s\n",
      "[Parallel(n_jobs=16)]: Done  16 out of  16 | elapsed:   36.2s finished\n"
     ]
    },
    {
     "name": "stdout",
     "output_type": "stream",
     "text": [
      "    computing cross-spectral density for epochs 17..32\n"
     ]
    },
    {
     "name": "stderr",
     "output_type": "stream",
     "text": [
      "[Parallel(n_jobs=16)]: Using backend LokyBackend with 16 concurrent workers.\n",
      "[Parallel(n_jobs=16)]: Done   5 out of  16 | elapsed:   16.2s remaining:   35.7s\n",
      "[Parallel(n_jobs=16)]: Done   9 out of  16 | elapsed:   23.3s remaining:   18.1s\n",
      "[Parallel(n_jobs=16)]: Done  13 out of  16 | elapsed:   30.4s remaining:    7.0s\n",
      "[Parallel(n_jobs=16)]: Done  16 out of  16 | elapsed:   35.8s finished\n"
     ]
    },
    {
     "name": "stdout",
     "output_type": "stream",
     "text": [
      "    computing cross-spectral density for epochs 33..48\n"
     ]
    },
    {
     "name": "stderr",
     "output_type": "stream",
     "text": [
      "[Parallel(n_jobs=16)]: Using backend LokyBackend with 16 concurrent workers.\n",
      "[Parallel(n_jobs=16)]: Done   5 out of  16 | elapsed:   16.3s remaining:   36.0s\n",
      "[Parallel(n_jobs=16)]: Done   9 out of  16 | elapsed:   23.5s remaining:   18.3s\n",
      "[Parallel(n_jobs=16)]: Done  13 out of  16 | elapsed:   30.6s remaining:    7.1s\n",
      "[Parallel(n_jobs=16)]: Done  16 out of  16 | elapsed:   36.0s finished\n"
     ]
    },
    {
     "name": "stdout",
     "output_type": "stream",
     "text": [
      "    computing cross-spectral density for epochs 49..64\n"
     ]
    },
    {
     "name": "stderr",
     "output_type": "stream",
     "text": [
      "[Parallel(n_jobs=16)]: Using backend LokyBackend with 16 concurrent workers.\n",
      "[Parallel(n_jobs=16)]: Done   5 out of  16 | elapsed:   16.6s remaining:   36.5s\n",
      "[Parallel(n_jobs=16)]: Done   9 out of  16 | elapsed:   23.8s remaining:   18.5s\n",
      "[Parallel(n_jobs=16)]: Done  13 out of  16 | elapsed:   31.0s remaining:    7.2s\n",
      "[Parallel(n_jobs=16)]: Done  16 out of  16 | elapsed:   36.5s finished\n"
     ]
    },
    {
     "name": "stdout",
     "output_type": "stream",
     "text": [
      "    computing cross-spectral density for epochs 65..80\n"
     ]
    },
    {
     "name": "stderr",
     "output_type": "stream",
     "text": [
      "[Parallel(n_jobs=16)]: Using backend LokyBackend with 16 concurrent workers.\n",
      "[Parallel(n_jobs=16)]: Done   5 out of  16 | elapsed:   16.3s remaining:   36.0s\n",
      "[Parallel(n_jobs=16)]: Done   9 out of  16 | elapsed:   23.5s remaining:   18.3s\n",
      "[Parallel(n_jobs=16)]: Done  13 out of  16 | elapsed:   30.8s remaining:    7.1s\n",
      "[Parallel(n_jobs=16)]: Done  16 out of  16 | elapsed:   36.2s finished\n"
     ]
    },
    {
     "name": "stdout",
     "output_type": "stream",
     "text": [
      "    computing cross-spectral density for epochs 81..96\n"
     ]
    },
    {
     "name": "stderr",
     "output_type": "stream",
     "text": [
      "[Parallel(n_jobs=16)]: Using backend LokyBackend with 16 concurrent workers.\n",
      "[Parallel(n_jobs=16)]: Done   5 out of  16 | elapsed:   16.5s remaining:   36.3s\n",
      "[Parallel(n_jobs=16)]: Done   9 out of  16 | elapsed:   23.6s remaining:   18.4s\n",
      "[Parallel(n_jobs=16)]: Done  13 out of  16 | elapsed:   30.9s remaining:    7.1s\n",
      "[Parallel(n_jobs=16)]: Done  16 out of  16 | elapsed:   36.3s finished\n"
     ]
    },
    {
     "name": "stdout",
     "output_type": "stream",
     "text": [
      "    computing cross-spectral density for epochs 97..112\n"
     ]
    },
    {
     "name": "stderr",
     "output_type": "stream",
     "text": [
      "[Parallel(n_jobs=16)]: Using backend LokyBackend with 16 concurrent workers.\n",
      "[Parallel(n_jobs=16)]: Done   5 out of  16 | elapsed:   16.4s remaining:   36.0s\n",
      "[Parallel(n_jobs=16)]: Done   9 out of  16 | elapsed:   23.5s remaining:   18.3s\n",
      "[Parallel(n_jobs=16)]: Done  13 out of  16 | elapsed:   30.8s remaining:    7.1s\n",
      "[Parallel(n_jobs=16)]: Done  16 out of  16 | elapsed:   36.2s finished\n"
     ]
    },
    {
     "name": "stdout",
     "output_type": "stream",
     "text": [
      "    computing cross-spectral density for epochs 113..128\n"
     ]
    },
    {
     "name": "stderr",
     "output_type": "stream",
     "text": [
      "[Parallel(n_jobs=16)]: Using backend LokyBackend with 16 concurrent workers.\n",
      "[Parallel(n_jobs=16)]: Done   5 out of  16 | elapsed:   16.5s remaining:   36.3s\n",
      "[Parallel(n_jobs=16)]: Done   9 out of  16 | elapsed:   23.7s remaining:   18.4s\n",
      "[Parallel(n_jobs=16)]: Done  13 out of  16 | elapsed:   30.9s remaining:    7.1s\n",
      "[Parallel(n_jobs=16)]: Done  16 out of  16 | elapsed:   36.3s finished\n"
     ]
    },
    {
     "name": "stdout",
     "output_type": "stream",
     "text": [
      "    computing cross-spectral density for epochs 129..144\n"
     ]
    },
    {
     "name": "stderr",
     "output_type": "stream",
     "text": [
      "[Parallel(n_jobs=16)]: Using backend LokyBackend with 16 concurrent workers.\n",
      "[Parallel(n_jobs=16)]: Done   5 out of  16 | elapsed:   16.3s remaining:   35.9s\n",
      "[Parallel(n_jobs=16)]: Done   9 out of  16 | elapsed:   23.4s remaining:   18.2s\n",
      "[Parallel(n_jobs=16)]: Done  13 out of  16 | elapsed:   30.6s remaining:    7.1s\n",
      "[Parallel(n_jobs=16)]: Done  16 out of  16 | elapsed:   36.0s finished\n"
     ]
    },
    {
     "name": "stdout",
     "output_type": "stream",
     "text": [
      "    computing cross-spectral density for epochs 145..160\n"
     ]
    },
    {
     "name": "stderr",
     "output_type": "stream",
     "text": [
      "[Parallel(n_jobs=16)]: Using backend LokyBackend with 16 concurrent workers.\n",
      "[Parallel(n_jobs=16)]: Done   5 out of  16 | elapsed:   16.4s remaining:   36.1s\n",
      "[Parallel(n_jobs=16)]: Done   9 out of  16 | elapsed:   23.6s remaining:   18.3s\n",
      "[Parallel(n_jobs=16)]: Done  13 out of  16 | elapsed:   30.8s remaining:    7.1s\n",
      "[Parallel(n_jobs=16)]: Done  16 out of  16 | elapsed:   36.2s finished\n"
     ]
    },
    {
     "name": "stdout",
     "output_type": "stream",
     "text": [
      "    computing cross-spectral density for epochs 161..171\n"
     ]
    },
    {
     "name": "stderr",
     "output_type": "stream",
     "text": [
      "[Parallel(n_jobs=16)]: Using backend LokyBackend with 16 concurrent workers.\n",
      "[Parallel(n_jobs=16)]: Done   2 out of  11 | elapsed:    8.5s remaining:   38.1s\n",
      "[Parallel(n_jobs=16)]: Done   5 out of  11 | elapsed:   13.9s remaining:   16.6s\n",
      "[Parallel(n_jobs=16)]: Done   8 out of  11 | elapsed:   19.2s remaining:    7.2s\n",
      "[Parallel(n_jobs=16)]: Done  11 out of  11 | elapsed:   24.6s finished\n"
     ]
    },
    {
     "name": "stdout",
     "output_type": "stream",
     "text": [
      "[Connectivity computation done]\n"
     ]
    }
   ],
   "source": [
    "import matplotlib\n",
    "import matplotlib.pyplot as plt\n",
    "import pandas as pd\n",
    "import numpy as np\n",
    "from scipy import signal, stats\n",
    "import re\n",
    "import os\n",
    "import mne\n",
    "import mne_connectivity\n",
    "import IPython\n",
    "import seaborn as sns\n",
    "import scipy\n",
    "import joblib\n",
    "import h5io\n",
    "import dask.array as da \n",
    "import itertools\n",
    "import sys\n",
    "import statsmodels\n",
    "from statsmodels import stats\n",
    "from statsmodels.stats import multitest\n",
    "\n",
    "# custom scripts\n",
    "sys.path.append('/home/brooke/pacman/connectivity/scripts')\n",
    "from connectivity_functions import *\n",
    "\n",
    "## Prep paths ##\n",
    "subject = 'BJH046'\n",
    "\n",
    "\n",
    "preproc_data_dir = f\"/home/brooke/pacman/preprocessing/{subject}\"\n",
    "raw_data_dir = f\"/home/brooke/pacman/raw_data/{subject}\"\n",
    "\n",
    "## Load Neural Data\n",
    "\n",
    "# load\n",
    "last_away_epochs = mne.read_epochs(f\"{preproc_data_dir}/ieeg/{subject}_bp_filtered_clean_last_away_events.fif\")\n",
    "\n",
    "# get good epochs (for behavioral data only)\n",
    "good_epochs = [i for i,x in enumerate(last_away_epochs.get_annotations_per_epoch()) if not x]\n",
    "bad_epochs = [i for i,x in enumerate(last_away_epochs.get_annotations_per_epoch()) if  x]\n",
    "\n",
    "# load behavioral data\n",
    "last_away_data = pd.read_csv(f\"{raw_data_dir}/behave/{subject}_last_away_events.csv\")\n",
    "\n",
    "# set info as metadata\n",
    "last_away_epochs.metadata = last_away_data\n",
    "\n",
    "# onlt good epochs\n",
    "last_away_epochs = last_away_epochs[good_epochs]\n",
    "\n",
    "\n",
    "## Dictionary of electrode locations ##\n",
    "\n",
    "# Dictionary mapping ROI to elecs\n",
    "# Pull mapping ROI to elecs\n",
    "with open('/home/brooke/pacman/preprocessing/scripts/roi.py') as file:\n",
    "    exec(file.read())\n",
    "ROIs = ROIs[subject]\n",
    "\n",
    "## prep lists\n",
    "\n",
    "# primary ROI\n",
    "hc_list = []\n",
    "hc_indices = []\n",
    "hc_names = []\n",
    "ofc_list = []\n",
    "ofc_indices = []\n",
    "ofc_names = []\n",
    "amyg_list = []\n",
    "amyg_names = [] \n",
    "amyg_indices = []\n",
    "cing_list = []\n",
    "cing_names = [] \n",
    "cing_indices = []\n",
    "\n",
    "# control ROI\n",
    "insula_list = []\n",
    "insula_names = []  \n",
    "insula_indices = []\n",
    "dlpfc_list = []\n",
    "dlpfc_names = []  \n",
    "dlpfc_indices = []\n",
    "ec_list = []\n",
    "ec_names = []  \n",
    "ec_indices = []\n",
    "\n",
    "# exclude bad ROI from list\n",
    "pairs_long_name = [ch.split('-') for ch in last_away_epochs.info['ch_names']]\n",
    "bidx = len(last_away_epochs.info['bads']) +1\n",
    "pairs_name = pairs_long_name[bidx:len(pairs_long_name)]\n",
    "\n",
    "# sort ROI into lists\n",
    "for ix in range(0, len(pairs_name)):\n",
    "    if pairs_name[ix][0] in ROIs['hc'] or pairs_name[ix][1] in ROIs['hc']:\n",
    "        hc_list.append(last_away_epochs.info['ch_names'][ix + bidx])\n",
    "        hc_names.append(pairs_name[ix])\n",
    "        hc_indices.append(ix)\n",
    "    if pairs_name[ix][0] in ROIs['ofc'] or pairs_name[ix][1] in ROIs['ofc']:\n",
    "        ofc_list.append(last_away_epochs.info['ch_names'][ix + bidx])\n",
    "        ofc_names.append(pairs_name[ix])\n",
    "        ofc_indices.append(ix)\n",
    "    if pairs_name[ix][0] in ROIs['amyg'] or pairs_name[ix][1] in ROIs['amyg']:\n",
    "        amyg_list.append(last_away_epochs.info['ch_names'][ix + bidx])       \n",
    "        amyg_names.append(pairs_name[ix])\n",
    "        amyg_indices.append(ix)\n",
    "    if pairs_name[ix][0] in ROIs['cing'] or pairs_name[ix][1] in ROIs['cing']:\n",
    "        cing_list.append(last_away_epochs.info['ch_names'][ix + bidx])       \n",
    "        cing_names.append(pairs_name[ix])\n",
    "        cing_indices.append(ix)\n",
    "        \n",
    "    # control roi\n",
    "    if pairs_name[ix][0] in ROIs['insula'] or pairs_name[ix][1] in ROIs['insula']:\n",
    "        insula_list.append(last_away_epochs.info['ch_names'][ix + bidx])       \n",
    "        insula_names.append(pairs_name[ix])\n",
    "        insula_indices.append(ix)\n",
    "    if pairs_name[ix][0] in ROIs['dlpfc'] or pairs_name[ix][1] in ROIs['dlpfc']:\n",
    "        dlpfc_list.append(last_away_epochs.info['ch_names'][ix + bidx])       \n",
    "        dlpfc_names.append(pairs_name[ix])\n",
    "        dlpfc_indices.append(ix)\n",
    "    if pairs_name[ix][0] in ROIs['ec'] or pairs_name[ix][1] in ROIs['ec']:\n",
    "        ec_list.append(last_away_epochs.info['ch_names'][ix + bidx])       \n",
    "        ec_names.append(pairs_name[ix])\n",
    "        ec_indices.append(ix)        \n",
    "        \n",
    "\n",
    "## Set frequencies ##\n",
    "\n",
    "freqs = np.logspace(start = np.log10(1), stop = np.log10(150), num = 80, base = 10, endpoint = True)\n",
    "n_cycles = np.logspace(np.log10(2), np.log10(30), base = 10, num = 80)\n",
    "\n",
    "# delta, theta, hfa\n",
    "delta_freqs = freqs[np.where((freqs <= 3))]\n",
    "delta_cycles = n_cycles[np.where((freqs <= 3))]\n",
    "\n",
    "theta_freqs = freqs[np.where((freqs > 3) & (freqs < 8))]\n",
    "theta_cycles = n_cycles[np.where((freqs > 3) & (freqs < 8))]\n",
    "\n",
    "hfa_freqs = freqs[np.where((freqs > 70))]\n",
    "hfa_cycles = n_cycles[np.where((freqs > 70))]\n",
    "\n",
    "\n",
    "\n",
    "# resample \n",
    "if last_away_epochs.info['sfreq'] > 1000:\n",
    "    last_away_epochs= last_away_epochs.resample(100)\n",
    "\n",
    "# Crop #\n",
    "last_away_epochs.crop(tmin = -2.5, tmax = 2.5) \n",
    "\n",
    "## remove any electrodes that are duplicated across regions... ugh so much code for such a simple thing ##\n",
    "# Combine all ROI lists into a single Series\n",
    "elec_list = pd.Series(hc_list + amyg_list + ofc_list + cing_list + dlpfc_list + insula_list)\n",
    "\n",
    "# Identify duplicated elements\n",
    "duplicated_list = elec_list[elec_list.duplicated()].tolist()\n",
    "\n",
    "# ROI lists\n",
    "roi_lists = [hc_list, amyg_list, ofc_list, cing_list, dlpfc_list, insula_list]\n",
    "\n",
    "# Find indices of last occurrences of duplicated elements\n",
    "items_to_remove = [(sub_roi, idx_list) for idx_list, sub_list in enumerate(roi_lists) \n",
    "                for idx, sub_roi in enumerate(sub_list) \n",
    "                if sub_roi in duplicated_list and \n",
    "                    idx == len(sub_list) - sub_list[::-1].index(sub_roi) - 1]\n",
    "\n",
    "# Convert to list of tuples with unique first elements\n",
    "items_to_remove = list({t[0]: t for t in items_to_remove}.values())\n",
    "\n",
    "# remove elements\n",
    "for item in items_to_remove:\n",
    "    roi_lists[item[1]].remove(item[0])\n",
    "\n",
    "# reset roi lists\n",
    "hc_list = roi_lists[0]\n",
    "amyg_list = roi_lists[1]\n",
    "ofc_list = roi_lists[2]\n",
    "cing_list = roi_lists[3]\n",
    "dlpfc_list = roi_lists[4]\n",
    "insula_list = roi_lists[5]\n",
    "roi_lists = [hc_list, amyg_list, ofc_list, cing_list, dlpfc_list, insula_list]\n",
    "\n",
    "# Filter out empty ROI lists\n",
    "roi_names = ['hc', 'amyg', 'ofc', 'cing', 'dlpfc', 'insula']\n",
    "roi_lists = [hc_list, amyg_list, ofc_list, cing_list, dlpfc_list, insula_list]\n",
    "non_empty_rois = [(roi_name, roi_list) for roi_name, roi_list in zip(roi_names, roi_lists) if roi_list]\n",
    "\n",
    "permutations = 9\n",
    "\n",
    "for perm in range(0, permutations):\n",
    "\n",
    "    # Prep and shuffle for new permutation\n",
    "    roi_epochs_list = []\n",
    "    for roi_name, roi_list in non_empty_rois:\n",
    "        roi_epochs = last_away_epochs.copy().pick_channels(roi_list)\n",
    "        roi_epochs = shuffle_epochs(roi_epochs)\n",
    "        roi_epochs_list.append(roi_epochs)\n",
    "\n",
    "    # Combine non-empty ROI Epochs\n",
    "    last_away_roi = roi_epochs_list[0]\n",
    "    if len(roi_epochs_list) > 1:\n",
    "        last_away_roi = last_away_roi.add_channels(roi_epochs_list[1:])\n",
    "\n",
    "    ## get indicies for all the non-symmetric pairs ##\n",
    "    roi_lists_non_empty = [roi_list for _, roi_list in non_empty_rois]\n",
    "    first_pair_indices, second_pair_indices = get_indices_of_connectivity_pairs(\n",
    "        roi_lists_non_empty, last_away_roi.info['ch_names']\n",
    "    )\n",
    "\n",
    "    ## compute connectivity ##\n",
    "    roi_coherence = compute_coherence(last_away_roi, last_away_roi.info.ch_names, (first_pair_indices, second_pair_indices), theta_freqs, theta_cycles, workers = 16)\n",
    "\n",
    "    # pull out different measures #\n",
    "    imcoh = roi_coherence[0].get_data().mean(axis = 1)\n",
    "    ppc = roi_coherence[1].get_data().mean(axis = 1)\n",
    "    pli = roi_coherence[2].get_data().mean(axis = 1)\n",
    "\n",
    "    if perm == 0:\n",
    "        imcoh_permutations = imcoh.copy()\n",
    "        ppc_permutations = ppc.copy()\n",
    "        pli_permutations = pli.copy()\n",
    "    else:\n",
    "        imcoh_permutations = np.vstack([imcoh_permutations, imcoh])\n",
    "        ppc_permutations = np.vstack([ppc_permutations, ppc])\n",
    "        pli_permutations = np.vstack([pli_permutations, pli])\n",
    "        \n",
    "\n",
    "\n",
    "# final save\n",
    "np.save(f'/home/brooke/pacman/connectivity/ieeg/imcoh_ppc_pli/perms/{subject}_imcoh_perm_p3.npy', imcoh_permutations)\n",
    "np.save(f'/home/brooke/pacman/connectivity/ieeg/imcoh_ppc_pli/perms/{subject}_ppc_perm_p3.npy', ppc_permutations)\n",
    "np.save(f'/home/brooke/pacman/connectivity/ieeg/imcoh_ppc_pli/perms/{subject}_pli_perm_p3.npy', pli_permutations)\n",
    "np.save(f'/home/brooke/pacman/connectivity/ieeg/imcoh_ppc_pli/perms/{subject}_pairs_p3.npy', (first_pair_indices, second_pair_indices))\n",
    "\n"
   ]
  },
  {
   "cell_type": "code",
   "execution_count": 11,
   "metadata": {},
   "outputs": [],
   "source": [
    "tmp = (first_pair_indices, second_pair_indices)"
   ]
  },
  {
   "cell_type": "code",
   "execution_count": 12,
   "metadata": {},
   "outputs": [
    {
     "data": {
      "text/plain": [
       "1607"
      ]
     },
     "execution_count": 12,
     "metadata": {},
     "output_type": "execute_result"
    }
   ],
   "source": [
    "len(tmp[1])"
   ]
  },
  {
   "cell_type": "markdown",
   "metadata": {},
   "source": []
  }
 ],
 "metadata": {
  "kernelspec": {
   "display_name": "ieeg_analysis",
   "language": "python",
   "name": "python3"
  },
  "language_info": {
   "codemirror_mode": {
    "name": "ipython",
    "version": 3
   },
   "file_extension": ".py",
   "mimetype": "text/x-python",
   "name": "python",
   "nbconvert_exporter": "python",
   "pygments_lexer": "ipython3",
   "version": "3.11.9"
  }
 },
 "nbformat": 4,
 "nbformat_minor": 2
}

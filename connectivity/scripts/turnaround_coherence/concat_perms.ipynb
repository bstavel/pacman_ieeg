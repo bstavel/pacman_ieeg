{
 "cells": [
  {
   "cell_type": "markdown",
   "metadata": {},
   "source": [
    "## Combine perms that were interupted"
   ]
  },
  {
   "cell_type": "code",
   "execution_count": 2,
   "metadata": {},
   "outputs": [],
   "source": [
    "import matplotlib\n",
    "import matplotlib.pyplot as plt\n",
    "import pandas as pd\n",
    "import numpy as np\n",
    "from scipy import signal, stats\n",
    "import re\n",
    "import os\n",
    "import mne\n",
    "import mne_connectivity\n",
    "import IPython\n",
    "import seaborn as sns\n",
    "import scipy\n",
    "import joblib\n",
    "import h5io\n",
    "import dask.array as da \n",
    "import itertools\n",
    "from plotnine import *\n",
    "\n",
    "import statsmodels\n",
    "from statsmodels import stats\n",
    "from statsmodels.stats import multitest"
   ]
  },
  {
   "cell_type": "markdown",
   "metadata": {},
   "source": [
    "### LL14\n"
   ]
  },
  {
   "cell_type": "code",
   "execution_count": 3,
   "metadata": {},
   "outputs": [],
   "source": [
    "# load part 1 #\n",
    "imcoh_p1 = np.load('/home/brooke/pacman/connectivity/ieeg/imcoh_ppc_pli/perms/LL14_imcoh_perm_p1.npy')\n",
    "ppc_p1 = np.load('/home/brooke/pacman/connectivity/ieeg/imcoh_ppc_pli/perms/LL14_ppc_perm_p1.npy')\n",
    "pli_p1 = np.load('/home/brooke/pacman/connectivity/ieeg/imcoh_ppc_pli/perms/LL14_pli_perm_p1.npy')\n",
    "\n",
    "\n",
    "# load part 2 #\n",
    "imcoh_p2 = np.load('/home/brooke/pacman/connectivity/ieeg/imcoh_ppc_pli/perms/LL14_imcoh_perm_p2.npy')\n",
    "ppc_p2 = np.load('/home/brooke/pacman/connectivity/ieeg/imcoh_ppc_pli/perms/LL14_ppc_perm_p2.npy')\n",
    "pli_p2 = np.load('/home/brooke/pacman/connectivity/ieeg/imcoh_ppc_pli/perms/LL14_pli_perm_p2.npy')"
   ]
  },
  {
   "cell_type": "code",
   "execution_count": 4,
   "metadata": {},
   "outputs": [],
   "source": [
    "# load pairs #\n",
    "pairs = np.load('/home/brooke/pacman/connectivity/ieeg/imcoh_ppc_pli/perms/LL14_pairs.npy')"
   ]
  },
  {
   "cell_type": "code",
   "execution_count": 5,
   "metadata": {},
   "outputs": [
    {
     "data": {
      "text/plain": [
       "135"
      ]
     },
     "execution_count": 5,
     "metadata": {},
     "output_type": "execute_result"
    }
   ],
   "source": [
    "len(pairs[0])"
   ]
  },
  {
   "cell_type": "code",
   "execution_count": 6,
   "metadata": {},
   "outputs": [
    {
     "data": {
      "text/plain": [
       "1000.0"
      ]
     },
     "execution_count": 6,
     "metadata": {},
     "output_type": "execute_result"
    }
   ],
   "source": [
    "imcoh_p1.shape[0]/135 + imcoh_p2.shape[0]/135"
   ]
  },
  {
   "cell_type": "code",
   "execution_count": 7,
   "metadata": {},
   "outputs": [
    {
     "data": {
      "text/plain": [
       "1000.0"
      ]
     },
     "execution_count": 7,
     "metadata": {},
     "output_type": "execute_result"
    }
   ],
   "source": [
    "ppc_p1.shape[0]/135 + ppc_p2.shape[0]/135"
   ]
  },
  {
   "cell_type": "code",
   "execution_count": 8,
   "metadata": {},
   "outputs": [
    {
     "data": {
      "text/plain": [
       "1000.0"
      ]
     },
     "execution_count": 8,
     "metadata": {},
     "output_type": "execute_result"
    }
   ],
   "source": [
    "pli_p1.shape[0]/135 + pli_p2.shape[0]/135"
   ]
  },
  {
   "cell_type": "code",
   "execution_count": 9,
   "metadata": {},
   "outputs": [],
   "source": [
    "## combine\n",
    "imcoh = np.concatenate((imcoh_p1, imcoh_p2), axis=0)\n",
    "ppc = np.concatenate((ppc_p1, ppc_p2), axis=0)\n",
    "pli = np.concatenate((pli_p1, pli_p2), axis=0)"
   ]
  },
  {
   "cell_type": "code",
   "execution_count": 34,
   "metadata": {},
   "outputs": [],
   "source": [
    "## save\n",
    "np.save('/home/brooke/pacman/connectivity/ieeg/imcoh_ppc_pli/perms/LL14_imcoh_perm.npy', imcoh)\n",
    "np.save('/home/brooke/pacman/connectivity/ieeg/imcoh_ppc_pli/perms/LL14_ppc_perm.npy', ppc)\n",
    "np.save('/home/brooke/pacman/connectivity/ieeg/imcoh_ppc_pli/perms/LL14_pli_perm.npy', pli)"
   ]
  },
  {
   "cell_type": "markdown",
   "metadata": {},
   "source": [
    "### BJH016\n"
   ]
  },
  {
   "cell_type": "code",
   "execution_count": 35,
   "metadata": {},
   "outputs": [],
   "source": [
    "# load part 1 #\n",
    "imcoh_p1 = np.load('/home/brooke/pacman/connectivity/ieeg/imcoh_ppc_pli/perms/BJH016_imcoh_perm_p1.npy')\n",
    "ppc_p1 = np.load('/home/brooke/pacman/connectivity/ieeg/imcoh_ppc_pli/perms/BJH016_ppc_perm_p1.npy')\n",
    "pli_p1 = np.load('/home/brooke/pacman/connectivity/ieeg/imcoh_ppc_pli/perms/BJH016_pli_perm_p1.npy')\n",
    "\n",
    "\n",
    "# load part 2 #\n",
    "imcoh_p2 = np.load('/home/brooke/pacman/connectivity/ieeg/imcoh_ppc_pli/perms/BJH016_imcoh_perm_p2.npy')\n",
    "ppc_p2 = np.load('/home/brooke/pacman/connectivity/ieeg/imcoh_ppc_pli/perms/BJH016_ppc_perm_p2.npy')\n",
    "pli_p2 = np.load('/home/brooke/pacman/connectivity/ieeg/imcoh_ppc_pli/perms/BJH016_pli_perm_p2.npy')"
   ]
  },
  {
   "cell_type": "code",
   "execution_count": 36,
   "metadata": {},
   "outputs": [],
   "source": [
    "# load pairs #\n",
    "pairs = np.load('/home/brooke/pacman/connectivity/ieeg/imcoh_ppc_pli/perms/BJH016_pairs.npy')"
   ]
  },
  {
   "cell_type": "code",
   "execution_count": 37,
   "metadata": {},
   "outputs": [
    {
     "data": {
      "text/plain": [
       "1203"
      ]
     },
     "execution_count": 37,
     "metadata": {},
     "output_type": "execute_result"
    }
   ],
   "source": [
    "len(pairs[0])"
   ]
  },
  {
   "cell_type": "code",
   "execution_count": 41,
   "metadata": {},
   "outputs": [
    {
     "data": {
      "text/plain": [
       "(1107963, 501)"
      ]
     },
     "execution_count": 41,
     "metadata": {},
     "output_type": "execute_result"
    }
   ],
   "source": [
    "imcoh_p1.shape"
   ]
  },
  {
   "cell_type": "code",
   "execution_count": 38,
   "metadata": {},
   "outputs": [
    {
     "data": {
      "text/plain": [
       "1000.0"
      ]
     },
     "execution_count": 38,
     "metadata": {},
     "output_type": "execute_result"
    }
   ],
   "source": [
    "imcoh_p1.shape[0]/1203 + imcoh_p2.shape[0]/1203"
   ]
  },
  {
   "cell_type": "code",
   "execution_count": 39,
   "metadata": {},
   "outputs": [
    {
     "data": {
      "text/plain": [
       "1000.0"
      ]
     },
     "execution_count": 39,
     "metadata": {},
     "output_type": "execute_result"
    }
   ],
   "source": [
    "ppc_p1.shape[0]/1203 + ppc_p2.shape[0]/1203"
   ]
  },
  {
   "cell_type": "code",
   "execution_count": 40,
   "metadata": {},
   "outputs": [
    {
     "data": {
      "text/plain": [
       "1000.0"
      ]
     },
     "execution_count": 40,
     "metadata": {},
     "output_type": "execute_result"
    }
   ],
   "source": [
    "pli_p1.shape[0]/1203 + pli_p2.shape[0]/1203"
   ]
  },
  {
   "cell_type": "code",
   "execution_count": 42,
   "metadata": {},
   "outputs": [],
   "source": [
    "## combine\n",
    "imcoh = np.concatenate((imcoh_p1, imcoh_p2), axis=0)\n",
    "ppc = np.concatenate((ppc_p1, ppc_p2), axis=0)\n",
    "pli = np.concatenate((pli_p1, pli_p2), axis=0)"
   ]
  },
  {
   "cell_type": "code",
   "execution_count": 43,
   "metadata": {},
   "outputs": [],
   "source": [
    "## save\n",
    "np.save('/home/brooke/pacman/connectivity/ieeg/imcoh_ppc_pli/perms/BJH016_imcoh_perm.npy', imcoh)\n",
    "np.save('/home/brooke/pacman/connectivity/ieeg/imcoh_ppc_pli/perms/BJH016_ppc_perm.npy', ppc)\n",
    "np.save('/home/brooke/pacman/connectivity/ieeg/imcoh_ppc_pli/perms/BJH016_pli_perm.npy', pli)"
   ]
  },
  {
   "cell_type": "markdown",
   "metadata": {},
   "source": []
  }
 ],
 "metadata": {
  "kernelspec": {
   "display_name": "ieeg_analysis2",
   "language": "python",
   "name": "python3"
  },
  "language_info": {
   "codemirror_mode": {
    "name": "ipython",
    "version": 3
   },
   "file_extension": ".py",
   "mimetype": "text/x-python",
   "name": "python",
   "nbconvert_exporter": "python",
   "pygments_lexer": "ipython3",
   "version": "3.9.18"
  }
 },
 "nbformat": 4,
 "nbformat_minor": 2
}

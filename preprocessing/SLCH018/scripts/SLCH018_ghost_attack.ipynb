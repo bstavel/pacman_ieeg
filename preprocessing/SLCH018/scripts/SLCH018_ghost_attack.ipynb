{
 "cells": [
  {
   "cell_type": "markdown",
   "id": "dd8fdc9d-95eb-42fe-abe1-80bb121b5d83",
   "metadata": {},
   "source": [
    "# Ghost Attack ~ all frequencies: SLCH018"
   ]
  },
  {
   "cell_type": "code",
   "execution_count": 1,
   "id": "b4cae23a-8d44-4df0-9b7a-3fcdc95e0e5c",
   "metadata": {},
   "outputs": [],
   "source": [
    "import matplotlib\n",
    "import matplotlib.pyplot as plt\n",
    "import pandas as pd\n",
    "import numpy as np\n",
    "from scipy import signal, stats\n",
    "import re\n",
    "import os\n",
    "import mne\n",
    "import IPython\n",
    "import seaborn as sns\n",
    "import scipy\n",
    "import joblib\n",
    "import h5io\n",
    "import dask.array as da \n",
    "\n",
    "import statsmodels\n",
    "from statsmodels import stats\n",
    "from statsmodels.stats import multitest\n",
    "\n",
    "## import custom functions\n",
    "import sys\n",
    "sys.path.append('/home/brooke/pacman/preprocessing/scripts')\n",
    "import preproc_functions as pf\n",
    "import roi as subs\n"
   ]
  },
  {
   "cell_type": "code",
   "execution_count": 2,
   "id": "c48a9e35-5c6b-451d-a9f5-41305159b40a",
   "metadata": {
    "tags": []
   },
   "outputs": [],
   "source": [
    "## Prep paths ##\n",
    "\n",
    "subject = 'SLCH018'\n",
    "raw_data_dir = f\"/home/brooke/pacman/raw_data/{subject}\"\n",
    "preproc_data_dir = f\"/home/brooke/pacman/preprocessing/{subject}/ieeg\""
   ]
  },
  {
   "cell_type": "code",
   "execution_count": 3,
   "id": "3f816ae7-8136-48c3-8218-48ac5650abe1",
   "metadata": {},
   "outputs": [
    {
     "name": "stdout",
     "output_type": "stream",
     "text": [
      "Reading /home/brooke/pacman/preprocessing/SLCH018/ieeg/SLCH018_bp_filtered_clean_ghost_attack_events.fif ...\n"
     ]
    },
    {
     "name": "stderr",
     "output_type": "stream",
     "text": [
      "/tmp/ipykernel_50640/3789543956.py:4: RuntimeWarning: This filename (/home/brooke/pacman/preprocessing/SLCH018/ieeg/SLCH018_bp_filtered_clean_ghost_attack_events.fif) does not conform to MNE naming conventions. All epochs files should end with -epo.fif, -epo.fif.gz, _epo.fif or _epo.fif.gz\n",
      "  ghost_attack_epochs = mne.read_epochs(f\"{preproc_data_dir}/{subject}_bp_filtered_clean_ghost_attack_events.fif\")\n"
     ]
    },
    {
     "name": "stdout",
     "output_type": "stream",
     "text": [
      "    Found the data of interest:\n",
      "        t =   -4000.00 ...    6000.00 ms\n",
      "        0 CTF compensation matrices available\n",
      "Not setting metadata\n",
      "41 matching events found\n",
      "No baseline correction applied\n",
      "0 projection items activated\n",
      "Adding metadata with 5 columns\n"
     ]
    }
   ],
   "source": [
    "## Load Neural Data\n",
    "\n",
    "# load\n",
    "ghost_attack_epochs = mne.read_epochs(f\"{preproc_data_dir}/{subject}_bp_filtered_clean_ghost_attack_events.fif\")\n",
    "\n",
    "# get good epochs (for behavioral data only)\n",
    "good_epochs = [i for i,x in enumerate(ghost_attack_epochs.get_annotations_per_epoch()) if not x]\n",
    "bad_epochs = [i for i,x in enumerate(ghost_attack_epochs.get_annotations_per_epoch()) if  x]\n",
    "\n",
    "# load behavioral data\n",
    "ghost_attack_data = pd.read_csv(f\"{raw_data_dir}/behave/{subject}_attack_events.csv\")\n",
    "\n",
    "# set info as metadata\n",
    "ghost_attack_epochs.metadata = ghost_attack_data\n",
    "\n",
    "# onlt good epochs\n",
    "ghost_attack_epochs = ghost_attack_epochs[good_epochs]"
   ]
  },
  {
   "cell_type": "code",
   "execution_count": 5,
   "metadata": {},
   "outputs": [
    {
     "name": "stdout",
     "output_type": "stream",
     "text": [
      "NOTE: pick_types() is a legacy function. New code should use inst.pick(...).\n"
     ]
    },
    {
     "data": {
      "text/plain": [
       "['FEF2',\n",
       " 'A61',\n",
       " 'A62',\n",
       " 'A63',\n",
       " 'A64',\n",
       " 'B61',\n",
       " 'B62',\n",
       " 'B63',\n",
       " 'B64',\n",
       " 'C34',\n",
       " 'C35',\n",
       " 'C36',\n",
       " 'C37',\n",
       " 'C38',\n",
       " 'C39',\n",
       " 'C40',\n",
       " 'C41',\n",
       " 'C42',\n",
       " 'C43',\n",
       " '`A1-`A2',\n",
       " '`A2-`A3',\n",
       " '`A3-`A4',\n",
       " '`A4-`A5',\n",
       " '`A5-`A6',\n",
       " '`A6-`A7',\n",
       " '`A7-`A8',\n",
       " '`A8-`A9',\n",
       " '`A9-`A10',\n",
       " '`A10-`A11',\n",
       " '`A11-`A12',\n",
       " '`B1-`B2',\n",
       " '`B2-`B3',\n",
       " '`B3-`B4',\n",
       " '`B4-`B5',\n",
       " '`B5-`B6',\n",
       " '`B6-`B7',\n",
       " '`B7-`B8',\n",
       " '`B8-`B9',\n",
       " '`B9-`B10',\n",
       " '`B10-`B11',\n",
       " '`B11-`B12',\n",
       " '`C4-`C5',\n",
       " '`C5-`C6',\n",
       " '`C6-`C7',\n",
       " '`C7-`C8',\n",
       " '`C8-`C9',\n",
       " '`C9-`C10',\n",
       " '`C10-`C11',\n",
       " '`C11-`C12',\n",
       " '`C12-`C13',\n",
       " '`D1-`D2',\n",
       " '`D2-`D3',\n",
       " '`D3-`D4',\n",
       " '`D4-`D5',\n",
       " '`D5-`D6',\n",
       " '`E1-`E2',\n",
       " '`E2-`E3',\n",
       " '`E3-`E4',\n",
       " '`E4-`E5',\n",
       " '`E5-`E6',\n",
       " '`E6-`E7',\n",
       " '`E7-`E8',\n",
       " '`E8-`E9',\n",
       " '`F1-`F2',\n",
       " '`F2-`F3',\n",
       " '`F3-`F6',\n",
       " '`F6-`F7',\n",
       " '`F7-`F8',\n",
       " '`F8-`F9',\n",
       " '`F9-`F10',\n",
       " '`G1-`G2',\n",
       " '`G2-`G3',\n",
       " '`G3-`G4',\n",
       " '`G4-`G5',\n",
       " '`G5-`G6',\n",
       " '`G6-`G7',\n",
       " '`G7-`G8',\n",
       " '`G8-`G9',\n",
       " '`G9-`G10',\n",
       " '`G10-`G11',\n",
       " '`G11-`G12',\n",
       " '`G12-`G13',\n",
       " '`G13-`G14',\n",
       " '`G14-`G15',\n",
       " '`G15-`G16',\n",
       " '`H1-`H2',\n",
       " '`H2-`H3',\n",
       " '`H3-`H4',\n",
       " '`H4-`H5',\n",
       " '`H5-`H6',\n",
       " '`H6-`H7',\n",
       " '`H7-`H8',\n",
       " '`i3-`i4',\n",
       " '`i4-`i5',\n",
       " '`i5-`i6',\n",
       " '`i6-`i7',\n",
       " '`i7-`i8',\n",
       " '`i8-`i9',\n",
       " '`i9-`i10',\n",
       " '`i10-`i11',\n",
       " '`i11-`i12',\n",
       " '`i12-`i13',\n",
       " '`i13-`i14',\n",
       " 'J`1-J`2',\n",
       " 'J`2-J`3',\n",
       " 'J`3-J`4',\n",
       " 'J`4-J`5',\n",
       " 'J`5-J`6',\n",
       " 'J`6-J`7',\n",
       " 'J`7-J`8',\n",
       " 'J`8-J`9',\n",
       " 'J`9-J`10',\n",
       " 'J`10-J`11',\n",
       " 'J`11-J`12',\n",
       " 'K`1-K`2',\n",
       " 'K`2-K`3',\n",
       " 'K`3-K`4',\n",
       " 'K`4-K`5',\n",
       " 'K`5-K`6',\n",
       " 'K`6-K`7',\n",
       " 'K`7-K`8',\n",
       " 'K`8-K`9',\n",
       " 'K`9-K`10',\n",
       " 'K`10-K`11',\n",
       " 'K`11-K`12',\n",
       " 'C13-C14',\n",
       " 'C14-C15',\n",
       " 'C15-C16',\n",
       " 'C16-C17',\n",
       " 'C17-C18',\n",
       " 'C18-C19',\n",
       " 'C19-C20',\n",
       " 'C20-C21',\n",
       " 'C21-C22',\n",
       " 'C22-C23',\n",
       " 'C23-C24',\n",
       " 'C24-C25',\n",
       " 'C25-C26',\n",
       " 'C26-C27',\n",
       " 'C27-C28',\n",
       " 'C28-C29',\n",
       " 'C29-C30',\n",
       " 'C30-C31',\n",
       " 'C31-C32',\n",
       " 'C32-C33',\n",
       " 'ECG1-ECG2']"
      ]
     },
     "execution_count": 5,
     "metadata": {},
     "output_type": "execute_result"
    }
   ],
   "source": [
    "ghost_attack_epochs.pick_types(seeg=True).info['ch_names']"
   ]
  },
  {
   "cell_type": "code",
   "execution_count": 4,
   "id": "8893e602-8a16-4617-a697-ad1669c99429",
   "metadata": {
    "tags": []
   },
   "outputs": [
    {
     "name": "stdout",
     "output_type": "stream",
     "text": [
      "NOTE: pick_types() is a legacy function. New code should use inst.pick(...).\n"
     ]
    },
    {
     "ename": "IndexError",
     "evalue": "list index out of range",
     "output_type": "error",
     "traceback": [
      "\u001b[0;31m---------------------------------------------------------------------------\u001b[0m",
      "\u001b[0;31mIndexError\u001b[0m                                Traceback (most recent call last)",
      "\u001b[1;32m/home/brooke/pacman/preprocessing/SLCH018/scripts/SLCH018_ghost_attack.ipynb Cell 5\u001b[0m line \u001b[0;36m5\n\u001b[1;32m     <a href='vscode-notebook-cell://ssh-remote%2Brivendell/home/brooke/pacman/preprocessing/SLCH018/scripts/SLCH018_ghost_attack.ipynb#W4sdnNjb2RlLXJlbW90ZQ%3D%3D?line=49'>50</a>\u001b[0m \u001b[39m# sort ROI into lists\u001b[39;00m\n\u001b[1;32m     <a href='vscode-notebook-cell://ssh-remote%2Brivendell/home/brooke/pacman/preprocessing/SLCH018/scripts/SLCH018_ghost_attack.ipynb#W4sdnNjb2RlLXJlbW90ZQ%3D%3D?line=50'>51</a>\u001b[0m \u001b[39mfor\u001b[39;00m ix \u001b[39min\u001b[39;00m \u001b[39mrange\u001b[39m(\u001b[39m0\u001b[39m, \u001b[39mlen\u001b[39m(pairs_name)):\n\u001b[0;32m---> <a href='vscode-notebook-cell://ssh-remote%2Brivendell/home/brooke/pacman/preprocessing/SLCH018/scripts/SLCH018_ghost_attack.ipynb#W4sdnNjb2RlLXJlbW90ZQ%3D%3D?line=51'>52</a>\u001b[0m     \u001b[39mif\u001b[39;00m pairs_name[ix][\u001b[39m0\u001b[39m] \u001b[39min\u001b[39;00m ROIs[\u001b[39m'\u001b[39m\u001b[39mhc\u001b[39m\u001b[39m'\u001b[39m] \u001b[39mor\u001b[39;00m pairs_name[ix][\u001b[39m1\u001b[39;49m] \u001b[39min\u001b[39;00m ROIs[\u001b[39m'\u001b[39m\u001b[39mhc\u001b[39m\u001b[39m'\u001b[39m]:\n\u001b[1;32m     <a href='vscode-notebook-cell://ssh-remote%2Brivendell/home/brooke/pacman/preprocessing/SLCH018/scripts/SLCH018_ghost_attack.ipynb#W4sdnNjb2RlLXJlbW90ZQ%3D%3D?line=52'>53</a>\u001b[0m         hc_list\u001b[39m.\u001b[39mappend(ghost_attack_epochs\u001b[39m.\u001b[39minfo[\u001b[39m'\u001b[39m\u001b[39mch_names\u001b[39m\u001b[39m'\u001b[39m][ix \u001b[39m+\u001b[39m bidx])\n\u001b[1;32m     <a href='vscode-notebook-cell://ssh-remote%2Brivendell/home/brooke/pacman/preprocessing/SLCH018/scripts/SLCH018_ghost_attack.ipynb#W4sdnNjb2RlLXJlbW90ZQ%3D%3D?line=53'>54</a>\u001b[0m         hc_names\u001b[39m.\u001b[39mappend(pairs_name[ix])\n",
      "\u001b[0;31mIndexError\u001b[0m: list index out of range"
     ]
    }
   ],
   "source": [
    "## Dictionary of electrode locations ##\n",
    "\n",
    "# Pull mapping ROI to elecs\n",
    "ROIs = subs.ROIs[subject]\n",
    "\n",
    "## prep lists\n",
    "\n",
    "# limbic ROI\n",
    "hc_list = []\n",
    "hc_indices = []\n",
    "hc_names = []\n",
    "ofc_list = []\n",
    "ofc_indices = []\n",
    "ofc_names = []\n",
    "amyg_list = []\n",
    "amyg_names = [] \n",
    "amyg_indices = []\n",
    "cing_list = []\n",
    "cing_names = [] \n",
    "cing_indices = []\n",
    "sgACC_list = []\n",
    "sgACC_names = [] \n",
    "sgACC_indices = []\n",
    "dACC_list = []\n",
    "dACC_names = [] \n",
    "dACC_indices = []\n",
    "sfg_list = []\n",
    "sfg_names = [] \n",
    "sfg_indices = []\n",
    "mfg_list = []\n",
    "mfg_names = [] \n",
    "mfg_indices = []\n",
    "\n",
    "# control ROI\n",
    "insula_list = []\n",
    "insula_names = []  \n",
    "insula_indices = []\n",
    "dlpfc_list = []\n",
    "dlpfc_names = []  \n",
    "dlpfc_indices = []\n",
    "ec_list = []\n",
    "ec_names = []  \n",
    "ec_indices = []\n",
    "\n",
    "# exclude bad ROI from list\n",
    "pairs_long_name = [ch.split('-') for ch in ghost_attack_epochs.pick_types(seeg=True).info['ch_names']]\n",
    "bidx = len(ghost_attack_epochs.info['bads']) +1\n",
    "pairs_name = pairs_long_name[bidx:len(pairs_long_name)]\n",
    "\n",
    "# sort ROI into lists\n",
    "for ix in range(0, len(pairs_name)):\n",
    "    if pairs_name[ix][0] in ROIs['hc'] or pairs_name[ix][1] in ROIs['hc']:\n",
    "        hc_list.append(ghost_attack_epochs.info['ch_names'][ix + bidx])\n",
    "        hc_names.append(pairs_name[ix])\n",
    "        hc_indices.append(ix)\n",
    "    if pairs_name[ix][0] in ROIs['ofc'] or pairs_name[ix][1] in ROIs['ofc']:\n",
    "        ofc_list.append(ghost_attack_epochs.info['ch_names'][ix + bidx])\n",
    "        ofc_names.append(pairs_name[ix])\n",
    "        ofc_indices.append(ix)\n",
    "    if pairs_name[ix][0] in ROIs['amyg'] or pairs_name[ix][1] in ROIs['amyg']:\n",
    "        amyg_list.append(ghost_attack_epochs.info['ch_names'][ix + bidx])       \n",
    "        amyg_names.append(pairs_name[ix])\n",
    "        amyg_indices.append(ix)\n",
    "    if pairs_name[ix][0] in ROIs['cing'] or pairs_name[ix][1] in ROIs['cing']:\n",
    "        cing_list.append(ghost_attack_epochs.info['ch_names'][ix + bidx])       \n",
    "        cing_names.append(pairs_name[ix])\n",
    "        cing_indices.append(ix)\n",
    "    if pairs_name[ix][0] in ROIs['sgACC'] or pairs_name[ix][1] in ROIs['sgACC']:\n",
    "        sgACC_list.append(ghost_attack_epochs.info['ch_names'][ix + bidx])       \n",
    "        sgACC_names.append(pairs_name[ix])\n",
    "        sgACC_indices.append(ix)\n",
    "    if pairs_name[ix][0] in ROIs['dACC'] or pairs_name[ix][1] in ROIs['dACC']:\n",
    "        dACC_list.append(ghost_attack_epochs.info['ch_names'][ix + bidx])       \n",
    "        dACC_names.append(pairs_name[ix])\n",
    "        dACC_indices.append(ix)        \n",
    "        \n",
    "    # control roi\n",
    "    if pairs_name[ix][0] in ROIs['insula'] or pairs_name[ix][1] in ROIs['insula']:\n",
    "        insula_list.append(ghost_attack_epochs.info['ch_names'][ix + bidx])       \n",
    "        insula_names.append(pairs_name[ix])\n",
    "        insula_indices.append(ix)\n",
    "    if pairs_name[ix][0] in ROIs['dlpfc'] or pairs_name[ix][1] in ROIs['dlpfc']:\n",
    "        dlpfc_list.append(ghost_attack_epochs.info['ch_names'][ix + bidx])       \n",
    "        dlpfc_names.append(pairs_name[ix])\n",
    "        dlpfc_indices.append(ix)\n",
    "    if pairs_name[ix][0] in ROIs['sfg'] or pairs_name[ix][1] in ROIs['sfg']:\n",
    "        sfg_list.append(ghost_attack_epochs.info['ch_names'][ix + bidx])       \n",
    "        sfg_names.append(pairs_name[ix])\n",
    "        sfg_indices.append(ix)   \n",
    "    if pairs_name[ix][0] in ROIs['mfg'] or pairs_name[ix][1] in ROIs['mfg']:\n",
    "        mfg_list.append(ghost_attack_epochs.info['ch_names'][ix + bidx])       \n",
    "        mfg_names.append(pairs_name[ix])\n",
    "        mfg_indices.append(ix)     \n",
    "    if pairs_name[ix][0] in ROIs['ec'] or pairs_name[ix][1] in ROIs['ec']:\n",
    "        ec_list.append(ghost_attack_epochs.info['ch_names'][ix + bidx])       \n",
    "        ec_names.append(pairs_name[ix])\n",
    "        ec_indices.append(ix)        \n",
    "        "
   ]
  },
  {
   "cell_type": "code",
   "execution_count": null,
   "id": "71f46b0b-cb29-472d-9272-83091d512382",
   "metadata": {},
   "outputs": [],
   "source": [
    "# Print and check frequencies\n",
    "print(pf.freqs)\n",
    "print(pf.n_cycles)\n",
    "print(pf.time_bin)\n",
    "print(pf.band_width)\n"
   ]
  },
  {
   "cell_type": "markdown",
   "id": "7de6eb5d-5215-4aca-903d-272be79343f5",
   "metadata": {},
   "source": [
    "# Main Regions of Interest"
   ]
  },
  {
   "cell_type": "markdown",
   "id": "b97e7e09-d76d-4667-a81a-13574f522100",
   "metadata": {
    "tags": []
   },
   "source": [
    "## Hippocampus"
   ]
  },
  {
   "cell_type": "code",
   "execution_count": null,
   "id": "f45e02f5-43ac-4518-a886-c0ae76e06f8e",
   "metadata": {},
   "outputs": [],
   "source": [
    "hc_list"
   ]
  },
  {
   "cell_type": "code",
   "execution_count": null,
   "id": "daccfa9e-745e-4d6b-9444-84c23a01eed4",
   "metadata": {},
   "outputs": [],
   "source": [
    "# only ROI of interest\n",
    "ghost_attack_roi = ghost_attack_epochs.copy().pick_channels(hc_list)\n"
   ]
  },
  {
   "cell_type": "code",
   "execution_count": null,
   "id": "83a5f686-4485-4585-a53f-1027b198a1ae",
   "metadata": {},
   "outputs": [],
   "source": [
    "# Resample to 1000 \n",
    "if ghost_attack_roi.info['sfreq'] > 1000:\n",
    "    ghost_attack_roi= ghost_attack_roi.resample(1000)"
   ]
  },
  {
   "cell_type": "code",
   "execution_count": null,
   "id": "569e59da-4043-4b67-99aa-ebab0a5d696d",
   "metadata": {},
   "outputs": [],
   "source": [
    "# compute TRF\n",
    "\n",
    "roi_tfr = []\n",
    "roi_tfr = pf.compute_TFR(ghost_attack_roi,pf.freqs,pf.n_cycles)\n"
   ]
  },
  {
   "cell_type": "code",
   "execution_count": null,
   "id": "98091a09-2dd1-4221-ad13-8af5bd67f4d8",
   "metadata": {},
   "outputs": [],
   "source": [
    "# Crop to time of interest\n",
    "\n",
    "roi_tfr.crop(tmin = -1, tmax = 3)"
   ]
  },
  {
   "cell_type": "code",
   "execution_count": null,
   "id": "bf60e7ca-759a-4b81-89d8-cd33f88f5ff0",
   "metadata": {},
   "outputs": [],
   "source": [
    "# save TFRs\n",
    "\n",
    "roi_tfr.save(f\"/home/brooke/pacman/preprocessing/{subject}/ieeg/ghost_attack/hc-tfr.h5\", overwrite = True)"
   ]
  },
  {
   "cell_type": "code",
   "execution_count": null,
   "id": "632a673d-ef2e-4996-b095-d69ea4d22cfd",
   "metadata": {},
   "outputs": [],
   "source": [
    "# Log and zscore\n",
    "\n",
    "roi_tfr = pf.log_and_zscore_TFR(roi_tfr, baseline = (-1,3), logflag=True)"
   ]
  },
  {
   "cell_type": "code",
   "execution_count": null,
   "id": "56813cb8-abce-467a-864c-5ae7f9ae3b00",
   "metadata": {},
   "outputs": [],
   "source": [
    "# Plot TFR\n",
    "pf.plot_average_tfr(roi_tfr, f\"Average Hippocampal TFR at Ghost Attack, n={len(hc_list)}\", subject, 'hc_ghostattack')\n"
   ]
  },
  {
   "cell_type": "markdown",
   "id": "eb0fa12a-9ac1-411d-a105-f17782aae568",
   "metadata": {
    "tags": []
   },
   "source": [
    "## Individual Channels"
   ]
  },
  {
   "cell_type": "code",
   "execution_count": null,
   "id": "6bb80ef3-afad-49ad-a9aa-82ef761187e0",
   "metadata": {},
   "outputs": [],
   "source": [
    "# Plot Channel TFR\n",
    "for chix, ch in enumerate(roi_tfr.ch_names):\n",
    "\n",
    "    pf.plot_channel_tfr(roi_tfr, chix, ch, 'Ghost Attack')\n",
    "    \n"
   ]
  },
  {
   "cell_type": "markdown",
   "id": "9cda7ead-e472-4596-8f68-44f847b96f2b",
   "metadata": {
    "tags": []
   },
   "source": [
    "# OFC"
   ]
  },
  {
   "cell_type": "code",
   "execution_count": null,
   "id": "252bbb49-3458-4f41-b0bf-56f119b4f06c",
   "metadata": {},
   "outputs": [],
   "source": [
    "ofc_list"
   ]
  },
  {
   "cell_type": "code",
   "execution_count": null,
   "id": "d76c37e1-3822-47bc-b63d-3973e7c853ab",
   "metadata": {},
   "outputs": [],
   "source": [
    "# only roi of interest\n",
    "ghost_attack_roi = ghost_attack_epochs.copy().pick_channels(ofc_list)\n"
   ]
  },
  {
   "cell_type": "code",
   "execution_count": null,
   "id": "013b352f-9bf4-444a-a10e-8ef13542b1fe",
   "metadata": {},
   "outputs": [],
   "source": [
    "# Resample to 1000 \n",
    "if ghost_attack_roi.info['sfreq'] > 1000:\n",
    "    ghost_attack_roi= ghost_attack_roi.resample(1000)"
   ]
  },
  {
   "cell_type": "code",
   "execution_count": null,
   "id": "1daeb368-5a0b-466a-bfae-aba3bcbd6620",
   "metadata": {},
   "outputs": [],
   "source": [
    "# compute TRF\n",
    "\n",
    "roi_tfr = []\n",
    "roi_tfr = pf.compute_TFR(ghost_attack_roi,pf.freqs,pf.n_cycles)"
   ]
  },
  {
   "cell_type": "code",
   "execution_count": null,
   "id": "703ab9d3-3469-4606-b0ce-d5f17c27d9ea",
   "metadata": {},
   "outputs": [],
   "source": [
    "roi_tfr.crop(tmin = -1, tmax = 3)\n"
   ]
  },
  {
   "cell_type": "code",
   "execution_count": null,
   "id": "9b459512-35c7-4165-b94e-ad8904790e48",
   "metadata": {},
   "outputs": [],
   "source": [
    "# save TFRs\n",
    "\n",
    "roi_tfr.save(f\"/home/brooke/pacman/preprocessing/{subject}/ieeg/ghost_attack/ofc-tfr.h5\", overwrite = True)"
   ]
  },
  {
   "cell_type": "code",
   "execution_count": null,
   "id": "4eecf1ff-f4f7-4eea-a6e0-92f4b59bae3e",
   "metadata": {},
   "outputs": [],
   "source": [
    "# Log and zscore\n",
    "\n",
    "roi_tfr = pf.log_and_zscore_TFR(roi_tfr, baseline = (-1,3), logflag=True)"
   ]
  },
  {
   "cell_type": "code",
   "execution_count": null,
   "id": "d69b8ce6-ed62-4b94-8b48-fe0b6b8e324b",
   "metadata": {},
   "outputs": [],
   "source": [
    "# Plot TFR\n",
    "pf.plot_average_tfr(roi_tfr, f\"Average OFC TFR at Ghost Attack, n={len(ofc_list)}\", subject, 'ofc_ghostattack')\n"
   ]
  },
  {
   "cell_type": "markdown",
   "id": "e7d3b462-cf31-47f4-bc10-ca8142a03bce",
   "metadata": {},
   "source": [
    "### Individual Channels"
   ]
  },
  {
   "cell_type": "code",
   "execution_count": null,
   "id": "7eb2dfdf-90c6-4580-8ca9-bb70675a69d9",
   "metadata": {
    "tags": []
   },
   "outputs": [],
   "source": [
    "# Plot Channel TFR\n",
    "for chix, ch in enumerate(roi_tfr.ch_names):\n",
    "\n",
    "    pf.plot_channel_tfr(roi_tfr, chix, ch, 'Ghost Attack')"
   ]
  },
  {
   "cell_type": "markdown",
   "id": "95f58545-b3ab-4e5e-8974-59b678a7037b",
   "metadata": {
    "tags": []
   },
   "source": [
    "# Amygdala"
   ]
  },
  {
   "cell_type": "code",
   "execution_count": null,
   "id": "b182f41c-471a-4322-93dd-502b4c24d439",
   "metadata": {},
   "outputs": [],
   "source": [
    "amyg_list"
   ]
  },
  {
   "cell_type": "code",
   "execution_count": null,
   "id": "de7aae76-05fd-426e-ab74-923f51b77f3c",
   "metadata": {},
   "outputs": [],
   "source": [
    "# only roi \n",
    "ghost_attack_roi = ghost_attack_epochs.copy().pick_channels(amyg_list)\n"
   ]
  },
  {
   "cell_type": "code",
   "execution_count": null,
   "id": "f4f6900b-a7a6-4797-b661-03c527da3f68",
   "metadata": {},
   "outputs": [],
   "source": [
    "# Resample to 1000 \n",
    "if ghost_attack_roi.info['sfreq'] > 1000:\n",
    "    ghost_attack_roi= ghost_attack_roi.resample(1000)"
   ]
  },
  {
   "cell_type": "code",
   "execution_count": null,
   "id": "1c19d7ca-7443-46cf-9388-16957a21c2e8",
   "metadata": {},
   "outputs": [],
   "source": [
    "# compute TRF\n",
    "\n",
    "roi_tfr = []\n",
    "roi_tfr = pf.compute_TFR(ghost_attack_roi,pf.freqs,pf.n_cycles)\n"
   ]
  },
  {
   "cell_type": "code",
   "execution_count": null,
   "id": "536d73c7-2b7f-49ba-9038-f7e1e76cee41",
   "metadata": {},
   "outputs": [],
   "source": [
    "roi_tfr.crop(tmin = -1, tmax = 3)\n"
   ]
  },
  {
   "cell_type": "code",
   "execution_count": null,
   "id": "1962771a-5c07-4c7b-a221-ef3c1b248641",
   "metadata": {},
   "outputs": [],
   "source": [
    "# save TFRs\n",
    "\n",
    "roi_tfr.save(f\"/home/brooke/pacman/preprocessing/{subject}/ieeg/ghost_attack/amyg-tfr.h5\", overwrite = True)"
   ]
  },
  {
   "cell_type": "code",
   "execution_count": null,
   "id": "d3d5a018-e993-473d-ae7b-de62f6911f88",
   "metadata": {},
   "outputs": [],
   "source": [
    "# Log and zscore\n",
    "\n",
    "roi_tfr = pf.log_and_zscore_TFR(roi_tfr, baseline = (-1,3), logflag=True)"
   ]
  },
  {
   "cell_type": "code",
   "execution_count": null,
   "id": "c8a0f24c-5fdc-4747-b1a1-b5d4d542564f",
   "metadata": {},
   "outputs": [],
   "source": [
    "# Plot TFR\n",
    "pf.plot_average_tfr(roi_tfr, f\"Average Amygdala TFR at Ghost Attack, n={len(amyg_list)}\", subject, 'amyg_ghostattack')"
   ]
  },
  {
   "cell_type": "markdown",
   "id": "a01e399c-bc04-4de5-afad-7c77e2e4cfea",
   "metadata": {},
   "source": [
    "### Individual Channels"
   ]
  },
  {
   "cell_type": "code",
   "execution_count": null,
   "id": "5e9dc2ab-4485-4260-a1a4-4638280c46fe",
   "metadata": {},
   "outputs": [],
   "source": [
    "# Plot Channel TFR\n",
    "for chix, ch in enumerate(roi_tfr.ch_names):\n",
    "\n",
    "    pf.plot_channel_tfr(roi_tfr, chix, ch, 'Ghost Attack')"
   ]
  }
 ],
 "metadata": {
  "kernelspec": {
   "display_name": "ieeg_analysis2",
   "language": "python",
   "name": "python3"
  },
  "language_info": {
   "codemirror_mode": {
    "name": "ipython",
    "version": 3
   },
   "file_extension": ".py",
   "mimetype": "text/x-python",
   "name": "python",
   "nbconvert_exporter": "python",
   "pygments_lexer": "ipython3",
   "version": "3.11.9"
  }
 },
 "nbformat": 4,
 "nbformat_minor": 5
}

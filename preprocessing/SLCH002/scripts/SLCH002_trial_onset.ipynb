{
 "cells": [
  {
   "cell_type": "markdown",
   "id": "dd8fdc9d-95eb-42fe-abe1-80bb121b5d83",
   "metadata": {},
   "source": [
    "# Trial Onset ~ all frequencies: SLCH002"
   ]
  },
  {
   "cell_type": "code",
   "execution_count": 4,
   "id": "b4cae23a-8d44-4df0-9b7a-3fcdc95e0e5c",
   "metadata": {},
   "outputs": [],
   "source": [
    "import matplotlib\n",
    "import matplotlib.pyplot as plt\n",
    "import pandas as pd\n",
    "import numpy as np\n",
    "from scipy import signal, stats\n",
    "import mat73\n",
    "import re\n",
    "from neurodsp.timefrequency import compute_wavelet_transform\n",
    "import os\n",
    "import mne\n",
    "import IPython\n",
    "import seaborn as sns\n",
    "import scipy\n",
    "import joblib\n",
    "import h5io\n",
    "import dask.array as da \n",
    "\n",
    "import statsmodels\n",
    "from statsmodels import stats\n",
    "from statsmodels.stats import multitest\n",
    "\n",
    "# Import required code for visualizing example models\n",
    "from fooof import FOOOF\n",
    "from fooof.sim.gen import gen_power_spectrum\n",
    "from fooof.sim.utils import set_random_seed\n",
    "from fooof.plts.spectra import plot_spectra\n",
    "from fooof.plts.annotate import plot_annotated_model\n",
    "from neurodsp.utils import create_times\n",
    "from neurodsp.plts.time_series import plot_time_series\n",
    "from neurodsp.spectral import compute_spectrum, rotate_powerlaw\n",
    "from neurodsp.plts.spectral import plot_power_spectra\n"
   ]
  },
  {
   "cell_type": "code",
   "execution_count": 5,
   "id": "c48a9e35-5c6b-451d-a9f5-41305159b40a",
   "metadata": {
    "tags": []
   },
   "outputs": [],
   "source": [
    "## Prep paths ##\n",
    "\n",
    "subject = 'SLCH002'\n",
    "raw_data_dir = f\"/home/brooke/pacman/raw_data/{subject}\"\n",
    "preproc_data_dir = f\"/home/brooke/pacman/preprocessing/{subject}/ieeg\"\n",
    "\n",
    "# load preproc functions\n",
    "%run ../../scripts/preproc_functions.py"
   ]
  },
  {
   "cell_type": "code",
   "execution_count": 6,
   "id": "3f816ae7-8136-48c3-8218-48ac5650abe1",
   "metadata": {},
   "outputs": [
    {
     "name": "stdout",
     "output_type": "stream",
     "text": [
      "Reading /home/brooke/pacman/preprocessing/SLCH002/ieeg/SLCH002_bp_clean_pres-locked_ieeg.fif ...\n"
     ]
    },
    {
     "name": "stderr",
     "output_type": "stream",
     "text": [
      "/tmp/ipykernel_134830/460025053.py:4: RuntimeWarning: This filename (/home/brooke/pacman/preprocessing/SLCH002/ieeg/SLCH002_bp_clean_pres-locked_ieeg.fif) does not conform to MNE naming conventions. All epochs files should end with -epo.fif, -epo.fif.gz, _epo.fif or _epo.fif.gz\n",
      "  trial_onset_epochs = mne.read_epochs(f\"{preproc_data_dir}/{subject}_bp_clean_pres-locked_ieeg.fif\")\n"
     ]
    },
    {
     "name": "stdout",
     "output_type": "stream",
     "text": [
      "    Found the data of interest:\n",
      "        t =   -4000.00 ...   12000.00 ms\n",
      "        0 CTF compensation matrices available\n",
      "Reading /home/brooke/pacman/preprocessing/SLCH002/ieeg/SLCH002_bp_clean_pres-locked_ieeg-1.fif ...\n",
      "    Found the data of interest:\n",
      "        t =   -4000.00 ...   12000.00 ms\n",
      "        0 CTF compensation matrices available\n",
      "Reading /home/brooke/pacman/preprocessing/SLCH002/ieeg/SLCH002_bp_clean_pres-locked_ieeg-2.fif ...\n",
      "    Found the data of interest:\n",
      "        t =   -4000.00 ...   12000.00 ms\n",
      "        0 CTF compensation matrices available\n",
      "Not setting metadata\n",
      "240 matching events found\n",
      "No baseline correction applied\n",
      "0 projection items activated\n"
     ]
    }
   ],
   "source": [
    "## Load Neural Data\n",
    "\n",
    "# load\n",
    "trial_onset_epochs = mne.read_epochs(f\"{preproc_data_dir}/{subject}_bp_clean_pres-locked_ieeg.fif\")\n",
    "\n",
    "# get good epochs (for behavioral data only)\n",
    "good_epochs = [i for i,x in enumerate(trial_onset_epochs.get_annotations_per_epoch()) if not x]\n",
    "bad_epochs = [i for i,x in enumerate(trial_onset_epochs.get_annotations_per_epoch()) if  x]\n",
    "\n",
    "# only good epochs\n",
    "trial_onset_epochs = trial_onset_epochs[good_epochs]"
   ]
  },
  {
   "cell_type": "code",
   "execution_count": 7,
   "id": "8893e602-8a16-4617-a697-ad1669c99429",
   "metadata": {
    "tags": []
   },
   "outputs": [],
   "source": [
    "## Dictionary of electrode locations ##\n",
    "\n",
    "# Pull mapping ROI to elecs\n",
    "%run ../../scripts/roi.py\n",
    "ROIs = ROIs[subject]\n",
    "\n",
    "## prep lists\n",
    "\n",
    "# limbic ROI\n",
    "hc_list = []\n",
    "hc_indices = []\n",
    "hc_names = []\n",
    "ofc_list = []\n",
    "ofc_indices = []\n",
    "ofc_names = []\n",
    "amyg_list = []\n",
    "amyg_names = [] \n",
    "amyg_indices = []\n",
    "cing_list = []\n",
    "cing_names = [] \n",
    "cing_indices = []\n",
    "sgACC_list = []\n",
    "sgACC_names = [] \n",
    "sgACC_indices = []\n",
    "dACC_list = []\n",
    "dACC_names = [] \n",
    "dACC_indices = []\n",
    "sfg_list = []\n",
    "sfg_names = [] \n",
    "sfg_indices = []\n",
    "mfg_list = []\n",
    "mfg_names = [] \n",
    "mfg_indices = []\n",
    "\n",
    "# control ROI\n",
    "insula_list = []\n",
    "insula_names = []  \n",
    "insula_indices = []\n",
    "dlpfc_list = []\n",
    "dlpfc_names = []  \n",
    "dlpfc_indices = []\n",
    "ec_list = []\n",
    "ec_names = []  \n",
    "ec_indices = []\n",
    "\n",
    "# exclude bad ROI from list\n",
    "pairs_long_name = [ch.split('-') for ch in trial_onset_epochs.info['ch_names']]\n",
    "bidx = len(trial_onset_epochs.info['bads']) +1\n",
    "pairs_name = pairs_long_name[bidx:len(pairs_long_name)]\n",
    "\n",
    "# sort ROI into lists\n",
    "for ix in range(0, len(pairs_name)):\n",
    "    if pairs_name[ix][0] in ROIs['hc'] or pairs_name[ix][1] in ROIs['hc']:\n",
    "        hc_list.append(trial_onset_epochs.info['ch_names'][ix + bidx])\n",
    "        hc_names.append(pairs_name[ix])\n",
    "        hc_indices.append(ix)\n",
    "    if pairs_name[ix][0] in ROIs['ofc'] or pairs_name[ix][1] in ROIs['ofc']:\n",
    "        ofc_list.append(trial_onset_epochs.info['ch_names'][ix + bidx])\n",
    "        ofc_names.append(pairs_name[ix])\n",
    "        ofc_indices.append(ix)\n",
    "    if pairs_name[ix][0] in ROIs['amyg'] or pairs_name[ix][1] in ROIs['amyg']:\n",
    "        amyg_list.append(trial_onset_epochs.info['ch_names'][ix + bidx])       \n",
    "        amyg_names.append(pairs_name[ix])\n",
    "        amyg_indices.append(ix)\n",
    "    if pairs_name[ix][0] in ROIs['cing'] or pairs_name[ix][1] in ROIs['cing']:\n",
    "        cing_list.append(trial_onset_epochs.info['ch_names'][ix + bidx])       \n",
    "        cing_names.append(pairs_name[ix])\n",
    "        cing_indices.append(ix)\n",
    "    if pairs_name[ix][0] in ROIs['sgACC'] or pairs_name[ix][1] in ROIs['sgACC']:\n",
    "        sgACC_list.append(trial_onset_epochs.info['ch_names'][ix + bidx])       \n",
    "        sgACC_names.append(pairs_name[ix])\n",
    "        sgACC_indices.append(ix)\n",
    "    if pairs_name[ix][0] in ROIs['dACC'] or pairs_name[ix][1] in ROIs['dACC']:\n",
    "        dACC_list.append(trial_onset_epochs.info['ch_names'][ix + bidx])       \n",
    "        dACC_names.append(pairs_name[ix])\n",
    "        dACC_indices.append(ix)        \n",
    "        \n",
    "    # control roi\n",
    "    if pairs_name[ix][0] in ROIs['insula'] or pairs_name[ix][1] in ROIs['insula']:\n",
    "        insula_list.append(trial_onset_epochs.info['ch_names'][ix + bidx])       \n",
    "        insula_names.append(pairs_name[ix])\n",
    "        insula_indices.append(ix)\n",
    "    if pairs_name[ix][0] in ROIs['dlpfc'] or pairs_name[ix][1] in ROIs['dlpfc']:\n",
    "        dlpfc_list.append(trial_onset_epochs.info['ch_names'][ix + bidx])       \n",
    "        dlpfc_names.append(pairs_name[ix])\n",
    "        dlpfc_indices.append(ix)\n",
    "    if pairs_name[ix][0] in ROIs['sfg'] or pairs_name[ix][1] in ROIs['sfg']:\n",
    "        sfg_list.append(trial_onset_epochs.info['ch_names'][ix + bidx])       \n",
    "        sfg_names.append(pairs_name[ix])\n",
    "        sfg_indices.append(ix)   \n",
    "    if pairs_name[ix][0] in ROIs['mfg'] or pairs_name[ix][1] in ROIs['mfg']:\n",
    "        mfg_list.append(trial_onset_epochs.info['ch_names'][ix + bidx])       \n",
    "        mfg_names.append(pairs_name[ix])\n",
    "        mfg_indices.append(ix)     \n",
    "    if pairs_name[ix][0] in ROIs['ec'] or pairs_name[ix][1] in ROIs['ec']:\n",
    "        ec_list.append(trial_onset_epochs.info['ch_names'][ix + bidx])       \n",
    "        ec_names.append(pairs_name[ix])\n",
    "        ec_indices.append(ix)        \n",
    "        "
   ]
  },
  {
   "cell_type": "code",
   "execution_count": 8,
   "id": "71f46b0b-cb29-472d-9272-83091d512382",
   "metadata": {},
   "outputs": [
    {
     "name": "stdout",
     "output_type": "stream",
     "text": [
      "[  1.           1.06548039   1.13524845   1.20958496   1.28878905\n",
      "   1.37317945   1.46309577   1.55889984   1.6609772    1.76973863\n",
      "   1.8856218    2.00909304   2.14064922   2.28081976   2.43016872\n",
      "   2.5892971    2.75884527   2.93949552   3.13197482   3.33705774\n",
      "   3.55556956   3.78838962   4.03645484   4.30076345   4.5823791\n",
      "   4.88243505   5.20213877   5.54277682   5.90571998   6.2924288\n",
      "   6.70445946   7.14347005   7.61122722   8.10961331   8.64063391\n",
      "   9.20642595   9.80926626  10.45158079  11.13595433  11.8651409\n",
      "  12.6420749   13.46988283  14.35189595  15.29166362  16.29296764\n",
      "  17.35983743  18.49656627  19.70772855  20.99819821  22.37316831\n",
      "  23.83817199  25.39910467  27.06224782  28.83429423  30.72237491\n",
      "  32.73408785  34.87752853  37.16132253  39.59466023  42.18733383\n",
      "  44.94977669  47.89310538  51.02916436  54.37057369  57.93077979\n",
      "  61.72410955  65.76582801  70.07219975  74.66055437  79.54935622\n",
      "  84.75827869  90.30828341  96.22170458 102.52233885 109.23554107\n",
      " 116.38832636 124.00947878 132.1296672  140.78156868 150.        ]\n",
      "[ 2.          2.06974683  2.14192598  2.21662225  2.29392345  2.37392039\n",
      "  2.45670711  2.54238088  2.63104239  2.72279582  2.81774902  2.91601355\n",
      "  3.01770491  3.12294259  3.23185027  3.34455593  3.46119202  3.58189561\n",
      "  3.70680855  3.83607763  3.96985476  4.10829716  4.25156752  4.3998342\n",
      "  4.55327146  4.71205959  4.87638521  5.04644142  5.22242807  5.40455198\n",
      "  5.59302718  5.78807514  5.9899251   6.19881425  6.41498808  6.63870064\n",
      "  6.87021481  7.10980267  7.35774578  7.61433552  7.87987341  8.15467152\n",
      "  8.43905278  8.73335138  9.03791318  9.3530961   9.67927051 10.01681975\n",
      " 10.36614047 10.72764321 11.10175278 11.48890883 11.88956634 12.30419614\n",
      " 12.73328549 13.17733866 13.63687749 14.112442   14.60459107 15.11390305\n",
      " 15.64097649 16.18643078 16.75090693 17.33506828 17.93960134 18.56521653\n",
      " 19.21264906 19.88265978 20.57603606 21.29359274 22.03617307 22.80464971\n",
      " 23.59992576 24.42293581 25.27464702 26.15606032 27.06821151 28.01217252\n",
      " 28.98905269 30.        ]\n",
      "[0.63661977 0.61833225 0.60057005 0.58331808 0.5665617  0.55028666\n",
      " 0.53447913 0.5191257  0.5042133  0.48972928 0.47566133 0.46199749\n",
      " 0.44872616 0.43583606 0.42331624 0.41115607 0.39934521 0.38787363\n",
      " 0.37673158 0.36590959 0.35539848 0.34518931 0.33527341 0.32564235\n",
      " 0.31628796 0.30720227 0.29837759 0.2898064  0.28148143 0.2733956\n",
      " 0.26554204 0.25791408 0.25050525 0.24330924 0.23631994 0.22953142\n",
      " 0.22293791 0.2165338  0.21031365 0.20427219 0.19840427 0.19270491\n",
      " 0.18716927 0.18179265 0.17657048 0.17149832 0.16657186 0.16178692\n",
      " 0.15713943 0.15262545 0.14824113 0.14398276 0.13984672 0.13582948\n",
      " 0.13192765 0.1281379  0.12445701 0.12088186 0.11740941 0.11403671\n",
      " 0.11076089 0.10757918 0.10448886 0.10148732 0.09857199 0.09574042\n",
      " 0.09299018 0.09031895 0.08772445 0.08520447 0.08275689 0.08037962\n",
      " 0.07807064 0.07582798 0.07364975 0.07153409 0.0694792  0.06748334\n",
      " 0.06554482 0.06366198]\n",
      "[ 1.          1.02957557  1.06002585  1.09137671  1.1236548   1.15688753\n",
      "  1.19110313  1.22633068  1.26260011  1.29994222  1.33838875  1.37797236\n",
      "  1.41872667  1.46068632  1.50388695  1.54836526  1.59415904  1.6413072\n",
      "  1.68984979  1.73982805  1.79128445  1.84426271  1.89880782  1.95496614\n",
      "  2.01278538  2.07231465  2.13360453  2.19670709  2.26167595  2.3285663\n",
      "  2.39743497  2.46834047  2.54134304  2.6165047   2.69388931  2.77356261\n",
      "  2.8555923   2.94004806  3.02700165  3.11652694  3.2087      3.30359912\n",
      "  3.40130494  3.50190046  3.60547115  3.71210501  3.82189262  3.93492726\n",
      "  4.05130497  4.17112461  4.29448799  4.42149991  4.55226828  4.68690419\n",
      "  4.82552204  4.96823959  5.1151781   5.26646239  5.42222101  5.58258627\n",
      "  5.74769442  5.91768575  6.09270466  6.27289986  6.45842443  6.649436\n",
      "  6.84609684  7.04857404  7.25703961  7.47167068  7.69264957  7.92016405\n",
      "  8.1544074   8.39557862  8.64388262  8.89953035  9.16273901  9.43373222\n",
      "  9.7127402  10.        ]\n"
     ]
    }
   ],
   "source": [
    "# Print and check frequencies\n",
    "print(freqs)\n",
    "print(n_cycles)\n",
    "print(time_bin)\n",
    "print(band_width)\n"
   ]
  },
  {
   "cell_type": "markdown",
   "id": "7de6eb5d-5215-4aca-903d-272be79343f5",
   "metadata": {},
   "source": [
    "# Main Regions of Interest"
   ]
  },
  {
   "cell_type": "markdown",
   "id": "b97e7e09-d76d-4667-a81a-13574f522100",
   "metadata": {
    "tags": []
   },
   "source": [
    "## Hippocampus"
   ]
  },
  {
   "cell_type": "code",
   "execution_count": 9,
   "id": "f45e02f5-43ac-4518-a886-c0ae76e06f8e",
   "metadata": {},
   "outputs": [
    {
     "data": {
      "text/plain": [
       "['J4-J5',\n",
       " 'J5-J6',\n",
       " 'J6-J7',\n",
       " 'K1-K2',\n",
       " 'K2-K3',\n",
       " 'K3-K4',\n",
       " 'K4-K5',\n",
       " 'K5-K6',\n",
       " 'K6-K7',\n",
       " 'K7-K8']"
      ]
     },
     "execution_count": 9,
     "metadata": {},
     "output_type": "execute_result"
    }
   ],
   "source": [
    "hc_list"
   ]
  },
  {
   "cell_type": "code",
   "execution_count": 10,
   "id": "daccfa9e-745e-4d6b-9444-84c23a01eed4",
   "metadata": {},
   "outputs": [],
   "source": [
    "# only ROI of interest\n",
    "trial_onset_roi = trial_onset_epochs.copy().pick_channels(hc_list)\n"
   ]
  },
  {
   "cell_type": "code",
   "execution_count": 11,
   "id": "83a5f686-4485-4585-a53f-1027b198a1ae",
   "metadata": {},
   "outputs": [],
   "source": [
    "# Resample to 1000 \n",
    "if trial_onset_roi.info['sfreq'] > 1000:\n",
    "    trial_onset_roi= trial_onset_roi.resample(1000)"
   ]
  },
  {
   "cell_type": "code",
   "execution_count": 12,
   "id": "569e59da-4043-4b67-99aa-ebab0a5d696d",
   "metadata": {},
   "outputs": [
    {
     "name": "stdout",
     "output_type": "stream",
     "text": [
      "computing TFR\n"
     ]
    },
    {
     "name": "stderr",
     "output_type": "stream",
     "text": [
      "[Parallel(n_jobs=8)]: Using backend LokyBackend with 8 concurrent workers.\n",
      "[Parallel(n_jobs=8)]: Done   6 out of  10 | elapsed:  2.3min remaining:  1.5min\n",
      "[Parallel(n_jobs=8)]: Done  10 out of  10 | elapsed:  3.2min finished\n"
     ]
    },
    {
     "name": "stdout",
     "output_type": "stream",
     "text": [
      "Not setting metadata\n"
     ]
    }
   ],
   "source": [
    "# compute TRF\n",
    "\n",
    "roi_tfr = []\n",
    "roi_tfr = compute_TFR(trial_onset_roi,freqs,n_cycles)\n"
   ]
  },
  {
   "cell_type": "code",
   "execution_count": 13,
   "id": "98091a09-2dd1-4221-ad13-8af5bd67f4d8",
   "metadata": {},
   "outputs": [
    {
     "data": {
      "text/plain": [
       "<EpochsTFR | time : [-1.000000, 5.000000], freq : [1.000000, 150.000000], epochs : 163, channels : 10, ~5.83 GB>"
      ]
     },
     "execution_count": 13,
     "metadata": {},
     "output_type": "execute_result"
    }
   ],
   "source": [
    "# Crop to time of interest\n",
    "\n",
    "roi_tfr.crop(tmin = -1, tmax = 5)"
   ]
  },
  {
   "cell_type": "code",
   "execution_count": 14,
   "id": "bf60e7ca-759a-4b81-89d8-cd33f88f5ff0",
   "metadata": {},
   "outputs": [
    {
     "ename": "FileNotFoundError",
     "evalue": "[Errno 2] Unable to create file (unable to open file: name = '/home/brooke/knight_server/remote/bstavel/pacman/preprocessing/SLCH002/ieeg/trial_onset/hc-tfr.h5', errno = 2, error message = 'No such file or directory', flags = 13, o_flags = 242)",
     "output_type": "error",
     "traceback": [
      "\u001b[0;31m---------------------------------------------------------------------------\u001b[0m",
      "\u001b[0;31mFileNotFoundError\u001b[0m                         Traceback (most recent call last)",
      "\u001b[0;32m/tmp/ipykernel_134830/2366992311.py\u001b[0m in \u001b[0;36m<module>\u001b[0;34m\u001b[0m\n\u001b[1;32m      1\u001b[0m \u001b[0;31m# save TFRs\u001b[0m\u001b[0;34m\u001b[0m\u001b[0;34m\u001b[0m\u001b[0m\n\u001b[1;32m      2\u001b[0m \u001b[0;34m\u001b[0m\u001b[0m\n\u001b[0;32m----> 3\u001b[0;31m \u001b[0mroi_tfr\u001b[0m\u001b[0;34m.\u001b[0m\u001b[0msave\u001b[0m\u001b[0;34m(\u001b[0m\u001b[0;34mf\"/home/brooke/knight_server/remote/bstavel/pacman/preprocessing/{subject}/ieeg/trial_onset/hc-tfr.h5\"\u001b[0m\u001b[0;34m,\u001b[0m \u001b[0moverwrite\u001b[0m \u001b[0;34m=\u001b[0m \u001b[0;32mTrue\u001b[0m\u001b[0;34m)\u001b[0m\u001b[0;34m\u001b[0m\u001b[0;34m\u001b[0m\u001b[0m\n\u001b[0m",
      "\u001b[0;32m<decorator-gen-189>\u001b[0m in \u001b[0;36msave\u001b[0;34m(self, fname, overwrite, verbose)\u001b[0m\n",
      "\u001b[0;32m~/mambaforge/envs/ieeg_analysis2/lib/python3.9/site-packages/mne/time_frequency/tfr.py\u001b[0m in \u001b[0;36msave\u001b[0;34m(self, fname, overwrite, verbose)\u001b[0m\n\u001b[1;32m   1031\u001b[0m         \u001b[0mread_tfrs\u001b[0m\u001b[0;34m,\u001b[0m \u001b[0mwrite_tfrs\u001b[0m\u001b[0;34m\u001b[0m\u001b[0;34m\u001b[0m\u001b[0m\n\u001b[1;32m   1032\u001b[0m         \"\"\"\n\u001b[0;32m-> 1033\u001b[0;31m         \u001b[0mwrite_tfrs\u001b[0m\u001b[0;34m(\u001b[0m\u001b[0mfname\u001b[0m\u001b[0;34m,\u001b[0m \u001b[0mself\u001b[0m\u001b[0;34m,\u001b[0m \u001b[0moverwrite\u001b[0m\u001b[0;34m=\u001b[0m\u001b[0moverwrite\u001b[0m\u001b[0;34m)\u001b[0m\u001b[0;34m\u001b[0m\u001b[0;34m\u001b[0m\u001b[0m\n\u001b[0m\u001b[1;32m   1034\u001b[0m \u001b[0;34m\u001b[0m\u001b[0m\n\u001b[1;32m   1035\u001b[0m     \u001b[0;34m@\u001b[0m\u001b[0mverbose\u001b[0m\u001b[0;34m\u001b[0m\u001b[0;34m\u001b[0m\u001b[0m\n",
      "\u001b[0;32m<decorator-gen-198>\u001b[0m in \u001b[0;36mwrite_tfrs\u001b[0;34m(fname, tfr, overwrite, verbose)\u001b[0m\n",
      "\u001b[0;32m~/mambaforge/envs/ieeg_analysis2/lib/python3.9/site-packages/mne/time_frequency/tfr.py\u001b[0m in \u001b[0;36mwrite_tfrs\u001b[0;34m(fname, tfr, overwrite, verbose)\u001b[0m\n\u001b[1;32m   2490\u001b[0m         \u001b[0mcomment\u001b[0m \u001b[0;34m=\u001b[0m \u001b[0mii\u001b[0m \u001b[0;32mif\u001b[0m \u001b[0mtfr_\u001b[0m\u001b[0;34m.\u001b[0m\u001b[0mcomment\u001b[0m \u001b[0;32mis\u001b[0m \u001b[0;32mNone\u001b[0m \u001b[0;32melse\u001b[0m \u001b[0mtfr_\u001b[0m\u001b[0;34m.\u001b[0m\u001b[0mcomment\u001b[0m\u001b[0;34m\u001b[0m\u001b[0;34m\u001b[0m\u001b[0m\n\u001b[1;32m   2491\u001b[0m         \u001b[0mout\u001b[0m\u001b[0;34m.\u001b[0m\u001b[0mappend\u001b[0m\u001b[0;34m(\u001b[0m\u001b[0m_prepare_write_tfr\u001b[0m\u001b[0;34m(\u001b[0m\u001b[0mtfr_\u001b[0m\u001b[0;34m,\u001b[0m \u001b[0mcondition\u001b[0m\u001b[0;34m=\u001b[0m\u001b[0mcomment\u001b[0m\u001b[0;34m)\u001b[0m\u001b[0;34m)\u001b[0m\u001b[0;34m\u001b[0m\u001b[0;34m\u001b[0m\u001b[0m\n\u001b[0;32m-> 2492\u001b[0;31m     write_hdf5(fname, out, overwrite=overwrite, title='mnepython',\n\u001b[0m\u001b[1;32m   2493\u001b[0m                slash='replace')\n\u001b[1;32m   2494\u001b[0m \u001b[0;34m\u001b[0m\u001b[0m\n",
      "\u001b[0;32m~/mambaforge/envs/ieeg_analysis2/lib/python3.9/site-packages/h5io/_h5io.py\u001b[0m in \u001b[0;36mwrite_hdf5\u001b[0;34m(fname, data, overwrite, compression, title, slash, use_json)\u001b[0m\n\u001b[1;32m    127\u001b[0m         \u001b[0m_write\u001b[0m\u001b[0;34m(\u001b[0m\u001b[0mfname\u001b[0m\u001b[0;34m,\u001b[0m \u001b[0mcleanup_data\u001b[0m\u001b[0;34m)\u001b[0m\u001b[0;34m\u001b[0m\u001b[0;34m\u001b[0m\u001b[0m\n\u001b[1;32m    128\u001b[0m     \u001b[0;32melse\u001b[0m\u001b[0;34m:\u001b[0m\u001b[0;34m\u001b[0m\u001b[0;34m\u001b[0m\u001b[0m\n\u001b[0;32m--> 129\u001b[0;31m         \u001b[0;32mwith\u001b[0m \u001b[0mh5py\u001b[0m\u001b[0;34m.\u001b[0m\u001b[0mFile\u001b[0m\u001b[0;34m(\u001b[0m\u001b[0mfname\u001b[0m\u001b[0;34m,\u001b[0m \u001b[0mmode\u001b[0m\u001b[0;34m=\u001b[0m\u001b[0mmode\u001b[0m\u001b[0;34m)\u001b[0m \u001b[0;32mas\u001b[0m \u001b[0mfid\u001b[0m\u001b[0;34m:\u001b[0m\u001b[0;34m\u001b[0m\u001b[0;34m\u001b[0m\u001b[0m\n\u001b[0m\u001b[1;32m    130\u001b[0m             \u001b[0m_write\u001b[0m\u001b[0;34m(\u001b[0m\u001b[0mfid\u001b[0m\u001b[0;34m,\u001b[0m \u001b[0mcleanup_data\u001b[0m\u001b[0;34m)\u001b[0m\u001b[0;34m\u001b[0m\u001b[0;34m\u001b[0m\u001b[0m\n\u001b[1;32m    131\u001b[0m \u001b[0;34m\u001b[0m\u001b[0m\n",
      "\u001b[0;32m~/.local/lib/python3.9/site-packages/h5py/_hl/files.py\u001b[0m in \u001b[0;36m__init__\u001b[0;34m(self, name, mode, driver, libver, userblock_size, swmr, rdcc_nslots, rdcc_nbytes, rdcc_w0, track_order, fs_strategy, fs_persist, fs_threshold, fs_page_size, page_buf_size, min_meta_keep, min_raw_keep, locking, **kwds)\u001b[0m\n\u001b[1;32m    505\u001b[0m                                  \u001b[0mfs_persist\u001b[0m\u001b[0;34m=\u001b[0m\u001b[0mfs_persist\u001b[0m\u001b[0;34m,\u001b[0m \u001b[0mfs_threshold\u001b[0m\u001b[0;34m=\u001b[0m\u001b[0mfs_threshold\u001b[0m\u001b[0;34m,\u001b[0m\u001b[0;34m\u001b[0m\u001b[0;34m\u001b[0m\u001b[0m\n\u001b[1;32m    506\u001b[0m                                  fs_page_size=fs_page_size)\n\u001b[0;32m--> 507\u001b[0;31m                 \u001b[0mfid\u001b[0m \u001b[0;34m=\u001b[0m \u001b[0mmake_fid\u001b[0m\u001b[0;34m(\u001b[0m\u001b[0mname\u001b[0m\u001b[0;34m,\u001b[0m \u001b[0mmode\u001b[0m\u001b[0;34m,\u001b[0m \u001b[0muserblock_size\u001b[0m\u001b[0;34m,\u001b[0m \u001b[0mfapl\u001b[0m\u001b[0;34m,\u001b[0m \u001b[0mfcpl\u001b[0m\u001b[0;34m,\u001b[0m \u001b[0mswmr\u001b[0m\u001b[0;34m=\u001b[0m\u001b[0mswmr\u001b[0m\u001b[0;34m)\u001b[0m\u001b[0;34m\u001b[0m\u001b[0;34m\u001b[0m\u001b[0m\n\u001b[0m\u001b[1;32m    508\u001b[0m \u001b[0;34m\u001b[0m\u001b[0m\n\u001b[1;32m    509\u001b[0m             \u001b[0;32mif\u001b[0m \u001b[0misinstance\u001b[0m\u001b[0;34m(\u001b[0m\u001b[0mlibver\u001b[0m\u001b[0;34m,\u001b[0m \u001b[0mtuple\u001b[0m\u001b[0;34m)\u001b[0m\u001b[0;34m:\u001b[0m\u001b[0;34m\u001b[0m\u001b[0;34m\u001b[0m\u001b[0m\n",
      "\u001b[0;32m~/.local/lib/python3.9/site-packages/h5py/_hl/files.py\u001b[0m in \u001b[0;36mmake_fid\u001b[0;34m(name, mode, userblock_size, fapl, fcpl, swmr)\u001b[0m\n\u001b[1;32m    224\u001b[0m         \u001b[0mfid\u001b[0m \u001b[0;34m=\u001b[0m \u001b[0mh5f\u001b[0m\u001b[0;34m.\u001b[0m\u001b[0mcreate\u001b[0m\u001b[0;34m(\u001b[0m\u001b[0mname\u001b[0m\u001b[0;34m,\u001b[0m \u001b[0mh5f\u001b[0m\u001b[0;34m.\u001b[0m\u001b[0mACC_EXCL\u001b[0m\u001b[0;34m,\u001b[0m \u001b[0mfapl\u001b[0m\u001b[0;34m=\u001b[0m\u001b[0mfapl\u001b[0m\u001b[0;34m,\u001b[0m \u001b[0mfcpl\u001b[0m\u001b[0;34m=\u001b[0m\u001b[0mfcpl\u001b[0m\u001b[0;34m)\u001b[0m\u001b[0;34m\u001b[0m\u001b[0;34m\u001b[0m\u001b[0m\n\u001b[1;32m    225\u001b[0m     \u001b[0;32melif\u001b[0m \u001b[0mmode\u001b[0m \u001b[0;34m==\u001b[0m \u001b[0;34m'w'\u001b[0m\u001b[0;34m:\u001b[0m\u001b[0;34m\u001b[0m\u001b[0;34m\u001b[0m\u001b[0m\n\u001b[0;32m--> 226\u001b[0;31m         \u001b[0mfid\u001b[0m \u001b[0;34m=\u001b[0m \u001b[0mh5f\u001b[0m\u001b[0;34m.\u001b[0m\u001b[0mcreate\u001b[0m\u001b[0;34m(\u001b[0m\u001b[0mname\u001b[0m\u001b[0;34m,\u001b[0m \u001b[0mh5f\u001b[0m\u001b[0;34m.\u001b[0m\u001b[0mACC_TRUNC\u001b[0m\u001b[0;34m,\u001b[0m \u001b[0mfapl\u001b[0m\u001b[0;34m=\u001b[0m\u001b[0mfapl\u001b[0m\u001b[0;34m,\u001b[0m \u001b[0mfcpl\u001b[0m\u001b[0;34m=\u001b[0m\u001b[0mfcpl\u001b[0m\u001b[0;34m)\u001b[0m\u001b[0;34m\u001b[0m\u001b[0;34m\u001b[0m\u001b[0m\n\u001b[0m\u001b[1;32m    227\u001b[0m     \u001b[0;32melif\u001b[0m \u001b[0mmode\u001b[0m \u001b[0;34m==\u001b[0m \u001b[0;34m'a'\u001b[0m\u001b[0;34m:\u001b[0m\u001b[0;34m\u001b[0m\u001b[0;34m\u001b[0m\u001b[0m\n\u001b[1;32m    228\u001b[0m         \u001b[0;31m# Open in append mode (read/write).\u001b[0m\u001b[0;34m\u001b[0m\u001b[0;34m\u001b[0m\u001b[0m\n",
      "\u001b[0;32mh5py/_objects.pyx\u001b[0m in \u001b[0;36mh5py._objects.with_phil.wrapper\u001b[0;34m()\u001b[0m\n",
      "\u001b[0;32mh5py/_objects.pyx\u001b[0m in \u001b[0;36mh5py._objects.with_phil.wrapper\u001b[0;34m()\u001b[0m\n",
      "\u001b[0;32mh5py/h5f.pyx\u001b[0m in \u001b[0;36mh5py.h5f.create\u001b[0;34m()\u001b[0m\n",
      "\u001b[0;31mFileNotFoundError\u001b[0m: [Errno 2] Unable to create file (unable to open file: name = '/home/brooke/knight_server/remote/bstavel/pacman/preprocessing/SLCH002/ieeg/trial_onset/hc-tfr.h5', errno = 2, error message = 'No such file or directory', flags = 13, o_flags = 242)"
     ]
    }
   ],
   "source": [
    "# save TFRs\n",
    "\n",
    "roi_tfr.save(f\"/home/brooke/knight_server/remote/bstavel/pacman/preprocessing/{subject}/ieeg/trial_onset/hc-tfr.h5\", overwrite = True)"
   ]
  },
  {
   "cell_type": "code",
   "execution_count": null,
   "id": "632a673d-ef2e-4996-b095-d69ea4d22cfd",
   "metadata": {},
   "outputs": [],
   "source": [
    "# Log and zscore\n",
    "\n",
    "roi_tfr = log_and_zscore_TFR(roi_tfr, baseline = (-1,5), logflag=True)"
   ]
  },
  {
   "cell_type": "code",
   "execution_count": null,
   "id": "56813cb8-abce-467a-864c-5ae7f9ae3b00",
   "metadata": {},
   "outputs": [],
   "source": [
    "# Plot TFR\n",
    "plot_average_tfr(roi_tfr, f\"Average Hippocampal TFR at Trial Onset, n={len(hc_list)}\", subject, 'hc_trialonset')\n"
   ]
  },
  {
   "cell_type": "markdown",
   "id": "eb0fa12a-9ac1-411d-a105-f17782aae568",
   "metadata": {
    "tags": []
   },
   "source": [
    "## Individual Channels"
   ]
  },
  {
   "cell_type": "code",
   "execution_count": null,
   "id": "6bb80ef3-afad-49ad-a9aa-82ef761187e0",
   "metadata": {},
   "outputs": [],
   "source": [
    "# Plot Channel TFR\n",
    "for chix, ch in enumerate(roi_tfr.ch_names):\n",
    "\n",
    "    plot_channel_tfr(roi_tfr, chix, ch, 'Trial Onset')\n",
    "    \n"
   ]
  },
  {
   "cell_type": "markdown",
   "id": "53fdd5e5-2efc-4409-b769-8e1e5720a787",
   "metadata": {
    "tags": []
   },
   "source": [
    "## Export freq data locked to turn around time to csvs"
   ]
  },
  {
   "cell_type": "markdown",
   "id": "9cda7ead-e472-4596-8f68-44f847b96f2b",
   "metadata": {
    "tags": []
   },
   "source": [
    "# OFC"
   ]
  },
  {
   "cell_type": "code",
   "execution_count": null,
   "id": "252bbb49-3458-4f41-b0bf-56f119b4f06c",
   "metadata": {},
   "outputs": [],
   "source": [
    "ofc_list"
   ]
  },
  {
   "cell_type": "code",
   "execution_count": null,
   "id": "d76c37e1-3822-47bc-b63d-3973e7c853ab",
   "metadata": {},
   "outputs": [],
   "source": [
    "# only roi of interest\n",
    "trial_onset_roi = trial_onset_epochs.copy().pick_channels(ofc_list)\n"
   ]
  },
  {
   "cell_type": "code",
   "execution_count": null,
   "id": "013b352f-9bf4-444a-a10e-8ef13542b1fe",
   "metadata": {},
   "outputs": [],
   "source": [
    "# Resample to 1000 \n",
    "if trial_onset_roi.info['sfreq'] > 1000:\n",
    "    trial_onset_roi= trial_onset_roi.resample(1000)"
   ]
  },
  {
   "cell_type": "code",
   "execution_count": null,
   "id": "1daeb368-5a0b-466a-bfae-aba3bcbd6620",
   "metadata": {},
   "outputs": [],
   "source": [
    "# compute TRF\n",
    "\n",
    "roi_tfr = []\n",
    "roi_tfr = compute_TFR(trial_onset_roi,freqs,n_cycles)"
   ]
  },
  {
   "cell_type": "code",
   "execution_count": null,
   "id": "703ab9d3-3469-4606-b0ce-d5f17c27d9ea",
   "metadata": {},
   "outputs": [],
   "source": [
    "roi_tfr.crop(tmin = -1, tmax = 5)\n"
   ]
  },
  {
   "cell_type": "code",
   "execution_count": null,
   "id": "9b459512-35c7-4165-b94e-ad8904790e48",
   "metadata": {},
   "outputs": [],
   "source": [
    "# save TFRs\n",
    "\n",
    "roi_tfr.save(f\"/home/brooke/knight_server/remote/bstavel/pacman/preprocessing/{subject}/ieeg/trial_onset/ofc-tfr.h5\", overwrite = True)"
   ]
  },
  {
   "cell_type": "code",
   "execution_count": null,
   "id": "4eecf1ff-f4f7-4eea-a6e0-92f4b59bae3e",
   "metadata": {},
   "outputs": [],
   "source": [
    "# Log and zscore\n",
    "\n",
    "roi_tfr = log_and_zscore_TFR(roi_tfr, baseline = (-1,5), logflag=True)"
   ]
  },
  {
   "cell_type": "code",
   "execution_count": null,
   "id": "d69b8ce6-ed62-4b94-8b48-fe0b6b8e324b",
   "metadata": {},
   "outputs": [],
   "source": [
    "# Plot TFR\n",
    "plot_average_tfr(roi_tfr, f\"Average OFC TFR at Trial Onset, n={len(ofc_list)}\", subject, 'ofc_trialonset')\n"
   ]
  },
  {
   "cell_type": "markdown",
   "id": "e7d3b462-cf31-47f4-bc10-ca8142a03bce",
   "metadata": {},
   "source": [
    "### Individual Channels"
   ]
  },
  {
   "cell_type": "code",
   "execution_count": null,
   "id": "7eb2dfdf-90c6-4580-8ca9-bb70675a69d9",
   "metadata": {
    "tags": []
   },
   "outputs": [],
   "source": [
    "# Plot Channel TFR\n",
    "for chix, ch in enumerate(roi_tfr.ch_names):\n",
    "\n",
    "    plot_channel_tfr(roi_tfr, chix, ch, 'Trial Onset')"
   ]
  },
  {
   "cell_type": "markdown",
   "id": "95f58545-b3ab-4e5e-8974-59b678a7037b",
   "metadata": {
    "tags": []
   },
   "source": [
    "# Amygdala"
   ]
  },
  {
   "cell_type": "code",
   "execution_count": null,
   "id": "b182f41c-471a-4322-93dd-502b4c24d439",
   "metadata": {},
   "outputs": [],
   "source": [
    "amyg_list"
   ]
  },
  {
   "cell_type": "code",
   "execution_count": null,
   "id": "de7aae76-05fd-426e-ab74-923f51b77f3c",
   "metadata": {},
   "outputs": [],
   "source": [
    "# only roi \n",
    "trial_onset_roi = trial_onset_epochs.copy().pick_channels(amyg_list)\n"
   ]
  },
  {
   "cell_type": "code",
   "execution_count": null,
   "id": "f4f6900b-a7a6-4797-b661-03c527da3f68",
   "metadata": {},
   "outputs": [],
   "source": [
    "# Resample to 1000 \n",
    "if trial_onset_roi.info['sfreq'] > 1000:\n",
    "    trial_onset_roi= trial_onset_roi.resample(1000)"
   ]
  },
  {
   "cell_type": "code",
   "execution_count": null,
   "id": "1c19d7ca-7443-46cf-9388-16957a21c2e8",
   "metadata": {},
   "outputs": [],
   "source": [
    "# compute TRF\n",
    "\n",
    "roi_tfr = []\n",
    "roi_tfr = compute_TFR(trial_onset_roi,freqs,n_cycles)\n"
   ]
  },
  {
   "cell_type": "code",
   "execution_count": null,
   "id": "536d73c7-2b7f-49ba-9038-f7e1e76cee41",
   "metadata": {},
   "outputs": [],
   "source": [
    "roi_tfr.crop(tmin = -1, tmax = 5)\n"
   ]
  },
  {
   "cell_type": "code",
   "execution_count": null,
   "id": "1962771a-5c07-4c7b-a221-ef3c1b248641",
   "metadata": {},
   "outputs": [],
   "source": [
    "# save TFRs\n",
    "\n",
    "roi_tfr.save(f\"/home/brooke/knight_server/remote/bstavel/pacman/preprocessing/{subject}/ieeg/trial_onset/amyg-tfr.h5\", overwrite = True)"
   ]
  },
  {
   "cell_type": "code",
   "execution_count": null,
   "id": "d3d5a018-e993-473d-ae7b-de62f6911f88",
   "metadata": {},
   "outputs": [],
   "source": [
    "# Log and zscore\n",
    "\n",
    "roi_tfr = log_and_zscore_TFR(roi_tfr, baseline = (-1,5), logflag=True)"
   ]
  },
  {
   "cell_type": "code",
   "execution_count": null,
   "id": "c8a0f24c-5fdc-4747-b1a1-b5d4d542564f",
   "metadata": {},
   "outputs": [],
   "source": [
    "# Plot TFR\n",
    "plot_average_tfr(roi_tfr, f\"Average Amygdala TFR at Trial Onset, n={len(amyg_list)}\", subject, 'amyg_trialonset')"
   ]
  },
  {
   "cell_type": "markdown",
   "id": "a01e399c-bc04-4de5-afad-7c77e2e4cfea",
   "metadata": {},
   "source": [
    "### Individual Channels"
   ]
  },
  {
   "cell_type": "code",
   "execution_count": null,
   "id": "5e9dc2ab-4485-4260-a1a4-4638280c46fe",
   "metadata": {},
   "outputs": [],
   "source": [
    "# Plot Channel TFR\n",
    "for chix, ch in enumerate(roi_tfr.ch_names):\n",
    "\n",
    "    plot_channel_tfr(roi_tfr, chix, ch, 'Trial Onset')"
   ]
  },
  {
   "cell_type": "markdown",
   "id": "c6b75852-eae0-46eb-a5bb-da79cac9ad18",
   "metadata": {
    "tags": []
   },
   "source": [
    "## Cingulate"
   ]
  },
  {
   "cell_type": "code",
   "execution_count": null,
   "id": "92508acd-9948-49c5-a5cd-47ee0bf3c417",
   "metadata": {},
   "outputs": [],
   "source": [
    "cing_list"
   ]
  },
  {
   "cell_type": "code",
   "execution_count": null,
   "id": "a078dd7c-2bde-4f04-b14f-5992a07cb284",
   "metadata": {},
   "outputs": [],
   "source": [
    "# only roi \n",
    "trial_onset_roi = trial_onset_epochs.copy().pick_channels(cing_list)\n"
   ]
  },
  {
   "cell_type": "code",
   "execution_count": null,
   "id": "4f70ba0a-722f-4e74-b6a1-9943d40c3747",
   "metadata": {},
   "outputs": [],
   "source": [
    "# Resample to 1000 \n",
    "if trial_onset_roi.info['sfreq'] > 1000:\n",
    "    trial_onset_roi= trial_onset_roi.resample(1000)"
   ]
  },
  {
   "cell_type": "code",
   "execution_count": null,
   "id": "bcdab97c-8708-4113-baad-44695bb5476d",
   "metadata": {},
   "outputs": [],
   "source": [
    "# compute TRF\n",
    "\n",
    "roi_tfr = []\n",
    "roi_tfr = compute_TFR(trial_onset_roi,freqs,n_cycles)\n"
   ]
  },
  {
   "cell_type": "code",
   "execution_count": null,
   "id": "74c8573a-40e7-48e3-bd53-810a9c3bbc68",
   "metadata": {},
   "outputs": [],
   "source": [
    "roi_tfr.crop(tmin = -1, tmax = 5)\n"
   ]
  },
  {
   "cell_type": "code",
   "execution_count": null,
   "id": "15eacf41-e203-4954-ab26-48543dc06caa",
   "metadata": {},
   "outputs": [],
   "source": [
    "# save TFRs\n",
    "\n",
    "roi_tfr.save(f\"/home/brooke/knight_server/remote/bstavel/pacman/preprocessing/{subject}/ieeg/trial_onset/cing-tfr.h5\", overwrite = True)"
   ]
  },
  {
   "cell_type": "code",
   "execution_count": null,
   "id": "f50664a6-725f-40a4-afbc-e6a8c61d4278",
   "metadata": {},
   "outputs": [],
   "source": [
    "# Log and zscore\n",
    "\n",
    "roi_tfr = log_and_zscore_TFR(roi_tfr, baseline = (-1,5), logflag=True)"
   ]
  },
  {
   "cell_type": "code",
   "execution_count": null,
   "id": "24b5a48c-de71-4e1e-89ca-72e588384a57",
   "metadata": {},
   "outputs": [],
   "source": [
    "# Plot TFR\n",
    "plot_average_tfr(roi_tfr, f\"Average Ant. Cingulate TFR at Trial Onset, n={len(cing_list)}\", subject, 'cing_trialonset')"
   ]
  },
  {
   "cell_type": "markdown",
   "id": "60019ff3-acb5-49c2-ab3f-7643fb7c2396",
   "metadata": {},
   "source": [
    "### Individual Channels"
   ]
  },
  {
   "cell_type": "code",
   "execution_count": null,
   "id": "f3b09e5a-822e-4faa-9f1f-b82bedf15f75",
   "metadata": {},
   "outputs": [],
   "source": [
    "# Plot Channel TFR\n",
    "for chix, ch in enumerate(roi_tfr.ch_names):\n",
    "\n",
    "    plot_channel_tfr(roi_tfr, chix, ch, 'Trial Onset')"
   ]
  },
  {
   "cell_type": "markdown",
   "id": "7d20ef33-bde5-4791-81d8-dd08cb365238",
   "metadata": {},
   "source": [
    "# Control Regions"
   ]
  },
  {
   "cell_type": "markdown",
   "id": "21495e34-6407-4cc9-804d-313c1168172f",
   "metadata": {
    "tags": []
   },
   "source": [
    "## Insula"
   ]
  },
  {
   "cell_type": "code",
   "execution_count": null,
   "id": "38740841-aa8b-4913-9eb6-6df8a3a749d9",
   "metadata": {},
   "outputs": [],
   "source": [
    "insula_list"
   ]
  },
  {
   "cell_type": "code",
   "execution_count": null,
   "id": "32f29f2a-789f-4825-9ee8-33a7de17971a",
   "metadata": {},
   "outputs": [],
   "source": [
    "# Only ROI\n",
    "trial_onset_roi = trial_onset_epochs.copy().pick_channels(insula_list)\n"
   ]
  },
  {
   "cell_type": "code",
   "execution_count": null,
   "id": "160301c8-b2ad-4278-851f-c9721c3d3244",
   "metadata": {},
   "outputs": [],
   "source": [
    "# Resample to 1000 \n",
    "if trial_onset_roi.info['sfreq'] > 1000:\n",
    "    trial_onset_roi= trial_onset_roi.resample(1000)"
   ]
  },
  {
   "cell_type": "code",
   "execution_count": null,
   "id": "5db41484-8268-45fe-9cb7-08d3a83b20ca",
   "metadata": {},
   "outputs": [],
   "source": [
    "# compute TRF\n",
    "\n",
    "roi_tfr = []\n",
    "roi_tfr = compute_TFR(trial_onset_roi,freqs,n_cycles)\n"
   ]
  },
  {
   "cell_type": "code",
   "execution_count": null,
   "id": "fe4d6986-c3c3-4540-996d-2202e2c7e0ae",
   "metadata": {},
   "outputs": [],
   "source": [
    "roi_tfr.crop(tmin = -1, tmax = 5)\n"
   ]
  },
  {
   "cell_type": "code",
   "execution_count": null,
   "id": "8de4e195-b16b-42b2-974f-34c9ad6c7eaf",
   "metadata": {},
   "outputs": [],
   "source": [
    "# save TFRs\n",
    "\n",
    "roi_tfr.save(f\"/home/brooke/knight_server/remote/bstavel/pacman/preprocessing/{subject}/ieeg/trial_onset/insula-tfr.h5\", overwrite = True)"
   ]
  },
  {
   "cell_type": "code",
   "execution_count": null,
   "id": "d022b5ae-223f-4911-8506-8ab18c0f2933",
   "metadata": {},
   "outputs": [],
   "source": [
    "# Log and zscore\n",
    "\n",
    "roi_tfr = log_and_zscore_TFR(roi_tfr, baseline = (-1,5), logflag=True)"
   ]
  },
  {
   "cell_type": "code",
   "execution_count": null,
   "id": "c7974df9-0982-4e2f-a5e8-6523adea6fe4",
   "metadata": {},
   "outputs": [],
   "source": [
    "# Plot TFR\n",
    "plot_average_tfr(roi_tfr, f\"Average Insula TFR at Trial Onset, n={len(insula_list)}\", subject, 'insula_trialonset')"
   ]
  },
  {
   "cell_type": "markdown",
   "id": "686d0db5-7514-46e4-9eb0-d77429ab055d",
   "metadata": {},
   "source": [
    "### Individual Channels"
   ]
  },
  {
   "cell_type": "code",
   "execution_count": null,
   "id": "4c70be96-62eb-4d13-a3a5-769f8fc90a14",
   "metadata": {},
   "outputs": [],
   "source": [
    "# Plot Channel TFR\n",
    "for chix, ch in enumerate(roi_tfr.ch_names):\n",
    "\n",
    "    plot_channel_tfr(roi_tfr, chix, ch, 'Trial Onset')"
   ]
  },
  {
   "cell_type": "markdown",
   "id": "891357a0-090b-4499-9040-4ee885f10f5a",
   "metadata": {
    "tags": []
   },
   "source": [
    "## dlPFC"
   ]
  },
  {
   "cell_type": "code",
   "execution_count": null,
   "id": "790858d6-f6fa-4891-a31a-d497b7c25ade",
   "metadata": {},
   "outputs": [],
   "source": [
    "dlpfc_list"
   ]
  },
  {
   "cell_type": "code",
   "execution_count": null,
   "id": "b77c4a72-a586-406a-90e1-ccaa64c7eea5",
   "metadata": {},
   "outputs": [],
   "source": [
    "# Only ROI\n",
    "trial_onset_roi = trial_onset_epochs.copy().pick_channels(dlpfc_list)\n"
   ]
  },
  {
   "cell_type": "code",
   "execution_count": null,
   "id": "4778649b-4f1d-498c-9110-95b26612028e",
   "metadata": {},
   "outputs": [],
   "source": [
    "# Resample to 1000 \n",
    "if trial_onset_roi.info['sfreq'] > 1000:\n",
    "    trial_onset_roi= trial_onset_roi.resample(1000)"
   ]
  },
  {
   "cell_type": "code",
   "execution_count": null,
   "id": "f913f649-cc42-4ef7-95ca-4aa935b7bf5f",
   "metadata": {},
   "outputs": [],
   "source": [
    "# compute TRF\n",
    "\n",
    "roi_tfr = []\n",
    "roi_tfr = compute_TFR(trial_onset_roi,freqs,n_cycles)"
   ]
  },
  {
   "cell_type": "code",
   "execution_count": null,
   "id": "94ce06b3-467d-4eff-9b66-b8315feba91c",
   "metadata": {},
   "outputs": [],
   "source": [
    "roi_tfr.crop(tmin = -1, tmax = 5)\n"
   ]
  },
  {
   "cell_type": "code",
   "execution_count": null,
   "id": "315f2fbc-7065-415b-9a68-f0513721a760",
   "metadata": {},
   "outputs": [],
   "source": [
    "# save TFRs\n",
    "\n",
    "roi_tfr.save(f\"/home/brooke/knight_server/remote/bstavel/pacman/preprocessing/{subject}/ieeg/trial_onset/dlpfc-tfr.h5\", overwrite = True)"
   ]
  },
  {
   "cell_type": "code",
   "execution_count": null,
   "id": "3dc540d6-52bb-4b1f-a460-7b975d8f14d8",
   "metadata": {},
   "outputs": [],
   "source": [
    "# Log and zscore\n",
    "\n",
    "roi_tfr = log_and_zscore_TFR(roi_tfr, baseline = (-1,5), logflag=True)"
   ]
  },
  {
   "cell_type": "code",
   "execution_count": null,
   "id": "7126134b-44ad-4d15-b603-fdfa864d8b0e",
   "metadata": {},
   "outputs": [],
   "source": [
    "# Plot TFR\n",
    "plot_average_tfr(roi_tfr, f\"Average dlPFC TFR at Trial Onset, n={len(dlpfc_list)}\", subject, 'dlpfc_trialonset')"
   ]
  },
  {
   "cell_type": "markdown",
   "id": "42bf26c4-1a79-4b22-890d-aeb943620a6b",
   "metadata": {},
   "source": [
    "### Individual Channels"
   ]
  },
  {
   "cell_type": "code",
   "execution_count": null,
   "id": "4a240192-2c7d-4ebb-a77c-1c733ef39a33",
   "metadata": {},
   "outputs": [],
   "source": [
    "# Plot Channel TFR\n",
    "for chix, ch in enumerate(roi_tfr.ch_names):\n",
    "\n",
    "    plot_channel_tfr(roi_tfr, chix, ch, 'Trial Onset')"
   ]
  },
  {
   "cell_type": "markdown",
   "metadata": {},
   "source": [
    "## MFG"
   ]
  },
  {
   "cell_type": "code",
   "execution_count": null,
   "metadata": {},
   "outputs": [],
   "source": [
    "mfg_list"
   ]
  },
  {
   "cell_type": "code",
   "execution_count": null,
   "metadata": {},
   "outputs": [],
   "source": [
    "# Plot TFR\n",
    "tmp_tfr = roi_tfr.copy().pick_channels(mfg_list)\n",
    "plot_average_tfr(tmp_tfr, f\"Average MFG TFR at Trial Onset, n={len(mfg_list)}\", subject, 'mfg_trialonset')"
   ]
  },
  {
   "cell_type": "markdown",
   "metadata": {},
   "source": [
    "### Individual Channels"
   ]
  },
  {
   "cell_type": "code",
   "execution_count": null,
   "metadata": {},
   "outputs": [],
   "source": [
    "plt.rcParams['figure.figsize'] = [15, 11]\n",
    "\n",
    "for ch in mfg_list:\n",
    "    chix = dlpfc_list.index(ch)\n",
    "    plot_channel_tfr(roi_tfr, chix, ch, 'Trial Onset')\n",
    "    "
   ]
  },
  {
   "cell_type": "markdown",
   "metadata": {},
   "source": [
    "## SFG"
   ]
  },
  {
   "cell_type": "code",
   "execution_count": null,
   "metadata": {},
   "outputs": [],
   "source": [
    "sfg_list"
   ]
  },
  {
   "cell_type": "code",
   "execution_count": null,
   "metadata": {},
   "outputs": [],
   "source": [
    "# Plot TFR\n",
    "tmp_tfr = roi_tfr.copy().pick_channels(sfg_list)\n",
    "plot_average_tfr(tmp_tfr, f\"Average SFG TFR at Trial Onset, n={len(sfg_list)}\", subject, 'sfg_trialonset')"
   ]
  },
  {
   "cell_type": "markdown",
   "metadata": {},
   "source": [
    "### Individual Channels"
   ]
  },
  {
   "cell_type": "code",
   "execution_count": null,
   "metadata": {},
   "outputs": [],
   "source": [
    "plt.rcParams['figure.figsize'] = [15, 11]\n",
    "\n",
    "for ch in sfg_list:\n",
    "    chix = dlpfc_list.index(ch)\n",
    "    plot_channel_tfr(roi_tfr, chix, ch, 'Trial Onset')"
   ]
  },
  {
   "cell_type": "markdown",
   "id": "1b51ea5d-d2c8-429d-8fd8-899ff472f05c",
   "metadata": {
    "tags": []
   },
   "source": [
    "## Entorhinal Cortex"
   ]
  },
  {
   "cell_type": "code",
   "execution_count": null,
   "id": "c4af203a-73a8-430f-81c2-838974bb5461",
   "metadata": {},
   "outputs": [],
   "source": [
    "ec_list"
   ]
  },
  {
   "cell_type": "code",
   "execution_count": null,
   "id": "468aae76-5ee4-48fe-9976-ee007b8b41f9",
   "metadata": {},
   "outputs": [],
   "source": [
    "# Only ROI\n",
    "trial_onset_roi = trial_onset_epochs.copy().pick_channels(ec_list)"
   ]
  },
  {
   "cell_type": "code",
   "execution_count": null,
   "id": "f17d1b4e-0951-44c0-953c-c977d702252b",
   "metadata": {},
   "outputs": [],
   "source": [
    "# Resample to 1000 \n",
    "if trial_onset_roi.info['sfreq'] > 1000:\n",
    "    trial_onset_roi= trial_onset_roi.resample(1000)"
   ]
  },
  {
   "cell_type": "code",
   "execution_count": null,
   "id": "de3e53fc-bf9c-4329-baa8-6bdc093a775c",
   "metadata": {},
   "outputs": [],
   "source": [
    "# compute TRF\n",
    "\n",
    "roi_tfr = []\n",
    "roi_tfr = compute_TFR(trial_onset_roi,freqs,n_cycles)"
   ]
  },
  {
   "cell_type": "code",
   "execution_count": null,
   "id": "2727527e-0b9a-4b62-8546-81ec22cc28e0",
   "metadata": {},
   "outputs": [],
   "source": [
    "roi_tfr.crop(tmin = -1, tmax = 5)"
   ]
  },
  {
   "cell_type": "code",
   "execution_count": null,
   "id": "659cb1dc-3da3-419b-9cdd-0e6eb934bf6a",
   "metadata": {},
   "outputs": [],
   "source": [
    "# save TFRs\n",
    "\n",
    "roi_tfr.save(f\"/home/brooke/knight_server/remote/bstavel/pacman/preprocessing/{subject}/ieeg/trial_onset/ec-tfr.h5\", overwrite = True)"
   ]
  },
  {
   "cell_type": "code",
   "execution_count": null,
   "id": "adc49615-ec0b-4f74-bb57-b862bc6d4579",
   "metadata": {},
   "outputs": [],
   "source": [
    "# Log and zscore\n",
    "\n",
    "roi_tfr = log_and_zscore_TFR(roi_tfr, baseline = (-1,5), logflag=True)"
   ]
  },
  {
   "cell_type": "code",
   "execution_count": null,
   "id": "bdd8e3f9-51e0-4026-9119-d42e4abf7675",
   "metadata": {},
   "outputs": [],
   "source": [
    "# Plot TFR\n",
    "plot_average_tfr(roi_tfr, f\"Average Entorhinal TFR at Trial Onset, n={len(ec_list)}\", subject, 'ec_trialonset')"
   ]
  },
  {
   "cell_type": "markdown",
   "id": "d5fce125-6fdf-44fc-889c-38ab175780db",
   "metadata": {},
   "source": [
    "### Individual Channels"
   ]
  },
  {
   "cell_type": "code",
   "execution_count": null,
   "id": "0e355011-1c86-4745-9109-c08f4cf37b63",
   "metadata": {},
   "outputs": [],
   "source": [
    "# Plot Channel TFR\n",
    "for chix, ch in enumerate(roi_tfr.ch_names):\n",
    "\n",
    "    plot_channel_tfr(roi_tfr, chix, ch, 'Trial Onset')"
   ]
  }
 ],
 "metadata": {
  "kernelspec": {
   "display_name": "ieeg_analysis2",
   "language": "python",
   "name": "python3"
  },
  "language_info": {
   "codemirror_mode": {
    "name": "ipython",
    "version": 3
   },
   "file_extension": ".py",
   "mimetype": "text/x-python",
   "name": "python",
   "nbconvert_exporter": "python",
   "pygments_lexer": "ipython3",
   "version": "3.9.18"
  }
 },
 "nbformat": 4,
 "nbformat_minor": 5
}

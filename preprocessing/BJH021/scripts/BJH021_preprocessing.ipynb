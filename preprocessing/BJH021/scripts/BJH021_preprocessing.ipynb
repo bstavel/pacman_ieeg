{
 "cells": [
  {
   "cell_type": "markdown",
   "id": "e184b24e-e064-48aa-b1eb-bd922a301171",
   "metadata": {},
   "source": [
    "# Preprocessing: BJH021\n",
    "\n",
    "\n",
    "This markdown files loads the clean data and does a bipolar rereference as well as epochs the data\n"
   ]
  },
  {
   "cell_type": "code",
   "execution_count": 1,
   "id": "eb1fb0a1-89e5-48fc-9752-7462a522f009",
   "metadata": {},
   "outputs": [],
   "source": [
    "import matplotlib\n",
    "matplotlib.use(\"Qt5Agg\")\n",
    "import matplotlib.pyplot as plt\n",
    "import pandas as pd\n",
    "import numpy as np\n",
    "from scipy import signal, stats\n",
    "import mat73\n",
    "import re\n",
    "from neurodsp.timefrequency import compute_wavelet_transform\n",
    "from BCI2kReader import BCI2kReader as b2k\n",
    "import os\n",
    "import mne\n",
    "from tabulate import tabulate\n",
    "import IPython\n",
    "import seaborn as sns"
   ]
  },
  {
   "cell_type": "code",
   "execution_count": 13,
   "id": "44c40205-8069-4a2c-9c42-1e0d938fead6",
   "metadata": {},
   "outputs": [],
   "source": [
    "%matplotlib qt5"
   ]
  },
  {
   "cell_type": "code",
   "execution_count": 2,
   "id": "1f61d095-fbbd-42f5-b6ce-9b5139043844",
   "metadata": {},
   "outputs": [],
   "source": [
    "## Prep paths ##\n",
    "\n",
    "subject = 'BJH021'\n",
    "raw_data_dir = f\"/home/brooke/pacman/raw_data/{subject}\"\n",
    "preproc_data_dir = f\"/home/brooke/pacman/preprocessing/{subject}/ieeg\""
   ]
  },
  {
   "cell_type": "code",
   "execution_count": 4,
   "id": "972ebb6c-af1a-4496-9463-9bd80c787ab2",
   "metadata": {},
   "outputs": [
    {
     "name": "stdout",
     "output_type": "stream",
     "text": [
      "Opening raw data file /home/brooke/pacman/raw_data/BJH021/ieeg/BJH021_notched_filtered_clean_ieeg.fif...\n",
      "    Range : 0 ... 2085999 =      0.000 ...  1042.999 secs\n",
      "Ready.\n",
      "Opening raw data file /home/brooke/pacman/raw_data/BJH021/ieeg/BJH021_notched_filtered_clean_ieeg-1.fif...\n",
      "    Range : 2086000 ... 3156499 =   1043.000 ...  1578.249 secs\n",
      "Ready.\n",
      "Opening raw data file /home/brooke/pacman/raw_data/BJH021/ieeg/BJH021_raw_clean_ieeg.fif...\n",
      "    Range : 0 ... 2085999 =      0.000 ...  1042.999 secs\n",
      "Ready.\n",
      "Opening raw data file /home/brooke/pacman/raw_data/BJH021/ieeg/BJH021_raw_clean_ieeg-1.fif...\n",
      "    Range : 2086000 ... 3156499 =   1043.000 ...  1578.249 secs\n",
      "Ready.\n"
     ]
    }
   ],
   "source": [
    "## Load Data ##\n",
    "\n",
    "# load filtered data #\n",
    "filtered_clean_fif = mne.io.Raw(f\"{raw_data_dir}/ieeg/{subject}_notched_filtered_clean_ieeg.fif\")\n",
    "\n",
    "# load raw data #\n",
    "raw_clean_fif = mne.io.Raw(f\"{raw_data_dir}/ieeg/{subject}_raw_clean_ieeg.fif\")\n",
    "\n"
   ]
  },
  {
   "cell_type": "markdown",
   "id": "cf6e23d4-6b9f-41fb-96f6-439b7c2c4b73",
   "metadata": {},
   "source": [
    "## Bipolar Rereferencing"
   ]
  },
  {
   "cell_type": "code",
   "execution_count": 5,
   "id": "b4e0117a-cb43-4f6c-bfd9-27a1a8a97887",
   "metadata": {},
   "outputs": [
    {
     "data": {
      "text/html": [
       "<table class=\"table table-hover table-striped table-sm table-responsive small\">\n",
       "    <tr>\n",
       "        <th>Measurement date</th>\n",
       "        \n",
       "        <td>Unknown</td>\n",
       "        \n",
       "    </tr>\n",
       "    <tr>\n",
       "        <th>Experimenter</th>\n",
       "        \n",
       "        <td>Unknown</td>\n",
       "        \n",
       "    </tr>\n",
       "        <th>Participant</th>\n",
       "        \n",
       "        <td>Unknown</td>\n",
       "        \n",
       "    </tr>\n",
       "    <tr>\n",
       "        <th>Digitized points</th>\n",
       "        \n",
       "        <td>0 points</td>\n",
       "        \n",
       "    </tr>\n",
       "    <tr>\n",
       "        <th>Good channels</th>\n",
       "        <td>256 sEEG, 1 Stimulus</td>\n",
       "    </tr>\n",
       "    <tr>\n",
       "        <th>Bad channels</th>\n",
       "        <td>REF1, REF2, EMPTY, EMPTY_230, EMPTY_231, EKG1, EKG2, B2, B1, C1, C2, C3, C4, E8, O1, EMPTY, EMPTY_230, EMPTY_231, fp1, f3, c3, p3, o1, fp2, f4, c4, p4, o2, f7, t7, p7, f8, t8, p8, f9, f10, fpz, fz, cz, pz, oz, EKG1, EKG2</td>\n",
       "    </tr>\n",
       "    <tr>\n",
       "        <th>EOG channels</th>\n",
       "        <td>Not available</td>\n",
       "    </tr>\n",
       "    <tr>\n",
       "        <th>ECG channels</th>\n",
       "        <td>Not available</td>\n",
       "    \n",
       "    <tr>\n",
       "        <th>Sampling frequency</th>\n",
       "        <td>2000.00 Hz</td>\n",
       "    </tr>\n",
       "    \n",
       "    \n",
       "    <tr>\n",
       "        <th>Highpass</th>\n",
       "        <td>1.00 Hz</td>\n",
       "    </tr>\n",
       "    \n",
       "    \n",
       "    <tr>\n",
       "        <th>Lowpass</th>\n",
       "        <td>150.00 Hz</td>\n",
       "    </tr>\n",
       "    \n",
       "    \n",
       "    \n",
       "    <tr>\n",
       "        <th>Filenames</th>\n",
       "        <td>BJH021_notched_filtered_clean_ieeg.fif&lt;br&gt;BJH021_notched_filtered_clean_ieeg-1.fif</td>\n",
       "    </tr>\n",
       "    \n",
       "    <tr>\n",
       "        <th>Duration</th>\n",
       "        <td>00:26:18 (HH:MM:SS)</td>\n",
       "    </tr>\n",
       "</table>"
      ],
      "text/plain": [
       "<Raw | BJH021_notched_filtered_clean_ieeg.fif, 257 x 3156500 (1578.2 s), ~258 kB, data not loaded>"
      ]
     },
     "execution_count": 5,
     "metadata": {},
     "output_type": "execute_result"
    }
   ],
   "source": [
    "filtered_clean_fif"
   ]
  },
  {
   "cell_type": "code",
   "execution_count": 6,
   "id": "89283381-23c0-4ebd-be48-cb19cb802f64",
   "metadata": {},
   "outputs": [],
   "source": [
    "# helper functions\n",
    "\n",
    "def probe_and_num(elec_str): \n",
    "    ''' This convenience function takes an electrode string like LHH1 and outputs ('LHH', 1)\n",
    "    '''\n",
    "    if '_' in elec_str:\n",
    "        return None, None\n",
    "    else:   \n",
    "        regex_str = '(\\D+)(\\d+)' # group of letters followed by group of digits\n",
    "        matcher = re.compile(regex_str,re.IGNORECASE|re.DOTALL).search(elec_str)\n",
    "        if matcher:\n",
    "            probe, num = matcher.groups()\n",
    "            return probe, int(num)\n",
    "        else:\n",
    "            return None, None\n",
    "    \n",
    "def find_bipolar_pair(ch, labels, remove):\n",
    "    ''' Find the pair of a given electrode for bipolar referencing.\n",
    "        Given a single *ch* and a list of *labels*, some of which you want to *remove*,\n",
    "        this finds the next channel on that probe that isn't meant to be removed (WM is ok).\n",
    "    '''\n",
    "    bipolar_pair = None\n",
    "    probe, num = probe_and_num(ch)\n",
    "    other_in_probe = [other_ch for other_ch in labels if probe_and_num(other_ch)[0]==probe]\n",
    "    for i in range(len(other_in_probe)-num):\n",
    "        next_ch = probe + str(num+i+1)\n",
    "        if next_ch in remove or next_ch == 'STI':\n",
    "            continue\n",
    "        else:\n",
    "            bipolar_pair = next_ch\n",
    "            break\n",
    "    return bipolar_pair"
   ]
  },
  {
   "cell_type": "code",
   "execution_count": 7,
   "id": "eb30e39a-48e9-45c1-a063-6f94f7559792",
   "metadata": {
    "tags": []
   },
   "outputs": [
    {
     "name": "stdout",
     "output_type": "stream",
     "text": [
      "A1 A2\n",
      "A2 A3\n",
      "A3 A4\n",
      "A4 A5\n",
      "REF1 noref\n",
      "REF2 noref\n",
      "A5 A6\n",
      "A6 A7\n",
      "A7 A8\n",
      "A8 A9\n",
      "A9 A10\n",
      "A10 A11\n",
      "A11 A12\n",
      "A12 A13\n",
      "A13 A14\n",
      "A14 A15\n",
      "A15 A16\n",
      "B1 noref\n",
      "B2 noref\n",
      "B3 B4\n",
      "B4 B5\n",
      "B5 B6\n",
      "B6 B7\n",
      "B7 B8\n",
      "B8 B9\n",
      "B9 B10\n",
      "B10 B11\n",
      "B11 B12\n",
      "B12 B13\n",
      "B13 B14\n",
      "C1 noref\n",
      "C2 noref\n",
      "C3 noref\n",
      "C4 noref\n",
      "C5 C6\n",
      "C6 C7\n",
      "C7 C8\n",
      "C8 C9\n",
      "C9 C10\n",
      "C10 C11\n",
      "C11 C12\n",
      "C12 C13\n",
      "C13 C14\n",
      "D1 D2\n",
      "D2 D3\n",
      "D3 D4\n",
      "D4 D5\n",
      "D5 D6\n",
      "D6 D7\n",
      "D7 D8\n",
      "D8 D9\n",
      "D9 D10\n",
      "D10 D11\n",
      "D11 D12\n",
      "D12 D13\n",
      "D13 D14\n",
      "E1 E2\n",
      "E2 E3\n",
      "E3 E4\n",
      "E4 E5\n",
      "E5 E6\n",
      "E6 E7\n",
      "E7 E9\n",
      "E8 noref\n",
      "E9 E10\n",
      "F1 F2\n",
      "F2 F3\n",
      "F3 F4\n",
      "F4 F5\n",
      "F5 F6\n",
      "F6 F7\n",
      "F7 F8\n",
      "F8 F9\n",
      "F9 F10\n",
      "F10 F11\n",
      "F11 F12\n",
      "G1 G2\n",
      "G2 G3\n",
      "G3 G4\n",
      "G4 G5\n",
      "G5 G6\n",
      "G6 G7\n",
      "G7 G8\n",
      "G8 G9\n",
      "G9 G10\n",
      "G10 G11\n",
      "G11 G12\n",
      "G12 G13\n",
      "G13 G14\n",
      "H1 H2\n",
      "H2 H3\n",
      "H3 H4\n",
      "H4 H5\n",
      "H5 H6\n",
      "H6 H7\n",
      "H7 H8\n",
      "H8 H9\n",
      "H9 H10\n",
      "H10 H11\n",
      "H11 H12\n",
      "H12 H13\n",
      "H13 H14\n",
      "H14 H15\n",
      "H15 H16\n",
      "I1 I2\n",
      "I2 I3\n",
      "I3 I4\n",
      "I4 I5\n",
      "I5 I6\n",
      "I6 I7\n",
      "I7 I8\n",
      "I8 I9\n",
      "I9 I10\n",
      "I10 I11\n",
      "I11 I12\n",
      "J1 J2\n",
      "J2 J3\n",
      "J3 J4\n",
      "J4 J5\n",
      "J5 J6\n",
      "J6 J7\n",
      "J7 J8\n",
      "J8 J9\n",
      "J9 J10\n",
      "J10 J11\n",
      "J11 J12\n",
      "J12 J13\n",
      "J13 J14\n",
      "K1 K2\n",
      "K2 K3\n",
      "K3 K4\n",
      "K4 K5\n",
      "K5 K6\n",
      "K6 K7\n",
      "K7 K8\n",
      "K8 K9\n",
      "K9 K10\n",
      "K10 K11\n",
      "K11 K12\n",
      "K12 K13\n",
      "K13 K14\n",
      "K14 K15\n",
      "K15 K16\n",
      "L1 L2\n",
      "L2 L3\n",
      "L3 L4\n",
      "L4 L5\n",
      "L5 L6\n",
      "L6 L7\n",
      "L7 L8\n",
      "L8 L9\n",
      "L9 L10\n",
      "L10 L11\n",
      "L11 L12\n",
      "L12 L13\n",
      "L13 L14\n",
      "M1 M2\n",
      "M2 M3\n",
      "M3 M4\n",
      "M4 M5\n",
      "M5 M6\n",
      "M6 M7\n",
      "M7 M8\n",
      "M8 M9\n",
      "M9 M10\n",
      "M10 M11\n",
      "M11 M12\n",
      "M12 M13\n",
      "M13 M14\n",
      "M14 M15\n",
      "M15 M16\n",
      "N1 N2\n",
      "N2 N3\n",
      "N3 N4\n",
      "N4 N5\n",
      "N5 N6\n",
      "N6 N7\n",
      "N7 N8\n",
      "N8 N9\n",
      "N9 N10\n",
      "N10 N11\n",
      "N11 N12\n",
      "N12 N13\n",
      "N13 N14\n",
      "N14 N15\n",
      "N15 N16\n",
      "O1 noref\n",
      "O2 O3\n",
      "O3 O4\n",
      "O4 O5\n",
      "O5 O6\n",
      "O6 O7\n",
      "O7 O8\n",
      "O8 O9\n",
      "O9 O10\n",
      "O10 O11\n",
      "O11 O12\n",
      "O12 O13\n",
      "O13 O14\n",
      "O14 O15\n",
      "O15 O16\n",
      "P1 P2\n",
      "P2 P3\n",
      "P3 P4\n",
      "P4 P5\n",
      "P5 P6\n",
      "P6 P7\n",
      "P7 P8\n",
      "P8 P9\n",
      "P9 P10\n",
      "P10 P11\n",
      "P11 P12\n",
      "EMPTY noref\n",
      "EMPTY_230 noref\n",
      "EMPTY_231 noref\n",
      "fp1 noref\n",
      "f3 noref\n",
      "c3 noref\n",
      "p3 noref\n",
      "o1 noref\n",
      "fp2 noref\n",
      "f4 noref\n",
      "c4 noref\n",
      "p4 noref\n",
      "o2 noref\n",
      "f7 noref\n",
      "t7 noref\n",
      "p7 noref\n",
      "f8 noref\n",
      "t8 noref\n",
      "p8 noref\n",
      "f9 noref\n",
      "f10 noref\n",
      "fpz noref\n",
      "fz noref\n",
      "cz noref\n",
      "pz noref\n",
      "oz noref\n",
      "EKG1 noref\n",
      "EKG2 noref\n",
      "STI noref\n"
     ]
    }
   ],
   "source": [
    "# Here I iterate through the electrodes in my ROIs and match them up with their bipolar pair\n",
    "pairs = []\n",
    "anode = []\n",
    "cathode = []\n",
    "pairs_name = []\n",
    "pairs_map = {}\n",
    "remove = filtered_clean_fif.info['bads']\n",
    "labels = filtered_clean_fif.info['ch_names']\n",
    "for ch in labels:\n",
    "    # if a channel is meant to be removed, it doesn't get to be in a bipolar pair\n",
    "    if ch in remove or ch == 'STI':\n",
    "        print(f\"{ch} noref\")\n",
    "    else:\n",
    "        pair = find_bipolar_pair(ch, labels, remove)\n",
    "        if pair:\n",
    "            anode.append(ch)\n",
    "            cathode.append(pair)\n",
    "            pairs.append((ch, pair))\n",
    "            pairs_map[ch] = f\"{ch}-{pair}\"\n",
    "            pairs_name.append(f\"{ch}-{pair}\")\n",
    "            print(ch, pair)"
   ]
  },
  {
   "cell_type": "code",
   "execution_count": 8,
   "id": "0143c18b-b730-443c-9365-e8dff955410a",
   "metadata": {},
   "outputs": [
    {
     "name": "stdout",
     "output_type": "stream",
     "text": [
      "Reading 0 ... 3156499  =      0.000 ...  1578.249 secs...\n",
      "sEEG channel type selected for re-referencing\n",
      "Creating RawArray with float64 data, n_channels=202, n_times=3156500\n",
      "    Range : 0 ... 3156499 =      0.000 ...  1578.249 secs\n",
      "Ready.\n",
      "Added the following bipolar channels:\n",
      "A1-A2, A2-A3, A3-A4, A4-A5, A5-A6, A6-A7, A7-A8, A8-A9, A9-A10, A10-A11, A11-A12, A12-A13, A13-A14, A14-A15, A15-A16, B3-B4, B4-B5, B5-B6, B6-B7, B7-B8, B8-B9, B9-B10, B10-B11, B11-B12, B12-B13, B13-B14, C5-C6, C6-C7, C7-C8, C8-C9, C9-C10, C10-C11, C11-C12, C12-C13, C13-C14, D1-D2, D2-D3, D3-D4, D4-D5, D5-D6, D6-D7, D7-D8, D8-D9, D9-D10, D10-D11, D11-D12, D12-D13, D13-D14, E1-E2, E2-E3, E3-E4, E4-E5, E5-E6, E6-E7, E7-E9, E9-E10, F1-F2, F2-F3, F3-F4, F4-F5, F5-F6, F6-F7, F7-F8, F8-F9, F9-F10, F10-F11, F11-F12, G1-G2, G2-G3, G3-G4, G4-G5, G5-G6, G6-G7, G7-G8, G8-G9, G9-G10, G10-G11, G11-G12, G12-G13, G13-G14, H1-H2, H2-H3, H3-H4, H4-H5, H5-H6, H6-H7, H7-H8, H8-H9, H9-H10, H10-H11, H11-H12, H12-H13, H13-H14, H14-H15, H15-H16, I1-I2, I2-I3, I3-I4, I4-I5, I5-I6, I6-I7, I7-I8, I8-I9, I9-I10, I10-I11, I11-I12, J1-J2, J2-J3, J3-J4, J4-J5, J5-J6, J6-J7, J7-J8, J8-J9, J9-J10, J10-J11, J11-J12, J12-J13, J13-J14, K1-K2, K2-K3, K3-K4, K4-K5, K5-K6, K6-K7, K7-K8, K8-K9, K9-K10, K10-K11, K11-K12, K12-K13, K13-K14, K14-K15, K15-K16, L1-L2, L2-L3, L3-L4, L4-L5, L5-L6, L6-L7, L7-L8, L8-L9, L9-L10, L10-L11, L11-L12, L12-L13, L13-L14, M1-M2, M2-M3, M3-M4, M4-M5, M5-M6, M6-M7, M7-M8, M8-M9, M9-M10, M10-M11, M11-M12, M12-M13, M13-M14, M14-M15, M15-M16, N1-N2, N2-N3, N3-N4, N4-N5, N5-N6, N6-N7, N7-N8, N8-N9, N9-N10, N10-N11, N11-N12, N12-N13, N13-N14, N14-N15, N15-N16, O2-O3, O3-O4, O4-O5, O5-O6, O6-O7, O7-O8, O8-O9, O9-O10, O10-O11, O11-O12, O12-O13, O13-O14, O14-O15, O15-O16, P1-P2, P2-P3, P3-P4, P4-P5, P5-P6, P6-P7, P7-P8, P8-P9, P9-P10, P10-P11, P11-P12\n",
      "Writing /home/brooke/pacman/preprocessing/BJH021/ieeg/BJH021_bp_filtered_clean_data.fif\n"
     ]
    },
    {
     "name": "stderr",
     "output_type": "stream",
     "text": [
      "/tmp/ipykernel_3788/1336304392.py:12: RuntimeWarning: This filename (/home/brooke/pacman/preprocessing/BJH021/ieeg/BJH021_bp_filtered_clean_data.fif) does not conform to MNE naming conventions. All raw files should end with raw.fif, raw_sss.fif, raw_tsss.fif, _meg.fif, _eeg.fif, _ieeg.fif, raw.fif.gz, raw_sss.fif.gz, raw_tsss.fif.gz, _meg.fif.gz, _eeg.fif.gz or _ieeg.fif.gz\n",
      "  bp_filt_fif.save(f\"{preproc_data_dir}/{subject}_bp_filtered_clean_data.fif\", overwrite = True)\n"
     ]
    },
    {
     "name": "stdout",
     "output_type": "stream",
     "text": [
      "Overwriting existing file.\n",
      "Writing /home/brooke/pacman/preprocessing/BJH021/ieeg/BJH021_bp_filtered_clean_data-1.fif\n",
      "Closing /home/brooke/pacman/preprocessing/BJH021/ieeg/BJH021_bp_filtered_clean_data-1.fif\n",
      "Closing /home/brooke/pacman/preprocessing/BJH021/ieeg/BJH021_bp_filtered_clean_data.fif\n",
      "[done]\n",
      "Reading 0 ... 3156499  =      0.000 ...  1578.249 secs...\n",
      "sEEG channel type selected for re-referencing\n",
      "Creating RawArray with float64 data, n_channels=202, n_times=3156500\n",
      "    Range : 0 ... 3156499 =      0.000 ...  1578.249 secs\n",
      "Ready.\n",
      "Added the following bipolar channels:\n",
      "A1-A2, A2-A3, A3-A4, A4-A5, A5-A6, A6-A7, A7-A8, A8-A9, A9-A10, A10-A11, A11-A12, A12-A13, A13-A14, A14-A15, A15-A16, B3-B4, B4-B5, B5-B6, B6-B7, B7-B8, B8-B9, B9-B10, B10-B11, B11-B12, B12-B13, B13-B14, C5-C6, C6-C7, C7-C8, C8-C9, C9-C10, C10-C11, C11-C12, C12-C13, C13-C14, D1-D2, D2-D3, D3-D4, D4-D5, D5-D6, D6-D7, D7-D8, D8-D9, D9-D10, D10-D11, D11-D12, D12-D13, D13-D14, E1-E2, E2-E3, E3-E4, E4-E5, E5-E6, E6-E7, E7-E9, E9-E10, F1-F2, F2-F3, F3-F4, F4-F5, F5-F6, F6-F7, F7-F8, F8-F9, F9-F10, F10-F11, F11-F12, G1-G2, G2-G3, G3-G4, G4-G5, G5-G6, G6-G7, G7-G8, G8-G9, G9-G10, G10-G11, G11-G12, G12-G13, G13-G14, H1-H2, H2-H3, H3-H4, H4-H5, H5-H6, H6-H7, H7-H8, H8-H9, H9-H10, H10-H11, H11-H12, H12-H13, H13-H14, H14-H15, H15-H16, I1-I2, I2-I3, I3-I4, I4-I5, I5-I6, I6-I7, I7-I8, I8-I9, I9-I10, I10-I11, I11-I12, J1-J2, J2-J3, J3-J4, J4-J5, J5-J6, J6-J7, J7-J8, J8-J9, J9-J10, J10-J11, J11-J12, J12-J13, J13-J14, K1-K2, K2-K3, K3-K4, K4-K5, K5-K6, K6-K7, K7-K8, K8-K9, K9-K10, K10-K11, K11-K12, K12-K13, K13-K14, K14-K15, K15-K16, L1-L2, L2-L3, L3-L4, L4-L5, L5-L6, L6-L7, L7-L8, L8-L9, L9-L10, L10-L11, L11-L12, L12-L13, L13-L14, M1-M2, M2-M3, M3-M4, M4-M5, M5-M6, M6-M7, M7-M8, M8-M9, M9-M10, M10-M11, M11-M12, M12-M13, M13-M14, M14-M15, M15-M16, N1-N2, N2-N3, N3-N4, N4-N5, N5-N6, N6-N7, N7-N8, N8-N9, N9-N10, N10-N11, N11-N12, N12-N13, N13-N14, N14-N15, N15-N16, O2-O3, O3-O4, O4-O5, O5-O6, O6-O7, O7-O8, O8-O9, O9-O10, O10-O11, O11-O12, O12-O13, O13-O14, O14-O15, O15-O16, P1-P2, P2-P3, P3-P4, P4-P5, P5-P6, P6-P7, P7-P8, P8-P9, P9-P10, P10-P11, P11-P12\n",
      "Writing /home/brooke/pacman/preprocessing/BJH021/ieeg/BJH021_bp_raw_clean_data.fif\n"
     ]
    },
    {
     "name": "stderr",
     "output_type": "stream",
     "text": [
      "/tmp/ipykernel_3788/1336304392.py:25: RuntimeWarning: This filename (/home/brooke/pacman/preprocessing/BJH021/ieeg/BJH021_bp_raw_clean_data.fif) does not conform to MNE naming conventions. All raw files should end with raw.fif, raw_sss.fif, raw_tsss.fif, _meg.fif, _eeg.fif, _ieeg.fif, raw.fif.gz, raw_sss.fif.gz, raw_tsss.fif.gz, _meg.fif.gz, _eeg.fif.gz or _ieeg.fif.gz\n",
      "  bp_raw_fif.save(f\"{preproc_data_dir}/{subject}_bp_raw_clean_data.fif\", overwrite = True)\n"
     ]
    },
    {
     "name": "stdout",
     "output_type": "stream",
     "text": [
      "Overwriting existing file.\n",
      "Writing /home/brooke/pacman/preprocessing/BJH021/ieeg/BJH021_bp_raw_clean_data-1.fif\n",
      "Closing /home/brooke/pacman/preprocessing/BJH021/ieeg/BJH021_bp_raw_clean_data-1.fif\n",
      "Closing /home/brooke/pacman/preprocessing/BJH021/ieeg/BJH021_bp_raw_clean_data.fif\n",
      "[done]\n"
     ]
    }
   ],
   "source": [
    "## Apply Rereference #\n",
    "\n",
    "if filtered_clean_fif.info['ch_names'] == raw_clean_fif.info['ch_names'] and filtered_clean_fif.info['bads'] == raw_clean_fif.info['bads']:\n",
    "    \n",
    "    # load filtered data\n",
    "    filtered_clean_fif.load_data()\n",
    "    \n",
    "    # set filtered reference \n",
    "    bp_filt_fif = mne.set_bipolar_reference(filtered_clean_fif, anode = anode, cathode = cathode)\n",
    "    \n",
    "    # save\n",
    "    bp_filt_fif.save(f\"{preproc_data_dir}/{subject}_bp_filtered_clean_data.fif\", overwrite = True)\n",
    "    \n",
    "    # clear var\n",
    "    bp_filt_fif = []\n",
    "    filtered_clean_fif = []\n",
    "    \n",
    "    # load raw data\n",
    "    raw_clean_fif.load_data()\n",
    "    \n",
    "    # set raw reference \n",
    "    bp_raw_fif = mne.set_bipolar_reference(raw_clean_fif, anode = anode, cathode = cathode)\n",
    "    \n",
    "    # save\n",
    "    bp_raw_fif.save(f\"{preproc_data_dir}/{subject}_bp_raw_clean_data.fif\", overwrite = True)\n",
    "\n",
    "    \n",
    "    # clear var\n",
    "    bp_raw_fif = []\n",
    "    raw_clean_fif = []    \n",
    "    \n",
    "    "
   ]
  },
  {
   "cell_type": "code",
   "execution_count": 14,
   "id": "1ea82400-50d1-4198-aeb4-a07817b583c4",
   "metadata": {},
   "outputs": [
    {
     "name": "stdout",
     "output_type": "stream",
     "text": [
      "Opening raw-browser...\n"
     ]
    },
    {
     "name": "stderr",
     "output_type": "stream",
     "text": [
      "libGL error: MESA-LOADER: failed to open radeonsi: /usr/lib/dri/radeonsi_dri.so: cannot open shared object file: No such file or directory (search paths /usr/lib/x86_64-linux-gnu/dri:\\$${ORIGIN}/dri:/usr/lib/dri, suffix _dri)\n",
      "libGL error: failed to load driver: radeonsi\n",
      "libGL error: MESA-LOADER: failed to open swrast: /usr/lib/dri/swrast_dri.so: cannot open shared object file: No such file or directory (search paths /usr/lib/x86_64-linux-gnu/dri:\\$${ORIGIN}/dri:/usr/lib/dri, suffix _dri)\n",
      "libGL error: failed to load driver: swrast\n"
     ]
    },
    {
     "data": {
      "image/png": "[encoded data removed]",
      "text/plain": [
       "<MNEBrowseFigure size 1846x1016 with 4 Axes>"
      ]
     },
     "execution_count": 14,
     "metadata": {},
     "output_type": "execute_result"
    },
    {
     "name": "stdout",
     "output_type": "stream",
     "text": [
      "Closing raw-browser...\n",
      "Channels marked as bad:\n",
      "['B1', 'B2', 'C1', 'C2', 'C3', 'C4', 'E8', 'EKG1', 'EKG2', 'EMPTY', 'EMPTY_230', 'EMPTY_231', 'O1', 'REF1', 'REF2', 'c3', 'c4', 'cz', 'f10', 'f3', 'f4', 'f7', 'f8', 'f9', 'fp1', 'fp2', 'fpz', 'fz', 'o1', 'o2', 'oz', 'p3', 'p4', 'p7', 'p8', 'pz', 't7', 't8']\n"
     ]
    }
   ],
   "source": [
    "# Visualize it #\n",
    "\n",
    "bp_raw_fif.plot(events=events, color='b', bad_color = 'cyan', n_channels = 1, clipping = None, event_color = 'r')"
   ]
  },
  {
   "cell_type": "markdown",
   "id": "05db6586-9b8f-4d57-bc1c-e30371304798",
   "metadata": {},
   "source": [
    "## Epoching the data "
   ]
  },
  {
   "cell_type": "code",
   "execution_count": 10,
   "id": "279c987f-0321-4d7a-9d45-5d59f99bda62",
   "metadata": {},
   "outputs": [
    {
     "name": "stdout",
     "output_type": "stream",
     "text": [
      "Opening raw data file /home/brooke/pacman/preprocessing/BJH021/ieeg/BJH021_bp_raw_clean_data.fif...\n",
      "    Range : 0 ... 2225999 =      0.000 ...  1112.999 secs\n",
      "Ready.\n",
      "Opening raw data file /home/brooke/pacman/preprocessing/BJH021/ieeg/BJH021_bp_raw_clean_data-1.fif...\n",
      "    Range : 2226000 ... 3156499 =   1113.000 ...  1578.249 secs\n",
      "Ready.\n"
     ]
    },
    {
     "name": "stderr",
     "output_type": "stream",
     "text": [
      "/tmp/ipykernel_3788/981813422.py:4: RuntimeWarning: This filename (/home/brooke/pacman/preprocessing/BJH021/ieeg/BJH021_bp_raw_clean_data.fif) does not conform to MNE naming conventions. All raw files should end with raw.fif, raw_sss.fif, raw_tsss.fif, _meg.fif, _eeg.fif, _ieeg.fif, raw.fif.gz, raw_sss.fif.gz, raw_tsss.fif.gz, _meg.fif.gz, _eeg.fif.gz or _ieeg.fif.gz\n",
      "  bp_raw_fif = mne.io.Raw(f\"{preproc_data_dir}/{subject}_bp_raw_clean_data.fif\")\n"
     ]
    },
    {
     "name": "stdout",
     "output_type": "stream",
     "text": [
      "480 events found\n",
      "Event IDs: [0 1]\n",
      "Not setting metadata\n",
      "240 matching events found\n",
      "No baseline correction applied\n",
      "0 projection items activated\n",
      "Loading data for 240 events and 32001 original time points ...\n"
     ]
    },
    {
     "name": "stderr",
     "output_type": "stream",
     "text": [
      "/tmp/ipykernel_3788/981813422.py:18: RuntimeWarning: This filename (/home/brooke/pacman/preprocessing/BJH021/ieeg/BJH021_bp_clean_pres-locked_ieeg.fif) does not conform to MNE naming conventions. All epochs files should end with -epo.fif, -epo.fif.gz, _epo.fif or _epo.fif.gz\n",
      "  epoched_data.save(f\"{preproc_data_dir}/{subject}_bp_clean_pres-locked_ieeg.fif\", overwrite = True, split_size = '1.9GB')\n"
     ]
    },
    {
     "name": "stdout",
     "output_type": "stream",
     "text": [
      "0 bad epochs dropped\n",
      "Loading data for 1 events and 32001 original time points ...\n",
      "Splitting into 4 parts\n",
      "Loading data for 60 events and 32001 original time points ...\n",
      "Loading data for 60 events and 32001 original time points ...\n",
      "Loading data for 60 events and 32001 original time points ...\n",
      "Loading data for 60 events and 32001 original time points ...\n"
     ]
    }
   ],
   "source": [
    "## Epoching the raw data ##\n",
    "\n",
    "# load data \n",
    "bp_raw_fif = mne.io.Raw(f\"{preproc_data_dir}/{subject}_bp_raw_clean_data.fif\")\n",
    "events = mne.find_events(bp_raw_fif, output='step', consecutive = False, stim_channel='STI')\n",
    "\n",
    "# create events\n",
    "    \n",
    "# only epoch good channels\n",
    "channels_of_interest =  [x for x in bp_raw_fif.info['ch_names'] if x not in bp_raw_fif.info['bads']]\n",
    "\n",
    "# epoch the data\n",
    "epoched_data = mne.Epochs(bp_raw_fif, events, \n",
    "                          event_id = 1, tmin = -4, tmax = 12, \n",
    "                          baseline = None, picks = channels_of_interest,\n",
    "                             reject_by_annotation = False)\n",
    "# save the data\n",
    "epoched_data.save(f\"{preproc_data_dir}/{subject}_bp_clean_pres-locked_ieeg.fif\", overwrite = True, split_size = '1.9GB')"
   ]
  },
  {
   "cell_type": "markdown",
   "id": "8bdd2a34-cf2b-461b-b2df-3b4fdd3576d8",
   "metadata": {},
   "source": [
    "## Trial End"
   ]
  },
  {
   "cell_type": "code",
   "execution_count": 3,
   "id": "6cbe56d1-a988-430f-b774-2e9ae53d088f",
   "metadata": {},
   "outputs": [
    {
     "name": "stdout",
     "output_type": "stream",
     "text": [
      "Opening raw data file /home/brooke/pacman/preprocessing/BJH021/ieeg/BJH021_bp_raw_clean_data.fif...\n",
      "    Range : 0 ... 2225999 =      0.000 ...  1112.999 secs\n",
      "Ready.\n",
      "Opening raw data file /home/brooke/pacman/preprocessing/BJH021/ieeg/BJH021_bp_raw_clean_data-1.fif...\n",
      "    Range : 2226000 ... 3156499 =   1113.000 ...  1578.249 secs\n",
      "Ready.\n"
     ]
    },
    {
     "name": "stderr",
     "output_type": "stream",
     "text": [
      "/tmp/ipykernel_155923/4119140940.py:4: RuntimeWarning: This filename (/home/brooke/pacman/preprocessing/BJH021/ieeg/BJH021_bp_raw_clean_data.fif) does not conform to MNE naming conventions. All raw files should end with raw.fif, raw_sss.fif, raw_tsss.fif, _meg.fif, _eeg.fif, _ieeg.fif, raw.fif.gz, raw_sss.fif.gz, raw_tsss.fif.gz, _meg.fif.gz, _eeg.fif.gz or _ieeg.fif.gz\n",
      "  bp_raw_fif = mne.io.Raw(f\"{preproc_data_dir}/{subject}_bp_raw_clean_data.fif\")\n"
     ]
    },
    {
     "name": "stdout",
     "output_type": "stream",
     "text": [
      "480 events found\n",
      "Event IDs: [0 1]\n",
      "Not setting metadata\n",
      "240 matching events found\n",
      "No baseline correction applied\n",
      "0 projection items activated\n",
      "Overwriting existing file.\n",
      "Loading data for 240 events and 20001 original time points ...\n"
     ]
    },
    {
     "name": "stderr",
     "output_type": "stream",
     "text": [
      "/tmp/ipykernel_155923/4119140940.py:18: RuntimeWarning: This filename (/home/brooke/pacman/preprocessing/BJH021/ieeg/BJH021_bp_clean_end-locked_ieeg.fif) does not conform to MNE naming conventions. All epochs files should end with -epo.fif, -epo.fif.gz, _epo.fif or _epo.fif.gz\n",
      "  epoched_data.save(f\"{preproc_data_dir}/{subject}_bp_clean_end-locked_ieeg.fif\", overwrite = True, split_size = '1.9GB')\n"
     ]
    },
    {
     "name": "stdout",
     "output_type": "stream",
     "text": [
      "1 bad epochs dropped\n",
      "Loading data for 1 events and 20001 original time points ...\n",
      "Splitting into 2 parts\n",
      "Loading data for 120 events and 20001 original time points ...\n",
      "Loading data for 119 events and 20001 original time points ...\n"
     ]
    }
   ],
   "source": [
    "## Epoching the raw data ##\n",
    "\n",
    "# load data \n",
    "bp_raw_fif = mne.io.Raw(f\"{preproc_data_dir}/{subject}_bp_raw_clean_data.fif\")\n",
    "events = mne.find_events(bp_raw_fif, output='step', consecutive = False, stim_channel='STI')\n",
    "\n",
    "# create events\n",
    "    \n",
    "# only epoch good channels\n",
    "channels_of_interest =  [x for x in bp_raw_fif.info['ch_names'] if x not in bp_raw_fif.info['bads']]\n",
    "\n",
    "# epoch the data\n",
    "epoched_data = mne.Epochs(bp_raw_fif, events, \n",
    "                          event_id = 0, tmin = -5, tmax = 5, \n",
    "                          baseline = None, picks = channels_of_interest,\n",
    "                             reject_by_annotation = False)\n",
    "# save the data\n",
    "epoched_data.save(f\"{preproc_data_dir}/{subject}_bp_clean_end-locked_ieeg.fif\", overwrite = True, split_size = '1.9GB')"
   ]
  },
  {
   "cell_type": "markdown",
   "id": "56725cf0-83c7-4e09-aedf-330b411164ce",
   "metadata": {},
   "source": [
    "## Create Other Events"
   ]
  },
  {
   "cell_type": "code",
   "execution_count": null,
   "id": "7b3d3765-439f-4b74-9fb6-9f234afd0119",
   "metadata": {},
   "outputs": [],
   "source": [
    "## Load Behavioral Data ##\n",
    "last_dot_data = pd.read_csv(f\"{raw_data_dir}/behave/{subject}_last_dot_events.csv\")\n",
    "last_dot_data"
   ]
  },
  {
   "cell_type": "code",
   "execution_count": null,
   "id": "9e97e841-a744-4927-83fa-64f213850958",
   "metadata": {},
   "outputs": [],
   "source": [
    "# filter to good epochs and fix trial indexing\n",
    "last_dot_data['trial_numeric'] = last_dot_data['trial_numeric'] - 1\n",
    "\n",
    "# create events\n",
    "last_dot_events = last_dot_data[['sample', 'sample_before', 'event']].copy().to_numpy()\n"
   ]
  },
  {
   "cell_type": "code",
   "execution_count": null,
   "id": "aeb2d9e2-8cc6-4c98-a3d0-32f4b8bfcd9f",
   "metadata": {},
   "outputs": [],
   "source": [
    "# epoch the data\n",
    "last_dot_epochs = mne.Epochs(bp_raw_fif, last_dot_events, \n",
    "                          event_id = 1, tmin = -.75 * 4, tmax =.75 * 3, \n",
    "                          baseline = None, picks = channels_of_interest,\n",
    "                             reject_by_annotation = False)\n",
    "# # save the data\n",
    "last_dot_epochs.save(f\"{preproc_data_dir}/{subject}_bp_raw_clean_last_dot_events.fif\", overwrite = True, split_size = '1.9GB')\n"
   ]
  },
  {
   "cell_type": "markdown",
   "id": "9c56831d-d960-4989-a8fb-d8a766f3eaec",
   "metadata": {},
   "source": [
    "Okay, what we need to do is pul the sample of the last dot eaten on each trial\n",
    "\n",
    "and then also the last turn around\n",
    "\n",
    "looking for a comparison between these moments on ghost and no ghost trials\n",
    "\n",
    "we can either get the average and then compare peaks via foof groups in hc and ofc and anterior cingulate"
   ]
  },
  {
   "cell_type": "markdown",
   "id": "b2fff22c-fb17-4e84-a95b-184ce1fe4773",
   "metadata": {},
   "source": [
    "## Last Away"
   ]
  },
  {
   "cell_type": "code",
   "execution_count": 3,
   "id": "314a2973-e175-4eba-885a-1f363cc51b3c",
   "metadata": {},
   "outputs": [
    {
     "data": {
      "text/html": [
       "<div>\n",
       "<style scoped>\n",
       "    .dataframe tbody tr th:only-of-type {\n",
       "        vertical-align: middle;\n",
       "    }\n",
       "\n",
       "    .dataframe tbody tr th {\n",
       "        vertical-align: top;\n",
       "    }\n",
       "\n",
       "    .dataframe thead th {\n",
       "        text-align: right;\n",
       "    }\n",
       "</style>\n",
       "<table border=\"1\" class=\"dataframe\">\n",
       "  <thead>\n",
       "    <tr style=\"text-align: right;\">\n",
       "      <th></th>\n",
       "      <th>neural_trial_numeric</th>\n",
       "      <th>TrialType</th>\n",
       "      <th>sample</th>\n",
       "      <th>sample_before</th>\n",
       "      <th>event</th>\n",
       "    </tr>\n",
       "  </thead>\n",
       "  <tbody>\n",
       "    <tr>\n",
       "      <th>0</th>\n",
       "      <td>1</td>\n",
       "      <td>8</td>\n",
       "      <td>46500</td>\n",
       "      <td>0</td>\n",
       "      <td>1</td>\n",
       "    </tr>\n",
       "    <tr>\n",
       "      <th>1</th>\n",
       "      <td>4</td>\n",
       "      <td>14</td>\n",
       "      <td>105400</td>\n",
       "      <td>0</td>\n",
       "      <td>1</td>\n",
       "    </tr>\n",
       "    <tr>\n",
       "      <th>2</th>\n",
       "      <td>5</td>\n",
       "      <td>2</td>\n",
       "      <td>115600</td>\n",
       "      <td>0</td>\n",
       "      <td>1</td>\n",
       "    </tr>\n",
       "    <tr>\n",
       "      <th>3</th>\n",
       "      <td>6</td>\n",
       "      <td>18</td>\n",
       "      <td>132400</td>\n",
       "      <td>0</td>\n",
       "      <td>1</td>\n",
       "    </tr>\n",
       "    <tr>\n",
       "      <th>4</th>\n",
       "      <td>7</td>\n",
       "      <td>17</td>\n",
       "      <td>150200</td>\n",
       "      <td>0</td>\n",
       "      <td>1</td>\n",
       "    </tr>\n",
       "    <tr>\n",
       "      <th>...</th>\n",
       "      <td>...</td>\n",
       "      <td>...</td>\n",
       "      <td>...</td>\n",
       "      <td>...</td>\n",
       "      <td>...</td>\n",
       "    </tr>\n",
       "    <tr>\n",
       "      <th>196</th>\n",
       "      <td>234</td>\n",
       "      <td>19</td>\n",
       "      <td>3000100</td>\n",
       "      <td>0</td>\n",
       "      <td>1</td>\n",
       "    </tr>\n",
       "    <tr>\n",
       "      <th>197</th>\n",
       "      <td>235</td>\n",
       "      <td>6</td>\n",
       "      <td>3011100</td>\n",
       "      <td>0</td>\n",
       "      <td>1</td>\n",
       "    </tr>\n",
       "    <tr>\n",
       "      <th>198</th>\n",
       "      <td>236</td>\n",
       "      <td>8</td>\n",
       "      <td>3020400</td>\n",
       "      <td>0</td>\n",
       "      <td>1</td>\n",
       "    </tr>\n",
       "    <tr>\n",
       "      <th>199</th>\n",
       "      <td>237</td>\n",
       "      <td>13</td>\n",
       "      <td>3028900</td>\n",
       "      <td>0</td>\n",
       "      <td>1</td>\n",
       "    </tr>\n",
       "    <tr>\n",
       "      <th>200</th>\n",
       "      <td>238</td>\n",
       "      <td>3</td>\n",
       "      <td>3041500</td>\n",
       "      <td>0</td>\n",
       "      <td>1</td>\n",
       "    </tr>\n",
       "  </tbody>\n",
       "</table>\n",
       "<p>201 rows × 5 columns</p>\n",
       "</div>"
      ],
      "text/plain": [
       "     neural_trial_numeric  TrialType   sample  sample_before  event\n",
       "0                       1          8    46500              0      1\n",
       "1                       4         14   105400              0      1\n",
       "2                       5          2   115600              0      1\n",
       "3                       6         18   132400              0      1\n",
       "4                       7         17   150200              0      1\n",
       "..                    ...        ...      ...            ...    ...\n",
       "196                   234         19  3000100              0      1\n",
       "197                   235          6  3011100              0      1\n",
       "198                   236          8  3020400              0      1\n",
       "199                   237         13  3028900              0      1\n",
       "200                   238          3  3041500              0      1\n",
       "\n",
       "[201 rows x 5 columns]"
      ]
     },
     "execution_count": 3,
     "metadata": {},
     "output_type": "execute_result"
    }
   ],
   "source": [
    "## Load Behavioral Data ##\n",
    "last_away_data = pd.read_csv(f\"{raw_data_dir}/behave/{subject}_last_away_events.csv\")\n",
    "last_away_data"
   ]
  },
  {
   "cell_type": "code",
   "execution_count": 4,
   "id": "4689505c-b013-49df-b9a4-ba21af89a906",
   "metadata": {},
   "outputs": [],
   "source": [
    "# create events\n",
    "last_away_events = last_away_data[['sample', 'sample_before', 'event']].copy().to_numpy()\n"
   ]
  },
  {
   "cell_type": "code",
   "execution_count": 5,
   "id": "148a650d-fddf-4d14-9e16-d7a15aa4922f",
   "metadata": {},
   "outputs": [
    {
     "name": "stdout",
     "output_type": "stream",
     "text": [
      "Opening raw data file /home/brooke/pacman/preprocessing/BJH021/ieeg/BJH021_bp_raw_clean_data.fif...\n",
      "    Range : 0 ... 2225999 =      0.000 ...  1112.999 secs\n",
      "Ready.\n",
      "Opening raw data file /home/brooke/pacman/preprocessing/BJH021/ieeg/BJH021_bp_raw_clean_data-1.fif...\n",
      "    Range : 2226000 ... 3156499 =   1113.000 ...  1578.249 secs\n",
      "Ready.\n",
      "Not setting metadata\n",
      "201 matching events found\n",
      "No baseline correction applied\n",
      "0 projection items activated\n",
      "Overwriting existing file.\n",
      "Loading data for 201 events and 20001 original time points ...\n"
     ]
    },
    {
     "name": "stderr",
     "output_type": "stream",
     "text": [
      "/tmp/ipykernel_4846/4054492422.py:2: RuntimeWarning: This filename (/home/brooke/pacman/preprocessing/BJH021/ieeg/BJH021_bp_raw_clean_data.fif) does not conform to MNE naming conventions. All raw files should end with raw.fif, raw_sss.fif, raw_tsss.fif, _meg.fif, _eeg.fif, _ieeg.fif, raw.fif.gz, raw_sss.fif.gz, raw_tsss.fif.gz, _meg.fif.gz, _eeg.fif.gz or _ieeg.fif.gz\n",
      "  bp_raw_fif = mne.io.Raw(f\"{preproc_data_dir}/{subject}_bp_raw_clean_data.fif\")\n",
      "/tmp/ipykernel_4846/4054492422.py:13: RuntimeWarning: This filename (/home/brooke/pacman/preprocessing/BJH021/ieeg/BJH021_bp_raw_clean_last_away_events.fif) does not conform to MNE naming conventions. All epochs files should end with -epo.fif, -epo.fif.gz, _epo.fif or _epo.fif.gz\n",
      "  last_away_epochs.save(f\"{preproc_data_dir}/{subject}_bp_raw_clean_last_away_events.fif\", overwrite = True, split_size = '1.9GB')\n"
     ]
    },
    {
     "name": "stdout",
     "output_type": "stream",
     "text": [
      "0 bad epochs dropped\n",
      "Loading data for 1 events and 20001 original time points ...\n",
      "Splitting into 2 parts\n",
      "Loading data for 101 events and 20001 original time points ...\n",
      "Loading data for 100 events and 20001 original time points ...\n"
     ]
    }
   ],
   "source": [
    "# load data \n",
    "bp_raw_fif = mne.io.Raw(f\"{preproc_data_dir}/{subject}_bp_raw_clean_data.fif\")\n",
    "    \n",
    "# only epoch good channels\n",
    "channels_of_interest =  [x for x in bp_raw_fif.info['ch_names'] if x not in bp_raw_fif.info['bads']]\n",
    "\n",
    "# epoch the data\n",
    "last_away_epochs = mne.Epochs(bp_raw_fif, last_away_events, \n",
    "                          event_id = 1, tmin = -5, tmax =5, \n",
    "                          baseline = None, picks = channels_of_interest,\n",
    "                             reject_by_annotation = False)\n",
    "# # save the data\n",
    "last_away_epochs.save(f\"{preproc_data_dir}/{subject}_bp_raw_clean_last_away_events.fif\", overwrite = True, split_size = '1.9GB')\n"
   ]
  },
  {
   "cell_type": "code",
   "execution_count": null,
   "id": "c206a94e-5c05-459b-9e3f-a4b14f295d73",
   "metadata": {},
   "outputs": [],
   "source": []
  }
 ],
 "metadata": {
  "kernelspec": {
   "display_name": "Python [conda env:ieeg_analysis] *",
   "language": "python",
   "name": "conda-env-ieeg_analysis-py"
  },
  "language_info": {
   "codemirror_mode": {
    "name": "ipython",
    "version": 3
   },
   "file_extension": ".py",
   "mimetype": "text/x-python",
   "name": "python",
   "nbconvert_exporter": "python",
   "pygments_lexer": "ipython3",
   "version": "3.9.12"
  }
 },
 "nbformat": 4,
 "nbformat_minor": 5
}

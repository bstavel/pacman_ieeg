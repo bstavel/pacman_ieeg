{
 "cells": [
  {
   "cell_type": "markdown",
   "id": "5caa54ea-80d7-4318-b427-5411b5caea1d",
   "metadata": {},
   "source": [
    "# Preprocessing: BJH039\n",
    "\n",
    "\n",
    "This markdown files loads the clean data and does a bipolar rereference as well as epochs the data\n"
   ]
  },
  {
   "cell_type": "code",
   "execution_count": 1,
   "id": "7124d816-0294-4977-b65a-64ec8a13910a",
   "metadata": {
    "tags": []
   },
   "outputs": [],
   "source": [
    "import matplotlib\n",
    "matplotlib.use(\"Qt5Agg\")\n",
    "import matplotlib.pyplot as plt\n",
    "import pandas as pd\n",
    "import numpy as np\n",
    "from scipy import signal, stats\n",
    "import mat73\n",
    "import re\n",
    "from neurodsp.timefrequency import compute_wavelet_transform\n",
    "import os\n",
    "import mne\n",
    "import IPython\n",
    "import seaborn as sns"
   ]
  },
  {
   "cell_type": "code",
   "execution_count": 2,
   "id": "d7d0fa71-30b2-4684-ad96-1e5b7c05a39a",
   "metadata": {
    "tags": []
   },
   "outputs": [],
   "source": [
    "## Prep paths ##\n",
    "\n",
    "subject = 'BJH039'\n",
    "raw_data_dir = f\"/home/brooke/pacman/raw_data/{subject}\"\n",
    "preproc_data_dir = f\"/home/brooke/pacman/preprocessing/{subject}/ieeg\""
   ]
  },
  {
   "cell_type": "code",
   "execution_count": 3,
   "id": "63fce4c8-66c4-48df-80f5-a5f545d76d3d",
   "metadata": {
    "tags": []
   },
   "outputs": [
    {
     "name": "stdout",
     "output_type": "stream",
     "text": [
      "Opening raw data file /home/brooke/pacman/raw_data/BJH039/ieeg/BJH039_notched_filtered_clean_ieeg.fif...\n",
      "    Range : 0 ... 2085999 =      0.000 ...  1042.999 secs\n",
      "Ready.\n",
      "Opening raw data file /home/brooke/pacman/raw_data/BJH039/ieeg/BJH039_notched_filtered_clean_ieeg-1.fif...\n",
      "    Range : 2086000 ... 3639799 =   1043.000 ...  1819.899 secs\n",
      "Ready.\n",
      "Opening raw data file /home/brooke/pacman/raw_data/BJH039/ieeg/BJH039_raw_clean_ieeg.fif...\n",
      "    Range : 0 ... 2085999 =      0.000 ...  1042.999 secs\n",
      "Ready.\n",
      "Opening raw data file /home/brooke/pacman/raw_data/BJH039/ieeg/BJH039_raw_clean_ieeg-1.fif...\n",
      "    Range : 2086000 ... 3639799 =   1043.000 ...  1819.899 secs\n",
      "Ready.\n"
     ]
    }
   ],
   "source": [
    "## Load Data ##\n",
    "\n",
    "# load filtered data #\n",
    "filtered_clean_fif = mne.io.Raw(f\"{raw_data_dir}/ieeg/{subject}_notched_filtered_clean_ieeg.fif\")\n",
    "\n",
    "# load raw data #\n",
    "raw_clean_fif = mne.io.Raw(f\"{raw_data_dir}/ieeg/{subject}_raw_clean_ieeg.fif\")\n",
    "\n"
   ]
  },
  {
   "cell_type": "markdown",
   "id": "466e2db7-335c-450b-a643-cf3b6dd43c4e",
   "metadata": {},
   "source": [
    "## Bipolar Rereferencing"
   ]
  },
  {
   "cell_type": "code",
   "execution_count": 4,
   "id": "a8b94f89-1f90-4cac-bd34-1ac9d851b174",
   "metadata": {
    "tags": []
   },
   "outputs": [],
   "source": [
    "# helper functions\n",
    "\n",
    "def probe_and_num(elec_str): \n",
    "    ''' This convenience function takes an electrode string like LHH1 and outputs ('LHH', 1)\n",
    "    '''\n",
    "    if '_' in elec_str:\n",
    "        return None, None\n",
    "    else:   \n",
    "        regex_str = '(\\D+)(\\d+)' # group of letters followed by group of digits\n",
    "        matcher = re.compile(regex_str,re.IGNORECASE|re.DOTALL).search(elec_str)\n",
    "        if matcher:\n",
    "            probe, num = matcher.groups()\n",
    "            return probe, int(num)\n",
    "        else:\n",
    "            return None, None\n",
    "    \n",
    "def find_bipolar_pair(ch, labels, remove):\n",
    "    ''' Find the pair of a given electrode for bipolar referencing.\n",
    "        Given a single *ch* and a list of *labels*, some of which you want to *remove*,\n",
    "        this finds the next channel on that probe that isn't meant to be removed (WM is ok).\n",
    "    '''\n",
    "    bipolar_pair = None\n",
    "    probe, num = probe_and_num(ch)\n",
    "    other_in_probe = [other_ch for other_ch in labels if probe_and_num(other_ch)[0]==probe]\n",
    "    for i in range(len(other_in_probe)-num):\n",
    "        next_ch = probe + str(num+i+1)\n",
    "        if next_ch in remove or next_ch == 'STI':\n",
    "            continue\n",
    "        else:\n",
    "            bipolar_pair = next_ch\n",
    "            break\n",
    "    return bipolar_pair"
   ]
  },
  {
   "cell_type": "code",
   "execution_count": 5,
   "id": "f1eefdfe-b251-4f28-8f1b-2608f94da503",
   "metadata": {
    "tags": []
   },
   "outputs": [
    {
     "name": "stdout",
     "output_type": "stream",
     "text": [
      "AR1 AR2\n",
      "AR2 AR3\n",
      "AR3 AR4\n",
      "AR4 AR5\n",
      "REF1 noref\n",
      "REF2 noref\n",
      "AR5 AR6\n",
      "AR6 AR7\n",
      "AR7 AR8\n",
      "AR8 AR9\n",
      "AR9 AR10\n",
      "AR10 AR11\n",
      "AR11 AR12\n",
      "BR1 BR2\n",
      "BR2 BR3\n",
      "BR3 BR4\n",
      "BR4 BR5\n",
      "BR5 BR6\n",
      "BR6 BR7\n",
      "BR7 BR8\n",
      "BR8 BR9\n",
      "BR9 BR10\n",
      "BR10 BR11\n",
      "BR11 BR12\n",
      "BR12 BR13\n",
      "BR13 BR14\n",
      "CR1 CR2\n",
      "CR2 CR3\n",
      "CR3 CR4\n",
      "CR4 CR5\n",
      "CR5 CR6\n",
      "CR6 CR7\n",
      "CR7 CR8\n",
      "CR8 CR9\n",
      "CR9 CR10\n",
      "DR1 DR2\n",
      "DR2 DR3\n",
      "DR3 DR4\n",
      "DR4 DR5\n",
      "DR5 DR6\n",
      "DR6 DR7\n",
      "DR7 DR8\n",
      "DR8 DR9\n",
      "DR9 DR10\n",
      "DR10 DR11\n",
      "DR11 DR12\n",
      "ER1 ER2\n",
      "ER2 ER3\n",
      "ER3 ER4\n",
      "ER4 ER5\n",
      "ER5 ER6\n",
      "ER6 ER7\n",
      "ER7 ER8\n",
      "ER8 ER9\n",
      "ER9 ER10\n",
      "ER10 ER11\n",
      "ER11 ER12\n",
      "ER12 ER13\n",
      "ER13 ER14\n",
      "FR1 FR2\n",
      "FR2 FR3\n",
      "FR3 FR4\n",
      "FR4 FR5\n",
      "FR5 FR6\n",
      "FR6 FR7\n",
      "FR7 FR8\n",
      "FR8 FR9\n",
      "FR9 FR10\n",
      "GR1 noref\n",
      "GR2 GR3\n",
      "GR3 GR4\n",
      "GR4 GR5\n",
      "GR5 GR6\n",
      "GR6 GR7\n",
      "GR7 GR8\n",
      "GR8 GR9\n",
      "GR9 GR10\n",
      "GR10 GR11\n",
      "GR11 GR12\n",
      "GR12 GR13\n",
      "GR13 GR14\n",
      "HR1 HR2\n",
      "HR2 HR3\n",
      "HR3 HR4\n",
      "HR4 HR5\n",
      "HR5 HR6\n",
      "HR6 HR7\n",
      "HR7 HR8\n",
      "HR8 HR9\n",
      "HR9 HR10\n",
      "HR10 HR11\n",
      "HR11 HR12\n",
      "IR1 IR2\n",
      "IR2 IR3\n",
      "IR3 IR5\n",
      "IR4 noref\n",
      "IR5 IR6\n",
      "IR6 IR7\n",
      "IR7 IR8\n",
      "IR8 IR9\n",
      "IR9 IR10\n",
      "IR10 IR11\n",
      "IR11 IR12\n",
      "IR12 IR13\n",
      "IR13 IR14\n",
      "JR1 JR2\n",
      "JR2 JR3\n",
      "JR3 JR4\n",
      "JR4 JR5\n",
      "JR5 JR6\n",
      "JR6 JR7\n",
      "JR7 JR8\n",
      "KL1 noref\n",
      "KL2 noref\n",
      "KL3 noref\n",
      "KL4 noref\n",
      "KL5 noref\n",
      "KL6 KL7\n",
      "KL7 KL8\n",
      "KL8 KL9\n",
      "KL9 KL10\n",
      "KL10 KL11\n",
      "KL11 KL12\n",
      "LL1 noref\n",
      "LL2 noref\n",
      "LL3 noref\n",
      "LL4 noref\n",
      "LL5 noref\n",
      "LL6 LL7\n",
      "LL7 LL8\n",
      "LL8 LL9\n",
      "LL9 LL11\n",
      "LL10 noref\n",
      "LL12 noref\n",
      "ML1 noref\n",
      "ML2 noref\n",
      "ML3 noref\n",
      "ML4 noref\n",
      "ML5 ML6\n",
      "ML6 ML7\n",
      "ML7 ML8\n",
      "ML8 ML9\n",
      "ML9 ML10\n",
      "ML10 ML11\n",
      "ML11 ML12\n",
      "EMPTY noref\n",
      "EMPTY_160 noref\n",
      "EMPTY_161 noref\n",
      "EMPTY_162 noref\n",
      "EMPTY_163 noref\n",
      "EMPTY_164 noref\n",
      "EMPTY_165 noref\n",
      "EMPTY_166 noref\n",
      "EMPTY_167 noref\n",
      "EMPTY_168 noref\n",
      "EMPTY_169 noref\n",
      "EMPTY_170 noref\n",
      "EMPTY_171 noref\n",
      "EMPTY_172 noref\n",
      "EMPTY_173 noref\n",
      "EMPTY_174 noref\n",
      "EMPTY_175 noref\n",
      "EMPTY_176 noref\n",
      "EMPTY_177 noref\n",
      "EMPTY_178 noref\n",
      "EMPTY_179 noref\n",
      "EMPTY_180 noref\n",
      "EMPTY_181 noref\n",
      "EMPTY_182 noref\n",
      "EMPTY_183 noref\n",
      "EMPTY_184 noref\n",
      "EMPTY_185 noref\n",
      "EMPTY_186 noref\n",
      "EMPTY_187 noref\n",
      "EMPTY_188 noref\n",
      "EMPTY_189 noref\n",
      "EMPTY_190 noref\n",
      "EMPTY_191 noref\n",
      "EMPTY_192 noref\n",
      "EMPTY_193 noref\n",
      "EMPTY_194 noref\n",
      "EMPTY_195 noref\n",
      "EMPTY_196 noref\n",
      "EMPTY_197 noref\n",
      "EMPTY_198 noref\n",
      "EMPTY_199 noref\n",
      "EMPTY_200 noref\n",
      "EMPTY_201 noref\n",
      "EMPTY_202 noref\n",
      "EMPTY_203 noref\n",
      "EMPTY_204 noref\n",
      "EMPTY_205 noref\n",
      "EMPTY_206 noref\n",
      "EMPTY_207 noref\n",
      "EMPTY_208 noref\n",
      "EMPTY_209 noref\n",
      "EMPTY_210 noref\n",
      "EMPTY_211 noref\n",
      "EMPTY_212 noref\n",
      "EMPTY_213 noref\n",
      "EMPTY_214 noref\n",
      "EMPTY_215 noref\n",
      "EMPTY_216 noref\n",
      "EMPTY_217 noref\n",
      "EMPTY_218 noref\n",
      "EMPTY_219 noref\n",
      "EMPTY_220 noref\n",
      "EMPTY_221 noref\n",
      "EMPTY_222 noref\n",
      "EMPTY_223 noref\n",
      "EMPTY_224 noref\n",
      "EMPTY_225 noref\n",
      "EMPTY_226 noref\n",
      "EMPTY_227 noref\n",
      "EMPTY_228 noref\n",
      "EMPTY_229 noref\n",
      "EMPTY_230 noref\n",
      "EMPTY_231 noref\n",
      "FP1 noref\n",
      "F3 noref\n",
      "C3 noref\n",
      "P3 noref\n",
      "O1 noref\n",
      "FP2 noref\n",
      "F4 noref\n",
      "C4 noref\n",
      "P4 noref\n",
      "O2 noref\n",
      "F7 noref\n",
      "T7 noref\n",
      "P7 noref\n",
      "F8 noref\n",
      "T8 noref\n",
      "P8 noref\n",
      "F9 noref\n",
      "F10 noref\n",
      "FPZ noref\n",
      "FZ noref\n",
      "CZ noref\n",
      "PZ noref\n",
      "OZ noref\n",
      "EKG1 noref\n",
      "EKG2 noref\n",
      "STI noref\n"
     ]
    }
   ],
   "source": [
    "# Here I iterate through the electrodes in my ROIs and match them up with their bipolar pair\n",
    "pairs = []\n",
    "anode = []\n",
    "cathode = []\n",
    "pairs_name = []\n",
    "pairs_map = {}\n",
    "remove = filtered_clean_fif.info['bads']\n",
    "labels = filtered_clean_fif.info['ch_names']\n",
    "for ch in labels:\n",
    "    # if a channel is meant to be removed, it doesn't get to be in a bipolar pair\n",
    "    if ch in remove or ch == 'STI':\n",
    "        print(f\"{ch} noref\")\n",
    "    else:\n",
    "        pair = find_bipolar_pair(ch, labels, remove)\n",
    "        if pair:\n",
    "            anode.append(ch)\n",
    "            cathode.append(pair)\n",
    "            pairs.append((ch, pair))\n",
    "            pairs_map[ch] = f\"{ch}-{pair}\"\n",
    "            pairs_name.append(f\"{ch}-{pair}\")\n",
    "            print(ch, pair)"
   ]
  },
  {
   "cell_type": "code",
   "execution_count": 6,
   "id": "588d66f9-a020-426f-b955-b3e58bd52d1b",
   "metadata": {
    "tags": []
   },
   "outputs": [
    {
     "name": "stdout",
     "output_type": "stream",
     "text": [
      "Reading 0 ... 3639799  =      0.000 ...  1819.899 secs...\n",
      "sEEG channel type selected for re-referencing\n",
      "Creating RawArray with float64 data, n_channels=125, n_times=3639800\n",
      "    Range : 0 ... 3639799 =      0.000 ...  1819.899 secs\n",
      "Ready.\n",
      "Added the following bipolar channels:\n",
      "AR1-AR2, AR2-AR3, AR3-AR4, AR4-AR5, AR5-AR6, AR6-AR7, AR7-AR8, AR8-AR9, AR9-AR10, AR10-AR11, AR11-AR12, BR1-BR2, BR2-BR3, BR3-BR4, BR4-BR5, BR5-BR6, BR6-BR7, BR7-BR8, BR8-BR9, BR9-BR10, BR10-BR11, BR11-BR12, BR12-BR13, BR13-BR14, CR1-CR2, CR2-CR3, CR3-CR4, CR4-CR5, CR5-CR6, CR6-CR7, CR7-CR8, CR8-CR9, CR9-CR10, DR1-DR2, DR2-DR3, DR3-DR4, DR4-DR5, DR5-DR6, DR6-DR7, DR7-DR8, DR8-DR9, DR9-DR10, DR10-DR11, DR11-DR12, ER1-ER2, ER2-ER3, ER3-ER4, ER4-ER5, ER5-ER6, ER6-ER7, ER7-ER8, ER8-ER9, ER9-ER10, ER10-ER11, ER11-ER12, ER12-ER13, ER13-ER14, FR1-FR2, FR2-FR3, FR3-FR4, FR4-FR5, FR5-FR6, FR6-FR7, FR7-FR8, FR8-FR9, FR9-FR10, GR2-GR3, GR3-GR4, GR4-GR5, GR5-GR6, GR6-GR7, GR7-GR8, GR8-GR9, GR9-GR10, GR10-GR11, GR11-GR12, GR12-GR13, GR13-GR14, HR1-HR2, HR2-HR3, HR3-HR4, HR4-HR5, HR5-HR6, HR6-HR7, HR7-HR8, HR8-HR9, HR9-HR10, HR10-HR11, HR11-HR12, IR1-IR2, IR2-IR3, IR3-IR5, IR5-IR6, IR6-IR7, IR7-IR8, IR8-IR9, IR9-IR10, IR10-IR11, IR11-IR12, IR12-IR13, IR13-IR14, JR1-JR2, JR2-JR3, JR3-JR4, JR4-JR5, JR5-JR6, JR6-JR7, JR7-JR8, KL6-KL7, KL7-KL8, KL8-KL9, KL9-KL10, KL10-KL11, KL11-KL12, LL6-LL7, LL7-LL8, LL8-LL9, LL9-LL11, ML5-ML6, ML6-ML7, ML7-ML8, ML8-ML9, ML9-ML10, ML10-ML11, ML11-ML12\n",
      "Overwriting existing file.\n",
      "Writing /home/brooke/pacman/preprocessing/BJH039/ieeg/BJH039_bp_filtered_clean_data.fif\n"
     ]
    },
    {
     "name": "stderr",
     "output_type": "stream",
     "text": [
      "/tmp/ipykernel_9070/1336304392.py:12: RuntimeWarning: This filename (/home/brooke/pacman/preprocessing/BJH039/ieeg/BJH039_bp_filtered_clean_data.fif) does not conform to MNE naming conventions. All raw files should end with raw.fif, raw_sss.fif, raw_tsss.fif, _meg.fif, _eeg.fif, _ieeg.fif, raw.fif.gz, raw_sss.fif.gz, raw_tsss.fif.gz, _meg.fif.gz, _eeg.fif.gz or _ieeg.fif.gz\n",
      "  bp_filt_fif.save(f\"{preproc_data_dir}/{subject}_bp_filtered_clean_data.fif\", overwrite = True)\n"
     ]
    },
    {
     "name": "stdout",
     "output_type": "stream",
     "text": [
      "Overwriting existing file.\n",
      "Writing /home/brooke/pacman/preprocessing/BJH039/ieeg/BJH039_bp_filtered_clean_data-1.fif\n",
      "Closing /home/brooke/pacman/preprocessing/BJH039/ieeg/BJH039_bp_filtered_clean_data-1.fif\n",
      "Closing /home/brooke/pacman/preprocessing/BJH039/ieeg/BJH039_bp_filtered_clean_data.fif\n",
      "[done]\n",
      "Reading 0 ... 3639799  =      0.000 ...  1819.899 secs...\n",
      "sEEG channel type selected for re-referencing\n",
      "Creating RawArray with float64 data, n_channels=125, n_times=3639800\n",
      "    Range : 0 ... 3639799 =      0.000 ...  1819.899 secs\n",
      "Ready.\n",
      "Added the following bipolar channels:\n",
      "AR1-AR2, AR2-AR3, AR3-AR4, AR4-AR5, AR5-AR6, AR6-AR7, AR7-AR8, AR8-AR9, AR9-AR10, AR10-AR11, AR11-AR12, BR1-BR2, BR2-BR3, BR3-BR4, BR4-BR5, BR5-BR6, BR6-BR7, BR7-BR8, BR8-BR9, BR9-BR10, BR10-BR11, BR11-BR12, BR12-BR13, BR13-BR14, CR1-CR2, CR2-CR3, CR3-CR4, CR4-CR5, CR5-CR6, CR6-CR7, CR7-CR8, CR8-CR9, CR9-CR10, DR1-DR2, DR2-DR3, DR3-DR4, DR4-DR5, DR5-DR6, DR6-DR7, DR7-DR8, DR8-DR9, DR9-DR10, DR10-DR11, DR11-DR12, ER1-ER2, ER2-ER3, ER3-ER4, ER4-ER5, ER5-ER6, ER6-ER7, ER7-ER8, ER8-ER9, ER9-ER10, ER10-ER11, ER11-ER12, ER12-ER13, ER13-ER14, FR1-FR2, FR2-FR3, FR3-FR4, FR4-FR5, FR5-FR6, FR6-FR7, FR7-FR8, FR8-FR9, FR9-FR10, GR2-GR3, GR3-GR4, GR4-GR5, GR5-GR6, GR6-GR7, GR7-GR8, GR8-GR9, GR9-GR10, GR10-GR11, GR11-GR12, GR12-GR13, GR13-GR14, HR1-HR2, HR2-HR3, HR3-HR4, HR4-HR5, HR5-HR6, HR6-HR7, HR7-HR8, HR8-HR9, HR9-HR10, HR10-HR11, HR11-HR12, IR1-IR2, IR2-IR3, IR3-IR5, IR5-IR6, IR6-IR7, IR7-IR8, IR8-IR9, IR9-IR10, IR10-IR11, IR11-IR12, IR12-IR13, IR13-IR14, JR1-JR2, JR2-JR3, JR3-JR4, JR4-JR5, JR5-JR6, JR6-JR7, JR7-JR8, KL6-KL7, KL7-KL8, KL8-KL9, KL9-KL10, KL10-KL11, KL11-KL12, LL6-LL7, LL7-LL8, LL8-LL9, LL9-LL11, ML5-ML6, ML6-ML7, ML7-ML8, ML8-ML9, ML9-ML10, ML10-ML11, ML11-ML12\n",
      "Overwriting existing file.\n",
      "Writing /home/brooke/pacman/preprocessing/BJH039/ieeg/BJH039_bp_raw_clean_data.fif\n"
     ]
    },
    {
     "name": "stderr",
     "output_type": "stream",
     "text": [
      "/tmp/ipykernel_9070/1336304392.py:25: RuntimeWarning: This filename (/home/brooke/pacman/preprocessing/BJH039/ieeg/BJH039_bp_raw_clean_data.fif) does not conform to MNE naming conventions. All raw files should end with raw.fif, raw_sss.fif, raw_tsss.fif, _meg.fif, _eeg.fif, _ieeg.fif, raw.fif.gz, raw_sss.fif.gz, raw_tsss.fif.gz, _meg.fif.gz, _eeg.fif.gz or _ieeg.fif.gz\n",
      "  bp_raw_fif.save(f\"{preproc_data_dir}/{subject}_bp_raw_clean_data.fif\", overwrite = True)\n"
     ]
    },
    {
     "name": "stdout",
     "output_type": "stream",
     "text": [
      "Overwriting existing file.\n",
      "Writing /home/brooke/pacman/preprocessing/BJH039/ieeg/BJH039_bp_raw_clean_data-1.fif\n",
      "Closing /home/brooke/pacman/preprocessing/BJH039/ieeg/BJH039_bp_raw_clean_data-1.fif\n",
      "Closing /home/brooke/pacman/preprocessing/BJH039/ieeg/BJH039_bp_raw_clean_data.fif\n",
      "[done]\n"
     ]
    }
   ],
   "source": [
    "## Apply Rereference #\n",
    "\n",
    "if filtered_clean_fif.info['ch_names'] == raw_clean_fif.info['ch_names'] and filtered_clean_fif.info['bads'] == raw_clean_fif.info['bads']:\n",
    "    \n",
    "    # load filtered data\n",
    "    filtered_clean_fif.load_data()\n",
    "    \n",
    "    # set filtered reference \n",
    "    bp_filt_fif = mne.set_bipolar_reference(filtered_clean_fif, anode = anode, cathode = cathode)\n",
    "    \n",
    "    # save\n",
    "    bp_filt_fif.save(f\"{preproc_data_dir}/{subject}_bp_filtered_clean_data.fif\", overwrite = True)\n",
    "    \n",
    "    # clear var\n",
    "    bp_filt_fif = []\n",
    "    filtered_clean_fif = []\n",
    "    \n",
    "    # load raw data\n",
    "    raw_clean_fif.load_data()\n",
    "    \n",
    "    # set raw reference \n",
    "    bp_raw_fif = mne.set_bipolar_reference(raw_clean_fif, anode = anode, cathode = cathode)\n",
    "    \n",
    "    # save\n",
    "    bp_raw_fif.save(f\"{preproc_data_dir}/{subject}_bp_raw_clean_data.fif\", overwrite = True)\n",
    "\n",
    "    \n",
    "    # clear var\n",
    "    bp_raw_fif = []\n",
    "    raw_clean_fif = []    \n",
    "    \n",
    "    "
   ]
  },
  {
   "cell_type": "code",
   "execution_count": 7,
   "id": "0a9bd982-5b34-45b4-885f-dffef3b7c337",
   "metadata": {
    "tags": []
   },
   "outputs": [
    {
     "name": "stdout",
     "output_type": "stream",
     "text": [
      "Opening raw data file /home/brooke/pacman/preprocessing/BJH039/ieeg/BJH039_bp_filtered_clean_data.fif...\n",
      "    Range : 0 ... 2197999 =      0.000 ...  1098.999 secs\n",
      "Ready.\n",
      "Opening raw data file /home/brooke/pacman/preprocessing/BJH039/ieeg/BJH039_bp_filtered_clean_data-1.fif...\n",
      "    Range : 2198000 ... 3639799 =   1099.000 ...  1819.899 secs\n",
      "Ready.\n"
     ]
    },
    {
     "name": "stderr",
     "output_type": "stream",
     "text": [
      "/tmp/ipykernel_9070/2669736035.py:2: RuntimeWarning: This filename (/home/brooke/pacman/preprocessing/BJH039/ieeg/BJH039_bp_filtered_clean_data.fif) does not conform to MNE naming conventions. All raw files should end with raw.fif, raw_sss.fif, raw_tsss.fif, _meg.fif, _eeg.fif, _ieeg.fif, raw.fif.gz, raw_sss.fif.gz, raw_tsss.fif.gz, _meg.fif.gz, _eeg.fif.gz or _ieeg.fif.gz\n",
      "  bp_filtered_fif = mne.io.Raw(f\"{preproc_data_dir}/{subject}_bp_filtered_clean_data.fif\")\n"
     ]
    },
    {
     "name": "stdout",
     "output_type": "stream",
     "text": [
      "446 events found\n",
      "Event IDs: [0 1]\n",
      "Using qt as 2D backend.\n"
     ]
    },
    {
     "name": "stderr",
     "output_type": "stream",
     "text": [
      "Warning: Ignoring XDG_SESSION_TYPE=wayland on Gnome. Use QT_QPA_PLATFORM=wayland to run on Wayland anyway.\n"
     ]
    },
    {
     "data": {
      "text/plain": [
       "<mne_qt_browser._pg_figure.MNEQtBrowser at 0x7f06721890d0>"
      ]
     },
     "execution_count": 7,
     "metadata": {},
     "output_type": "execute_result"
    },
    {
     "name": "stdout",
     "output_type": "stream",
     "text": [
      "Channels marked as bad:\n",
      "['C3', 'C4', 'CZ', 'EKG1', 'EKG2', 'EMPTY', 'EMPTY_160', 'EMPTY_161', 'EMPTY_162', 'EMPTY_163', 'EMPTY_164', 'EMPTY_165', 'EMPTY_166', 'EMPTY_167', 'EMPTY_168', 'EMPTY_169', 'EMPTY_170', 'EMPTY_171', 'EMPTY_172', 'EMPTY_173', 'EMPTY_174', 'EMPTY_175', 'EMPTY_176', 'EMPTY_177', 'EMPTY_178', 'EMPTY_179', 'EMPTY_180', 'EMPTY_181', 'EMPTY_182', 'EMPTY_183', 'EMPTY_184', 'EMPTY_185', 'EMPTY_186', 'EMPTY_187', 'EMPTY_188', 'EMPTY_189', 'EMPTY_190', 'EMPTY_191', 'EMPTY_192', 'EMPTY_193', 'EMPTY_194', 'EMPTY_195', 'EMPTY_196', 'EMPTY_197', 'EMPTY_198', 'EMPTY_199', 'EMPTY_200', 'EMPTY_201', 'EMPTY_202', 'EMPTY_203', 'EMPTY_204', 'EMPTY_205', 'EMPTY_206', 'EMPTY_207', 'EMPTY_208', 'EMPTY_209', 'EMPTY_210', 'EMPTY_211', 'EMPTY_212', 'EMPTY_213', 'EMPTY_214', 'EMPTY_215', 'EMPTY_216', 'EMPTY_217', 'EMPTY_218', 'EMPTY_219', 'EMPTY_220', 'EMPTY_221', 'EMPTY_222', 'EMPTY_223', 'EMPTY_224', 'EMPTY_225', 'EMPTY_226', 'EMPTY_227', 'EMPTY_228', 'EMPTY_229', 'EMPTY_230', 'EMPTY_231', 'F10', 'F3', 'F4', 'F7', 'F8', 'F9', 'FP1', 'FP2', 'FPZ', 'FZ', 'GR1', 'IR4', 'KL1', 'KL2', 'KL3', 'KL4', 'KL5', 'LL1', 'LL10', 'LL12', 'LL2', 'LL3', 'LL4', 'LL5', 'ML1', 'ML2', 'ML3', 'ML4', 'O1', 'O2', 'OZ', 'P3', 'P4', 'P7', 'P8', 'PZ', 'REF1', 'REF2', 'T7', 'T8']\n"
     ]
    }
   ],
   "source": [
    "# Visualize it #\n",
    "bp_filtered_fif = mne.io.Raw(f\"{preproc_data_dir}/{subject}_bp_filtered_clean_data.fif\")\n",
    "events = mne.find_events(bp_filtered_fif, output='step', consecutive = False, stim_channel='STI')\n",
    "bp_filtered_fif.plot(events=events, color='b', bad_color = 'cyan', n_channels = 160, clipping = None, event_color = 'r')"
   ]
  },
  {
   "cell_type": "code",
   "execution_count": 8,
   "id": "58d1c09c-a42c-4a74-b21a-7fcb9dc61d1e",
   "metadata": {
    "tags": []
   },
   "outputs": [
    {
     "name": "stdout",
     "output_type": "stream",
     "text": [
      "OrderedDict([('onset', 10.557), ('duration', 3.0889997482299805), ('description', 'bad'), ('orig_time', None)])\n",
      "OrderedDict([('onset', 16.75), ('duration', 7.395999908447266), ('description', 'bad'), ('orig_time', None)])\n",
      "OrderedDict([('onset', 30.469246), ('duration', 0.7965545654296875), ('description', 'BAD'), ('orig_time', None)])\n",
      "OrderedDict([('onset', 86.897003), ('duration', 2.3969955444335938), ('description', 'bad'), ('orig_time', None)])\n",
      "OrderedDict([('onset', 110.702003), ('duration', 113.8919906616211), ('description', 'bad'), ('orig_time', None)])\n",
      "OrderedDict([('onset', 136.672897), ('duration', 0.3615570068359375), ('description', 'BAD'), ('orig_time', None)])\n",
      "OrderedDict([('onset', 148.435486), ('duration', 1.1920166015625), ('description', 'BAD'), ('orig_time', None)])\n",
      "OrderedDict([('onset', 151.757294), ('duration', 0.4123992919921875), ('description', 'BAD'), ('orig_time', None)])\n",
      "OrderedDict([('onset', 161.135864), ('duration', 1.1298675537109375), ('description', 'BAD'), ('orig_time', None)])\n",
      "OrderedDict([('onset', 217.35083), ('duration', 0.74005126953125), ('description', 'BAD'), ('orig_time', None)])\n",
      "OrderedDict([('onset', 233.972183), ('duration', 0.3220062255859375), ('description', 'BAD'), ('orig_time', None)])\n",
      "OrderedDict([('onset', 248.497635), ('duration', 0.7400665283203125), ('description', 'BAD'), ('orig_time', None)])\n",
      "OrderedDict([('onset', 251.220612), ('duration', 0.6666107177734375), ('description', 'BAD'), ('orig_time', None)])\n",
      "OrderedDict([('onset', 323.95401), ('duration', 2.048980712890625), ('description', 'bad'), ('orig_time', None)])\n",
      "OrderedDict([('onset', 347.856262), ('duration', 1.5592041015625), ('description', 'BAD'), ('orig_time', None)])\n",
      "OrderedDict([('onset', 392.949646), ('duration', 2.626922607421875), ('description', 'BAD'), ('orig_time', None)])\n",
      "OrderedDict([('onset', 431.853668), ('duration', 0.2994384765625), ('description', 'BAD'), ('orig_time', None)])\n",
      "OrderedDict([('onset', 443.531525), ('duration', 0.67791748046875), ('description', 'BAD'), ('orig_time', None)])\n",
      "OrderedDict([('onset', 601.887573), ('duration', 0.17510986328125), ('description', 'BAD'), ('orig_time', None)])\n",
      "OrderedDict([('onset', 636.2080092581007), ('duration', 1.8187821176184116), ('description', 'BAD'), ('orig_time', None)])\n",
      "OrderedDict([('onset', 744.5776926620421), ('duration', 0.38983154296875), ('description', 'BAD'), ('orig_time', None)])\n",
      "OrderedDict([('onset', 746.2167818557353), ('duration', 0.633560124733549), ('description', 'BAD'), ('orig_time', None)])\n",
      "OrderedDict([('onset', 809.1239329906178), ('duration', 0.37921104255042337), ('description', 'BAD'), ('orig_time', None)])\n",
      "OrderedDict([('onset', 819.8466436714241), ('duration', 1.6448964493488347), ('description', 'BAD'), ('orig_time', None)])\n",
      "OrderedDict([('onset', 871.186707), ('duration', 0.2655029296875), ('description', 'BAD'), ('orig_time', None)])\n",
      "OrderedDict([('onset', 877.492065), ('duration', 1.14678955078125), ('description', 'BAD'), ('orig_time', None)])\n",
      "OrderedDict([('onset', 904.9519237698106), ('duration', 0.1906235137562362), ('description', 'BAD'), ('orig_time', None)])\n",
      "OrderedDict([('onset', 942.4688168939705), ('duration', 0.46893310546875), ('description', 'BAD'), ('orig_time', None)])\n",
      "OrderedDict([('onset', 946.1202995851008), ('duration', 0.54229736328125), ('description', 'BAD'), ('orig_time', None)])\n",
      "OrderedDict([('onset', 956.9452358584159), ('duration', 0.7517651328248576), ('description', 'BAD'), ('orig_time', None)])\n",
      "OrderedDict([('onset', 963.093018), ('duration', 1.60296630859375), ('description', 'bad'), ('orig_time', None)])\n",
      "OrderedDict([('onset', 1001.890991), ('duration', 2.40802001953125), ('description', 'bad'), ('orig_time', None)])\n",
      "OrderedDict([('onset', 1043.348145), ('duration', 0.9490966796875), ('description', 'BAD'), ('orig_time', None)])\n",
      "OrderedDict([('onset', 1049.488892), ('duration', 0.768310546875), ('description', 'BAD'), ('orig_time', None)])\n",
      "OrderedDict([('onset', 1125.460571), ('duration', 0.3955078125), ('description', 'BAD'), ('orig_time', None)])\n",
      "OrderedDict([('onset', 1129.602295), ('duration', 0.3106689453125), ('description', 'BAD'), ('orig_time', None)])\n",
      "OrderedDict([('onset', 1190.0437886423358), ('duration', 1.8939368463531991), ('description', 'BAD'), ('orig_time', None)])\n",
      "OrderedDict([('onset', 1201.1260382688233), ('duration', 0.9592667143865583), ('description', 'BAD'), ('orig_time', None)])\n",
      "OrderedDict([('onset', 1259.912964), ('duration', 0.451904296875), ('description', 'BAD'), ('orig_time', None)])\n",
      "OrderedDict([('onset', 1279.2997420241259), ('duration', 0.9162226951511911), ('description', 'BAD'), ('orig_time', None)])\n",
      "OrderedDict([('onset', 1301.37915), ('duration', 0.4462890625), ('description', 'BAD'), ('orig_time', None)])\n",
      "OrderedDict([('onset', 1317.338013), ('duration', 1.1500244140625), ('description', 'bad'), ('orig_time', None)])\n",
      "OrderedDict([('onset', 1355.1889345627142), ('duration', 1.01123046875), ('description', 'BAD'), ('orig_time', None)])\n",
      "OrderedDict([('onset', 1461.090698), ('duration', 0.660888671875), ('description', 'BAD'), ('orig_time', None)])\n",
      "OrderedDict([('onset', 1489.734863), ('duration', 0.525390625), ('description', 'BAD'), ('orig_time', None)])\n",
      "OrderedDict([('onset', 1517.9465576794664), ('duration', 1.4481237899874486), ('description', 'BAD'), ('orig_time', None)])\n",
      "OrderedDict([('onset', 1570.344971), ('duration', 1.3162841796875), ('description', 'BAD'), ('orig_time', None)])\n",
      "OrderedDict([('onset', 1575.946045), ('duration', 1.552001953125), ('description', 'bad'), ('orig_time', None)])\n",
      "Overwriting existing file.\n"
     ]
    },
    {
     "name": "stderr",
     "output_type": "stream",
     "text": [
      "/tmp/ipykernel_9070/1805030964.py:7: RuntimeWarning: This filename (/home/brooke/pacman/raw_data/BJH039/ieeg/saved_annotations.fif) does not conform to MNE naming conventions. All annotations files should end with -annot.fif, -annot.fif.gz, _annot.fif, _annot.fif.gz, .txt or .csv\n",
      "  bp_filtered_fif.annotations.save(f'{raw_data_dir}/ieeg/saved_annotations.fif', overwrite = True)\n"
     ]
    }
   ],
   "source": [
    "# # From interactive sessions\n",
    "# interactive_annot = bp_filtered_fif.annotations\n",
    "# for x in range(0, len(bp_filtered_fif.annotations)):\n",
    "#     print(interactive_annot[x])\n",
    "    \n",
    "    \n",
    "# bp_filtered_fif.annotations.save(f'{raw_data_dir}/ieeg/saved_annotations.fif', overwrite = True) "
   ]
  },
  {
   "cell_type": "markdown",
   "id": "a938b93d-19c7-42cf-af9b-9f4517c2cde6",
   "metadata": {},
   "source": [
    "## Epoching the data "
   ]
  },
  {
   "cell_type": "markdown",
   "id": "363a8293-c07c-4444-b221-3b7dd5251a47",
   "metadata": {},
   "source": [
    "### Onset"
   ]
  },
  {
   "cell_type": "code",
   "execution_count": 9,
   "id": "d34cf356-0303-4ce0-b53c-c3ff8c60316f",
   "metadata": {
    "tags": []
   },
   "outputs": [
    {
     "name": "stdout",
     "output_type": "stream",
     "text": [
      "Opening raw data file /home/brooke/pacman/preprocessing/BJH039/ieeg/BJH039_bp_filtered_clean_data.fif...\n",
      "    Range : 0 ... 2197999 =      0.000 ...  1098.999 secs\n",
      "Ready.\n",
      "Opening raw data file /home/brooke/pacman/preprocessing/BJH039/ieeg/BJH039_bp_filtered_clean_data-1.fif...\n",
      "    Range : 2198000 ... 3639799 =   1099.000 ...  1819.899 secs\n",
      "Ready.\n"
     ]
    },
    {
     "name": "stderr",
     "output_type": "stream",
     "text": [
      "/tmp/ipykernel_9070/1463149468.py:4: RuntimeWarning: This filename (/home/brooke/pacman/preprocessing/BJH039/ieeg/BJH039_bp_filtered_clean_data.fif) does not conform to MNE naming conventions. All raw files should end with raw.fif, raw_sss.fif, raw_tsss.fif, _meg.fif, _eeg.fif, _ieeg.fif, raw.fif.gz, raw_sss.fif.gz, raw_tsss.fif.gz, _meg.fif.gz, _eeg.fif.gz or _ieeg.fif.gz\n",
      "  bp_filtered_fif = mne.io.Raw(f\"{preproc_data_dir}/{subject}_bp_filtered_clean_data.fif\")\n"
     ]
    },
    {
     "name": "stdout",
     "output_type": "stream",
     "text": [
      "446 events found\n",
      "Event IDs: [0 1]\n",
      "Not setting metadata\n",
      "223 matching events found\n",
      "No baseline correction applied\n",
      "0 projection items activated\n",
      "Loading data for 1 events and 32001 original time points ...\n",
      "Splitting into 2 parts\n",
      "Loading data for 112 events and 32001 original time points ...\n"
     ]
    },
    {
     "name": "stderr",
     "output_type": "stream",
     "text": [
      "/tmp/ipykernel_9070/1463149468.py:18: RuntimeWarning: This filename (/home/brooke/pacman/preprocessing/BJH039/ieeg/BJH039_bp_clean_pres-locked_ieeg.fif) does not conform to MNE naming conventions. All epochs files should end with -epo.fif, -epo.fif.gz, _epo.fif or _epo.fif.gz\n",
      "  epoched_data.save(f\"{preproc_data_dir}/{subject}_bp_clean_pres-locked_ieeg.fif\", overwrite = True, split_size = '1.9GB')\n"
     ]
    },
    {
     "name": "stdout",
     "output_type": "stream",
     "text": [
      "Loading data for 111 events and 32001 original time points ...\n"
     ]
    }
   ],
   "source": [
    "## Epoching the raw data ##\n",
    "\n",
    "# load data \n",
    "bp_filtered_fif = mne.io.Raw(f\"{preproc_data_dir}/{subject}_bp_filtered_clean_data.fif\")\n",
    "events = mne.find_events(bp_filtered_fif, output='step', consecutive = False, stim_channel='STI')\n",
    "\n",
    "# create events\n",
    "    \n",
    "# only epoch good channels\n",
    "channels_of_interest =  [x for x in bp_filtered_fif.info['ch_names'] if x not in bp_filtered_fif.info['bads']]\n",
    "\n",
    "# epoch the data\n",
    "epoched_data = mne.Epochs(bp_filtered_fif, events, \n",
    "                          event_id = 1, tmin = -4, tmax = 12, \n",
    "                          baseline = None, picks = channels_of_interest,\n",
    "                             reject_by_annotation = False)\n",
    "# save the data\n",
    "epoched_data.save(f\"{preproc_data_dir}/{subject}_bp_clean_pres-locked_ieeg.fif\", overwrite = True, split_size = '1.9GB')"
   ]
  },
  {
   "cell_type": "markdown",
   "id": "f4302cbb-9bab-4e65-aeb8-dcee85c67880",
   "metadata": {},
   "source": [
    "### Trial End"
   ]
  },
  {
   "cell_type": "code",
   "execution_count": 11,
   "id": "9ea0726b-3f47-4585-bbd5-72c10ed3f06d",
   "metadata": {
    "tags": []
   },
   "outputs": [
    {
     "name": "stdout",
     "output_type": "stream",
     "text": [
      "Opening raw data file /home/brooke/pacman/preprocessing/BJH039/ieeg/BJH039_bp_filtered_clean_data.fif...\n",
      "    Range : 0 ... 2197999 =      0.000 ...  1098.999 secs\n",
      "Ready.\n",
      "Opening raw data file /home/brooke/pacman/preprocessing/BJH039/ieeg/BJH039_bp_filtered_clean_data-1.fif...\n",
      "    Range : 2198000 ... 3639799 =   1099.000 ...  1819.899 secs\n",
      "Ready.\n"
     ]
    },
    {
     "name": "stderr",
     "output_type": "stream",
     "text": [
      "/tmp/ipykernel_9070/875914644.py:4: RuntimeWarning: This filename (/home/brooke/pacman/preprocessing/BJH039/ieeg/BJH039_bp_filtered_clean_data.fif) does not conform to MNE naming conventions. All raw files should end with raw.fif, raw_sss.fif, raw_tsss.fif, _meg.fif, _eeg.fif, _ieeg.fif, raw.fif.gz, raw_sss.fif.gz, raw_tsss.fif.gz, _meg.fif.gz, _eeg.fif.gz or _ieeg.fif.gz\n",
      "  bp_filtered_fif = mne.io.Raw(f\"{preproc_data_dir}/{subject}_bp_filtered_clean_data.fif\")\n"
     ]
    },
    {
     "name": "stdout",
     "output_type": "stream",
     "text": [
      "446 events found\n",
      "Event IDs: [0 1]\n",
      "Not setting metadata\n",
      "222 matching events found\n",
      "No baseline correction applied\n",
      "0 projection items activated\n",
      "Overwriting existing file.\n",
      "Loading data for 1 events and 20001 original time points ...\n",
      "Splitting into 2 parts\n"
     ]
    },
    {
     "name": "stderr",
     "output_type": "stream",
     "text": [
      "/tmp/ipykernel_9070/875914644.py:19: RuntimeWarning: This filename (/home/brooke/pacman/preprocessing/BJH039/ieeg/BJH039_bp_clean_end-locked_ieeg.fif) does not conform to MNE naming conventions. All epochs files should end with -epo.fif, -epo.fif.gz, _epo.fif or _epo.fif.gz\n",
      "  epoched_data.save(f\"{preproc_data_dir}/{subject}_bp_clean_end-locked_ieeg.fif\", overwrite = True, split_size = '1.9GB')\n"
     ]
    },
    {
     "name": "stdout",
     "output_type": "stream",
     "text": [
      "Loading data for 111 events and 20001 original time points ...\n",
      "Loading data for 111 events and 20001 original time points ...\n"
     ]
    }
   ],
   "source": [
    "## Epoching the raw data ##\n",
    "\n",
    "# load data \n",
    "bp_filtered_fif = mne.io.Raw(f\"{preproc_data_dir}/{subject}_bp_filtered_clean_data.fif\")\n",
    "events = mne.find_events(bp_filtered_fif, output='step', consecutive = False, stim_channel='STI')\n",
    "\n",
    "# create events\n",
    "events = events[0:-1]\n",
    "\n",
    "# only epoch good channels\n",
    "channels_of_interest =  [x for x in bp_filtered_fif.info['ch_names'] if x not in bp_filtered_fif.info['bads']]\n",
    "\n",
    "# epoch the data\n",
    "epoched_data = mne.Epochs(bp_filtered_fif, events, \n",
    "                          event_id = 0, tmin = -5, tmax = 5, \n",
    "                          baseline = None, picks = channels_of_interest,\n",
    "                             reject_by_annotation = False)\n",
    "# save the data\n",
    "epoched_data.save(f\"{preproc_data_dir}/{subject}_bp_clean_end-locked_ieeg.fif\", overwrite = True, split_size = '1.9GB')"
   ]
  },
  {
   "cell_type": "markdown",
   "id": "4a8943e3-aec3-4aaf-9f8b-a629382b4711",
   "metadata": {},
   "source": [
    "### Last Away"
   ]
  },
  {
   "cell_type": "code",
   "execution_count": 12,
   "id": "736f64f0-a000-4a57-be90-7ff0c27ac7af",
   "metadata": {
    "tags": []
   },
   "outputs": [
    {
     "data": {
      "text/html": [
       "<div>\n",
       "<style scoped>\n",
       "    .dataframe tbody tr th:only-of-type {\n",
       "        vertical-align: middle;\n",
       "    }\n",
       "\n",
       "    .dataframe tbody tr th {\n",
       "        vertical-align: top;\n",
       "    }\n",
       "\n",
       "    .dataframe thead th {\n",
       "        text-align: right;\n",
       "    }\n",
       "</style>\n",
       "<table border=\"1\" class=\"dataframe\">\n",
       "  <thead>\n",
       "    <tr style=\"text-align: right;\">\n",
       "      <th></th>\n",
       "      <th>neural_trial_numeric</th>\n",
       "      <th>TrialType</th>\n",
       "      <th>sample</th>\n",
       "      <th>sample_before</th>\n",
       "      <th>event</th>\n",
       "    </tr>\n",
       "  </thead>\n",
       "  <tbody>\n",
       "    <tr>\n",
       "      <th>0</th>\n",
       "      <td>2</td>\n",
       "      <td>18</td>\n",
       "      <td>66400</td>\n",
       "      <td>0</td>\n",
       "      <td>1</td>\n",
       "    </tr>\n",
       "    <tr>\n",
       "      <th>1</th>\n",
       "      <td>3</td>\n",
       "      <td>12</td>\n",
       "      <td>79200</td>\n",
       "      <td>0</td>\n",
       "      <td>1</td>\n",
       "    </tr>\n",
       "    <tr>\n",
       "      <th>2</th>\n",
       "      <td>5</td>\n",
       "      <td>1</td>\n",
       "      <td>128400</td>\n",
       "      <td>0</td>\n",
       "      <td>1</td>\n",
       "    </tr>\n",
       "    <tr>\n",
       "      <th>3</th>\n",
       "      <td>6</td>\n",
       "      <td>20</td>\n",
       "      <td>143200</td>\n",
       "      <td>0</td>\n",
       "      <td>1</td>\n",
       "    </tr>\n",
       "    <tr>\n",
       "      <th>4</th>\n",
       "      <td>7</td>\n",
       "      <td>5</td>\n",
       "      <td>165400</td>\n",
       "      <td>0</td>\n",
       "      <td>1</td>\n",
       "    </tr>\n",
       "    <tr>\n",
       "      <th>...</th>\n",
       "      <td>...</td>\n",
       "      <td>...</td>\n",
       "      <td>...</td>\n",
       "      <td>...</td>\n",
       "      <td>...</td>\n",
       "    </tr>\n",
       "    <tr>\n",
       "      <th>173</th>\n",
       "      <td>215</td>\n",
       "      <td>10</td>\n",
       "      <td>3133400</td>\n",
       "      <td>0</td>\n",
       "      <td>1</td>\n",
       "    </tr>\n",
       "    <tr>\n",
       "      <th>174</th>\n",
       "      <td>216</td>\n",
       "      <td>13</td>\n",
       "      <td>3144400</td>\n",
       "      <td>0</td>\n",
       "      <td>1</td>\n",
       "    </tr>\n",
       "    <tr>\n",
       "      <th>175</th>\n",
       "      <td>217</td>\n",
       "      <td>9</td>\n",
       "      <td>3154100</td>\n",
       "      <td>0</td>\n",
       "      <td>1</td>\n",
       "    </tr>\n",
       "    <tr>\n",
       "      <th>176</th>\n",
       "      <td>219</td>\n",
       "      <td>18</td>\n",
       "      <td>3222600</td>\n",
       "      <td>0</td>\n",
       "      <td>1</td>\n",
       "    </tr>\n",
       "    <tr>\n",
       "      <th>177</th>\n",
       "      <td>220</td>\n",
       "      <td>15</td>\n",
       "      <td>3240600</td>\n",
       "      <td>0</td>\n",
       "      <td>1</td>\n",
       "    </tr>\n",
       "  </tbody>\n",
       "</table>\n",
       "<p>178 rows × 5 columns</p>\n",
       "</div>"
      ],
      "text/plain": [
       "     neural_trial_numeric  TrialType   sample  sample_before  event\n",
       "0                       2         18    66400              0      1\n",
       "1                       3         12    79200              0      1\n",
       "2                       5          1   128400              0      1\n",
       "3                       6         20   143200              0      1\n",
       "4                       7          5   165400              0      1\n",
       "..                    ...        ...      ...            ...    ...\n",
       "173                   215         10  3133400              0      1\n",
       "174                   216         13  3144400              0      1\n",
       "175                   217          9  3154100              0      1\n",
       "176                   219         18  3222600              0      1\n",
       "177                   220         15  3240600              0      1\n",
       "\n",
       "[178 rows x 5 columns]"
      ]
     },
     "execution_count": 12,
     "metadata": {},
     "output_type": "execute_result"
    }
   ],
   "source": [
    "## Load Behavioral Data ##\n",
    "last_away_data = pd.read_csv(f\"{raw_data_dir}/behave/{subject}_last_away_events.csv\")\n",
    "last_away_data"
   ]
  },
  {
   "cell_type": "code",
   "execution_count": 13,
   "id": "4c16ca43-2895-4a24-977d-b84035bdff96",
   "metadata": {
    "tags": []
   },
   "outputs": [],
   "source": [
    "# create events\n",
    "last_away_events = last_away_data[['sample', 'sample_before', 'event']].copy().to_numpy()\n"
   ]
  },
  {
   "cell_type": "code",
   "execution_count": 14,
   "id": "2981e217-c706-4d9b-bd78-a9ff79462bd1",
   "metadata": {
    "tags": []
   },
   "outputs": [
    {
     "name": "stdout",
     "output_type": "stream",
     "text": [
      "Opening raw data file /home/brooke/pacman/preprocessing/BJH039/ieeg/BJH039_bp_filtered_clean_data.fif...\n",
      "    Range : 0 ... 2197999 =      0.000 ...  1098.999 secs\n",
      "Ready.\n",
      "Opening raw data file /home/brooke/pacman/preprocessing/BJH039/ieeg/BJH039_bp_filtered_clean_data-1.fif...\n",
      "    Range : 2198000 ... 3639799 =   1099.000 ...  1819.899 secs\n",
      "Ready.\n",
      "Not setting metadata\n",
      "178 matching events found\n",
      "No baseline correction applied\n",
      "0 projection items activated\n",
      "Loading data for 1 events and 20001 original time points ...\n"
     ]
    },
    {
     "name": "stderr",
     "output_type": "stream",
     "text": [
      "/tmp/ipykernel_9070/678285560.py:2: RuntimeWarning: This filename (/home/brooke/pacman/preprocessing/BJH039/ieeg/BJH039_bp_filtered_clean_data.fif) does not conform to MNE naming conventions. All raw files should end with raw.fif, raw_sss.fif, raw_tsss.fif, _meg.fif, _eeg.fif, _ieeg.fif, raw.fif.gz, raw_sss.fif.gz, raw_tsss.fif.gz, _meg.fif.gz, _eeg.fif.gz or _ieeg.fif.gz\n",
      "  bp_filtered_fif = mne.io.Raw(f\"{preproc_data_dir}/{subject}_bp_filtered_clean_data.fif\")\n",
      "/tmp/ipykernel_9070/678285560.py:13: RuntimeWarning: This filename (/home/brooke/pacman/preprocessing/BJH039/ieeg/BJH039_bp_filtered_clean_last_away_events.fif) does not conform to MNE naming conventions. All epochs files should end with -epo.fif, -epo.fif.gz, _epo.fif or _epo.fif.gz\n",
      "  last_away_epochs.save(f\"{preproc_data_dir}/{subject}_bp_filtered_clean_last_away_events.fif\", overwrite = True, split_size = '1.9GB')\n"
     ]
    },
    {
     "name": "stdout",
     "output_type": "stream",
     "text": [
      "Loading data for 178 events and 20001 original time points ...\n"
     ]
    }
   ],
   "source": [
    "# load data \n",
    "bp_filtered_fif = mne.io.Raw(f\"{preproc_data_dir}/{subject}_bp_filtered_clean_data.fif\")\n",
    "    \n",
    "# only epoch good channels\n",
    "channels_of_interest =  [x for x in bp_filtered_fif.info['ch_names'] if x not in bp_filtered_fif.info['bads']]\n",
    "\n",
    "# epoch the data\n",
    "last_away_epochs = mne.Epochs(bp_filtered_fif, last_away_events, \n",
    "                          event_id = 1, tmin = -5, tmax =5, \n",
    "                          baseline = None, picks = channels_of_interest,\n",
    "                             reject_by_annotation = False)\n",
    "# # save the data\n",
    "last_away_epochs.save(f\"{preproc_data_dir}/{subject}_bp_filtered_clean_last_away_events.fif\", overwrite = True, split_size = '1.9GB')\n"
   ]
  },
  {
   "cell_type": "markdown",
   "id": "133aafa9-c73e-4924-ab01-46e860d97993",
   "metadata": {
    "tags": []
   },
   "source": [
    "### First Dot"
   ]
  },
  {
   "cell_type": "code",
   "execution_count": 15,
   "id": "1e6b25a2-0788-4a30-91eb-93b8d1652e1b",
   "metadata": {
    "tags": []
   },
   "outputs": [
    {
     "data": {
      "text/html": [
       "<div>\n",
       "<style scoped>\n",
       "    .dataframe tbody tr th:only-of-type {\n",
       "        vertical-align: middle;\n",
       "    }\n",
       "\n",
       "    .dataframe tbody tr th {\n",
       "        vertical-align: top;\n",
       "    }\n",
       "\n",
       "    .dataframe thead th {\n",
       "        text-align: right;\n",
       "    }\n",
       "</style>\n",
       "<table border=\"1\" class=\"dataframe\">\n",
       "  <thead>\n",
       "    <tr style=\"text-align: right;\">\n",
       "      <th></th>\n",
       "      <th>neural_trial_numeric</th>\n",
       "      <th>TrialType</th>\n",
       "      <th>sample</th>\n",
       "      <th>sample_before</th>\n",
       "      <th>event</th>\n",
       "    </tr>\n",
       "  </thead>\n",
       "  <tbody>\n",
       "    <tr>\n",
       "      <th>0</th>\n",
       "      <td>2</td>\n",
       "      <td>18</td>\n",
       "      <td>63700</td>\n",
       "      <td>0</td>\n",
       "      <td>1</td>\n",
       "    </tr>\n",
       "    <tr>\n",
       "      <th>1</th>\n",
       "      <td>3</td>\n",
       "      <td>12</td>\n",
       "      <td>77100</td>\n",
       "      <td>0</td>\n",
       "      <td>1</td>\n",
       "    </tr>\n",
       "    <tr>\n",
       "      <th>2</th>\n",
       "      <td>4</td>\n",
       "      <td>15</td>\n",
       "      <td>89500</td>\n",
       "      <td>0</td>\n",
       "      <td>1</td>\n",
       "    </tr>\n",
       "    <tr>\n",
       "      <th>3</th>\n",
       "      <td>5</td>\n",
       "      <td>1</td>\n",
       "      <td>126300</td>\n",
       "      <td>0</td>\n",
       "      <td>1</td>\n",
       "    </tr>\n",
       "    <tr>\n",
       "      <th>4</th>\n",
       "      <td>6</td>\n",
       "      <td>20</td>\n",
       "      <td>136100</td>\n",
       "      <td>0</td>\n",
       "      <td>1</td>\n",
       "    </tr>\n",
       "    <tr>\n",
       "      <th>...</th>\n",
       "      <td>...</td>\n",
       "      <td>...</td>\n",
       "      <td>...</td>\n",
       "      <td>...</td>\n",
       "      <td>...</td>\n",
       "    </tr>\n",
       "    <tr>\n",
       "      <th>207</th>\n",
       "      <td>216</td>\n",
       "      <td>13</td>\n",
       "      <td>3142700</td>\n",
       "      <td>0</td>\n",
       "      <td>1</td>\n",
       "    </tr>\n",
       "    <tr>\n",
       "      <th>208</th>\n",
       "      <td>218</td>\n",
       "      <td>6</td>\n",
       "      <td>3160400</td>\n",
       "      <td>0</td>\n",
       "      <td>1</td>\n",
       "    </tr>\n",
       "    <tr>\n",
       "      <th>209</th>\n",
       "      <td>219</td>\n",
       "      <td>18</td>\n",
       "      <td>3220000</td>\n",
       "      <td>0</td>\n",
       "      <td>1</td>\n",
       "    </tr>\n",
       "    <tr>\n",
       "      <th>210</th>\n",
       "      <td>220</td>\n",
       "      <td>15</td>\n",
       "      <td>3239400</td>\n",
       "      <td>0</td>\n",
       "      <td>1</td>\n",
       "    </tr>\n",
       "    <tr>\n",
       "      <th>211</th>\n",
       "      <td>221</td>\n",
       "      <td>19</td>\n",
       "      <td>3248800</td>\n",
       "      <td>0</td>\n",
       "      <td>1</td>\n",
       "    </tr>\n",
       "  </tbody>\n",
       "</table>\n",
       "<p>212 rows × 5 columns</p>\n",
       "</div>"
      ],
      "text/plain": [
       "     neural_trial_numeric  TrialType   sample  sample_before  event\n",
       "0                       2         18    63700              0      1\n",
       "1                       3         12    77100              0      1\n",
       "2                       4         15    89500              0      1\n",
       "3                       5          1   126300              0      1\n",
       "4                       6         20   136100              0      1\n",
       "..                    ...        ...      ...            ...    ...\n",
       "207                   216         13  3142700              0      1\n",
       "208                   218          6  3160400              0      1\n",
       "209                   219         18  3220000              0      1\n",
       "210                   220         15  3239400              0      1\n",
       "211                   221         19  3248800              0      1\n",
       "\n",
       "[212 rows x 5 columns]"
      ]
     },
     "execution_count": 15,
     "metadata": {},
     "output_type": "execute_result"
    }
   ],
   "source": [
    "## Load Behavioral Data ##\n",
    "first_dot_data = pd.read_csv(f\"{raw_data_dir}/behave/{subject}_first_dot_events.csv\")\n",
    "first_dot_data"
   ]
  },
  {
   "cell_type": "code",
   "execution_count": 16,
   "id": "8bdbad14-a72f-4c02-a6f2-8b9ada525be6",
   "metadata": {
    "tags": []
   },
   "outputs": [],
   "source": [
    "# create events\n",
    "first_dot_data = first_dot_data[['sample', 'sample_before', 'event']].copy().to_numpy()\n"
   ]
  },
  {
   "cell_type": "code",
   "execution_count": 17,
   "id": "4dfdcf0b-4cf1-45c6-81ac-22eabf10864f",
   "metadata": {
    "tags": []
   },
   "outputs": [
    {
     "name": "stdout",
     "output_type": "stream",
     "text": [
      "Opening raw data file /home/brooke/pacman/preprocessing/BJH039/ieeg/BJH039_bp_filtered_clean_data.fif...\n",
      "    Range : 0 ... 2197999 =      0.000 ...  1098.999 secs\n",
      "Ready.\n",
      "Opening raw data file /home/brooke/pacman/preprocessing/BJH039/ieeg/BJH039_bp_filtered_clean_data-1.fif...\n",
      "    Range : 2198000 ... 3639799 =   1099.000 ...  1819.899 secs\n",
      "Ready.\n",
      "Not setting metadata\n",
      "212 matching events found\n",
      "No baseline correction applied\n",
      "0 projection items activated\n",
      "Loading data for 1 events and 18001 original time points ...\n",
      "Loading data for 212 events and 18001 original time points ...\n"
     ]
    },
    {
     "name": "stderr",
     "output_type": "stream",
     "text": [
      "/tmp/ipykernel_9070/4126832509.py:2: RuntimeWarning: This filename (/home/brooke/pacman/preprocessing/BJH039/ieeg/BJH039_bp_filtered_clean_data.fif) does not conform to MNE naming conventions. All raw files should end with raw.fif, raw_sss.fif, raw_tsss.fif, _meg.fif, _eeg.fif, _ieeg.fif, raw.fif.gz, raw_sss.fif.gz, raw_tsss.fif.gz, _meg.fif.gz, _eeg.fif.gz or _ieeg.fif.gz\n",
      "  bp_filtered_fif = mne.io.Raw(f\"{preproc_data_dir}/{subject}_bp_filtered_clean_data.fif\")\n",
      "/tmp/ipykernel_9070/4126832509.py:14: RuntimeWarning: This filename (/home/brooke/pacman/preprocessing/BJH039/ieeg/BJH039_bp_filtered_clean_first_dot_events.fif) does not conform to MNE naming conventions. All epochs files should end with -epo.fif, -epo.fif.gz, _epo.fif or _epo.fif.gz\n",
      "  first_dot_epochs.save(f\"{preproc_data_dir}/{subject}_bp_filtered_clean_first_dot_events.fif\", overwrite = True, split_size = '1.9GB')\n"
     ]
    }
   ],
   "source": [
    "# load data \n",
    "bp_filtered_fif = mne.io.Raw(f\"{preproc_data_dir}/{subject}_bp_filtered_clean_data.fif\")\n",
    "\n",
    "# only epoch good channels\n",
    "channels_of_interest =  [x for x in bp_filtered_fif.info['ch_names'] if x not in bp_filtered_fif.info['bads']]\n",
    "\n",
    "\n",
    "# epoch the data\n",
    "first_dot_epochs = mne.Epochs(bp_filtered_fif, first_dot_data, \n",
    "                          event_id = 1, tmin = -3, tmax =6, \n",
    "                          baseline = None, picks = channels_of_interest,\n",
    "                             reject_by_annotation = False)\n",
    "# # save the data\n",
    "first_dot_epochs.save(f\"{preproc_data_dir}/{subject}_bp_filtered_clean_first_dot_events.fif\", overwrite = True, split_size = '1.9GB')\n"
   ]
  },
  {
   "cell_type": "markdown",
   "id": "f0b4298a-607f-4a6e-b75d-65586d3c1e9d",
   "metadata": {
    "tags": []
   },
   "source": [
    "## First Move"
   ]
  },
  {
   "cell_type": "code",
   "execution_count": 18,
   "id": "25f76656-57cf-43be-89ff-54b68942f662",
   "metadata": {
    "tags": []
   },
   "outputs": [
    {
     "data": {
      "text/html": [
       "<div>\n",
       "<style scoped>\n",
       "    .dataframe tbody tr th:only-of-type {\n",
       "        vertical-align: middle;\n",
       "    }\n",
       "\n",
       "    .dataframe tbody tr th {\n",
       "        vertical-align: top;\n",
       "    }\n",
       "\n",
       "    .dataframe thead th {\n",
       "        text-align: right;\n",
       "    }\n",
       "</style>\n",
       "<table border=\"1\" class=\"dataframe\">\n",
       "  <thead>\n",
       "    <tr style=\"text-align: right;\">\n",
       "      <th></th>\n",
       "      <th>neural_trial_numeric</th>\n",
       "      <th>TrialType</th>\n",
       "      <th>sample</th>\n",
       "      <th>sample_before</th>\n",
       "      <th>event</th>\n",
       "    </tr>\n",
       "  </thead>\n",
       "  <tbody>\n",
       "    <tr>\n",
       "      <th>0</th>\n",
       "      <td>1</td>\n",
       "      <td>14</td>\n",
       "      <td>47500</td>\n",
       "      <td>0</td>\n",
       "      <td>1</td>\n",
       "    </tr>\n",
       "    <tr>\n",
       "      <th>1</th>\n",
       "      <td>2</td>\n",
       "      <td>18</td>\n",
       "      <td>63100</td>\n",
       "      <td>0</td>\n",
       "      <td>1</td>\n",
       "    </tr>\n",
       "    <tr>\n",
       "      <th>2</th>\n",
       "      <td>3</td>\n",
       "      <td>12</td>\n",
       "      <td>76600</td>\n",
       "      <td>0</td>\n",
       "      <td>1</td>\n",
       "    </tr>\n",
       "    <tr>\n",
       "      <th>3</th>\n",
       "      <td>4</td>\n",
       "      <td>15</td>\n",
       "      <td>88700</td>\n",
       "      <td>0</td>\n",
       "      <td>1</td>\n",
       "    </tr>\n",
       "    <tr>\n",
       "      <th>4</th>\n",
       "      <td>5</td>\n",
       "      <td>1</td>\n",
       "      <td>126100</td>\n",
       "      <td>0</td>\n",
       "      <td>1</td>\n",
       "    </tr>\n",
       "    <tr>\n",
       "      <th>...</th>\n",
       "      <td>...</td>\n",
       "      <td>...</td>\n",
       "      <td>...</td>\n",
       "      <td>...</td>\n",
       "      <td>...</td>\n",
       "    </tr>\n",
       "    <tr>\n",
       "      <th>216</th>\n",
       "      <td>217</td>\n",
       "      <td>9</td>\n",
       "      <td>3154100</td>\n",
       "      <td>0</td>\n",
       "      <td>1</td>\n",
       "    </tr>\n",
       "    <tr>\n",
       "      <th>217</th>\n",
       "      <td>218</td>\n",
       "      <td>6</td>\n",
       "      <td>3159800</td>\n",
       "      <td>0</td>\n",
       "      <td>1</td>\n",
       "    </tr>\n",
       "    <tr>\n",
       "      <th>218</th>\n",
       "      <td>219</td>\n",
       "      <td>18</td>\n",
       "      <td>3219500</td>\n",
       "      <td>0</td>\n",
       "      <td>1</td>\n",
       "    </tr>\n",
       "    <tr>\n",
       "      <th>219</th>\n",
       "      <td>220</td>\n",
       "      <td>15</td>\n",
       "      <td>3238900</td>\n",
       "      <td>0</td>\n",
       "      <td>1</td>\n",
       "    </tr>\n",
       "    <tr>\n",
       "      <th>220</th>\n",
       "      <td>221</td>\n",
       "      <td>19</td>\n",
       "      <td>3248600</td>\n",
       "      <td>0</td>\n",
       "      <td>1</td>\n",
       "    </tr>\n",
       "  </tbody>\n",
       "</table>\n",
       "<p>221 rows × 5 columns</p>\n",
       "</div>"
      ],
      "text/plain": [
       "     neural_trial_numeric  TrialType   sample  sample_before  event\n",
       "0                       1         14    47500              0      1\n",
       "1                       2         18    63100              0      1\n",
       "2                       3         12    76600              0      1\n",
       "3                       4         15    88700              0      1\n",
       "4                       5          1   126100              0      1\n",
       "..                    ...        ...      ...            ...    ...\n",
       "216                   217          9  3154100              0      1\n",
       "217                   218          6  3159800              0      1\n",
       "218                   219         18  3219500              0      1\n",
       "219                   220         15  3238900              0      1\n",
       "220                   221         19  3248600              0      1\n",
       "\n",
       "[221 rows x 5 columns]"
      ]
     },
     "execution_count": 18,
     "metadata": {},
     "output_type": "execute_result"
    }
   ],
   "source": [
    "## Load Behavioral Data ##\n",
    "first_move_data = pd.read_csv(f\"{raw_data_dir}/behave/{subject}_first_move_events.csv\")\n",
    "first_move_data"
   ]
  },
  {
   "cell_type": "code",
   "execution_count": 19,
   "id": "63733838-49b2-4d97-a1e6-13a5c06b9b17",
   "metadata": {
    "tags": []
   },
   "outputs": [],
   "source": [
    "# create events\n",
    "first_move_data = first_move_data[['sample', 'sample_before', 'event']].copy().to_numpy()\n"
   ]
  },
  {
   "cell_type": "code",
   "execution_count": 20,
   "id": "302f7bc7-6d73-423e-a77a-ee54898b97e6",
   "metadata": {
    "tags": []
   },
   "outputs": [
    {
     "name": "stdout",
     "output_type": "stream",
     "text": [
      "Opening raw data file /home/brooke/pacman/preprocessing/BJH039/ieeg/BJH039_bp_filtered_clean_data.fif...\n",
      "    Range : 0 ... 2197999 =      0.000 ...  1098.999 secs\n",
      "Ready.\n",
      "Opening raw data file /home/brooke/pacman/preprocessing/BJH039/ieeg/BJH039_bp_filtered_clean_data-1.fif...\n",
      "    Range : 2198000 ... 3639799 =   1099.000 ...  1819.899 secs\n",
      "Ready.\n",
      "Not setting metadata\n",
      "221 matching events found\n",
      "No baseline correction applied\n",
      "0 projection items activated\n",
      "Loading data for 1 events and 20001 original time points ...\n",
      "Splitting into 2 parts\n",
      "Loading data for 111 events and 20001 original time points ...\n"
     ]
    },
    {
     "name": "stderr",
     "output_type": "stream",
     "text": [
      "/tmp/ipykernel_9070/3347570552.py:2: RuntimeWarning: This filename (/home/brooke/pacman/preprocessing/BJH039/ieeg/BJH039_bp_filtered_clean_data.fif) does not conform to MNE naming conventions. All raw files should end with raw.fif, raw_sss.fif, raw_tsss.fif, _meg.fif, _eeg.fif, _ieeg.fif, raw.fif.gz, raw_sss.fif.gz, raw_tsss.fif.gz, _meg.fif.gz, _eeg.fif.gz or _ieeg.fif.gz\n",
      "  bp_filtered_fif = mne.io.Raw(f\"{preproc_data_dir}/{subject}_bp_filtered_clean_data.fif\")\n",
      "/tmp/ipykernel_9070/3347570552.py:14: RuntimeWarning: This filename (/home/brooke/pacman/preprocessing/BJH039/ieeg/BJH039_bp_filtered_clean_first_move_events.fif) does not conform to MNE naming conventions. All epochs files should end with -epo.fif, -epo.fif.gz, _epo.fif or _epo.fif.gz\n",
      "  first_move_epochs.save(f\"{preproc_data_dir}/{subject}_bp_filtered_clean_first_move_events.fif\", overwrite = True, split_size = '1.9GB')\n"
     ]
    },
    {
     "name": "stdout",
     "output_type": "stream",
     "text": [
      "Loading data for 110 events and 20001 original time points ...\n"
     ]
    }
   ],
   "source": [
    "# load data \n",
    "bp_filtered_fif = mne.io.Raw(f\"{preproc_data_dir}/{subject}_bp_filtered_clean_data.fif\")\n",
    "\n",
    "# only epoch good channels\n",
    "channels_of_interest =  [x for x in bp_filtered_fif.info['ch_names'] if x not in bp_filtered_fif.info['bads']]\n",
    "\n",
    "\n",
    "# epoch the data\n",
    "first_move_epochs = mne.Epochs(bp_filtered_fif, first_move_data, \n",
    "                          event_id = 1, tmin = -5, tmax =5, \n",
    "                          baseline = None, picks = channels_of_interest,\n",
    "                             reject_by_annotation = False)\n",
    "# # save the data\n",
    "first_move_epochs.save(f\"{preproc_data_dir}/{subject}_bp_filtered_clean_first_move_events.fif\", overwrite = True, split_size = '1.9GB')\n"
   ]
  },
  {
   "cell_type": "markdown",
   "id": "a1b67b84",
   "metadata": {},
   "source": [
    "## Ghost Attack"
   ]
  },
  {
   "cell_type": "code",
   "execution_count": 22,
   "id": "0a9db8c9",
   "metadata": {
    "tags": []
   },
   "outputs": [
    {
     "data": {
      "text/html": [
       "<div>\n",
       "<style scoped>\n",
       "    .dataframe tbody tr th:only-of-type {\n",
       "        vertical-align: middle;\n",
       "    }\n",
       "\n",
       "    .dataframe tbody tr th {\n",
       "        vertical-align: top;\n",
       "    }\n",
       "\n",
       "    .dataframe thead th {\n",
       "        text-align: right;\n",
       "    }\n",
       "</style>\n",
       "<table border=\"1\" class=\"dataframe\">\n",
       "  <thead>\n",
       "    <tr style=\"text-align: right;\">\n",
       "      <th></th>\n",
       "      <th>neural_trial_numeric</th>\n",
       "      <th>TrialType</th>\n",
       "      <th>sample</th>\n",
       "      <th>sample_before</th>\n",
       "      <th>event</th>\n",
       "    </tr>\n",
       "  </thead>\n",
       "  <tbody>\n",
       "    <tr>\n",
       "      <th>0</th>\n",
       "      <td>0</td>\n",
       "      <td>13</td>\n",
       "      <td>25200</td>\n",
       "      <td>0</td>\n",
       "      <td>1</td>\n",
       "    </tr>\n",
       "    <tr>\n",
       "      <th>1</th>\n",
       "      <td>7</td>\n",
       "      <td>5</td>\n",
       "      <td>165400</td>\n",
       "      <td>0</td>\n",
       "      <td>1</td>\n",
       "    </tr>\n",
       "    <tr>\n",
       "      <th>2</th>\n",
       "      <td>11</td>\n",
       "      <td>9</td>\n",
       "      <td>213900</td>\n",
       "      <td>0</td>\n",
       "      <td>1</td>\n",
       "    </tr>\n",
       "    <tr>\n",
       "      <th>3</th>\n",
       "      <td>13</td>\n",
       "      <td>4</td>\n",
       "      <td>453600</td>\n",
       "      <td>0</td>\n",
       "      <td>1</td>\n",
       "    </tr>\n",
       "    <tr>\n",
       "      <th>4</th>\n",
       "      <td>16</td>\n",
       "      <td>6</td>\n",
       "      <td>487400</td>\n",
       "      <td>0</td>\n",
       "      <td>1</td>\n",
       "    </tr>\n",
       "    <tr>\n",
       "      <th>...</th>\n",
       "      <td>...</td>\n",
       "      <td>...</td>\n",
       "      <td>...</td>\n",
       "      <td>...</td>\n",
       "      <td>...</td>\n",
       "    </tr>\n",
       "    <tr>\n",
       "      <th>63</th>\n",
       "      <td>206</td>\n",
       "      <td>16</td>\n",
       "      <td>3026100</td>\n",
       "      <td>0</td>\n",
       "      <td>1</td>\n",
       "    </tr>\n",
       "    <tr>\n",
       "      <th>64</th>\n",
       "      <td>207</td>\n",
       "      <td>14</td>\n",
       "      <td>3037700</td>\n",
       "      <td>0</td>\n",
       "      <td>1</td>\n",
       "    </tr>\n",
       "    <tr>\n",
       "      <th>65</th>\n",
       "      <td>209</td>\n",
       "      <td>2</td>\n",
       "      <td>3060100</td>\n",
       "      <td>0</td>\n",
       "      <td>1</td>\n",
       "    </tr>\n",
       "    <tr>\n",
       "      <th>66</th>\n",
       "      <td>210</td>\n",
       "      <td>5</td>\n",
       "      <td>3070600</td>\n",
       "      <td>0</td>\n",
       "      <td>1</td>\n",
       "    </tr>\n",
       "    <tr>\n",
       "      <th>67</th>\n",
       "      <td>218</td>\n",
       "      <td>6</td>\n",
       "      <td>3161000</td>\n",
       "      <td>0</td>\n",
       "      <td>1</td>\n",
       "    </tr>\n",
       "  </tbody>\n",
       "</table>\n",
       "<p>68 rows × 5 columns</p>\n",
       "</div>"
      ],
      "text/plain": [
       "    neural_trial_numeric  TrialType   sample  sample_before  event\n",
       "0                      0         13    25200              0      1\n",
       "1                      7          5   165400              0      1\n",
       "2                     11          9   213900              0      1\n",
       "3                     13          4   453600              0      1\n",
       "4                     16          6   487400              0      1\n",
       "..                   ...        ...      ...            ...    ...\n",
       "63                   206         16  3026100              0      1\n",
       "64                   207         14  3037700              0      1\n",
       "65                   209          2  3060100              0      1\n",
       "66                   210          5  3070600              0      1\n",
       "67                   218          6  3161000              0      1\n",
       "\n",
       "[68 rows x 5 columns]"
      ]
     },
     "execution_count": 22,
     "metadata": {},
     "output_type": "execute_result"
    }
   ],
   "source": [
    "## Load Behavioral Data ##\n",
    "ghost_attack_data = pd.read_csv(f\"{raw_data_dir}/behave/{subject}_attack_events.csv\")\n",
    "ghost_attack_data"
   ]
  },
  {
   "cell_type": "code",
   "execution_count": 23,
   "id": "c39c3f21",
   "metadata": {
    "tags": []
   },
   "outputs": [],
   "source": [
    "# create events\n",
    "ghost_attack_data = ghost_attack_data[['sample', 'sample_before', 'event']].copy().to_numpy()\n"
   ]
  },
  {
   "cell_type": "code",
   "execution_count": 24,
   "id": "304276ed",
   "metadata": {
    "tags": []
   },
   "outputs": [
    {
     "name": "stdout",
     "output_type": "stream",
     "text": [
      "Opening raw data file /home/brooke/pacman/preprocessing/BJH039/ieeg/BJH039_bp_filtered_clean_data.fif...\n",
      "    Range : 0 ... 2197999 =      0.000 ...  1098.999 secs\n",
      "Ready.\n",
      "Opening raw data file /home/brooke/pacman/preprocessing/BJH039/ieeg/BJH039_bp_filtered_clean_data-1.fif...\n",
      "    Range : 2198000 ... 3639799 =   1099.000 ...  1819.899 secs\n",
      "Ready.\n",
      "Not setting metadata\n",
      "68 matching events found\n",
      "No baseline correction applied\n",
      "0 projection items activated\n",
      "Loading data for 1 events and 20001 original time points ...\n",
      "Loading data for 68 events and 20001 original time points ...\n"
     ]
    },
    {
     "name": "stderr",
     "output_type": "stream",
     "text": [
      "/tmp/ipykernel_9070/2681655913.py:2: RuntimeWarning: This filename (/home/brooke/pacman/preprocessing/BJH039/ieeg/BJH039_bp_filtered_clean_data.fif) does not conform to MNE naming conventions. All raw files should end with raw.fif, raw_sss.fif, raw_tsss.fif, _meg.fif, _eeg.fif, _ieeg.fif, raw.fif.gz, raw_sss.fif.gz, raw_tsss.fif.gz, _meg.fif.gz, _eeg.fif.gz or _ieeg.fif.gz\n",
      "  bp_filtered_fif = mne.io.Raw(f\"{preproc_data_dir}/{subject}_bp_filtered_clean_data.fif\")\n",
      "/tmp/ipykernel_9070/2681655913.py:14: RuntimeWarning: This filename (/home/brooke/pacman/preprocessing/BJH039/ieeg/BJH039_bp_filtered_clean_ghost_attack_events.fif) does not conform to MNE naming conventions. All epochs files should end with -epo.fif, -epo.fif.gz, _epo.fif or _epo.fif.gz\n",
      "  ghost_attack_epochs.save(f\"{preproc_data_dir}/{subject}_bp_filtered_clean_ghost_attack_events.fif\", overwrite = True, split_size = '1.9GB')\n"
     ]
    }
   ],
   "source": [
    "# load data \n",
    "bp_filtered_fif = mne.io.Raw(f\"{preproc_data_dir}/{subject}_bp_filtered_clean_data.fif\")\n",
    "\n",
    "# only epoch good channels\n",
    "channels_of_interest =  [x for x in bp_filtered_fif.info['ch_names'] if x not in bp_filtered_fif.info['bads']]\n",
    "\n",
    "\n",
    "# epoch the data\n",
    "ghost_attack_epochs = mne.Epochs(bp_filtered_fif, ghost_attack_data, \n",
    "                          event_id = 1, tmin = -4, tmax =6, \n",
    "                          baseline = None, picks = channels_of_interest,\n",
    "                             reject_by_annotation = False)\n",
    "# # save the data\n",
    "ghost_attack_epochs.save(f\"{preproc_data_dir}/{subject}_bp_filtered_clean_ghost_attack_events.fif\", overwrite = True, split_size = '1.9GB')\n"
   ]
  },
  {
   "cell_type": "code",
   "execution_count": null,
   "id": "005bd05e-cf1e-4e04-bc80-596092cd16d0",
   "metadata": {},
   "outputs": [],
   "source": []
  }
 ],
 "metadata": {
  "kernelspec": {
   "display_name": "Python [conda env:ieeg_analysis2] *",
   "language": "python",
   "name": "conda-env-ieeg_analysis2-py"
  },
  "language_info": {
   "codemirror_mode": {
    "name": "ipython",
    "version": 3
   },
   "file_extension": ".py",
   "mimetype": "text/x-python",
   "name": "python",
   "nbconvert_exporter": "python",
   "pygments_lexer": "ipython3",
   "version": "3.9.18"
  }
 },
 "nbformat": 4,
 "nbformat_minor": 5
}

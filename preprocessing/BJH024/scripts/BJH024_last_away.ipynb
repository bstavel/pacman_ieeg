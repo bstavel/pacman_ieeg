{
 "cells": [
  {
   "cell_type": "markdown",
   "id": "dd8fdc9d-95eb-42fe-abe1-80bb121b5d83",
   "metadata": {},
   "source": [
    "# Last Away ~ all frequencies: BJH024"
   ]
  },
  {
   "cell_type": "code",
   "execution_count": 1,
   "id": "b4cae23a-8d44-4df0-9b7a-3fcdc95e0e5c",
   "metadata": {},
   "outputs": [],
   "source": [
    "import matplotlib\n",
    "import matplotlib.pyplot as plt\n",
    "import pandas as pd\n",
    "import numpy as np\n",
    "from scipy import signal, stats\n",
    "import mat73\n",
    "import re\n",
    "from neurodsp.timefrequency import compute_wavelet_transform\n",
    "from BCI2kReader import BCI2kReader as b2k\n",
    "import os\n",
    "import mne\n",
    "from tabulate import tabulate\n",
    "import IPython\n",
    "import seaborn as sns\n",
    "import scipy\n",
    "import joblib\n",
    "\n",
    "import statsmodels\n",
    "from statsmodels import stats\n",
    "from statsmodels.stats import multitest\n",
    "\n",
    "# Import required code for visualizing example models\n",
    "from fooof import FOOOF\n",
    "from fooof.sim.gen import gen_power_spectrum\n",
    "from fooof.sim.utils import set_random_seed\n",
    "from fooof.plts.spectra import plot_spectra\n",
    "from fooof.plts.annotate import plot_annotated_model\n",
    "from neurodsp.utils import create_times\n",
    "from neurodsp.plts.time_series import plot_time_series\n",
    "from neurodsp.spectral import compute_spectrum, rotate_powerlaw\n",
    "from neurodsp.plts.spectral import plot_power_spectra\n",
    "\n"
   ]
  },
  {
   "cell_type": "code",
   "execution_count": 2,
   "id": "c48a9e35-5c6b-451d-a9f5-41305159b40a",
   "metadata": {
    "tags": []
   },
   "outputs": [],
   "source": [
    "## Prep paths ##\n",
    "\n",
    "subject = 'BJH024'\n",
    "raw_data_dir = f\"/home/brooke/pacman/raw_data/{subject}\"\n",
    "preproc_data_dir = f\"/home/brooke/pacman/preprocessing/{subject}/ieeg\""
   ]
  },
  {
   "cell_type": "code",
   "execution_count": 3,
   "id": "3f816ae7-8136-48c3-8218-48ac5650abe1",
   "metadata": {},
   "outputs": [
    {
     "name": "stdout",
     "output_type": "stream",
     "text": [
      "Reading /home/brooke/pacman/preprocessing/BJH024/ieeg/BJH024_bp_raw_clean_last_away_events.fif ...\n"
     ]
    },
    {
     "name": "stderr",
     "output_type": "stream",
     "text": [
      "/tmp/ipykernel_384103/870373520.py:4: RuntimeWarning: This filename (/home/brooke/pacman/preprocessing/BJH024/ieeg/BJH024_bp_raw_clean_last_away_events.fif) does not conform to MNE naming conventions. All epochs files should end with -epo.fif, -epo.fif.gz, _epo.fif or _epo.fif.gz\n",
      "  last_away_ecpohs = mne.read_epochs(f\"{preproc_data_dir}/{subject}_bp_raw_clean_last_away_events.fif\")\n"
     ]
    },
    {
     "name": "stdout",
     "output_type": "stream",
     "text": [
      "    Found the data of interest:\n",
      "        t =   -5000.00 ...    5000.00 ms\n",
      "        0 CTF compensation matrices available\n",
      "Reading /home/brooke/pacman/preprocessing/BJH024/ieeg/BJH024_bp_raw_clean_last_away_events-1.fif ...\n",
      "    Found the data of interest:\n",
      "        t =   -5000.00 ...    5000.00 ms\n",
      "        0 CTF compensation matrices available\n",
      "0 bad epochs dropped\n",
      "0 bad epochs dropped\n",
      "Not setting metadata\n",
      "220 matching events found\n",
      "No baseline correction applied\n",
      "0 projection items activated\n",
      "Adding metadata with 5 columns\n"
     ]
    }
   ],
   "source": [
    "## Load Neural Data\n",
    "\n",
    "# load\n",
    "last_away_ecpohs = mne.read_epochs(f\"{preproc_data_dir}/{subject}_bp_raw_clean_last_away_events.fif\")\n",
    "\n",
    "# get good epochs (for behavioral data only)\n",
    "good_epochs = [i for i,x in enumerate(last_away_ecpohs.get_annotations_per_epoch()) if not x]\n",
    "bad_epochs = [i for i,x in enumerate(last_away_ecpohs.get_annotations_per_epoch()) if  x]\n",
    "\n",
    "# onlt good epochs\n",
    "last_away_ecpohs = last_away_ecpohs[good_epochs]\n",
    "\n",
    "# load behavioral data\n",
    "last_away_data = pd.read_csv(f\"{raw_data_dir}/behave/{subject}_last_away_events.csv\")\n",
    "\n",
    "## Prep Behavioral Data\n",
    "last_away_data['trial_numeric'] = last_away_data['trial_numeric'] - 1\n",
    "last_away_data = last_away_data[last_away_data.index.isin(good_epochs)]\n",
    "\n",
    "# set info as metadata\n",
    "last_away_ecpohs.metadata = last_away_data"
   ]
  },
  {
   "cell_type": "code",
   "execution_count": 4,
   "id": "a5469ffc-9a67-4e23-b7e8-107dc4149f59",
   "metadata": {},
   "outputs": [],
   "source": [
    "# separate ghost and no ghost trials\n",
    "\n",
    "ghost_epochs = last_away_ecpohs[\"TrialType <= 16\"]\n",
    "no_ghost_epochs = last_away_ecpohs[\"TrialType > 16\"]"
   ]
  },
  {
   "cell_type": "code",
   "execution_count": 7,
   "id": "8893e602-8a16-4617-a697-ad1669c99429",
   "metadata": {
    "tags": []
   },
   "outputs": [
    {
     "name": "stdout",
     "output_type": "stream",
     "text": [
      "> \u001b[0;32m/tmp/ipykernel_384103/95031559.py\u001b[0m(49)\u001b[0;36m<module>\u001b[0;34m()\u001b[0m\n",
      "\u001b[0;32m     47 \u001b[0;31m\u001b[0;32mfor\u001b[0m \u001b[0mix\u001b[0m \u001b[0;32min\u001b[0m \u001b[0mrange\u001b[0m\u001b[0;34m(\u001b[0m\u001b[0;36m0\u001b[0m\u001b[0;34m,\u001b[0m \u001b[0mlen\u001b[0m\u001b[0;34m(\u001b[0m\u001b[0mpairs_name\u001b[0m\u001b[0;34m)\u001b[0m\u001b[0;34m)\u001b[0m\u001b[0;34m:\u001b[0m\u001b[0;34m\u001b[0m\u001b[0;34m\u001b[0m\u001b[0m\n",
      "\u001b[0m\u001b[0;32m     48 \u001b[0;31m    \u001b[0mprint\u001b[0m\u001b[0;34m(\u001b[0m\u001b[0mix\u001b[0m\u001b[0;34m)\u001b[0m\u001b[0;34m\u001b[0m\u001b[0;34m\u001b[0m\u001b[0m\n",
      "\u001b[0m\u001b[0;32m---> 49 \u001b[0;31m    \u001b[0;32mif\u001b[0m \u001b[0mpairs_name\u001b[0m\u001b[0;34m[\u001b[0m\u001b[0mix\u001b[0m\u001b[0;34m]\u001b[0m\u001b[0;34m[\u001b[0m\u001b[0;36m0\u001b[0m\u001b[0;34m]\u001b[0m \u001b[0;32min\u001b[0m \u001b[0mROIs\u001b[0m\u001b[0;34m[\u001b[0m\u001b[0;34m'hc'\u001b[0m\u001b[0;34m]\u001b[0m \u001b[0;32mor\u001b[0m \u001b[0mpairs_name\u001b[0m\u001b[0;34m[\u001b[0m\u001b[0mix\u001b[0m\u001b[0;34m]\u001b[0m\u001b[0;34m[\u001b[0m\u001b[0;36m1\u001b[0m\u001b[0;34m]\u001b[0m \u001b[0;32min\u001b[0m \u001b[0mROIs\u001b[0m\u001b[0;34m[\u001b[0m\u001b[0;34m'hc'\u001b[0m\u001b[0;34m]\u001b[0m\u001b[0;34m:\u001b[0m\u001b[0;34m\u001b[0m\u001b[0;34m\u001b[0m\u001b[0m\n",
      "\u001b[0m\u001b[0;32m     50 \u001b[0;31m        \u001b[0mhc_list\u001b[0m\u001b[0;34m.\u001b[0m\u001b[0mappend\u001b[0m\u001b[0;34m(\u001b[0m\u001b[0mlast_away_ecpohs\u001b[0m\u001b[0;34m.\u001b[0m\u001b[0minfo\u001b[0m\u001b[0;34m[\u001b[0m\u001b[0;34m'ch_names'\u001b[0m\u001b[0;34m]\u001b[0m\u001b[0;34m[\u001b[0m\u001b[0mix\u001b[0m \u001b[0;34m+\u001b[0m \u001b[0mbidx\u001b[0m\u001b[0;34m]\u001b[0m\u001b[0;34m)\u001b[0m\u001b[0;34m\u001b[0m\u001b[0;34m\u001b[0m\u001b[0m\n",
      "\u001b[0m\u001b[0;32m     51 \u001b[0;31m        \u001b[0mhc_names\u001b[0m\u001b[0;34m.\u001b[0m\u001b[0mappend\u001b[0m\u001b[0;34m(\u001b[0m\u001b[0mpairs_name\u001b[0m\u001b[0;34m[\u001b[0m\u001b[0mix\u001b[0m\u001b[0;34m]\u001b[0m\u001b[0;34m)\u001b[0m\u001b[0;34m\u001b[0m\u001b[0;34m\u001b[0m\u001b[0m\n",
      "\u001b[0m\n"
     ]
    },
    {
     "name": "stdin",
     "output_type": "stream",
     "text": [
      "ipdb>  ix\n"
     ]
    },
    {
     "name": "stdout",
     "output_type": "stream",
     "text": [
      "0\n"
     ]
    },
    {
     "name": "stdin",
     "output_type": "stream",
     "text": [
      "ipdb>  pairs_name[ix][0]\n"
     ]
    },
    {
     "name": "stdout",
     "output_type": "stream",
     "text": [
      "'AL14'\n"
     ]
    },
    {
     "name": "stdin",
     "output_type": "stream",
     "text": [
      "ipdb>  pairs_name[ix][0] in ROIs['hc']\n"
     ]
    },
    {
     "name": "stdout",
     "output_type": "stream",
     "text": [
      "False\n"
     ]
    },
    {
     "name": "stdin",
     "output_type": "stream",
     "text": [
      "ipdb>  pairs_name[ix][1] in ROIs['hc']\n"
     ]
    },
    {
     "name": "stdout",
     "output_type": "stream",
     "text": [
      "*** IndexError: list index out of range\n"
     ]
    },
    {
     "name": "stdin",
     "output_type": "stream",
     "text": [
      "ipdb>  pairs_name[ix][1]\n"
     ]
    },
    {
     "name": "stdout",
     "output_type": "stream",
     "text": [
      "*** IndexError: list index out of range\n"
     ]
    },
    {
     "name": "stdin",
     "output_type": "stream",
     "text": [
      "ipdb>  pairs_name[ix]\n"
     ]
    },
    {
     "name": "stdout",
     "output_type": "stream",
     "text": [
      "['AL14']\n"
     ]
    },
    {
     "name": "stdin",
     "output_type": "stream",
     "text": [
      "ipdb>  pairs_name\n"
     ]
    },
    {
     "name": "stdout",
     "output_type": "stream",
     "text": [
      "[['AL14'], ['BL15'], ['BL16'], ['CL12'], ['CL13'], ['CL14'], ['CL15'], ['CL16'], ['DL11'], ['DL12'], ['DL13'], ['DL14'], ['DL15'], ['DL16'], ['IL11'], ['IL12'], ['IL13'], ['IL14'], ['AR14'], ['CR16'], ['DR11'], ['DR12'], ['DR13'], ['DR15'], ['DR16'], ['IR12'], ['IR13'], ['IR14'], ['JR13'], ['JR14'], ['STI'], ['AL1', 'AL2'], ['AL2', 'AL3'], ['AL3', 'AL5'], ['AL5', 'AL6'], ['AL6', 'AL7'], ['AL7', 'AL8'], ['AL8', 'AL9'], ['AL9', 'AL11'], ['AL11', 'AL12'], ['BL1', 'BL2'], ['BL2', 'BL3'], ['BL3', 'BL4'], ['BL4', 'BL5'], ['BL5', 'BL6'], ['BL6', 'BL7'], ['BL7', 'BL9'], ['BL9', 'BL10'], ['BL10', 'BL11'], ['BL11', 'BL12'], ['BL12', 'BL14'], ['CL1', 'CL2'], ['CL2', 'CL7'], ['CL7', 'CL8'], ['CL8', 'CL9'], ['CL9', 'CL10'], ['DL1', 'DL2'], ['DL2', 'DL3'], ['EL1', 'EL4'], ['EL4', 'EL5'], ['EL5', 'EL6'], ['EL6', 'EL7'], ['EL7', 'EL8'], ['EL8', 'EL9'], ['EL9', 'EL10'], ['EL10', 'EL11'], ['EL11', 'EL12'], ['FL1', 'FL2'], ['FL2', 'FL3'], ['FL3', 'FL4'], ['FL4', 'FL5'], ['FL5', 'FL6'], ['FL6', 'FL7'], ['FL7', 'FL9'], ['FL9', 'FL10'], ['GL3', 'GL4'], ['GL4', 'GL5'], ['GL5', 'GL6'], ['GL6', 'GL7'], ['GL7', 'GL8'], ['GL8', 'GL9'], ['GL9', 'GL10'], ['GL10', 'GL11'], ['GL11', 'GL12'], ['GL12', 'GL13'], ['GL13', 'GL14'], ['HL5', 'HL6'], ['HL6', 'HL7'], ['HL7', 'HL8'], ['HL8', 'HL9'], ['HL9', 'HL10'], ['HL10', 'HL11'], ['HL11', 'HL12'], ['HL12', 'HL13'], ['HL13', 'HL14'], ['IL1', 'IL2'], ['IL2', 'IL3'], ['IL3', 'IL4'], ['IL4', 'IL5'], ['IL5', 'IL6'], ['JL1', 'JL2'], ['JL2', 'JL3'], ['JL3', 'JL4'], ['JL4', 'JL5'], ['JL5', 'JL6'], ['JL6', 'JL7'], ['JL7', 'JL8'], ['JL8', 'JL9'], ['JL9', 'JL10'], ['JL10', 'JL11'], ['JL11', 'JL12'], ['AR1', 'AR2'], ['AR2', 'AR3'], ['AR3', 'AR4'], ['AR4', 'AR5'], ['AR5', 'AR6'], ['AR6', 'AR7'], ['AR7', 'AR8'], ['AR8', 'AR9'], ['AR9', 'AR10'], ['AR10', 'AR11'], ['AR11', 'AR13'], ['BR1', 'BR2'], ['BR2', 'BR3'], ['BR3', 'BR4'], ['BR4', 'BR5'], ['BR5', 'BR6'], ['BR6', 'BR7'], ['BR7', 'BR8'], ['BR8', 'BR9'], ['BR9', 'BR10'], ['BR10', 'BR11'], ['BR11', 'BR12'], ['BR12', 'BR13'], ['BR13', 'BR14'], ['BR14', 'BR15'], ['BR15', 'BR16'], ['CR1', 'CR2'], ['CR2', 'CR3'], ['CR3', 'CR4'], ['CR4', 'CR5'], ['CR5', 'CR6'], ['CR6', 'CR7'], ['CR7', 'CR8'], ['CR8', 'CR9'], ['CR9', 'CR10'], ['CR10', 'CR12'], ['CR12', 'CR13'], ['CR13', 'CR14'], ['CR14', 'CR15'], ['DR1', 'DR2'], ['DR2', 'DR3'], ['ER1', 'ER2'], ['ER2', 'ER3'], ['ER3', 'ER4'], ['ER4', 'ER5'], ['ER5', 'ER6'], ['ER6', 'ER8'], ['ER8', 'ER9'], ['ER9', 'ER10'], ['FR1', 'FR2'], ['FR2', 'FR3'], ['FR3', 'FR4'], ['FR4', 'FR5'], ['FR5', 'FR6'], ['FR6', 'FR7'], ['FR7', 'FR8'], ['FR8', 'FR9'], ['FR9', 'FR10'], ['GR1', 'GR2'], ['GR2', 'GR3'], ['GR3', 'GR4'], ['GR4', 'GR5'], ['GR5', 'GR6'], ['GR6', 'GR7'], ['GR7', 'GR8'], ['HR3', 'HR4'], ['HR4', 'HR5'], ['HR5', 'HR6'], ['HR6', 'HR7'], ['HR7', 'HR8'], ['IR4', 'IR5'], ['IR5', 'IR9'], ['IR9', 'IR10'], ['IR10', 'IR11'], ['JR1', 'JR2'], ['JR2', 'JR3'], ['JR3', 'JR4'], ['JR4', 'JR6'], ['JR6', 'JR7'], ['JR7', 'JR8'], ['JR8', 'JR10'], ['JR10', 'JR11'], ['JR11', 'JR12']]\n",
      "--KeyboardInterrupt--\n",
      "\n",
      "KeyboardInterrupt: Interrupted by user\n",
      "0\n"
     ]
    },
    {
     "ename": "IndexError",
     "evalue": "list index out of range",
     "output_type": "error",
     "traceback": [
      "\u001b[0;31m---------------------------------------------------------------------------\u001b[0m",
      "\u001b[0;31mIndexError\u001b[0m                                Traceback (most recent call last)",
      "\u001b[0;32m/tmp/ipykernel_384103/3203550041.py\u001b[0m in \u001b[0;36m<module>\u001b[0;34m\u001b[0m\n\u001b[1;32m     47\u001b[0m \u001b[0;32mfor\u001b[0m \u001b[0mix\u001b[0m \u001b[0;32min\u001b[0m \u001b[0mrange\u001b[0m\u001b[0;34m(\u001b[0m\u001b[0;36m0\u001b[0m\u001b[0;34m,\u001b[0m \u001b[0mlen\u001b[0m\u001b[0;34m(\u001b[0m\u001b[0mpairs_name\u001b[0m\u001b[0;34m)\u001b[0m\u001b[0;34m)\u001b[0m\u001b[0;34m:\u001b[0m\u001b[0;34m\u001b[0m\u001b[0;34m\u001b[0m\u001b[0m\n\u001b[1;32m     48\u001b[0m     \u001b[0mprint\u001b[0m\u001b[0;34m(\u001b[0m\u001b[0mix\u001b[0m\u001b[0;34m)\u001b[0m\u001b[0;34m\u001b[0m\u001b[0;34m\u001b[0m\u001b[0m\n\u001b[0;32m---> 49\u001b[0;31m     \u001b[0;32mif\u001b[0m \u001b[0mpairs_name\u001b[0m\u001b[0;34m[\u001b[0m\u001b[0mix\u001b[0m\u001b[0;34m]\u001b[0m\u001b[0;34m[\u001b[0m\u001b[0;36m0\u001b[0m\u001b[0;34m]\u001b[0m \u001b[0;32min\u001b[0m \u001b[0mROIs\u001b[0m\u001b[0;34m[\u001b[0m\u001b[0;34m'hc'\u001b[0m\u001b[0;34m]\u001b[0m \u001b[0;32mor\u001b[0m \u001b[0mpairs_name\u001b[0m\u001b[0;34m[\u001b[0m\u001b[0mix\u001b[0m\u001b[0;34m]\u001b[0m\u001b[0;34m[\u001b[0m\u001b[0;36m1\u001b[0m\u001b[0;34m]\u001b[0m \u001b[0;32min\u001b[0m \u001b[0mROIs\u001b[0m\u001b[0;34m[\u001b[0m\u001b[0;34m'hc'\u001b[0m\u001b[0;34m]\u001b[0m\u001b[0;34m:\u001b[0m\u001b[0;34m\u001b[0m\u001b[0;34m\u001b[0m\u001b[0m\n\u001b[0m\u001b[1;32m     50\u001b[0m         \u001b[0mhc_list\u001b[0m\u001b[0;34m.\u001b[0m\u001b[0mappend\u001b[0m\u001b[0;34m(\u001b[0m\u001b[0mlast_away_ecpohs\u001b[0m\u001b[0;34m.\u001b[0m\u001b[0minfo\u001b[0m\u001b[0;34m[\u001b[0m\u001b[0;34m'ch_names'\u001b[0m\u001b[0;34m]\u001b[0m\u001b[0;34m[\u001b[0m\u001b[0mix\u001b[0m \u001b[0;34m+\u001b[0m \u001b[0mbidx\u001b[0m\u001b[0;34m]\u001b[0m\u001b[0;34m)\u001b[0m\u001b[0;34m\u001b[0m\u001b[0;34m\u001b[0m\u001b[0m\n\u001b[1;32m     51\u001b[0m         \u001b[0mhc_names\u001b[0m\u001b[0;34m.\u001b[0m\u001b[0mappend\u001b[0m\u001b[0;34m(\u001b[0m\u001b[0mpairs_name\u001b[0m\u001b[0;34m[\u001b[0m\u001b[0mix\u001b[0m\u001b[0;34m]\u001b[0m\u001b[0;34m)\u001b[0m\u001b[0;34m\u001b[0m\u001b[0;34m\u001b[0m\u001b[0m\n",
      "\u001b[0;31mIndexError\u001b[0m: list index out of range"
     ]
    }
   ],
   "source": [
    "## Dictionary of electrode locations ##\n",
    "%debug\n",
    "# Dictionary mapping ROI to elecs\n",
    "ROIs = {\n",
    "    'hc'     :['HL1', 'HL2', 'HL3', 'HL4', 'HL5',  'HR1', 'IL1', 'IL2', 'IL3', 'IL4', 'IR1', 'IR2', 'IR3', 'IR4', 'IR5'],\n",
    "    'ofc'    :['AL1', 'AL2', 'AL3', 'AL4', 'AL5', 'AL6', 'AL7', 'AL8', 'AL9', 'AL10', 'AR1', 'AR2', 'AR3', 'AR4', 'AR5', 'AR6', 'AR7', 'AR8', 'AR9', 'BL1', 'BL2', 'BL3', 'BL4'],\n",
    "    'amyg'   :['CR1', 'CR2', 'GL1', 'GL2', 'GL3', 'GL4', 'GL5', 'GR1'],\n",
    "    'cing'   :['BR5', 'BR6', 'BR7', 'BR8', 'BR9', 'BR10'],\n",
    "    'insula' :['CL4', 'CL5', 'CL6', 'CL7', 'CL8', 'CR5', 'CR6', 'CR7', 'CR8', 'GL7', 'GL8', 'GR3', 'GR4'],\n",
    "    'dlpfc' :['CL13', 'CL14', 'CL15', 'CL16', 'CR12', 'CR13', 'CR14', 'CR15', 'CR16'],\n",
    "    'ec' :[]\n",
    "}\n",
    "\n",
    "## prep lists\n",
    "\n",
    "# primary ROI\n",
    "hc_list = []\n",
    "hc_indices = []\n",
    "hc_names = []\n",
    "ofc_list = []\n",
    "ofc_indices = []\n",
    "ofc_names = []\n",
    "amyg_list = []\n",
    "amyg_names = [] \n",
    "amyg_indices = []\n",
    "cing_list = []\n",
    "cing_names = [] \n",
    "cing_indices = []\n",
    "\n",
    "# control ROI\n",
    "insula_list = []\n",
    "insula_names = []  \n",
    "insula_indices = []\n",
    "dlpfc_list = []\n",
    "dlpfc_names = []  \n",
    "dlpfc_indices = []\n",
    "ec_list = []\n",
    "ec_names = []  \n",
    "ec_indices = []\n",
    "\n",
    "# exclude bad ROI from list\n",
    "pairs_long_name = [ch.split('-') for ch in last_away_ecpohs.info['ch_names']]\n",
    "bidx = len(last_away_ecpohs.info['bads']) +1\n",
    "pairs_name = pairs_long_name[bidx:len(pairs_long_name)]\n",
    "\n",
    "# sort ROI into lists\n",
    "for ix in range(0, len(pairs_name)):\n",
    "    print(ix)\n",
    "    if pairs_name[ix][0] in ROIs['hc'] or pairs_name[ix][1] in ROIs['hc']:\n",
    "        hc_list.append(last_away_ecpohs.info['ch_names'][ix + bidx])\n",
    "        hc_names.append(pairs_name[ix])\n",
    "        hc_indices.append(ix)\n",
    "    if pairs_name[ix][0] in ROIs['ofc'] or pairs_name[ix][1] in ROIs['ofc']:\n",
    "        ofc_list.append(last_away_ecpohs.info['ch_names'][ix + bidx])\n",
    "        ofc_names.append(pairs_name[ix])\n",
    "        ofc_indices.append(ix)\n",
    "    if pairs_name[ix][0] in ROIs['amyg'] or pairs_name[ix][1] in ROIs['amyg']:\n",
    "        amyg_list.append(last_away_ecpohs.info['ch_names'][ix + bidx])       \n",
    "        amyg_names.append(pairs_name[ix])\n",
    "        amyg_indices.append(ix)\n",
    "    if pairs_name[ix][0] in ROIs['cing'] or pairs_name[ix][1] in ROIs['cing']:\n",
    "        cing_list.append(last_away_ecpohs.info['ch_names'][ix + bidx])       \n",
    "        cing_names.append(pairs_name[ix])\n",
    "        cing_indices.append(ix)\n",
    "        \n",
    "    # control roi\n",
    "    if pairs_name[ix][0] in ROIs['insula'] or pairs_name[ix][1] in ROIs['insula']:\n",
    "        insula_list.append(last_away_ecpohs.info['ch_names'][ix + bidx])       \n",
    "        insula_names.append(pairs_name[ix])\n",
    "        insula_indices.append(ix)\n",
    "    if pairs_name[ix][0] in ROIs['dlpfc'] or pairs_name[ix][1] in ROIs['dlpfc']:\n",
    "        dlpfc_list.append(last_away_ecpohs.info['ch_names'][ix + bidx])       \n",
    "        dlpfc_names.append(pairs_name[ix])\n",
    "        dlpfc_indices.append(ix)\n",
    "    if pairs_name[ix][0] in ROIs['ec'] or pairs_name[ix][1] in ROIs['ec']:\n",
    "        ec_list.append(last_away_ecpohs.info['ch_names'][ix + bidx])       \n",
    "        ec_names.append(pairs_name[ix])\n",
    "        ec_indices.append(ix)        \n",
    "        "
   ]
  },
  {
   "cell_type": "code",
   "execution_count": null,
   "id": "bce0d660-9909-4a44-8480-5978b9f6928d",
   "metadata": {},
   "outputs": [],
   "source": [
    "## funcions\n",
    "\n",
    "def MM_compute_TFR(epochs, freqs, n_cycles, baseline, zscore=True, workers = 8):\n",
    "    \"\"\" function to compute TFR via Morlet wavelets\n",
    "    \n",
    "    epochs:                     MNE epoch object with channels of interest\n",
    "    freqs:                      list of frequencies, should be log spaced\n",
    "    n_cycles:                   number of cycles, adjust with freqs to balance temporal and frequency resolution\n",
    "    baseline:                   tuple that specifies the time in seconds that baseline should be calculated on \n",
    "                                (should be 1-2s smaller than epoch TFR was calculated on to exclude artificats on morlet waves\n",
    "    zscore:                     boolean, if True zscores within trial and frequency band across the time window specified in baseline\n",
    "    workers:                    number of threads to use while calculating TFR\n",
    "    \"\"\"\n",
    "    print('computing TFR')\n",
    "    TFR = mne.time_frequency.tfr_morlet(epochs,freqs,n_cycles,return_itc=False,\n",
    "                                            average=False,  n_jobs = workers)\n",
    "    print('log transforming')\n",
    "    TFR.data = np.log(TFR.data)\n",
    "    if zscore:\n",
    "        print('z-scoring to baseline')\n",
    "        bix = [a and b  for a, b in zip(TFR.times >= baseline[0], TFR.times <= baseline[1])]\n",
    "        bmean = TFR.data[:,:,:,bix].mean(axis=(3),keepdims=True)\n",
    "        bstd = TFR.data[:,:,:,bix].std(axis=(3),keepdims=True)\n",
    "        TFR.data = (TFR.data - bmean) / bstd\n",
    "    return TFR\n",
    "\n",
    "def extract_freqs(lower_freq, higher_freq, freq_band, subdir, ROI, label, TFR, trials):\n",
    "    \"\"\" function to extract and average the across the freqs within a given band and save out to csvs\n",
    "    step is calculated based on getting ~4 samples per frequency cycle\n",
    "    \n",
    "    lower_freq, higher_freq:    non inclusive lower and upper bounds of the band\n",
    "    freq_band:                  band name, as a string\n",
    "    subdir:                     dir in sub/ieeg/ that specifies the time locking\n",
    "    ROI:                        region name, as a string\n",
    "    label:                      label, eg ghost, no ghost, choice locked etc, as a string\n",
    "    TFR:                        MNE TFR object\n",
    "    \"\"\"\n",
    "    \n",
    "    # calculate step, ## note I made this up, but it seems reasonable?\n",
    "    step = {\n",
    "        'delta'      : int(np.floor(ghost_TFR.info['sfreq']/(2*4))),\n",
    "        'theta'      : int(np.floor(ghost_TFR.info['sfreq']/(5*4))),\n",
    "        'alpha'      : int(np.floor(ghost_TFR.info['sfreq']/(11*4))),\n",
    "        'beta'       : int(np.floor(ghost_TFR.info['sfreq']/(22*4))),\n",
    "        'gamma'      : int(np.floor(ghost_TFR.info['sfreq']/(50*4))),\n",
    "        'hfa'        : int(np.floor(ghost_TFR.info['sfreq']/(110*4)))\n",
    "    }\n",
    "    \n",
    "    # check if it needs to be calculated with subbands\n",
    "    if freq_band == 'gamma' or freq_band == 'hfa':\n",
    "        \n",
    "        if ghost_TFR.info['sfreq'] < 1000:\n",
    "                                raise Exception('Sampling Rate is below 1000, should calculate gamma or HFA') \n",
    "        \n",
    "        subband_dict = {\n",
    "            'gamma'    : [(30, 40), (35, 45), (40, 50), (45, 55), (50, 60), (55, 65), (60, 70)],\n",
    "            'hfa'      : [(70, 90), (80, 100), (90, 110), (100, 120), (110, 130), (120, 140), (130, 150)]\n",
    "        }\n",
    "        \n",
    "        for chix in range(len(TFR.ch_names)):\n",
    "            subb_trial_power = []\n",
    "            for subb in subband_dict[freq_band]:\n",
    "                fidx = np.where((freqs > subb[0]) & (freqs < subb[1]))[0]\n",
    "                subb_trial_power.append(TFR.data[:, chix, fidx, :].mean(axis=1))\n",
    "            trial_power = np.mean(subb_trial_power, axis = 0)\n",
    "            channel_df = pd.DataFrame(trial_power[:, ::step[freq_band]])\n",
    "            channel_df[\"trial\"] = trials\n",
    "            channel_df.to_csv(f\"{preproc_data_dir}/{subdir}/{TFR.ch_names[chix]}_{ROI}_trial_{freq_band}_{label}.csv\")\n",
    "    \n",
    "    else:\n",
    "        fidx = np.where((freqs > lower_freq) & (freqs < higher_freq))[0]\n",
    "        for chix in range(len(TFR.ch_names)):\n",
    "            trial_power = TFR.data[:, chix, fidx, :].mean(axis=1)\n",
    "            channel_df = pd.DataFrame(trial_power[:, ::step[freq_band]])\n",
    "            channel_df[\"trial\"] = trials\n",
    "            channel_df.to_csv(f\"{preproc_data_dir}/{subdir}/{TFR.ch_names[chix]}_{ROI}_trial_{freq_band}_{label}.csv\")"
   ]
  },
  {
   "cell_type": "code",
   "execution_count": null,
   "id": "71f46b0b-cb29-472d-9272-83091d512382",
   "metadata": {},
   "outputs": [],
   "source": [
    "# Set frequencies\n",
    "\n",
    "freqs = np.logspace(start = np.log10(1), stop = np.log10(150), num = 80, base = 10, endpoint = True)\n",
    "n_cycles = np.logspace(np.log10(2), np.log10(30), base = 10, num = 80)\n",
    "\n",
    "# formulas to check bandwidth and time bin\n",
    "band_width = (freqs / n_cycles) * 2\n",
    "time_bin = n_cycles / freqs / np.pi\n",
    "print(freqs)\n",
    "print(n_cycles)\n",
    "print(time_bin)\n",
    "print(band_width)\n"
   ]
  },
  {
   "cell_type": "markdown",
   "id": "7de6eb5d-5215-4aca-903d-272be79343f5",
   "metadata": {},
   "source": [
    "# Main Regions of Interest"
   ]
  },
  {
   "cell_type": "markdown",
   "id": "b97e7e09-d76d-4667-a81a-13574f522100",
   "metadata": {
    "tags": []
   },
   "source": [
    "## Hippocampus"
   ]
  },
  {
   "cell_type": "code",
   "execution_count": null,
   "id": "f45e02f5-43ac-4518-a886-c0ae76e06f8e",
   "metadata": {},
   "outputs": [],
   "source": [
    "hc_list"
   ]
  },
  {
   "cell_type": "code",
   "execution_count": null,
   "id": "daccfa9e-745e-4d6b-9444-84c23a01eed4",
   "metadata": {},
   "outputs": [],
   "source": [
    "# only ROI of interest\n",
    "ghost_roi = ghost_epochs.copy().pick_channels(hc_list)\n",
    "no_ghost_roi = no_ghost_epochs.copy().pick_channels(hc_list)"
   ]
  },
  {
   "cell_type": "code",
   "execution_count": null,
   "id": "83a5f686-4485-4585-a53f-1027b198a1ae",
   "metadata": {},
   "outputs": [],
   "source": [
    "# Resample to 1000\n",
    "ghost_roi= ghost_roi.resample(1000)\n",
    "no_ghost_roi= no_ghost_roi.resample(1000)"
   ]
  },
  {
   "cell_type": "code",
   "execution_count": null,
   "id": "9c93e1b2-f950-47a1-ae3d-97a7415a981d",
   "metadata": {},
   "outputs": [],
   "source": [
    "ghost_roi.metadata.trial_numeric"
   ]
  },
  {
   "cell_type": "code",
   "execution_count": null,
   "id": "569e59da-4043-4b67-99aa-ebab0a5d696d",
   "metadata": {},
   "outputs": [],
   "source": [
    "# compute TRF\n",
    "ghost_TFR = MM_compute_TFR(ghost_roi,freqs,n_cycles,baseline = (-2,2), zscore=True)\n",
    "no_ghost_TFR = MM_compute_TFR(no_ghost_roi,freqs,n_cycles,baseline = (-2,2), zscore=True)"
   ]
  },
  {
   "cell_type": "code",
   "execution_count": null,
   "id": "98091a09-2dd1-4221-ad13-8af5bd67f4d8",
   "metadata": {},
   "outputs": [],
   "source": [
    "ghost_TFR.crop(tmin = -2, tmax = 2)\n",
    "no_ghost_TFR.crop(tmin = -2, tmax = 2)"
   ]
  },
  {
   "cell_type": "code",
   "execution_count": null,
   "id": "adaa3bf1-e3b2-42a3-8518-450de74686dc",
   "metadata": {},
   "outputs": [],
   "source": [
    "ghost_TFR.data.shape"
   ]
  },
  {
   "cell_type": "code",
   "execution_count": null,
   "id": "4f25243b-5ccc-4aeb-93e9-0842d455818f",
   "metadata": {},
   "outputs": [],
   "source": [
    "plt.rcParams['figure.figsize'] = [14, 11]"
   ]
  },
  {
   "cell_type": "code",
   "execution_count": null,
   "id": "56813cb8-abce-467a-864c-5ae7f9ae3b00",
   "metadata": {},
   "outputs": [],
   "source": [
    "fig, ax = plt.subplots()\n",
    "i = ax.imshow(ghost_TFR.data.mean(axis = 0).mean(axis = 0), cmap = 'RdBu_r', interpolation=\"none\", origin=\"lower\", aspect = 'auto', extent=[-2, 2, freqs[0], freqs[-1]], vmin = -.2, vmax = .2)\n",
    "ax.set_yticks(np.linspace(np.min(ghost_TFR.freqs),np.max(ghost_TFR.freqs),len(ghost_TFR.freqs)))\n",
    "ax.set_yticklabels(np.round(ghost_TFR.freqs))\n",
    "bar = plt.colorbar(i)\n",
    "ax.set_title(\"Average Hippocampal TFR in Conflict Trials\")\n",
    "fig.savefig(f'figures/{subject}_average_hc_conflict.png', dpi=600)\n",
    "fig.show()\n",
    "\n",
    "\n",
    "fig, ax = plt.subplots()\n",
    "i = ax.imshow(no_ghost_TFR.data.mean(axis = 0).mean(axis = 0), cmap = 'RdBu_r', interpolation=\"none\", origin=\"lower\", aspect = 'auto', extent=[-2, 2, freqs[0], freqs[-1]], vmin = -.2, vmax = .2)\n",
    "ax.set_yticks(np.linspace(np.min(ghost_TFR.freqs),np.max(ghost_TFR.freqs),len(ghost_TFR.freqs)))\n",
    "ax.set_yticklabels(np.round(ghost_TFR.freqs))\n",
    "bar = plt.colorbar(i)\n",
    "ax.set_title(\"Average Hippocampal TFR in No-Conflict Trials\")\n",
    "fig.savefig(f'figures/{subject}_average_hc_noconflict.png', dpi=600)\n",
    "fig.show()\n"
   ]
  },
  {
   "cell_type": "markdown",
   "id": "eb0fa12a-9ac1-411d-a105-f17782aae568",
   "metadata": {
    "tags": []
   },
   "source": [
    "## Individual Channels"
   ]
  },
  {
   "cell_type": "code",
   "execution_count": null,
   "id": "6bb80ef3-afad-49ad-a9aa-82ef761187e0",
   "metadata": {},
   "outputs": [],
   "source": [
    "plt.rcParams['figure.figsize'] = [14, 11]\n",
    "\n",
    "chix = 0\n",
    "for ch in ghost_TFR.ch_names:\n",
    "\n",
    "    fig, ax = plt.subplots()\n",
    "    i = ax.imshow(ghost_TFR.data[:, chix, :, :].mean(axis = 0), cmap = 'RdBu_r', interpolation=\"none\", origin=\"lower\", aspect = 'auto', extent=[-2, 2, freqs[0], freqs[-1]], vmin = -.4, vmax = .4)\n",
    "    ax.set_yticks(np.linspace(np.min(ghost_TFR.freqs),np.max(ghost_TFR.freqs),len(ghost_TFR.freqs)))\n",
    "    ax.set_yticklabels(np.round(ghost_TFR.freqs))\n",
    "    bar = plt.colorbar(i)\n",
    "    ax.set_title(f\"{ch}:  Conflict Trials\")\n",
    "    fig.show()\n",
    "\n",
    "    fig, ax = plt.subplots()\n",
    "    i = ax.imshow(no_ghost_TFR.data[:, chix, :, :].mean(axis = 0), cmap = 'RdBu_r', interpolation=\"none\", origin=\"lower\", aspect = 'auto', extent=[-2, 2, freqs[0], freqs[-1]], vmin = -.4, vmax = .4)\n",
    "    ax.set_yticks(np.linspace(np.min(ghost_TFR.freqs),np.max(ghost_TFR.freqs),len(ghost_TFR.freqs)))\n",
    "    ax.set_yticklabels(np.round(ghost_TFR.freqs))\n",
    "    bar = plt.colorbar(i)\n",
    "    ax.set_title(f\"{ch}:  No Conflict Trials\")\n",
    "    fig.show()\n",
    "    \n",
    "    chix = chix + 1"
   ]
  },
  {
   "cell_type": "markdown",
   "id": "53fdd5e5-2efc-4409-b769-8e1e5720a787",
   "metadata": {
    "tags": []
   },
   "source": [
    "## Export freq data locked to turn around time to csvs"
   ]
  },
  {
   "cell_type": "code",
   "execution_count": null,
   "id": "45fc60f3-22e0-4608-a7f1-df6edf87a59e",
   "metadata": {},
   "outputs": [],
   "source": [
    "# delta\n",
    "extract_freqs(1, 3, \"delta\", \"last_away\", \"hc\", \"away_locked_ghost\", ghost_TFR, ghost_roi.metadata.trial_numeric.to_numpy(copy = True))\n",
    "extract_freqs(1, 3, \"delta\", \"last_away\", \"hc\", \"away_locked_noghost\", no_ghost_TFR, no_ghost_roi.metadata.trial_numeric.to_numpy(copy = True))\n",
    "# theta\n",
    "extract_freqs(3, 8, \"theta\", \"last_away\", \"hc\", \"away_locked_ghost\", ghost_TFR, ghost_roi.metadata.trial_numeric.to_numpy(copy = True))\n",
    "extract_freqs(3, 8, \"theta\", \"last_away\", \"hc\", \"away_locked_noghost\", no_ghost_TFR, no_ghost_roi.metadata.trial_numeric.to_numpy(copy = True))\n",
    "# alpha\n",
    "extract_freqs(8, 13, \"alpha\", \"last_away\", \"hc\", \"away_locked_ghost\", ghost_TFR, ghost_roi.metadata.trial_numeric.to_numpy(copy = True))\n",
    "extract_freqs(8, 13, \"alpha\", \"last_away\", \"hc\", \"away_locked_noghost\", no_ghost_TFR, no_ghost_roi.metadata.trial_numeric.to_numpy(copy = True))\n",
    "# beta\n",
    "extract_freqs(13, 30, \"beta\", \"last_away\", \"hc\", \"away_locked_ghost\", ghost_TFR, ghost_roi.metadata.trial_numeric.to_numpy(copy = True))\n",
    "extract_freqs(13, 30, \"beta\", \"last_away\", \"hc\", \"away_locked_noghost\", no_ghost_TFR, no_ghost_roi.metadata.trial_numeric.to_numpy(copy = True))\n",
    "# gamma\n",
    "extract_freqs(30, 70, \"gamma\", \"last_away\", \"hc\", \"away_locked_ghost\", ghost_TFR, ghost_roi.metadata.trial_numeric.to_numpy(copy = True))\n",
    "extract_freqs(30, 70, \"gamma\", \"last_away\", \"hc\", \"away_locked_noghost\", no_ghost_TFR, no_ghost_roi.metadata.trial_numeric.to_numpy(copy = True))\n",
    "# HFA\n",
    "extract_freqs(70, 150, \"hfa\", \"last_away\", \"hc\", \"away_locked_ghost\", ghost_TFR, ghost_roi.metadata.trial_numeric.to_numpy(copy = True))\n",
    "extract_freqs(70, 150, \"hfa\", \"last_away\", \"hc\", \"away_locked_noghost\", no_ghost_TFR, no_ghost_roi.metadata.trial_numeric.to_numpy(copy = True))"
   ]
  },
  {
   "cell_type": "code",
   "execution_count": null,
   "id": "d3b18175-f04c-4a24-a6de-7171583265af",
   "metadata": {},
   "outputs": [],
   "source": [
    "# true difference matrix\n",
    "true_diff_matrix = ghost_TFR.data[:, :, :, :].mean(axis = 0).mean(axis = 0) - no_ghost_TFR.data[:, :, :, :].mean(axis = 0).mean(axis = 0)\n",
    "\n",
    "\n",
    "# initialize permuted matrix\n",
    "permuted_matrix = np.nan * np.ones_like(true_diff_matrix)\n",
    "permuted_matrices = np.repeat(permuted_matrix[np.newaxis,...], 1000, axis=0)\n",
    "\n",
    "# get incex vectors\n",
    "num_ghost_trials = ghost_TFR.data.shape[0]\n",
    "num_no_ghost_trials = no_ghost_TFR.data.shape[0]\n",
    "total_trials = num_ghost_trials + num_no_ghost_trials\n",
    "trial_indices = np.arange(0, total_trials, 1)\n",
    "\n",
    "# combine all tfrs\n",
    "all_tfrs = np.concatenate([ghost_TFR.data[:, :, :, :] , no_ghost_TFR.data[:, :, :, :]], axis = 0)\n",
    "\n",
    "for permute in range(0, 1000):\n",
    "    \n",
    "    trial_indices = np.arange(0, total_trials, 1)\n",
    "    np.random.seed(permute)\n",
    "    fake_ghost_indices = np.random.choice(a = trial_indices, size=num_ghost_trials, replace = False)\n",
    "    fake_no_ghost_indicies = np.delete(trial_indices, fake_ghost_indices)\n",
    "\n",
    "\n",
    "    fake_ghost_tfr = all_tfrs[fake_ghost_indices, :, :, :]\n",
    "    fake_no_ghost_tfr = all_tfrs[fake_no_ghost_indicies, :, :, :]\n",
    "\n",
    "    permuted_matrices[permute, :, :] = fake_ghost_tfr.mean(axis = 0).mean(axis = 0) - fake_no_ghost_tfr.mean(axis = 0).mean(axis = 0)\n"
   ]
  },
  {
   "cell_type": "code",
   "execution_count": null,
   "id": "c76ae625-c8d7-4092-8f59-1038e88e6011",
   "metadata": {},
   "outputs": [],
   "source": [
    "# create dummy sig matrix\n",
    "sig_matrix = np.full(true_diff_matrix.shape, False, dtype = 'bool')\n",
    "pval_matrix = np.nan * np.ones_like(true_diff_matrix)\n",
    "\n",
    "\n",
    "# find values at the extreme\n",
    "for y in range(0,80):\n",
    "    for x in range(0, 4001):\n",
    "\n",
    "        permuted_dist = np.sort(permuted_matrices[:, y, x])\n",
    "\n",
    "        if true_diff_matrix[y, x] <= permuted_dist[50] or true_diff_matrix[y, x] >=permuted_dist[950] :\n",
    "            sig_matrix[y, x] = True\n",
    "        else:\n",
    "            sig_matrix[y, x] = False\n",
    "\n",
    "sig_diff_matrix = np.where(sig_matrix, true_diff_matrix, np.nan)\n"
   ]
  },
  {
   "cell_type": "code",
   "execution_count": null,
   "id": "16f368bb-042a-4889-bc1b-d641ae5dfcf7",
   "metadata": {},
   "outputs": [],
   "source": [
    "\n",
    "fig, ax = plt.subplots()\n",
    "i1 = ax.imshow(true_diff_matrix, cmap = 'Greys', interpolation=\"none\", origin=\"lower\", aspect = 'auto', extent=[-2, 2, freqs[0], freqs[-1]], vmin = -.4, vmax = .4)\n",
    "i2 = ax.imshow(sig_diff_matrix, cmap = 'RdBu_r', interpolation=\"none\", origin=\"lower\", aspect = 'auto', extent=[-2, 2, freqs[0], freqs[-1]], vmin = -.4, vmax = .4)\n",
    "ax.set_yticks(np.linspace(np.min(ghost_TFR.freqs),np.max(ghost_TFR.freqs),len(ghost_TFR.freqs)))\n",
    "ax.set_yticklabels(np.round(ghost_TFR.freqs))\n",
    "bar = plt.colorbar(i2)\n",
    "ax.set_title(\"Hippocampus: Sig Difference Matrix\")\n",
    "fig.show()\n",
    "\n"
   ]
  },
  {
   "cell_type": "markdown",
   "id": "9cda7ead-e472-4596-8f68-44f847b96f2b",
   "metadata": {
    "tags": []
   },
   "source": [
    "# OFC"
   ]
  },
  {
   "cell_type": "code",
   "execution_count": null,
   "id": "a509871a-0fe6-4926-b727-abdac39c870e",
   "metadata": {},
   "outputs": [],
   "source": [
    "ofc_list"
   ]
  },
  {
   "cell_type": "code",
   "execution_count": null,
   "id": "d76c37e1-3822-47bc-b63d-3973e7c853ab",
   "metadata": {},
   "outputs": [],
   "source": [
    "ghost_roi = ghost_epochs.copy().pick_channels(ofc_list)\n",
    "no_ghost_roi = no_ghost_epochs.copy().pick_channels(ofc_list)"
   ]
  },
  {
   "cell_type": "code",
   "execution_count": null,
   "id": "013b352f-9bf4-444a-a10e-8ef13542b1fe",
   "metadata": {},
   "outputs": [],
   "source": [
    "ghost_roi= ghost_roi.resample(1000)\n",
    "no_ghost_roi= no_ghost_roi.resample(1000)"
   ]
  },
  {
   "cell_type": "code",
   "execution_count": null,
   "id": "15631005-05e2-44f2-a3c0-8b1540eae611",
   "metadata": {},
   "outputs": [],
   "source": [
    "ghost_TFR = []\n",
    "no_ghost_TFR = []\n",
    "\n",
    "ghost_TFR = MM_compute_TFR(ghost_roi,freqs,n_cycles,baseline = (-2,2), zscore=True, workers = 5)\n",
    "no_ghost_TFR = MM_compute_TFR(no_ghost_roi,freqs,n_cycles,baseline = (-2,2), zscore=True, workers = 5)"
   ]
  },
  {
   "cell_type": "code",
   "execution_count": null,
   "id": "703ab9d3-3469-4606-b0ce-d5f17c27d9ea",
   "metadata": {},
   "outputs": [],
   "source": [
    "ghost_TFR.crop(tmin = -2, tmax = 2)\n",
    "no_ghost_TFR.crop(tmin = -2, tmax = 2)"
   ]
  },
  {
   "cell_type": "code",
   "execution_count": null,
   "id": "d69b8ce6-ed62-4b94-8b48-fe0b6b8e324b",
   "metadata": {},
   "outputs": [],
   "source": [
    "plt.rcParams['figure.figsize'] = [14, 11]\n",
    "fig, ax = plt.subplots()\n",
    "i = ax.imshow(ghost_TFR.data.mean(axis = 0).mean(axis = 0), cmap = 'RdBu_r', interpolation=\"none\", origin=\"lower\", aspect = 'auto', extent=[-2, 2, freqs[0], freqs[-1]], vmin = -.2, vmax = .2)\n",
    "ax.set_yticks(np.linspace(np.min(ghost_TFR.freqs),np.max(ghost_TFR.freqs),len(ghost_TFR.freqs)))\n",
    "ax.set_yticklabels(np.round(ghost_TFR.freqs))\n",
    "bar = plt.colorbar(i)\n",
    "ax.set_title(\"Average OFC TFR in Conflict Trials\")\n",
    "fig.savefig(f'figures/{subject}_average_ofc_conflict.png', dpi=600)\n",
    "fig.show()\n",
    "\n",
    "fig, ax = plt.subplots()\n",
    "i = ax.imshow(no_ghost_TFR.data.mean(axis = 0).mean(axis = 0), cmap = 'RdBu_r', interpolation=\"none\", origin=\"lower\", aspect = 'auto', extent=[-2, 2, freqs[0], freqs[-1]], vmin = -.2, vmax = .2)\n",
    "ax.set_yticks(np.linspace(np.min(ghost_TFR.freqs),np.max(ghost_TFR.freqs),len(ghost_TFR.freqs)))\n",
    "ax.set_yticklabels(np.round(ghost_TFR.freqs))\n",
    "bar = plt.colorbar(i)\n",
    "ax.set_title(\"Average OFC TFR in No-Conflict Trials\")\n",
    "fig.savefig(f'figures/{subject}_average_ofc_noconflict.png', dpi=600)\n",
    "fig.show()\n",
    "\n"
   ]
  },
  {
   "cell_type": "markdown",
   "id": "e7d3b462-cf31-47f4-bc10-ca8142a03bce",
   "metadata": {},
   "source": [
    "### Individual Channels"
   ]
  },
  {
   "cell_type": "code",
   "execution_count": null,
   "id": "7eb2dfdf-90c6-4580-8ca9-bb70675a69d9",
   "metadata": {
    "tags": []
   },
   "outputs": [],
   "source": [
    "plt.rcParams['figure.figsize'] = [14, 11]\n",
    "\n",
    "chix = 0\n",
    "for ch in ghost_TFR.ch_names:\n",
    "\n",
    "    fig, ax = plt.subplots()\n",
    "    i = ax.imshow(ghost_TFR.data[:, chix, :, :].mean(axis = 0), cmap = 'RdBu_r', interpolation=\"none\", origin=\"lower\", aspect = 'auto', extent=[-2, 2, freqs[0], freqs[-1]], vmin = -.4, vmax = .4)\n",
    "    ax.set_yticks(np.linspace(np.min(ghost_TFR.freqs),np.max(ghost_TFR.freqs),len(ghost_TFR.freqs)))\n",
    "    ax.set_yticklabels(np.round(ghost_TFR.freqs))\n",
    "    bar = plt.colorbar(i)\n",
    "    ax.set_title(f\"{ch}:  Conflict Trials\")\n",
    "    fig.show()\n",
    "\n",
    "    fig, ax = plt.subplots()\n",
    "    i = ax.imshow(no_ghost_TFR.data[:, chix, :, :].mean(axis = 0), cmap = 'RdBu_r', interpolation=\"none\", origin=\"lower\", aspect = 'auto', extent=[-2, 2, freqs[0], freqs[-1]], vmin = -.4, vmax = .4)\n",
    "    ax.set_yticks(np.linspace(np.min(ghost_TFR.freqs),np.max(ghost_TFR.freqs),len(ghost_TFR.freqs)))\n",
    "    ax.set_yticklabels(np.round(ghost_TFR.freqs))\n",
    "    bar = plt.colorbar(i)\n",
    "    ax.set_title(f\"{ch}:  No Conflict Trials\")\n",
    "    fig.show()\n",
    "    \n",
    "    chix = chix + 1"
   ]
  },
  {
   "cell_type": "markdown",
   "id": "2ffca24a-dc80-49ee-b1ec-fc67e5772a35",
   "metadata": {
    "tags": []
   },
   "source": [
    "### Export freq data locked to turn around time to csvs"
   ]
  },
  {
   "cell_type": "code",
   "execution_count": null,
   "id": "7aa24383-37b0-4170-be11-658995f2d6b9",
   "metadata": {},
   "outputs": [],
   "source": [
    "# delta\n",
    "extract_freqs(1, 3, \"delta\", \"last_away\", \"ofc\", \"away_locked_ghost\", ghost_TFR, ghost_roi.metadata.trial_numeric.to_numpy(copy = True))\n",
    "extract_freqs(1, 3, \"delta\", \"last_away\", \"ofc\", \"away_locked_noghost\", no_ghost_TFR, no_ghost_roi.metadata.trial_numeric.to_numpy(copy = True))\n",
    "# theta\n",
    "extract_freqs(3, 8, \"theta\", \"last_away\", \"ofc\", \"away_locked_ghost\", ghost_TFR, ghost_roi.metadata.trial_numeric.to_numpy(copy = True))\n",
    "extract_freqs(3, 8, \"theta\", \"last_away\", \"ofc\", \"away_locked_noghost\", no_ghost_TFR, no_ghost_roi.metadata.trial_numeric.to_numpy(copy = True))\n",
    "# alpha\n",
    "extract_freqs(8, 13, \"alpha\", \"last_away\", \"ofc\", \"away_locked_ghost\", ghost_TFR, ghost_roi.metadata.trial_numeric.to_numpy(copy = True))\n",
    "extract_freqs(8, 13, \"alpha\", \"last_away\", \"ofc\", \"away_locked_noghost\", no_ghost_TFR, no_ghost_roi.metadata.trial_numeric.to_numpy(copy = True))\n",
    "# beta\n",
    "extract_freqs(13, 30, \"beta\", \"last_away\", \"ofc\", \"away_locked_ghost\", ghost_TFR, ghost_roi.metadata.trial_numeric.to_numpy(copy = True))\n",
    "extract_freqs(13, 30, \"beta\", \"last_away\", \"ofc\", \"away_locked_noghost\", no_ghost_TFR, no_ghost_roi.metadata.trial_numeric.to_numpy(copy = True))\n",
    "# gamma\n",
    "extract_freqs(30, 70, \"gamma\", \"last_away\", \"ofc\", \"away_locked_ghost\", ghost_TFR, ghost_roi.metadata.trial_numeric.to_numpy(copy = True))\n",
    "extract_freqs(30, 70, \"gamma\", \"last_away\", \"ofc\", \"away_locked_noghost\", no_ghost_TFR, no_ghost_roi.metadata.trial_numeric.to_numpy(copy = True))\n",
    "# HFA\n",
    "extract_freqs(70, 150, \"hfa\", \"last_away\", \"ofc\", \"away_locked_ghost\", ghost_TFR, ghost_roi.metadata.trial_numeric.to_numpy(copy = True))\n",
    "extract_freqs(70, 150, \"hfa\", \"last_away\", \"ofc\", \"away_locked_noghost\", no_ghost_TFR, no_ghost_roi.metadata.trial_numeric.to_numpy(copy = True))"
   ]
  },
  {
   "cell_type": "markdown",
   "id": "95f58545-b3ab-4e5e-8974-59b678a7037b",
   "metadata": {
    "tags": []
   },
   "source": [
    "# Amygdala"
   ]
  },
  {
   "cell_type": "code",
   "execution_count": null,
   "id": "de7aae76-05fd-426e-ab74-923f51b77f3c",
   "metadata": {},
   "outputs": [],
   "source": [
    "ghost_roi = ghost_epochs.copy().pick_channels(amyg_list)\n",
    "no_ghost_roi = no_ghost_epochs.copy().pick_channels(amyg_list)"
   ]
  },
  {
   "cell_type": "code",
   "execution_count": null,
   "id": "f4f6900b-a7a6-4797-b661-03c527da3f68",
   "metadata": {},
   "outputs": [],
   "source": [
    "ghost_roi= ghost_roi.resample(1000)\n",
    "no_ghost_roi= no_ghost_roi.resample(1000)"
   ]
  },
  {
   "cell_type": "code",
   "execution_count": null,
   "id": "1c19d7ca-7443-46cf-9388-16957a21c2e8",
   "metadata": {},
   "outputs": [],
   "source": [
    "ghost_TFR = []\n",
    "no_ghost_TFR = []\n",
    "\n",
    "ghost_TFR = MM_compute_TFR(ghost_roi,freqs,n_cycles,baseline = (-2,2), zscore=True)\n",
    "no_ghost_TFR = MM_compute_TFR(no_ghost_roi,freqs,n_cycles,baseline = (-2,2), zscore=True)"
   ]
  },
  {
   "cell_type": "code",
   "execution_count": null,
   "id": "536d73c7-2b7f-49ba-9038-f7e1e76cee41",
   "metadata": {},
   "outputs": [],
   "source": [
    "ghost_TFR.crop(tmin = -2, tmax = 2)\n",
    "no_ghost_TFR.crop(tmin = -2, tmax = 2)"
   ]
  },
  {
   "cell_type": "code",
   "execution_count": null,
   "id": "c8a0f24c-5fdc-4747-b1a1-b5d4d542564f",
   "metadata": {},
   "outputs": [],
   "source": [
    "plt.rcParams['figure.figsize'] = [14, 11]\n",
    "fig, ax = plt.subplots()\n",
    "i = ax.imshow(ghost_TFR.data.mean(axis = 0).mean(axis = 0), cmap = 'RdBu_r', interpolation=\"none\", origin=\"lower\", aspect = 'auto', extent=[-2, 2, freqs[0], freqs[-1]], vmin =-.2, vmax = .2)\n",
    "ax.set_yticks(np.linspace(np.min(ghost_TFR.freqs),np.max(ghost_TFR.freqs),len(ghost_TFR.freqs)))\n",
    "ax.set_yticklabels(np.round(ghost_TFR.freqs))\n",
    "bar = plt.colorbar(i)\n",
    "ax.set_title(\"Average Amygdala TFR in Conflict Trials\")\n",
    "fig.savefig(f'figures/{subject}_average_amyg_conflict.png', dpi=600)\n",
    "fig.show()\n",
    "\n",
    "\n",
    "fig, ax = plt.subplots()\n",
    "i = ax.imshow(no_ghost_TFR.data.mean(axis = 0).mean(axis = 0), cmap = 'RdBu_r', interpolation=\"none\", origin=\"lower\", aspect = 'auto', extent=[-2, 2, freqs[0], freqs[-1]], vmin =-.2, vmax = .2)\n",
    "ax.set_yticks(np.linspace(np.min(ghost_TFR.freqs),np.max(ghost_TFR.freqs),len(ghost_TFR.freqs)))\n",
    "ax.set_yticklabels(np.round(ghost_TFR.freqs))\n",
    "bar = plt.colorbar(i)\n",
    "ax.set_title(\"Average Amygdala TFR in No-Conflict Trials\")\n",
    "fig.savefig(f'figures/{subject}_average_amyg_noconflict.png', dpi=600)\n",
    "fig.show()"
   ]
  },
  {
   "cell_type": "markdown",
   "id": "a01e399c-bc04-4de5-afad-7c77e2e4cfea",
   "metadata": {},
   "source": [
    "### Individual Channels"
   ]
  },
  {
   "cell_type": "code",
   "execution_count": null,
   "id": "5e9dc2ab-4485-4260-a1a4-4638280c46fe",
   "metadata": {},
   "outputs": [],
   "source": [
    "plt.rcParams['figure.figsize'] = [14, 11]\n",
    "\n",
    "chix = 0\n",
    "for ch in ghost_TFR.ch_names:\n",
    "\n",
    "    fig, ax = plt.subplots()\n",
    "    i = ax.imshow(ghost_TFR.data[:, chix, :, :].mean(axis = 0), cmap = 'RdBu_r', interpolation=\"none\", origin=\"lower\", aspect = 'auto', extent=[-2, 2, freqs[0], freqs[-1]], vmin = -.4, vmax = .4)\n",
    "    ax.set_yticks(np.linspace(np.min(ghost_TFR.freqs),np.max(ghost_TFR.freqs),len(ghost_TFR.freqs)))\n",
    "    ax.set_yticklabels(np.round(ghost_TFR.freqs))\n",
    "    bar = plt.colorbar(i)\n",
    "    ax.set_title(f\"{ch}:  Conflict Trials\")\n",
    "    fig.show()\n",
    "\n",
    "    fig, ax = plt.subplots()\n",
    "    i = ax.imshow(no_ghost_TFR.data[:, chix, :, :].mean(axis = 0), cmap = 'RdBu_r', interpolation=\"none\", origin=\"lower\", aspect = 'auto', extent=[-2, 2, freqs[0], freqs[-1]], vmin = -.4, vmax = .4)\n",
    "    ax.set_yticks(np.linspace(np.min(ghost_TFR.freqs),np.max(ghost_TFR.freqs),len(ghost_TFR.freqs)))\n",
    "    ax.set_yticklabels(np.round(ghost_TFR.freqs))\n",
    "    bar = plt.colorbar(i)\n",
    "    ax.set_title(f\"{ch}:  No Conflict Trials\")\n",
    "    fig.show()\n",
    "    \n",
    "    chix = chix + 1"
   ]
  },
  {
   "cell_type": "markdown",
   "id": "d6df8072-7f6e-454a-8645-1b4c79db959c",
   "metadata": {
    "tags": []
   },
   "source": [
    "### Export freq data locked to turn around time to csvs"
   ]
  },
  {
   "cell_type": "code",
   "execution_count": null,
   "id": "2ea52dc2-b116-4237-b56c-064db2753d48",
   "metadata": {},
   "outputs": [],
   "source": [
    "# delta\n",
    "extract_freqs(1, 3, \"delta\", \"last_away\", \"amyg\", \"away_locked_ghost\", ghost_TFR, ghost_roi.metadata.trial_numeric.to_numpy(copy = True))\n",
    "extract_freqs(1, 3, \"delta\", \"last_away\", \"amyg\", \"away_locked_noghost\", no_ghost_TFR, no_ghost_roi.metadata.trial_numeric.to_numpy(copy = True))\n",
    "# theta\n",
    "extract_freqs(3, 8, \"theta\", \"last_away\", \"amyg\", \"away_locked_ghost\", ghost_TFR, ghost_roi.metadata.trial_numeric.to_numpy(copy = True))\n",
    "extract_freqs(3, 8, \"theta\", \"last_away\", \"amyg\", \"away_locked_noghost\", no_ghost_TFR, no_ghost_roi.metadata.trial_numeric.to_numpy(copy = True))\n",
    "# alpha\n",
    "extract_freqs(8, 13, \"alpha\", \"last_away\", \"amyg\", \"away_locked_ghost\", ghost_TFR, ghost_roi.metadata.trial_numeric.to_numpy(copy = True))\n",
    "extract_freqs(8, 13, \"alpha\", \"last_away\", \"amyg\", \"away_locked_noghost\", no_ghost_TFR, no_ghost_roi.metadata.trial_numeric.to_numpy(copy = True))\n",
    "# beta\n",
    "extract_freqs(13, 30, \"beta\", \"last_away\", \"amyg\", \"away_locked_ghost\", ghost_TFR, ghost_roi.metadata.trial_numeric.to_numpy(copy = True))\n",
    "extract_freqs(13, 30, \"beta\", \"last_away\", \"amyg\", \"away_locked_noghost\", no_ghost_TFR, no_ghost_roi.metadata.trial_numeric.to_numpy(copy = True))\n",
    "# gamma\n",
    "extract_freqs(30, 70, \"gamma\", \"last_away\", \"amyg\", \"away_locked_ghost\", ghost_TFR, ghost_roi.metadata.trial_numeric.to_numpy(copy = True))\n",
    "extract_freqs(30, 70, \"gamma\", \"last_away\", \"amyg\", \"away_locked_noghost\", no_ghost_TFR, no_ghost_roi.metadata.trial_numeric.to_numpy(copy = True))\n",
    "# HFA\n",
    "extract_freqs(70, 150, \"hfa\", \"last_away\", \"amyg\", \"away_locked_ghost\", ghost_TFR, ghost_roi.metadata.trial_numeric.to_numpy(copy = True))\n",
    "extract_freqs(70, 150, \"hfa\", \"last_away\", \"amyg\", \"away_locked_noghost\", no_ghost_TFR, no_ghost_roi.metadata.trial_numeric.to_numpy(copy = True))"
   ]
  },
  {
   "cell_type": "markdown",
   "id": "c6b75852-eae0-46eb-a5bb-da79cac9ad18",
   "metadata": {
    "tags": []
   },
   "source": [
    "## Cingulate"
   ]
  },
  {
   "cell_type": "code",
   "execution_count": null,
   "id": "a9411f4a-5f65-4b8b-a4cf-d8ac2576fd67",
   "metadata": {},
   "outputs": [],
   "source": [
    "cing_list"
   ]
  },
  {
   "cell_type": "code",
   "execution_count": null,
   "id": "a078dd7c-2bde-4f04-b14f-5992a07cb284",
   "metadata": {},
   "outputs": [],
   "source": [
    "ghost_roi = ghost_epochs.copy().pick_channels(cing_list)\n",
    "no_ghost_roi = no_ghost_epochs.copy().pick_channels(cing_list)"
   ]
  },
  {
   "cell_type": "code",
   "execution_count": null,
   "id": "4f70ba0a-722f-4e74-b6a1-9943d40c3747",
   "metadata": {},
   "outputs": [],
   "source": [
    "ghost_roi= ghost_roi.resample(1000)\n",
    "no_ghost_roi= no_ghost_roi.resample(1000)"
   ]
  },
  {
   "cell_type": "code",
   "execution_count": null,
   "id": "bcdab97c-8708-4113-baad-44695bb5476d",
   "metadata": {},
   "outputs": [],
   "source": [
    "ghost_TFR = []\n",
    "no_ghost_TFR = []\n",
    "\n",
    "ghost_TFR = MM_compute_TFR(ghost_roi,freqs,n_cycles,baseline = (-2,2), zscore=True)\n",
    "no_ghost_TFR = MM_compute_TFR(no_ghost_roi,freqs,n_cycles,baseline = (-2,2), zscore=True)"
   ]
  },
  {
   "cell_type": "code",
   "execution_count": null,
   "id": "74c8573a-40e7-48e3-bd53-810a9c3bbc68",
   "metadata": {},
   "outputs": [],
   "source": [
    "ghost_TFR.crop(tmin = -2, tmax = 2)\n",
    "no_ghost_TFR.crop(tmin = -2, tmax = 2)"
   ]
  },
  {
   "cell_type": "code",
   "execution_count": null,
   "id": "24b5a48c-de71-4e1e-89ca-72e588384a57",
   "metadata": {},
   "outputs": [],
   "source": [
    "plt.rcParams['figure.figsize'] = [14, 11]\n",
    "fig, ax = plt.subplots()\n",
    "i = ax.imshow(ghost_TFR.data.mean(axis = 0).mean(axis = 0), cmap = 'RdBu_r', interpolation=\"none\", origin=\"lower\", aspect = 'auto', extent=[-2, 2, freqs[0], freqs[-1]], vmin =-.2, vmax = .2)\n",
    "ax.set_yticks(np.linspace(np.min(ghost_TFR.freqs),np.max(ghost_TFR.freqs),len(ghost_TFR.freqs)))\n",
    "ax.set_yticklabels(np.round(ghost_TFR.freqs))\n",
    "bar = plt.colorbar(i)\n",
    "ax.set_title(\"Average Cingulate TFR in Conflict Trials\")\n",
    "fig.savefig(f'figures/{subject}_average_cing_conflict.png', dpi=600)\n",
    "fig.show()\n",
    "\n",
    "\n",
    "fig, ax = plt.subplots()\n",
    "i = ax.imshow(no_ghost_TFR.data.mean(axis = 0).mean(axis = 0), cmap = 'RdBu_r', interpolation=\"none\", origin=\"lower\", aspect = 'auto', extent=[-2, 2, freqs[0], freqs[-1]], vmin =-.2, vmax = .2)\n",
    "ax.set_yticks(np.linspace(np.min(ghost_TFR.freqs),np.max(ghost_TFR.freqs),len(ghost_TFR.freqs)))\n",
    "ax.set_yticklabels(np.round(ghost_TFR.freqs))\n",
    "bar = plt.colorbar(i)\n",
    "ax.set_title(\"Average Cingulate TFR in No-Conflict Trials\")\n",
    "fig.savefig(f'figures/{subject}_average_cing_noconflict.png', dpi=600)\n",
    "fig.show()\n"
   ]
  },
  {
   "cell_type": "markdown",
   "id": "60019ff3-acb5-49c2-ab3f-7643fb7c2396",
   "metadata": {},
   "source": [
    "### Individual Channels"
   ]
  },
  {
   "cell_type": "code",
   "execution_count": null,
   "id": "f3b09e5a-822e-4faa-9f1f-b82bedf15f75",
   "metadata": {},
   "outputs": [],
   "source": [
    "plt.rcParams['figure.figsize'] = [14, 11]\n",
    "\n",
    "chix = 0\n",
    "for ch in ghost_TFR.ch_names:\n",
    "\n",
    "    fig, ax = plt.subplots()\n",
    "    i = ax.imshow(ghost_TFR.data[:, chix, :, :].mean(axis = 0), cmap = 'RdBu_r', interpolation=\"none\", origin=\"lower\", aspect = 'auto', extent=[-2, 2, freqs[0], freqs[-1]], vmin = -.4, vmax = .4)\n",
    "    ax.set_yticks(np.linspace(np.min(ghost_TFR.freqs),np.max(ghost_TFR.freqs),len(ghost_TFR.freqs)))\n",
    "    ax.set_yticklabels(np.round(ghost_TFR.freqs))\n",
    "    bar = plt.colorbar(i)\n",
    "    ax.set_title(f\"{ch}:  Conflict Trials\")\n",
    "    fig.show()\n",
    "\n",
    "    fig, ax = plt.subplots()\n",
    "    i = ax.imshow(no_ghost_TFR.data[:, chix, :, :].mean(axis = 0), cmap = 'RdBu_r', interpolation=\"none\", origin=\"lower\", aspect = 'auto', extent=[-2, 2, freqs[0], freqs[-1]], vmin = -.4, vmax = .4)\n",
    "    ax.set_yticks(np.linspace(np.min(ghost_TFR.freqs),np.max(ghost_TFR.freqs),len(ghost_TFR.freqs)))\n",
    "    ax.set_yticklabels(np.round(ghost_TFR.freqs))\n",
    "    bar = plt.colorbar(i)\n",
    "    ax.set_title(f\"{ch}:  No Conflict Trials\")\n",
    "    fig.show()\n",
    "    \n",
    "    chix = chix + 1"
   ]
  },
  {
   "cell_type": "markdown",
   "id": "0f0d1a10-f76f-4ef9-9ec9-bd6878a5bfc8",
   "metadata": {
    "tags": []
   },
   "source": [
    "### Export freq data locked to turn around time to csvs"
   ]
  },
  {
   "cell_type": "code",
   "execution_count": null,
   "id": "e8ecfb8a-0417-4c85-96a2-c03cb85c88f9",
   "metadata": {},
   "outputs": [],
   "source": [
    "# delta\n",
    "extract_freqs(1, 3, \"delta\", \"last_away\", \"cing\", \"away_locked_ghost\", ghost_TFR, ghost_roi.metadata.trial_numeric.to_numpy(copy = True))\n",
    "extract_freqs(1, 3, \"delta\", \"last_away\", \"cing\", \"away_locked_noghost\", no_ghost_TFR, no_ghost_roi.metadata.trial_numeric.to_numpy(copy = True))\n",
    "# theta\n",
    "extract_freqs(3, 8, \"theta\", \"last_away\", \"cing\", \"away_locked_ghost\", ghost_TFR, ghost_roi.metadata.trial_numeric.to_numpy(copy = True))\n",
    "extract_freqs(3, 8, \"theta\", \"last_away\", \"cing\", \"away_locked_noghost\", no_ghost_TFR, no_ghost_roi.metadata.trial_numeric.to_numpy(copy = True))\n",
    "# alpha\n",
    "extract_freqs(8, 13, \"alpha\", \"last_away\", \"cing\", \"away_locked_ghost\", ghost_TFR, ghost_roi.metadata.trial_numeric.to_numpy(copy = True))\n",
    "extract_freqs(8, 13, \"alpha\", \"last_away\", \"cing\", \"away_locked_noghost\", no_ghost_TFR, no_ghost_roi.metadata.trial_numeric.to_numpy(copy = True))\n",
    "# beta\n",
    "extract_freqs(13, 30, \"beta\", \"last_away\", \"cing\", \"away_locked_ghost\", ghost_TFR, ghost_roi.metadata.trial_numeric.to_numpy(copy = True))\n",
    "extract_freqs(13, 30, \"beta\", \"last_away\", \"cing\", \"away_locked_noghost\", no_ghost_TFR, no_ghost_roi.metadata.trial_numeric.to_numpy(copy = True))\n",
    "# gamma\n",
    "extract_freqs(30, 70, \"gamma\", \"last_away\", \"cing\", \"away_locked_ghost\", ghost_TFR, ghost_roi.metadata.trial_numeric.to_numpy(copy = True))\n",
    "extract_freqs(30, 70, \"gamma\", \"last_away\", \"cing\", \"away_locked_noghost\", no_ghost_TFR, no_ghost_roi.metadata.trial_numeric.to_numpy(copy = True))\n",
    "# HFA\n",
    "extract_freqs(70, 150, \"hfa\", \"last_away\", \"cing\", \"away_locked_ghost\", ghost_TFR, ghost_roi.metadata.trial_numeric.to_numpy(copy = True))\n",
    "extract_freqs(70, 150, \"hfa\", \"last_away\", \"cing\", \"away_locked_noghost\", no_ghost_TFR, no_ghost_roi.metadata.trial_numeric.to_numpy(copy = True))"
   ]
  },
  {
   "cell_type": "markdown",
   "id": "7d20ef33-bde5-4791-81d8-dd08cb365238",
   "metadata": {},
   "source": [
    "# Control Regions"
   ]
  },
  {
   "cell_type": "markdown",
   "id": "21495e34-6407-4cc9-804d-313c1168172f",
   "metadata": {
    "tags": []
   },
   "source": [
    "## Insula"
   ]
  },
  {
   "cell_type": "code",
   "execution_count": null,
   "id": "38740841-aa8b-4913-9eb6-6df8a3a749d9",
   "metadata": {},
   "outputs": [],
   "source": [
    "insula_list"
   ]
  },
  {
   "cell_type": "code",
   "execution_count": null,
   "id": "32f29f2a-789f-4825-9ee8-33a7de17971a",
   "metadata": {},
   "outputs": [],
   "source": [
    "ghost_roi = ghost_epochs.copy().pick_channels(insula_list)\n",
    "no_ghost_roi = no_ghost_epochs.copy().pick_channels(insula_list)"
   ]
  },
  {
   "cell_type": "code",
   "execution_count": null,
   "id": "160301c8-b2ad-4278-851f-c9721c3d3244",
   "metadata": {},
   "outputs": [],
   "source": [
    "ghost_roi= ghost_roi.resample(1000)\n",
    "no_ghost_roi= no_ghost_roi.resample(1000)"
   ]
  },
  {
   "cell_type": "code",
   "execution_count": null,
   "id": "5db41484-8268-45fe-9cb7-08d3a83b20ca",
   "metadata": {},
   "outputs": [],
   "source": [
    "ghost_TFR = []\n",
    "no_ghost_TFR = []\n",
    "\n",
    "ghost_TFR = MM_compute_TFR(ghost_roi,freqs,n_cycles,baseline = (-2,2), zscore=True)\n",
    "no_ghost_TFR = MM_compute_TFR(no_ghost_roi,freqs,n_cycles,baseline = (-2,2), zscore=True)"
   ]
  },
  {
   "cell_type": "code",
   "execution_count": null,
   "id": "fe4d6986-c3c3-4540-996d-2202e2c7e0ae",
   "metadata": {},
   "outputs": [],
   "source": [
    "ghost_TFR.crop(tmin = -2, tmax = 2)\n",
    "no_ghost_TFR.crop(tmin = -2, tmax = 2)"
   ]
  },
  {
   "cell_type": "code",
   "execution_count": null,
   "id": "c7974df9-0982-4e2f-a5e8-6523adea6fe4",
   "metadata": {},
   "outputs": [],
   "source": [
    "plt.rcParams['figure.figsize'] = [15, 11]\n",
    "fig, ax = plt.subplots()\n",
    "i = ax.imshow(ghost_TFR.data.mean(axis = 0).mean(axis = 0), cmap = 'RdBu_r', interpolation=\"none\", origin=\"lower\", aspect = 'auto', extent=[-2, 2, freqs[0], freqs[-1]], vmin =-.2, vmax = .2)\n",
    "ax.set_yticks(np.linspace(np.min(ghost_TFR.freqs),np.max(ghost_TFR.freqs),len(ghost_TFR.freqs)))\n",
    "ax.set_yticklabels(np.round(ghost_TFR.freqs))\n",
    "bar = plt.colorbar(i)\n",
    "ax.set_title(\"Average Insula TFR in Conflict Trials\")\n",
    "fig.savefig(f'figures/{subject}_average_insula_conflict.png', dpi=600)\n",
    "fig.show()\n",
    "\n",
    "\n",
    "fig, ax = plt.subplots()\n",
    "i = ax.imshow(no_ghost_TFR.data.mean(axis = 0).mean(axis = 0), cmap = 'RdBu_r', interpolation=\"none\", origin=\"lower\", aspect = 'auto', extent=[-2, 2, freqs[0], freqs[-1]], vmin =-.2, vmax = .2)\n",
    "ax.set_yticks(np.linspace(np.min(ghost_TFR.freqs),np.max(ghost_TFR.freqs),len(ghost_TFR.freqs)))\n",
    "ax.set_yticklabels(np.round(ghost_TFR.freqs))\n",
    "bar = plt.colorbar(i)\n",
    "ax.set_title(\"Average Insula TFR in No-Conflict Trials\")\n",
    "fig.savefig(f'figures/{subject}_average_insula_noconflict.png', dpi=600)\n",
    "fig.show()\n"
   ]
  },
  {
   "cell_type": "markdown",
   "id": "686d0db5-7514-46e4-9eb0-d77429ab055d",
   "metadata": {},
   "source": [
    "### Individual Channels"
   ]
  },
  {
   "cell_type": "code",
   "execution_count": null,
   "id": "4c70be96-62eb-4d13-a3a5-769f8fc90a14",
   "metadata": {},
   "outputs": [],
   "source": [
    "plt.rcParams['figure.figsize'] = [15, 11]\n",
    "\n",
    "chix = 0\n",
    "for ch in ghost_TFR.ch_names:\n",
    "\n",
    "    fig, ax = plt.subplots()\n",
    "    i = ax.imshow(ghost_TFR.data[:, chix, :, :].mean(axis = 0), cmap = 'RdBu_r', interpolation=\"none\", origin=\"lower\", aspect = 'auto', extent=[-2, 2, freqs[0], freqs[-1]], vmin = -.4, vmax = .4)\n",
    "    ax.set_yticks(np.linspace(np.min(ghost_TFR.freqs),np.max(ghost_TFR.freqs),len(ghost_TFR.freqs)))\n",
    "    ax.set_yticklabels(np.round(ghost_TFR.freqs))\n",
    "    bar = plt.colorbar(i)\n",
    "    ax.set_title(f\"{ch}:  Conflict Trials\")\n",
    "    fig.show()\n",
    "\n",
    "    fig, ax = plt.subplots()\n",
    "    i = ax.imshow(no_ghost_TFR.data[:, chix, :, :].mean(axis = 0), cmap = 'RdBu_r', interpolation=\"none\", origin=\"lower\", aspect = 'auto', extent=[-2, 2, freqs[0], freqs[-1]], vmin = -.4, vmax = .4)\n",
    "    ax.set_yticks(np.linspace(np.min(ghost_TFR.freqs),np.max(ghost_TFR.freqs),len(ghost_TFR.freqs)))\n",
    "    ax.set_yticklabels(np.round(ghost_TFR.freqs))\n",
    "    bar = plt.colorbar(i)\n",
    "    ax.set_title(f\"{ch}:  No Conflict Trials\")\n",
    "    fig.show()\n",
    "    \n",
    "    chix = chix + 1"
   ]
  },
  {
   "cell_type": "markdown",
   "id": "55a15745-13ff-4fb6-957b-91af7dbe492b",
   "metadata": {
    "tags": []
   },
   "source": [
    "### Export freq data locked to turn around time to csvs"
   ]
  },
  {
   "cell_type": "code",
   "execution_count": null,
   "id": "6c1fbd64-b96f-4402-a6f1-e02ad8dbe950",
   "metadata": {},
   "outputs": [],
   "source": [
    "# delta\n",
    "extract_freqs(1, 3, \"delta\", \"last_away\", \"insula\", \"away_locked_ghost\", ghost_TFR, ghost_roi.metadata.trial_numeric.to_numpy(copy = True))\n",
    "extract_freqs(1, 3, \"delta\", \"last_away\", \"insula\", \"away_locked_noghost\", no_ghost_TFR, no_ghost_roi.metadata.trial_numeric.to_numpy(copy = True))\n",
    "# theta\n",
    "extract_freqs(3, 8, \"theta\", \"last_away\", \"insula\", \"away_locked_ghost\", ghost_TFR, ghost_roi.metadata.trial_numeric.to_numpy(copy = True))\n",
    "extract_freqs(3, 8, \"theta\", \"last_away\", \"insula\", \"away_locked_noghost\", no_ghost_TFR, no_ghost_roi.metadata.trial_numeric.to_numpy(copy = True))\n",
    "# alpha\n",
    "extract_freqs(8, 13, \"alpha\", \"last_away\", \"insula\", \"away_locked_ghost\", ghost_TFR, ghost_roi.metadata.trial_numeric.to_numpy(copy = True))\n",
    "extract_freqs(8, 13, \"alpha\", \"last_away\", \"insula\", \"away_locked_noghost\", no_ghost_TFR, no_ghost_roi.metadata.trial_numeric.to_numpy(copy = True))\n",
    "# beta\n",
    "extract_freqs(13, 30, \"beta\", \"last_away\", \"insula\", \"away_locked_ghost\", ghost_TFR, ghost_roi.metadata.trial_numeric.to_numpy(copy = True))\n",
    "extract_freqs(13, 30, \"beta\", \"last_away\", \"insula\", \"away_locked_noghost\", no_ghost_TFR, no_ghost_roi.metadata.trial_numeric.to_numpy(copy = True))\n",
    "# gamma\n",
    "extract_freqs(30, 70, \"gamma\", \"last_away\", \"insula\", \"away_locked_ghost\", ghost_TFR, ghost_roi.metadata.trial_numeric.to_numpy(copy = True))\n",
    "extract_freqs(30, 70, \"gamma\", \"last_away\", \"insula\", \"away_locked_noghost\", no_ghost_TFR, no_ghost_roi.metadata.trial_numeric.to_numpy(copy = True))\n",
    "# HFA\n",
    "extract_freqs(70, 150, \"hfa\", \"last_away\", \"insula\", \"away_locked_ghost\", ghost_TFR, ghost_roi.metadata.trial_numeric.to_numpy(copy = True))\n",
    "extract_freqs(70, 150, \"hfa\", \"last_away\", \"insula\", \"away_locked_noghost\", no_ghost_TFR, no_ghost_roi.metadata.trial_numeric.to_numpy(copy = True))"
   ]
  },
  {
   "cell_type": "markdown",
   "id": "891357a0-090b-4499-9040-4ee885f10f5a",
   "metadata": {
    "tags": []
   },
   "source": [
    "## dlPFC"
   ]
  },
  {
   "cell_type": "code",
   "execution_count": null,
   "id": "790858d6-f6fa-4891-a31a-d497b7c25ade",
   "metadata": {},
   "outputs": [],
   "source": [
    "dlpfc_list"
   ]
  },
  {
   "cell_type": "code",
   "execution_count": null,
   "id": "b77c4a72-a586-406a-90e1-ccaa64c7eea5",
   "metadata": {},
   "outputs": [],
   "source": [
    "ghost_roi = ghost_epochs.copy().pick_channels(dlpfc_list)\n",
    "no_ghost_roi = no_ghost_epochs.copy().pick_channels(dlpfc_list)"
   ]
  },
  {
   "cell_type": "code",
   "execution_count": null,
   "id": "4778649b-4f1d-498c-9110-95b26612028e",
   "metadata": {},
   "outputs": [],
   "source": [
    "ghost_roi= ghost_roi.resample(1000)\n",
    "no_ghost_roi= no_ghost_roi.resample(1000)"
   ]
  },
  {
   "cell_type": "code",
   "execution_count": null,
   "id": "f913f649-cc42-4ef7-95ca-4aa935b7bf5f",
   "metadata": {},
   "outputs": [],
   "source": [
    "ghost_TFR = []\n",
    "no_ghost_TFR = []\n",
    "\n",
    "ghost_TFR = MM_compute_TFR(ghost_roi,freqs,n_cycles,baseline = (-2,2), zscore=True)\n",
    "no_ghost_TFR = MM_compute_TFR(no_ghost_roi,freqs,n_cycles,baseline = (-2,2), zscore=True)"
   ]
  },
  {
   "cell_type": "code",
   "execution_count": null,
   "id": "94ce06b3-467d-4eff-9b66-b8315feba91c",
   "metadata": {},
   "outputs": [],
   "source": [
    "ghost_TFR.crop(tmin = -2, tmax = 2)\n",
    "no_ghost_TFR.crop(tmin = -2, tmax = 2)"
   ]
  },
  {
   "cell_type": "code",
   "execution_count": null,
   "id": "7126134b-44ad-4d15-b603-fdfa864d8b0e",
   "metadata": {},
   "outputs": [],
   "source": [
    "plt.rcParams['figure.figsize'] = [15, 11]\n",
    "fig, ax = plt.subplots()\n",
    "i = ax.imshow(ghost_TFR.data.mean(axis = 0).mean(axis = 0), cmap = 'RdBu_r', interpolation=\"none\", origin=\"lower\", aspect = 'auto', extent=[-2, 2, freqs[0], freqs[-1]], vmin =-.2, vmax = .2)\n",
    "ax.set_yticks(np.linspace(np.min(ghost_TFR.freqs),np.max(ghost_TFR.freqs),len(ghost_TFR.freqs)))\n",
    "ax.set_yticklabels(np.round(ghost_TFR.freqs))\n",
    "bar = plt.colorbar(i)\n",
    "ax.set_title(\"Average dlPFC TFR in Conflict Trials\")\n",
    "fig.savefig(f'figures/{subject}_average_dlpfc_conflict.png', dpi=600)\n",
    "fig.show()\n",
    "\n",
    "\n",
    "fig, ax = plt.subplots()\n",
    "i = ax.imshow(no_ghost_TFR.data.mean(axis = 0).mean(axis = 0), cmap = 'RdBu_r', interpolation=\"none\", origin=\"lower\", aspect = 'auto', extent=[-2, 2, freqs[0], freqs[-1]], vmin =-.2, vmax = .2)\n",
    "ax.set_yticks(np.linspace(np.min(ghost_TFR.freqs),np.max(ghost_TFR.freqs),len(ghost_TFR.freqs)))\n",
    "ax.set_yticklabels(np.round(ghost_TFR.freqs))\n",
    "bar = plt.colorbar(i)\n",
    "ax.set_title(\"Average dlPFC TFR in No-Conflict Trials\")\n",
    "fig.savefig(f'figures/{subject}_average_dlpfc_noconflict.png', dpi=600)\n",
    "fig.show()\n"
   ]
  },
  {
   "cell_type": "markdown",
   "id": "42bf26c4-1a79-4b22-890d-aeb943620a6b",
   "metadata": {},
   "source": [
    "### Individual Channels"
   ]
  },
  {
   "cell_type": "code",
   "execution_count": null,
   "id": "4a240192-2c7d-4ebb-a77c-1c733ef39a33",
   "metadata": {},
   "outputs": [],
   "source": [
    "plt.rcParams['figure.figsize'] = [15, 11]\n",
    "\n",
    "chix = 0\n",
    "for ch in ghost_TFR.ch_names:\n",
    "\n",
    "    fig, ax = plt.subplots()\n",
    "    i = ax.imshow(ghost_TFR.data[:, chix, :, :].mean(axis = 0), cmap = 'RdBu_r', interpolation=\"none\", origin=\"lower\", aspect = 'auto', extent=[-2, 2, freqs[0], freqs[-1]], vmin = -.4, vmax = .4)\n",
    "    ax.set_yticks(np.linspace(np.min(ghost_TFR.freqs),np.max(ghost_TFR.freqs),len(ghost_TFR.freqs)))\n",
    "    ax.set_yticklabels(np.round(ghost_TFR.freqs))\n",
    "    bar = plt.colorbar(i)\n",
    "    ax.set_title(f\"{ch}:  Conflict Trials\")\n",
    "    fig.show()\n",
    "\n",
    "    fig, ax = plt.subplots()\n",
    "    i = ax.imshow(no_ghost_TFR.data[:, chix, :, :].mean(axis = 0), cmap = 'RdBu_r', interpolation=\"none\", origin=\"lower\", aspect = 'auto', extent=[-2, 2, freqs[0], freqs[-1]], vmin = -.4, vmax = .4)\n",
    "    ax.set_yticks(np.linspace(np.min(ghost_TFR.freqs),np.max(ghost_TFR.freqs),len(ghost_TFR.freqs)))\n",
    "    ax.set_yticklabels(np.round(ghost_TFR.freqs))\n",
    "    bar = plt.colorbar(i)\n",
    "    ax.set_title(f\"{ch}:  No Conflict Trials\")\n",
    "    fig.show()\n",
    "    \n",
    "    chix = chix + 1"
   ]
  },
  {
   "cell_type": "markdown",
   "id": "1bcf5886-74cc-4eec-8e4f-fe63c9a995be",
   "metadata": {
    "tags": []
   },
   "source": [
    "### Export freq data locked to turn around time to csvs"
   ]
  },
  {
   "cell_type": "code",
   "execution_count": null,
   "id": "975e6342-0fa5-4ceb-8ffd-adebae1db63e",
   "metadata": {},
   "outputs": [],
   "source": [
    "# delta\n",
    "extract_freqs(1, 3, \"delta\", \"last_away\", \"dlpfc\", \"away_locked_ghost\", ghost_TFR, ghost_roi.metadata.trial_numeric.to_numpy(copy = True))\n",
    "extract_freqs(1, 3, \"delta\", \"last_away\", \"dlpfc\", \"away_locked_noghost\", no_ghost_TFR, no_ghost_roi.metadata.trial_numeric.to_numpy(copy = True))\n",
    "# theta\n",
    "extract_freqs(3, 8, \"theta\", \"last_away\", \"dlpfc\", \"away_locked_ghost\", ghost_TFR, ghost_roi.metadata.trial_numeric.to_numpy(copy = True))\n",
    "extract_freqs(3, 8, \"theta\", \"last_away\", \"dlpfc\", \"away_locked_noghost\", no_ghost_TFR, no_ghost_roi.metadata.trial_numeric.to_numpy(copy = True))\n",
    "# alpha\n",
    "extract_freqs(8, 13, \"alpha\", \"last_away\", \"dlpfc\", \"away_locked_ghost\", ghost_TFR, ghost_roi.metadata.trial_numeric.to_numpy(copy = True))\n",
    "extract_freqs(8, 13, \"alpha\", \"last_away\", \"dlpfc\", \"away_locked_noghost\", no_ghost_TFR, no_ghost_roi.metadata.trial_numeric.to_numpy(copy = True))\n",
    "# beta\n",
    "extract_freqs(13, 30, \"beta\", \"last_away\", \"dlpfc\", \"away_locked_ghost\", ghost_TFR, ghost_roi.metadata.trial_numeric.to_numpy(copy = True))\n",
    "extract_freqs(13, 30, \"beta\", \"last_away\", \"dlpfc\", \"away_locked_noghost\", no_ghost_TFR, no_ghost_roi.metadata.trial_numeric.to_numpy(copy = True))\n",
    "# gamma\n",
    "extract_freqs(30, 70, \"gamma\", \"last_away\", \"dlpfc\", \"away_locked_ghost\", ghost_TFR, ghost_roi.metadata.trial_numeric.to_numpy(copy = True))\n",
    "extract_freqs(30, 70, \"gamma\", \"last_away\", \"dlpfc\", \"away_locked_noghost\", no_ghost_TFR, no_ghost_roi.metadata.trial_numeric.to_numpy(copy = True))\n",
    "# HFA\n",
    "extract_freqs(70, 150, \"hfa\", \"last_away\", \"dlpfc\", \"away_locked_ghost\", ghost_TFR, ghost_roi.metadata.trial_numeric.to_numpy(copy = True))\n",
    "extract_freqs(70, 150, \"hfa\", \"last_away\", \"dlpfc\", \"away_locked_noghost\", no_ghost_TFR, no_ghost_roi.metadata.trial_numeric.to_numpy(copy = True))"
   ]
  }
 ],
 "metadata": {
  "kernelspec": {
   "display_name": "Python [conda env:anaconda3-ieeg_analysis]",
   "language": "python",
   "name": "conda-env-anaconda3-ieeg_analysis-py"
  },
  "language_info": {
   "codemirror_mode": {
    "name": "ipython",
    "version": 3
   },
   "file_extension": ".py",
   "mimetype": "text/x-python",
   "name": "python",
   "nbconvert_exporter": "python",
   "pygments_lexer": "ipython3",
   "version": "3.9.12"
  }
 },
 "nbformat": 4,
 "nbformat_minor": 5
}

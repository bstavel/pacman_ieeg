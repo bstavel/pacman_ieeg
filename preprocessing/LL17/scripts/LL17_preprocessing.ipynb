{
 "cells": [
  {
   "cell_type": "markdown",
   "id": "5caa54ea-80d7-4318-b427-5411b5caea1d",
   "metadata": {},
   "source": [
    "# Preprocessing: LL17\n",
    "\n",
    "\n",
    "This markdown files loads the clean data and does a bipolar rereference as well as epochs the data\n"
   ]
  },
  {
   "cell_type": "code",
   "execution_count": 2,
   "id": "7124d816-0294-4977-b65a-64ec8a13910a",
   "metadata": {
    "tags": []
   },
   "outputs": [],
   "source": [
    "import matplotlib\n",
    "# matplotlib.use(\"Qt5Agg\")\n",
    "import matplotlib.pyplot as plt\n",
    "import pandas as pd\n",
    "import numpy as np\n",
    "from scipy import signal, stats\n",
    "import mat73\n",
    "import re\n",
    "from neurodsp.timefrequency import compute_wavelet_transform\n",
    "import os\n",
    "import mne\n",
    "import IPython\n",
    "import seaborn as sns"
   ]
  },
  {
   "cell_type": "code",
   "execution_count": 1,
   "id": "d7d0fa71-30b2-4684-ad96-1e5b7c05a39a",
   "metadata": {
    "tags": []
   },
   "outputs": [],
   "source": [
    "## Prep paths ##\n",
    "\n",
    "subject = 'LL17'\n",
    "raw_data_dir = f\"/home/brooke/pacman/raw_data/{subject}\"\n",
    "preproc_data_dir = f\"/home/brooke/pacman/preprocessing/{subject}/ieeg\""
   ]
  },
  {
   "cell_type": "code",
   "execution_count": 3,
   "id": "63fce4c8-66c4-48df-80f5-a5f545d76d3d",
   "metadata": {
    "tags": []
   },
   "outputs": [
    {
     "name": "stdout",
     "output_type": "stream",
     "text": [
      "Opening raw data file /home/brooke/pacman/raw_data/LL17/ieeg/LL17_notched_filtered_clean_ieeg.fif...\n",
      "    Range : 0 ... 982099 =      0.000 ...  1918.162 secs\n",
      "Ready.\n",
      "Opening raw data file /home/brooke/pacman/raw_data/LL17/ieeg/LL17_raw_clean_ieeg.fif...\n",
      "    Range : 0 ... 982099 =      0.000 ...  1918.162 secs\n",
      "Ready.\n"
     ]
    }
   ],
   "source": [
    "## Load Data ##\n",
    "\n",
    "# load filtered data #\n",
    "filtered_clean_fif = mne.io.Raw(f\"{raw_data_dir}/ieeg/{subject}_notched_filtered_clean_ieeg.fif\")\n",
    "\n",
    "# load raw data #\n",
    "raw_clean_fif = mne.io.Raw(f\"{raw_data_dir}/ieeg/{subject}_raw_clean_ieeg.fif\")\n",
    "\n"
   ]
  },
  {
   "cell_type": "code",
   "execution_count": 4,
   "id": "69ebd9c3-3800-46ea-a35a-8cc588663ca2",
   "metadata": {
    "tags": []
   },
   "outputs": [],
   "source": [
    "## Channels did not include probe prefixes in bci data file, convert to descriptive names here\n",
    "\n",
    "# read in csv with correct names\n",
    "channel_csv = pd.read_csv(f\"{preproc_data_dir}/../LL17_channel_names.csv\")\n",
    "\n",
    "# convert to dict\n",
    "channel_dict = dict(zip(channel_csv.bci_names, channel_csv.use_names))\n",
    "\n",
    "# rename\n",
    "mne.rename_channels(filtered_clean_fif.info, channel_dict)\n",
    "mne.rename_channels(raw_clean_fif.info, channel_dict)\n",
    "\n",
    "# missed one empyt channel\n",
    "filtered_clean_fif.info['bads'].append('CH72')\n",
    "raw_clean_fif.info['bads'].append('CH72')\n"
   ]
  },
  {
   "cell_type": "markdown",
   "id": "466e2db7-335c-450b-a643-cf3b6dd43c4e",
   "metadata": {},
   "source": [
    "## Bipolar Rereferencing"
   ]
  },
  {
   "cell_type": "code",
   "execution_count": 5,
   "id": "a8b94f89-1f90-4cac-bd34-1ac9d851b174",
   "metadata": {
    "tags": []
   },
   "outputs": [],
   "source": [
    "# helper functions\n",
    "\n",
    "def probe_and_num(elec_str): \n",
    "    ''' This convenience function takes an electrode string like LHH1 and outputs ('LHH', 1)\n",
    "    '''\n",
    "    if '_' in elec_str:\n",
    "        return None, None\n",
    "    else:   \n",
    "        regex_str = '(\\D+)(\\d+)' # group of letters followed by group of digits\n",
    "        matcher = re.compile(regex_str,re.IGNORECASE|re.DOTALL).search(elec_str)\n",
    "        if matcher:\n",
    "            probe, num = matcher.groups()\n",
    "            return probe, int(num)\n",
    "        else:\n",
    "            return None, None\n",
    "    \n",
    "def find_bipolar_pair(ch, labels, remove):\n",
    "    ''' Find the pair of a given electrode for bipolar referencing.\n",
    "        Given a single *ch* and a list of *labels*, some of which you want to *remove*,\n",
    "        this finds the next channel on that probe that isn't meant to be removed (WM is ok).\n",
    "    '''\n",
    "    bipolar_pair = None\n",
    "    probe, num = probe_and_num(ch)\n",
    "    other_in_probe = [other_ch for other_ch in labels if probe_and_num(other_ch)[0]==probe]\n",
    "    for i in range(len(other_in_probe)-num):\n",
    "        next_ch = probe + str(num+i+1)\n",
    "        if next_ch in remove or next_ch == 'STI':\n",
    "            continue\n",
    "        else:\n",
    "            bipolar_pair = next_ch\n",
    "            break\n",
    "    return bipolar_pair"
   ]
  },
  {
   "cell_type": "code",
   "execution_count": 6,
   "id": "f1eefdfe-b251-4f28-8f1b-2608f94da503",
   "metadata": {
    "tags": []
   },
   "outputs": [
    {
     "name": "stdout",
     "output_type": "stream",
     "text": [
      "LA1 LA2\n",
      "LA2 LA3\n",
      "LA3 LA4\n",
      "LA4 LA5\n",
      "LA5 LA6\n",
      "LA6 LA7\n",
      "LA7 LA8\n",
      "LH1 LH2\n",
      "LH2 LH3\n",
      "LH3 LH4\n",
      "LH4 LH5\n",
      "LH5 LH6\n",
      "LH7 noref\n",
      "LH8 noref\n",
      "LHP1 LHP2\n",
      "LHP2 LHP3\n",
      "LHP3 LHP4\n",
      "LHP4 LHP5\n",
      "LHP5 LHP6\n",
      "LHP7 noref\n",
      "LHP8 noref\n",
      "LOF1 LOF2\n",
      "LOF2 LOF3\n",
      "LOF3 LOF4\n",
      "LOF4 LOF5\n",
      "LOF5 LOF6\n",
      "LOF6 LOF7\n",
      "LOF7 LOF8\n",
      "LOF8 LOF9\n",
      "LOF9 LOF10\n",
      "LOF10 LOF11\n",
      "LOF11 LOF12\n",
      "RA1 RA2\n",
      "RA2 RA3\n",
      "RA3 RA4\n",
      "RA4 RA5\n",
      "RA5 RA6\n",
      "RA6 RA7\n",
      "RA7 RA8\n",
      "RH1 RH2\n",
      "RH2 RH3\n",
      "RH3 RH4\n",
      "RH4 RH5\n",
      "RH5 RH6\n",
      "RH6 RH7\n",
      "RH7 RH8\n",
      "RHP1 RHP2\n",
      "RHP2 RHP3\n",
      "RHP3 RHP4\n",
      "RHP4 RHP5\n",
      "RHP5 RHP6\n",
      "RHP6 RHP7\n",
      "RHP8 noref\n",
      "ROF1 ROF2\n",
      "ROF2 ROF3\n",
      "ROF3 ROF4\n",
      "ROF4 ROF5\n",
      "ROF5 ROF6\n",
      "ROF6 ROF7\n",
      "ROF7 ROF8\n",
      "ROF8 ROF9\n",
      "ROF9 ROF10\n",
      "ROF10 ROF11\n",
      "ROF11 ROF12\n",
      "CH72 noref\n",
      "CH73 noref\n",
      "CH74 noref\n",
      "CH75 noref\n",
      "CH76 noref\n",
      "CH77 noref\n",
      "CH78 noref\n",
      "CH79 noref\n",
      "CH80 noref\n",
      "CH81 noref\n",
      "CH82 noref\n",
      "CH83 noref\n",
      "CH84 noref\n",
      "CH85 noref\n",
      "CH86 noref\n",
      "CH87 noref\n",
      "CH88 noref\n",
      "CH89 noref\n",
      "CH90 noref\n",
      "CH91 noref\n",
      "CH92 noref\n",
      "CH93 noref\n",
      "CH94 noref\n",
      "CH95 noref\n",
      "CH96 noref\n",
      "CH97 noref\n",
      "CH98 noref\n",
      "CH99 noref\n",
      "CH100 noref\n",
      "CH101 noref\n",
      "CH102 noref\n",
      "CH103 noref\n",
      "CH104 noref\n",
      "CH105 noref\n",
      "CH106 noref\n",
      "CH107 noref\n",
      "CH108 noref\n",
      "CH109 noref\n",
      "CH110 noref\n",
      "CH111 noref\n",
      "CH112 noref\n",
      "CH113 noref\n",
      "CH114 noref\n",
      "CH115 noref\n",
      "CH116 noref\n",
      "CH117 noref\n",
      "CH118 noref\n",
      "CH119 noref\n",
      "CH120 noref\n",
      "CH121 noref\n",
      "CH122 noref\n",
      "CH123 noref\n",
      "CH124 noref\n",
      "CH125 noref\n",
      "CH126 noref\n",
      "CH127 noref\n",
      "CH128 noref\n",
      "CH129 noref\n",
      "CH130 noref\n",
      "CH131 noref\n",
      "CH132 noref\n",
      "CH133 noref\n",
      "CH134 noref\n",
      "CH135 noref\n",
      "CH136 noref\n",
      "CH137 noref\n",
      "CH138 noref\n",
      "CH139 noref\n",
      "CH140 noref\n",
      "CH141 noref\n",
      "CH142 noref\n",
      "CH143 noref\n",
      "CH144 noref\n",
      "CH145 noref\n",
      "CH146 noref\n",
      "CH147 noref\n",
      "STI noref\n"
     ]
    }
   ],
   "source": [
    "# Here I iterate through the electrodes in my ROIs and match them up with their bipolar pair\n",
    "pairs = []\n",
    "anode = []\n",
    "cathode = []\n",
    "pairs_name = []\n",
    "pairs_map = {}\n",
    "remove = filtered_clean_fif.info['bads']\n",
    "labels = filtered_clean_fif.info['ch_names']\n",
    "for ch in labels:\n",
    "    # if a channel is meant to be removed, it doesn't get to be in a bipolar pair\n",
    "    if ch in remove or ch == 'STI':\n",
    "        print(f\"{ch} noref\")\n",
    "    else:\n",
    "        pair = find_bipolar_pair(ch, labels, remove)\n",
    "        if pair:\n",
    "            anode.append(ch)\n",
    "            cathode.append(pair)\n",
    "            pairs.append((ch, pair))\n",
    "            pairs_map[ch] = f\"{ch}-{pair}\"\n",
    "            pairs_name.append(f\"{ch}-{pair}\")\n",
    "            print(ch, pair)"
   ]
  },
  {
   "cell_type": "code",
   "execution_count": 7,
   "id": "588d66f9-a020-426f-b955-b3e58bd52d1b",
   "metadata": {
    "tags": []
   },
   "outputs": [
    {
     "name": "stdout",
     "output_type": "stream",
     "text": [
      "Reading 0 ... 982099  =      0.000 ...  1918.162 secs...\n",
      "sEEG channel type selected for re-referencing\n",
      "Creating RawArray with float64 data, n_channels=59, n_times=982100\n",
      "    Range : 0 ... 982099 =      0.000 ...  1918.162 secs\n",
      "Ready.\n"
     ]
    },
    {
     "name": "stderr",
     "output_type": "stream",
     "text": [
      "/home/brooke/mambaforge/envs/ieeg_analysis2/lib/python3.9/site-packages/mne/io/reference.py:557: RuntimeWarning: invalid value encountered in matmul\n",
      "  ref_data = multiplier @ inst._data\n"
     ]
    },
    {
     "name": "stdout",
     "output_type": "stream",
     "text": [
      "Added the following bipolar channels:\n",
      "LA1-LA2, LA2-LA3, LA3-LA4, LA4-LA5, LA5-LA6, LA6-LA7, LA7-LA8, LH1-LH2, LH2-LH3, LH3-LH4, LH4-LH5, LH5-LH6, LHP1-LHP2, LHP2-LHP3, LHP3-LHP4, LHP4-LHP5, LHP5-LHP6, LOF1-LOF2, LOF2-LOF3, LOF3-LOF4, LOF4-LOF5, LOF5-LOF6, LOF6-LOF7, LOF7-LOF8, LOF8-LOF9, LOF9-LOF10, LOF10-LOF11, LOF11-LOF12, RA1-RA2, RA2-RA3, RA3-RA4, RA4-RA5, RA5-RA6, RA6-RA7, RA7-RA8, RH1-RH2, RH2-RH3, RH3-RH4, RH4-RH5, RH5-RH6, RH6-RH7, RH7-RH8, RHP1-RHP2, RHP2-RHP3, RHP3-RHP4, RHP4-RHP5, RHP5-RHP6, RHP6-RHP7, ROF1-ROF2, ROF2-ROF3, ROF3-ROF4, ROF4-ROF5, ROF5-ROF6, ROF6-ROF7, ROF7-ROF8, ROF8-ROF9, ROF9-ROF10, ROF10-ROF11, ROF11-ROF12\n",
      "Overwriting existing file.\n",
      "Writing /home/brooke/pacman/preprocessing/LL17/ieeg/LL17_bp_filtered_clean_data.fif\n"
     ]
    },
    {
     "name": "stderr",
     "output_type": "stream",
     "text": [
      "/tmp/ipykernel_77955/1336304392.py:12: RuntimeWarning: This filename (/home/brooke/pacman/preprocessing/LL17/ieeg/LL17_bp_filtered_clean_data.fif) does not conform to MNE naming conventions. All raw files should end with raw.fif, raw_sss.fif, raw_tsss.fif, _meg.fif, _eeg.fif, _ieeg.fif, raw.fif.gz, raw_sss.fif.gz, raw_tsss.fif.gz, _meg.fif.gz, _eeg.fif.gz or _ieeg.fif.gz\n",
      "  bp_filt_fif.save(f\"{preproc_data_dir}/{subject}_bp_filtered_clean_data.fif\", overwrite = True)\n"
     ]
    },
    {
     "name": "stdout",
     "output_type": "stream",
     "text": [
      "Closing /home/brooke/pacman/preprocessing/LL17/ieeg/LL17_bp_filtered_clean_data.fif\n",
      "[done]\n",
      "Reading 0 ... 982099  =      0.000 ...  1918.162 secs...\n",
      "sEEG channel type selected for re-referencing\n",
      "Creating RawArray with float64 data, n_channels=59, n_times=982100\n",
      "    Range : 0 ... 982099 =      0.000 ...  1918.162 secs\n",
      "Ready.\n",
      "Added the following bipolar channels:\n",
      "LA1-LA2, LA2-LA3, LA3-LA4, LA4-LA5, LA5-LA6, LA6-LA7, LA7-LA8, LH1-LH2, LH2-LH3, LH3-LH4, LH4-LH5, LH5-LH6, LHP1-LHP2, LHP2-LHP3, LHP3-LHP4, LHP4-LHP5, LHP5-LHP6, LOF1-LOF2, LOF2-LOF3, LOF3-LOF4, LOF4-LOF5, LOF5-LOF6, LOF6-LOF7, LOF7-LOF8, LOF8-LOF9, LOF9-LOF10, LOF10-LOF11, LOF11-LOF12, RA1-RA2, RA2-RA3, RA3-RA4, RA4-RA5, RA5-RA6, RA6-RA7, RA7-RA8, RH1-RH2, RH2-RH3, RH3-RH4, RH4-RH5, RH5-RH6, RH6-RH7, RH7-RH8, RHP1-RHP2, RHP2-RHP3, RHP3-RHP4, RHP4-RHP5, RHP5-RHP6, RHP6-RHP7, ROF1-ROF2, ROF2-ROF3, ROF3-ROF4, ROF4-ROF5, ROF5-ROF6, ROF6-ROF7, ROF7-ROF8, ROF8-ROF9, ROF9-ROF10, ROF10-ROF11, ROF11-ROF12\n",
      "Overwriting existing file.\n",
      "Writing /home/brooke/pacman/preprocessing/LL17/ieeg/LL17_bp_raw_clean_data.fif\n"
     ]
    },
    {
     "name": "stderr",
     "output_type": "stream",
     "text": [
      "/tmp/ipykernel_77955/1336304392.py:25: RuntimeWarning: This filename (/home/brooke/pacman/preprocessing/LL17/ieeg/LL17_bp_raw_clean_data.fif) does not conform to MNE naming conventions. All raw files should end with raw.fif, raw_sss.fif, raw_tsss.fif, _meg.fif, _eeg.fif, _ieeg.fif, raw.fif.gz, raw_sss.fif.gz, raw_tsss.fif.gz, _meg.fif.gz, _eeg.fif.gz or _ieeg.fif.gz\n",
      "  bp_raw_fif.save(f\"{preproc_data_dir}/{subject}_bp_raw_clean_data.fif\", overwrite = True)\n"
     ]
    },
    {
     "name": "stdout",
     "output_type": "stream",
     "text": [
      "Closing /home/brooke/pacman/preprocessing/LL17/ieeg/LL17_bp_raw_clean_data.fif\n",
      "[done]\n"
     ]
    }
   ],
   "source": [
    "## Apply Rereference #\n",
    "\n",
    "if filtered_clean_fif.info['ch_names'] == raw_clean_fif.info['ch_names'] and filtered_clean_fif.info['bads'] == raw_clean_fif.info['bads']:\n",
    "    \n",
    "    # load filtered data\n",
    "    filtered_clean_fif.load_data()\n",
    "    \n",
    "    # set filtered reference \n",
    "    bp_filt_fif = mne.set_bipolar_reference(filtered_clean_fif, anode = anode, cathode = cathode)\n",
    "    \n",
    "    # save\n",
    "    bp_filt_fif.save(f\"{preproc_data_dir}/{subject}_bp_filtered_clean_data.fif\", overwrite = True)\n",
    "    \n",
    "    # clear var\n",
    "    bp_filt_fif = []\n",
    "    filtered_clean_fif = []\n",
    "    \n",
    "    # load raw data\n",
    "    raw_clean_fif.load_data()\n",
    "    \n",
    "    # set raw reference \n",
    "    bp_raw_fif = mne.set_bipolar_reference(raw_clean_fif, anode = anode, cathode = cathode)\n",
    "    \n",
    "    # save\n",
    "    bp_raw_fif.save(f\"{preproc_data_dir}/{subject}_bp_raw_clean_data.fif\", overwrite = True)\n",
    "\n",
    "    \n",
    "    # clear var\n",
    "    bp_raw_fif = []\n",
    "    raw_clean_fif = []    \n",
    "    \n",
    "    "
   ]
  },
  {
   "cell_type": "code",
   "execution_count": 3,
   "id": "0a9bd982-5b34-45b4-885f-dffef3b7c337",
   "metadata": {
    "tags": []
   },
   "outputs": [],
   "source": [
    "# # Visualize it #\n",
    "# bp_filtered_fif = mne.io.Raw(f\"{preproc_data_dir}/{subject}_bp_filtered_clean_data.fif\")\n",
    "# events = mne.find_events(bp_filtered_fif, output='step', consecutive = False, stim_channel='STI')\n",
    "# bp_filtered_fif.plot(events=events, color='b', bad_color = 'cyan', n_channels = 59, clipping = None, event_color = 'r')"
   ]
  },
  {
   "cell_type": "markdown",
   "id": "a938b93d-19c7-42cf-af9b-9f4517c2cde6",
   "metadata": {},
   "source": [
    "## Epoching the data "
   ]
  },
  {
   "cell_type": "markdown",
   "id": "363a8293-c07c-4444-b221-3b7dd5251a47",
   "metadata": {},
   "source": [
    "### Onset"
   ]
  },
  {
   "cell_type": "code",
   "execution_count": 4,
   "id": "d34cf356-0303-4ce0-b53c-c3ff8c60316f",
   "metadata": {
    "tags": []
   },
   "outputs": [
    {
     "name": "stdout",
     "output_type": "stream",
     "text": [
      "Opening raw data file /home/brooke/pacman/preprocessing/LL17/ieeg/LL17_bp_filtered_clean_data.fif...\n",
      "    Range : 0 ... 982099 =      0.000 ...  1918.162 secs\n",
      "Ready.\n"
     ]
    },
    {
     "name": "stderr",
     "output_type": "stream",
     "text": [
      "/tmp/ipykernel_78105/1463149468.py:4: RuntimeWarning: This filename (/home/brooke/pacman/preprocessing/LL17/ieeg/LL17_bp_filtered_clean_data.fif) does not conform to MNE naming conventions. All raw files should end with raw.fif, raw_sss.fif, raw_tsss.fif, _meg.fif, _eeg.fif, _ieeg.fif, raw.fif.gz, raw_sss.fif.gz, raw_tsss.fif.gz, _meg.fif.gz, _eeg.fif.gz or _ieeg.fif.gz\n",
      "  bp_filtered_fif = mne.io.Raw(f\"{preproc_data_dir}/{subject}_bp_filtered_clean_data.fif\")\n"
     ]
    },
    {
     "name": "stdout",
     "output_type": "stream",
     "text": [
      "504 events found\n",
      "Event IDs: [0 1]\n",
      "Not setting metadata\n",
      "252 matching events found\n",
      "No baseline correction applied\n",
      "0 projection items activated\n",
      "Overwriting existing file.\n",
      "Loading data for 1 events and 8193 original time points ...\n",
      "Loading data for 252 events and 8193 original time points ...\n"
     ]
    },
    {
     "name": "stderr",
     "output_type": "stream",
     "text": [
      "/tmp/ipykernel_78105/1463149468.py:18: RuntimeWarning: This filename (/home/brooke/pacman/preprocessing/LL17/ieeg/LL17_bp_clean_pres-locked_ieeg.fif) does not conform to MNE naming conventions. All epochs files should end with -epo.fif, -epo.fif.gz, _epo.fif or _epo.fif.gz\n",
      "  epoched_data.save(f\"{preproc_data_dir}/{subject}_bp_clean_pres-locked_ieeg.fif\", overwrite = True, split_size = '1.9GB')\n"
     ]
    }
   ],
   "source": [
    "## Epoching the raw data ##\n",
    "\n",
    "# load data \n",
    "bp_filtered_fif = mne.io.Raw(f\"{preproc_data_dir}/{subject}_bp_filtered_clean_data.fif\")\n",
    "events = mne.find_events(bp_filtered_fif, output='step', consecutive = False, stim_channel='STI')\n",
    "\n",
    "# create events\n",
    "    \n",
    "# only epoch good channels\n",
    "channels_of_interest =  [x for x in bp_filtered_fif.info['ch_names'] if x not in bp_filtered_fif.info['bads']]\n",
    "\n",
    "# epoch the data\n",
    "epoched_data = mne.Epochs(bp_filtered_fif, events, \n",
    "                          event_id = 1, tmin = -4, tmax = 12, \n",
    "                          baseline = None, picks = channels_of_interest,\n",
    "                             reject_by_annotation = False)\n",
    "# save the data\n",
    "epoched_data.save(f\"{preproc_data_dir}/{subject}_bp_clean_pres-locked_ieeg.fif\", overwrite = True, split_size = '1.9GB')"
   ]
  },
  {
   "cell_type": "markdown",
   "id": "f4302cbb-9bab-4e65-aeb8-dcee85c67880",
   "metadata": {},
   "source": [
    "### Trial End"
   ]
  },
  {
   "cell_type": "code",
   "execution_count": 5,
   "id": "9ea0726b-3f47-4585-bbd5-72c10ed3f06d",
   "metadata": {},
   "outputs": [
    {
     "name": "stdout",
     "output_type": "stream",
     "text": [
      "Opening raw data file /home/brooke/pacman/preprocessing/LL17/ieeg/LL17_bp_filtered_clean_data.fif...\n",
      "    Range : 0 ... 982099 =      0.000 ...  1918.162 secs\n",
      "Ready.\n"
     ]
    },
    {
     "name": "stderr",
     "output_type": "stream",
     "text": [
      "/tmp/ipykernel_78105/749539899.py:4: RuntimeWarning: This filename (/home/brooke/pacman/preprocessing/LL17/ieeg/LL17_bp_filtered_clean_data.fif) does not conform to MNE naming conventions. All raw files should end with raw.fif, raw_sss.fif, raw_tsss.fif, _meg.fif, _eeg.fif, _ieeg.fif, raw.fif.gz, raw_sss.fif.gz, raw_tsss.fif.gz, _meg.fif.gz, _eeg.fif.gz or _ieeg.fif.gz\n",
      "  bp_filtered_fif = mne.io.Raw(f\"{preproc_data_dir}/{subject}_bp_filtered_clean_data.fif\")\n"
     ]
    },
    {
     "name": "stdout",
     "output_type": "stream",
     "text": [
      "504 events found\n",
      "Event IDs: [0 1]\n",
      "Not setting metadata\n",
      "252 matching events found\n",
      "No baseline correction applied\n",
      "0 projection items activated\n",
      "Overwriting existing file.\n",
      "Loading data for 1 events and 5121 original time points ...\n",
      "Loading data for 252 events and 5121 original time points ...\n"
     ]
    },
    {
     "name": "stderr",
     "output_type": "stream",
     "text": [
      "/tmp/ipykernel_78105/749539899.py:18: RuntimeWarning: This filename (/home/brooke/pacman/preprocessing/LL17/ieeg/LL17_bp_clean_end-locked_ieeg.fif) does not conform to MNE naming conventions. All epochs files should end with -epo.fif, -epo.fif.gz, _epo.fif or _epo.fif.gz\n",
      "  epoched_data.save(f\"{preproc_data_dir}/{subject}_bp_clean_end-locked_ieeg.fif\", overwrite = True, split_size = '1.9GB')\n"
     ]
    }
   ],
   "source": [
    "## Epoching the raw data ##\n",
    "\n",
    "# load data \n",
    "bp_filtered_fif = mne.io.Raw(f\"{preproc_data_dir}/{subject}_bp_filtered_clean_data.fif\")\n",
    "events = mne.find_events(bp_filtered_fif, output='step', consecutive = False, stim_channel='STI')\n",
    "\n",
    "# create events\n",
    "    \n",
    "# only epoch good channels\n",
    "channels_of_interest =  [x for x in bp_filtered_fif.info['ch_names'] if x not in bp_filtered_fif.info['bads']]\n",
    "\n",
    "# epoch the data\n",
    "epoched_data = mne.Epochs(bp_filtered_fif, events, \n",
    "                          event_id = 0, tmin = -5, tmax = 5, \n",
    "                          baseline = None, picks = channels_of_interest,\n",
    "                             reject_by_annotation = False)\n",
    "# save the data\n",
    "epoched_data.save(f\"{preproc_data_dir}/{subject}_bp_clean_end-locked_ieeg.fif\", overwrite = True, split_size = '1.9GB')"
   ]
  },
  {
   "cell_type": "markdown",
   "id": "4a8943e3-aec3-4aaf-9f8b-a629382b4711",
   "metadata": {},
   "source": [
    "### Last Away"
   ]
  },
  {
   "cell_type": "code",
   "execution_count": 6,
   "id": "736f64f0-a000-4a57-be90-7ff0c27ac7af",
   "metadata": {},
   "outputs": [
    {
     "data": {
      "text/html": [
       "<div>\n",
       "<style scoped>\n",
       "    .dataframe tbody tr th:only-of-type {\n",
       "        vertical-align: middle;\n",
       "    }\n",
       "\n",
       "    .dataframe tbody tr th {\n",
       "        vertical-align: top;\n",
       "    }\n",
       "\n",
       "    .dataframe thead th {\n",
       "        text-align: right;\n",
       "    }\n",
       "</style>\n",
       "<table border=\"1\" class=\"dataframe\">\n",
       "  <thead>\n",
       "    <tr style=\"text-align: right;\">\n",
       "      <th></th>\n",
       "      <th>neural_trial_numeric</th>\n",
       "      <th>TrialType</th>\n",
       "      <th>sample</th>\n",
       "      <th>sample_before</th>\n",
       "      <th>event</th>\n",
       "    </tr>\n",
       "  </thead>\n",
       "  <tbody>\n",
       "    <tr>\n",
       "      <th>0</th>\n",
       "      <td>6</td>\n",
       "      <td>18</td>\n",
       "      <td>85068</td>\n",
       "      <td>0</td>\n",
       "      <td>1</td>\n",
       "    </tr>\n",
       "    <tr>\n",
       "      <th>1</th>\n",
       "      <td>7</td>\n",
       "      <td>19</td>\n",
       "      <td>89241</td>\n",
       "      <td>0</td>\n",
       "      <td>1</td>\n",
       "    </tr>\n",
       "    <tr>\n",
       "      <th>2</th>\n",
       "      <td>10</td>\n",
       "      <td>17</td>\n",
       "      <td>102886</td>\n",
       "      <td>0</td>\n",
       "      <td>1</td>\n",
       "    </tr>\n",
       "    <tr>\n",
       "      <th>3</th>\n",
       "      <td>11</td>\n",
       "      <td>15</td>\n",
       "      <td>108441</td>\n",
       "      <td>0</td>\n",
       "      <td>1</td>\n",
       "    </tr>\n",
       "    <tr>\n",
       "      <th>4</th>\n",
       "      <td>13</td>\n",
       "      <td>9</td>\n",
       "      <td>116428</td>\n",
       "      <td>0</td>\n",
       "      <td>1</td>\n",
       "    </tr>\n",
       "    <tr>\n",
       "      <th>...</th>\n",
       "      <td>...</td>\n",
       "      <td>...</td>\n",
       "      <td>...</td>\n",
       "      <td>...</td>\n",
       "      <td>...</td>\n",
       "    </tr>\n",
       "    <tr>\n",
       "      <th>186</th>\n",
       "      <td>243</td>\n",
       "      <td>20</td>\n",
       "      <td>954547</td>\n",
       "      <td>0</td>\n",
       "      <td>1</td>\n",
       "    </tr>\n",
       "    <tr>\n",
       "      <th>187</th>\n",
       "      <td>244</td>\n",
       "      <td>6</td>\n",
       "      <td>957056</td>\n",
       "      <td>0</td>\n",
       "      <td>1</td>\n",
       "    </tr>\n",
       "    <tr>\n",
       "      <th>188</th>\n",
       "      <td>245</td>\n",
       "      <td>4</td>\n",
       "      <td>959232</td>\n",
       "      <td>0</td>\n",
       "      <td>1</td>\n",
       "    </tr>\n",
       "    <tr>\n",
       "      <th>189</th>\n",
       "      <td>247</td>\n",
       "      <td>18</td>\n",
       "      <td>965836</td>\n",
       "      <td>0</td>\n",
       "      <td>1</td>\n",
       "    </tr>\n",
       "    <tr>\n",
       "      <th>190</th>\n",
       "      <td>249</td>\n",
       "      <td>17</td>\n",
       "      <td>971878</td>\n",
       "      <td>0</td>\n",
       "      <td>1</td>\n",
       "    </tr>\n",
       "  </tbody>\n",
       "</table>\n",
       "<p>191 rows × 5 columns</p>\n",
       "</div>"
      ],
      "text/plain": [
       "     neural_trial_numeric  TrialType  sample  sample_before  event\n",
       "0                       6         18   85068              0      1\n",
       "1                       7         19   89241              0      1\n",
       "2                      10         17  102886              0      1\n",
       "3                      11         15  108441              0      1\n",
       "4                      13          9  116428              0      1\n",
       "..                    ...        ...     ...            ...    ...\n",
       "186                   243         20  954547              0      1\n",
       "187                   244          6  957056              0      1\n",
       "188                   245          4  959232              0      1\n",
       "189                   247         18  965836              0      1\n",
       "190                   249         17  971878              0      1\n",
       "\n",
       "[191 rows x 5 columns]"
      ]
     },
     "execution_count": 6,
     "metadata": {},
     "output_type": "execute_result"
    }
   ],
   "source": [
    "## Load Behavioral Data ##\n",
    "last_away_data = pd.read_csv(f\"{raw_data_dir}/behave/{subject}_last_away_events.csv\")\n",
    "last_away_data"
   ]
  },
  {
   "cell_type": "code",
   "execution_count": 7,
   "id": "4c16ca43-2895-4a24-977d-b84035bdff96",
   "metadata": {},
   "outputs": [],
   "source": [
    "# create events\n",
    "last_away_events = last_away_data[['sample', 'sample_before', 'event']].copy().to_numpy()\n"
   ]
  },
  {
   "cell_type": "code",
   "execution_count": 8,
   "id": "2981e217-c706-4d9b-bd78-a9ff79462bd1",
   "metadata": {},
   "outputs": [
    {
     "name": "stdout",
     "output_type": "stream",
     "text": [
      "Opening raw data file /home/brooke/pacman/preprocessing/LL17/ieeg/LL17_bp_filtered_clean_data.fif...\n",
      "    Range : 0 ... 982099 =      0.000 ...  1918.162 secs\n",
      "Ready.\n",
      "Not setting metadata\n",
      "191 matching events found\n",
      "No baseline correction applied\n",
      "0 projection items activated\n",
      "Overwriting existing file.\n",
      "Loading data for 1 events and 5121 original time points ...\n",
      "Loading data for 191 events and 5121 original time points ...\n"
     ]
    },
    {
     "name": "stderr",
     "output_type": "stream",
     "text": [
      "/tmp/ipykernel_78105/678285560.py:2: RuntimeWarning: This filename (/home/brooke/pacman/preprocessing/LL17/ieeg/LL17_bp_filtered_clean_data.fif) does not conform to MNE naming conventions. All raw files should end with raw.fif, raw_sss.fif, raw_tsss.fif, _meg.fif, _eeg.fif, _ieeg.fif, raw.fif.gz, raw_sss.fif.gz, raw_tsss.fif.gz, _meg.fif.gz, _eeg.fif.gz or _ieeg.fif.gz\n",
      "  bp_filtered_fif = mne.io.Raw(f\"{preproc_data_dir}/{subject}_bp_filtered_clean_data.fif\")\n",
      "/tmp/ipykernel_78105/678285560.py:13: RuntimeWarning: This filename (/home/brooke/pacman/preprocessing/LL17/ieeg/LL17_bp_filtered_clean_last_away_events.fif) does not conform to MNE naming conventions. All epochs files should end with -epo.fif, -epo.fif.gz, _epo.fif or _epo.fif.gz\n",
      "  last_away_epochs.save(f\"{preproc_data_dir}/{subject}_bp_filtered_clean_last_away_events.fif\", overwrite = True, split_size = '1.9GB')\n"
     ]
    }
   ],
   "source": [
    "# load data \n",
    "bp_filtered_fif = mne.io.Raw(f\"{preproc_data_dir}/{subject}_bp_filtered_clean_data.fif\")\n",
    "    \n",
    "# only epoch good channels\n",
    "channels_of_interest =  [x for x in bp_filtered_fif.info['ch_names'] if x not in bp_filtered_fif.info['bads']]\n",
    "\n",
    "# epoch the data\n",
    "last_away_epochs = mne.Epochs(bp_filtered_fif, last_away_events, \n",
    "                          event_id = 1, tmin = -5, tmax =5, \n",
    "                          baseline = None, picks = channels_of_interest,\n",
    "                             reject_by_annotation = False)\n",
    "# # save the data\n",
    "last_away_epochs.save(f\"{preproc_data_dir}/{subject}_bp_filtered_clean_last_away_events.fif\", overwrite = True, split_size = '1.9GB')\n"
   ]
  },
  {
   "cell_type": "markdown",
   "id": "133aafa9-c73e-4924-ab01-46e860d97993",
   "metadata": {
    "tags": []
   },
   "source": [
    "### First Dot"
   ]
  },
  {
   "cell_type": "code",
   "execution_count": 9,
   "id": "1e6b25a2-0788-4a30-91eb-93b8d1652e1b",
   "metadata": {},
   "outputs": [
    {
     "data": {
      "text/html": [
       "<div>\n",
       "<style scoped>\n",
       "    .dataframe tbody tr th:only-of-type {\n",
       "        vertical-align: middle;\n",
       "    }\n",
       "\n",
       "    .dataframe tbody tr th {\n",
       "        vertical-align: top;\n",
       "    }\n",
       "\n",
       "    .dataframe thead th {\n",
       "        text-align: right;\n",
       "    }\n",
       "</style>\n",
       "<table border=\"1\" class=\"dataframe\">\n",
       "  <thead>\n",
       "    <tr style=\"text-align: right;\">\n",
       "      <th></th>\n",
       "      <th>neural_trial_numeric</th>\n",
       "      <th>TrialType</th>\n",
       "      <th>sample</th>\n",
       "      <th>sample_before</th>\n",
       "      <th>event</th>\n",
       "    </tr>\n",
       "  </thead>\n",
       "  <tbody>\n",
       "    <tr>\n",
       "      <th>0</th>\n",
       "      <td>0</td>\n",
       "      <td>6</td>\n",
       "      <td>53401</td>\n",
       "      <td>0</td>\n",
       "      <td>1</td>\n",
       "    </tr>\n",
       "    <tr>\n",
       "      <th>1</th>\n",
       "      <td>1</td>\n",
       "      <td>3</td>\n",
       "      <td>59340</td>\n",
       "      <td>0</td>\n",
       "      <td>1</td>\n",
       "    </tr>\n",
       "    <tr>\n",
       "      <th>2</th>\n",
       "      <td>2</td>\n",
       "      <td>7</td>\n",
       "      <td>63180</td>\n",
       "      <td>0</td>\n",
       "      <td>1</td>\n",
       "    </tr>\n",
       "    <tr>\n",
       "      <th>3</th>\n",
       "      <td>3</td>\n",
       "      <td>5</td>\n",
       "      <td>72345</td>\n",
       "      <td>0</td>\n",
       "      <td>1</td>\n",
       "    </tr>\n",
       "    <tr>\n",
       "      <th>4</th>\n",
       "      <td>4</td>\n",
       "      <td>4</td>\n",
       "      <td>76492</td>\n",
       "      <td>0</td>\n",
       "      <td>1</td>\n",
       "    </tr>\n",
       "    <tr>\n",
       "      <th>...</th>\n",
       "      <td>...</td>\n",
       "      <td>...</td>\n",
       "      <td>...</td>\n",
       "      <td>...</td>\n",
       "      <td>...</td>\n",
       "    </tr>\n",
       "    <tr>\n",
       "      <th>227</th>\n",
       "      <td>246</td>\n",
       "      <td>2</td>\n",
       "      <td>961664</td>\n",
       "      <td>0</td>\n",
       "      <td>1</td>\n",
       "    </tr>\n",
       "    <tr>\n",
       "      <th>228</th>\n",
       "      <td>247</td>\n",
       "      <td>18</td>\n",
       "      <td>965196</td>\n",
       "      <td>0</td>\n",
       "      <td>1</td>\n",
       "    </tr>\n",
       "    <tr>\n",
       "      <th>229</th>\n",
       "      <td>248</td>\n",
       "      <td>5</td>\n",
       "      <td>968473</td>\n",
       "      <td>0</td>\n",
       "      <td>1</td>\n",
       "    </tr>\n",
       "    <tr>\n",
       "      <th>230</th>\n",
       "      <td>249</td>\n",
       "      <td>17</td>\n",
       "      <td>971212</td>\n",
       "      <td>0</td>\n",
       "      <td>1</td>\n",
       "    </tr>\n",
       "    <tr>\n",
       "      <th>231</th>\n",
       "      <td>250</td>\n",
       "      <td>13</td>\n",
       "      <td>974873</td>\n",
       "      <td>0</td>\n",
       "      <td>1</td>\n",
       "    </tr>\n",
       "  </tbody>\n",
       "</table>\n",
       "<p>232 rows × 5 columns</p>\n",
       "</div>"
      ],
      "text/plain": [
       "     neural_trial_numeric  TrialType  sample  sample_before  event\n",
       "0                       0          6   53401              0      1\n",
       "1                       1          3   59340              0      1\n",
       "2                       2          7   63180              0      1\n",
       "3                       3          5   72345              0      1\n",
       "4                       4          4   76492              0      1\n",
       "..                    ...        ...     ...            ...    ...\n",
       "227                   246          2  961664              0      1\n",
       "228                   247         18  965196              0      1\n",
       "229                   248          5  968473              0      1\n",
       "230                   249         17  971212              0      1\n",
       "231                   250         13  974873              0      1\n",
       "\n",
       "[232 rows x 5 columns]"
      ]
     },
     "execution_count": 9,
     "metadata": {},
     "output_type": "execute_result"
    }
   ],
   "source": [
    "## Load Behavioral Data ##\n",
    "first_dot_data = pd.read_csv(f\"{raw_data_dir}/behave/{subject}_first_dot_events.csv\")\n",
    "first_dot_data"
   ]
  },
  {
   "cell_type": "code",
   "execution_count": 10,
   "id": "8bdbad14-a72f-4c02-a6f2-8b9ada525be6",
   "metadata": {},
   "outputs": [],
   "source": [
    "# create events\n",
    "first_dot_data = first_dot_data[['sample', 'sample_before', 'event']].copy().to_numpy()\n"
   ]
  },
  {
   "cell_type": "code",
   "execution_count": 11,
   "id": "4dfdcf0b-4cf1-45c6-81ac-22eabf10864f",
   "metadata": {},
   "outputs": [
    {
     "name": "stdout",
     "output_type": "stream",
     "text": [
      "Opening raw data file /home/brooke/pacman/preprocessing/LL17/ieeg/LL17_bp_filtered_clean_data.fif...\n",
      "    Range : 0 ... 982099 =      0.000 ...  1918.162 secs\n",
      "Ready.\n",
      "Not setting metadata\n",
      "232 matching events found\n",
      "No baseline correction applied\n",
      "0 projection items activated\n",
      "Overwriting existing file.\n",
      "Loading data for 1 events and 4609 original time points ...\n",
      "Loading data for 232 events and 4609 original time points ...\n"
     ]
    },
    {
     "name": "stderr",
     "output_type": "stream",
     "text": [
      "/tmp/ipykernel_78105/4126832509.py:2: RuntimeWarning: This filename (/home/brooke/pacman/preprocessing/LL17/ieeg/LL17_bp_filtered_clean_data.fif) does not conform to MNE naming conventions. All raw files should end with raw.fif, raw_sss.fif, raw_tsss.fif, _meg.fif, _eeg.fif, _ieeg.fif, raw.fif.gz, raw_sss.fif.gz, raw_tsss.fif.gz, _meg.fif.gz, _eeg.fif.gz or _ieeg.fif.gz\n",
      "  bp_filtered_fif = mne.io.Raw(f\"{preproc_data_dir}/{subject}_bp_filtered_clean_data.fif\")\n",
      "/tmp/ipykernel_78105/4126832509.py:14: RuntimeWarning: This filename (/home/brooke/pacman/preprocessing/LL17/ieeg/LL17_bp_filtered_clean_first_dot_events.fif) does not conform to MNE naming conventions. All epochs files should end with -epo.fif, -epo.fif.gz, _epo.fif or _epo.fif.gz\n",
      "  first_dot_epochs.save(f\"{preproc_data_dir}/{subject}_bp_filtered_clean_first_dot_events.fif\", overwrite = True, split_size = '1.9GB')\n"
     ]
    }
   ],
   "source": [
    "# load data \n",
    "bp_filtered_fif = mne.io.Raw(f\"{preproc_data_dir}/{subject}_bp_filtered_clean_data.fif\")\n",
    "\n",
    "# only epoch good channels\n",
    "channels_of_interest =  [x for x in bp_filtered_fif.info['ch_names'] if x not in bp_filtered_fif.info['bads']]\n",
    "\n",
    "\n",
    "# epoch the data\n",
    "first_dot_epochs = mne.Epochs(bp_filtered_fif, first_dot_data, \n",
    "                          event_id = 1, tmin = -3, tmax =6, \n",
    "                          baseline = None, picks = channels_of_interest,\n",
    "                             reject_by_annotation = False)\n",
    "# # save the data\n",
    "first_dot_epochs.save(f\"{preproc_data_dir}/{subject}_bp_filtered_clean_first_dot_events.fif\", overwrite = True, split_size = '1.9GB')\n"
   ]
  },
  {
   "cell_type": "markdown",
   "id": "f0b4298a-607f-4a6e-b75d-65586d3c1e9d",
   "metadata": {
    "tags": []
   },
   "source": [
    "## First Move"
   ]
  },
  {
   "cell_type": "code",
   "execution_count": 12,
   "id": "25f76656-57cf-43be-89ff-54b68942f662",
   "metadata": {},
   "outputs": [
    {
     "data": {
      "text/html": [
       "<div>\n",
       "<style scoped>\n",
       "    .dataframe tbody tr th:only-of-type {\n",
       "        vertical-align: middle;\n",
       "    }\n",
       "\n",
       "    .dataframe tbody tr th {\n",
       "        vertical-align: top;\n",
       "    }\n",
       "\n",
       "    .dataframe thead th {\n",
       "        text-align: right;\n",
       "    }\n",
       "</style>\n",
       "<table border=\"1\" class=\"dataframe\">\n",
       "  <thead>\n",
       "    <tr style=\"text-align: right;\">\n",
       "      <th></th>\n",
       "      <th>neural_trial_numeric</th>\n",
       "      <th>TrialType</th>\n",
       "      <th>sample</th>\n",
       "      <th>sample_before</th>\n",
       "      <th>event</th>\n",
       "    </tr>\n",
       "  </thead>\n",
       "  <tbody>\n",
       "    <tr>\n",
       "      <th>0</th>\n",
       "      <td>0</td>\n",
       "      <td>6</td>\n",
       "      <td>53376</td>\n",
       "      <td>0</td>\n",
       "      <td>1</td>\n",
       "    </tr>\n",
       "    <tr>\n",
       "      <th>1</th>\n",
       "      <td>1</td>\n",
       "      <td>3</td>\n",
       "      <td>59161</td>\n",
       "      <td>0</td>\n",
       "      <td>1</td>\n",
       "    </tr>\n",
       "    <tr>\n",
       "      <th>2</th>\n",
       "      <td>2</td>\n",
       "      <td>7</td>\n",
       "      <td>63052</td>\n",
       "      <td>0</td>\n",
       "      <td>1</td>\n",
       "    </tr>\n",
       "    <tr>\n",
       "      <th>3</th>\n",
       "      <td>3</td>\n",
       "      <td>5</td>\n",
       "      <td>72192</td>\n",
       "      <td>0</td>\n",
       "      <td>1</td>\n",
       "    </tr>\n",
       "    <tr>\n",
       "      <th>4</th>\n",
       "      <td>4</td>\n",
       "      <td>4</td>\n",
       "      <td>76313</td>\n",
       "      <td>0</td>\n",
       "      <td>1</td>\n",
       "    </tr>\n",
       "    <tr>\n",
       "      <th>...</th>\n",
       "      <td>...</td>\n",
       "      <td>...</td>\n",
       "      <td>...</td>\n",
       "      <td>...</td>\n",
       "      <td>...</td>\n",
       "    </tr>\n",
       "    <tr>\n",
       "      <th>240</th>\n",
       "      <td>246</td>\n",
       "      <td>2</td>\n",
       "      <td>961587</td>\n",
       "      <td>0</td>\n",
       "      <td>1</td>\n",
       "    </tr>\n",
       "    <tr>\n",
       "      <th>241</th>\n",
       "      <td>247</td>\n",
       "      <td>18</td>\n",
       "      <td>965120</td>\n",
       "      <td>0</td>\n",
       "      <td>1</td>\n",
       "    </tr>\n",
       "    <tr>\n",
       "      <th>242</th>\n",
       "      <td>248</td>\n",
       "      <td>5</td>\n",
       "      <td>968448</td>\n",
       "      <td>0</td>\n",
       "      <td>1</td>\n",
       "    </tr>\n",
       "    <tr>\n",
       "      <th>243</th>\n",
       "      <td>249</td>\n",
       "      <td>17</td>\n",
       "      <td>971008</td>\n",
       "      <td>0</td>\n",
       "      <td>1</td>\n",
       "    </tr>\n",
       "    <tr>\n",
       "      <th>244</th>\n",
       "      <td>250</td>\n",
       "      <td>13</td>\n",
       "      <td>974694</td>\n",
       "      <td>0</td>\n",
       "      <td>1</td>\n",
       "    </tr>\n",
       "  </tbody>\n",
       "</table>\n",
       "<p>245 rows × 5 columns</p>\n",
       "</div>"
      ],
      "text/plain": [
       "     neural_trial_numeric  TrialType  sample  sample_before  event\n",
       "0                       0          6   53376              0      1\n",
       "1                       1          3   59161              0      1\n",
       "2                       2          7   63052              0      1\n",
       "3                       3          5   72192              0      1\n",
       "4                       4          4   76313              0      1\n",
       "..                    ...        ...     ...            ...    ...\n",
       "240                   246          2  961587              0      1\n",
       "241                   247         18  965120              0      1\n",
       "242                   248          5  968448              0      1\n",
       "243                   249         17  971008              0      1\n",
       "244                   250         13  974694              0      1\n",
       "\n",
       "[245 rows x 5 columns]"
      ]
     },
     "execution_count": 12,
     "metadata": {},
     "output_type": "execute_result"
    }
   ],
   "source": [
    "## Load Behavioral Data ##\n",
    "first_move_data = pd.read_csv(f\"{raw_data_dir}/behave/{subject}_first_move_events.csv\")\n",
    "first_move_data"
   ]
  },
  {
   "cell_type": "code",
   "execution_count": 13,
   "id": "63733838-49b2-4d97-a1e6-13a5c06b9b17",
   "metadata": {},
   "outputs": [],
   "source": [
    "# create events\n",
    "first_move_data = first_move_data[['sample', 'sample_before', 'event']].copy().to_numpy()\n"
   ]
  },
  {
   "cell_type": "code",
   "execution_count": 14,
   "id": "302f7bc7-6d73-423e-a77a-ee54898b97e6",
   "metadata": {
    "tags": []
   },
   "outputs": [
    {
     "name": "stdout",
     "output_type": "stream",
     "text": [
      "Opening raw data file /home/brooke/pacman/preprocessing/LL17/ieeg/LL17_bp_filtered_clean_data.fif...\n",
      "    Range : 0 ... 982099 =      0.000 ...  1918.162 secs\n",
      "Ready.\n",
      "Not setting metadata\n",
      "245 matching events found\n",
      "No baseline correction applied\n",
      "0 projection items activated\n",
      "Overwriting existing file.\n",
      "Loading data for 1 events and 5121 original time points ...\n",
      "Loading data for 245 events and 5121 original time points ...\n"
     ]
    },
    {
     "name": "stderr",
     "output_type": "stream",
     "text": [
      "/tmp/ipykernel_78105/3347570552.py:2: RuntimeWarning: This filename (/home/brooke/pacman/preprocessing/LL17/ieeg/LL17_bp_filtered_clean_data.fif) does not conform to MNE naming conventions. All raw files should end with raw.fif, raw_sss.fif, raw_tsss.fif, _meg.fif, _eeg.fif, _ieeg.fif, raw.fif.gz, raw_sss.fif.gz, raw_tsss.fif.gz, _meg.fif.gz, _eeg.fif.gz or _ieeg.fif.gz\n",
      "  bp_filtered_fif = mne.io.Raw(f\"{preproc_data_dir}/{subject}_bp_filtered_clean_data.fif\")\n",
      "/tmp/ipykernel_78105/3347570552.py:14: RuntimeWarning: This filename (/home/brooke/pacman/preprocessing/LL17/ieeg/LL17_bp_filtered_clean_first_move_events.fif) does not conform to MNE naming conventions. All epochs files should end with -epo.fif, -epo.fif.gz, _epo.fif or _epo.fif.gz\n",
      "  first_move_epochs.save(f\"{preproc_data_dir}/{subject}_bp_filtered_clean_first_move_events.fif\", overwrite = True, split_size = '1.9GB')\n"
     ]
    }
   ],
   "source": [
    "# load data \n",
    "bp_filtered_fif = mne.io.Raw(f\"{preproc_data_dir}/{subject}_bp_filtered_clean_data.fif\")\n",
    "\n",
    "# only epoch good channels\n",
    "channels_of_interest =  [x for x in bp_filtered_fif.info['ch_names'] if x not in bp_filtered_fif.info['bads']]\n",
    "\n",
    "\n",
    "# epoch the data\n",
    "first_move_epochs = mne.Epochs(bp_filtered_fif, first_move_data, \n",
    "                          event_id = 1, tmin = -5, tmax =5, \n",
    "                          baseline = None, picks = channels_of_interest,\n",
    "                             reject_by_annotation = False)\n",
    "# # save the data\n",
    "first_move_epochs.save(f\"{preproc_data_dir}/{subject}_bp_filtered_clean_first_move_events.fif\", overwrite = True, split_size = '1.9GB')\n"
   ]
  },
  {
   "cell_type": "markdown",
   "id": "35b4d85c",
   "metadata": {},
   "source": [
    "## Ghost Attack"
   ]
  },
  {
   "cell_type": "code",
   "execution_count": 15,
   "id": "4549d422",
   "metadata": {},
   "outputs": [
    {
     "data": {
      "text/html": [
       "<div>\n",
       "<style scoped>\n",
       "    .dataframe tbody tr th:only-of-type {\n",
       "        vertical-align: middle;\n",
       "    }\n",
       "\n",
       "    .dataframe tbody tr th {\n",
       "        vertical-align: top;\n",
       "    }\n",
       "\n",
       "    .dataframe thead th {\n",
       "        text-align: right;\n",
       "    }\n",
       "</style>\n",
       "<table border=\"1\" class=\"dataframe\">\n",
       "  <thead>\n",
       "    <tr style=\"text-align: right;\">\n",
       "      <th></th>\n",
       "      <th>neural_trial_numeric</th>\n",
       "      <th>TrialType</th>\n",
       "      <th>sample</th>\n",
       "      <th>sample_before</th>\n",
       "      <th>event</th>\n",
       "    </tr>\n",
       "  </thead>\n",
       "  <tbody>\n",
       "    <tr>\n",
       "      <th>0</th>\n",
       "      <td>0</td>\n",
       "      <td>6</td>\n",
       "      <td>55014</td>\n",
       "      <td>0</td>\n",
       "      <td>1</td>\n",
       "    </tr>\n",
       "    <tr>\n",
       "      <th>1</th>\n",
       "      <td>1</td>\n",
       "      <td>3</td>\n",
       "      <td>59648</td>\n",
       "      <td>0</td>\n",
       "      <td>1</td>\n",
       "    </tr>\n",
       "    <tr>\n",
       "      <th>2</th>\n",
       "      <td>2</td>\n",
       "      <td>7</td>\n",
       "      <td>64512</td>\n",
       "      <td>0</td>\n",
       "      <td>1</td>\n",
       "    </tr>\n",
       "    <tr>\n",
       "      <th>3</th>\n",
       "      <td>3</td>\n",
       "      <td>5</td>\n",
       "      <td>73856</td>\n",
       "      <td>0</td>\n",
       "      <td>1</td>\n",
       "    </tr>\n",
       "    <tr>\n",
       "      <th>4</th>\n",
       "      <td>4</td>\n",
       "      <td>4</td>\n",
       "      <td>76800</td>\n",
       "      <td>0</td>\n",
       "      <td>1</td>\n",
       "    </tr>\n",
       "    <tr>\n",
       "      <th>...</th>\n",
       "      <td>...</td>\n",
       "      <td>...</td>\n",
       "      <td>...</td>\n",
       "      <td>...</td>\n",
       "      <td>...</td>\n",
       "    </tr>\n",
       "    <tr>\n",
       "      <th>81</th>\n",
       "      <td>237</td>\n",
       "      <td>5</td>\n",
       "      <td>934425</td>\n",
       "      <td>0</td>\n",
       "      <td>1</td>\n",
       "    </tr>\n",
       "    <tr>\n",
       "      <th>82</th>\n",
       "      <td>239</td>\n",
       "      <td>15</td>\n",
       "      <td>940646</td>\n",
       "      <td>0</td>\n",
       "      <td>1</td>\n",
       "    </tr>\n",
       "    <tr>\n",
       "      <th>83</th>\n",
       "      <td>246</td>\n",
       "      <td>2</td>\n",
       "      <td>962252</td>\n",
       "      <td>0</td>\n",
       "      <td>1</td>\n",
       "    </tr>\n",
       "    <tr>\n",
       "      <th>84</th>\n",
       "      <td>248</td>\n",
       "      <td>5</td>\n",
       "      <td>968857</td>\n",
       "      <td>0</td>\n",
       "      <td>1</td>\n",
       "    </tr>\n",
       "    <tr>\n",
       "      <th>85</th>\n",
       "      <td>250</td>\n",
       "      <td>13</td>\n",
       "      <td>975308</td>\n",
       "      <td>0</td>\n",
       "      <td>1</td>\n",
       "    </tr>\n",
       "  </tbody>\n",
       "</table>\n",
       "<p>86 rows × 5 columns</p>\n",
       "</div>"
      ],
      "text/plain": [
       "    neural_trial_numeric  TrialType  sample  sample_before  event\n",
       "0                      0          6   55014              0      1\n",
       "1                      1          3   59648              0      1\n",
       "2                      2          7   64512              0      1\n",
       "3                      3          5   73856              0      1\n",
       "4                      4          4   76800              0      1\n",
       "..                   ...        ...     ...            ...    ...\n",
       "81                   237          5  934425              0      1\n",
       "82                   239         15  940646              0      1\n",
       "83                   246          2  962252              0      1\n",
       "84                   248          5  968857              0      1\n",
       "85                   250         13  975308              0      1\n",
       "\n",
       "[86 rows x 5 columns]"
      ]
     },
     "execution_count": 15,
     "metadata": {},
     "output_type": "execute_result"
    }
   ],
   "source": [
    "## Load Behavioral Data ##\n",
    "ghost_attack_data = pd.read_csv(f\"{raw_data_dir}/behave/{subject}_attack_events.csv\")\n",
    "ghost_attack_data"
   ]
  },
  {
   "cell_type": "code",
   "execution_count": 16,
   "id": "30840973",
   "metadata": {},
   "outputs": [],
   "source": [
    "# create events\n",
    "ghost_attack_data = ghost_attack_data[['sample', 'sample_before', 'event']].copy().to_numpy()\n"
   ]
  },
  {
   "cell_type": "code",
   "execution_count": 17,
   "id": "0170dd17",
   "metadata": {},
   "outputs": [
    {
     "name": "stdout",
     "output_type": "stream",
     "text": [
      "Opening raw data file /home/brooke/pacman/preprocessing/LL17/ieeg/LL17_bp_filtered_clean_data.fif...\n",
      "    Range : 0 ... 982099 =      0.000 ...  1918.162 secs\n",
      "Ready.\n",
      "Not setting metadata\n",
      "86 matching events found\n",
      "No baseline correction applied\n",
      "0 projection items activated\n",
      "Overwriting existing file.\n",
      "Loading data for 1 events and 5121 original time points ...\n",
      "Loading data for 86 events and 5121 original time points ...\n"
     ]
    },
    {
     "name": "stderr",
     "output_type": "stream",
     "text": [
      "/tmp/ipykernel_78105/2681655913.py:2: RuntimeWarning: This filename (/home/brooke/pacman/preprocessing/LL17/ieeg/LL17_bp_filtered_clean_data.fif) does not conform to MNE naming conventions. All raw files should end with raw.fif, raw_sss.fif, raw_tsss.fif, _meg.fif, _eeg.fif, _ieeg.fif, raw.fif.gz, raw_sss.fif.gz, raw_tsss.fif.gz, _meg.fif.gz, _eeg.fif.gz or _ieeg.fif.gz\n",
      "  bp_filtered_fif = mne.io.Raw(f\"{preproc_data_dir}/{subject}_bp_filtered_clean_data.fif\")\n",
      "/tmp/ipykernel_78105/2681655913.py:14: RuntimeWarning: This filename (/home/brooke/pacman/preprocessing/LL17/ieeg/LL17_bp_filtered_clean_ghost_attack_events.fif) does not conform to MNE naming conventions. All epochs files should end with -epo.fif, -epo.fif.gz, _epo.fif or _epo.fif.gz\n",
      "  ghost_attack_epochs.save(f\"{preproc_data_dir}/{subject}_bp_filtered_clean_ghost_attack_events.fif\", overwrite = True, split_size = '1.9GB')\n"
     ]
    }
   ],
   "source": [
    "# load data \n",
    "bp_filtered_fif = mne.io.Raw(f\"{preproc_data_dir}/{subject}_bp_filtered_clean_data.fif\")\n",
    "\n",
    "# only epoch good channels\n",
    "channels_of_interest =  [x for x in bp_filtered_fif.info['ch_names'] if x not in bp_filtered_fif.info['bads']]\n",
    "\n",
    "\n",
    "# epoch the data\n",
    "ghost_attack_epochs = mne.Epochs(bp_filtered_fif, ghost_attack_data, \n",
    "                          event_id = 1, tmin = -4, tmax =6, \n",
    "                          baseline = None, picks = channels_of_interest,\n",
    "                             reject_by_annotation = False)\n",
    "# # save the data\n",
    "ghost_attack_epochs.save(f\"{preproc_data_dir}/{subject}_bp_filtered_clean_ghost_attack_events.fif\", overwrite = True, split_size = '1.9GB')\n"
   ]
  },
  {
   "cell_type": "code",
   "execution_count": null,
   "id": "ccf13b43-f0bf-4dc3-8f9a-e9c759327010",
   "metadata": {},
   "outputs": [],
   "source": []
  }
 ],
 "metadata": {
  "kernelspec": {
   "display_name": "Python 3 (ipykernel)",
   "language": "python",
   "name": "python3"
  },
  "language_info": {
   "codemirror_mode": {
    "name": "ipython",
    "version": 3
   },
   "file_extension": ".py",
   "mimetype": "text/x-python",
   "name": "python",
   "nbconvert_exporter": "python",
   "pygments_lexer": "ipython3",
   "version": "3.9.18"
  }
 },
 "nbformat": 4,
 "nbformat_minor": 5
}

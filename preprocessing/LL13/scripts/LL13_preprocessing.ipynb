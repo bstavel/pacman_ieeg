{
 "cells": [
  {
   "cell_type": "markdown",
   "id": "5caa54ea-80d7-4318-b427-5411b5caea1d",
   "metadata": {},
   "source": [
    "# Preprocessing: LL13\n",
    "\n",
    "\n",
    "This markdown files loads the clean data and does a bipolar rereference as well as epochs the data\n",
    "\n",
    "\n",
    "Data was actually recleaned using only the regions of interest because it was so messy. Annotations were resaved and then the cleaning script was rerun/"
   ]
  },
  {
   "cell_type": "code",
   "execution_count": 1,
   "id": "7124d816-0294-4977-b65a-64ec8a13910a",
   "metadata": {},
   "outputs": [],
   "source": [
    "import matplotlib\n",
    "matplotlib.use(\"Qt5Agg\")\n",
    "import matplotlib.pyplot as plt\n",
    "import pandas as pd\n",
    "import numpy as np\n",
    "from scipy import signal, stats\n",
    "import mat73\n",
    "import re\n",
    "from neurodsp.timefrequency import compute_wavelet_transform\n",
    "import os\n",
    "import mne\n",
    "import IPython\n",
    "import seaborn as sns"
   ]
  },
  {
   "cell_type": "code",
   "execution_count": 2,
   "id": "94f406bc-b9b2-420c-9215-95f89152e6d6",
   "metadata": {},
   "outputs": [],
   "source": [
    "# %matplotlib qt5"
   ]
  },
  {
   "cell_type": "code",
   "execution_count": 2,
   "id": "d7d0fa71-30b2-4684-ad96-1e5b7c05a39a",
   "metadata": {},
   "outputs": [],
   "source": [
    "## Prep paths ##\n",
    "\n",
    "subject = 'LL13'\n",
    "raw_data_dir = f\"/home/brooke/pacman/raw_data/{subject}\"\n",
    "preproc_data_dir = f\"/home/brooke/pacman/preprocessing/{subject}/ieeg\""
   ]
  },
  {
   "cell_type": "code",
   "execution_count": 14,
   "id": "63fce4c8-66c4-48df-80f5-a5f545d76d3d",
   "metadata": {},
   "outputs": [
    {
     "name": "stdout",
     "output_type": "stream",
     "text": [
      "Opening raw data file /home/brooke/pacman/raw_data/LL13/ieeg/LL13_notched_filtered_clean_ieeg.fif...\n",
      "    Range : 0 ... 901099 =      0.000 ...  1759.959 secs\n",
      "Ready.\n",
      "Opening raw data file /home/brooke/pacman/raw_data/LL13/ieeg/LL13_raw_clean_ieeg.fif...\n",
      "    Range : 0 ... 901099 =      0.000 ...  1759.959 secs\n",
      "Ready.\n"
     ]
    }
   ],
   "source": [
    "## Load Data ##\n",
    "\n",
    "# load filtered data #\n",
    "filtered_clean_fif = mne.io.Raw(f\"{raw_data_dir}/ieeg/{subject}_notched_filtered_clean_ieeg.fif\")\n",
    "\n",
    "# load raw data #\n",
    "raw_clean_fif = mne.io.Raw(f\"{raw_data_dir}/ieeg/{subject}_raw_clean_ieeg.fif\")\n",
    "\n"
   ]
  },
  {
   "cell_type": "code",
   "execution_count": 15,
   "id": "b3c6aff1-ea18-4b23-81db-34aeeeebbb40",
   "metadata": {},
   "outputs": [],
   "source": [
    "## Channels did not include probe prefixes in bci data file, convert to descriptive names here\n",
    "\n",
    "# read in csv with correct names\n",
    "channel_csv = pd.read_csv(f\"{preproc_data_dir}/../LL13_correct_channel_names.csv\")\n",
    "\n",
    "# convert to dict\n",
    "channel_dict = dict(zip(channel_csv.bi_names, channel_csv.use_names))\n",
    "\n",
    "# rename\n",
    "mne.rename_channels(filtered_clean_fif.info, channel_dict)\n",
    "mne.rename_channels(raw_clean_fif.info, channel_dict)\n"
   ]
  },
  {
   "cell_type": "markdown",
   "id": "466e2db7-335c-450b-a643-cf3b6dd43c4e",
   "metadata": {},
   "source": [
    "## Bipolar Rereferencing"
   ]
  },
  {
   "cell_type": "code",
   "execution_count": 16,
   "id": "a8b94f89-1f90-4cac-bd34-1ac9d851b174",
   "metadata": {},
   "outputs": [],
   "source": [
    "# helper functions\n",
    "\n",
    "def probe_and_num(elec_str): \n",
    "    ''' This convenience function takes an electrode string like LHH1 and outputs ('LHH', 1)\n",
    "    '''\n",
    "    if '_' in elec_str:\n",
    "        return None, None\n",
    "    else:   \n",
    "        regex_str = '(\\D+)(\\d+)' # group of letters followed by group of digits\n",
    "        matcher = re.compile(regex_str,re.IGNORECASE|re.DOTALL).search(elec_str)\n",
    "        if matcher:\n",
    "            probe, num = matcher.groups()\n",
    "            return probe, int(num)\n",
    "        else:\n",
    "            return None, None\n",
    "    \n",
    "def find_bipolar_pair(ch, labels, remove):\n",
    "    ''' Find the pair of a given electrode for bipolar referencing.\n",
    "        Given a single *ch* and a list of *labels*, some of which you want to *remove*,\n",
    "        this finds the next channel on that probe that isn't meant to be removed (WM is ok).\n",
    "    '''\n",
    "    bipolar_pair = None\n",
    "    probe, num = probe_and_num(ch)\n",
    "    other_in_probe = [other_ch for other_ch in labels if probe_and_num(other_ch)[0]==probe and probe is not None]\n",
    "    for i in range(len(other_in_probe)-num):\n",
    "        next_ch = probe + str(num+i+1)\n",
    "        if next_ch in remove or next_ch == 'STI':\n",
    "            continue\n",
    "        else:\n",
    "            bipolar_pair = next_ch\n",
    "            break\n",
    "    return bipolar_pair"
   ]
  },
  {
   "cell_type": "code",
   "execution_count": 17,
   "id": "bada2d9e-9aec-4690-bcff-6ac56a2ad4cf",
   "metadata": {},
   "outputs": [],
   "source": [
    "raw_clean_fif.info['bads'].extend(['EKG'])\n",
    "filtered_clean_fif.info['bads'].extend(['EKG'])"
   ]
  },
  {
   "cell_type": "code",
   "execution_count": 18,
   "id": "f1eefdfe-b251-4f28-8f1b-2608f94da503",
   "metadata": {
    "tags": []
   },
   "outputs": [
    {
     "name": "stdout",
     "output_type": "stream",
     "text": [
      "LA1 noref\n",
      "LA2 noref\n",
      "LA3 noref\n",
      "LA4 noref\n",
      "LA5 noref\n",
      "LA6 noref\n",
      "LA7 noref\n",
      "LA8 noref\n",
      "LH1 noref\n",
      "LH2 noref\n",
      "LH3 LH4\n",
      "LH4 LH5\n",
      "LH5 LH7\n",
      "LH6 noref\n",
      "LH7 LH8\n",
      "LHP1 LHP2\n",
      "LHP2 LHP3\n",
      "LHP3 LHP4\n",
      "LHP4 LHP5\n",
      "LHP5 LHP6\n",
      "LHP6 LHP7\n",
      "LHP7 LHP8\n",
      "LOF1 LOF2\n",
      "LOF2 LOF3\n",
      "LOF3 LOF4\n",
      "LOF4 LOF5\n",
      "LOF5 LOF6\n",
      "LOF6 LOF7\n",
      "LOF7 LOF8\n",
      "LOF8 LOF9\n",
      "LOF9 LOF10\n",
      "LAC1 LAC2\n",
      "LAC2 LAC3\n",
      "LAC3 LAC4\n",
      "LAC4 LAC5\n",
      "LAC5 LAC6\n",
      "LAC6 LAC7\n",
      "LAC7 LAC8\n",
      "RA1 RA2\n",
      "RA2 RA3\n",
      "RA3 RA4\n",
      "RA4 RA5\n",
      "RA5 RA8\n",
      "RA6 noref\n",
      "RA7 noref\n",
      "RH1 RH2\n",
      "RH2 RH3\n",
      "RH3 RH6\n",
      "RH4 noref\n",
      "RH5 noref\n",
      "RH6 RH7\n",
      "RH7 RH8\n",
      "RHP1 RHP2\n",
      "RHP2 RHP3\n",
      "RHP3 RHP4\n",
      "RHP4 RHP5\n",
      "RHP5 RHP6\n",
      "RHP6 RHP7\n",
      "RHP8 noref\n",
      "ROF1 ROF2\n",
      "ROF2 ROF3\n",
      "ROF3 ROF4\n",
      "ROF4 ROF5\n",
      "ROF5 ROF6\n",
      "ROF6 ROF7\n",
      "ROF7 ROF8\n",
      "ROF8 ROF9\n",
      "ROF9 ROF10\n",
      "ROF10 ROF11\n",
      "ROF11 ROF12\n",
      "RAC1 RAC2\n",
      "RAC2 RAC3\n",
      "RAC3 RAC4\n",
      "RAC4 RAC5\n",
      "RAC5 RAC6\n",
      "RAC6 RAC7\n",
      "RAC7 RAC8\n",
      "RAC8 RAC9\n",
      "RAC9 RAC10\n",
      "EKG noref\n",
      "CH89 noref\n",
      "CH90 noref\n",
      "CH91 noref\n",
      "CH92 noref\n",
      "CH93 noref\n",
      "CH94 noref\n",
      "CH95 noref\n",
      "CH96 noref\n",
      "CH97 noref\n",
      "CH98 noref\n",
      "CH99 noref\n",
      "CH100 noref\n",
      "CH101 noref\n",
      "CH102 noref\n",
      "CH103 noref\n",
      "CH104 noref\n",
      "CH105 noref\n",
      "CH106 noref\n",
      "CH107 noref\n",
      "CH108 noref\n",
      "CH109 noref\n",
      "CH110 noref\n",
      "CH111 noref\n",
      "CH112 noref\n",
      "CH113 noref\n",
      "CH114 noref\n",
      "CH115 noref\n",
      "CH116 noref\n",
      "CH117 noref\n",
      "CH118 noref\n",
      "CH119 noref\n",
      "CH120 noref\n",
      "CH121 noref\n",
      "CH122 noref\n",
      "CH123 noref\n",
      "CH124 noref\n",
      "CH125 noref\n",
      "CH126 noref\n",
      "CH127 noref\n",
      "CH128 noref\n",
      "CH129 noref\n",
      "CH130 noref\n",
      "CH131 noref\n",
      "CH132 noref\n",
      "CH133 noref\n",
      "CH134 noref\n",
      "CH135 noref\n",
      "CH136 noref\n",
      "CH137 noref\n",
      "CH138 noref\n",
      "CH139 noref\n",
      "CH140 noref\n",
      "CH141 noref\n",
      "CH142 noref\n",
      "CH143 noref\n",
      "CH144 noref\n",
      "CH145 noref\n",
      "CH146 noref\n",
      "CH147 noref\n",
      "STI noref\n"
     ]
    }
   ],
   "source": [
    "# Here I iterate through the electrodes in my ROIs and match them up with their bipolar pair\n",
    "# %debug\n",
    "pairs = []\n",
    "anode = []\n",
    "cathode = []\n",
    "pairs_name = []\n",
    "pairs_map = {}\n",
    "remove = filtered_clean_fif.info['bads']\n",
    "labels = filtered_clean_fif.info['ch_names']\n",
    "for ch in labels:\n",
    "    # if a channel is meant to be removed, it doesn't get to be in a bipolar pair\n",
    "    if ch in remove or ch == 'STI':\n",
    "        print(f\"{ch} noref\")\n",
    "    else:\n",
    "        pair = find_bipolar_pair(ch, labels, remove)\n",
    "        if pair:\n",
    "            anode.append(ch)\n",
    "            cathode.append(pair)\n",
    "            pairs.append((ch, pair))\n",
    "            pairs_map[ch] = f\"{ch}-{pair}\"\n",
    "            pairs_name.append(f\"{ch}-{pair}\")\n",
    "            print(ch, pair)"
   ]
  },
  {
   "cell_type": "code",
   "execution_count": 19,
   "id": "588d66f9-a020-426f-b955-b3e58bd52d1b",
   "metadata": {},
   "outputs": [
    {
     "name": "stdout",
     "output_type": "stream",
     "text": [
      "Reading 0 ... 901099  =      0.000 ...  1759.959 secs...\n",
      "sEEG channel type selected for re-referencing\n",
      "Creating RawArray with float64 data, n_channels=63, n_times=901100\n",
      "    Range : 0 ... 901099 =      0.000 ...  1759.959 secs\n",
      "Ready.\n",
      "Added the following bipolar channels:\n",
      "LH3-LH4, LH4-LH5, LH5-LH7, LH7-LH8, LHP1-LHP2, LHP2-LHP3, LHP3-LHP4, LHP4-LHP5, LHP5-LHP6, LHP6-LHP7, LHP7-LHP8, LOF1-LOF2, LOF2-LOF3, LOF3-LOF4, LOF4-LOF5, LOF5-LOF6, LOF6-LOF7, LOF7-LOF8, LOF8-LOF9, LOF9-LOF10, LAC1-LAC2, LAC2-LAC3, LAC3-LAC4, LAC4-LAC5, LAC5-LAC6, LAC6-LAC7, LAC7-LAC8, RA1-RA2, RA2-RA3, RA3-RA4, RA4-RA5, RA5-RA8, RH1-RH2, RH2-RH3, RH3-RH6, RH6-RH7, RH7-RH8, RHP1-RHP2, RHP2-RHP3, RHP3-RHP4, RHP4-RHP5, RHP5-RHP6, RHP6-RHP7, ROF1-ROF2, ROF2-ROF3, ROF3-ROF4, ROF4-ROF5, ROF5-ROF6, ROF6-ROF7, ROF7-ROF8, ROF8-ROF9, ROF9-ROF10, ROF10-ROF11, ROF11-ROF12, RAC1-RAC2, RAC2-RAC3, RAC3-RAC4, RAC4-RAC5, RAC5-RAC6, RAC6-RAC7, RAC7-RAC8, RAC8-RAC9, RAC9-RAC10\n",
      "Overwriting existing file.\n",
      "Writing /home/brooke/pacman/preprocessing/LL13/ieeg/LL13_bp_filtered_clean_data.fif\n"
     ]
    },
    {
     "name": "stderr",
     "output_type": "stream",
     "text": [
      "/tmp/ipykernel_30104/1336304392.py:12: RuntimeWarning: This filename (/home/brooke/pacman/preprocessing/LL13/ieeg/LL13_bp_filtered_clean_data.fif) does not conform to MNE naming conventions. All raw files should end with raw.fif, raw_sss.fif, raw_tsss.fif, _meg.fif, _eeg.fif, _ieeg.fif, raw.fif.gz, raw_sss.fif.gz, raw_tsss.fif.gz, _meg.fif.gz, _eeg.fif.gz or _ieeg.fif.gz\n",
      "  bp_filt_fif.save(f\"{preproc_data_dir}/{subject}_bp_filtered_clean_data.fif\", overwrite = True)\n"
     ]
    },
    {
     "name": "stdout",
     "output_type": "stream",
     "text": [
      "Closing /home/brooke/pacman/preprocessing/LL13/ieeg/LL13_bp_filtered_clean_data.fif\n",
      "[done]\n",
      "Reading 0 ... 901099  =      0.000 ...  1759.959 secs...\n",
      "sEEG channel type selected for re-referencing\n",
      "Creating RawArray with float64 data, n_channels=63, n_times=901100\n",
      "    Range : 0 ... 901099 =      0.000 ...  1759.959 secs\n",
      "Ready.\n",
      "Added the following bipolar channels:\n",
      "LH3-LH4, LH4-LH5, LH5-LH7, LH7-LH8, LHP1-LHP2, LHP2-LHP3, LHP3-LHP4, LHP4-LHP5, LHP5-LHP6, LHP6-LHP7, LHP7-LHP8, LOF1-LOF2, LOF2-LOF3, LOF3-LOF4, LOF4-LOF5, LOF5-LOF6, LOF6-LOF7, LOF7-LOF8, LOF8-LOF9, LOF9-LOF10, LAC1-LAC2, LAC2-LAC3, LAC3-LAC4, LAC4-LAC5, LAC5-LAC6, LAC6-LAC7, LAC7-LAC8, RA1-RA2, RA2-RA3, RA3-RA4, RA4-RA5, RA5-RA8, RH1-RH2, RH2-RH3, RH3-RH6, RH6-RH7, RH7-RH8, RHP1-RHP2, RHP2-RHP3, RHP3-RHP4, RHP4-RHP5, RHP5-RHP6, RHP6-RHP7, ROF1-ROF2, ROF2-ROF3, ROF3-ROF4, ROF4-ROF5, ROF5-ROF6, ROF6-ROF7, ROF7-ROF8, ROF8-ROF9, ROF9-ROF10, ROF10-ROF11, ROF11-ROF12, RAC1-RAC2, RAC2-RAC3, RAC3-RAC4, RAC4-RAC5, RAC5-RAC6, RAC6-RAC7, RAC7-RAC8, RAC8-RAC9, RAC9-RAC10\n",
      "Overwriting existing file.\n",
      "Writing /home/brooke/pacman/preprocessing/LL13/ieeg/LL13_bp_raw_clean_data.fif\n"
     ]
    },
    {
     "name": "stderr",
     "output_type": "stream",
     "text": [
      "/tmp/ipykernel_30104/1336304392.py:25: RuntimeWarning: This filename (/home/brooke/pacman/preprocessing/LL13/ieeg/LL13_bp_raw_clean_data.fif) does not conform to MNE naming conventions. All raw files should end with raw.fif, raw_sss.fif, raw_tsss.fif, _meg.fif, _eeg.fif, _ieeg.fif, raw.fif.gz, raw_sss.fif.gz, raw_tsss.fif.gz, _meg.fif.gz, _eeg.fif.gz or _ieeg.fif.gz\n",
      "  bp_raw_fif.save(f\"{preproc_data_dir}/{subject}_bp_raw_clean_data.fif\", overwrite = True)\n"
     ]
    },
    {
     "name": "stdout",
     "output_type": "stream",
     "text": [
      "Closing /home/brooke/pacman/preprocessing/LL13/ieeg/LL13_bp_raw_clean_data.fif\n",
      "[done]\n"
     ]
    }
   ],
   "source": [
    "## Apply Rereference #\n",
    "\n",
    "if filtered_clean_fif.info['ch_names'] == raw_clean_fif.info['ch_names'] and filtered_clean_fif.info['bads'] == raw_clean_fif.info['bads']:\n",
    "    \n",
    "    # load filtered data\n",
    "    filtered_clean_fif.load_data()\n",
    "    \n",
    "    # set filtered reference \n",
    "    bp_filt_fif = mne.set_bipolar_reference(filtered_clean_fif, anode = anode, cathode = cathode)\n",
    "    \n",
    "    # save\n",
    "    bp_filt_fif.save(f\"{preproc_data_dir}/{subject}_bp_filtered_clean_data.fif\", overwrite = True)\n",
    "    \n",
    "    # clear var\n",
    "    bp_filt_fif = []\n",
    "    filtered_clean_fif = []\n",
    "    \n",
    "    # load raw data\n",
    "    raw_clean_fif.load_data()\n",
    "    \n",
    "    # set raw reference \n",
    "    bp_raw_fif = mne.set_bipolar_reference(raw_clean_fif, anode = anode, cathode = cathode)\n",
    "    \n",
    "    # save\n",
    "    bp_raw_fif.save(f\"{preproc_data_dir}/{subject}_bp_raw_clean_data.fif\", overwrite = True)\n",
    "\n",
    "    \n",
    "    # clear var\n",
    "    bp_raw_fif = []\n",
    "    raw_clean_fif = []    \n",
    "    \n",
    "    "
   ]
  },
  {
   "cell_type": "code",
   "execution_count": 61,
   "id": "0a9bd982-5b34-45b4-885f-dffef3b7c337",
   "metadata": {},
   "outputs": [
    {
     "name": "stdout",
     "output_type": "stream",
     "text": [
      "Opening raw data file /home/brooke/pacman/preprocessing/LL13/ieeg/LL13_bp_raw_clean_data.fif...\n",
      "    Range : 0 ... 901099 =      0.000 ...  1759.959 secs\n",
      "Ready.\n"
     ]
    },
    {
     "name": "stderr",
     "output_type": "stream",
     "text": [
      "/tmp/ipykernel_30104/4246911768.py:2: RuntimeWarning: This filename (/home/brooke/pacman/preprocessing/LL13/ieeg/LL13_bp_raw_clean_data.fif) does not conform to MNE naming conventions. All raw files should end with raw.fif, raw_sss.fif, raw_tsss.fif, _meg.fif, _eeg.fif, _ieeg.fif, raw.fif.gz, raw_sss.fif.gz, raw_tsss.fif.gz, _meg.fif.gz, _eeg.fif.gz or _ieeg.fif.gz\n",
      "  bp_raw_fif = mne.io.Raw(f\"{preproc_data_dir}/{subject}_bp_raw_clean_data.fif\")\n"
     ]
    },
    {
     "name": "stdout",
     "output_type": "stream",
     "text": [
      "480 events found\n",
      "Event IDs: [0 1]\n"
     ]
    },
    {
     "data": {
      "text/plain": [
       "<MNEBrowseFigure size 1846x1016 with 4 Axes>"
      ]
     },
     "execution_count": 61,
     "metadata": {},
     "output_type": "execute_result"
    }
   ],
   "source": [
    "# Visualize it #\n",
    "bp_raw_fif = mne.io.Raw(f\"{preproc_data_dir}/{subject}_bp_raw_clean_data.fif\")\n",
    "events = mne.find_events(bp_raw_fif, output='step', consecutive = False, stim_channel='STI')\n",
    "bp_raw_fif.pick_channels(['RH1-RH2', 'LOF1-LOF2', 'ROF1-ROF2', 'RA1-RA2', 'RA2-RA3', 'LAC1-LAC2', 'LAC2-LAC3', 'RAC1-RAC2', 'LOF7-LOF8',\n",
    " 'LOF8-LOF9',\n",
    " 'LOF9-LOF10',\n",
    " 'ROF8-ROF9',\n",
    " 'ROF9-ROF10',\n",
    " 'ROF10-ROF11',\n",
    " 'ROF11-ROF12',\n",
    " 'RAC6-RAC7',\n",
    " 'RAC7-RAC8',\n",
    " 'RAC8-RAC9',\n",
    " 'RAC9-RAC10'])\n",
    "bp_raw_fif.plot(events=events, color='b', bad_color = 'cyan', n_channels = 30, clipping = None, event_color = 'r')"
   ]
  },
  {
   "cell_type": "code",
   "execution_count": 9,
   "id": "7ec7462d-94c2-43ba-8736-aaa7f9f0d448",
   "metadata": {},
   "outputs": [
    {
     "name": "stdout",
     "output_type": "stream",
     "text": [
      "OrderedDict([('onset', 0.313664), ('duration', 2.4407012462615967), ('description', 'BAD_'), ('orig_time', None)])\n",
      "OrderedDict([('onset', 79.681641), ('duration', 1.9921875), ('description', 'bad'), ('orig_time', None)])\n",
      "OrderedDict([('onset', 82.730469), ('duration', 7.990234375), ('description', 'bad'), ('orig_time', None)])\n",
      "OrderedDict([('onset', 91.78125), ('duration', 2.44921875), ('description', 'bad'), ('orig_time', None)])\n",
      "OrderedDict([('onset', 109.519531), ('duration', 2.10546875), ('description', 'bad'), ('orig_time', None)])\n",
      "OrderedDict([('onset', 179.779297), ('duration', 8.501953125), ('description', 'bad'), ('orig_time', None)])\n",
      "OrderedDict([('onset', 208.423828), ('duration', 1.947265625), ('description', 'bad'), ('orig_time', None)])\n",
      "OrderedDict([('onset', 276.136719), ('duration', 1.9921875), ('description', 'bad'), ('orig_time', None)])\n",
      "OrderedDict([('onset', 281.4043485449735), ('duration', 1.1760085978835946), ('description', 'BAD_'), ('orig_time', None)])\n",
      "OrderedDict([('onset', 291.6973689649471), ('duration', 0.0), ('description', 'BAD_'), ('orig_time', None)])\n",
      "OrderedDict([('onset', 291.7032490079365), ('duration', 1.0525276951058231), ('description', 'BAD_'), ('orig_time', None)])\n",
      "OrderedDict([('onset', 377.890381), ('duration', 0.8353271484375), ('description', 'BAD_'), ('orig_time', None)])\n",
      "OrderedDict([('onset', 397.630859), ('duration', 8.400390625), ('description', 'bad'), ('orig_time', None)])\n",
      "OrderedDict([('onset', 431.239014), ('duration', 0.7794189453125), ('description', 'BAD_'), ('orig_time', None)])\n",
      "OrderedDict([('onset', 455.09809027777777), ('duration', 0.8534019510582311), ('description', 'BAD_'), ('orig_time', None)])\n",
      "OrderedDict([('onset', 459.740234), ('duration', 1.431640625), ('description', 'bad'), ('orig_time', None)])\n",
      "OrderedDict([('onset', 465.99467799272486), ('duration', 1.1469287367725087), ('description', 'BAD_'), ('orig_time', None)])\n",
      "OrderedDict([('onset', 500.074249), ('duration', 1.3117257023809543), ('description', 'BAD_'), ('orig_time', None)])\n",
      "OrderedDict([('onset', 543.992188), ('duration', 7.6328125), ('description', 'bad'), ('orig_time', None)])\n",
      "OrderedDict([('onset', 606.8311528604497), ('duration', 0.6305390211639406), ('description', 'BAD_'), ('orig_time', None)])\n",
      "OrderedDict([('onset', 648.2187706679894), ('duration', 0.6251033399471453), ('description', 'BAD_'), ('orig_time', None)])\n",
      "OrderedDict([('onset', 660.180751901455), ('duration', 0.0), ('description', 'BAD_'), ('orig_time', None)])\n",
      "OrderedDict([('onset', 738.619141), ('duration', 2.21484375), ('description', 'bad'), ('orig_time', None)])\n",
      "OrderedDict([('onset', 743.5236338458994), ('duration', 1.0490864748677495), ('description', 'BAD_'), ('orig_time', None)])\n",
      "OrderedDict([('onset', 838.132812), ('duration', 2.765625), ('description', 'bad'), ('orig_time', None)])\n",
      "OrderedDict([('onset', 905.429688), ('duration', 3.75), ('description', 'bad'), ('orig_time', None)])\n",
      "OrderedDict([('onset', 935.722656), ('duration', 0.0), ('description', 'BAD_'), ('orig_time', None)])\n",
      "OrderedDict([('onset', 973.3758910199881), ('duration', 1.0328666960610917), ('description', 'BAD_'), ('orig_time', None)])\n",
      "OrderedDict([('onset', 981.673462), ('duration', 2.5400390625), ('description', 'BAD_'), ('orig_time', None)])\n",
      "OrderedDict([('onset', 991.13623), ('duration', 1.35076904296875), ('description', 'BAD_'), ('orig_time', None)])\n",
      "OrderedDict([('onset', 993.33783), ('duration', 0.62103271484375), ('description', 'BAD_'), ('orig_time', None)])\n",
      "OrderedDict([('onset', 1054.386876056364), ('duration', 1.2095412624926212), ('description', 'BAD_'), ('orig_time', None)])\n",
      "OrderedDict([('onset', 1134.197266), ('duration', 8.43359375), ('description', 'bad'), ('orig_time', None)])\n",
      "OrderedDict([('onset', 1199.146484), ('duration', 7.69140625), ('description', 'bad'), ('orig_time', None)])\n",
      "OrderedDict([('onset', 1227.351562), ('duration', 16.74609375), ('description', 'bad'), ('orig_time', None)])\n",
      "OrderedDict([('onset', 1284.587891), ('duration', 16.451171875), ('description', 'bad'), ('orig_time', None)])\n",
      "OrderedDict([('onset', 1316.530029), ('duration', 1.4545228261317789), ('description', 'BAD_'), ('orig_time', None)])\n",
      "OrderedDict([('onset', 1319.822754), ('duration', 2.3165283203125), ('description', 'BAD_'), ('orig_time', None)])\n",
      "OrderedDict([('onset', 1327.8612006723986), ('duration', 2.9455622416639926), ('description', 'BAD_'), ('orig_time', None)])\n",
      "OrderedDict([('onset', 1340.1311280588627), ('duration', 0.8764295359346761), ('description', 'BAD_'), ('orig_time', None)])\n",
      "OrderedDict([('onset', 1362.947266), ('duration', 1.748046875), ('description', 'bad'), ('orig_time', None)])\n",
      "OrderedDict([('onset', 1385.53125), ('duration', 3.46875), ('description', 'bad'), ('orig_time', None)])\n",
      "OrderedDict([('onset', 1422.773161926808), ('duration', 1.3590351263960656), ('description', 'BAD_'), ('orig_time', None)])\n",
      "OrderedDict([('onset', 1430.445312), ('duration', 9.296875), ('description', 'bad'), ('orig_time', None)])\n",
      "OrderedDict([('onset', 1448.5744219852293), ('duration', 1.1549846597590658), ('description', 'BAD_'), ('orig_time', None)])\n",
      "OrderedDict([('onset', 1478.592773), ('duration', 0.4813232421875), ('description', 'BAD_'), ('orig_time', None)])\n",
      "OrderedDict([('onset', 1576.254517), ('duration', 1.248291015625), ('description', 'BAD_'), ('orig_time', None)])\n",
      "OrderedDict([('onset', 1589.509115731555), ('duration', 0.8629873052616404), ('description', 'BAD_'), ('orig_time', None)])\n",
      "OrderedDict([('onset', 1615.495525380291), ('duration', 0.6047706312463106), ('description', 'BAD_'), ('orig_time', None)])\n",
      "OrderedDict([('onset', 1680.8537223048945), ('duration', 0.48916997354490377), ('description', 'BAD_'), ('orig_time', None)])\n",
      "Overwriting existing file.\n"
     ]
    },
    {
     "name": "stderr",
     "output_type": "stream",
     "text": [
      "/tmp/ipykernel_30104/3654251124.py:7: RuntimeWarning: This filename (/home/brooke/pacman/raw_data/LL13/ieeg/saved_annotations.fif) does not conform to MNE naming conventions. All annotations files should end with -annot.fif, -annot.fif.gz, _annot.fif, _annot.fif.gz, .txt or .csv\n",
      "  bp_raw_fif.annotations.save(f'{raw_data_dir}/ieeg/saved_annotations.fif', overwrite = True)\n"
     ]
    }
   ],
   "source": [
    "# # From interactive sessions\n",
    "# interactive_annot = bp_raw_fif.annotations\n",
    "# for x in range(0, len(bp_raw_fif.annotations)):\n",
    "#     print(interactive_annot[x])\n",
    "    \n",
    "    \n",
    "# bp_raw_fif.annotations.save(f'{raw_data_dir}/ieeg/saved_annotations.fif', overwrite = True)    "
   ]
  },
  {
   "cell_type": "markdown",
   "id": "88a85066-cb11-483d-b571-86aa9cdd0e62",
   "metadata": {},
   "source": [
    "## Epoching the data "
   ]
  },
  {
   "cell_type": "markdown",
   "id": "16ce1073-0f64-4d89-aca0-f51c61d437d0",
   "metadata": {},
   "source": [
    "### Onset"
   ]
  },
  {
   "cell_type": "code",
   "execution_count": 5,
   "id": "407c683e-7b71-47bf-9b95-2d675750dcf0",
   "metadata": {
    "tags": []
   },
   "outputs": [
    {
     "name": "stdout",
     "output_type": "stream",
     "text": [
      "Opening raw data file /home/brooke/pacman/preprocessing/LL13/ieeg/LL13_bp_filtered_clean_data.fif...\n",
      "    Range : 0 ... 901099 =      0.000 ...  1759.959 secs\n",
      "Ready.\n"
     ]
    },
    {
     "name": "stderr",
     "output_type": "stream",
     "text": [
      "/tmp/ipykernel_233518/1846923726.py:4: RuntimeWarning: This filename (/home/brooke/pacman/preprocessing/LL13/ieeg/LL13_bp_filtered_clean_data.fif) does not conform to MNE naming conventions. All raw files should end with raw.fif, raw_sss.fif, raw_tsss.fif, _meg.fif, _eeg.fif, _ieeg.fif, raw.fif.gz, raw_sss.fif.gz, raw_tsss.fif.gz, _meg.fif.gz, _eeg.fif.gz or _ieeg.fif.gz\n",
      "  bp_filtered_fif = mne.io.Raw(f\"{preproc_data_dir}/{subject}_bp_filtered_clean_data.fif\")\n"
     ]
    },
    {
     "name": "stdout",
     "output_type": "stream",
     "text": [
      "480 events found\n",
      "Event IDs: [0 1]\n",
      "Not setting metadata\n",
      "240 matching events found\n",
      "No baseline correction applied\n",
      "0 projection items activated\n",
      "Overwriting existing file.\n",
      "Loading data for 1 events and 8193 original time points ...\n",
      "Loading data for 240 events and 8193 original time points ...\n"
     ]
    },
    {
     "name": "stderr",
     "output_type": "stream",
     "text": [
      "/tmp/ipykernel_233518/1846923726.py:19: RuntimeWarning: This filename (/home/brooke/pacman/preprocessing/LL13/ieeg/LL13_bp_clean_pres-locked_ieeg.fif) does not conform to MNE naming conventions. All epochs files should end with -epo.fif, -epo.fif.gz, _epo.fif or _epo.fif.gz\n",
      "  epoched_data.save(f\"{preproc_data_dir}/{subject}_bp_clean_pres-locked_ieeg.fif\", overwrite = True, split_size = '1.9GB')\n"
     ]
    }
   ],
   "source": [
    "## Epoching the raw data ##\n",
    "\n",
    "# load data \n",
    "bp_filtered_fif = mne.io.Raw(f\"{preproc_data_dir}/{subject}_bp_filtered_clean_data.fif\")\n",
    "events = mne.find_events(bp_filtered_fif, output='step', consecutive = False, stim_channel='STI')\n",
    "\n",
    "# create events\n",
    "  \n",
    "# only epoch good channels\n",
    "channels_of_interest =  [x for x in bp_filtered_fif.info['ch_names'] if x not in bp_filtered_fif.info['bads']]\n",
    "\n",
    "# epoch the data\n",
    "epoched_data = mne.Epochs(bp_filtered_fif, events, \n",
    "                          event_id = 1, tmin = -4, tmax = 12, \n",
    "                          baseline = None, picks = channels_of_interest,\n",
    "                             reject_by_annotation = False)\n",
    "\n",
    "# # save the data\n",
    "epoched_data.save(f\"{preproc_data_dir}/{subject}_bp_clean_pres-locked_ieeg.fif\", overwrite = True, split_size = '1.9GB')"
   ]
  },
  {
   "cell_type": "markdown",
   "id": "6d422c40-86a6-4b54-b17f-241c787ed9b4",
   "metadata": {},
   "source": [
    "### Trial End"
   ]
  },
  {
   "cell_type": "code",
   "execution_count": 6,
   "id": "bedddb17-22ce-4518-98ab-f3bb79ddfb24",
   "metadata": {},
   "outputs": [
    {
     "name": "stdout",
     "output_type": "stream",
     "text": [
      "Opening raw data file /home/brooke/pacman/preprocessing/LL13/ieeg/LL13_bp_filtered_clean_data.fif...\n",
      "    Range : 0 ... 901099 =      0.000 ...  1759.959 secs\n",
      "Ready.\n",
      "480 events found\n",
      "Event IDs: [0 1]\n"
     ]
    },
    {
     "name": "stderr",
     "output_type": "stream",
     "text": [
      "/tmp/ipykernel_233518/1129154783.py:4: RuntimeWarning: This filename (/home/brooke/pacman/preprocessing/LL13/ieeg/LL13_bp_filtered_clean_data.fif) does not conform to MNE naming conventions. All raw files should end with raw.fif, raw_sss.fif, raw_tsss.fif, _meg.fif, _eeg.fif, _ieeg.fif, raw.fif.gz, raw_sss.fif.gz, raw_tsss.fif.gz, _meg.fif.gz, _eeg.fif.gz or _ieeg.fif.gz\n",
      "  bp_filtered_fif = mne.io.Raw(f\"{preproc_data_dir}/{subject}_bp_filtered_clean_data.fif\")\n"
     ]
    },
    {
     "name": "stdout",
     "output_type": "stream",
     "text": [
      "Not setting metadata\n",
      "239 matching events found\n",
      "No baseline correction applied\n",
      "0 projection items activated\n",
      "Overwriting existing file.\n",
      "Loading data for 1 events and 5121 original time points ...\n",
      "Loading data for 239 events and 5121 original time points ...\n"
     ]
    },
    {
     "name": "stderr",
     "output_type": "stream",
     "text": [
      "/tmp/ipykernel_233518/1129154783.py:19: RuntimeWarning: This filename (/home/brooke/pacman/preprocessing/LL13/ieeg/LL13_bp_clean_end-locked_ieeg.fif) does not conform to MNE naming conventions. All epochs files should end with -epo.fif, -epo.fif.gz, _epo.fif or _epo.fif.gz\n",
      "  epoched_data.save(f\"{preproc_data_dir}/{subject}_bp_clean_end-locked_ieeg.fif\", overwrite = True, split_size = '1.9GB')\n"
     ]
    }
   ],
   "source": [
    "## Epoching the raw data ##\n",
    "\n",
    "# load data \n",
    "bp_filtered_fif = mne.io.Raw(f\"{preproc_data_dir}/{subject}_bp_filtered_clean_data.fif\")\n",
    "events = mne.find_events(bp_filtered_fif, output='step', consecutive = False, stim_channel='STI')\n",
    "\n",
    "# create events\n",
    "events = events[0:-1]\n",
    "    \n",
    "# only epoch good channels\n",
    "channels_of_interest =  [x for x in bp_filtered_fif.info['ch_names'] if x not in bp_filtered_fif.info['bads']]\n",
    "\n",
    "# epoch the data\n",
    "epoched_data = mne.Epochs(bp_filtered_fif, events, \n",
    "                          event_id = 0, tmin = -5, tmax = 5, \n",
    "                          baseline = None, picks = channels_of_interest,\n",
    "                             reject_by_annotation = False)\n",
    "# save the data\n",
    "epoched_data.save(f\"{preproc_data_dir}/{subject}_bp_clean_end-locked_ieeg.fif\", overwrite = True, split_size = '1.9GB')"
   ]
  },
  {
   "cell_type": "markdown",
   "id": "79755a04-246f-412e-b639-f3d9e90f86bd",
   "metadata": {},
   "source": [
    "### Last Away"
   ]
  },
  {
   "cell_type": "code",
   "execution_count": 7,
   "id": "c240ff9f-5190-4574-9c45-5d6271f85b56",
   "metadata": {},
   "outputs": [
    {
     "data": {
      "text/html": [
       "<div>\n",
       "<style scoped>\n",
       "    .dataframe tbody tr th:only-of-type {\n",
       "        vertical-align: middle;\n",
       "    }\n",
       "\n",
       "    .dataframe tbody tr th {\n",
       "        vertical-align: top;\n",
       "    }\n",
       "\n",
       "    .dataframe thead th {\n",
       "        text-align: right;\n",
       "    }\n",
       "</style>\n",
       "<table border=\"1\" class=\"dataframe\">\n",
       "  <thead>\n",
       "    <tr style=\"text-align: right;\">\n",
       "      <th></th>\n",
       "      <th>neural_trial_numeric</th>\n",
       "      <th>TrialType</th>\n",
       "      <th>sample</th>\n",
       "      <th>sample_before</th>\n",
       "      <th>event</th>\n",
       "    </tr>\n",
       "  </thead>\n",
       "  <tbody>\n",
       "    <tr>\n",
       "      <th>0</th>\n",
       "      <td>3</td>\n",
       "      <td>11</td>\n",
       "      <td>39347</td>\n",
       "      <td>0</td>\n",
       "      <td>1</td>\n",
       "    </tr>\n",
       "    <tr>\n",
       "      <th>1</th>\n",
       "      <td>4</td>\n",
       "      <td>8</td>\n",
       "      <td>41523</td>\n",
       "      <td>0</td>\n",
       "      <td>1</td>\n",
       "    </tr>\n",
       "    <tr>\n",
       "      <th>2</th>\n",
       "      <td>5</td>\n",
       "      <td>16</td>\n",
       "      <td>46054</td>\n",
       "      <td>0</td>\n",
       "      <td>1</td>\n",
       "    </tr>\n",
       "    <tr>\n",
       "      <th>3</th>\n",
       "      <td>6</td>\n",
       "      <td>10</td>\n",
       "      <td>47795</td>\n",
       "      <td>0</td>\n",
       "      <td>1</td>\n",
       "    </tr>\n",
       "    <tr>\n",
       "      <th>4</th>\n",
       "      <td>7</td>\n",
       "      <td>3</td>\n",
       "      <td>51993</td>\n",
       "      <td>0</td>\n",
       "      <td>1</td>\n",
       "    </tr>\n",
       "    <tr>\n",
       "      <th>...</th>\n",
       "      <td>...</td>\n",
       "      <td>...</td>\n",
       "      <td>...</td>\n",
       "      <td>...</td>\n",
       "      <td>...</td>\n",
       "    </tr>\n",
       "    <tr>\n",
       "      <th>220</th>\n",
       "      <td>234</td>\n",
       "      <td>18</td>\n",
       "      <td>851404</td>\n",
       "      <td>0</td>\n",
       "      <td>1</td>\n",
       "    </tr>\n",
       "    <tr>\n",
       "      <th>221</th>\n",
       "      <td>235</td>\n",
       "      <td>19</td>\n",
       "      <td>855321</td>\n",
       "      <td>0</td>\n",
       "      <td>1</td>\n",
       "    </tr>\n",
       "    <tr>\n",
       "      <th>222</th>\n",
       "      <td>236</td>\n",
       "      <td>20</td>\n",
       "      <td>858393</td>\n",
       "      <td>0</td>\n",
       "      <td>1</td>\n",
       "    </tr>\n",
       "    <tr>\n",
       "      <th>223</th>\n",
       "      <td>237</td>\n",
       "      <td>9</td>\n",
       "      <td>863104</td>\n",
       "      <td>0</td>\n",
       "      <td>1</td>\n",
       "    </tr>\n",
       "    <tr>\n",
       "      <th>224</th>\n",
       "      <td>238</td>\n",
       "      <td>16</td>\n",
       "      <td>865817</td>\n",
       "      <td>0</td>\n",
       "      <td>1</td>\n",
       "    </tr>\n",
       "  </tbody>\n",
       "</table>\n",
       "<p>225 rows × 5 columns</p>\n",
       "</div>"
      ],
      "text/plain": [
       "     neural_trial_numeric  TrialType  sample  sample_before  event\n",
       "0                       3         11   39347              0      1\n",
       "1                       4          8   41523              0      1\n",
       "2                       5         16   46054              0      1\n",
       "3                       6         10   47795              0      1\n",
       "4                       7          3   51993              0      1\n",
       "..                    ...        ...     ...            ...    ...\n",
       "220                   234         18  851404              0      1\n",
       "221                   235         19  855321              0      1\n",
       "222                   236         20  858393              0      1\n",
       "223                   237          9  863104              0      1\n",
       "224                   238         16  865817              0      1\n",
       "\n",
       "[225 rows x 5 columns]"
      ]
     },
     "execution_count": 7,
     "metadata": {},
     "output_type": "execute_result"
    }
   ],
   "source": [
    "## Load Behavioral Data ##\n",
    "last_away_data = pd.read_csv(f\"{raw_data_dir}/behave/{subject}_last_away_events.csv\")\n",
    "last_away_data"
   ]
  },
  {
   "cell_type": "code",
   "execution_count": 8,
   "id": "96245caa-2b18-429e-ae61-de510b9a0d52",
   "metadata": {},
   "outputs": [],
   "source": [
    "# create events\n",
    "last_away_events = last_away_data[['sample', 'sample_before', 'event']].copy().to_numpy()\n"
   ]
  },
  {
   "cell_type": "code",
   "execution_count": 9,
   "id": "06cbcdf3-1d9d-4361-95c0-dde1121ffa7b",
   "metadata": {},
   "outputs": [
    {
     "name": "stdout",
     "output_type": "stream",
     "text": [
      "Opening raw data file /home/brooke/pacman/preprocessing/LL13/ieeg/LL13_bp_filtered_clean_data.fif...\n",
      "    Range : 0 ... 901099 =      0.000 ...  1759.959 secs\n",
      "Ready.\n",
      "Not setting metadata\n",
      "225 matching events found\n",
      "No baseline correction applied\n",
      "0 projection items activated\n",
      "Loading data for 1 events and 5121 original time points ...\n",
      "Loading data for 225 events and 5121 original time points ...\n"
     ]
    },
    {
     "name": "stderr",
     "output_type": "stream",
     "text": [
      "/tmp/ipykernel_233518/678285560.py:2: RuntimeWarning: This filename (/home/brooke/pacman/preprocessing/LL13/ieeg/LL13_bp_filtered_clean_data.fif) does not conform to MNE naming conventions. All raw files should end with raw.fif, raw_sss.fif, raw_tsss.fif, _meg.fif, _eeg.fif, _ieeg.fif, raw.fif.gz, raw_sss.fif.gz, raw_tsss.fif.gz, _meg.fif.gz, _eeg.fif.gz or _ieeg.fif.gz\n",
      "  bp_filtered_fif = mne.io.Raw(f\"{preproc_data_dir}/{subject}_bp_filtered_clean_data.fif\")\n",
      "/tmp/ipykernel_233518/678285560.py:13: RuntimeWarning: This filename (/home/brooke/pacman/preprocessing/LL13/ieeg/LL13_bp_filtered_clean_last_away_events.fif) does not conform to MNE naming conventions. All epochs files should end with -epo.fif, -epo.fif.gz, _epo.fif or _epo.fif.gz\n",
      "  last_away_epochs.save(f\"{preproc_data_dir}/{subject}_bp_filtered_clean_last_away_events.fif\", overwrite = True, split_size = '1.9GB')\n"
     ]
    }
   ],
   "source": [
    "# load data \n",
    "bp_filtered_fif = mne.io.Raw(f\"{preproc_data_dir}/{subject}_bp_filtered_clean_data.fif\")\n",
    "    \n",
    "# only epoch good channels\n",
    "channels_of_interest =  [x for x in bp_filtered_fif.info['ch_names'] if x not in bp_filtered_fif.info['bads']]\n",
    "\n",
    "# epoch the data\n",
    "last_away_epochs = mne.Epochs(bp_filtered_fif, last_away_events, \n",
    "                          event_id = 1, tmin = -5, tmax =5, \n",
    "                          baseline = None, picks = channels_of_interest,\n",
    "                             reject_by_annotation = False)\n",
    "# # save the data\n",
    "last_away_epochs.save(f\"{preproc_data_dir}/{subject}_bp_filtered_clean_last_away_events.fif\", overwrite = True, split_size = '1.9GB')\n"
   ]
  },
  {
   "cell_type": "markdown",
   "id": "ed01f5dc-5a71-4ebb-98f0-28efa09f1402",
   "metadata": {
    "tags": []
   },
   "source": [
    "### First Dot"
   ]
  },
  {
   "cell_type": "code",
   "execution_count": 10,
   "id": "68b2becf-6497-4154-af5a-58862bbea274",
   "metadata": {},
   "outputs": [
    {
     "data": {
      "text/html": [
       "<div>\n",
       "<style scoped>\n",
       "    .dataframe tbody tr th:only-of-type {\n",
       "        vertical-align: middle;\n",
       "    }\n",
       "\n",
       "    .dataframe tbody tr th {\n",
       "        vertical-align: top;\n",
       "    }\n",
       "\n",
       "    .dataframe thead th {\n",
       "        text-align: right;\n",
       "    }\n",
       "</style>\n",
       "<table border=\"1\" class=\"dataframe\">\n",
       "  <thead>\n",
       "    <tr style=\"text-align: right;\">\n",
       "      <th></th>\n",
       "      <th>neural_trial_numeric</th>\n",
       "      <th>TrialType</th>\n",
       "      <th>sample</th>\n",
       "      <th>sample_before</th>\n",
       "      <th>event</th>\n",
       "    </tr>\n",
       "  </thead>\n",
       "  <tbody>\n",
       "    <tr>\n",
       "      <th>0</th>\n",
       "      <td>0</td>\n",
       "      <td>7</td>\n",
       "      <td>25241</td>\n",
       "      <td>0</td>\n",
       "      <td>1</td>\n",
       "    </tr>\n",
       "    <tr>\n",
       "      <th>1</th>\n",
       "      <td>1</td>\n",
       "      <td>15</td>\n",
       "      <td>28672</td>\n",
       "      <td>0</td>\n",
       "      <td>1</td>\n",
       "    </tr>\n",
       "    <tr>\n",
       "      <th>2</th>\n",
       "      <td>2</td>\n",
       "      <td>1</td>\n",
       "      <td>33331</td>\n",
       "      <td>0</td>\n",
       "      <td>1</td>\n",
       "    </tr>\n",
       "    <tr>\n",
       "      <th>3</th>\n",
       "      <td>3</td>\n",
       "      <td>11</td>\n",
       "      <td>39142</td>\n",
       "      <td>0</td>\n",
       "      <td>1</td>\n",
       "    </tr>\n",
       "    <tr>\n",
       "      <th>4</th>\n",
       "      <td>7</td>\n",
       "      <td>3</td>\n",
       "      <td>51916</td>\n",
       "      <td>0</td>\n",
       "      <td>1</td>\n",
       "    </tr>\n",
       "    <tr>\n",
       "      <th>...</th>\n",
       "      <td>...</td>\n",
       "      <td>...</td>\n",
       "      <td>...</td>\n",
       "      <td>...</td>\n",
       "      <td>...</td>\n",
       "    </tr>\n",
       "    <tr>\n",
       "      <th>216</th>\n",
       "      <td>234</td>\n",
       "      <td>18</td>\n",
       "      <td>850790</td>\n",
       "      <td>0</td>\n",
       "      <td>1</td>\n",
       "    </tr>\n",
       "    <tr>\n",
       "      <th>217</th>\n",
       "      <td>235</td>\n",
       "      <td>19</td>\n",
       "      <td>854732</td>\n",
       "      <td>0</td>\n",
       "      <td>1</td>\n",
       "    </tr>\n",
       "    <tr>\n",
       "      <th>218</th>\n",
       "      <td>236</td>\n",
       "      <td>20</td>\n",
       "      <td>857804</td>\n",
       "      <td>0</td>\n",
       "      <td>1</td>\n",
       "    </tr>\n",
       "    <tr>\n",
       "      <th>219</th>\n",
       "      <td>237</td>\n",
       "      <td>9</td>\n",
       "      <td>862848</td>\n",
       "      <td>0</td>\n",
       "      <td>1</td>\n",
       "    </tr>\n",
       "    <tr>\n",
       "      <th>220</th>\n",
       "      <td>238</td>\n",
       "      <td>16</td>\n",
       "      <td>865484</td>\n",
       "      <td>0</td>\n",
       "      <td>1</td>\n",
       "    </tr>\n",
       "  </tbody>\n",
       "</table>\n",
       "<p>221 rows × 5 columns</p>\n",
       "</div>"
      ],
      "text/plain": [
       "     neural_trial_numeric  TrialType  sample  sample_before  event\n",
       "0                       0          7   25241              0      1\n",
       "1                       1         15   28672              0      1\n",
       "2                       2          1   33331              0      1\n",
       "3                       3         11   39142              0      1\n",
       "4                       7          3   51916              0      1\n",
       "..                    ...        ...     ...            ...    ...\n",
       "216                   234         18  850790              0      1\n",
       "217                   235         19  854732              0      1\n",
       "218                   236         20  857804              0      1\n",
       "219                   237          9  862848              0      1\n",
       "220                   238         16  865484              0      1\n",
       "\n",
       "[221 rows x 5 columns]"
      ]
     },
     "execution_count": 10,
     "metadata": {},
     "output_type": "execute_result"
    }
   ],
   "source": [
    "## Load Behavioral Data ##\n",
    "first_dot_data = pd.read_csv(f\"{raw_data_dir}/behave/{subject}_first_dot_events.csv\")\n",
    "first_dot_data"
   ]
  },
  {
   "cell_type": "code",
   "execution_count": 11,
   "id": "5ead51a0-67bd-4e4f-9d62-e803c3797ca8",
   "metadata": {},
   "outputs": [],
   "source": [
    "# create events\n",
    "first_dot_data = first_dot_data[['sample', 'sample_before', 'event']].copy().to_numpy()\n"
   ]
  },
  {
   "cell_type": "code",
   "execution_count": 12,
   "id": "5881575c-4b93-4e23-b751-8fcf3ac825b4",
   "metadata": {},
   "outputs": [
    {
     "name": "stdout",
     "output_type": "stream",
     "text": [
      "Opening raw data file /home/brooke/pacman/preprocessing/LL13/ieeg/LL13_bp_filtered_clean_data.fif...\n",
      "    Range : 0 ... 901099 =      0.000 ...  1759.959 secs\n",
      "Ready.\n",
      "Not setting metadata\n",
      "221 matching events found\n",
      "No baseline correction applied\n",
      "0 projection items activated\n",
      "Loading data for 1 events and 4609 original time points ...\n",
      "Loading data for 221 events and 4609 original time points ...\n"
     ]
    },
    {
     "name": "stderr",
     "output_type": "stream",
     "text": [
      "/tmp/ipykernel_233518/4126832509.py:2: RuntimeWarning: This filename (/home/brooke/pacman/preprocessing/LL13/ieeg/LL13_bp_filtered_clean_data.fif) does not conform to MNE naming conventions. All raw files should end with raw.fif, raw_sss.fif, raw_tsss.fif, _meg.fif, _eeg.fif, _ieeg.fif, raw.fif.gz, raw_sss.fif.gz, raw_tsss.fif.gz, _meg.fif.gz, _eeg.fif.gz or _ieeg.fif.gz\n",
      "  bp_filtered_fif = mne.io.Raw(f\"{preproc_data_dir}/{subject}_bp_filtered_clean_data.fif\")\n",
      "/tmp/ipykernel_233518/4126832509.py:14: RuntimeWarning: This filename (/home/brooke/pacman/preprocessing/LL13/ieeg/LL13_bp_filtered_clean_first_dot_events.fif) does not conform to MNE naming conventions. All epochs files should end with -epo.fif, -epo.fif.gz, _epo.fif or _epo.fif.gz\n",
      "  first_dot_epochs.save(f\"{preproc_data_dir}/{subject}_bp_filtered_clean_first_dot_events.fif\", overwrite = True, split_size = '1.9GB')\n"
     ]
    }
   ],
   "source": [
    "# load data \n",
    "bp_filtered_fif = mne.io.Raw(f\"{preproc_data_dir}/{subject}_bp_filtered_clean_data.fif\")\n",
    "\n",
    "# only epoch good channels\n",
    "channels_of_interest =  [x for x in bp_filtered_fif.info['ch_names'] if x not in bp_filtered_fif.info['bads']]\n",
    "\n",
    "\n",
    "# epoch the data\n",
    "first_dot_epochs = mne.Epochs(bp_filtered_fif, first_dot_data, \n",
    "                          event_id = 1, tmin = -3, tmax =6, \n",
    "                          baseline = None, picks = channels_of_interest,\n",
    "                             reject_by_annotation = False)\n",
    "# # save the data\n",
    "first_dot_epochs.save(f\"{preproc_data_dir}/{subject}_bp_filtered_clean_first_dot_events.fif\", overwrite = True, split_size = '1.9GB')\n"
   ]
  },
  {
   "cell_type": "markdown",
   "id": "e89317ea-33ce-4a0e-b265-5a9dad600fa0",
   "metadata": {
    "tags": []
   },
   "source": [
    "## First Move"
   ]
  },
  {
   "cell_type": "code",
   "execution_count": 13,
   "id": "793bdb40-2876-46a1-bf56-03cbe2541c93",
   "metadata": {},
   "outputs": [
    {
     "data": {
      "text/html": [
       "<div>\n",
       "<style scoped>\n",
       "    .dataframe tbody tr th:only-of-type {\n",
       "        vertical-align: middle;\n",
       "    }\n",
       "\n",
       "    .dataframe tbody tr th {\n",
       "        vertical-align: top;\n",
       "    }\n",
       "\n",
       "    .dataframe thead th {\n",
       "        text-align: right;\n",
       "    }\n",
       "</style>\n",
       "<table border=\"1\" class=\"dataframe\">\n",
       "  <thead>\n",
       "    <tr style=\"text-align: right;\">\n",
       "      <th></th>\n",
       "      <th>neural_trial_numeric</th>\n",
       "      <th>TrialType</th>\n",
       "      <th>sample</th>\n",
       "      <th>sample_before</th>\n",
       "      <th>event</th>\n",
       "    </tr>\n",
       "  </thead>\n",
       "  <tbody>\n",
       "    <tr>\n",
       "      <th>0</th>\n",
       "      <td>0</td>\n",
       "      <td>7</td>\n",
       "      <td>25113</td>\n",
       "      <td>0</td>\n",
       "      <td>1</td>\n",
       "    </tr>\n",
       "    <tr>\n",
       "      <th>1</th>\n",
       "      <td>1</td>\n",
       "      <td>15</td>\n",
       "      <td>28492</td>\n",
       "      <td>0</td>\n",
       "      <td>1</td>\n",
       "    </tr>\n",
       "    <tr>\n",
       "      <th>2</th>\n",
       "      <td>2</td>\n",
       "      <td>1</td>\n",
       "      <td>33203</td>\n",
       "      <td>0</td>\n",
       "      <td>1</td>\n",
       "    </tr>\n",
       "    <tr>\n",
       "      <th>3</th>\n",
       "      <td>3</td>\n",
       "      <td>11</td>\n",
       "      <td>39116</td>\n",
       "      <td>0</td>\n",
       "      <td>1</td>\n",
       "    </tr>\n",
       "    <tr>\n",
       "      <th>4</th>\n",
       "      <td>4</td>\n",
       "      <td>8</td>\n",
       "      <td>41523</td>\n",
       "      <td>0</td>\n",
       "      <td>1</td>\n",
       "    </tr>\n",
       "    <tr>\n",
       "      <th>...</th>\n",
       "      <td>...</td>\n",
       "      <td>...</td>\n",
       "      <td>...</td>\n",
       "      <td>...</td>\n",
       "      <td>...</td>\n",
       "    </tr>\n",
       "    <tr>\n",
       "      <th>234</th>\n",
       "      <td>234</td>\n",
       "      <td>18</td>\n",
       "      <td>850764</td>\n",
       "      <td>0</td>\n",
       "      <td>1</td>\n",
       "    </tr>\n",
       "    <tr>\n",
       "      <th>235</th>\n",
       "      <td>235</td>\n",
       "      <td>19</td>\n",
       "      <td>854579</td>\n",
       "      <td>0</td>\n",
       "      <td>1</td>\n",
       "    </tr>\n",
       "    <tr>\n",
       "      <th>236</th>\n",
       "      <td>236</td>\n",
       "      <td>20</td>\n",
       "      <td>857702</td>\n",
       "      <td>0</td>\n",
       "      <td>1</td>\n",
       "    </tr>\n",
       "    <tr>\n",
       "      <th>237</th>\n",
       "      <td>237</td>\n",
       "      <td>9</td>\n",
       "      <td>862745</td>\n",
       "      <td>0</td>\n",
       "      <td>1</td>\n",
       "    </tr>\n",
       "    <tr>\n",
       "      <th>238</th>\n",
       "      <td>238</td>\n",
       "      <td>16</td>\n",
       "      <td>865280</td>\n",
       "      <td>0</td>\n",
       "      <td>1</td>\n",
       "    </tr>\n",
       "  </tbody>\n",
       "</table>\n",
       "<p>239 rows × 5 columns</p>\n",
       "</div>"
      ],
      "text/plain": [
       "     neural_trial_numeric  TrialType  sample  sample_before  event\n",
       "0                       0          7   25113              0      1\n",
       "1                       1         15   28492              0      1\n",
       "2                       2          1   33203              0      1\n",
       "3                       3         11   39116              0      1\n",
       "4                       4          8   41523              0      1\n",
       "..                    ...        ...     ...            ...    ...\n",
       "234                   234         18  850764              0      1\n",
       "235                   235         19  854579              0      1\n",
       "236                   236         20  857702              0      1\n",
       "237                   237          9  862745              0      1\n",
       "238                   238         16  865280              0      1\n",
       "\n",
       "[239 rows x 5 columns]"
      ]
     },
     "execution_count": 13,
     "metadata": {},
     "output_type": "execute_result"
    }
   ],
   "source": [
    "## Load Behavioral Data ##\n",
    "first_move_data = pd.read_csv(f\"{raw_data_dir}/behave/{subject}_first_move_events.csv\")\n",
    "first_move_data"
   ]
  },
  {
   "cell_type": "code",
   "execution_count": 14,
   "id": "e1b533ba-dbb2-4d88-aa49-4d7820bb81fe",
   "metadata": {},
   "outputs": [],
   "source": [
    "# create events\n",
    "first_move_data = first_move_data[['sample', 'sample_before', 'event']].copy().to_numpy()\n"
   ]
  },
  {
   "cell_type": "code",
   "execution_count": 15,
   "id": "21dfb96f-0128-491c-966e-39f7c470720b",
   "metadata": {
    "tags": []
   },
   "outputs": [
    {
     "name": "stdout",
     "output_type": "stream",
     "text": [
      "Opening raw data file /home/brooke/pacman/preprocessing/LL13/ieeg/LL13_bp_filtered_clean_data.fif...\n",
      "    Range : 0 ... 901099 =      0.000 ...  1759.959 secs\n",
      "Ready.\n",
      "Not setting metadata\n",
      "239 matching events found\n",
      "No baseline correction applied\n",
      "0 projection items activated\n",
      "Loading data for 1 events and 5121 original time points ...\n",
      "Loading data for 239 events and 5121 original time points ...\n"
     ]
    },
    {
     "name": "stderr",
     "output_type": "stream",
     "text": [
      "/tmp/ipykernel_233518/3347570552.py:2: RuntimeWarning: This filename (/home/brooke/pacman/preprocessing/LL13/ieeg/LL13_bp_filtered_clean_data.fif) does not conform to MNE naming conventions. All raw files should end with raw.fif, raw_sss.fif, raw_tsss.fif, _meg.fif, _eeg.fif, _ieeg.fif, raw.fif.gz, raw_sss.fif.gz, raw_tsss.fif.gz, _meg.fif.gz, _eeg.fif.gz or _ieeg.fif.gz\n",
      "  bp_filtered_fif = mne.io.Raw(f\"{preproc_data_dir}/{subject}_bp_filtered_clean_data.fif\")\n",
      "/tmp/ipykernel_233518/3347570552.py:14: RuntimeWarning: This filename (/home/brooke/pacman/preprocessing/LL13/ieeg/LL13_bp_filtered_clean_first_move_events.fif) does not conform to MNE naming conventions. All epochs files should end with -epo.fif, -epo.fif.gz, _epo.fif or _epo.fif.gz\n",
      "  first_move_epochs.save(f\"{preproc_data_dir}/{subject}_bp_filtered_clean_first_move_events.fif\", overwrite = True, split_size = '1.9GB')\n"
     ]
    }
   ],
   "source": [
    "# load data \n",
    "bp_filtered_fif = mne.io.Raw(f\"{preproc_data_dir}/{subject}_bp_filtered_clean_data.fif\")\n",
    "\n",
    "# only epoch good channels\n",
    "channels_of_interest =  [x for x in bp_filtered_fif.info['ch_names'] if x not in bp_filtered_fif.info['bads']]\n",
    "\n",
    "\n",
    "# epoch the data\n",
    "first_move_epochs = mne.Epochs(bp_filtered_fif, first_move_data, \n",
    "                          event_id = 1, tmin = -5, tmax =5, \n",
    "                          baseline = None, picks = channels_of_interest,\n",
    "                             reject_by_annotation = False)\n",
    "# # save the data\n",
    "first_move_epochs.save(f\"{preproc_data_dir}/{subject}_bp_filtered_clean_first_move_events.fif\", overwrite = True, split_size = '1.9GB')\n"
   ]
  }
 ],
 "metadata": {
  "kernelspec": {
   "display_name": "ieeg_analysis2",
   "language": "python",
   "name": "python3"
  },
  "language_info": {
   "codemirror_mode": {
    "name": "ipython",
    "version": 3
   },
   "file_extension": ".py",
   "mimetype": "text/x-python",
   "name": "python",
   "nbconvert_exporter": "python",
   "pygments_lexer": "ipython3",
   "version": "3.9.18"
  }
 },
 "nbformat": 4,
 "nbformat_minor": 5
}

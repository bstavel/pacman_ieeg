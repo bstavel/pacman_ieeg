{
 "cells": [
  {
   "cell_type": "markdown",
   "id": "b5194560-27b5-44c7-ba27-c39ff52a61f2",
   "metadata": {},
   "source": [
    "# Encoding scratchpad"
   ]
  },
  {
   "cell_type": "code",
   "execution_count": 1,
   "id": "c5cdac63-0cbe-459d-90f2-dff20739ca23",
   "metadata": {},
   "outputs": [],
   "source": [
    "import matplotlib\n",
    "import matplotlib.pyplot as plt\n",
    "import pandas as pd\n",
    "import numpy as np\n",
    "from scipy import signal, stats\n",
    "import mat73\n",
    "import re\n",
    "from neurodsp.timefrequency import compute_wavelet_transform\n",
    "from BCI2kReader import BCI2kReader as b2k\n",
    "import os\n",
    "import mne\n",
    "from tabulate import tabulate\n",
    "import IPython\n",
    "import seaborn as sns\n",
    "import scipy\n",
    "import joblib\n",
    "import h5io\n",
    "import dask.array as da \n",
    "\n",
    "import statsmodels\n",
    "from statsmodels import stats\n",
    "from statsmodels.stats import multitest\n",
    "\n",
    "# Import required code for visualizing example models\n",
    "from fooof import FOOOF\n",
    "from fooof.sim.gen import gen_power_spectrum\n",
    "from fooof.sim.utils import set_random_seed\n",
    "from fooof.plts.spectra import plot_spectra\n",
    "from fooof.plts.annotate import plot_annotated_model\n",
    "from neurodsp.utils import create_times\n",
    "from neurodsp.plts.time_series import plot_time_series\n",
    "from neurodsp.spectral import compute_spectrum, rotate_powerlaw\n",
    "from neurodsp.plts.spectral import plot_power_spectra\n",
    "\n"
   ]
  },
  {
   "cell_type": "code",
   "execution_count": 2,
   "id": "f33457fa-9744-43b1-a335-1f1b64d152c9",
   "metadata": {
    "tags": []
   },
   "outputs": [],
   "source": [
    "## Prep paths ##\n",
    "\n",
    "subject = 'BJH025'\n",
    "raw_data_dir = f\"/home/brooke/pacman/raw_data/{subject}\"\n",
    "preproc_data_dir = f\"/home/brooke/pacman/preprocessing/{subject}/ieeg\""
   ]
  },
  {
   "cell_type": "code",
   "execution_count": 3,
   "id": "982d4eca-45c0-4a7b-b61f-edff4ad03347",
   "metadata": {},
   "outputs": [
    {
     "name": "stdout",
     "output_type": "stream",
     "text": [
      "Reading /home/brooke/pacman/preprocessing/BJH025/ieeg/trial_onset/hc-itibaseline-tfr.h5 ...\n",
      "Not setting metadata\n"
     ]
    }
   ],
   "source": [
    "## Load Neural Data\n",
    "\n",
    "roi_pres_TFR = mne.time_frequency.read_tfrs(f\"/home/brooke/pacman/preprocessing/{subject}/ieeg/trial_onset/hc-itibaseline-tfr.h5\")\n",
    "roi_pres_TFR = roi_pres_TFR[0]"
   ]
  },
  {
   "cell_type": "code",
   "execution_count": 4,
   "id": "1040dab1-712a-4bf7-ac71-b016bc511d5a",
   "metadata": {},
   "outputs": [],
   "source": [
    "def tidy_end_of_trials(df):\n",
    "    \n",
    "    if df['UserLocation'].iloc[0] > 95:\n",
    "        # Find the index where 'UserLocation' first hits or exceeds 170\n",
    "        hit_170_index = df[df['UserLocation'] > 170].index.min()\n",
    "\n",
    "        # If there is no such index (i.e., 'UserLocation' never hits or exceeds 170), \n",
    "        # return the DataFrame as it is\n",
    "        if pd.isna(hit_170_index):\n",
    "            return df\n",
    "        else:\n",
    "            # If there is such an index, return only the part of the DataFrame before it\n",
    "            return df.loc[:hit_170_index]\n",
    "    else:\n",
    "        # Find the index where 'UserLocation' first hits or is below 10\n",
    "        hit_10_index = df[df['UserLocation'] < 10].index.min()\n",
    "\n",
    "        # If there is no such index (i.e., 'UserLocation' never hits or exceeds 170), \n",
    "        # return the DataFrame as it is\n",
    "        if pd.isna(hit_10_index):\n",
    "            return df\n",
    "        else:\n",
    "            # If there is such an index, return only the part of the DataFrame before it\n",
    "            return df.loc[:hit_10_index]\n",
    "\n",
    "        "
   ]
  },
  {
   "cell_type": "code",
   "execution_count": 5,
   "id": "bfce7a66-38d8-44ae-96c0-9c31dcf72fb4",
   "metadata": {},
   "outputs": [],
   "source": [
    "## Prep Behavioral Data ##\n",
    "\n",
    "# Load Data #\n",
    "trial_data = pd.read_csv(f\"{raw_data_dir}/behave/{subject}_raw_encoding_behave.csv\")\n",
    "\n",
    "# Fix incorrect trial labeling\n",
    "trial_data = trial_data[trial_data['Trial'] != 7] # Equivalent to filter()\n",
    "trial_data['Trial'] = np.where(trial_data['Trial'] < 7, trial_data['Trial'], trial_data['Trial'] - 1) # Equivalent to if_else()\n",
    "\n",
    "# Remove first trial because there was not enough\n",
    "trial_data = trial_data[trial_data['Trial'] != 0]\n",
    "trial_data['Trial'] = trial_data['Trial'] - 1\n",
    "\n",
    "# Clean Up Trial/Trial Type and exclude bad epochs #\n",
    "trial_data['Trial'] = trial_data['Trial'] - 1\n",
    "trial_data['TrialType'] = trial_data.groupby('Trial')['TrialType'].transform(lambda x: x.mode().iloc[0])\n",
    "trial_data = trial_data[trial_data['Trial'] >=0]\n",
    "trial_data = trial_data.drop(trial_data.columns[0], axis=1)\n",
    "trial_data = trial_data[trial_data['Trial_on_off'] != 0]\n",
    "\n",
    "# Exclude end of trial location jumps\n",
    "trial_data = trial_data.groupby('Trial').apply(tidy_end_of_trials).reset_index(drop=True)\n",
    "\n",
    "# Create trial time variable\n",
    "trial_data = trial_data.rename(columns={'Time': 'sample'})\n",
    "trial_data['Time'] = trial_data['sample'] / 2000\n",
    "trial_data['Time'] = trial_data.groupby('Trial')['Time'].transform(lambda x: x - x.iloc[0]).round(2)"
   ]
  },
  {
   "cell_type": "code",
   "execution_count": 6,
   "id": "91571ea6-a77f-4675-bc25-19ce0249e469",
   "metadata": {},
   "outputs": [
    {
     "name": "stdout",
     "output_type": "stream",
     "text": [
      "Reading /home/brooke/pacman/preprocessing/BJH025/ieeg/BJH025_bp_clean_pres-locked_ieeg.fif ...\n"
     ]
    },
    {
     "name": "stderr",
     "output_type": "stream",
     "text": [
      "/tmp/ipykernel_19003/2819449321.py:2: RuntimeWarning: This filename (/home/brooke/pacman/preprocessing/BJH025/ieeg/BJH025_bp_clean_pres-locked_ieeg.fif) does not conform to MNE naming conventions. All epochs files should end with -epo.fif, -epo.fif.gz, _epo.fif or _epo.fif.gz\n",
      "  trial_onset_epochs = mne.read_epochs(f\"/home/brooke/pacman/preprocessing/{subject}/ieeg/{subject}_bp_clean_pres-locked_ieeg.fif\")\n"
     ]
    },
    {
     "name": "stdout",
     "output_type": "stream",
     "text": [
      "    Found the data of interest:\n",
      "        t =   -4000.00 ...   12000.00 ms\n",
      "        0 CTF compensation matrices available\n",
      "Reading /home/brooke/pacman/preprocessing/BJH025/ieeg/BJH025_bp_clean_pres-locked_ieeg-1.fif ...\n",
      "    Found the data of interest:\n",
      "        t =   -4000.00 ...   12000.00 ms\n",
      "        0 CTF compensation matrices available\n",
      "Reading /home/brooke/pacman/preprocessing/BJH025/ieeg/BJH025_bp_clean_pres-locked_ieeg-2.fif ...\n",
      "    Found the data of interest:\n",
      "        t =   -4000.00 ...   12000.00 ms\n",
      "        0 CTF compensation matrices available\n",
      "Not setting metadata\n",
      "237 matching events found\n",
      "No baseline correction applied\n",
      "0 projection items activated\n"
     ]
    },
    {
     "data": {
      "text/plain": [
       "[1,\n",
       " 3,\n",
       " 4,\n",
       " 5,\n",
       " 8,\n",
       " 8,\n",
       " 17,\n",
       " 33,\n",
       " 42,\n",
       " 56,\n",
       " 72,\n",
       " 73,\n",
       " 90,\n",
       " 92,\n",
       " 93,\n",
       " 99,\n",
       " 107,\n",
       " 136,\n",
       " 160,\n",
       " 163,\n",
       " 175,\n",
       " 204,\n",
       " 205,\n",
       " 211,\n",
       " 217,\n",
       " 225,\n",
       " 234]"
      ]
     },
     "execution_count": 6,
     "metadata": {},
     "output_type": "execute_result"
    }
   ],
   "source": [
    "# load old pres data to help add metadata\n",
    "trial_onset_epochs = mne.read_epochs(f\"/home/brooke/pacman/preprocessing/{subject}/ieeg/{subject}_bp_clean_pres-locked_ieeg.fif\")\n",
    "\n",
    "bad_epochs = []\n",
    "for idx, annot in enumerate(trial_onset_epochs.get_annotations_per_epoch()):\n",
    "    if annot:\n",
    "        for bad_annot in list(set(annot)):\n",
    "            trial_end = 1 + trial_data[trial_data['Trial'] == idx]['Time'].max() # note that idx and trial are the same because we have not excluded trials (besides the ones needed to align to neural data)\n",
    "            trial_start = -1\n",
    "            bad_start = bad_annot[0]\n",
    "            bad_end = bad_start + bad_annot[1]\n",
    "            if trial_start < bad_end and trial_end > bad_start: # if they overlap\n",
    "                bad_epochs.append(idx)\n",
    "good_epochs = [i for i,x in enumerate(trial_onset_epochs.get_annotations_per_epoch()) if i not in bad_epochs]\n",
    "bad_epochs"
   ]
  },
  {
   "cell_type": "code",
   "execution_count": 7,
   "id": "b865784b-02ef-4c66-b789-c8a3e02baa2b",
   "metadata": {},
   "outputs": [
    {
     "data": {
      "text/plain": [
       "237"
      ]
     },
     "execution_count": 7,
     "metadata": {},
     "output_type": "execute_result"
    }
   ],
   "source": [
    "len(trial_data['Trial'].unique())"
   ]
  },
  {
   "cell_type": "code",
   "execution_count": 8,
   "id": "fc6f4a27-e55b-41f2-b6d1-a0d56fb36424",
   "metadata": {},
   "outputs": [
    {
     "data": {
      "text/plain": [
       "211"
      ]
     },
     "execution_count": 8,
     "metadata": {},
     "output_type": "execute_result"
    }
   ],
   "source": [
    "len(good_epochs)"
   ]
  },
  {
   "cell_type": "code",
   "execution_count": 9,
   "id": "73d0cf68-732d-4b3f-856b-0ef44d402c6c",
   "metadata": {},
   "outputs": [],
   "source": [
    "## Exclude bad Trials\n",
    "trial_data = trial_data[trial_data['Trial'].isin(good_epochs)]\n",
    "\n",
    "trial_data.to_csv(f\"{preproc_data_dir}/linear_encoding/cleaned_trial_behavior.csv\")"
   ]
  },
  {
   "cell_type": "code",
   "execution_count": 10,
   "id": "e5e7fd3d-f09f-4509-ae74-643ff88e922b",
   "metadata": {},
   "outputs": [],
   "source": [
    "def plot_distance_vs_time(df):\n",
    "    # Get unique trials\n",
    "    trials = df['Trial'].unique()\n",
    "\n",
    "    # Create a subplot for each trial\n",
    "    fig, axs = plt.subplots(len(trials), 1, figsize=(10, 6*len(trials)))\n",
    "\n",
    "    for i, trial in enumerate(trials):\n",
    "        trial_data = df[df['Trial'] == trial]\n",
    "        axs[i].plot(trial_data['Time'], trial_data['distance_to_ghost'], label=f'Trial {trial}')\n",
    "        axs[i].set_xlabel('Time')\n",
    "        axs[i].set_ylabel('Distance to Ghost')\n",
    "        axs[i].legend()\n",
    "        axs[i].set_title(f'Distance to Ghost as a function of Time for Trial {trial}')\n",
    "    \n",
    "    plt.tight_layout()\n",
    "    plt.show()\n",
    "\n",
    "\n",
    "# Call the function with your DataFrame\n",
    "# plot_distance_vs_time(trial_data[(trial_data['Trial'] > 119) & (trial_data['Trial'] < 240)])"
   ]
  },
  {
   "cell_type": "markdown",
   "id": "8fd73928-00b5-4811-aeb6-773db99c9e8d",
   "metadata": {},
   "source": [
    "## Prep Neural Data"
   ]
  },
  {
   "cell_type": "code",
   "execution_count": 11,
   "id": "e0c02f5b-a354-4b42-8a9a-12a3a495334d",
   "metadata": {
    "tags": []
   },
   "outputs": [],
   "source": [
    "## Dictionary of electrode locations ##\n",
    "\n",
    "# Dictionary mapping ROI to elecs\n",
    "ROIs = {\n",
    "    'hc'     :['HL1', 'HL2', 'HR1', 'HR2', 'I1', 'I2', 'I3', 'I4'],\n",
    "    'ofc'    :['A1', 'A2', 'A3', 'A4', 'A5', 'A6', 'A7', 'A8', 'A9', 'A10', 'B1', 'B2', 'B3'],\n",
    "    'amyg'   :['C1', 'C2', 'GL1', 'GL2', 'GL3', 'GL4', 'GL5', 'GR1', 'GR2', 'GR3', 'GR4', 'GR5'],\n",
    "    'cing'   :['B10'],\n",
    "    'insula' :['C4', 'C5', 'C6', 'C7', 'C8', 'D1', 'D2', 'D3', 'D4'],\n",
    "    'dlpfc'  :['C13', 'C14', 'C15', 'C16'],\n",
    "    'ec'     :['J1', 'J2', 'J3']\n",
    "}\n",
    "\n",
    "## prep lists\n",
    "\n",
    "# primary ROI\n",
    "hc_list = []\n",
    "hc_indices = []\n",
    "hc_names = []\n",
    "ofc_list = []\n",
    "ofc_indices = []\n",
    "ofc_names = []\n",
    "amyg_list = []\n",
    "amyg_names = [] \n",
    "amyg_indices = []\n",
    "cing_list = []\n",
    "cing_names = [] \n",
    "cing_indices = []\n",
    "\n",
    "# control ROI\n",
    "insula_list = []\n",
    "insula_names = []  \n",
    "insula_indices = []\n",
    "dlpfc_list = []\n",
    "dlpfc_names = []  \n",
    "dlpfc_indices = []\n",
    "ec_list = []\n",
    "ec_names = []  \n",
    "ec_indices = []\n",
    "\n",
    "# exclude bad ROI from list (because all the bad channels are in front)\n",
    "pairs_long_name = [ch.split('-') for ch in roi_pres_TFR.info['ch_names']]\n",
    "bidx = 0\n",
    "pairs_name = pairs_long_name[bidx:len(pairs_long_name)]\n",
    "\n",
    "# sort ROI into lists\n",
    "for ix in range(0, len(pairs_name)):\n",
    "    if pairs_name[ix][0] in ROIs['hc'] or pairs_name[ix][1] in ROIs['hc']:\n",
    "        hc_list.append(roi_pres_TFR.info['ch_names'][ix + bidx])\n",
    "        hc_names.append(pairs_name[ix])\n",
    "        hc_indices.append(ix)\n",
    "    if pairs_name[ix][0] in ROIs['ofc'] or pairs_name[ix][1] in ROIs['ofc']:\n",
    "        ofc_list.append(roi_pres_TFR.info['ch_names'][ix + bidx])\n",
    "        ofc_names.append(pairs_name[ix])\n",
    "        ofc_indices.append(ix)\n",
    "    if pairs_name[ix][0] in ROIs['amyg'] or pairs_name[ix][1] in ROIs['amyg']:\n",
    "        amyg_list.append(roi_pres_TFR.info['ch_names'][ix + bidx])       \n",
    "        amyg_names.append(pairs_name[ix])\n",
    "        amyg_indices.append(ix)\n",
    "    if pairs_name[ix][0] in ROIs['cing'] or pairs_name[ix][1] in ROIs['cing']:\n",
    "        cing_list.append(roi_pres_TFR.info['ch_names'][ix + bidx])       \n",
    "        cing_names.append(pairs_name[ix])\n",
    "        cing_indices.append(ix)\n",
    "        \n",
    "    # control roi\n",
    "    if pairs_name[ix][0] in ROIs['insula'] or pairs_name[ix][1] in ROIs['insula']:\n",
    "        insula_list.append(roi_pres_TFR.info['ch_names'][ix + bidx])       \n",
    "        insula_names.append(pairs_name[ix])\n",
    "        insula_indices.append(ix)\n",
    "    if pairs_name[ix][0] in ROIs['dlpfc'] or pairs_name[ix][1] in ROIs['dlpfc']:\n",
    "        dlpfc_list.append(roi_pres_TFR.info['ch_names'][ix + bidx])       \n",
    "        dlpfc_names.append(pairs_name[ix])\n",
    "        dlpfc_indices.append(ix)\n",
    "    if pairs_name[ix][0] in ROIs['ec'] or pairs_name[ix][1] in ROIs['ec']:\n",
    "        ec_list.append(roi_pres_TFR.info['ch_names'][ix + bidx])       \n",
    "        ec_names.append(pairs_name[ix])\n",
    "        ec_indices.append(ix)        \n",
    "        "
   ]
  },
  {
   "cell_type": "code",
   "execution_count": 12,
   "id": "d8cd0eae-48c1-4cec-8241-44f66110cfdf",
   "metadata": {},
   "outputs": [],
   "source": [
    "## Prep neural data ##\n",
    "\n",
    "# extra theta #\n",
    "theta_data = roi_pres_TFR.copy().crop(-1, 9, 3, 8)\n",
    "\n",
    "# average across trials\n",
    "theta_average = theta_data.copy()._data.mean(axis = 2).mean(axis = 0)\n",
    "\n",
    "# create a time mask\n",
    "mask_time_ecog = mne.utils._time_mask(roi_pres_TFR.times, 0, 9)"
   ]
  },
  {
   "cell_type": "code",
   "execution_count": 13,
   "id": "0b802634-7461-4142-a02e-155d554e0ed2",
   "metadata": {},
   "outputs": [
    {
     "data": {
      "image/png": "[encoded data removed]",
      "text/plain": [
       "<Figure size 432x288 with 1 Axes>"
      ]
     },
     "metadata": {
      "needs_background": "light"
     },
     "output_type": "display_data"
    }
   ],
   "source": [
    "# Create a new figure\n",
    "plt.figure()\n",
    "\n",
    "# Plot the first line\n",
    "plt.plot(theta_data.times, theta_average[0, :], label='Line 1')\n",
    "\n",
    "# Plot the second line\n",
    "plt.plot(theta_data.times, theta_average[1, :], label='Line 2')\n",
    "\n",
    "# Plot the second line\n",
    "plt.plot(theta_data.times, theta_average[2, :], label='Line 3')\n",
    "\n",
    "# Plot the second line\n",
    "plt.plot(theta_data.times, theta_average[3, :], label='Line 4')\n",
    "\n",
    "# Plot the second line\n",
    "plt.plot(theta_data.times, theta_average[4, :], label='Line 5')\n",
    "\n",
    "# Plot the second line\n",
    "plt.plot(theta_data.times, theta_average[5, :], label='Line 6')\n",
    "\n",
    "# Add a legend\n",
    "plt.legend()\n",
    "\n",
    "# Show the plot\n",
    "plt.show()"
   ]
  },
  {
   "cell_type": "markdown",
   "id": "f8b00946-175f-410b-b5fd-206962fc21d5",
   "metadata": {},
   "source": [
    "Based on the above plot we will use 'I1-I2'. Technically I chose when the graph was limited to 5 seconds"
   ]
  },
  {
   "cell_type": "code",
   "execution_count": 14,
   "id": "eb931073-cf87-4a74-ade2-aca5642fcf86",
   "metadata": {},
   "outputs": [],
   "source": [
    "sample_elec_data = theta_data.copy().pick_channels(['I1-I2']).crop(0, 8.7)"
   ]
  },
  {
   "cell_type": "code",
   "execution_count": 15,
   "id": "b7c903d1-e279-43c8-b67e-e3e002976252",
   "metadata": {},
   "outputs": [
    {
     "data": {
      "text/plain": [
       "<matplotlib.legend.Legend at 0x7ff0d0e45a60>"
      ]
     },
     "execution_count": 15,
     "metadata": {},
     "output_type": "execute_result"
    },
    {
     "data": {
      "image/png": "[encoded data removed]",
      "text/plain": [
       "<Figure size 432x288 with 1 Axes>"
      ]
     },
     "metadata": {
      "needs_background": "light"
     },
     "output_type": "display_data"
    }
   ],
   "source": [
    "plt.plot(sample_elec_data.times, sample_elec_data._data.mean(axis = 0).mean(axis = 0).mean(axis = 0), label='Line 3', color = 'green')\n",
    "plt.legend()"
   ]
  },
  {
   "cell_type": "code",
   "execution_count": 61,
   "id": "5fdd38fb-0523-45ce-85c8-fe119d36c05b",
   "metadata": {},
   "outputs": [
    {
     "data": {
      "text/plain": [
       "<EpochsTFR | time : [0.000000, 8.700000], freq : [3.131975, 7.611227], epochs : 211, channels : 1, ~21.0 MB>"
      ]
     },
     "execution_count": 61,
     "metadata": {},
     "output_type": "execute_result"
    }
   ],
   "source": [
    "# decimate\n",
    "sample_elec_data.decimate(10)"
   ]
  },
  {
   "cell_type": "code",
   "execution_count": 62,
   "id": "ad08b862-5b9a-4a44-8c5e-76b008be2f59",
   "metadata": {},
   "outputs": [],
   "source": [
    "sample_elec_data.save(f\"{preproc_data_dir}/linear_encoding/theta_I1-I2_ecog-epo.fif\", overwrite = True)"
   ]
  },
  {
   "cell_type": "code",
   "execution_count": 16,
   "id": "57a14036-fdbc-40a6-8e4e-4065175a223f",
   "metadata": {},
   "outputs": [
    {
     "data": {
      "text/plain": [
       "(211, 1, 15, 8701)"
      ]
     },
     "execution_count": 16,
     "metadata": {},
     "output_type": "execute_result"
    }
   ],
   "source": [
    "sample_elec_data._data.shape"
   ]
  },
  {
   "cell_type": "code",
   "execution_count": 26,
   "id": "1e93ca37-c7e8-40af-8477-5ad66f1fb27d",
   "metadata": {},
   "outputs": [
    {
     "data": {
      "text/plain": [
       "[<matplotlib.lines.Line2D at 0x7ff0cff1e280>]"
      ]
     },
     "execution_count": 26,
     "metadata": {},
     "output_type": "execute_result"
    },
    {
     "data": {
      "image/png": "[encoded data removed]",
      "text/plain": [
       "<Figure size 432x288 with 1 Axes>"
      ]
     },
     "metadata": {
      "needs_background": "light"
     },
     "output_type": "display_data"
    }
   ],
   "source": [
    "plt.plot(sample_elec_data.times[0:2900], sample_elec_data._data[210, :, :, 0:2900].mean(axis = 0).mean(axis = 0), label='Line 3', color = 'green')\n"
   ]
  },
  {
   "cell_type": "code",
   "execution_count": null,
   "id": "5947a855-5320-43b0-a9e2-0f82a78168a4",
   "metadata": {},
   "outputs": [],
   "source": []
  }
 ],
 "metadata": {
  "kernelspec": {
   "display_name": "Python [conda env:anaconda3-ieeg_analysis]",
   "language": "python",
   "name": "conda-env-anaconda3-ieeg_analysis-py"
  },
  "language_info": {
   "codemirror_mode": {
    "name": "ipython",
    "version": 3
   },
   "file_extension": ".py",
   "mimetype": "text/x-python",
   "name": "python",
   "nbconvert_exporter": "python",
   "pygments_lexer": "ipython3",
   "version": "3.9.12"
  }
 },
 "nbformat": 4,
 "nbformat_minor": 5
}

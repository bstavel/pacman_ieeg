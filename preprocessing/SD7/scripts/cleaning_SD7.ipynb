{
 "cells": [
  {
   "cell_type": "code",
   "execution_count": 1,
   "id": "e19c1b4a-7424-43c6-a431-cb2483d67bf5",
   "metadata": {},
   "outputs": [],
   "source": [
    "%% add field trip %%\n",
    "ftDir = '/home/brooke/fieldtrip/fieldtrip-20191213';\n",
    "if exist('ft_defaults.m', 'file') == 0\n",
    "    addpath(ftDir); ft_defaults;\n",
    "end"
   ]
  },
  {
   "cell_type": "code",
   "execution_count": 2,
   "id": "d12341c7-4534-4cf8-816d-40275ae8cb9c",
   "metadata": {},
   "outputs": [
    {
     "name": "stdout",
     "output_type": "stream",
     "text": [
      "\n",
      "pt_file =\n",
      "\n",
      "    '/home/brooke/knight_server/remote/ecog/DATA_FOLDER/UCSD/SD7/Datafiles/X~ X_c9f5fdb7-c2f9-4005-8bcd-3f9d764db9b0.EDF'\n",
      "\n"
     ]
    },
    {
     "name": "stderr",
     "output_type": "stream",
     "text": [
      "\u001b[0;31mWarning OPENEDF: Physical Minimum larger than Maximum.\n",
      "PLEASE recheck if the scaling and polarity in the following channels are still correct if used:\n",
      "EEG A1-A2 EEG A2-A3 EEG A3-A4 EEG A4-A5 EEG A5-A6 EEG A6-A7 EEG A7-A8 EEG A8-A9 EEG A9-A10 EEG B1-B2 EEG B2-B3 EEG B3-B4 EEG B4-B5 EEG B5-B6 EEG B6-B7 EEG B7-B8 EEG B8-B9 EEG B9-B10 EEG B10-B11 EEG B11-B12 EEG B12-B13 EEG B13-B14 EEG B14-B15 EEG B15-B16 EEG C1-C2 EEG C2-C3 EEG C3-C4 EEG C4-C5 EEG C5-C6 EEG C6-C7 EEG C7-C8 EEG C8-C9 EEG C9-C10 EEG D1-D2 EEG D2-D3 EEG D3-D4 EEG D4-D5 EEG D5-D6 EEG D6-D7 EEG D7-D8 EEG D8-D9 EEG D9-D10 EEG E1-E2 EEG E2-E3 EEG E3-E4 EEG E4-E5 EEG E5-E6 EEG E6-E7 EEG E7-E8 EEG E8-E9 EEG E9-E10 EEG F1-F2 EEG F2-F3 EEG F3-F4 EEG F4-F5 EEG F5-F6 EEG F6-F7 EEG F7-F8 EEG F8-F9 EEG F9-F10 EEG G1-G2 EEG G2-G3 EEG G3-G4 EEG G4-G5 EEG G5-G6 EEG G6-G7 EEG G7-G8 EEG G8-G9 EEG G9-G10 EEG A'1-A'2 EEG A'2-A'3 EEG A'3-A'4 EEG A'4-A'5 EEG A'5-A'6 EEG A'6-A'7 EEG A'7-A'8 EEG A'8-A'9 EEG A'9-A'10 EEG B'1-B'2 EEG B'2-B'3 EEG B'3-B'4 EEG B'4-B'5 EEG B'5\u001b[0m\u001b[0;31m-B'6 EEG B'6-B'7 EEG B'7-B'8 EEG B'8-B'9 EEG B'9-B'10 EEG C'1-C'2 EEG C'2-C'3 EEG C'3-C'4 EEG C'4-C'5 EEG C'5-C'6 EEG C'6-C'7 EEG C'7-C'8 EEG C'8-C'9 EEG C'9-C'10 EEG D'1-D'2 EEG D'2-D'3 EEG D'3-D'4 EEG D'4-D'5 EEG D'5-D'6 EEG D'6-D'7 EEG D'7-D'8 EEG D'8-D'9 EEG D'9-D'10 EEG E'1-E'2 EEG E'2-E'3 EEG E'3-E'4 EEG E'4-E'5 EEG E'5-E'6 EEG E'6-E'7 EEG E'7-E'8 EEG E'8-E'9 EEG E'9-E'10 EEG F'1-F'2 EEG F'2-F'3 EEG F'3-F'4 EEG F'4-F'5 EEG F'5-F'6 EEG F'6-F'7 EEG F'7-F'8 EEG F'8-F'9 EEG F'9-F'10 EEG G'1-G'2 EEG G'2-G'3 EEG G'3-G'4 EEG G'4-G'5 EEG G'5-G'6 EEG G'6-G'7 EEG G'7-G'8 EEG G'8-G'9 EEG G'9-G'10 EEG EKG 1-EKG 2 EEG Fpz-Cz EEG Cz-Oz EEG CC3-Cz EEG Cz-CC4 DC1 DC2 DC3 DC4 \n",
      "\u001b[0m"
     ]
    },
    {
     "name": "stdout",
     "output_type": "stream",
     "text": [
      "\n",
      "diode_chs =\n",
      "\n",
      "  4x1 cell array\n",
      "\n",
      "    {'DC1'}\n",
      "    {'DC2'}\n",
      "    {'DC3'}\n",
      "    {'DC4'}\n",
      "\n"
     ]
    }
   ],
   "source": [
    "%% data paths %%\n",
    "pt_file = '/home/brooke/knight_server/remote/ecog/DATA_FOLDER/UCSD/SD7/Datafiles/X~ X_c9f5fdb7-c2f9-4005-8bcd-3f9d764db9b0.EDF'\n",
    "% get photodiode %\n",
    "header = ft_read_header(pt_file);\n",
    "diode_idx = cell2mat(cellfun(@(x) contains(x, \"DC\"), header.label, 'UniformOutput', false));\n",
    "diode_chs = header.label(diode_idx)\n"
   ]
  },
  {
   "cell_type": "markdown",
   "id": "793bde95-22b4-4bc5-afe8-2c6875afb342",
   "metadata": {},
   "source": [
    "# identify photodiode channel, look for task epoch"
   ]
  },
  {
   "cell_type": "code",
   "execution_count": 45,
   "id": "4473d831-f628-4b82-9a46-3263a1ab2de9",
   "metadata": {},
   "outputs": [
    {
     "name": "stdout",
     "output_type": "stream",
     "text": [
      "retaining existing trial definition\n",
      "found 0 events\n",
      "created 1 trials\n",
      "the call to \"ft_definetrial\" took 0 seconds and required the additional allocation of an estimated 0 MB\n"
     ]
    },
    {
     "name": "stderr",
     "output_type": "stream",
     "text": [
      "\u001b[0;31mWarning OPENEDF: Physical Minimum larger than Maximum.\n",
      "PLEASE recheck if the scaling and polarity in the following channels are still correct if used:\n",
      "EEG A1-A2 EEG A2-A3 EEG A3-A4 EEG A4-A5 EEG A5-A6 EEG A6-A7 EEG A7-A8 EEG A8-A9 EEG A9-A10 EEG B1-B2 EEG B2-B3 EEG B3-B4 EEG B4-B5 EEG B5-B6 EEG B6-B7 EEG B7-B8 EEG B8-B9 EEG B9-B10 EEG B10-B11 EEG B11-B12 EEG B12-B13 EEG B13-B14 EEG B14-B15 EEG B15-B16 EEG C1-C2 EEG C2-C3 EEG C3-C4 EEG C4-C5 EEG C5-C6 EEG C6-C7 EEG C7-C8 EEG C8-C9 EEG C9-C10 EEG D1-D2 EEG D2-D3 EEG D3-D4 EEG D4-D5 EEG D5-D6 EEG D6-D7 EEG D7-D8 EEG D8-D9 EEG D9-D10 EEG E1-E2 EEG E2-E3 EEG E3-E4 EEG E4-E5 EEG E5-E6 EEG E6-E7 EEG E7-E8 EEG E8-E9 EEG E9-E10 EEG F1-F2 EEG F2-F3 EEG F3-F4 EEG F4-F5 EEG F5-F6 EEG F6-F7 EEG F7-F8 EEG F8-F9 EEG F9-F10 EEG G1-G2 EEG G2-G3 EEG G3-G4 EEG G4-G5 EEG G5-G6 EEG G6-G7 EEG G7-G8 EEG G8-G9 EEG G9-G10 EEG A'1-A'2 EEG A'2-A'3 EEG A'3-A'4 EEG A'4-A'5 EEG A'5-A'6 EEG A'6-A'7 EEG A'7-A'8 EEG A'8-A'9 EEG A'9-A'10 EEG B'1-B'2 EEG B'2-B'3 EEG B'3-B'4 EEG B'4-B'5 EEG B'5\u001b[0m\u001b[0;31m-B'6 EEG B'6-B'7 EEG B'7-B'8 EEG B'8-B'9 EEG B'9-B'10 EEG C'1-C'2 EEG C'2-C'3 EEG C'3-C'4 EEG C'4-C'5 EEG C'5-C'6 EEG C'6-C'7 EEG C'7-C'8 EEG C'8-C'9 EEG C'9-C'10 EEG D'1-D'2 EEG D'2-D'3 EEG D'3-D'4 EEG D'4-D'5 EEG D'5-D'6 EEG D'6-D'7 EEG D'7-D'8 EEG D'8-D'9 EEG D'9-D'10 EEG E'1-E'2 EEG E'2-E'3 EEG E'3-E'4 EEG E'4-E'5 EEG E'5-E'6 EEG E'6-E'7 EEG E'7-E'8 EEG E'8-E'9 EEG E'9-E'10 EEG F'1-F'2 EEG F'2-F'3 EEG F'3-F'4 EEG F'4-F'5 EEG F'5-F'6 EEG F'6-F'7 EEG F'7-F'8 EEG F'8-F'9 EEG F'9-F'10 EEG G'1-G'2 EEG G'2-G'3 EEG G'3-G'4 EEG G'4-G'5 EEG G'5-G'6 EEG G'6-G'7 EEG G'7-G'8 EEG G'8-G'9 EEG G'9-G'10 EEG EKG 1-EKG 2 EEG Fpz-Cz EEG Cz-Oz EEG CC3-Cz EEG Cz-CC4 DC1 DC2 DC3 DC4 \n",
      "\u001b[0m"
     ]
    },
    {
     "name": "stdout",
     "output_type": "stream",
     "text": [
      "processing channel { 'DC1' 'DC2' 'DC3' 'DC4' }\n",
      "reading and preprocessing\n",
      "reading and preprocessing trial 1 from 1\n",
      "the call to \"ft_preprocessing\" took 649 seconds and required the additional allocation of an estimated 274 MB\n",
      "\n",
      "data = \n",
      "\n",
      "  struct with fields:\n",
      "\n",
      "           hdr: [1x1 struct]\n",
      "         label: {4x1 cell}\n",
      "          time: {[0 9.7656e-04 0.0020 0.0029 0.0039 0.0049 0.0059 ... ]}\n",
      "         trial: {[4x7164032 double]}\n",
      "       fsample: 1024\n",
      "    sampleinfo: [1 7164032]\n",
      "           cfg: [1x1 struct]\n",
      "\n"
     ]
    }
   ],
   "source": [
    "cfg = [];\n",
    "cfg.channel = diode_chs;\n",
    "cfg.dataset =pt_file;\n",
    "cfg.trl = [1 7164032 0];\n",
    "cfg = ft_definetrial(cfg);\n",
    "data = ft_preprocessing(cfg)"
   ]
  },
  {
   "cell_type": "code",
   "execution_count": 28,
   "id": "04bb20e1-5d16-4aad-a047-2b9145e4a63b",
   "metadata": {},
   "outputs": [
    {
     "name": "stdout",
     "output_type": "stream",
     "text": [
      "the call to \"ft_selectdata\" took 0 seconds and required the additional allocation of an estimated 1 MB\n",
      "preprocessing\n",
      "preprocessing trial 1 from 1\n",
      "the call to \"ft_preprocessing\" took 7 seconds and required the additional allocation of an estimated 219 MB\n"
     ]
    }
   ],
   "source": [
    "%% Detrend and notch  data\n",
    "HPcutoff = 1; % high-pass filter cutoff\n",
    "LPcutoff = 200; % low-pass filter cutoff change to 150\n",
    "powerLineF0 = 60;\n",
    "cfg = [];\n",
    "cfg.bsfilter = 'yes';\n",
    "cfg.bsfreq = (powerLineF0 * (1:round((LPcutoff+powerLineF0)/powerLineF0)) + [-1; 1])';\n",
    "if data.fsample <= 512\n",
    "    cfg.bsfreq = cfg.bsfreq(1:end-1, :); % for fs=512Hz, e.g. OS13, OS21\n",
    "end\n",
    "cfg.bsfiltord = 3;\n",
    "cfg.hpfilter = 'yes';\n",
    "cfg.hpfreq = HPcutoff;\n",
    "cfg.hpfiltord = 3;\n",
    "cfg.lpfilter = 'yes';\n",
    "cfg.lpfreq = LPcutoff;\n",
    "cfg.lpfiltord = 3;\n",
    "filtered_data = ft_preprocessing(cfg, data);\n"
   ]
  },
  {
   "cell_type": "code",
   "execution_count": 30,
   "id": "a9c44d1f-bb85-484d-9f36-225c8bd82333",
   "metadata": {},
   "outputs": [
    {
     "name": "stdout",
     "output_type": "stream",
     "text": [
      "the input is raw data with 4 channels and 1 trials\n",
      "detected   0 visual artifacts\n",
      "the call to \"ft_prepare_layout\" took 0 seconds and required the additional allocation of an estimated 0 MB\n",
      "the call to \"ft_databrowser\" took 1 seconds and required the additional allocation of an estimated 280 MB\n"
     ]
    }
   ],
   "source": [
    "%plot native\n",
    "\n",
    "clear data\n",
    "cfg = [];\n",
    "cfg.viewmode = 'vertical';\n",
    "cfg.preproc.demean = 'yes';\n",
    "% cfg.blocksize = 10;\n",
    "% cfg.channel = goodChansDispIdx;\n",
    "% cfg.position = pos2;\n",
    "% cfg.ylim = [-1 1] * .0005;\n",
    "ft_databrowser(cfg, filtered_data);"
   ]
  },
  {
   "cell_type": "markdown",
   "id": "1378bbcc-7400-40bf-bc78-2fc8137d1e0e",
   "metadata": {},
   "source": [
    "# Data Cleaning\n",
    "\n",
    "From looking at the ft_databrowser, it looks like my task was run between 257s and 1651s, for a total of 23 minutes. Will now load only these times into the data browser in order to clean the data with Bob\n",
    "\n",
    "\n",
    "Thus *begin_trl = 262145*\n",
    "and *end_trl = 1691649*\n"
   ]
  },
  {
   "cell_type": "code",
   "execution_count": 3,
   "id": "bfeff1ac-4c61-47e4-b5ae-99d8d0c95a5f",
   "metadata": {},
   "outputs": [
    {
     "name": "stdout",
     "output_type": "stream",
     "text": [
      "\n",
      "begin_trl =\n",
      "\n",
      "      262145\n",
      "\n",
      "\n",
      "end_trl =\n",
      "\n",
      "     1691649\n",
      "\n",
      "retaining existing trial definition\n",
      "found 0 events\n",
      "created 1 trials\n",
      "the call to \"ft_definetrial\" took 0 seconds and required the additional allocation of an estimated 1 MB\n"
     ]
    },
    {
     "name": "stderr",
     "output_type": "stream",
     "text": [
      "\u001b[0;31mWarning OPENEDF: Physical Minimum larger than Maximum.\n",
      "PLEASE recheck if the scaling and polarity in the following channels are still correct if used:\n",
      "EEG A1-A2 EEG A2-A3 EEG A3-A4 EEG A4-A5 EEG A5-A6 EEG A6-A7 EEG A7-A8 EEG A8-A9 EEG A9-A10 EEG B1-B2 EEG B2-B3 EEG B3-B4 EEG B4-B5 EEG B5-B6 EEG B6-B7 EEG B7-B8 EEG B8-B9 EEG B9-B10 EEG B10-B11 EEG B11-B12 EEG B12-B13 EEG B13-B14 EEG B14-B15 EEG B15-B16 EEG C1-C2 EEG C2-C3 EEG C3-C4 EEG C4-C5 EEG C5-C6 EEG C6-C7 EEG C7-C8 EEG C8-C9 EEG C9-C10 EEG D1-D2 EEG D2-D3 EEG D3-D4 EEG D4-D5 EEG D5-D6 EEG D6-D7 EEG D7-D8 EEG D8-D9 EEG D9-D10 EEG E1-E2 EEG E2-E3 EEG E3-E4 EEG E4-E5 EEG E5-E6 EEG E6-E7 EEG E7-E8 EEG E8-E9 EEG E9-E10 EEG F1-F2 EEG F2-F3 EEG F3-F4 EEG F4-F5 EEG F5-F6 EEG F6-F7 EEG F7-F8 EEG F8-F9 EEG F9-F10 EEG G1-G2 EEG G2-G3 EEG G3-G4 EEG G4-G5 EEG G5-G6 EEG G6-G7 EEG G7-G8 EEG G8-G9 EEG G9-G10 EEG A'1-A'2 EEG A'2-A'3 EEG A'3-A'4 EEG A'4-A'5 EEG A'5-A'6 EEG A'6-A'7 EEG A'7-A'8 EEG A'8-A'9 EEG A'9-A'10 EEG B'1-B'2 EEG B'2-B'3 EEG B'3-B'4 EEG B'4-B'5 EEG B'5\u001b[0m\u001b[0;31m-B'6 EEG B'6-B'7 EEG B'7-B'8 EEG B'8-B'9 EEG B'9-B'10 EEG C'1-C'2 EEG C'2-C'3 EEG C'3-C'4 EEG C'4-C'5 EEG C'5-C'6 EEG C'6-C'7 EEG C'7-C'8 EEG C'8-C'9 EEG C'9-C'10 EEG D'1-D'2 EEG D'2-D'3 EEG D'3-D'4 EEG D'4-D'5 EEG D'5-D'6 EEG D'6-D'7 EEG D'7-D'8 EEG D'8-D'9 EEG D'9-D'10 EEG E'1-E'2 EEG E'2-E'3 EEG E'3-E'4 EEG E'4-E'5 EEG E'5-E'6 EEG E'6-E'7 EEG E'7-E'8 EEG E'8-E'9 EEG E'9-E'10 EEG F'1-F'2 EEG F'2-F'3 EEG F'3-F'4 EEG F'4-F'5 EEG F'5-F'6 EEG F'6-F'7 EEG F'7-F'8 EEG F'8-F'9 EEG F'9-F'10 EEG G'1-G'2 EEG G'2-G'3 EEG G'3-G'4 EEG G'4-G'5 EEG G'5-G'6 EEG G'6-G'7 EEG G'7-G'8 EEG G'8-G'9 EEG G'9-G'10 EEG EKG 1-EKG 2 EEG Fpz-Cz EEG Cz-Oz EEG CC3-Cz EEG Cz-CC4 DC1 DC2 DC3 DC4 \n",
      "\u001b[0m"
     ]
    },
    {
     "name": "stdout",
     "output_type": "stream",
     "text": [
      "processing channel { 'EEG A1-A2' 'EEG A2-A3' 'EEG A3-A4' 'EEG A4-A5' 'EEG A5-A6' 'EEG A6-A7' 'EEG A7-A8' 'EEG A8-A9' 'EEG A9-A10' 'EEG B1-B2' 'EEG B2-B3' 'EEG B3-B4' 'EEG B4-B5' 'EEG B5-B6' 'EEG B6-B7' 'EEG B7-B8' 'EEG B8-B9' 'EEG B9-B10' 'EEG B10-B11' 'EEG B11-B12' 'EEG B12-B13' 'EEG B13-B14' 'EEG B14-B15' 'EEG B15-B16' 'EEG C1-C2' 'EEG C2-C3' 'EEG C3-C4' 'EEG C4-C5' 'EEG C5-C6' 'EEG C6-C7' 'EEG C7-C8' 'EEG C8-C9' 'EEG C9-C10' 'EEG D1-D2' 'EEG D2-D3' 'EEG D3-D4' 'EEG D4-D5' 'EEG D5-D6' 'EEG D6-D7' 'EEG D7-D8' 'EEG D8-D9' 'EEG D9-D10' 'EEG E1-E2' 'EEG E2-E3' 'EEG E3-E4' 'EEG E4-E5' 'EEG E5-E6' 'EEG E6-E7' 'EEG E7-E8' 'EEG E8-E9' 'EEG E9-E10' 'EEG F1-F2' 'EEG F2-F3' 'EEG F3-F4' 'EEG F4-F5' 'EEG F5-F6' 'EEG F6-F7' 'EEG F7-F8' 'EEG F8-F9' 'EEG F9-F10' 'EEG G1-G2' 'EEG G2-G3' 'EEG G3-G4' 'EEG G4-G5' 'EEG G5-G6' 'EEG G6-G7' 'EEG G7-G8' 'EEG G8-G9' 'EEG G9-G10' 'EEG A'1-A'2' 'EEG A'2-A'3' 'EEG A'3-A'4' 'EEG A'4-A'5' 'EEG A'5-A'6' 'EEG A'6-A'7' 'EEG A'7-A'8' 'EEG A'8-A'9' 'EEG A'9-A'10' 'EEG B'1-B'2' 'EEG B'2-B'3' 'EEG B'3-B'4' 'EEG B'4-B'5' 'EEG B'5-B'6' 'EEG B'6-B'7' 'EEG B'7-B'8' 'EEG B'8-B'9' 'EEG B'9-B'10' 'EEG C'1-C'2' 'EEG C'2-C'3' 'EEG C'3-C'4' 'EEG C'4-C'5' 'EEG C'5-C'6' 'EEG C'6-C'7' 'EEG C'7-C'8' 'EEG C'8-C'9' 'EEG C'9-C'10' 'EEG D'1-D'2' 'EEG D'2-D'3' 'EEG D'3-D'4' 'EEG D'4-D'5' 'EEG D'5-D'6' 'EEG D'6-D'7' 'EEG D'7-D'8' 'EEG D'8-D'9' 'EEG D'9-D'10' 'EEG E'1-E'2' 'EEG E'2-E'3' 'EEG E'3-E'4' 'EEG E'4-E'5' 'EEG E'5-E'6' 'EEG E'6-E'7' 'EEG E'7-E'8' 'EEG E'8-E'9' 'EEG E'9-E'10' 'EEG F'1-F'2' 'EEG F'2-F'3' 'EEG F'3-F'4' 'EEG F'4-F'5' 'EEG F'5-F'6' 'EEG F'6-F'7' 'EEG F'7-F'8' 'EEG F'8-F'9' 'EEG F'9-F'10' 'EEG G'1-G'2' 'EEG G'2-G'3' 'EEG G'3-G'4' 'EEG G'4-G'5' 'EEG G'5-G'6' 'EEG G'6-G'7' 'EEG G'7-G'8' 'EEG G'8-G'9' 'EEG G'9-G'10' 'EEG EKG 1-EKG 2' 'EEG Fpz-Cz' 'EEG Cz-Oz' 'EEG CC3-Cz' 'EEG Cz-CC4' 'DC1' 'DC2' 'DC3' 'DC4' }\n",
      "reading and preprocessing\n",
      "reading and preprocessing trial 1 from 1\n",
      "the call to \"ft_preprocessing\" took 134 seconds and required the additional allocation of an estimated 1602 MB\n",
      "\n",
      "data = \n",
      "\n",
      "  struct with fields:\n",
      "\n",
      "           hdr: [1x1 struct]\n",
      "         label: {141x1 cell}\n",
      "          time: {[0 9.7656e-04 0.0020 0.0029 0.0039 0.0049 0.0059 ... ]}\n",
      "         trial: {[141x1429505 double]}\n",
      "       fsample: 1024\n",
      "    sampleinfo: [262145 1691649]\n",
      "           cfg: [1x1 struct]\n",
      "\n"
     ]
    }
   ],
   "source": [
    "%% if grabbing trl from the filtered data above\n",
    "\n",
    "% end_trl = find(filtered_data.time{1} == 1652) \n",
    "% clear filtered_data\n",
    "\n",
    "% if already identified the task epoch\n",
    "begin_trl = 262145\n",
    "end_trl = 1691649\n",
    "\n",
    "cfg = [];\n",
    "cfg.dataset = pt_file;\n",
    "cfg.trl = [begin_trl end_trl 0];\n",
    "cfg = ft_definetrial(cfg);\n",
    "data = ft_preprocessing(cfg)"
   ]
  },
  {
   "cell_type": "code",
   "execution_count": 6,
   "id": "64936694-2925-47b8-b8a0-e37bd9c48ad8",
   "metadata": {
    "tags": []
   },
   "outputs": [
    {
     "name": "stdout",
     "output_type": "stream",
     "text": [
      "the input is raw data with 141 channels and 1 trials\n",
      "the call to \"ft_selectdata\" took 0 seconds and required the additional allocation of an estimated 1 MB\n",
      "resampling data\n"
     ]
    },
    {
     "name": "stderr",
     "output_type": "stream",
     "text": [
      "\u001b[0;31mCheck for incorrect argument data type or missing argument in call to function 'resample'.\n",
      "\n",
      "Error in ft_resampledata (line 228)\n",
      "        newdat = transpose(resample(transpose(olddat),fsres,fsorig));\n",
      "\n",
      "\u001b[0m"
     ]
    }
   ],
   "source": [
    "%% Downsample %%\n",
    "cfg = [];\n",
    "cfg.resamplefs = 500;\n",
    "data = ft_resampledata(cfg, data);"
   ]
  },
  {
   "cell_type": "code",
   "execution_count": 12,
   "id": "becb4b55-f1d9-4cf2-8849-764340919a7c",
   "metadata": {},
   "outputs": [
    {
     "name": "stdout",
     "output_type": "stream",
     "text": [
      "the call to \"ft_selectdata\" took 0 seconds and required the additional allocation of an estimated 1 MB\n",
      "preprocessing\n",
      "preprocessing trial 1 from 1\n",
      "the call to \"ft_preprocessing\" took 35 seconds and required the additional allocation of an estimated 1540 MB\n"
     ]
    }
   ],
   "source": [
    "%% Detrend and notch  data\n",
    "HPcutoff = 1; % high-pass filter cutoff\n",
    "LPcutoff = 200; % low-pass filter cutoff change to 150\n",
    "powerLineF0 = 60;\n",
    "cfg = [];\n",
    "cfg.bsfilter = 'yes';\n",
    "cfg.bsfreq = (powerLineF0 * (1:round((LPcutoff+powerLineF0)/powerLineF0)) + [-1; 1])';\n",
    "if data.fsample <= 512\n",
    "    cfg.bsfreq = cfg.bsfreq(1:end-1, :); % for fs=512Hz, e.g. OS13, OS21\n",
    "end\n",
    "cfg.bsfiltord = 3;\n",
    "cfg.hpfilter = 'yes';\n",
    "cfg.hpfreq = HPcutoff;\n",
    "cfg.hpfiltord = 3;\n",
    "cfg.lpfilter = 'yes';\n",
    "cfg.lpfreq = LPcutoff;\n",
    "cfg.lpfiltord = 3;\n",
    "filtered_data = ft_preprocessing(cfg, data);\n"
   ]
  },
  {
   "cell_type": "code",
   "execution_count": 13,
   "id": "00c409e7-6c7f-422d-ba07-d82ca824eb72",
   "metadata": {},
   "outputs": [
    {
     "name": "stdout",
     "output_type": "stream",
     "text": [
      "the input is raw data with 141 channels and 1 trials\n",
      "detected   0 visual artifacts\n",
      "the call to \"ft_prepare_layout\" took 0 seconds and required the additional allocation of an estimated 1 MB\n",
      "the call to \"ft_databrowser\" took 5 seconds and required the additional allocation of an estimated 1667 MB\n"
     ]
    }
   ],
   "source": [
    "%plot native\n",
    "\n",
    "clear data\n",
    "cfg = [];\n",
    "cfg.viewmode = 'vertical';\n",
    "cfg.preproc.demean = 'yes';\n",
    "% cfg.blocksize = 10;\n",
    "% cfg.channel = goodChansDispIdx;\n",
    "% cfg.position = pos2;\n",
    "% cfg.ylim = [-1 1] * .0005;\n",
    "ft_databrowser(cfg, filtered_data);"
   ]
  },
  {
   "cell_type": "markdown",
   "id": "566b896f-c951-4bf0-9a9a-b0b396bbe12d",
   "metadata": {},
   "source": [
    "# Cleaning Notes with Bob\n",
    "## 1/24/2022\n",
    "\n",
    "Clean data, but with a lot of spiking activity\n",
    "Epileptic channels: F6-9\n",
    "\n",
    "Noisy channels: C10, G'10, F'10, F'2-F'3\n",
    "\n",
    "Epochs that may need to be removed (depending on how the data looks after removing epileptic channels + nearby channels):\n",
    "`37-39\n",
    "53-54\n",
    "84-86\n",
    "108-110\n",
    "133-135\n",
    "191\n",
    "205\n",
    "224-225\n",
    "272\n",
    "308-310\n",
    "330-332\n",
    "335-336\n",
    "436-437\n",
    "463\n",
    "485\n",
    "497-499\n",
    "523-528\n",
    "534\n",
    "555\n",
    "559-560\n",
    "589\n",
    "599\n",
    "629\n",
    "678\n",
    "683\n",
    "710\n",
    "721-722\n",
    "767-768\n",
    "772\n",
    "884\n",
    "891\n",
    "927\n",
    "982\n",
    "1055\n",
    "1134\n",
    "1168\n",
    "1189\n",
    "1126\n",
    "1270\n",
    "1298\n",
    "1306\n",
    "1361`\n"
   ]
  },
  {
   "cell_type": "code",
   "execution_count": null,
   "id": "5e3c6b6a-a2e1-49d6-84fb-a9b19bd6bb8e",
   "metadata": {},
   "outputs": [],
   "source": []
  }
 ],
 "metadata": {
  "kernelspec": {
   "display_name": "Matlab",
   "language": "matlab",
   "name": "matlab"
  },
  "language_info": {
   "codemirror_mode": "octave",
   "file_extension": ".m",
   "help_links": [
    {
     "text": "MetaKernel Magics",
     "url": "https://metakernel.readthedocs.io/en/latest/source/README.html"
    }
   ],
   "mimetype": "text/x-octave",
   "name": "matlab",
   "version": "0.16.11"
  }
 },
 "nbformat": 4,
 "nbformat_minor": 5
}

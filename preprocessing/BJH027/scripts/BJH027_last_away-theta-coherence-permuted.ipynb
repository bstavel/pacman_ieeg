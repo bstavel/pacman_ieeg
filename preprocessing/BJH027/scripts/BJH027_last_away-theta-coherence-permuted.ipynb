{
 "cells": [
  {
   "cell_type": "markdown",
   "id": "dd8fdc9d-95eb-42fe-abe1-80bb121b5d83",
   "metadata": {},
   "source": [
    "# Last Away ~ Coherence: BJH027"
   ]
  },
  {
   "cell_type": "markdown",
   "metadata": {},
   "source": [
    "In general, if the imaginary part of C(x,y) is positive, then x and y are interacting and x is earlier than y, indicating that information is flowing from x to y. At specific frequencies, however, ‘earlier’ and ‘later’ are ambigious; e.g. at 10 Hz 10 ms earlier is the same as 90 ms later. For the present interpretation we assumed that the smaller delay in absolute value is the more probable explanation; e.g. in the above example we would favor ‘10 ms earlier’ over ‘90 ms later’. Note, that we can make this interpretation just from the sign of the imaginary part of coherency without actually calculating a delay for which we would need a reliable real part of coherency."
   ]
  },
  {
   "cell_type": "code",
   "execution_count": null,
   "id": "b4cae23a-8d44-4df0-9b7a-3fcdc95e0e5c",
   "metadata": {},
   "outputs": [],
   "source": [
    "import matplotlib\n",
    "import matplotlib.pyplot as plt\n",
    "import pandas as pd\n",
    "import numpy as np\n",
    "from scipy import signal, stats\n",
    "import mat73\n",
    "import re\n",
    "from neurodsp.timefrequency import compute_wavelet_transform\n",
    "import os\n",
    "import mne\n",
    "import mne_connectivity\n",
    "import IPython\n",
    "import seaborn as sns\n",
    "import scipy\n",
    "import joblib\n",
    "import h5io\n",
    "import dask.array as da \n",
    "\n",
    "import statsmodels\n",
    "from statsmodels import stats\n",
    "from statsmodels.stats import multitest\n",
    "\n",
    "# Import required code for visualizing example models\n",
    "from neurodsp.utils import create_times\n",
    "from neurodsp.plts.time_series import plot_time_series\n",
    "from neurodsp.spectral import compute_spectrum, rotate_powerlaw\n",
    "from neurodsp.plts.spectral import plot_power_spectra\n",
    "\n"
   ]
  },
  {
   "cell_type": "code",
   "execution_count": null,
   "id": "c48a9e35-5c6b-451d-a9f5-41305159b40a",
   "metadata": {
    "tags": []
   },
   "outputs": [],
   "source": [
    "## Prep paths ##\n",
    "\n",
    "subject = 'BJH027'\n",
    "raw_data_dir = f\"/home/brooke/pacman/raw_data/{subject}\"\n",
    "preproc_data_dir = f\"/home/brooke/pacman/preprocessing/{subject}/ieeg\""
   ]
  },
  {
   "cell_type": "code",
   "execution_count": null,
   "id": "3f816ae7-8136-48c3-8218-48ac5650abe1",
   "metadata": {},
   "outputs": [],
   "source": [
    "## Load Neural Data\n",
    "\n",
    "# load\n",
    "last_away_epochs = mne.read_epochs(f\"{preproc_data_dir}/{subject}_bp_filtered_clean_last_away_events.fif\")\n",
    "\n",
    "# get good epochs (for behavioral data only)\n",
    "good_epochs = [i for i,x in enumerate(last_away_epochs.get_annotations_per_epoch()) if not x]\n",
    "bad_epochs = [i for i,x in enumerate(last_away_epochs.get_annotations_per_epoch()) if  x]\n",
    "\n",
    "# load behavioral data\n",
    "last_away_data = pd.read_csv(f\"{raw_data_dir}/behave/{subject}_last_away_events.csv\")\n",
    "\n",
    "# set info as metadata\n",
    "last_away_epochs.metadata = last_away_data\n",
    "\n",
    "# onlt good epochs\n",
    "last_away_epochs = last_away_epochs[good_epochs]"
   ]
  },
  {
   "cell_type": "code",
   "execution_count": null,
   "id": "8893e602-8a16-4617-a697-ad1669c99429",
   "metadata": {
    "tags": []
   },
   "outputs": [],
   "source": [
    "## Dictionary of electrode locations ##\n",
    "\n",
    "# Dictionary mapping ROI to elecs\n",
    "# Pull mapping ROI to elecs\n",
    "%run ../../scripts/roi.py\n",
    "ROIs = ROIs[subject]\n",
    "\n",
    "## prep lists\n",
    "\n",
    "# primary ROI\n",
    "hc_list = []\n",
    "hc_indices = []\n",
    "hc_names = []\n",
    "ofc_list = []\n",
    "ofc_indices = []\n",
    "ofc_names = []\n",
    "amyg_list = []\n",
    "amyg_names = [] \n",
    "amyg_indices = []\n",
    "cing_list = []\n",
    "cing_names = [] \n",
    "cing_indices = []\n",
    "\n",
    "# control ROI\n",
    "insula_list = []\n",
    "insula_names = []  \n",
    "insula_indices = []\n",
    "dlpfc_list = []\n",
    "dlpfc_names = []  \n",
    "dlpfc_indices = []\n",
    "ec_list = []\n",
    "ec_names = []  \n",
    "ec_indices = []\n",
    "\n",
    "# exclude bad ROI from list\n",
    "pairs_long_name = [ch.split('-') for ch in last_away_epochs.info['ch_names']]\n",
    "bidx = len(last_away_epochs.info['bads']) +1\n",
    "pairs_name = pairs_long_name[bidx:len(pairs_long_name)]\n",
    "\n",
    "# sort ROI into lists\n",
    "for ix in range(0, len(pairs_name)):\n",
    "    if pairs_name[ix][0] in ROIs['hc'] or pairs_name[ix][1] in ROIs['hc']:\n",
    "        hc_list.append(last_away_epochs.info['ch_names'][ix + bidx])\n",
    "        hc_names.append(pairs_name[ix])\n",
    "        hc_indices.append(ix)\n",
    "    if pairs_name[ix][0] in ROIs['ofc'] or pairs_name[ix][1] in ROIs['ofc']:\n",
    "        ofc_list.append(last_away_epochs.info['ch_names'][ix + bidx])\n",
    "        ofc_names.append(pairs_name[ix])\n",
    "        ofc_indices.append(ix)\n",
    "    if pairs_name[ix][0] in ROIs['amyg'] or pairs_name[ix][1] in ROIs['amyg']:\n",
    "        amyg_list.append(last_away_epochs.info['ch_names'][ix + bidx])       \n",
    "        amyg_names.append(pairs_name[ix])\n",
    "        amyg_indices.append(ix)\n",
    "    if pairs_name[ix][0] in ROIs['cing'] or pairs_name[ix][1] in ROIs['cing']:\n",
    "        cing_list.append(last_away_epochs.info['ch_names'][ix + bidx])       \n",
    "        cing_names.append(pairs_name[ix])\n",
    "        cing_indices.append(ix)\n",
    "        \n",
    "    # control roi\n",
    "    if pairs_name[ix][0] in ROIs['insula'] or pairs_name[ix][1] in ROIs['insula']:\n",
    "        insula_list.append(last_away_epochs.info['ch_names'][ix + bidx])       \n",
    "        insula_names.append(pairs_name[ix])\n",
    "        insula_indices.append(ix)\n",
    "    if pairs_name[ix][0] in ROIs['dlpfc'] or pairs_name[ix][1] in ROIs['dlpfc']:\n",
    "        dlpfc_list.append(last_away_epochs.info['ch_names'][ix + bidx])       \n",
    "        dlpfc_names.append(pairs_name[ix])\n",
    "        dlpfc_indices.append(ix)\n",
    "    if pairs_name[ix][0] in ROIs['ec'] or pairs_name[ix][1] in ROIs['ec']:\n",
    "        ec_list.append(last_away_epochs.info['ch_names'][ix + bidx])       \n",
    "        ec_names.append(pairs_name[ix])\n",
    "        ec_indices.append(ix)        \n",
    "        "
   ]
  },
  {
   "cell_type": "code",
   "execution_count": null,
   "id": "bce0d660-9909-4a44-8480-5978b9f6928d",
   "metadata": {},
   "outputs": [],
   "source": [
    "## funcions\n",
    "\n",
    "def compute_coherence(epochs, ch_names, roi_indices, freqs, n_cycles,  workers = 8):\n",
    "    \"\"\" function to compute TFR via Morlet wavelets\n",
    "    \n",
    "    epochs:                     MNE epoch object with channels of interest\n",
    "    freqs:                      list of frequencies, should be log spaced\n",
    "    n_cycles:                   number of cycles, adjust with freqs to balance temporal and frequency resolution\n",
    "    workers:                    number of threads to use while calculating TFR\n",
    "    \"\"\"\n",
    "    print('computing TFR')\n",
    "    connect = mne_connectivity.spectral_connectivity_epochs(data = epochs,\n",
    "                                                            names = ch_names,\n",
    "                                                            method = ['coh', 'cohy', 'imcoh', 'plv', 'ciplv', 'ppc', 'pli', 'dpli', 'wpli', 'wpli2_debiased'],\n",
    "                                                            indices = roi_indices,\n",
    "                                                            mode = 'cwt_morlet',\n",
    "                                                            cwt_freqs = freqs,\n",
    "                                                            cwt_n_cycles = n_cycles,\n",
    "                                                            n_jobs = workers)\n",
    "\n",
    "    return connect\n",
    "\n",
    "def extract_freqs(lower_freq, higher_freq, freq_band, subdir, ROI, label, TFR, trials):\n",
    "    \"\"\" function to extract and average the across the freqs within a given band and save out to csvs\n",
    "    step is calculated based on getting ~4 samples per frequency cycle\n",
    "    \n",
    "    lower_freq, higher_freq:    non inclusive lower and upper bounds of the band\n",
    "    freq_band:                  band name, as a string\n",
    "    subdir:                     dir in sub/ieeg/ that specifies the time locking\n",
    "    ROI:                        region name, as a string\n",
    "    label:                      label, eg ghost, no ghost, choice locked etc, as a string\n",
    "    TFR:                        MNE TFR object\n",
    "    \"\"\"\n",
    "    \n",
    "    # calculate step, ## note I made this up, but it seems reasonable?\n",
    "    step = {\n",
    "        'delta'      : int(np.floor(TFR.info['sfreq']/(2*4))),\n",
    "        'theta'      : int(np.floor(TFR.info['sfreq']/(5*4))),\n",
    "        'alpha'      : int(np.floor(TFR.info['sfreq']/(11*4))),\n",
    "        'beta'       : int(np.floor(TFR.info['sfreq']/(22*4))),\n",
    "        'gamma'      : int(np.floor(TFR.info['sfreq']/(50*4))),\n",
    "        'hfa'        : int(np.floor(TFR.info['sfreq']/(110*4)))\n",
    "    }\n",
    "    \n",
    "    # check if it needs to be calculated with subbands\n",
    "    if freq_band == 'gamma' or freq_band == 'hfa':\n",
    "        \n",
    "        if TFR.info['sfreq'] < 1000:\n",
    "                                raise Exception('Sampling Rate is below 1000, should calculate gamma or HFA') \n",
    "        \n",
    "        subband_dict = {\n",
    "            'gamma'    : [(30, 40), (35, 45), (40, 50), (45, 55), (50, 60), (55, 65), (60, 70)],\n",
    "            'hfa'      : [(70, 90), (80, 100), (90, 110), (100, 120), (110, 130), (120, 140), (130, 150)]\n",
    "        }\n",
    "        \n",
    "        for chix in range(len(TFR.ch_names)):\n",
    "            subb_trial_power = []\n",
    "            for subb in subband_dict[freq_band]:\n",
    "                fidx = np.where((freqs > subb[0]) & (freqs < subb[1]))[0]\n",
    "                subb_trial_power.append(TFR.data[:, chix, fidx, :].mean(axis=1))\n",
    "            trial_power = np.mean(subb_trial_power, axis = 0)\n",
    "            channel_df = pd.DataFrame(trial_power[:, ::step[freq_band]])\n",
    "            channel_df[\"trial\"] = trials\n",
    "            channel_df.to_csv(f\"{preproc_data_dir}/{subdir}/{TFR.ch_names[chix]}_{ROI}_trial_{freq_band}_{label}.csv\")\n",
    "    \n",
    "    else:\n",
    "        fidx = np.where((freqs > lower_freq) & (freqs < higher_freq))[0]\n",
    "        for chix in range(len(TFR.ch_names)):\n",
    "            trial_power = TFR.data[:, chix, fidx, :].mean(axis=1)\n",
    "            channel_df = pd.DataFrame(trial_power[:, ::step[freq_band]])\n",
    "            channel_df[\"trial\"] = trials\n",
    "            channel_df.to_csv(f\"{preproc_data_dir}/{subdir}/{TFR.ch_names[chix]}_{ROI}_trial_{freq_band}_{label}.csv\")"
   ]
  },
  {
   "cell_type": "code",
   "execution_count": null,
   "id": "71f46b0b-cb29-472d-9272-83091d512382",
   "metadata": {},
   "outputs": [],
   "source": [
    "# Set frequencies\n",
    "\n",
    "freqs = np.logspace(start = np.log10(1), stop = np.log10(150), num = 80, base = 10, endpoint = True)\n",
    "n_cycles = np.logspace(np.log10(2), np.log10(30), base = 10, num = 80)\n",
    "\n",
    "# formulas to check bandwidth and time bin\n",
    "band_width = (freqs / n_cycles) * 2\n",
    "time_bin = n_cycles / freqs / np.pi\n",
    "print(freqs)\n",
    "print(n_cycles)\n",
    "print(time_bin)\n",
    "print(band_width)\n"
   ]
  },
  {
   "cell_type": "markdown",
   "id": "7de6eb5d-5215-4aca-903d-272be79343f5",
   "metadata": {},
   "source": [
    "# Main Regions of Interest"
   ]
  },
  {
   "cell_type": "markdown",
   "id": "b97e7e09-d76d-4667-a81a-13574f522100",
   "metadata": {
    "tags": []
   },
   "source": [
    "## Hippocampus"
   ]
  },
  {
   "cell_type": "code",
   "execution_count": 14,
   "metadata": {},
   "outputs": [],
   "source": [
    "def shuffle_and_combine_epochs(epoch1, epoch2):\n",
    "    \"\"\"\n",
    "    Shuffles trials in the first epoch object and then combines it with the second epoch object.\n",
    "\n",
    "    Parameters:\n",
    "    epoch1 (mne.Epochs): The first epoch object to be shuffled.\n",
    "    epoch2 (mne.Epochs): The second epoch object to be combined with the shuffled first epoch.\n",
    "\n",
    "    Returns:\n",
    "    mne.Epochs: The combined epoch object after shuffling trials in the first epoch.\n",
    "    \"\"\"\n",
    "\n",
    "    # Shuffle the first epoch\n",
    "    indices = np.arange(len(epoch1))\n",
    "    np.random.shuffle(indices)\n",
    "    shuffled_epoch1 = epoch1[indices]\n",
    "\n",
    "    # Combine the shuffled epoch1 with epoch2\n",
    "    combined_epochs = shuffled_epoch1.add_channels(epoch2)\n",
    "\n",
    "    return combined_epochs"
   ]
  },
  {
   "cell_type": "code",
   "execution_count": null,
   "id": "daccfa9e-745e-4d6b-9444-84c23a01eed4",
   "metadata": {},
   "outputs": [],
   "source": [
    "# only ROI of interest\n",
    "last_away_ofc = last_away_epochs.copy().pick_channels(ofc_list)\n",
    "last_away_hc = last_away_epochs.copy().pick_channels(hc_list)\n"
   ]
  },
  {
   "cell_type": "code",
   "execution_count": null,
   "metadata": {},
   "outputs": [],
   "source": [
    "last_away_hc._data[1, 1:10, 1]"
   ]
  },
  {
   "cell_type": "code",
   "execution_count": null,
   "id": "7c779423-9c6d-4e74-a77a-e9f8e5204745",
   "metadata": {},
   "outputs": [],
   "source": [
    "last_away_roi = shuffle_and_combine_epochs(last_away_hc, last_away_ofc)"
   ]
  },
  {
   "cell_type": "code",
   "execution_count": null,
   "metadata": {},
   "outputs": [],
   "source": [
    "last_away_roi._data[1, 1:10, 1]"
   ]
  },
  {
   "cell_type": "code",
   "execution_count": null,
   "metadata": {},
   "outputs": [],
   "source": [
    "hc_index_list = np.array([item for idx, roi in enumerate(last_away_roi.info.ch_names) \n",
    "                  if roi in hc_list \n",
    "                  for item in [idx] * len(ofc_list)])\n",
    "\n",
    "ofc_index_list = np.array([idx for idx, roi in enumerate(last_away_roi.info.ch_names) \n",
    "                  if roi in ofc_list] * len(hc_list))\n",
    "\n",
    "\n",
    "len(ofc_index_list) == len(hc_index_list)\n"
   ]
  },
  {
   "cell_type": "code",
   "execution_count": null,
   "id": "83a5f686-4485-4585-a53f-1027b198a1ae",
   "metadata": {},
   "outputs": [],
   "source": [
    "# Resample to 1000 \n",
    "if last_away_roi.info['sfreq'] > 1000:\n",
    "    last_away_roi= last_away_roi.resample(512)"
   ]
  },
  {
   "cell_type": "code",
   "execution_count": null,
   "metadata": {},
   "outputs": [],
   "source": [
    "theta_freqs = freqs[np.where((freqs > 3) & (freqs < 8))]\n",
    "theta_cycles = n_cycles[np.where((freqs > 3) & (freqs < 8))]"
   ]
  },
  {
   "cell_type": "code",
   "execution_count": null,
   "id": "569e59da-4043-4b67-99aa-ebab0a5d696d",
   "metadata": {},
   "outputs": [],
   "source": [
    "# compute TRF\n",
    "\n",
    "roi_coherence = []\n",
    "roi_coherence = compute_coherence(last_away_roi, last_away_roi.info.ch_names, (hc_index_list, ofc_index_list), theta_freqs, theta_cycles, workers = 8)\n"
   ]
  },
  {
   "cell_type": "code",
   "execution_count": null,
   "metadata": {},
   "outputs": [],
   "source": [
    "pairs = [(a,b) for a in hc_list for b in ofc_list]\n",
    "pairs"
   ]
  },
  {
   "cell_type": "code",
   "execution_count": null,
   "metadata": {},
   "outputs": [],
   "source": [
    "tmp = roi_coherence[0].get_data()\n",
    "\n",
    "    \n",
    "fig, ax = plt.subplots(figsize = (22, 20))\n",
    "i = ax.imshow(tmp[:, :, 1536:3584].mean(axis = 0), cmap = 'RdBu_r', interpolation=\"none\", origin=\"lower\", aspect = 'auto', extent=[-2, 2, theta_freqs[0], theta_freqs[-1]])\n",
    "ax.set_yticks(np.linspace(np.min(theta_freqs),np.max(theta_freqs),len(theta_freqs)))\n",
    "ax.set_yticklabels(np.round(theta_freqs))\n",
    "bar = plt.colorbar(i)\n",
    "ax.set_title(f\"Coherence: average HC - OFC\", fontsize=22, fontweight = 'bold')\n",
    "fig.show()"
   ]
  },
  {
   "cell_type": "code",
   "execution_count": null,
   "id": "2488a7ee-adf5-416d-b5e1-1fbaaca712eb",
   "metadata": {},
   "outputs": [],
   "source": [
    "plt.rcParams['figure.figsize'] = [22, 20]\n",
    "plt.rcParams.update({'font.size': 18})\n",
    "\n",
    "tmp = roi_coherence[0].get_data()\n",
    "\n",
    "for idx, pair in enumerate(pairs):\n",
    "    \n",
    "    fig, ax = plt.subplots(figsize = (22, 20))\n",
    "    i = ax.imshow(tmp[idx, :, 1536:3584], cmap = 'RdBu_r', interpolation=\"none\", origin=\"lower\", aspect = 'auto', extent=[-2, 2, theta_freqs[0], theta_freqs[-1]])\n",
    "    ax.set_yticks(np.linspace(np.min(theta_freqs),np.max(theta_freqs),len(theta_freqs)))\n",
    "    ax.set_yticklabels(np.round(theta_freqs))\n",
    "    bar = plt.colorbar(i)\n",
    "    ax.set_title(f\"Coherence: {pair}\", fontsize=22, fontweight = 'bold')\n",
    "    fig.show()\n",
    "\n",
    "\n"
   ]
  },
  {
   "cell_type": "code",
   "execution_count": null,
   "metadata": {},
   "outputs": [],
   "source": [
    "\n",
    "tmp = np.imag(roi_coherence[1].get_data())\n",
    "    \n",
    "fig, ax = plt.subplots(figsize = (22, 20))\n",
    "i = ax.imshow(tmp[:, :, 1536:3584].mean(axis = 0), cmap = 'RdBu_r', interpolation=\"none\", origin=\"lower\", aspect = 'auto', extent=[-2, 2, theta_freqs[0], theta_freqs[-1]])\n",
    "ax.set_yticks(np.linspace(np.min(theta_freqs),np.max(theta_freqs),len(theta_freqs)))\n",
    "ax.set_yticklabels(np.round(theta_freqs))\n",
    "bar = plt.colorbar(i)\n",
    "ax.set_title(f\"Coherencey: average OFC-HC\", fontsize=22, fontweight = 'bold')\n",
    "fig.show()"
   ]
  },
  {
   "cell_type": "code",
   "execution_count": null,
   "id": "634bf9c1-23a9-4984-9576-e680641f2692",
   "metadata": {},
   "outputs": [],
   "source": [
    "plt.rcParams['figure.figsize'] = [22, 20]\n",
    "plt.rcParams.update({'font.size': 18})\n",
    "\n",
    "tmp = np.imag(roi_coherence[1].get_data())\n",
    "\n",
    "for idx, pair in enumerate(pairs):\n",
    "    \n",
    "    fig, ax = plt.subplots(figsize = (22, 20))\n",
    "    i = ax.imshow(tmp[idx, :, 1536:3584], cmap = 'RdBu_r', interpolation=\"none\", origin=\"lower\", aspect = 'auto', extent=[-2, 2, theta_freqs[0], theta_freqs[-1]])\n",
    "    ax.set_yticks(np.linspace(np.min(theta_freqs),np.max(theta_freqs),len(theta_freqs)))\n",
    "    ax.set_yticklabels(np.round(theta_freqs))\n",
    "    bar = plt.colorbar(i)\n",
    "    ax.set_title(f\"Coherencey: {pair}\", fontsize=22, fontweight = 'bold')\n",
    "    fig.show()"
   ]
  },
  {
   "cell_type": "code",
   "execution_count": null,
   "metadata": {},
   "outputs": [],
   "source": [
    "\n",
    "tmp = roi_coherence[2].get_data()\n",
    "    \n",
    "fig, ax = plt.subplots(figsize = (22, 20))\n",
    "i = ax.imshow(tmp[:, :, 1536:3584].mean(axis = 0), cmap = 'RdBu_r', interpolation=\"none\", origin=\"lower\", aspect = 'auto', extent=[-2, 2, theta_freqs[0], theta_freqs[-1]])\n",
    "ax.set_yticks(np.linspace(np.min(theta_freqs),np.max(theta_freqs),len(theta_freqs)))\n",
    "ax.set_yticklabels(np.round(theta_freqs))\n",
    "bar = plt.colorbar(i)\n",
    "ax.set_title(f\"Imaginary Coherence: average OFC-HC\", fontsize=22, fontweight = 'bold')\n",
    "fig.show()"
   ]
  },
  {
   "cell_type": "code",
   "execution_count": null,
   "metadata": {},
   "outputs": [],
   "source": [
    "tmp = roi_coherence[2].get_data()\n",
    "    \n",
    "avg_theta  = tmp[:, :, 1536:3584].mean(axis = 0).mean(axis = 0)   \n",
    "length = len(avg_theta)\n",
    "new_x = np.linspace(-2, 2, length) \n",
    "fig, ax = plt.subplots(figsize = (22, 20))\n",
    "ax.grid()\n",
    "i = plt.axvline(x=0, color='black', linestyle='--', linewidth = 5)\n",
    "ax.plot(new_x, avg_theta, color = '#A03E99', linewidth = 3)\n",
    "ax.set_title(f\"Imaginary Coherence: average OFC-HC\", fontsize=22, fontweight = 'bold')\n",
    "fig.show()"
   ]
  },
  {
   "cell_type": "code",
   "execution_count": null,
   "metadata": {},
   "outputs": [],
   "source": [
    "plt.rcParams['figure.figsize'] = [22, 20]\n",
    "plt.rcParams.update({'font.size': 18})\n",
    "\n",
    "tmp = roi_coherence[2].get_data()\n",
    "\n",
    "for idx, pair in enumerate(pairs):\n",
    "    \n",
    "    fig, ax = plt.subplots(figsize = (22, 20))\n",
    "    i = ax.imshow(tmp[idx, :, 1536:3584], cmap = 'RdBu_r', interpolation=\"none\", origin=\"lower\", aspect = 'auto', extent=[-2, 2, theta_freqs[0], theta_freqs[-1]])\n",
    "    ax.set_yticks(np.linspace(np.min(theta_freqs),np.max(theta_freqs),len(theta_freqs)))\n",
    "    ax.set_yticklabels(np.round(theta_freqs))\n",
    "    bar = plt.colorbar(i)\n",
    "    ax.set_title(f\"Imaginary Coherence: {pair}\", fontsize=22, fontweight = 'bold')\n",
    "    fig.show()"
   ]
  },
  {
   "cell_type": "code",
   "execution_count": null,
   "metadata": {},
   "outputs": [],
   "source": [
    "\n",
    "tmp = roi_coherence[3].get_data()\n",
    "    \n",
    "fig, ax = plt.subplots(figsize = (22, 20))\n",
    "i = ax.imshow(tmp[:, :, 1536:3584].mean(axis = 0), cmap = 'RdBu_r', interpolation=\"none\", origin=\"lower\", aspect = 'auto', extent=[-2, 2, theta_freqs[0], theta_freqs[-1]])\n",
    "ax.set_yticks(np.linspace(np.min(theta_freqs),np.max(theta_freqs),len(theta_freqs)))\n",
    "ax.set_yticklabels(np.round(theta_freqs))\n",
    "bar = plt.colorbar(i)\n",
    "ax.set_title(f\"PLV: average OFC-HC\", fontsize=22, fontweight = 'bold')\n",
    "fig.show()"
   ]
  },
  {
   "cell_type": "code",
   "execution_count": null,
   "metadata": {},
   "outputs": [],
   "source": [
    "tmp = roi_coherence[3].get_data()\n",
    "    \n",
    "avg_theta  = tmp[:, :, 1536:3584].mean(axis = 0).mean(axis = 0)   \n",
    "length = len(avg_theta)\n",
    "new_x = np.linspace(-2, 2, length) \n",
    "fig, ax = plt.subplots(figsize = (22, 20))\n",
    "ax.grid()\n",
    "i = plt.axvline(x=0, color='black', linestyle='--', linewidth = 5)\n",
    "ax.plot(new_x, avg_theta, color = '#A03E99', linewidth = 3)\n",
    "ax.set_title(f\"PLV: average OFC-HC\", fontsize=22, fontweight = 'bold')\n",
    "fig.show()"
   ]
  },
  {
   "cell_type": "code",
   "execution_count": null,
   "metadata": {},
   "outputs": [],
   "source": [
    "plt.rcParams['figure.figsize'] = [22, 20]\n",
    "plt.rcParams.update({'font.size': 18})\n",
    "\n",
    "tmp = roi_coherence[3].get_data()\n",
    "\n",
    "for idx, pair in enumerate(pairs):\n",
    "    \n",
    "    fig, ax = plt.subplots(figsize = (22, 20))\n",
    "    i = ax.imshow(tmp[idx, :, 1536:3584], cmap = 'RdBu_r', interpolation=\"none\", origin=\"lower\", aspect = 'auto', extent=[-2, 2, theta_freqs[0], theta_freqs[-1]])\n",
    "    ax.set_yticks(np.linspace(np.min(theta_freqs),np.max(theta_freqs),len(theta_freqs)))\n",
    "    ax.set_yticklabels(np.round(theta_freqs))\n",
    "    bar = plt.colorbar(i)\n",
    "    ax.set_title(f\"PLV: {pair}\", fontsize=22, fontweight = 'bold')\n",
    "    fig.show()"
   ]
  },
  {
   "cell_type": "code",
   "execution_count": null,
   "metadata": {},
   "outputs": [],
   "source": [
    "\n",
    "tmp = roi_coherence[4].get_data()\n",
    "    \n",
    "fig, ax = plt.subplots(figsize = (22, 20))\n",
    "i = ax.imshow(tmp[:, :, 1536:3584].mean(axis = 0), cmap = 'RdBu_r', interpolation=\"none\", origin=\"lower\", aspect = 'auto', extent=[-2, 2, theta_freqs[0], theta_freqs[-1]])\n",
    "ax.set_yticks(np.linspace(np.min(theta_freqs),np.max(theta_freqs),len(theta_freqs)))\n",
    "ax.set_yticklabels(np.round(theta_freqs))\n",
    "bar = plt.colorbar(i)\n",
    "ax.set_title(f\"Corrected PLV: average OFC-HC\", fontsize=22, fontweight = 'bold')\n",
    "fig.show()"
   ]
  },
  {
   "cell_type": "code",
   "execution_count": null,
   "metadata": {},
   "outputs": [],
   "source": [
    "tmp = roi_coherence[4].get_data()\n",
    "    \n",
    "avg_theta  = tmp[:, :, 1536:3584].mean(axis = 0).mean(axis = 0)   \n",
    "length = len(avg_theta)\n",
    "new_x = np.linspace(-2, 2, length) \n",
    "fig, ax = plt.subplots(figsize = (22, 20))\n",
    "ax.grid()\n",
    "i = plt.axvline(x=0, color='black', linestyle='--', linewidth = 5)\n",
    "ax.plot(new_x, avg_theta, color = '#A03E99', linewidth = 3)\n",
    "ax.set_title(f\"Corrected PLV: average OFC-HC\", fontsize=22, fontweight = 'bold')\n",
    "fig.show()"
   ]
  },
  {
   "cell_type": "code",
   "execution_count": null,
   "metadata": {},
   "outputs": [],
   "source": [
    "plt.rcParams['figure.figsize'] = [22, 20]\n",
    "plt.rcParams.update({'font.size': 18})\n",
    "\n",
    "tmp = roi_coherence[4].get_data()\n",
    "\n",
    "for idx, pair in enumerate(pairs):\n",
    "    \n",
    "    fig, ax = plt.subplots(figsize = (22, 20))\n",
    "    i = ax.imshow(tmp[idx, :, 1536:3584], cmap = 'RdBu_r', interpolation=\"none\", origin=\"lower\", aspect = 'auto', extent=[-2, 2, theta_freqs[0], theta_freqs[-1]])\n",
    "    ax.set_yticks(np.linspace(np.min(theta_freqs),np.max(theta_freqs),len(theta_freqs)))\n",
    "    ax.set_yticklabels(np.round(theta_freqs))\n",
    "    bar = plt.colorbar(i)\n",
    "    ax.set_title(f\"Corrected PLV: {pair}\", fontsize=22, fontweight = 'bold')\n",
    "    fig.show()"
   ]
  },
  {
   "cell_type": "code",
   "execution_count": null,
   "metadata": {},
   "outputs": [],
   "source": [
    "\n",
    "tmp = roi_coherence[5].get_data()\n",
    "    \n",
    "fig, ax = plt.subplots(figsize = (22, 20))\n",
    "i = ax.imshow(tmp[:, :, 1536:3584].mean(axis = 0), cmap = 'RdBu_r', interpolation=\"none\", origin=\"lower\", aspect = 'auto', extent=[-2, 2, theta_freqs[0], theta_freqs[-1]])\n",
    "ax.set_yticks(np.linspace(np.min(theta_freqs),np.max(theta_freqs),len(theta_freqs)))\n",
    "ax.set_yticklabels(np.round(theta_freqs))\n",
    "bar = plt.colorbar(i)\n",
    "ax.set_title(f\"Pairwise Phase Consistency: average OFC-HC\", fontsize=22, fontweight = 'bold')\n",
    "fig.show()"
   ]
  },
  {
   "cell_type": "code",
   "execution_count": null,
   "metadata": {},
   "outputs": [],
   "source": [
    "tmp = roi_coherence[5].get_data()\n",
    "    \n",
    "avg_theta  = tmp[:, :, 1536:3584].mean(axis = 0).mean(axis = 0)   \n",
    "length = len(avg_theta)\n",
    "new_x = np.linspace(-2, 2, length) \n",
    "fig, ax = plt.subplots(figsize = (22, 20))\n",
    "ax.grid()\n",
    "i = plt.axvline(x=0, color='black', linestyle='--', linewidth = 5)\n",
    "ax.plot(new_x, avg_theta, color = '#A03E99', linewidth = 3)\n",
    "ax.set_title(f\"Pairwise Phase Consistency: average OFC-HC\", fontsize=22, fontweight = 'bold')\n",
    "fig.show()"
   ]
  },
  {
   "cell_type": "code",
   "execution_count": null,
   "metadata": {},
   "outputs": [],
   "source": [
    "plt.rcParams['figure.figsize'] = [22, 20]\n",
    "plt.rcParams.update({'font.size': 18})\n",
    "\n",
    "tmp = roi_coherence[5].get_data()\n",
    "\n",
    "for idx, pair in enumerate(pairs):\n",
    "    \n",
    "    fig, ax = plt.subplots(figsize = (22, 20))\n",
    "    i = ax.imshow(tmp[idx, :, 1536:3584], cmap = 'RdBu_r', interpolation=\"none\", origin=\"lower\", aspect = 'auto', extent=[-2, 2, theta_freqs[0], theta_freqs[-1]])\n",
    "    ax.set_yticks(np.linspace(np.min(theta_freqs),np.max(theta_freqs),len(theta_freqs)))\n",
    "    ax.set_yticklabels(np.round(theta_freqs))\n",
    "    bar = plt.colorbar(i)\n",
    "    ax.set_title(f\"Pairwise Phase Consistency: {pair}\", fontsize=22, fontweight = 'bold')\n",
    "    fig.show()"
   ]
  },
  {
   "cell_type": "code",
   "execution_count": null,
   "metadata": {},
   "outputs": [],
   "source": [
    "\n",
    "tmp = roi_coherence[6].get_data()\n",
    "    \n",
    "fig, ax = plt.subplots(figsize = (22, 20))\n",
    "i = ax.imshow(tmp[:, :, 1536:3584].mean(axis = 0), cmap = 'RdBu_r', interpolation=\"none\", origin=\"lower\", aspect = 'auto', extent=[-2, 2, theta_freqs[0], theta_freqs[-1]])\n",
    "ax.set_yticks(np.linspace(np.min(theta_freqs),np.max(theta_freqs),len(theta_freqs)))\n",
    "ax.set_yticklabels(np.round(theta_freqs))\n",
    "bar = plt.colorbar(i)\n",
    "ax.set_title(f\"Phase Lag Index: average OFC-HC\", fontsize=22, fontweight = 'bold')\n",
    "fig.show()"
   ]
  },
  {
   "cell_type": "code",
   "execution_count": null,
   "metadata": {},
   "outputs": [],
   "source": [
    "tmp = roi_coherence[6].get_data()\n",
    "    \n",
    "avg_theta  = tmp[:, :, 1536:3584].mean(axis = 0).mean(axis = 0)   \n",
    "length = len(avg_theta)\n",
    "new_x = np.linspace(-2, 2, length) \n",
    "fig, ax = plt.subplots(figsize = (22, 20))\n",
    "ax.grid()\n",
    "i = plt.axvline(x=0, color='black', linestyle='--', linewidth = 5)\n",
    "ax.plot(new_x, avg_theta, color = '#A03E99', linewidth = 3)\n",
    "ax.set_title(f\" Phase Lad Index: average OFC-HC\", fontsize=22, fontweight = 'bold')\n",
    "fig.show()"
   ]
  },
  {
   "cell_type": "code",
   "execution_count": null,
   "metadata": {},
   "outputs": [],
   "source": [
    "plt.rcParams['figure.figsize'] = [22, 20]\n",
    "plt.rcParams.update({'font.size': 18})\n",
    "\n",
    "tmp = roi_coherence[6].get_data()\n",
    "\n",
    "for idx, pair in enumerate(pairs):\n",
    "    \n",
    "    fig, ax = plt.subplots(figsize = (22, 20))\n",
    "    i = ax.imshow(tmp[idx, :, 1536:3584], cmap = 'RdBu_r', interpolation=\"none\", origin=\"lower\", aspect = 'auto', extent=[-2, 2, theta_freqs[0], theta_freqs[-1]])\n",
    "    ax.set_yticks(np.linspace(np.min(theta_freqs),np.max(theta_freqs),len(theta_freqs)))\n",
    "    ax.set_yticklabels(np.round(theta_freqs))\n",
    "    bar = plt.colorbar(i)\n",
    "    ax.set_title(f\"Phase Lag Index: {pair}\", fontsize=22, fontweight = 'bold')\n",
    "    fig.show()"
   ]
  },
  {
   "cell_type": "code",
   "execution_count": null,
   "metadata": {},
   "outputs": [],
   "source": [
    "\n",
    "tmp = roi_coherence[7].get_data()\n",
    "    \n",
    "fig, ax = plt.subplots(figsize = (22, 20))\n",
    "i = ax.imshow(tmp[:, :, 1536:3584].mean(axis = 0), cmap = 'RdBu_r', interpolation=\"none\", origin=\"lower\", aspect = 'auto', extent=[-2, 2, theta_freqs[0], theta_freqs[-1]])\n",
    "ax.set_yticks(np.linspace(np.min(theta_freqs),np.max(theta_freqs),len(theta_freqs)))\n",
    "ax.set_yticklabels(np.round(theta_freqs))\n",
    "bar = plt.colorbar(i)\n",
    "ax.set_title(f\"Directed Phase Lag Index: average OFC-HC\", fontsize=22, fontweight = 'bold')\n",
    "fig.show()"
   ]
  },
  {
   "cell_type": "code",
   "execution_count": null,
   "metadata": {},
   "outputs": [],
   "source": [
    "tmp = roi_coherence[7].get_data()\n",
    "    \n",
    "avg_theta  = tmp[:, :, 1536:3584].mean(axis = 0).mean(axis = 0)   \n",
    "length = len(avg_theta)\n",
    "new_x = np.linspace(-2, 2, length) \n",
    "fig, ax = plt.subplots(figsize = (22, 20))\n",
    "ax.grid()\n",
    "i = plt.axvline(x=0, color='black', linestyle='--', linewidth = 5)\n",
    "ax.plot(new_x, avg_theta, color = '#A03E99', linewidth = 3)\n",
    "ax.set_title(f\"Directed Phase Lag Index: average OFC-HC\", fontsize=22, fontweight = 'bold')\n",
    "fig.show()"
   ]
  },
  {
   "cell_type": "code",
   "execution_count": null,
   "metadata": {},
   "outputs": [],
   "source": [
    "plt.rcParams['figure.figsize'] = [22, 20]\n",
    "plt.rcParams.update({'font.size': 18})\n",
    "\n",
    "tmp = roi_coherence[7].get_data()\n",
    "\n",
    "for idx, pair in enumerate(pairs):\n",
    "    \n",
    "    fig, ax = plt.subplots(figsize = (22, 20))\n",
    "    i = ax.imshow(tmp[idx, :, 1536:3584], cmap = 'RdBu_r', interpolation=\"none\", origin=\"lower\", aspect = 'auto', extent=[-2, 2, theta_freqs[0], theta_freqs[-1]])\n",
    "    ax.set_yticks(np.linspace(np.min(theta_freqs),np.max(theta_freqs),len(theta_freqs)))\n",
    "    ax.set_yticklabels(np.round(theta_freqs))\n",
    "    bar = plt.colorbar(i)\n",
    "    ax.set_title(f\"Directed Phase Lag Index: {pair}\", fontsize=22, fontweight = 'bold')\n",
    "    fig.show()"
   ]
  },
  {
   "cell_type": "code",
   "execution_count": null,
   "metadata": {},
   "outputs": [],
   "source": [
    "\n",
    "tmp = roi_coherence[8].get_data()\n",
    "    \n",
    "fig, ax = plt.subplots(figsize = (22, 20))\n",
    "i = ax.imshow(tmp[:, :, 1536:3584].mean(axis = 0), cmap = 'RdBu_r', interpolation=\"none\", origin=\"lower\", aspect = 'auto', extent=[-2, 2, theta_freqs[0], theta_freqs[-1]])\n",
    "ax.set_yticks(np.linspace(np.min(theta_freqs),np.max(theta_freqs),len(theta_freqs)))\n",
    "ax.set_yticklabels(np.round(theta_freqs))\n",
    "bar = plt.colorbar(i)\n",
    "ax.set_title(f\"Weighted Phase Lag Index: average OFC-HC\", fontsize=22, fontweight = 'bold')\n",
    "fig.show()"
   ]
  },
  {
   "cell_type": "code",
   "execution_count": null,
   "metadata": {},
   "outputs": [],
   "source": [
    "plt.rcParams['figure.figsize'] = [22, 20]\n",
    "plt.rcParams.update({'font.size': 18})\n",
    "\n",
    "tmp = roi_coherence[8].get_data()\n",
    "\n",
    "for idx, pair in enumerate(pairs):\n",
    "    \n",
    "    fig, ax = plt.subplots(figsize = (22, 20))\n",
    "    i = ax.imshow(tmp[idx, :, 1536:3584], cmap = 'RdBu_r', interpolation=\"none\", origin=\"lower\", aspect = 'auto', extent=[-2, 2, theta_freqs[0], theta_freqs[-1]])\n",
    "    ax.set_yticks(np.linspace(np.min(theta_freqs),np.max(theta_freqs),len(theta_freqs)))\n",
    "    ax.set_yticklabels(np.round(theta_freqs))\n",
    "    bar = plt.colorbar(i)\n",
    "    ax.set_title(f\"Weighted Phase Lag Index: {pair}\", fontsize=22, fontweight = 'bold')\n",
    "    fig.show()"
   ]
  },
  {
   "cell_type": "code",
   "execution_count": null,
   "metadata": {},
   "outputs": [],
   "source": [
    "\n",
    "tmp = roi_coherence[9].get_data()\n",
    "    \n",
    "fig, ax = plt.subplots(figsize = (22, 20))\n",
    "i = ax.imshow(tmp[:, :, 1536:3584].mean(axis = 0), cmap = 'RdBu_r', interpolation=\"none\", origin=\"lower\", aspect = 'auto', extent=[-2, 2, theta_freqs[0], theta_freqs[-1]])\n",
    "ax.set_yticks(np.linspace(np.min(theta_freqs),np.max(theta_freqs),len(theta_freqs)))\n",
    "ax.set_yticklabels(np.round(theta_freqs))\n",
    "bar = plt.colorbar(i)\n",
    "ax.set_title(f\"Weighted + Corrected Phase Lag Index: average OFC-HC\", fontsize=22, fontweight = 'bold')\n",
    "fig.show()"
   ]
  },
  {
   "cell_type": "code",
   "execution_count": null,
   "metadata": {},
   "outputs": [],
   "source": [
    "plt.rcParams['figure.figsize'] = [22, 20]\n",
    "plt.rcParams.update({'font.size': 18})\n",
    "\n",
    "tmp = roi_coherence[9].get_data()\n",
    "\n",
    "for idx, pair in enumerate(pairs):\n",
    "    \n",
    "    fig, ax = plt.subplots(figsize = (22, 20))\n",
    "    i = ax.imshow(tmp[idx, :, 1536:3584], cmap = 'RdBu_r', interpolation=\"none\", origin=\"lower\", aspect = 'auto', extent=[-2, 2, theta_freqs[0], theta_freqs[-1]])\n",
    "    ax.set_yticks(np.linspace(np.min(theta_freqs),np.max(theta_freqs),len(theta_freqs)))\n",
    "    ax.set_yticklabels(np.round(theta_freqs))\n",
    "    bar = plt.colorbar(i)\n",
    "    ax.set_title(f\"Weighted + Corrected Phase Lag Index: {pair}\", fontsize=22, fontweight = 'bold')\n",
    "    fig.show()"
   ]
  },
  {
   "cell_type": "code",
   "execution_count": null,
   "metadata": {},
   "outputs": [],
   "source": []
  }
 ],
 "metadata": {
  "kernelspec": {
   "display_name": "ieeg_analysis2",
   "language": "python",
   "name": "python3"
  },
  "language_info": {
   "codemirror_mode": {
    "name": "ipython",
    "version": 3
   },
   "file_extension": ".py",
   "mimetype": "text/x-python",
   "name": "python",
   "nbconvert_exporter": "python",
   "pygments_lexer": "ipython3",
   "version": "3.9.18"
  }
 },
 "nbformat": 4,
 "nbformat_minor": 5
}

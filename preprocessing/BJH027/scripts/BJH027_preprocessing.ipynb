{
 "cells": [
  {
   "cell_type": "markdown",
   "id": "5caa54ea-80d7-4318-b427-5411b5caea1d",
   "metadata": {},
   "source": [
    "# Preprocessing: BJH027\n",
    "\n",
    "\n",
    "This markdown files loads the clean data and does a bipolar rereference as well as epochs the data\n"
   ]
  },
  {
   "cell_type": "code",
   "execution_count": 2,
   "id": "7124d816-0294-4977-b65a-64ec8a13910a",
   "metadata": {
    "tags": []
   },
   "outputs": [],
   "source": [
    "import matplotlib\n",
    "matplotlib.use(\"Qt5Agg\")\n",
    "import matplotlib.pyplot as plt\n",
    "import pandas as pd\n",
    "import numpy as np\n",
    "from scipy import signal, stats\n",
    "import mat73\n",
    "import re\n",
    "from neurodsp.timefrequency import compute_wavelet_transform\n",
    "import os\n",
    "import mne\n",
    "import IPython\n",
    "import seaborn as sns"
   ]
  },
  {
   "cell_type": "code",
   "execution_count": 3,
   "id": "d7d0fa71-30b2-4684-ad96-1e5b7c05a39a",
   "metadata": {
    "tags": []
   },
   "outputs": [],
   "source": [
    "## Prep paths ##\n",
    "\n",
    "subject = 'BJH027'\n",
    "raw_data_dir = f\"/home/brooke/pacman/raw_data/{subject}\"\n",
    "preproc_data_dir = f\"/home/brooke/pacman/preprocessing/{subject}/ieeg\""
   ]
  },
  {
   "cell_type": "code",
   "execution_count": 3,
   "id": "63fce4c8-66c4-48df-80f5-a5f545d76d3d",
   "metadata": {
    "tags": []
   },
   "outputs": [
    {
     "name": "stdout",
     "output_type": "stream",
     "text": [
      "Opening raw data file /home/brooke/pacman/raw_data/BJH027/ieeg/BJH027_notched_filtered_clean_ieeg.fif...\n",
      "    Range : 0 ... 2085999 =      0.000 ...  1042.999 secs\n",
      "Ready.\n",
      "Opening raw data file /home/brooke/pacman/raw_data/BJH027/ieeg/BJH027_notched_filtered_clean_ieeg-1.fif...\n",
      "    Range : 2086000 ... 2983799 =   1043.000 ...  1491.899 secs\n",
      "Ready.\n",
      "Opening raw data file /home/brooke/pacman/raw_data/BJH027/ieeg/BJH027_raw_clean_ieeg.fif...\n",
      "    Range : 0 ... 2085999 =      0.000 ...  1042.999 secs\n",
      "Ready.\n",
      "Opening raw data file /home/brooke/pacman/raw_data/BJH027/ieeg/BJH027_raw_clean_ieeg-1.fif...\n",
      "    Range : 2086000 ... 2983799 =   1043.000 ...  1491.899 secs\n",
      "Ready.\n"
     ]
    }
   ],
   "source": [
    "## Load Data ##\n",
    "\n",
    "# load filtered data #\n",
    "filtered_clean_fif = mne.io.Raw(f\"{raw_data_dir}/ieeg/{subject}_notched_filtered_clean_ieeg.fif\")\n",
    "\n",
    "# load raw data #\n",
    "raw_clean_fif = mne.io.Raw(f\"{raw_data_dir}/ieeg/{subject}_raw_clean_ieeg.fif\")\n",
    "\n"
   ]
  },
  {
   "cell_type": "markdown",
   "id": "466e2db7-335c-450b-a643-cf3b6dd43c4e",
   "metadata": {},
   "source": [
    "## Bipolar Rereferencing"
   ]
  },
  {
   "cell_type": "code",
   "execution_count": 4,
   "id": "a8b94f89-1f90-4cac-bd34-1ac9d851b174",
   "metadata": {
    "tags": []
   },
   "outputs": [],
   "source": [
    "# helper functions\n",
    "\n",
    "def probe_and_num(elec_str): \n",
    "    ''' This convenience function takes an electrode string like LHH1 and outputs ('LHH', 1)\n",
    "    '''\n",
    "    if '_' in elec_str:\n",
    "        return None, None\n",
    "    else:   \n",
    "        regex_str = '(\\D+)(\\d+)' # group of letters followed by group of digits\n",
    "        matcher = re.compile(regex_str,re.IGNORECASE|re.DOTALL).search(elec_str)\n",
    "        if matcher:\n",
    "            probe, num = matcher.groups()\n",
    "            return probe, int(num)\n",
    "        else:\n",
    "            return None, None\n",
    "    \n",
    "def find_bipolar_pair(ch, labels, remove):\n",
    "    ''' Find the pair of a given electrode for bipolar referencing.\n",
    "        Given a single *ch* and a list of *labels*, some of which you want to *remove*,\n",
    "        this finds the next channel on that probe that isn't meant to be removed (WM is ok).\n",
    "    '''\n",
    "    bipolar_pair = None\n",
    "    probe, num = probe_and_num(ch)\n",
    "    other_in_probe = [other_ch for other_ch in labels if probe_and_num(other_ch)[0]==probe]\n",
    "    for i in range(len(other_in_probe)-num):\n",
    "        next_ch = probe + str(num+i+1)\n",
    "        if next_ch in remove or next_ch == 'STI':\n",
    "            continue\n",
    "        else:\n",
    "            bipolar_pair = next_ch\n",
    "            break\n",
    "    return bipolar_pair"
   ]
  },
  {
   "cell_type": "code",
   "execution_count": 5,
   "id": "f1eefdfe-b251-4f28-8f1b-2608f94da503",
   "metadata": {
    "tags": []
   },
   "outputs": [
    {
     "name": "stdout",
     "output_type": "stream",
     "text": [
      "EMPTY noref\n",
      "EMPTY_2 noref\n",
      "EMPTY_3 noref\n",
      "EMPTY_4 noref\n",
      "REF1 noref\n",
      "REF2 noref\n",
      "AL1 AL2\n",
      "AL2 AL3\n",
      "AL3 AL4\n",
      "AL4 AL5\n",
      "AL5 AL6\n",
      "AL6 AL7\n",
      "AL7 AL8\n",
      "AL8 AL9\n",
      "AL9 AL10\n",
      "AL10 AL11\n",
      "AL11 AL12\n",
      "AL12 AL13\n",
      "AL13 AL14\n",
      "BL1 BL2\n",
      "BL2 BL3\n",
      "BL3 BL4\n",
      "BL4 BL5\n",
      "BL5 BL6\n",
      "BL6 BL7\n",
      "BL7 BL8\n",
      "BL8 BL9\n",
      "BL9 BL10\n",
      "BL10 BL11\n",
      "BL11 BL12\n",
      "BL12 BL13\n",
      "BL13 BL14\n",
      "BL14 BL15\n",
      "BL15 BL16\n",
      "CL1 CL2\n",
      "CL2 CL3\n",
      "CL3 CL4\n",
      "CL4 CL5\n",
      "CL5 CL6\n",
      "CL6 CL7\n",
      "CL7 CL8\n",
      "CL8 CL9\n",
      "CL9 CL10\n",
      "CL10 CL11\n",
      "CL11 CL12\n",
      "CL12 CL13\n",
      "CL13 CL14\n",
      "CL14 CL15\n",
      "CL15 CL16\n",
      "DL1 DL2\n",
      "DL2 DL3\n",
      "DL3 DL4\n",
      "DL4 DL5\n",
      "DL5 DL6\n",
      "DL6 DL7\n",
      "DL7 DL8\n",
      "DL8 DL9\n",
      "DL9 DL10\n",
      "DL10 DL11\n",
      "DL11 DL12\n",
      "DL12 DL13\n",
      "DL13 DL14\n",
      "DL14 DL15\n",
      "DL15 DL16\n",
      "EL1 EL2\n",
      "EL2 EL3\n",
      "EL3 EL4\n",
      "EL4 EL5\n",
      "EL5 EL6\n",
      "EL6 EL7\n",
      "EL7 EL8\n",
      "EL8 EL9\n",
      "EL9 EL10\n",
      "FL1 FL2\n",
      "FL2 FL3\n",
      "FL3 FL4\n",
      "FL4 FL5\n",
      "FL5 FL6\n",
      "FL6 FL7\n",
      "FL8 noref\n",
      "GL1 GL3\n",
      "GL2 noref\n",
      "GL3 GL4\n",
      "GL4 GL5\n",
      "GL5 GL6\n",
      "GL6 GL7\n",
      "GL7 GL8\n",
      "GL8 GL12\n",
      "GL9 noref\n",
      "GL10 noref\n",
      "GL11 noref\n",
      "GL12 GL13\n",
      "GL13 GL14\n",
      "HL1 noref\n",
      "HL2 noref\n",
      "HL3 noref\n",
      "HL4 noref\n",
      "HL5 HL7\n",
      "HL6 noref\n",
      "HL7 HL8\n",
      "HL8 HL9\n",
      "HL9 HL10\n",
      "HL10 HL11\n",
      "HL11 HL12\n",
      "HL12 HL13\n",
      "HL13 HL14\n",
      "HL14 HL15\n",
      "HL15 HL16\n",
      "IL1 IL2\n",
      "IL2 IL3\n",
      "IL3 IL4\n",
      "IL4 IL5\n",
      "IL5 IL6\n",
      "IL6 IL7\n",
      "IL7 IL8\n",
      "IL8 IL9\n",
      "IL9 IL10\n",
      "IL10 IL11\n",
      "IL11 IL12\n",
      "JL1 noref\n",
      "JL2 JL3\n",
      "JL3 JL4\n",
      "JL4 JL5\n",
      "JL5 JL6\n",
      "JL6 JL7\n",
      "JL7 JL8\n",
      "KL1 noref\n",
      "KL2 KL3\n",
      "KL3 KL4\n",
      "KL4 KL5\n",
      "KL5 KL6\n",
      "KL6 KL7\n",
      "KL7 KL8\n",
      "KL8 KL9\n",
      "KL9 KL10\n",
      "KL10 KL11\n",
      "KL11 KL12\n",
      "KL12 KL13\n",
      "KL13 KL14\n",
      "KL14 KL15\n",
      "KL15 KL16\n",
      "LL1 LL2\n",
      "LL2 LL3\n",
      "LL3 LL4\n",
      "LL4 LL5\n",
      "LL5 LL6\n",
      "LL6 LL7\n",
      "LL7 LL8\n",
      "LL8 LL9\n",
      "LL9 LL10\n",
      "LL10 LL11\n",
      "LL11 LL12\n",
      "LL12 LL13\n",
      "LL13 LL14\n",
      "LL14 LL15\n",
      "LL15 LL16\n",
      "FR1 FR2\n",
      "FR2 FR3\n",
      "FR3 FR4\n",
      "FR4 FR5\n",
      "FR5 FR6\n",
      "FR6 FR7\n",
      "FR7 FR8\n",
      "FR8 FR9\n",
      "FR9 FR10\n",
      "GR1 GR2\n",
      "GR2 GR3\n",
      "GR3 GR4\n",
      "GR4 GR5\n",
      "GR5 GR6\n",
      "GR6 GR7\n",
      "GR7 GR8\n",
      "GR8 GR9\n",
      "GR9 GR10\n",
      "GR10 GR11\n",
      "GR11 GR12\n",
      "GR12 GR13\n",
      "GR13 GR14\n",
      "HR1 noref\n",
      "HR2 noref\n",
      "HR3 noref\n",
      "HR4 noref\n",
      "HR5 noref\n",
      "HR6 HR7\n",
      "HR7 HR8\n",
      "HR8 HR9\n",
      "HR9 HR10\n",
      "HR10 HR11\n",
      "HR11 HR12\n",
      "HR12 HR13\n",
      "HR13 HR14\n",
      "JR1 JR2\n",
      "JR2 JR3\n",
      "JR3 JR4\n",
      "JR4 JR5\n",
      "JR5 JR6\n",
      "JR6 JR7\n",
      "JR7 JR8\n",
      "JR8 JR9\n",
      "JR9 JR10\n",
      "JR10 JR11\n",
      "JR11 JR12\n",
      "JR12 JR13\n",
      "JR13 JR14\n",
      "EMPTY_221 noref\n",
      "EMPTY_222 noref\n",
      "EMPTY_223 noref\n",
      "EMPTY_224 noref\n",
      "EMPTY_225 noref\n",
      "EMPTY_226 noref\n",
      "EMPTY_227 noref\n",
      "EMPTY_228 noref\n",
      "EMPTY_229 noref\n",
      "EMPTY_230 noref\n",
      "EMPTY_231 noref\n",
      "FP1 noref\n",
      "F3 noref\n",
      "C3 noref\n",
      "P3 noref\n",
      "O1 noref\n",
      "FP2 noref\n",
      "F4 noref\n",
      "C4 noref\n",
      "P4 noref\n",
      "O2 noref\n",
      "F7 noref\n",
      "T7 noref\n",
      "P7 noref\n",
      "F8 noref\n",
      "T8 noref\n",
      "P8 noref\n",
      "F9 noref\n",
      "F10 noref\n",
      "FPZ noref\n",
      "FZ noref\n",
      "CZ noref\n",
      "PZ noref\n",
      "OZ noref\n",
      "EKG1 noref\n",
      "EKG2 noref\n",
      "STI noref\n"
     ]
    }
   ],
   "source": [
    "# Here I iterate through the electrodes in my ROIs and match them up with their bipolar pair\n",
    "pairs = []\n",
    "anode = []\n",
    "cathode = []\n",
    "pairs_name = []\n",
    "pairs_map = {}\n",
    "remove = filtered_clean_fif.info['bads']\n",
    "labels = filtered_clean_fif.info['ch_names']\n",
    "for ch in labels:\n",
    "    # if a channel is meant to be removed, it doesn't get to be in a bipolar pair\n",
    "    if ch in remove or ch == 'STI':\n",
    "        print(f\"{ch} noref\")\n",
    "    else:\n",
    "        pair = find_bipolar_pair(ch, labels, remove)\n",
    "        if pair:\n",
    "            anode.append(ch)\n",
    "            cathode.append(pair)\n",
    "            pairs.append((ch, pair))\n",
    "            pairs_map[ch] = f\"{ch}-{pair}\"\n",
    "            pairs_name.append(f\"{ch}-{pair}\")\n",
    "            print(ch, pair)"
   ]
  },
  {
   "cell_type": "code",
   "execution_count": 6,
   "id": "588d66f9-a020-426f-b955-b3e58bd52d1b",
   "metadata": {
    "tags": []
   },
   "outputs": [
    {
     "name": "stdout",
     "output_type": "stream",
     "text": [
      "Reading 0 ... 2983799  =      0.000 ...  1491.899 secs...\n",
      "sEEG channel type selected for re-referencing\n",
      "Creating RawArray with float64 data, n_channels=181, n_times=2983800\n",
      "    Range : 0 ... 2983799 =      0.000 ...  1491.899 secs\n",
      "Ready.\n",
      "Added the following bipolar channels:\n",
      "AL1-AL2, AL2-AL3, AL3-AL4, AL4-AL5, AL5-AL6, AL6-AL7, AL7-AL8, AL8-AL9, AL9-AL10, AL10-AL11, AL11-AL12, AL12-AL13, AL13-AL14, BL1-BL2, BL2-BL3, BL3-BL4, BL4-BL5, BL5-BL6, BL6-BL7, BL7-BL8, BL8-BL9, BL9-BL10, BL10-BL11, BL11-BL12, BL12-BL13, BL13-BL14, BL14-BL15, BL15-BL16, CL1-CL2, CL2-CL3, CL3-CL4, CL4-CL5, CL5-CL6, CL6-CL7, CL7-CL8, CL8-CL9, CL9-CL10, CL10-CL11, CL11-CL12, CL12-CL13, CL13-CL14, CL14-CL15, CL15-CL16, DL1-DL2, DL2-DL3, DL3-DL4, DL4-DL5, DL5-DL6, DL6-DL7, DL7-DL8, DL8-DL9, DL9-DL10, DL10-DL11, DL11-DL12, DL12-DL13, DL13-DL14, DL14-DL15, DL15-DL16, EL1-EL2, EL2-EL3, EL3-EL4, EL4-EL5, EL5-EL6, EL6-EL7, EL7-EL8, EL8-EL9, EL9-EL10, FL1-FL2, FL2-FL3, FL3-FL4, FL4-FL5, FL5-FL6, FL6-FL7, GL1-GL3, GL3-GL4, GL4-GL5, GL5-GL6, GL6-GL7, GL7-GL8, GL8-GL12, GL12-GL13, GL13-GL14, HL5-HL7, HL7-HL8, HL8-HL9, HL9-HL10, HL10-HL11, HL11-HL12, HL12-HL13, HL13-HL14, HL14-HL15, HL15-HL16, IL1-IL2, IL2-IL3, IL3-IL4, IL4-IL5, IL5-IL6, IL6-IL7, IL7-IL8, IL8-IL9, IL9-IL10, IL10-IL11, IL11-IL12, JL2-JL3, JL3-JL4, JL4-JL5, JL5-JL6, JL6-JL7, JL7-JL8, KL2-KL3, KL3-KL4, KL4-KL5, KL5-KL6, KL6-KL7, KL7-KL8, KL8-KL9, KL9-KL10, KL10-KL11, KL11-KL12, KL12-KL13, KL13-KL14, KL14-KL15, KL15-KL16, LL1-LL2, LL2-LL3, LL3-LL4, LL4-LL5, LL5-LL6, LL6-LL7, LL7-LL8, LL8-LL9, LL9-LL10, LL10-LL11, LL11-LL12, LL12-LL13, LL13-LL14, LL14-LL15, LL15-LL16, FR1-FR2, FR2-FR3, FR3-FR4, FR4-FR5, FR5-FR6, FR6-FR7, FR7-FR8, FR8-FR9, FR9-FR10, GR1-GR2, GR2-GR3, GR3-GR4, GR4-GR5, GR5-GR6, GR6-GR7, GR7-GR8, GR8-GR9, GR9-GR10, GR10-GR11, GR11-GR12, GR12-GR13, GR13-GR14, HR6-HR7, HR7-HR8, HR8-HR9, HR9-HR10, HR10-HR11, HR11-HR12, HR12-HR13, HR13-HR14, JR1-JR2, JR2-JR3, JR3-JR4, JR4-JR5, JR5-JR6, JR6-JR7, JR7-JR8, JR8-JR9, JR9-JR10, JR10-JR11, JR11-JR12, JR12-JR13, JR13-JR14\n",
      "Overwriting existing file.\n",
      "Writing /home/brooke/pacman/preprocessing/BJH027/ieeg/BJH027_bp_filtered_clean_data.fif\n"
     ]
    },
    {
     "name": "stderr",
     "output_type": "stream",
     "text": [
      "/tmp/ipykernel_145017/1336304392.py:12: RuntimeWarning: This filename (/home/brooke/pacman/preprocessing/BJH027/ieeg/BJH027_bp_filtered_clean_data.fif) does not conform to MNE naming conventions. All raw files should end with raw.fif, raw_sss.fif, raw_tsss.fif, _meg.fif, _eeg.fif, _ieeg.fif, raw.fif.gz, raw_sss.fif.gz, raw_tsss.fif.gz, _meg.fif.gz, _eeg.fif.gz or _ieeg.fif.gz\n",
      "  bp_filt_fif.save(f\"{preproc_data_dir}/{subject}_bp_filtered_clean_data.fif\", overwrite = True)\n"
     ]
    },
    {
     "name": "stdout",
     "output_type": "stream",
     "text": [
      "Overwriting existing file.\n",
      "Writing /home/brooke/pacman/preprocessing/BJH027/ieeg/BJH027_bp_filtered_clean_data-1.fif\n",
      "Closing /home/brooke/pacman/preprocessing/BJH027/ieeg/BJH027_bp_filtered_clean_data-1.fif\n",
      "Closing /home/brooke/pacman/preprocessing/BJH027/ieeg/BJH027_bp_filtered_clean_data.fif\n",
      "[done]\n",
      "Reading 0 ... 2983799  =      0.000 ...  1491.899 secs...\n",
      "sEEG channel type selected for re-referencing\n",
      "Creating RawArray with float64 data, n_channels=181, n_times=2983800\n",
      "    Range : 0 ... 2983799 =      0.000 ...  1491.899 secs\n",
      "Ready.\n",
      "Added the following bipolar channels:\n",
      "AL1-AL2, AL2-AL3, AL3-AL4, AL4-AL5, AL5-AL6, AL6-AL7, AL7-AL8, AL8-AL9, AL9-AL10, AL10-AL11, AL11-AL12, AL12-AL13, AL13-AL14, BL1-BL2, BL2-BL3, BL3-BL4, BL4-BL5, BL5-BL6, BL6-BL7, BL7-BL8, BL8-BL9, BL9-BL10, BL10-BL11, BL11-BL12, BL12-BL13, BL13-BL14, BL14-BL15, BL15-BL16, CL1-CL2, CL2-CL3, CL3-CL4, CL4-CL5, CL5-CL6, CL6-CL7, CL7-CL8, CL8-CL9, CL9-CL10, CL10-CL11, CL11-CL12, CL12-CL13, CL13-CL14, CL14-CL15, CL15-CL16, DL1-DL2, DL2-DL3, DL3-DL4, DL4-DL5, DL5-DL6, DL6-DL7, DL7-DL8, DL8-DL9, DL9-DL10, DL10-DL11, DL11-DL12, DL12-DL13, DL13-DL14, DL14-DL15, DL15-DL16, EL1-EL2, EL2-EL3, EL3-EL4, EL4-EL5, EL5-EL6, EL6-EL7, EL7-EL8, EL8-EL9, EL9-EL10, FL1-FL2, FL2-FL3, FL3-FL4, FL4-FL5, FL5-FL6, FL6-FL7, GL1-GL3, GL3-GL4, GL4-GL5, GL5-GL6, GL6-GL7, GL7-GL8, GL8-GL12, GL12-GL13, GL13-GL14, HL5-HL7, HL7-HL8, HL8-HL9, HL9-HL10, HL10-HL11, HL11-HL12, HL12-HL13, HL13-HL14, HL14-HL15, HL15-HL16, IL1-IL2, IL2-IL3, IL3-IL4, IL4-IL5, IL5-IL6, IL6-IL7, IL7-IL8, IL8-IL9, IL9-IL10, IL10-IL11, IL11-IL12, JL2-JL3, JL3-JL4, JL4-JL5, JL5-JL6, JL6-JL7, JL7-JL8, KL2-KL3, KL3-KL4, KL4-KL5, KL5-KL6, KL6-KL7, KL7-KL8, KL8-KL9, KL9-KL10, KL10-KL11, KL11-KL12, KL12-KL13, KL13-KL14, KL14-KL15, KL15-KL16, LL1-LL2, LL2-LL3, LL3-LL4, LL4-LL5, LL5-LL6, LL6-LL7, LL7-LL8, LL8-LL9, LL9-LL10, LL10-LL11, LL11-LL12, LL12-LL13, LL13-LL14, LL14-LL15, LL15-LL16, FR1-FR2, FR2-FR3, FR3-FR4, FR4-FR5, FR5-FR6, FR6-FR7, FR7-FR8, FR8-FR9, FR9-FR10, GR1-GR2, GR2-GR3, GR3-GR4, GR4-GR5, GR5-GR6, GR6-GR7, GR7-GR8, GR8-GR9, GR9-GR10, GR10-GR11, GR11-GR12, GR12-GR13, GR13-GR14, HR6-HR7, HR7-HR8, HR8-HR9, HR9-HR10, HR10-HR11, HR11-HR12, HR12-HR13, HR13-HR14, JR1-JR2, JR2-JR3, JR3-JR4, JR4-JR5, JR5-JR6, JR6-JR7, JR7-JR8, JR8-JR9, JR9-JR10, JR10-JR11, JR11-JR12, JR12-JR13, JR13-JR14\n",
      "Overwriting existing file.\n",
      "Writing /home/brooke/pacman/preprocessing/BJH027/ieeg/BJH027_bp_raw_clean_data.fif\n"
     ]
    },
    {
     "name": "stderr",
     "output_type": "stream",
     "text": [
      "/tmp/ipykernel_145017/1336304392.py:25: RuntimeWarning: This filename (/home/brooke/pacman/preprocessing/BJH027/ieeg/BJH027_bp_raw_clean_data.fif) does not conform to MNE naming conventions. All raw files should end with raw.fif, raw_sss.fif, raw_tsss.fif, _meg.fif, _eeg.fif, _ieeg.fif, raw.fif.gz, raw_sss.fif.gz, raw_tsss.fif.gz, _meg.fif.gz, _eeg.fif.gz or _ieeg.fif.gz\n",
      "  bp_raw_fif.save(f\"{preproc_data_dir}/{subject}_bp_raw_clean_data.fif\", overwrite = True)\n"
     ]
    },
    {
     "name": "stdout",
     "output_type": "stream",
     "text": [
      "Overwriting existing file.\n",
      "Writing /home/brooke/pacman/preprocessing/BJH027/ieeg/BJH027_bp_raw_clean_data-1.fif\n",
      "Closing /home/brooke/pacman/preprocessing/BJH027/ieeg/BJH027_bp_raw_clean_data-1.fif\n",
      "Closing /home/brooke/pacman/preprocessing/BJH027/ieeg/BJH027_bp_raw_clean_data.fif\n",
      "[done]\n"
     ]
    }
   ],
   "source": [
    "## Apply Rereference #\n",
    "\n",
    "if filtered_clean_fif.info['ch_names'] == raw_clean_fif.info['ch_names'] and filtered_clean_fif.info['bads'] == raw_clean_fif.info['bads']:\n",
    "    \n",
    "    # load filtered data\n",
    "    filtered_clean_fif.load_data()\n",
    "    \n",
    "    # set filtered reference \n",
    "    bp_filt_fif = mne.set_bipolar_reference(filtered_clean_fif, anode = anode, cathode = cathode)\n",
    "    \n",
    "    # save\n",
    "    bp_filt_fif.save(f\"{preproc_data_dir}/{subject}_bp_filtered_clean_data.fif\", overwrite = True)\n",
    "    \n",
    "    # clear var\n",
    "    bp_filt_fif = []\n",
    "    filtered_clean_fif = []\n",
    "    \n",
    "    # load raw data\n",
    "    raw_clean_fif.load_data()\n",
    "    \n",
    "    # set raw reference \n",
    "    bp_raw_fif = mne.set_bipolar_reference(raw_clean_fif, anode = anode, cathode = cathode)\n",
    "    \n",
    "    # save\n",
    "    bp_raw_fif.save(f\"{preproc_data_dir}/{subject}_bp_raw_clean_data.fif\", overwrite = True)\n",
    "\n",
    "    \n",
    "    # clear var\n",
    "    bp_raw_fif = []\n",
    "    raw_clean_fif = []    \n",
    "    \n",
    "    "
   ]
  },
  {
   "cell_type": "code",
   "execution_count": 10,
   "id": "0a9bd982-5b34-45b4-885f-dffef3b7c337",
   "metadata": {
    "tags": []
   },
   "outputs": [
    {
     "name": "stdout",
     "output_type": "stream",
     "text": [
      "Opening raw data file /home/brooke/pacman/preprocessing/BJH027/ieeg/BJH027_bp_filtered_clean_data.fif...\n",
      "    Range : 0 ... 2225999 =      0.000 ...  1112.999 secs\n",
      "Ready.\n",
      "Opening raw data file /home/brooke/pacman/preprocessing/BJH027/ieeg/BJH027_bp_filtered_clean_data-1.fif...\n",
      "    Range : 2226000 ... 2983799 =   1113.000 ...  1491.899 secs\n",
      "Ready.\n"
     ]
    },
    {
     "name": "stderr",
     "output_type": "stream",
     "text": [
      "/tmp/ipykernel_145017/2669736035.py:2: RuntimeWarning: This filename (/home/brooke/pacman/preprocessing/BJH027/ieeg/BJH027_bp_filtered_clean_data.fif) does not conform to MNE naming conventions. All raw files should end with raw.fif, raw_sss.fif, raw_tsss.fif, _meg.fif, _eeg.fif, _ieeg.fif, raw.fif.gz, raw_sss.fif.gz, raw_tsss.fif.gz, _meg.fif.gz, _eeg.fif.gz or _ieeg.fif.gz\n",
      "  bp_filtered_fif = mne.io.Raw(f\"{preproc_data_dir}/{subject}_bp_filtered_clean_data.fif\")\n"
     ]
    },
    {
     "name": "stdout",
     "output_type": "stream",
     "text": [
      "480 events found\n",
      "Event IDs: [0 1]\n"
     ]
    },
    {
     "data": {
      "text/plain": [
       "<mne_qt_browser._pg_figure.MNEQtBrowser at 0x7f05a95903a0>"
      ]
     },
     "execution_count": 10,
     "metadata": {},
     "output_type": "execute_result"
    },
    {
     "name": "stdout",
     "output_type": "stream",
     "text": [
      "Channels marked as bad:\n",
      "['C3', 'C4', 'CZ', 'EKG1', 'EKG2', 'EMPTY', 'EMPTY_2', 'EMPTY_221', 'EMPTY_222', 'EMPTY_223', 'EMPTY_224', 'EMPTY_225', 'EMPTY_226', 'EMPTY_227', 'EMPTY_228', 'EMPTY_229', 'EMPTY_230', 'EMPTY_231', 'EMPTY_3', 'EMPTY_4', 'F10', 'F3', 'F4', 'F7', 'F8', 'F9', 'FL8', 'FP1', 'FP2', 'FPZ', 'FZ', 'GL10', 'GL11', 'GL2', 'GL9', 'HL1', 'HL2', 'HL3', 'HL4', 'HL6', 'HR1', 'HR2', 'HR3', 'HR4', 'HR5', 'JL1', 'KL1', 'O1', 'O2', 'OZ', 'P3', 'P4', 'P7', 'P8', 'PZ', 'REF1', 'REF2', 'T7', 'T8', 'JL5-JL6', 'DL2-DL3', 'DL4-DL5']\n"
     ]
    }
   ],
   "source": [
    "# Visualize it #\n",
    "bp_filtered_fif = mne.io.Raw(f\"{preproc_data_dir}/{subject}_bp_filtered_clean_data.fif\")\n",
    "events = mne.find_events(bp_filtered_fif, output='step', consecutive = False, stim_channel='STI')\n",
    "bp_filtered_fif.plot(events=events, color='b', bad_color = 'cyan', n_channels = 160, clipping = None, event_color = 'r')"
   ]
  },
  {
   "cell_type": "code",
   "execution_count": 15,
   "id": "70e80d77-e27b-419d-b246-fed2bb3a7161",
   "metadata": {
    "tags": []
   },
   "outputs": [
    {
     "name": "stdout",
     "output_type": "stream",
     "text": [
      "OrderedDict([('onset', 33.747841), ('duration', 0.5715827941894531), ('description', 'BAD_'), ('orig_time', None)])\n",
      "OrderedDict([('onset', 53.189335), ('duration', 0.6636009216308594), ('description', 'BAD_'), ('orig_time', None)])\n",
      "OrderedDict([('onset', 75.686996), ('duration', 2.199005126953125), ('description', 'bad'), ('orig_time', None)])\n",
      "OrderedDict([('onset', 81.30397), ('duration', 0.9767913818359375), ('description', 'BAD_'), ('orig_time', None)])\n",
      "OrderedDict([('onset', 167.154037), ('duration', 3.8839569091796875), ('description', 'BAD_'), ('orig_time', None)])\n",
      "OrderedDict([('onset', 179.843002), ('duration', 2.6880035400390625), ('description', 'bad'), ('orig_time', None)])\n",
      "OrderedDict([('onset', 209.884003), ('duration', 1.7610015869140625), ('description', 'bad'), ('orig_time', None)])\n",
      "OrderedDict([('onset', 248.965286), ('duration', 0.0), ('description', 'BAD_'), ('orig_time', None)])\n",
      "OrderedDict([('onset', 250.322281), ('duration', 1.147125244140625), ('description', 'BAD_'), ('orig_time', None)])\n",
      "OrderedDict([('onset', 296.380432), ('duration', 1.303802490234375), ('description', 'BAD_'), ('orig_time', None)])\n",
      "OrderedDict([('onset', 298.48996), ('duration', 1.5811773035998726), ('description', 'BAD_'), ('orig_time', None)])\n",
      "OrderedDict([('onset', 323.8520594521957), ('duration', 1.3044850693098056), ('description', 'BAD_'), ('orig_time', None)])\n",
      "OrderedDict([('onset', 406.139709), ('duration', 2.93658447265625), ('description', 'BAD_'), ('orig_time', None)])\n",
      "OrderedDict([('onset', 431.201752), ('duration', 2.539642333984375), ('description', 'BAD_'), ('orig_time', None)])\n",
      "OrderedDict([('onset', 435.235992), ('duration', 2.746002197265625), ('description', 'bad'), ('orig_time', None)])\n",
      "OrderedDict([('onset', 448.193848), ('duration', 4.30718994140625), ('description', 'BAD_'), ('orig_time', None)])\n",
      "OrderedDict([('onset', 466.279999), ('duration', 2.001007080078125), ('description', 'bad'), ('orig_time', None)])\n",
      "OrderedDict([('onset', 469.332001), ('duration', 2.699005126953125), ('description', 'bad'), ('orig_time', None)])\n",
      "OrderedDict([('onset', 493.38452276806254), ('duration', 1.7951099847581418), ('description', 'BAD_'), ('orig_time', None)])\n",
      "OrderedDict([('onset', 516.315796), ('duration', 2.5831298828125), ('description', 'BAD_'), ('orig_time', None)])\n",
      "OrderedDict([('onset', 522.092280774538), ('duration', 1.979815835279851), ('description', 'BAD_'), ('orig_time', None)])\n",
      "OrderedDict([('onset', 692.2827586828886), ('duration', 1.46610268851623), ('description', 'BAD_'), ('orig_time', None)])\n",
      "OrderedDict([('onset', 749.182007), ('duration', 2.25), ('description', 'bad'), ('orig_time', None)])\n",
      "OrderedDict([('onset', 752.484009), ('duration', 1.4959716796875), ('description', 'bad'), ('orig_time', None)])\n",
      "OrderedDict([('onset', 767.215759), ('duration', 1.6776123046875), ('description', 'BAD_'), ('orig_time', None)])\n",
      "OrderedDict([('onset', 903.385986), ('duration', 1.94403076171875), ('description', 'bad'), ('orig_time', None)])\n",
      "OrderedDict([('onset', 913.7654785847637), ('duration', 1.3622056475977615), ('description', 'BAD_'), ('orig_time', None)])\n",
      "OrderedDict([('onset', 1033.0959198766222), ('duration', 2.741727468682029), ('description', 'BAD_'), ('orig_time', None)])\n",
      "OrderedDict([('onset', 1043.381958), ('duration', 2.1580810546875), ('description', 'bad'), ('orig_time', None)])\n",
      "OrderedDict([('onset', 1054.5050009469785), ('duration', 3.5729037960297774), ('description', 'BAD_'), ('orig_time', None)])\n",
      "OrderedDict([('onset', 1074.439819), ('duration', 2.198486328125), ('description', 'BAD_'), ('orig_time', None)])\n",
      "OrderedDict([('onset', 1083.034058), ('duration', 2.343994140625), ('description', 'bad'), ('orig_time', None)])\n",
      "OrderedDict([('onset', 1086.444946), ('duration', 1.93408203125), ('description', 'bad'), ('orig_time', None)])\n",
      "OrderedDict([('onset', 1109.567505), ('duration', 2.2698974609375), ('description', 'BAD_'), ('orig_time', None)])\n",
      "OrderedDict([('onset', 1114.281006), ('duration', 2.967529296875), ('description', 'BAD_'), ('orig_time', None)])\n",
      "OrderedDict([('onset', 1117.309448), ('duration', 6.530517578125), ('description', 'BAD_'), ('orig_time', None)])\n",
      "OrderedDict([('onset', 1137.873779), ('duration', 2.099365234375), ('description', 'BAD_'), ('orig_time', None)])\n",
      "OrderedDict([('onset', 1143.682983), ('duration', 2.1480712890625), ('description', 'bad'), ('orig_time', None)])\n",
      "OrderedDict([('onset', 1176.6291182279783), ('duration', 1.5584556137771415), ('description', 'BAD_'), ('orig_time', None)])\n",
      "OrderedDict([('onset', 1218.286397784973), ('duration', 0.7849998647172924), ('description', 'BAD_'), ('orig_time', None)])\n",
      "OrderedDict([('onset', 1225.3772806392556), ('duration', 0.6984189972854438), ('description', 'BAD_'), ('orig_time', None)])\n",
      "OrderedDict([('onset', 1227.75354), ('duration', 5.240478515625), ('description', 'BAD_'), ('orig_time', None)])\n",
      "OrderedDict([('onset', 1256.19397), ('duration', 2.0889892578125), ('description', 'bad'), ('orig_time', None)])\n",
      "OrderedDict([('onset', 1262.60022), ('duration', 2.5458984375), ('description', 'BAD_'), ('orig_time', None)])\n",
      "OrderedDict([('onset', 1264.828979), ('duration', 2.2030029296875), ('description', 'bad'), ('orig_time', None)])\n",
      "OrderedDict([('onset', 1345.83606), ('duration', 2.6409912109375), ('description', 'bad'), ('orig_time', None)])\n",
      "OrderedDict([('onset', 1401.276978), ('duration', 2.8489990234375), ('description', 'bad'), ('orig_time', None)])\n",
      "OrderedDict([('onset', 1414.259277), ('duration', 1.9163818359375), ('description', 'BAD_'), ('orig_time', None)])\n",
      "Overwriting existing file.\n"
     ]
    },
    {
     "name": "stderr",
     "output_type": "stream",
     "text": [
      "/tmp/ipykernel_145017/1026889880.py:7: RuntimeWarning: This filename (../../../raw_data/BJH027/ieeg/saved_annotations.fif) does not conform to MNE naming conventions. All annotations files should end with -annot.fif, -annot.fif.gz, _annot.fif, _annot.fif.gz, .txt or .csv\n",
      "  interactive_annot.save('../../../raw_data/BJH027/ieeg/saved_annotations.fif', overwrite = True)\n"
     ]
    }
   ],
   "source": [
    "# From interactive sessions\n",
    "interactive_annot = bp_filtered_fif.annotations\n",
    "for x in range(0, len(bp_filtered_fif.annotations)):\n",
    "    print(interactive_annot[x])\n",
    "    \n",
    "    \n",
    "interactive_annot.save('../../../raw_data/BJH027/ieeg/saved_annotations.fif', overwrite = True)    "
   ]
  },
  {
   "cell_type": "markdown",
   "id": "a938b93d-19c7-42cf-af9b-9f4517c2cde6",
   "metadata": {},
   "source": [
    "## Epoching the data "
   ]
  },
  {
   "cell_type": "markdown",
   "id": "363a8293-c07c-4444-b221-3b7dd5251a47",
   "metadata": {},
   "source": [
    "### Onset"
   ]
  },
  {
   "cell_type": "code",
   "execution_count": 16,
   "id": "d34cf356-0303-4ce0-b53c-c3ff8c60316f",
   "metadata": {
    "tags": []
   },
   "outputs": [
    {
     "name": "stdout",
     "output_type": "stream",
     "text": [
      "Opening raw data file /home/brooke/pacman/preprocessing/BJH027/ieeg/BJH027_bp_filtered_clean_data.fif...\n",
      "    Range : 0 ... 2225999 =      0.000 ...  1112.999 secs\n",
      "Ready.\n",
      "Opening raw data file /home/brooke/pacman/preprocessing/BJH027/ieeg/BJH027_bp_filtered_clean_data-1.fif...\n",
      "    Range : 2226000 ... 2983799 =   1113.000 ...  1491.899 secs\n",
      "Ready.\n"
     ]
    },
    {
     "name": "stderr",
     "output_type": "stream",
     "text": [
      "/tmp/ipykernel_145017/1463149468.py:4: RuntimeWarning: This filename (/home/brooke/pacman/preprocessing/BJH027/ieeg/BJH027_bp_filtered_clean_data.fif) does not conform to MNE naming conventions. All raw files should end with raw.fif, raw_sss.fif, raw_tsss.fif, _meg.fif, _eeg.fif, _ieeg.fif, raw.fif.gz, raw_sss.fif.gz, raw_tsss.fif.gz, _meg.fif.gz, _eeg.fif.gz or _ieeg.fif.gz\n",
      "  bp_filtered_fif = mne.io.Raw(f\"{preproc_data_dir}/{subject}_bp_filtered_clean_data.fif\")\n"
     ]
    },
    {
     "name": "stdout",
     "output_type": "stream",
     "text": [
      "480 events found\n",
      "Event IDs: [0 1]\n",
      "Not setting metadata\n",
      "240 matching events found\n",
      "No baseline correction applied\n",
      "0 projection items activated\n",
      "Overwriting existing file.\n",
      "Loading data for 1 events and 32001 original time points ...\n",
      "Splitting into 3 parts\n",
      "Loading data for 80 events and 32001 original time points ...\n"
     ]
    },
    {
     "name": "stderr",
     "output_type": "stream",
     "text": [
      "/tmp/ipykernel_145017/1463149468.py:18: RuntimeWarning: This filename (/home/brooke/pacman/preprocessing/BJH027/ieeg/BJH027_bp_clean_pres-locked_ieeg.fif) does not conform to MNE naming conventions. All epochs files should end with -epo.fif, -epo.fif.gz, _epo.fif or _epo.fif.gz\n",
      "  epoched_data.save(f\"{preproc_data_dir}/{subject}_bp_clean_pres-locked_ieeg.fif\", overwrite = True, split_size = '1.9GB')\n"
     ]
    },
    {
     "name": "stdout",
     "output_type": "stream",
     "text": [
      "Loading data for 80 events and 32001 original time points ...\n",
      "Loading data for 80 events and 32001 original time points ...\n"
     ]
    }
   ],
   "source": [
    "## Epoching the raw data ##\n",
    "\n",
    "# load data \n",
    "bp_filtered_fif = mne.io.Raw(f\"{preproc_data_dir}/{subject}_bp_filtered_clean_data.fif\")\n",
    "events = mne.find_events(bp_filtered_fif, output='step', consecutive = False, stim_channel='STI')\n",
    "\n",
    "# create events\n",
    "    \n",
    "# only epoch good channels\n",
    "channels_of_interest =  [x for x in bp_filtered_fif.info['ch_names'] if x not in bp_filtered_fif.info['bads']]\n",
    "\n",
    "# epoch the data\n",
    "epoched_data = mne.Epochs(bp_filtered_fif, events, \n",
    "                          event_id = 1, tmin = -4, tmax = 12, \n",
    "                          baseline = None, picks = channels_of_interest,\n",
    "                             reject_by_annotation = False)\n",
    "# save the data\n",
    "epoched_data.save(f\"{preproc_data_dir}/{subject}_bp_clean_pres-locked_ieeg.fif\", overwrite = True, split_size = '1.9GB')"
   ]
  },
  {
   "cell_type": "markdown",
   "id": "f4302cbb-9bab-4e65-aeb8-dcee85c67880",
   "metadata": {},
   "source": [
    "### Trial End"
   ]
  },
  {
   "cell_type": "code",
   "execution_count": 18,
   "id": "9ea0726b-3f47-4585-bbd5-72c10ed3f06d",
   "metadata": {
    "tags": []
   },
   "outputs": [
    {
     "name": "stdout",
     "output_type": "stream",
     "text": [
      "Opening raw data file /home/brooke/pacman/preprocessing/BJH027/ieeg/BJH027_bp_filtered_clean_data.fif...\n",
      "    Range : 0 ... 2225999 =      0.000 ...  1112.999 secs\n",
      "Ready.\n",
      "Opening raw data file /home/brooke/pacman/preprocessing/BJH027/ieeg/BJH027_bp_filtered_clean_data-1.fif...\n",
      "    Range : 2226000 ... 2983799 =   1113.000 ...  1491.899 secs\n",
      "Ready.\n"
     ]
    },
    {
     "name": "stderr",
     "output_type": "stream",
     "text": [
      "/tmp/ipykernel_145017/749539899.py:4: RuntimeWarning: This filename (/home/brooke/pacman/preprocessing/BJH027/ieeg/BJH027_bp_filtered_clean_data.fif) does not conform to MNE naming conventions. All raw files should end with raw.fif, raw_sss.fif, raw_tsss.fif, _meg.fif, _eeg.fif, _ieeg.fif, raw.fif.gz, raw_sss.fif.gz, raw_tsss.fif.gz, _meg.fif.gz, _eeg.fif.gz or _ieeg.fif.gz\n",
      "  bp_filtered_fif = mne.io.Raw(f\"{preproc_data_dir}/{subject}_bp_filtered_clean_data.fif\")\n"
     ]
    },
    {
     "name": "stdout",
     "output_type": "stream",
     "text": [
      "480 events found\n",
      "Event IDs: [0 1]\n",
      "Not setting metadata\n",
      "240 matching events found\n",
      "No baseline correction applied\n",
      "0 projection items activated\n",
      "Overwriting existing file.\n",
      "Loading data for 1 events and 20001 original time points ...\n",
      "Splitting into 2 parts\n"
     ]
    },
    {
     "name": "stderr",
     "output_type": "stream",
     "text": [
      "/tmp/ipykernel_145017/749539899.py:18: RuntimeWarning: This filename (/home/brooke/pacman/preprocessing/BJH027/ieeg/BJH027_bp_clean_end-locked_ieeg.fif) does not conform to MNE naming conventions. All epochs files should end with -epo.fif, -epo.fif.gz, _epo.fif or _epo.fif.gz\n",
      "  epoched_data.save(f\"{preproc_data_dir}/{subject}_bp_clean_end-locked_ieeg.fif\", overwrite = True, split_size = '1.9GB')\n"
     ]
    },
    {
     "name": "stdout",
     "output_type": "stream",
     "text": [
      "Loading data for 120 events and 20001 original time points ...\n",
      "Loading data for 120 events and 20001 original time points ...\n"
     ]
    }
   ],
   "source": [
    "## Epoching the raw data ##\n",
    "\n",
    "# load data \n",
    "bp_filtered_fif = mne.io.Raw(f\"{preproc_data_dir}/{subject}_bp_filtered_clean_data.fif\")\n",
    "events = mne.find_events(bp_filtered_fif, output='step', consecutive = False, stim_channel='STI')\n",
    "\n",
    "# create events\n",
    "    \n",
    "# only epoch good channels\n",
    "channels_of_interest =  [x for x in bp_filtered_fif.info['ch_names'] if x not in bp_filtered_fif.info['bads']]\n",
    "\n",
    "# epoch the data\n",
    "epoched_data = mne.Epochs(bp_filtered_fif, events, \n",
    "                          event_id = 0, tmin = -5, tmax = 5, \n",
    "                          baseline = None, picks = channels_of_interest,\n",
    "                             reject_by_annotation = False)\n",
    "# save the data\n",
    "epoched_data.save(f\"{preproc_data_dir}/{subject}_bp_clean_end-locked_ieeg.fif\", overwrite = True, split_size = '1.9GB')"
   ]
  },
  {
   "cell_type": "markdown",
   "id": "4a8943e3-aec3-4aaf-9f8b-a629382b4711",
   "metadata": {},
   "source": [
    "### Last Away"
   ]
  },
  {
   "cell_type": "code",
   "execution_count": 4,
   "id": "736f64f0-a000-4a57-be90-7ff0c27ac7af",
   "metadata": {
    "tags": []
   },
   "outputs": [
    {
     "data": {
      "text/html": [
       "<div>\n",
       "<style scoped>\n",
       "    .dataframe tbody tr th:only-of-type {\n",
       "        vertical-align: middle;\n",
       "    }\n",
       "\n",
       "    .dataframe tbody tr th {\n",
       "        vertical-align: top;\n",
       "    }\n",
       "\n",
       "    .dataframe thead th {\n",
       "        text-align: right;\n",
       "    }\n",
       "</style>\n",
       "<table border=\"1\" class=\"dataframe\">\n",
       "  <thead>\n",
       "    <tr style=\"text-align: right;\">\n",
       "      <th></th>\n",
       "      <th>neural_trial_numeric</th>\n",
       "      <th>TrialType</th>\n",
       "      <th>sample</th>\n",
       "      <th>sample_before</th>\n",
       "      <th>event</th>\n",
       "    </tr>\n",
       "  </thead>\n",
       "  <tbody>\n",
       "    <tr>\n",
       "      <th>0</th>\n",
       "      <td>0</td>\n",
       "      <td>7</td>\n",
       "      <td>45300</td>\n",
       "      <td>0</td>\n",
       "      <td>1</td>\n",
       "    </tr>\n",
       "    <tr>\n",
       "      <th>1</th>\n",
       "      <td>1</td>\n",
       "      <td>6</td>\n",
       "      <td>56300</td>\n",
       "      <td>0</td>\n",
       "      <td>1</td>\n",
       "    </tr>\n",
       "    <tr>\n",
       "      <th>2</th>\n",
       "      <td>2</td>\n",
       "      <td>11</td>\n",
       "      <td>68400</td>\n",
       "      <td>0</td>\n",
       "      <td>1</td>\n",
       "    </tr>\n",
       "    <tr>\n",
       "      <th>3</th>\n",
       "      <td>3</td>\n",
       "      <td>5</td>\n",
       "      <td>83800</td>\n",
       "      <td>0</td>\n",
       "      <td>1</td>\n",
       "    </tr>\n",
       "    <tr>\n",
       "      <th>4</th>\n",
       "      <td>4</td>\n",
       "      <td>9</td>\n",
       "      <td>96200</td>\n",
       "      <td>0</td>\n",
       "      <td>1</td>\n",
       "    </tr>\n",
       "    <tr>\n",
       "      <th>...</th>\n",
       "      <td>...</td>\n",
       "      <td>...</td>\n",
       "      <td>...</td>\n",
       "      <td>...</td>\n",
       "      <td>...</td>\n",
       "    </tr>\n",
       "    <tr>\n",
       "      <th>202</th>\n",
       "      <td>234</td>\n",
       "      <td>14</td>\n",
       "      <td>2815300</td>\n",
       "      <td>0</td>\n",
       "      <td>1</td>\n",
       "    </tr>\n",
       "    <tr>\n",
       "      <th>203</th>\n",
       "      <td>235</td>\n",
       "      <td>8</td>\n",
       "      <td>2825700</td>\n",
       "      <td>0</td>\n",
       "      <td>1</td>\n",
       "    </tr>\n",
       "    <tr>\n",
       "      <th>204</th>\n",
       "      <td>236</td>\n",
       "      <td>18</td>\n",
       "      <td>2836100</td>\n",
       "      <td>0</td>\n",
       "      <td>1</td>\n",
       "    </tr>\n",
       "    <tr>\n",
       "      <th>205</th>\n",
       "      <td>237</td>\n",
       "      <td>19</td>\n",
       "      <td>2848000</td>\n",
       "      <td>0</td>\n",
       "      <td>1</td>\n",
       "    </tr>\n",
       "    <tr>\n",
       "      <th>206</th>\n",
       "      <td>238</td>\n",
       "      <td>10</td>\n",
       "      <td>2859800</td>\n",
       "      <td>0</td>\n",
       "      <td>1</td>\n",
       "    </tr>\n",
       "  </tbody>\n",
       "</table>\n",
       "<p>207 rows × 5 columns</p>\n",
       "</div>"
      ],
      "text/plain": [
       "     neural_trial_numeric  TrialType   sample  sample_before  event\n",
       "0                       0          7    45300              0      1\n",
       "1                       1          6    56300              0      1\n",
       "2                       2         11    68400              0      1\n",
       "3                       3          5    83800              0      1\n",
       "4                       4          9    96200              0      1\n",
       "..                    ...        ...      ...            ...    ...\n",
       "202                   234         14  2815300              0      1\n",
       "203                   235          8  2825700              0      1\n",
       "204                   236         18  2836100              0      1\n",
       "205                   237         19  2848000              0      1\n",
       "206                   238         10  2859800              0      1\n",
       "\n",
       "[207 rows x 5 columns]"
      ]
     },
     "execution_count": 4,
     "metadata": {},
     "output_type": "execute_result"
    }
   ],
   "source": [
    "## Load Behavioral Data ##\n",
    "last_away_data = pd.read_csv(f\"{raw_data_dir}/behave/{subject}_last_away_events.csv\")\n",
    "last_away_data"
   ]
  },
  {
   "cell_type": "code",
   "execution_count": 5,
   "id": "4c16ca43-2895-4a24-977d-b84035bdff96",
   "metadata": {
    "tags": []
   },
   "outputs": [],
   "source": [
    "# create events\n",
    "last_away_events = last_away_data[['sample', 'sample_before', 'event']].copy().to_numpy()\n"
   ]
  },
  {
   "cell_type": "code",
   "execution_count": 6,
   "id": "2981e217-c706-4d9b-bd78-a9ff79462bd1",
   "metadata": {
    "tags": []
   },
   "outputs": [
    {
     "name": "stdout",
     "output_type": "stream",
     "text": [
      "Opening raw data file /home/brooke/pacman/preprocessing/BJH027/ieeg/BJH027_bp_filtered_clean_data.fif...\n",
      "    Range : 0 ... 2225999 =      0.000 ...  1112.999 secs\n",
      "Ready.\n",
      "Opening raw data file /home/brooke/pacman/preprocessing/BJH027/ieeg/BJH027_bp_filtered_clean_data-1.fif...\n",
      "    Range : 2226000 ... 2983799 =   1113.000 ...  1491.899 secs\n",
      "Ready.\n",
      "Not setting metadata\n",
      "207 matching events found\n",
      "No baseline correction applied\n"
     ]
    },
    {
     "name": "stderr",
     "output_type": "stream",
     "text": [
      "/tmp/ipykernel_76648/678285560.py:2: RuntimeWarning: This filename (/home/brooke/pacman/preprocessing/BJH027/ieeg/BJH027_bp_filtered_clean_data.fif) does not conform to MNE naming conventions. All raw files should end with raw.fif, raw_sss.fif, raw_tsss.fif, _meg.fif, _eeg.fif, _ieeg.fif, raw.fif.gz, raw_sss.fif.gz, raw_tsss.fif.gz, _meg.fif.gz, _eeg.fif.gz or _ieeg.fif.gz\n",
      "  bp_filtered_fif = mne.io.Raw(f\"{preproc_data_dir}/{subject}_bp_filtered_clean_data.fif\")\n"
     ]
    },
    {
     "name": "stdout",
     "output_type": "stream",
     "text": [
      "0 projection items activated\n",
      "Overwriting existing file.\n",
      "Loading data for 1 events and 20001 original time points ...\n",
      "Splitting into 2 parts\n"
     ]
    },
    {
     "name": "stderr",
     "output_type": "stream",
     "text": [
      "/tmp/ipykernel_76648/678285560.py:13: RuntimeWarning: This filename (/home/brooke/pacman/preprocessing/BJH027/ieeg/BJH027_bp_filtered_clean_last_away_events.fif) does not conform to MNE naming conventions. All epochs files should end with -epo.fif, -epo.fif.gz, _epo.fif or _epo.fif.gz\n",
      "  last_away_epochs.save(f\"{preproc_data_dir}/{subject}_bp_filtered_clean_last_away_events.fif\", overwrite = True, split_size = '1.9GB')\n"
     ]
    },
    {
     "name": "stdout",
     "output_type": "stream",
     "text": [
      "Loading data for 104 events and 20001 original time points ...\n",
      "Loading data for 103 events and 20001 original time points ...\n"
     ]
    }
   ],
   "source": [
    "# load data \n",
    "bp_filtered_fif = mne.io.Raw(f\"{preproc_data_dir}/{subject}_bp_filtered_clean_data.fif\")\n",
    "    \n",
    "# only epoch good channels\n",
    "channels_of_interest =  [x for x in bp_filtered_fif.info['ch_names'] if x not in bp_filtered_fif.info['bads']]\n",
    "\n",
    "# epoch the data\n",
    "last_away_epochs = mne.Epochs(bp_filtered_fif, last_away_events, \n",
    "                          event_id = 1, tmin = -5, tmax =5, \n",
    "                          baseline = None, picks = channels_of_interest,\n",
    "                             reject_by_annotation = False)\n",
    "# # save the data\n",
    "last_away_epochs.save(f\"{preproc_data_dir}/{subject}_bp_filtered_clean_last_away_events.fif\", overwrite = True, split_size = '1.9GB')\n"
   ]
  },
  {
   "cell_type": "markdown",
   "id": "133aafa9-c73e-4924-ab01-46e860d97993",
   "metadata": {
    "tags": []
   },
   "source": [
    "### First Dot"
   ]
  },
  {
   "cell_type": "code",
   "execution_count": 23,
   "id": "1e6b25a2-0788-4a30-91eb-93b8d1652e1b",
   "metadata": {
    "tags": []
   },
   "outputs": [
    {
     "data": {
      "text/html": [
       "<div>\n",
       "<style scoped>\n",
       "    .dataframe tbody tr th:only-of-type {\n",
       "        vertical-align: middle;\n",
       "    }\n",
       "\n",
       "    .dataframe tbody tr th {\n",
       "        vertical-align: top;\n",
       "    }\n",
       "\n",
       "    .dataframe thead th {\n",
       "        text-align: right;\n",
       "    }\n",
       "</style>\n",
       "<table border=\"1\" class=\"dataframe\">\n",
       "  <thead>\n",
       "    <tr style=\"text-align: right;\">\n",
       "      <th></th>\n",
       "      <th>neural_trial_numeric</th>\n",
       "      <th>TrialType</th>\n",
       "      <th>sample</th>\n",
       "      <th>sample_before</th>\n",
       "      <th>event</th>\n",
       "    </tr>\n",
       "  </thead>\n",
       "  <tbody>\n",
       "    <tr>\n",
       "      <th>0</th>\n",
       "      <td>0</td>\n",
       "      <td>7</td>\n",
       "      <td>41900</td>\n",
       "      <td>0</td>\n",
       "      <td>1</td>\n",
       "    </tr>\n",
       "    <tr>\n",
       "      <th>1</th>\n",
       "      <td>1</td>\n",
       "      <td>6</td>\n",
       "      <td>54300</td>\n",
       "      <td>0</td>\n",
       "      <td>1</td>\n",
       "    </tr>\n",
       "    <tr>\n",
       "      <th>2</th>\n",
       "      <td>2</td>\n",
       "      <td>11</td>\n",
       "      <td>66100</td>\n",
       "      <td>0</td>\n",
       "      <td>1</td>\n",
       "    </tr>\n",
       "    <tr>\n",
       "      <th>3</th>\n",
       "      <td>3</td>\n",
       "      <td>5</td>\n",
       "      <td>80200</td>\n",
       "      <td>0</td>\n",
       "      <td>1</td>\n",
       "    </tr>\n",
       "    <tr>\n",
       "      <th>4</th>\n",
       "      <td>4</td>\n",
       "      <td>9</td>\n",
       "      <td>94300</td>\n",
       "      <td>0</td>\n",
       "      <td>1</td>\n",
       "    </tr>\n",
       "    <tr>\n",
       "      <th>...</th>\n",
       "      <td>...</td>\n",
       "      <td>...</td>\n",
       "      <td>...</td>\n",
       "      <td>...</td>\n",
       "      <td>...</td>\n",
       "    </tr>\n",
       "    <tr>\n",
       "      <th>218</th>\n",
       "      <td>235</td>\n",
       "      <td>8</td>\n",
       "      <td>2823900</td>\n",
       "      <td>0</td>\n",
       "      <td>1</td>\n",
       "    </tr>\n",
       "    <tr>\n",
       "      <th>219</th>\n",
       "      <td>236</td>\n",
       "      <td>18</td>\n",
       "      <td>2833700</td>\n",
       "      <td>0</td>\n",
       "      <td>1</td>\n",
       "    </tr>\n",
       "    <tr>\n",
       "      <th>220</th>\n",
       "      <td>237</td>\n",
       "      <td>19</td>\n",
       "      <td>2845800</td>\n",
       "      <td>0</td>\n",
       "      <td>1</td>\n",
       "    </tr>\n",
       "    <tr>\n",
       "      <th>221</th>\n",
       "      <td>238</td>\n",
       "      <td>10</td>\n",
       "      <td>2857800</td>\n",
       "      <td>0</td>\n",
       "      <td>1</td>\n",
       "    </tr>\n",
       "    <tr>\n",
       "      <th>222</th>\n",
       "      <td>239</td>\n",
       "      <td>5</td>\n",
       "      <td>2869200</td>\n",
       "      <td>0</td>\n",
       "      <td>1</td>\n",
       "    </tr>\n",
       "  </tbody>\n",
       "</table>\n",
       "<p>223 rows × 5 columns</p>\n",
       "</div>"
      ],
      "text/plain": [
       "     neural_trial_numeric  TrialType   sample  sample_before  event\n",
       "0                       0          7    41900              0      1\n",
       "1                       1          6    54300              0      1\n",
       "2                       2         11    66100              0      1\n",
       "3                       3          5    80200              0      1\n",
       "4                       4          9    94300              0      1\n",
       "..                    ...        ...      ...            ...    ...\n",
       "218                   235          8  2823900              0      1\n",
       "219                   236         18  2833700              0      1\n",
       "220                   237         19  2845800              0      1\n",
       "221                   238         10  2857800              0      1\n",
       "222                   239          5  2869200              0      1\n",
       "\n",
       "[223 rows x 5 columns]"
      ]
     },
     "execution_count": 23,
     "metadata": {},
     "output_type": "execute_result"
    }
   ],
   "source": [
    "## Load Behavioral Data ##\n",
    "first_dot_data = pd.read_csv(f\"{raw_data_dir}/behave/{subject}_first_dot_events.csv\")\n",
    "first_dot_data"
   ]
  },
  {
   "cell_type": "code",
   "execution_count": 24,
   "id": "8bdbad14-a72f-4c02-a6f2-8b9ada525be6",
   "metadata": {
    "tags": []
   },
   "outputs": [],
   "source": [
    "# create events\n",
    "first_dot_data = first_dot_data[['sample', 'sample_before', 'event']].copy().to_numpy()\n"
   ]
  },
  {
   "cell_type": "code",
   "execution_count": 25,
   "id": "4dfdcf0b-4cf1-45c6-81ac-22eabf10864f",
   "metadata": {
    "tags": []
   },
   "outputs": [
    {
     "name": "stdout",
     "output_type": "stream",
     "text": [
      "Opening raw data file /home/brooke/pacman/preprocessing/BJH027/ieeg/BJH027_bp_filtered_clean_data.fif...\n",
      "    Range : 0 ... 2225999 =      0.000 ...  1112.999 secs\n",
      "Ready.\n",
      "Opening raw data file /home/brooke/pacman/preprocessing/BJH027/ieeg/BJH027_bp_filtered_clean_data-1.fif...\n",
      "    Range : 2226000 ... 2983799 =   1113.000 ...  1491.899 secs\n",
      "Ready.\n",
      "Not setting metadata\n",
      "223 matching events found\n",
      "No baseline correction applied\n",
      "0 projection items activated\n",
      "Loading data for 1 events and 18001 original time points ...\n",
      "Splitting into 2 parts\n",
      "Loading data for 112 events and 18001 original time points ...\n"
     ]
    },
    {
     "name": "stderr",
     "output_type": "stream",
     "text": [
      "/tmp/ipykernel_145017/4126832509.py:2: RuntimeWarning: This filename (/home/brooke/pacman/preprocessing/BJH027/ieeg/BJH027_bp_filtered_clean_data.fif) does not conform to MNE naming conventions. All raw files should end with raw.fif, raw_sss.fif, raw_tsss.fif, _meg.fif, _eeg.fif, _ieeg.fif, raw.fif.gz, raw_sss.fif.gz, raw_tsss.fif.gz, _meg.fif.gz, _eeg.fif.gz or _ieeg.fif.gz\n",
      "  bp_filtered_fif = mne.io.Raw(f\"{preproc_data_dir}/{subject}_bp_filtered_clean_data.fif\")\n",
      "/tmp/ipykernel_145017/4126832509.py:14: RuntimeWarning: This filename (/home/brooke/pacman/preprocessing/BJH027/ieeg/BJH027_bp_filtered_clean_first_dot_events.fif) does not conform to MNE naming conventions. All epochs files should end with -epo.fif, -epo.fif.gz, _epo.fif or _epo.fif.gz\n",
      "  first_dot_epochs.save(f\"{preproc_data_dir}/{subject}_bp_filtered_clean_first_dot_events.fif\", overwrite = True, split_size = '1.9GB')\n"
     ]
    },
    {
     "name": "stdout",
     "output_type": "stream",
     "text": [
      "Loading data for 111 events and 18001 original time points ...\n"
     ]
    }
   ],
   "source": [
    "# load data \n",
    "bp_filtered_fif = mne.io.Raw(f\"{preproc_data_dir}/{subject}_bp_filtered_clean_data.fif\")\n",
    "\n",
    "# only epoch good channels\n",
    "channels_of_interest =  [x for x in bp_filtered_fif.info['ch_names'] if x not in bp_filtered_fif.info['bads']]\n",
    "\n",
    "\n",
    "# epoch the data\n",
    "first_dot_epochs = mne.Epochs(bp_filtered_fif, first_dot_data, \n",
    "                          event_id = 1, tmin = -3, tmax =6, \n",
    "                          baseline = None, picks = channels_of_interest,\n",
    "                             reject_by_annotation = False)\n",
    "# # save the data\n",
    "first_dot_epochs.save(f\"{preproc_data_dir}/{subject}_bp_filtered_clean_first_dot_events.fif\", overwrite = True, split_size = '1.9GB')\n"
   ]
  },
  {
   "cell_type": "markdown",
   "id": "f0b4298a-607f-4a6e-b75d-65586d3c1e9d",
   "metadata": {
    "tags": []
   },
   "source": [
    "## First Move"
   ]
  },
  {
   "cell_type": "code",
   "execution_count": 26,
   "id": "25f76656-57cf-43be-89ff-54b68942f662",
   "metadata": {
    "tags": []
   },
   "outputs": [
    {
     "data": {
      "text/html": [
       "<div>\n",
       "<style scoped>\n",
       "    .dataframe tbody tr th:only-of-type {\n",
       "        vertical-align: middle;\n",
       "    }\n",
       "\n",
       "    .dataframe tbody tr th {\n",
       "        vertical-align: top;\n",
       "    }\n",
       "\n",
       "    .dataframe thead th {\n",
       "        text-align: right;\n",
       "    }\n",
       "</style>\n",
       "<table border=\"1\" class=\"dataframe\">\n",
       "  <thead>\n",
       "    <tr style=\"text-align: right;\">\n",
       "      <th></th>\n",
       "      <th>neural_trial_numeric</th>\n",
       "      <th>TrialType</th>\n",
       "      <th>sample</th>\n",
       "      <th>sample_before</th>\n",
       "      <th>event</th>\n",
       "    </tr>\n",
       "  </thead>\n",
       "  <tbody>\n",
       "    <tr>\n",
       "      <th>0</th>\n",
       "      <td>0</td>\n",
       "      <td>7</td>\n",
       "      <td>41000</td>\n",
       "      <td>0</td>\n",
       "      <td>1</td>\n",
       "    </tr>\n",
       "    <tr>\n",
       "      <th>1</th>\n",
       "      <td>1</td>\n",
       "      <td>6</td>\n",
       "      <td>54100</td>\n",
       "      <td>0</td>\n",
       "      <td>1</td>\n",
       "    </tr>\n",
       "    <tr>\n",
       "      <th>2</th>\n",
       "      <td>2</td>\n",
       "      <td>11</td>\n",
       "      <td>65300</td>\n",
       "      <td>0</td>\n",
       "      <td>1</td>\n",
       "    </tr>\n",
       "    <tr>\n",
       "      <th>3</th>\n",
       "      <td>3</td>\n",
       "      <td>5</td>\n",
       "      <td>79400</td>\n",
       "      <td>0</td>\n",
       "      <td>1</td>\n",
       "    </tr>\n",
       "    <tr>\n",
       "      <th>4</th>\n",
       "      <td>4</td>\n",
       "      <td>9</td>\n",
       "      <td>93600</td>\n",
       "      <td>0</td>\n",
       "      <td>1</td>\n",
       "    </tr>\n",
       "    <tr>\n",
       "      <th>...</th>\n",
       "      <td>...</td>\n",
       "      <td>...</td>\n",
       "      <td>...</td>\n",
       "      <td>...</td>\n",
       "      <td>...</td>\n",
       "    </tr>\n",
       "    <tr>\n",
       "      <th>235</th>\n",
       "      <td>235</td>\n",
       "      <td>8</td>\n",
       "      <td>2823200</td>\n",
       "      <td>0</td>\n",
       "      <td>1</td>\n",
       "    </tr>\n",
       "    <tr>\n",
       "      <th>236</th>\n",
       "      <td>236</td>\n",
       "      <td>18</td>\n",
       "      <td>2833000</td>\n",
       "      <td>0</td>\n",
       "      <td>1</td>\n",
       "    </tr>\n",
       "    <tr>\n",
       "      <th>237</th>\n",
       "      <td>237</td>\n",
       "      <td>19</td>\n",
       "      <td>2845000</td>\n",
       "      <td>0</td>\n",
       "      <td>1</td>\n",
       "    </tr>\n",
       "    <tr>\n",
       "      <th>238</th>\n",
       "      <td>238</td>\n",
       "      <td>10</td>\n",
       "      <td>2857000</td>\n",
       "      <td>0</td>\n",
       "      <td>1</td>\n",
       "    </tr>\n",
       "    <tr>\n",
       "      <th>239</th>\n",
       "      <td>239</td>\n",
       "      <td>5</td>\n",
       "      <td>2868900</td>\n",
       "      <td>0</td>\n",
       "      <td>1</td>\n",
       "    </tr>\n",
       "  </tbody>\n",
       "</table>\n",
       "<p>240 rows × 5 columns</p>\n",
       "</div>"
      ],
      "text/plain": [
       "     neural_trial_numeric  TrialType   sample  sample_before  event\n",
       "0                       0          7    41000              0      1\n",
       "1                       1          6    54100              0      1\n",
       "2                       2         11    65300              0      1\n",
       "3                       3          5    79400              0      1\n",
       "4                       4          9    93600              0      1\n",
       "..                    ...        ...      ...            ...    ...\n",
       "235                   235          8  2823200              0      1\n",
       "236                   236         18  2833000              0      1\n",
       "237                   237         19  2845000              0      1\n",
       "238                   238         10  2857000              0      1\n",
       "239                   239          5  2868900              0      1\n",
       "\n",
       "[240 rows x 5 columns]"
      ]
     },
     "execution_count": 26,
     "metadata": {},
     "output_type": "execute_result"
    }
   ],
   "source": [
    "## Load Behavioral Data ##\n",
    "first_move_data = pd.read_csv(f\"{raw_data_dir}/behave/{subject}_first_move_events.csv\")\n",
    "first_move_data"
   ]
  },
  {
   "cell_type": "code",
   "execution_count": 27,
   "id": "63733838-49b2-4d97-a1e6-13a5c06b9b17",
   "metadata": {
    "tags": []
   },
   "outputs": [],
   "source": [
    "# create events\n",
    "first_move_data = first_move_data[['sample', 'sample_before', 'event']].copy().to_numpy()\n"
   ]
  },
  {
   "cell_type": "code",
   "execution_count": 28,
   "id": "302f7bc7-6d73-423e-a77a-ee54898b97e6",
   "metadata": {
    "tags": []
   },
   "outputs": [
    {
     "name": "stdout",
     "output_type": "stream",
     "text": [
      "Opening raw data file /home/brooke/pacman/preprocessing/BJH027/ieeg/BJH027_bp_filtered_clean_data.fif...\n",
      "    Range : 0 ... 2225999 =      0.000 ...  1112.999 secs\n",
      "Ready.\n",
      "Opening raw data file /home/brooke/pacman/preprocessing/BJH027/ieeg/BJH027_bp_filtered_clean_data-1.fif...\n",
      "    Range : 2226000 ... 2983799 =   1113.000 ...  1491.899 secs\n",
      "Ready.\n",
      "Not setting metadata\n",
      "240 matching events found\n",
      "No baseline correction applied\n",
      "0 projection items activated\n",
      "Loading data for 1 events and 20001 original time points ...\n",
      "Splitting into 2 parts\n",
      "Loading data for 120 events and 20001 original time points ...\n"
     ]
    },
    {
     "name": "stderr",
     "output_type": "stream",
     "text": [
      "/tmp/ipykernel_145017/3347570552.py:2: RuntimeWarning: This filename (/home/brooke/pacman/preprocessing/BJH027/ieeg/BJH027_bp_filtered_clean_data.fif) does not conform to MNE naming conventions. All raw files should end with raw.fif, raw_sss.fif, raw_tsss.fif, _meg.fif, _eeg.fif, _ieeg.fif, raw.fif.gz, raw_sss.fif.gz, raw_tsss.fif.gz, _meg.fif.gz, _eeg.fif.gz or _ieeg.fif.gz\n",
      "  bp_filtered_fif = mne.io.Raw(f\"{preproc_data_dir}/{subject}_bp_filtered_clean_data.fif\")\n",
      "/tmp/ipykernel_145017/3347570552.py:14: RuntimeWarning: This filename (/home/brooke/pacman/preprocessing/BJH027/ieeg/BJH027_bp_filtered_clean_first_move_events.fif) does not conform to MNE naming conventions. All epochs files should end with -epo.fif, -epo.fif.gz, _epo.fif or _epo.fif.gz\n",
      "  first_move_epochs.save(f\"{preproc_data_dir}/{subject}_bp_filtered_clean_first_move_events.fif\", overwrite = True, split_size = '1.9GB')\n"
     ]
    },
    {
     "name": "stdout",
     "output_type": "stream",
     "text": [
      "Loading data for 120 events and 20001 original time points ...\n"
     ]
    }
   ],
   "source": [
    "# load data \n",
    "bp_filtered_fif = mne.io.Raw(f\"{preproc_data_dir}/{subject}_bp_filtered_clean_data.fif\")\n",
    "\n",
    "# only epoch good channels\n",
    "channels_of_interest =  [x for x in bp_filtered_fif.info['ch_names'] if x not in bp_filtered_fif.info['bads']]\n",
    "\n",
    "\n",
    "# epoch the data\n",
    "first_move_epochs = mne.Epochs(bp_filtered_fif, first_move_data, \n",
    "                          event_id = 1, tmin = -5, tmax =5, \n",
    "                          baseline = None, picks = channels_of_interest,\n",
    "                             reject_by_annotation = False)\n",
    "# # save the data\n",
    "first_move_epochs.save(f\"{preproc_data_dir}/{subject}_bp_filtered_clean_first_move_events.fif\", overwrite = True, split_size = '1.9GB')\n"
   ]
  },
  {
   "cell_type": "markdown",
   "id": "5ee8a530",
   "metadata": {},
   "source": [
    "## Ghost Attack"
   ]
  },
  {
   "cell_type": "code",
   "execution_count": 30,
   "id": "133fe1fe",
   "metadata": {
    "tags": []
   },
   "outputs": [
    {
     "data": {
      "text/html": [
       "<div>\n",
       "<style scoped>\n",
       "    .dataframe tbody tr th:only-of-type {\n",
       "        vertical-align: middle;\n",
       "    }\n",
       "\n",
       "    .dataframe tbody tr th {\n",
       "        vertical-align: top;\n",
       "    }\n",
       "\n",
       "    .dataframe thead th {\n",
       "        text-align: right;\n",
       "    }\n",
       "</style>\n",
       "<table border=\"1\" class=\"dataframe\">\n",
       "  <thead>\n",
       "    <tr style=\"text-align: right;\">\n",
       "      <th></th>\n",
       "      <th>neural_trial_numeric</th>\n",
       "      <th>TrialType</th>\n",
       "      <th>sample</th>\n",
       "      <th>sample_before</th>\n",
       "      <th>event</th>\n",
       "    </tr>\n",
       "  </thead>\n",
       "  <tbody>\n",
       "    <tr>\n",
       "      <th>0</th>\n",
       "      <td>4</td>\n",
       "      <td>9</td>\n",
       "      <td>95600</td>\n",
       "      <td>0</td>\n",
       "      <td>1</td>\n",
       "    </tr>\n",
       "    <tr>\n",
       "      <th>1</th>\n",
       "      <td>8</td>\n",
       "      <td>13</td>\n",
       "      <td>143600</td>\n",
       "      <td>0</td>\n",
       "      <td>1</td>\n",
       "    </tr>\n",
       "    <tr>\n",
       "      <th>2</th>\n",
       "      <td>11</td>\n",
       "      <td>12</td>\n",
       "      <td>171600</td>\n",
       "      <td>0</td>\n",
       "      <td>1</td>\n",
       "    </tr>\n",
       "    <tr>\n",
       "      <th>3</th>\n",
       "      <td>12</td>\n",
       "      <td>15</td>\n",
       "      <td>182700</td>\n",
       "      <td>0</td>\n",
       "      <td>1</td>\n",
       "    </tr>\n",
       "    <tr>\n",
       "      <th>4</th>\n",
       "      <td>13</td>\n",
       "      <td>14</td>\n",
       "      <td>194400</td>\n",
       "      <td>0</td>\n",
       "      <td>1</td>\n",
       "    </tr>\n",
       "    <tr>\n",
       "      <th>...</th>\n",
       "      <td>...</td>\n",
       "      <td>...</td>\n",
       "      <td>...</td>\n",
       "      <td>...</td>\n",
       "      <td>...</td>\n",
       "    </tr>\n",
       "    <tr>\n",
       "      <th>67</th>\n",
       "      <td>225</td>\n",
       "      <td>16</td>\n",
       "      <td>2703800</td>\n",
       "      <td>0</td>\n",
       "      <td>1</td>\n",
       "    </tr>\n",
       "    <tr>\n",
       "      <th>68</th>\n",
       "      <td>226</td>\n",
       "      <td>3</td>\n",
       "      <td>2727500</td>\n",
       "      <td>0</td>\n",
       "      <td>1</td>\n",
       "    </tr>\n",
       "    <tr>\n",
       "      <th>69</th>\n",
       "      <td>232</td>\n",
       "      <td>7</td>\n",
       "      <td>2795800</td>\n",
       "      <td>0</td>\n",
       "      <td>1</td>\n",
       "    </tr>\n",
       "    <tr>\n",
       "      <th>70</th>\n",
       "      <td>234</td>\n",
       "      <td>14</td>\n",
       "      <td>2815300</td>\n",
       "      <td>0</td>\n",
       "      <td>1</td>\n",
       "    </tr>\n",
       "    <tr>\n",
       "      <th>71</th>\n",
       "      <td>239</td>\n",
       "      <td>5</td>\n",
       "      <td>2871000</td>\n",
       "      <td>0</td>\n",
       "      <td>1</td>\n",
       "    </tr>\n",
       "  </tbody>\n",
       "</table>\n",
       "<p>72 rows × 5 columns</p>\n",
       "</div>"
      ],
      "text/plain": [
       "    neural_trial_numeric  TrialType   sample  sample_before  event\n",
       "0                      4          9    95600              0      1\n",
       "1                      8         13   143600              0      1\n",
       "2                     11         12   171600              0      1\n",
       "3                     12         15   182700              0      1\n",
       "4                     13         14   194400              0      1\n",
       "..                   ...        ...      ...            ...    ...\n",
       "67                   225         16  2703800              0      1\n",
       "68                   226          3  2727500              0      1\n",
       "69                   232          7  2795800              0      1\n",
       "70                   234         14  2815300              0      1\n",
       "71                   239          5  2871000              0      1\n",
       "\n",
       "[72 rows x 5 columns]"
      ]
     },
     "execution_count": 30,
     "metadata": {},
     "output_type": "execute_result"
    }
   ],
   "source": [
    "## Load Behavioral Data ##\n",
    "ghost_attack_data = pd.read_csv(f\"{raw_data_dir}/behave/{subject}_attack_events.csv\")\n",
    "ghost_attack_data"
   ]
  },
  {
   "cell_type": "code",
   "execution_count": 31,
   "id": "683fbe7b",
   "metadata": {
    "tags": []
   },
   "outputs": [],
   "source": [
    "# create events\n",
    "ghost_attack_data = ghost_attack_data[['sample', 'sample_before', 'event']].copy().to_numpy()\n"
   ]
  },
  {
   "cell_type": "code",
   "execution_count": 32,
   "id": "26882970",
   "metadata": {
    "tags": []
   },
   "outputs": [
    {
     "name": "stdout",
     "output_type": "stream",
     "text": [
      "Opening raw data file /home/brooke/pacman/preprocessing/BJH027/ieeg/BJH027_bp_filtered_clean_data.fif...\n",
      "    Range : 0 ... 2225999 =      0.000 ...  1112.999 secs\n",
      "Ready.\n",
      "Opening raw data file /home/brooke/pacman/preprocessing/BJH027/ieeg/BJH027_bp_filtered_clean_data-1.fif...\n",
      "    Range : 2226000 ... 2983799 =   1113.000 ...  1491.899 secs\n",
      "Ready.\n",
      "Not setting metadata\n",
      "72 matching events found\n",
      "No baseline correction applied\n",
      "0 projection items activated\n",
      "Loading data for 1 events and 20001 original time points ...\n",
      "Loading data for 72 events and 20001 original time points ...\n"
     ]
    },
    {
     "name": "stderr",
     "output_type": "stream",
     "text": [
      "/tmp/ipykernel_145017/2681655913.py:2: RuntimeWarning: This filename (/home/brooke/pacman/preprocessing/BJH027/ieeg/BJH027_bp_filtered_clean_data.fif) does not conform to MNE naming conventions. All raw files should end with raw.fif, raw_sss.fif, raw_tsss.fif, _meg.fif, _eeg.fif, _ieeg.fif, raw.fif.gz, raw_sss.fif.gz, raw_tsss.fif.gz, _meg.fif.gz, _eeg.fif.gz or _ieeg.fif.gz\n",
      "  bp_filtered_fif = mne.io.Raw(f\"{preproc_data_dir}/{subject}_bp_filtered_clean_data.fif\")\n",
      "/tmp/ipykernel_145017/2681655913.py:14: RuntimeWarning: This filename (/home/brooke/pacman/preprocessing/BJH027/ieeg/BJH027_bp_filtered_clean_ghost_attack_events.fif) does not conform to MNE naming conventions. All epochs files should end with -epo.fif, -epo.fif.gz, _epo.fif or _epo.fif.gz\n",
      "  ghost_attack_epochs.save(f\"{preproc_data_dir}/{subject}_bp_filtered_clean_ghost_attack_events.fif\", overwrite = True, split_size = '1.9GB')\n"
     ]
    }
   ],
   "source": [
    "# load data \n",
    "bp_filtered_fif = mne.io.Raw(f\"{preproc_data_dir}/{subject}_bp_filtered_clean_data.fif\")\n",
    "\n",
    "# only epoch good channels\n",
    "channels_of_interest =  [x for x in bp_filtered_fif.info['ch_names'] if x not in bp_filtered_fif.info['bads']]\n",
    "\n",
    "\n",
    "# epoch the data\n",
    "ghost_attack_epochs = mne.Epochs(bp_filtered_fif, ghost_attack_data, \n",
    "                          event_id = 1, tmin = -4, tmax =6, \n",
    "                          baseline = None, picks = channels_of_interest,\n",
    "                             reject_by_annotation = False)\n",
    "# # save the data\n",
    "ghost_attack_epochs.save(f\"{preproc_data_dir}/{subject}_bp_filtered_clean_ghost_attack_events.fif\", overwrite = True, split_size = '1.9GB')\n"
   ]
  },
  {
   "cell_type": "code",
   "execution_count": null,
   "id": "e5f6e739-7255-4413-b6f7-128350e31871",
   "metadata": {},
   "outputs": [],
   "source": []
  }
 ],
 "metadata": {
  "kernelspec": {
   "display_name": "Python 3 (ipykernel)",
   "language": "python",
   "name": "python3"
  },
  "language_info": {
   "codemirror_mode": {
    "name": "ipython",
    "version": 3
   },
   "file_extension": ".py",
   "mimetype": "text/x-python",
   "name": "python",
   "nbconvert_exporter": "python",
   "pygments_lexer": "ipython3",
   "version": "3.9.18"
  }
 },
 "nbformat": 4,
 "nbformat_minor": 5
}

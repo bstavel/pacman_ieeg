{
 "cells": [
  {
   "cell_type": "markdown",
   "id": "5caa54ea-80d7-4318-b427-5411b5caea1d",
   "metadata": {},
   "source": [
    "# Preprocessing: LL16\n",
    "\n",
    "\n",
    "This markdown files loads the clean data and does a bipolar rereference as well as epochs the data.\n",
    "\n",
    "Really weird vertical lines in all channels after bipolar rereferencing, can't see the artifgacts in the raw data, but too many of them to use the data. MNE breaks trying to load them\n"
   ]
  },
  {
   "cell_type": "code",
   "execution_count": 1,
   "id": "7124d816-0294-4977-b65a-64ec8a13910a",
   "metadata": {},
   "outputs": [],
   "source": [
    "import matplotlib\n",
    "matplotlib.use(\"Qt5Agg\")\n",
    "import matplotlib.pyplot as plt\n",
    "import pandas as pd\n",
    "import numpy as np\n",
    "from scipy import signal, stats\n",
    "import mat73\n",
    "import re\n",
    "from neurodsp.timefrequency import compute_wavelet_transform\n",
    "import os\n",
    "import mne\n",
    "import IPython\n",
    "import seaborn as sns"
   ]
  },
  {
   "cell_type": "code",
   "execution_count": 2,
   "id": "d7d0fa71-30b2-4684-ad96-1e5b7c05a39a",
   "metadata": {},
   "outputs": [],
   "source": [
    "## Prep paths ##\n",
    "\n",
    "subject = 'LL16'\n",
    "raw_data_dir = f\"/home/brooke/pacman/raw_data/{subject}\"\n",
    "preproc_data_dir = f\"/home/brooke/pacman/preprocessing/{subject}/ieeg\""
   ]
  },
  {
   "cell_type": "code",
   "execution_count": 3,
   "id": "63fce4c8-66c4-48df-80f5-a5f545d76d3d",
   "metadata": {},
   "outputs": [
    {
     "name": "stdout",
     "output_type": "stream",
     "text": [
      "Opening raw data file /home/brooke/pacman/raw_data/LL16/ieeg/LL16_notched_filtered_clean_ieeg.fif...\n",
      "    Range : 0 ... 940899 =      0.000 ...  1837.693 secs\n",
      "Ready.\n",
      "Opening raw data file /home/brooke/pacman/raw_data/LL16/ieeg/LL16_raw_clean_ieeg.fif...\n",
      "    Range : 0 ... 940899 =      0.000 ...  1837.693 secs\n",
      "Ready.\n"
     ]
    }
   ],
   "source": [
    "## Load Data ##\n",
    "\n",
    "# load filtered data #\n",
    "filtered_clean_fif = mne.io.Raw(f\"{raw_data_dir}/ieeg/{subject}_notched_filtered_clean_ieeg.fif\")\n",
    "\n",
    "# load raw data #\n",
    "raw_clean_fif = mne.io.Raw(f\"{raw_data_dir}/ieeg/{subject}_raw_clean_ieeg.fif\")\n",
    "\n"
   ]
  },
  {
   "cell_type": "code",
   "execution_count": 4,
   "id": "2e505711-aa2e-466b-a6fd-9e32b605fcc5",
   "metadata": {
    "tags": []
   },
   "outputs": [],
   "source": [
    "## Channels did not include probe prefixes in bci data file, convert to descriptive names here\n",
    "\n",
    "# read in csv with correct names\n",
    "channel_csv = pd.read_csv(f\"{preproc_data_dir}/../LL16-ChannelLabels.csv\")\n",
    "\n",
    "# convert to dict\n",
    "channel_dict = dict(zip(channel_csv.bci_names, channel_csv.use_names))\n",
    "\n",
    "# rename\n",
    "mne.rename_channels(filtered_clean_fif.info, channel_dict)\n",
    "mne.rename_channels(raw_clean_fif.info, channel_dict)"
   ]
  },
  {
   "cell_type": "markdown",
   "id": "466e2db7-335c-450b-a643-cf3b6dd43c4e",
   "metadata": {},
   "source": [
    "## Bipolar Rereferencing"
   ]
  },
  {
   "cell_type": "code",
   "execution_count": 5,
   "id": "a8b94f89-1f90-4cac-bd34-1ac9d851b174",
   "metadata": {},
   "outputs": [],
   "source": [
    "# helper functions\n",
    "\n",
    "def probe_and_num(elec_str): \n",
    "    ''' This convenience function takes an electrode string like LHH1 and outputs ('LHH', 1)\n",
    "    '''\n",
    "    if '_' in elec_str:\n",
    "        return None, None\n",
    "    else:   \n",
    "        regex_str = '(\\D+)(\\d+)' # group of letters followed by group of digits\n",
    "        matcher = re.compile(regex_str,re.IGNORECASE|re.DOTALL).search(elec_str)\n",
    "        if matcher:\n",
    "            probe, num = matcher.groups()\n",
    "            return probe, int(num)\n",
    "        else:\n",
    "            return None, None\n",
    "    \n",
    "def find_bipolar_pair(ch, labels, remove):\n",
    "    ''' Find the pair of a given electrode for bipolar referencing.\n",
    "        Given a single *ch* and a list of *labels*, some of which you want to *remove*,\n",
    "        this finds the next channel on that probe that isn't meant to be removed (WM is ok).\n",
    "    '''\n",
    "    bipolar_pair = None\n",
    "    probe, num = probe_and_num(ch)\n",
    "    other_in_probe = [other_ch for other_ch in labels if probe_and_num(other_ch)[0]==probe]\n",
    "    for i in range(len(other_in_probe)-num):\n",
    "        next_ch = probe + str(num+i+1)\n",
    "        if next_ch in remove or next_ch == 'STI':\n",
    "            continue\n",
    "        else:\n",
    "            bipolar_pair = next_ch\n",
    "            break\n",
    "    return bipolar_pair"
   ]
  },
  {
   "cell_type": "code",
   "execution_count": 6,
   "id": "f1eefdfe-b251-4f28-8f1b-2608f94da503",
   "metadata": {
    "tags": []
   },
   "outputs": [
    {
     "name": "stdout",
     "output_type": "stream",
     "text": [
      "LA1 LA2\n",
      "LA2 LA3\n",
      "LA3 LA4\n",
      "LA4 LA5\n",
      "LA5 LA6\n",
      "LA6 LA7\n",
      "LA7 LA8\n",
      "LH1 LH2\n",
      "LH2 LH3\n",
      "LH3 LH4\n",
      "LH4 LH5\n",
      "LH5 LH6\n",
      "LH6 LH7\n",
      "LH7 LH8\n",
      "LHP1 LHP2\n",
      "LHP2 LHP3\n",
      "LHP3 LHP4\n",
      "LHP4 LHP5\n",
      "LHP5 LHP6\n",
      "LHP6 LHP7\n",
      "LHP7 LHP8\n",
      "LOF1 LOF2\n",
      "LOF2 LOF3\n",
      "LOF3 LOF4\n",
      "LOF4 LOF5\n",
      "LOF5 LOF6\n",
      "LOF6 LOF7\n",
      "LOF7 LOF8\n",
      "LOF8 LOF9\n",
      "LOF9 LOF11\n",
      "LOF10 noref\n",
      "LOF11 LOF12\n",
      "LAC1 LAC2\n",
      "LAC2 LAC3\n",
      "LAC3 LAC4\n",
      "LAC4 LAC5\n",
      "LAC5 LAC6\n",
      "LAC6 LAC7\n",
      "LAC7 LAC8\n",
      "LAC8 LAC9\n",
      "LAC10 noref\n",
      "LMC1 LMC2\n",
      "LMC2 LMC3\n",
      "LMC3 LMC4\n",
      "LMC4 LMC5\n",
      "LMC5 LMC6\n",
      "LMC6 LMC7\n",
      "LMC7 LMC8\n",
      "LMC8 LMC9\n",
      "LMC9 LMC10\n",
      "ROF1 ROF2\n",
      "ROF2 ROF3\n",
      "ROF3 ROF4\n",
      "ROF4 ROF5\n",
      "ROF5 ROF6\n",
      "ROF6 ROF7\n",
      "ROF7 ROF8\n",
      "ROF8 ROF9\n",
      "ROF9 ROF10\n",
      "ROF10 ROF11\n",
      "ROF12 noref\n",
      "RAC1 RAC2\n",
      "RAC2 RAC3\n",
      "RAC3 RAC4\n",
      "RAC4 RAC5\n",
      "RAC5 RAC6\n",
      "RAC6 RAC7\n",
      "RAC7 RAC8\n",
      "RAC8 RAC9\n",
      "RAC9 RAC10\n",
      "RTL1 RTL2\n",
      "RTL2 RTL3\n",
      "RTL3 RTL4\n",
      "RTL4 RTL5\n",
      "RTL5 RTL6\n",
      "RTL6 RTL7\n",
      "RTL7 RTL8\n",
      "EKG noref\n",
      "CH87 noref\n",
      "CH88 noref\n",
      "CH89 noref\n",
      "CH90 noref\n",
      "CH91 noref\n",
      "CH92 noref\n",
      "CH93 noref\n",
      "CH94 noref\n",
      "CH95 noref\n",
      "CH96 noref\n",
      "CH97 noref\n",
      "CH98 noref\n",
      "CH99 noref\n",
      "CH100 noref\n",
      "CH101 noref\n",
      "CH102 noref\n",
      "CH103 noref\n",
      "CH104 noref\n",
      "CH105 noref\n",
      "CH106 noref\n",
      "CH107 noref\n",
      "CH108 noref\n",
      "CH109 noref\n",
      "CH110 noref\n",
      "CH111 noref\n",
      "CH112 noref\n",
      "CH113 noref\n",
      "CH114 noref\n",
      "CH115 noref\n",
      "CH116 noref\n",
      "CH117 noref\n",
      "CH118 noref\n",
      "CH119 noref\n",
      "CH120 noref\n",
      "CH121 noref\n",
      "CH122 noref\n",
      "CH123 noref\n",
      "CH124 noref\n",
      "CH125 noref\n",
      "CH126 noref\n",
      "CH127 noref\n",
      "CH128 noref\n",
      "CH129 noref\n",
      "CH130 noref\n",
      "CH131 noref\n",
      "CH132 noref\n",
      "CH133 noref\n",
      "CH134 noref\n",
      "CH135 noref\n",
      "CH136 noref\n",
      "CH137 noref\n",
      "CH138 noref\n",
      "CH139 noref\n",
      "CH140 noref\n",
      "CH141 noref\n",
      "CH142 noref\n",
      "CH143 noref\n",
      "CH144 noref\n",
      "CH145 noref\n",
      "CH146 noref\n",
      "CH147 noref\n",
      "STI noref\n"
     ]
    }
   ],
   "source": [
    "# Here I iterate through the electrodes in my ROIs and match them up with their bipolar pair\n",
    "pairs = []\n",
    "anode = []\n",
    "cathode = []\n",
    "pairs_name = []\n",
    "pairs_map = {}\n",
    "remove = filtered_clean_fif.info['bads']\n",
    "labels = filtered_clean_fif.info['ch_names']\n",
    "for ch in labels:\n",
    "    # if a channel is meant to be removed, it doesn't get to be in a bipolar pair\n",
    "    if ch in remove or ch == 'STI':\n",
    "        print(f\"{ch} noref\")\n",
    "    else:\n",
    "        pair = find_bipolar_pair(ch, labels, remove)\n",
    "        if pair:\n",
    "            anode.append(ch)\n",
    "            cathode.append(pair)\n",
    "            pairs.append((ch, pair))\n",
    "            pairs_map[ch] = f\"{ch}-{pair}\"\n",
    "            pairs_name.append(f\"{ch}-{pair}\")\n",
    "            print(ch, pair)"
   ]
  },
  {
   "cell_type": "code",
   "execution_count": 7,
   "id": "588d66f9-a020-426f-b955-b3e58bd52d1b",
   "metadata": {},
   "outputs": [
    {
     "name": "stdout",
     "output_type": "stream",
     "text": [
      "Reading 0 ... 940899  =      0.000 ...  1837.693 secs...\n",
      "sEEG channel type selected for re-referencing\n",
      "Creating RawArray with float64 data, n_channels=74, n_times=940900\n",
      "    Range : 0 ... 940899 =      0.000 ...  1837.693 secs\n",
      "Ready.\n"
     ]
    },
    {
     "name": "stderr",
     "output_type": "stream",
     "text": [
      "/home/brooke/mambaforge/envs/ieeg_analysis2/lib/python3.9/site-packages/mne/io/reference.py:557: RuntimeWarning: invalid value encountered in matmul\n",
      "  ref_data = multiplier @ inst._data\n"
     ]
    },
    {
     "name": "stdout",
     "output_type": "stream",
     "text": [
      "Added the following bipolar channels:\n",
      "LA1-LA2, LA2-LA3, LA3-LA4, LA4-LA5, LA5-LA6, LA6-LA7, LA7-LA8, LH1-LH2, LH2-LH3, LH3-LH4, LH4-LH5, LH5-LH6, LH6-LH7, LH7-LH8, LHP1-LHP2, LHP2-LHP3, LHP3-LHP4, LHP4-LHP5, LHP5-LHP6, LHP6-LHP7, LHP7-LHP8, LOF1-LOF2, LOF2-LOF3, LOF3-LOF4, LOF4-LOF5, LOF5-LOF6, LOF6-LOF7, LOF7-LOF8, LOF8-LOF9, LOF9-LOF11, LOF11-LOF12, LAC1-LAC2, LAC2-LAC3, LAC3-LAC4, LAC4-LAC5, LAC5-LAC6, LAC6-LAC7, LAC7-LAC8, LAC8-LAC9, LMC1-LMC2, LMC2-LMC3, LMC3-LMC4, LMC4-LMC5, LMC5-LMC6, LMC6-LMC7, LMC7-LMC8, LMC8-LMC9, LMC9-LMC10, ROF1-ROF2, ROF2-ROF3, ROF3-ROF4, ROF4-ROF5, ROF5-ROF6, ROF6-ROF7, ROF7-ROF8, ROF8-ROF9, ROF9-ROF10, ROF10-ROF11, RAC1-RAC2, RAC2-RAC3, RAC3-RAC4, RAC4-RAC5, RAC5-RAC6, RAC6-RAC7, RAC7-RAC8, RAC8-RAC9, RAC9-RAC10, RTL1-RTL2, RTL2-RTL3, RTL3-RTL4, RTL4-RTL5, RTL5-RTL6, RTL6-RTL7, RTL7-RTL8\n",
      "Writing /home/brooke/pacman/preprocessing/LL16/ieeg/LL16_bp_filtered_clean_data.fif\n"
     ]
    },
    {
     "name": "stderr",
     "output_type": "stream",
     "text": [
      "/tmp/ipykernel_47203/1336304392.py:12: RuntimeWarning: This filename (/home/brooke/pacman/preprocessing/LL16/ieeg/LL16_bp_filtered_clean_data.fif) does not conform to MNE naming conventions. All raw files should end with raw.fif, raw_sss.fif, raw_tsss.fif, _meg.fif, _eeg.fif, _ieeg.fif, raw.fif.gz, raw_sss.fif.gz, raw_tsss.fif.gz, _meg.fif.gz, _eeg.fif.gz or _ieeg.fif.gz\n",
      "  bp_filt_fif.save(f\"{preproc_data_dir}/{subject}_bp_filtered_clean_data.fif\", overwrite = True)\n"
     ]
    },
    {
     "name": "stdout",
     "output_type": "stream",
     "text": [
      "Closing /home/brooke/pacman/preprocessing/LL16/ieeg/LL16_bp_filtered_clean_data.fif\n",
      "[done]\n",
      "Reading 0 ... 940899  =      0.000 ...  1837.693 secs...\n",
      "sEEG channel type selected for re-referencing\n",
      "Creating RawArray with float64 data, n_channels=74, n_times=940900\n",
      "    Range : 0 ... 940899 =      0.000 ...  1837.693 secs\n",
      "Ready.\n",
      "Added the following bipolar channels:\n",
      "LA1-LA2, LA2-LA3, LA3-LA4, LA4-LA5, LA5-LA6, LA6-LA7, LA7-LA8, LH1-LH2, LH2-LH3, LH3-LH4, LH4-LH5, LH5-LH6, LH6-LH7, LH7-LH8, LHP1-LHP2, LHP2-LHP3, LHP3-LHP4, LHP4-LHP5, LHP5-LHP6, LHP6-LHP7, LHP7-LHP8, LOF1-LOF2, LOF2-LOF3, LOF3-LOF4, LOF4-LOF5, LOF5-LOF6, LOF6-LOF7, LOF7-LOF8, LOF8-LOF9, LOF9-LOF11, LOF11-LOF12, LAC1-LAC2, LAC2-LAC3, LAC3-LAC4, LAC4-LAC5, LAC5-LAC6, LAC6-LAC7, LAC7-LAC8, LAC8-LAC9, LMC1-LMC2, LMC2-LMC3, LMC3-LMC4, LMC4-LMC5, LMC5-LMC6, LMC6-LMC7, LMC7-LMC8, LMC8-LMC9, LMC9-LMC10, ROF1-ROF2, ROF2-ROF3, ROF3-ROF4, ROF4-ROF5, ROF5-ROF6, ROF6-ROF7, ROF7-ROF8, ROF8-ROF9, ROF9-ROF10, ROF10-ROF11, RAC1-RAC2, RAC2-RAC3, RAC3-RAC4, RAC4-RAC5, RAC5-RAC6, RAC6-RAC7, RAC7-RAC8, RAC8-RAC9, RAC9-RAC10, RTL1-RTL2, RTL2-RTL3, RTL3-RTL4, RTL4-RTL5, RTL5-RTL6, RTL6-RTL7, RTL7-RTL8\n",
      "Writing /home/brooke/pacman/preprocessing/LL16/ieeg/LL16_bp_raw_clean_data.fif\n"
     ]
    },
    {
     "name": "stderr",
     "output_type": "stream",
     "text": [
      "/tmp/ipykernel_47203/1336304392.py:25: RuntimeWarning: This filename (/home/brooke/pacman/preprocessing/LL16/ieeg/LL16_bp_raw_clean_data.fif) does not conform to MNE naming conventions. All raw files should end with raw.fif, raw_sss.fif, raw_tsss.fif, _meg.fif, _eeg.fif, _ieeg.fif, raw.fif.gz, raw_sss.fif.gz, raw_tsss.fif.gz, _meg.fif.gz, _eeg.fif.gz or _ieeg.fif.gz\n",
      "  bp_raw_fif.save(f\"{preproc_data_dir}/{subject}_bp_raw_clean_data.fif\", overwrite = True)\n"
     ]
    },
    {
     "name": "stdout",
     "output_type": "stream",
     "text": [
      "Closing /home/brooke/pacman/preprocessing/LL16/ieeg/LL16_bp_raw_clean_data.fif\n",
      "[done]\n"
     ]
    }
   ],
   "source": [
    "## Apply Rereference #\n",
    "\n",
    "if filtered_clean_fif.info['ch_names'] == raw_clean_fif.info['ch_names'] and filtered_clean_fif.info['bads'] == raw_clean_fif.info['bads']:\n",
    "    \n",
    "    # load filtered data\n",
    "    filtered_clean_fif.load_data()\n",
    "    \n",
    "    # set filtered reference \n",
    "    bp_filt_fif = mne.set_bipolar_reference(filtered_clean_fif, anode = anode, cathode = cathode)\n",
    "    \n",
    "    # save\n",
    "    bp_filt_fif.save(f\"{preproc_data_dir}/{subject}_bp_filtered_clean_data.fif\", overwrite = True)\n",
    "    \n",
    "    # clear var\n",
    "    bp_filt_fif = []\n",
    "    filtered_clean_fif = []\n",
    "    \n",
    "    # load raw data\n",
    "    raw_clean_fif.load_data()\n",
    "    \n",
    "    # set raw reference \n",
    "    bp_raw_fif = mne.set_bipolar_reference(raw_clean_fif, anode = anode, cathode = cathode)\n",
    "    \n",
    "    # save\n",
    "    bp_raw_fif.save(f\"{preproc_data_dir}/{subject}_bp_raw_clean_data.fif\", overwrite = True)\n",
    "\n",
    "    \n",
    "    # clear var\n",
    "    bp_raw_fif = []\n",
    "    raw_clean_fif = []    \n",
    "    \n",
    "    "
   ]
  },
  {
   "cell_type": "code",
   "execution_count": 4,
   "id": "c604ad75-0de9-4940-9180-f13debcde389",
   "metadata": {
    "tags": []
   },
   "outputs": [],
   "source": [
    "bad_annotation = mne.Annotations(onset = [301], duration =[1], description=['BAD'])\n",
    "\n"
   ]
  },
  {
   "cell_type": "code",
   "execution_count": 3,
   "id": "0a9bd982-5b34-45b4-885f-dffef3b7c337",
   "metadata": {},
   "outputs": [
    {
     "name": "stdout",
     "output_type": "stream",
     "text": [
      "Opening raw data file /home/brooke/pacman/preprocessing/LL16/ieeg/LL16_bp_filtered_clean_data.fif...\n",
      "    Range : 0 ... 940899 =      0.000 ...  1837.693 secs\n",
      "Ready.\n",
      "480 events found\n",
      "Event IDs: [0 1]\n"
     ]
    },
    {
     "name": "stderr",
     "output_type": "stream",
     "text": [
      "/tmp/ipykernel_52640/1245655609.py:2: RuntimeWarning: This filename (/home/brooke/pacman/preprocessing/LL16/ieeg/LL16_bp_filtered_clean_data.fif) does not conform to MNE naming conventions. All raw files should end with raw.fif, raw_sss.fif, raw_tsss.fif, _meg.fif, _eeg.fif, _ieeg.fif, raw.fif.gz, raw_sss.fif.gz, raw_tsss.fif.gz, _meg.fif.gz, _eeg.fif.gz or _ieeg.fif.gz\n",
      "  bp_filtered_fif = mne.io.Raw(f\"{preproc_data_dir}/{subject}_bp_filtered_clean_data.fif\")\n"
     ]
    },
    {
     "name": "stdout",
     "output_type": "stream",
     "text": [
      "Using qt as 2D backend.\n"
     ]
    },
    {
     "name": "stderr",
     "output_type": "stream",
     "text": [
      "Warning: Ignoring XDG_SESSION_TYPE=wayland on Gnome. Use QT_QPA_PLATFORM=wayland to run on Wayland anyway.\n"
     ]
    },
    {
     "data": {
      "text/plain": [
       "<mne_qt_browser._pg_figure.MNEQtBrowser at 0x7f5ef1f550d0>"
      ]
     },
     "execution_count": 3,
     "metadata": {},
     "output_type": "execute_result"
    },
    {
     "name": "stderr",
     "output_type": "stream",
     "text": [
      "/home/brooke/mambaforge/envs/ieeg_analysis2/lib/python3.9/site-packages/numpy/core/_methods.py:118: RuntimeWarning: invalid value encountered in reduce\n",
      "  ret = umr_sum(arr, axis, dtype, out, keepdims, where=where)\n",
      "/home/brooke/mambaforge/envs/ieeg_analysis2/lib/python3.9/site-packages/numpy/core/_methods.py:152: RuntimeWarning: invalid value encountered in reduce\n",
      "  arrmean = umr_sum(arr, axis, dtype, keepdims=True, where=where)\n",
      "/home/brooke/mambaforge/envs/ieeg_analysis2/lib/python3.9/site-packages/numpy/core/_methods.py:173: RuntimeWarning: invalid value encountered in subtract\n",
      "  x = asanyarray(arr - arrmean)\n",
      "/home/brooke/mambaforge/envs/ieeg_analysis2/lib/python3.9/site-packages/scipy/stats/_stats_py.py:3146: RuntimeWarning: invalid value encountered in subtract\n",
      "  z = (scores - mn) / std\n",
      "/home/brooke/mambaforge/envs/ieeg_analysis2/lib/python3.9/site-packages/numpy/core/fromnumeric.py:88: RuntimeWarning: invalid value encountered in reduce\n",
      "  return ufunc.reduce(obj, axis, dtype, out, **passkwargs)\n",
      "/home/brooke/mambaforge/envs/ieeg_analysis2/lib/python3.9/site-packages/numpy/core/fromnumeric.py:88: RuntimeWarning: invalid value encountered in reduce\n",
      "  return ufunc.reduce(obj, axis, dtype, out, **passkwargs)\n",
      "/home/brooke/mambaforge/envs/ieeg_analysis2/lib/python3.9/site-packages/mne_qt_browser/_pg_figure.py:4338: RuntimeWarning: invalid value encountered in subtract\n",
      "  self.mne.data = self.mne.data - np.nanmean(\n",
      "/home/brooke/mambaforge/envs/ieeg_analysis2/lib/python3.9/site-packages/mne_qt_browser/_pg_figure.py:4338: RuntimeWarning: invalid value encountered in subtract\n",
      "  self.mne.data = self.mne.data - np.nanmean(\n",
      "/home/brooke/mambaforge/envs/ieeg_analysis2/lib/python3.9/site-packages/mne_qt_browser/_pg_figure.py:4338: RuntimeWarning: invalid value encountered in subtract\n",
      "  self.mne.data = self.mne.data - np.nanmean(\n",
      "/home/brooke/mambaforge/envs/ieeg_analysis2/lib/python3.9/site-packages/mne_qt_browser/_pg_figure.py:4338: RuntimeWarning: invalid value encountered in subtract\n",
      "  self.mne.data = self.mne.data - np.nanmean(\n",
      "/home/brooke/mambaforge/envs/ieeg_analysis2/lib/python3.9/site-packages/mne_qt_browser/_pg_figure.py:4338: RuntimeWarning: invalid value encountered in subtract\n",
      "  self.mne.data = self.mne.data - np.nanmean(\n",
      "/home/brooke/mambaforge/envs/ieeg_analysis2/lib/python3.9/site-packages/mne_qt_browser/_pg_figure.py:4338: RuntimeWarning: invalid value encountered in subtract\n",
      "  self.mne.data = self.mne.data - np.nanmean(\n",
      "/home/brooke/mambaforge/envs/ieeg_analysis2/lib/python3.9/site-packages/mne_qt_browser/_pg_figure.py:4338: RuntimeWarning: invalid value encountered in subtract\n",
      "  self.mne.data = self.mne.data - np.nanmean(\n",
      "/home/brooke/mambaforge/envs/ieeg_analysis2/lib/python3.9/site-packages/mne_qt_browser/_pg_figure.py:4338: RuntimeWarning: invalid value encountered in subtract\n",
      "  self.mne.data = self.mne.data - np.nanmean(\n",
      "/home/brooke/mambaforge/envs/ieeg_analysis2/lib/python3.9/site-packages/mne_qt_browser/_pg_figure.py:4338: RuntimeWarning: invalid value encountered in subtract\n",
      "  self.mne.data = self.mne.data - np.nanmean(\n",
      "/home/brooke/mambaforge/envs/ieeg_analysis2/lib/python3.9/site-packages/mne_qt_browser/_pg_figure.py:4338: RuntimeWarning: invalid value encountered in subtract\n",
      "  self.mne.data = self.mne.data - np.nanmean(\n",
      "/home/brooke/mambaforge/envs/ieeg_analysis2/lib/python3.9/site-packages/mne_qt_browser/_pg_figure.py:4338: RuntimeWarning: invalid value encountered in subtract\n",
      "  self.mne.data = self.mne.data - np.nanmean(\n",
      "/home/brooke/mambaforge/envs/ieeg_analysis2/lib/python3.9/site-packages/mne_qt_browser/_pg_figure.py:4338: RuntimeWarning: invalid value encountered in subtract\n",
      "  self.mne.data = self.mne.data - np.nanmean(\n",
      "/home/brooke/mambaforge/envs/ieeg_analysis2/lib/python3.9/site-packages/mne_qt_browser/_pg_figure.py:4338: RuntimeWarning: invalid value encountered in subtract\n",
      "  self.mne.data = self.mne.data - np.nanmean(\n",
      "/home/brooke/mambaforge/envs/ieeg_analysis2/lib/python3.9/site-packages/mne_qt_browser/_pg_figure.py:4338: RuntimeWarning: invalid value encountered in subtract\n",
      "  self.mne.data = self.mne.data - np.nanmean(\n",
      "/home/brooke/mambaforge/envs/ieeg_analysis2/lib/python3.9/site-packages/mne_qt_browser/_pg_figure.py:4338: RuntimeWarning: invalid value encountered in subtract\n",
      "  self.mne.data = self.mne.data - np.nanmean(\n",
      "/home/brooke/mambaforge/envs/ieeg_analysis2/lib/python3.9/site-packages/mne_qt_browser/_pg_figure.py:4338: RuntimeWarning: invalid value encountered in subtract\n",
      "  self.mne.data = self.mne.data - np.nanmean(\n",
      "/home/brooke/mambaforge/envs/ieeg_analysis2/lib/python3.9/site-packages/mne_qt_browser/_pg_figure.py:4338: RuntimeWarning: invalid value encountered in subtract\n",
      "  self.mne.data = self.mne.data - np.nanmean(\n",
      "/home/brooke/mambaforge/envs/ieeg_analysis2/lib/python3.9/site-packages/mne_qt_browser/_pg_figure.py:4338: RuntimeWarning: invalid value encountered in subtract\n",
      "  self.mne.data = self.mne.data - np.nanmean(\n",
      "/home/brooke/mambaforge/envs/ieeg_analysis2/lib/python3.9/site-packages/mne_qt_browser/_pg_figure.py:4338: RuntimeWarning: invalid value encountered in subtract\n",
      "  self.mne.data = self.mne.data - np.nanmean(\n",
      "/home/brooke/mambaforge/envs/ieeg_analysis2/lib/python3.9/site-packages/mne_qt_browser/_pg_figure.py:4338: RuntimeWarning: invalid value encountered in subtract\n",
      "  self.mne.data = self.mne.data - np.nanmean(\n",
      "/home/brooke/mambaforge/envs/ieeg_analysis2/lib/python3.9/site-packages/mne_qt_browser/_pg_figure.py:4338: RuntimeWarning: invalid value encountered in subtract\n",
      "  self.mne.data = self.mne.data - np.nanmean(\n",
      "/home/brooke/mambaforge/envs/ieeg_analysis2/lib/python3.9/site-packages/mne_qt_browser/_pg_figure.py:4338: RuntimeWarning: invalid value encountered in subtract\n",
      "  self.mne.data = self.mne.data - np.nanmean(\n",
      "/home/brooke/mambaforge/envs/ieeg_analysis2/lib/python3.9/site-packages/mne_qt_browser/_pg_figure.py:4338: RuntimeWarning: invalid value encountered in subtract\n",
      "  self.mne.data = self.mne.data - np.nanmean(\n",
      "/home/brooke/mambaforge/envs/ieeg_analysis2/lib/python3.9/site-packages/mne_qt_browser/_pg_figure.py:4338: RuntimeWarning: invalid value encountered in subtract\n",
      "  self.mne.data = self.mne.data - np.nanmean(\n",
      "/home/brooke/mambaforge/envs/ieeg_analysis2/lib/python3.9/site-packages/mne_qt_browser/_pg_figure.py:4338: RuntimeWarning: invalid value encountered in subtract\n",
      "  self.mne.data = self.mne.data - np.nanmean(\n",
      "/home/brooke/mambaforge/envs/ieeg_analysis2/lib/python3.9/site-packages/mne_qt_browser/_pg_figure.py:4338: RuntimeWarning: invalid value encountered in subtract\n",
      "  self.mne.data = self.mne.data - np.nanmean(\n",
      "/home/brooke/mambaforge/envs/ieeg_analysis2/lib/python3.9/site-packages/mne_qt_browser/_pg_figure.py:4338: RuntimeWarning: invalid value encountered in subtract\n",
      "  self.mne.data = self.mne.data - np.nanmean(\n",
      "/home/brooke/mambaforge/envs/ieeg_analysis2/lib/python3.9/site-packages/mne_qt_browser/_pg_figure.py:4338: RuntimeWarning: invalid value encountered in subtract\n",
      "  self.mne.data = self.mne.data - np.nanmean(\n",
      "/home/brooke/mambaforge/envs/ieeg_analysis2/lib/python3.9/site-packages/numpy/core/_methods.py:118: RuntimeWarning: invalid value encountered in reduce\n",
      "  ret = umr_sum(arr, axis, dtype, out, keepdims, where=where)\n",
      "/home/brooke/mambaforge/envs/ieeg_analysis2/lib/python3.9/site-packages/numpy/core/_methods.py:152: RuntimeWarning: invalid value encountered in reduce\n",
      "  arrmean = umr_sum(arr, axis, dtype, keepdims=True, where=where)\n",
      "/home/brooke/mambaforge/envs/ieeg_analysis2/lib/python3.9/site-packages/numpy/core/_methods.py:173: RuntimeWarning: invalid value encountered in subtract\n",
      "  x = asanyarray(arr - arrmean)\n",
      "/home/brooke/mambaforge/envs/ieeg_analysis2/lib/python3.9/site-packages/scipy/stats/_stats_py.py:3146: RuntimeWarning: invalid value encountered in subtract\n",
      "  z = (scores - mn) / std\n",
      "/home/brooke/mambaforge/envs/ieeg_analysis2/lib/python3.9/site-packages/mne_qt_browser/_pg_figure.py:4338: RuntimeWarning: invalid value encountered in subtract\n",
      "  self.mne.data = self.mne.data - np.nanmean(\n",
      "/home/brooke/mambaforge/envs/ieeg_analysis2/lib/python3.9/site-packages/mne_qt_browser/_pg_figure.py:4338: RuntimeWarning: invalid value encountered in subtract\n",
      "  self.mne.data = self.mne.data - np.nanmean(\n",
      "/home/brooke/mambaforge/envs/ieeg_analysis2/lib/python3.9/site-packages/mne_qt_browser/_pg_figure.py:4338: RuntimeWarning: invalid value encountered in subtract\n",
      "  self.mne.data = self.mne.data - np.nanmean(\n",
      "/home/brooke/mambaforge/envs/ieeg_analysis2/lib/python3.9/site-packages/mne_qt_browser/_pg_figure.py:4338: RuntimeWarning: invalid value encountered in subtract\n",
      "  self.mne.data = self.mne.data - np.nanmean(\n",
      "/home/brooke/mambaforge/envs/ieeg_analysis2/lib/python3.9/site-packages/mne_qt_browser/_pg_figure.py:4338: RuntimeWarning: invalid value encountered in subtract\n",
      "  self.mne.data = self.mne.data - np.nanmean(\n",
      "/home/brooke/mambaforge/envs/ieeg_analysis2/lib/python3.9/site-packages/mne_qt_browser/_pg_figure.py:4338: RuntimeWarning: invalid value encountered in subtract\n",
      "  self.mne.data = self.mne.data - np.nanmean(\n",
      "/home/brooke/mambaforge/envs/ieeg_analysis2/lib/python3.9/site-packages/mne_qt_browser/_pg_figure.py:4338: RuntimeWarning: invalid value encountered in subtract\n",
      "  self.mne.data = self.mne.data - np.nanmean(\n",
      "/home/brooke/mambaforge/envs/ieeg_analysis2/lib/python3.9/site-packages/mne_qt_browser/_pg_figure.py:4338: RuntimeWarning: invalid value encountered in subtract\n",
      "  self.mne.data = self.mne.data - np.nanmean(\n",
      "/home/brooke/mambaforge/envs/ieeg_analysis2/lib/python3.9/site-packages/numpy/core/_methods.py:118: RuntimeWarning: invalid value encountered in reduce\n",
      "  ret = umr_sum(arr, axis, dtype, out, keepdims, where=where)\n",
      "/home/brooke/mambaforge/envs/ieeg_analysis2/lib/python3.9/site-packages/numpy/core/_methods.py:152: RuntimeWarning: invalid value encountered in reduce\n",
      "  arrmean = umr_sum(arr, axis, dtype, keepdims=True, where=where)\n",
      "/home/brooke/mambaforge/envs/ieeg_analysis2/lib/python3.9/site-packages/numpy/core/_methods.py:173: RuntimeWarning: invalid value encountered in subtract\n",
      "  x = asanyarray(arr - arrmean)\n",
      "/home/brooke/mambaforge/envs/ieeg_analysis2/lib/python3.9/site-packages/scipy/stats/_stats_py.py:3146: RuntimeWarning: invalid value encountered in subtract\n",
      "  z = (scores - mn) / std\n",
      "/home/brooke/mambaforge/envs/ieeg_analysis2/lib/python3.9/site-packages/mne_qt_browser/_pg_figure.py:4338: RuntimeWarning: invalid value encountered in subtract\n",
      "  self.mne.data = self.mne.data - np.nanmean(\n",
      "/home/brooke/mambaforge/envs/ieeg_analysis2/lib/python3.9/site-packages/mne_qt_browser/_pg_figure.py:4338: RuntimeWarning: invalid value encountered in subtract\n",
      "  self.mne.data = self.mne.data - np.nanmean(\n",
      "/home/brooke/mambaforge/envs/ieeg_analysis2/lib/python3.9/site-packages/mne_qt_browser/_pg_figure.py:4338: RuntimeWarning: invalid value encountered in subtract\n",
      "  self.mne.data = self.mne.data - np.nanmean(\n",
      "/home/brooke/mambaforge/envs/ieeg_analysis2/lib/python3.9/site-packages/mne_qt_browser/_pg_figure.py:4338: RuntimeWarning: invalid value encountered in subtract\n",
      "  self.mne.data = self.mne.data - np.nanmean(\n",
      "/home/brooke/mambaforge/envs/ieeg_analysis2/lib/python3.9/site-packages/mne_qt_browser/_pg_figure.py:4338: RuntimeWarning: invalid value encountered in subtract\n",
      "  self.mne.data = self.mne.data - np.nanmean(\n",
      "/home/brooke/mambaforge/envs/ieeg_analysis2/lib/python3.9/site-packages/mne_qt_browser/_pg_figure.py:4338: RuntimeWarning: invalid value encountered in subtract\n",
      "  self.mne.data = self.mne.data - np.nanmean(\n",
      "/home/brooke/mambaforge/envs/ieeg_analysis2/lib/python3.9/site-packages/mne_qt_browser/_pg_figure.py:4338: RuntimeWarning: invalid value encountered in subtract\n",
      "  self.mne.data = self.mne.data - np.nanmean(\n",
      "/home/brooke/mambaforge/envs/ieeg_analysis2/lib/python3.9/site-packages/mne_qt_browser/_pg_figure.py:4338: RuntimeWarning: invalid value encountered in subtract\n",
      "  self.mne.data = self.mne.data - np.nanmean(\n",
      "/home/brooke/mambaforge/envs/ieeg_analysis2/lib/python3.9/site-packages/mne_qt_browser/_pg_figure.py:4338: RuntimeWarning: invalid value encountered in subtract\n",
      "  self.mne.data = self.mne.data - np.nanmean(\n",
      "/home/brooke/mambaforge/envs/ieeg_analysis2/lib/python3.9/site-packages/mne_qt_browser/_pg_figure.py:4338: RuntimeWarning: invalid value encountered in subtract\n",
      "  self.mne.data = self.mne.data - np.nanmean(\n",
      "/home/brooke/mambaforge/envs/ieeg_analysis2/lib/python3.9/site-packages/mne_qt_browser/_pg_figure.py:4338: RuntimeWarning: invalid value encountered in subtract\n",
      "  self.mne.data = self.mne.data - np.nanmean(\n",
      "/home/brooke/mambaforge/envs/ieeg_analysis2/lib/python3.9/site-packages/mne_qt_browser/_pg_figure.py:4338: RuntimeWarning: invalid value encountered in subtract\n",
      "  self.mne.data = self.mne.data - np.nanmean(\n",
      "/home/brooke/mambaforge/envs/ieeg_analysis2/lib/python3.9/site-packages/mne_qt_browser/_pg_figure.py:4338: RuntimeWarning: invalid value encountered in subtract\n",
      "  self.mne.data = self.mne.data - np.nanmean(\n",
      "/home/brooke/mambaforge/envs/ieeg_analysis2/lib/python3.9/site-packages/mne_qt_browser/_pg_figure.py:4338: RuntimeWarning: invalid value encountered in subtract\n",
      "  self.mne.data = self.mne.data - np.nanmean(\n",
      "/home/brooke/mambaforge/envs/ieeg_analysis2/lib/python3.9/site-packages/mne_qt_browser/_pg_figure.py:4338: RuntimeWarning: invalid value encountered in subtract\n",
      "  self.mne.data = self.mne.data - np.nanmean(\n",
      "/home/brooke/mambaforge/envs/ieeg_analysis2/lib/python3.9/site-packages/mne_qt_browser/_pg_figure.py:4338: RuntimeWarning: invalid value encountered in subtract\n",
      "  self.mne.data = self.mne.data - np.nanmean(\n",
      "/home/brooke/mambaforge/envs/ieeg_analysis2/lib/python3.9/site-packages/mne_qt_browser/_pg_figure.py:4338: RuntimeWarning: invalid value encountered in subtract\n",
      "  self.mne.data = self.mne.data - np.nanmean(\n",
      "/home/brooke/mambaforge/envs/ieeg_analysis2/lib/python3.9/site-packages/mne_qt_browser/_pg_figure.py:4338: RuntimeWarning: invalid value encountered in subtract\n",
      "  self.mne.data = self.mne.data - np.nanmean(\n",
      "/home/brooke/mambaforge/envs/ieeg_analysis2/lib/python3.9/site-packages/mne_qt_browser/_pg_figure.py:4338: RuntimeWarning: invalid value encountered in subtract\n",
      "  self.mne.data = self.mne.data - np.nanmean(\n",
      "/home/brooke/mambaforge/envs/ieeg_analysis2/lib/python3.9/site-packages/mne_qt_browser/_pg_figure.py:4338: RuntimeWarning: invalid value encountered in subtract\n",
      "  self.mne.data = self.mne.data - np.nanmean(\n",
      "/home/brooke/mambaforge/envs/ieeg_analysis2/lib/python3.9/site-packages/mne_qt_browser/_pg_figure.py:4338: RuntimeWarning: invalid value encountered in subtract\n",
      "  self.mne.data = self.mne.data - np.nanmean(\n",
      "/home/brooke/mambaforge/envs/ieeg_analysis2/lib/python3.9/site-packages/mne_qt_browser/_pg_figure.py:4338: RuntimeWarning: invalid value encountered in subtract\n",
      "  self.mne.data = self.mne.data - np.nanmean(\n",
      "/home/brooke/mambaforge/envs/ieeg_analysis2/lib/python3.9/site-packages/mne_qt_browser/_pg_figure.py:4338: RuntimeWarning: invalid value encountered in subtract\n",
      "  self.mne.data = self.mne.data - np.nanmean(\n",
      "/home/brooke/mambaforge/envs/ieeg_analysis2/lib/python3.9/site-packages/mne_qt_browser/_pg_figure.py:4338: RuntimeWarning: invalid value encountered in subtract\n",
      "  self.mne.data = self.mne.data - np.nanmean(\n",
      "/home/brooke/mambaforge/envs/ieeg_analysis2/lib/python3.9/site-packages/mne_qt_browser/_pg_figure.py:4338: RuntimeWarning: invalid value encountered in subtract\n",
      "  self.mne.data = self.mne.data - np.nanmean(\n",
      "/home/brooke/mambaforge/envs/ieeg_analysis2/lib/python3.9/site-packages/mne_qt_browser/_pg_figure.py:4338: RuntimeWarning: invalid value encountered in subtract\n",
      "  self.mne.data = self.mne.data - np.nanmean(\n",
      "/home/brooke/mambaforge/envs/ieeg_analysis2/lib/python3.9/site-packages/mne_qt_browser/_pg_figure.py:4338: RuntimeWarning: invalid value encountered in subtract\n",
      "  self.mne.data = self.mne.data - np.nanmean(\n",
      "/home/brooke/mambaforge/envs/ieeg_analysis2/lib/python3.9/site-packages/mne_qt_browser/_pg_figure.py:4338: RuntimeWarning: invalid value encountered in subtract\n",
      "  self.mne.data = self.mne.data - np.nanmean(\n",
      "/home/brooke/mambaforge/envs/ieeg_analysis2/lib/python3.9/site-packages/mne_qt_browser/_pg_figure.py:4338: RuntimeWarning: invalid value encountered in subtract\n",
      "  self.mne.data = self.mne.data - np.nanmean(\n",
      "/home/brooke/mambaforge/envs/ieeg_analysis2/lib/python3.9/site-packages/mne_qt_browser/_pg_figure.py:4338: RuntimeWarning: invalid value encountered in subtract\n",
      "  self.mne.data = self.mne.data - np.nanmean(\n",
      "/home/brooke/mambaforge/envs/ieeg_analysis2/lib/python3.9/site-packages/mne_qt_browser/_pg_figure.py:4338: RuntimeWarning: invalid value encountered in subtract\n",
      "  self.mne.data = self.mne.data - np.nanmean(\n",
      "/home/brooke/mambaforge/envs/ieeg_analysis2/lib/python3.9/site-packages/mne_qt_browser/_pg_figure.py:4338: RuntimeWarning: invalid value encountered in subtract\n",
      "  self.mne.data = self.mne.data - np.nanmean(\n",
      "/home/brooke/mambaforge/envs/ieeg_analysis2/lib/python3.9/site-packages/mne_qt_browser/_pg_figure.py:4338: RuntimeWarning: invalid value encountered in subtract\n",
      "  self.mne.data = self.mne.data - np.nanmean(\n",
      "/home/brooke/mambaforge/envs/ieeg_analysis2/lib/python3.9/site-packages/mne_qt_browser/_pg_figure.py:4338: RuntimeWarning: invalid value encountered in subtract\n",
      "  self.mne.data = self.mne.data - np.nanmean(\n",
      "/home/brooke/mambaforge/envs/ieeg_analysis2/lib/python3.9/site-packages/mne_qt_browser/_pg_figure.py:4338: RuntimeWarning: invalid value encountered in subtract\n",
      "  self.mne.data = self.mne.data - np.nanmean(\n",
      "/home/brooke/mambaforge/envs/ieeg_analysis2/lib/python3.9/site-packages/mne_qt_browser/_pg_figure.py:4338: RuntimeWarning: invalid value encountered in subtract\n",
      "  self.mne.data = self.mne.data - np.nanmean(\n",
      "/home/brooke/mambaforge/envs/ieeg_analysis2/lib/python3.9/site-packages/mne_qt_browser/_pg_figure.py:4338: RuntimeWarning: invalid value encountered in subtract\n",
      "  self.mne.data = self.mne.data - np.nanmean(\n",
      "/home/brooke/mambaforge/envs/ieeg_analysis2/lib/python3.9/site-packages/mne_qt_browser/_pg_figure.py:4338: RuntimeWarning: invalid value encountered in subtract\n",
      "  self.mne.data = self.mne.data - np.nanmean(\n",
      "/home/brooke/mambaforge/envs/ieeg_analysis2/lib/python3.9/site-packages/mne_qt_browser/_pg_figure.py:4338: RuntimeWarning: invalid value encountered in subtract\n",
      "  self.mne.data = self.mne.data - np.nanmean(\n",
      "/home/brooke/mambaforge/envs/ieeg_analysis2/lib/python3.9/site-packages/mne_qt_browser/_pg_figure.py:4338: RuntimeWarning: invalid value encountered in subtract\n",
      "  self.mne.data = self.mne.data - np.nanmean(\n",
      "/home/brooke/mambaforge/envs/ieeg_analysis2/lib/python3.9/site-packages/mne_qt_browser/_pg_figure.py:4338: RuntimeWarning: invalid value encountered in subtract\n",
      "  self.mne.data = self.mne.data - np.nanmean(\n",
      "/home/brooke/mambaforge/envs/ieeg_analysis2/lib/python3.9/site-packages/mne_qt_browser/_pg_figure.py:4338: RuntimeWarning: invalid value encountered in subtract\n",
      "  self.mne.data = self.mne.data - np.nanmean(\n",
      "/home/brooke/mambaforge/envs/ieeg_analysis2/lib/python3.9/site-packages/mne_qt_browser/_pg_figure.py:4338: RuntimeWarning: invalid value encountered in subtract\n",
      "  self.mne.data = self.mne.data - np.nanmean(\n",
      "/home/brooke/mambaforge/envs/ieeg_analysis2/lib/python3.9/site-packages/numpy/core/fromnumeric.py:88: RuntimeWarning: invalid value encountered in reduce\n",
      "  return ufunc.reduce(obj, axis, dtype, out, **passkwargs)\n"
     ]
    },
    {
     "name": "stdout",
     "output_type": "stream",
     "text": [
      "Channels marked as bad:\n",
      "['CH100', 'CH101', 'CH102', 'CH103', 'CH104', 'CH105', 'CH106', 'CH107', 'CH108', 'CH109', 'CH110', 'CH111', 'CH112', 'CH113', 'CH114', 'CH115', 'CH116', 'CH117', 'CH118', 'CH119', 'CH120', 'CH121', 'CH122', 'CH123', 'CH124', 'CH125', 'CH126', 'CH127', 'CH128', 'CH129', 'CH130', 'CH131', 'CH132', 'CH133', 'CH134', 'CH135', 'CH136', 'CH137', 'CH138', 'CH139', 'CH140', 'CH141', 'CH142', 'CH143', 'CH144', 'CH145', 'CH146', 'CH147', 'CH87', 'CH88', 'CH89', 'CH90', 'CH91', 'CH92', 'CH93', 'CH94', 'CH95', 'CH96', 'CH97', 'CH98', 'CH99', 'EKG', 'LAC10', 'LOF10', 'ROF12']\n"
     ]
    }
   ],
   "source": [
    "# Visualize it #\n",
    "bp_filtered_fif = mne.io.Raw(f\"{preproc_data_dir}/{subject}_bp_filtered_clean_data.fif\")\n",
    "events = mne.find_events(bp_filtered_fif, output='step', consecutive = False, stim_channel='STI')\n",
    "bp_filtered_fif.annotations.append([301], [1], ['BAD'])\n",
    "bp_filtered_fif.plot(events=events, color='b', bad_color = 'cyan', n_channels = 70, clipping = None, event_color = 'r')"
   ]
  },
  {
   "cell_type": "code",
   "execution_count": 4,
   "id": "6941efc8-c8ca-4ef7-8da2-491caf0def8e",
   "metadata": {
    "tags": []
   },
   "outputs": [
    {
     "name": "stdout",
     "output_type": "stream",
     "text": [
      "OrderedDict([('onset', 64.159378), ('duration', 0.32196807861328125), ('description', 'BAD'), ('orig_time', None)])\n",
      "OrderedDict([('onset', 192.390488), ('duration', 1.2581024169921875), ('description', 'BAD'), ('orig_time', None)])\n",
      "OrderedDict([('onset', 301.0), ('duration', 1.0), ('description', 'BAD'), ('orig_time', None)])\n",
      "OrderedDict([('onset', 303.383575), ('duration', 0.651885986328125), ('description', 'BAD'), ('orig_time', None)])\n",
      "OrderedDict([('onset', 349.139984), ('duration', 0.594024658203125), ('description', 'BAD'), ('orig_time', None)])\n",
      "OrderedDict([('onset', 430.691406), ('duration', 2.90625), ('description', 'bad'), ('orig_time', None)])\n",
      "OrderedDict([('onset', 496.462891), ('duration', 0.775390625), ('description', 'bad'), ('orig_time', None)])\n",
      "OrderedDict([('onset', 537.207031), ('duration', 2.39453125), ('description', 'bad'), ('orig_time', None)])\n",
      "OrderedDict([('onset', 557.249254699417), ('duration', 0.5468742898179926), ('description', 'BAD'), ('orig_time', None)])\n",
      "OrderedDict([('onset', 560.3551479607548), ('duration', 5.5560100720863375), ('description', 'BAD'), ('orig_time', None)])\n",
      "OrderedDict([('onset', 567.4479011491884), ('duration', 0.5177852318488476), ('description', 'BAD'), ('orig_time', None)])\n",
      "OrderedDict([('onset', 570.246094), ('duration', 1.107421875), ('description', 'bad'), ('orig_time', None)])\n",
      "OrderedDict([('onset', 571.5785473807917), ('duration', 0.36652213040997594), ('description', 'BAD'), ('orig_time', None)])\n",
      "OrderedDict([('onset', 572.2035530622484), ('duration', 6.597398347377975), ('description', 'BAD'), ('orig_time', None)])\n",
      "OrderedDict([('onset', 579.6046502651537), ('duration', 6.731208014035474), ('description', 'BAD'), ('orig_time', None)])\n",
      "OrderedDict([('onset', 588.9488965403907), ('duration', 0.5061496086613033), ('description', 'BAD'), ('orig_time', None)])\n",
      "OrderedDict([('onset', 592.084696989453), ('duration', 0.28507276809659743), ('description', 'BAD'), ('orig_time', None)])\n",
      "OrderedDict([('onset', 619.646484), ('duration', 2.302734375), ('description', 'bad'), ('orig_time', None)])\n",
      "OrderedDict([('onset', 623.007812), ('duration', 1.65234375), ('description', 'bad'), ('orig_time', None)])\n",
      "OrderedDict([('onset', 643.5374909025677), ('duration', 0.25598371012756616), ('description', 'BAD'), ('orig_time', None)])\n",
      "OrderedDict([('onset', 644.975769), ('duration', 1.91607666015625), ('description', 'BAD'), ('orig_time', None)])\n",
      "OrderedDict([('onset', 652.862624757686), ('duration', 3.4615978983155173), ('description', 'BAD'), ('orig_time', None)])\n",
      "OrderedDict([('onset', 673.2640537576586), ('duration', 3.089257956311826), ('description', 'BAD'), ('orig_time', None)])\n",
      "OrderedDict([('onset', 679.0070746563288), ('duration', 2.426027434617822), ('description', 'BAD'), ('orig_time', None)])\n",
      "OrderedDict([('onset', 684.296448), ('duration', 2.3060302734375), ('description', 'BAD'), ('orig_time', None)])\n",
      "OrderedDict([('onset', 690.969849), ('duration', 1.38299560546875), ('description', 'BAD'), ('orig_time', None)])\n",
      "OrderedDict([('onset', 699.532166), ('duration', 0.83038330078125), ('description', 'BAD'), ('orig_time', None)])\n",
      "OrderedDict([('onset', 776.261658), ('duration', 0.581787109375), ('description', 'BAD'), ('orig_time', None)])\n",
      "OrderedDict([('onset', 787.515625), ('duration', 0.42364501953125), ('description', 'BAD'), ('orig_time', None)])\n",
      "OrderedDict([('onset', 796.457031), ('duration', 0.904296875), ('description', 'bad'), ('orig_time', None)])\n",
      "OrderedDict([('onset', 869.71875), ('duration', 12.49609375), ('description', 'bad'), ('orig_time', None)])\n",
      "OrderedDict([('onset', 872.203552), ('duration', 1.46826171875), ('description', 'BAD'), ('orig_time', None)])\n",
      "OrderedDict([('onset', 897.588501), ('duration', 2.705078125), ('description', 'BAD'), ('orig_time', None)])\n",
      "OrderedDict([('onset', 900.4008495979234), ('duration', 0.2036234057833326), ('description', 'BAD'), ('orig_time', None)])\n",
      "OrderedDict([('onset', 908.21875), ('duration', 2.251953125), ('description', 'bad'), ('orig_time', None)])\n",
      "OrderedDict([('onset', 991.375), ('duration', 0.78125), ('description', 'bad'), ('orig_time', None)])\n",
      "OrderedDict([('onset', 1020.78125), ('duration', 2.884765625), ('description', 'bad'), ('orig_time', None)])\n",
      "OrderedDict([('onset', 1046.01355), ('duration', 1.2794189453125), ('description', 'BAD'), ('orig_time', None)])\n",
      "OrderedDict([('onset', 1060.5753839457375), ('duration', 0.18616997100184562), ('description', 'BAD'), ('orig_time', None)])\n",
      "OrderedDict([('onset', 1074.823608), ('duration', 0.5704345703125), ('description', 'BAD'), ('orig_time', None)])\n",
      "OrderedDict([('onset', 1088.184448), ('duration', 0.6326904296875), ('description', 'BAD'), ('orig_time', None)])\n",
      "OrderedDict([('onset', 1127.273438), ('duration', 6.328125), ('description', 'bad'), ('orig_time', None)])\n",
      "OrderedDict([('onset', 1147.088623), ('duration', 0.5479736328125), ('description', 'BAD'), ('orig_time', None)])\n",
      "OrderedDict([('onset', 1170.414062), ('duration', 3.70703125), ('description', 'bad'), ('orig_time', None)])\n",
      "OrderedDict([('onset', 1172.176758), ('duration', 0.74560546875), ('description', 'BAD'), ('orig_time', None)])\n",
      "OrderedDict([('onset', 1187.305176), ('duration', 3.350830078125), ('description', 'BAD'), ('orig_time', None)])\n",
      "OrderedDict([('onset', 1191.9899530186146), ('duration', 1.0904908798229371), ('description', 'BAD'), ('orig_time', None)])\n",
      "OrderedDict([('onset', 1212.6880904098718), ('duration', 0.29089057969031273), ('description', 'BAD'), ('orig_time', None)])\n",
      "OrderedDict([('onset', 1216.9060038153825), ('duration', 0.26761933331499677), ('description', 'BAD'), ('orig_time', None)])\n",
      "OrderedDict([('onset', 1220.3086054680043), ('duration', 0.28507276809659743), ('description', 'BAD'), ('orig_time', None)])\n",
      "OrderedDict([('onset', 1224.3810735836696), ('duration', 0.22107684056481958), ('description', 'BAD'), ('orig_time', None)])\n",
      "OrderedDict([('onset', 1227.796997), ('duration', 0.660888671875), ('description', 'BAD'), ('orig_time', None)])\n",
      "OrderedDict([('onset', 1228.5291732500546), ('duration', 0.15126310143909905), ('description', 'BAD'), ('orig_time', None)])\n",
      "OrderedDict([('onset', 1232.004906612477), ('duration', 0.24434808693990817), ('description', 'BAD'), ('orig_time', None)])\n",
      "OrderedDict([('onset', 1234.656169713916), ('duration', 1.122837637604789), ('description', 'BAD'), ('orig_time', None)])\n",
      "OrderedDict([('onset', 1237.9831398158185), ('duration', 0.2094412173771616), ('description', 'BAD'), ('orig_time', None)])\n",
      "OrderedDict([('onset', 1239.210698062112), ('duration', 0.13380966665749838), ('description', 'BAD'), ('orig_time', None)])\n",
      "OrderedDict([('onset', 1242.1370572937972), ('duration', 0.16289872462675703), ('description', 'BAD'), ('orig_time', None)])\n",
      "OrderedDict([('onset', 1242.487427), ('duration', 0.7060546875), ('description', 'BAD'), ('orig_time', None)])\n",
      "OrderedDict([('onset', 1246.139711670337), ('duration', 0.4421536811294118), ('description', 'BAD'), ('orig_time', None)])\n",
      "OrderedDict([('onset', 1251.276021177914), ('duration', 0.24434808693990817), ('description', 'BAD'), ('orig_time', None)])\n",
      "OrderedDict([('onset', 1252.509397235801), ('duration', 0.3781577535976339), ('description', 'BAD'), ('orig_time', None)])\n",
      "OrderedDict([('onset', 1254.5572669168214), ('duration', 0.2152590289708769), ('description', 'BAD'), ('orig_time', None)])\n",
      "OrderedDict([('onset', 1255.8371854674592), ('duration', 0.7214086376320665), ('description', 'BAD'), ('orig_time', None)])\n",
      "OrderedDict([('onset', 1260.988281), ('duration', 4.19140625), ('description', 'bad'), ('orig_time', None)])\n",
      "OrderedDict([('onset', 1267.8435123375673), ('duration', 4.793876753297582), ('description', 'BAD'), ('orig_time', None)])\n",
      "OrderedDict([('onset', 1277.1046502651536), ('duration', 1.018117028916322), ('description', 'BAD'), ('orig_time', None)])\n",
      "OrderedDict([('onset', 1287.7329739172849), ('duration', 8.127482796549202), ('description', 'BAD'), ('orig_time', None)])\n",
      "OrderedDict([('onset', 1345.073242), ('duration', 2.23291015625), ('description', 'BAD'), ('orig_time', None)])\n",
      "OrderedDict([('onset', 1349.08728), ('duration', 3.9906005859375), ('description', 'BAD'), ('orig_time', None)])\n",
      "OrderedDict([('onset', 1358.560669), ('duration', 0.8133544921875), ('description', 'BAD'), ('orig_time', None)])\n",
      "OrderedDict([('onset', 1419.440552), ('duration', 3.4453125), ('description', 'BAD'), ('orig_time', None)])\n",
      "OrderedDict([('onset', 1429.772705), ('duration', 0.621337890625), ('description', 'BAD'), ('orig_time', None)])\n",
      "OrderedDict([('onset', 1439.521484), ('duration', 4.00390625), ('description', 'bad'), ('orig_time', None)])\n",
      "OrderedDict([('onset', 1445.913086), ('duration', 3.3934326171875), ('description', 'BAD'), ('orig_time', None)])\n",
      "OrderedDict([('onset', 1467.84436), ('duration', 4.4232177734375), ('description', 'BAD'), ('orig_time', None)])\n",
      "OrderedDict([('onset', 1506.839111), ('duration', 2.8238525390625), ('description', 'BAD'), ('orig_time', None)])\n",
      "OrderedDict([('onset', 1532.61377), ('duration', 1.282470703125), ('description', 'BAD'), ('orig_time', None)])\n",
      "OrderedDict([('onset', 1552.726562), ('duration', 2.220703125), ('description', 'BAD'), ('orig_time', None)])\n",
      "OrderedDict([('onset', 1564.488403), ('duration', 2.2510986328125), ('description', 'BAD'), ('orig_time', None)])\n",
      "OrderedDict([('onset', 1575.429688), ('duration', 1.5291748046875), ('description', 'BAD'), ('orig_time', None)])\n"
     ]
    },
    {
     "name": "stderr",
     "output_type": "stream",
     "text": [
      "/tmp/ipykernel_52640/1164348305.py:7: RuntimeWarning: This filename (../ieeg/saved_annotations2.fif) does not conform to MNE naming conventions. All annotations files should end with -annot.fif, -annot.fif.gz, _annot.fif, _annot.fif.gz, .txt or .csv\n",
      "  bp_filtered_fif.annotations.save('../ieeg/saved_annotations2.fif', overwrite = True)\n"
     ]
    }
   ],
   "source": [
    "# From interactive sessions\n",
    "interactive_annot = bp_filtered_fif.annotations\n",
    "for x in range(0, len(bp_filtered_fif.annotations)):\n",
    "    print(interactive_annot[x])\n",
    "    \n",
    "    \n",
    "bp_filtered_fif.annotations.save('../ieeg/saved_annotations2.fif', overwrite = True)    "
   ]
  },
  {
   "cell_type": "markdown",
   "id": "a938b93d-19c7-42cf-af9b-9f4517c2cde6",
   "metadata": {},
   "source": [
    "## Epoching the data "
   ]
  },
  {
   "cell_type": "markdown",
   "id": "363a8293-c07c-4444-b221-3b7dd5251a47",
   "metadata": {},
   "source": [
    "### Onset"
   ]
  },
  {
   "cell_type": "code",
   "execution_count": null,
   "id": "d34cf356-0303-4ce0-b53c-c3ff8c60316f",
   "metadata": {
    "tags": []
   },
   "outputs": [],
   "source": [
    "## Epoching the raw data ##\n",
    "\n",
    "# load data \n",
    "bp_filtered_fif = mne.io.Raw(f\"{preproc_data_dir}/{subject}_bp_filtered_clean_data.fif\")\n",
    "events = mne.find_events(bp_filtered_fif, output='step', consecutive = False, stim_channel='STI')\n",
    "\n",
    "# create events\n",
    "    \n",
    "# only epoch good channels\n",
    "channels_of_interest =  [x for x in bp_filtered_fif.info['ch_names'] if x not in bp_filtered_fif.info['bads']]\n",
    "\n",
    "# epoch the data\n",
    "epoched_data = mne.Epochs(bp_filtered_fif, events, \n",
    "                          event_id = 1, tmin = -4, tmax = 12, \n",
    "                          baseline = None, picks = channels_of_interest,\n",
    "                             reject_by_annotation = False)\n",
    "# save the data\n",
    "epoched_data.save(f\"{preproc_data_dir}/{subject}_bp_clean_pres-locked_ieeg.fif\", overwrite = True, split_size = '1.9GB')"
   ]
  },
  {
   "cell_type": "markdown",
   "id": "f4302cbb-9bab-4e65-aeb8-dcee85c67880",
   "metadata": {},
   "source": [
    "### Trial End"
   ]
  },
  {
   "cell_type": "code",
   "execution_count": null,
   "id": "9ea0726b-3f47-4585-bbd5-72c10ed3f06d",
   "metadata": {},
   "outputs": [],
   "source": [
    "## Epoching the raw data ##\n",
    "\n",
    "# load data \n",
    "bp_filtered_fif = mne.io.Raw(f\"{preproc_data_dir}/{subject}_bp_filtered_clean_data.fif\")\n",
    "events = mne.find_events(bp_filtered_fif, output='step', consecutive = False, stim_channel='STI')\n",
    "\n",
    "# create events\n",
    "    \n",
    "# only epoch good channels\n",
    "channels_of_interest =  [x for x in bp_filtered_fif.info['ch_names'] if x not in bp_filtered_fif.info['bads']]\n",
    "\n",
    "# epoch the data\n",
    "epoched_data = mne.Epochs(bp_filtered_fif, events, \n",
    "                          event_id = 0, tmin = -5, tmax = 5, \n",
    "                          baseline = None, picks = channels_of_interest,\n",
    "                             reject_by_annotation = False)\n",
    "# save the data\n",
    "epoched_data.save(f\"{preproc_data_dir}/{subject}_bp_clean_end-locked_ieeg.fif\", overwrite = True, split_size = '1.9GB')"
   ]
  },
  {
   "cell_type": "markdown",
   "id": "4a8943e3-aec3-4aaf-9f8b-a629382b4711",
   "metadata": {},
   "source": [
    "### Last Away"
   ]
  },
  {
   "cell_type": "code",
   "execution_count": null,
   "id": "736f64f0-a000-4a57-be90-7ff0c27ac7af",
   "metadata": {},
   "outputs": [],
   "source": [
    "## Load Behavioral Data ##\n",
    "last_away_data = pd.read_csv(f\"{raw_data_dir}/behave/{subject}_last_away_events.csv\")\n",
    "last_away_data"
   ]
  },
  {
   "cell_type": "code",
   "execution_count": null,
   "id": "4c16ca43-2895-4a24-977d-b84035bdff96",
   "metadata": {},
   "outputs": [],
   "source": [
    "# create events\n",
    "last_away_events = last_away_data[['sample', 'sample_before', 'event']].copy().to_numpy()\n"
   ]
  },
  {
   "cell_type": "code",
   "execution_count": null,
   "id": "2981e217-c706-4d9b-bd78-a9ff79462bd1",
   "metadata": {},
   "outputs": [],
   "source": [
    "# load data \n",
    "bp_filtered_fif = mne.io.Raw(f\"{preproc_data_dir}/{subject}_bp_filtered_clean_data.fif\")\n",
    "    \n",
    "# only epoch good channels\n",
    "channels_of_interest =  [x for x in bp_filtered_fif.info['ch_names'] if x not in bp_filtered_fif.info['bads']]\n",
    "\n",
    "# epoch the data\n",
    "last_away_epochs = mne.Epochs(bp_filtered_fif, last_away_events, \n",
    "                          event_id = 1, tmin = -5, tmax =5, \n",
    "                          baseline = None, picks = channels_of_interest,\n",
    "                             reject_by_annotation = False)\n",
    "# # save the data\n",
    "last_away_epochs.save(f\"{preproc_data_dir}/{subject}_bp_filtered_clean_last_away_events.fif\", overwrite = True, split_size = '1.9GB')\n"
   ]
  },
  {
   "cell_type": "markdown",
   "id": "133aafa9-c73e-4924-ab01-46e860d97993",
   "metadata": {
    "tags": []
   },
   "source": [
    "### First Dot"
   ]
  },
  {
   "cell_type": "code",
   "execution_count": null,
   "id": "1e6b25a2-0788-4a30-91eb-93b8d1652e1b",
   "metadata": {},
   "outputs": [],
   "source": [
    "## Load Behavioral Data ##\n",
    "first_dot_data = pd.read_csv(f\"{raw_data_dir}/behave/{subject}_first_dot_events.csv\")\n",
    "first_dot_data"
   ]
  },
  {
   "cell_type": "code",
   "execution_count": null,
   "id": "8bdbad14-a72f-4c02-a6f2-8b9ada525be6",
   "metadata": {},
   "outputs": [],
   "source": [
    "# create events\n",
    "first_dot_data = first_dot_data[['sample', 'sample_before', 'event']].copy().to_numpy()\n"
   ]
  },
  {
   "cell_type": "code",
   "execution_count": null,
   "id": "4dfdcf0b-4cf1-45c6-81ac-22eabf10864f",
   "metadata": {},
   "outputs": [],
   "source": [
    "# load data \n",
    "bp_filtered_fif = mne.io.Raw(f\"{preproc_data_dir}/{subject}_bp_filtered_clean_data.fif\")\n",
    "\n",
    "# only epoch good channels\n",
    "channels_of_interest =  [x for x in bp_filtered_fif.info['ch_names'] if x not in bp_filtered_fif.info['bads']]\n",
    "\n",
    "\n",
    "# epoch the data\n",
    "first_dot_epochs = mne.Epochs(bp_filtered_fif, first_dot_data, \n",
    "                          event_id = 1, tmin = -3, tmax =6, \n",
    "                          baseline = None, picks = channels_of_interest,\n",
    "                             reject_by_annotation = False)\n",
    "# # save the data\n",
    "first_dot_epochs.save(f\"{preproc_data_dir}/{subject}_bp_filtered_clean_first_dot_events.fif\", overwrite = True, split_size = '1.9GB')\n"
   ]
  },
  {
   "cell_type": "markdown",
   "id": "f0b4298a-607f-4a6e-b75d-65586d3c1e9d",
   "metadata": {
    "tags": []
   },
   "source": [
    "## First Move"
   ]
  },
  {
   "cell_type": "code",
   "execution_count": null,
   "id": "25f76656-57cf-43be-89ff-54b68942f662",
   "metadata": {},
   "outputs": [],
   "source": [
    "## Load Behavioral Data ##\n",
    "first_move_data = pd.read_csv(f\"{raw_data_dir}/behave/{subject}_first_move_events.csv\")\n",
    "first_move_data"
   ]
  },
  {
   "cell_type": "code",
   "execution_count": null,
   "id": "63733838-49b2-4d97-a1e6-13a5c06b9b17",
   "metadata": {},
   "outputs": [],
   "source": [
    "# create events\n",
    "first_move_data = first_move_data[['sample', 'sample_before', 'event']].copy().to_numpy()\n"
   ]
  },
  {
   "cell_type": "code",
   "execution_count": null,
   "id": "302f7bc7-6d73-423e-a77a-ee54898b97e6",
   "metadata": {
    "tags": []
   },
   "outputs": [],
   "source": [
    "# load data \n",
    "bp_filtered_fif = mne.io.Raw(f\"{preproc_data_dir}/{subject}_bp_filtered_clean_data.fif\")\n",
    "\n",
    "# only epoch good channels\n",
    "channels_of_interest =  [x for x in bp_filtered_fif.info['ch_names'] if x not in bp_filtered_fif.info['bads']]\n",
    "\n",
    "\n",
    "# epoch the data\n",
    "first_move_epochs = mne.Epochs(bp_filtered_fif, first_move_data, \n",
    "                          event_id = 1, tmin = -5, tmax =5, \n",
    "                          baseline = None, picks = channels_of_interest,\n",
    "                             reject_by_annotation = False)\n",
    "# # save the data\n",
    "first_move_epochs.save(f\"{preproc_data_dir}/{subject}_bp_filtered_clean_first_move_events.fif\", overwrite = True, split_size = '1.9GB')\n"
   ]
  },
  {
   "cell_type": "markdown",
   "id": "5121e519",
   "metadata": {},
   "source": [
    "## Ghost Attack"
   ]
  },
  {
   "cell_type": "code",
   "execution_count": null,
   "id": "4166aa96",
   "metadata": {},
   "outputs": [],
   "source": [
    "## Load Behavioral Data ##\n",
    "ghost_attack_data = pd.read_csv(f\"{raw_data_dir}/behave/{subject}_attack_events.csv\")\n",
    "ghost_attack_data"
   ]
  },
  {
   "cell_type": "code",
   "execution_count": null,
   "id": "37388b25",
   "metadata": {},
   "outputs": [],
   "source": [
    "# create events\n",
    "ghost_attack_data = ghost_attack_data[['sample', 'sample_before', 'event']].copy().to_numpy()\n"
   ]
  },
  {
   "cell_type": "code",
   "execution_count": null,
   "id": "9377ffc3",
   "metadata": {},
   "outputs": [],
   "source": [
    "# load data \n",
    "bp_filtered_fif = mne.io.Raw(f\"{preproc_data_dir}/{subject}_bp_filtered_clean_data.fif\")\n",
    "\n",
    "# only epoch good channels\n",
    "channels_of_interest =  [x for x in bp_filtered_fif.info['ch_names'] if x not in bp_filtered_fif.info['bads']]\n",
    "\n",
    "\n",
    "# epoch the data\n",
    "ghost_attack_epochs = mne.Epochs(bp_filtered_fif, ghost_attack_data, \n",
    "                          event_id = 1, tmin = -4, tmax =6, \n",
    "                          baseline = None, picks = channels_of_interest,\n",
    "                             reject_by_annotation = False)\n",
    "# # save the data\n",
    "ghost_attack_epochs.save(f\"{preproc_data_dir}/{subject}_bp_filtered_clean_ghost_attack_events.fif\", overwrite = True, split_size = '1.9GB')\n"
   ]
  }
 ],
 "metadata": {
  "kernelspec": {
   "display_name": "Python 3 (ipykernel)",
   "language": "python",
   "name": "python3"
  },
  "language_info": {
   "codemirror_mode": {
    "name": "ipython",
    "version": 3
   },
   "file_extension": ".py",
   "mimetype": "text/x-python",
   "name": "python",
   "nbconvert_exporter": "python",
   "pygments_lexer": "ipython3",
   "version": "3.9.18"
  }
 },
 "nbformat": 4,
 "nbformat_minor": 5
}

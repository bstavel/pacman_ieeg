{
 "cells": [
  {
   "cell_type": "markdown",
   "id": "e184b24e-e064-48aa-b1eb-bd922a301171",
   "metadata": {},
   "source": [
    "# Preprocessing: LL10\n",
    "\n",
    "\n",
    "This markdown files loads the clean data and does a bipolar rereference as well as epochs the data\n"
   ]
  },
  {
   "cell_type": "code",
   "execution_count": 1,
   "id": "eb1fb0a1-89e5-48fc-9752-7462a522f009",
   "metadata": {},
   "outputs": [],
   "source": [
    "import matplotlib\n",
    "# matplotlib.use(\"Qt5Agg\")\n",
    "import matplotlib.pyplot as plt\n",
    "import pandas as pd\n",
    "import numpy as np\n",
    "from scipy import signal, stats\n",
    "import mat73\n",
    "import re\n",
    "from neurodsp.timefrequency import compute_wavelet_transform\n",
    "from BCI2kReader import BCI2kReader as b2k\n",
    "import os\n",
    "import mne\n",
    "from tabulate import tabulate\n",
    "import IPython\n",
    "import seaborn as sns"
   ]
  },
  {
   "cell_type": "code",
   "execution_count": 3,
   "id": "44c40205-8069-4a2c-9c42-1e0d938fead6",
   "metadata": {},
   "outputs": [],
   "source": [
    "# %matplotlib qt5"
   ]
  },
  {
   "cell_type": "code",
   "execution_count": 4,
   "id": "1f61d095-fbbd-42f5-b6ce-9b5139043844",
   "metadata": {},
   "outputs": [],
   "source": [
    "## Prep paths ##\n",
    "\n",
    "subject = 'LL10'\n",
    "raw_data_dir = f\"/home/brooke/pacman/raw_data/{subject}\"\n",
    "preproc_data_dir = f\"/home/brooke/pacman/preprocessing/{subject}/ieeg\""
   ]
  },
  {
   "cell_type": "code",
   "execution_count": 20,
   "id": "972ebb6c-af1a-4496-9463-9bd80c787ab2",
   "metadata": {},
   "outputs": [
    {
     "name": "stdout",
     "output_type": "stream",
     "text": [
      "Opening raw data file /home/brooke/pacman/raw_data/LL10/ieeg/LL10_notched_filtered_clean_ieeg.fif...\n",
      "    Range : 0 ... 1559659 =      0.000 ...  3046.209 secs\n",
      "Ready.\n",
      "Opening raw data file /home/brooke/pacman/raw_data/LL10/ieeg/LL10_raw_clean_ieeg.fif...\n",
      "    Range : 0 ... 1559659 =      0.000 ...  3046.209 secs\n",
      "Ready.\n"
     ]
    }
   ],
   "source": [
    "## Load Data ##\n",
    "\n",
    "# load filtered data #\n",
    "filtered_clean_fif = mne.io.Raw(f\"{raw_data_dir}/ieeg/{subject}_notched_filtered_clean_ieeg.fif\")\n",
    "\n",
    "# load raw data #\n",
    "raw_clean_fif = mne.io.Raw(f\"{raw_data_dir}/ieeg/{subject}_raw_clean_ieeg.fif\")\n",
    "\n"
   ]
  },
  {
   "cell_type": "markdown",
   "id": "cf6e23d4-6b9f-41fb-96f6-439b7c2c4b73",
   "metadata": {},
   "source": [
    "## Bipolar Rereferencing"
   ]
  },
  {
   "cell_type": "code",
   "execution_count": 21,
   "id": "8cd3c24f-2c3b-4695-b342-1b2cf3cb80cf",
   "metadata": {},
   "outputs": [],
   "source": [
    "## Channels did not include probe prefixes in bci data file, convert to descriptive names here\n",
    "\n",
    "# read in csv with correct names\n",
    "channel_csv = pd.read_csv(f\"{preproc_data_dir}/../LL10_correct_channel_names.csv\")\n",
    "\n",
    "# convert to dict\n",
    "channel_dict = dict(zip(channel_csv.bci_names, channel_csv.use_names))\n",
    "\n",
    "# rename\n",
    "mne.rename_channels(filtered_clean_fif.info, channel_dict)\n",
    "mne.rename_channels(raw_clean_fif.info, channel_dict)\n"
   ]
  },
  {
   "cell_type": "code",
   "execution_count": 26,
   "id": "b4e0117a-cb43-4f6c-bfd9-27a1a8a97887",
   "metadata": {},
   "outputs": [
    {
     "data": {
      "text/html": [
       "<table class=\"table table-hover table-striped table-sm table-responsive small\">\n",
       "    <tr>\n",
       "        <th>Measurement date</th>\n",
       "        \n",
       "        <td>Unknown</td>\n",
       "        \n",
       "    </tr>\n",
       "    <tr>\n",
       "        <th>Experimenter</th>\n",
       "        \n",
       "        <td>Unknown</td>\n",
       "        \n",
       "    </tr>\n",
       "        <th>Participant</th>\n",
       "        \n",
       "        <td>Unknown</td>\n",
       "        \n",
       "    </tr>\n",
       "    <tr>\n",
       "        <th>Digitized points</th>\n",
       "        \n",
       "        <td>0 points</td>\n",
       "        \n",
       "    </tr>\n",
       "    <tr>\n",
       "        <th>Good channels</th>\n",
       "        <td>148 sEEG, 1 Stimulus</td>\n",
       "    </tr>\n",
       "    <tr>\n",
       "        <th>Bad channels</th>\n",
       "        <td>RLEAS2, RLEAS3, RHP1, RAC8, RLEAS5, RLEAS6, RLEAS1, RLEAS4, LH8, CH74, CH75, CH76, CH77, CH78, CH79, CH80, CH81, CH82, CH83, CH84, CH85, CH86, CH87, CH88, CH89, CH90, CH91, CH92, CH93, CH94, CH95, CH96, CH97, CH98, CH99, CH100, CH101, CH102, CH103, CH104, CH105, CH106, CH107, CH108, CH109, CH110, CH111, CH112, CH113, CH114, CH115, CH116, CH117, CH118, CH119, CH120, CH121, CH122, CH123, CH124, CH125, CH126, CH127, CH128, CH129, CH130, CH131, CH132, CH133, CH134, CH135, CH136, CH137, CH138, CH139, CH140, CH141, CH142, CH143, CH144, CH145, CH146, CH147, STI</td>\n",
       "    </tr>\n",
       "    <tr>\n",
       "        <th>EOG channels</th>\n",
       "        <td>Not available</td>\n",
       "    </tr>\n",
       "    <tr>\n",
       "        <th>ECG channels</th>\n",
       "        <td>Not available</td>\n",
       "    \n",
       "    <tr>\n",
       "        <th>Sampling frequency</th>\n",
       "        <td>512.00 Hz</td>\n",
       "    </tr>\n",
       "    \n",
       "    \n",
       "    <tr>\n",
       "        <th>Highpass</th>\n",
       "        <td>1.00 Hz</td>\n",
       "    </tr>\n",
       "    \n",
       "    \n",
       "    <tr>\n",
       "        <th>Lowpass</th>\n",
       "        <td>150.00 Hz</td>\n",
       "    </tr>\n",
       "    \n",
       "    \n",
       "    \n",
       "    <tr>\n",
       "        <th>Filenames</th>\n",
       "        <td>LL10_notched_filtered_clean_ieeg.fif</td>\n",
       "    </tr>\n",
       "    \n",
       "    <tr>\n",
       "        <th>Duration</th>\n",
       "        <td>00:50:46 (HH:MM:SS)</td>\n",
       "    </tr>\n",
       "</table>"
      ],
      "text/plain": [
       "<Raw | LL10_notched_filtered_clean_ieeg.fif, 149 x 1559660 (3046.2 s), ~156 kB, data not loaded>"
      ]
     },
     "execution_count": 26,
     "metadata": {},
     "output_type": "execute_result"
    }
   ],
   "source": [
    "filtered_clean_fif"
   ]
  },
  {
   "cell_type": "code",
   "execution_count": 23,
   "id": "89283381-23c0-4ebd-be48-cb19cb802f64",
   "metadata": {},
   "outputs": [],
   "source": [
    "# helper functions\n",
    "\n",
    "def probe_and_num(elec_str): \n",
    "    ''' This convenience function takes an electrode string like LHH1 and outputs ('LHH', 1)\n",
    "    '''\n",
    "    if '_' in elec_str:\n",
    "        return None, None\n",
    "    else:   \n",
    "        regex_str = '(\\D+)(\\d+)' # group of letters followed by group of digits\n",
    "        matcher = re.compile(regex_str,re.IGNORECASE|re.DOTALL).search(elec_str)\n",
    "        if matcher:\n",
    "            probe, num = matcher.groups()\n",
    "            return probe, int(num)\n",
    "        else:\n",
    "            return None, None\n",
    "    \n",
    "def find_bipolar_pair(ch, labels, remove):\n",
    "    ''' Find the pair of a given electrode for bipolar referencing.\n",
    "        Given a single *ch* and a list of *labels*, some of which you want to *remove*,\n",
    "        this finds the next channel on that probe that isn't meant to be removed (WM is ok).\n",
    "    '''\n",
    "    bipolar_pair = None\n",
    "    probe, num = probe_and_num(ch)\n",
    "    other_in_probe = [other_ch for other_ch in labels if probe_and_num(other_ch)[0]==probe]\n",
    "    for i in range(len(other_in_probe)-num):\n",
    "        next_ch = probe + str(num+i+1)\n",
    "        if next_ch in remove or next_ch == 'STI':\n",
    "            continue\n",
    "        else:\n",
    "            bipolar_pair = next_ch\n",
    "            break\n",
    "    return bipolar_pair"
   ]
  },
  {
   "cell_type": "code",
   "execution_count": 24,
   "id": "eb30e39a-48e9-45c1-a063-6f94f7559792",
   "metadata": {
    "tags": []
   },
   "outputs": [
    {
     "name": "stdout",
     "output_type": "stream",
     "text": [
      "RA1 RA2\n",
      "RA2 RA3\n",
      "RA3 RA4\n",
      "RA4 RA5\n",
      "RA5 RA6\n",
      "RA6 RA7\n",
      "RA7 RA8\n",
      "RH1 RH2\n",
      "RH2 RH3\n",
      "RH3 RH4\n",
      "RH4 RH5\n",
      "RH5 RH6\n",
      "RH6 RH7\n",
      "RH7 RH8\n",
      "RHP1 noref\n",
      "RHP2 RHP3\n",
      "RHP3 RHP4\n",
      "RHP4 RHP5\n",
      "RHP5 RHP6\n",
      "RHP6 RHP7\n",
      "RHP7 RHP8\n",
      "RLEAS1 noref\n",
      "RLEAS2 noref\n",
      "RLEAS3 noref\n",
      "RLEAS4 noref\n",
      "RLEAS5 noref\n",
      "RLEAS6 noref\n",
      "ROF1 ROF2\n",
      "ROF2 ROF3\n",
      "ROF3 ROF4\n",
      "ROF4 ROF5\n",
      "ROF5 ROF6\n",
      "ROF6 ROF7\n",
      "ROF7 ROF8\n",
      "ROF8 ROF9\n",
      "ROF9 ROF10\n",
      "RAC1 RAC2\n",
      "RAC2 RAC3\n",
      "RAC3 RAC4\n",
      "RAC4 RAC5\n",
      "RAC5 RAC6\n",
      "RAC6 RAC7\n",
      "RAC8 noref\n",
      "LOF1 LOF2\n",
      "LOF2 LOF3\n",
      "LOF3 LOF4\n",
      "LOF4 LOF5\n",
      "LOF5 LOF6\n",
      "LOF6 LOF7\n",
      "LOF7 LOF8\n",
      "LOF8 LOF9\n",
      "LOF9 LOF10\n",
      "LAC1 LAC2\n",
      "LAC2 LAC3\n",
      "LAC3 LAC4\n",
      "LAC4 LAC5\n",
      "LAC5 LAC6\n",
      "LAC6 LAC7\n",
      "LAC7 LAC8\n",
      "LH1 LH2\n",
      "LH2 LH3\n",
      "LH3 LH4\n",
      "LH4 LH5\n",
      "LH5 LH6\n",
      "LH6 LH7\n",
      "LH8 noref\n",
      "CH74 noref\n",
      "CH75 noref\n",
      "CH76 noref\n",
      "CH77 noref\n",
      "CH78 noref\n",
      "CH79 noref\n",
      "CH80 noref\n",
      "CH81 noref\n",
      "CH82 noref\n",
      "CH83 noref\n",
      "CH84 noref\n",
      "CH85 noref\n",
      "CH86 noref\n",
      "CH87 noref\n",
      "CH88 noref\n",
      "CH89 noref\n",
      "CH90 noref\n",
      "CH91 noref\n",
      "CH92 noref\n",
      "CH93 noref\n",
      "CH94 noref\n",
      "CH95 noref\n",
      "CH96 noref\n",
      "CH97 noref\n",
      "CH98 noref\n",
      "CH99 noref\n",
      "CH100 noref\n",
      "CH101 noref\n",
      "CH102 noref\n",
      "CH103 noref\n",
      "CH104 noref\n",
      "CH105 noref\n",
      "CH106 noref\n",
      "CH107 noref\n",
      "CH108 noref\n",
      "CH109 noref\n",
      "CH110 noref\n",
      "CH111 noref\n",
      "CH112 noref\n",
      "CH113 noref\n",
      "CH114 noref\n",
      "CH115 noref\n",
      "CH116 noref\n",
      "CH117 noref\n",
      "CH118 noref\n",
      "CH119 noref\n",
      "CH120 noref\n",
      "CH121 noref\n",
      "CH122 noref\n",
      "CH123 noref\n",
      "CH124 noref\n",
      "CH125 noref\n",
      "CH126 noref\n",
      "CH127 noref\n",
      "CH128 noref\n",
      "CH129 noref\n",
      "CH130 noref\n",
      "CH131 noref\n",
      "CH132 noref\n",
      "CH133 noref\n",
      "CH134 noref\n",
      "CH135 noref\n",
      "CH136 noref\n",
      "CH137 noref\n",
      "CH138 noref\n",
      "CH139 noref\n",
      "CH140 noref\n",
      "CH141 noref\n",
      "CH142 noref\n",
      "CH143 noref\n",
      "CH144 noref\n",
      "CH145 noref\n",
      "CH146 noref\n",
      "CH147 noref\n",
      "STI noref\n"
     ]
    }
   ],
   "source": [
    "# Here I iterate through the electrodes in my ROIs and match them up with their bipolar pair\n",
    "pairs = []\n",
    "anode = []\n",
    "cathode = []\n",
    "pairs_name = []\n",
    "pairs_map = {}\n",
    "remove = filtered_clean_fif.info['bads']\n",
    "labels = filtered_clean_fif.info['ch_names']\n",
    "for ch in labels:\n",
    "    # if a channel is meant to be removed, it doesn't get to be in a bipolar pair\n",
    "    if ch in remove or ch == 'STI':\n",
    "        print(f\"{ch} noref\")\n",
    "    else:\n",
    "        pair = find_bipolar_pair(ch, labels, remove)\n",
    "        if pair:\n",
    "            anode.append(ch)\n",
    "            cathode.append(pair)\n",
    "            pairs.append((ch, pair))\n",
    "            pairs_map[ch] = f\"{ch}-{pair}\"\n",
    "            pairs_name.append(f\"{ch}-{pair}\")\n",
    "            print(ch, pair)"
   ]
  },
  {
   "cell_type": "code",
   "execution_count": 27,
   "id": "0143c18b-b730-443c-9365-e8dff955410a",
   "metadata": {},
   "outputs": [
    {
     "name": "stdout",
     "output_type": "stream",
     "text": [
      "Reading 0 ... 1559659  =      0.000 ...  3046.209 secs...\n",
      "sEEG channel type selected for re-referencing\n",
      "Creating RawArray with float64 data, n_channels=57, n_times=1559660\n",
      "    Range : 0 ... 1559659 =      0.000 ...  3046.209 secs\n",
      "Ready.\n",
      "Added the following bipolar channels:\n",
      "RA1-RA2, RA2-RA3, RA3-RA4, RA4-RA5, RA5-RA6, RA6-RA7, RA7-RA8, RH1-RH2, RH2-RH3, RH3-RH4, RH4-RH5, RH5-RH6, RH6-RH7, RH7-RH8, RHP2-RHP3, RHP3-RHP4, RHP4-RHP5, RHP5-RHP6, RHP6-RHP7, RHP7-RHP8, ROF1-ROF2, ROF2-ROF3, ROF3-ROF4, ROF4-ROF5, ROF5-ROF6, ROF6-ROF7, ROF7-ROF8, ROF8-ROF9, ROF9-ROF10, RAC1-RAC2, RAC2-RAC3, RAC3-RAC4, RAC4-RAC5, RAC5-RAC6, RAC6-RAC7, LOF1-LOF2, LOF2-LOF3, LOF3-LOF4, LOF4-LOF5, LOF5-LOF6, LOF6-LOF7, LOF7-LOF8, LOF8-LOF9, LOF9-LOF10, LAC1-LAC2, LAC2-LAC3, LAC3-LAC4, LAC4-LAC5, LAC5-LAC6, LAC6-LAC7, LAC7-LAC8, LH1-LH2, LH2-LH3, LH3-LH4, LH4-LH5, LH5-LH6, LH6-LH7\n",
      "Writing /home/brooke/pacman/preprocessing/LL10/ieeg/LL10_bp_filtered_clean_data.fif\n"
     ]
    },
    {
     "name": "stderr",
     "output_type": "stream",
     "text": [
      "/tmp/ipykernel_3187/1336304392.py:12: RuntimeWarning: This filename (/home/brooke/pacman/preprocessing/LL10/ieeg/LL10_bp_filtered_clean_data.fif) does not conform to MNE naming conventions. All raw files should end with raw.fif, raw_sss.fif, raw_tsss.fif, _meg.fif, _eeg.fif, _ieeg.fif, raw.fif.gz, raw_sss.fif.gz, raw_tsss.fif.gz, _meg.fif.gz, _eeg.fif.gz or _ieeg.fif.gz\n",
      "  bp_filt_fif.save(f\"{preproc_data_dir}/{subject}_bp_filtered_clean_data.fif\", overwrite = True)\n"
     ]
    },
    {
     "name": "stdout",
     "output_type": "stream",
     "text": [
      "Closing /home/brooke/pacman/preprocessing/LL10/ieeg/LL10_bp_filtered_clean_data.fif\n",
      "[done]\n",
      "Reading 0 ... 1559659  =      0.000 ...  3046.209 secs...\n",
      "sEEG channel type selected for re-referencing\n",
      "Creating RawArray with float64 data, n_channels=57, n_times=1559660\n",
      "    Range : 0 ... 1559659 =      0.000 ...  3046.209 secs\n",
      "Ready.\n",
      "Added the following bipolar channels:\n",
      "RA1-RA2, RA2-RA3, RA3-RA4, RA4-RA5, RA5-RA6, RA6-RA7, RA7-RA8, RH1-RH2, RH2-RH3, RH3-RH4, RH4-RH5, RH5-RH6, RH6-RH7, RH7-RH8, RHP2-RHP3, RHP3-RHP4, RHP4-RHP5, RHP5-RHP6, RHP6-RHP7, RHP7-RHP8, ROF1-ROF2, ROF2-ROF3, ROF3-ROF4, ROF4-ROF5, ROF5-ROF6, ROF6-ROF7, ROF7-ROF8, ROF8-ROF9, ROF9-ROF10, RAC1-RAC2, RAC2-RAC3, RAC3-RAC4, RAC4-RAC5, RAC5-RAC6, RAC6-RAC7, LOF1-LOF2, LOF2-LOF3, LOF3-LOF4, LOF4-LOF5, LOF5-LOF6, LOF6-LOF7, LOF7-LOF8, LOF8-LOF9, LOF9-LOF10, LAC1-LAC2, LAC2-LAC3, LAC3-LAC4, LAC4-LAC5, LAC5-LAC6, LAC6-LAC7, LAC7-LAC8, LH1-LH2, LH2-LH3, LH3-LH4, LH4-LH5, LH5-LH6, LH6-LH7\n",
      "Writing /home/brooke/pacman/preprocessing/LL10/ieeg/LL10_bp_raw_clean_data.fif\n"
     ]
    },
    {
     "name": "stderr",
     "output_type": "stream",
     "text": [
      "/tmp/ipykernel_3187/1336304392.py:25: RuntimeWarning: This filename (/home/brooke/pacman/preprocessing/LL10/ieeg/LL10_bp_raw_clean_data.fif) does not conform to MNE naming conventions. All raw files should end with raw.fif, raw_sss.fif, raw_tsss.fif, _meg.fif, _eeg.fif, _ieeg.fif, raw.fif.gz, raw_sss.fif.gz, raw_tsss.fif.gz, _meg.fif.gz, _eeg.fif.gz or _ieeg.fif.gz\n",
      "  bp_raw_fif.save(f\"{preproc_data_dir}/{subject}_bp_raw_clean_data.fif\", overwrite = True)\n"
     ]
    },
    {
     "name": "stdout",
     "output_type": "stream",
     "text": [
      "Closing /home/brooke/pacman/preprocessing/LL10/ieeg/LL10_bp_raw_clean_data.fif\n",
      "[done]\n"
     ]
    }
   ],
   "source": [
    "## Apply Rereference #\n",
    "\n",
    "if filtered_clean_fif.info['ch_names'] == raw_clean_fif.info['ch_names'] and filtered_clean_fif.info['bads'] == raw_clean_fif.info['bads']:\n",
    "    \n",
    "    # load filtered data\n",
    "    filtered_clean_fif.load_data()\n",
    "    \n",
    "    # set filtered reference \n",
    "    bp_filt_fif = mne.set_bipolar_reference(filtered_clean_fif, anode = anode, cathode = cathode)\n",
    "    \n",
    "    # save\n",
    "    bp_filt_fif.save(f\"{preproc_data_dir}/{subject}_bp_filtered_clean_data.fif\", overwrite = True)\n",
    "    \n",
    "    # clear var\n",
    "    bp_filt_fif = []\n",
    "    filtered_clean_fif = []\n",
    "    \n",
    "    # load raw data\n",
    "    raw_clean_fif.load_data()\n",
    "    \n",
    "    # set raw reference \n",
    "    bp_raw_fif = mne.set_bipolar_reference(raw_clean_fif, anode = anode, cathode = cathode)\n",
    "    \n",
    "    # save\n",
    "    bp_raw_fif.save(f\"{preproc_data_dir}/{subject}_bp_raw_clean_data.fif\", overwrite = True)\n",
    "\n",
    "    \n",
    "    # clear var\n",
    "    bp_raw_fif = []\n",
    "    raw_clean_fif = []    \n",
    "    \n",
    "    "
   ]
  },
  {
   "cell_type": "code",
   "execution_count": null,
   "id": "1ea82400-50d1-4198-aeb4-a07817b583c4",
   "metadata": {},
   "outputs": [],
   "source": [
    "# Visualize it #\n",
    "\n",
    "filtered_notch_bp_data.plot(events=events, color='b', bad_color = 'cyan', n_channels = 1, clipping = None, event_color = 'r')"
   ]
  },
  {
   "cell_type": "markdown",
   "id": "05db6586-9b8f-4d57-bc1c-e30371304798",
   "metadata": {},
   "source": [
    "## Epoching the data "
   ]
  },
  {
   "cell_type": "code",
   "execution_count": 5,
   "id": "279c987f-0321-4d7a-9d45-5d59f99bda62",
   "metadata": {},
   "outputs": [
    {
     "name": "stdout",
     "output_type": "stream",
     "text": [
      "Opening raw data file /home/brooke/pacman/preprocessing/LL10/ieeg/LL10_bp_raw_clean_data.fif...\n"
     ]
    },
    {
     "name": "stderr",
     "output_type": "stream",
     "text": [
      "/tmp/ipykernel_13751/981813422.py:4: RuntimeWarning: This filename (/home/brooke/pacman/preprocessing/LL10/ieeg/LL10_bp_raw_clean_data.fif) does not conform to MNE naming conventions. All raw files should end with raw.fif, raw_sss.fif, raw_tsss.fif, _meg.fif, _eeg.fif, _ieeg.fif, raw.fif.gz, raw_sss.fif.gz, raw_tsss.fif.gz, _meg.fif.gz, _eeg.fif.gz or _ieeg.fif.gz\n",
      "  bp_raw_fif = mne.io.Raw(f\"{preproc_data_dir}/{subject}_bp_raw_clean_data.fif\")\n"
     ]
    },
    {
     "name": "stdout",
     "output_type": "stream",
     "text": [
      "    Range : 0 ... 1559659 =      0.000 ...  3046.209 secs\n",
      "Ready.\n",
      "480 events found\n",
      "Event IDs: [0 1]\n",
      "Not setting metadata\n",
      "240 matching events found\n",
      "No baseline correction applied\n",
      "0 projection items activated\n",
      "Loading data for 240 events and 8193 original time points ...\n"
     ]
    },
    {
     "name": "stderr",
     "output_type": "stream",
     "text": [
      "/tmp/ipykernel_13751/981813422.py:18: RuntimeWarning: This filename (/home/brooke/pacman/preprocessing/LL10/ieeg/LL10_bp_clean_pres-locked_ieeg.fif) does not conform to MNE naming conventions. All epochs files should end with -epo.fif, -epo.fif.gz, _epo.fif or _epo.fif.gz\n",
      "  epoched_data.save(f\"{preproc_data_dir}/{subject}_bp_clean_pres-locked_ieeg.fif\", overwrite = True, split_size = '1.9GB')\n"
     ]
    },
    {
     "name": "stdout",
     "output_type": "stream",
     "text": [
      "0 bad epochs dropped\n",
      "Loading data for 1 events and 8193 original time points ...\n",
      "Loading data for 240 events and 8193 original time points ...\n"
     ]
    }
   ],
   "source": [
    "## Epoching the raw data ##\n",
    "\n",
    "# load data \n",
    "bp_raw_fif = mne.io.Raw(f\"{preproc_data_dir}/{subject}_bp_raw_clean_data.fif\")\n",
    "events = mne.find_events(bp_raw_fif, output='step', consecutive = False, stim_channel='STI')\n",
    "\n",
    "# create events\n",
    "    \n",
    "# only epoch good channels\n",
    "channels_of_interest =  [x for x in bp_raw_fif.info['ch_names'] if x not in bp_raw_fif.info['bads']]\n",
    "\n",
    "# epoch the data\n",
    "epoched_data = mne.Epochs(bp_raw_fif, events, \n",
    "                          event_id = 1, tmin = -4, tmax = 12, \n",
    "                          baseline = None, picks = channels_of_interest,\n",
    "                             reject_by_annotation = False)\n",
    "# save the data\n",
    "epoched_data.save(f\"{preproc_data_dir}/{subject}_bp_clean_pres-locked_ieeg.fif\", overwrite = True, split_size = '1.9GB')"
   ]
  },
  {
   "cell_type": "markdown",
   "id": "56725cf0-83c7-4e09-aedf-330b411164ce",
   "metadata": {},
   "source": [
    "## Create Other Events"
   ]
  },
  {
   "cell_type": "code",
   "execution_count": 4,
   "id": "7b3d3765-439f-4b74-9fb6-9f234afd0119",
   "metadata": {},
   "outputs": [
    {
     "data": {
      "text/html": [
       "<div>\n",
       "<style scoped>\n",
       "    .dataframe tbody tr th:only-of-type {\n",
       "        vertical-align: middle;\n",
       "    }\n",
       "\n",
       "    .dataframe tbody tr th {\n",
       "        vertical-align: top;\n",
       "    }\n",
       "\n",
       "    .dataframe thead th {\n",
       "        text-align: right;\n",
       "    }\n",
       "</style>\n",
       "<table border=\"1\" class=\"dataframe\">\n",
       "  <thead>\n",
       "    <tr style=\"text-align: right;\">\n",
       "      <th></th>\n",
       "      <th>trial_numeric</th>\n",
       "      <th>TrialType</th>\n",
       "      <th>sample</th>\n",
       "      <th>sample_before</th>\n",
       "      <th>event</th>\n",
       "    </tr>\n",
       "  </thead>\n",
       "  <tbody>\n",
       "    <tr>\n",
       "      <th>0</th>\n",
       "      <td>2</td>\n",
       "      <td>8</td>\n",
       "      <td>96500</td>\n",
       "      <td>0</td>\n",
       "      <td>1</td>\n",
       "    </tr>\n",
       "    <tr>\n",
       "      <th>1</th>\n",
       "      <td>3</td>\n",
       "      <td>11</td>\n",
       "      <td>119100</td>\n",
       "      <td>0</td>\n",
       "      <td>1</td>\n",
       "    </tr>\n",
       "    <tr>\n",
       "      <th>2</th>\n",
       "      <td>5</td>\n",
       "      <td>10</td>\n",
       "      <td>137800</td>\n",
       "      <td>0</td>\n",
       "      <td>1</td>\n",
       "    </tr>\n",
       "    <tr>\n",
       "      <th>3</th>\n",
       "      <td>6</td>\n",
       "      <td>15</td>\n",
       "      <td>157400</td>\n",
       "      <td>0</td>\n",
       "      <td>1</td>\n",
       "    </tr>\n",
       "    <tr>\n",
       "      <th>4</th>\n",
       "      <td>8</td>\n",
       "      <td>20</td>\n",
       "      <td>194700</td>\n",
       "      <td>0</td>\n",
       "      <td>1</td>\n",
       "    </tr>\n",
       "    <tr>\n",
       "      <th>...</th>\n",
       "      <td>...</td>\n",
       "      <td>...</td>\n",
       "      <td>...</td>\n",
       "      <td>...</td>\n",
       "      <td>...</td>\n",
       "    </tr>\n",
       "    <tr>\n",
       "      <th>397</th>\n",
       "      <td>446</td>\n",
       "      <td>17</td>\n",
       "      <td>5770200</td>\n",
       "      <td>0</td>\n",
       "      <td>1</td>\n",
       "    </tr>\n",
       "    <tr>\n",
       "      <th>398</th>\n",
       "      <td>447</td>\n",
       "      <td>15</td>\n",
       "      <td>5782200</td>\n",
       "      <td>0</td>\n",
       "      <td>1</td>\n",
       "    </tr>\n",
       "    <tr>\n",
       "      <th>399</th>\n",
       "      <td>448</td>\n",
       "      <td>18</td>\n",
       "      <td>5793400</td>\n",
       "      <td>0</td>\n",
       "      <td>1</td>\n",
       "    </tr>\n",
       "    <tr>\n",
       "      <th>400</th>\n",
       "      <td>449</td>\n",
       "      <td>19</td>\n",
       "      <td>5811600</td>\n",
       "      <td>0</td>\n",
       "      <td>1</td>\n",
       "    </tr>\n",
       "    <tr>\n",
       "      <th>401</th>\n",
       "      <td>450</td>\n",
       "      <td>13</td>\n",
       "      <td>5831700</td>\n",
       "      <td>0</td>\n",
       "      <td>1</td>\n",
       "    </tr>\n",
       "  </tbody>\n",
       "</table>\n",
       "<p>402 rows × 5 columns</p>\n",
       "</div>"
      ],
      "text/plain": [
       "     trial_numeric  TrialType   sample  sample_before  event\n",
       "0                2          8    96500              0      1\n",
       "1                3         11   119100              0      1\n",
       "2                5         10   137800              0      1\n",
       "3                6         15   157400              0      1\n",
       "4                8         20   194700              0      1\n",
       "..             ...        ...      ...            ...    ...\n",
       "397            446         17  5770200              0      1\n",
       "398            447         15  5782200              0      1\n",
       "399            448         18  5793400              0      1\n",
       "400            449         19  5811600              0      1\n",
       "401            450         13  5831700              0      1\n",
       "\n",
       "[402 rows x 5 columns]"
      ]
     },
     "execution_count": 4,
     "metadata": {},
     "output_type": "execute_result"
    }
   ],
   "source": [
    "## Load Behavioral Data ##\n",
    "last_dot_data = pd.read_csv(f\"{raw_data_dir}/behave/{subject}_last_dot_events.csv\")\n",
    "last_dot_data"
   ]
  },
  {
   "cell_type": "code",
   "execution_count": 6,
   "id": "9e97e841-a744-4927-83fa-64f213850958",
   "metadata": {},
   "outputs": [],
   "source": [
    "# filter to good epochs and fix trial indexing\n",
    "last_dot_data['trial_numeric'] = last_dot_data['trial_numeric'] - 1\n",
    "\n",
    "# create events\n",
    "last_dot_events = last_dot_data[['sample', 'sample_before', 'event']].copy().to_numpy()\n"
   ]
  },
  {
   "cell_type": "code",
   "execution_count": 9,
   "id": "aeb2d9e2-8cc6-4c98-a3d0-32f4b8bfcd9f",
   "metadata": {},
   "outputs": [
    {
     "name": "stdout",
     "output_type": "stream",
     "text": [
      "Not setting metadata\n",
      "402 matching events found\n",
      "No baseline correction applied\n",
      "0 projection items activated\n",
      "Overwriting existing file.\n",
      "Loading data for 402 events and 10501 original time points ...\n"
     ]
    },
    {
     "name": "stderr",
     "output_type": "stream",
     "text": [
      "/tmp/ipykernel_2043602/260881574.py:7: RuntimeWarning: This filename (/home/brooke/pacman/preprocessing/BJH016/ieeg/BJH016_bp_raw_clean_last_dot_events.fif) does not conform to MNE naming conventions. All epochs files should end with -epo.fif, -epo.fif.gz, _epo.fif or _epo.fif.gz\n",
      "  last_dot_epochs.save(f\"{preproc_data_dir}/{subject}_bp_raw_clean_last_dot_events.fif\", overwrite = True, split_size = '1.9GB')\n"
     ]
    },
    {
     "name": "stdout",
     "output_type": "stream",
     "text": [
      "0 bad epochs dropped\n",
      "Loading data for 1 events and 10501 original time points ...\n",
      "Splitting into 2 parts\n",
      "Loading data for 201 events and 10501 original time points ...\n",
      "Loading data for 201 events and 10501 original time points ...\n"
     ]
    }
   ],
   "source": [
    "# epoch the data\n",
    "last_dot_epochs = mne.Epochs(bp_raw_fif, last_dot_events, \n",
    "                          event_id = 1, tmin = -.75 * 4, tmax =.75 * 3, \n",
    "                          baseline = None, picks = channels_of_interest,\n",
    "                             reject_by_annotation = False)\n",
    "# # save the data\n",
    "last_dot_epochs.save(f\"{preproc_data_dir}/{subject}_bp_raw_clean_last_dot_events.fif\", overwrite = True, split_size = '1.9GB')\n"
   ]
  },
  {
   "cell_type": "markdown",
   "id": "9c56831d-d960-4989-a8fb-d8a766f3eaec",
   "metadata": {},
   "source": [
    "Okay, what we need to do is pul the sample of the last dot eaten on each trial\n",
    "\n",
    "and then also the last turn around\n",
    "\n",
    "looking for a comparison between these moments on ghost and no ghost trials\n",
    "\n",
    "we can either get the average and then compare peaks via foof groups in hc and ofc and anterior cingulate"
   ]
  },
  {
   "cell_type": "markdown",
   "id": "b2fff22c-fb17-4e84-a95b-184ce1fe4773",
   "metadata": {},
   "source": [
    "## Last Away"
   ]
  },
  {
   "cell_type": "code",
   "execution_count": 4,
   "id": "314a2973-e175-4eba-885a-1f363cc51b3c",
   "metadata": {},
   "outputs": [
    {
     "data": {
      "text/html": [
       "<div>\n",
       "<style scoped>\n",
       "    .dataframe tbody tr th:only-of-type {\n",
       "        vertical-align: middle;\n",
       "    }\n",
       "\n",
       "    .dataframe tbody tr th {\n",
       "        vertical-align: top;\n",
       "    }\n",
       "\n",
       "    .dataframe thead th {\n",
       "        text-align: right;\n",
       "    }\n",
       "</style>\n",
       "<table border=\"1\" class=\"dataframe\">\n",
       "  <thead>\n",
       "    <tr style=\"text-align: right;\">\n",
       "      <th></th>\n",
       "      <th>trial_numeric</th>\n",
       "      <th>TrialType</th>\n",
       "      <th>sample</th>\n",
       "      <th>sample_before</th>\n",
       "      <th>event</th>\n",
       "    </tr>\n",
       "  </thead>\n",
       "  <tbody>\n",
       "    <tr>\n",
       "      <th>0</th>\n",
       "      <td>2</td>\n",
       "      <td>3</td>\n",
       "      <td>23270</td>\n",
       "      <td>0</td>\n",
       "      <td>1</td>\n",
       "    </tr>\n",
       "    <tr>\n",
       "      <th>1</th>\n",
       "      <td>3</td>\n",
       "      <td>8</td>\n",
       "      <td>27084</td>\n",
       "      <td>0</td>\n",
       "      <td>1</td>\n",
       "    </tr>\n",
       "    <tr>\n",
       "      <th>2</th>\n",
       "      <td>4</td>\n",
       "      <td>11</td>\n",
       "      <td>29952</td>\n",
       "      <td>0</td>\n",
       "      <td>1</td>\n",
       "    </tr>\n",
       "    <tr>\n",
       "      <th>3</th>\n",
       "      <td>6</td>\n",
       "      <td>16</td>\n",
       "      <td>36531</td>\n",
       "      <td>0</td>\n",
       "      <td>1</td>\n",
       "    </tr>\n",
       "    <tr>\n",
       "      <th>4</th>\n",
       "      <td>7</td>\n",
       "      <td>2</td>\n",
       "      <td>45158</td>\n",
       "      <td>0</td>\n",
       "      <td>1</td>\n",
       "    </tr>\n",
       "    <tr>\n",
       "      <th>...</th>\n",
       "      <td>...</td>\n",
       "      <td>...</td>\n",
       "      <td>...</td>\n",
       "      <td>...</td>\n",
       "      <td>...</td>\n",
       "    </tr>\n",
       "    <tr>\n",
       "      <th>220</th>\n",
       "      <td>235</td>\n",
       "      <td>8</td>\n",
       "      <td>846643</td>\n",
       "      <td>0</td>\n",
       "      <td>1</td>\n",
       "    </tr>\n",
       "    <tr>\n",
       "      <th>221</th>\n",
       "      <td>236</td>\n",
       "      <td>10</td>\n",
       "      <td>849228</td>\n",
       "      <td>0</td>\n",
       "      <td>1</td>\n",
       "    </tr>\n",
       "    <tr>\n",
       "      <th>222</th>\n",
       "      <td>237</td>\n",
       "      <td>15</td>\n",
       "      <td>852096</td>\n",
       "      <td>0</td>\n",
       "      <td>1</td>\n",
       "    </tr>\n",
       "    <tr>\n",
       "      <th>223</th>\n",
       "      <td>238</td>\n",
       "      <td>19</td>\n",
       "      <td>858496</td>\n",
       "      <td>0</td>\n",
       "      <td>1</td>\n",
       "    </tr>\n",
       "    <tr>\n",
       "      <th>224</th>\n",
       "      <td>239</td>\n",
       "      <td>16</td>\n",
       "      <td>862208</td>\n",
       "      <td>0</td>\n",
       "      <td>1</td>\n",
       "    </tr>\n",
       "  </tbody>\n",
       "</table>\n",
       "<p>225 rows × 5 columns</p>\n",
       "</div>"
      ],
      "text/plain": [
       "     trial_numeric  TrialType  sample  sample_before  event\n",
       "0                2          3   23270              0      1\n",
       "1                3          8   27084              0      1\n",
       "2                4         11   29952              0      1\n",
       "3                6         16   36531              0      1\n",
       "4                7          2   45158              0      1\n",
       "..             ...        ...     ...            ...    ...\n",
       "220            235          8  846643              0      1\n",
       "221            236         10  849228              0      1\n",
       "222            237         15  852096              0      1\n",
       "223            238         19  858496              0      1\n",
       "224            239         16  862208              0      1\n",
       "\n",
       "[225 rows x 5 columns]"
      ]
     },
     "execution_count": 4,
     "metadata": {},
     "output_type": "execute_result"
    }
   ],
   "source": [
    "## Load Behavioral Data ##\n",
    "last_away_data = pd.read_csv(f\"{raw_data_dir}/behave/{subject}_last_away_events.csv\")\n",
    "last_away_data"
   ]
  },
  {
   "cell_type": "code",
   "execution_count": 5,
   "id": "4689505c-b013-49df-b9a4-ba21af89a906",
   "metadata": {},
   "outputs": [],
   "source": [
    "# filter to good epochs and fix trial indexing\n",
    "last_away_data['trial_numeric'] = last_away_data['trial_numeric'] - 1\n",
    "\n",
    "# create events\n",
    "last_away_events = last_away_data[['sample', 'sample_before', 'event']].copy().to_numpy()\n"
   ]
  },
  {
   "cell_type": "code",
   "execution_count": 6,
   "id": "148a650d-fddf-4d14-9e16-d7a15aa4922f",
   "metadata": {},
   "outputs": [
    {
     "name": "stdout",
     "output_type": "stream",
     "text": [
      "Not setting metadata\n",
      "225 matching events found\n",
      "No baseline correction applied\n",
      "0 projection items activated\n",
      "Loading data for 225 events and 5121 original time points ...\n"
     ]
    },
    {
     "name": "stderr",
     "output_type": "stream",
     "text": [
      "/tmp/ipykernel_46403/3409931828.py:7: RuntimeWarning: This filename (/home/brooke/pacman/preprocessing/LL10/ieeg/LL10_bp_raw_clean_last_away_events.fif) does not conform to MNE naming conventions. All epochs files should end with -epo.fif, -epo.fif.gz, _epo.fif or _epo.fif.gz\n",
      "  last_away_epochs.save(f\"{preproc_data_dir}/{subject}_bp_raw_clean_last_away_events.fif\", overwrite = True, split_size = '1.9GB')\n"
     ]
    },
    {
     "name": "stdout",
     "output_type": "stream",
     "text": [
      "0 bad epochs dropped\n",
      "Loading data for 1 events and 5121 original time points ...\n",
      "Loading data for 225 events and 5121 original time points ...\n"
     ]
    }
   ],
   "source": [
    "# epoch the data\n",
    "last_away_epochs = mne.Epochs(bp_raw_fif, last_away_events, \n",
    "                          event_id = 1, tmin = -5, tmax =5, \n",
    "                          baseline = None, picks = channels_of_interest,\n",
    "                             reject_by_annotation = False)\n",
    "# # save the data\n",
    "last_away_epochs.save(f\"{preproc_data_dir}/{subject}_bp_raw_clean_last_away_events.fif\", overwrite = True, split_size = '1.9GB')\n"
   ]
  },
  {
   "cell_type": "code",
   "execution_count": null,
   "id": "c206a94e-5c05-459b-9e3f-a4b14f295d73",
   "metadata": {},
   "outputs": [],
   "source": []
  }
 ],
 "metadata": {
  "kernelspec": {
   "display_name": "Python [conda env:ieeg_analysis] *",
   "language": "python",
   "name": "conda-env-ieeg_analysis-py"
  },
  "language_info": {
   "codemirror_mode": {
    "name": "ipython",
    "version": 3
   },
   "file_extension": ".py",
   "mimetype": "text/x-python",
   "name": "python",
   "nbconvert_exporter": "python",
   "pygments_lexer": "ipython3",
   "version": "3.9.12"
  }
 },
 "nbformat": 4,
 "nbformat_minor": 5
}

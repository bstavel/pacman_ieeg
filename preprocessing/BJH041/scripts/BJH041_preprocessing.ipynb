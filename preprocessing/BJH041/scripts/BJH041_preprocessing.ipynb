{
 "cells": [
  {
   "cell_type": "markdown",
   "id": "5caa54ea-80d7-4318-b427-5411b5caea1d",
   "metadata": {},
   "source": [
    "# Preprocessing: BJH041\n",
    "\n",
    "\n",
    "This markdown files loads the clean data and does a bipolar rereference as well as epochs the data\n"
   ]
  },
  {
   "cell_type": "code",
   "execution_count": 1,
   "id": "7124d816-0294-4977-b65a-64ec8a13910a",
   "metadata": {
    "tags": []
   },
   "outputs": [],
   "source": [
    "import matplotlib\n",
    "matplotlib.use(\"Qt5Agg\")\n",
    "import matplotlib.pyplot as plt\n",
    "import pandas as pd \n",
    "import numpy as np\n",
    "from scipy import signal, stats\n",
    "import mat73\n",
    "import re\n",
    "from neurodsp.timefrequency import compute_wavelet_transform\n",
    "import os\n",
    "import mne\n",
    "import IPython\n",
    "import seaborn as sns"
   ]
  },
  {
   "cell_type": "code",
   "execution_count": 2,
   "id": "d7d0fa71-30b2-4684-ad96-1e5b7c05a39a",
   "metadata": {
    "tags": []
   },
   "outputs": [],
   "source": [
    "## Prep paths ##\n",
    "\n",
    "subject = 'BJH041'\n",
    "raw_data_dir = f\"/home/brooke/pacman/raw_data/{subject}\"\n",
    "preproc_data_dir = f\"/home/brooke/pacman/preprocessing/{subject}/ieeg\""
   ]
  },
  {
   "cell_type": "code",
   "execution_count": 3,
   "id": "63fce4c8-66c4-48df-80f5-a5f545d76d3d",
   "metadata": {
    "tags": []
   },
   "outputs": [
    {
     "name": "stdout",
     "output_type": "stream",
     "text": [
      "Opening raw data file /home/brooke/pacman/raw_data/BJH041/ieeg/BJH041_notched_filtered_clean_ieeg.fif...\n",
      "    Range : 0 ... 2085999 =      0.000 ...  1042.999 secs\n",
      "Ready.\n",
      "Opening raw data file /home/brooke/pacman/raw_data/BJH041/ieeg/BJH041_notched_filtered_clean_ieeg-1.fif...\n",
      "    Range : 2086000 ... 2998199 =   1043.000 ...  1499.100 secs\n",
      "Ready.\n",
      "Opening raw data file /home/brooke/pacman/raw_data/BJH041/ieeg/BJH041_raw_clean_ieeg.fif...\n",
      "    Range : 0 ... 2085999 =      0.000 ...  1042.999 secs\n",
      "Ready.\n",
      "Opening raw data file /home/brooke/pacman/raw_data/BJH041/ieeg/BJH041_raw_clean_ieeg-1.fif...\n",
      "    Range : 2086000 ... 2998199 =   1043.000 ...  1499.100 secs\n",
      "Ready.\n"
     ]
    }
   ],
   "source": [
    "## Load Data ##\n",
    "\n",
    "# load filtered data #\n",
    "filtered_clean_fif = mne.io.Raw(f\"{raw_data_dir}/ieeg/{subject}_notched_filtered_clean_ieeg.fif\")\n",
    "\n",
    "# load raw data #\n",
    "raw_clean_fif = mne.io.Raw(f\"{raw_data_dir}/ieeg/{subject}_raw_clean_ieeg.fif\")\n",
    "\n"
   ]
  },
  {
   "cell_type": "markdown",
   "id": "466e2db7-335c-450b-a643-cf3b6dd43c4e",
   "metadata": {},
   "source": [
    "## Bipolar Rereferencing"
   ]
  },
  {
   "cell_type": "code",
   "execution_count": 4,
   "id": "a8b94f89-1f90-4cac-bd34-1ac9d851b174",
   "metadata": {
    "tags": []
   },
   "outputs": [],
   "source": [
    "# helper functions\n",
    "\n",
    "def probe_and_num(elec_str): \n",
    "    ''' This convenience function takes an electrode string like LHH1 and outputs ('LHH', 1)\n",
    "    '''\n",
    "    if '_' in elec_str:\n",
    "        return None, None\n",
    "    else:   \n",
    "        regex_str = '(\\D+)(\\d+)' # group of letters followed by group of digits\n",
    "        matcher = re.compile(regex_str,re.IGNORECASE|re.DOTALL).search(elec_str)\n",
    "        if matcher:\n",
    "            probe, num = matcher.groups()\n",
    "            return probe, int(num)\n",
    "        else:\n",
    "            return None, None\n",
    "    \n",
    "def find_bipolar_pair(ch, labels, remove):\n",
    "    ''' Find the pair of a given electrode for bipolar referencing.\n",
    "        Given a single *ch* and a list of *labels*, some of which you want to *remove*,\n",
    "        this finds the next channel on that probe that isn't meant to be removed (WM is ok).\n",
    "    '''\n",
    "    bipolar_pair = None\n",
    "    probe, num = probe_and_num(ch)\n",
    "    other_in_probe = [other_ch for other_ch in labels if probe_and_num(other_ch)[0]==probe]\n",
    "    for i in range(len(other_in_probe)-num):\n",
    "        next_ch = probe + str(num+i+1)\n",
    "        if next_ch in remove or next_ch == 'STI':\n",
    "            continue\n",
    "        else:\n",
    "            bipolar_pair = next_ch\n",
    "            break\n",
    "    return bipolar_pair"
   ]
  },
  {
   "cell_type": "code",
   "execution_count": 5,
   "id": "f1eefdfe-b251-4f28-8f1b-2608f94da503",
   "metadata": {
    "tags": []
   },
   "outputs": [
    {
     "name": "stdout",
     "output_type": "stream",
     "text": [
      "AL1  AL2\n",
      "AL2 AL3\n",
      "AL3 AL4\n",
      "AL4 AL5\n",
      "REF1 noref\n",
      "REF2 noref\n",
      "AL5 AL6\n",
      "AL6 AL7\n",
      "AL7 AL8\n",
      "AL8 AL9\n",
      "AL9 AL10\n",
      "AL10 AL11\n",
      "AL11 AL12\n",
      "AL12 AL13\n",
      "AL13 AL14\n",
      "BL1 BL2\n",
      "BL2 BL3\n",
      "BL3 BL4\n",
      "BL4 BL5\n",
      "BL5 BL6\n",
      "BL6 BL7\n",
      "BL7 BL8\n",
      "BL8 BL9\n",
      "BL9 BL10\n",
      "BL10 BL11\n",
      "BL11 BL12\n",
      "BL12 BL13\n",
      "BL13 BL14\n",
      "CL1 CL2\n",
      "CL2 CL3\n",
      "CL3 CL4\n",
      "CL4 CL6\n",
      "CL5 noref\n",
      "CL6 CL7\n",
      "CL7 CL8\n",
      "DL1 DL2\n",
      "DL2 DL3\n",
      "DL3 DL4\n",
      "DL4 DL5\n",
      "DL5 DL6\n",
      "DL6 DL7\n",
      "DL7 DL8\n",
      "DL8 DL9\n",
      "DL9 DL10\n",
      "DL10 DL11\n",
      "DL11 DL12\n",
      "DL12 DL13\n",
      "DL13 DL14\n",
      "DL14 DL15\n",
      "DL15 DL16\n",
      "EL1 noref\n",
      "EL2 noref\n",
      "EL3 noref\n",
      "EL4 noref\n",
      "EL5 noref\n",
      "EL6 noref\n",
      "EL7 noref\n",
      "EL8 noref\n",
      "EL9 noref\n",
      "EL10 noref\n",
      "FL1 noref\n",
      "FL2 noref\n",
      "FL3 noref\n",
      "FL4 noref\n",
      "FL5 noref\n",
      "FL6 noref\n",
      "FL7 noref\n",
      "FL8 noref\n",
      "FL9 noref\n",
      "FL10 noref\n",
      "GL1 GL2\n",
      "GL2 GL3\n",
      "GL3 GL4\n",
      "GL4 GL5\n",
      "GL5 GL6\n",
      "GL6 GL7\n",
      "GL7 GL8\n",
      "GL8 GL9\n",
      "GL9 GL10\n",
      "GL10 GL11\n",
      "GL11 GL12\n",
      "GL12 GL13\n",
      "GL13 GL14\n",
      "GL14 GL15\n",
      "GL15 GL16\n",
      "HL1 HL2\n",
      "HL2 HL3\n",
      "HL3 HL4\n",
      "HL4 HL5\n",
      "HL5 HL6\n",
      "HL6 HL7\n",
      "HL7 HL8\n",
      "HL8 HL9\n",
      "HL9 HL10\n",
      "HL10 HL11\n",
      "HL11 HL12\n",
      "IL1 noref\n",
      "IL2 noref\n",
      "IL3 noref\n",
      "IL4 noref\n",
      "IL5 noref\n",
      "IL6 noref\n",
      "IL7 noref\n",
      "IL8 IL9\n",
      "IL9 IL10\n",
      "IL10 IL11\n",
      "IL11 IL12\n",
      "IL12 IL13\n",
      "IL13 IL14\n",
      "IL14 IL15\n",
      "IL15 IL16\n",
      "JL1 noref\n",
      "JL2 noref\n",
      "JL3 noref\n",
      "JL4 noref\n",
      "JL5 noref\n",
      "JL6 JL7\n",
      "JL7 JL8\n",
      "JL8 JL9\n",
      "JL9 JL10\n",
      "JL10 JL11\n",
      "JL11 JL12\n",
      "JL12 JL13\n",
      "JL13 JL14\n",
      "JL14 JL15\n",
      "JL15 JL16\n",
      "KL1 noref\n",
      "KL2 noref\n",
      "KL3 noref\n",
      "KL4 noref\n",
      "KL5 noref\n",
      "KL6 KL7\n",
      "KL7 KL8\n",
      "KL8 KL9\n",
      "KL9 KL10\n",
      "KL10 KL11\n",
      "KL11 KL12\n",
      "KL12 KL13\n",
      "KL13 KL14\n",
      "KL14 KL15\n",
      "KL15 KL16\n",
      "LL1 LL2\n",
      "LL2 LL3\n",
      "LL3 LL4\n",
      "LL4 LL5\n",
      "LL5 LL6\n",
      "LL6 LL7\n",
      "LL7 LL8\n",
      "LL8 LL9\n",
      "LL9 LL10\n",
      "LL10 LL11\n",
      "LL11 LL12\n",
      "LL12 LL13\n",
      "LL13 LL14\n",
      "ML1 ML2\n",
      "ML2 ML3\n",
      "ML3 ML4\n",
      "ML4 ML5\n",
      "ML5 ML6\n",
      "ML6 ML7\n",
      "ML7 ML8\n",
      "ML8 ML9\n",
      "ML9 ML10\n",
      "ML10 ML12\n",
      "ML11 noref\n",
      "ML12 ML13\n",
      "ML13 ML14\n",
      "ML14 ML15\n",
      "ML15 ML16\n",
      "NL1 NL2\n",
      "NL2 NL3\n",
      "NL3 NL4\n",
      "NL4 NL5\n",
      "NL5 NL6\n",
      "NL6 NL7\n",
      "NL7 NL8\n",
      "NL8 NL9\n",
      "NL9 NL10\n",
      "NL10 NL11\n",
      "NL11 NL12\n",
      "NL12 NL13\n",
      "NL13 NL14\n",
      "NL14 NL15\n",
      "NL15 NL16\n",
      "OR1 noref\n",
      "OR2 noref\n",
      "OR3 noref\n",
      "OR4 noref\n",
      "OR5 noref\n",
      "OR6 noref\n",
      "OR7 noref\n",
      "OR8 noref\n",
      "EMPTY noref\n",
      "EMPTY_206 noref\n",
      "EMPTY_207 noref\n",
      "EMPTY_208 noref\n",
      "EMPTY_209 noref\n",
      "EMPTY_210 noref\n",
      "EMPTY_211 noref\n",
      "EMPTY_212 noref\n",
      "EMPTY_213 noref\n",
      "EMPTY_214 noref\n",
      "EMPTY_215 noref\n",
      "EMPTY_216 noref\n",
      "EMPTY_217 noref\n",
      "EMPTY_218 noref\n",
      "EMPTY_219 noref\n",
      "EMPTY_220 noref\n",
      "EMPTY_221 noref\n",
      "EMPTY_222 noref\n",
      "EMPTY_223 noref\n",
      "EMPTY_224 noref\n",
      "EMPTY_225 noref\n",
      "EMPTY_226 noref\n",
      "EMPTY_227 noref\n",
      "EMPTY_228 noref\n",
      "EMPTY_229 noref\n",
      "EMPTY_230 noref\n",
      "EMPTY_231 noref\n",
      "FP1 noref\n",
      "F3 noref\n",
      "C3 noref\n",
      "P3 noref\n",
      "O1 noref\n",
      "FP2 noref\n",
      "F4 noref\n",
      "C4 noref\n",
      "P4 noref\n",
      "O2 noref\n",
      "F7 noref\n",
      "T7 noref\n",
      "P7 noref\n",
      "F8 noref\n",
      "T8 noref\n",
      "P8 noref\n",
      "F9 noref\n",
      "F10 noref\n",
      "FPZ noref\n",
      "FZ noref\n",
      "CZ noref\n",
      "PZ noref\n",
      "OZ noref\n",
      "EKG1 noref\n",
      "EKG2 noref\n",
      "STI noref\n"
     ]
    }
   ],
   "source": [
    "# Here I iterate through the electrodes in my ROIs and match them up with their bipolar pair\n",
    "pairs = []\n",
    "anode = []\n",
    "cathode = []\n",
    "pairs_name = []\n",
    "pairs_map = {}\n",
    "remove = filtered_clean_fif.info['bads']\n",
    "labels = filtered_clean_fif.info['ch_names']\n",
    "for ch in labels:\n",
    "    # if a channel is meant to be removed, it doesn't get to be in a bipolar pair\n",
    "    if ch in remove or ch == 'STI':\n",
    "        print(f\"{ch} noref\")\n",
    "    else:\n",
    "        pair = find_bipolar_pair(ch, labels, remove)\n",
    "        if pair:\n",
    "            anode.append(ch)\n",
    "            cathode.append(pair)\n",
    "            pairs.append((ch, pair))\n",
    "            pairs_map[ch] = f\"{ch}-{pair}\"\n",
    "            pairs_name.append(f\"{ch}-{pair}\")\n",
    "            print(ch, pair)"
   ]
  },
  {
   "cell_type": "code",
   "execution_count": 6,
   "id": "588d66f9-a020-426f-b955-b3e58bd52d1b",
   "metadata": {
    "tags": []
   },
   "outputs": [
    {
     "name": "stdout",
     "output_type": "stream",
     "text": [
      "Reading 0 ... 2998199  =      0.000 ...  1499.100 secs...\n",
      "sEEG channel type selected for re-referencing\n",
      "Creating RawArray with float64 data, n_channels=143, n_times=2998200\n",
      "    Range : 0 ... 2998199 =      0.000 ...  1499.100 secs\n",
      "Ready.\n",
      "Added the following bipolar channels:\n",
      "AL1 -AL2, AL2-AL3, AL3-AL4, AL4-AL5, AL5-AL6, AL6-AL7, AL7-AL8, AL8-AL9, AL9-AL10, AL10-AL11, AL11-AL12, AL12-AL13, AL13-AL14, BL1-BL2, BL2-BL3, BL3-BL4, BL4-BL5, BL5-BL6, BL6-BL7, BL7-BL8, BL8-BL9, BL9-BL10, BL10-BL11, BL11-BL12, BL12-BL13, BL13-BL14, CL1-CL2, CL2-CL3, CL3-CL4, CL4-CL6, CL6-CL7, CL7-CL8, DL1-DL2, DL2-DL3, DL3-DL4, DL4-DL5, DL5-DL6, DL6-DL7, DL7-DL8, DL8-DL9, DL9-DL10, DL10-DL11, DL11-DL12, DL12-DL13, DL13-DL14, DL14-DL15, DL15-DL16, GL1-GL2, GL2-GL3, GL3-GL4, GL4-GL5, GL5-GL6, GL6-GL7, GL7-GL8, GL8-GL9, GL9-GL10, GL10-GL11, GL11-GL12, GL12-GL13, GL13-GL14, GL14-GL15, GL15-GL16, HL1-HL2, HL2-HL3, HL3-HL4, HL4-HL5, HL5-HL6, HL6-HL7, HL7-HL8, HL8-HL9, HL9-HL10, HL10-HL11, HL11-HL12, IL8-IL9, IL9-IL10, IL10-IL11, IL11-IL12, IL12-IL13, IL13-IL14, IL14-IL15, IL15-IL16, JL6-JL7, JL7-JL8, JL8-JL9, JL9-JL10, JL10-JL11, JL11-JL12, JL12-JL13, JL13-JL14, JL14-JL15, JL15-JL16, KL6-KL7, KL7-KL8, KL8-KL9, KL9-KL10, KL10-KL11, KL11-KL12, KL12-KL13, KL13-KL14, KL14-KL15, KL15-KL16, LL1-LL2, LL2-LL3, LL3-LL4, LL4-LL5, LL5-LL6, LL6-LL7, LL7-LL8, LL8-LL9, LL9-LL10, LL10-LL11, LL11-LL12, LL12-LL13, LL13-LL14, ML1-ML2, ML2-ML3, ML3-ML4, ML4-ML5, ML5-ML6, ML6-ML7, ML7-ML8, ML8-ML9, ML9-ML10, ML10-ML12, ML12-ML13, ML13-ML14, ML14-ML15, ML15-ML16, NL1-NL2, NL2-NL3, NL3-NL4, NL4-NL5, NL5-NL6, NL6-NL7, NL7-NL8, NL8-NL9, NL9-NL10, NL10-NL11, NL11-NL12, NL12-NL13, NL13-NL14, NL14-NL15, NL15-NL16\n",
      "Writing /home/brooke/pacman/preprocessing/BJH041/ieeg/BJH041_bp_filtered_clean_data.fif\n"
     ]
    },
    {
     "name": "stderr",
     "output_type": "stream",
     "text": [
      "/tmp/ipykernel_9863/1336304392.py:12: RuntimeWarning: This filename (/home/brooke/pacman/preprocessing/BJH041/ieeg/BJH041_bp_filtered_clean_data.fif) does not conform to MNE naming conventions. All raw files should end with raw.fif, raw_sss.fif, raw_tsss.fif, _meg.fif, _eeg.fif, _ieeg.fif, raw.fif.gz, raw_sss.fif.gz, raw_tsss.fif.gz, _meg.fif.gz, _eeg.fif.gz or _ieeg.fif.gz\n",
      "  bp_filt_fif.save(f\"{preproc_data_dir}/{subject}_bp_filtered_clean_data.fif\", overwrite = True)\n"
     ]
    },
    {
     "name": "stdout",
     "output_type": "stream",
     "text": [
      "Overwriting existing file.\n",
      "Writing /home/brooke/pacman/preprocessing/BJH041/ieeg/BJH041_bp_filtered_clean_data-1.fif\n",
      "Closing /home/brooke/pacman/preprocessing/BJH041/ieeg/BJH041_bp_filtered_clean_data-1.fif\n",
      "Closing /home/brooke/pacman/preprocessing/BJH041/ieeg/BJH041_bp_filtered_clean_data.fif\n",
      "[done]\n",
      "Reading 0 ... 2998199  =      0.000 ...  1499.100 secs...\n",
      "sEEG channel type selected for re-referencing\n",
      "Creating RawArray with float64 data, n_channels=143, n_times=2998200\n",
      "    Range : 0 ... 2998199 =      0.000 ...  1499.100 secs\n",
      "Ready.\n",
      "Added the following bipolar channels:\n",
      "AL1 -AL2, AL2-AL3, AL3-AL4, AL4-AL5, AL5-AL6, AL6-AL7, AL7-AL8, AL8-AL9, AL9-AL10, AL10-AL11, AL11-AL12, AL12-AL13, AL13-AL14, BL1-BL2, BL2-BL3, BL3-BL4, BL4-BL5, BL5-BL6, BL6-BL7, BL7-BL8, BL8-BL9, BL9-BL10, BL10-BL11, BL11-BL12, BL12-BL13, BL13-BL14, CL1-CL2, CL2-CL3, CL3-CL4, CL4-CL6, CL6-CL7, CL7-CL8, DL1-DL2, DL2-DL3, DL3-DL4, DL4-DL5, DL5-DL6, DL6-DL7, DL7-DL8, DL8-DL9, DL9-DL10, DL10-DL11, DL11-DL12, DL12-DL13, DL13-DL14, DL14-DL15, DL15-DL16, GL1-GL2, GL2-GL3, GL3-GL4, GL4-GL5, GL5-GL6, GL6-GL7, GL7-GL8, GL8-GL9, GL9-GL10, GL10-GL11, GL11-GL12, GL12-GL13, GL13-GL14, GL14-GL15, GL15-GL16, HL1-HL2, HL2-HL3, HL3-HL4, HL4-HL5, HL5-HL6, HL6-HL7, HL7-HL8, HL8-HL9, HL9-HL10, HL10-HL11, HL11-HL12, IL8-IL9, IL9-IL10, IL10-IL11, IL11-IL12, IL12-IL13, IL13-IL14, IL14-IL15, IL15-IL16, JL6-JL7, JL7-JL8, JL8-JL9, JL9-JL10, JL10-JL11, JL11-JL12, JL12-JL13, JL13-JL14, JL14-JL15, JL15-JL16, KL6-KL7, KL7-KL8, KL8-KL9, KL9-KL10, KL10-KL11, KL11-KL12, KL12-KL13, KL13-KL14, KL14-KL15, KL15-KL16, LL1-LL2, LL2-LL3, LL3-LL4, LL4-LL5, LL5-LL6, LL6-LL7, LL7-LL8, LL8-LL9, LL9-LL10, LL10-LL11, LL11-LL12, LL12-LL13, LL13-LL14, ML1-ML2, ML2-ML3, ML3-ML4, ML4-ML5, ML5-ML6, ML6-ML7, ML7-ML8, ML8-ML9, ML9-ML10, ML10-ML12, ML12-ML13, ML13-ML14, ML14-ML15, ML15-ML16, NL1-NL2, NL2-NL3, NL3-NL4, NL4-NL5, NL5-NL6, NL6-NL7, NL7-NL8, NL8-NL9, NL9-NL10, NL10-NL11, NL11-NL12, NL12-NL13, NL13-NL14, NL14-NL15, NL15-NL16\n",
      "Writing /home/brooke/pacman/preprocessing/BJH041/ieeg/BJH041_bp_raw_clean_data.fif\n"
     ]
    },
    {
     "name": "stderr",
     "output_type": "stream",
     "text": [
      "/tmp/ipykernel_9863/1336304392.py:25: RuntimeWarning: This filename (/home/brooke/pacman/preprocessing/BJH041/ieeg/BJH041_bp_raw_clean_data.fif) does not conform to MNE naming conventions. All raw files should end with raw.fif, raw_sss.fif, raw_tsss.fif, _meg.fif, _eeg.fif, _ieeg.fif, raw.fif.gz, raw_sss.fif.gz, raw_tsss.fif.gz, _meg.fif.gz, _eeg.fif.gz or _ieeg.fif.gz\n",
      "  bp_raw_fif.save(f\"{preproc_data_dir}/{subject}_bp_raw_clean_data.fif\", overwrite = True)\n"
     ]
    },
    {
     "name": "stdout",
     "output_type": "stream",
     "text": [
      "Overwriting existing file.\n",
      "Writing /home/brooke/pacman/preprocessing/BJH041/ieeg/BJH041_bp_raw_clean_data-1.fif\n",
      "Closing /home/brooke/pacman/preprocessing/BJH041/ieeg/BJH041_bp_raw_clean_data-1.fif\n",
      "Closing /home/brooke/pacman/preprocessing/BJH041/ieeg/BJH041_bp_raw_clean_data.fif\n",
      "[done]\n"
     ]
    }
   ],
   "source": [
    "## Apply Rereference #\n",
    "\n",
    "if filtered_clean_fif.info['ch_names'] == raw_clean_fif.info['ch_names'] and filtered_clean_fif.info['bads'] == raw_clean_fif.info['bads']:\n",
    "    \n",
    "    # load filtered data\n",
    "    filtered_clean_fif.load_data()\n",
    "    \n",
    "    # set filtered reference \n",
    "    bp_filt_fif = mne.set_bipolar_reference(filtered_clean_fif, anode = anode, cathode = cathode)\n",
    "    \n",
    "    # save\n",
    "    bp_filt_fif.save(f\"{preproc_data_dir}/{subject}_bp_filtered_clean_data.fif\", overwrite = True)\n",
    "    \n",
    "    # clear var\n",
    "    bp_filt_fif = []\n",
    "    filtered_clean_fif = []\n",
    "    \n",
    "    # load raw data\n",
    "    raw_clean_fif.load_data()\n",
    "    \n",
    "    # set raw reference \n",
    "    bp_raw_fif = mne.set_bipolar_reference(raw_clean_fif, anode = anode, cathode = cathode)\n",
    "    \n",
    "    # save\n",
    "    bp_raw_fif.save(f\"{preproc_data_dir}/{subject}_bp_raw_clean_data.fif\", overwrite = True)\n",
    "\n",
    "    \n",
    "    # clear var\n",
    "    bp_raw_fif = []\n",
    "    raw_clean_fif = []    \n",
    "    \n",
    "    "
   ]
  },
  {
   "cell_type": "code",
   "execution_count": null,
   "id": "0a9bd982-5b34-45b4-885f-dffef3b7c337",
   "metadata": {},
   "outputs": [],
   "source": [
    "# Visualize it #\n",
    "\n",
    "# bp_raw_fif.plot(events=events, color='b', bad_color = 'cyan', n_channels = 1, clipping = None, event_color = 'r')"
   ]
  },
  {
   "cell_type": "markdown",
   "id": "a938b93d-19c7-42cf-af9b-9f4517c2cde6",
   "metadata": {},
   "source": [
    "## Epoching the data "
   ]
  },
  {
   "cell_type": "markdown",
   "id": "363a8293-c07c-4444-b221-3b7dd5251a47",
   "metadata": {},
   "source": [
    "### Onset"
   ]
  },
  {
   "cell_type": "code",
   "execution_count": 3,
   "metadata": {},
   "outputs": [
    {
     "name": "stdout",
     "output_type": "stream",
     "text": [
      "Opening raw data file /home/brooke/pacman/preprocessing/BJH041/ieeg/BJH041_bp_filtered_clean_data.fif...\n",
      "    Range : 0 ... 2189999 =      0.000 ...  1094.999 secs\n",
      "Ready.\n",
      "Opening raw data file /home/brooke/pacman/preprocessing/BJH041/ieeg/BJH041_bp_filtered_clean_data-1.fif...\n",
      "    Range : 2190000 ... 2998199 =   1095.000 ...  1499.100 secs\n",
      "Ready.\n"
     ]
    },
    {
     "name": "stderr",
     "output_type": "stream",
     "text": [
      "/tmp/ipykernel_6267/644633114.py:1: RuntimeWarning: This filename (/home/brooke/pacman/preprocessing/BJH041/ieeg/BJH041_bp_filtered_clean_data.fif) does not conform to MNE naming conventions. All raw files should end with raw.fif, raw_sss.fif, raw_tsss.fif, _meg.fif, _eeg.fif, _ieeg.fif, raw.fif.gz, raw_sss.fif.gz, raw_tsss.fif.gz, _meg.fif.gz, _eeg.fif.gz or _ieeg.fif.gz\n",
      "  bp_filtered_fif = mne.io.Raw(f\"{preproc_data_dir}/{subject}_bp_filtered_clean_data.fif\")\n"
     ]
    },
    {
     "name": "stdout",
     "output_type": "stream",
     "text": [
      "480 events found\n",
      "Event IDs: [0 1]\n"
     ]
    }
   ],
   "source": [
    "bp_filtered_fif = mne.io.Raw(f\"{preproc_data_dir}/{subject}_bp_filtered_clean_data.fif\")\n",
    "events = mne.find_events(bp_filtered_fif, output='step', consecutive = False, stim_channel='STI')\n"
   ]
  },
  {
   "cell_type": "code",
   "execution_count": 7,
   "id": "d34cf356-0303-4ce0-b53c-c3ff8c60316f",
   "metadata": {
    "tags": []
   },
   "outputs": [
    {
     "name": "stdout",
     "output_type": "stream",
     "text": [
      "Opening raw data file /home/brooke/pacman/preprocessing/BJH041/ieeg/BJH041_bp_filtered_clean_data.fif...\n",
      "    Range : 0 ... 2189999 =      0.000 ...  1094.999 secs\n",
      "Ready.\n",
      "Opening raw data file /home/brooke/pacman/preprocessing/BJH041/ieeg/BJH041_bp_filtered_clean_data-1.fif...\n",
      "    Range : 2190000 ... 2998199 =   1095.000 ...  1499.100 secs\n",
      "Ready.\n"
     ]
    },
    {
     "name": "stderr",
     "output_type": "stream",
     "text": [
      "/tmp/ipykernel_9863/1463149468.py:4: RuntimeWarning: This filename (/home/brooke/pacman/preprocessing/BJH041/ieeg/BJH041_bp_filtered_clean_data.fif) does not conform to MNE naming conventions. All raw files should end with raw.fif, raw_sss.fif, raw_tsss.fif, _meg.fif, _eeg.fif, _ieeg.fif, raw.fif.gz, raw_sss.fif.gz, raw_tsss.fif.gz, _meg.fif.gz, _eeg.fif.gz or _ieeg.fif.gz\n",
      "  bp_filtered_fif = mne.io.Raw(f\"{preproc_data_dir}/{subject}_bp_filtered_clean_data.fif\")\n"
     ]
    },
    {
     "name": "stdout",
     "output_type": "stream",
     "text": [
      "480 events found\n",
      "Event IDs: [0 1]\n",
      "Not setting metadata\n",
      "240 matching events found\n",
      "No baseline correction applied\n",
      "0 projection items activated\n",
      "Loading data for 1 events and 32001 original time points ...\n",
      "Splitting into 3 parts\n",
      "Loading data for 80 events and 32001 original time points ...\n"
     ]
    },
    {
     "name": "stderr",
     "output_type": "stream",
     "text": [
      "/tmp/ipykernel_9863/1463149468.py:18: RuntimeWarning: This filename (/home/brooke/pacman/preprocessing/BJH041/ieeg/BJH041_bp_clean_pres-locked_ieeg.fif) does not conform to MNE naming conventions. All epochs files should end with -epo.fif, -epo.fif.gz, _epo.fif or _epo.fif.gz\n",
      "  epoched_data.save(f\"{preproc_data_dir}/{subject}_bp_clean_pres-locked_ieeg.fif\", overwrite = True, split_size = '1.9GB')\n"
     ]
    },
    {
     "name": "stdout",
     "output_type": "stream",
     "text": [
      "Loading data for 80 events and 32001 original time points ...\n",
      "Loading data for 80 events and 32001 original time points ...\n"
     ]
    }
   ],
   "source": [
    "## Epoching the raw data ##\n",
    "\n",
    "# load data \n",
    "bp_filtered_fif = mne.io.Raw(f\"{preproc_data_dir}/{subject}_bp_filtered_clean_data.fif\")\n",
    "events = mne.find_events(bp_filtered_fif, output='step', consecutive = False, stim_channel='STI')\n",
    "\n",
    "# create events\n",
    "    \n",
    "# only epoch good channels\n",
    "channels_of_interest =  [x for x in bp_filtered_fif.info['ch_names'] if x not in bp_filtered_fif.info['bads']]\n",
    "\n",
    "# epoch the data\n",
    "epoched_data = mne.Epochs(bp_filtered_fif, events, \n",
    "                          event_id = 1, tmin = -4, tmax = 12, \n",
    "                          baseline = None, picks = channels_of_interest,\n",
    "                             reject_by_annotation = False)\n",
    "# save the data\n",
    "epoched_data.save(f\"{preproc_data_dir}/{subject}_bp_clean_pres-locked_ieeg.fif\", overwrite = True, split_size = '1.9GB')"
   ]
  },
  {
   "cell_type": "markdown",
   "id": "f4302cbb-9bab-4e65-aeb8-dcee85c67880",
   "metadata": {},
   "source": [
    "### Trial End"
   ]
  },
  {
   "cell_type": "code",
   "execution_count": 9,
   "id": "9ea0726b-3f47-4585-bbd5-72c10ed3f06d",
   "metadata": {
    "tags": []
   },
   "outputs": [
    {
     "name": "stdout",
     "output_type": "stream",
     "text": [
      "Opening raw data file /home/brooke/pacman/preprocessing/BJH041/ieeg/BJH041_bp_filtered_clean_data.fif...\n",
      "    Range : 0 ... 2189999 =      0.000 ...  1094.999 secs\n",
      "Ready.\n",
      "Opening raw data file /home/brooke/pacman/preprocessing/BJH041/ieeg/BJH041_bp_filtered_clean_data-1.fif...\n",
      "    Range : 2190000 ... 2998199 =   1095.000 ...  1499.100 secs\n",
      "Ready.\n"
     ]
    },
    {
     "name": "stderr",
     "output_type": "stream",
     "text": [
      "/tmp/ipykernel_9863/875914644.py:4: RuntimeWarning: This filename (/home/brooke/pacman/preprocessing/BJH041/ieeg/BJH041_bp_filtered_clean_data.fif) does not conform to MNE naming conventions. All raw files should end with raw.fif, raw_sss.fif, raw_tsss.fif, _meg.fif, _eeg.fif, _ieeg.fif, raw.fif.gz, raw_sss.fif.gz, raw_tsss.fif.gz, _meg.fif.gz, _eeg.fif.gz or _ieeg.fif.gz\n",
      "  bp_filtered_fif = mne.io.Raw(f\"{preproc_data_dir}/{subject}_bp_filtered_clean_data.fif\")\n"
     ]
    },
    {
     "name": "stdout",
     "output_type": "stream",
     "text": [
      "480 events found\n",
      "Event IDs: [0 1]\n",
      "Not setting metadata\n",
      "239 matching events found\n",
      "No baseline correction applied\n",
      "0 projection items activated\n",
      "Overwriting existing file.\n",
      "Loading data for 1 events and 20001 original time points ...\n",
      "Splitting into 2 parts\n"
     ]
    },
    {
     "name": "stderr",
     "output_type": "stream",
     "text": [
      "/tmp/ipykernel_9863/875914644.py:19: RuntimeWarning: This filename (/home/brooke/pacman/preprocessing/BJH041/ieeg/BJH041_bp_clean_end-locked_ieeg.fif) does not conform to MNE naming conventions. All epochs files should end with -epo.fif, -epo.fif.gz, _epo.fif or _epo.fif.gz\n",
      "  epoched_data.save(f\"{preproc_data_dir}/{subject}_bp_clean_end-locked_ieeg.fif\", overwrite = True, split_size = '1.9GB')\n"
     ]
    },
    {
     "name": "stdout",
     "output_type": "stream",
     "text": [
      "Loading data for 120 events and 20001 original time points ...\n",
      "Loading data for 119 events and 20001 original time points ...\n"
     ]
    }
   ],
   "source": [
    "## Epoching the raw data ##\n",
    "\n",
    "# load data \n",
    "bp_filtered_fif = mne.io.Raw(f\"{preproc_data_dir}/{subject}_bp_filtered_clean_data.fif\")\n",
    "events = mne.find_events(bp_filtered_fif, output='step', consecutive = False, stim_channel='STI')\n",
    "\n",
    "# create events\n",
    "events = events[0:-1]\n",
    "\n",
    "# only epoch good channels\n",
    "channels_of_interest =  [x for x in bp_filtered_fif.info['ch_names'] if x not in bp_filtered_fif.info['bads']]\n",
    "\n",
    "# epoch the data\n",
    "epoched_data = mne.Epochs(bp_filtered_fif, events, \n",
    "                          event_id = 0, tmin = -5, tmax = 5, \n",
    "                          baseline = None, picks = channels_of_interest,\n",
    "                             reject_by_annotation = False)\n",
    "# save the data\n",
    "epoched_data.save(f\"{preproc_data_dir}/{subject}_bp_clean_end-locked_ieeg.fif\", overwrite = True, split_size = '1.9GB')"
   ]
  },
  {
   "cell_type": "markdown",
   "id": "4a8943e3-aec3-4aaf-9f8b-a629382b4711",
   "metadata": {},
   "source": [
    "### Last Away"
   ]
  },
  {
   "cell_type": "code",
   "execution_count": 10,
   "id": "736f64f0-a000-4a57-be90-7ff0c27ac7af",
   "metadata": {
    "tags": []
   },
   "outputs": [
    {
     "data": {
      "text/html": [
       "<div>\n",
       "<style scoped>\n",
       "    .dataframe tbody tr th:only-of-type {\n",
       "        vertical-align: middle;\n",
       "    }\n",
       "\n",
       "    .dataframe tbody tr th {\n",
       "        vertical-align: top;\n",
       "    }\n",
       "\n",
       "    .dataframe thead th {\n",
       "        text-align: right;\n",
       "    }\n",
       "</style>\n",
       "<table border=\"1\" class=\"dataframe\">\n",
       "  <thead>\n",
       "    <tr style=\"text-align: right;\">\n",
       "      <th></th>\n",
       "      <th>neural_trial_numeric</th>\n",
       "      <th>TrialType</th>\n",
       "      <th>sample</th>\n",
       "      <th>sample_before</th>\n",
       "      <th>event</th>\n",
       "    </tr>\n",
       "  </thead>\n",
       "  <tbody>\n",
       "    <tr>\n",
       "      <th>0</th>\n",
       "      <td>0</td>\n",
       "      <td>13</td>\n",
       "      <td>17200</td>\n",
       "      <td>0</td>\n",
       "      <td>1</td>\n",
       "    </tr>\n",
       "    <tr>\n",
       "      <th>1</th>\n",
       "      <td>1</td>\n",
       "      <td>3</td>\n",
       "      <td>26600</td>\n",
       "      <td>0</td>\n",
       "      <td>1</td>\n",
       "    </tr>\n",
       "    <tr>\n",
       "      <th>2</th>\n",
       "      <td>3</td>\n",
       "      <td>12</td>\n",
       "      <td>48800</td>\n",
       "      <td>0</td>\n",
       "      <td>1</td>\n",
       "    </tr>\n",
       "    <tr>\n",
       "      <th>3</th>\n",
       "      <td>4</td>\n",
       "      <td>6</td>\n",
       "      <td>61900</td>\n",
       "      <td>0</td>\n",
       "      <td>1</td>\n",
       "    </tr>\n",
       "    <tr>\n",
       "      <th>4</th>\n",
       "      <td>5</td>\n",
       "      <td>18</td>\n",
       "      <td>74000</td>\n",
       "      <td>0</td>\n",
       "      <td>1</td>\n",
       "    </tr>\n",
       "    <tr>\n",
       "      <th>...</th>\n",
       "      <td>...</td>\n",
       "      <td>...</td>\n",
       "      <td>...</td>\n",
       "      <td>...</td>\n",
       "      <td>...</td>\n",
       "    </tr>\n",
       "    <tr>\n",
       "      <th>192</th>\n",
       "      <td>233</td>\n",
       "      <td>7</td>\n",
       "      <td>2724700</td>\n",
       "      <td>0</td>\n",
       "      <td>1</td>\n",
       "    </tr>\n",
       "    <tr>\n",
       "      <th>193</th>\n",
       "      <td>234</td>\n",
       "      <td>12</td>\n",
       "      <td>2733800</td>\n",
       "      <td>0</td>\n",
       "      <td>1</td>\n",
       "    </tr>\n",
       "    <tr>\n",
       "      <th>194</th>\n",
       "      <td>235</td>\n",
       "      <td>20</td>\n",
       "      <td>2744800</td>\n",
       "      <td>0</td>\n",
       "      <td>1</td>\n",
       "    </tr>\n",
       "    <tr>\n",
       "      <th>195</th>\n",
       "      <td>237</td>\n",
       "      <td>8</td>\n",
       "      <td>2774200</td>\n",
       "      <td>0</td>\n",
       "      <td>1</td>\n",
       "    </tr>\n",
       "    <tr>\n",
       "      <th>196</th>\n",
       "      <td>238</td>\n",
       "      <td>19</td>\n",
       "      <td>2784400</td>\n",
       "      <td>0</td>\n",
       "      <td>1</td>\n",
       "    </tr>\n",
       "  </tbody>\n",
       "</table>\n",
       "<p>197 rows × 5 columns</p>\n",
       "</div>"
      ],
      "text/plain": [
       "     neural_trial_numeric  TrialType   sample  sample_before  event\n",
       "0                       0         13    17200              0      1\n",
       "1                       1          3    26600              0      1\n",
       "2                       3         12    48800              0      1\n",
       "3                       4          6    61900              0      1\n",
       "4                       5         18    74000              0      1\n",
       "..                    ...        ...      ...            ...    ...\n",
       "192                   233          7  2724700              0      1\n",
       "193                   234         12  2733800              0      1\n",
       "194                   235         20  2744800              0      1\n",
       "195                   237          8  2774200              0      1\n",
       "196                   238         19  2784400              0      1\n",
       "\n",
       "[197 rows x 5 columns]"
      ]
     },
     "execution_count": 10,
     "metadata": {},
     "output_type": "execute_result"
    }
   ],
   "source": [
    "## Load Behavioral Data ##\n",
    "last_away_data = pd.read_csv(f\"{raw_data_dir}/behave/{subject}_last_away_events.csv\")\n",
    "last_away_data"
   ]
  },
  {
   "cell_type": "code",
   "execution_count": 11,
   "id": "4c16ca43-2895-4a24-977d-b84035bdff96",
   "metadata": {
    "tags": []
   },
   "outputs": [],
   "source": [
    "# create events\n",
    "last_away_events = last_away_data[['sample', 'sample_before', 'event']].copy().to_numpy()\n"
   ]
  },
  {
   "cell_type": "code",
   "execution_count": 12,
   "id": "2981e217-c706-4d9b-bd78-a9ff79462bd1",
   "metadata": {
    "tags": []
   },
   "outputs": [
    {
     "name": "stdout",
     "output_type": "stream",
     "text": [
      "Opening raw data file /home/brooke/pacman/preprocessing/BJH041/ieeg/BJH041_bp_filtered_clean_data.fif...\n",
      "    Range : 0 ... 2189999 =      0.000 ...  1094.999 secs\n",
      "Ready.\n",
      "Opening raw data file /home/brooke/pacman/preprocessing/BJH041/ieeg/BJH041_bp_filtered_clean_data-1.fif...\n",
      "    Range : 2190000 ... 2998199 =   1095.000 ...  1499.100 secs\n",
      "Ready.\n",
      "Not setting metadata\n",
      "197 matching events found\n",
      "No baseline correction applied\n",
      "0 projection items activated\n",
      "Loading data for 1 events and 20001 original time points ...\n",
      "Splitting into 2 parts\n",
      "Loading data for 99 events and 20001 original time points ...\n"
     ]
    },
    {
     "name": "stderr",
     "output_type": "stream",
     "text": [
      "/tmp/ipykernel_9863/678285560.py:2: RuntimeWarning: This filename (/home/brooke/pacman/preprocessing/BJH041/ieeg/BJH041_bp_filtered_clean_data.fif) does not conform to MNE naming conventions. All raw files should end with raw.fif, raw_sss.fif, raw_tsss.fif, _meg.fif, _eeg.fif, _ieeg.fif, raw.fif.gz, raw_sss.fif.gz, raw_tsss.fif.gz, _meg.fif.gz, _eeg.fif.gz or _ieeg.fif.gz\n",
      "  bp_filtered_fif = mne.io.Raw(f\"{preproc_data_dir}/{subject}_bp_filtered_clean_data.fif\")\n",
      "/tmp/ipykernel_9863/678285560.py:13: RuntimeWarning: This filename (/home/brooke/pacman/preprocessing/BJH041/ieeg/BJH041_bp_filtered_clean_last_away_events.fif) does not conform to MNE naming conventions. All epochs files should end with -epo.fif, -epo.fif.gz, _epo.fif or _epo.fif.gz\n",
      "  last_away_epochs.save(f\"{preproc_data_dir}/{subject}_bp_filtered_clean_last_away_events.fif\", overwrite = True, split_size = '1.9GB')\n"
     ]
    },
    {
     "name": "stdout",
     "output_type": "stream",
     "text": [
      "Loading data for 98 events and 20001 original time points ...\n"
     ]
    }
   ],
   "source": [
    "# load data \n",
    "bp_filtered_fif = mne.io.Raw(f\"{preproc_data_dir}/{subject}_bp_filtered_clean_data.fif\")\n",
    "    \n",
    "# only epoch good channels\n",
    "channels_of_interest =  [x for x in bp_filtered_fif.info['ch_names'] if x not in bp_filtered_fif.info['bads']]\n",
    "\n",
    "# epoch the data\n",
    "last_away_epochs = mne.Epochs(bp_filtered_fif, last_away_events, \n",
    "                          event_id = 1, tmin = -5, tmax =5, \n",
    "                          baseline = None, picks = channels_of_interest,\n",
    "                             reject_by_annotation = False)\n",
    "# # save the data\n",
    "last_away_epochs.save(f\"{preproc_data_dir}/{subject}_bp_filtered_clean_last_away_events.fif\", overwrite = True, split_size = '1.9GB')\n"
   ]
  },
  {
   "cell_type": "markdown",
   "id": "133aafa9-c73e-4924-ab01-46e860d97993",
   "metadata": {
    "tags": []
   },
   "source": [
    "### First Dot"
   ]
  },
  {
   "cell_type": "code",
   "execution_count": 13,
   "id": "1e6b25a2-0788-4a30-91eb-93b8d1652e1b",
   "metadata": {
    "tags": []
   },
   "outputs": [
    {
     "data": {
      "text/html": [
       "<div>\n",
       "<style scoped>\n",
       "    .dataframe tbody tr th:only-of-type {\n",
       "        vertical-align: middle;\n",
       "    }\n",
       "\n",
       "    .dataframe tbody tr th {\n",
       "        vertical-align: top;\n",
       "    }\n",
       "\n",
       "    .dataframe thead th {\n",
       "        text-align: right;\n",
       "    }\n",
       "</style>\n",
       "<table border=\"1\" class=\"dataframe\">\n",
       "  <thead>\n",
       "    <tr style=\"text-align: right;\">\n",
       "      <th></th>\n",
       "      <th>neural_trial_numeric</th>\n",
       "      <th>TrialType</th>\n",
       "      <th>sample</th>\n",
       "      <th>sample_before</th>\n",
       "      <th>event</th>\n",
       "    </tr>\n",
       "  </thead>\n",
       "  <tbody>\n",
       "    <tr>\n",
       "      <th>0</th>\n",
       "      <td>0</td>\n",
       "      <td>13</td>\n",
       "      <td>12900</td>\n",
       "      <td>0</td>\n",
       "      <td>1</td>\n",
       "    </tr>\n",
       "    <tr>\n",
       "      <th>1</th>\n",
       "      <td>2</td>\n",
       "      <td>5</td>\n",
       "      <td>32900</td>\n",
       "      <td>0</td>\n",
       "      <td>1</td>\n",
       "    </tr>\n",
       "    <tr>\n",
       "      <th>2</th>\n",
       "      <td>3</td>\n",
       "      <td>12</td>\n",
       "      <td>46800</td>\n",
       "      <td>0</td>\n",
       "      <td>1</td>\n",
       "    </tr>\n",
       "    <tr>\n",
       "      <th>3</th>\n",
       "      <td>4</td>\n",
       "      <td>6</td>\n",
       "      <td>59900</td>\n",
       "      <td>0</td>\n",
       "      <td>1</td>\n",
       "    </tr>\n",
       "    <tr>\n",
       "      <th>4</th>\n",
       "      <td>5</td>\n",
       "      <td>18</td>\n",
       "      <td>70400</td>\n",
       "      <td>0</td>\n",
       "      <td>1</td>\n",
       "    </tr>\n",
       "    <tr>\n",
       "      <th>...</th>\n",
       "      <td>...</td>\n",
       "      <td>...</td>\n",
       "      <td>...</td>\n",
       "      <td>...</td>\n",
       "      <td>...</td>\n",
       "    </tr>\n",
       "    <tr>\n",
       "      <th>227</th>\n",
       "      <td>234</td>\n",
       "      <td>12</td>\n",
       "      <td>2733400</td>\n",
       "      <td>0</td>\n",
       "      <td>1</td>\n",
       "    </tr>\n",
       "    <tr>\n",
       "      <th>228</th>\n",
       "      <td>235</td>\n",
       "      <td>20</td>\n",
       "      <td>2742500</td>\n",
       "      <td>0</td>\n",
       "      <td>1</td>\n",
       "    </tr>\n",
       "    <tr>\n",
       "      <th>229</th>\n",
       "      <td>236</td>\n",
       "      <td>10</td>\n",
       "      <td>2754600</td>\n",
       "      <td>0</td>\n",
       "      <td>1</td>\n",
       "    </tr>\n",
       "    <tr>\n",
       "      <th>230</th>\n",
       "      <td>237</td>\n",
       "      <td>8</td>\n",
       "      <td>2772100</td>\n",
       "      <td>0</td>\n",
       "      <td>1</td>\n",
       "    </tr>\n",
       "    <tr>\n",
       "      <th>231</th>\n",
       "      <td>238</td>\n",
       "      <td>19</td>\n",
       "      <td>2782000</td>\n",
       "      <td>0</td>\n",
       "      <td>1</td>\n",
       "    </tr>\n",
       "  </tbody>\n",
       "</table>\n",
       "<p>232 rows × 5 columns</p>\n",
       "</div>"
      ],
      "text/plain": [
       "     neural_trial_numeric  TrialType   sample  sample_before  event\n",
       "0                       0         13    12900              0      1\n",
       "1                       2          5    32900              0      1\n",
       "2                       3         12    46800              0      1\n",
       "3                       4          6    59900              0      1\n",
       "4                       5         18    70400              0      1\n",
       "..                    ...        ...      ...            ...    ...\n",
       "227                   234         12  2733400              0      1\n",
       "228                   235         20  2742500              0      1\n",
       "229                   236         10  2754600              0      1\n",
       "230                   237          8  2772100              0      1\n",
       "231                   238         19  2782000              0      1\n",
       "\n",
       "[232 rows x 5 columns]"
      ]
     },
     "execution_count": 13,
     "metadata": {},
     "output_type": "execute_result"
    }
   ],
   "source": [
    "## Load Behavioral Data ##\n",
    "first_dot_data = pd.read_csv(f\"{raw_data_dir}/behave/{subject}_first_dot_events.csv\")\n",
    "first_dot_data"
   ]
  },
  {
   "cell_type": "code",
   "execution_count": 14,
   "id": "8bdbad14-a72f-4c02-a6f2-8b9ada525be6",
   "metadata": {
    "tags": []
   },
   "outputs": [],
   "source": [
    "# create events\n",
    "first_dot_data = first_dot_data[['sample', 'sample_before', 'event']].copy().to_numpy()\n"
   ]
  },
  {
   "cell_type": "code",
   "execution_count": 15,
   "id": "4dfdcf0b-4cf1-45c6-81ac-22eabf10864f",
   "metadata": {
    "tags": []
   },
   "outputs": [
    {
     "name": "stdout",
     "output_type": "stream",
     "text": [
      "Opening raw data file /home/brooke/pacman/preprocessing/BJH041/ieeg/BJH041_bp_filtered_clean_data.fif...\n",
      "    Range : 0 ... 2189999 =      0.000 ...  1094.999 secs\n",
      "Ready.\n",
      "Opening raw data file /home/brooke/pacman/preprocessing/BJH041/ieeg/BJH041_bp_filtered_clean_data-1.fif...\n",
      "    Range : 2190000 ... 2998199 =   1095.000 ...  1499.100 secs\n",
      "Ready.\n",
      "Not setting metadata\n",
      "232 matching events found\n",
      "No baseline correction applied\n",
      "0 projection items activated\n",
      "Loading data for 1 events and 18001 original time points ...\n",
      "Splitting into 2 parts\n",
      "Loading data for 116 events and 18001 original time points ...\n"
     ]
    },
    {
     "name": "stderr",
     "output_type": "stream",
     "text": [
      "/tmp/ipykernel_9863/4126832509.py:2: RuntimeWarning: This filename (/home/brooke/pacman/preprocessing/BJH041/ieeg/BJH041_bp_filtered_clean_data.fif) does not conform to MNE naming conventions. All raw files should end with raw.fif, raw_sss.fif, raw_tsss.fif, _meg.fif, _eeg.fif, _ieeg.fif, raw.fif.gz, raw_sss.fif.gz, raw_tsss.fif.gz, _meg.fif.gz, _eeg.fif.gz or _ieeg.fif.gz\n",
      "  bp_filtered_fif = mne.io.Raw(f\"{preproc_data_dir}/{subject}_bp_filtered_clean_data.fif\")\n",
      "/tmp/ipykernel_9863/4126832509.py:14: RuntimeWarning: This filename (/home/brooke/pacman/preprocessing/BJH041/ieeg/BJH041_bp_filtered_clean_first_dot_events.fif) does not conform to MNE naming conventions. All epochs files should end with -epo.fif, -epo.fif.gz, _epo.fif or _epo.fif.gz\n",
      "  first_dot_epochs.save(f\"{preproc_data_dir}/{subject}_bp_filtered_clean_first_dot_events.fif\", overwrite = True, split_size = '1.9GB')\n"
     ]
    },
    {
     "name": "stdout",
     "output_type": "stream",
     "text": [
      "Loading data for 116 events and 18001 original time points ...\n"
     ]
    }
   ],
   "source": [
    "# load data \n",
    "bp_filtered_fif = mne.io.Raw(f\"{preproc_data_dir}/{subject}_bp_filtered_clean_data.fif\")\n",
    "\n",
    "# only epoch good channels\n",
    "channels_of_interest =  [x for x in bp_filtered_fif.info['ch_names'] if x not in bp_filtered_fif.info['bads']]\n",
    "\n",
    "\n",
    "# epoch the data\n",
    "first_dot_epochs = mne.Epochs(bp_filtered_fif, first_dot_data, \n",
    "                          event_id = 1, tmin = -3, tmax =6, \n",
    "                          baseline = None, picks = channels_of_interest,\n",
    "                             reject_by_annotation = False)\n",
    "# # save the data\n",
    "first_dot_epochs.save(f\"{preproc_data_dir}/{subject}_bp_filtered_clean_first_dot_events.fif\", overwrite = True, split_size = '1.9GB')\n"
   ]
  },
  {
   "cell_type": "markdown",
   "id": "f0b4298a-607f-4a6e-b75d-65586d3c1e9d",
   "metadata": {
    "tags": []
   },
   "source": [
    "## First Move"
   ]
  },
  {
   "cell_type": "code",
   "execution_count": 16,
   "id": "25f76656-57cf-43be-89ff-54b68942f662",
   "metadata": {
    "tags": []
   },
   "outputs": [
    {
     "data": {
      "text/html": [
       "<div>\n",
       "<style scoped>\n",
       "    .dataframe tbody tr th:only-of-type {\n",
       "        vertical-align: middle;\n",
       "    }\n",
       "\n",
       "    .dataframe tbody tr th {\n",
       "        vertical-align: top;\n",
       "    }\n",
       "\n",
       "    .dataframe thead th {\n",
       "        text-align: right;\n",
       "    }\n",
       "</style>\n",
       "<table border=\"1\" class=\"dataframe\">\n",
       "  <thead>\n",
       "    <tr style=\"text-align: right;\">\n",
       "      <th></th>\n",
       "      <th>neural_trial_numeric</th>\n",
       "      <th>TrialType</th>\n",
       "      <th>sample</th>\n",
       "      <th>sample_before</th>\n",
       "      <th>event</th>\n",
       "    </tr>\n",
       "  </thead>\n",
       "  <tbody>\n",
       "    <tr>\n",
       "      <th>0</th>\n",
       "      <td>0</td>\n",
       "      <td>13</td>\n",
       "      <td>12700</td>\n",
       "      <td>0</td>\n",
       "      <td>1</td>\n",
       "    </tr>\n",
       "    <tr>\n",
       "      <th>1</th>\n",
       "      <td>1</td>\n",
       "      <td>3</td>\n",
       "      <td>26600</td>\n",
       "      <td>0</td>\n",
       "      <td>1</td>\n",
       "    </tr>\n",
       "    <tr>\n",
       "      <th>2</th>\n",
       "      <td>2</td>\n",
       "      <td>5</td>\n",
       "      <td>32700</td>\n",
       "      <td>0</td>\n",
       "      <td>1</td>\n",
       "    </tr>\n",
       "    <tr>\n",
       "      <th>3</th>\n",
       "      <td>3</td>\n",
       "      <td>12</td>\n",
       "      <td>44200</td>\n",
       "      <td>0</td>\n",
       "      <td>1</td>\n",
       "    </tr>\n",
       "    <tr>\n",
       "      <th>4</th>\n",
       "      <td>4</td>\n",
       "      <td>6</td>\n",
       "      <td>59100</td>\n",
       "      <td>0</td>\n",
       "      <td>1</td>\n",
       "    </tr>\n",
       "    <tr>\n",
       "      <th>...</th>\n",
       "      <td>...</td>\n",
       "      <td>...</td>\n",
       "      <td>...</td>\n",
       "      <td>...</td>\n",
       "      <td>...</td>\n",
       "    </tr>\n",
       "    <tr>\n",
       "      <th>234</th>\n",
       "      <td>234</td>\n",
       "      <td>12</td>\n",
       "      <td>2732800</td>\n",
       "      <td>0</td>\n",
       "      <td>1</td>\n",
       "    </tr>\n",
       "    <tr>\n",
       "      <th>235</th>\n",
       "      <td>235</td>\n",
       "      <td>20</td>\n",
       "      <td>2741700</td>\n",
       "      <td>0</td>\n",
       "      <td>1</td>\n",
       "    </tr>\n",
       "    <tr>\n",
       "      <th>236</th>\n",
       "      <td>236</td>\n",
       "      <td>10</td>\n",
       "      <td>2753800</td>\n",
       "      <td>0</td>\n",
       "      <td>1</td>\n",
       "    </tr>\n",
       "    <tr>\n",
       "      <th>237</th>\n",
       "      <td>237</td>\n",
       "      <td>8</td>\n",
       "      <td>2770300</td>\n",
       "      <td>0</td>\n",
       "      <td>1</td>\n",
       "    </tr>\n",
       "    <tr>\n",
       "      <th>238</th>\n",
       "      <td>238</td>\n",
       "      <td>19</td>\n",
       "      <td>2781100</td>\n",
       "      <td>0</td>\n",
       "      <td>1</td>\n",
       "    </tr>\n",
       "  </tbody>\n",
       "</table>\n",
       "<p>239 rows × 5 columns</p>\n",
       "</div>"
      ],
      "text/plain": [
       "     neural_trial_numeric  TrialType   sample  sample_before  event\n",
       "0                       0         13    12700              0      1\n",
       "1                       1          3    26600              0      1\n",
       "2                       2          5    32700              0      1\n",
       "3                       3         12    44200              0      1\n",
       "4                       4          6    59100              0      1\n",
       "..                    ...        ...      ...            ...    ...\n",
       "234                   234         12  2732800              0      1\n",
       "235                   235         20  2741700              0      1\n",
       "236                   236         10  2753800              0      1\n",
       "237                   237          8  2770300              0      1\n",
       "238                   238         19  2781100              0      1\n",
       "\n",
       "[239 rows x 5 columns]"
      ]
     },
     "execution_count": 16,
     "metadata": {},
     "output_type": "execute_result"
    }
   ],
   "source": [
    "## Load Behavioral Data ##\n",
    "first_move_data = pd.read_csv(f\"{raw_data_dir}/behave/{subject}_first_move_events.csv\")\n",
    "first_move_data"
   ]
  },
  {
   "cell_type": "code",
   "execution_count": 17,
   "id": "63733838-49b2-4d97-a1e6-13a5c06b9b17",
   "metadata": {
    "tags": []
   },
   "outputs": [],
   "source": [
    "# create events\n",
    "first_move_data = first_move_data[['sample', 'sample_before', 'event']].copy().to_numpy()\n"
   ]
  },
  {
   "cell_type": "code",
   "execution_count": 18,
   "id": "302f7bc7-6d73-423e-a77a-ee54898b97e6",
   "metadata": {
    "tags": []
   },
   "outputs": [
    {
     "name": "stdout",
     "output_type": "stream",
     "text": [
      "Opening raw data file /home/brooke/pacman/preprocessing/BJH041/ieeg/BJH041_bp_filtered_clean_data.fif...\n",
      "    Range : 0 ... 2189999 =      0.000 ...  1094.999 secs\n",
      "Ready.\n",
      "Opening raw data file /home/brooke/pacman/preprocessing/BJH041/ieeg/BJH041_bp_filtered_clean_data-1.fif...\n",
      "    Range : 2190000 ... 2998199 =   1095.000 ...  1499.100 secs\n",
      "Ready.\n",
      "Not setting metadata\n",
      "239 matching events found\n",
      "No baseline correction applied\n",
      "0 projection items activated\n",
      "Loading data for 1 events and 20001 original time points ...\n",
      "Splitting into 2 parts\n",
      "Loading data for 120 events and 20001 original time points ...\n"
     ]
    },
    {
     "name": "stderr",
     "output_type": "stream",
     "text": [
      "/tmp/ipykernel_9863/3347570552.py:2: RuntimeWarning: This filename (/home/brooke/pacman/preprocessing/BJH041/ieeg/BJH041_bp_filtered_clean_data.fif) does not conform to MNE naming conventions. All raw files should end with raw.fif, raw_sss.fif, raw_tsss.fif, _meg.fif, _eeg.fif, _ieeg.fif, raw.fif.gz, raw_sss.fif.gz, raw_tsss.fif.gz, _meg.fif.gz, _eeg.fif.gz or _ieeg.fif.gz\n",
      "  bp_filtered_fif = mne.io.Raw(f\"{preproc_data_dir}/{subject}_bp_filtered_clean_data.fif\")\n",
      "/tmp/ipykernel_9863/3347570552.py:14: RuntimeWarning: This filename (/home/brooke/pacman/preprocessing/BJH041/ieeg/BJH041_bp_filtered_clean_first_move_events.fif) does not conform to MNE naming conventions. All epochs files should end with -epo.fif, -epo.fif.gz, _epo.fif or _epo.fif.gz\n",
      "  first_move_epochs.save(f\"{preproc_data_dir}/{subject}_bp_filtered_clean_first_move_events.fif\", overwrite = True, split_size = '1.9GB')\n"
     ]
    },
    {
     "name": "stdout",
     "output_type": "stream",
     "text": [
      "Loading data for 119 events and 20001 original time points ...\n"
     ]
    }
   ],
   "source": [
    "# load data \n",
    "bp_filtered_fif = mne.io.Raw(f\"{preproc_data_dir}/{subject}_bp_filtered_clean_data.fif\")\n",
    "\n",
    "# only epoch good channels\n",
    "channels_of_interest =  [x for x in bp_filtered_fif.info['ch_names'] if x not in bp_filtered_fif.info['bads']]\n",
    "\n",
    "\n",
    "# epoch the data\n",
    "first_move_epochs = mne.Epochs(bp_filtered_fif, first_move_data, \n",
    "                          event_id = 1, tmin = -5, tmax =5, \n",
    "                          baseline = None, picks = channels_of_interest,\n",
    "                             reject_by_annotation = False)\n",
    "# # save the data\n",
    "first_move_epochs.save(f\"{preproc_data_dir}/{subject}_bp_filtered_clean_first_move_events.fif\", overwrite = True, split_size = '1.9GB')\n"
   ]
  },
  {
   "cell_type": "markdown",
   "id": "44c1ffd3",
   "metadata": {},
   "source": [
    "## Ghost Attack"
   ]
  },
  {
   "cell_type": "code",
   "execution_count": 19,
   "id": "6539fec7",
   "metadata": {
    "tags": []
   },
   "outputs": [
    {
     "data": {
      "text/html": [
       "<div>\n",
       "<style scoped>\n",
       "    .dataframe tbody tr th:only-of-type {\n",
       "        vertical-align: middle;\n",
       "    }\n",
       "\n",
       "    .dataframe tbody tr th {\n",
       "        vertical-align: top;\n",
       "    }\n",
       "\n",
       "    .dataframe thead th {\n",
       "        text-align: right;\n",
       "    }\n",
       "</style>\n",
       "<table border=\"1\" class=\"dataframe\">\n",
       "  <thead>\n",
       "    <tr style=\"text-align: right;\">\n",
       "      <th></th>\n",
       "      <th>neural_trial_numeric</th>\n",
       "      <th>TrialType</th>\n",
       "      <th>sample</th>\n",
       "      <th>sample_before</th>\n",
       "      <th>event</th>\n",
       "    </tr>\n",
       "  </thead>\n",
       "  <tbody>\n",
       "    <tr>\n",
       "      <th>0</th>\n",
       "      <td>2</td>\n",
       "      <td>5</td>\n",
       "      <td>35000</td>\n",
       "      <td>0</td>\n",
       "      <td>1</td>\n",
       "    </tr>\n",
       "    <tr>\n",
       "      <th>1</th>\n",
       "      <td>3</td>\n",
       "      <td>12</td>\n",
       "      <td>48500</td>\n",
       "      <td>0</td>\n",
       "      <td>1</td>\n",
       "    </tr>\n",
       "    <tr>\n",
       "      <th>2</th>\n",
       "      <td>8</td>\n",
       "      <td>7</td>\n",
       "      <td>110000</td>\n",
       "      <td>0</td>\n",
       "      <td>1</td>\n",
       "    </tr>\n",
       "    <tr>\n",
       "      <th>3</th>\n",
       "      <td>9</td>\n",
       "      <td>4</td>\n",
       "      <td>119700</td>\n",
       "      <td>0</td>\n",
       "      <td>1</td>\n",
       "    </tr>\n",
       "    <tr>\n",
       "      <th>4</th>\n",
       "      <td>14</td>\n",
       "      <td>11</td>\n",
       "      <td>170800</td>\n",
       "      <td>0</td>\n",
       "      <td>1</td>\n",
       "    </tr>\n",
       "    <tr>\n",
       "      <th>...</th>\n",
       "      <td>...</td>\n",
       "      <td>...</td>\n",
       "      <td>...</td>\n",
       "      <td>...</td>\n",
       "      <td>...</td>\n",
       "    </tr>\n",
       "    <tr>\n",
       "      <th>64</th>\n",
       "      <td>216</td>\n",
       "      <td>7</td>\n",
       "      <td>2531900</td>\n",
       "      <td>0</td>\n",
       "      <td>1</td>\n",
       "    </tr>\n",
       "    <tr>\n",
       "      <th>65</th>\n",
       "      <td>221</td>\n",
       "      <td>13</td>\n",
       "      <td>2590900</td>\n",
       "      <td>0</td>\n",
       "      <td>1</td>\n",
       "    </tr>\n",
       "    <tr>\n",
       "      <th>66</th>\n",
       "      <td>228</td>\n",
       "      <td>3</td>\n",
       "      <td>2667900</td>\n",
       "      <td>0</td>\n",
       "      <td>1</td>\n",
       "    </tr>\n",
       "    <tr>\n",
       "      <th>67</th>\n",
       "      <td>233</td>\n",
       "      <td>7</td>\n",
       "      <td>2724700</td>\n",
       "      <td>0</td>\n",
       "      <td>1</td>\n",
       "    </tr>\n",
       "    <tr>\n",
       "      <th>68</th>\n",
       "      <td>236</td>\n",
       "      <td>10</td>\n",
       "      <td>2757000</td>\n",
       "      <td>0</td>\n",
       "      <td>1</td>\n",
       "    </tr>\n",
       "  </tbody>\n",
       "</table>\n",
       "<p>69 rows × 5 columns</p>\n",
       "</div>"
      ],
      "text/plain": [
       "    neural_trial_numeric  TrialType   sample  sample_before  event\n",
       "0                      2          5    35000              0      1\n",
       "1                      3         12    48500              0      1\n",
       "2                      8          7   110000              0      1\n",
       "3                      9          4   119700              0      1\n",
       "4                     14         11   170800              0      1\n",
       "..                   ...        ...      ...            ...    ...\n",
       "64                   216          7  2531900              0      1\n",
       "65                   221         13  2590900              0      1\n",
       "66                   228          3  2667900              0      1\n",
       "67                   233          7  2724700              0      1\n",
       "68                   236         10  2757000              0      1\n",
       "\n",
       "[69 rows x 5 columns]"
      ]
     },
     "execution_count": 19,
     "metadata": {},
     "output_type": "execute_result"
    }
   ],
   "source": [
    "## Load Behavioral Data ##\n",
    "ghost_attack_data = pd.read_csv(f\"{raw_data_dir}/behave/{subject}_attack_events.csv\")\n",
    "ghost_attack_data"
   ]
  },
  {
   "cell_type": "code",
   "execution_count": 20,
   "id": "dfdb56b7",
   "metadata": {
    "tags": []
   },
   "outputs": [],
   "source": [
    "# create events\n",
    "ghost_attack_data = ghost_attack_data[['sample', 'sample_before', 'event']].copy().to_numpy()\n"
   ]
  },
  {
   "cell_type": "code",
   "execution_count": 21,
   "id": "9fa96405",
   "metadata": {
    "tags": []
   },
   "outputs": [
    {
     "name": "stdout",
     "output_type": "stream",
     "text": [
      "Opening raw data file /home/brooke/pacman/preprocessing/BJH041/ieeg/BJH041_bp_filtered_clean_data.fif...\n",
      "    Range : 0 ... 2189999 =      0.000 ...  1094.999 secs\n",
      "Ready.\n",
      "Opening raw data file /home/brooke/pacman/preprocessing/BJH041/ieeg/BJH041_bp_filtered_clean_data-1.fif...\n",
      "    Range : 2190000 ... 2998199 =   1095.000 ...  1499.100 secs\n",
      "Ready.\n",
      "Not setting metadata\n",
      "69 matching events found\n",
      "No baseline correction applied\n",
      "0 projection items activated\n",
      "Loading data for 1 events and 20001 original time points ...\n",
      "Loading data for 69 events and 20001 original time points ...\n"
     ]
    },
    {
     "name": "stderr",
     "output_type": "stream",
     "text": [
      "/tmp/ipykernel_9863/2681655913.py:2: RuntimeWarning: This filename (/home/brooke/pacman/preprocessing/BJH041/ieeg/BJH041_bp_filtered_clean_data.fif) does not conform to MNE naming conventions. All raw files should end with raw.fif, raw_sss.fif, raw_tsss.fif, _meg.fif, _eeg.fif, _ieeg.fif, raw.fif.gz, raw_sss.fif.gz, raw_tsss.fif.gz, _meg.fif.gz, _eeg.fif.gz or _ieeg.fif.gz\n",
      "  bp_filtered_fif = mne.io.Raw(f\"{preproc_data_dir}/{subject}_bp_filtered_clean_data.fif\")\n",
      "/tmp/ipykernel_9863/2681655913.py:14: RuntimeWarning: This filename (/home/brooke/pacman/preprocessing/BJH041/ieeg/BJH041_bp_filtered_clean_ghost_attack_events.fif) does not conform to MNE naming conventions. All epochs files should end with -epo.fif, -epo.fif.gz, _epo.fif or _epo.fif.gz\n",
      "  ghost_attack_epochs.save(f\"{preproc_data_dir}/{subject}_bp_filtered_clean_ghost_attack_events.fif\", overwrite = True, split_size = '1.9GB')\n"
     ]
    }
   ],
   "source": [
    "# load data \n",
    "bp_filtered_fif = mne.io.Raw(f\"{preproc_data_dir}/{subject}_bp_filtered_clean_data.fif\")\n",
    "\n",
    "# only epoch good channels\n",
    "channels_of_interest =  [x for x in bp_filtered_fif.info['ch_names'] if x not in bp_filtered_fif.info['bads']]\n",
    "\n",
    "\n",
    "# epoch the data\n",
    "ghost_attack_epochs = mne.Epochs(bp_filtered_fif, ghost_attack_data, \n",
    "                          event_id = 1, tmin = -4, tmax =6, \n",
    "                          baseline = None, picks = channels_of_interest,\n",
    "                             reject_by_annotation = False)\n",
    "# # save the data\n",
    "ghost_attack_epochs.save(f\"{preproc_data_dir}/{subject}_bp_filtered_clean_ghost_attack_events.fif\", overwrite = True, split_size = '1.9GB')\n"
   ]
  },
  {
   "cell_type": "code",
   "execution_count": null,
   "id": "ede739f0-eb5d-4134-96f0-8183d3f01826",
   "metadata": {},
   "outputs": [],
   "source": []
  }
 ],
 "metadata": {
  "kernelspec": {
   "display_name": "Python 3 (ipykernel)",
   "language": "python",
   "name": "python3"
  },
  "language_info": {
   "codemirror_mode": {
    "name": "ipython",
    "version": 3
   },
   "file_extension": ".py",
   "mimetype": "text/x-python",
   "name": "python",
   "nbconvert_exporter": "python",
   "pygments_lexer": "ipython3",
   "version": "3.9.18"
  }
 },
 "nbformat": 4,
 "nbformat_minor": 5
}

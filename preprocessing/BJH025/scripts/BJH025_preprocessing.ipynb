{
 "cells": [
  {
   "cell_type": "markdown",
   "id": "5caa54ea-80d7-4318-b427-5411b5caea1d",
   "metadata": {},
   "source": [
    "# Preprocessing: BJH025\n",
    "\n",
    "\n",
    "This markdown files loads the clean data and does a bipolar rereference as well as epochs the data\n"
   ]
  },
  {
   "cell_type": "code",
   "execution_count": 1,
   "id": "7124d816-0294-4977-b65a-64ec8a13910a",
   "metadata": {},
   "outputs": [],
   "source": [
    "import matplotlib\n",
    "matplotlib.use(\"Qt5Agg\")\n",
    "import matplotlib.pyplot as plt\n",
    "import pandas as pd\n",
    "import numpy as np\n",
    "from scipy import signal, stats\n",
    "import mat73\n",
    "import re\n",
    "from neurodsp.timefrequency import compute_wavelet_transform\n",
    "from BCI2kReader import BCI2kReader as b2k\n",
    "import os\n",
    "import mne\n",
    "from tabulate import tabulate\n",
    "import IPython\n",
    "import seaborn as sns"
   ]
  },
  {
   "cell_type": "code",
   "execution_count": 2,
   "id": "94f406bc-b9b2-420c-9215-95f89152e6d6",
   "metadata": {},
   "outputs": [],
   "source": [
    "%matplotlib qt5"
   ]
  },
  {
   "cell_type": "code",
   "execution_count": 2,
   "id": "d7d0fa71-30b2-4684-ad96-1e5b7c05a39a",
   "metadata": {},
   "outputs": [],
   "source": [
    "## Prep paths ##\n",
    "\n",
    "subject = 'BJH025'\n",
    "raw_data_dir = f\"/home/brooke/pacman/raw_data/{subject}\"\n",
    "preproc_data_dir = f\"/home/brooke/pacman/preprocessing/{subject}/ieeg\""
   ]
  },
  {
   "cell_type": "code",
   "execution_count": 4,
   "id": "63fce4c8-66c4-48df-80f5-a5f545d76d3d",
   "metadata": {},
   "outputs": [
    {
     "name": "stdout",
     "output_type": "stream",
     "text": [
      "Opening raw data file /home/brooke/pacman/raw_data/BJH025/ieeg/BJH025_notched_filtered_clean_ieeg.fif...\n",
      "    Range : 0 ... 2085999 =      0.000 ...  1042.999 secs\n",
      "Ready.\n",
      "Opening raw data file /home/brooke/pacman/raw_data/BJH025/ieeg/BJH025_notched_filtered_clean_ieeg-1.fif...\n",
      "    Range : 2086000 ... 2966399 =   1043.000 ...  1483.199 secs\n",
      "Ready.\n",
      "Opening raw data file /home/brooke/pacman/raw_data/BJH025/ieeg/BJH025_raw_clean_ieeg.fif...\n",
      "    Range : 0 ... 2085999 =      0.000 ...  1042.999 secs\n",
      "Ready.\n",
      "Opening raw data file /home/brooke/pacman/raw_data/BJH025/ieeg/BJH025_raw_clean_ieeg-1.fif...\n",
      "    Range : 2086000 ... 2966399 =   1043.000 ...  1483.199 secs\n",
      "Ready.\n"
     ]
    }
   ],
   "source": [
    "## Load Data ##\n",
    "\n",
    "# load filtered data #\n",
    "filtered_clean_fif = mne.io.Raw(f\"{raw_data_dir}/ieeg/{subject}_notched_filtered_clean_ieeg.fif\")\n",
    "\n",
    "# load raw data #\n",
    "raw_clean_fif = mne.io.Raw(f\"{raw_data_dir}/ieeg/{subject}_raw_clean_ieeg.fif\")\n",
    "\n"
   ]
  },
  {
   "cell_type": "markdown",
   "id": "466e2db7-335c-450b-a643-cf3b6dd43c4e",
   "metadata": {},
   "source": [
    "## Bipolar Rereferencing"
   ]
  },
  {
   "cell_type": "code",
   "execution_count": 5,
   "id": "a8b94f89-1f90-4cac-bd34-1ac9d851b174",
   "metadata": {},
   "outputs": [],
   "source": [
    "# helper functions\n",
    "\n",
    "def probe_and_num(elec_str): \n",
    "    ''' This convenience function takes an electrode string like LHH1 and outputs ('LHH', 1)\n",
    "    '''\n",
    "    if '_' in elec_str:\n",
    "        return None, None\n",
    "    else:   \n",
    "        regex_str = '(\\D+)(\\d+)' # group of letters followed by group of digits\n",
    "        matcher = re.compile(regex_str,re.IGNORECASE|re.DOTALL).search(elec_str)\n",
    "        if matcher:\n",
    "            probe, num = matcher.groups()\n",
    "            return probe, int(num)\n",
    "        else:\n",
    "            return None, None\n",
    "    \n",
    "def find_bipolar_pair(ch, labels, remove):\n",
    "    ''' Find the pair of a given electrode for bipolar referencing.\n",
    "        Given a single *ch* and a list of *labels*, some of which you want to *remove*,\n",
    "        this finds the next channel on that probe that isn't meant to be removed (WM is ok).\n",
    "    '''\n",
    "    bipolar_pair = None\n",
    "    probe, num = probe_and_num(ch)\n",
    "    other_in_probe = [other_ch for other_ch in labels if probe_and_num(other_ch)[0]==probe]\n",
    "    for i in range(len(other_in_probe)-num):\n",
    "        next_ch = probe + str(num+i+1)\n",
    "        if next_ch in remove or next_ch == 'STI':\n",
    "            continue\n",
    "        else:\n",
    "            bipolar_pair = next_ch\n",
    "            break\n",
    "    return bipolar_pair"
   ]
  },
  {
   "cell_type": "code",
   "execution_count": 6,
   "id": "f1eefdfe-b251-4f28-8f1b-2608f94da503",
   "metadata": {
    "tags": []
   },
   "outputs": [
    {
     "name": "stdout",
     "output_type": "stream",
     "text": [
      "EMPTY noref\n",
      "EMPTY_2 noref\n",
      "EMPTY_3 noref\n",
      "EMPTY_4 noref\n",
      "REF1 noref\n",
      "REF2 noref\n",
      "A1 A2\n",
      "A2 A3\n",
      "A3 A4\n",
      "A4 A5\n",
      "A5 A6\n",
      "A6 A7\n",
      "A7 A8\n",
      "A8 A9\n",
      "A9 A10\n",
      "A10 A11\n",
      "A11 A12\n",
      "A12 A13\n",
      "A13 A14\n",
      "A14 A15\n",
      "A15 A16\n",
      "B1 B2\n",
      "B2 B3\n",
      "B3 B4\n",
      "B4 B5\n",
      "B5 B6\n",
      "B6 B7\n",
      "B7 B8\n",
      "B8 B9\n",
      "B9 B10\n",
      "B10 B11\n",
      "B11 B12\n",
      "B12 B13\n",
      "B13 B14\n",
      "B14 B15\n",
      "B15 B16\n",
      "C1 C2\n",
      "C2 C3\n",
      "C3 C4\n",
      "C4 C5\n",
      "C5 C6\n",
      "C6 C7\n",
      "C7 C8\n",
      "C8 C9\n",
      "C9 C10\n",
      "C10 C11\n",
      "C11 C12\n",
      "C12 C13\n",
      "C13 C14\n",
      "C14 C15\n",
      "C15 C16\n",
      "D1 D2\n",
      "D2 D3\n",
      "D3 D4\n",
      "D4 D5\n",
      "D5 D6\n",
      "D6 D7\n",
      "D7 D9\n",
      "D8 noref\n",
      "D9 D10\n",
      "E1 E2\n",
      "E2 E3\n",
      "E3 E4\n",
      "E4 E5\n",
      "E5 E6\n",
      "E6 E7\n",
      "E7 E8\n",
      "E8 E9\n",
      "E9 E10\n",
      "E10 E11\n",
      "E11 E12\n",
      "F1 F2\n",
      "F2 F3\n",
      "F3 F4\n",
      "F4 F5\n",
      "F5 F6\n",
      "F6 F7\n",
      "F7 F8\n",
      "GR1 GR2\n",
      "GR2 GR3\n",
      "GR3 GR4\n",
      "GR4 GR5\n",
      "GR5 GR6\n",
      "GR6 GR7\n",
      "GR7 GR8\n",
      "GR8 GR9\n",
      "GR9 GR10\n",
      "GR10 GR11\n",
      "GR11 GR12\n",
      "GR12 GR13\n",
      "GR13 GR14\n",
      "GL1 GL2\n",
      "GL2 GL3\n",
      "GL3 GL4\n",
      "GL4 GL5\n",
      "GL5 GL6\n",
      "GL6 GL7\n",
      "GL7 GL8\n",
      "GL8 GL9\n",
      "GL9 GL10\n",
      "GL10 GL11\n",
      "GL11 GL12\n",
      "HR1 noref\n",
      "HR2 HR3\n",
      "HR3 HR4\n",
      "HR4 HR5\n",
      "HR5 HR6\n",
      "HR6 HR7\n",
      "HR7 HR8\n",
      "HL1 noref\n",
      "HL2 HL3\n",
      "HL3 HL4\n",
      "HL4 HL5\n",
      "HL5 HL6\n",
      "HL6 HL7\n",
      "HL7 HL8\n",
      "I1 I2\n",
      "I2 I3\n",
      "I3 I4\n",
      "I4 I5\n",
      "I5 I6\n",
      "I6 I7\n",
      "I7 I8\n",
      "I8 I9\n",
      "I9 I10\n",
      "I10 I11\n",
      "I11 I12\n",
      "J1 J2\n",
      "J2 J3\n",
      "J3 J4\n",
      "J4 J5\n",
      "J5 J6\n",
      "J6 J7\n",
      "J7 J8\n",
      "J8 J9\n",
      "J9 J10\n",
      "K1 K2\n",
      "K2 K3\n",
      "K3 K4\n",
      "K4 K5\n",
      "K5 K6\n",
      "K6 K7\n",
      "K7 K8\n",
      "K8 K9\n",
      "K9 K10\n",
      "K10 K11\n",
      "K11 K12\n",
      "K12 K13\n",
      "K13 K14\n",
      "L1 L2\n",
      "L2 L3\n",
      "L3 L4\n",
      "L4 L5\n",
      "L5 L6\n",
      "L6 L7\n",
      "L7 L8\n",
      "L8 L9\n",
      "L9 L10\n",
      "L10 L11\n",
      "L11 L12\n",
      "L12 L13\n",
      "L13 L14\n",
      "EMPTY_177 noref\n",
      "EMPTY_178 noref\n",
      "EMPTY_179 noref\n",
      "EMPTY_180 noref\n",
      "EMPTY_181 noref\n",
      "EMPTY_182 noref\n",
      "EMPTY_183 noref\n",
      "EMPTY_184 noref\n",
      "EMPTY_185 noref\n",
      "EMPTY_186 noref\n",
      "EMPTY_187 noref\n",
      "EMPTY_188 noref\n",
      "EMPTY_189 noref\n",
      "EMPTY_190 noref\n",
      "EMPTY_191 noref\n",
      "EMPTY_192 noref\n",
      "EMPTY_193 noref\n",
      "EMPTY_194 noref\n",
      "EMPTY_195 noref\n",
      "EMPTY_196 noref\n",
      "EMPTY_197 noref\n",
      "EMPTY_198 noref\n",
      "EMPTY_199 noref\n",
      "EMPTY_200 noref\n",
      "EMPTY_201 noref\n",
      "EMPTY_202 noref\n",
      "EMPTY_203 noref\n",
      "EMPTY_204 noref\n",
      "EMPTY_205 noref\n",
      "EMPTY_206 noref\n",
      "EMPTY_207 noref\n",
      "EMPTY_208 noref\n",
      "EMPTY_209 noref\n",
      "EMPTY_210 noref\n",
      "EMPTY_211 noref\n",
      "EMPTY_212 noref\n",
      "EMPTY_213 noref\n",
      "EMPTY_214 noref\n",
      "EMPTY_215 noref\n",
      "EMPTY_216 noref\n",
      "EMPTY_217 noref\n",
      "EMPTY_218 noref\n",
      "EMPTY_219 noref\n",
      "EMPTY_220 noref\n",
      "EMPTY_221 noref\n",
      "EMPTY_222 noref\n",
      "EMPTY_223 noref\n",
      "EMPTY_224 noref\n",
      "EMPTY_225 noref\n",
      "EMPTY_226 noref\n",
      "EMPTY_227 noref\n",
      "EMPTY_228 noref\n",
      "EMPTY_229 noref\n",
      "EMPTY_230 noref\n",
      "EMPTY_231 noref\n",
      "FP1 noref\n",
      "F3_233 noref\n",
      "C3_234 noref\n",
      "P3 noref\n",
      "O1 noref\n",
      "FP2 noref\n",
      "F4_238 noref\n",
      "C4_239 noref\n",
      "P4 noref\n",
      "O2 noref\n",
      "F7_242 noref\n",
      "T7 noref\n",
      "P7 noref\n",
      "F8_245 noref\n",
      "T8 noref\n",
      "P8 noref\n",
      "F9 noref\n",
      "F10 noref\n",
      "FPZ noref\n",
      "FZ noref\n",
      "CZ noref\n",
      "PZ noref\n",
      "OZ noref\n",
      "EKG1 noref\n",
      "EKG2 noref\n",
      "STI noref\n"
     ]
    }
   ],
   "source": [
    "# Here I iterate through the electrodes in my ROIs and match them up with their bipolar pair\n",
    "pairs = []\n",
    "anode = []\n",
    "cathode = []\n",
    "pairs_name = []\n",
    "pairs_map = {}\n",
    "remove = filtered_clean_fif.info['bads']\n",
    "labels = filtered_clean_fif.info['ch_names']\n",
    "for ch in labels:\n",
    "    # if a channel is meant to be removed, it doesn't get to be in a bipolar pair\n",
    "    if ch in remove or ch == 'STI':\n",
    "        print(f\"{ch} noref\")\n",
    "    else:\n",
    "        pair = find_bipolar_pair(ch, labels, remove)\n",
    "        if pair:\n",
    "            anode.append(ch)\n",
    "            cathode.append(pair)\n",
    "            pairs.append((ch, pair))\n",
    "            pairs_map[ch] = f\"{ch}-{pair}\"\n",
    "            pairs_name.append(f\"{ch}-{pair}\")\n",
    "            print(ch, pair)"
   ]
  },
  {
   "cell_type": "code",
   "execution_count": 7,
   "id": "588d66f9-a020-426f-b955-b3e58bd52d1b",
   "metadata": {},
   "outputs": [
    {
     "name": "stdout",
     "output_type": "stream",
     "text": [
      "Reading 0 ... 2966399  =      0.000 ...  1483.199 secs...\n",
      "sEEG channel type selected for re-referencing\n",
      "Creating RawArray with float64 data, n_channels=153, n_times=2966400\n",
      "    Range : 0 ... 2966399 =      0.000 ...  1483.199 secs\n",
      "Ready.\n",
      "Added the following bipolar channels:\n",
      "A1-A2, A2-A3, A3-A4, A4-A5, A5-A6, A6-A7, A7-A8, A8-A9, A9-A10, A10-A11, A11-A12, A12-A13, A13-A14, A14-A15, A15-A16, B1-B2, B2-B3, B3-B4, B4-B5, B5-B6, B6-B7, B7-B8, B8-B9, B9-B10, B10-B11, B11-B12, B12-B13, B13-B14, B14-B15, B15-B16, C1-C2, C2-C3, C3-C4, C4-C5, C5-C6, C6-C7, C7-C8, C8-C9, C9-C10, C10-C11, C11-C12, C12-C13, C13-C14, C14-C15, C15-C16, D1-D2, D2-D3, D3-D4, D4-D5, D5-D6, D6-D7, D7-D9, D9-D10, E1-E2, E2-E3, E3-E4, E4-E5, E5-E6, E6-E7, E7-E8, E8-E9, E9-E10, E10-E11, E11-E12, F1-F2, F2-F3, F3-F4, F4-F5, F5-F6, F6-F7, F7-F8, GR1-GR2, GR2-GR3, GR3-GR4, GR4-GR5, GR5-GR6, GR6-GR7, GR7-GR8, GR8-GR9, GR9-GR10, GR10-GR11, GR11-GR12, GR12-GR13, GR13-GR14, GL1-GL2, GL2-GL3, GL3-GL4, GL4-GL5, GL5-GL6, GL6-GL7, GL7-GL8, GL8-GL9, GL9-GL10, GL10-GL11, GL11-GL12, HR2-HR3, HR3-HR4, HR4-HR5, HR5-HR6, HR6-HR7, HR7-HR8, HL2-HL3, HL3-HL4, HL4-HL5, HL5-HL6, HL6-HL7, HL7-HL8, I1-I2, I2-I3, I3-I4, I4-I5, I5-I6, I6-I7, I7-I8, I8-I9, I9-I10, I10-I11, I11-I12, J1-J2, J2-J3, J3-J4, J4-J5, J5-J6, J6-J7, J7-J8, J8-J9, J9-J10, K1-K2, K2-K3, K3-K4, K4-K5, K5-K6, K6-K7, K7-K8, K8-K9, K9-K10, K10-K11, K11-K12, K12-K13, K13-K14, L1-L2, L2-L3, L3-L4, L4-L5, L5-L6, L6-L7, L7-L8, L8-L9, L9-L10, L10-L11, L11-L12, L12-L13, L13-L14\n",
      "Writing /home/brooke/pacman/preprocessing/BJH025/ieeg/BJH025_bp_filtered_clean_data.fif\n"
     ]
    },
    {
     "name": "stderr",
     "output_type": "stream",
     "text": [
      "/tmp/ipykernel_382499/1336304392.py:12: RuntimeWarning: This filename (/home/brooke/pacman/preprocessing/BJH025/ieeg/BJH025_bp_filtered_clean_data.fif) does not conform to MNE naming conventions. All raw files should end with raw.fif, raw_sss.fif, raw_tsss.fif, _meg.fif, _eeg.fif, _ieeg.fif, raw.fif.gz, raw_sss.fif.gz, raw_tsss.fif.gz, _meg.fif.gz, _eeg.fif.gz or _ieeg.fif.gz\n",
      "  bp_filt_fif.save(f\"{preproc_data_dir}/{subject}_bp_filtered_clean_data.fif\", overwrite = True)\n"
     ]
    },
    {
     "name": "stdout",
     "output_type": "stream",
     "text": [
      "Overwriting existing file.\n",
      "Writing /home/brooke/pacman/preprocessing/BJH025/ieeg/BJH025_bp_filtered_clean_data-1.fif\n",
      "Closing /home/brooke/pacman/preprocessing/BJH025/ieeg/BJH025_bp_filtered_clean_data-1.fif\n",
      "Closing /home/brooke/pacman/preprocessing/BJH025/ieeg/BJH025_bp_filtered_clean_data.fif\n",
      "[done]\n",
      "Reading 0 ... 2966399  =      0.000 ...  1483.199 secs...\n",
      "sEEG channel type selected for re-referencing\n",
      "Creating RawArray with float64 data, n_channels=153, n_times=2966400\n",
      "    Range : 0 ... 2966399 =      0.000 ...  1483.199 secs\n",
      "Ready.\n",
      "Added the following bipolar channels:\n",
      "A1-A2, A2-A3, A3-A4, A4-A5, A5-A6, A6-A7, A7-A8, A8-A9, A9-A10, A10-A11, A11-A12, A12-A13, A13-A14, A14-A15, A15-A16, B1-B2, B2-B3, B3-B4, B4-B5, B5-B6, B6-B7, B7-B8, B8-B9, B9-B10, B10-B11, B11-B12, B12-B13, B13-B14, B14-B15, B15-B16, C1-C2, C2-C3, C3-C4, C4-C5, C5-C6, C6-C7, C7-C8, C8-C9, C9-C10, C10-C11, C11-C12, C12-C13, C13-C14, C14-C15, C15-C16, D1-D2, D2-D3, D3-D4, D4-D5, D5-D6, D6-D7, D7-D9, D9-D10, E1-E2, E2-E3, E3-E4, E4-E5, E5-E6, E6-E7, E7-E8, E8-E9, E9-E10, E10-E11, E11-E12, F1-F2, F2-F3, F3-F4, F4-F5, F5-F6, F6-F7, F7-F8, GR1-GR2, GR2-GR3, GR3-GR4, GR4-GR5, GR5-GR6, GR6-GR7, GR7-GR8, GR8-GR9, GR9-GR10, GR10-GR11, GR11-GR12, GR12-GR13, GR13-GR14, GL1-GL2, GL2-GL3, GL3-GL4, GL4-GL5, GL5-GL6, GL6-GL7, GL7-GL8, GL8-GL9, GL9-GL10, GL10-GL11, GL11-GL12, HR2-HR3, HR3-HR4, HR4-HR5, HR5-HR6, HR6-HR7, HR7-HR8, HL2-HL3, HL3-HL4, HL4-HL5, HL5-HL6, HL6-HL7, HL7-HL8, I1-I2, I2-I3, I3-I4, I4-I5, I5-I6, I6-I7, I7-I8, I8-I9, I9-I10, I10-I11, I11-I12, J1-J2, J2-J3, J3-J4, J4-J5, J5-J6, J6-J7, J7-J8, J8-J9, J9-J10, K1-K2, K2-K3, K3-K4, K4-K5, K5-K6, K6-K7, K7-K8, K8-K9, K9-K10, K10-K11, K11-K12, K12-K13, K13-K14, L1-L2, L2-L3, L3-L4, L4-L5, L5-L6, L6-L7, L7-L8, L8-L9, L9-L10, L10-L11, L11-L12, L12-L13, L13-L14\n",
      "Writing /home/brooke/pacman/preprocessing/BJH025/ieeg/BJH025_bp_raw_clean_data.fif\n"
     ]
    },
    {
     "name": "stderr",
     "output_type": "stream",
     "text": [
      "/tmp/ipykernel_382499/1336304392.py:25: RuntimeWarning: This filename (/home/brooke/pacman/preprocessing/BJH025/ieeg/BJH025_bp_raw_clean_data.fif) does not conform to MNE naming conventions. All raw files should end with raw.fif, raw_sss.fif, raw_tsss.fif, _meg.fif, _eeg.fif, _ieeg.fif, raw.fif.gz, raw_sss.fif.gz, raw_tsss.fif.gz, _meg.fif.gz, _eeg.fif.gz or _ieeg.fif.gz\n",
      "  bp_raw_fif.save(f\"{preproc_data_dir}/{subject}_bp_raw_clean_data.fif\", overwrite = True)\n"
     ]
    },
    {
     "name": "stdout",
     "output_type": "stream",
     "text": [
      "Overwriting existing file.\n",
      "Writing /home/brooke/pacman/preprocessing/BJH025/ieeg/BJH025_bp_raw_clean_data-1.fif\n",
      "Closing /home/brooke/pacman/preprocessing/BJH025/ieeg/BJH025_bp_raw_clean_data-1.fif\n",
      "Closing /home/brooke/pacman/preprocessing/BJH025/ieeg/BJH025_bp_raw_clean_data.fif\n",
      "[done]\n"
     ]
    }
   ],
   "source": [
    "## Apply Rereference #\n",
    "\n",
    "if filtered_clean_fif.info['ch_names'] == raw_clean_fif.info['ch_names'] and filtered_clean_fif.info['bads'] == raw_clean_fif.info['bads']:\n",
    "    \n",
    "    # load filtered data\n",
    "    filtered_clean_fif.load_data()\n",
    "    \n",
    "    # set filtered reference \n",
    "    bp_filt_fif = mne.set_bipolar_reference(filtered_clean_fif, anode = anode, cathode = cathode)\n",
    "    \n",
    "    # save\n",
    "    bp_filt_fif.save(f\"{preproc_data_dir}/{subject}_bp_filtered_clean_data.fif\", overwrite = True)\n",
    "    \n",
    "    # clear var\n",
    "    bp_filt_fif = []\n",
    "    filtered_clean_fif = []\n",
    "    \n",
    "    # load raw data\n",
    "    raw_clean_fif.load_data()\n",
    "    \n",
    "    # set raw reference \n",
    "    bp_raw_fif = mne.set_bipolar_reference(raw_clean_fif, anode = anode, cathode = cathode)\n",
    "    \n",
    "    # save\n",
    "    bp_raw_fif.save(f\"{preproc_data_dir}/{subject}_bp_raw_clean_data.fif\", overwrite = True)\n",
    "\n",
    "    \n",
    "    # clear var\n",
    "    bp_raw_fif = []\n",
    "    raw_clean_fif = []    \n",
    "    \n",
    "    "
   ]
  },
  {
   "cell_type": "code",
   "execution_count": 6,
   "id": "0a9bd982-5b34-45b4-885f-dffef3b7c337",
   "metadata": {},
   "outputs": [
    {
     "name": "stdout",
     "output_type": "stream",
     "text": [
      "Opening raw-browser...\n"
     ]
    },
    {
     "data": {
      "image/png": "[encoded data removed]",
      "text/plain": [
       "<MNEBrowseFigure size 1846x1016 with 4 Axes>"
      ]
     },
     "execution_count": 6,
     "metadata": {},
     "output_type": "execute_result"
    },
    {
     "name": "stdout",
     "output_type": "stream",
     "text": [
      "Closing raw-browser...\n",
      "Channels marked as bad:\n",
      "['C3_234', 'C4_239', 'CZ', 'D8', 'EKG1', 'EKG2', 'EMPTY', 'EMPTY_177', 'EMPTY_178', 'EMPTY_179', 'EMPTY_180', 'EMPTY_181', 'EMPTY_182', 'EMPTY_183', 'EMPTY_184', 'EMPTY_185', 'EMPTY_186', 'EMPTY_187', 'EMPTY_188', 'EMPTY_189', 'EMPTY_190', 'EMPTY_191', 'EMPTY_192', 'EMPTY_193', 'EMPTY_194', 'EMPTY_195', 'EMPTY_196', 'EMPTY_197', 'EMPTY_198', 'EMPTY_199', 'EMPTY_2', 'EMPTY_200', 'EMPTY_201', 'EMPTY_202', 'EMPTY_203', 'EMPTY_204', 'EMPTY_205', 'EMPTY_206', 'EMPTY_207', 'EMPTY_208', 'EMPTY_209', 'EMPTY_210', 'EMPTY_211', 'EMPTY_212', 'EMPTY_213', 'EMPTY_214', 'EMPTY_215', 'EMPTY_216', 'EMPTY_217', 'EMPTY_218', 'EMPTY_219', 'EMPTY_220', 'EMPTY_221', 'EMPTY_222', 'EMPTY_223', 'EMPTY_224', 'EMPTY_225', 'EMPTY_226', 'EMPTY_227', 'EMPTY_228', 'EMPTY_229', 'EMPTY_230', 'EMPTY_231', 'EMPTY_3', 'EMPTY_4', 'F10', 'F3_233', 'F4_238', 'F7_242', 'F8_245', 'F9', 'FP1', 'FP2', 'FPZ', 'FZ', 'HL1', 'HR1', 'O1', 'O2', 'OZ', 'P3', 'P4', 'P7', 'P8', 'PZ', 'REF1', 'REF2', 'T7', 'T8', 'J7-J8', 'J6-J7']\n"
     ]
    }
   ],
   "source": [
    "# Visualize it #\n",
    "\n",
    "bp_raw_fif.plot(events=events, color='b', bad_color = 'cyan', n_channels = 50, clipping = None, event_color = 'r')"
   ]
  },
  {
   "cell_type": "markdown",
   "id": "99125d84-0012-4bcd-8685-a9c6a7aecc47",
   "metadata": {},
   "source": [
    "## Epoching the data "
   ]
  },
  {
   "cell_type": "code",
   "execution_count": 4,
   "id": "a30d9154-706b-4e09-bcaf-3c3013d8cd4c",
   "metadata": {},
   "outputs": [
    {
     "name": "stdout",
     "output_type": "stream",
     "text": [
      "Opening raw data file /home/brooke/pacman/preprocessing/BJH025/ieeg/BJH025_bp_raw_clean_data.fif...\n",
      "    Range : 0 ... 2207999 =      0.000 ...  1103.999 secs\n",
      "Ready.\n",
      "Opening raw data file /home/brooke/pacman/preprocessing/BJH025/ieeg/BJH025_bp_raw_clean_data-1.fif...\n",
      "    Range : 2208000 ... 2966399 =   1104.000 ...  1483.199 secs\n",
      "Ready.\n"
     ]
    },
    {
     "name": "stderr",
     "output_type": "stream",
     "text": [
      "/tmp/ipykernel_383152/743790177.py:1: RuntimeWarning: This filename (/home/brooke/pacman/preprocessing/BJH025/ieeg/BJH025_bp_raw_clean_data.fif) does not conform to MNE naming conventions. All raw files should end with raw.fif, raw_sss.fif, raw_tsss.fif, _meg.fif, _eeg.fif, _ieeg.fif, raw.fif.gz, raw_sss.fif.gz, raw_tsss.fif.gz, _meg.fif.gz, _eeg.fif.gz or _ieeg.fif.gz\n",
      "  bp_raw_fif = mne.io.Raw(f\"{preproc_data_dir}/{subject}_bp_raw_clean_data.fif\")\n"
     ]
    },
    {
     "name": "stdout",
     "output_type": "stream",
     "text": [
      "482 events found\n",
      "Event IDs: [0 1 2]\n"
     ]
    }
   ],
   "source": [
    "bp_raw_fif = mne.io.Raw(f\"{preproc_data_dir}/{subject}_bp_raw_clean_data.fif\")\n",
    "events = mne.find_events(bp_raw_fif, output='step', consecutive = False, stim_channel='STI')"
   ]
  },
  {
   "cell_type": "code",
   "execution_count": 8,
   "id": "b3b2f0fa-0065-4364-ba62-d7dbb927a0fb",
   "metadata": {},
   "outputs": [
    {
     "name": "stdout",
     "output_type": "stream",
     "text": [
      "Opening raw data file /home/brooke/pacman/preprocessing/BJH025/ieeg/BJH025_bp_raw_clean_data.fif...\n",
      "    Range : 0 ... 2207999 =      0.000 ...  1103.999 secs\n",
      "Ready.\n",
      "Opening raw data file /home/brooke/pacman/preprocessing/BJH025/ieeg/BJH025_bp_raw_clean_data-1.fif...\n",
      "    Range : 2208000 ... 2966399 =   1104.000 ...  1483.199 secs\n",
      "Ready.\n"
     ]
    },
    {
     "name": "stderr",
     "output_type": "stream",
     "text": [
      "/tmp/ipykernel_382499/981813422.py:4: RuntimeWarning: This filename (/home/brooke/pacman/preprocessing/BJH025/ieeg/BJH025_bp_raw_clean_data.fif) does not conform to MNE naming conventions. All raw files should end with raw.fif, raw_sss.fif, raw_tsss.fif, _meg.fif, _eeg.fif, _ieeg.fif, raw.fif.gz, raw_sss.fif.gz, raw_tsss.fif.gz, _meg.fif.gz, _eeg.fif.gz or _ieeg.fif.gz\n",
      "  bp_raw_fif = mne.io.Raw(f\"{preproc_data_dir}/{subject}_bp_raw_clean_data.fif\")\n"
     ]
    },
    {
     "name": "stdout",
     "output_type": "stream",
     "text": [
      "482 events found\n",
      "Event IDs: [0 1 2]\n",
      "Not setting metadata\n",
      "238 matching events found\n",
      "No baseline correction applied\n",
      "0 projection items activated\n",
      "Loading data for 238 events and 32001 original time points ...\n"
     ]
    },
    {
     "name": "stderr",
     "output_type": "stream",
     "text": [
      "/tmp/ipykernel_382499/981813422.py:18: RuntimeWarning: This filename (/home/brooke/pacman/preprocessing/BJH025/ieeg/BJH025_bp_clean_pres-locked_ieeg.fif) does not conform to MNE naming conventions. All epochs files should end with -epo.fif, -epo.fif.gz, _epo.fif or _epo.fif.gz\n",
      "  epoched_data.save(f\"{preproc_data_dir}/{subject}_bp_clean_pres-locked_ieeg.fif\", overwrite = True, split_size = '1.9GB')\n"
     ]
    },
    {
     "name": "stdout",
     "output_type": "stream",
     "text": [
      "1 bad epochs dropped\n",
      "Loading data for 1 events and 32001 original time points ...\n",
      "Splitting into 3 parts\n",
      "Loading data for 79 events and 32001 original time points ...\n",
      "Loading data for 79 events and 32001 original time points ...\n",
      "Loading data for 79 events and 32001 original time points ...\n"
     ]
    }
   ],
   "source": [
    "## Epoching the raw data ##\n",
    "\n",
    "# load data \n",
    "bp_raw_fif = mne.io.Raw(f\"{preproc_data_dir}/{subject}_bp_raw_clean_data.fif\")\n",
    "events = mne.find_events(bp_raw_fif, output='step', consecutive = False, stim_channel='STI')\n",
    "\n",
    "# create events\n",
    "    \n",
    "# only epoch good channels\n",
    "channels_of_interest =  [x for x in bp_raw_fif.info['ch_names'] if x not in bp_raw_fif.info['bads']]\n",
    "\n",
    "# epoch the data\n",
    "epoched_data = mne.Epochs(bp_raw_fif, events, \n",
    "                          event_id = 1, tmin = -4, tmax = 12, \n",
    "                          baseline = None, picks = channels_of_interest,\n",
    "                             reject_by_annotation = False)\n",
    "# save the data\n",
    "epoched_data.save(f\"{preproc_data_dir}/{subject}_bp_clean_pres-locked_ieeg.fif\", overwrite = True, split_size = '1.9GB')"
   ]
  },
  {
   "cell_type": "markdown",
   "id": "67d774ad-aea4-40e5-a3bb-39df1d9c2b11",
   "metadata": {},
   "source": [
    "## Trial End"
   ]
  },
  {
   "cell_type": "code",
   "execution_count": 3,
   "id": "0b19c3e4-5595-4b1d-8e8d-373cb8de20a0",
   "metadata": {},
   "outputs": [
    {
     "name": "stdout",
     "output_type": "stream",
     "text": [
      "Opening raw data file /home/brooke/pacman/preprocessing/BJH025/ieeg/BJH025_bp_raw_clean_data.fif...\n",
      "    Range : 0 ... 2207999 =      0.000 ...  1103.999 secs\n",
      "Ready.\n",
      "Opening raw data file /home/brooke/pacman/preprocessing/BJH025/ieeg/BJH025_bp_raw_clean_data-1.fif...\n",
      "    Range : 2208000 ... 2966399 =   1104.000 ...  1483.199 secs\n",
      "Ready.\n"
     ]
    },
    {
     "name": "stderr",
     "output_type": "stream",
     "text": [
      "/tmp/ipykernel_138399/2629699040.py:4: RuntimeWarning: This filename (/home/brooke/pacman/preprocessing/BJH025/ieeg/BJH025_bp_raw_clean_data.fif) does not conform to MNE naming conventions. All raw files should end with raw.fif, raw_sss.fif, raw_tsss.fif, _meg.fif, _eeg.fif, _ieeg.fif, raw.fif.gz, raw_sss.fif.gz, raw_tsss.fif.gz, _meg.fif.gz, _eeg.fif.gz or _ieeg.fif.gz\n",
      "  bp_raw_fif = mne.io.Raw(f\"{preproc_data_dir}/{subject}_bp_raw_clean_data.fif\")\n"
     ]
    },
    {
     "name": "stdout",
     "output_type": "stream",
     "text": [
      "482 events found\n",
      "Event IDs: [0 1 2]\n",
      "Not setting metadata\n",
      "241 matching events found\n",
      "No baseline correction applied\n",
      "0 projection items activated\n",
      "Overwriting existing file.\n",
      "Loading data for 241 events and 20001 original time points ...\n"
     ]
    },
    {
     "name": "stderr",
     "output_type": "stream",
     "text": [
      "/tmp/ipykernel_138399/2629699040.py:16: RuntimeWarning: This filename (/home/brooke/pacman/preprocessing/BJH025/ieeg/BJH025_bp_clean_end-locked_ieeg.fif) does not conform to MNE naming conventions. All epochs files should end with -epo.fif, -epo.fif.gz, _epo.fif or _epo.fif.gz\n",
      "  epoched_data.save(f\"{preproc_data_dir}/{subject}_bp_clean_end-locked_ieeg.fif\", overwrite = True, split_size = '1.9GB')\n"
     ]
    },
    {
     "name": "stdout",
     "output_type": "stream",
     "text": [
      "0 bad epochs dropped\n",
      "Loading data for 1 events and 20001 original time points ...\n",
      "Splitting into 2 parts\n",
      "Loading data for 121 events and 20001 original time points ...\n",
      "Loading data for 120 events and 20001 original time points ...\n"
     ]
    }
   ],
   "source": [
    "## Epoching the raw data ##\n",
    "\n",
    "# load data \n",
    "bp_raw_fif = mne.io.Raw(f\"{preproc_data_dir}/{subject}_bp_raw_clean_data.fif\")\n",
    "events = mne.find_events(bp_raw_fif, output='step', consecutive = False, stim_channel='STI')\n",
    "    \n",
    "# only epoch good channels\n",
    "channels_of_interest =  [x for x in bp_raw_fif.info['ch_names'] if x not in bp_raw_fif.info['bads']]\n",
    "\n",
    "# epoch the data\n",
    "epoched_data = mne.Epochs(bp_raw_fif, events, \n",
    "                          event_id = 0, tmin = -5, tmax = 5, \n",
    "                          baseline = None, picks = channels_of_interest,\n",
    "                             reject_by_annotation = False)\n",
    "# save the data\n",
    "epoched_data.save(f\"{preproc_data_dir}/{subject}_bp_clean_end-locked_ieeg.fif\", overwrite = True, split_size = '1.9GB')"
   ]
  },
  {
   "cell_type": "markdown",
   "id": "583289cc-2b7c-4dba-ae1b-72c9c8e76a1a",
   "metadata": {},
   "source": [
    "## Last Away"
   ]
  },
  {
   "cell_type": "code",
   "execution_count": 3,
   "id": "c865f1da-e02b-4bc3-bc26-7d6a674088b7",
   "metadata": {},
   "outputs": [
    {
     "data": {
      "text/html": [
       "<div>\n",
       "<style scoped>\n",
       "    .dataframe tbody tr th:only-of-type {\n",
       "        vertical-align: middle;\n",
       "    }\n",
       "\n",
       "    .dataframe tbody tr th {\n",
       "        vertical-align: top;\n",
       "    }\n",
       "\n",
       "    .dataframe thead th {\n",
       "        text-align: right;\n",
       "    }\n",
       "</style>\n",
       "<table border=\"1\" class=\"dataframe\">\n",
       "  <thead>\n",
       "    <tr style=\"text-align: right;\">\n",
       "      <th></th>\n",
       "      <th>neural_trial_numeric</th>\n",
       "      <th>TrialType</th>\n",
       "      <th>sample</th>\n",
       "      <th>sample_before</th>\n",
       "      <th>event</th>\n",
       "    </tr>\n",
       "  </thead>\n",
       "  <tbody>\n",
       "    <tr>\n",
       "      <th>0</th>\n",
       "      <td>0</td>\n",
       "      <td>13</td>\n",
       "      <td>17700</td>\n",
       "      <td>0</td>\n",
       "      <td>1</td>\n",
       "    </tr>\n",
       "    <tr>\n",
       "      <th>1</th>\n",
       "      <td>2</td>\n",
       "      <td>3</td>\n",
       "      <td>42400</td>\n",
       "      <td>0</td>\n",
       "      <td>1</td>\n",
       "    </tr>\n",
       "    <tr>\n",
       "      <th>2</th>\n",
       "      <td>3</td>\n",
       "      <td>12</td>\n",
       "      <td>58900</td>\n",
       "      <td>0</td>\n",
       "      <td>1</td>\n",
       "    </tr>\n",
       "    <tr>\n",
       "      <th>3</th>\n",
       "      <td>6</td>\n",
       "      <td>6</td>\n",
       "      <td>124400</td>\n",
       "      <td>0</td>\n",
       "      <td>1</td>\n",
       "    </tr>\n",
       "    <tr>\n",
       "      <th>4</th>\n",
       "      <td>7</td>\n",
       "      <td>14</td>\n",
       "      <td>134100</td>\n",
       "      <td>0</td>\n",
       "      <td>1</td>\n",
       "    </tr>\n",
       "    <tr>\n",
       "      <th>...</th>\n",
       "      <td>...</td>\n",
       "      <td>...</td>\n",
       "      <td>...</td>\n",
       "      <td>...</td>\n",
       "      <td>...</td>\n",
       "    </tr>\n",
       "    <tr>\n",
       "      <th>196</th>\n",
       "      <td>233</td>\n",
       "      <td>18</td>\n",
       "      <td>2866700</td>\n",
       "      <td>0</td>\n",
       "      <td>1</td>\n",
       "    </tr>\n",
       "    <tr>\n",
       "      <th>197</th>\n",
       "      <td>234</td>\n",
       "      <td>4</td>\n",
       "      <td>2878900</td>\n",
       "      <td>0</td>\n",
       "      <td>1</td>\n",
       "    </tr>\n",
       "    <tr>\n",
       "      <th>198</th>\n",
       "      <td>235</td>\n",
       "      <td>8</td>\n",
       "      <td>2890300</td>\n",
       "      <td>0</td>\n",
       "      <td>1</td>\n",
       "    </tr>\n",
       "    <tr>\n",
       "      <th>199</th>\n",
       "      <td>236</td>\n",
       "      <td>7</td>\n",
       "      <td>2899500</td>\n",
       "      <td>0</td>\n",
       "      <td>1</td>\n",
       "    </tr>\n",
       "    <tr>\n",
       "      <th>200</th>\n",
       "      <td>237</td>\n",
       "      <td>2</td>\n",
       "      <td>2909900</td>\n",
       "      <td>0</td>\n",
       "      <td>1</td>\n",
       "    </tr>\n",
       "  </tbody>\n",
       "</table>\n",
       "<p>201 rows × 5 columns</p>\n",
       "</div>"
      ],
      "text/plain": [
       "     neural_trial_numeric  TrialType   sample  sample_before  event\n",
       "0                       0         13    17700              0      1\n",
       "1                       2          3    42400              0      1\n",
       "2                       3         12    58900              0      1\n",
       "3                       6          6   124400              0      1\n",
       "4                       7         14   134100              0      1\n",
       "..                    ...        ...      ...            ...    ...\n",
       "196                   233         18  2866700              0      1\n",
       "197                   234          4  2878900              0      1\n",
       "198                   235          8  2890300              0      1\n",
       "199                   236          7  2899500              0      1\n",
       "200                   237          2  2909900              0      1\n",
       "\n",
       "[201 rows x 5 columns]"
      ]
     },
     "execution_count": 3,
     "metadata": {},
     "output_type": "execute_result"
    }
   ],
   "source": [
    "## Load Behavioral Data ##\n",
    "last_away_data = pd.read_csv(f\"{raw_data_dir}/behave/{subject}_last_away_events.csv\")\n",
    "last_away_data"
   ]
  },
  {
   "cell_type": "code",
   "execution_count": 5,
   "id": "dd41c5cd-0432-4bdd-b17d-68ea18a74802",
   "metadata": {},
   "outputs": [],
   "source": [
    "# create events\n",
    "last_away_events = last_away_data[['sample', 'sample_before', 'event']].copy().to_numpy()\n"
   ]
  },
  {
   "cell_type": "code",
   "execution_count": 7,
   "id": "f394447b-f502-4ccb-a7dd-913f458f896b",
   "metadata": {},
   "outputs": [
    {
     "name": "stdout",
     "output_type": "stream",
     "text": [
      "Opening raw data file /home/brooke/pacman/preprocessing/BJH025/ieeg/BJH025_bp_raw_clean_data.fif...\n",
      "    Range : 0 ... 2207999 =      0.000 ...  1103.999 secs\n",
      "Ready.\n",
      "Opening raw data file /home/brooke/pacman/preprocessing/BJH025/ieeg/BJH025_bp_raw_clean_data-1.fif...\n",
      "    Range : 2208000 ... 2966399 =   1104.000 ...  1483.199 secs\n",
      "Ready.\n",
      "Not setting metadata\n",
      "201 matching events found\n",
      "No baseline correction applied\n",
      "0 projection items activated\n",
      "Overwriting existing file.\n",
      "Loading data for 201 events and 20001 original time points ...\n"
     ]
    },
    {
     "name": "stderr",
     "output_type": "stream",
     "text": [
      "/tmp/ipykernel_4551/2975798972.py:2: RuntimeWarning: This filename (/home/brooke/pacman/preprocessing/BJH025/ieeg/BJH025_bp_raw_clean_data.fif) does not conform to MNE naming conventions. All raw files should end with raw.fif, raw_sss.fif, raw_tsss.fif, _meg.fif, _eeg.fif, _ieeg.fif, raw.fif.gz, raw_sss.fif.gz, raw_tsss.fif.gz, _meg.fif.gz, _eeg.fif.gz or _ieeg.fif.gz\n",
      "  bp_raw_fif = mne.io.Raw(f\"{preproc_data_dir}/{subject}_bp_raw_clean_data.fif\")\n",
      "/tmp/ipykernel_4551/2975798972.py:14: RuntimeWarning: This filename (/home/brooke/pacman/preprocessing/BJH025/ieeg/BJH025_bp_raw_clean_last_away_events.fif) does not conform to MNE naming conventions. All epochs files should end with -epo.fif, -epo.fif.gz, _epo.fif or _epo.fif.gz\n",
      "  last_away_epochs.save(f\"{preproc_data_dir}/{subject}_bp_raw_clean_last_away_events.fif\", overwrite = True, split_size = '1.9GB')\n"
     ]
    },
    {
     "name": "stdout",
     "output_type": "stream",
     "text": [
      "0 bad epochs dropped\n",
      "Loading data for 1 events and 20001 original time points ...\n",
      "Splitting into 2 parts\n",
      "Loading data for 101 events and 20001 original time points ...\n",
      "Loading data for 100 events and 20001 original time points ...\n"
     ]
    }
   ],
   "source": [
    "# load data \n",
    "bp_raw_fif = mne.io.Raw(f\"{preproc_data_dir}/{subject}_bp_raw_clean_data.fif\")\n",
    "\n",
    "# only epoch good channels\n",
    "channels_of_interest =  [x for x in bp_raw_fif.info['ch_names'] if x not in bp_raw_fif.info['bads']]\n",
    "\n",
    "\n",
    "# epoch the data\n",
    "last_away_epochs = mne.Epochs(bp_raw_fif, last_away_events, \n",
    "                          event_id = 1, tmin = -5, tmax =5, \n",
    "                          baseline = None, picks = channels_of_interest,\n",
    "                             reject_by_annotation = False)\n",
    "# # save the data\n",
    "last_away_epochs.save(f\"{preproc_data_dir}/{subject}_bp_raw_clean_last_away_events.fif\", overwrite = True, split_size = '1.9GB')\n"
   ]
  },
  {
   "cell_type": "markdown",
   "id": "ba28a25e-a34b-49f4-b3a6-c1f15942eab4",
   "metadata": {},
   "source": [
    "## Last Dot"
   ]
  },
  {
   "cell_type": "code",
   "execution_count": 13,
   "id": "027b1c12-306a-4610-b947-3e0ec830322b",
   "metadata": {},
   "outputs": [],
   "source": [
    "## Load Behavioral Data ##\n",
    "last_dot_data = pd.read_csv(f\"{raw_data_dir}/behave/{subject}_last_dot_events.csv\")\n",
    "last_dot_data"
   ]
  },
  {
   "cell_type": "code",
   "execution_count": null,
   "id": "9f8b5e8f-d0e5-458c-b0e8-ba4c2e6f3afd",
   "metadata": {},
   "outputs": [],
   "source": [
    "# filter to good epochs and fix trial indexing\n",
    "last_dot_data['trial_numeric'] = last_dot_data['trial_numeric'] - 1\n",
    "\n",
    "# create events\n",
    "last_dot_events = last_dot_data[['sample', 'sample_before', 'event']].copy().to_numpy()\n"
   ]
  },
  {
   "cell_type": "code",
   "execution_count": null,
   "id": "12b14a15-5400-4e61-a393-7d4347e174ca",
   "metadata": {},
   "outputs": [],
   "source": [
    "# epoch the data\n",
    "last_dot_epochs = mne.Epochs(bp_raw_fif, last_dot_events, \n",
    "                          event_id = 1, tmin = -.75 * 4, tmax =.75 * 3, \n",
    "                          baseline = None, picks = channels_of_interest,\n",
    "                             reject_by_annotation = False)\n",
    "# # save the data\n",
    "last_dot_epochs.save(f\"{preproc_data_dir}/{subject}_bp_raw_clean_last_dot_events.fif\", overwrite = True, split_size = '1.9GB')\n"
   ]
  }
 ],
 "metadata": {
  "kernelspec": {
   "display_name": "Python [conda env:ieeg_analysis] *",
   "language": "python",
   "name": "conda-env-ieeg_analysis-py"
  },
  "language_info": {
   "codemirror_mode": {
    "name": "ipython",
    "version": 3
   },
   "file_extension": ".py",
   "mimetype": "text/x-python",
   "name": "python",
   "nbconvert_exporter": "python",
   "pygments_lexer": "ipython3",
   "version": "3.9.12"
  }
 },
 "nbformat": 4,
 "nbformat_minor": 5
}

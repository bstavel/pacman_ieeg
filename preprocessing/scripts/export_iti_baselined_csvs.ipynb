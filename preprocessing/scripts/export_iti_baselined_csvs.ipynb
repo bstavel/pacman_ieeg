{
 "cells": [
  {
   "cell_type": "code",
   "execution_count": 1,
   "id": "bc0f7460-23f6-465e-8189-a0efa9510093",
   "metadata": {},
   "outputs": [],
   "source": [
    "import matplotlib\n",
    "import matplotlib.pyplot as plt\n",
    "import pandas as pd\n",
    "import numpy as np\n",
    "from scipy import signal, stats\n",
    "import re\n",
    "import os\n",
    "import mne\n",
    "import IPython\n",
    "import seaborn as sns\n",
    "import scipy\n",
    "import joblib\n",
    "import h5io\n",
    "import dask.array as da \n",
    "import statsmodels\n",
    "from statsmodels import stats\n",
    "from statsmodels.stats import multitest\n",
    "\n",
    "## import custom functions\n",
    "import sys\n",
    "sys.path.append('/home/brooke/pacman/preprocessing/scripts')\n",
    "import preproc_functions as pf\n",
    "import roi as subs"
   ]
  },
  {
   "cell_type": "code",
   "execution_count": 2,
   "id": "e0d692b5-2237-4789-92d0-d8b5af33ae07",
   "metadata": {},
   "outputs": [],
   "source": [
    "# set sub and ori lists\n",
    "sub_list = ['SLCH002', 'SLCH018', 'BJH016', 'BJH017', 'BJH021', 'BJH025',  'BJH026', 'BJH027', 'BJH029', 'BJH039', 'BJH041', 'BJH046', 'BJH050', 'BJH051', 'LL10', 'LL12', 'LL13', 'LL14', 'LL17', 'LL19']\n",
    "sub_list = ['BJH039', 'BJH041', 'BJH046', 'BJH050', 'BJH051', 'LL10', 'LL12', 'LL13', 'LL14', 'LL17', 'LL19']\n",
    "\n",
    "roi_list = ['hc', 'amyg', 'ofc', 'cing', 'dlpfc']\n"
   ]
  },
  {
   "cell_type": "code",
   "execution_count": 3,
   "id": "03d11d10-49e3-46a7-a249-49f0c3e8cf17",
   "metadata": {},
   "outputs": [
    {
     "name": "stdout",
     "output_type": "stream",
     "text": [
      "Reading /home/brooke/pacman/preprocessing/BJH039/ieeg/BJH039_bp_clean_pres-locked_ieeg.fif ...\n"
     ]
    },
    {
     "name": "stderr",
     "output_type": "stream",
     "text": [
      "/tmp/ipykernel_178218/3213549717.py:3: RuntimeWarning: This filename (/home/brooke/pacman/preprocessing/BJH039/ieeg/BJH039_bp_clean_pres-locked_ieeg.fif) does not conform to MNE naming conventions. All epochs files should end with -epo.fif, -epo.fif.gz, _epo.fif or _epo.fif.gz\n",
      "  trial_onset_epochs = mne.read_epochs(f\"/home/brooke/pacman/preprocessing/{sub}/ieeg/{sub}_bp_clean_pres-locked_ieeg.fif\")\n"
     ]
    },
    {
     "name": "stdout",
     "output_type": "stream",
     "text": [
      "    Found the data of interest:\n",
      "        t =   -4000.00 ...   12000.00 ms\n",
      "        0 CTF compensation matrices available\n",
      "Reading /home/brooke/pacman/preprocessing/BJH039/ieeg/BJH039_bp_clean_pres-locked_ieeg-1.fif ...\n",
      "    Found the data of interest:\n",
      "        t =   -4000.00 ...   12000.00 ms\n",
      "        0 CTF compensation matrices available\n",
      "Not setting metadata\n",
      "223 matching events found\n",
      "No baseline correction applied\n",
      "0 projection items activated\n",
      "Reading /home/brooke/pacman/preprocessing/BJH039/ieeg/trial_onset/hc-tfr.h5 ...\n",
      "log transforming\n",
      "z-scoring to baseline\n"
     ]
    },
    {
     "name": "stderr",
     "output_type": "stream",
     "text": [
      "/tmp/ipykernel_178218/3213549717.py:22: RuntimeWarning: tmax is not in time interval. tmax is set to <class 'mne.time_frequency.tfr.EpochsTFR'>.tmax (11.999 s)\n",
      "  roi_pres_TFR.crop(tmin = -1, tmax = 12)\n"
     ]
    },
    {
     "name": "stdout",
     "output_type": "stream",
     "text": [
      "Reading /home/brooke/pacman/preprocessing/BJH039/ieeg/trial_onset/amyg-tfr.h5 ...\n",
      "log transforming\n",
      "z-scoring to baseline\n"
     ]
    },
    {
     "name": "stderr",
     "output_type": "stream",
     "text": [
      "/tmp/ipykernel_178218/3213549717.py:22: RuntimeWarning: tmax is not in time interval. tmax is set to <class 'mne.time_frequency.tfr.EpochsTFR'>.tmax (11.999 s)\n",
      "  roi_pres_TFR.crop(tmin = -1, tmax = 12)\n"
     ]
    },
    {
     "name": "stdout",
     "output_type": "stream",
     "text": [
      "Reading /home/brooke/pacman/preprocessing/BJH039/ieeg/trial_onset/ofc-tfr.h5 ...\n",
      "log transforming\n",
      "z-scoring to baseline\n"
     ]
    },
    {
     "name": "stderr",
     "output_type": "stream",
     "text": [
      "/tmp/ipykernel_178218/3213549717.py:22: RuntimeWarning: tmax is not in time interval. tmax is set to <class 'mne.time_frequency.tfr.EpochsTFR'>.tmax (11.999 s)\n",
      "  roi_pres_TFR.crop(tmin = -1, tmax = 12)\n"
     ]
    },
    {
     "name": "stdout",
     "output_type": "stream",
     "text": [
      "Reading /home/brooke/pacman/preprocessing/BJH039/ieeg/trial_onset/cing-tfr.h5 ...\n",
      "log transforming\n",
      "z-scoring to baseline\n"
     ]
    },
    {
     "name": "stderr",
     "output_type": "stream",
     "text": [
      "/tmp/ipykernel_178218/3213549717.py:22: RuntimeWarning: tmax is not in time interval. tmax is set to <class 'mne.time_frequency.tfr.EpochsTFR'>.tmax (11.999 s)\n",
      "  roi_pres_TFR.crop(tmin = -1, tmax = 12)\n"
     ]
    },
    {
     "name": "stdout",
     "output_type": "stream",
     "text": [
      "Reading /home/brooke/pacman/preprocessing/BJH039/ieeg/trial_onset/dlpfc-tfr.h5 ...\n",
      "log transforming\n",
      "z-scoring to baseline\n"
     ]
    },
    {
     "name": "stderr",
     "output_type": "stream",
     "text": [
      "/tmp/ipykernel_178218/3213549717.py:22: RuntimeWarning: tmax is not in time interval. tmax is set to <class 'mne.time_frequency.tfr.EpochsTFR'>.tmax (11.999 s)\n",
      "  roi_pres_TFR.crop(tmin = -1, tmax = 12)\n"
     ]
    },
    {
     "name": "stdout",
     "output_type": "stream",
     "text": [
      "Reading /home/brooke/pacman/preprocessing/BJH041/ieeg/BJH041_bp_clean_pres-locked_ieeg.fif ...\n"
     ]
    },
    {
     "name": "stderr",
     "output_type": "stream",
     "text": [
      "/tmp/ipykernel_178218/3213549717.py:3: RuntimeWarning: This filename (/home/brooke/pacman/preprocessing/BJH041/ieeg/BJH041_bp_clean_pres-locked_ieeg.fif) does not conform to MNE naming conventions. All epochs files should end with -epo.fif, -epo.fif.gz, _epo.fif or _epo.fif.gz\n",
      "  trial_onset_epochs = mne.read_epochs(f\"/home/brooke/pacman/preprocessing/{sub}/ieeg/{sub}_bp_clean_pres-locked_ieeg.fif\")\n"
     ]
    },
    {
     "name": "stdout",
     "output_type": "stream",
     "text": [
      "    Found the data of interest:\n",
      "        t =   -4000.00 ...   12000.00 ms\n",
      "        0 CTF compensation matrices available\n",
      "Reading /home/brooke/pacman/preprocessing/BJH041/ieeg/BJH041_bp_clean_pres-locked_ieeg-1.fif ...\n",
      "    Found the data of interest:\n",
      "        t =   -4000.00 ...   12000.00 ms\n",
      "        0 CTF compensation matrices available\n",
      "Reading /home/brooke/pacman/preprocessing/BJH041/ieeg/BJH041_bp_clean_pres-locked_ieeg-2.fif ...\n",
      "    Found the data of interest:\n",
      "        t =   -4000.00 ...   12000.00 ms\n",
      "        0 CTF compensation matrices available\n",
      "Not setting metadata\n",
      "240 matching events found\n",
      "No baseline correction applied\n",
      "0 projection items activated\n",
      "Reading /home/brooke/pacman/preprocessing/BJH041/ieeg/trial_onset/hc-tfr.h5 ...\n",
      "log transforming\n",
      "z-scoring to baseline\n"
     ]
    },
    {
     "name": "stderr",
     "output_type": "stream",
     "text": [
      "/tmp/ipykernel_178218/3213549717.py:22: RuntimeWarning: tmax is not in time interval. tmax is set to <class 'mne.time_frequency.tfr.EpochsTFR'>.tmax (11.999 s)\n",
      "  roi_pres_TFR.crop(tmin = -1, tmax = 12)\n"
     ]
    },
    {
     "name": "stdout",
     "output_type": "stream",
     "text": [
      "Reading /home/brooke/pacman/preprocessing/BJH041/ieeg/trial_onset/amyg-tfr.h5 ...\n",
      "log transforming\n",
      "z-scoring to baseline\n"
     ]
    },
    {
     "name": "stderr",
     "output_type": "stream",
     "text": [
      "/tmp/ipykernel_178218/3213549717.py:22: RuntimeWarning: tmax is not in time interval. tmax is set to <class 'mne.time_frequency.tfr.EpochsTFR'>.tmax (11.999 s)\n",
      "  roi_pres_TFR.crop(tmin = -1, tmax = 12)\n"
     ]
    },
    {
     "name": "stdout",
     "output_type": "stream",
     "text": [
      "Reading /home/brooke/pacman/preprocessing/BJH041/ieeg/trial_onset/ofc-tfr.h5 ...\n",
      "log transforming\n",
      "z-scoring to baseline\n"
     ]
    },
    {
     "name": "stderr",
     "output_type": "stream",
     "text": [
      "/tmp/ipykernel_178218/3213549717.py:22: RuntimeWarning: tmax is not in time interval. tmax is set to <class 'mne.time_frequency.tfr.EpochsTFR'>.tmax (11.999 s)\n",
      "  roi_pres_TFR.crop(tmin = -1, tmax = 12)\n"
     ]
    },
    {
     "name": "stdout",
     "output_type": "stream",
     "text": [
      "Reading /home/brooke/pacman/preprocessing/BJH041/ieeg/trial_onset/cing-tfr.h5 ...\n",
      "An error occurred with region cing and subject BJH041: file \"/home/brooke/pacman/preprocessing/BJH041/ieeg/trial_onset/cing-tfr.h5\" not found\n",
      "Reading /home/brooke/pacman/preprocessing/BJH041/ieeg/trial_onset/dlpfc-tfr.h5 ...\n",
      "An error occurred with region dlpfc and subject BJH041: file \"/home/brooke/pacman/preprocessing/BJH041/ieeg/trial_onset/dlpfc-tfr.h5\" not found\n",
      "Reading /home/brooke/pacman/preprocessing/BJH046/ieeg/BJH046_bp_clean_pres-locked_ieeg.fif ...\n"
     ]
    },
    {
     "name": "stderr",
     "output_type": "stream",
     "text": [
      "/tmp/ipykernel_178218/3213549717.py:3: RuntimeWarning: This filename (/home/brooke/pacman/preprocessing/BJH046/ieeg/BJH046_bp_clean_pres-locked_ieeg.fif) does not conform to MNE naming conventions. All epochs files should end with -epo.fif, -epo.fif.gz, _epo.fif or _epo.fif.gz\n",
      "  trial_onset_epochs = mne.read_epochs(f\"/home/brooke/pacman/preprocessing/{sub}/ieeg/{sub}_bp_clean_pres-locked_ieeg.fif\")\n"
     ]
    },
    {
     "name": "stdout",
     "output_type": "stream",
     "text": [
      "    Found the data of interest:\n",
      "        t =   -4000.00 ...   12000.00 ms\n",
      "        0 CTF compensation matrices available\n",
      "Reading /home/brooke/pacman/preprocessing/BJH046/ieeg/BJH046_bp_clean_pres-locked_ieeg-1.fif ...\n",
      "    Found the data of interest:\n",
      "        t =   -4000.00 ...   12000.00 ms\n",
      "        0 CTF compensation matrices available\n",
      "Reading /home/brooke/pacman/preprocessing/BJH046/ieeg/BJH046_bp_clean_pres-locked_ieeg-2.fif ...\n",
      "    Found the data of interest:\n",
      "        t =   -4000.00 ...   12000.00 ms\n",
      "        0 CTF compensation matrices available\n",
      "Not setting metadata\n",
      "239 matching events found\n",
      "No baseline correction applied\n",
      "0 projection items activated\n",
      "Reading /home/brooke/pacman/preprocessing/BJH046/ieeg/trial_onset/hc-tfr.h5 ...\n",
      "log transforming\n",
      "z-scoring to baseline\n"
     ]
    },
    {
     "name": "stderr",
     "output_type": "stream",
     "text": [
      "/tmp/ipykernel_178218/3213549717.py:22: RuntimeWarning: tmax is not in time interval. tmax is set to <class 'mne.time_frequency.tfr.EpochsTFR'>.tmax (11.999 s)\n",
      "  roi_pres_TFR.crop(tmin = -1, tmax = 12)\n"
     ]
    },
    {
     "name": "stdout",
     "output_type": "stream",
     "text": [
      "Reading /home/brooke/pacman/preprocessing/BJH046/ieeg/trial_onset/amyg-tfr.h5 ...\n",
      "log transforming\n",
      "z-scoring to baseline\n"
     ]
    },
    {
     "name": "stderr",
     "output_type": "stream",
     "text": [
      "/tmp/ipykernel_178218/3213549717.py:22: RuntimeWarning: tmax is not in time interval. tmax is set to <class 'mne.time_frequency.tfr.EpochsTFR'>.tmax (11.999 s)\n",
      "  roi_pres_TFR.crop(tmin = -1, tmax = 12)\n"
     ]
    },
    {
     "name": "stdout",
     "output_type": "stream",
     "text": [
      "Reading /home/brooke/pacman/preprocessing/BJH046/ieeg/trial_onset/ofc-tfr.h5 ...\n",
      "log transforming\n",
      "z-scoring to baseline\n"
     ]
    },
    {
     "name": "stderr",
     "output_type": "stream",
     "text": [
      "/tmp/ipykernel_178218/3213549717.py:22: RuntimeWarning: tmax is not in time interval. tmax is set to <class 'mne.time_frequency.tfr.EpochsTFR'>.tmax (11.999 s)\n",
      "  roi_pres_TFR.crop(tmin = -1, tmax = 12)\n"
     ]
    },
    {
     "name": "stdout",
     "output_type": "stream",
     "text": [
      "Reading /home/brooke/pacman/preprocessing/BJH046/ieeg/trial_onset/cing-tfr.h5 ...\n",
      "log transforming\n",
      "z-scoring to baseline\n"
     ]
    },
    {
     "name": "stderr",
     "output_type": "stream",
     "text": [
      "/tmp/ipykernel_178218/3213549717.py:22: RuntimeWarning: tmax is not in time interval. tmax is set to <class 'mne.time_frequency.tfr.EpochsTFR'>.tmax (11.999 s)\n",
      "  roi_pres_TFR.crop(tmin = -1, tmax = 12)\n"
     ]
    },
    {
     "name": "stdout",
     "output_type": "stream",
     "text": [
      "Reading /home/brooke/pacman/preprocessing/BJH046/ieeg/trial_onset/dlpfc-tfr.h5 ...\n",
      "log transforming\n",
      "z-scoring to baseline\n"
     ]
    },
    {
     "name": "stderr",
     "output_type": "stream",
     "text": [
      "/tmp/ipykernel_178218/3213549717.py:22: RuntimeWarning: tmax is not in time interval. tmax is set to <class 'mne.time_frequency.tfr.EpochsTFR'>.tmax (11.999 s)\n",
      "  roi_pres_TFR.crop(tmin = -1, tmax = 12)\n"
     ]
    },
    {
     "name": "stdout",
     "output_type": "stream",
     "text": [
      "Reading /home/brooke/pacman/preprocessing/BJH050/ieeg/BJH050_bp_clean_pres-locked_ieeg.fif ...\n"
     ]
    },
    {
     "name": "stderr",
     "output_type": "stream",
     "text": [
      "/tmp/ipykernel_178218/3213549717.py:3: RuntimeWarning: This filename (/home/brooke/pacman/preprocessing/BJH050/ieeg/BJH050_bp_clean_pres-locked_ieeg.fif) does not conform to MNE naming conventions. All epochs files should end with -epo.fif, -epo.fif.gz, _epo.fif or _epo.fif.gz\n",
      "  trial_onset_epochs = mne.read_epochs(f\"/home/brooke/pacman/preprocessing/{sub}/ieeg/{sub}_bp_clean_pres-locked_ieeg.fif\")\n"
     ]
    },
    {
     "name": "stdout",
     "output_type": "stream",
     "text": [
      "    Found the data of interest:\n",
      "        t =   -4000.00 ...   12000.00 ms\n",
      "        0 CTF compensation matrices available\n",
      "Reading /home/brooke/pacman/preprocessing/BJH050/ieeg/BJH050_bp_clean_pres-locked_ieeg-1.fif ...\n",
      "    Found the data of interest:\n",
      "        t =   -4000.00 ...   12000.00 ms\n",
      "        0 CTF compensation matrices available\n",
      "Not setting metadata\n",
      "240 matching events found\n",
      "No baseline correction applied\n",
      "0 projection items activated\n",
      "Reading /home/brooke/pacman/preprocessing/BJH050/ieeg/trial_onset/hc-tfr.h5 ...\n",
      "log transforming\n",
      "z-scoring to baseline\n"
     ]
    },
    {
     "name": "stderr",
     "output_type": "stream",
     "text": [
      "/tmp/ipykernel_178218/3213549717.py:22: RuntimeWarning: tmax is not in time interval. tmax is set to <class 'mne.time_frequency.tfr.EpochsTFR'>.tmax (11.999 s)\n",
      "  roi_pres_TFR.crop(tmin = -1, tmax = 12)\n"
     ]
    },
    {
     "name": "stdout",
     "output_type": "stream",
     "text": [
      "Reading /home/brooke/pacman/preprocessing/BJH050/ieeg/trial_onset/amyg-tfr.h5 ...\n",
      "log transforming\n",
      "z-scoring to baseline\n"
     ]
    },
    {
     "name": "stderr",
     "output_type": "stream",
     "text": [
      "/tmp/ipykernel_178218/3213549717.py:22: RuntimeWarning: tmax is not in time interval. tmax is set to <class 'mne.time_frequency.tfr.EpochsTFR'>.tmax (11.999 s)\n",
      "  roi_pres_TFR.crop(tmin = -1, tmax = 12)\n"
     ]
    },
    {
     "name": "stdout",
     "output_type": "stream",
     "text": [
      "Reading /home/brooke/pacman/preprocessing/BJH050/ieeg/trial_onset/ofc-tfr.h5 ...\n",
      "log transforming\n",
      "z-scoring to baseline\n"
     ]
    },
    {
     "name": "stderr",
     "output_type": "stream",
     "text": [
      "/tmp/ipykernel_178218/3213549717.py:22: RuntimeWarning: tmax is not in time interval. tmax is set to <class 'mne.time_frequency.tfr.EpochsTFR'>.tmax (11.999 s)\n",
      "  roi_pres_TFR.crop(tmin = -1, tmax = 12)\n"
     ]
    },
    {
     "name": "stdout",
     "output_type": "stream",
     "text": [
      "Reading /home/brooke/pacman/preprocessing/BJH050/ieeg/trial_onset/cing-tfr.h5 ...\n",
      "log transforming\n",
      "z-scoring to baseline\n"
     ]
    },
    {
     "name": "stderr",
     "output_type": "stream",
     "text": [
      "/tmp/ipykernel_178218/3213549717.py:22: RuntimeWarning: tmax is not in time interval. tmax is set to <class 'mne.time_frequency.tfr.EpochsTFR'>.tmax (11.999 s)\n",
      "  roi_pres_TFR.crop(tmin = -1, tmax = 12)\n"
     ]
    },
    {
     "name": "stdout",
     "output_type": "stream",
     "text": [
      "Reading /home/brooke/pacman/preprocessing/BJH050/ieeg/trial_onset/dlpfc-tfr.h5 ...\n",
      "log transforming\n",
      "z-scoring to baseline\n"
     ]
    },
    {
     "name": "stderr",
     "output_type": "stream",
     "text": [
      "/tmp/ipykernel_178218/3213549717.py:22: RuntimeWarning: tmax is not in time interval. tmax is set to <class 'mne.time_frequency.tfr.EpochsTFR'>.tmax (11.999 s)\n",
      "  roi_pres_TFR.crop(tmin = -1, tmax = 12)\n"
     ]
    },
    {
     "name": "stdout",
     "output_type": "stream",
     "text": [
      "Reading /home/brooke/pacman/preprocessing/BJH051/ieeg/BJH051_bp_clean_pres-locked_ieeg.fif ...\n"
     ]
    },
    {
     "name": "stderr",
     "output_type": "stream",
     "text": [
      "/tmp/ipykernel_178218/3213549717.py:3: RuntimeWarning: This filename (/home/brooke/pacman/preprocessing/BJH051/ieeg/BJH051_bp_clean_pres-locked_ieeg.fif) does not conform to MNE naming conventions. All epochs files should end with -epo.fif, -epo.fif.gz, _epo.fif or _epo.fif.gz\n",
      "  trial_onset_epochs = mne.read_epochs(f\"/home/brooke/pacman/preprocessing/{sub}/ieeg/{sub}_bp_clean_pres-locked_ieeg.fif\")\n"
     ]
    },
    {
     "name": "stdout",
     "output_type": "stream",
     "text": [
      "    Found the data of interest:\n",
      "        t =   -4000.00 ...   12000.00 ms\n",
      "        0 CTF compensation matrices available\n",
      "Reading /home/brooke/pacman/preprocessing/BJH051/ieeg/BJH051_bp_clean_pres-locked_ieeg-1.fif ...\n",
      "    Found the data of interest:\n",
      "        t =   -4000.00 ...   12000.00 ms\n",
      "        0 CTF compensation matrices available\n",
      "Not setting metadata\n",
      "240 matching events found\n",
      "No baseline correction applied\n",
      "0 projection items activated\n",
      "Reading /home/brooke/pacman/preprocessing/BJH051/ieeg/trial_onset/hc-tfr.h5 ...\n",
      "log transforming\n",
      "z-scoring to baseline\n"
     ]
    },
    {
     "name": "stderr",
     "output_type": "stream",
     "text": [
      "/tmp/ipykernel_178218/3213549717.py:22: RuntimeWarning: tmax is not in time interval. tmax is set to <class 'mne.time_frequency.tfr.EpochsTFR'>.tmax (11.999 s)\n",
      "  roi_pres_TFR.crop(tmin = -1, tmax = 12)\n"
     ]
    },
    {
     "name": "stdout",
     "output_type": "stream",
     "text": [
      "Reading /home/brooke/pacman/preprocessing/BJH051/ieeg/trial_onset/amyg-tfr.h5 ...\n",
      "log transforming\n",
      "z-scoring to baseline\n"
     ]
    },
    {
     "name": "stderr",
     "output_type": "stream",
     "text": [
      "/tmp/ipykernel_178218/3213549717.py:22: RuntimeWarning: tmax is not in time interval. tmax is set to <class 'mne.time_frequency.tfr.EpochsTFR'>.tmax (11.999 s)\n",
      "  roi_pres_TFR.crop(tmin = -1, tmax = 12)\n"
     ]
    },
    {
     "name": "stdout",
     "output_type": "stream",
     "text": [
      "Reading /home/brooke/pacman/preprocessing/BJH051/ieeg/trial_onset/ofc-tfr.h5 ...\n",
      "log transforming\n",
      "z-scoring to baseline\n"
     ]
    },
    {
     "name": "stderr",
     "output_type": "stream",
     "text": [
      "/tmp/ipykernel_178218/3213549717.py:22: RuntimeWarning: tmax is not in time interval. tmax is set to <class 'mne.time_frequency.tfr.EpochsTFR'>.tmax (11.999 s)\n",
      "  roi_pres_TFR.crop(tmin = -1, tmax = 12)\n"
     ]
    },
    {
     "name": "stdout",
     "output_type": "stream",
     "text": [
      "Reading /home/brooke/pacman/preprocessing/BJH051/ieeg/trial_onset/cing-tfr.h5 ...\n",
      "log transforming\n",
      "z-scoring to baseline\n"
     ]
    },
    {
     "name": "stderr",
     "output_type": "stream",
     "text": [
      "/tmp/ipykernel_178218/3213549717.py:22: RuntimeWarning: tmax is not in time interval. tmax is set to <class 'mne.time_frequency.tfr.EpochsTFR'>.tmax (11.999 s)\n",
      "  roi_pres_TFR.crop(tmin = -1, tmax = 12)\n"
     ]
    },
    {
     "name": "stdout",
     "output_type": "stream",
     "text": [
      "Reading /home/brooke/pacman/preprocessing/BJH051/ieeg/trial_onset/dlpfc-tfr.h5 ...\n",
      "log transforming\n",
      "z-scoring to baseline\n"
     ]
    },
    {
     "name": "stderr",
     "output_type": "stream",
     "text": [
      "/tmp/ipykernel_178218/3213549717.py:22: RuntimeWarning: tmax is not in time interval. tmax is set to <class 'mne.time_frequency.tfr.EpochsTFR'>.tmax (11.999 s)\n",
      "  roi_pres_TFR.crop(tmin = -1, tmax = 12)\n"
     ]
    },
    {
     "name": "stdout",
     "output_type": "stream",
     "text": [
      "Reading /home/brooke/pacman/preprocessing/LL10/ieeg/LL10_bp_clean_pres-locked_ieeg.fif ...\n"
     ]
    },
    {
     "name": "stderr",
     "output_type": "stream",
     "text": [
      "/tmp/ipykernel_178218/3213549717.py:3: RuntimeWarning: This filename (/home/brooke/pacman/preprocessing/LL10/ieeg/LL10_bp_clean_pres-locked_ieeg.fif) does not conform to MNE naming conventions. All epochs files should end with -epo.fif, -epo.fif.gz, _epo.fif or _epo.fif.gz\n",
      "  trial_onset_epochs = mne.read_epochs(f\"/home/brooke/pacman/preprocessing/{sub}/ieeg/{sub}_bp_clean_pres-locked_ieeg.fif\")\n"
     ]
    },
    {
     "name": "stdout",
     "output_type": "stream",
     "text": [
      "    Found the data of interest:\n",
      "        t =   -4000.00 ...   12000.00 ms\n",
      "        0 CTF compensation matrices available\n",
      "Not setting metadata\n",
      "240 matching events found\n",
      "No baseline correction applied\n",
      "0 projection items activated\n",
      "Reading /home/brooke/pacman/preprocessing/LL10/ieeg/trial_onset/hc-tfr.h5 ...\n",
      "log transforming\n",
      "z-scoring to baseline\n",
      "Reading /home/brooke/pacman/preprocessing/LL10/ieeg/trial_onset/amyg-tfr.h5 ...\n",
      "log transforming\n",
      "z-scoring to baseline\n",
      "Reading /home/brooke/pacman/preprocessing/LL10/ieeg/trial_onset/ofc-tfr.h5 ...\n",
      "log transforming\n",
      "z-scoring to baseline\n",
      "Reading /home/brooke/pacman/preprocessing/LL10/ieeg/trial_onset/cing-tfr.h5 ...\n",
      "log transforming\n",
      "z-scoring to baseline\n",
      "Reading /home/brooke/pacman/preprocessing/LL10/ieeg/trial_onset/dlpfc-tfr.h5 ...\n",
      "log transforming\n",
      "z-scoring to baseline\n",
      "Reading /home/brooke/pacman/preprocessing/LL12/ieeg/LL12_bp_clean_pres-locked_ieeg.fif ...\n"
     ]
    },
    {
     "name": "stderr",
     "output_type": "stream",
     "text": [
      "/tmp/ipykernel_178218/3213549717.py:3: RuntimeWarning: This filename (/home/brooke/pacman/preprocessing/LL12/ieeg/LL12_bp_clean_pres-locked_ieeg.fif) does not conform to MNE naming conventions. All epochs files should end with -epo.fif, -epo.fif.gz, _epo.fif or _epo.fif.gz\n",
      "  trial_onset_epochs = mne.read_epochs(f\"/home/brooke/pacman/preprocessing/{sub}/ieeg/{sub}_bp_clean_pres-locked_ieeg.fif\")\n"
     ]
    },
    {
     "name": "stdout",
     "output_type": "stream",
     "text": [
      "    Found the data of interest:\n",
      "        t =   -4000.00 ...    9000.00 ms\n",
      "        0 CTF compensation matrices available\n",
      "Not setting metadata\n",
      "260 matching events found\n",
      "No baseline correction applied\n",
      "0 projection items activated\n",
      "Reading /home/brooke/pacman/preprocessing/LL12/ieeg/trial_onset/hc-tfr.h5 ...\n",
      "log transforming\n",
      "z-scoring to baseline\n"
     ]
    },
    {
     "name": "stderr",
     "output_type": "stream",
     "text": [
      "/tmp/ipykernel_178218/3213549717.py:22: RuntimeWarning: tmax is not in time interval. tmax is set to <class 'mne.time_frequency.tfr.EpochsTFR'>.tmax (9 s)\n",
      "  roi_pres_TFR.crop(tmin = -1, tmax = 12)\n"
     ]
    },
    {
     "name": "stdout",
     "output_type": "stream",
     "text": [
      "Reading /home/brooke/pacman/preprocessing/LL12/ieeg/trial_onset/amyg-tfr.h5 ...\n",
      "log transforming\n",
      "z-scoring to baseline\n"
     ]
    },
    {
     "name": "stderr",
     "output_type": "stream",
     "text": [
      "/tmp/ipykernel_178218/3213549717.py:22: RuntimeWarning: tmax is not in time interval. tmax is set to <class 'mne.time_frequency.tfr.EpochsTFR'>.tmax (9 s)\n",
      "  roi_pres_TFR.crop(tmin = -1, tmax = 12)\n"
     ]
    },
    {
     "name": "stdout",
     "output_type": "stream",
     "text": [
      "Reading /home/brooke/pacman/preprocessing/LL12/ieeg/trial_onset/ofc-tfr.h5 ...\n",
      "log transforming\n",
      "z-scoring to baseline\n"
     ]
    },
    {
     "name": "stderr",
     "output_type": "stream",
     "text": [
      "/tmp/ipykernel_178218/3213549717.py:22: RuntimeWarning: tmax is not in time interval. tmax is set to <class 'mne.time_frequency.tfr.EpochsTFR'>.tmax (9 s)\n",
      "  roi_pres_TFR.crop(tmin = -1, tmax = 12)\n"
     ]
    },
    {
     "name": "stdout",
     "output_type": "stream",
     "text": [
      "Reading /home/brooke/pacman/preprocessing/LL12/ieeg/trial_onset/cing-tfr.h5 ...\n",
      "log transforming\n",
      "z-scoring to baseline\n"
     ]
    },
    {
     "name": "stderr",
     "output_type": "stream",
     "text": [
      "/tmp/ipykernel_178218/3213549717.py:22: RuntimeWarning: tmax is not in time interval. tmax is set to <class 'mne.time_frequency.tfr.EpochsTFR'>.tmax (9 s)\n",
      "  roi_pres_TFR.crop(tmin = -1, tmax = 12)\n"
     ]
    },
    {
     "name": "stdout",
     "output_type": "stream",
     "text": [
      "Reading /home/brooke/pacman/preprocessing/LL12/ieeg/trial_onset/dlpfc-tfr.h5 ...\n",
      "log transforming\n",
      "z-scoring to baseline\n"
     ]
    },
    {
     "name": "stderr",
     "output_type": "stream",
     "text": [
      "/tmp/ipykernel_178218/3213549717.py:22: RuntimeWarning: tmax is not in time interval. tmax is set to <class 'mne.time_frequency.tfr.EpochsTFR'>.tmax (9 s)\n",
      "  roi_pres_TFR.crop(tmin = -1, tmax = 12)\n"
     ]
    },
    {
     "name": "stdout",
     "output_type": "stream",
     "text": [
      "Reading /home/brooke/pacman/preprocessing/LL13/ieeg/LL13_bp_clean_pres-locked_ieeg.fif ...\n"
     ]
    },
    {
     "name": "stderr",
     "output_type": "stream",
     "text": [
      "/tmp/ipykernel_178218/3213549717.py:3: RuntimeWarning: This filename (/home/brooke/pacman/preprocessing/LL13/ieeg/LL13_bp_clean_pres-locked_ieeg.fif) does not conform to MNE naming conventions. All epochs files should end with -epo.fif, -epo.fif.gz, _epo.fif or _epo.fif.gz\n",
      "  trial_onset_epochs = mne.read_epochs(f\"/home/brooke/pacman/preprocessing/{sub}/ieeg/{sub}_bp_clean_pres-locked_ieeg.fif\")\n"
     ]
    },
    {
     "name": "stdout",
     "output_type": "stream",
     "text": [
      "    Found the data of interest:\n",
      "        t =   -4000.00 ...   12000.00 ms\n",
      "        0 CTF compensation matrices available\n",
      "Not setting metadata\n",
      "240 matching events found\n",
      "No baseline correction applied\n",
      "0 projection items activated\n",
      "Reading /home/brooke/pacman/preprocessing/LL13/ieeg/trial_onset/hc-tfr.h5 ...\n",
      "log transforming\n",
      "z-scoring to baseline\n"
     ]
    },
    {
     "name": "stderr",
     "output_type": "stream",
     "text": [
      "/tmp/ipykernel_178218/3213549717.py:22: RuntimeWarning: tmax is not in time interval. tmax is set to <class 'mne.time_frequency.tfr.EpochsTFR'>.tmax (5 s)\n",
      "  roi_pres_TFR.crop(tmin = -1, tmax = 12)\n"
     ]
    },
    {
     "name": "stdout",
     "output_type": "stream",
     "text": [
      "Reading /home/brooke/pacman/preprocessing/LL13/ieeg/trial_onset/amyg-tfr.h5 ...\n",
      "log transforming\n",
      "z-scoring to baseline\n"
     ]
    },
    {
     "name": "stderr",
     "output_type": "stream",
     "text": [
      "/tmp/ipykernel_178218/3213549717.py:22: RuntimeWarning: tmax is not in time interval. tmax is set to <class 'mne.time_frequency.tfr.EpochsTFR'>.tmax (5 s)\n",
      "  roi_pres_TFR.crop(tmin = -1, tmax = 12)\n"
     ]
    },
    {
     "name": "stdout",
     "output_type": "stream",
     "text": [
      "Reading /home/brooke/pacman/preprocessing/LL13/ieeg/trial_onset/ofc-tfr.h5 ...\n",
      "log transforming\n",
      "z-scoring to baseline\n"
     ]
    },
    {
     "name": "stderr",
     "output_type": "stream",
     "text": [
      "/tmp/ipykernel_178218/3213549717.py:22: RuntimeWarning: tmax is not in time interval. tmax is set to <class 'mne.time_frequency.tfr.EpochsTFR'>.tmax (5 s)\n",
      "  roi_pres_TFR.crop(tmin = -1, tmax = 12)\n"
     ]
    },
    {
     "name": "stdout",
     "output_type": "stream",
     "text": [
      "Reading /home/brooke/pacman/preprocessing/LL13/ieeg/trial_onset/cing-tfr.h5 ...\n",
      "log transforming\n",
      "z-scoring to baseline\n"
     ]
    },
    {
     "name": "stderr",
     "output_type": "stream",
     "text": [
      "/tmp/ipykernel_178218/3213549717.py:22: RuntimeWarning: tmax is not in time interval. tmax is set to <class 'mne.time_frequency.tfr.EpochsTFR'>.tmax (5 s)\n",
      "  roi_pres_TFR.crop(tmin = -1, tmax = 12)\n"
     ]
    },
    {
     "name": "stdout",
     "output_type": "stream",
     "text": [
      "Reading /home/brooke/pacman/preprocessing/LL13/ieeg/trial_onset/dlpfc-tfr.h5 ...\n",
      "log transforming\n",
      "z-scoring to baseline\n"
     ]
    },
    {
     "name": "stderr",
     "output_type": "stream",
     "text": [
      "/tmp/ipykernel_178218/3213549717.py:22: RuntimeWarning: tmax is not in time interval. tmax is set to <class 'mne.time_frequency.tfr.EpochsTFR'>.tmax (5 s)\n",
      "  roi_pres_TFR.crop(tmin = -1, tmax = 12)\n"
     ]
    },
    {
     "name": "stdout",
     "output_type": "stream",
     "text": [
      "Reading /home/brooke/pacman/preprocessing/LL14/ieeg/LL14_bp_clean_pres-locked_ieeg.fif ...\n"
     ]
    },
    {
     "name": "stderr",
     "output_type": "stream",
     "text": [
      "/tmp/ipykernel_178218/3213549717.py:3: RuntimeWarning: This filename (/home/brooke/pacman/preprocessing/LL14/ieeg/LL14_bp_clean_pres-locked_ieeg.fif) does not conform to MNE naming conventions. All epochs files should end with -epo.fif, -epo.fif.gz, _epo.fif or _epo.fif.gz\n",
      "  trial_onset_epochs = mne.read_epochs(f\"/home/brooke/pacman/preprocessing/{sub}/ieeg/{sub}_bp_clean_pres-locked_ieeg.fif\")\n"
     ]
    },
    {
     "name": "stdout",
     "output_type": "stream",
     "text": [
      "    Found the data of interest:\n",
      "        t =   -4000.00 ...   12000.00 ms\n",
      "        0 CTF compensation matrices available\n",
      "Reading /home/brooke/pacman/preprocessing/LL14/ieeg/LL14_bp_clean_pres-locked_ieeg-1.fif ...\n",
      "    Found the data of interest:\n",
      "        t =   -4000.00 ...   12000.00 ms\n",
      "        0 CTF compensation matrices available\n",
      "Not setting metadata\n",
      "819 matching events found\n",
      "No baseline correction applied\n",
      "0 projection items activated\n",
      "Reading /home/brooke/pacman/preprocessing/LL14/ieeg/trial_onset/hc-tfr.h5 ...\n",
      "log transforming\n",
      "z-scoring to baseline\n",
      "Reading /home/brooke/pacman/preprocessing/LL14/ieeg/trial_onset/amyg-tfr.h5 ...\n",
      "log transforming\n",
      "z-scoring to baseline\n",
      "Reading /home/brooke/pacman/preprocessing/LL14/ieeg/trial_onset/ofc-tfr.h5 ...\n",
      "log transforming\n",
      "z-scoring to baseline\n",
      "Reading /home/brooke/pacman/preprocessing/LL14/ieeg/trial_onset/cing-tfr.h5 ...\n",
      "An error occurred with region cing and subject LL14: file \"/home/brooke/pacman/preprocessing/LL14/ieeg/trial_onset/cing-tfr.h5\" not found\n",
      "Reading /home/brooke/pacman/preprocessing/LL14/ieeg/trial_onset/dlpfc-tfr.h5 ...\n",
      "log transforming\n",
      "z-scoring to baseline\n",
      "Reading /home/brooke/pacman/preprocessing/LL17/ieeg/LL17_bp_clean_pres-locked_ieeg.fif ...\n"
     ]
    },
    {
     "name": "stderr",
     "output_type": "stream",
     "text": [
      "/tmp/ipykernel_178218/3213549717.py:3: RuntimeWarning: This filename (/home/brooke/pacman/preprocessing/LL17/ieeg/LL17_bp_clean_pres-locked_ieeg.fif) does not conform to MNE naming conventions. All epochs files should end with -epo.fif, -epo.fif.gz, _epo.fif or _epo.fif.gz\n",
      "  trial_onset_epochs = mne.read_epochs(f\"/home/brooke/pacman/preprocessing/{sub}/ieeg/{sub}_bp_clean_pres-locked_ieeg.fif\")\n"
     ]
    },
    {
     "name": "stdout",
     "output_type": "stream",
     "text": [
      "    Found the data of interest:\n",
      "        t =   -4000.00 ...   12000.00 ms\n",
      "        0 CTF compensation matrices available\n",
      "Not setting metadata\n",
      "252 matching events found\n",
      "No baseline correction applied\n",
      "0 projection items activated\n",
      "Reading /home/brooke/pacman/preprocessing/LL17/ieeg/trial_onset/hc-tfr.h5 ...\n",
      "log transforming\n",
      "z-scoring to baseline\n",
      "Reading /home/brooke/pacman/preprocessing/LL17/ieeg/trial_onset/amyg-tfr.h5 ...\n",
      "log transforming\n",
      "z-scoring to baseline\n",
      "Reading /home/brooke/pacman/preprocessing/LL17/ieeg/trial_onset/ofc-tfr.h5 ...\n",
      "log transforming\n",
      "z-scoring to baseline\n",
      "Reading /home/brooke/pacman/preprocessing/LL17/ieeg/trial_onset/cing-tfr.h5 ...\n",
      "log transforming\n",
      "z-scoring to baseline\n",
      "Reading /home/brooke/pacman/preprocessing/LL17/ieeg/trial_onset/dlpfc-tfr.h5 ...\n",
      "log transforming\n",
      "z-scoring to baseline\n",
      "Reading /home/brooke/pacman/preprocessing/LL19/ieeg/LL19_bp_clean_pres-locked_ieeg.fif ...\n"
     ]
    },
    {
     "name": "stderr",
     "output_type": "stream",
     "text": [
      "/tmp/ipykernel_178218/3213549717.py:3: RuntimeWarning: This filename (/home/brooke/pacman/preprocessing/LL19/ieeg/LL19_bp_clean_pres-locked_ieeg.fif) does not conform to MNE naming conventions. All epochs files should end with -epo.fif, -epo.fif.gz, _epo.fif or _epo.fif.gz\n",
      "  trial_onset_epochs = mne.read_epochs(f\"/home/brooke/pacman/preprocessing/{sub}/ieeg/{sub}_bp_clean_pres-locked_ieeg.fif\")\n"
     ]
    },
    {
     "name": "stdout",
     "output_type": "stream",
     "text": [
      "    Found the data of interest:\n",
      "        t =   -4000.00 ...   12000.00 ms\n",
      "        0 CTF compensation matrices available\n",
      "Not setting metadata\n",
      "240 matching events found\n",
      "No baseline correction applied\n",
      "0 projection items activated\n",
      "Reading /home/brooke/pacman/preprocessing/LL19/ieeg/trial_onset/hc-tfr.h5 ...\n",
      "log transforming\n",
      "z-scoring to baseline\n",
      "Reading /home/brooke/pacman/preprocessing/LL19/ieeg/trial_onset/amyg-tfr.h5 ...\n",
      "log transforming\n",
      "z-scoring to baseline\n",
      "Reading /home/brooke/pacman/preprocessing/LL19/ieeg/trial_onset/ofc-tfr.h5 ...\n",
      "log transforming\n",
      "z-scoring to baseline\n",
      "Reading /home/brooke/pacman/preprocessing/LL19/ieeg/trial_onset/cing-tfr.h5 ...\n",
      "log transforming\n",
      "z-scoring to baseline\n",
      "Reading /home/brooke/pacman/preprocessing/LL19/ieeg/trial_onset/dlpfc-tfr.h5 ...\n",
      "log transforming\n",
      "z-scoring to baseline\n"
     ]
    }
   ],
   "source": [
    "for sub in sub_list:\n",
    "    # load in raw data to get good epochs #\n",
    "    trial_onset_epochs = mne.read_epochs(f\"/home/brooke/pacman/preprocessing/{sub}/ieeg/{sub}_bp_clean_pres-locked_ieeg.fif\")\n",
    "    # get good epochs (for behavioral data only)\n",
    "    good_epochs = [i for i,x in enumerate(trial_onset_epochs.get_annotations_per_epoch()) if not x]\n",
    "    \n",
    "    for roi in roi_list:\n",
    "        \n",
    "        if sub == 'LL14':\n",
    "            good_epochs = [i for i,x in enumerate(trial_onset_epochs.get_annotations_per_epoch()) if not x and i not in [485, 486, 487, 488, 543, 544, 545, 704, 705, 710, 711, 712, 713, 714]]\n",
    "\n",
    "        try:\n",
    "\n",
    "            roi_pres_TFR = mne.time_frequency.read_tfrs(f\"/home/brooke/pacman/preprocessing/{sub}/ieeg/trial_onset/{roi}-tfr.h5\")\n",
    "            \n",
    "        except Exception as e:\n",
    "            print(f\"An error occurred with region {roi} and subject {sub}: {e}\")\n",
    "            continue\n",
    "        \n",
    "        # baseline by 1 seconds before\n",
    "        roi_pres_TFR = pf.log_and_zscore_TFR(roi_pres_TFR, baseline = (-1,0), logflag=True)\n",
    "        roi_pres_TFR.crop(tmin = -1, tmax = 12)\n",
    "        \n",
    "        ## extract freq info\n",
    "        # delta\n",
    "        # extract_freqs(1, 3, \"delta\", f\"{sub}/ieeg/trial_onset\", roi, \"onset_locked_logged_itibase\", roi_pres_TFR, good_epochs)\n",
    "        # theta\n",
    "        # extract_highres_freqs(3, 8, \"theta\", f\"{sub}/ieeg/trial_onset\", roi, \"onset_locked_logged_itibase_highres\", roi_pres_TFR, good_epochs, highres = True)\n",
    "        # # alpha\n",
    "        # extract_freqs(8, 13, \"alpha\", f\"{sub}/ieeg/trial_onset\", roi, \"onset_locked_logged_itibase\", roi_pres_TFR, good_epochs)\n",
    "        # # beta\n",
    "        # extract_freqs(13, 30, \"beta\", f\"{sub}/ieeg/trial_onset\", roi, \"onset_locked_logged_itibase\", roi_pres_TFR, good_epochs)\n",
    "        # # gamma\n",
    "        # extract_freqs(30, 70, \"gamma\", f\"{sub}/ieeg/trial_onset\", roi, \"onset_locked_logged_itibase\", roi_pres_TFR, good_epochs)\n",
    "        # # HFA\n",
    "        pf.extract_highres_freqs(70, 150, \"hfa\", f\"{sub}/ieeg/trial_onset\", roi, \"onset_locked_logged_itibase_highres\", roi_pres_TFR, good_epochs, highres = True)\n",
    "        "
   ]
  },
  {
   "cell_type": "code",
   "execution_count": null,
   "metadata": {},
   "outputs": [],
   "source": [
    "for sub in sub_list:\n",
    "    # load in raw data to get good epochs #\n",
    "    trial_end_epochs = mne.read_epochs(f\"/home/brooke/pacman/preprocessing/{sub}/ieeg/{sub}_bp_clean_end-locked_ieeg.fif\")\n",
    "    # get good epochs (for behavioral data only)\n",
    "    good_epochs = [i for i,x in enumerate(trial_end_epochs.get_annotations_per_epoch()) if not x]\n",
    "    \n",
    "    for roi in roi_list:\n",
    "        \n",
    "        if sub == 'LL14':\n",
    "            good_epochs = [i for i,x in enumerate(trial_end_epochs.get_annotations_per_epoch()) if not x and i not in [485, 486, 487, 488, 543, 544, 545, 704, 705, 710, 711, 712, 713, 714]]\n",
    "\n",
    "        try:\n",
    "            # load TFR\n",
    "            roi_pres_TFR = mne.time_frequency.read_tfrs(f\"/home/brooke/knight_server/remote/bstavel/pacman/preprocessing/{sub}/ieeg/trial_end/{roi}-tfr.h5\")\n",
    "            # roi_pres_TFR = roi_pres_TFR\n",
    "        except Exception as e:\n",
    "            print(f\"An error occurred with region {roi} and subject {sub}: {e}\")\n",
    "            continue\n",
    "        \n",
    "        # baseline by 1 seconds before\n",
    "        roi_pres_TFR = log_and_zscore_TFR(roi_pres_TFR, baseline = (-3,1), logflag=True)\n",
    "        \n",
    "        ## extract freq info\n",
    "        # delta\n",
    "        extract_freqs(1, 3, \"delta\", f\"{sub}/ieeg/trial_onset\", roi, \"end_locked_logged_n3p1base\", roi_pres_TFR, good_epochs)\n",
    "        # theta\n",
    "        extract_freqs(3, 8, \"theta\", f\"{sub}/ieeg/trial_onset\", roi, \"end_locked_logged_n3p1base\", roi_pres_TFR, good_epochs)\n",
    "        # alpha\n",
    "        extract_freqs(8, 13, \"alpha\", f\"{sub}/ieeg/trial_onset\", roi, \"end_locked_logged_n3p1base\", roi_pres_TFR, good_epochs)\n",
    "        # beta\n",
    "        extract_freqs(13, 30, \"beta\", f\"{sub}/ieeg/trial_onset\", roi, \"end_locked_logged_n3p1base\", roi_pres_TFR, good_epochs)\n",
    "        # gamma\n",
    "        extract_freqs(30, 70, \"gamma\", f\"{sub}/ieeg/trial_onset\", roi, \"end_locked_logged_n3p1base\", roi_pres_TFR, good_epochs)\n",
    "        # HFA\n",
    "        extract_freqs(70, 150, \"hfa\", f\"{sub}/ieeg/trial_onset\", roi, \"end_locked_logged_n3p1base\", roi_pres_TFR, good_epochs)\n",
    "        "
   ]
  },
  {
   "cell_type": "code",
   "execution_count": null,
   "metadata": {},
   "outputs": [],
   "source": [
    "roi_pres_TFR"
   ]
  },
  {
   "cell_type": "markdown",
   "metadata": {},
   "source": [
    "## Compare the differences between baseline options"
   ]
  },
  {
   "cell_type": "code",
   "execution_count": null,
   "id": "888b4fac-f08d-4c65-8cef-c939977855dd",
   "metadata": {},
   "outputs": [],
   "source": [
    "roi_pres_TFR = mne.time_frequency.read_tfrs(f\"/home/brooke/pacman/preprocessing/BJH025/ieeg/trial_onset/ofc-tfr.h5\")"
   ]
  },
  {
   "cell_type": "code",
   "execution_count": null,
   "id": "e1753dab-d062-4893-9223-1a0b3a7755a6",
   "metadata": {},
   "outputs": [],
   "source": [
    "roi_pres_TFR = roi_pres_TFR[0]\n",
    "        \n",
    "# baseline by 1 seconds before\n",
    "roi_pres_TFR = log_and_zscore_TFR(roi_pres_TFR, baseline = (-1,0), logflag=True)"
   ]
  },
  {
   "cell_type": "code",
   "execution_count": null,
   "id": "9fa9e4d2-36f6-448c-8a49-a953b5ec1a8c",
   "metadata": {},
   "outputs": [],
   "source": [
    "plt.rcParams['figure.figsize'] = [22, 20]\n",
    "\n",
    "fig, ax = plt.subplots(figsize = (22, 20))\n",
    "i = ax.imshow(roi_pres_TFR.data.mean(axis = 0).mean(axis = 0), cmap = 'RdBu_r', interpolation=\"none\", origin=\"lower\", aspect = 'auto', extent=[-1, 5, freqs[0], freqs[-1]], vmin = -.75, vmax = .75)\n",
    "ax.set_yticks(np.linspace(np.min(roi_pres_TFR.freqs),np.max(roi_pres_TFR.freqs),len(roi_pres_TFR.freqs)))\n",
    "ax.set_yticklabels(np.round(roi_pres_TFR.freqs))\n",
    "bar = plt.colorbar(i)\n",
    "ax.set_title(f\"Average OFC TFR at Trial Onset\", fontsize=22, fontweight = 'bold')\n",
    "fig.show()"
   ]
  },
  {
   "cell_type": "code",
   "execution_count": null,
   "id": "17425ca5-2ce4-49da-b7fa-256cda88a909",
   "metadata": {},
   "outputs": [],
   "source": [
    "roi_pres_TFR = mne.time_frequency.read_tfrs(f\"/home/brooke/pacman/preprocessing/BJH025/ieeg/trial_onset/ofc-tfr.h5\")"
   ]
  },
  {
   "cell_type": "code",
   "execution_count": null,
   "id": "4a8daf01-15b1-459e-a589-577cf3d546ac",
   "metadata": {},
   "outputs": [],
   "source": [
    "roi_pres_TFR = roi_pres_TFR[0]\n",
    "        \n",
    "# baseline by 1 seconds before\n",
    "roi_pres_TFR = log_and_zscore_TFR(roi_pres_TFR, baseline = (-1,0), logflag=True)"
   ]
  },
  {
   "cell_type": "code",
   "execution_count": null,
   "id": "3fbefc3a-c41b-43b6-b365-37f6215d717c",
   "metadata": {},
   "outputs": [],
   "source": [
    "plt.rcParams['figure.figsize'] = [22, 20]\n",
    "\n",
    "fig, ax = plt.subplots(figsize = (22, 20))\n",
    "i = ax.imshow(roi_pres_TFR.data.mean(axis = 0).mean(axis = 0), cmap = 'RdBu_r', interpolation=\"none\", origin=\"lower\", aspect = 'auto', extent=[-1, 5, freqs[0], freqs[-1]], vmin = -1, vmax = 1)\n",
    "ax.set_yticks(np.linspace(np.min(roi_pres_TFR.freqs),np.max(roi_pres_TFR.freqs),len(roi_pres_TFR.freqs)))\n",
    "ax.set_yticklabels(np.round(roi_pres_TFR.freqs))\n",
    "bar = plt.colorbar(i)\n",
    "ax.set_title(f\"Average OFC TFR at Trial Onset\", fontsize=22, fontweight = 'bold')\n",
    "fig.show()"
   ]
  },
  {
   "cell_type": "code",
   "execution_count": null,
   "id": "77b0f3e8-3859-412c-9d2e-96a29851286e",
   "metadata": {},
   "outputs": [],
   "source": []
  }
 ],
 "metadata": {
  "kernelspec": {
   "display_name": "ieeg_analysis",
   "language": "python",
   "name": "python3"
  },
  "language_info": {
   "codemirror_mode": {
    "name": "ipython",
    "version": 3
   },
   "file_extension": ".py",
   "mimetype": "text/x-python",
   "name": "python",
   "nbconvert_exporter": "python",
   "pygments_lexer": "ipython3",
   "version": "3.11.9"
  }
 },
 "nbformat": 4,
 "nbformat_minor": 5
}

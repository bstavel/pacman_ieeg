{
 "cells": [
  {
   "cell_type": "markdown",
   "metadata": {},
   "source": [
    "### Calculate Bandpass Theta for CCF analyses"
   ]
  },
  {
   "cell_type": "code",
   "execution_count": 1,
   "metadata": {},
   "outputs": [],
   "source": [
    "import matplotlib\n",
    "import matplotlib.pyplot as plt\n",
    "import pandas as pd\n",
    "import numpy as np\n",
    "from scipy import signal, stats\n",
    "import re\n",
    "import os\n",
    "import mne\n",
    "import IPython\n",
    "import seaborn as sns\n",
    "import scipy\n",
    "import joblib\n",
    "import h5io\n",
    "import dask.array as da \n",
    "import statsmodels\n",
    "from statsmodels import stats\n",
    "from statsmodels.stats import multitest\n",
    "\n",
    "## import custom functions\n",
    "import sys\n",
    "sys.path.append('/home/brooke/pacman/preprocessing/scripts')\n",
    "import preproc_functions as pf\n",
    "import roi as subs\n"
   ]
  },
  {
   "cell_type": "code",
   "execution_count": 10,
   "metadata": {},
   "outputs": [],
   "source": [
    "# Define theta bandpass filter range\n",
    "THETA_LOW = 3  # Low cutoff for theta (Hz)\n",
    "THETA_HIGH = 8  # High cutoff for theta (Hz)\n",
    "\n",
    "# Define baseline correction period (in seconds relative to trial onset)\n",
    "BASELINE = (-1.0, 0.0)  # One second before trial onset\n",
    "\n",
    "# List of subjects\n",
    "sub_list = ['SLCH002', 'SLCH018', 'BJH016', 'BJH017', 'BJH021', 'BJH025',  'BJH026', 'BJH027', 'BJH029', 'BJH039', 'BJH041', 'BJH046', 'BJH050', 'BJH051', 'LL10', 'LL12', 'LL13', 'LL14', 'LL17', 'LL19']\n",
    "sub_list = ['LL10', 'LL12', 'LL13', 'LL14', 'LL17', 'LL19']\n",
    "\n"
   ]
  },
  {
   "cell_type": "markdown",
   "metadata": {},
   "source": [
    "### By Region Version"
   ]
  },
  {
   "cell_type": "code",
   "execution_count": 11,
   "metadata": {},
   "outputs": [
    {
     "name": "stdout",
     "output_type": "stream",
     "text": [
      "Processing subject: LL10\n",
      "Reading /home/brooke/pacman/preprocessing/LL10/ieeg/LL10_bp_clean_pres-locked_ieeg.fif ...\n"
     ]
    },
    {
     "name": "stderr",
     "output_type": "stream",
     "text": [
      "/tmp/ipykernel_250056/1654033260.py:6: RuntimeWarning: This filename (/home/brooke/pacman/preprocessing/LL10/ieeg/LL10_bp_clean_pres-locked_ieeg.fif) does not conform to MNE naming conventions. All epochs files should end with -epo.fif, -epo.fif.gz, _epo.fif or _epo.fif.gz\n",
      "  trial_onset_epochs = mne.read_epochs(\n"
     ]
    },
    {
     "name": "stdout",
     "output_type": "stream",
     "text": [
      "    Found the data of interest:\n",
      "        t =   -4000.00 ...   12000.00 ms\n",
      "        0 CTF compensation matrices available\n",
      "Not setting metadata\n",
      "240 matching events found\n",
      "No baseline correction applied\n",
      "0 projection items activated\n",
      "NOTE: pick_types() is a legacy function. New code should use inst.pick(...).\n",
      "Processing ROI: hc\n",
      "NOTE: pick_channels() is a legacy function. New code should use inst.pick(...).\n",
      "Setting up band-pass filter from 3 - 8 Hz\n",
      "\n",
      "FIR filter parameters\n",
      "---------------------\n",
      "Designing a one-pass, zero-phase, non-causal bandpass filter:\n",
      "- Windowed time-domain design (firwin) method\n",
      "- Hamming window with 0.0194 passband ripple and 53 dB stopband attenuation\n",
      "- Lower passband edge: 3.00\n",
      "- Lower transition bandwidth: 2.00 Hz (-6 dB cutoff frequency: 2.00 Hz)\n",
      "- Upper passband edge: 8.00 Hz\n",
      "- Upper transition bandwidth: 2.00 Hz (-6 dB cutoff frequency: 9.00 Hz)\n",
      "- Filter length: 845 samples (1.650 s)\n",
      "\n"
     ]
    },
    {
     "name": "stderr",
     "output_type": "stream",
     "text": [
      "[Parallel(n_jobs=16)]: Using backend LokyBackend with 16 concurrent workers.\n",
      "[Parallel(n_jobs=16)]: Done   2 tasks      | elapsed:    0.0s\n",
      "[Parallel(n_jobs=16)]: Done 176 tasks      | elapsed:    0.1s\n"
     ]
    },
    {
     "name": "stdout",
     "output_type": "stream",
     "text": [
      "Applying baseline correction (mode: mean)\n"
     ]
    },
    {
     "name": "stderr",
     "output_type": "stream",
     "text": [
      "[Parallel(n_jobs=16)]: Done 628 tasks      | elapsed:    0.2s\n",
      "[Parallel(n_jobs=16)]: Done 844 out of 844 | elapsed:    0.3s finished\n",
      "/tmp/ipykernel_250056/1654033260.py:81: FutureWarning: The current default of copy=False will change to copy=True in 1.7. Set the value of copy explicitly to avoid this warning\n",
      "  theta_data = theta_epochs.crop(tmin=-1, tmax = 12).decimate(5).get_data()  # Shape: (n_epochs, n_channels, n_times)\n"
     ]
    },
    {
     "name": "stdout",
     "output_type": "stream",
     "text": [
      "Saved CSV for ROI 'hc' to /home/brooke/pacman//preprocessing/bandpass_theta/LL10_hc_baseline_theta.csv\n",
      "Processing ROI: ofc\n",
      "NOTE: pick_channels() is a legacy function. New code should use inst.pick(...).\n",
      "Setting up band-pass filter from 3 - 8 Hz\n",
      "\n",
      "FIR filter parameters\n",
      "---------------------\n",
      "Designing a one-pass, zero-phase, non-causal bandpass filter:\n",
      "- Windowed time-domain design (firwin) method\n",
      "- Hamming window with 0.0194 passband ripple and 53 dB stopband attenuation\n",
      "- Lower passband edge: 3.00\n",
      "- Lower transition bandwidth: 2.00 Hz (-6 dB cutoff frequency: 2.00 Hz)\n",
      "- Upper passband edge: 8.00 Hz\n",
      "- Upper transition bandwidth: 2.00 Hz (-6 dB cutoff frequency: 9.00 Hz)\n",
      "- Filter length: 845 samples (1.650 s)\n",
      "\n",
      "Applying baseline correction (mode: mean)\n"
     ]
    },
    {
     "name": "stderr",
     "output_type": "stream",
     "text": [
      "[Parallel(n_jobs=16)]: Using backend LokyBackend with 16 concurrent workers.\n",
      "[Parallel(n_jobs=16)]: Done   2 tasks      | elapsed:    0.0s\n",
      "[Parallel(n_jobs=16)]: Done 120 tasks      | elapsed:    0.1s\n",
      "[Parallel(n_jobs=16)]: Done 211 out of 211 | elapsed:    0.2s finished\n",
      "/tmp/ipykernel_250056/1654033260.py:81: FutureWarning: The current default of copy=False will change to copy=True in 1.7. Set the value of copy explicitly to avoid this warning\n",
      "  theta_data = theta_epochs.crop(tmin=-1, tmax = 12).decimate(5).get_data()  # Shape: (n_epochs, n_channels, n_times)\n"
     ]
    },
    {
     "name": "stdout",
     "output_type": "stream",
     "text": [
      "Saved CSV for ROI 'ofc' to /home/brooke/pacman//preprocessing/bandpass_theta/LL10_ofc_baseline_theta.csv\n",
      "Processing ROI: amyg\n",
      "NOTE: pick_channels() is a legacy function. New code should use inst.pick(...).\n",
      "Setting up band-pass filter from 3 - 8 Hz\n",
      "\n",
      "FIR filter parameters\n",
      "---------------------\n",
      "Designing a one-pass, zero-phase, non-causal bandpass filter:\n",
      "- Windowed time-domain design (firwin) method\n",
      "- Hamming window with 0.0194 passband ripple and 53 dB stopband attenuation\n",
      "- Lower passband edge: 3.00\n",
      "- Lower transition bandwidth: 2.00 Hz (-6 dB cutoff frequency: 2.00 Hz)\n",
      "- Upper passband edge: 8.00 Hz\n",
      "- Upper transition bandwidth: 2.00 Hz (-6 dB cutoff frequency: 9.00 Hz)\n",
      "- Filter length: 845 samples (1.650 s)\n",
      "\n",
      "Applying baseline correction (mode: mean)\n"
     ]
    },
    {
     "name": "stderr",
     "output_type": "stream",
     "text": [
      "[Parallel(n_jobs=16)]: Using backend LokyBackend with 16 concurrent workers.\n",
      "[Parallel(n_jobs=16)]: Done   2 tasks      | elapsed:    0.0s\n",
      "[Parallel(n_jobs=16)]: Done 120 tasks      | elapsed:    0.1s\n",
      "[Parallel(n_jobs=16)]: Done 211 out of 211 | elapsed:    0.1s finished\n",
      "/tmp/ipykernel_250056/1654033260.py:81: FutureWarning: The current default of copy=False will change to copy=True in 1.7. Set the value of copy explicitly to avoid this warning\n",
      "  theta_data = theta_epochs.crop(tmin=-1, tmax = 12).decimate(5).get_data()  # Shape: (n_epochs, n_channels, n_times)\n"
     ]
    },
    {
     "name": "stdout",
     "output_type": "stream",
     "text": [
      "Saved CSV for ROI 'amyg' to /home/brooke/pacman//preprocessing/bandpass_theta/LL10_amyg_baseline_theta.csv\n",
      "Processing ROI: cing\n",
      "NOTE: pick_channels() is a legacy function. New code should use inst.pick(...).\n",
      "Setting up band-pass filter from 3 - 8 Hz\n",
      "\n",
      "FIR filter parameters\n",
      "---------------------\n",
      "Designing a one-pass, zero-phase, non-causal bandpass filter:\n",
      "- Windowed time-domain design (firwin) method\n",
      "- Hamming window with 0.0194 passband ripple and 53 dB stopband attenuation\n",
      "- Lower passband edge: 3.00\n",
      "- Lower transition bandwidth: 2.00 Hz (-6 dB cutoff frequency: 2.00 Hz)\n",
      "- Upper passband edge: 8.00 Hz\n",
      "- Upper transition bandwidth: 2.00 Hz (-6 dB cutoff frequency: 9.00 Hz)\n",
      "- Filter length: 845 samples (1.650 s)\n",
      "\n"
     ]
    },
    {
     "name": "stderr",
     "output_type": "stream",
     "text": [
      "[Parallel(n_jobs=16)]: Using backend LokyBackend with 16 concurrent workers.\n",
      "[Parallel(n_jobs=16)]: Done   2 tasks      | elapsed:    0.0s\n",
      "[Parallel(n_jobs=16)]: Done 176 tasks      | elapsed:    0.1s\n"
     ]
    },
    {
     "name": "stdout",
     "output_type": "stream",
     "text": [
      "Applying baseline correction (mode: mean)\n"
     ]
    },
    {
     "name": "stderr",
     "output_type": "stream",
     "text": [
      "[Parallel(n_jobs=16)]: Done 1058 tasks      | elapsed:    0.3s\n",
      "[Parallel(n_jobs=16)]: Done 1184 tasks      | elapsed:    0.4s\n",
      "[Parallel(n_jobs=16)]: Done 1266 out of 1266 | elapsed:    0.5s finished\n",
      "/tmp/ipykernel_250056/1654033260.py:81: FutureWarning: The current default of copy=False will change to copy=True in 1.7. Set the value of copy explicitly to avoid this warning\n",
      "  theta_data = theta_epochs.crop(tmin=-1, tmax = 12).decimate(5).get_data()  # Shape: (n_epochs, n_channels, n_times)\n"
     ]
    },
    {
     "name": "stdout",
     "output_type": "stream",
     "text": [
      "Saved CSV for ROI 'cing' to /home/brooke/pacman//preprocessing/bandpass_theta/LL10_cing_baseline_theta.csv\n",
      "Processing ROI: mfg\n",
      "NOTE: pick_channels() is a legacy function. New code should use inst.pick(...).\n",
      "Setting up band-pass filter from 3 - 8 Hz\n",
      "\n",
      "FIR filter parameters\n",
      "---------------------\n",
      "Designing a one-pass, zero-phase, non-causal bandpass filter:\n",
      "- Windowed time-domain design (firwin) method\n",
      "- Hamming window with 0.0194 passband ripple and 53 dB stopband attenuation\n",
      "- Lower passband edge: 3.00\n",
      "- Lower transition bandwidth: 2.00 Hz (-6 dB cutoff frequency: 2.00 Hz)\n",
      "- Upper passband edge: 8.00 Hz\n",
      "- Upper transition bandwidth: 2.00 Hz (-6 dB cutoff frequency: 9.00 Hz)\n",
      "- Filter length: 845 samples (1.650 s)\n",
      "\n"
     ]
    },
    {
     "name": "stderr",
     "output_type": "stream",
     "text": [
      "[Parallel(n_jobs=16)]: Using backend LokyBackend with 16 concurrent workers.\n",
      "[Parallel(n_jobs=16)]: Done   2 tasks      | elapsed:    0.0s\n",
      "[Parallel(n_jobs=16)]: Done 176 tasks      | elapsed:    0.1s\n"
     ]
    },
    {
     "name": "stdout",
     "output_type": "stream",
     "text": [
      "Applying baseline correction (mode: mean)\n"
     ]
    },
    {
     "name": "stderr",
     "output_type": "stream",
     "text": [
      "[Parallel(n_jobs=16)]: Done 2066 tasks      | elapsed:    0.5s\n",
      "[Parallel(n_jobs=16)]: Done 2110 out of 2110 | elapsed:    0.5s finished\n",
      "/tmp/ipykernel_250056/1654033260.py:81: FutureWarning: The current default of copy=False will change to copy=True in 1.7. Set the value of copy explicitly to avoid this warning\n",
      "  theta_data = theta_epochs.crop(tmin=-1, tmax = 12).decimate(5).get_data()  # Shape: (n_epochs, n_channels, n_times)\n"
     ]
    },
    {
     "name": "stdout",
     "output_type": "stream",
     "text": [
      "Saved CSV for ROI 'mfg' to /home/brooke/pacman//preprocessing/bandpass_theta/LL10_mfg_baseline_theta.csv\n",
      "Processing subject: LL12\n",
      "Reading /home/brooke/pacman/preprocessing/LL12/ieeg/LL12_bp_clean_pres-locked_ieeg.fif ...\n"
     ]
    },
    {
     "name": "stderr",
     "output_type": "stream",
     "text": [
      "/tmp/ipykernel_250056/1654033260.py:6: RuntimeWarning: This filename (/home/brooke/pacman/preprocessing/LL12/ieeg/LL12_bp_clean_pres-locked_ieeg.fif) does not conform to MNE naming conventions. All epochs files should end with -epo.fif, -epo.fif.gz, _epo.fif or _epo.fif.gz\n",
      "  trial_onset_epochs = mne.read_epochs(\n"
     ]
    },
    {
     "name": "stdout",
     "output_type": "stream",
     "text": [
      "    Found the data of interest:\n",
      "        t =   -4000.00 ...    9000.00 ms\n",
      "        0 CTF compensation matrices available\n",
      "Not setting metadata\n",
      "260 matching events found\n",
      "No baseline correction applied\n",
      "0 projection items activated\n",
      "NOTE: pick_types() is a legacy function. New code should use inst.pick(...).\n",
      "Processing ROI: hc\n",
      "NOTE: pick_channels() is a legacy function. New code should use inst.pick(...).\n",
      "Setting up band-pass filter from 3 - 8 Hz\n",
      "\n",
      "FIR filter parameters\n",
      "---------------------\n",
      "Designing a one-pass, zero-phase, non-causal bandpass filter:\n",
      "- Windowed time-domain design (firwin) method\n",
      "- Hamming window with 0.0194 passband ripple and 53 dB stopband attenuation\n",
      "- Lower passband edge: 3.00\n",
      "- Lower transition bandwidth: 2.00 Hz (-6 dB cutoff frequency: 2.00 Hz)\n",
      "- Upper passband edge: 8.00 Hz\n",
      "- Upper transition bandwidth: 2.00 Hz (-6 dB cutoff frequency: 9.00 Hz)\n",
      "- Filter length: 845 samples (1.650 s)\n",
      "\n",
      "Applying baseline correction (mode: mean)\n"
     ]
    },
    {
     "name": "stderr",
     "output_type": "stream",
     "text": [
      "[Parallel(n_jobs=16)]: Using backend LokyBackend with 16 concurrent workers.\n",
      "[Parallel(n_jobs=16)]: Done   2 tasks      | elapsed:    0.0s\n",
      "[Parallel(n_jobs=16)]: Done 176 tasks      | elapsed:    0.1s\n",
      "[Parallel(n_jobs=16)]: Done 322 tasks      | elapsed:    0.2s\n",
      "[Parallel(n_jobs=16)]: Done 374 out of 374 | elapsed:    0.2s finished\n",
      "/tmp/ipykernel_250056/1654033260.py:81: RuntimeWarning: tmax is not in time interval. tmax is set to <class 'mne.epochs.EpochsFIF'>.tmax (9 s)\n",
      "  theta_data = theta_epochs.crop(tmin=-1, tmax = 12).decimate(5).get_data()  # Shape: (n_epochs, n_channels, n_times)\n",
      "/tmp/ipykernel_250056/1654033260.py:81: FutureWarning: The current default of copy=False will change to copy=True in 1.7. Set the value of copy explicitly to avoid this warning\n",
      "  theta_data = theta_epochs.crop(tmin=-1, tmax = 12).decimate(5).get_data()  # Shape: (n_epochs, n_channels, n_times)\n"
     ]
    },
    {
     "name": "stdout",
     "output_type": "stream",
     "text": [
      "Saved CSV for ROI 'hc' to /home/brooke/pacman//preprocessing/bandpass_theta/LL12_hc_baseline_theta.csv\n",
      "Processing ROI: ofc\n",
      "NOTE: pick_channels() is a legacy function. New code should use inst.pick(...).\n",
      "Setting up band-pass filter from 3 - 8 Hz\n",
      "\n",
      "FIR filter parameters\n",
      "---------------------\n",
      "Designing a one-pass, zero-phase, non-causal bandpass filter:\n",
      "- Windowed time-domain design (firwin) method\n",
      "- Hamming window with 0.0194 passband ripple and 53 dB stopband attenuation\n",
      "- Lower passband edge: 3.00\n",
      "- Lower transition bandwidth: 2.00 Hz (-6 dB cutoff frequency: 2.00 Hz)\n",
      "- Upper passband edge: 8.00 Hz\n",
      "- Upper transition bandwidth: 2.00 Hz (-6 dB cutoff frequency: 9.00 Hz)\n",
      "- Filter length: 845 samples (1.650 s)\n",
      "\n",
      "Applying baseline correction (mode: mean)\n"
     ]
    },
    {
     "name": "stderr",
     "output_type": "stream",
     "text": [
      "[Parallel(n_jobs=16)]: Using backend LokyBackend with 16 concurrent workers.\n",
      "[Parallel(n_jobs=16)]: Done   2 tasks      | elapsed:    0.0s\n",
      "[Parallel(n_jobs=16)]: Done 120 tasks      | elapsed:    0.1s\n",
      "[Parallel(n_jobs=16)]: Done 187 out of 187 | elapsed:    0.1s finished\n",
      "/tmp/ipykernel_250056/1654033260.py:81: RuntimeWarning: tmax is not in time interval. tmax is set to <class 'mne.epochs.EpochsFIF'>.tmax (9 s)\n",
      "  theta_data = theta_epochs.crop(tmin=-1, tmax = 12).decimate(5).get_data()  # Shape: (n_epochs, n_channels, n_times)\n",
      "/tmp/ipykernel_250056/1654033260.py:81: FutureWarning: The current default of copy=False will change to copy=True in 1.7. Set the value of copy explicitly to avoid this warning\n",
      "  theta_data = theta_epochs.crop(tmin=-1, tmax = 12).decimate(5).get_data()  # Shape: (n_epochs, n_channels, n_times)\n"
     ]
    },
    {
     "name": "stdout",
     "output_type": "stream",
     "text": [
      "Saved CSV for ROI 'ofc' to /home/brooke/pacman//preprocessing/bandpass_theta/LL12_ofc_baseline_theta.csv\n",
      "Processing ROI: amyg\n",
      "NOTE: pick_channels() is a legacy function. New code should use inst.pick(...).\n",
      "Setting up band-pass filter from 3 - 8 Hz\n",
      "\n",
      "FIR filter parameters\n",
      "---------------------\n",
      "Designing a one-pass, zero-phase, non-causal bandpass filter:\n",
      "- Windowed time-domain design (firwin) method\n",
      "- Hamming window with 0.0194 passband ripple and 53 dB stopband attenuation\n",
      "- Lower passband edge: 3.00\n",
      "- Lower transition bandwidth: 2.00 Hz (-6 dB cutoff frequency: 2.00 Hz)\n",
      "- Upper passband edge: 8.00 Hz\n",
      "- Upper transition bandwidth: 2.00 Hz (-6 dB cutoff frequency: 9.00 Hz)\n",
      "- Filter length: 845 samples (1.650 s)\n",
      "\n",
      "Applying baseline correction (mode: mean)\n"
     ]
    },
    {
     "name": "stderr",
     "output_type": "stream",
     "text": [
      "[Parallel(n_jobs=16)]: Using backend LokyBackend with 16 concurrent workers.\n",
      "[Parallel(n_jobs=16)]: Done   2 tasks      | elapsed:    0.0s\n",
      "[Parallel(n_jobs=16)]: Done 176 tasks      | elapsed:    0.1s\n",
      "[Parallel(n_jobs=16)]: Done 322 tasks      | elapsed:    0.1s\n",
      "[Parallel(n_jobs=16)]: Done 374 out of 374 | elapsed:    0.2s finished\n",
      "/tmp/ipykernel_250056/1654033260.py:81: RuntimeWarning: tmax is not in time interval. tmax is set to <class 'mne.epochs.EpochsFIF'>.tmax (9 s)\n",
      "  theta_data = theta_epochs.crop(tmin=-1, tmax = 12).decimate(5).get_data()  # Shape: (n_epochs, n_channels, n_times)\n",
      "/tmp/ipykernel_250056/1654033260.py:81: FutureWarning: The current default of copy=False will change to copy=True in 1.7. Set the value of copy explicitly to avoid this warning\n",
      "  theta_data = theta_epochs.crop(tmin=-1, tmax = 12).decimate(5).get_data()  # Shape: (n_epochs, n_channels, n_times)\n"
     ]
    },
    {
     "name": "stdout",
     "output_type": "stream",
     "text": [
      "Saved CSV for ROI 'amyg' to /home/brooke/pacman//preprocessing/bandpass_theta/LL12_amyg_baseline_theta.csv\n",
      "Processing ROI: cing\n",
      "NOTE: pick_channels() is a legacy function. New code should use inst.pick(...).\n",
      "Setting up band-pass filter from 3 - 8 Hz\n",
      "\n",
      "FIR filter parameters\n",
      "---------------------\n",
      "Designing a one-pass, zero-phase, non-causal bandpass filter:\n",
      "- Windowed time-domain design (firwin) method\n",
      "- Hamming window with 0.0194 passband ripple and 53 dB stopband attenuation\n",
      "- Lower passband edge: 3.00\n",
      "- Lower transition bandwidth: 2.00 Hz (-6 dB cutoff frequency: 2.00 Hz)\n",
      "- Upper passband edge: 8.00 Hz\n",
      "- Upper transition bandwidth: 2.00 Hz (-6 dB cutoff frequency: 9.00 Hz)\n",
      "- Filter length: 845 samples (1.650 s)\n",
      "\n",
      "Applying baseline correction (mode: mean)\n"
     ]
    },
    {
     "name": "stderr",
     "output_type": "stream",
     "text": [
      "[Parallel(n_jobs=16)]: Using backend LokyBackend with 16 concurrent workers.\n",
      "[Parallel(n_jobs=16)]: Done   2 tasks      | elapsed:    0.0s\n",
      "[Parallel(n_jobs=16)]: Done 120 tasks      | elapsed:    0.1s\n",
      "[Parallel(n_jobs=16)]: Done 187 out of 187 | elapsed:    0.1s finished\n",
      "/tmp/ipykernel_250056/1654033260.py:81: RuntimeWarning: tmax is not in time interval. tmax is set to <class 'mne.epochs.EpochsFIF'>.tmax (9 s)\n",
      "  theta_data = theta_epochs.crop(tmin=-1, tmax = 12).decimate(5).get_data()  # Shape: (n_epochs, n_channels, n_times)\n",
      "/tmp/ipykernel_250056/1654033260.py:81: FutureWarning: The current default of copy=False will change to copy=True in 1.7. Set the value of copy explicitly to avoid this warning\n",
      "  theta_data = theta_epochs.crop(tmin=-1, tmax = 12).decimate(5).get_data()  # Shape: (n_epochs, n_channels, n_times)\n"
     ]
    },
    {
     "name": "stdout",
     "output_type": "stream",
     "text": [
      "Saved CSV for ROI 'cing' to /home/brooke/pacman//preprocessing/bandpass_theta/LL12_cing_baseline_theta.csv\n",
      "Processing ROI: mfg\n",
      "NOTE: pick_channels() is a legacy function. New code should use inst.pick(...).\n",
      "Setting up band-pass filter from 3 - 8 Hz\n",
      "\n",
      "FIR filter parameters\n",
      "---------------------\n",
      "Designing a one-pass, zero-phase, non-causal bandpass filter:\n",
      "- Windowed time-domain design (firwin) method\n",
      "- Hamming window with 0.0194 passband ripple and 53 dB stopband attenuation\n",
      "- Lower passband edge: 3.00\n",
      "- Lower transition bandwidth: 2.00 Hz (-6 dB cutoff frequency: 2.00 Hz)\n",
      "- Upper passband edge: 8.00 Hz\n",
      "- Upper transition bandwidth: 2.00 Hz (-6 dB cutoff frequency: 9.00 Hz)\n",
      "- Filter length: 845 samples (1.650 s)\n",
      "\n"
     ]
    },
    {
     "name": "stderr",
     "output_type": "stream",
     "text": [
      "[Parallel(n_jobs=16)]: Using backend LokyBackend with 16 concurrent workers.\n",
      "[Parallel(n_jobs=16)]: Done   2 tasks      | elapsed:    0.0s\n",
      "[Parallel(n_jobs=16)]: Done 180 tasks      | elapsed:    0.1s\n"
     ]
    },
    {
     "name": "stdout",
     "output_type": "stream",
     "text": [
      "Applying baseline correction (mode: mean)\n"
     ]
    },
    {
     "name": "stderr",
     "output_type": "stream",
     "text": [
      "[Parallel(n_jobs=16)]: Done 1058 tasks      | elapsed:    0.3s\n",
      "[Parallel(n_jobs=16)]: Done 1122 out of 1122 | elapsed:    0.3s finished\n",
      "/tmp/ipykernel_250056/1654033260.py:81: RuntimeWarning: tmax is not in time interval. tmax is set to <class 'mne.epochs.EpochsFIF'>.tmax (9 s)\n",
      "  theta_data = theta_epochs.crop(tmin=-1, tmax = 12).decimate(5).get_data()  # Shape: (n_epochs, n_channels, n_times)\n",
      "/tmp/ipykernel_250056/1654033260.py:81: FutureWarning: The current default of copy=False will change to copy=True in 1.7. Set the value of copy explicitly to avoid this warning\n",
      "  theta_data = theta_epochs.crop(tmin=-1, tmax = 12).decimate(5).get_data()  # Shape: (n_epochs, n_channels, n_times)\n"
     ]
    },
    {
     "name": "stdout",
     "output_type": "stream",
     "text": [
      "Saved CSV for ROI 'mfg' to /home/brooke/pacman//preprocessing/bandpass_theta/LL12_mfg_baseline_theta.csv\n",
      "Processing subject: LL13\n",
      "Reading /home/brooke/pacman/preprocessing/LL13/ieeg/LL13_bp_clean_pres-locked_ieeg.fif ...\n"
     ]
    },
    {
     "name": "stderr",
     "output_type": "stream",
     "text": [
      "/tmp/ipykernel_250056/1654033260.py:6: RuntimeWarning: This filename (/home/brooke/pacman/preprocessing/LL13/ieeg/LL13_bp_clean_pres-locked_ieeg.fif) does not conform to MNE naming conventions. All epochs files should end with -epo.fif, -epo.fif.gz, _epo.fif or _epo.fif.gz\n",
      "  trial_onset_epochs = mne.read_epochs(\n"
     ]
    },
    {
     "name": "stdout",
     "output_type": "stream",
     "text": [
      "    Found the data of interest:\n",
      "        t =   -4000.00 ...   12000.00 ms\n",
      "        0 CTF compensation matrices available\n",
      "Not setting metadata\n",
      "240 matching events found\n",
      "No baseline correction applied\n",
      "0 projection items activated\n",
      "NOTE: pick_types() is a legacy function. New code should use inst.pick(...).\n",
      "Processing ROI: hc\n",
      "NOTE: pick_channels() is a legacy function. New code should use inst.pick(...).\n",
      "Setting up band-pass filter from 3 - 8 Hz\n",
      "\n",
      "FIR filter parameters\n",
      "---------------------\n",
      "Designing a one-pass, zero-phase, non-causal bandpass filter:\n",
      "- Windowed time-domain design (firwin) method\n",
      "- Hamming window with 0.0194 passband ripple and 53 dB stopband attenuation\n",
      "- Lower passband edge: 3.00\n",
      "- Lower transition bandwidth: 2.00 Hz (-6 dB cutoff frequency: 2.00 Hz)\n",
      "- Upper passband edge: 8.00 Hz\n",
      "- Upper transition bandwidth: 2.00 Hz (-6 dB cutoff frequency: 9.00 Hz)\n",
      "- Filter length: 845 samples (1.650 s)\n",
      "\n",
      "Applying baseline correction (mode: mean)\n"
     ]
    },
    {
     "name": "stderr",
     "output_type": "stream",
     "text": [
      "[Parallel(n_jobs=16)]: Using backend LokyBackend with 16 concurrent workers.\n",
      "[Parallel(n_jobs=16)]: Done   2 tasks      | elapsed:    0.0s\n",
      "[Parallel(n_jobs=16)]: Done 120 tasks      | elapsed:    0.1s\n",
      "[Parallel(n_jobs=16)]: Done 139 out of 139 | elapsed:    0.1s finished\n",
      "/tmp/ipykernel_250056/1654033260.py:81: FutureWarning: The current default of copy=False will change to copy=True in 1.7. Set the value of copy explicitly to avoid this warning\n",
      "  theta_data = theta_epochs.crop(tmin=-1, tmax = 12).decimate(5).get_data()  # Shape: (n_epochs, n_channels, n_times)\n"
     ]
    },
    {
     "name": "stdout",
     "output_type": "stream",
     "text": [
      "Saved CSV for ROI 'hc' to /home/brooke/pacman//preprocessing/bandpass_theta/LL13_hc_baseline_theta.csv\n",
      "Processing ROI: ofc\n",
      "NOTE: pick_channels() is a legacy function. New code should use inst.pick(...).\n",
      "Setting up band-pass filter from 3 - 8 Hz\n",
      "\n",
      "FIR filter parameters\n",
      "---------------------\n",
      "Designing a one-pass, zero-phase, non-causal bandpass filter:\n",
      "- Windowed time-domain design (firwin) method\n",
      "- Hamming window with 0.0194 passband ripple and 53 dB stopband attenuation\n",
      "- Lower passband edge: 3.00\n",
      "- Lower transition bandwidth: 2.00 Hz (-6 dB cutoff frequency: 2.00 Hz)\n",
      "- Upper passband edge: 8.00 Hz\n",
      "- Upper transition bandwidth: 2.00 Hz (-6 dB cutoff frequency: 9.00 Hz)\n",
      "- Filter length: 845 samples (1.650 s)\n",
      "\n",
      "Applying baseline correction (mode: mean)\n"
     ]
    },
    {
     "name": "stderr",
     "output_type": "stream",
     "text": [
      "[Parallel(n_jobs=16)]: Using backend LokyBackend with 16 concurrent workers.\n",
      "[Parallel(n_jobs=16)]: Done   2 tasks      | elapsed:    0.0s\n",
      "[Parallel(n_jobs=16)]: Done 176 tasks      | elapsed:    0.1s\n",
      "[Parallel(n_jobs=16)]: Done 278 out of 278 | elapsed:    0.1s finished\n",
      "/tmp/ipykernel_250056/1654033260.py:81: FutureWarning: The current default of copy=False will change to copy=True in 1.7. Set the value of copy explicitly to avoid this warning\n",
      "  theta_data = theta_epochs.crop(tmin=-1, tmax = 12).decimate(5).get_data()  # Shape: (n_epochs, n_channels, n_times)\n"
     ]
    },
    {
     "name": "stdout",
     "output_type": "stream",
     "text": [
      "Saved CSV for ROI 'ofc' to /home/brooke/pacman//preprocessing/bandpass_theta/LL13_ofc_baseline_theta.csv\n",
      "Processing ROI: amyg\n",
      "NOTE: pick_channels() is a legacy function. New code should use inst.pick(...).\n",
      "Setting up band-pass filter from 3 - 8 Hz\n",
      "\n",
      "FIR filter parameters\n",
      "---------------------\n",
      "Designing a one-pass, zero-phase, non-causal bandpass filter:\n",
      "- Windowed time-domain design (firwin) method\n",
      "- Hamming window with 0.0194 passband ripple and 53 dB stopband attenuation\n",
      "- Lower passband edge: 3.00\n",
      "- Lower transition bandwidth: 2.00 Hz (-6 dB cutoff frequency: 2.00 Hz)\n",
      "- Upper passband edge: 8.00 Hz\n",
      "- Upper transition bandwidth: 2.00 Hz (-6 dB cutoff frequency: 9.00 Hz)\n",
      "- Filter length: 845 samples (1.650 s)\n",
      "\n",
      "Applying baseline correction (mode: mean)\n"
     ]
    },
    {
     "name": "stderr",
     "output_type": "stream",
     "text": [
      "[Parallel(n_jobs=16)]: Using backend LokyBackend with 16 concurrent workers.\n",
      "[Parallel(n_jobs=16)]: Done   2 tasks      | elapsed:    0.0s\n",
      "[Parallel(n_jobs=16)]: Done 176 tasks      | elapsed:    0.1s\n",
      "[Parallel(n_jobs=16)]: Done 278 out of 278 | elapsed:    0.1s finished\n",
      "/tmp/ipykernel_250056/1654033260.py:81: FutureWarning: The current default of copy=False will change to copy=True in 1.7. Set the value of copy explicitly to avoid this warning\n",
      "  theta_data = theta_epochs.crop(tmin=-1, tmax = 12).decimate(5).get_data()  # Shape: (n_epochs, n_channels, n_times)\n"
     ]
    },
    {
     "name": "stdout",
     "output_type": "stream",
     "text": [
      "Saved CSV for ROI 'amyg' to /home/brooke/pacman//preprocessing/bandpass_theta/LL13_amyg_baseline_theta.csv\n",
      "Processing ROI: cing\n",
      "NOTE: pick_channels() is a legacy function. New code should use inst.pick(...).\n",
      "Setting up band-pass filter from 3 - 8 Hz\n",
      "\n",
      "FIR filter parameters\n",
      "---------------------\n",
      "Designing a one-pass, zero-phase, non-causal bandpass filter:\n",
      "- Windowed time-domain design (firwin) method\n",
      "- Hamming window with 0.0194 passband ripple and 53 dB stopband attenuation\n",
      "- Lower passband edge: 3.00\n",
      "- Lower transition bandwidth: 2.00 Hz (-6 dB cutoff frequency: 2.00 Hz)\n",
      "- Upper passband edge: 8.00 Hz\n",
      "- Upper transition bandwidth: 2.00 Hz (-6 dB cutoff frequency: 9.00 Hz)\n",
      "- Filter length: 845 samples (1.650 s)\n",
      "\n"
     ]
    },
    {
     "name": "stderr",
     "output_type": "stream",
     "text": [
      "[Parallel(n_jobs=16)]: Using backend LokyBackend with 16 concurrent workers.\n",
      "[Parallel(n_jobs=16)]: Done   2 tasks      | elapsed:    0.0s\n",
      "[Parallel(n_jobs=16)]: Done 176 tasks      | elapsed:    0.1s\n",
      "[Parallel(n_jobs=16)]: Done 322 tasks      | elapsed:    0.2s\n"
     ]
    },
    {
     "name": "stdout",
     "output_type": "stream",
     "text": [
      "Applying baseline correction (mode: mean)\n"
     ]
    },
    {
     "name": "stderr",
     "output_type": "stream",
     "text": [
      "[Parallel(n_jobs=16)]: Done 417 out of 417 | elapsed:    0.2s finished\n",
      "/tmp/ipykernel_250056/1654033260.py:81: FutureWarning: The current default of copy=False will change to copy=True in 1.7. Set the value of copy explicitly to avoid this warning\n",
      "  theta_data = theta_epochs.crop(tmin=-1, tmax = 12).decimate(5).get_data()  # Shape: (n_epochs, n_channels, n_times)\n"
     ]
    },
    {
     "name": "stdout",
     "output_type": "stream",
     "text": [
      "Saved CSV for ROI 'cing' to /home/brooke/pacman//preprocessing/bandpass_theta/LL13_cing_baseline_theta.csv\n",
      "Processing ROI: mfg\n",
      "NOTE: pick_channels() is a legacy function. New code should use inst.pick(...).\n",
      "Setting up band-pass filter from 3 - 8 Hz\n",
      "\n",
      "FIR filter parameters\n",
      "---------------------\n",
      "Designing a one-pass, zero-phase, non-causal bandpass filter:\n",
      "- Windowed time-domain design (firwin) method\n",
      "- Hamming window with 0.0194 passband ripple and 53 dB stopband attenuation\n",
      "- Lower passband edge: 3.00\n",
      "- Lower transition bandwidth: 2.00 Hz (-6 dB cutoff frequency: 2.00 Hz)\n",
      "- Upper passband edge: 8.00 Hz\n",
      "- Upper transition bandwidth: 2.00 Hz (-6 dB cutoff frequency: 9.00 Hz)\n",
      "- Filter length: 845 samples (1.650 s)\n",
      "\n"
     ]
    },
    {
     "name": "stderr",
     "output_type": "stream",
     "text": [
      "[Parallel(n_jobs=16)]: Using backend LokyBackend with 16 concurrent workers.\n",
      "[Parallel(n_jobs=16)]: Done   2 tasks      | elapsed:    0.0s\n",
      "[Parallel(n_jobs=16)]: Done 176 tasks      | elapsed:    0.1s\n"
     ]
    },
    {
     "name": "stdout",
     "output_type": "stream",
     "text": [
      "Applying baseline correction (mode: mean)\n"
     ]
    },
    {
     "name": "stderr",
     "output_type": "stream",
     "text": [
      "[Parallel(n_jobs=16)]: Done 1158 tasks      | elapsed:    0.4s\n",
      "[Parallel(n_jobs=16)]: Done 1529 out of 1529 | elapsed:    0.5s finished\n",
      "/tmp/ipykernel_250056/1654033260.py:81: FutureWarning: The current default of copy=False will change to copy=True in 1.7. Set the value of copy explicitly to avoid this warning\n",
      "  theta_data = theta_epochs.crop(tmin=-1, tmax = 12).decimate(5).get_data()  # Shape: (n_epochs, n_channels, n_times)\n"
     ]
    },
    {
     "name": "stdout",
     "output_type": "stream",
     "text": [
      "Saved CSV for ROI 'mfg' to /home/brooke/pacman//preprocessing/bandpass_theta/LL13_mfg_baseline_theta.csv\n",
      "Processing subject: LL14\n",
      "Reading /home/brooke/pacman/preprocessing/LL14/ieeg/LL14_bp_clean_pres-locked_ieeg.fif ...\n"
     ]
    },
    {
     "name": "stderr",
     "output_type": "stream",
     "text": [
      "/tmp/ipykernel_250056/1654033260.py:6: RuntimeWarning: This filename (/home/brooke/pacman/preprocessing/LL14/ieeg/LL14_bp_clean_pres-locked_ieeg.fif) does not conform to MNE naming conventions. All epochs files should end with -epo.fif, -epo.fif.gz, _epo.fif or _epo.fif.gz\n",
      "  trial_onset_epochs = mne.read_epochs(\n"
     ]
    },
    {
     "name": "stdout",
     "output_type": "stream",
     "text": [
      "    Found the data of interest:\n",
      "        t =   -4000.00 ...   12000.00 ms\n",
      "        0 CTF compensation matrices available\n",
      "Reading /home/brooke/pacman/preprocessing/LL14/ieeg/LL14_bp_clean_pres-locked_ieeg-1.fif ...\n",
      "    Found the data of interest:\n",
      "        t =   -4000.00 ...   12000.00 ms\n",
      "        0 CTF compensation matrices available\n",
      "Not setting metadata\n",
      "819 matching events found\n",
      "No baseline correction applied\n",
      "0 projection items activated\n",
      "NOTE: pick_types() is a legacy function. New code should use inst.pick(...).\n",
      "Processing ROI: hc\n",
      "NOTE: pick_channels() is a legacy function. New code should use inst.pick(...).\n",
      "Setting up band-pass filter from 3 - 8 Hz\n",
      "\n",
      "FIR filter parameters\n",
      "---------------------\n",
      "Designing a one-pass, zero-phase, non-causal bandpass filter:\n",
      "- Windowed time-domain design (firwin) method\n",
      "- Hamming window with 0.0194 passband ripple and 53 dB stopband attenuation\n",
      "- Lower passband edge: 3.00\n",
      "- Lower transition bandwidth: 2.00 Hz (-6 dB cutoff frequency: 2.00 Hz)\n",
      "- Upper passband edge: 8.00 Hz\n",
      "- Upper transition bandwidth: 2.00 Hz (-6 dB cutoff frequency: 9.00 Hz)\n",
      "- Filter length: 845 samples (1.650 s)\n",
      "\n"
     ]
    },
    {
     "name": "stderr",
     "output_type": "stream",
     "text": [
      "[Parallel(n_jobs=16)]: Using backend LokyBackend with 16 concurrent workers.\n",
      "[Parallel(n_jobs=16)]: Done   2 tasks      | elapsed:    0.0s\n",
      "[Parallel(n_jobs=16)]: Done 176 tasks      | elapsed:    0.1s\n"
     ]
    },
    {
     "name": "stdout",
     "output_type": "stream",
     "text": [
      "Applying baseline correction (mode: mean)\n"
     ]
    },
    {
     "name": "stderr",
     "output_type": "stream",
     "text": [
      "[Parallel(n_jobs=16)]: Done 1058 tasks      | elapsed:    0.4s\n",
      "[Parallel(n_jobs=16)]: Done 1184 tasks      | elapsed:    0.5s\n",
      "[Parallel(n_jobs=16)]: Done 1214 out of 1214 | elapsed:    0.5s finished\n",
      "/tmp/ipykernel_250056/1654033260.py:81: FutureWarning: The current default of copy=False will change to copy=True in 1.7. Set the value of copy explicitly to avoid this warning\n",
      "  theta_data = theta_epochs.crop(tmin=-1, tmax = 12).decimate(5).get_data()  # Shape: (n_epochs, n_channels, n_times)\n"
     ]
    },
    {
     "name": "stdout",
     "output_type": "stream",
     "text": [
      "Saved CSV for ROI 'hc' to /home/brooke/pacman//preprocessing/bandpass_theta/LL14_hc_baseline_theta.csv\n",
      "Processing ROI: ofc\n",
      "NOTE: pick_channels() is a legacy function. New code should use inst.pick(...).\n",
      "Setting up band-pass filter from 3 - 8 Hz\n",
      "\n",
      "FIR filter parameters\n",
      "---------------------\n",
      "Designing a one-pass, zero-phase, non-causal bandpass filter:\n",
      "- Windowed time-domain design (firwin) method\n",
      "- Hamming window with 0.0194 passband ripple and 53 dB stopband attenuation\n",
      "- Lower passband edge: 3.00\n",
      "- Lower transition bandwidth: 2.00 Hz (-6 dB cutoff frequency: 2.00 Hz)\n",
      "- Upper passband edge: 8.00 Hz\n",
      "- Upper transition bandwidth: 2.00 Hz (-6 dB cutoff frequency: 9.00 Hz)\n",
      "- Filter length: 845 samples (1.650 s)\n",
      "\n"
     ]
    },
    {
     "name": "stderr",
     "output_type": "stream",
     "text": [
      "[Parallel(n_jobs=16)]: Using backend LokyBackend with 16 concurrent workers.\n",
      "[Parallel(n_jobs=16)]: Done   2 tasks      | elapsed:    0.0s\n",
      "[Parallel(n_jobs=16)]: Done 176 tasks      | elapsed:    0.1s\n"
     ]
    },
    {
     "name": "stdout",
     "output_type": "stream",
     "text": [
      "Applying baseline correction (mode: mean)\n"
     ]
    },
    {
     "name": "stderr",
     "output_type": "stream",
     "text": [
      "[Parallel(n_jobs=16)]: Done 1058 tasks      | elapsed:    0.3s\n",
      "[Parallel(n_jobs=16)]: Done 1184 tasks      | elapsed:    0.4s\n",
      "[Parallel(n_jobs=16)]: Done 1214 out of 1214 | elapsed:    0.4s finished\n",
      "/tmp/ipykernel_250056/1654033260.py:81: FutureWarning: The current default of copy=False will change to copy=True in 1.7. Set the value of copy explicitly to avoid this warning\n",
      "  theta_data = theta_epochs.crop(tmin=-1, tmax = 12).decimate(5).get_data()  # Shape: (n_epochs, n_channels, n_times)\n"
     ]
    },
    {
     "name": "stdout",
     "output_type": "stream",
     "text": [
      "Saved CSV for ROI 'ofc' to /home/brooke/pacman//preprocessing/bandpass_theta/LL14_ofc_baseline_theta.csv\n",
      "Processing ROI: amyg\n",
      "NOTE: pick_channels() is a legacy function. New code should use inst.pick(...).\n",
      "Setting up band-pass filter from 3 - 8 Hz\n",
      "\n",
      "FIR filter parameters\n",
      "---------------------\n",
      "Designing a one-pass, zero-phase, non-causal bandpass filter:\n",
      "- Windowed time-domain design (firwin) method\n",
      "- Hamming window with 0.0194 passband ripple and 53 dB stopband attenuation\n",
      "- Lower passband edge: 3.00\n",
      "- Lower transition bandwidth: 2.00 Hz (-6 dB cutoff frequency: 2.00 Hz)\n",
      "- Upper passband edge: 8.00 Hz\n",
      "- Upper transition bandwidth: 2.00 Hz (-6 dB cutoff frequency: 9.00 Hz)\n",
      "- Filter length: 845 samples (1.650 s)\n",
      "\n"
     ]
    },
    {
     "name": "stderr",
     "output_type": "stream",
     "text": [
      "[Parallel(n_jobs=16)]: Using backend LokyBackend with 16 concurrent workers.\n",
      "[Parallel(n_jobs=16)]: Done   2 tasks      | elapsed:    0.0s\n",
      "[Parallel(n_jobs=16)]: Done 176 tasks      | elapsed:    0.1s\n"
     ]
    },
    {
     "name": "stdout",
     "output_type": "stream",
     "text": [
      "Applying baseline correction (mode: mean)\n"
     ]
    },
    {
     "name": "stderr",
     "output_type": "stream",
     "text": [
      "[Parallel(n_jobs=16)]: Done 1058 tasks      | elapsed:    0.3s\n",
      "[Parallel(n_jobs=16)]: Done 1184 tasks      | elapsed:    0.4s\n",
      "[Parallel(n_jobs=16)]: Done 1214 out of 1214 | elapsed:    0.4s finished\n",
      "/tmp/ipykernel_250056/1654033260.py:81: FutureWarning: The current default of copy=False will change to copy=True in 1.7. Set the value of copy explicitly to avoid this warning\n",
      "  theta_data = theta_epochs.crop(tmin=-1, tmax = 12).decimate(5).get_data()  # Shape: (n_epochs, n_channels, n_times)\n"
     ]
    },
    {
     "name": "stdout",
     "output_type": "stream",
     "text": [
      "Saved CSV for ROI 'amyg' to /home/brooke/pacman//preprocessing/bandpass_theta/LL14_amyg_baseline_theta.csv\n",
      "Processing ROI: mfg\n",
      "NOTE: pick_channels() is a legacy function. New code should use inst.pick(...).\n",
      "Setting up band-pass filter from 3 - 8 Hz\n",
      "\n",
      "FIR filter parameters\n",
      "---------------------\n",
      "Designing a one-pass, zero-phase, non-causal bandpass filter:\n",
      "- Windowed time-domain design (firwin) method\n",
      "- Hamming window with 0.0194 passband ripple and 53 dB stopband attenuation\n",
      "- Lower passband edge: 3.00\n",
      "- Lower transition bandwidth: 2.00 Hz (-6 dB cutoff frequency: 2.00 Hz)\n",
      "- Upper passband edge: 8.00 Hz\n",
      "- Upper transition bandwidth: 2.00 Hz (-6 dB cutoff frequency: 9.00 Hz)\n",
      "- Filter length: 845 samples (1.650 s)\n",
      "\n"
     ]
    },
    {
     "name": "stderr",
     "output_type": "stream",
     "text": [
      "[Parallel(n_jobs=16)]: Using backend LokyBackend with 16 concurrent workers.\n",
      "[Parallel(n_jobs=16)]: Done   2 tasks      | elapsed:    0.0s\n",
      "[Parallel(n_jobs=16)]: Done 176 tasks      | elapsed:    0.1s\n",
      "[Parallel(n_jobs=16)]: Done 6384 tasks      | elapsed:    1.6s\n"
     ]
    },
    {
     "name": "stdout",
     "output_type": "stream",
     "text": [
      "Applying baseline correction (mode: mean)\n"
     ]
    },
    {
     "name": "stderr",
     "output_type": "stream",
     "text": [
      "[Parallel(n_jobs=16)]: Done 8400 tasks      | elapsed:    2.0s\n",
      "[Parallel(n_jobs=16)]: Done 8498 out of 8498 | elapsed:    2.0s finished\n",
      "/tmp/ipykernel_250056/1654033260.py:81: FutureWarning: The current default of copy=False will change to copy=True in 1.7. Set the value of copy explicitly to avoid this warning\n",
      "  theta_data = theta_epochs.crop(tmin=-1, tmax = 12).decimate(5).get_data()  # Shape: (n_epochs, n_channels, n_times)\n"
     ]
    },
    {
     "name": "stdout",
     "output_type": "stream",
     "text": [
      "Saved CSV for ROI 'mfg' to /home/brooke/pacman//preprocessing/bandpass_theta/LL14_mfg_baseline_theta.csv\n",
      "Processing subject: LL17\n",
      "Reading /home/brooke/pacman/preprocessing/LL17/ieeg/LL17_bp_clean_pres-locked_ieeg.fif ...\n"
     ]
    },
    {
     "name": "stderr",
     "output_type": "stream",
     "text": [
      "/tmp/ipykernel_250056/1654033260.py:6: RuntimeWarning: This filename (/home/brooke/pacman/preprocessing/LL17/ieeg/LL17_bp_clean_pres-locked_ieeg.fif) does not conform to MNE naming conventions. All epochs files should end with -epo.fif, -epo.fif.gz, _epo.fif or _epo.fif.gz\n",
      "  trial_onset_epochs = mne.read_epochs(\n"
     ]
    },
    {
     "name": "stdout",
     "output_type": "stream",
     "text": [
      "    Found the data of interest:\n",
      "        t =   -4000.00 ...   12000.00 ms\n",
      "        0 CTF compensation matrices available\n",
      "Not setting metadata\n",
      "252 matching events found\n",
      "No baseline correction applied\n",
      "0 projection items activated\n",
      "NOTE: pick_types() is a legacy function. New code should use inst.pick(...).\n",
      "Processing ROI: hc\n",
      "NOTE: pick_channels() is a legacy function. New code should use inst.pick(...).\n",
      "Setting up band-pass filter from 3 - 8 Hz\n",
      "\n",
      "FIR filter parameters\n",
      "---------------------\n",
      "Designing a one-pass, zero-phase, non-causal bandpass filter:\n",
      "- Windowed time-domain design (firwin) method\n",
      "- Hamming window with 0.0194 passband ripple and 53 dB stopband attenuation\n",
      "- Lower passband edge: 3.00\n",
      "- Lower transition bandwidth: 2.00 Hz (-6 dB cutoff frequency: 2.00 Hz)\n",
      "- Upper passband edge: 8.00 Hz\n",
      "- Upper transition bandwidth: 2.00 Hz (-6 dB cutoff frequency: 9.00 Hz)\n",
      "- Filter length: 845 samples (1.650 s)\n",
      "\n"
     ]
    },
    {
     "name": "stderr",
     "output_type": "stream",
     "text": [
      "[Parallel(n_jobs=16)]: Using backend LokyBackend with 16 concurrent workers.\n",
      "[Parallel(n_jobs=16)]: Done   2 tasks      | elapsed:    0.0s\n",
      "[Parallel(n_jobs=16)]: Done 176 tasks      | elapsed:    0.1s\n"
     ]
    },
    {
     "name": "stdout",
     "output_type": "stream",
     "text": [
      "Applying baseline correction (mode: mean)\n"
     ]
    },
    {
     "name": "stderr",
     "output_type": "stream",
     "text": [
      "[Parallel(n_jobs=16)]: Done 562 tasks      | elapsed:    0.2s\n",
      "[Parallel(n_jobs=16)]: Done 688 tasks      | elapsed:    0.3s\n",
      "[Parallel(n_jobs=16)]: Done 808 out of 808 | elapsed:    0.4s finished\n",
      "/tmp/ipykernel_250056/1654033260.py:81: FutureWarning: The current default of copy=False will change to copy=True in 1.7. Set the value of copy explicitly to avoid this warning\n",
      "  theta_data = theta_epochs.crop(tmin=-1, tmax = 12).decimate(5).get_data()  # Shape: (n_epochs, n_channels, n_times)\n"
     ]
    },
    {
     "name": "stdout",
     "output_type": "stream",
     "text": [
      "Saved CSV for ROI 'hc' to /home/brooke/pacman//preprocessing/bandpass_theta/LL17_hc_baseline_theta.csv\n",
      "Processing ROI: ofc\n",
      "NOTE: pick_channels() is a legacy function. New code should use inst.pick(...).\n",
      "Setting up band-pass filter from 3 - 8 Hz\n",
      "\n",
      "FIR filter parameters\n",
      "---------------------\n",
      "Designing a one-pass, zero-phase, non-causal bandpass filter:\n",
      "- Windowed time-domain design (firwin) method\n",
      "- Hamming window with 0.0194 passband ripple and 53 dB stopband attenuation\n",
      "- Lower passband edge: 3.00\n",
      "- Lower transition bandwidth: 2.00 Hz (-6 dB cutoff frequency: 2.00 Hz)\n",
      "- Upper passband edge: 8.00 Hz\n",
      "- Upper transition bandwidth: 2.00 Hz (-6 dB cutoff frequency: 9.00 Hz)\n",
      "- Filter length: 845 samples (1.650 s)\n",
      "\n",
      "Applying baseline correction (mode: mean)\n"
     ]
    },
    {
     "name": "stderr",
     "output_type": "stream",
     "text": [
      "[Parallel(n_jobs=16)]: Using backend LokyBackend with 16 concurrent workers.\n",
      "[Parallel(n_jobs=16)]: Done   2 tasks      | elapsed:    0.0s\n",
      "[Parallel(n_jobs=16)]: Done 120 tasks      | elapsed:    0.1s\n",
      "[Parallel(n_jobs=16)]: Done 202 out of 202 | elapsed:    0.1s finished\n",
      "/tmp/ipykernel_250056/1654033260.py:81: FutureWarning: The current default of copy=False will change to copy=True in 1.7. Set the value of copy explicitly to avoid this warning\n",
      "  theta_data = theta_epochs.crop(tmin=-1, tmax = 12).decimate(5).get_data()  # Shape: (n_epochs, n_channels, n_times)\n"
     ]
    },
    {
     "name": "stdout",
     "output_type": "stream",
     "text": [
      "Saved CSV for ROI 'ofc' to /home/brooke/pacman//preprocessing/bandpass_theta/LL17_ofc_baseline_theta.csv\n",
      "Processing ROI: amyg\n",
      "NOTE: pick_channels() is a legacy function. New code should use inst.pick(...).\n",
      "Setting up band-pass filter from 3 - 8 Hz\n",
      "\n",
      "FIR filter parameters\n",
      "---------------------\n",
      "Designing a one-pass, zero-phase, non-causal bandpass filter:\n",
      "- Windowed time-domain design (firwin) method\n",
      "- Hamming window with 0.0194 passband ripple and 53 dB stopband attenuation\n",
      "- Lower passband edge: 3.00\n",
      "- Lower transition bandwidth: 2.00 Hz (-6 dB cutoff frequency: 2.00 Hz)\n",
      "- Upper passband edge: 8.00 Hz\n",
      "- Upper transition bandwidth: 2.00 Hz (-6 dB cutoff frequency: 9.00 Hz)\n",
      "- Filter length: 845 samples (1.650 s)\n",
      "\n",
      "Applying baseline correction (mode: mean)\n"
     ]
    },
    {
     "name": "stderr",
     "output_type": "stream",
     "text": [
      "[Parallel(n_jobs=16)]: Using backend LokyBackend with 16 concurrent workers.\n",
      "[Parallel(n_jobs=16)]: Done   2 tasks      | elapsed:    0.0s\n",
      "[Parallel(n_jobs=16)]: Done 120 tasks      | elapsed:    0.1s\n",
      "[Parallel(n_jobs=16)]: Done 202 out of 202 | elapsed:    0.1s finished\n",
      "/tmp/ipykernel_250056/1654033260.py:81: FutureWarning: The current default of copy=False will change to copy=True in 1.7. Set the value of copy explicitly to avoid this warning\n",
      "  theta_data = theta_epochs.crop(tmin=-1, tmax = 12).decimate(5).get_data()  # Shape: (n_epochs, n_channels, n_times)\n"
     ]
    },
    {
     "name": "stdout",
     "output_type": "stream",
     "text": [
      "Saved CSV for ROI 'amyg' to /home/brooke/pacman//preprocessing/bandpass_theta/LL17_amyg_baseline_theta.csv\n",
      "Processing ROI: cing\n",
      "NOTE: pick_channels() is a legacy function. New code should use inst.pick(...).\n",
      "Setting up band-pass filter from 3 - 8 Hz\n",
      "\n",
      "FIR filter parameters\n",
      "---------------------\n",
      "Designing a one-pass, zero-phase, non-causal bandpass filter:\n",
      "- Windowed time-domain design (firwin) method\n",
      "- Hamming window with 0.0194 passband ripple and 53 dB stopband attenuation\n",
      "- Lower passband edge: 3.00\n",
      "- Lower transition bandwidth: 2.00 Hz (-6 dB cutoff frequency: 2.00 Hz)\n",
      "- Upper passband edge: 8.00 Hz\n",
      "- Upper transition bandwidth: 2.00 Hz (-6 dB cutoff frequency: 9.00 Hz)\n",
      "- Filter length: 845 samples (1.650 s)\n",
      "\n",
      "Applying baseline correction (mode: mean)\n"
     ]
    },
    {
     "name": "stderr",
     "output_type": "stream",
     "text": [
      "[Parallel(n_jobs=16)]: Using backend LokyBackend with 16 concurrent workers.\n",
      "[Parallel(n_jobs=16)]: Done   2 tasks      | elapsed:    0.0s\n",
      "[Parallel(n_jobs=16)]: Done 120 tasks      | elapsed:    0.1s\n",
      "[Parallel(n_jobs=16)]: Done 202 out of 202 | elapsed:    0.1s finished\n",
      "/tmp/ipykernel_250056/1654033260.py:81: FutureWarning: The current default of copy=False will change to copy=True in 1.7. Set the value of copy explicitly to avoid this warning\n",
      "  theta_data = theta_epochs.crop(tmin=-1, tmax = 12).decimate(5).get_data()  # Shape: (n_epochs, n_channels, n_times)\n"
     ]
    },
    {
     "name": "stdout",
     "output_type": "stream",
     "text": [
      "Saved CSV for ROI 'cing' to /home/brooke/pacman//preprocessing/bandpass_theta/LL17_cing_baseline_theta.csv\n",
      "Processing ROI: mfg\n",
      "NOTE: pick_channels() is a legacy function. New code should use inst.pick(...).\n",
      "Setting up band-pass filter from 3 - 8 Hz\n",
      "\n",
      "FIR filter parameters\n",
      "---------------------\n",
      "Designing a one-pass, zero-phase, non-causal bandpass filter:\n",
      "- Windowed time-domain design (firwin) method\n",
      "- Hamming window with 0.0194 passband ripple and 53 dB stopband attenuation\n",
      "- Lower passband edge: 3.00\n",
      "- Lower transition bandwidth: 2.00 Hz (-6 dB cutoff frequency: 2.00 Hz)\n",
      "- Upper passband edge: 8.00 Hz\n",
      "- Upper transition bandwidth: 2.00 Hz (-6 dB cutoff frequency: 9.00 Hz)\n",
      "- Filter length: 845 samples (1.650 s)\n",
      "\n"
     ]
    },
    {
     "name": "stderr",
     "output_type": "stream",
     "text": [
      "[Parallel(n_jobs=16)]: Using backend LokyBackend with 16 concurrent workers.\n",
      "[Parallel(n_jobs=16)]: Done   2 tasks      | elapsed:    0.0s\n",
      "[Parallel(n_jobs=16)]: Done 176 tasks      | elapsed:    0.1s\n"
     ]
    },
    {
     "name": "stdout",
     "output_type": "stream",
     "text": [
      "Applying baseline correction (mode: mean)\n"
     ]
    },
    {
     "name": "stderr",
     "output_type": "stream",
     "text": [
      "[Parallel(n_jobs=16)]: Done 1058 tasks      | elapsed:    0.3s\n",
      "[Parallel(n_jobs=16)]: Done 1184 tasks      | elapsed:    0.4s\n",
      "[Parallel(n_jobs=16)]: Done 1212 out of 1212 | elapsed:    0.4s finished\n",
      "/tmp/ipykernel_250056/1654033260.py:81: FutureWarning: The current default of copy=False will change to copy=True in 1.7. Set the value of copy explicitly to avoid this warning\n",
      "  theta_data = theta_epochs.crop(tmin=-1, tmax = 12).decimate(5).get_data()  # Shape: (n_epochs, n_channels, n_times)\n"
     ]
    },
    {
     "name": "stdout",
     "output_type": "stream",
     "text": [
      "Saved CSV for ROI 'mfg' to /home/brooke/pacman//preprocessing/bandpass_theta/LL17_mfg_baseline_theta.csv\n",
      "Processing subject: LL19\n",
      "Reading /home/brooke/pacman/preprocessing/LL19/ieeg/LL19_bp_clean_pres-locked_ieeg.fif ...\n"
     ]
    },
    {
     "name": "stderr",
     "output_type": "stream",
     "text": [
      "/tmp/ipykernel_250056/1654033260.py:6: RuntimeWarning: This filename (/home/brooke/pacman/preprocessing/LL19/ieeg/LL19_bp_clean_pres-locked_ieeg.fif) does not conform to MNE naming conventions. All epochs files should end with -epo.fif, -epo.fif.gz, _epo.fif or _epo.fif.gz\n",
      "  trial_onset_epochs = mne.read_epochs(\n"
     ]
    },
    {
     "name": "stdout",
     "output_type": "stream",
     "text": [
      "    Found the data of interest:\n",
      "        t =   -4000.00 ...   12000.00 ms\n",
      "        0 CTF compensation matrices available\n",
      "Not setting metadata\n",
      "240 matching events found\n",
      "No baseline correction applied\n",
      "0 projection items activated\n",
      "NOTE: pick_types() is a legacy function. New code should use inst.pick(...).\n",
      "Processing ROI: hc\n",
      "NOTE: pick_channels() is a legacy function. New code should use inst.pick(...).\n",
      "Setting up band-pass filter from 3 - 8 Hz\n",
      "\n",
      "FIR filter parameters\n",
      "---------------------\n",
      "Designing a one-pass, zero-phase, non-causal bandpass filter:\n",
      "- Windowed time-domain design (firwin) method\n",
      "- Hamming window with 0.0194 passband ripple and 53 dB stopband attenuation\n",
      "- Lower passband edge: 3.00\n",
      "- Lower transition bandwidth: 2.00 Hz (-6 dB cutoff frequency: 2.00 Hz)\n",
      "- Upper passband edge: 8.00 Hz\n",
      "- Upper transition bandwidth: 2.00 Hz (-6 dB cutoff frequency: 9.00 Hz)\n",
      "- Filter length: 845 samples (1.650 s)\n",
      "\n",
      "Applying baseline correction (mode: mean)\n"
     ]
    },
    {
     "name": "stderr",
     "output_type": "stream",
     "text": [
      "[Parallel(n_jobs=16)]: Using backend LokyBackend with 16 concurrent workers.\n",
      "[Parallel(n_jobs=16)]: Done   2 tasks      | elapsed:    0.0s\n",
      "[Parallel(n_jobs=16)]: Done 243 out of 243 | elapsed:    0.1s finished\n",
      "/tmp/ipykernel_250056/1654033260.py:81: FutureWarning: The current default of copy=False will change to copy=True in 1.7. Set the value of copy explicitly to avoid this warning\n",
      "  theta_data = theta_epochs.crop(tmin=-1, tmax = 12).decimate(5).get_data()  # Shape: (n_epochs, n_channels, n_times)\n"
     ]
    },
    {
     "name": "stdout",
     "output_type": "stream",
     "text": [
      "Saved CSV for ROI 'hc' to /home/brooke/pacman//preprocessing/bandpass_theta/LL19_hc_baseline_theta.csv\n",
      "Processing ROI: ofc\n",
      "NOTE: pick_channels() is a legacy function. New code should use inst.pick(...).\n",
      "Setting up band-pass filter from 3 - 8 Hz\n",
      "\n",
      "FIR filter parameters\n",
      "---------------------\n",
      "Designing a one-pass, zero-phase, non-causal bandpass filter:\n",
      "- Windowed time-domain design (firwin) method\n",
      "- Hamming window with 0.0194 passband ripple and 53 dB stopband attenuation\n",
      "- Lower passband edge: 3.00\n",
      "- Lower transition bandwidth: 2.00 Hz (-6 dB cutoff frequency: 2.00 Hz)\n",
      "- Upper passband edge: 8.00 Hz\n",
      "- Upper transition bandwidth: 2.00 Hz (-6 dB cutoff frequency: 9.00 Hz)\n",
      "- Filter length: 845 samples (1.650 s)\n",
      "\n",
      "Applying baseline correction (mode: mean)\n"
     ]
    },
    {
     "name": "stderr",
     "output_type": "stream",
     "text": [
      "[Parallel(n_jobs=16)]: Using backend LokyBackend with 16 concurrent workers.\n",
      "[Parallel(n_jobs=16)]: Done   2 tasks      | elapsed:    0.0s\n",
      "[Parallel(n_jobs=16)]: Done 176 tasks      | elapsed:    0.1s\n",
      "[Parallel(n_jobs=16)]: Done 324 out of 324 | elapsed:    0.1s finished\n",
      "/tmp/ipykernel_250056/1654033260.py:81: FutureWarning: The current default of copy=False will change to copy=True in 1.7. Set the value of copy explicitly to avoid this warning\n",
      "  theta_data = theta_epochs.crop(tmin=-1, tmax = 12).decimate(5).get_data()  # Shape: (n_epochs, n_channels, n_times)\n"
     ]
    },
    {
     "name": "stdout",
     "output_type": "stream",
     "text": [
      "Saved CSV for ROI 'ofc' to /home/brooke/pacman//preprocessing/bandpass_theta/LL19_ofc_baseline_theta.csv\n",
      "Processing ROI: amyg\n",
      "NOTE: pick_channels() is a legacy function. New code should use inst.pick(...).\n",
      "Setting up band-pass filter from 3 - 8 Hz\n",
      "\n",
      "FIR filter parameters\n",
      "---------------------\n",
      "Designing a one-pass, zero-phase, non-causal bandpass filter:\n",
      "- Windowed time-domain design (firwin) method\n",
      "- Hamming window with 0.0194 passband ripple and 53 dB stopband attenuation\n",
      "- Lower passband edge: 3.00\n",
      "- Lower transition bandwidth: 2.00 Hz (-6 dB cutoff frequency: 2.00 Hz)\n",
      "- Upper passband edge: 8.00 Hz\n",
      "- Upper transition bandwidth: 2.00 Hz (-6 dB cutoff frequency: 9.00 Hz)\n",
      "- Filter length: 845 samples (1.650 s)\n",
      "\n",
      "Applying baseline correction (mode: mean)\n"
     ]
    },
    {
     "name": "stderr",
     "output_type": "stream",
     "text": [
      "[Parallel(n_jobs=16)]: Using backend LokyBackend with 16 concurrent workers.\n",
      "[Parallel(n_jobs=16)]: Done   2 tasks      | elapsed:    0.0s\n",
      "[Parallel(n_jobs=16)]: Done  81 out of  81 | elapsed:    0.1s finished\n",
      "/tmp/ipykernel_250056/1654033260.py:81: FutureWarning: The current default of copy=False will change to copy=True in 1.7. Set the value of copy explicitly to avoid this warning\n",
      "  theta_data = theta_epochs.crop(tmin=-1, tmax = 12).decimate(5).get_data()  # Shape: (n_epochs, n_channels, n_times)\n"
     ]
    },
    {
     "name": "stdout",
     "output_type": "stream",
     "text": [
      "Saved CSV for ROI 'amyg' to /home/brooke/pacman//preprocessing/bandpass_theta/LL19_amyg_baseline_theta.csv\n",
      "Processing ROI: cing\n",
      "NOTE: pick_channels() is a legacy function. New code should use inst.pick(...).\n",
      "Setting up band-pass filter from 3 - 8 Hz\n",
      "\n",
      "FIR filter parameters\n",
      "---------------------\n",
      "Designing a one-pass, zero-phase, non-causal bandpass filter:\n",
      "- Windowed time-domain design (firwin) method\n",
      "- Hamming window with 0.0194 passband ripple and 53 dB stopband attenuation\n",
      "- Lower passband edge: 3.00\n",
      "- Lower transition bandwidth: 2.00 Hz (-6 dB cutoff frequency: 2.00 Hz)\n",
      "- Upper passband edge: 8.00 Hz\n",
      "- Upper transition bandwidth: 2.00 Hz (-6 dB cutoff frequency: 9.00 Hz)\n",
      "- Filter length: 845 samples (1.650 s)\n",
      "\n",
      "Applying baseline correction (mode: mean)\n"
     ]
    },
    {
     "name": "stderr",
     "output_type": "stream",
     "text": [
      "[Parallel(n_jobs=16)]: Using backend LokyBackend with 16 concurrent workers.\n",
      "[Parallel(n_jobs=16)]: Done   2 tasks      | elapsed:    0.0s\n",
      "[Parallel(n_jobs=16)]: Done 120 tasks      | elapsed:    0.1s\n",
      "[Parallel(n_jobs=16)]: Done 162 out of 162 | elapsed:    0.1s finished\n",
      "/tmp/ipykernel_250056/1654033260.py:81: FutureWarning: The current default of copy=False will change to copy=True in 1.7. Set the value of copy explicitly to avoid this warning\n",
      "  theta_data = theta_epochs.crop(tmin=-1, tmax = 12).decimate(5).get_data()  # Shape: (n_epochs, n_channels, n_times)\n"
     ]
    },
    {
     "name": "stdout",
     "output_type": "stream",
     "text": [
      "Saved CSV for ROI 'cing' to /home/brooke/pacman//preprocessing/bandpass_theta/LL19_cing_baseline_theta.csv\n",
      "Processing ROI: mfg\n",
      "NOTE: pick_channels() is a legacy function. New code should use inst.pick(...).\n",
      "Setting up band-pass filter from 3 - 8 Hz\n",
      "\n",
      "FIR filter parameters\n",
      "---------------------\n",
      "Designing a one-pass, zero-phase, non-causal bandpass filter:\n",
      "- Windowed time-domain design (firwin) method\n",
      "- Hamming window with 0.0194 passband ripple and 53 dB stopband attenuation\n",
      "- Lower passband edge: 3.00\n",
      "- Lower transition bandwidth: 2.00 Hz (-6 dB cutoff frequency: 2.00 Hz)\n",
      "- Upper passband edge: 8.00 Hz\n",
      "- Upper transition bandwidth: 2.00 Hz (-6 dB cutoff frequency: 9.00 Hz)\n",
      "- Filter length: 845 samples (1.650 s)\n",
      "\n"
     ]
    },
    {
     "name": "stderr",
     "output_type": "stream",
     "text": [
      "[Parallel(n_jobs=16)]: Using backend LokyBackend with 16 concurrent workers.\n",
      "[Parallel(n_jobs=16)]: Done   2 tasks      | elapsed:    0.0s\n",
      "[Parallel(n_jobs=16)]: Done 176 tasks      | elapsed:    0.1s\n",
      "[Parallel(n_jobs=16)]: Done 562 tasks      | elapsed:    0.2s\n"
     ]
    },
    {
     "name": "stdout",
     "output_type": "stream",
     "text": [
      "Applying baseline correction (mode: mean)\n"
     ]
    },
    {
     "name": "stderr",
     "output_type": "stream",
     "text": [
      "[Parallel(n_jobs=16)]: Done 688 tasks      | elapsed:    0.3s\n",
      "[Parallel(n_jobs=16)]: Done 810 out of 810 | elapsed:    0.4s finished\n",
      "/tmp/ipykernel_250056/1654033260.py:81: FutureWarning: The current default of copy=False will change to copy=True in 1.7. Set the value of copy explicitly to avoid this warning\n",
      "  theta_data = theta_epochs.crop(tmin=-1, tmax = 12).decimate(5).get_data()  # Shape: (n_epochs, n_channels, n_times)\n"
     ]
    },
    {
     "name": "stdout",
     "output_type": "stream",
     "text": [
      "Saved CSV for ROI 'mfg' to /home/brooke/pacman//preprocessing/bandpass_theta/LL19_mfg_baseline_theta.csv\n"
     ]
    }
   ],
   "source": [
    "# Loop over subjects\n",
    "for sub in sub_list:\n",
    "    print(f\"Processing subject: {sub}\")\n",
    "    \n",
    "    # Load the epoched data\n",
    "    trial_onset_epochs = mne.read_epochs(\n",
    "        f\"/home/brooke/pacman/preprocessing/{sub}/ieeg/{sub}_bp_clean_pres-locked_ieeg.fif\"\n",
    "    )\n",
    "\n",
    "    if sub == \"LL14\":\n",
    "        # get good epochs (for behavioral data only) & Manually add more bad trials because of a bipolar referencing issue that created NANs\n",
    "        good_epochs = [i for i,x in enumerate(trial_onset_epochs.get_annotations_per_epoch()) if not x and i not in [485, 486, 487, 488, 543, 544, 545, 704, 705, 710, 711, 712, 713, 714]]\n",
    "        bad_epochs = [i for i,x in enumerate(trial_onset_epochs.get_annotations_per_epoch()) if  x or i in [485, 486, 487, 488, 543, 544, 545, 704, 705, 710, 711, 712, 713, 714]]\n",
    "    else:\n",
    "        # get good epochs (for behavioral data only)\n",
    "        good_epochs = [i for i,x in enumerate(trial_onset_epochs.get_annotations_per_epoch()) if not x]\n",
    "        bad_epochs = [i for i,x in enumerate(trial_onset_epochs.get_annotations_per_epoch()) if  x]\n",
    "\n",
    "    # only good epochs\n",
    "    trial_onset_epochs = trial_onset_epochs[good_epochs]\n",
    "\n",
    "    # Resample to 1000 \n",
    "    if trial_onset_epochs.info['sfreq'] > 1000:\n",
    "        trial_onset_epochs= trial_onset_epochs.resample(1000)\n",
    "    \n",
    "\n",
    "    # Dictionary of electrode locations\n",
    "    ROIs = subs.ROIs[sub]\n",
    "\n",
    "    # Prep lists\n",
    "    hc_list, ofc_list, amyg_list, cing_list, mfg_list = [], [], [], [], []\n",
    "\n",
    "    # Exclude bad ROI from list\n",
    "    pairs_long_name = [ch.split('-') for ch in trial_onset_epochs.pick_types(seeg=True).info['ch_names']]\n",
    "    bidx = len(trial_onset_epochs.info['bads']) + 1\n",
    "    pairs_name = pairs_long_name[bidx:len(pairs_long_name)]\n",
    "\n",
    "    # Sort ROI into lists\n",
    "    for ix in range(0, len(pairs_name)):\n",
    "        if pairs_name[ix][0] in ROIs['hc'] or pairs_name[ix][1] in ROIs['hc']:\n",
    "            hc_list.append(trial_onset_epochs.info['ch_names'][ix + bidx])\n",
    "        if pairs_name[ix][0] in ROIs['ofc'] or pairs_name[ix][1] in ROIs['ofc']:\n",
    "            ofc_list.append(trial_onset_epochs.info['ch_names'][ix + bidx])\n",
    "        if pairs_name[ix][0] in ROIs['amyg'] or pairs_name[ix][1] in ROIs['amyg']:\n",
    "            amyg_list.append(trial_onset_epochs.info['ch_names'][ix + bidx])       \n",
    "        if pairs_name[ix][0] in ROIs['cing'] or pairs_name[ix][1] in ROIs['cing']:\n",
    "            cing_list.append(trial_onset_epochs.info['ch_names'][ix + bidx])       \n",
    "        if pairs_name[ix][0] in ROIs['mfg'] or pairs_name[ix][1] in ROIs['mfg']:\n",
    "            mfg_list.append(trial_onset_epochs.info['ch_names'][ix + bidx])   \n",
    "\n",
    "    roi_dictionary = {\"hc\": hc_list, \"ofc\": ofc_list, \"amyg\": amyg_list, \"cing\": cing_list, \"mfg\": mfg_list}\n",
    "\n",
    "    for roi_name, electrode_list in roi_dictionary.items():\n",
    "        if len(electrode_list) == 0:\n",
    "            continue  # Skip if there are no electrodes for this ROI\n",
    "        print(\"Processing ROI:\", roi_name)\n",
    "\n",
    "        # Create a copy of epochs to apply the theta filter\n",
    "        theta_epochs = trial_onset_epochs.copy().pick_channels(electrode_list)\n",
    "        \n",
    "        # Apply bandpass filter for theta (3–8 Hz)\n",
    "        theta_epochs.filter(\n",
    "            l_freq=THETA_LOW,\n",
    "            h_freq=THETA_HIGH,\n",
    "            picks=electrode_list,\n",
    "            method=\"fir\",\n",
    "            fir_window=\"hamming\",\n",
    "            fir_design=\"firwin\",\n",
    "            phase=\"zero\",\n",
    "            filter_length=\"auto\",\n",
    "            n_jobs = 16\n",
    "        )\n",
    "\n",
    "        # Baseline correction\n",
    "        theta_epochs.apply_baseline(BASELINE)\n",
    "\n",
    "        # crop and decimate\n",
    "        if theta_epochs.info['sfreq'] > 600:\n",
    "            theta_data = theta_epochs.crop(tmin=-1, tmax = 12).decimate(10).get_data() # Shape: (n_epochs, n_channels, n_times)\n",
    "        else:\n",
    "            theta_data = theta_epochs.crop(tmin=-1, tmax = 12).decimate(5).get_data()  # Shape: (n_epochs, n_channels, n_times)\n",
    "        \n",
    "        # Convert the data to a DataFrame\n",
    "        times = theta_epochs.times  # Time points\n",
    "        trial_numbers = good_epochs # Trial indices\n",
    "        electrodes = theta_epochs.info['ch_names']  # Electrode names\n",
    "\n",
    "        # Prepare data for saving\n",
    "        n_trials, n_electrodes, n_times = theta_data.shape\n",
    "        subject_column = np.repeat(sub, n_trials * n_electrodes * n_times)\n",
    "        electrode_column = np.tile(np.repeat(electrodes, n_times), n_trials)\n",
    "        trial_column = np.repeat(trial_numbers, n_electrodes * n_times)\n",
    "        time_column = np.tile(np.tile(times, len(electrodes)), n_trials)\n",
    "        value_column = theta_data.reshape(-1)  # Flatten the 3D array into a 1D array\n",
    "\n",
    "        # Combine into a DataFrame\n",
    "        df = pd.DataFrame({\n",
    "            \"subject\": subject_column,\n",
    "            \"electrode\": electrode_column,\n",
    "            \"trial\": trial_column,\n",
    "            \"time\": time_column,\n",
    "            \"value\": value_column\n",
    "        })\n",
    "\n",
    "        # Save to CSV\n",
    "        output_path = f\"/home/brooke/pacman//preprocessing/bandpass_theta/{sub}_{roi_name}_baseline_theta.csv\"\n",
    "        df.to_csv(output_path, index=False)\n",
    "        print(f\"Saved CSV for ROI '{roi_name}' to {output_path}\")\n",
    "    \n"
   ]
  },
  {
   "cell_type": "code",
   "execution_count": null,
   "metadata": {},
   "outputs": [],
   "source": []
  }
 ],
 "metadata": {
  "kernelspec": {
   "display_name": "ieeg_analysis",
   "language": "python",
   "name": "python3"
  },
  "language_info": {
   "codemirror_mode": {
    "name": "ipython",
    "version": 3
   },
   "file_extension": ".py",
   "mimetype": "text/x-python",
   "name": "python",
   "nbconvert_exporter": "python",
   "pygments_lexer": "ipython3",
   "version": "3.11.9"
  }
 },
 "nbformat": 4,
 "nbformat_minor": 2
}

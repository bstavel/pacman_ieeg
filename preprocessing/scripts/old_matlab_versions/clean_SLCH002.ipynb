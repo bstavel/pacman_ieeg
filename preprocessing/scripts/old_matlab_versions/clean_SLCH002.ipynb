{
 "cells": [
  {
   "cell_type": "code",
   "execution_count": 1,
   "id": "ba7ab82b-7fb5-45f5-8081-74207c871139",
   "metadata": {},
   "outputs": [],
   "source": [
    "%% morning matlab %%"
   ]
  },
  {
   "cell_type": "markdown",
   "id": "4f240431-2a69-43ef-9f15-9467d3686d7d",
   "metadata": {},
   "source": [
    "## Convert from BCI2000"
   ]
  },
  {
   "cell_type": "code",
   "execution_count": 3,
   "id": "b502f9cd-0ae0-419c-b3be-b31396311e21",
   "metadata": {},
   "outputs": [
    {
     "name": "stdout",
     "output_type": "stream",
     "text": [
      "\n",
      "path_data =\n",
      "\n",
      "    '/home/brooke/knight_server/remote/WashU/data/PacmanTask/SLCH002/PacmanTask/ECOG001/ECOGS001R01.dat'\n",
      "\n"
     ]
    }
   ],
   "source": [
    "addpath(genpath('/home/brooke/knight_lab_commons/loading_data_scripts/BCI2000mex'))\n",
    "path_data = '/home/brooke/knight_server/remote/WashU/data/PacmanTask/SLCH002/PacmanTask/ECOG001/ECOGS001R01.dat'\n",
    "[signal,states,parameters] = load_bcidat(path_data);"
   ]
  },
  {
   "cell_type": "code",
   "execution_count": 4,
   "id": "95f7b97f-21ee-4e22-8f3d-2173829c5d5c",
   "metadata": {},
   "outputs": [
    {
     "name": "stdout",
     "output_type": "stream",
     "text": [
      "-------------------------------------------------------------------------------------------\n",
      "FieldTrip is developed by members and collaborators of the Donders Institute for Brain,\n",
      "Cognition and Behaviour at Radboud University, Nijmegen, the Netherlands.\n",
      "\n",
      "                          --------------------------\n",
      "                        /                            \\\n",
      "                     ------------------------------------\n",
      "                    /                                    \\\n",
      "          -------------------------------------------------\n",
      "         /                            /\\/\\/\\/\\/\\ \n",
      "         ---------------------------------------------------\n",
      "                  |        F  i  e  l  d  T  r  i  p       |\n",
      "                  ------------------------------------------\n",
      "                   \\                                      /\n",
      "                     ------------------------------------\n",
      "                          \\            /\n",
      "                            ----------\n",
      "\n",
      "Please cite the FieldTrip reference paper when you have used FieldTrip in your study.\n",
      "Robert Oostenveld, Pascal Fries, Eric Maris, and Jan-Mathijs Schoffelen. FieldTrip: Open\n",
      "Source Software for Advanced Analysis of MEG, EEG, and Invasive Electrophysiological Data.\n",
      "Computational Intelligence and Neuroscience, vol. 2011, Article ID 156869, 9 pages, 2011.\n",
      "doi:10.1155/2011/156869.\n",
      "-------------------------------------------------------------------------------------------\n"
     ]
    }
   ],
   "source": [
    "%% Now add other paths %%\n",
    "% add fieldtrip\n",
    "ftDir = '/home/brooke/knight_server/remote/lbellier/DataWorkspace/_tools/git/fieldtrip/';\n",
    "if exist('ft_defaults.m', 'file') == 0\n",
    "    addpath(ftDir); ft_defaults;\n",
    "end\n",
    "% Ludo's tools\n",
    "addpath('/home/brooke/knight_server/remote/lbellier/DataWorkspace/_tools/');\n",
    "\n",
    "%% Add 'photodiode'\n",
    "signal_photo = [signal, states.Trial_on_off];\n",
    "parameters.ChannelNames.Value{273} =  'photodiode';\n",
    "\n",
    "%% Convert to fieldtrip\n",
    "data = ft_array2data(double(signal_photo),  parameters.SamplingRate.NumericValue, parameters.ChannelNames.Value);\n",
    "\n",
    "%% save %%\n",
    "save('/home/brooke/knight_server/remote/bstavel/pacman_ieeg_data/SLCH002/SLCH002_raw_data.mat', 'data', '-v7.3');"
   ]
  },
  {
   "cell_type": "markdown",
   "id": "2ecc76c5-f58b-4066-9118-6efe3363de2e",
   "metadata": {},
   "source": [
    "## After conversion from BCI2000\n",
    "\n",
    "begin here after data from BCI2000 has been converted to fieldtrip"
   ]
  },
  {
   "cell_type": "code",
   "execution_count": 2,
   "id": "35cc73a1-fd8a-421f-a4c8-1047e5d06add",
   "metadata": {},
   "outputs": [],
   "source": [
    "restoredefaultpath"
   ]
  },
  {
   "cell_type": "code",
   "execution_count": 3,
   "id": "0306d318-17f8-408e-8283-c599494a25a2",
   "metadata": {},
   "outputs": [],
   "source": [
    "%% add field trip %%\n",
    "ftDir = '/home/brooke/fieldtrip/fieldtrip-20191213';\n",
    "if exist('ft_defaults.m', 'file') == 0\n",
    "    addpath(ftDir); ft_defaults;\n",
    "end\n",
    "\n",
    "%addpath(genpath('/usr/local/MATLAB/R2021b/toolbox/signal/'))"
   ]
  },
  {
   "cell_type": "code",
   "execution_count": 4,
   "id": "a43ed0bf-e660-47a5-aaa8-8e33e65c357f",
   "metadata": {},
   "outputs": [
    {
     "name": "stdout",
     "output_type": "stream",
     "text": [
      "\n",
      "base_dir =\n",
      "\n",
      "    '/home/brooke/knight_server/remote/bstavel/'\n",
      "\n",
      "\n",
      "bj17_path =\n",
      "\n",
      "    '/home/brooke/knight_server/remote/bstavel/pacman_ieeg_data/BJH017/BJH017_raw_data.mat'\n",
      "\n"
     ]
    }
   ],
   "source": [
    "%% load data %%\n",
    "\n",
    "% paths %\n",
    "base_dir = '/home/brooke/knight_server/remote/bstavel/'\n",
    "sl2_path = '/home/brooke/knight_server/remote/bstavel/pacman_ieeg_data/SLCH002/SLCH002_raw_data.mat'\n",
    "\n",
    "%% loda data %%\n",
    "load(sl2_path)"
   ]
  },
  {
   "cell_type": "code",
   "execution_count": null,
   "id": "fd733d9e-764d-4f25-8407-9df08a643b31",
   "metadata": {},
   "outputs": [],
   "source": [
    "data"
   ]
  },
  {
   "cell_type": "code",
   "execution_count": 5,
   "id": "f7a64bc5-85fd-477a-a3b8-7895da9d5398",
   "metadata": {},
   "outputs": [
    {
     "name": "stdout",
     "output_type": "stream",
     "text": [
      "the input is raw data with 273 channels and 1 trials\n",
      "the call to \"ft_selectdata\" took 0 seconds and required the additional allocation of an estimated 16 MB\n",
      "resampling data\n",
      "resampling data in trial 1 from 1\n",
      "original sampling rate = 2000 Hz\n",
      "new sampling rate = 1080 Hz\n",
      "the call to \"ft_resampledata\" took 17 seconds and required the additional allocation of an estimated 12036 MB\n"
     ]
    }
   ],
   "source": [
    "%% Downsample %%\n",
    "cfg = [];\n",
    "cfg.resamplefs = 1080;\n",
    "data = ft_resampledata(cfg, data);"
   ]
  },
  {
   "cell_type": "code",
   "execution_count": 6,
   "id": "0aefa3f5-a32d-43ed-815d-b7e66a98f4eb",
   "metadata": {},
   "outputs": [
    {
     "name": "stdout",
     "output_type": "stream",
     "text": [
      "Warning: the data does not contain a trial definition\n",
      " In '/home/brooke/fieldtrip/fieldtrip-20191213/utilities/private/fixsampleinfo.m' at line 80\n",
      " In '/home/brooke/fieldtrip/fieldtrip-20191213/utilities/ft_datatype_raw.m' at line 147\n",
      " In '/home/brooke/fieldtrip/fieldtrip-20191213/utilities/ft_checkdata.m' at line 268\n",
      " In '/home/brooke/fieldtrip/fieldtrip-20191213/ft_preprocessing.m' at line 281\n",
      "\n",
      "Warning: reconstructing sampleinfo by assuming that the trials are consecutive segments of a continuous recording\n",
      "> In fixsampleinfo (line 94)\n",
      "In ft_datatype_raw (line 147)\n",
      "In ft_checkdata (line 268)\n",
      "In ft_preprocessing (line 281)\n",
      "the call to \"ft_selectdata\" took 0 seconds and required the additional allocation of an estimated 1 MB\n",
      "preprocessing\n",
      "preprocessing trial 1 from 1\n",
      "the call to \"ft_preprocessing\" took 91 seconds and required the additional allocation of an estimated 4216 MB\n"
     ]
    }
   ],
   "source": [
    "%% Detrend and notch clinical data\n",
    "HPcutoff = 1; % high-pass filter cutoff\n",
    "LPcutoff = 200; % low-pass filter cutoff change to 150\n",
    "powerLineF0 = 60;\n",
    "cfg = [];\n",
    "cfg.bsfilter = 'yes';\n",
    "cfg.bsfreq = (powerLineF0 * (1:round((LPcutoff+powerLineF0)/powerLineF0)) + [-1; 1])';\n",
    "if data.fsample <= 512\n",
    "    cfg.bsfreq = cfg.bsfreq(1:end-1, :); % for fs=512Hz, e.g. OS13, OS21\n",
    "end\n",
    "cfg.bsfiltord = 3;\n",
    "cfg.hpfilter = 'yes';\n",
    "cfg.hpfreq = HPcutoff;\n",
    "cfg.hpfiltord = 3;\n",
    "cfg.lpfilter = 'yes';\n",
    "cfg.lpfreq = LPcutoff;\n",
    "cfg.lpfiltord = 3;\n",
    "filtered_data = ft_preprocessing(cfg, data);\n"
   ]
  },
  {
   "cell_type": "code",
   "execution_count": 8,
   "id": "697107d9-4698-4556-9530-26a3cdfebca7",
   "metadata": {},
   "outputs": [
    {
     "name": "stdout",
     "output_type": "stream",
     "text": [
      "the input is raw data with 273 channels and 1 trials\n",
      "Warning: the data does not contain a trial definition\n",
      "Warning: reconstructing sampleinfo by assuming that the trials are consecutive segments of a continuous recording\n",
      "> In fixsampleinfo (line 94)\n",
      "In ft_datatype_raw (line 147)\n",
      "In ft_checkdata (line 268)\n",
      "In ft_databrowser (line 294)\n",
      "Warning: the data has been resampled, not showing the events\n",
      "detected   0 visual artifacts\n",
      "the call to \"ft_prepare_layout\" took 0 seconds and required the additional allocation of an estimated 0 MB\n",
      "the call to \"ft_databrowser\" took 4 seconds and required the additional allocation of an estimated 4220 MB\n"
     ]
    }
   ],
   "source": [
    "%plot native\n",
    "%% display %%\n",
    "cfg = [];\n",
    "cfg.viewmode = 'vertical';\n",
    "cfg.preproc.demean = 'yes';\n",
    "% cfg.blocksize = 10;\n",
    "% cfg.channel = goodChansDispIdx;\n",
    "% cfg.position = pos2;\n",
    "% cfg.ylim = [-1 1] * .0005;\n",
    "ft_databrowser(cfg, data);"
   ]
  },
  {
   "cell_type": "code",
   "execution_count": null,
   "id": "6263ff95-40b4-4683-ab2e-38af69ea3efe",
   "metadata": {},
   "outputs": [],
   "source": []
  }
 ],
 "metadata": {
  "kernelspec": {
   "display_name": "Matlab",
   "language": "matlab",
   "name": "matlab"
  },
  "language_info": {
   "codemirror_mode": "octave",
   "file_extension": ".m",
   "help_links": [
    {
     "text": "MetaKernel Magics",
     "url": "https://metakernel.readthedocs.io/en/latest/source/README.html"
    }
   ],
   "mimetype": "text/x-octave",
   "name": "matlab",
   "version": "0.16.11"
  }
 },
 "nbformat": 4,
 "nbformat_minor": 5
}

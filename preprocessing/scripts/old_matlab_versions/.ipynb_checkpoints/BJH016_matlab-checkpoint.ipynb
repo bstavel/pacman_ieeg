{
 "cells": [
  {
   "cell_type": "code",
   "execution_count": 1,
   "id": "ba7ab82b-7fb5-45f5-8081-74207c871139",
   "metadata": {},
   "outputs": [],
   "source": [
    "%% morning matlab %%"
   ]
  },
  {
   "cell_type": "code",
   "execution_count": 7,
   "id": "b502f9cd-0ae0-419c-b3be-b31396311e21",
   "metadata": {},
   "outputs": [
    {
     "name": "stdout",
     "output_type": "stream",
     "text": [
      "\n",
      "path_data =\n",
      "\n",
      "    '/home/brooke/knight_server/remote/WashU/data/PacmanTask/BJH017/PacmanTask/ECOG001/ECOGS001R01.dat'\n",
      "\n"
     ]
    }
   ],
   "source": [
    "addpath(genpath('/home/brooke/knight_lab_commons/loading_data_scripts/BCI2000mex'))\n",
    "path_data = '/home/brooke/knight_server/remote/WashU/data/PacmanTask/BJH017/PacmanTask/ECOG001/ECOGS001R01.dat'\n",
    "[signal,states,parameters] = load_bcidat(path_data);"
   ]
  },
  {
   "cell_type": "code",
   "execution_count": 8,
   "id": "bca91551-8e64-445f-a1c5-38faa41f76b5",
   "metadata": {},
   "outputs": [
    {
     "name": "stdout",
     "output_type": "stream",
     "text": [
      "\n",
      "ans =\n",
      "\n",
      "     3739200         272\n",
      "\n"
     ]
    }
   ],
   "source": [
    "size(signal)"
   ]
  },
  {
   "cell_type": "code",
   "execution_count": null,
   "id": "ee9a2563-59f8-496d-afcf-62750bf007ad",
   "metadata": {},
   "outputs": [],
   "source": []
  }
 ],
 "metadata": {
  "kernelspec": {
   "display_name": "Matlab [conda env:ieeg_analysis] *",
   "language": "matlab",
   "name": "conda-env-ieeg_analysis-matlab"
  },
  "language_info": {
   "codemirror_mode": "octave",
   "file_extension": ".m",
   "help_links": [
    {
     "text": "MetaKernel Magics",
     "url": "https://metakernel.readthedocs.io/en/latest/source/README.html"
    }
   ],
   "mimetype": "text/x-octave",
   "name": "matlab",
   "version": "0.16.11"
  }
 },
 "nbformat": 4,
 "nbformat_minor": 5
}

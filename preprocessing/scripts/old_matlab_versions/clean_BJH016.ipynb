{
 "cells": [
  {
   "cell_type": "code",
   "execution_count": 1,
   "id": "dd315489-3f41-4316-9ac0-c22b1b48de23",
   "metadata": {},
   "outputs": [],
   "source": [
    "%% morning matlab %%"
   ]
  },
  {
   "cell_type": "markdown",
   "id": "35e56f6b-f4ae-433f-b86e-cfe985d2ffa4",
   "metadata": {},
   "source": [
    "## Convert from BCI2000"
   ]
  },
  {
   "cell_type": "code",
   "execution_count": 2,
   "id": "7c81c4ca-ca11-4c24-bfbb-8b741161e799",
   "metadata": {},
   "outputs": [
    {
     "name": "stdout",
     "output_type": "stream",
     "text": [
      "\n",
      "path_data =\n",
      "\n",
      "    '/home/brooke/knight_server/remote/WashU/data/PacmanTask/BJH016/PacmanTask/ECOGS001R01.dat'\n",
      "\n"
     ]
    }
   ],
   "source": [
    "%% BCI2000 to matlab conversion\n",
    "\n",
    "addpath(genpath('/home/brooke/knight_lab_commons/loading_data_scripts/BCI2000mex'))\n",
    "path_data = '/home/brooke/knight_server/remote/WashU/data/PacmanTask/BJH016/PacmanTask/ECOGS001R01.dat'\n",
    "[signal,states,parameters] = load_bcidat(path_data);"
   ]
  },
  {
   "cell_type": "code",
   "execution_count": 3,
   "id": "a7b19668-ba42-4195-b946-a1136e96f285",
   "metadata": {},
   "outputs": [
    {
     "name": "stdout",
     "output_type": "stream",
     "text": [
      "-------------------------------------------------------------------------------------------\n",
      "FieldTrip is developed by members and collaborators of the Donders Institute for Brain,\n",
      "Cognition and Behaviour at Radboud University, Nijmegen, the Netherlands.\n",
      "\n",
      "                          --------------------------\n",
      "                        /                            \\\n",
      "                     ------------------------------------\n",
      "                    /                                    \\\n",
      "          -------------------------------------------------\n",
      "         /                            /\\/\\/\\/\\/\\ \n",
      "         ---------------------------------------------------\n",
      "                  |        F  i  e  l  d  T  r  i  p       |\n",
      "                  ------------------------------------------\n",
      "                   \\                                      /\n",
      "                     ------------------------------------\n",
      "                          \\            /\n",
      "                            ----------\n",
      "\n",
      "Please cite the FieldTrip reference paper when you have used FieldTrip in your study.\n",
      "Robert Oostenveld, Pascal Fries, Eric Maris, and Jan-Mathijs Schoffelen. FieldTrip: Open\n",
      "Source Software for Advanced Analysis of MEG, EEG, and Invasive Electrophysiological Data.\n",
      "Computational Intelligence and Neuroscience, vol. 2011, Article ID 156869, 9 pages, 2011.\n",
      "doi:10.1155/2011/156869.\n",
      "-------------------------------------------------------------------------------------------\n"
     ]
    }
   ],
   "source": [
    "%% Now add other paths %%\n",
    "% add fieldtrip\n",
    "ftDir = '/home/brooke/knight_server/remote/lbellier/DataWorkspace/_tools/git/fieldtrip/';\n",
    "if exist('ft_defaults.m', 'file') == 0\n",
    "    addpath(ftDir); ft_defaults;\n",
    "end\n",
    "% Ludo's tools\n",
    "addpath('/home/brooke/knight_server/remote/lbellier/DataWorkspace/_tools/');\n",
    "\n",
    "%% Add 'photodiode'\n",
    "signal_photo = [signal, states.Trial_on_off];\n",
    "parameters.ChannelNames.Value{273} =  'photodiode';\n",
    "\n",
    "%% Convert to fieldtrip\n",
    "data = ft_array2data(double(signal_photo),  parameters.SamplingRate.NumericValue, parameters.ChannelNames.Value);\n",
    "\n",
    "%% save %%\n",
    "save('/home/brooke/knight_server/remote/bstavel/pacman_ieeg_data/BJH016/BJH016_raw_data.mat', 'data', '-v7.3');"
   ]
  },
  {
   "cell_type": "markdown",
   "id": "617f00e4-a938-4843-b077-3560390a8467",
   "metadata": {},
   "source": [
    "## After conversion from BCI2000\n",
    "\n",
    "begin here after data from BCI2000 has been converted to fieldtrip"
   ]
  },
  {
   "cell_type": "code",
   "execution_count": 8,
   "id": "63589a32-ef05-49c6-9899-d508c7a946bc",
   "metadata": {},
   "outputs": [],
   "source": [
    "restoredefaultpath"
   ]
  },
  {
   "cell_type": "code",
   "execution_count": 9,
   "id": "ac83a27b-78f9-488a-b7db-904e1ab62719",
   "metadata": {},
   "outputs": [],
   "source": [
    "%% add field trip %%\n",
    "ftDir = '/home/brooke/fieldtrip/fieldtrip-20191213';\n",
    "if exist('ft_defaults.m', 'file') == 0\n",
    "    addpath(ftDir); ft_defaults;\n",
    "end\n"
   ]
  },
  {
   "cell_type": "code",
   "execution_count": 6,
   "id": "8269fb64-01a9-49b8-b637-2edc2a68f380",
   "metadata": {},
   "outputs": [
    {
     "name": "stdout",
     "output_type": "stream",
     "text": [
      "\n",
      "base_dir =\n",
      "\n",
      "    '/home/brooke/knight_server/remote/bstavel/'\n",
      "\n",
      "\n",
      "bj16_path =\n",
      "\n",
      "    '/home/brooke/knight_server/remote/bstavel/pacman_ieeg_data/BJH016/BJH016_raw_data.mat'\n",
      "\n"
     ]
    }
   ],
   "source": [
    "%% load data %%\n",
    "\n",
    "% paths %\n",
    "base_dir = '/home/brooke/knight_server/remote/bstavel/'\n",
    "bj16_path = '/home/brooke/knight_server/remote/bstavel/pacman_ieeg_data/BJH016/BJH016_raw_data.mat'\n",
    "\n",
    "%% loda data %%\n",
    "load(bj16_path)"
   ]
  },
  {
   "cell_type": "code",
   "execution_count": 15,
   "id": "2a7b6cab-852d-4c92-b70e-7fa71557e89b",
   "metadata": {},
   "outputs": [
    {
     "name": "stdout",
     "output_type": "stream",
     "text": [
      "\n",
      "data = \n",
      "\n",
      "  struct with fields:\n",
      "\n",
      "       fsample: 2000\n",
      "    sampleinfo: [1 5901900]\n",
      "         trial: {[273x5901900 uint8]}\n",
      "          time: {[0 5.0000e-04 1.0000e-03 0.0015 0.0020 0.0025 0.0030 ... ]}\n",
      "         label: {273x1 cell}\n",
      "\n"
     ]
    }
   ],
   "source": [
    "data"
   ]
  },
  {
   "cell_type": "code",
   "execution_count": 10,
   "id": "e0b0aafc-d17d-4829-8340-80c1914fa8ec",
   "metadata": {},
   "outputs": [
    {
     "name": "stdout",
     "output_type": "stream",
     "text": [
      "the input is raw data with 273 channels and 1 trials\n",
      "the call to \"ft_selectdata\" took 0 seconds and required the additional allocation of an estimated 1 MB\n",
      "resampling data\n",
      "resampling data in trial 1 from 1\n",
      "original sampling rate = 2000 Hz\n",
      "new sampling rate = 1080 Hz\n",
      "the call to \"ft_resampledata\" took 28 seconds and required the additional allocation of an estimated 18628 MB\n"
     ]
    }
   ],
   "source": [
    "%% Downsample %%\n",
    "cfg = [];\n",
    "cfg.resamplefs = 1080;\n",
    "data = ft_resampledata(cfg, data);"
   ]
  },
  {
   "cell_type": "code",
   "execution_count": 11,
   "id": "4c867e4c-e47b-49cd-8450-a01f85c053ff",
   "metadata": {},
   "outputs": [
    {
     "name": "stdout",
     "output_type": "stream",
     "text": [
      "Warning: the data does not contain a trial definition\n",
      " In '/home/brooke/fieldtrip/fieldtrip-20191213/utilities/private/fixsampleinfo.m' at line 80\n",
      " In '/home/brooke/fieldtrip/fieldtrip-20191213/utilities/ft_datatype_raw.m' at line 147\n",
      " In '/home/brooke/fieldtrip/fieldtrip-20191213/utilities/ft_checkdata.m' at line 268\n",
      " In '/home/brooke/fieldtrip/fieldtrip-20191213/ft_preprocessing.m' at line 281\n",
      "\n",
      "Warning: reconstructing sampleinfo by assuming that the trials are consecutive segments of a continuous recording\n",
      "> In fixsampleinfo (line 94)\n",
      "In ft_datatype_raw (line 147)\n",
      "In ft_checkdata (line 268)\n",
      "In ft_preprocessing (line 281)\n",
      "the call to \"ft_selectdata\" took 0 seconds and required the additional allocation of an estimated 2 MB\n",
      "preprocessing\n",
      "preprocessing trial 1 from 1\n",
      "the call to \"ft_preprocessing\" took 146 seconds and required the additional allocation of an estimated 6705 MB\n"
     ]
    }
   ],
   "source": [
    "%% Detrend and notch clinical data\n",
    "HPcutoff = 1; % high-pass filter cutoff\n",
    "LPcutoff = 200; % low-pass filter cutoff change to 150\n",
    "powerLineF0 = 60;\n",
    "cfg = [];\n",
    "cfg.bsfilter = 'yes';\n",
    "cfg.bsfreq = (powerLineF0 * (1:round((LPcutoff+powerLineF0)/powerLineF0)) + [-1; 1])';\n",
    "if data.fsample <= 512\n",
    "    cfg.bsfreq = cfg.bsfreq(1:end-1, :); % for fs=512Hz, e.g. OS13, OS21\n",
    "end\n",
    "cfg.bsfiltord = 3;\n",
    "cfg.hpfilter = 'yes';\n",
    "cfg.hpfreq = HPcutoff;\n",
    "cfg.hpfiltord = 3;\n",
    "cfg.lpfilter = 'yes';\n",
    "cfg.lpfreq = LPcutoff;\n",
    "cfg.lpfiltord = 3;\n",
    "filtered_data = ft_preprocessing(cfg, data);\n"
   ]
  },
  {
   "cell_type": "code",
   "execution_count": 12,
   "id": "dc7f3c7f-8afc-48d3-9a59-697ddb34c35b",
   "metadata": {},
   "outputs": [
    {
     "name": "stdout",
     "output_type": "stream",
     "text": [
      "the input is raw data with 273 channels and 1 trials\n",
      "Warning: the data has been resampled, not showing the events\n",
      "detected   0 visual artifacts\n",
      "the call to \"ft_prepare_layout\" took 0 seconds and required the additional allocation of an estimated 1 MB\n",
      "the call to \"ft_databrowser\" took 8 seconds and required the additional allocation of an estimated 6772 MB\n"
     ]
    }
   ],
   "source": [
    "%plot native\n",
    "%% display %%\n",
    "cfg = [];\n",
    "cfg.viewmode = 'vertical';\n",
    "cfg.preproc.demean = 'yes';\n",
    "% cfg.blocksize = 10;\n",
    "% cfg.channel = goodChansDispIdx;\n",
    "% cfg.position = pos2;\n",
    "% cfg.ylim = [-1 1] * .0005;\n",
    "ft_databrowser(cfg, filtered_data);"
   ]
  },
  {
   "cell_type": "code",
   "execution_count": null,
   "id": "cdad7281-07f9-4e94-ac6e-6496b32695e4",
   "metadata": {},
   "outputs": [],
   "source": [
    "%% display %%\n",
    "cfg = [];\n",
    "cfg.viewmode = 'vertical';\n",
    "cfg.preproc.demean = 'yes';\n",
    "% cfg.blocksize = 10;\n",
    "% cfg.channel = goodChansDispIdx;\n",
    "% cfg.position = pos2;\n",
    "% cfg.ylim = [-1 1] * .0005;\n",
    "ft_databrowser(cfg, data);"
   ]
  },
  {
   "cell_type": "code",
   "execution_count": null,
   "id": "06316496-e9f7-43c3-ba79-4dc74db26659",
   "metadata": {},
   "outputs": [],
   "source": [
    "data"
   ]
  },
  {
   "cell_type": "markdown",
   "id": "67f1cd29-5a6b-48f7-b851-e01a2c83ef8d",
   "metadata": {},
   "source": [
    "# Cleaning Notes with Bob\n",
    "## 1/19/2022\n",
    "\n",
    "Clean data, but with a lot of spiking activity\n",
    "\n",
    "Epileptic channels: Gl1, GL2, GL3, HL1, HL2\n",
    "\n",
    "Noisy channels: BL1, F8, EL1, EL2 , HL14, HL15, HL16\n",
    "\n",
    "Epochs that may need to be removed (depending on how the data looks after removing epileptic channels + nearby channels): LOOK AT THIS AGAIN FOR THIS PATEINT\n",
    "`116-117, 127.5:129, 160-161.5, 343-345, 540-541, 6216-623, 681-683`\n"
   ]
  },
  {
   "cell_type": "code",
   "execution_count": null,
   "id": "e33a7b0c-d6d9-4ae3-8506-da10f58aeb1d",
   "metadata": {},
   "outputs": [],
   "source": []
  }
 ],
 "metadata": {
  "kernelspec": {
   "display_name": "Matlab",
   "language": "matlab",
   "name": "matlab"
  },
  "language_info": {
   "codemirror_mode": "octave",
   "file_extension": ".m",
   "help_links": [
    {
     "text": "MetaKernel Magics",
     "url": "https://metakernel.readthedocs.io/en/latest/source/README.html"
    }
   ],
   "mimetype": "text/x-octave",
   "name": "matlab",
   "version": "0.16.11"
  }
 },
 "nbformat": 4,
 "nbformat_minor": 5
}

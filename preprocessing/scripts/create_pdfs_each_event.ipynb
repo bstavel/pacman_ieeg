{
 "cells": [
  {
   "cell_type": "code",
   "execution_count": 1,
   "id": "34e37d66",
   "metadata": {},
   "outputs": [],
   "source": [
    "from PIL import Image, ImageOps\n",
    "from reportlab.pdfgen import canvas\n",
    "from reportlab.lib.pagesizes import landscape, letter\n",
    "from reportlab.lib import colors\n"
   ]
  },
  {
   "cell_type": "code",
   "execution_count": 141,
   "id": "a31dd08b",
   "metadata": {},
   "outputs": [],
   "source": [
    "def create_pdf(image_paths, titles, output_path):\n",
    "    c = canvas.Canvas(output_path, pagesize=(8000.0, 4000.0))\n",
    "    width, height = (8000.0, 4000.0)\n",
    "    print(width)\n",
    "    print(height)\n",
    "\n",
    "    top_row_y = height\n",
    "    bottom_row_y = height / 2\n",
    "\n",
    "    image_width = width / 4\n",
    "    image_height = height / 2\n",
    "\n",
    "    # Draw a white background\n",
    "    c.setFillColor(\"white\")\n",
    "    c.rect(0, 0, width, height, fill=True, stroke=False)\n",
    "\n",
    "    for i, (img_path, title) in enumerate(zip(image_paths, titles)):\n",
    "        img = Image.open(img_path)\n",
    "        print(f'image size: {img.size}')\n",
    "        # Replace transparent parts of the image with white\n",
    "        white_bg = Image.new(\"RGBA\", img.size, (255, 255, 255, 255))\n",
    "        img = Image.alpha_composite(white_bg, img)\n",
    "\n",
    "        # Resize and pad images to fit the desired dimensions\n",
    "        img_ratio = img.width / img.height\n",
    "        target_ratio = image_width / image_height\n",
    "        \n",
    "        new_width = 2000\n",
    "        new_height = 2000\n",
    "\n",
    "\n",
    "        img = img.resize((new_width, new_height))\n",
    "\n",
    "        img = ImageOps.expand(img, (\n",
    "            (int(image_width) - img.width) // 2,\n",
    "            (int(image_height) - img.height) // 2,\n",
    "            (int(image_width) - img.width + 1) // 2,\n",
    "            (int(image_height) - img.height + 1) // 2,\n",
    "        ), fill=\"white\")\n",
    "\n",
    "        if i < 4:  # top row\n",
    "            img_x = i * image_width\n",
    "            img_y = top_row_y - img.height\n",
    "        else:  # bottom row\n",
    "            img_x = (i - 4) * image_width\n",
    "            img_y = bottom_row_y - img.height\n",
    "            \n",
    "        # Draw the title above the image\n",
    "        c.setFont(\"Helvetica\", 12)\n",
    "        c.setFillColor(colors.black)\n",
    "        title_x = img_x + (image_width - c.stringWidth(title, \"Helvetica\", 16)) / 2\n",
    "        title_y = img_y + img.height\n",
    "        c.drawString(title_x, title_y, title)            \n",
    "\n",
    "        c.drawInlineImage(img, img_x, img_y)\n",
    "        img.close()\n",
    "\n",
    "    c.showPage()\n",
    "    c.save()"
   ]
  },
  {
   "cell_type": "code",
   "execution_count": 3,
   "id": "d04b1fdc",
   "metadata": {},
   "outputs": [],
   "source": [
    "sub_list = ['BJH025', 'BJH021', 'LL13', 'LL12', 'LL10', 'SLCH002', 'BJH016']"
   ]
  },
  {
   "cell_type": "markdown",
   "id": "19a3df87",
   "metadata": {},
   "source": [
    "## Conflict"
   ]
  },
  {
   "cell_type": "code",
   "execution_count": 142,
   "id": "3c6d3d15",
   "metadata": {},
   "outputs": [
    {
     "name": "stdout",
     "output_type": "stream",
     "text": [
      "8000.0\n",
      "4000.0\n",
      "image size: (13200, 12000)\n",
      "image size: (13200, 12000)\n",
      "image size: (13200, 12000)\n",
      "image size: (13200, 12000)\n",
      "image size: (13200, 12000)\n",
      "image size: (13200, 12000)\n",
      "image size: (13200, 12000)\n"
     ]
    }
   ],
   "source": [
    "image_paths = []\n",
    "for sub in sub_list:\n",
    "    image_paths.append(f'./{sub}/{sub}_average_hc_conflict.png')\n",
    "    \n",
    "create_pdf(image_paths, sub_list, 'hc_conflict.pdf')"
   ]
  },
  {
   "cell_type": "code",
   "execution_count": 143,
   "id": "50d38b0f",
   "metadata": {},
   "outputs": [
    {
     "name": "stdout",
     "output_type": "stream",
     "text": [
      "8000.0\n",
      "4000.0\n",
      "image size: (13200, 12000)\n",
      "image size: (13200, 12000)\n",
      "image size: (13200, 12000)\n",
      "image size: (13200, 12000)\n",
      "image size: (13200, 12000)\n",
      "image size: (8400, 6600)\n",
      "image size: (13200, 12000)\n"
     ]
    }
   ],
   "source": [
    "image_paths = []\n",
    "for sub in sub_list:\n",
    "    image_paths.append(f'./{sub}/{sub}_average_ofc_conflict.png')\n",
    "    \n",
    "create_pdf(image_paths, sub_list, 'ofc_conflict.pdf')"
   ]
  },
  {
   "cell_type": "code",
   "execution_count": 144,
   "id": "a11219c0",
   "metadata": {},
   "outputs": [
    {
     "name": "stdout",
     "output_type": "stream",
     "text": [
      "8000.0\n",
      "4000.0\n",
      "image size: (13200, 12000)\n",
      "image size: (13200, 12000)\n",
      "image size: (13200, 12000)\n",
      "image size: (13200, 12000)\n",
      "image size: (13200, 12000)\n",
      "image size: (13200, 12000)\n",
      "image size: (13200, 12000)\n"
     ]
    }
   ],
   "source": [
    "image_paths = []\n",
    "for sub in sub_list:\n",
    "    image_paths.append(f'./{sub}/{sub}_average_cing_conflict.png')\n",
    "    \n",
    "create_pdf(image_paths, sub_list, 'cing_conflict.pdf')"
   ]
  },
  {
   "cell_type": "code",
   "execution_count": 145,
   "id": "2f4979c6",
   "metadata": {},
   "outputs": [
    {
     "name": "stdout",
     "output_type": "stream",
     "text": [
      "8000.0\n",
      "4000.0\n",
      "image size: (13200, 12000)\n",
      "image size: (13200, 12000)\n",
      "image size: (13200, 12000)\n",
      "image size: (13200, 12000)\n",
      "image size: (13200, 12000)\n",
      "image size: (13200, 12000)\n",
      "image size: (13200, 12000)\n"
     ]
    }
   ],
   "source": [
    "image_paths = []\n",
    "for sub in sub_list:\n",
    "    image_paths.append(f'./{sub}/{sub}_average_amyg_conflict.png')\n",
    "    \n",
    "create_pdf(image_paths, sub_list, 'amyg_conflict.pdf')"
   ]
  },
  {
   "cell_type": "code",
   "execution_count": 146,
   "id": "26bb3fea",
   "metadata": {},
   "outputs": [
    {
     "name": "stdout",
     "output_type": "stream",
     "text": [
      "8000.0\n",
      "4000.0\n",
      "image size: (13200, 12000)\n",
      "image size: (13200, 12000)\n",
      "image size: (13200, 12000)\n",
      "image size: (13200, 12000)\n",
      "image size: (13200, 12000)\n"
     ]
    }
   ],
   "source": [
    "image_paths = []\n",
    "for sub in sub_list:\n",
    "    if sub == \"LL13\" or sub == \"LL10\":\n",
    "        continue\n",
    "    image_paths.append(f'./{sub}/{sub}_average_insula_conflict.png')\n",
    "    \n",
    "create_pdf(image_paths, sub_list, 'insula_conflict.pdf')"
   ]
  },
  {
   "cell_type": "code",
   "execution_count": 147,
   "id": "9da57fa2",
   "metadata": {},
   "outputs": [
    {
     "name": "stdout",
     "output_type": "stream",
     "text": [
      "8000.0\n",
      "4000.0\n",
      "image size: (13200, 12000)\n",
      "image size: (13200, 12000)\n",
      "image size: (13200, 12000)\n",
      "image size: (13200, 12000)\n",
      "image size: (13200, 12000)\n",
      "image size: (13200, 12000)\n"
     ]
    }
   ],
   "source": [
    "image_paths = []\n",
    "for sub in sub_list:\n",
    "    if sub == \"SLCH002\":\n",
    "        continue    \n",
    "    image_paths.append(f'./{sub}/{sub}_average_dlpfc_conflict.png')\n",
    "    \n",
    "create_pdf(image_paths, sub_list, 'dlpfc_conflict.pdf')"
   ]
  },
  {
   "cell_type": "markdown",
   "id": "e1b6eef5",
   "metadata": {},
   "source": [
    "## Trial Onset"
   ]
  },
  {
   "cell_type": "code",
   "execution_count": 172,
   "id": "02730309",
   "metadata": {},
   "outputs": [
    {
     "name": "stdout",
     "output_type": "stream",
     "text": [
      "8000.0\n",
      "4000.0\n",
      "image size: (13200, 12000)\n",
      "image size: (13200, 12000)\n",
      "image size: (13200, 12000)\n",
      "image size: (13200, 12000)\n",
      "image size: (13200, 12000)\n",
      "image size: (13200, 12000)\n",
      "image size: (13200, 12000)\n"
     ]
    }
   ],
   "source": [
    "image_paths = []\n",
    "for sub in sub_list:\n",
    "    image_paths.append(f'./{sub}/{sub}_average_hc_trialonset.png')\n",
    "    \n",
    "create_pdf(image_paths, sub_list, 'hc_trialonset.pdf')"
   ]
  },
  {
   "cell_type": "code",
   "execution_count": 173,
   "id": "22430a8a",
   "metadata": {},
   "outputs": [
    {
     "name": "stdout",
     "output_type": "stream",
     "text": [
      "8000.0\n",
      "4000.0\n",
      "image size: (13200, 12000)\n",
      "image size: (13200, 12000)\n",
      "image size: (13200, 12000)\n",
      "image size: (13200, 12000)\n",
      "image size: (13200, 12000)\n",
      "image size: (13200, 12000)\n",
      "image size: (13200, 12000)\n"
     ]
    }
   ],
   "source": [
    "image_paths = []\n",
    "for sub in sub_list:\n",
    "    image_paths.append(f'./{sub}/{sub}_average_ofc_trialonset.png')\n",
    "    \n",
    "create_pdf(image_paths, sub_list, 'ofc_trialonset.pdf')"
   ]
  },
  {
   "cell_type": "code",
   "execution_count": 174,
   "id": "81b69139",
   "metadata": {},
   "outputs": [
    {
     "name": "stdout",
     "output_type": "stream",
     "text": [
      "8000.0\n",
      "4000.0\n",
      "image size: (13200, 12000)\n",
      "image size: (13200, 12000)\n",
      "image size: (13200, 12000)\n",
      "image size: (13200, 12000)\n",
      "image size: (13200, 12000)\n",
      "image size: (13200, 12000)\n",
      "image size: (13200, 12000)\n"
     ]
    }
   ],
   "source": [
    "image_paths = []\n",
    "for sub in sub_list:\n",
    "    image_paths.append(f'./{sub}/{sub}_average_cing_trialonset.png')\n",
    "    \n",
    "create_pdf(image_paths, sub_list, 'cing_trialonset.pdf')"
   ]
  },
  {
   "cell_type": "code",
   "execution_count": 175,
   "id": "dd99f50d",
   "metadata": {},
   "outputs": [
    {
     "name": "stdout",
     "output_type": "stream",
     "text": [
      "8000.0\n",
      "4000.0\n",
      "image size: (13200, 12000)\n",
      "image size: (13200, 12000)\n",
      "image size: (13200, 12000)\n",
      "image size: (13200, 12000)\n",
      "image size: (13200, 12000)\n",
      "image size: (13200, 12000)\n",
      "image size: (13200, 12000)\n"
     ]
    }
   ],
   "source": [
    "image_paths = []\n",
    "for sub in sub_list:\n",
    "    image_paths.append(f'./{sub}/{sub}_average_amyg_trialonset.png')\n",
    "    \n",
    "create_pdf(image_paths, sub_list, 'amyg_trialonset.pdf')"
   ]
  },
  {
   "cell_type": "code",
   "execution_count": 176,
   "id": "250023e5",
   "metadata": {},
   "outputs": [
    {
     "name": "stdout",
     "output_type": "stream",
     "text": [
      "8000.0\n",
      "4000.0\n",
      "image size: (13200, 12000)\n",
      "image size: (13200, 12000)\n",
      "image size: (13200, 12000)\n",
      "image size: (13200, 12000)\n"
     ]
    }
   ],
   "source": [
    "image_paths = []\n",
    "for sub in sub_list:\n",
    "    if sub == \"LL13\" or sub == \"LL10\" or sub == \"BJH016\":\n",
    "        continue\n",
    "    image_paths.append(f'./{sub}/{sub}_average_insula_trialonset.png')\n",
    "    \n",
    "create_pdf(image_paths, sub_list, 'insula_trialonset.pdf')"
   ]
  },
  {
   "cell_type": "code",
   "execution_count": 177,
   "id": "48ceee91",
   "metadata": {},
   "outputs": [
    {
     "name": "stdout",
     "output_type": "stream",
     "text": [
      "8000.0\n",
      "4000.0\n",
      "image size: (13200, 12000)\n",
      "image size: (13200, 12000)\n",
      "image size: (13200, 12000)\n",
      "image size: (13200, 12000)\n",
      "image size: (13200, 12000)\n"
     ]
    }
   ],
   "source": [
    "image_paths = []\n",
    "for sub in sub_list:\n",
    "    if sub == \"SLCH002\" or sub == \"BJH016\":\n",
    "        continue    \n",
    "    image_paths.append(f'./{sub}/{sub}_average_dlpfc_trialonset.png')\n",
    "    \n",
    "create_pdf(image_paths, sub_list, 'dlpfc_trialonset.pdf')"
   ]
  },
  {
   "cell_type": "markdown",
   "id": "27669f80",
   "metadata": {},
   "source": [
    "## Escape"
   ]
  },
  {
   "cell_type": "code",
   "execution_count": 154,
   "id": "cea42e0b",
   "metadata": {},
   "outputs": [
    {
     "name": "stdout",
     "output_type": "stream",
     "text": [
      "8000.0\n",
      "4000.0\n",
      "image size: (13200, 12000)\n",
      "image size: (13200, 12000)\n",
      "image size: (13200, 12000)\n",
      "image size: (13200, 12000)\n",
      "image size: (13200, 12000)\n",
      "image size: (13200, 12000)\n"
     ]
    }
   ],
   "source": [
    "image_paths = []\n",
    "for sub in sub_list:\n",
    "    if sub == \"BJH025\":\n",
    "        continue   \n",
    "    image_paths.append(f'./{sub}/{sub}_average_hc_escape.png')\n",
    "    \n",
    "create_pdf(image_paths, sub_list, 'hc_escape.pdf')"
   ]
  },
  {
   "cell_type": "code",
   "execution_count": 155,
   "id": "15927dec",
   "metadata": {},
   "outputs": [
    {
     "name": "stdout",
     "output_type": "stream",
     "text": [
      "8000.0\n",
      "4000.0\n",
      "image size: (13200, 12000)\n",
      "image size: (13200, 12000)\n",
      "image size: (13200, 12000)\n",
      "image size: (13200, 12000)\n",
      "image size: (13200, 12000)\n",
      "image size: (13200, 12000)\n"
     ]
    }
   ],
   "source": [
    "image_paths = []\n",
    "for sub in sub_list:\n",
    "    if sub == \"BJH025\":\n",
    "        continue      \n",
    "    image_paths.append(f'./{sub}/{sub}_average_ofc_escape.png')\n",
    "    \n",
    "create_pdf(image_paths, sub_list, 'ofc_escape.pdf')"
   ]
  },
  {
   "cell_type": "code",
   "execution_count": 156,
   "id": "5a3b5ab7",
   "metadata": {},
   "outputs": [
    {
     "name": "stdout",
     "output_type": "stream",
     "text": [
      "8000.0\n",
      "4000.0\n",
      "image size: (13200, 12000)\n",
      "image size: (13200, 12000)\n",
      "image size: (13200, 12000)\n",
      "image size: (13200, 12000)\n",
      "image size: (13200, 12000)\n",
      "image size: (13200, 12000)\n"
     ]
    }
   ],
   "source": [
    "image_paths = []\n",
    "for sub in sub_list:\n",
    "    if sub == \"BJH025\":\n",
    "        continue      \n",
    "    image_paths.append(f'./{sub}/{sub}_average_cing_escape.png')\n",
    "    \n",
    "create_pdf(image_paths, sub_list, 'cing_escape.pdf')"
   ]
  },
  {
   "cell_type": "code",
   "execution_count": 157,
   "id": "436eac24",
   "metadata": {},
   "outputs": [
    {
     "name": "stdout",
     "output_type": "stream",
     "text": [
      "8000.0\n",
      "4000.0\n",
      "image size: (13200, 12000)\n",
      "image size: (13200, 12000)\n",
      "image size: (13200, 12000)\n",
      "image size: (13200, 12000)\n",
      "image size: (13200, 12000)\n",
      "image size: (13200, 12000)\n"
     ]
    }
   ],
   "source": [
    "image_paths = []\n",
    "for sub in sub_list:\n",
    "    if sub == \"BJH025\":\n",
    "        continue      \n",
    "    image_paths.append(f'./{sub}/{sub}_average_amyg_escape.png')\n",
    "    \n",
    "create_pdf(image_paths, sub_list, 'amyg_escape.pdf')"
   ]
  },
  {
   "cell_type": "code",
   "execution_count": 158,
   "id": "d05a143e",
   "metadata": {},
   "outputs": [
    {
     "name": "stdout",
     "output_type": "stream",
     "text": [
      "8000.0\n",
      "4000.0\n",
      "image size: (13200, 12000)\n",
      "image size: (13200, 12000)\n",
      "image size: (13200, 12000)\n",
      "image size: (13200, 12000)\n"
     ]
    }
   ],
   "source": [
    "image_paths = []\n",
    "for sub in sub_list:\n",
    "    if sub == \"LL13\" or sub == \"LL10\" or sub == \"BJH025\":\n",
    "        continue\n",
    "    image_paths.append(f'./{sub}/{sub}_average_insula_escape.png')\n",
    "    \n",
    "create_pdf(image_paths, sub_list, 'insula_escape.pdf')"
   ]
  },
  {
   "cell_type": "code",
   "execution_count": 159,
   "id": "bc63f0fe",
   "metadata": {},
   "outputs": [
    {
     "name": "stdout",
     "output_type": "stream",
     "text": [
      "8000.0\n",
      "4000.0\n",
      "image size: (13200, 12000)\n",
      "image size: (13200, 12000)\n",
      "image size: (13200, 12000)\n",
      "image size: (13200, 12000)\n",
      "image size: (13200, 12000)\n"
     ]
    }
   ],
   "source": [
    "image_paths = []\n",
    "for sub in sub_list:\n",
    "    if sub == \"SLCH002\" or sub == \"BJH025\":\n",
    "        continue    \n",
    "    image_paths.append(f'./{sub}/{sub}_average_dlpfc_escape.png')\n",
    "    \n",
    "create_pdf(image_paths, sub_list, 'dlpfc_escape.pdf')"
   ]
  },
  {
   "cell_type": "markdown",
   "id": "0a1751d7",
   "metadata": {},
   "source": [
    "## Chase"
   ]
  },
  {
   "cell_type": "code",
   "execution_count": 160,
   "id": "0cca1944",
   "metadata": {},
   "outputs": [
    {
     "name": "stdout",
     "output_type": "stream",
     "text": [
      "8000.0\n",
      "4000.0\n",
      "image size: (13200, 12000)\n",
      "image size: (13200, 12000)\n",
      "image size: (13200, 12000)\n",
      "image size: (13200, 12000)\n",
      "image size: (13200, 12000)\n",
      "image size: (13200, 12000)\n"
     ]
    }
   ],
   "source": [
    "image_paths = []\n",
    "for sub in sub_list:\n",
    "    if sub == \"BJH025\":\n",
    "        continue   \n",
    "    image_paths.append(f'./{sub}/{sub}_average_hc_chase.png')\n",
    "    \n",
    "create_pdf(image_paths, sub_list, 'hc_chase.pdf')"
   ]
  },
  {
   "cell_type": "code",
   "execution_count": 161,
   "id": "ef6c1be9",
   "metadata": {},
   "outputs": [
    {
     "name": "stdout",
     "output_type": "stream",
     "text": [
      "8000.0\n",
      "4000.0\n",
      "image size: (13200, 12000)\n",
      "image size: (13200, 12000)\n",
      "image size: (13200, 12000)\n",
      "image size: (13200, 12000)\n",
      "image size: (13200, 12000)\n",
      "image size: (13200, 12000)\n"
     ]
    }
   ],
   "source": [
    "image_paths = []\n",
    "for sub in sub_list:\n",
    "    if sub == \"BJH025\":\n",
    "        continue      \n",
    "    image_paths.append(f'./{sub}/{sub}_average_ofc_chase.png')\n",
    "    \n",
    "create_pdf(image_paths, sub_list, 'ofc_chase.pdf')"
   ]
  },
  {
   "cell_type": "code",
   "execution_count": 162,
   "id": "1cdc6cfe",
   "metadata": {},
   "outputs": [
    {
     "name": "stdout",
     "output_type": "stream",
     "text": [
      "8000.0\n",
      "4000.0\n",
      "image size: (13200, 12000)\n",
      "image size: (13200, 12000)\n",
      "image size: (13200, 12000)\n",
      "image size: (13200, 12000)\n",
      "image size: (13200, 12000)\n",
      "image size: (13200, 12000)\n"
     ]
    }
   ],
   "source": [
    "image_paths = []\n",
    "for sub in sub_list:\n",
    "    if sub == \"BJH025\":\n",
    "        continue      \n",
    "    image_paths.append(f'./{sub}/{sub}_average_cing_chase.png')\n",
    "    \n",
    "create_pdf(image_paths, sub_list, 'cing_chase.pdf')"
   ]
  },
  {
   "cell_type": "code",
   "execution_count": 163,
   "id": "020fac39",
   "metadata": {},
   "outputs": [
    {
     "name": "stdout",
     "output_type": "stream",
     "text": [
      "8000.0\n",
      "4000.0\n",
      "image size: (13200, 12000)\n",
      "image size: (13200, 12000)\n",
      "image size: (13200, 12000)\n",
      "image size: (13200, 12000)\n",
      "image size: (13200, 12000)\n",
      "image size: (13200, 12000)\n"
     ]
    }
   ],
   "source": [
    "image_paths = []\n",
    "for sub in sub_list:\n",
    "    if sub == \"BJH025\":\n",
    "        continue      \n",
    "    image_paths.append(f'./{sub}/{sub}_average_amyg_chase.png')\n",
    "    \n",
    "create_pdf(image_paths, sub_list, 'amyg_chase.pdf')"
   ]
  },
  {
   "cell_type": "code",
   "execution_count": 164,
   "id": "2283d949",
   "metadata": {},
   "outputs": [
    {
     "name": "stdout",
     "output_type": "stream",
     "text": [
      "8000.0\n",
      "4000.0\n",
      "image size: (13200, 12000)\n",
      "image size: (13200, 12000)\n",
      "image size: (13200, 12000)\n",
      "image size: (13200, 12000)\n"
     ]
    }
   ],
   "source": [
    "image_paths = []\n",
    "for sub in sub_list:\n",
    "    if sub == \"LL13\" or sub == \"LL10\" or sub == \"BJH025\":\n",
    "        continue\n",
    "    image_paths.append(f'./{sub}/{sub}_average_insula_chase.png')\n",
    "    \n",
    "create_pdf(image_paths, sub_list, 'insula_chase.pdf')"
   ]
  },
  {
   "cell_type": "code",
   "execution_count": 165,
   "id": "5d19514b",
   "metadata": {},
   "outputs": [
    {
     "name": "stdout",
     "output_type": "stream",
     "text": [
      "8000.0\n",
      "4000.0\n",
      "image size: (13200, 12000)\n",
      "image size: (13200, 12000)\n",
      "image size: (13200, 12000)\n",
      "image size: (13200, 12000)\n",
      "image size: (13200, 12000)\n"
     ]
    }
   ],
   "source": [
    "image_paths = []\n",
    "for sub in sub_list:\n",
    "    if sub == \"SLCH002\" or sub == \"BJH025\":\n",
    "        continue    \n",
    "    image_paths.append(f'./{sub}/{sub}_average_dlpfc_chase.png')\n",
    "    \n",
    "create_pdf(image_paths, sub_list, 'dlpfc_chase.pdf')"
   ]
  },
  {
   "cell_type": "markdown",
   "id": "d0e487a4",
   "metadata": {},
   "source": [
    "## Died"
   ]
  },
  {
   "cell_type": "code",
   "execution_count": 166,
   "id": "c74fba88",
   "metadata": {},
   "outputs": [
    {
     "name": "stdout",
     "output_type": "stream",
     "text": [
      "8000.0\n",
      "4000.0\n",
      "image size: (13200, 12000)\n",
      "image size: (13200, 12000)\n",
      "image size: (13200, 12000)\n",
      "image size: (13200, 12000)\n",
      "image size: (13200, 12000)\n",
      "image size: (13200, 12000)\n"
     ]
    }
   ],
   "source": [
    "image_paths = []\n",
    "for sub in sub_list:\n",
    "    if sub == \"BJH025\":\n",
    "        continue   \n",
    "    image_paths.append(f'./{sub}/{sub}_average_hc_died.png')\n",
    "    \n",
    "create_pdf(image_paths, sub_list, 'hc_died.pdf')"
   ]
  },
  {
   "cell_type": "code",
   "execution_count": 167,
   "id": "c807780a",
   "metadata": {},
   "outputs": [
    {
     "name": "stdout",
     "output_type": "stream",
     "text": [
      "8000.0\n",
      "4000.0\n",
      "image size: (8400, 6600)\n",
      "image size: (8400, 6600)\n",
      "image size: (8400, 6600)\n",
      "image size: (3600, 2400)\n",
      "image size: (8400, 6600)\n",
      "image size: (8400, 6600)\n"
     ]
    }
   ],
   "source": [
    "image_paths = []\n",
    "for sub in sub_list:\n",
    "    if sub == \"BJH025\":\n",
    "        continue      \n",
    "    image_paths.append(f'./{sub}/{sub}_average_ofc_died.png')\n",
    "    \n",
    "create_pdf(image_paths, sub_list, 'ofc_died.pdf')"
   ]
  },
  {
   "cell_type": "code",
   "execution_count": 168,
   "id": "61798a38",
   "metadata": {},
   "outputs": [
    {
     "name": "stdout",
     "output_type": "stream",
     "text": [
      "8000.0\n",
      "4000.0\n",
      "image size: (13200, 12000)\n",
      "image size: (13200, 12000)\n",
      "image size: (13200, 12000)\n",
      "image size: (13200, 12000)\n",
      "image size: (13200, 12000)\n",
      "image size: (13200, 12000)\n"
     ]
    }
   ],
   "source": [
    "image_paths = []\n",
    "for sub in sub_list:\n",
    "    if sub == \"BJH025\":\n",
    "        continue      \n",
    "    image_paths.append(f'./{sub}/{sub}_average_cing_died.png')\n",
    "    \n",
    "create_pdf(image_paths, sub_list, 'cing_died.pdf')"
   ]
  },
  {
   "cell_type": "code",
   "execution_count": 169,
   "id": "57686ce7",
   "metadata": {},
   "outputs": [
    {
     "name": "stdout",
     "output_type": "stream",
     "text": [
      "8000.0\n",
      "4000.0\n",
      "image size: (13200, 12000)\n",
      "image size: (13200, 12000)\n",
      "image size: (13200, 12000)\n",
      "image size: (13200, 12000)\n",
      "image size: (13200, 12000)\n",
      "image size: (13200, 12000)\n"
     ]
    }
   ],
   "source": [
    "image_paths = []\n",
    "for sub in sub_list:\n",
    "    if sub == \"BJH025\":\n",
    "        continue      \n",
    "    image_paths.append(f'./{sub}/{sub}_average_amyg_died.png')\n",
    "    \n",
    "create_pdf(image_paths, sub_list, 'amyg_died.pdf')"
   ]
  },
  {
   "cell_type": "code",
   "execution_count": 170,
   "id": "fc660bb1",
   "metadata": {},
   "outputs": [
    {
     "name": "stdout",
     "output_type": "stream",
     "text": [
      "8000.0\n",
      "4000.0\n",
      "image size: (13200, 12000)\n",
      "image size: (13200, 12000)\n",
      "image size: (13200, 12000)\n",
      "image size: (13200, 12000)\n"
     ]
    }
   ],
   "source": [
    "image_paths = []\n",
    "for sub in sub_list:\n",
    "    if sub == \"LL13\" or sub == \"LL10\" or sub == \"BJH025\":\n",
    "        continue\n",
    "    image_paths.append(f'./{sub}/{sub}_average_insula_died.png')\n",
    "    \n",
    "create_pdf(image_paths, sub_list, 'insula_died.pdf')"
   ]
  },
  {
   "cell_type": "code",
   "execution_count": 171,
   "id": "258737a3",
   "metadata": {},
   "outputs": [
    {
     "name": "stdout",
     "output_type": "stream",
     "text": [
      "8000.0\n",
      "4000.0\n",
      "image size: (13200, 12000)\n",
      "image size: (13200, 12000)\n",
      "image size: (13200, 12000)\n",
      "image size: (13200, 12000)\n"
     ]
    }
   ],
   "source": [
    "image_paths = []\n",
    "for sub in sub_list:\n",
    "    if sub == \"SLCH002\" or sub == \"BJH025\" or sub == \"BJH021\":\n",
    "        continue    \n",
    "    image_paths.append(f'./{sub}/{sub}_average_dlpfc_died.png')\n",
    "    \n",
    "create_pdf(image_paths, sub_list, 'dlpfc_died.pdf')"
   ]
  },
  {
   "cell_type": "code",
   "execution_count": null,
   "id": "eec0d26f",
   "metadata": {},
   "outputs": [],
   "source": []
  },
  {
   "cell_type": "code",
   "execution_count": null,
   "id": "d2204170",
   "metadata": {},
   "outputs": [],
   "source": []
  }
 ],
 "metadata": {
  "kernelspec": {
   "display_name": "Python 3 (ipykernel)",
   "language": "python",
   "name": "python3"
  },
  "language_info": {
   "codemirror_mode": {
    "name": "ipython",
    "version": 3
   },
   "file_extension": ".py",
   "mimetype": "text/x-python",
   "name": "python",
   "nbconvert_exporter": "python",
   "pygments_lexer": "ipython3",
   "version": "3.8.12"
  }
 },
 "nbformat": 4,
 "nbformat_minor": 5
}

{
 "cells": [
  {
   "cell_type": "code",
   "execution_count": 3,
   "id": "34e37d66",
   "metadata": {},
   "outputs": [],
   "source": [
    "from PIL import Image, ImageDraw, ImageFont\n",
    "from PyPDF2 import PdfMerger\n",
    "import os"
   ]
  },
  {
   "cell_type": "code",
   "execution_count": 4,
   "id": "730be9f2",
   "metadata": {},
   "outputs": [],
   "source": [
    "def create_subject_roi_event_pdf(sub, roi):\n",
    "    \n",
    "    ## create file list\n",
    "    rivendel_dir = '/home/brooke/pacman/preprocessing'\n",
    "    image_paths = []\n",
    "    image_paths.append(f'{rivendel_dir}/{sub}/scripts/figures/{sub}_average_{roi}_trialonset.png')\n",
    "    image_paths.append(f'{rivendel_dir}/{sub}/scripts/figures/{sub}_average_{roi}_firstmove.png')\n",
    "    image_paths.append(f'{rivendel_dir}/{sub}/scripts/figures/{sub}_average_{roi}_firstdot.png')\n",
    "    image_paths.append(f'{rivendel_dir}/{sub}/scripts/figures/{sub}_average_{roi}_conflict.png')\n",
    "    image_paths.append(f'{rivendel_dir}/{sub}/scripts/figures/{sub}_average_{roi}_noconflict.png')\n",
    "    image_paths.append(f'{rivendel_dir}/{sub}/scripts/figures/{sub}_average_{roi}_ghostattack.png')\n",
    "    image_paths.append(f'{rivendel_dir}/{sub}/scripts/figures/{sub}_average_{roi}_escape.png')\n",
    "    image_paths.append(f'{rivendel_dir}/{sub}/scripts/figures/{sub}_average_{roi}_chase.png')\n",
    "    image_paths.append(f'{rivendel_dir}/{sub}/scripts/figures/{sub}_average_{roi}_died.png')\n",
    "    \n",
    "    ## creste pdf \n",
    "    pdf_width_in = 20  # in inches\n",
    "    pdf_height_in = 2.5  # in inches\n",
    "\n",
    "    image_width_in = 2.5  # target image width in inches\n",
    "\n",
    "    pdf_width_px = int(pdf_width_in * 300)  # width in pixels, using 300 DPI\n",
    "    pdf_height_px = int(pdf_height_in * 300)  # height in pixels, using 300 DPI\n",
    "    image_width_px = int(image_width_in * 300)  # image width in pixels, using 300 DPI\n",
    "\n",
    "    # Start with a blank white \"canvas\" for the PDF\n",
    "    pdf_img = Image.new('RGB', (pdf_width_px, pdf_height_px), 'white')\n",
    "\n",
    "    for i, img_path in enumerate(image_paths):\n",
    "        img = Image.open(img_path)\n",
    "\n",
    "        # If the image has an alpha channel, composite it over a white background\n",
    "        if img.mode == 'RGBA':\n",
    "            white_bg = Image.new('RGBA', img.size, (255, 255, 255, 255))  # full opacity\n",
    "            img = Image.alpha_composite(white_bg, img)\n",
    "\n",
    "        img = img.convert('RGB')\n",
    "\n",
    "        # Resize the image while maintaining its aspect ratio\n",
    "        wpercent = (image_width_px / float(img.size[0]))\n",
    "        hsize = int((float(img.size[1]) * float(wpercent)))\n",
    "        img = img.resize((image_width_px, hsize), Image.LANCZOS)\n",
    "\n",
    "        # Position the image on the PDF\n",
    "        img_x = i * int(2 * 300)  # Adjust for overlapping images\n",
    "        img_y = (pdf_height_px - hsize) // 2\n",
    "\n",
    "        # Paste the image onto the canvas\n",
    "        pdf_img.paste(img, (img_x, img_y))\n",
    "\n",
    "    # Create an ImageDraw object to add text\n",
    "    draw = ImageDraw.Draw(pdf_img)\n",
    "\n",
    "    # Specify the title and font properties\n",
    "    title_text = f'{sub} - {roi}'\n",
    "    font_size = 25  # Choose your font size\n",
    "    # Path to the default TrueType font (might vary based on your setup)\n",
    "    default_font_path = \"/usr/share/fonts/truetype/dejavu/DejaVuSans-Bold.ttf\"\n",
    "    if not os.path.exists(default_font_path):\n",
    "        default_font_path = \"arial.ttf\"  # Fallback to Arial if DejaVuSans is not found\n",
    "\n",
    "    font = ImageFont.truetype(default_font_path, font_size)\n",
    "\n",
    "    # Specify title position (example: top center)\n",
    "    title_x = pdf_img.width // 2\n",
    "    title_y = 60  # adjust this as needed\n",
    "\n",
    "    # Add text to image\n",
    "    draw.text((title_x, title_y), title_text, fill=\"black\", font=font, anchor=\"ms\")  # \"ms\" anchor aligns text middle-center\n",
    "\n",
    "    # Save the result as a PDF\n",
    "    pdf_img.save(f'/home/brooke/pacman/across_subject_analyses/subject_tfrs/{sub}_{roi}_all_events.png', \"png\", resolution=300.0)"
   ]
  },
  {
   "cell_type": "code",
   "execution_count": 5,
   "id": "d2204170",
   "metadata": {},
   "outputs": [],
   "source": [
    "\n",
    "def merge_images(roi_or_sub, sub_list, roi_list, output_path):\n",
    "    \n",
    "    # roi_or_sub is a region, set the root to be the region\n",
    "    home_dir = '/home/brooke/pacman/across_subject_analyses/subject_tfrs/'\n",
    "    if roi_or_sub in roi_list:\n",
    "        image_path_root = f'{roi_or_sub}_all_events.png'\n",
    "        image_paths = [f'{home_dir}/{x}_{image_path_root}' for x in sub_list]\n",
    "    elif roi_or_sub in sub_list:\n",
    "        image_path_root = 'all_events.png'\n",
    "        image_paths = [f'{home_dir}/{roi_or_sub}_{x}_{image_path_root}' for x in roi_list]\n",
    "    \n",
    "    images = []\n",
    "    for path in image_paths:\n",
    "        if os.path.exists(path):\n",
    "            img = Image.open(path)\n",
    "            images.append(img)\n",
    "        # else:\n",
    "        #     # Create a white square image if the path does not exist\n",
    "        #     # Assuming default size 100x100, modify as needed\n",
    "        #     img = Image.new('RGB', (4350, 750), color='white')\n",
    "        \n",
    "\n",
    "    widths, heights = zip(*(i.size for i in images))\n",
    "    total_height = sum(heights)\n",
    "    max_width = max(widths)\n",
    "\n",
    "    new_img = Image.new('RGB', (max_width, total_height))\n",
    "\n",
    "    y_offset = 0\n",
    "    for img in images:\n",
    "        new_img.paste(img, (0,y_offset))\n",
    "        y_offset += img.size[1]\n",
    "\n",
    "    new_img.save(output_path, \"PDF\", resolution=300.0)"
   ]
  },
  {
   "cell_type": "code",
   "execution_count": 13,
   "id": "d04b1fdc",
   "metadata": {},
   "outputs": [],
   "source": [
    "sub_list = [ \"BJH026\", \"BJH027\", \"BJH029\", \"BJH039\", \"BJH041\", \"LL19\", \"LL14\", \"LL17\", \"LL10\", \"LL12\", \"LL13\", \"BJH016\", \"BJH021\", \"BJH025\", \"SLCH002\"]\n",
    "roi_list = ['hc', 'amyg', 'ofc', 'cing', 'dacc', 'sgacc', 'dlpfc', 'mfg', 'sfg', 'insula']\n"
   ]
  },
  {
   "cell_type": "markdown",
   "id": "19a3df87",
   "metadata": {},
   "source": [
    "## All subs for each region"
   ]
  },
  {
   "cell_type": "code",
   "execution_count": 9,
   "id": "3c6d3d15",
   "metadata": {},
   "outputs": [
    {
     "name": "stdout",
     "output_type": "stream",
     "text": [
      "Region: hc for subject: BJH026\n",
      "An error occurred with region hc and subject BJH026: [Errno 2] No such file or directory: '/home/brooke/pacman/preprocessing/BJH026/scripts/figures/BJH026_average_hc_trialonset.png'\n",
      "Region: amyg for subject: BJH026\n"
     ]
    },
    {
     "name": "stderr",
     "output_type": "stream",
     "text": [
      "/home/brooke/mambaforge/envs/ieeg_analysis2/lib/python3.9/site-packages/PIL/Image.py:3167: DecompressionBombWarning: Image size (158400000 pixels) exceeds limit of 89478485 pixels, could be decompression bomb DOS attack.\n",
      "  warnings.warn(\n"
     ]
    },
    {
     "name": "stdout",
     "output_type": "stream",
     "text": [
      "Region: ofc for subject: BJH026\n",
      "Region: cing for subject: BJH026\n",
      "Region: dacc for subject: BJH026\n",
      "An error occurred with region dacc and subject BJH026: [Errno 2] No such file or directory: '/home/brooke/pacman/preprocessing/BJH026/scripts/figures/BJH026_average_dacc_trialonset.png'\n",
      "Region: sgacc for subject: BJH026\n",
      "An error occurred with region sgacc and subject BJH026: [Errno 2] No such file or directory: '/home/brooke/pacman/preprocessing/BJH026/scripts/figures/BJH026_average_sgacc_trialonset.png'\n",
      "Region: dlpfc for subject: BJH026\n",
      "Region: mfg for subject: BJH026\n",
      "An error occurred with region mfg and subject BJH026: [Errno 2] No such file or directory: '/home/brooke/pacman/preprocessing/BJH026/scripts/figures/BJH026_average_mfg_trialonset.png'\n",
      "Region: sfg for subject: BJH026\n",
      "An error occurred with region sfg and subject BJH026: [Errno 2] No such file or directory: '/home/brooke/pacman/preprocessing/BJH026/scripts/figures/BJH026_average_sfg_trialonset.png'\n",
      "Region: insula for subject: BJH026\n"
     ]
    }
   ],
   "source": [
    "for region in roi_list:\n",
    "    for subject in sub_list:\n",
    "        try:\n",
    "            print(f'Region: {region} for subject: {subject}')\n",
    "            create_subject_roi_event_pdf(sub=subject, roi=region)\n",
    "        except Exception as e:\n",
    "            print(f\"An error occurred with region {region} and subject {subject}: {e}\")\n"
   ]
  },
  {
   "cell_type": "code",
   "execution_count": 15,
   "id": "ca332d6f",
   "metadata": {},
   "outputs": [],
   "source": [
    "for subject in sub_list:\n",
    "    merge_images(subject, sub_list, roi_list, f'/home/brooke/pacman/across_subject_analyses/subject_tfrs/{subject}_all_roi_all_events.pdf') "
   ]
  },
  {
   "cell_type": "code",
   "execution_count": 14,
   "id": "09d715b3",
   "metadata": {},
   "outputs": [],
   "source": [
    "for roi in roi_list:\n",
    "    merge_images(roi, sub_list, roi_list, f'/home/brooke/pacman/across_subject_analyses/subject_tfrs/{roi}_all_subs_all_events.pdf') "
   ]
  },
  {
   "cell_type": "markdown",
   "metadata": {},
   "source": []
  },
  {
   "cell_type": "code",
   "execution_count": 27,
   "metadata": {},
   "outputs": [
    {
     "data": {
      "text/plain": [
       "['BJH026',\n",
       " 'BJH027',\n",
       " 'BJH029',\n",
       " 'BJH039',\n",
       " 'BJH041',\n",
       " 'LL19',\n",
       " 'LL14',\n",
       " 'LL17',\n",
       " 'LL10',\n",
       " 'LL12',\n",
       " 'LL13',\n",
       " 'BJH016',\n",
       " 'BJH021',\n",
       " 'BJH025',\n",
       " 'SLCH002']"
      ]
     },
     "execution_count": 27,
     "metadata": {},
     "output_type": "execute_result"
    }
   ],
   "source": [
    "sub_list"
   ]
  },
  {
   "cell_type": "code",
   "execution_count": null,
   "metadata": {},
   "outputs": [],
   "source": [
    "/home/brooke/pacman/across_subject_analyses/subject_tfrs/"
   ]
  }
 ],
 "metadata": {
  "kernelspec": {
   "display_name": "Python 3 (ipykernel)",
   "language": "python",
   "name": "python3"
  },
  "language_info": {
   "codemirror_mode": {
    "name": "ipython",
    "version": 3
   },
   "file_extension": ".py",
   "mimetype": "text/x-python",
   "name": "python",
   "nbconvert_exporter": "python",
   "pygments_lexer": "ipython3",
   "version": "3.9.18"
  }
 },
 "nbformat": 4,
 "nbformat_minor": 5
}
